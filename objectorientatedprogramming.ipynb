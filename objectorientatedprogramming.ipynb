{
 "cells": [
  {
   "cell_type": "markdown",
   "id": "favorite-afghanistan",
   "metadata": {},
   "source": [
    "# Object Orientated Programming"
   ]
  },
  {
   "cell_type": "markdown",
   "id": "initial-holocaust",
   "metadata": {},
   "source": [
    "This is a beginner guide exploring the concepts behind object orientated programming using the Python programming language. This can be viewed in the browser however the Interactive Python Notebook File can also be opened in JupyterLab. Instructions are given below for installing JupyterLab."
   ]
  },
  {
   "cell_type": "markdown",
   "id": "compliant-constraint",
   "metadata": {},
   "source": [
    "## Installing Python, Anaconda and JupyterLab3"
   ]
  },
  {
   "cell_type": "markdown",
   "id": "alternate-melbourne",
   "metadata": {},
   "source": [
    "It is recommended to install the Anaconda Python Distribution. The Anaconda Python Distribution contains the Python programming language, plus a number of Python libraries which are commonly used for data science (this particular guide will only look at the Python Programming language and won't delve into other libraries) and a number of Integrated Developer Environments (IDEs) which allow the user to interface with Python. The Spyder and JupyterLab IDEs are particularly good for begineers and geared towards data scientists. The JupyterLab IDE allows one to write code within a Notebook file which can contain code and markdown cells (text, Latex equations, links and pictures). This document is written in JupyterLab and this guide focuses on using JupyterLab."
   ]
  },
  {
   "cell_type": "markdown",
   "id": "dangerous-market",
   "metadata": {},
   "source": [
    "Installation instructions are below and an installation video is available on YouTube."
   ]
  },
  {
   "cell_type": "markdown",
   "id": "minor-balloon",
   "metadata": {},
   "source": [
    "[Anaconda Installation Video (Windows 10)](https://www.youtube.com/watch?v=q8cMRt3w04Q)"
   ]
  },
  {
   "cell_type": "markdown",
   "id": "strange-definition",
   "metadata": {},
   "source": [
    "### Installing Anaconda"
   ]
  },
  {
   "cell_type": "markdown",
   "id": "designed-psychiatry",
   "metadata": {},
   "source": [
    "__[Anaconda Individual Edition Download](https://www.anaconda.com/products/individual)__"
   ]
  },
  {
   "cell_type": "markdown",
   "id": "parental-rainbow",
   "metadata": {},
   "source": [
    "Select your Operating System and install the 64 Bit option. I will use Windows 10 as an example."
   ]
  },
  {
   "cell_type": "markdown",
   "id": "administrative-purchase",
   "metadata": {},
   "source": [
    "![Anaconda_1](Anaconda_1.png)"
   ]
  },
  {
   "cell_type": "markdown",
   "id": "passing-meaning",
   "metadata": {},
   "source": [
    "Once Anaconda is downloaded, launch the setup."
   ]
  },
  {
   "cell_type": "markdown",
   "id": "loved-confidentiality",
   "metadata": {},
   "source": [
    "![Anaconda_2](Anaconda_2.png)"
   ]
  },
  {
   "cell_type": "markdown",
   "id": "advised-raising",
   "metadata": {},
   "source": [
    "Select next."
   ]
  },
  {
   "cell_type": "markdown",
   "id": "absolute-liberal",
   "metadata": {},
   "source": [
    "![Anaconda_3](Anaconda_3.png)"
   ]
  },
  {
   "cell_type": "markdown",
   "id": "third-colombia",
   "metadata": {},
   "source": [
    "Read the End User Licence Agreement and select I Agree."
   ]
  },
  {
   "cell_type": "markdown",
   "id": "honey-israeli",
   "metadata": {},
   "source": [
    "![Anaconda_4](Anaconda_4.png)"
   ]
  },
  {
   "cell_type": "markdown",
   "id": "magnetic-scenario",
   "metadata": {},
   "source": [
    "![Anaconda_Launch](Anaconda_Launch.png)"
   ]
  },
  {
   "cell_type": "markdown",
   "id": "neural-german",
   "metadata": {},
   "source": [
    "Select Just Me and then Next."
   ]
  },
  {
   "cell_type": "markdown",
   "id": "entitled-wagon",
   "metadata": {},
   "source": [
    "![Anaconda_5](Anaconda_5.png)"
   ]
  },
  {
   "cell_type": "markdown",
   "id": "casual-supervision",
   "metadata": {},
   "source": [
    "Anaconda will be installed by default within your User Directory. Select Next."
   ]
  },
  {
   "cell_type": "markdown",
   "id": "centered-allocation",
   "metadata": {},
   "source": [
    "![Anaconda_6](Anaconda_6.png)"
   ]
  },
  {
   "cell_type": "markdown",
   "id": "rolled-commodity",
   "metadata": {},
   "source": [
    "It is recommended to use the default options. Select Install."
   ]
  },
  {
   "cell_type": "markdown",
   "id": "entire-yacht",
   "metadata": {},
   "source": [
    "![Anaconda_7](Anaconda_7.png)"
   ]
  },
  {
   "cell_type": "markdown",
   "id": "solid-witch",
   "metadata": {},
   "source": [
    "Select Next."
   ]
  },
  {
   "cell_type": "markdown",
   "id": "arctic-lying",
   "metadata": {},
   "source": [
    "![Anaconda_8](Anaconda_8.png)"
   ]
  },
  {
   "cell_type": "markdown",
   "id": "addressed-idaho",
   "metadata": {},
   "source": [
    "Select Next."
   ]
  },
  {
   "cell_type": "markdown",
   "id": "cross-cable",
   "metadata": {},
   "source": [
    "![Anaconda_9](Anaconda_9.png)"
   ]
  },
  {
   "cell_type": "markdown",
   "id": "under-tobago",
   "metadata": {},
   "source": [
    "Anaconda is installed. Now select Finish."
   ]
  },
  {
   "cell_type": "markdown",
   "id": "balanced-village",
   "metadata": {},
   "source": [
    "![Anaconda_10](Anaconda_10.png)"
   ]
  },
  {
   "cell_type": "markdown",
   "id": "spectacular-myrtle",
   "metadata": {},
   "source": [
    "### Updating Anaconda and JupyterLab"
   ]
  },
  {
   "cell_type": "markdown",
   "id": "domestic-thompson",
   "metadata": {},
   "source": [
    "There are likely updates for the Anaconda installation. You will need to update it by using the Anaconda Powershell Prompt."
   ]
  },
  {
   "cell_type": "markdown",
   "id": "frank-startup",
   "metadata": {},
   "source": [
    "![JupyterLab_Install1](JupyterLab_Install1.png)"
   ]
  },
  {
   "cell_type": "markdown",
   "id": "competitive-nation",
   "metadata": {},
   "source": [
    "Copy and paste the following line of code and then press ↵."
   ]
  },
  {
   "cell_type": "markdown",
   "id": "simple-campbell",
   "metadata": {},
   "source": [
    "```conda update anaconda```"
   ]
  },
  {
   "cell_type": "markdown",
   "id": "documented-coordination",
   "metadata": {},
   "source": [
    "![anaconda_update1](anaconda_update1.png)"
   ]
  },
  {
   "cell_type": "markdown",
   "id": "indian-geometry",
   "metadata": {},
   "source": [
    "To proceed with the install type in."
   ]
  },
  {
   "cell_type": "markdown",
   "id": "compound-upgrade",
   "metadata": {},
   "source": [
    "```y```"
   ]
  },
  {
   "cell_type": "markdown",
   "id": "superb-fishing",
   "metadata": {},
   "source": [
    "Followed by ↵."
   ]
  },
  {
   "cell_type": "markdown",
   "id": "indie-cholesterol",
   "metadata": {},
   "source": [
    "![anaconda_update2](anaconda_update2.png)"
   ]
  },
  {
   "cell_type": "markdown",
   "id": "renewable-millennium",
   "metadata": {},
   "source": [
    "When the ```(base) C:\\\\Users\\\\Yourname>``` displays the update is finished. The Anaconda installation should now be up to date."
   ]
  },
  {
   "cell_type": "markdown",
   "id": "historical-fraud",
   "metadata": {},
   "source": [
    "![anaconda_update3](anaconda_update3.png)"
   ]
  },
  {
   "cell_type": "markdown",
   "id": "challenging-moses",
   "metadata": {},
   "source": [
    "The version of JupyterLab included with the Anaconda distribution is version 2. To get the latest version of version 3, we need to install version 3 from the conda-forge channel. To do this type in."
   ]
  },
  {
   "cell_type": "markdown",
   "id": "greenhouse-retrieval",
   "metadata": {},
   "source": [
    "```conda install -c conda-forge jupyterlab=3```"
   ]
  },
  {
   "cell_type": "markdown",
   "id": "graphic-remainder",
   "metadata": {},
   "source": [
    "![JupyterLab_Install2](JupyterLab_Install2.png)"
   ]
  },
  {
   "cell_type": "markdown",
   "id": "fitting-impression",
   "metadata": {},
   "source": [
    "To proceed with the install once again type in."
   ]
  },
  {
   "cell_type": "markdown",
   "id": "regulated-competition",
   "metadata": {},
   "source": [
    "```y```"
   ]
  },
  {
   "cell_type": "markdown",
   "id": "dental-cricket",
   "metadata": {},
   "source": [
    "![JupyterLab_Install3](JupyterLab_Install3.png)"
   ]
  },
  {
   "cell_type": "markdown",
   "id": "sharing-mineral",
   "metadata": {},
   "source": [
    "JupyterLab should now be installed."
   ]
  },
  {
   "cell_type": "markdown",
   "id": "representative-commodity",
   "metadata": {},
   "source": [
    "![JupyterLab_Install4](JupyterLab_Install4.png)"
   ]
  },
  {
   "cell_type": "markdown",
   "id": "adequate-student",
   "metadata": {},
   "source": [
    "Launch the Anaconda Navigator."
   ]
  },
  {
   "cell_type": "markdown",
   "id": "invalid-positive",
   "metadata": {},
   "source": [
    "![Anaconda_Launch](Anaconda_Launch.png)"
   ]
  },
  {
   "cell_type": "markdown",
   "id": "departmental-species",
   "metadata": {},
   "source": [
    "### Launching JupyterLab"
   ]
  },
  {
   "cell_type": "markdown",
   "id": "developing-series",
   "metadata": {},
   "source": [
    "From the Anaconda Navigator you can launch JupyterLab."
   ]
  },
  {
   "cell_type": "markdown",
   "id": "executive-transparency",
   "metadata": {},
   "source": [
    "![JupyterLab_Launch1](JupyterLab_Launch1.png)"
   ]
  },
  {
   "cell_type": "markdown",
   "id": "revised-catholic",
   "metadata": {},
   "source": [
    "JupyterLab will now display within your browser. To the left hand side is a file explorer. To the right side is a launcher."
   ]
  },
  {
   "cell_type": "markdown",
   "id": "average-concern",
   "metadata": {},
   "source": [
    "![JupyterLab_Launch2](JupyterLab_Launch2.png)"
   ]
  },
  {
   "cell_type": "markdown",
   "id": "affecting-bench",
   "metadata": {},
   "source": [
    "### Downloading and Opening the Interactive Python Notebook (IPYNB) File from GitHub"
   ]
  },
  {
   "cell_type": "markdown",
   "id": "parallel-poison",
   "metadata": {},
   "source": [
    "The folder containing all embedded images and this JupyterLab Notebook should be downloaded as a zip file from GitHub and extracted to a folder of your desired location."
   ]
  },
  {
   "cell_type": "markdown",
   "id": "informal-traffic",
   "metadata": {},
   "source": [
    "__[GitHub Object Orientated Programming](https://github.com/PhilipYip1988/1-object-orientated-programming)__"
   ]
  },
  {
   "cell_type": "markdown",
   "id": "frequent-convert",
   "metadata": {},
   "source": [
    "![GitHub](GitHub.png)"
   ]
  },
  {
   "cell_type": "markdown",
   "id": "creative-upset",
   "metadata": {},
   "source": [
    "Navigate to your extracted folder and open up objectorientatedprogramming.ipynb"
   ]
  },
  {
   "cell_type": "markdown",
   "id": "better-sponsorship",
   "metadata": {},
   "source": [
    "![OpenJupterLabNotebook](OpenJupterLabNotebook.png)"
   ]
  },
  {
   "cell_type": "markdown",
   "id": "changed-string",
   "metadata": {},
   "source": [
    "Because it has a number of images embedded it will take a minute or so to load."
   ]
  },
  {
   "cell_type": "markdown",
   "id": "stainless-deadline",
   "metadata": {},
   "source": [
    "![OpenJupterLabNotebook2](OpenJupterLabNotebook2.png)"
   ]
  },
  {
   "cell_type": "markdown",
   "id": "champion-bedroom",
   "metadata": {},
   "source": [
    "The notebook will display."
   ]
  },
  {
   "cell_type": "markdown",
   "id": "binding-denver",
   "metadata": {},
   "source": [
    "![OpenJupterLabNotebook3](OpenJupterLabNotebook3.png)"
   ]
  },
  {
   "cell_type": "markdown",
   "id": "cardiovascular-sport",
   "metadata": {},
   "source": [
    "You can select Kernel and either Restart Kernel and Clear All Outputs (if you want to look at the Notebook cell by cell) or Restart Kernal and Run All Cells (if you want to quickly scroll through it)."
   ]
  },
  {
   "cell_type": "markdown",
   "id": "attractive-senegal",
   "metadata": {},
   "source": [
    "![OpenJupterLabNotebook4](OpenJupterLabNotebook4.png)"
   ]
  },
  {
   "cell_type": "markdown",
   "id": "urban-unknown",
   "metadata": {},
   "source": [
    "To the left hand side you can select the Notebook bookmarks."
   ]
  },
  {
   "cell_type": "markdown",
   "id": "egyptian-overall",
   "metadata": {},
   "source": [
    "![OpenJupterLabNotebook5](OpenJupterLabNotebook5.png)"
   ]
  },
  {
   "cell_type": "markdown",
   "id": "virtual-botswana",
   "metadata": {},
   "source": [
    "Now we will begin to explore the Python Language and Object Orientated Programming OOP. The contents of this JupyterLab notebook are covered in a YouTube Video."
   ]
  },
  {
   "cell_type": "markdown",
   "id": "worth-search",
   "metadata": {},
   "source": [
    "[Python Programming and Object Orientated Programming using the JupyterLab IDE](https://www.youtube.com/watch?v=dIDOzqKcc04)"
   ]
  },
  {
   "cell_type": "markdown",
   "id": "integral-cancellation",
   "metadata": {},
   "source": [
    "## Useful Shortcut Keys"
   ]
  },
  {
   "cell_type": "markdown",
   "id": "elect-burden",
   "metadata": {},
   "source": [
    "```Esc```+```m``` converts the currently selected cell to a markdown cell."
   ]
  },
  {
   "cell_type": "markdown",
   "id": "speaking-wagner",
   "metadata": {},
   "source": [
    "```⇧```+```↵``` runs the currently highlighted cell."
   ]
  },
  {
   "cell_type": "markdown",
   "id": "alive-metabolism",
   "metadata": {},
   "source": [
    "```.``` and ```↹``` will look up the list of methods and attributes available to be called from an object."
   ]
  },
  {
   "cell_type": "markdown",
   "id": "criminal-original",
   "metadata": {},
   "source": [
    "```⇧``` and ```↹``` will give details about the input arguments in a function, method or when initilizing a class."
   ]
  },
  {
   "cell_type": "markdown",
   "id": "lined-therapy",
   "metadata": {},
   "source": [
    "## Numeric Variables"
   ]
  },
  {
   "cell_type": "markdown",
   "id": "auburn-compound",
   "metadata": {},
   "source": [
    "### Integer Numbers (int)"
   ]
  },
  {
   "cell_type": "markdown",
   "id": "raised-combat",
   "metadata": {},
   "source": [
    "Python recognises numeric integer values for example."
   ]
  },
  {
   "cell_type": "code",
   "execution_count": 1,
   "id": "prescribed-tobacco",
   "metadata": {},
   "outputs": [
    {
     "data": {
      "text/plain": [
       "1"
      ]
     },
     "execution_count": 1,
     "metadata": {},
     "output_type": "execute_result"
    }
   ],
   "source": [
    "1"
   ]
  },
  {
   "cell_type": "markdown",
   "id": "round-nutrition",
   "metadata": {},
   "source": [
    "It also recognises numeric operators such as:\n",
    "* (```+``` add) which adds the 0th number (self) to the 1st number (other)\n",
    "* (```-``` sub) which takes the 0th number (self) and subtracts the 1st number (other)\n",
    "* (```*``` mul) which multiplies the 0th number (self) and the 1st number (other)\n",
    "* (```**``` pow) which gives the 0th number (self) to the power of the 1st number (other)"
   ]
  },
  {
   "cell_type": "code",
   "execution_count": 2,
   "id": "cleared-karma",
   "metadata": {},
   "outputs": [
    {
     "data": {
      "text/plain": [
       "3"
      ]
     },
     "execution_count": 2,
     "metadata": {},
     "output_type": "execute_result"
    }
   ],
   "source": [
    "1+2"
   ]
  },
  {
   "cell_type": "code",
   "execution_count": 3,
   "id": "central-shipping",
   "metadata": {},
   "outputs": [
    {
     "data": {
      "text/plain": [
       "1"
      ]
     },
     "execution_count": 3,
     "metadata": {},
     "output_type": "execute_result"
    }
   ],
   "source": [
    "2-1"
   ]
  },
  {
   "cell_type": "code",
   "execution_count": 4,
   "id": "married-accused",
   "metadata": {},
   "outputs": [
    {
     "data": {
      "text/plain": [
       "4"
      ]
     },
     "execution_count": 4,
     "metadata": {},
     "output_type": "execute_result"
    }
   ],
   "source": [
    "2*2"
   ]
  },
  {
   "cell_type": "code",
   "execution_count": 5,
   "id": "clean-compression",
   "metadata": {},
   "outputs": [
    {
     "data": {
      "text/plain": [
       "8"
      ]
     },
     "execution_count": 5,
     "metadata": {},
     "output_type": "execute_result"
    }
   ],
   "source": [
    "2**3"
   ]
  },
  {
   "cell_type": "markdown",
   "id": "chinese-warrior",
   "metadata": {},
   "source": [
    "All the numbers above are objects. Python is an object orientated programming language. The object type can be checked by use of the function type. If the function type is called without parenthesis the return statement will just tell us we have used the function type (which isn't so useful)."
   ]
  },
  {
   "cell_type": "code",
   "execution_count": 6,
   "id": "cooperative-handy",
   "metadata": {},
   "outputs": [
    {
     "data": {
      "text/plain": [
       "type"
      ]
     },
     "execution_count": 6,
     "metadata": {},
     "output_type": "execute_result"
    }
   ],
   "source": [
    "type"
   ]
  },
  {
   "cell_type": "markdown",
   "id": "awful-intermediate",
   "metadata": {},
   "source": [
    "A function uses parenthesis to enclose its input arguments. Details about the input arguments can be quickly viewed in a popup balloon by pressing ```↹``` and ```⇧```. Alternatively the Docstring can be view in a cell output by pressing ```?``` followed by the functions name.\n",
    "\n",
    "In this case we see that there is a single positional input argument ```self``` (or ```object```)."
   ]
  },
  {
   "cell_type": "markdown",
   "id": "accredited-burlington",
   "metadata": {},
   "source": [
    "![function_type](function_type.png)"
   ]
  },
  {
   "cell_type": "code",
   "execution_count": 7,
   "id": "activated-westminster",
   "metadata": {},
   "outputs": [
    {
     "data": {
      "text/plain": [
       "\u001b[1;31mInit signature:\u001b[0m  \u001b[0mtype\u001b[0m\u001b[1;33m(\u001b[0m\u001b[0mself\u001b[0m\u001b[1;33m,\u001b[0m \u001b[1;33m/\u001b[0m\u001b[1;33m,\u001b[0m \u001b[1;33m*\u001b[0m\u001b[0margs\u001b[0m\u001b[1;33m,\u001b[0m \u001b[1;33m**\u001b[0m\u001b[0mkwargs\u001b[0m\u001b[1;33m)\u001b[0m\u001b[1;33m\u001b[0m\u001b[1;33m\u001b[0m\u001b[0m\n",
       "\u001b[1;31mDocstring:\u001b[0m     \n",
       "type(object_or_name, bases, dict)\n",
       "type(object) -> the object's type\n",
       "type(name, bases, dict) -> a new type\n",
       "\u001b[1;31mType:\u001b[0m           type\n",
       "\u001b[1;31mSubclasses:\u001b[0m     ABCMeta, EnumMeta, _TemplateMetaclass, _ABC, MetaHasDescriptors, PyCStructType, UnionType, PyCPointerType, PyCArrayType, PyCSimpleType, ...\n"
      ]
     },
     "metadata": {},
     "output_type": "display_data"
    }
   ],
   "source": [
    "? type"
   ]
  },
  {
   "cell_type": "markdown",
   "id": "infrared-usage",
   "metadata": {},
   "source": [
    "For example we can use the number 4 as the object."
   ]
  },
  {
   "cell_type": "code",
   "execution_count": 8,
   "id": "aerial-boating",
   "metadata": {},
   "outputs": [
    {
     "data": {
      "text/plain": [
       "int"
      ]
     },
     "execution_count": 8,
     "metadata": {},
     "output_type": "execute_result"
    }
   ],
   "source": [
    "type(4)"
   ]
  },
  {
   "cell_type": "markdown",
   "id": "bizarre-identity",
   "metadata": {},
   "source": [
    "We see that the type returns ```int``` (an abbreviation for integer) meaning it corresponds to a whole number. "
   ]
  },
  {
   "cell_type": "markdown",
   "id": "funny-theater",
   "metadata": {},
   "source": [
    "We can use \n",
    "* (```//``` truediv) which takes the 0th number (self) and divides it by the 1st number (other) to return an integer. If the 0th number (self) does not divide fully by the 1st number (self) only a comple integer will be returned and there will be a bit left behind known as a remainder or modulo.\n",
    "* (```%``` mod) returns the modulo from the equivalent true divide."
   ]
  },
  {
   "cell_type": "markdown",
   "id": "placed-township",
   "metadata": {},
   "source": [
    "4 true divided by 2 gives 2 complete integers and no modulo integer."
   ]
  },
  {
   "cell_type": "code",
   "execution_count": 9,
   "id": "verbal-ontario",
   "metadata": {},
   "outputs": [
    {
     "data": {
      "text/plain": [
       "2"
      ]
     },
     "execution_count": 9,
     "metadata": {},
     "output_type": "execute_result"
    }
   ],
   "source": [
    "4//2"
   ]
  },
  {
   "cell_type": "code",
   "execution_count": 10,
   "id": "corporate-nomination",
   "metadata": {},
   "outputs": [
    {
     "data": {
      "text/plain": [
       "0"
      ]
     },
     "execution_count": 10,
     "metadata": {},
     "output_type": "execute_result"
    }
   ],
   "source": [
    "4%2"
   ]
  },
  {
   "cell_type": "markdown",
   "id": "complete-investigator",
   "metadata": {},
   "source": [
    "5 integer divided by 2 gives 2 complete integers and a modulo integer of 1."
   ]
  },
  {
   "cell_type": "code",
   "execution_count": 11,
   "id": "round-cooling",
   "metadata": {},
   "outputs": [
    {
     "data": {
      "text/plain": [
       "2"
      ]
     },
     "execution_count": 11,
     "metadata": {},
     "output_type": "execute_result"
    }
   ],
   "source": [
    "5//2"
   ]
  },
  {
   "cell_type": "code",
   "execution_count": 12,
   "id": "speaking-accessory",
   "metadata": {},
   "outputs": [
    {
     "data": {
      "text/plain": [
       "1"
      ]
     },
     "execution_count": 12,
     "metadata": {},
     "output_type": "execute_result"
    }
   ],
   "source": [
    "5%2"
   ]
  },
  {
   "cell_type": "markdown",
   "id": "textile-nicholas",
   "metadata": {},
   "source": [
    "In Python it is also possible to assign objects to object names. Object names should be in lower case letters without spaces or special characters. The underscore ```_``` can be used as part of the object name. Object names can contain numbers but can't begin with a number. For example let's create the object ```a``` and assign it to the value ```4```. In Python the ```=``` sign is known as the assignment operator."
   ]
  },
  {
   "cell_type": "code",
   "execution_count": 13,
   "id": "acquired-young",
   "metadata": {},
   "outputs": [],
   "source": [
    "a=4"
   ]
  },
  {
   "cell_type": "markdown",
   "id": "lined-botswana",
   "metadata": {},
   "source": [
    "The above means the object ```a``` is assigned to the value of ```4```."
   ]
  },
  {
   "cell_type": "markdown",
   "id": "contrary-victor",
   "metadata": {},
   "source": [
    "Note when we assign a value to an object name we do not see anything printed in the cell. We can see the value of an object by typing it directly in a cell."
   ]
  },
  {
   "cell_type": "code",
   "execution_count": 14,
   "id": "municipal-knife",
   "metadata": {},
   "outputs": [
    {
     "data": {
      "text/plain": [
       "4"
      ]
     },
     "execution_count": 14,
     "metadata": {},
     "output_type": "execute_result"
    }
   ],
   "source": [
    "a"
   ]
  },
  {
   "cell_type": "markdown",
   "id": "becoming-brazil",
   "metadata": {},
   "source": [
    "We can also use the function print to print the value of an object to the cell output. Recall that to use a function we need to use parenthesis. Once again details about the input arguments can be quickly viewed in a popup balloon by pressing ```↹``` and ```⇧```. Alternatively the Docstring can be view in a cell output by pressing ```?``` followed by the functions name.\n",
    "\n",
    "In this case we see that there is a single positional input argument value followed by a ```...``` The ```...``` tells us that we can place multiple different values as positional input arguments. To seperate each value out we must use the ```,``` as a delimiter. There are additional keyword input arguments ```sep```, ```end```, ```file``` and ```flush``` which have a default value. This default value will be used when the keyword input argument is not specified. We will ignore these for now and come back to them later."
   ]
  },
  {
   "cell_type": "markdown",
   "id": "classified-serve",
   "metadata": {},
   "source": [
    "![function_print](function_print.png)"
   ]
  },
  {
   "cell_type": "code",
   "execution_count": 15,
   "id": "careful-phrase",
   "metadata": {},
   "outputs": [
    {
     "data": {
      "text/plain": [
       "\u001b[1;31mDocstring:\u001b[0m\n",
       "print(value, ..., sep=' ', end='\\n', file=sys.stdout, flush=False)\n",
       "\n",
       "Prints the values to a stream, or to sys.stdout by default.\n",
       "Optional keyword arguments:\n",
       "file:  a file-like object (stream); defaults to the current sys.stdout.\n",
       "sep:   string inserted between values, default a space.\n",
       "end:   string appended after the last value, default a newline.\n",
       "flush: whether to forcibly flush the stream.\n",
       "\u001b[1;31mType:\u001b[0m      builtin_function_or_method\n"
      ]
     },
     "metadata": {},
     "output_type": "display_data"
    }
   ],
   "source": [
    "? print"
   ]
  },
  {
   "cell_type": "markdown",
   "id": "widespread-gathering",
   "metadata": {},
   "source": [
    "This time our object has the name ```a```, so we will print the value of this object."
   ]
  },
  {
   "cell_type": "code",
   "execution_count": 16,
   "id": "recognized-powell",
   "metadata": {},
   "outputs": [
    {
     "name": "stdout",
     "output_type": "stream",
     "text": [
      "4\n"
     ]
    }
   ],
   "source": [
    "print(a)"
   ]
  },
  {
   "cell_type": "markdown",
   "id": "bored-thermal",
   "metadata": {},
   "source": [
    "As we seen above the object name ```a``` corresponds to a value of ```4```. The object name can be used in numeric calculations in place of the value ```4```."
   ]
  },
  {
   "cell_type": "code",
   "execution_count": 17,
   "id": "antique-grave",
   "metadata": {},
   "outputs": [
    {
     "data": {
      "text/plain": [
       "5"
      ]
     },
     "execution_count": 17,
     "metadata": {},
     "output_type": "execute_result"
    }
   ],
   "source": [
    "a+1"
   ]
  },
  {
   "cell_type": "markdown",
   "id": "infrared-andrew",
   "metadata": {},
   "source": [
    "When using the assignment operator ```=``` the object name must be on the left hand side of the assignment operator and the value assigned to the object name is on the right hand side."
   ]
  },
  {
   "cell_type": "markdown",
   "id": "dirty-coaching",
   "metadata": {},
   "source": [
    "The following line will display the following error. Note that both the code and the image of the error are placed in a markdown cell to prevent the error from holding up the Python Kernel in the notebook. This will be done for later code that also flags up errors."
   ]
  },
  {
   "cell_type": "markdown",
   "id": "reasonable-mixer",
   "metadata": {},
   "source": [
    "```2=b```"
   ]
  },
  {
   "cell_type": "markdown",
   "id": "linear-obligation",
   "metadata": {},
   "source": [
    "![assignment_operator_error](assignment_operator_error.png)"
   ]
  },
  {
   "cell_type": "markdown",
   "id": "effective-supplement",
   "metadata": {},
   "source": [
    "The line ```2=b``` does not make sense to python. First of all python doesn't know the numeric value of the object ```b``` and second of all it does not make sense to update the value of the number ```2``` to anything else as this would mess up all subsequent numeric calculations."
   ]
  },
  {
   "cell_type": "markdown",
   "id": "wound-hamburg",
   "metadata": {},
   "source": [
    "When the assignment operator is used, the numeric operation on the right hand side is first calculated and the value of this numeric operation is assigned to the object name."
   ]
  },
  {
   "cell_type": "raw",
   "id": "sixth-postcard",
   "metadata": {},
   "source": [
    "b=2+3"
   ]
  },
  {
   "cell_type": "markdown",
   "id": "shaped-leonard",
   "metadata": {},
   "source": [
    "The value isn't displayed in the console, we can print it using the print statement."
   ]
  },
  {
   "cell_type": "code",
   "execution_count": 18,
   "id": "medical-ladder",
   "metadata": {},
   "outputs": [
    {
     "name": "stdout",
     "output_type": "stream",
     "text": [
      "5\n"
     ]
    }
   ],
   "source": [
    "b=2+3\n",
    "print(b)"
   ]
  },
  {
   "cell_type": "markdown",
   "id": "incorporated-creation",
   "metadata": {},
   "source": [
    "Here we see the operation on the right hand side is completed first, the calculation ```2+3``` is performed giving the value ```5``` and this is assigned to the object name ```b```. "
   ]
  },
  {
   "cell_type": "markdown",
   "id": "statutory-yacht",
   "metadata": {},
   "source": [
    "Python operators follow mathematical rules for precidence."
   ]
  },
  {
   "cell_type": "markdown",
   "id": "announced-maximum",
   "metadata": {},
   "source": [
    "* ```( )```\n",
    "* ```**```\n",
    "* ```*```\n",
    "* ```//```\n",
    "* ```+```\n",
    "* ```-```\n"
   ]
  },
  {
   "cell_type": "markdown",
   "id": "verified-north",
   "metadata": {},
   "source": [
    "In the following statement the ```*``` operator takes precidence of ```+``` so we perform ```2*3``` to get ```6``` in the 0th step and then add ```5``` to this in the 1st step returning ```11```."
   ]
  },
  {
   "cell_type": "code",
   "execution_count": 19,
   "id": "fuzzy-intent",
   "metadata": {},
   "outputs": [
    {
     "name": "stdout",
     "output_type": "stream",
     "text": [
      "11\n"
     ]
    }
   ],
   "source": [
    "b=5+2*3\n",
    "print(b)"
   ]
  },
  {
   "cell_type": "markdown",
   "id": "successful-front",
   "metadata": {},
   "source": [
    "With parenthesis added ```()``` the ```(5+2)``` takes precidence over the ```*``` so we get ```7``` in the 0th step and then multiply this by ```3``` in the 1st step returning ```21```."
   ]
  },
  {
   "cell_type": "code",
   "execution_count": 20,
   "id": "minor-basket",
   "metadata": {},
   "outputs": [
    {
     "name": "stdout",
     "output_type": "stream",
     "text": [
      "21\n"
     ]
    }
   ],
   "source": [
    "b=(5+2)*3\n",
    "print(b)"
   ]
  },
  {
   "cell_type": "markdown",
   "id": "blond-victoria",
   "metadata": {},
   "source": [
    "In Python it is quite common to reassign an object name. For example, the object name ```a``` was previously assigned a value of ```4```. "
   ]
  },
  {
   "cell_type": "code",
   "execution_count": 21,
   "id": "scenic-chancellor",
   "metadata": {},
   "outputs": [
    {
     "name": "stdout",
     "output_type": "stream",
     "text": [
      "4\n"
     ]
    }
   ],
   "source": [
    "print(a)"
   ]
  },
  {
   "cell_type": "markdown",
   "id": "spanish-budget",
   "metadata": {},
   "source": [
    "Now it can be reassigned a value of ```3```. "
   ]
  },
  {
   "cell_type": "code",
   "execution_count": 22,
   "id": "amateur-writer",
   "metadata": {},
   "outputs": [],
   "source": [
    "a=3"
   ]
  },
  {
   "cell_type": "markdown",
   "id": "effective-decline",
   "metadata": {},
   "source": [
    "When the object is reassigned a value, the previous value is forgotten. printing the value of a will only return its currently assigned value."
   ]
  },
  {
   "cell_type": "code",
   "execution_count": 23,
   "id": "internal-zambia",
   "metadata": {},
   "outputs": [
    {
     "name": "stdout",
     "output_type": "stream",
     "text": [
      "3\n"
     ]
    }
   ],
   "source": [
    "print(a)"
   ]
  },
  {
   "cell_type": "markdown",
   "id": "appointed-yacht",
   "metadata": {},
   "source": [
    "It is common to reassign a value using a calculation involving the object name itself. For example."
   ]
  },
  {
   "cell_type": "code",
   "execution_count": 24,
   "id": "breathing-dance",
   "metadata": {},
   "outputs": [],
   "source": [
    "a=a+2"
   ]
  },
  {
   "cell_type": "markdown",
   "id": "crazy-directory",
   "metadata": {},
   "source": [
    "Everything on the right hand side is carried out first. ```a``` currently has the value of ```3```, therefore ```a+2``` returns the value of ```5```. This value of ```5``` is then reassigned to the object name ```a```. Now ```a``` has a value of ```5```. Using the ```print``` function with the object ```a``` as the positional input argument should therefore return the value of ```5```."
   ]
  },
  {
   "cell_type": "code",
   "execution_count": 25,
   "id": "focused-numbers",
   "metadata": {},
   "outputs": [
    {
     "name": "stdout",
     "output_type": "stream",
     "text": [
      "5\n"
     ]
    }
   ],
   "source": [
    "print(a)"
   ]
  },
  {
   "cell_type": "markdown",
   "id": "neutral-title",
   "metadata": {},
   "source": [
    "It is quite common to increment the value of an integer by ```+n``` or ```-n``` in particular. The operator ```+=n``` and ```-=n``` will perform an inplace update of the value ```a```."
   ]
  },
  {
   "cell_type": "code",
   "execution_count": 26,
   "id": "simple-layer",
   "metadata": {},
   "outputs": [],
   "source": [
    "a+=1"
   ]
  },
  {
   "cell_type": "code",
   "execution_count": 27,
   "id": "overall-retail",
   "metadata": {},
   "outputs": [
    {
     "name": "stdout",
     "output_type": "stream",
     "text": [
      "6\n"
     ]
    }
   ],
   "source": [
    "print(a)"
   ]
  },
  {
   "cell_type": "code",
   "execution_count": 28,
   "id": "driven-window",
   "metadata": {},
   "outputs": [],
   "source": [
    "a+=1"
   ]
  },
  {
   "cell_type": "code",
   "execution_count": 29,
   "id": "handled-greeting",
   "metadata": {},
   "outputs": [
    {
     "name": "stdout",
     "output_type": "stream",
     "text": [
      "7\n"
     ]
    }
   ],
   "source": [
    "print(a)"
   ]
  },
  {
   "cell_type": "code",
   "execution_count": 30,
   "id": "printable-ticket",
   "metadata": {},
   "outputs": [],
   "source": [
    "a-=2"
   ]
  },
  {
   "cell_type": "code",
   "execution_count": 31,
   "id": "separate-intensity",
   "metadata": {},
   "outputs": [
    {
     "name": "stdout",
     "output_type": "stream",
     "text": [
      "5\n"
     ]
    }
   ],
   "source": [
    "print(a)"
   ]
  },
  {
   "cell_type": "markdown",
   "id": "allied-palestine",
   "metadata": {},
   "source": [
    "Let's have a look at the object ```a``` in more detail. First let's have a look at its type."
   ]
  },
  {
   "cell_type": "code",
   "execution_count": 32,
   "id": "established-modification",
   "metadata": {},
   "outputs": [
    {
     "data": {
      "text/plain": [
       "int"
      ]
     },
     "execution_count": 32,
     "metadata": {},
     "output_type": "execute_result"
    }
   ],
   "source": [
    "type(a)"
   ]
  },
  {
   "cell_type": "markdown",
   "id": "adjusted-large",
   "metadata": {},
   "source": [
    "We see that it is a type ```int```. ```a``` therefore shares common properties with other ```int``` objects. In Python, an object can possess attributes and methods. These can be accessed by typing in the objects name followed by a ```.``` and then pressing ```↹```. The list below shows attributes in blue and methods in orange which we will explore in more detail in a moment."
   ]
  },
  {
   "cell_type": "markdown",
   "id": "inside-shooting",
   "metadata": {},
   "source": [
    "![int_attributes_methods](int_attributes_methods.png)"
   ]
  },
  {
   "cell_type": "markdown",
   "id": "frank-ballot",
   "metadata": {},
   "source": [
    "Each object is an instance of a class. More explicitly an instance called ```b``` can be created using an ```int``` class. "
   ]
  },
  {
   "cell_type": "markdown",
   "id": "loaded-starter",
   "metadata": {},
   "source": [
    "The Init signature of inbuilt classes such as ```int``` uses a similar syntax to a function. Like a function details about the input arguments can be quickly viewed in a popup balloon by pressing ```↹``` and ```⇧```. In addition the Docstring can be view in a cell output by pressing ```?``` followed by the functions name."
   ]
  },
  {
   "cell_type": "code",
   "execution_count": 33,
   "id": "refined-empire",
   "metadata": {},
   "outputs": [
    {
     "data": {
      "text/plain": [
       "\u001b[1;31mInit signature:\u001b[0m  \u001b[0mint\u001b[0m\u001b[1;33m(\u001b[0m\u001b[0mself\u001b[0m\u001b[1;33m,\u001b[0m \u001b[1;33m/\u001b[0m\u001b[1;33m,\u001b[0m \u001b[1;33m*\u001b[0m\u001b[0margs\u001b[0m\u001b[1;33m,\u001b[0m \u001b[1;33m**\u001b[0m\u001b[0mkwargs\u001b[0m\u001b[1;33m)\u001b[0m\u001b[1;33m\u001b[0m\u001b[1;33m\u001b[0m\u001b[0m\n",
       "\u001b[1;31mDocstring:\u001b[0m     \n",
       "int([x]) -> integer\n",
       "int(x, base=10) -> integer\n",
       "\n",
       "Convert a number or string to an integer, or return 0 if no arguments\n",
       "are given.  If x is a number, return x.__int__().  For floating point\n",
       "numbers, this truncates towards zero.\n",
       "\n",
       "If x is not a number or if base is given, then x must be a string,\n",
       "bytes, or bytearray instance representing an integer literal in the\n",
       "given base.  The literal can be preceded by '+' or '-' and be surrounded\n",
       "by whitespace.  The base defaults to 10.  Valid bases are 0 and 2-36.\n",
       "Base 0 means to interpret the base from the string as an integer literal.\n",
       ">>> int('0b100', base=0)\n",
       "4\n",
       "\u001b[1;31mType:\u001b[0m           type\n",
       "\u001b[1;31mSubclasses:\u001b[0m     bool, IntEnum, IntFlag, _NamedIntConstant, Handle\n"
      ]
     },
     "metadata": {},
     "output_type": "display_data"
    }
   ],
   "source": [
    "? int"
   ]
  },
  {
   "cell_type": "markdown",
   "id": "reflected-assets",
   "metadata": {},
   "source": [
    "The following line creates an instance ```b``` (```b``` is the instance name or object name) of the class ```int```. Thinking of the class init signature as analogous to a function, the positional input argument ```x``` is the value we wish to make the integer."
   ]
  },
  {
   "cell_type": "code",
   "execution_count": 34,
   "id": "wired-opening",
   "metadata": {},
   "outputs": [],
   "source": [
    "b=int(3)"
   ]
  },
  {
   "cell_type": "markdown",
   "id": "quarterly-panama",
   "metadata": {},
   "source": [
    "Creating an instance of a class is also known as instantiating a class. "
   ]
  },
  {
   "cell_type": "markdown",
   "id": "speaking-prevention",
   "metadata": {},
   "source": [
    "Notice that the 0th positional input argument (python uses 0 order indexing so we count from 0 upwards) in a class is called ```self```. Once a class is instantiated, ```self``` becomes a reference to the object name, in this case ```b```. Typing in the instance name ```b``` followed by a ```.``` and ```↹``` shows the list of attributes and methods available to call from the instance ```b```."
   ]
  },
  {
   "cell_type": "markdown",
   "id": "partial-finnish",
   "metadata": {},
   "source": [
    "![int_attributes_methods2](int_attributes_methods2.png)"
   ]
  },
  {
   "cell_type": "markdown",
   "id": "insured-configuration",
   "metadata": {},
   "source": [
    "Note that these are identical to the attributes and methods available to call from the instance ```a```. This is because both ```a``` and ```b``` are instances of the class ```int``` and these methods and attributes belong to the ```int``` class."
   ]
  },
  {
   "cell_type": "markdown",
   "id": "engaged-decimal",
   "metadata": {},
   "source": [
    "The list below shows attributes (instances) in orange and methods (functions) in blue. "
   ]
  },
  {
   "cell_type": "markdown",
   "id": "tough-vision",
   "metadata": {},
   "source": [
    "An attribute of the object ```b``` can be thought of as an additional object that is referenced with respect to ```b```. It is often a property of ```b```. For example the attribute ```real``` will find the real component of ```b``` and this will also be an instance of the class ```int```. ```imag``` will find the imaginary component of ```b``` and will also be an instance of the class ```int```. In this case the real component is ```3``` and the number isn't a complex number so its imaginary component is ```0```."
   ]
  },
  {
   "cell_type": "markdown",
   "id": "impressive-incident",
   "metadata": {},
   "source": [
    "Attributes do not have input arguments and are therefore always called without parenthesis. "
   ]
  },
  {
   "cell_type": "code",
   "execution_count": 35,
   "id": "recreational-gather",
   "metadata": {},
   "outputs": [
    {
     "data": {
      "text/plain": [
       "3"
      ]
     },
     "execution_count": 35,
     "metadata": {},
     "output_type": "execute_result"
    }
   ],
   "source": [
    "b.real"
   ]
  },
  {
   "cell_type": "code",
   "execution_count": 36,
   "id": "acquired-charm",
   "metadata": {},
   "outputs": [
    {
     "data": {
      "text/plain": [
       "0"
      ]
     },
     "execution_count": 36,
     "metadata": {},
     "output_type": "execute_result"
    }
   ],
   "source": [
    "b.imag"
   ]
  },
  {
   "cell_type": "markdown",
   "id": "found-separate",
   "metadata": {},
   "source": [
    "As the attribute itself is an object, in this case also an ```int``` so attributes and methods associated with the ```int``` class will also be accessible from the attribute."
   ]
  },
  {
   "cell_type": "markdown",
   "id": "abstract-loading",
   "metadata": {},
   "source": [
    "![int_attributes_methods3](int_attributes_methods3.png)"
   ]
  },
  {
   "cell_type": "markdown",
   "id": "assigned-american",
   "metadata": {},
   "source": [
    "```b.real``` looks up the real component of ```b``` and ```b.real.real``` looks up the real component of the real component of ```b```. "
   ]
  },
  {
   "cell_type": "code",
   "execution_count": 37,
   "id": "ordinary-austin",
   "metadata": {},
   "outputs": [
    {
     "data": {
      "text/plain": [
       "3"
      ]
     },
     "execution_count": 37,
     "metadata": {},
     "output_type": "execute_result"
    }
   ],
   "source": [
    "b.real.real"
   ]
  },
  {
   "cell_type": "markdown",
   "id": "cubic-salon",
   "metadata": {},
   "source": [
    "And so on and so forth."
   ]
  },
  {
   "cell_type": "code",
   "execution_count": 38,
   "id": "human-sugar",
   "metadata": {},
   "outputs": [
    {
     "data": {
      "text/plain": [
       "3"
      ]
     },
     "execution_count": 38,
     "metadata": {},
     "output_type": "execute_result"
    }
   ],
   "source": [
    "b.real.real.real.real.real.real.real.real.real.real.real.real"
   ]
  },
  {
   "cell_type": "markdown",
   "id": "compact-german",
   "metadata": {},
   "source": [
    "Methods usually possess input arguments and have to always be called with parenthesis. If a method is called without parenthesis the output will inform the user that it is a function belonging to the ```int``` class i.e. a method of the int class. Recall when the function type was called without parenthes we got a similar behaviour. "
   ]
  },
  {
   "cell_type": "code",
   "execution_count": 39,
   "id": "fatal-method",
   "metadata": {},
   "outputs": [
    {
     "data": {
      "text/plain": [
       "<function int.conjugate>"
      ]
     },
     "execution_count": 39,
     "metadata": {},
     "output_type": "execute_result"
    }
   ],
   "source": [
    "b.conjugate"
   ]
  },
  {
   "cell_type": "markdown",
   "id": "damaged-convert",
   "metadata": {},
   "source": [
    "Details about the input arguments can be found by typing in the function followed by ```↹``` and ```⇧``` (again in the same manner as they are determined for functions). In this case we see that there are no input arguments."
   ]
  },
  {
   "cell_type": "markdown",
   "id": "choice-worst",
   "metadata": {},
   "source": [
    "![int_method_conjugate](int_method_conjugate.png)"
   ]
  },
  {
   "cell_type": "markdown",
   "id": "independent-spectacular",
   "metadata": {},
   "source": [
    "Therefore the method is called without any input arguments."
   ]
  },
  {
   "cell_type": "code",
   "execution_count": 40,
   "id": "relative-teens",
   "metadata": {},
   "outputs": [
    {
     "data": {
      "text/plain": [
       "3"
      ]
     },
     "execution_count": 40,
     "metadata": {},
     "output_type": "execute_result"
    }
   ],
   "source": [
    "b.conjugate()"
   ]
  },
  {
   "cell_type": "markdown",
   "id": "actual-wealth",
   "metadata": {},
   "source": [
    "Attributes are read directly as properties of the object. The method ```conjugate``` may look like an attribute at first glance however uses an underlying function to calculate the complex conjugate. Behind the scenes the method conjugate looks at the attribute ```b.real``` for the real component and the attribute ```b.imag``` for the imaginary component and then reverses the sign of the imaginary component when returning the complex conjugate as part of a calculation. "
   ]
  },
  {
   "cell_type": "markdown",
   "id": "willing-fighter",
   "metadata": {},
   "source": [
    "An instance can be deleted by using the function ```del```."
   ]
  },
  {
   "cell_type": "code",
   "execution_count": 41,
   "id": "tracked-tutorial",
   "metadata": {},
   "outputs": [],
   "source": [
    "del(b)"
   ]
  },
  {
   "cell_type": "markdown",
   "id": "marine-thesaurus",
   "metadata": {},
   "source": [
    "Trying to access a variable that has been deleted (or has never existed because it has never been defined) gives a ```NameError```."
   ]
  },
  {
   "cell_type": "markdown",
   "id": "affiliated-school",
   "metadata": {},
   "source": [
    "The following line will display the following error. Once again both the code and the image of the error are placed in a markdown cell to prevent the error from holding up the Python Kernel in the notebook. "
   ]
  },
  {
   "cell_type": "markdown",
   "id": "blond-south",
   "metadata": {},
   "source": [
    "```b```"
   ]
  },
  {
   "cell_type": "markdown",
   "id": "comparative-leave",
   "metadata": {},
   "source": [
    "![NameError](NameError.png)"
   ]
  },
  {
   "cell_type": "markdown",
   "id": "bored-bobby",
   "metadata": {},
   "source": [
    "### Floating Point Numbers (float)"
   ]
  },
  {
   "cell_type": "markdown",
   "id": "conventional-billy",
   "metadata": {},
   "source": [
    "We have discussed ```int``` numbers and ```int``` operations so far. It is also possible to create a floating point number i.e. a number that has a decimal component. The ```.``` when enclosed between two numbers is used to denote a decimal point. "
   ]
  },
  {
   "cell_type": "code",
   "execution_count": 42,
   "id": "dependent-sunglasses",
   "metadata": {},
   "outputs": [],
   "source": [
    "c=2.1"
   ]
  },
  {
   "cell_type": "markdown",
   "id": "powerful-incident",
   "metadata": {},
   "source": [
    "Let's check the type of c."
   ]
  },
  {
   "cell_type": "code",
   "execution_count": 43,
   "id": "judicial-country",
   "metadata": {},
   "outputs": [
    {
     "data": {
      "text/plain": [
       "float"
      ]
     },
     "execution_count": 43,
     "metadata": {},
     "output_type": "execute_result"
    }
   ],
   "source": [
    "type(c)"
   ]
  },
  {
   "cell_type": "markdown",
   "id": "driven-questionnaire",
   "metadata": {},
   "source": [
    "We see that the ```type``` is ```float``` (an abbreviation for floating point number). If we type in the instance name followed by a ```.``` and then ```↹``` we will see a list of attributes and methods. "
   ]
  },
  {
   "cell_type": "markdown",
   "id": "confirmed-violin",
   "metadata": {},
   "source": [
    "![float_attributes_methods](float_attributes_methods.png)"
   ]
  },
  {
   "cell_type": "markdown",
   "id": "ethical-invasion",
   "metadata": {},
   "source": [
    "If we compare this to ```b``` we will see some commonalities as both are numeric objects however there are slight differences reflecting the fact that these are different classes."
   ]
  },
  {
   "cell_type": "markdown",
   "id": "raised-advertiser",
   "metadata": {},
   "source": [
    "![int_attributes_methods2](int_attributes_methods2.png)"
   ]
  },
  {
   "cell_type": "markdown",
   "id": "hollywood-newton",
   "metadata": {},
   "source": [
    "The method ```is_integer``` for example will check if a floating point number is an integer. \n",
    "\n",
    "As the method is essentially a function that is called from an object, details about the methods input arguments can be quickly viewed in a popup balloon by pressing ```↹``` and ```⇧```. Alternatively the Docstring can be view in a cell output by pressing ```?``` followed by the methods name (called from the object)."
   ]
  },
  {
   "cell_type": "code",
   "execution_count": 44,
   "id": "difficult-ozone",
   "metadata": {},
   "outputs": [
    {
     "data": {
      "text/plain": [
       "\u001b[1;31mSignature:\u001b[0m  \u001b[0mc\u001b[0m\u001b[1;33m.\u001b[0m\u001b[0mis_integer\u001b[0m\u001b[1;33m(\u001b[0m\u001b[1;33m)\u001b[0m\u001b[1;33m\u001b[0m\u001b[1;33m\u001b[0m\u001b[0m\n",
       "\u001b[1;31mDocstring:\u001b[0m Return True if the float is an integer.\n",
       "\u001b[1;31mType:\u001b[0m      builtin_function_or_method\n"
      ]
     },
     "metadata": {},
     "output_type": "display_data"
    }
   ],
   "source": [
    "? c.is_integer"
   ]
  },
  {
   "cell_type": "markdown",
   "id": "statistical-participant",
   "metadata": {},
   "source": [
    "We see in this case that the method once again has no input arguments, so is called using empty parenthesis. The value returned is ```False``` which is expected as this has a non-zero component following the decimal point."
   ]
  },
  {
   "cell_type": "code",
   "execution_count": 45,
   "id": "enhanced-december",
   "metadata": {},
   "outputs": [
    {
     "data": {
      "text/plain": [
       "False"
      ]
     },
     "execution_count": 45,
     "metadata": {},
     "output_type": "execute_result"
    }
   ],
   "source": [
    "c.is_integer()"
   ]
  },
  {
   "cell_type": "markdown",
   "id": "structured-identity",
   "metadata": {},
   "source": [
    "We can also explicitly instantiate (create an instance of) a ```float``` class."
   ]
  },
  {
   "cell_type": "code",
   "execution_count": 46,
   "id": "professional-acrylic",
   "metadata": {},
   "outputs": [],
   "source": [
    "d=float(2.0)"
   ]
  },
  {
   "cell_type": "markdown",
   "id": "alert-script",
   "metadata": {},
   "source": [
    "If we type in the instance name followed by a ```.``` and then ```↹``` we will see a list of attributes and methods. These match those of the object ```c``` as both ```c``` and ```d``` are instances of the ```float``` class."
   ]
  },
  {
   "cell_type": "markdown",
   "id": "disciplinary-guitar",
   "metadata": {},
   "source": [
    "![float_attributes_methods2](float_attributes_methods2.png)"
   ]
  },
  {
   "cell_type": "markdown",
   "id": "temporal-abortion",
   "metadata": {},
   "source": [
    "If we use the ```float``` method ```is_integer``` using the instance ```d``` we will get a return value of ```True``` as there is no non-zero number following the decimal point. "
   ]
  },
  {
   "cell_type": "code",
   "execution_count": 47,
   "id": "human-minister",
   "metadata": {},
   "outputs": [
    {
     "data": {
      "text/plain": [
       "True"
      ]
     },
     "execution_count": 47,
     "metadata": {},
     "output_type": "execute_result"
    }
   ],
   "source": [
    "d.is_integer()"
   ]
  },
  {
   "cell_type": "markdown",
   "id": "compound-junction",
   "metadata": {},
   "source": [
    "Earlier we see integer division (truediv ```//```) and modulo (mod ```%```). We can also perform float or true division.\n",
    "* (truediv ```/```) divides the 0th number by the 1st number and returns an instance of the ```float``` class."
   ]
  },
  {
   "cell_type": "code",
   "execution_count": 48,
   "id": "introductory-weapon",
   "metadata": {},
   "outputs": [
    {
     "data": {
      "text/plain": [
       "2.5"
      ]
     },
     "execution_count": 48,
     "metadata": {},
     "output_type": "execute_result"
    }
   ],
   "source": [
    "5/2"
   ]
  },
  {
   "cell_type": "markdown",
   "id": "median-private",
   "metadata": {},
   "source": [
    "Note that float division always returns a ```float```. This occurs even when the return value is a complete number. For example."
   ]
  },
  {
   "cell_type": "code",
   "execution_count": 49,
   "id": "latter-synthetic",
   "metadata": {},
   "outputs": [],
   "source": [
    "e=4/2"
   ]
  },
  {
   "cell_type": "markdown",
   "id": "casual-professional",
   "metadata": {},
   "source": [
    "```e``` looks like an ```int```."
   ]
  },
  {
   "cell_type": "code",
   "execution_count": 50,
   "id": "documented-settlement",
   "metadata": {},
   "outputs": [
    {
     "data": {
      "text/plain": [
       "2.0"
      ]
     },
     "execution_count": 50,
     "metadata": {},
     "output_type": "execute_result"
    }
   ],
   "source": [
    "e"
   ]
  },
  {
   "cell_type": "markdown",
   "id": "magnetic-tension",
   "metadata": {},
   "source": [
    "However when we can see the decimal point indicating it is a ```float```. We check its type using the function ```type``` and this confirms that ```e``` is a ```float``` (instance of the ```float``` class)."
   ]
  },
  {
   "cell_type": "code",
   "execution_count": 51,
   "id": "black-triumph",
   "metadata": {},
   "outputs": [
    {
     "data": {
      "text/plain": [
       "float"
      ]
     },
     "execution_count": 51,
     "metadata": {},
     "output_type": "execute_result"
    }
   ],
   "source": [
    "type(e)"
   ]
  },
  {
   "cell_type": "code",
   "execution_count": 52,
   "id": "common-corrections",
   "metadata": {},
   "outputs": [
    {
     "data": {
      "text/plain": [
       "True"
      ]
     },
     "execution_count": 52,
     "metadata": {},
     "output_type": "execute_result"
    }
   ],
   "source": [
    "e.is_integer()"
   ]
  },
  {
   "cell_type": "markdown",
   "id": "printable-reservoir",
   "metadata": {},
   "source": [
    "The output can be converted explicitly to an instance of the ```int``` class."
   ]
  },
  {
   "cell_type": "code",
   "execution_count": 53,
   "id": "ultimate-recycling",
   "metadata": {},
   "outputs": [],
   "source": [
    "e=int(e)"
   ]
  },
  {
   "cell_type": "markdown",
   "id": "confirmed-correlation",
   "metadata": {},
   "source": [
    "The type is now ```int``` and not ```float```."
   ]
  },
  {
   "cell_type": "code",
   "execution_count": 54,
   "id": "breeding-progressive",
   "metadata": {},
   "outputs": [
    {
     "data": {
      "text/plain": [
       "int"
      ]
     },
     "execution_count": 54,
     "metadata": {},
     "output_type": "execute_result"
    }
   ],
   "source": [
    "type(e)"
   ]
  },
  {
   "cell_type": "markdown",
   "id": "controversial-profile",
   "metadata": {},
   "source": [
    "Note when a ```float``` gets converted to an ```int```, the decimal component gets truncated."
   ]
  },
  {
   "cell_type": "code",
   "execution_count": 55,
   "id": "tough-terry",
   "metadata": {},
   "outputs": [
    {
     "data": {
      "text/plain": [
       "2.1"
      ]
     },
     "execution_count": 55,
     "metadata": {},
     "output_type": "execute_result"
    }
   ],
   "source": [
    "c"
   ]
  },
  {
   "cell_type": "code",
   "execution_count": 56,
   "id": "twenty-footage",
   "metadata": {},
   "outputs": [
    {
     "data": {
      "text/plain": [
       "2"
      ]
     },
     "execution_count": 56,
     "metadata": {},
     "output_type": "execute_result"
    }
   ],
   "source": [
    "int(c)"
   ]
  },
  {
   "cell_type": "markdown",
   "id": "framed-identification",
   "metadata": {},
   "source": [
    "### Booleans (bool)"
   ]
  },
  {
   "cell_type": "markdown",
   "id": "demographic-eclipse",
   "metadata": {},
   "source": [
    "When we used the ```float``` method ```is_integer``` we got back a value ```True``` or ```False``` (note the capitlaization). These are known as Boolean values."
   ]
  },
  {
   "cell_type": "code",
   "execution_count": 57,
   "id": "single-dimension",
   "metadata": {},
   "outputs": [],
   "source": [
    "f=True"
   ]
  },
  {
   "cell_type": "markdown",
   "id": "successful-alaska",
   "metadata": {},
   "source": [
    "If we look at the type, we can see that it is the type ```bool```."
   ]
  },
  {
   "cell_type": "code",
   "execution_count": 58,
   "id": "incorrect-mitchell",
   "metadata": {},
   "outputs": [
    {
     "data": {
      "text/plain": [
       "bool"
      ]
     },
     "execution_count": 58,
     "metadata": {},
     "output_type": "execute_result"
    }
   ],
   "source": [
    "type(f)"
   ]
  },
  {
   "cell_type": "markdown",
   "id": "choice-grill",
   "metadata": {},
   "source": [
    "If we type in the instance name followed by a ```.``` and then ```↹``` we will see a list of attributes and methods. These attributes and methods are the same as the ```int``` class."
   ]
  },
  {
   "cell_type": "markdown",
   "id": "worthy-reception",
   "metadata": {},
   "source": [
    "![bool_attributes_methods](bool_attributes_methods.png)"
   ]
  },
  {
   "cell_type": "markdown",
   "id": "responsible-brighton",
   "metadata": {},
   "source": [
    "For most numeric calculations we can treat a ```True``` and ```False``` as ```1``` and ```0``` respectively. \n",
    "\n",
    "We can use the comparison operators:\n",
    "* (```==``` eq) checks if the 0th number (self) is equal to the 1st number (other).\n",
    "* (```!=``` ne) checks if the 0th number (self) is not equal to the 1st number (other).\n",
    "* (```<``` lt) checks if the 0th number (self) is less than the 1st number (other).\n",
    "* (```>``` gt) checks if the 0th number (self) is greater than the 1st number (other).\n",
    "* (```<=``` le) checks if the 0th number (self) is less than or equal to the 1st number (other).\n",
    "* (```>=``` ge) checks if the 0th number (self) us greater than or equal to the 1st number (other).\n",
    "\n",
    "These return a Boolean, instance of the ```bool``` class which has a value of ```True``` or ```False``` respectively."
   ]
  },
  {
   "cell_type": "code",
   "execution_count": 59,
   "id": "enabling-advertising",
   "metadata": {},
   "outputs": [
    {
     "data": {
      "text/plain": [
       "True"
      ]
     },
     "execution_count": 59,
     "metadata": {},
     "output_type": "execute_result"
    }
   ],
   "source": [
    "True==1"
   ]
  },
  {
   "cell_type": "code",
   "execution_count": 60,
   "id": "built-definition",
   "metadata": {},
   "outputs": [
    {
     "data": {
      "text/plain": [
       "True"
      ]
     },
     "execution_count": 60,
     "metadata": {},
     "output_type": "execute_result"
    }
   ],
   "source": [
    "False==0"
   ]
  },
  {
   "cell_type": "markdown",
   "id": "opened-identifier",
   "metadata": {},
   "source": [
    "Note do not confuse the (eq ```==```) operator with the assignment operator (```=```). Also recall that all operations to the right are carried out before using the assignment operator. In the example below, the check for is ```1``` equal to ```2``` gives a ```False``` return statement which is then assigned to the object name ```g```. ```g``` is an instance of the ```bool``` class."
   ]
  },
  {
   "cell_type": "code",
   "execution_count": 61,
   "id": "concerned-infrared",
   "metadata": {},
   "outputs": [],
   "source": [
    "g=1==2"
   ]
  },
  {
   "cell_type": "code",
   "execution_count": 62,
   "id": "distinguished-governor",
   "metadata": {},
   "outputs": [
    {
     "data": {
      "text/plain": [
       "False"
      ]
     },
     "execution_count": 62,
     "metadata": {},
     "output_type": "execute_result"
    }
   ],
   "source": [
    "g"
   ]
  },
  {
   "cell_type": "code",
   "execution_count": 63,
   "id": "advised-information",
   "metadata": {},
   "outputs": [
    {
     "data": {
      "text/plain": [
       "bool"
      ]
     },
     "execution_count": 63,
     "metadata": {},
     "output_type": "execute_result"
    }
   ],
   "source": [
    "type(g)"
   ]
  },
  {
   "cell_type": "markdown",
   "id": "speaking-monaco",
   "metadata": {},
   "source": [
    "Knowing ```True``` takes the value ```1``` and ```False``` takes the value ```0```, the following numeric operations can be carried out."
   ]
  },
  {
   "cell_type": "code",
   "execution_count": 64,
   "id": "stuffed-resident",
   "metadata": {},
   "outputs": [
    {
     "data": {
      "text/plain": [
       "1"
      ]
     },
     "execution_count": 64,
     "metadata": {},
     "output_type": "execute_result"
    }
   ],
   "source": [
    "True+False"
   ]
  },
  {
   "cell_type": "code",
   "execution_count": 65,
   "id": "underlying-ukraine",
   "metadata": {},
   "outputs": [
    {
     "data": {
      "text/plain": [
       "0"
      ]
     },
     "execution_count": 65,
     "metadata": {},
     "output_type": "execute_result"
    }
   ],
   "source": [
    "True*False"
   ]
  },
  {
   "cell_type": "code",
   "execution_count": 66,
   "id": "fitting-marketing",
   "metadata": {},
   "outputs": [
    {
     "data": {
      "text/plain": [
       "1"
      ]
     },
     "execution_count": 66,
     "metadata": {},
     "output_type": "execute_result"
    }
   ],
   "source": [
    "True-False"
   ]
  },
  {
   "cell_type": "markdown",
   "id": "answering-mainstream",
   "metadata": {},
   "source": [
    "We can use comparison statements to check whether or not two expressions are equal. Care should be taken when using comparison statements with the ```float``` datatypes. Compare the two statements below. The exact value ```2``` and the exact value ```1``` when summed together make the exact value of ```3``` and the expression below shows ```True``` as expected."
   ]
  },
  {
   "cell_type": "markdown",
   "id": "greek-gathering",
   "metadata": {},
   "source": [
    "If both sides are divided by 10 (i.e. have a datatype ```float```) and the same equivalence is made the comparison yields a ```False``` result."
   ]
  },
  {
   "cell_type": "code",
   "execution_count": 67,
   "id": "special-anaheim",
   "metadata": {},
   "outputs": [
    {
     "data": {
      "text/plain": [
       "True"
      ]
     },
     "execution_count": 67,
     "metadata": {},
     "output_type": "execute_result"
    }
   ],
   "source": [
    "2+1==3"
   ]
  },
  {
   "cell_type": "code",
   "execution_count": 68,
   "id": "atmospheric-formation",
   "metadata": {},
   "outputs": [
    {
     "data": {
      "text/plain": [
       "False"
      ]
     },
     "execution_count": 68,
     "metadata": {},
     "output_type": "execute_result"
    }
   ],
   "source": [
    "0.2+0.1==0.3"
   ]
  },
  {
   "cell_type": "markdown",
   "id": "cosmetic-destruction",
   "metadata": {},
   "source": [
    "Computers store numbers to a limited precision using binary notation. The calculation 0.1+0.2 (using decimal) leads to an exact number 0.3 but in binary it recurs forever (similar to the idea of a third in decimal notation). In any case to the default high precision number of decimal places, the last value is non-zero and therefore the two sides of the expression are not equivalent."
   ]
  },
  {
   "cell_type": "code",
   "execution_count": 69,
   "id": "tested-destination",
   "metadata": {},
   "outputs": [
    {
     "data": {
      "text/plain": [
       "0.30000000000000004"
      ]
     },
     "execution_count": 69,
     "metadata": {},
     "output_type": "execute_result"
    }
   ],
   "source": [
    "0.2+0.1"
   ]
  },
  {
   "cell_type": "markdown",
   "id": "south-sewing",
   "metadata": {},
   "source": [
    "In most practical applications we wouldn't use such a high number of decimal places. We may decide 6 digits suffice. We can use the function ```round```. Details about the input arguments for the function ```round``` can be found by typing in the function followed by ```↹``` and ```⇧```. We see number is a positional input argument and ```ndigits``` is a keyword input argument with a default value of ```0```. As this is a function, the input arguments must be enclosed in parenthesis. As we are using multiple input arguments we must use a comma ```,``` as a delimiter to seperate the input arguments."
   ]
  },
  {
   "cell_type": "markdown",
   "id": "random-object",
   "metadata": {},
   "source": [
    "![round](round.png)"
   ]
  },
  {
   "cell_type": "code",
   "execution_count": 70,
   "id": "defensive-container",
   "metadata": {},
   "outputs": [
    {
     "data": {
      "text/plain": [
       "0.3"
      ]
     },
     "execution_count": 70,
     "metadata": {},
     "output_type": "execute_result"
    }
   ],
   "source": [
    "round(0.1+0.2,ndigits=6)"
   ]
  },
  {
   "cell_type": "markdown",
   "id": "decreased-tampa",
   "metadata": {},
   "source": [
    "To this assigned number of digits the statement is ```True``` (as expected)."
   ]
  },
  {
   "cell_type": "code",
   "execution_count": 71,
   "id": "iraqi-rubber",
   "metadata": {},
   "outputs": [
    {
     "data": {
      "text/plain": [
       "True"
      ]
     },
     "execution_count": 71,
     "metadata": {},
     "output_type": "execute_result"
    }
   ],
   "source": [
    "round(0.1+0.2,ndigits=6)==round(0.3,ndigits=6)"
   ]
  },
  {
   "cell_type": "markdown",
   "id": "respiratory-camera",
   "metadata": {},
   "source": [
    "### Complex Numbers (complex)"
   ]
  },
  {
   "cell_type": "markdown",
   "id": "positive-bullet",
   "metadata": {},
   "source": [
    "The square root of a negaive number yields a complex number with an imaginary component used to handle the negative square root."
   ]
  },
  {
   "cell_type": "code",
   "execution_count": 72,
   "id": "bridal-orchestra",
   "metadata": {},
   "outputs": [
    {
     "data": {
      "text/plain": [
       "(1.2246467991473532e-16+2j)"
      ]
     },
     "execution_count": 72,
     "metadata": {},
     "output_type": "execute_result"
    }
   ],
   "source": [
    "(-4)**0.5"
   ]
  },
  {
   "cell_type": "code",
   "execution_count": 73,
   "id": "settled-excess",
   "metadata": {},
   "outputs": [
    {
     "data": {
      "text/plain": [
       "complex"
      ]
     },
     "execution_count": 73,
     "metadata": {},
     "output_type": "execute_result"
    }
   ],
   "source": [
    "type((-4)**0.5)"
   ]
  },
  {
   "cell_type": "markdown",
   "id": "acknowledged-russian",
   "metadata": {},
   "source": [
    "The real component of the above number is represented using scientific notation. The ```e-16``` denotes we are 16 places after the decimal point i.e. a very tiny number.  \n",
    "\n",
    "```1e2``` denotes we will have two zeros after the number."
   ]
  },
  {
   "cell_type": "code",
   "execution_count": 74,
   "id": "cooked-implementation",
   "metadata": {},
   "outputs": [
    {
     "data": {
      "text/plain": [
       "100.0"
      ]
     },
     "execution_count": 74,
     "metadata": {},
     "output_type": "execute_result"
    }
   ],
   "source": [
    "1e2"
   ]
  },
  {
   "cell_type": "markdown",
   "id": "nuclear-knowing",
   "metadata": {},
   "source": [
    "```1e0``` denotes we will have no zeros after or before the number."
   ]
  },
  {
   "cell_type": "code",
   "execution_count": 75,
   "id": "paperback-small",
   "metadata": {},
   "outputs": [
    {
     "data": {
      "text/plain": [
       "1.0"
      ]
     },
     "execution_count": 75,
     "metadata": {},
     "output_type": "execute_result"
    }
   ],
   "source": [
    "1e0"
   ]
  },
  {
   "cell_type": "markdown",
   "id": "ethical-priority",
   "metadata": {},
   "source": [
    "```1e-2``` denotes we have 2 zeros before the number."
   ]
  },
  {
   "cell_type": "code",
   "execution_count": 76,
   "id": "patient-particle",
   "metadata": {},
   "outputs": [
    {
     "data": {
      "text/plain": [
       "0.01"
      ]
     },
     "execution_count": 76,
     "metadata": {},
     "output_type": "execute_result"
    }
   ],
   "source": [
    "1e-2"
   ]
  },
  {
   "cell_type": "markdown",
   "id": "quarterly-technique",
   "metadata": {},
   "source": [
    "A ```complex``` number (with a real and imaginary component) can be instantiated from the ```complex``` class. To instantiate a complex number both a real and imag component need to be speciifed. "
   ]
  },
  {
   "cell_type": "code",
   "execution_count": 77,
   "id": "otherwise-bacon",
   "metadata": {},
   "outputs": [
    {
     "data": {
      "text/plain": [
       "\u001b[1;31mInit signature:\u001b[0m  \u001b[0mcomplex\u001b[0m\u001b[1;33m(\u001b[0m\u001b[0mreal\u001b[0m\u001b[1;33m=\u001b[0m\u001b[1;36m0\u001b[0m\u001b[1;33m,\u001b[0m \u001b[0mimag\u001b[0m\u001b[1;33m=\u001b[0m\u001b[1;36m0\u001b[0m\u001b[1;33m)\u001b[0m\u001b[1;33m\u001b[0m\u001b[1;33m\u001b[0m\u001b[0m\n",
       "\u001b[1;31mDocstring:\u001b[0m     \n",
       "Create a complex number from a real part and an optional imaginary part.\n",
       "\n",
       "This is equivalent to (real + imag*1j) where imag defaults to 0.\n",
       "\u001b[1;31mType:\u001b[0m           type\n",
       "\u001b[1;31mSubclasses:\u001b[0m     \n"
      ]
     },
     "metadata": {},
     "output_type": "display_data"
    }
   ],
   "source": [
    "? complex"
   ]
  },
  {
   "cell_type": "markdown",
   "id": "bored-daughter",
   "metadata": {},
   "source": [
    "Note for convenience the init signature of the complex class uses keyword input arguments ```real``` and ```imag``` which have a default value of ```0``` unless explictly specified. We can set them to ```1``` and ```-2``` respectively."
   ]
  },
  {
   "cell_type": "code",
   "execution_count": 78,
   "id": "different-tattoo",
   "metadata": {},
   "outputs": [],
   "source": [
    "h=complex(real=1,imag=-2)"
   ]
  },
  {
   "cell_type": "code",
   "execution_count": 79,
   "id": "according-arrangement",
   "metadata": {},
   "outputs": [
    {
     "data": {
      "text/plain": [
       "(1-2j)"
      ]
     },
     "execution_count": 79,
     "metadata": {},
     "output_type": "execute_result"
    }
   ],
   "source": [
    "h"
   ]
  },
  {
   "cell_type": "markdown",
   "id": "graduate-interstate",
   "metadata": {},
   "source": [
    "![complex_attributes_methods](complex_attributes_methods.png)"
   ]
  },
  {
   "cell_type": "markdown",
   "id": "alleged-apollo",
   "metadata": {},
   "source": [
    "The attributes ```real``` and ```imag``` will look up the real and imaginary components respectively."
   ]
  },
  {
   "cell_type": "code",
   "execution_count": 80,
   "id": "other-mapping",
   "metadata": {},
   "outputs": [
    {
     "data": {
      "text/plain": [
       "1.0"
      ]
     },
     "execution_count": 80,
     "metadata": {},
     "output_type": "execute_result"
    }
   ],
   "source": [
    "h.real"
   ]
  },
  {
   "cell_type": "code",
   "execution_count": 81,
   "id": "handmade-plate",
   "metadata": {},
   "outputs": [
    {
     "data": {
      "text/plain": [
       "-2.0"
      ]
     },
     "execution_count": 81,
     "metadata": {},
     "output_type": "execute_result"
    }
   ],
   "source": [
    "h.imag"
   ]
  },
  {
   "cell_type": "code",
   "execution_count": 82,
   "id": "partial-communist",
   "metadata": {},
   "outputs": [
    {
     "data": {
      "text/plain": [
       "(1+2j)"
      ]
     },
     "execution_count": 82,
     "metadata": {},
     "output_type": "execute_result"
    }
   ],
   "source": [
    "h.conjugate()"
   ]
  },
  {
   "cell_type": "markdown",
   "id": "greek-maria",
   "metadata": {},
   "source": [
    "## Text Variables - A String of Characters (str)"
   ]
  },
  {
   "cell_type": "markdown",
   "id": "different-darwin",
   "metadata": {},
   "source": [
    "It is also possible to create a variable that is a string of text abbreviated ```str```. The string of text must be enclosed in quotation marks to prevent confusion with the variable name."
   ]
  },
  {
   "cell_type": "code",
   "execution_count": 83,
   "id": "arbitrary-dispute",
   "metadata": {},
   "outputs": [],
   "source": [
    "i='i'"
   ]
  },
  {
   "cell_type": "markdown",
   "id": "appropriate-plane",
   "metadata": {},
   "source": [
    "The ```str``` ```'i'``` is assigned to the object name ```i```. Note the difference in the color coding between the ```str``` on the right hand side and the object name on the left hand side. "
   ]
  },
  {
   "cell_type": "markdown",
   "id": "prompt-desert",
   "metadata": {},
   "source": [
    "Sometimes the ```str``` may require a quotation or other special characters. Note when a quotation is added to the ```str```, Python terminates the ```str``` opposed to including it within the ```str```."
   ]
  },
  {
   "cell_type": "markdown",
   "id": "alien-satisfaction",
   "metadata": {},
   "source": [
    "![str_quotation](str_quotation.png)"
   ]
  },
  {
   "cell_type": "markdown",
   "id": "homeless-direction",
   "metadata": {},
   "source": [
    "This can be addressed using the special character ```\\``` to denote that a quotation is supposed to be incorporated into the ```str```."
   ]
  },
  {
   "cell_type": "code",
   "execution_count": 84,
   "id": "residential-panic",
   "metadata": {},
   "outputs": [
    {
     "data": {
      "text/plain": [
       "\"Philip's\""
      ]
     },
     "execution_count": 84,
     "metadata": {},
     "output_type": "execute_result"
    }
   ],
   "source": [
    "\"Philip's\""
   ]
  },
  {
   "cell_type": "markdown",
   "id": "public-child",
   "metadata": {},
   "source": [
    "Note the output also shows that we can use double quotations for this particular case."
   ]
  },
  {
   "cell_type": "code",
   "execution_count": 85,
   "id": "pleasant-mortality",
   "metadata": {},
   "outputs": [
    {
     "data": {
      "text/plain": [
       "\"Philip's\""
      ]
     },
     "execution_count": 85,
     "metadata": {},
     "output_type": "execute_result"
    }
   ],
   "source": [
    "\"Philip's\""
   ]
  },
  {
   "cell_type": "markdown",
   "id": "cutting-compromise",
   "metadata": {},
   "source": [
    "We can see what the string of character looks like by using the ```print``` function."
   ]
  },
  {
   "cell_type": "code",
   "execution_count": 86,
   "id": "gentle-measurement",
   "metadata": {},
   "outputs": [
    {
     "name": "stdout",
     "output_type": "stream",
     "text": [
      "Philip's\n"
     ]
    }
   ],
   "source": [
    "print('Philip\\'s')"
   ]
  },
  {
   "cell_type": "markdown",
   "id": "special-drain",
   "metadata": {},
   "source": [
    "Sometimes we will need to use both double quotes and single quotes and we must use the special character ```\\``` to denote which quotes we want as part of the ```str```."
   ]
  },
  {
   "cell_type": "code",
   "execution_count": 87,
   "id": "recreational-genesis",
   "metadata": {},
   "outputs": [
    {
     "data": {
      "text/plain": [
       "'Philip\\'s \"quote\"'"
      ]
     },
     "execution_count": 87,
     "metadata": {},
     "output_type": "execute_result"
    }
   ],
   "source": [
    "'Philip\\'s \\\"quote\\\"'"
   ]
  },
  {
   "cell_type": "code",
   "execution_count": 88,
   "id": "danish-monitoring",
   "metadata": {},
   "outputs": [
    {
     "name": "stdout",
     "output_type": "stream",
     "text": [
      "Philip's \"quote\"\n"
     ]
    }
   ],
   "source": [
    "print('Philip\\'s \\\"quote\\\"')"
   ]
  },
  {
   "cell_type": "markdown",
   "id": "lonely-miller",
   "metadata": {},
   "source": [
    "The special character ```\\``` followed by a ```t``` and ```n``` denotes a new line and tab respectively."
   ]
  },
  {
   "cell_type": "code",
   "execution_count": 89,
   "id": "separated-enlargement",
   "metadata": {},
   "outputs": [
    {
     "data": {
      "text/plain": [
       "'\\tPhilip\\'s \\n\"quote\"'"
      ]
     },
     "execution_count": 89,
     "metadata": {},
     "output_type": "execute_result"
    }
   ],
   "source": [
    "'\\tPhilip\\'s \\n\\\"quote\\\"'"
   ]
  },
  {
   "cell_type": "code",
   "execution_count": 90,
   "id": "thrown-measure",
   "metadata": {},
   "outputs": [
    {
     "name": "stdout",
     "output_type": "stream",
     "text": [
      "\tPhilip's \n",
      "\"quote\"\n"
     ]
    }
   ],
   "source": [
    "print('\\tPhilip\\'s \\n\\\"quote\\\"')"
   ]
  },
  {
   "cell_type": "markdown",
   "id": "steady-representation",
   "metadata": {},
   "source": [
    "In some cases for example file paths we need to use the special character ```\\``` as part of the ```str```. We must use ```\\\\```. The 0th ```\\``` denotes the fact we want to use a special character and the 1st ```\\``` denotes that we want to display ```\\```."
   ]
  },
  {
   "cell_type": "code",
   "execution_count": 91,
   "id": "dramatic-reset",
   "metadata": {},
   "outputs": [
    {
     "data": {
      "text/plain": [
       "'C:\\\\Users'"
      ]
     },
     "execution_count": 91,
     "metadata": {},
     "output_type": "execute_result"
    }
   ],
   "source": [
    "'C:\\\\Users'"
   ]
  },
  {
   "cell_type": "code",
   "execution_count": 92,
   "id": "entire-matthew",
   "metadata": {},
   "outputs": [
    {
     "name": "stdout",
     "output_type": "stream",
     "text": [
      "C:\\Users\n"
     ]
    }
   ],
   "source": [
    "print('C:\\\\Users')"
   ]
  },
  {
   "cell_type": "markdown",
   "id": "designed-amplifier",
   "metadata": {},
   "source": [
    "As file paths are used quite often in programming and copied from Windows Explorer which uses a single ```\\``` we also have a special string called a relative string. A special string prepends ```r``` in front of the quotation. Any ```\\``` seen in the ```str``` is automatically converted into a ```\\\\```."
   ]
  },
  {
   "cell_type": "code",
   "execution_count": 93,
   "id": "cosmetic-junior",
   "metadata": {},
   "outputs": [
    {
     "data": {
      "text/plain": [
       "'C:\\\\Users'"
      ]
     },
     "execution_count": 93,
     "metadata": {},
     "output_type": "execute_result"
    }
   ],
   "source": [
    "r'C:\\Users'"
   ]
  },
  {
   "cell_type": "markdown",
   "id": "gorgeous-basket",
   "metadata": {},
   "source": [
    "There is also a special string known as a formatted string. To use a formatted string prepend ```f``` to the front of the quotation. A formatted string can be used to place variables within the ```str``` by use of curly brackets ```{}```."
   ]
  },
  {
   "cell_type": "code",
   "execution_count": 94,
   "id": "unique-sweden",
   "metadata": {},
   "outputs": [
    {
     "name": "stdout",
     "output_type": "stream",
     "text": [
      "hello Philip\n"
     ]
    }
   ],
   "source": [
    "user='Philip'\n",
    "print(f'hello {user}')"
   ]
  },
  {
   "cell_type": "markdown",
   "id": "verified-documentation",
   "metadata": {},
   "source": [
    "We can also explicitly instantiate (create an instance of) a ```str``` class."
   ]
  },
  {
   "cell_type": "code",
   "execution_count": 95,
   "id": "vertical-emergency",
   "metadata": {},
   "outputs": [
    {
     "data": {
      "text/plain": [
       "\u001b[1;31mInit signature:\u001b[0m  \u001b[0mstr\u001b[0m\u001b[1;33m(\u001b[0m\u001b[0mself\u001b[0m\u001b[1;33m,\u001b[0m \u001b[1;33m/\u001b[0m\u001b[1;33m,\u001b[0m \u001b[1;33m*\u001b[0m\u001b[0margs\u001b[0m\u001b[1;33m,\u001b[0m \u001b[1;33m**\u001b[0m\u001b[0mkwargs\u001b[0m\u001b[1;33m)\u001b[0m\u001b[1;33m\u001b[0m\u001b[1;33m\u001b[0m\u001b[0m\n",
       "\u001b[1;31mDocstring:\u001b[0m     \n",
       "str(object='') -> str\n",
       "str(bytes_or_buffer[, encoding[, errors]]) -> str\n",
       "\n",
       "Create a new string object from the given object. If encoding or\n",
       "errors is specified, then the object must expose a data buffer\n",
       "that will be decoded using the given encoding and error handler.\n",
       "Otherwise, returns the result of object.__str__() (if defined)\n",
       "or repr(object).\n",
       "encoding defaults to sys.getdefaultencoding().\n",
       "errors defaults to 'strict'.\n",
       "\u001b[1;31mType:\u001b[0m           type\n",
       "\u001b[1;31mSubclasses:\u001b[0m     DeferredConfigString, _rstr, LSString, include, ColorDepth, Keys, InputMode, CompleteStyle, SortKey\n"
      ]
     },
     "metadata": {},
     "output_type": "display_data"
    }
   ],
   "source": [
    "? str"
   ]
  },
  {
   "cell_type": "code",
   "execution_count": 96,
   "id": "bright-dimension",
   "metadata": {},
   "outputs": [],
   "source": [
    "j=str('philip')"
   ]
  },
  {
   "cell_type": "markdown",
   "id": "impaired-interference",
   "metadata": {},
   "source": [
    "![str_methods](str_methods.png)"
   ]
  },
  {
   "cell_type": "markdown",
   "id": "textile-causing",
   "metadata": {},
   "source": [
    "If we type in the instance name followed by a ```.``` and then ```↹``` we will see a list of attributes and methods. These are related to text objects (and hence applicable to the ```str``` class) opposed to numeric objects (```str```, ```float```, ```bool```, ```complex```) as seen previously."
   ]
  },
  {
   "cell_type": "markdown",
   "id": "determined-attendance",
   "metadata": {},
   "source": [
    "The method ```capitalize``` will capitalize the ```str```. Details about the input arguments can be found by typing in the function followed by ```↹``` and ```⇧``` or output to a cell by typing in ```?``` followed by the methods name (called from the object). In this case we see that there are no input arguments and the method transforms the original ```str``` returning it with a capital letter."
   ]
  },
  {
   "cell_type": "code",
   "execution_count": 97,
   "id": "elect-paper",
   "metadata": {},
   "outputs": [
    {
     "data": {
      "text/plain": [
       "\u001b[1;31mSignature:\u001b[0m  \u001b[0mj\u001b[0m\u001b[1;33m.\u001b[0m\u001b[0mcapitalize\u001b[0m\u001b[1;33m(\u001b[0m\u001b[1;33m)\u001b[0m\u001b[1;33m\u001b[0m\u001b[1;33m\u001b[0m\u001b[0m\n",
       "\u001b[1;31mDocstring:\u001b[0m\n",
       "Return a capitalized version of the string.\n",
       "\n",
       "More specifically, make the first character have upper case and the rest lower\n",
       "case.\n",
       "\u001b[1;31mType:\u001b[0m      builtin_function_or_method\n"
      ]
     },
     "metadata": {},
     "output_type": "display_data"
    }
   ],
   "source": [
    "? j.capitalize"
   ]
  },
  {
   "cell_type": "code",
   "execution_count": 98,
   "id": "greatest-camping",
   "metadata": {},
   "outputs": [
    {
     "data": {
      "text/plain": [
       "'Philip'"
      ]
     },
     "execution_count": 98,
     "metadata": {},
     "output_type": "execute_result"
    }
   ],
   "source": [
    "j.capitalize()"
   ]
  },
  {
   "cell_type": "markdown",
   "id": "thick-height",
   "metadata": {},
   "source": [
    "We can use a similar method ```upper``` to make the entire ```str``` upper case."
   ]
  },
  {
   "cell_type": "code",
   "execution_count": 99,
   "id": "usual-hours",
   "metadata": {},
   "outputs": [
    {
     "data": {
      "text/plain": [
       "'PHILIP'"
      ]
     },
     "execution_count": 99,
     "metadata": {},
     "output_type": "execute_result"
    }
   ],
   "source": [
    "j.upper()"
   ]
  },
  {
   "cell_type": "markdown",
   "id": "infectious-coordinator",
   "metadata": {},
   "source": [
    "Note that ```j``` is unchanged and the output is just printed as the output of the cell."
   ]
  },
  {
   "cell_type": "code",
   "execution_count": 100,
   "id": "correct-kernel",
   "metadata": {},
   "outputs": [
    {
     "data": {
      "text/plain": [
       "'philip'"
      ]
     },
     "execution_count": 100,
     "metadata": {},
     "output_type": "execute_result"
    }
   ],
   "source": [
    "j"
   ]
  },
  {
   "cell_type": "markdown",
   "id": "devoted-cedar",
   "metadata": {},
   "source": [
    "We can assign the output to the original object name to perform an inplace update."
   ]
  },
  {
   "cell_type": "code",
   "execution_count": 101,
   "id": "square-faith",
   "metadata": {},
   "outputs": [],
   "source": [
    "j=j.upper()"
   ]
  },
  {
   "cell_type": "code",
   "execution_count": 102,
   "id": "exact-bonus",
   "metadata": {},
   "outputs": [
    {
     "data": {
      "text/plain": [
       "'PHILIP'"
      ]
     },
     "execution_count": 102,
     "metadata": {},
     "output_type": "execute_result"
    }
   ],
   "source": [
    "j"
   ]
  },
  {
   "cell_type": "markdown",
   "id": "early-recipient",
   "metadata": {},
   "source": [
    "We also have the ```str``` method ```lower``` to return the ```str``` to lower case."
   ]
  },
  {
   "cell_type": "code",
   "execution_count": 103,
   "id": "numerous-netherlands",
   "metadata": {},
   "outputs": [],
   "source": [
    "j=j.lower()"
   ]
  },
  {
   "cell_type": "code",
   "execution_count": 104,
   "id": "worldwide-characterization",
   "metadata": {},
   "outputs": [
    {
     "data": {
      "text/plain": [
       "'philip'"
      ]
     },
     "execution_count": 104,
     "metadata": {},
     "output_type": "execute_result"
    }
   ],
   "source": [
    "j"
   ]
  },
  {
   "cell_type": "markdown",
   "id": "aware-draft",
   "metadata": {},
   "source": [
    "The ```str``` method ```replace``` can be used to replace an old value with a new value. Details about the input arguments can be found by typing in the function followed by ```↹``` and ```⇧``` or output to a cell by typing in ```?``` followed by the methods name (called from the object). The positional input arguments ```old``` and ```new``` must be placed in positional order between the parenthesis when calling this method."
   ]
  },
  {
   "cell_type": "code",
   "execution_count": 105,
   "id": "marked-germany",
   "metadata": {},
   "outputs": [
    {
     "data": {
      "text/plain": [
       "\u001b[1;31mSignature:\u001b[0m  \u001b[0mj\u001b[0m\u001b[1;33m.\u001b[0m\u001b[0mreplace\u001b[0m\u001b[1;33m(\u001b[0m\u001b[0mold\u001b[0m\u001b[1;33m,\u001b[0m \u001b[0mnew\u001b[0m\u001b[1;33m,\u001b[0m \u001b[0mcount\u001b[0m\u001b[1;33m=\u001b[0m\u001b[1;33m-\u001b[0m\u001b[1;36m1\u001b[0m\u001b[1;33m,\u001b[0m \u001b[1;33m/\u001b[0m\u001b[1;33m)\u001b[0m\u001b[1;33m\u001b[0m\u001b[1;33m\u001b[0m\u001b[0m\n",
       "\u001b[1;31mDocstring:\u001b[0m\n",
       "Return a copy with all occurrences of substring old replaced by new.\n",
       "\n",
       "  count\n",
       "    Maximum number of occurrences to replace.\n",
       "    -1 (the default value) means replace all occurrences.\n",
       "\n",
       "If the optional argument count is given, only the first count occurrences are\n",
       "replaced.\n",
       "\u001b[1;31mType:\u001b[0m      builtin_function_or_method\n"
      ]
     },
     "metadata": {},
     "output_type": "display_data"
    }
   ],
   "source": [
    "? j.replace"
   ]
  },
  {
   "cell_type": "markdown",
   "id": "passing-filter",
   "metadata": {},
   "source": [
    "Some people spell my name with a ```'f'``` instead of a ```'ph'``` so let's use this as an example."
   ]
  },
  {
   "cell_type": "code",
   "execution_count": 106,
   "id": "intense-cinema",
   "metadata": {},
   "outputs": [
    {
     "data": {
      "text/plain": [
       "'filip'"
      ]
     },
     "execution_count": 106,
     "metadata": {},
     "output_type": "execute_result"
    }
   ],
   "source": [
    "j.replace('ph','f')"
   ]
  },
  {
   "cell_type": "markdown",
   "id": "authentic-prediction",
   "metadata": {},
   "source": [
    "The (```+``` add) operater in a ```str``` performs concatenation of the ```str``` with another ```str```, for example if I want to concatenate my first name to my sirname."
   ]
  },
  {
   "cell_type": "code",
   "execution_count": 107,
   "id": "talented-latvia",
   "metadata": {},
   "outputs": [
    {
     "data": {
      "text/plain": [
       "'PhilipYip'"
      ]
     },
     "execution_count": 107,
     "metadata": {},
     "output_type": "execute_result"
    }
   ],
   "source": [
    "'Philip'+'Yip'"
   ]
  },
  {
   "cell_type": "markdown",
   "id": "conscious-feeding",
   "metadata": {},
   "source": [
    "Note that concatenation does not provide spacing. If I want to concatenate a space, I will have to concatenate one seperately."
   ]
  },
  {
   "cell_type": "code",
   "execution_count": 108,
   "id": "streaming-triple",
   "metadata": {},
   "outputs": [
    {
     "data": {
      "text/plain": [
       "'Philip Yip'"
      ]
     },
     "execution_count": 108,
     "metadata": {},
     "output_type": "execute_result"
    }
   ],
   "source": [
    "'Philip'+' '+'Yip'"
   ]
  },
  {
   "cell_type": "markdown",
   "id": "canadian-denver",
   "metadata": {},
   "source": [
    "The (```*``` mul) operator will work between a str and an int n to replicate the str n times."
   ]
  },
  {
   "cell_type": "code",
   "execution_count": 109,
   "id": "dated-federation",
   "metadata": {},
   "outputs": [
    {
     "data": {
      "text/plain": [
       "'PhilipPhilipPhilipPhilipPhilip'"
      ]
     },
     "execution_count": 109,
     "metadata": {},
     "output_type": "execute_result"
    }
   ],
   "source": [
    "5*'Philip'"
   ]
  },
  {
   "cell_type": "markdown",
   "id": "constitutional-birthday",
   "metadata": {},
   "source": [
    "Note that using the (```+``` add) operator instead will result in a ```TypeError```. This is because there is no logical behaviour for adding an ```int``` to an undefined value (a ```str``` does not equate to a number)."
   ]
  },
  {
   "cell_type": "markdown",
   "id": "recognized-moses",
   "metadata": {},
   "source": [
    "```5+'Philip'```"
   ]
  },
  {
   "cell_type": "markdown",
   "id": "ambient-stone",
   "metadata": {},
   "source": [
    "![str_int_concatenate_typeerror](str_int_concatenate_typeerror.png)"
   ]
  },
  {
   "cell_type": "markdown",
   "id": "shaped-stereo",
   "metadata": {},
   "source": [
    "Multiplying two ```str``` instances will also give a ```TypeError``` as there is no physical meaning behind this operation."
   ]
  },
  {
   "cell_type": "markdown",
   "id": "electoral-compilation",
   "metadata": {},
   "source": [
    "```'Philip'*'Philip'```"
   ]
  },
  {
   "cell_type": "markdown",
   "id": "recent-johns",
   "metadata": {},
   "source": [
    "![str_str_multiply_typeerror](str_str_multiply_typeerror.png)"
   ]
  },
  {
   "cell_type": "markdown",
   "id": "automated-sucking",
   "metadata": {},
   "source": [
    "Care should therefore be taken when working with different datatypes."
   ]
  },
  {
   "cell_type": "markdown",
   "id": "governmental-western",
   "metadata": {},
   "source": [
    "## The print Function"
   ]
  },
  {
   "cell_type": "markdown",
   "id": "industrial-trauma",
   "metadata": {},
   "source": [
    "Let's have a look at the ```print``` function in more details. Details about the input arguments can be found by typing in the function followed by ```↹``` and ```⇧``` or output to a cell by typing in ```?``` followed by the methods name (called from the object). "
   ]
  },
  {
   "cell_type": "code",
   "execution_count": 110,
   "id": "knowing-governor",
   "metadata": {},
   "outputs": [
    {
     "data": {
      "text/plain": [
       "\u001b[1;31mDocstring:\u001b[0m\n",
       "print(value, ..., sep=' ', end='\\n', file=sys.stdout, flush=False)\n",
       "\n",
       "Prints the values to a stream, or to sys.stdout by default.\n",
       "Optional keyword arguments:\n",
       "file:  a file-like object (stream); defaults to the current sys.stdout.\n",
       "sep:   string inserted between values, default a space.\n",
       "end:   string appended after the last value, default a newline.\n",
       "flush: whether to forcibly flush the stream.\n",
       "\u001b[1;31mType:\u001b[0m      builtin_function_or_method\n"
      ]
     },
     "metadata": {},
     "output_type": "display_data"
    }
   ],
   "source": [
    "? print"
   ]
  },
  {
   "cell_type": "markdown",
   "id": "progressive-acceptance",
   "metadata": {},
   "source": [
    "By default there is a single positional argument however the ```...``` denotes that we can place in multiple positional arguments to ```print```."
   ]
  },
  {
   "cell_type": "code",
   "execution_count": 111,
   "id": "modern-glass",
   "metadata": {},
   "outputs": [
    {
     "name": "stdout",
     "output_type": "stream",
     "text": [
      "hello\n"
     ]
    }
   ],
   "source": [
    "print('hello')"
   ]
  },
  {
   "cell_type": "markdown",
   "id": "dress-victoria",
   "metadata": {},
   "source": [
    "The positional input arguments are specified in order by use of a ```,``` as a delimiter."
   ]
  },
  {
   "cell_type": "code",
   "execution_count": 112,
   "id": "spanish-training",
   "metadata": {},
   "outputs": [
    {
     "name": "stdout",
     "output_type": "stream",
     "text": [
      "hello goodbye\n"
     ]
    }
   ],
   "source": [
    "print('hello','goodbye')"
   ]
  },
  {
   "cell_type": "markdown",
   "id": "million-discovery",
   "metadata": {},
   "source": [
    "Keyword input arguments have a default value. When these are not explicitly called the default value will be used. They can be called up and assigned to a different value. \n",
    "\n",
    "In the function ```print```, the keyword input arguments ```sep``` and ```end``` are both shown to have the default values of ```' '``` and ```'\\n'``` meaning when multiple positional input arguments are used in the ```print``` function they will be seperated by a space and the end of the line will end with a new line.\n",
    "\n",
    "When a function has both positional input and keyword input arguments, the positional input arguments must be placed in position at the beginning when calling the function. The keyword input arguments can be called in any order (or not called when the default values are desired) following these positional input arguments.\n",
    "\n",
    "Notice for example when the keyword input argument ```sep``` is specified as ```---``` the space that was seen between the two printed str becomes ```---``` and when the ```end``` is changed from ```'\\n'``` to ```''``` there is no new line."
   ]
  },
  {
   "cell_type": "code",
   "execution_count": 113,
   "id": "deadly-tactics",
   "metadata": {},
   "outputs": [
    {
     "name": "stdout",
     "output_type": "stream",
     "text": [
      "hello---goodbye\n",
      "hello---goodbyehello---goodbye\n"
     ]
    }
   ],
   "source": [
    "print('hello','goodbye',sep='---')\n",
    "print('hello','goodbye',sep='---',end='')\n",
    "print('hello','goodbye',sep='---')"
   ]
  },
  {
   "cell_type": "markdown",
   "id": "frequent-toolbox",
   "metadata": {},
   "source": [
    "## The input Function"
   ]
  },
  {
   "cell_type": "markdown",
   "id": "aquatic-timeline",
   "metadata": {},
   "source": [
    "The input function can be used to gather information from a user. Details about the input arguments can be found by typing in the function followed by ```↹``` and ```⇧``` or output to a cell by typing in ```?``` followed by the methods name (called from the object). \n",
    "\n",
    "The keyword input argument ```prompt``` (also acts as a positional input argument) is a question to ask the user."
   ]
  },
  {
   "cell_type": "code",
   "execution_count": 114,
   "id": "accurate-transsexual",
   "metadata": {},
   "outputs": [
    {
     "data": {
      "text/plain": [
       "\u001b[1;31mSignature:\u001b[0m  \u001b[0minput\u001b[0m\u001b[1;33m(\u001b[0m\u001b[0mprompt\u001b[0m\u001b[1;33m=\u001b[0m\u001b[1;34m''\u001b[0m\u001b[1;33m)\u001b[0m\u001b[1;33m\u001b[0m\u001b[1;33m\u001b[0m\u001b[0m\n",
       "\u001b[1;31mDocstring:\u001b[0m\n",
       "Forward raw_input to frontends\n",
       "\n",
       "Raises\n",
       "------\n",
       "StdinNotImplentedError if active frontend doesn't support stdin.\n",
       "\u001b[1;31mFile:\u001b[0m      c:\\users\\phili\\anaconda3\\lib\\site-packages\\ipykernel\\kernelbase.py\n",
       "\u001b[1;31mType:\u001b[0m      method\n"
      ]
     },
     "metadata": {},
     "output_type": "display_data"
    }
   ],
   "source": [
    "? input"
   ]
  },
  {
   "cell_type": "markdown",
   "id": "therapeutic-orientation",
   "metadata": {},
   "source": [
    "To prevent the input statements from holding up the Python Kernel, the code containing input statements will be placed in a markdown cell and screenshots of the output will be placed in the markdown cell."
   ]
  },
  {
   "cell_type": "markdown",
   "id": "eight-archive",
   "metadata": {},
   "source": [
    "```\n",
    "yourname=input(prompt='What is your name?')\n",
    "print(f'hello {yourname}')\n",
    "```"
   ]
  },
  {
   "cell_type": "markdown",
   "id": "worthy-burst",
   "metadata": {},
   "source": [
    "When it is ran the cell will be marked with a ```*```. The dialog box will display waiting for the user to input a ```str```."
   ]
  },
  {
   "cell_type": "markdown",
   "id": "cheap-homework",
   "metadata": {},
   "source": [
    "![input_statement1](input_statement1.png)"
   ]
  },
  {
   "cell_type": "markdown",
   "id": "verified-father",
   "metadata": {},
   "source": [
    "Anything the user inputs will be converted to a ```str``` (the user should not include the quotations) and in this case the ```str``` input by the user will be incorporated into the ```print``` statement."
   ]
  },
  {
   "cell_type": "markdown",
   "id": "authorized-porter",
   "metadata": {},
   "source": [
    "![input_statement2](input_statement2.png)"
   ]
  },
  {
   "cell_type": "markdown",
   "id": "viral-spectacular",
   "metadata": {},
   "source": [
    "Input statements always return a ```str``` and therefore the following code will not work as intended."
   ]
  },
  {
   "cell_type": "markdown",
   "id": "sunset-separation",
   "metadata": {},
   "source": [
    "```\n",
    "number1=input(prompt='input a number')\n",
    "number2=input(prompt='input a second number')\n",
    "total=number1+number2\n",
    "print(f'the sum of your numbers is {total}')\n",
    "```"
   ]
  },
  {
   "cell_type": "markdown",
   "id": "certain-clearance",
   "metadata": {},
   "source": [
    "The value total returned is ```'22'``` opposed to ```'4'```."
   ]
  },
  {
   "cell_type": "markdown",
   "id": "helpful-period",
   "metadata": {},
   "source": [
    "![input_statement3](input_statement3.png)"
   ]
  },
  {
   "cell_type": "markdown",
   "id": "dress-aging",
   "metadata": {},
   "source": [
    "If we look at the types."
   ]
  },
  {
   "cell_type": "markdown",
   "id": "excited-blair",
   "metadata": {},
   "source": [
    "```type(number1)```"
   ]
  },
  {
   "cell_type": "markdown",
   "id": "negative-interference",
   "metadata": {},
   "source": [
    "```type(number2)```"
   ]
  },
  {
   "cell_type": "markdown",
   "id": "upset-burst",
   "metadata": {},
   "source": [
    "We see they are both of the type ```str```."
   ]
  },
  {
   "cell_type": "markdown",
   "id": "forward-glasgow",
   "metadata": {},
   "source": [
    "![input_statement4](input_statement4.png)"
   ]
  },
  {
   "cell_type": "markdown",
   "id": "removed-fundamental",
   "metadata": {},
   "source": [
    "This means our code essentially does this."
   ]
  },
  {
   "cell_type": "code",
   "execution_count": 115,
   "id": "correct-region",
   "metadata": {},
   "outputs": [
    {
     "data": {
      "text/plain": [
       "'22'"
      ]
     },
     "execution_count": 115,
     "metadata": {},
     "output_type": "execute_result"
    }
   ],
   "source": [
    "'2'+'2'"
   ]
  },
  {
   "cell_type": "markdown",
   "id": "sticky-singles",
   "metadata": {},
   "source": [
    "Recall that the ```+``` add operator for a ```str``` performs concatenation and not addition like we want in this example."
   ]
  },
  {
   "cell_type": "code",
   "execution_count": 116,
   "id": "representative-testimony",
   "metadata": {},
   "outputs": [
    {
     "data": {
      "text/plain": [
       "4"
      ]
     },
     "execution_count": 116,
     "metadata": {},
     "output_type": "execute_result"
    }
   ],
   "source": [
    "2+2"
   ]
  },
  {
   "cell_type": "markdown",
   "id": "published-archives",
   "metadata": {},
   "source": [
    "To get around this we need to convert our ```str``` into a number."
   ]
  },
  {
   "cell_type": "code",
   "execution_count": 117,
   "id": "greek-leader",
   "metadata": {},
   "outputs": [],
   "source": [
    "k='2'"
   ]
  },
  {
   "cell_type": "markdown",
   "id": "grateful-wireless",
   "metadata": {},
   "source": [
    "Since the numer is a str of an ```int```, we can use the ```int``` class to do this."
   ]
  },
  {
   "cell_type": "code",
   "execution_count": 118,
   "id": "thick-delaware",
   "metadata": {},
   "outputs": [],
   "source": [
    "k=int(k)"
   ]
  },
  {
   "cell_type": "markdown",
   "id": "civilian-allowance",
   "metadata": {},
   "source": [
    "```\n",
    "number1=input(prompt='input a number')\n",
    "number1=int(number1)\n",
    "number2=input(prompt='input a second number')\n",
    "number2=int(number2)\n",
    "total=number1+number2\n",
    "print(f'the sum of your numbers is {total}')\n",
    "```"
   ]
  },
  {
   "cell_type": "markdown",
   "id": "brave-wheat",
   "metadata": {},
   "source": [
    "This works when both numbers input are ```int``` as expected."
   ]
  },
  {
   "cell_type": "markdown",
   "id": "available-characterization",
   "metadata": {},
   "source": [
    "![input_statement5](input_statement5.png)"
   ]
  },
  {
   "cell_type": "markdown",
   "id": "neutral-walter",
   "metadata": {},
   "source": [
    "However if the number being input is input as a ```float``` it will lead to a ```ValueError```. This is because the class ```int``` does not recognise a ```str``` with a ```.``` in it as valid."
   ]
  },
  {
   "cell_type": "markdown",
   "id": "refined-triumph",
   "metadata": {},
   "source": [
    "![input_valueerror](input_valueerror.png)"
   ]
  },
  {
   "cell_type": "markdown",
   "id": "multiple-acceptance",
   "metadata": {},
   "source": [
    "To get around this we can use the ```float``` class instead."
   ]
  },
  {
   "cell_type": "markdown",
   "id": "loving-principal",
   "metadata": {},
   "source": [
    "```\n",
    "number1=input(prompt='input a number')\n",
    "number1=float(number1)\n",
    "number2=input(prompt='input a second number')\n",
    "number2=float(number2)\n",
    "total=number1+number2\n",
    "print(f'the sum of your numbers is {total}')\n",
    "```"
   ]
  },
  {
   "cell_type": "markdown",
   "id": "natural-circuit",
   "metadata": {},
   "source": [
    "![input_statement6](input_statement6.png)"
   ]
  },
  {
   "cell_type": "markdown",
   "id": "refined-probe",
   "metadata": {},
   "source": [
    "## if, elif and else Branching"
   ]
  },
  {
   "cell_type": "markdown",
   "id": "bigger-browse",
   "metadata": {},
   "source": [
    "So far all the code above has been procedural, starting from the top of a cell and continuing down to the bottom of the cell. Sometimes we may want to construct a condition (using a Boolean value) and then execute certain code only if the condition is satisfied.\n",
    "\n",
    "An analogy to this is driving a car. So far we have only travelled straight and have not had the ability to turn either left or right."
   ]
  },
  {
   "cell_type": "markdown",
   "id": "essential-emergency",
   "metadata": {},
   "source": [
    "We can use an ```if``` statement containing a condition that will execute the code belonging to the ```if``` statement only ```if``` the condition is ```True```."
   ]
  },
  {
   "cell_type": "code",
   "execution_count": 119,
   "id": "solid-biotechnology",
   "metadata": {},
   "outputs": [
    {
     "name": "stdout",
     "output_type": "stream",
     "text": [
      "Condition is True\n",
      "Continuing as Usual\n"
     ]
    }
   ],
   "source": [
    "condition=True\n",
    "if condition:\n",
    "    print('Condition is True')\n",
    "\n",
    "print('Continuing as Usual')"
   ]
  },
  {
   "cell_type": "code",
   "execution_count": 120,
   "id": "opponent-legislature",
   "metadata": {},
   "outputs": [
    {
     "name": "stdout",
     "output_type": "stream",
     "text": [
      "Continuing as Usual\n"
     ]
    }
   ],
   "source": [
    "condition=False\n",
    "if condition:\n",
    "    print('Condition is True')\n",
    "\n",
    "print('Continuing as Usual')"
   ]
  },
  {
   "cell_type": "markdown",
   "id": "biological-beach",
   "metadata": {},
   "source": [
    "Comparing the two above we see that ```'Condition is True'``` is only printed for the top cell and not in the bottom cell."
   ]
  },
  {
   "cell_type": "markdown",
   "id": "adverse-internet",
   "metadata": {},
   "source": [
    "Let's have a look at the syntax in more detail. Following the ```if``` statement there is a condition and then a ```:``` The ```:``` indicates the beginning of a code block. Any code belonging to the code block must be indented by 4 spaces. A blank line is usually also left after ending a group of code blocks.\n",
    "\n",
    "Code that is not indented does not belong to the code block and will be implemented regardless of the condition."
   ]
  },
  {
   "cell_type": "markdown",
   "id": "constitutional-wagner",
   "metadata": {},
   "source": [
    "An ```if``` code block can be associated with an ```else``` code block. Once again a colon ```:``` is used to denote the beginning of a code block and any code belonging to the code block is indented by 4 spaces. There is no condition stated after the keyword ```else``` as by definition it will be carried out when the condition checked in the ```if``` statement is ```False```."
   ]
  },
  {
   "cell_type": "code",
   "execution_count": 121,
   "id": "professional-chamber",
   "metadata": {},
   "outputs": [
    {
     "name": "stdout",
     "output_type": "stream",
     "text": [
      "Condition is True\n",
      "Continuing as Usual\n"
     ]
    }
   ],
   "source": [
    "condition=True\n",
    "if condition:\n",
    "    print('Condition is True')\n",
    "else:\n",
    "    print('Condition is False')\n",
    "\n",
    "print('Continuing as Usual')"
   ]
  },
  {
   "cell_type": "code",
   "execution_count": 122,
   "id": "novel-import",
   "metadata": {},
   "outputs": [
    {
     "name": "stdout",
     "output_type": "stream",
     "text": [
      "Condition is False\n",
      "Continuing as Usual\n"
     ]
    }
   ],
   "source": [
    "condition=False\n",
    "if condition:\n",
    "    print('Condition is True')\n",
    "else:\n",
    "    print('Condition is False')\n",
    "\n",
    "print('Continuing as Usual')"
   ]
  },
  {
   "cell_type": "markdown",
   "id": "passing-second",
   "metadata": {},
   "source": [
    "A number of ```elif``` conditions (an abbreviation for else if) code blocks can be created in a similar manner. Returning to the analogy of a car, think of this as multiple way junction."
   ]
  },
  {
   "cell_type": "code",
   "execution_count": 123,
   "id": "convertible-horizontal",
   "metadata": {},
   "outputs": [
    {
     "name": "stdout",
     "output_type": "stream",
     "text": [
      "Condition 2 is True\n",
      "Continuing as Usual\n"
     ]
    }
   ],
   "source": [
    "condition1=False\n",
    "condition2=True\n",
    "if condition1:\n",
    "    print('Condition 1 is True')\n",
    "elif condition2:\n",
    "    print('Condition 2 is True')\n",
    "else:\n",
    "    print('Conditions are False')\n",
    "\n",
    "print('Continuing as Usual')"
   ]
  },
  {
   "cell_type": "markdown",
   "id": "mysterious-parallel",
   "metadata": {},
   "source": [
    "Note when using ```if```, ```elif``` and ```else``` code blocks only the top code block that has a ```True``` condition will be implemented. In the example below the ```elif``` code block is not executed because the ```if``` code block has been executed. Returning to the analogy of a car and a multi-way junction, the car has already turned and exited the junction."
   ]
  },
  {
   "cell_type": "code",
   "execution_count": 124,
   "id": "increased-memphis",
   "metadata": {},
   "outputs": [
    {
     "name": "stdout",
     "output_type": "stream",
     "text": [
      "Condition 1 is True\n",
      "Continuing as Usual\n"
     ]
    }
   ],
   "source": [
    "condition1=True\n",
    "condition2=True\n",
    "if condition1:\n",
    "    print('Condition 1 is True')\n",
    "elif condition2:\n",
    "    print('Condition 2 is True')\n",
    "else:\n",
    "    print('Conditions are False')\n",
    "\n",
    "print('Continuing as Usual')"
   ]
  },
  {
   "cell_type": "markdown",
   "id": "loving-physiology",
   "metadata": {},
   "source": [
    "The code above can therefore be amended to check for both conditions using ```and``` or ```&``` (either the full word or the symbol can be used) which will return ```True``` only ```if``` both conditions are ```True```."
   ]
  },
  {
   "cell_type": "code",
   "execution_count": 125,
   "id": "statutory-plant",
   "metadata": {},
   "outputs": [
    {
     "name": "stdout",
     "output_type": "stream",
     "text": [
      "Condition 1 is True\n",
      "Condition 2 is True\n",
      "Continuing as Usual\n"
     ]
    }
   ],
   "source": [
    "condition1=True\n",
    "condition2=True\n",
    "if condition1 & condition2:\n",
    "    print('Condition 1 is True')\n",
    "    print('Condition 2 is True')   \n",
    "elif condition1:\n",
    "    print('Condition 1 is True')\n",
    "elif condition2:\n",
    "    print('Condition 2 is True')    \n",
    "else:\n",
    "    print('Conditions are False')\n",
    "\n",
    "print('Continuing as Usual')"
   ]
  },
  {
   "cell_type": "markdown",
   "id": "velvet-banks",
   "metadata": {},
   "source": [
    "Alternatively it can be amended to use ```or``` or ```|``` (once again either the full word or the symbol can be used) which will return ```True``` ```if``` either one of the conditions are ```True```."
   ]
  },
  {
   "cell_type": "code",
   "execution_count": 126,
   "id": "ranging-interval",
   "metadata": {},
   "outputs": [
    {
     "name": "stdout",
     "output_type": "stream",
     "text": [
      "A Condition is True\n",
      "Continuing as Usual\n"
     ]
    }
   ],
   "source": [
    "condition1=True\n",
    "condition2=True\n",
    "if condition1 | condition2:\n",
    "    print('A Condition is True')\n",
    "else:\n",
    "    print('Conditions are False')\n",
    "\n",
    "print('Continuing as Usual')"
   ]
  },
  {
   "cell_type": "markdown",
   "id": "senior-identification",
   "metadata": {},
   "source": [
    "```if```, ```elif```, ```else``` statements can be nested. Take careful note where the ```:``` and 4 character indentations are used."
   ]
  },
  {
   "cell_type": "code",
   "execution_count": 127,
   "id": "oriented-symposium",
   "metadata": {},
   "outputs": [
    {
     "name": "stdout",
     "output_type": "stream",
     "text": [
      "A Condition is True\n",
      "Condition 1 is True\n",
      "Continuing as Usual\n"
     ]
    }
   ],
   "source": [
    "condition1=True\n",
    "condition2=True\n",
    "if condition1 | condition2:\n",
    "    print('A Condition is True')\n",
    "    if condition1:\n",
    "        print('Condition 1 is True')\n",
    "    else:\n",
    "        print('Condition 2 is True')\n",
    "else:\n",
    "    print('Conditions are False')\n",
    "\n",
    "print('Continuing as Usual')"
   ]
  },
  {
   "cell_type": "markdown",
   "id": "representative-rainbow",
   "metadata": {},
   "source": [
    "## try and except Branching"
   ]
  },
  {
   "cell_type": "markdown",
   "id": "interstate-coating",
   "metadata": {},
   "source": [
    "Earlier we used the ```input``` function to import a ```float``` (in the form of a ```str```) and then when we attempted to convert it to an ```int``` we got a ```ValueError```. We can instead use a ```try``` code block and an ```except``` code block. These branches share commonalities with the ```if``` and ```else``` blocks except they use the absence and presence of an error as a condition."
   ]
  },
  {
   "cell_type": "code",
   "execution_count": 128,
   "id": "prerequisite-arcade",
   "metadata": {},
   "outputs": [
    {
     "name": "stdout",
     "output_type": "stream",
     "text": [
      "k is not an int and is unchanged.\n"
     ]
    }
   ],
   "source": [
    "k='2.1'\n",
    "try:\n",
    "    k=int(k)\n",
    "except:\n",
    "    print('k is not an int and is unchanged.')"
   ]
  },
  {
   "cell_type": "markdown",
   "id": "provincial-novelty",
   "metadata": {},
   "source": [
    "```except``` can be setup to look for a specific error, in this case let's look for both a ```NameError``` and ```ValueError```."
   ]
  },
  {
   "cell_type": "code",
   "execution_count": 129,
   "id": "realistic-monthly",
   "metadata": {},
   "outputs": [
    {
     "name": "stdout",
     "output_type": "stream",
     "text": [
      "ValueError. k is not an int and is unchanged.\n"
     ]
    }
   ],
   "source": [
    "k='2.1'\n",
    "try:\n",
    "    k=int(k)\n",
    "except NameError:\n",
    "    print('NameError. k is not assigned.')\n",
    "except ValueError:\n",
    "    print('ValueError. k is not an int and is unchanged.')\n",
    "except:\n",
    "    print('Some other error. k is unchanged.')"
   ]
  },
  {
   "cell_type": "markdown",
   "id": "bored-place",
   "metadata": {},
   "source": [
    "We can modify the code to delete the object ```k``` before entering the ```try``` code block which will give a ```NameError```."
   ]
  },
  {
   "cell_type": "code",
   "execution_count": 130,
   "id": "based-community",
   "metadata": {},
   "outputs": [
    {
     "name": "stdout",
     "output_type": "stream",
     "text": [
      "NameError. k is not assigned.\n"
     ]
    }
   ],
   "source": [
    "del(k)\n",
    "try:\n",
    "    k=int(k)\n",
    "except NameError:\n",
    "    print('NameError. k is not assigned.')\n",
    "except ValueError:\n",
    "    print('ValueError. k is not an int and is unchanged.')\n",
    "except:\n",
    "    print('Some other error. k is unchanged.')"
   ]
  },
  {
   "cell_type": "markdown",
   "id": "expected-association",
   "metadata": {},
   "source": [
    "```ValueError``` will display if ```k``` is a ```str``` of a ```float``` or a ```str``` of alphabetical characters. We can usenested ```try``` and ```except``` code blocks to attempt to ```try``` to convert ```k``` to a ```float``` or to inform the user that ```k``` is neither an ```int``` or ```float```. Let's test this by assigning ```k``` to ```'2.1'``` and ```'a'``` respectively."
   ]
  },
  {
   "cell_type": "code",
   "execution_count": 131,
   "id": "pleasant-abortion",
   "metadata": {},
   "outputs": [
    {
     "name": "stdout",
     "output_type": "stream",
     "text": [
      "k is a float.\n"
     ]
    }
   ],
   "source": [
    "k='2.1'\n",
    "try:\n",
    "    k=int(k)\n",
    "    print('k is an int')\n",
    "except NameError:\n",
    "    print('NameError. k is not assigned.')\n",
    "except ValueError:\n",
    "    try:\n",
    "        k=float(k)\n",
    "        print('k is a float.')\n",
    "    except:\n",
    "        print('ValueError. k is not an int or float and is unchanged.')        \n",
    "except:\n",
    "    print('Some other error. k is not an int and is unchanged.')"
   ]
  },
  {
   "cell_type": "code",
   "execution_count": 132,
   "id": "surrounded-society",
   "metadata": {},
   "outputs": [
    {
     "name": "stdout",
     "output_type": "stream",
     "text": [
      "ValueError. k is not an int or float and is unchanged.\n"
     ]
    }
   ],
   "source": [
    "k='a'\n",
    "try:\n",
    "    k=int(k)\n",
    "    print('k is an int')\n",
    "except NameError:\n",
    "    print('NameError. k is not assigned.')\n",
    "except ValueError:\n",
    "    try:\n",
    "        k=float(k)\n",
    "        print('k is a float.')\n",
    "    except:\n",
    "        print('ValueError. k is not an int or float and is unchanged.')        \n",
    "except:\n",
    "    print('Some other error. k is not an int and is unchanged.')"
   ]
  },
  {
   "cell_type": "markdown",
   "id": "surprising-photographer",
   "metadata": {},
   "source": [
    "It is also possible to check for a condition and raise an error using the keyword ```raise```."
   ]
  },
  {
   "cell_type": "markdown",
   "id": "written-hammer",
   "metadata": {},
   "source": [
    "```\n",
    "k='a'\n",
    "if type(k)!=int:\n",
    "        raise TypeError('k must be an int')\n",
    "```"
   ]
  },
  {
   "cell_type": "markdown",
   "id": "sustainable-thesis",
   "metadata": {},
   "source": [
    "![raise_error](raise_error.png)"
   ]
  },
  {
   "cell_type": "markdown",
   "id": "historical-lebanon",
   "metadata": {},
   "source": [
    "## Custom functions"
   ]
  },
  {
   "cell_type": "markdown",
   "id": "detailed-paper",
   "metadata": {},
   "source": [
    "We have already seen how to use inbuilt functions such as ```print``` and ```input```."
   ]
  },
  {
   "cell_type": "code",
   "execution_count": 133,
   "id": "ready-henry",
   "metadata": {},
   "outputs": [
    {
     "data": {
      "text/plain": [
       "<function print>"
      ]
     },
     "execution_count": 133,
     "metadata": {},
     "output_type": "execute_result"
    }
   ],
   "source": [
    "print"
   ]
  },
  {
   "cell_type": "code",
   "execution_count": 134,
   "id": "baking-albania",
   "metadata": {},
   "outputs": [
    {
     "data": {
      "text/plain": [
       "<bound method Kernel.raw_input of <ipykernel.ipkernel.IPythonKernel object at 0x000002B353E60760>>"
      ]
     },
     "execution_count": 134,
     "metadata": {},
     "output_type": "execute_result"
    }
   ],
   "source": [
    "input"
   ]
  },
  {
   "cell_type": "markdown",
   "id": "removable-playing",
   "metadata": {},
   "source": [
    "When these are called without parenthesis we just get told that they are a function."
   ]
  },
  {
   "cell_type": "markdown",
   "id": "robust-disposition",
   "metadata": {},
   "source": [
    "To use a function it must be called with parenthesis. Details about the input arguments can be found by typing in the function followed by ```↹``` and ```⇧``` or output to a cell by typing in ```?``` followed by the methods name (called from the object). "
   ]
  },
  {
   "cell_type": "code",
   "execution_count": 135,
   "id": "social-writing",
   "metadata": {},
   "outputs": [
    {
     "data": {
      "text/plain": [
       "\u001b[1;31mDocstring:\u001b[0m\n",
       "print(value, ..., sep=' ', end='\\n', file=sys.stdout, flush=False)\n",
       "\n",
       "Prints the values to a stream, or to sys.stdout by default.\n",
       "Optional keyword arguments:\n",
       "file:  a file-like object (stream); defaults to the current sys.stdout.\n",
       "sep:   string inserted between values, default a space.\n",
       "end:   string appended after the last value, default a newline.\n",
       "flush: whether to forcibly flush the stream.\n",
       "\u001b[1;31mType:\u001b[0m      builtin_function_or_method\n"
      ]
     },
     "metadata": {},
     "output_type": "display_data"
    }
   ],
   "source": [
    "? print"
   ]
  },
  {
   "cell_type": "markdown",
   "id": "cellular-counter",
   "metadata": {},
   "source": [
    "We can call this function with positional and keyword input arguments as discussed in more detail above."
   ]
  },
  {
   "cell_type": "code",
   "execution_count": 136,
   "id": "muslim-safety",
   "metadata": {},
   "outputs": [
    {
     "name": "stdout",
     "output_type": "stream",
     "text": [
      "hello---goodbye\n"
     ]
    }
   ],
   "source": [
    "print('hello','goodbye',sep='---')"
   ]
  },
  {
   "cell_type": "markdown",
   "id": "spectacular-humanitarian",
   "metadata": {},
   "source": [
    "With the above in mind we can create our own function. \n",
    "\n",
    "First we need to define the function using the keyword ```def``` followed by the function name (which follows the same rules behind object names) and parenthesis. Then we use a ```:``` to start a code block. Like the code blocks we've seen earlier any code belonging to the code block is indented by 4 spaces. Let's create a custom ```print_three``` function. This will have no input arguments."
   ]
  },
  {
   "cell_type": "code",
   "execution_count": 137,
   "id": "precise-expert",
   "metadata": {},
   "outputs": [],
   "source": [
    "def print_three():\n",
    "    print(3)"
   ]
  },
  {
   "cell_type": "markdown",
   "id": "forward-skirt",
   "metadata": {},
   "source": [
    "If we call it without any parenthesis we will just be informed that it is a function."
   ]
  },
  {
   "cell_type": "code",
   "execution_count": 138,
   "id": "competent-atmosphere",
   "metadata": {},
   "outputs": [
    {
     "data": {
      "text/plain": [
       "<function __main__.print_three()>"
      ]
     },
     "execution_count": 138,
     "metadata": {},
     "output_type": "execute_result"
    }
   ],
   "source": [
    "print_three"
   ]
  },
  {
   "cell_type": "markdown",
   "id": "silent-first",
   "metadata": {},
   "source": [
    "Details about the input arguments can be found by typing in the function followed by ```↹``` and ```⇧``` or output to a cell by typing in ```?``` followed by the functions name. \n",
    "\n",
    "In this case we have not provided a Docstring so we get no details about the function. We can update it to include one. We use triple quotations to denote the creation of a Docstring."
   ]
  },
  {
   "cell_type": "code",
   "execution_count": 139,
   "id": "lesbian-naples",
   "metadata": {},
   "outputs": [
    {
     "data": {
      "text/plain": [
       "\u001b[1;31mSignature:\u001b[0m  \u001b[0mprint_three\u001b[0m\u001b[1;33m(\u001b[0m\u001b[1;33m)\u001b[0m\u001b[1;33m\u001b[0m\u001b[1;33m\u001b[0m\u001b[0m\n",
       "\u001b[1;31mDocstring:\u001b[0m <no docstring>\n",
       "\u001b[1;31mFile:\u001b[0m      c:\\users\\phili\\documents\\1. object orientated programming\\<ipython-input-137-42746b27e68e>\n",
       "\u001b[1;31mType:\u001b[0m      function\n"
      ]
     },
     "metadata": {},
     "output_type": "display_data"
    }
   ],
   "source": [
    "? print_three"
   ]
  },
  {
   "cell_type": "code",
   "execution_count": 140,
   "id": "changed-alexandria",
   "metadata": {},
   "outputs": [],
   "source": [
    "def print_three():\n",
    "    '''This will print the number 3.'''\n",
    "    print(3)"
   ]
  },
  {
   "cell_type": "markdown",
   "id": "incident-capability",
   "metadata": {},
   "source": [
    "Now the Docstring displays. Note we do not mention any details about input arguments in the custom function so the user will therefore infer that the function has no input arguments."
   ]
  },
  {
   "cell_type": "code",
   "execution_count": 141,
   "id": "partial-mystery",
   "metadata": {},
   "outputs": [
    {
     "data": {
      "text/plain": [
       "\u001b[1;31mSignature:\u001b[0m  \u001b[0mprint_three\u001b[0m\u001b[1;33m(\u001b[0m\u001b[1;33m)\u001b[0m\u001b[1;33m\u001b[0m\u001b[1;33m\u001b[0m\u001b[0m\n",
       "\u001b[1;31mDocstring:\u001b[0m This will print the number 3.\n",
       "\u001b[1;31mFile:\u001b[0m      c:\\users\\phili\\documents\\1. object orientated programming\\<ipython-input-140-f8cd78fca3d6>\n",
       "\u001b[1;31mType:\u001b[0m      function\n"
      ]
     },
     "metadata": {},
     "output_type": "display_data"
    }
   ],
   "source": [
    "? print_three"
   ]
  },
  {
   "cell_type": "markdown",
   "id": "industrial-lightweight",
   "metadata": {},
   "source": [
    "The custom function can therefore be called and prints the number 3 as expected."
   ]
  },
  {
   "cell_type": "code",
   "execution_count": 142,
   "id": "hollywood-genetics",
   "metadata": {},
   "outputs": [
    {
     "name": "stdout",
     "output_type": "stream",
     "text": [
      "3\n"
     ]
    }
   ],
   "source": [
    "print_three()"
   ]
  },
  {
   "cell_type": "markdown",
   "id": "architectural-boundary",
   "metadata": {},
   "source": [
    "There are 25.4 mm in an inch. Let's create a custom function that converts inches to mm. This will have a single positional input argument ```input_inches```."
   ]
  },
  {
   "cell_type": "code",
   "execution_count": 143,
   "id": "valid-halloween",
   "metadata": {},
   "outputs": [],
   "source": [
    "def inch2mm(input_inches):\n",
    "    '''Prints the value of input_inches to output_mm.'''\n",
    "    output_mm=25.4*input_inches\n",
    "    print(output_mm)"
   ]
  },
  {
   "cell_type": "markdown",
   "id": "powerful-greensboro",
   "metadata": {},
   "source": [
    "Details about the input arguments can be found by typing in the function name followed by ```↹``` and ```⇧``` or output to a cell by typing in ```?``` followed by the functions name. "
   ]
  },
  {
   "cell_type": "code",
   "execution_count": 144,
   "id": "narrow-burns",
   "metadata": {},
   "outputs": [
    {
     "data": {
      "text/plain": [
       "\u001b[1;31mSignature:\u001b[0m  \u001b[0minch2mm\u001b[0m\u001b[1;33m(\u001b[0m\u001b[0minput_inches\u001b[0m\u001b[1;33m)\u001b[0m\u001b[1;33m\u001b[0m\u001b[1;33m\u001b[0m\u001b[0m\n",
       "\u001b[1;31mDocstring:\u001b[0m Prints the value of input_inches to output_mm.\n",
       "\u001b[1;31mFile:\u001b[0m      c:\\users\\phili\\documents\\1. object orientated programming\\<ipython-input-143-6950858db14b>\n",
       "\u001b[1;31mType:\u001b[0m      function\n"
      ]
     },
     "metadata": {},
     "output_type": "display_data"
    }
   ],
   "source": [
    "? inch2mm"
   ]
  },
  {
   "cell_type": "markdown",
   "id": "turkish-amino",
   "metadata": {},
   "source": [
    "Now we can use it to print the value of 2 inches."
   ]
  },
  {
   "cell_type": "code",
   "execution_count": 145,
   "id": "covered-integrity",
   "metadata": {},
   "outputs": [
    {
     "name": "stdout",
     "output_type": "stream",
     "text": [
      "50.8\n"
     ]
    }
   ],
   "source": [
    "inch2mm(2)"
   ]
  },
  {
   "cell_type": "markdown",
   "id": "earned-given",
   "metadata": {},
   "source": [
    "Note that we have used the print statement to print the output."
   ]
  },
  {
   "cell_type": "code",
   "execution_count": 146,
   "id": "powerful-manchester",
   "metadata": {},
   "outputs": [
    {
     "name": "stdout",
     "output_type": "stream",
     "text": [
      "50.8\n"
     ]
    }
   ],
   "source": [
    "dim=inch2mm(2)"
   ]
  },
  {
   "cell_type": "markdown",
   "id": "superior-farmer",
   "metadata": {},
   "source": [
    "The print statement has the return value ```NoneType```. This means if we assign it to an object name, the value prints but the object name is assigned to ```NoneType```. This is not that useful if we wish to use it for further calculations."
   ]
  },
  {
   "cell_type": "code",
   "execution_count": 147,
   "id": "together-taylor",
   "metadata": {},
   "outputs": [],
   "source": [
    "dim"
   ]
  },
  {
   "cell_type": "code",
   "execution_count": 148,
   "id": "protecting-interpretation",
   "metadata": {},
   "outputs": [
    {
     "data": {
      "text/plain": [
       "NoneType"
      ]
     },
     "execution_count": 148,
     "metadata": {},
     "output_type": "execute_result"
    }
   ],
   "source": [
    "type(dim)"
   ]
  },
  {
   "cell_type": "markdown",
   "id": "expressed-stations",
   "metadata": {},
   "source": [
    "We can use the ```return``` statement to assign the functions return value."
   ]
  },
  {
   "cell_type": "code",
   "execution_count": 149,
   "id": "norwegian-compatibility",
   "metadata": {},
   "outputs": [],
   "source": [
    "def inch2mm(input_inches):\n",
    "    '''Returns the value of input_inches to output_mm.'''\n",
    "    output_mm=25.4*input_inches\n",
    "    return(output_mm)"
   ]
  },
  {
   "cell_type": "markdown",
   "id": "assigned-internship",
   "metadata": {},
   "source": [
    "When the function is called and assigned to an object name, nothing displays."
   ]
  },
  {
   "cell_type": "code",
   "execution_count": 150,
   "id": "meaningful-brand",
   "metadata": {},
   "outputs": [],
   "source": [
    "dim=inch2mm(2)"
   ]
  },
  {
   "cell_type": "markdown",
   "id": "antique-vietnamese",
   "metadata": {},
   "source": [
    "However when we type in ```dim``` within a cell or use the ```print(dim)``` statement we see the value."
   ]
  },
  {
   "cell_type": "code",
   "execution_count": 151,
   "id": "behavioral-density",
   "metadata": {},
   "outputs": [
    {
     "data": {
      "text/plain": [
       "50.8"
      ]
     },
     "execution_count": 151,
     "metadata": {},
     "output_type": "execute_result"
    }
   ],
   "source": [
    "dim"
   ]
  },
  {
   "cell_type": "markdown",
   "id": "selective-celtic",
   "metadata": {},
   "source": [
    "We can update our function to use a keyword input argument ```input_inches``` with a default value of 1 inch. This can be a useful default if we want to just reference the conversion factor."
   ]
  },
  {
   "cell_type": "code",
   "execution_count": 152,
   "id": "prostate-recruitment",
   "metadata": {},
   "outputs": [],
   "source": [
    "def inch2mm(input_inches=1):\n",
    "    '''Returns the value of input_inches to output_mm.'''\n",
    "    output_mm=25.4*input_inches\n",
    "    return(output_mm)"
   ]
  },
  {
   "cell_type": "code",
   "execution_count": 153,
   "id": "damaged-championship",
   "metadata": {},
   "outputs": [
    {
     "data": {
      "text/plain": [
       "25.4"
      ]
     },
     "execution_count": 153,
     "metadata": {},
     "output_type": "execute_result"
    }
   ],
   "source": [
    "dim=inch2mm()\n",
    "dim"
   ]
  },
  {
   "cell_type": "code",
   "execution_count": 154,
   "id": "vietnamese-value",
   "metadata": {},
   "outputs": [
    {
     "data": {
      "text/plain": [
       "50.8"
      ]
     },
     "execution_count": 154,
     "metadata": {},
     "output_type": "execute_result"
    }
   ],
   "source": [
    "dim1=inch2mm(input_inches=2)\n",
    "dim1"
   ]
  },
  {
   "cell_type": "markdown",
   "id": "short-punishment",
   "metadata": {},
   "source": [
    "## Lambda functions or lambda expressions"
   ]
  },
  {
   "cell_type": "markdown",
   "id": "russian-phase",
   "metadata": {},
   "source": [
    "Sometimes we require a small anonymous function that is only used a handful of times. This can be achieved by using a ```lambda``` function or ```lambda``` expression. A ```lambda``` function can have multiple arguments but has only has a single expression. The positional input arguments follow from the ```lambda``` expression using a ```,``` as a delimiter. The ```:``` is used before the expression (which can be thought of as the return statement). This is a one line function so there is no code block with indentation like in a regular function.\n",
    "\n",
    "We can recreate ```inch2mm``` as a ```lambda``` expression."
   ]
  },
  {
   "cell_type": "code",
   "execution_count": 155,
   "id": "fossil-facility",
   "metadata": {},
   "outputs": [],
   "source": [
    "inch2mm=lambda a: 25.4*a"
   ]
  },
  {
   "cell_type": "markdown",
   "id": "genetic-dimension",
   "metadata": {},
   "source": [
    "Calling the ```lambda``` function without parenthesis informs us that is is a ```lambda``` expression."
   ]
  },
  {
   "cell_type": "code",
   "execution_count": 156,
   "id": "recent-conducting",
   "metadata": {},
   "outputs": [
    {
     "data": {
      "text/plain": [
       "<function __main__.<lambda>(a)>"
      ]
     },
     "execution_count": 156,
     "metadata": {},
     "output_type": "execute_result"
    }
   ],
   "source": [
    "inch2mm"
   ]
  },
  {
   "cell_type": "markdown",
   "id": "nominated-plastic",
   "metadata": {},
   "source": [
    "We can use it to convert 4 inches to mm."
   ]
  },
  {
   "cell_type": "code",
   "execution_count": 157,
   "id": "provincial-typing",
   "metadata": {},
   "outputs": [],
   "source": [
    "dim3=inch2mm(4)"
   ]
  },
  {
   "cell_type": "code",
   "execution_count": 158,
   "id": "marked-memorabilia",
   "metadata": {},
   "outputs": [
    {
     "data": {
      "text/plain": [
       "101.6"
      ]
     },
     "execution_count": 158,
     "metadata": {},
     "output_type": "execute_result"
    }
   ],
   "source": [
    "dim3"
   ]
  },
  {
   "cell_type": "markdown",
   "id": "continuous-finish",
   "metadata": {},
   "source": [
    "It is possible to create a ```lambda``` expression without input arguments."
   ]
  },
  {
   "cell_type": "code",
   "execution_count": 159,
   "id": "hungarian-terrain",
   "metadata": {},
   "outputs": [],
   "source": [
    "print_three=lambda : print(3)"
   ]
  },
  {
   "cell_type": "code",
   "execution_count": 160,
   "id": "seeing-suspect",
   "metadata": {},
   "outputs": [
    {
     "data": {
      "text/plain": [
       "<function __main__.<lambda>()>"
      ]
     },
     "execution_count": 160,
     "metadata": {},
     "output_type": "execute_result"
    }
   ],
   "source": [
    "print_three"
   ]
  },
  {
   "cell_type": "code",
   "execution_count": 161,
   "id": "brilliant-scotland",
   "metadata": {},
   "outputs": [
    {
     "name": "stdout",
     "output_type": "stream",
     "text": [
      "3\n"
     ]
    }
   ],
   "source": [
    "print_three()"
   ]
  },
  {
   "cell_type": "markdown",
   "id": "vital-extension",
   "metadata": {},
   "source": [
    "In some cases a dummy input argument is expected where the ```lambda``` expression is going to be used."
   ]
  },
  {
   "cell_type": "code",
   "execution_count": 162,
   "id": "metallic-geneva",
   "metadata": {},
   "outputs": [],
   "source": [
    "print_three=lambda a: print(3)"
   ]
  },
  {
   "cell_type": "code",
   "execution_count": 163,
   "id": "received-softball",
   "metadata": {},
   "outputs": [
    {
     "data": {
      "text/plain": [
       "<function __main__.<lambda>(a)>"
      ]
     },
     "execution_count": 163,
     "metadata": {},
     "output_type": "execute_result"
    }
   ],
   "source": [
    "print_three"
   ]
  },
  {
   "cell_type": "markdown",
   "id": "starting-manchester",
   "metadata": {},
   "source": [
    "In this simple example, the expression is independent of the value of the dummy input argument."
   ]
  },
  {
   "cell_type": "code",
   "execution_count": 164,
   "id": "subsequent-outside",
   "metadata": {},
   "outputs": [
    {
     "name": "stdout",
     "output_type": "stream",
     "text": [
      "3\n"
     ]
    }
   ],
   "source": [
    "print_three('a')"
   ]
  },
  {
   "cell_type": "code",
   "execution_count": 165,
   "id": "extensive-logic",
   "metadata": {},
   "outputs": [
    {
     "name": "stdout",
     "output_type": "stream",
     "text": [
      "3\n"
     ]
    }
   ],
   "source": [
    "print_three(1)"
   ]
  },
  {
   "cell_type": "markdown",
   "id": "smooth-equivalent",
   "metadata": {},
   "source": [
    "For comparison we can compare the single line ```lambda``` expression with the creation of a function. "
   ]
  },
  {
   "cell_type": "code",
   "execution_count": 166,
   "id": "available-anxiety",
   "metadata": {},
   "outputs": [],
   "source": [
    "add_xy=lambda x,y: x+y"
   ]
  },
  {
   "cell_type": "code",
   "execution_count": 167,
   "id": "extra-inquiry",
   "metadata": {},
   "outputs": [],
   "source": [
    "def add_xy(x,y):\n",
    "    return(x+y)"
   ]
  },
  {
   "cell_type": "markdown",
   "id": "historic-victoria",
   "metadata": {},
   "source": [
    "Both these defined functions will work in the same way."
   ]
  },
  {
   "cell_type": "code",
   "execution_count": 168,
   "id": "brave-boards",
   "metadata": {},
   "outputs": [
    {
     "data": {
      "text/plain": [
       "3"
      ]
     },
     "execution_count": 168,
     "metadata": {},
     "output_type": "execute_result"
    }
   ],
   "source": [
    "add_xy(1,2)"
   ]
  },
  {
   "cell_type": "markdown",
   "id": "another-vertical",
   "metadata": {},
   "source": [
    "## Range and Looping"
   ]
  },
  {
   "cell_type": "markdown",
   "id": "wrapped-algeria",
   "metadata": {},
   "source": [
    "Another inbuilt class is the ```range``` class. The ```range``` class has a varying number of input arguments. These are referred to as ```start```, ```stop``` and ```step```."
   ]
  },
  {
   "cell_type": "code",
   "execution_count": 169,
   "id": "right-rwanda",
   "metadata": {},
   "outputs": [
    {
     "data": {
      "text/plain": [
       "\u001b[1;31mInit signature:\u001b[0m  \u001b[0mrange\u001b[0m\u001b[1;33m(\u001b[0m\u001b[0mself\u001b[0m\u001b[1;33m,\u001b[0m \u001b[1;33m/\u001b[0m\u001b[1;33m,\u001b[0m \u001b[1;33m*\u001b[0m\u001b[0margs\u001b[0m\u001b[1;33m,\u001b[0m \u001b[1;33m**\u001b[0m\u001b[0mkwargs\u001b[0m\u001b[1;33m)\u001b[0m\u001b[1;33m\u001b[0m\u001b[1;33m\u001b[0m\u001b[0m\n",
       "\u001b[1;31mDocstring:\u001b[0m     \n",
       "range(stop) -> range object\n",
       "range(start, stop[, step]) -> range object\n",
       "\n",
       "Return an object that produces a sequence of integers from start (inclusive)\n",
       "to stop (exclusive) by step.  range(i, j) produces i, i+1, i+2, ..., j-1.\n",
       "start defaults to 0, and stop is omitted!  range(4) produces 0, 1, 2, 3.\n",
       "These are exactly the valid indices for a list of 4 elements.\n",
       "When step is given, it specifies the increment (or decrement).\n",
       "\u001b[1;31mType:\u001b[0m           type\n",
       "\u001b[1;31mSubclasses:\u001b[0m     \n"
      ]
     },
     "metadata": {},
     "output_type": "display_data"
    }
   ],
   "source": [
    "? range"
   ]
  },
  {
   "cell_type": "markdown",
   "id": "stone-soldier",
   "metadata": {},
   "source": [
    "When only a 0th positional input argument is input by the user. It is taken to be ```stop```. ```start``` is automatically assigned to ```0``` and ```step``` is automatically assigned to be ```1```."
   ]
  },
  {
   "cell_type": "code",
   "execution_count": 170,
   "id": "powerful-placement",
   "metadata": {},
   "outputs": [],
   "source": [
    "r=range(10)"
   ]
  },
  {
   "cell_type": "markdown",
   "id": "jewish-american",
   "metadata": {},
   "source": [
    "The ```range``` object has the attributes ```start```, ```stop``` and ```step``` which we can check."
   ]
  },
  {
   "cell_type": "code",
   "execution_count": 171,
   "id": "ongoing-steel",
   "metadata": {},
   "outputs": [
    {
     "data": {
      "text/plain": [
       "0"
      ]
     },
     "execution_count": 171,
     "metadata": {},
     "output_type": "execute_result"
    }
   ],
   "source": [
    "r.start"
   ]
  },
  {
   "cell_type": "code",
   "execution_count": 172,
   "id": "ultimate-console",
   "metadata": {},
   "outputs": [
    {
     "data": {
      "text/plain": [
       "10"
      ]
     },
     "execution_count": 172,
     "metadata": {},
     "output_type": "execute_result"
    }
   ],
   "source": [
    "r.stop"
   ]
  },
  {
   "cell_type": "code",
   "execution_count": 173,
   "id": "polish-separation",
   "metadata": {},
   "outputs": [
    {
     "data": {
      "text/plain": [
       "1"
      ]
     },
     "execution_count": 173,
     "metadata": {},
     "output_type": "execute_result"
    }
   ],
   "source": [
    "r.step"
   ]
  },
  {
   "cell_type": "markdown",
   "id": "together-headline",
   "metadata": {},
   "source": [
    "When a 0th and 1st positional input arguments are input by a user. The 0th positional input argument is taken to be ```start``` and the 1st input argument is taken to be ```stop```. ```step``` is automatically assigned to 1."
   ]
  },
  {
   "cell_type": "code",
   "execution_count": 174,
   "id": "short-continent",
   "metadata": {},
   "outputs": [
    {
     "data": {
      "text/plain": [
       "range(1, 10)"
      ]
     },
     "execution_count": 174,
     "metadata": {},
     "output_type": "execute_result"
    }
   ],
   "source": [
    "range(1,10)"
   ]
  },
  {
   "cell_type": "code",
   "execution_count": 175,
   "id": "seven-beast",
   "metadata": {},
   "outputs": [
    {
     "data": {
      "text/plain": [
       "0"
      ]
     },
     "execution_count": 175,
     "metadata": {},
     "output_type": "execute_result"
    }
   ],
   "source": [
    "r.start"
   ]
  },
  {
   "cell_type": "code",
   "execution_count": 176,
   "id": "controlling-hours",
   "metadata": {},
   "outputs": [
    {
     "data": {
      "text/plain": [
       "10"
      ]
     },
     "execution_count": 176,
     "metadata": {},
     "output_type": "execute_result"
    }
   ],
   "source": [
    "r.stop"
   ]
  },
  {
   "cell_type": "code",
   "execution_count": 177,
   "id": "dated-sigma",
   "metadata": {},
   "outputs": [
    {
     "data": {
      "text/plain": [
       "1"
      ]
     },
     "execution_count": 177,
     "metadata": {},
     "output_type": "execute_result"
    }
   ],
   "source": [
    "r.step"
   ]
  },
  {
   "cell_type": "markdown",
   "id": "elder-tackle",
   "metadata": {},
   "source": [
    "When a 0th, 1st and 2nd positional input arguments are input. The 0th positional input argument is taken to be ```start```, the 1st input argument is taken to be ```stop``` and finally the 2nd positional input argument is taken to be ```step```."
   ]
  },
  {
   "cell_type": "code",
   "execution_count": 178,
   "id": "raising-filename",
   "metadata": {},
   "outputs": [],
   "source": [
    "r=range(1,10,2)"
   ]
  },
  {
   "cell_type": "code",
   "execution_count": 179,
   "id": "consistent-launch",
   "metadata": {},
   "outputs": [
    {
     "data": {
      "text/plain": [
       "1"
      ]
     },
     "execution_count": 179,
     "metadata": {},
     "output_type": "execute_result"
    }
   ],
   "source": [
    "r.start"
   ]
  },
  {
   "cell_type": "code",
   "execution_count": 180,
   "id": "fitted-leave",
   "metadata": {},
   "outputs": [
    {
     "data": {
      "text/plain": [
       "10"
      ]
     },
     "execution_count": 180,
     "metadata": {},
     "output_type": "execute_result"
    }
   ],
   "source": [
    "r.stop"
   ]
  },
  {
   "cell_type": "code",
   "execution_count": 181,
   "id": "collaborative-confirmation",
   "metadata": {},
   "outputs": [
    {
     "data": {
      "text/plain": [
       "2"
      ]
     },
     "execution_count": 181,
     "metadata": {},
     "output_type": "execute_result"
    }
   ],
   "source": [
    "r.step"
   ]
  },
  {
   "cell_type": "markdown",
   "id": "thermal-drawing",
   "metadata": {},
   "source": [
    "Unfortunately, these names do not work as keyword input arguments which would make the range class more consistent with other python classes and functions and make it more accessible for begineers."
   ]
  },
  {
   "cell_type": "markdown",
   "id": "homeless-theorem",
   "metadata": {},
   "source": [
    "```range(start=0,stop=10,step=1)```"
   ]
  },
  {
   "cell_type": "markdown",
   "id": "expected-beast",
   "metadata": {},
   "source": [
    "![range2](range2.png)"
   ]
  },
  {
   "cell_type": "markdown",
   "id": "spanish-ozone",
   "metadata": {},
   "source": [
    "The range object is commonly used in ```for``` loops which are used to repeat a set of commands ```for```  a certain number of times. For example if we want to print ```'hello'``` 10 times we can use the following. "
   ]
  },
  {
   "cell_type": "code",
   "execution_count": 182,
   "id": "comic-taste",
   "metadata": {},
   "outputs": [
    {
     "name": "stdout",
     "output_type": "stream",
     "text": [
      "hello\n",
      "hello\n",
      "hello\n",
      "hello\n",
      "hello\n",
      "hello\n",
      "hello\n",
      "hello\n",
      "hello\n",
      "hello\n"
     ]
    }
   ],
   "source": [
    "for idx in range(10):\n",
    "    print('hello')"
   ]
  },
  {
   "cell_type": "markdown",
   "id": "inner-segment",
   "metadata": {},
   "source": [
    "The keyword ```for``` means we are going to use a ```for``` loop.\n",
    "\n",
    "After the ```for``` keyword we need to specify a loop variable (this can be anything as long as it is in accordance with the rules behind variable names). In this case we used ```idx``` as it corresponds to the index in the range object. \n",
    "\n",
    "The keyword ```in``` means we are looking within an object (```in``` this case, the ```range``` object).\n",
    "\n",
    "Once again the ```:``` means we are beginning a code block. Anything belonging to the code block is indented by four spaces. The code in this code block will be repeatedly executed ```for``` each iteration of the ```for``` loop.\n",
    "\n",
    "We can ```print``` the loop variable ```idx``` instead of the ```str``` ```'hello'```."
   ]
  },
  {
   "cell_type": "code",
   "execution_count": 183,
   "id": "monthly-transfer",
   "metadata": {},
   "outputs": [
    {
     "name": "stdout",
     "output_type": "stream",
     "text": [
      "0\n",
      "1\n",
      "2\n",
      "3\n",
      "4\n",
      "5\n",
      "6\n",
      "7\n",
      "8\n",
      "9\n"
     ]
    }
   ],
   "source": [
    "for idx in range(10):\n",
    "    print(idx)"
   ]
  },
  {
   "cell_type": "markdown",
   "id": "coordinate-drove",
   "metadata": {},
   "source": [
    "We see here that Python uses zero order indexing. This means we count from ```0``` (and include the lower bound ```0```) in steps of ```1``` until we approach the upper bound ```10``` (note that we don't include the upper bound ```10```). In other words Python indexing includes the lower bound and excludes the upper bound."
   ]
  },
  {
   "cell_type": "code",
   "execution_count": 184,
   "id": "pursuant-biotechnology",
   "metadata": {},
   "outputs": [
    {
     "name": "stdout",
     "output_type": "stream",
     "text": [
      "1\n",
      "2\n",
      "3\n",
      "4\n",
      "5\n",
      "6\n",
      "7\n",
      "8\n",
      "9\n"
     ]
    }
   ],
   "source": [
    "for idx in range(1,10):\n",
    "    print(idx)"
   ]
  },
  {
   "cell_type": "code",
   "execution_count": 185,
   "id": "smooth-column",
   "metadata": {},
   "outputs": [
    {
     "name": "stdout",
     "output_type": "stream",
     "text": [
      "1\n",
      "3\n",
      "5\n",
      "7\n",
      "9\n"
     ]
    }
   ],
   "source": [
    "for idx in range(1,10,2):\n",
    "    print(idx)"
   ]
  },
  {
   "cell_type": "markdown",
   "id": "celtic-vinyl",
   "metadata": {},
   "source": [
    "If we return to the above:"
   ]
  },
  {
   "cell_type": "code",
   "execution_count": 186,
   "id": "undefined-recruitment",
   "metadata": {},
   "outputs": [
    {
     "name": "stdout",
     "output_type": "stream",
     "text": [
      "0\n",
      "1\n",
      "2\n",
      "3\n",
      "4\n",
      "5\n",
      "6\n",
      "7\n",
      "8\n",
      "9\n"
     ]
    }
   ],
   "source": [
    "for idx in range(10):\n",
    "    print(idx)"
   ]
  },
  {
   "cell_type": "markdown",
   "id": "alive-transmission",
   "metadata": {},
   "source": [
    "And want the numeric values displayed in the reverse order, note that we have to start at ```9``` (inclusive of the lower bound) and stop at ```-1``` (exclusive of the lower bound) using steps of ```-1```."
   ]
  },
  {
   "cell_type": "code",
   "execution_count": 187,
   "id": "following-bulgaria",
   "metadata": {},
   "outputs": [
    {
     "name": "stdout",
     "output_type": "stream",
     "text": [
      "9\n",
      "8\n",
      "7\n",
      "6\n",
      "5\n",
      "4\n",
      "3\n",
      "2\n",
      "1\n",
      "0\n"
     ]
    }
   ],
   "source": [
    "for idx in range(9,-1,-1):\n",
    "    print(idx)"
   ]
  },
  {
   "cell_type": "markdown",
   "id": "native-signal",
   "metadata": {},
   "source": [
    "The above for loop, looped ```in``` a ```range``` object which can be thought of as a collection of numeric integers. A ```str``` can be thought of as an object that has a collection of characters."
   ]
  },
  {
   "cell_type": "code",
   "execution_count": 188,
   "id": "coordinate-finder",
   "metadata": {},
   "outputs": [
    {
     "name": "stdout",
     "output_type": "stream",
     "text": [
      "h\n",
      "e\n",
      "l\n",
      "l\n",
      "o\n"
     ]
    }
   ],
   "source": [
    "for idx in 'hello':\n",
    "    print(idx)"
   ]
  },
  {
   "cell_type": "markdown",
   "id": "interstate-northwest",
   "metadata": {},
   "source": [
    "Note how ```idx``` is now a letter and not a number. We can actually get both an numeric index and a letter value by using the function enumerate instead."
   ]
  },
  {
   "cell_type": "code",
   "execution_count": 189,
   "id": "anonymous-contributor",
   "metadata": {},
   "outputs": [
    {
     "data": {
      "text/plain": [
       "<enumerate at 0x2b35500c8c0>"
      ]
     },
     "execution_count": 189,
     "metadata": {},
     "output_type": "execute_result"
    }
   ],
   "source": [
    "enumerate('hello')"
   ]
  },
  {
   "cell_type": "code",
   "execution_count": 190,
   "id": "banned-sympathy",
   "metadata": {},
   "outputs": [
    {
     "name": "stdout",
     "output_type": "stream",
     "text": [
      "0 h\n",
      "1 e\n",
      "2 l\n",
      "3 l\n",
      "4 o\n"
     ]
    }
   ],
   "source": [
    "for idx,val in enumerate('hello'):\n",
    "    print(idx,val)"
   ]
  },
  {
   "cell_type": "markdown",
   "id": "appointed-district",
   "metadata": {},
   "source": [
    "We could use these in calculations if we wished."
   ]
  },
  {
   "cell_type": "code",
   "execution_count": 191,
   "id": "needed-banana",
   "metadata": {},
   "outputs": [
    {
     "name": "stdout",
     "output_type": "stream",
     "text": [
      "\n",
      "e\n",
      "ll\n",
      "lll\n",
      "oooo\n"
     ]
    }
   ],
   "source": [
    "for idx,val in enumerate('hello'):\n",
    "    print(idx*val)"
   ]
  },
  {
   "cell_type": "markdown",
   "id": "female-ballet",
   "metadata": {},
   "source": [
    "There is another loop called a ```while``` loop which will loop only ```while``` a condition is satisfied. This can be thought of as an ```if``` code block that loops. The condition is rechecked at the beginning of each loop iteration."
   ]
  },
  {
   "cell_type": "markdown",
   "id": "maritime-portrait",
   "metadata": {},
   "source": [
    "```while condition```"
   ]
  },
  {
   "cell_type": "markdown",
   "id": "absolute-center",
   "metadata": {},
   "source": [
    "Normally an object related to the condition is changed within the code block so the condition is eventually not met and the loop ends."
   ]
  },
  {
   "cell_type": "code",
   "execution_count": 192,
   "id": "alive-costa",
   "metadata": {},
   "outputs": [
    {
     "name": "stdout",
     "output_type": "stream",
     "text": [
      "0\n",
      "1\n",
      "2\n",
      "3\n",
      "4\n"
     ]
    }
   ],
   "source": [
    "counter=0\n",
    "while counter<5:\n",
    "    print(counter)\n",
    "    counter+=1"
   ]
  },
  {
   "cell_type": "markdown",
   "id": "proprietary-redhead",
   "metadata": {},
   "source": [
    "We can see that when the counter had  value of ```4```, the condition was satisfied and the value ```4``` was printed. After the value ```4``` was printed, it got incremented by a value of ```1``` and then the ```while``` loop condition was not satisfied so we exited the ```while``` loop. Therefore the code in the code block was not carried out for a value of ```5```. If we print the value of counter outside the loop we see it is ```5``` i.e. unchanged."
   ]
  },
  {
   "cell_type": "code",
   "execution_count": 193,
   "id": "bibliographic-latter",
   "metadata": {},
   "outputs": [
    {
     "data": {
      "text/plain": [
       "5"
      ]
     },
     "execution_count": 193,
     "metadata": {},
     "output_type": "execute_result"
    }
   ],
   "source": [
    "counter"
   ]
  },
  {
   "cell_type": "markdown",
   "id": "laden-poetry",
   "metadata": {},
   "source": [
    "Note that it is possible to create a loop that will loop forever, if the condition is never updated within the loop, this is known as an infinite loop. The following code for example would spam one of the cells in the JupyterLab notebook forever."
   ]
  },
  {
   "cell_type": "markdown",
   "id": "attempted-familiar",
   "metadata": {},
   "source": [
    "```\n",
    "while True:\n",
    "    print('spam')\n",
    "```    "
   ]
  },
  {
   "cell_type": "markdown",
   "id": "completed-infrared",
   "metadata": {},
   "source": [
    "## Asserting function input arguments"
   ]
  },
  {
   "cell_type": "markdown",
   "id": "elementary-somerset",
   "metadata": {},
   "source": [
    "The ```assert``` keyword can be used to check whether or not a condition is ```True```. If it is, the code will proceed and if it is not it will flag up an error. The form to use is."
   ]
  },
  {
   "cell_type": "markdown",
   "id": "excess-castle",
   "metadata": {},
   "source": [
    "```assert condition, \"optional message\"```"
   ]
  },
  {
   "cell_type": "markdown",
   "id": "grave-treasury",
   "metadata": {},
   "source": [
    "Note that ```assert``` is not a function and therefore does not use parenthesis."
   ]
  },
  {
   "cell_type": "code",
   "execution_count": 194,
   "id": "indian-roman",
   "metadata": {},
   "outputs": [],
   "source": [
    "def fun(value=0):\n",
    "    assert type(value)==int,'value must be of the datatype int'\n",
    "    print(value)"
   ]
  },
  {
   "cell_type": "markdown",
   "id": "collect-orchestra",
   "metadata": {},
   "source": [
    "the function ```fun``` will proceed with ```value``` assigned to the default ```0``` or set to ```1```."
   ]
  },
  {
   "cell_type": "code",
   "execution_count": 195,
   "id": "exclusive-cricket",
   "metadata": {},
   "outputs": [
    {
     "name": "stdout",
     "output_type": "stream",
     "text": [
      "0\n"
     ]
    }
   ],
   "source": [
    "fun()"
   ]
  },
  {
   "cell_type": "code",
   "execution_count": 196,
   "id": "separate-palmer",
   "metadata": {},
   "outputs": [
    {
     "name": "stdout",
     "output_type": "stream",
     "text": [
      "1\n"
     ]
    }
   ],
   "source": [
    "fun(1)"
   ]
  },
  {
   "cell_type": "markdown",
   "id": "hazardous-building",
   "metadata": {},
   "source": [
    "It will hang when ```value``` is assigned to a ```float``` of ```1.1``` or a ```str``` of ```'a'```."
   ]
  },
  {
   "cell_type": "markdown",
   "id": "valued-philip",
   "metadata": {},
   "source": [
    "```fun(1.1.)```"
   ]
  },
  {
   "cell_type": "markdown",
   "id": "incoming-album",
   "metadata": {},
   "source": [
    "![AssertionError1](AssertionError1.png)"
   ]
  },
  {
   "cell_type": "markdown",
   "id": "thousand-dealer",
   "metadata": {},
   "source": [
    "```fun('a')```"
   ]
  },
  {
   "cell_type": "markdown",
   "id": "constitutional-example",
   "metadata": {},
   "source": [
    "![AssertionError2](AssertionError2.png)"
   ]
  },
  {
   "cell_type": "markdown",
   "id": "nasty-skiing",
   "metadata": {},
   "source": [
    "We can combine the ```assertion``` statement with ```try``` and ```except``` code blocks with instructions to handle the ```AssertionError```."
   ]
  },
  {
   "cell_type": "code",
   "execution_count": 197,
   "id": "balanced-guinea",
   "metadata": {},
   "outputs": [],
   "source": [
    "def fun(value=0):\n",
    "    try:\n",
    "        assert type(value)==int, 'value must be of the datatype int'\n",
    "        print(value)\n",
    "    except AssertionError:\n",
    "        print('invalid datatype for value, value must be an int datatype.')"
   ]
  },
  {
   "cell_type": "markdown",
   "id": "limiting-tobacco",
   "metadata": {},
   "source": [
    "Now once again when value is assigned to an ```int``` of ```0``` (the default value) or ```1``` the code works as expected. When it is assigned to another datatype for example the ```float``` of ```1.1``` or the ```str``` of ```'a'```, the ```AssertionError``` is handled and the ```print``` statement displays."
   ]
  },
  {
   "cell_type": "code",
   "execution_count": 198,
   "id": "adjacent-liberal",
   "metadata": {},
   "outputs": [
    {
     "name": "stdout",
     "output_type": "stream",
     "text": [
      "0\n"
     ]
    }
   ],
   "source": [
    "fun()"
   ]
  },
  {
   "cell_type": "code",
   "execution_count": 199,
   "id": "amber-gathering",
   "metadata": {},
   "outputs": [
    {
     "name": "stdout",
     "output_type": "stream",
     "text": [
      "1\n"
     ]
    }
   ],
   "source": [
    "fun(1)"
   ]
  },
  {
   "cell_type": "code",
   "execution_count": 200,
   "id": "elect-rendering",
   "metadata": {},
   "outputs": [
    {
     "name": "stdout",
     "output_type": "stream",
     "text": [
      "invalid datatype for value, value must be an int datatype.\n"
     ]
    }
   ],
   "source": [
    "fun(1.1)"
   ]
  },
  {
   "cell_type": "code",
   "execution_count": 201,
   "id": "satisfied-flooring",
   "metadata": {},
   "outputs": [
    {
     "name": "stdout",
     "output_type": "stream",
     "text": [
      "invalid datatype for value, value must be an int datatype.\n"
     ]
    }
   ],
   "source": [
    "fun('a')"
   ]
  },
  {
   "cell_type": "markdown",
   "id": "joined-latex",
   "metadata": {},
   "source": [
    "The condition can be updated to accept an ```int``` or a ```float```."
   ]
  },
  {
   "cell_type": "code",
   "execution_count": 202,
   "id": "plastic-instrument",
   "metadata": {},
   "outputs": [],
   "source": [
    "def fun(value=0):\n",
    "    try:\n",
    "        assert (type(value)==int or type(value)==float), 'value must be of the datatype int or float'\n",
    "        print(value)\n",
    "    except AssertionError:\n",
    "        print('invalid datatype for value, value must be an int or float datatype.')"
   ]
  },
  {
   "cell_type": "markdown",
   "id": "crazy-genesis",
   "metadata": {},
   "source": [
    "Now once again when ```value``` is ```assigned``` to the ```int``` of value ```0``` or ```1``` or the ```float``` of value ```1.1``` the code works as expected. When it is assigned to the ```str``` of value ```'a'```, the ```AssertionError``` is handled and the ```print``` statement displays."
   ]
  },
  {
   "cell_type": "code",
   "execution_count": 203,
   "id": "collective-borough",
   "metadata": {},
   "outputs": [
    {
     "name": "stdout",
     "output_type": "stream",
     "text": [
      "0\n"
     ]
    }
   ],
   "source": [
    "fun()"
   ]
  },
  {
   "cell_type": "code",
   "execution_count": 204,
   "id": "atlantic-morocco",
   "metadata": {},
   "outputs": [
    {
     "name": "stdout",
     "output_type": "stream",
     "text": [
      "1\n"
     ]
    }
   ],
   "source": [
    "fun(1)"
   ]
  },
  {
   "cell_type": "code",
   "execution_count": 205,
   "id": "amber-cabin",
   "metadata": {},
   "outputs": [
    {
     "name": "stdout",
     "output_type": "stream",
     "text": [
      "1.1\n"
     ]
    }
   ],
   "source": [
    "fun(1.1)"
   ]
  },
  {
   "cell_type": "code",
   "execution_count": 206,
   "id": "small-session",
   "metadata": {},
   "outputs": [
    {
     "name": "stdout",
     "output_type": "stream",
     "text": [
      "invalid datatype for value, value must be an int or float datatype.\n"
     ]
    }
   ],
   "source": [
    "fun('a')"
   ]
  },
  {
   "cell_type": "markdown",
   "id": "contrary-necklace",
   "metadata": {},
   "source": [
    "## Custom Classes"
   ]
  },
  {
   "cell_type": "markdown",
   "id": "written-african",
   "metadata": {},
   "source": [
    "A ```class``` can be thought of as a blueprint for a data structure. If we take the inbuilt ```int``` class for example. The data is the numeric scalar we define when instantiating the ```class```. We can instantiate the ```class``` by providing the scalar data of ```1``` for example. "
   ]
  },
  {
   "cell_type": "code",
   "execution_count": 207,
   "id": "behavioral-quick",
   "metadata": {},
   "outputs": [],
   "source": [
    "a=int(1)"
   ]
  },
  {
   "cell_type": "markdown",
   "id": "unique-worst",
   "metadata": {},
   "source": [
    "The instance ```a``` contains the attributes ```real```, ```imag``` and method ```conjugate```. These attributes and methods are defined within the class ```int```. "
   ]
  },
  {
   "cell_type": "markdown",
   "id": "middle-broad",
   "metadata": {},
   "source": [
    "![int_attributes_methods](int_attributes_methods.png)"
   ]
  },
  {
   "cell_type": "markdown",
   "id": "announced-subscription",
   "metadata": {},
   "source": [
    "Let's create a second instance ```b``` and set the data to be the scalar ```2```."
   ]
  },
  {
   "cell_type": "code",
   "execution_count": 208,
   "id": "lightweight-bronze",
   "metadata": {},
   "outputs": [],
   "source": [
    "b=int(2)"
   ]
  },
  {
   "cell_type": "markdown",
   "id": "honey-morning",
   "metadata": {},
   "source": [
    "We have seen that we can perform mathematical operations between the two instances, for example ```+```. The behaviour behind the ```+``` operator is specified in the ```class``` ```int``` using a data model method."
   ]
  },
  {
   "cell_type": "code",
   "execution_count": 209,
   "id": "rational-thing",
   "metadata": {},
   "outputs": [
    {
     "data": {
      "text/plain": [
       "3"
      ]
     },
     "execution_count": 209,
     "metadata": {},
     "output_type": "execute_result"
    }
   ],
   "source": [
    "a+b"
   ]
  },
  {
   "cell_type": "markdown",
   "id": "genuine-chase",
   "metadata": {},
   "source": [
    "We have also looked at the ```str``` ```class```. In this example the data is a collection of characters the characters ```'H'```, ```'e'```, ```'l'```,```'l'``` and ```'o'``` respectively. We can see that the methods ```capitalize```, ```lower``` and ```upper``` which are defined in the ```str``` ```class``` can be used to manipulate the text data. "
   ]
  },
  {
   "cell_type": "code",
   "execution_count": 210,
   "id": "absent-budapest",
   "metadata": {},
   "outputs": [],
   "source": [
    "j=str('Hello')"
   ]
  },
  {
   "cell_type": "markdown",
   "id": "turned-system",
   "metadata": {},
   "source": [
    "![str_methods](str_methods.png)"
   ]
  },
  {
   "cell_type": "code",
   "execution_count": 211,
   "id": "widespread-enterprise",
   "metadata": {},
   "outputs": [],
   "source": [
    "k=str('world')"
   ]
  },
  {
   "cell_type": "markdown",
   "id": "tutorial-locking",
   "metadata": {},
   "source": [
    "We have seen that we can use the ```+``` operator to concatenate two instances of the ```str``` ```class```. The behaviour behind the ```+``` operator is specified in the ```class``` ```str``` using a data model method."
   ]
  },
  {
   "cell_type": "code",
   "execution_count": 212,
   "id": "employed-wright",
   "metadata": {},
   "outputs": [
    {
     "data": {
      "text/plain": [
       "'Helloworld'"
      ]
     },
     "execution_count": 212,
     "metadata": {},
     "output_type": "execute_result"
    }
   ],
   "source": [
    "j+k"
   ]
  },
  {
   "cell_type": "markdown",
   "id": "distinguished-infrared",
   "metadata": {},
   "source": [
    "Python is an object orientated programming language and every class used inherits its properties from the object superclass. This can be seen by using the function ```issubclass```. \n",
    "\n",
    "Details about the input arguments can be found by typing in the function followed by ```↹``` and ```⇧``` or output to a cell by typing in ```?``` followed by the functions name. "
   ]
  },
  {
   "cell_type": "code",
   "execution_count": 213,
   "id": "healthy-ontario",
   "metadata": {},
   "outputs": [
    {
     "data": {
      "text/plain": [
       "\u001b[1;31mSignature:\u001b[0m  \u001b[0missubclass\u001b[0m\u001b[1;33m(\u001b[0m\u001b[0mcls\u001b[0m\u001b[1;33m,\u001b[0m \u001b[0mclass_or_tuple\u001b[0m\u001b[1;33m,\u001b[0m \u001b[1;33m/\u001b[0m\u001b[1;33m)\u001b[0m\u001b[1;33m\u001b[0m\u001b[1;33m\u001b[0m\u001b[0m\n",
       "\u001b[1;31mDocstring:\u001b[0m\n",
       "Return whether 'cls' is a derived from another class or is the same class.\n",
       "\n",
       "A tuple, as in ``issubclass(x, (A, B, ...))``, may be given as the target to\n",
       "check against. This is equivalent to ``issubclass(x, A) or issubclass(x, B)\n",
       "or ...`` etc.\n",
       "\u001b[1;31mType:\u001b[0m      builtin_function_or_method\n"
      ]
     },
     "metadata": {},
     "output_type": "display_data"
    }
   ],
   "source": [
    "? issubclass"
   ]
  },
  {
   "cell_type": "markdown",
   "id": "educated-greene",
   "metadata": {},
   "source": [
    "We see that ```int```, ```str```, ```float``` and ```bool``` classes are all subclasses of the ```object``` class."
   ]
  },
  {
   "cell_type": "code",
   "execution_count": 214,
   "id": "quiet-canberra",
   "metadata": {},
   "outputs": [
    {
     "data": {
      "text/plain": [
       "True"
      ]
     },
     "execution_count": 214,
     "metadata": {},
     "output_type": "execute_result"
    }
   ],
   "source": [
    "issubclass(int,object)"
   ]
  },
  {
   "cell_type": "code",
   "execution_count": 215,
   "id": "steady-substance",
   "metadata": {},
   "outputs": [
    {
     "data": {
      "text/plain": [
       "True"
      ]
     },
     "execution_count": 215,
     "metadata": {},
     "output_type": "execute_result"
    }
   ],
   "source": [
    "issubclass(str,object)"
   ]
  },
  {
   "cell_type": "code",
   "execution_count": 216,
   "id": "concrete-flash",
   "metadata": {},
   "outputs": [
    {
     "data": {
      "text/plain": [
       "True"
      ]
     },
     "execution_count": 216,
     "metadata": {},
     "output_type": "execute_result"
    }
   ],
   "source": [
    "issubclass(float,object)"
   ]
  },
  {
   "cell_type": "code",
   "execution_count": 217,
   "id": "dressed-accused",
   "metadata": {},
   "outputs": [
    {
     "data": {
      "text/plain": [
       "True"
      ]
     },
     "execution_count": 217,
     "metadata": {},
     "output_type": "execute_result"
    }
   ],
   "source": [
    "issubclass(bool,object)"
   ]
  },
  {
   "cell_type": "markdown",
   "id": "virgin-climb",
   "metadata": {},
   "source": [
    "We see that ```str``` is not a subclass of ```int``` as expected as they behave very differently (have vastly different attributes and methods). "
   ]
  },
  {
   "cell_type": "code",
   "execution_count": 218,
   "id": "authentic-finish",
   "metadata": {},
   "outputs": [
    {
     "data": {
      "text/plain": [
       "False"
      ]
     },
     "execution_count": 218,
     "metadata": {},
     "output_type": "execute_result"
    }
   ],
   "source": [
    "issubclass(str,int)"
   ]
  },
  {
   "cell_type": "markdown",
   "id": "heated-spread",
   "metadata": {},
   "source": [
    "Although ```float``` and ```int``` have similarly defined methods and attributes they are still independent classes."
   ]
  },
  {
   "cell_type": "code",
   "execution_count": 219,
   "id": "acknowledged-forward",
   "metadata": {},
   "outputs": [
    {
     "data": {
      "text/plain": [
       "False"
      ]
     },
     "execution_count": 219,
     "metadata": {},
     "output_type": "execute_result"
    }
   ],
   "source": [
    "issubclass(float,int)"
   ]
  },
  {
   "cell_type": "markdown",
   "id": "phantom-broadcasting",
   "metadata": {},
   "source": [
    "We seen that the ```bool``` class has identical methods and attributes to the ```int``` class. This is because it is a ```subclass``` of the ```int``` superclass."
   ]
  },
  {
   "cell_type": "code",
   "execution_count": 220,
   "id": "mature-tragedy",
   "metadata": {},
   "outputs": [
    {
     "data": {
      "text/plain": [
       "True"
      ]
     },
     "execution_count": 220,
     "metadata": {},
     "output_type": "execute_result"
    }
   ],
   "source": [
    "issubclass(bool,int)"
   ]
  },
  {
   "cell_type": "markdown",
   "id": "plain-three",
   "metadata": {},
   "source": [
    "### Creating a Class"
   ]
  },
  {
   "cell_type": "markdown",
   "id": "administrative-queensland",
   "metadata": {},
   "source": [
    "Constructing a class shares some commonalities with defining a function. We use the keyword ```class``` (to define a ```class```) instead of ```def``` (which we use to define a function). The convention is to use ```CamelCaseCapitilization``` for ```class``` names opposed to ```lower_case``` for a function or variable. Parenthesis is used to enclose the superclass. The custom ```class``` being created will inherit properties from the superclass such as attributes and methods. ```object``` is the default superclass of everything in the python programming language and if a custom ```class``` is created without a ```class``` in the 0th position of the parenthesis it will be automatically use object as its superclass. i.e. the two cells below are equivalent."
   ]
  },
  {
   "cell_type": "code",
   "execution_count": 221,
   "id": "opponent-burner",
   "metadata": {},
   "outputs": [],
   "source": [
    "class ScalarClass(object):\n",
    "    pass"
   ]
  },
  {
   "cell_type": "code",
   "execution_count": 222,
   "id": "offshore-bench",
   "metadata": {},
   "outputs": [],
   "source": [
    "class ScalarClass():\n",
    "    pass"
   ]
  },
  {
   "cell_type": "markdown",
   "id": "conditional-rescue",
   "metadata": {},
   "source": [
    "The ```class``` above does nothing, it can be called in a cell without parenthesis which will return details about the ```class```. This is analogous to calling the class ```int``` without parenthesis."
   ]
  },
  {
   "cell_type": "code",
   "execution_count": 223,
   "id": "correct-walnut",
   "metadata": {},
   "outputs": [
    {
     "data": {
      "text/plain": [
       "int"
      ]
     },
     "execution_count": 223,
     "metadata": {},
     "output_type": "execute_result"
    }
   ],
   "source": [
    "int"
   ]
  },
  {
   "cell_type": "code",
   "execution_count": 224,
   "id": "offshore-polyester",
   "metadata": {},
   "outputs": [
    {
     "data": {
      "text/plain": [
       "__main__.ScalarClass"
      ]
     },
     "execution_count": 224,
     "metadata": {},
     "output_type": "execute_result"
    }
   ],
   "source": [
    "ScalarClass"
   ]
  },
  {
   "cell_type": "markdown",
   "id": "consistent-finding",
   "metadata": {},
   "source": [
    "When we type in ```int``` details about its input arguments can be found by typing in the function followed by ```↹``` and ```⇧``` or output to a cell by typing in ```?``` followed by the methods name (called from the object). The docstring with the init signature displays."
   ]
  },
  {
   "cell_type": "code",
   "execution_count": 225,
   "id": "disturbed-future",
   "metadata": {},
   "outputs": [
    {
     "data": {
      "text/plain": [
       "\u001b[1;31mInit signature:\u001b[0m  \u001b[0mint\u001b[0m\u001b[1;33m(\u001b[0m\u001b[0mself\u001b[0m\u001b[1;33m,\u001b[0m \u001b[1;33m/\u001b[0m\u001b[1;33m,\u001b[0m \u001b[1;33m*\u001b[0m\u001b[0margs\u001b[0m\u001b[1;33m,\u001b[0m \u001b[1;33m**\u001b[0m\u001b[0mkwargs\u001b[0m\u001b[1;33m)\u001b[0m\u001b[1;33m\u001b[0m\u001b[1;33m\u001b[0m\u001b[0m\n",
       "\u001b[1;31mDocstring:\u001b[0m     \n",
       "int([x]) -> integer\n",
       "int(x, base=10) -> integer\n",
       "\n",
       "Convert a number or string to an integer, or return 0 if no arguments\n",
       "are given.  If x is a number, return x.__int__().  For floating point\n",
       "numbers, this truncates towards zero.\n",
       "\n",
       "If x is not a number or if base is given, then x must be a string,\n",
       "bytes, or bytearray instance representing an integer literal in the\n",
       "given base.  The literal can be preceded by '+' or '-' and be surrounded\n",
       "by whitespace.  The base defaults to 10.  Valid bases are 0 and 2-36.\n",
       "Base 0 means to interpret the base from the string as an integer literal.\n",
       ">>> int('0b100', base=0)\n",
       "4\n",
       "\u001b[1;31mType:\u001b[0m           type\n",
       "\u001b[1;31mSubclasses:\u001b[0m     bool, IntEnum, IntFlag, _NamedIntConstant, Handle\n"
      ]
     },
     "metadata": {},
     "output_type": "display_data"
    }
   ],
   "source": [
    "? int"
   ]
  },
  {
   "cell_type": "markdown",
   "id": "lovely-momentum",
   "metadata": {},
   "source": [
    "When we do the same for our custom class ```ScalarClass``` we get no details because we have not inherited and have not defined an init signature. There is also no docstring because none has been created."
   ]
  },
  {
   "cell_type": "code",
   "execution_count": 226,
   "id": "convertible-disabled",
   "metadata": {},
   "outputs": [
    {
     "data": {
      "text/plain": [
       "\u001b[1;31mInit signature:\u001b[0m  \u001b[0mScalarClass\u001b[0m\u001b[1;33m(\u001b[0m\u001b[1;33m)\u001b[0m\u001b[1;33m\u001b[0m\u001b[1;33m\u001b[0m\u001b[0m\n",
       "\u001b[1;31mDocstring:\u001b[0m      <no docstring>\n",
       "\u001b[1;31mType:\u001b[0m           type\n",
       "\u001b[1;31mSubclasses:\u001b[0m     \n"
      ]
     },
     "metadata": {},
     "output_type": "display_data"
    }
   ],
   "source": [
    "? ScalarClass"
   ]
  },
  {
   "cell_type": "markdown",
   "id": "chemical-foster",
   "metadata": {},
   "source": [
    "### Inheritance"
   ]
  },
  {
   "cell_type": "markdown",
   "id": "optional-differential",
   "metadata": {},
   "source": [
    "Let's now instead redefine our ```ScalarClass``` and use ```int``` as the superclass."
   ]
  },
  {
   "cell_type": "code",
   "execution_count": 227,
   "id": "broke-deviation",
   "metadata": {},
   "outputs": [],
   "source": [
    "class ScalarClass(int):\n",
    "    pass"
   ]
  },
  {
   "cell_type": "markdown",
   "id": "muslim-movie",
   "metadata": {},
   "source": [
    "Now when we type in ScalarClass followed by a tab ↹ and shift ⇧ we inherit the init signature (and all the methods and attributes) of the int class. The docstring therefore resembles that of the int subclass."
   ]
  },
  {
   "cell_type": "markdown",
   "id": "limited-optimization",
   "metadata": {},
   "source": [
    "Now when we type in ```ScalarClass``` details about the input arguments can be found by typing in the function followed by ```↹``` and ```⇧``` or output to a cell by typing in ```?```. We can see these are inherited from the ```int``` superclass. "
   ]
  },
  {
   "cell_type": "code",
   "execution_count": 228,
   "id": "quality-builder",
   "metadata": {},
   "outputs": [
    {
     "data": {
      "text/plain": [
       "\u001b[1;31mInit signature:\u001b[0m  \u001b[0mScalarClass\u001b[0m\u001b[1;33m(\u001b[0m\u001b[0mself\u001b[0m\u001b[1;33m,\u001b[0m \u001b[1;33m/\u001b[0m\u001b[1;33m,\u001b[0m \u001b[1;33m*\u001b[0m\u001b[0margs\u001b[0m\u001b[1;33m,\u001b[0m \u001b[1;33m**\u001b[0m\u001b[0mkwargs\u001b[0m\u001b[1;33m)\u001b[0m\u001b[1;33m\u001b[0m\u001b[1;33m\u001b[0m\u001b[0m\n",
       "\u001b[1;31mDocstring:\u001b[0m     \n",
       "int([x]) -> integer\n",
       "int(x, base=10) -> integer\n",
       "\n",
       "Convert a number or string to an integer, or return 0 if no arguments\n",
       "are given.  If x is a number, return x.__int__().  For floating point\n",
       "numbers, this truncates towards zero.\n",
       "\n",
       "If x is not a number or if base is given, then x must be a string,\n",
       "bytes, or bytearray instance representing an integer literal in the\n",
       "given base.  The literal can be preceded by '+' or '-' and be surrounded\n",
       "by whitespace.  The base defaults to 10.  Valid bases are 0 and 2-36.\n",
       "Base 0 means to interpret the base from the string as an integer literal.\n",
       ">>> int('0b100', base=0)\n",
       "4\n",
       "\u001b[1;31mType:\u001b[0m           type\n",
       "\u001b[1;31mSubclasses:\u001b[0m     \n"
      ]
     },
     "metadata": {},
     "output_type": "display_data"
    }
   ],
   "source": [
    "? ScalarClass"
   ]
  },
  {
   "cell_type": "code",
   "execution_count": 229,
   "id": "controlling-twenty",
   "metadata": {},
   "outputs": [
    {
     "data": {
      "text/plain": [
       "\u001b[1;31mInit signature:\u001b[0m  \u001b[0mint\u001b[0m\u001b[1;33m(\u001b[0m\u001b[0mself\u001b[0m\u001b[1;33m,\u001b[0m \u001b[1;33m/\u001b[0m\u001b[1;33m,\u001b[0m \u001b[1;33m*\u001b[0m\u001b[0margs\u001b[0m\u001b[1;33m,\u001b[0m \u001b[1;33m**\u001b[0m\u001b[0mkwargs\u001b[0m\u001b[1;33m)\u001b[0m\u001b[1;33m\u001b[0m\u001b[1;33m\u001b[0m\u001b[0m\n",
       "\u001b[1;31mDocstring:\u001b[0m     \n",
       "int([x]) -> integer\n",
       "int(x, base=10) -> integer\n",
       "\n",
       "Convert a number or string to an integer, or return 0 if no arguments\n",
       "are given.  If x is a number, return x.__int__().  For floating point\n",
       "numbers, this truncates towards zero.\n",
       "\n",
       "If x is not a number or if base is given, then x must be a string,\n",
       "bytes, or bytearray instance representing an integer literal in the\n",
       "given base.  The literal can be preceded by '+' or '-' and be surrounded\n",
       "by whitespace.  The base defaults to 10.  Valid bases are 0 and 2-36.\n",
       "Base 0 means to interpret the base from the string as an integer literal.\n",
       ">>> int('0b100', base=0)\n",
       "4\n",
       "\u001b[1;31mType:\u001b[0m           type\n",
       "\u001b[1;31mSubclasses:\u001b[0m     bool, IntEnum, IntFlag, _NamedIntConstant, Handle, ScalarClass\n"
      ]
     },
     "metadata": {},
     "output_type": "display_data"
    }
   ],
   "source": [
    "? int"
   ]
  },
  {
   "cell_type": "markdown",
   "id": "intended-elephant",
   "metadata": {},
   "source": [
    "Creating an instance of a class is also known as instantiating a class. Let's instantiate the ```ScalarClass``` to create the instance ```l```."
   ]
  },
  {
   "cell_type": "code",
   "execution_count": 230,
   "id": "proud-bones",
   "metadata": {},
   "outputs": [],
   "source": [
    "l=ScalarClass(5)"
   ]
  },
  {
   "cell_type": "markdown",
   "id": "documentary-cleaning",
   "metadata": {},
   "source": [
    "Because the init signature is inherited from the ```str``` ```class```, we only need to provide the positional input argument ```self```. If we now type in our instance name followed by a ```.``` and ```↹``` we see a list of attributes and methods. These are identical to those from the ```int``` superclass because we have inherited them from the ```int``` superclass."
   ]
  },
  {
   "cell_type": "markdown",
   "id": "institutional-harvard",
   "metadata": {},
   "source": [
    "![ScalarClass_int_inheritance_attributes_methods](ScalarClass_int_inheritance_attributes_methods.png)"
   ]
  },
  {
   "cell_type": "markdown",
   "id": "separate-workshop",
   "metadata": {},
   "source": [
    "Let's now provide our own custom docstring."
   ]
  },
  {
   "cell_type": "code",
   "execution_count": 231,
   "id": "colored-lotus",
   "metadata": {},
   "outputs": [],
   "source": [
    "class ScalarClass(int):\n",
    "    '''Inherited from int superclass\n",
    "    Convert a number or string to an integer, or return 0 if no arguments are given. \n",
    "    For floating point numbers this truncates towards 0'''\n",
    "    pass"
   ]
  },
  {
   "cell_type": "markdown",
   "id": "bacterial-banks",
   "metadata": {},
   "source": [
    "Now when we type in ```ScalarClass``` followed by ```↹``` and ```⇧``` or output the docstring to a cell using ```?``` we now see our own docstring."
   ]
  },
  {
   "cell_type": "code",
   "execution_count": 232,
   "id": "everyday-ethics",
   "metadata": {},
   "outputs": [
    {
     "data": {
      "text/plain": [
       "\u001b[1;31mInit signature:\u001b[0m  \u001b[0mScalarClass\u001b[0m\u001b[1;33m(\u001b[0m\u001b[0mself\u001b[0m\u001b[1;33m,\u001b[0m \u001b[1;33m/\u001b[0m\u001b[1;33m,\u001b[0m \u001b[1;33m*\u001b[0m\u001b[0margs\u001b[0m\u001b[1;33m,\u001b[0m \u001b[1;33m**\u001b[0m\u001b[0mkwargs\u001b[0m\u001b[1;33m)\u001b[0m\u001b[1;33m\u001b[0m\u001b[1;33m\u001b[0m\u001b[0m\n",
       "\u001b[1;31mDocstring:\u001b[0m     \n",
       "Inherited from int superclass\n",
       "Convert a number or string to an integer, or return 0 if no arguments are given. \n",
       "For floating point numbers this truncates towards 0\n",
       "\u001b[1;31mType:\u001b[0m           type\n",
       "\u001b[1;31mSubclasses:\u001b[0m     \n"
      ]
     },
     "metadata": {},
     "output_type": "display_data"
    }
   ],
   "source": [
    "? ScalarClass"
   ]
  },
  {
   "cell_type": "markdown",
   "id": "motivated-biotechnology",
   "metadata": {},
   "source": [
    "### Class functions (methods)"
   ]
  },
  {
   "cell_type": "markdown",
   "id": "capable-repair",
   "metadata": {},
   "source": [
    "Within the ```class``` we can define a custom function. \n",
    "\n",
    "This custom function will belong to the ```class``` and can be called from any instance of the ```class``` i.e. is a method of any instance of the ```class```."
   ]
  },
  {
   "cell_type": "code",
   "execution_count": 233,
   "id": "afraid-mother",
   "metadata": {},
   "outputs": [],
   "source": [
    "class ScalarClass(int):\n",
    "    '''Inherited from int superclass\n",
    "    Convert a number or string to an integer, or return 0 if no arguments are given. \n",
    "    For floating point numbers this truncates towards 0'''\n",
    "    def printhello():\n",
    "        print('hello')"
   ]
  },
  {
   "cell_type": "markdown",
   "id": "supreme-victory",
   "metadata": {},
   "source": [
    "Since we have updated our ```class``` we need to reinstantiate our instance ```l``` (otherwise ```l``` is an instance of the old custom ```class```)."
   ]
  },
  {
   "cell_type": "code",
   "execution_count": 234,
   "id": "future-firewall",
   "metadata": {},
   "outputs": [],
   "source": [
    "l=ScalarClass(5)"
   ]
  },
  {
   "cell_type": "markdown",
   "id": "comparable-anime",
   "metadata": {},
   "source": [
    "Now when we type in our instance name followed by a ```.``` a ```↹``` we get the list of attributes and methods. Note our custom method ```printhello``` displays."
   ]
  },
  {
   "cell_type": "markdown",
   "id": "biological-surfing",
   "metadata": {},
   "source": [
    "![ScalarClass_int_inheritance_custom_method_printhello](ScalarClass_int_inheritance_custom_method_printhello.png)"
   ]
  },
  {
   "cell_type": "markdown",
   "id": "creative-testament",
   "metadata": {},
   "source": [
    "We can call the custom method ```printhello``` from the ```class``` itself, we see it works as expected."
   ]
  },
  {
   "cell_type": "code",
   "execution_count": 235,
   "id": "fossil-future",
   "metadata": {},
   "outputs": [
    {
     "name": "stdout",
     "output_type": "stream",
     "text": [
      "hello\n"
     ]
    }
   ],
   "source": [
    "ScalarClass.printhello()"
   ]
  },
  {
   "cell_type": "markdown",
   "id": "tracked-number",
   "metadata": {},
   "source": [
    "However when we attempt to call it as a method we get the following error."
   ]
  },
  {
   "cell_type": "markdown",
   "id": "imposed-territory",
   "metadata": {},
   "source": [
    "![ScalarClass_int_inheritance_custom_method_printhello_positional_input_arguments_error](ScalarClass_int_inheritance_custom_method_printhello_positional_input_arguments_error.png)"
   ]
  },
  {
   "cell_type": "markdown",
   "id": "solid-football",
   "metadata": {},
   "source": [
    "Details about the methods input arguments can be found by typing in the method followed by ```↹``` and ```⇧``` or output to a cell by typing in ```?``` followed by the methods name (called from the object). \n",
    "\n",
    "As we can see there are none because we haven't provided any when we defined the function and there is no docstring."
   ]
  },
  {
   "cell_type": "code",
   "execution_count": 236,
   "id": "structural-design",
   "metadata": {},
   "outputs": [
    {
     "data": {
      "text/plain": [
       "\u001b[1;31mDocstring:\u001b[0m <no docstring>\n",
       "\u001b[1;31mFile:\u001b[0m      c:\\users\\phili\\documents\\1. object orientated programming\\<ipython-input-233-b562dabab6fb>\n",
       "\u001b[1;31mType:\u001b[0m      method\n"
      ]
     },
     "metadata": {},
     "output_type": "display_data"
    }
   ],
   "source": [
    "? l.printhello"
   ]
  },
  {
   "cell_type": "markdown",
   "id": "accessible-analyst",
   "metadata": {},
   "source": [
    "The error is this function takes 0 positional input arguments but 1 was given. This means an input argument was provided at position 0 but there was no 0th positional input argument defined in the function. When a method is called from an instance, the instance its ```self``` is provided automatically as the 0th positional input argument. \n",
    "\n",
    "We therefore need to update the function ```printhello``` to use ```self``` as its 0th positional input argument."
   ]
  },
  {
   "cell_type": "code",
   "execution_count": 237,
   "id": "neural-laundry",
   "metadata": {},
   "outputs": [],
   "source": [
    "class ScalarClass(int):\n",
    "    '''Inherited from int superclass\n",
    "    Convert a number or string to an integer, or return 0 if no arguments are given. \n",
    "    For floating point numbers this truncates towards 0.'''\n",
    "    def printhello(self):\n",
    "        '''This will print hello.'''\n",
    "        print('hello')"
   ]
  },
  {
   "cell_type": "markdown",
   "id": "aware-victory",
   "metadata": {},
   "source": [
    "Since we have updated our ```class``` we need to reinstantiate our instance ```l```."
   ]
  },
  {
   "cell_type": "code",
   "execution_count": 238,
   "id": "recorded-terry",
   "metadata": {},
   "outputs": [],
   "source": [
    "l=ScalarClass(5)"
   ]
  },
  {
   "cell_type": "markdown",
   "id": "vital-carter",
   "metadata": {},
   "source": [
    "When the function is called from the instance ```l```, the instance ```l``` will be supplied as ```self```. So the method now works as intended."
   ]
  },
  {
   "cell_type": "code",
   "execution_count": 239,
   "id": "devoted-audit",
   "metadata": {},
   "outputs": [
    {
     "name": "stdout",
     "output_type": "stream",
     "text": [
      "hello\n"
     ]
    }
   ],
   "source": [
    "l.printhello()"
   ]
  },
  {
   "cell_type": "markdown",
   "id": "systematic-gibraltar",
   "metadata": {},
   "source": [
    "Note that it will give an error when called directly from the class as no instance is provided."
   ]
  },
  {
   "cell_type": "markdown",
   "id": "taken-still",
   "metadata": {},
   "source": [
    "![ScalarClass_int_inheritance_custom_method_printhello_positional_input_arguments_error2](ScalarClass_int_inheritance_custom_method_printhello_positional_input_arguments_error2.png)"
   ]
  },
  {
   "cell_type": "markdown",
   "id": "municipal-globe",
   "metadata": {},
   "source": [
    "It will work correctly when an instance is provided."
   ]
  },
  {
   "cell_type": "code",
   "execution_count": 240,
   "id": "prostate-coordinate",
   "metadata": {},
   "outputs": [
    {
     "name": "stdout",
     "output_type": "stream",
     "text": [
      "hello\n"
     ]
    }
   ],
   "source": [
    "ScalarClass.printhello(l)"
   ]
  },
  {
   "cell_type": "markdown",
   "id": "plastic-innocent",
   "metadata": {},
   "source": [
    "### Static Class functions"
   ]
  },
  {
   "cell_type": "markdown",
   "id": "normal-services",
   "metadata": {},
   "source": [
    "When we first created the ```class``` function ```printhello``` it worked without providing an instance. In some rare cases, we may want a static method that can perform this way when called directly from a ```class``` or alternatively directly from an instance. To do this we need to use the decorator ```@staticmethod```. In this example we can create a function that prints the str ```'hello'``` without any input arguments."
   ]
  },
  {
   "cell_type": "code",
   "execution_count": 241,
   "id": "other-license",
   "metadata": {},
   "outputs": [],
   "source": [
    "class ScalarClass(int):\n",
    "    '''Inherited from int superclass\n",
    "    Convert a number or string to an integer, or return 0 if no arguments are given. \n",
    "    For floating point numbers this truncates towards 0.'''\n",
    "    def printhello(self):\n",
    "        '''This will print hello.'''\n",
    "        print('hello')\n",
    "    @staticmethod\n",
    "    def statichello():\n",
    "        '''This is a static method that prints hello.'''\n",
    "        print('hello')"
   ]
  },
  {
   "cell_type": "markdown",
   "id": "specified-underwear",
   "metadata": {},
   "source": [
    "Since we have updated our ```class``` we need to reinstantiate our instance ```l```."
   ]
  },
  {
   "cell_type": "code",
   "execution_count": 242,
   "id": "confirmed-prison",
   "metadata": {},
   "outputs": [],
   "source": [
    "l=ScalarClass(5)"
   ]
  },
  {
   "cell_type": "markdown",
   "id": "stuck-pacific",
   "metadata": {},
   "source": [
    "When the function is called from the instance ```l```, because the ```@staticmethod``` decorator is present, the instance ```l``` will not be supplied. This means there is no ```self``` input argument input by the user and none expected by the static method, so the static method is called without an error."
   ]
  },
  {
   "cell_type": "code",
   "execution_count": 243,
   "id": "other-limit",
   "metadata": {},
   "outputs": [
    {
     "name": "stdout",
     "output_type": "stream",
     "text": [
      "hello\n"
     ]
    }
   ],
   "source": [
    "l.statichello()"
   ]
  },
  {
   "cell_type": "markdown",
   "id": "cubic-walker",
   "metadata": {},
   "source": [
    "The staticmethod can also be called directly from the ```class``` without specifying an instance."
   ]
  },
  {
   "cell_type": "code",
   "execution_count": 244,
   "id": "corrected-sauce",
   "metadata": {},
   "outputs": [
    {
     "name": "stdout",
     "output_type": "stream",
     "text": [
      "hello\n"
     ]
    }
   ],
   "source": [
    "ScalarClass.statichello()"
   ]
  },
  {
   "cell_type": "markdown",
   "id": "stock-ending",
   "metadata": {},
   "source": [
    "### Instance variables (attributes)"
   ]
  },
  {
   "cell_type": "markdown",
   "id": "finished-indication",
   "metadata": {},
   "source": [
    "Recall that an attribute is an ```object``` (or variable) that is referenced with respect to another ```object```."
   ]
  },
  {
   "cell_type": "markdown",
   "id": "after-burton",
   "metadata": {},
   "source": [
    "We can create a method which creates an attribute, that is an object belonging to the instance ```self```."
   ]
  },
  {
   "cell_type": "code",
   "execution_count": 245,
   "id": "likely-bailey",
   "metadata": {},
   "outputs": [],
   "source": [
    "class ScalarClass(int):\n",
    "    '''Inherited from int superclass\n",
    "    Convert a number or string to an integer, or return 0 if no arguments are given. \n",
    "    For floating point numbers this truncates towards 0.'''\n",
    "    def printhello(self):\n",
    "        '''This will print hello.'''\n",
    "        print('hello')\n",
    "    def create_attributes(self):\n",
    "        self.inverse=1/self"
   ]
  },
  {
   "cell_type": "markdown",
   "id": "interracial-boutique",
   "metadata": {},
   "source": [
    "Since we have updated our ```class``` we need to reinstantiate our instance ```l```."
   ]
  },
  {
   "cell_type": "code",
   "execution_count": 246,
   "id": "virtual-blackberry",
   "metadata": {},
   "outputs": [],
   "source": [
    "l=ScalarClass(5)"
   ]
  },
  {
   "cell_type": "markdown",
   "id": "smoking-ozone",
   "metadata": {},
   "source": [
    "When we type in our instance name followed by a ```.``` a ```↹``` we get the list of attributes and methods. Note our custom method ```create_attributes``` displays but no attribute inverse displays as it has not been created yet."
   ]
  },
  {
   "cell_type": "markdown",
   "id": "heavy-logging",
   "metadata": {},
   "source": [
    "![ScalarClass_int_inheritance_custom_method_createattributes](ScalarClass_int_inheritance_custom_method_createattributes.png)"
   ]
  },
  {
   "cell_type": "markdown",
   "id": "hundred-belief",
   "metadata": {},
   "source": [
    "When we call this, an attribute is created:"
   ]
  },
  {
   "cell_type": "code",
   "execution_count": 247,
   "id": "molecular-laundry",
   "metadata": {},
   "outputs": [],
   "source": [
    "l.create_attributes()"
   ]
  },
  {
   "cell_type": "markdown",
   "id": "found-channel",
   "metadata": {},
   "source": [
    "When we type in our instance name followed by a ```.``` a ```↹``` we get the list of attributes and methods. Our custom attribute inverse now displays."
   ]
  },
  {
   "cell_type": "markdown",
   "id": "hazardous-round",
   "metadata": {},
   "source": [
    "![ScalarClass_int_inheritance_custom_attribute_inverse](ScalarClass_int_inheritance_custom_attribute_inverse.png)"
   ]
  },
  {
   "cell_type": "markdown",
   "id": "existing-vertex",
   "metadata": {},
   "source": [
    "We can call this to get the inverse of ```l``` which is 0.2 as expected."
   ]
  },
  {
   "cell_type": "code",
   "execution_count": 248,
   "id": "governing-salvation",
   "metadata": {},
   "outputs": [
    {
     "data": {
      "text/plain": [
       "0.2"
      ]
     },
     "execution_count": 248,
     "metadata": {},
     "output_type": "execute_result"
    }
   ],
   "source": [
    "l.inverse"
   ]
  },
  {
   "cell_type": "markdown",
   "id": "spectacular-patrick",
   "metadata": {},
   "source": [
    "### Class Variables"
   ]
  },
  {
   "cell_type": "markdown",
   "id": "placed-algeria",
   "metadata": {},
   "source": [
    "It is possible to create a ```class``` variable, which is essentially an attribute that will have a constant value for every single instance of a ```class``` when the ```class``` is instantiated. "
   ]
  },
  {
   "cell_type": "code",
   "execution_count": 249,
   "id": "valued-nebraska",
   "metadata": {},
   "outputs": [],
   "source": [
    "class ScalarClass(int):\n",
    "    '''Inherited from int superclass\n",
    "    Convert a number or string to an integer, or return 0 if no arguments are given. \n",
    "    For floating point numbers this truncates towards 0.'''\n",
    "    greeting='hello'\n",
    "    def printhello(self):\n",
    "        '''This will print hello.'''\n",
    "        print('hello')\n",
    "    def create_attributes(self):\n",
    "        self.inverse=1/self"
   ]
  },
  {
   "cell_type": "markdown",
   "id": "subjective-summary",
   "metadata": {},
   "source": [
    "A ```class``` variable can be accessed without use of an instance of a ```class```."
   ]
  },
  {
   "cell_type": "code",
   "execution_count": 250,
   "id": "common-knowing",
   "metadata": {},
   "outputs": [
    {
     "data": {
      "text/plain": [
       "'hello'"
      ]
     },
     "execution_count": 250,
     "metadata": {},
     "output_type": "execute_result"
    }
   ],
   "source": [
    "ScalarClass.greeting"
   ]
  },
  {
   "cell_type": "markdown",
   "id": "limited-forth",
   "metadata": {},
   "source": [
    "Since we have updated our ```class``` we need to reinstantiate our instance ```l```."
   ]
  },
  {
   "cell_type": "code",
   "execution_count": 251,
   "id": "color-wagon",
   "metadata": {},
   "outputs": [],
   "source": [
    "l=ScalarClass(5)"
   ]
  },
  {
   "cell_type": "markdown",
   "id": "express-marine",
   "metadata": {},
   "source": [
    "The ```class``` variable is now available as an attribute."
   ]
  },
  {
   "cell_type": "code",
   "execution_count": 252,
   "id": "stupid-discrimination",
   "metadata": {},
   "outputs": [
    {
     "data": {
      "text/plain": [
       "'hello'"
      ]
     },
     "execution_count": 252,
     "metadata": {},
     "output_type": "execute_result"
    }
   ],
   "source": [
    "l.greeting"
   ]
  },
  {
   "cell_type": "markdown",
   "id": "younger-fancy",
   "metadata": {},
   "source": [
    "### Private Variables and Methods"
   ]
  },
  {
   "cell_type": "markdown",
   "id": "veterinary-photograph",
   "metadata": {},
   "source": [
    "If a method or attribute begins with an ```_``` it is usually designed for private use and is hidden."
   ]
  },
  {
   "cell_type": "code",
   "execution_count": 253,
   "id": "reserved-greek",
   "metadata": {},
   "outputs": [],
   "source": [
    "class ScalarClass(int):\n",
    "    '''Inherited from int superclass\n",
    "    Convert a number or string to an integer, or return 0 if no arguments are given. \n",
    "    For floating point numbers this truncates towards 0.'''\n",
    "    def _create_attributes(self):\n",
    "        self._inverse=1/self"
   ]
  },
  {
   "cell_type": "markdown",
   "id": "refined-focus",
   "metadata": {},
   "source": [
    "Typing in the ScalarClass ```.``` and ```↹``` does not display the private method ```_create_attributes``` as it is hidden."
   ]
  },
  {
   "cell_type": "markdown",
   "id": "destroyed-valentine",
   "metadata": {},
   "source": [
    "![ScalarClass_hidden_methods](ScalarClass_hidden_methods.png)"
   ]
  },
  {
   "cell_type": "markdown",
   "id": "pending-bennett",
   "metadata": {},
   "source": [
    "The function ```dir``` can be used to view all attributes and methods available to the ```class```."
   ]
  },
  {
   "cell_type": "code",
   "execution_count": 254,
   "id": "numeric-waters",
   "metadata": {
    "scrolled": true
   },
   "outputs": [
    {
     "data": {
      "text/plain": [
       "['__abs__',\n",
       " '__add__',\n",
       " '__and__',\n",
       " '__bool__',\n",
       " '__ceil__',\n",
       " '__class__',\n",
       " '__delattr__',\n",
       " '__dict__',\n",
       " '__dir__',\n",
       " '__divmod__',\n",
       " '__doc__',\n",
       " '__eq__',\n",
       " '__float__',\n",
       " '__floor__',\n",
       " '__floordiv__',\n",
       " '__format__',\n",
       " '__ge__',\n",
       " '__getattribute__',\n",
       " '__getnewargs__',\n",
       " '__gt__',\n",
       " '__hash__',\n",
       " '__index__',\n",
       " '__init__',\n",
       " '__init_subclass__',\n",
       " '__int__',\n",
       " '__invert__',\n",
       " '__le__',\n",
       " '__lshift__',\n",
       " '__lt__',\n",
       " '__mod__',\n",
       " '__module__',\n",
       " '__mul__',\n",
       " '__ne__',\n",
       " '__neg__',\n",
       " '__new__',\n",
       " '__or__',\n",
       " '__pos__',\n",
       " '__pow__',\n",
       " '__radd__',\n",
       " '__rand__',\n",
       " '__rdivmod__',\n",
       " '__reduce__',\n",
       " '__reduce_ex__',\n",
       " '__repr__',\n",
       " '__rfloordiv__',\n",
       " '__rlshift__',\n",
       " '__rmod__',\n",
       " '__rmul__',\n",
       " '__ror__',\n",
       " '__round__',\n",
       " '__rpow__',\n",
       " '__rrshift__',\n",
       " '__rshift__',\n",
       " '__rsub__',\n",
       " '__rtruediv__',\n",
       " '__rxor__',\n",
       " '__setattr__',\n",
       " '__sizeof__',\n",
       " '__str__',\n",
       " '__sub__',\n",
       " '__subclasshook__',\n",
       " '__truediv__',\n",
       " '__trunc__',\n",
       " '__xor__',\n",
       " '_create_attributes',\n",
       " 'as_integer_ratio',\n",
       " 'bit_length',\n",
       " 'conjugate',\n",
       " 'denominator',\n",
       " 'from_bytes',\n",
       " 'imag',\n",
       " 'numerator',\n",
       " 'real',\n",
       " 'to_bytes']"
      ]
     },
     "execution_count": 254,
     "metadata": {},
     "output_type": "execute_result"
    }
   ],
   "source": [
    "dir(ScalarClass)"
   ]
  },
  {
   "cell_type": "markdown",
   "id": "piano-teaching",
   "metadata": {},
   "source": [
    "The list contains a number of **d**ouble **under**score (dunder) methods that begin and end with a double underscore. We will have a look at their meaning in more detail in a moment. Under these our custom hidden method ```_create_attributes``` now displays and then the remaining list of attributes and methods displays. "
   ]
  },
  {
   "cell_type": "markdown",
   "id": "scheduled-malawi",
   "metadata": {},
   "source": [
    "In many cases we will want a safe way to create an attribute and read an attribute. Instead of creating an attribute directly we may create a hidden attribute alongside an associated get and set method."
   ]
  },
  {
   "cell_type": "code",
   "execution_count": 255,
   "id": "intellectual-solution",
   "metadata": {},
   "outputs": [],
   "source": [
    "class ScalarClass(int):\n",
    "    '''Inherited from int superclass\n",
    "    Convert a number or string to an integer, or return 0 if no arguments are given. \n",
    "    For floating point numbers this truncates towards 0.'''\n",
    "    def set_inverse(self):\n",
    "        '''Sets the inverse attribute of self.'''\n",
    "        self._inverse=1/self\n",
    "    def get_inverse(self):\n",
    "        '''Gets the inverse attribute of self. If the attribute is set.'''\n",
    "        try:\n",
    "            return self._inverse\n",
    "        except AttributeError:\n",
    "            print('inverse is not yet assigned, use set_inverse first.')"
   ]
  },
  {
   "cell_type": "markdown",
   "id": "backed-colorado",
   "metadata": {},
   "source": [
    "Since we have updated our class we need to reinstantiate our instance ```l```."
   ]
  },
  {
   "cell_type": "code",
   "execution_count": 256,
   "id": "warming-western",
   "metadata": {},
   "outputs": [],
   "source": [
    "l=ScalarClass(5)"
   ]
  },
  {
   "cell_type": "markdown",
   "id": "ordinary-brazilian",
   "metadata": {},
   "source": [
    "When we attempt to use the method ```get_inverse``` we are informed that the inverse is not yet assigned and instructed to use ```set_inverse``` first."
   ]
  },
  {
   "cell_type": "code",
   "execution_count": 257,
   "id": "registered-privacy",
   "metadata": {},
   "outputs": [
    {
     "name": "stdout",
     "output_type": "stream",
     "text": [
      "inverse is not yet assigned, use set_inverse first.\n"
     ]
    }
   ],
   "source": [
    "l.get_inverse()"
   ]
  },
  {
   "cell_type": "markdown",
   "id": "white-toddler",
   "metadata": {},
   "source": [
    "We can use ```set_inverse``` which works as intended and assigns the attribute ```_inverse```."
   ]
  },
  {
   "cell_type": "code",
   "execution_count": 258,
   "id": "reflected-suspect",
   "metadata": {},
   "outputs": [],
   "source": [
    "l.set_inverse()"
   ]
  },
  {
   "cell_type": "markdown",
   "id": "unsigned-association",
   "metadata": {},
   "source": [
    "Now that the ```_inverse attribute``` is assigned the attribute ```get_inverse``` will work."
   ]
  },
  {
   "cell_type": "code",
   "execution_count": 259,
   "id": "second-humidity",
   "metadata": {},
   "outputs": [
    {
     "data": {
      "text/plain": [
       "0.2"
      ]
     },
     "execution_count": 259,
     "metadata": {},
     "output_type": "execute_result"
    }
   ],
   "source": [
    "l.get_inverse()"
   ]
  },
  {
   "cell_type": "markdown",
   "id": "caring-aside",
   "metadata": {},
   "source": [
    "### Datamodel Methods (dunder methods)"
   ]
  },
  {
   "cell_type": "markdown",
   "id": "forced-converter",
   "metadata": {},
   "source": [
    "We have seen that the (```+``` add) operator acts differently when used with instances of the ```int``` class and instances of the ```str``` class, performing addition and concatenation in each respectively."
   ]
  },
  {
   "cell_type": "code",
   "execution_count": 260,
   "id": "signed-attention",
   "metadata": {},
   "outputs": [],
   "source": [
    "a=1\n",
    "b=2"
   ]
  },
  {
   "cell_type": "code",
   "execution_count": 261,
   "id": "diagnostic-tonight",
   "metadata": {},
   "outputs": [
    {
     "data": {
      "text/plain": [
       "3"
      ]
     },
     "execution_count": 261,
     "metadata": {},
     "output_type": "execute_result"
    }
   ],
   "source": [
    "a+b"
   ]
  },
  {
   "cell_type": "code",
   "execution_count": 262,
   "id": "adult-shannon",
   "metadata": {},
   "outputs": [],
   "source": [
    "c='hello'\n",
    "d='world'"
   ]
  },
  {
   "cell_type": "code",
   "execution_count": 263,
   "id": "acceptable-premises",
   "metadata": {},
   "outputs": [
    {
     "data": {
      "text/plain": [
       "'helloworld'"
      ]
     },
     "execution_count": 263,
     "metadata": {},
     "output_type": "execute_result"
    }
   ],
   "source": [
    "c+d"
   ]
  },
  {
   "cell_type": "markdown",
   "id": "sealed-crystal",
   "metadata": {},
   "source": [
    "Behind the scenes the behaviour of the (```+``` add) operator is defined by the special method ```__add__```. This is also known as a dunder method as the name of each method begins and ends with a **d**ouble **under**score. These are sometimes referred to as *magic* methods or *special* methods however these terms indicate that these methods are mysterious and therefore misunderstood. A better term which more accurately describes their function is a data model method. The following is normally performed using the ```+``` operator but can also be explicitly written using the data model method."
   ]
  },
  {
   "cell_type": "code",
   "execution_count": 264,
   "id": "foreign-windows",
   "metadata": {},
   "outputs": [
    {
     "data": {
      "text/plain": [
       "3"
      ]
     },
     "execution_count": 264,
     "metadata": {},
     "output_type": "execute_result"
    }
   ],
   "source": [
    "a.__add__(b)"
   ]
  },
  {
   "cell_type": "code",
   "execution_count": 265,
   "id": "statutory-graduation",
   "metadata": {},
   "outputs": [
    {
     "data": {
      "text/plain": [
       "'helloworld'"
      ]
     },
     "execution_count": 265,
     "metadata": {},
     "output_type": "execute_result"
    }
   ],
   "source": [
    "c.__add__(d)"
   ]
  },
  {
   "cell_type": "markdown",
   "id": "bizarre-methodology",
   "metadata": {},
   "source": [
    "The above has the form:"
   ]
  },
  {
   "cell_type": "markdown",
   "id": "cutting-measurement",
   "metadata": {},
   "source": [
    "```self.__add__(other)```"
   ]
  },
  {
   "cell_type": "markdown",
   "id": "funky-majority",
   "metadata": {},
   "source": [
    "i.e. the method is called from the instance ```self``` and works on another instance ```other```."
   ]
  },
  {
   "cell_type": "markdown",
   "id": "recovered-clone",
   "metadata": {},
   "source": [
    "We seen earlier that ```object``` is the parent ```class``` of everything in Python. Let's create a Custom ```class``` which is essentially a blank copy of the ```object``` class."
   ]
  },
  {
   "cell_type": "code",
   "execution_count": 266,
   "id": "senior-connectivity",
   "metadata": {},
   "outputs": [],
   "source": [
    "class Scalar(object):\n",
    "    '''Custom Scalar Class.'''\n",
    "    pass"
   ]
  },
  {
   "cell_type": "markdown",
   "id": "simple-toronto",
   "metadata": {},
   "source": [
    "If we use the function ```dir```, we will get details about all the methods and attributes available from the ```class```."
   ]
  },
  {
   "cell_type": "code",
   "execution_count": 267,
   "id": "removable-canal",
   "metadata": {},
   "outputs": [
    {
     "data": {
      "text/plain": [
       "['__class__',\n",
       " '__delattr__',\n",
       " '__dict__',\n",
       " '__dir__',\n",
       " '__doc__',\n",
       " '__eq__',\n",
       " '__format__',\n",
       " '__ge__',\n",
       " '__getattribute__',\n",
       " '__gt__',\n",
       " '__hash__',\n",
       " '__init__',\n",
       " '__init_subclass__',\n",
       " '__le__',\n",
       " '__lt__',\n",
       " '__module__',\n",
       " '__ne__',\n",
       " '__new__',\n",
       " '__reduce__',\n",
       " '__reduce_ex__',\n",
       " '__repr__',\n",
       " '__setattr__',\n",
       " '__sizeof__',\n",
       " '__str__',\n",
       " '__subclasshook__',\n",
       " '__weakref__']"
      ]
     },
     "execution_count": 267,
     "metadata": {},
     "output_type": "execute_result"
    }
   ],
   "source": [
    "dir(Scalar)"
   ]
  },
  {
   "cell_type": "markdown",
   "id": "handled-monday",
   "metadata": {},
   "source": [
    "Let's have a look at the ```__init__```, ```__repr__``` and ```__str__``` datamodel methods."
   ]
  },
  {
   "cell_type": "markdown",
   "id": "constitutional-librarian",
   "metadata": {},
   "source": [
    "When we type in:"
   ]
  },
  {
   "cell_type": "code",
   "execution_count": 268,
   "id": "embedded-click",
   "metadata": {},
   "outputs": [
    {
     "data": {
      "text/plain": [
       "\u001b[1;31mInit signature:\u001b[0m  \u001b[0mScalar\u001b[0m\u001b[1;33m(\u001b[0m\u001b[1;33m)\u001b[0m\u001b[1;33m\u001b[0m\u001b[1;33m\u001b[0m\u001b[0m\n",
       "\u001b[1;31mDocstring:\u001b[0m      Custom Scalar Class.\n",
       "\u001b[1;31mType:\u001b[0m           type\n",
       "\u001b[1;31mSubclasses:\u001b[0m     \n"
      ]
     },
     "metadata": {},
     "output_type": "display_data"
    }
   ],
   "source": [
    "? Scalar"
   ]
  },
  {
   "cell_type": "markdown",
   "id": "wooden-smoke",
   "metadata": {},
   "source": [
    "Then we get details about the init signature. This is blank has no details and no input arguments because we haven't defined the ```__init__``` datamodel method and the default is shown."
   ]
  },
  {
   "cell_type": "markdown",
   "id": "advisory-lottery",
   "metadata": {},
   "source": [
    "We can instantiate an instance of the class using no input arguments:"
   ]
  },
  {
   "cell_type": "code",
   "execution_count": 269,
   "id": "dense-employee",
   "metadata": {},
   "outputs": [],
   "source": [
    "a=Scalar()"
   ]
  },
  {
   "cell_type": "markdown",
   "id": "offensive-privilege",
   "metadata": {},
   "source": [
    "We can display the output of the instance in a cell:"
   ]
  },
  {
   "cell_type": "code",
   "execution_count": 270,
   "id": "extraordinary-budget",
   "metadata": {},
   "outputs": [
    {
     "data": {
      "text/plain": [
       "<__main__.Scalar at 0x2b3550b24c0>"
      ]
     },
     "execution_count": 270,
     "metadata": {},
     "output_type": "execute_result"
    }
   ],
   "source": [
    "a"
   ]
  },
  {
   "cell_type": "markdown",
   "id": "experienced-nashville",
   "metadata": {},
   "source": [
    "Or use the function:"
   ]
  },
  {
   "cell_type": "code",
   "execution_count": 271,
   "id": "damaged-thumbnail",
   "metadata": {},
   "outputs": [
    {
     "data": {
      "text/plain": [
       "'<__main__.Scalar object at 0x000002B3550B24C0>'"
      ]
     },
     "execution_count": 271,
     "metadata": {},
     "output_type": "execute_result"
    }
   ],
   "source": [
    "repr(a)"
   ]
  },
  {
   "cell_type": "markdown",
   "id": "significant-arena",
   "metadata": {},
   "source": [
    "Or the function:"
   ]
  },
  {
   "cell_type": "code",
   "execution_count": 272,
   "id": "hollow-bacon",
   "metadata": {},
   "outputs": [
    {
     "name": "stdout",
     "output_type": "stream",
     "text": [
      "<__main__.Scalar object at 0x000002B3550B24C0>\n"
     ]
    }
   ],
   "source": [
    "print(a)"
   ]
  },
  {
   "cell_type": "markdown",
   "id": "classified-police",
   "metadata": {},
   "source": [
    "Note that function ```repr``` denotes that the output is a ```str```. Outputting the value of a cell or using a ```print``` statement will also display a ```str``` but not explicitly show the quotations. The behaviour of the above can be changed by using the ```__repr__``` data model method."
   ]
  },
  {
   "cell_type": "code",
   "execution_count": 273,
   "id": "compound-tournament",
   "metadata": {},
   "outputs": [],
   "source": [
    "class Scalar(object):\n",
    "    '''Custom Scalar Class.'''\n",
    "    def __repr__(self):\n",
    "        string='Custom Scalar Class.'\n",
    "        return(string)"
   ]
  },
  {
   "cell_type": "markdown",
   "id": "yellow-examination",
   "metadata": {},
   "source": [
    "We can instantiate an instance of the ```class``` once again using no input arguments:"
   ]
  },
  {
   "cell_type": "code",
   "execution_count": 274,
   "id": "complimentary-sullivan",
   "metadata": {},
   "outputs": [],
   "source": [
    "a=Scalar()"
   ]
  },
  {
   "cell_type": "markdown",
   "id": "adjustable-hollow",
   "metadata": {},
   "source": [
    "Now let's look at the behaviour of:"
   ]
  },
  {
   "cell_type": "code",
   "execution_count": 275,
   "id": "unsigned-method",
   "metadata": {},
   "outputs": [
    {
     "data": {
      "text/plain": [
       "Custom Scalar Class."
      ]
     },
     "execution_count": 275,
     "metadata": {},
     "output_type": "execute_result"
    }
   ],
   "source": [
    "a"
   ]
  },
  {
   "cell_type": "code",
   "execution_count": 276,
   "id": "following-state",
   "metadata": {},
   "outputs": [
    {
     "data": {
      "text/plain": [
       "'Custom Scalar Class.'"
      ]
     },
     "execution_count": 276,
     "metadata": {},
     "output_type": "execute_result"
    }
   ],
   "source": [
    "repr(a)"
   ]
  },
  {
   "cell_type": "code",
   "execution_count": 277,
   "id": "indirect-eleven",
   "metadata": {},
   "outputs": [
    {
     "name": "stdout",
     "output_type": "stream",
     "text": [
      "Custom Scalar Class.\n"
     ]
    }
   ],
   "source": [
    "print(a)"
   ]
  },
  {
   "cell_type": "markdown",
   "id": "given-corrections",
   "metadata": {},
   "source": [
    "It is possible to define a slightly different behaviour for the ```print``` function to the ```repr``` function (which also controls output of the cell). This is done by using the additional ```__str__``` data model method."
   ]
  },
  {
   "cell_type": "code",
   "execution_count": 278,
   "id": "light-break",
   "metadata": {},
   "outputs": [],
   "source": [
    "class Scalar(object):\n",
    "    '''Custom Scalar Class.'''\n",
    "    def __repr__(self):\n",
    "        string='Custom Scalar Class.'\n",
    "        return(string)\n",
    "    def __str__(self):\n",
    "        string='Printed Custom Scalar Class.'\n",
    "        return(string)"
   ]
  },
  {
   "cell_type": "code",
   "execution_count": 279,
   "id": "royal-liver",
   "metadata": {},
   "outputs": [],
   "source": [
    "a=Scalar()"
   ]
  },
  {
   "cell_type": "code",
   "execution_count": 280,
   "id": "micro-anatomy",
   "metadata": {},
   "outputs": [
    {
     "data": {
      "text/plain": [
       "Custom Scalar Class."
      ]
     },
     "execution_count": 280,
     "metadata": {},
     "output_type": "execute_result"
    }
   ],
   "source": [
    "a"
   ]
  },
  {
   "cell_type": "code",
   "execution_count": 281,
   "id": "surrounded-repair",
   "metadata": {},
   "outputs": [
    {
     "data": {
      "text/plain": [
       "'Custom Scalar Class.'"
      ]
     },
     "execution_count": 281,
     "metadata": {},
     "output_type": "execute_result"
    }
   ],
   "source": [
    "repr(a)"
   ]
  },
  {
   "cell_type": "code",
   "execution_count": 282,
   "id": "surprised-scheme",
   "metadata": {},
   "outputs": [
    {
     "name": "stdout",
     "output_type": "stream",
     "text": [
      "Printed Custom Scalar Class.\n"
     ]
    }
   ],
   "source": [
    "print(a)"
   ]
  },
  {
   "cell_type": "markdown",
   "id": "bulgarian-seller",
   "metadata": {},
   "source": [
    "The ```__init__``` data model method is ran when a ```class``` is instantiated. It can be used to define instance specific attributes and run additional methods during instantiation. Let's update our ```__init__``` method to create a hidden attribute ```_value``` from a positional input argument ```value```."
   ]
  },
  {
   "cell_type": "code",
   "execution_count": 283,
   "id": "anticipated-deputy",
   "metadata": {},
   "outputs": [],
   "source": [
    "class Scalar(object):\n",
    "    '''Custom Scalar Class.'''\n",
    "    def __init__(self,value):\n",
    "        '''Creates an instance of the Scalar Class from a value.'''\n",
    "        self._value=value\n",
    "    def __repr__(self):\n",
    "        string='Custom Scalar Class.'\n",
    "        return(string)\n",
    "    def __str__(self):\n",
    "        string='Printed Custom Scalar Class.'\n",
    "        return(string)"
   ]
  },
  {
   "cell_type": "markdown",
   "id": "friendly-bunch",
   "metadata": {},
   "source": [
    "Now:"
   ]
  },
  {
   "cell_type": "code",
   "execution_count": 284,
   "id": "concerned-liverpool",
   "metadata": {},
   "outputs": [
    {
     "data": {
      "text/plain": [
       "\u001b[1;31mInit signature:\u001b[0m  \u001b[0mScalar\u001b[0m\u001b[1;33m(\u001b[0m\u001b[0mvalue\u001b[0m\u001b[1;33m)\u001b[0m\u001b[1;33m\u001b[0m\u001b[1;33m\u001b[0m\u001b[0m\n",
       "\u001b[1;31mDocstring:\u001b[0m      Custom Scalar Class.\n",
       "\u001b[1;31mInit docstring:\u001b[0m Creates an instance of the Scalar Class from a value.\n",
       "\u001b[1;31mType:\u001b[0m           type\n",
       "\u001b[1;31mSubclasses:\u001b[0m     \n"
      ]
     },
     "metadata": {},
     "output_type": "display_data"
    }
   ],
   "source": [
    "? Scalar"
   ]
  },
  {
   "cell_type": "code",
   "execution_count": 285,
   "id": "indian-clearance",
   "metadata": {},
   "outputs": [],
   "source": [
    "a=Scalar(5)"
   ]
  },
  {
   "cell_type": "code",
   "execution_count": 286,
   "id": "imposed-practice",
   "metadata": {},
   "outputs": [
    {
     "data": {
      "text/plain": [
       "Custom Scalar Class."
      ]
     },
     "execution_count": 286,
     "metadata": {},
     "output_type": "execute_result"
    }
   ],
   "source": [
    "a"
   ]
  },
  {
   "cell_type": "code",
   "execution_count": 287,
   "id": "subtle-cover",
   "metadata": {},
   "outputs": [
    {
     "data": {
      "text/plain": [
       "'Custom Scalar Class.'"
      ]
     },
     "execution_count": 287,
     "metadata": {},
     "output_type": "execute_result"
    }
   ],
   "source": [
    "repr(a)"
   ]
  },
  {
   "cell_type": "code",
   "execution_count": 288,
   "id": "sized-contrast",
   "metadata": {},
   "outputs": [
    {
     "name": "stdout",
     "output_type": "stream",
     "text": [
      "Printed Custom Scalar Class.\n"
     ]
    }
   ],
   "source": [
    "print(a)"
   ]
  },
  {
   "cell_type": "markdown",
   "id": "suspected-steps",
   "metadata": {},
   "source": [
    "We can update the ```__repr__``` and ```__str__``` methods to display the output analogous to how we instantiate the ```class```."
   ]
  },
  {
   "cell_type": "code",
   "execution_count": 289,
   "id": "foreign-synthetic",
   "metadata": {},
   "outputs": [],
   "source": [
    "class Scalar(object):\n",
    "    '''Custom Scalar Class.'''\n",
    "    def __init__(self,value):\n",
    "        '''Creates an instance of the Scalar Class from a value.'''\n",
    "        self._value=value\n",
    "    def __repr__(self):\n",
    "        string=f'Scalar({self._value})'\n",
    "        return(string)\n",
    "    def __str__(self):\n",
    "        string=f'Scalar({self._value})'\n",
    "        return(string)"
   ]
  },
  {
   "cell_type": "code",
   "execution_count": 290,
   "id": "nervous-reach",
   "metadata": {},
   "outputs": [],
   "source": [
    "a=Scalar(5)"
   ]
  },
  {
   "cell_type": "code",
   "execution_count": 291,
   "id": "dominican-insertion",
   "metadata": {},
   "outputs": [
    {
     "data": {
      "text/plain": [
       "Scalar(5)"
      ]
     },
     "execution_count": 291,
     "metadata": {},
     "output_type": "execute_result"
    }
   ],
   "source": [
    "a"
   ]
  },
  {
   "cell_type": "code",
   "execution_count": 292,
   "id": "familiar-technique",
   "metadata": {},
   "outputs": [
    {
     "data": {
      "text/plain": [
       "'Scalar(5)'"
      ]
     },
     "execution_count": 292,
     "metadata": {},
     "output_type": "execute_result"
    }
   ],
   "source": [
    "repr(a)"
   ]
  },
  {
   "cell_type": "code",
   "execution_count": 293,
   "id": "vocational-excuse",
   "metadata": {},
   "outputs": [
    {
     "name": "stdout",
     "output_type": "stream",
     "text": [
      "Scalar(5)\n"
     ]
    }
   ],
   "source": [
    "print(a)"
   ]
  },
  {
   "cell_type": "markdown",
   "id": "fifth-developer",
   "metadata": {},
   "source": [
    "We can use additional data model methods to define the behaviour of operators. The main data model methods of main interest are and we have used many of these with the ```int``` class."
   ]
  },
  {
   "cell_type": "markdown",
   "id": "about-import",
   "metadata": {},
   "source": [
    "|Data Model Method|Function or Operator|\n",
    "|---|---|\n",
    "|\\_\\_init\\_\\_|init statement|\n",
    "|\\_\\_str\\_\\_|print|\n",
    "|\\_\\_repr\\_\\_|cell output|\n",
    "|\\_\\_len\\_\\_|len|\n",
    "|\\_\\_add\\_\\_|+|\n",
    "|\\_\\_sub\\_\\_|-|\n",
    "|\\_\\_mul\\_\\_|\\*|\n",
    "|\\_\\_pow\\_\\_|\\*\\*|\n",
    "|\\_\\_truediv\\_\\_|/|\n",
    "|\\_\\_matmul\\_\\_|@|\n",
    "|\\_\\_floordiv\\_\\_|//|\n",
    "|\\_\\_mod\\_\\_|%|\n",
    "|\\_\\_eq\\_\\_|==|\n",
    "|\\_\\_ne\\_\\_|!=|\n",
    "|\\_\\_lt\\_\\_|<|\n",
    "|\\_\\_le\\_\\_|<=|\n",
    "|\\_\\_gt\\_\\_|>|\n",
    "|\\_\\_ge\\_\\_|>=|\n",
    "|\\_\\_and\\_\\_|&|\n",
    "|\\_\\_or\\_\\_|\\||\n",
    "|\\_\\_xor\\_\\_|^|\n",
    "|\\_\\_lshift\\_\\_|<<|\n",
    "|\\_\\_rshift\\_\\_|>>|\n",
    "|\\_\\_iadd\\_\\_|+=|\n",
    "|\\_\\_isub\\_\\_|-=|\n",
    "|\\_\\_imul\\_\\_|\\*=|\n",
    "|\\_\\_ipow\\_\\_|\\*\\*=|\n",
    "|\\_\\_idiv\\_\\_|/=|\n",
    "|\\_\\_ifloordiv\\_\\_|//=|\n",
    "|\\_\\_imod\\_\\_|%=|\n",
    "|\\_\\_iand\\_\\_|&=|\n",
    "|\\_\\_ior\\_\\_|\\=||\n",
    "|\\_\\_ixor\\_\\_|^=|\n",
    "|\\_\\_ilshift\\_\\_|<<=|\n",
    "|\\_\\_irshift\\_\\_|>>=|\n"
   ]
  },
  {
   "cell_type": "markdown",
   "id": "agricultural-vacation",
   "metadata": {},
   "source": [
    "We can define the ```__add__``` data model methods."
   ]
  },
  {
   "cell_type": "code",
   "execution_count": 294,
   "id": "isolated-ridge",
   "metadata": {},
   "outputs": [],
   "source": [
    "class Scalar(object):\n",
    "    '''Custom Scalar Class.'''\n",
    "    def __init__(self,value):\n",
    "        '''Creates an instance of the Scalar Class from a value.'''\n",
    "        self._value=value\n",
    "    def __repr__(self):\n",
    "        string=f'Scalar({self._value})'\n",
    "        return(string)\n",
    "    def __str__(self):\n",
    "        string=f'Scalar({self._value})'\n",
    "        return(string)\n",
    "    def __add__(self,other):\n",
    "        return(self._value+other._value)"
   ]
  },
  {
   "cell_type": "code",
   "execution_count": 295,
   "id": "stable-preserve",
   "metadata": {},
   "outputs": [],
   "source": [
    "a=Scalar(5)"
   ]
  },
  {
   "cell_type": "code",
   "execution_count": 296,
   "id": "entire-sarah",
   "metadata": {},
   "outputs": [],
   "source": [
    "b=Scalar(6)"
   ]
  },
  {
   "cell_type": "code",
   "execution_count": 297,
   "id": "criminal-venue",
   "metadata": {},
   "outputs": [
    {
     "data": {
      "text/plain": [
       "11"
      ]
     },
     "execution_count": 297,
     "metadata": {},
     "output_type": "execute_result"
    }
   ],
   "source": [
    "a+b"
   ]
  },
  {
   "cell_type": "markdown",
   "id": "silver-aerospace",
   "metadata": {},
   "source": [
    "Note the output is an ```int```. We can instead return a new instance of the ```Scalar``` class."
   ]
  },
  {
   "cell_type": "code",
   "execution_count": 298,
   "id": "curious-aquatic",
   "metadata": {},
   "outputs": [],
   "source": [
    "class Scalar(object):\n",
    "    '''Custom Scalar Class.'''\n",
    "    def __init__(self,value):\n",
    "        '''Creates an instance of the Scalar Class from a value.'''\n",
    "        self._value=value\n",
    "    def __repr__(self):\n",
    "        string=f'Scalar({self._value})'\n",
    "        return(string)\n",
    "    def __str__(self):\n",
    "        string=f'Scalar({self._value})'\n",
    "        return(string)\n",
    "    def __add__(self,other):\n",
    "        return(Scalar(self._value+other._value))"
   ]
  },
  {
   "cell_type": "code",
   "execution_count": 299,
   "id": "returning-eclipse",
   "metadata": {},
   "outputs": [],
   "source": [
    "a=Scalar(5)"
   ]
  },
  {
   "cell_type": "code",
   "execution_count": 300,
   "id": "advisory-granny",
   "metadata": {},
   "outputs": [],
   "source": [
    "b=Scalar(6)"
   ]
  },
  {
   "cell_type": "code",
   "execution_count": 301,
   "id": "italian-yacht",
   "metadata": {},
   "outputs": [
    {
     "data": {
      "text/plain": [
       "Scalar(11)"
      ]
     },
     "execution_count": 301,
     "metadata": {},
     "output_type": "execute_result"
    }
   ],
   "source": [
    "a+b"
   ]
  },
  {
   "cell_type": "markdown",
   "id": "simple-interim",
   "metadata": {},
   "source": [
    "We can also do this for other data model methods."
   ]
  },
  {
   "cell_type": "code",
   "execution_count": 302,
   "id": "cutting-thickness",
   "metadata": {},
   "outputs": [],
   "source": [
    "class Scalar(object):\n",
    "    '''Custom Scalar Class.'''\n",
    "    def __init__(self,value):\n",
    "        '''Creates an instance of the Scalar Class from a value.'''\n",
    "        self._value=value\n",
    "    def __repr__(self):\n",
    "        string=f'Scalar({self._value})'\n",
    "        return(string)\n",
    "    def __str__(self):\n",
    "        string=f'Scalar({self._value})'\n",
    "        return(string)\n",
    "    def __add__(self,other):\n",
    "        return(Scalar(self._value+other._value))\n",
    "    def __sub__(self,other):\n",
    "        return(Scalar(self._value-other._value))\n",
    "    def __mul__(self,other):\n",
    "        return(Scalar(self._value*other._value))"
   ]
  },
  {
   "cell_type": "code",
   "execution_count": 303,
   "id": "exotic-eagle",
   "metadata": {},
   "outputs": [],
   "source": [
    "a=Scalar(5)"
   ]
  },
  {
   "cell_type": "code",
   "execution_count": 304,
   "id": "elementary-carol",
   "metadata": {},
   "outputs": [],
   "source": [
    "b=Scalar(6)"
   ]
  },
  {
   "cell_type": "code",
   "execution_count": 305,
   "id": "declared-subdivision",
   "metadata": {},
   "outputs": [
    {
     "data": {
      "text/plain": [
       "Scalar(11)"
      ]
     },
     "execution_count": 305,
     "metadata": {},
     "output_type": "execute_result"
    }
   ],
   "source": [
    "a+b"
   ]
  },
  {
   "cell_type": "code",
   "execution_count": 306,
   "id": "heavy-wireless",
   "metadata": {},
   "outputs": [
    {
     "data": {
      "text/plain": [
       "Scalar(-1)"
      ]
     },
     "execution_count": 306,
     "metadata": {},
     "output_type": "execute_result"
    }
   ],
   "source": [
    "a-b"
   ]
  },
  {
   "cell_type": "code",
   "execution_count": 307,
   "id": "unlike-detector",
   "metadata": {},
   "outputs": [
    {
     "data": {
      "text/plain": [
       "Scalar(30)"
      ]
     },
     "execution_count": 307,
     "metadata": {},
     "output_type": "execute_result"
    }
   ],
   "source": [
    "a*b"
   ]
  },
  {
   "cell_type": "markdown",
   "id": "different-jacob",
   "metadata": {},
   "source": [
    "### Inheritance continued"
   ]
  },
  {
   "cell_type": "markdown",
   "id": "modern-seafood",
   "metadata": {},
   "source": [
    "Let's create a very simple custom class ```ParentScalar``` with a single method that has a single positional input argument ```something``` and prints a formatted string containing the value of ```something```. The parent ```class``` will be assigned to ```object```."
   ]
  },
  {
   "cell_type": "code",
   "execution_count": 308,
   "id": "recorded-acceptance",
   "metadata": {},
   "outputs": [],
   "source": [
    "class ParentScalar(object):\n",
    "    '''Custom Scalar class.'''\n",
    "    def printsomething(self,something):\n",
    "        '''This will print something.'''\n",
    "        print(f'This will print {something}')"
   ]
  },
  {
   "cell_type": "code",
   "execution_count": 309,
   "id": "fatal-patch",
   "metadata": {},
   "outputs": [],
   "source": [
    "a=ParentScalar()"
   ]
  },
  {
   "cell_type": "code",
   "execution_count": 310,
   "id": "laden-domestic",
   "metadata": {},
   "outputs": [
    {
     "data": {
      "text/plain": [
       "\u001b[1;31mSignature:\u001b[0m  \u001b[0ma\u001b[0m\u001b[1;33m.\u001b[0m\u001b[0mprintsomething\u001b[0m\u001b[1;33m(\u001b[0m\u001b[0msomething\u001b[0m\u001b[1;33m)\u001b[0m\u001b[1;33m\u001b[0m\u001b[1;33m\u001b[0m\u001b[0m\n",
       "\u001b[1;31mDocstring:\u001b[0m This will print something.\n",
       "\u001b[1;31mFile:\u001b[0m      c:\\users\\phili\\documents\\1. object orientated programming\\<ipython-input-308-40a6c6cb005e>\n",
       "\u001b[1;31mType:\u001b[0m      method\n"
      ]
     },
     "metadata": {},
     "output_type": "display_data"
    }
   ],
   "source": [
    "? a.printsomething"
   ]
  },
  {
   "cell_type": "code",
   "execution_count": 311,
   "id": "opposite-mileage",
   "metadata": {},
   "outputs": [
    {
     "name": "stdout",
     "output_type": "stream",
     "text": [
      "This will print hi\n"
     ]
    }
   ],
   "source": [
    "a.printsomething('hi')"
   ]
  },
  {
   "cell_type": "markdown",
   "id": "center-planner",
   "metadata": {},
   "source": [
    "Now let's create a ```ChildScalar``` which uses ```ParentScalar``` as a parent ```class```. This child ```class``` will inherit the method ```printsomething```."
   ]
  },
  {
   "cell_type": "code",
   "execution_count": 312,
   "id": "metropolitan-fountain",
   "metadata": {},
   "outputs": [],
   "source": [
    "class ChildScalar(ParentScalar):\n",
    "    pass"
   ]
  },
  {
   "cell_type": "code",
   "execution_count": 313,
   "id": "common-improvement",
   "metadata": {},
   "outputs": [],
   "source": [
    "b=ChildScalar()"
   ]
  },
  {
   "cell_type": "code",
   "execution_count": 314,
   "id": "round-documentary",
   "metadata": {},
   "outputs": [
    {
     "data": {
      "text/plain": [
       "\u001b[1;31mSignature:\u001b[0m  \u001b[0mb\u001b[0m\u001b[1;33m.\u001b[0m\u001b[0mprintsomething\u001b[0m\u001b[1;33m(\u001b[0m\u001b[0msomething\u001b[0m\u001b[1;33m)\u001b[0m\u001b[1;33m\u001b[0m\u001b[1;33m\u001b[0m\u001b[0m\n",
       "\u001b[1;31mDocstring:\u001b[0m This will print something.\n",
       "\u001b[1;31mFile:\u001b[0m      c:\\users\\phili\\documents\\1. object orientated programming\\<ipython-input-308-40a6c6cb005e>\n",
       "\u001b[1;31mType:\u001b[0m      method\n"
      ]
     },
     "metadata": {},
     "output_type": "display_data"
    }
   ],
   "source": [
    "? b.printsomething"
   ]
  },
  {
   "cell_type": "code",
   "execution_count": 315,
   "id": "under-seattle",
   "metadata": {},
   "outputs": [
    {
     "name": "stdout",
     "output_type": "stream",
     "text": [
      "This will print hi\n"
     ]
    }
   ],
   "source": [
    "b.printsomething('hi')"
   ]
  },
  {
   "cell_type": "markdown",
   "id": "arranged-personal",
   "metadata": {},
   "source": [
    "Assuming we want to update the method ```printsomething``` to ```print``` a formatted string which contains the value of the positional input ```something``` and also print another formatted string which contains the value of the positional input arguments ```somethingelse```.\n",
    "\n",
    "Defining the method ```printsomething``` will completely override the behaviour of the ```printsomething``` method found in the parents ```class```. If we leave it as blank using ```pass``` we see nothing happens."
   ]
  },
  {
   "cell_type": "code",
   "execution_count": 316,
   "id": "persistent-pitch",
   "metadata": {},
   "outputs": [],
   "source": [
    "class ChildScalar(ParentScalar):\n",
    "    def printsomething(self,something,somethingelse):\n",
    "        pass"
   ]
  },
  {
   "cell_type": "code",
   "execution_count": 317,
   "id": "assigned-parameter",
   "metadata": {},
   "outputs": [],
   "source": [
    "b=ChildScalar()"
   ]
  },
  {
   "cell_type": "code",
   "execution_count": 318,
   "id": "lonely-taste",
   "metadata": {},
   "outputs": [
    {
     "data": {
      "text/plain": [
       "\u001b[1;31mSignature:\u001b[0m  \u001b[0mb\u001b[0m\u001b[1;33m.\u001b[0m\u001b[0mprintsomething\u001b[0m\u001b[1;33m(\u001b[0m\u001b[0msomething\u001b[0m\u001b[1;33m,\u001b[0m \u001b[0msomethingelse\u001b[0m\u001b[1;33m)\u001b[0m\u001b[1;33m\u001b[0m\u001b[1;33m\u001b[0m\u001b[0m\n",
       "\u001b[1;31mDocstring:\u001b[0m This will print something.\n",
       "\u001b[1;31mFile:\u001b[0m      c:\\users\\phili\\documents\\1. object orientated programming\\<ipython-input-316-96bc652350e1>\n",
       "\u001b[1;31mType:\u001b[0m      method\n"
      ]
     },
     "metadata": {},
     "output_type": "display_data"
    }
   ],
   "source": [
    "? b.printsomething"
   ]
  },
  {
   "cell_type": "code",
   "execution_count": 319,
   "id": "becoming-explorer",
   "metadata": {},
   "outputs": [],
   "source": [
    "b.printsomething('hi','bye')"
   ]
  },
  {
   "cell_type": "markdown",
   "id": "vocational-order",
   "metadata": {},
   "source": [
    "We want to reuse the code from within the parents ```class```. To do this we can use ```super```. The ```super``` init method takes 2 positional input arguments, the child ```class``` which we wish to call the superclass of and the instance which will be ```self```. In our example this will be ```super(ChildScalar,self)```. We can then call methods or attributes from the parent ```class``` by using a ```.``` and ```↹```."
   ]
  },
  {
   "cell_type": "markdown",
   "id": "pleasant-content",
   "metadata": {},
   "source": [
    "![inheritance_ChildScalar](inheritance_ChildScalar.png)"
   ]
  },
  {
   "cell_type": "markdown",
   "id": "unnecessary-round",
   "metadata": {},
   "source": [
    "In our case we can call the method print something. Recall in the parent class the positional input arguments were ```self``` and ```something```. ```self``` is already provided when we use ```super``` so the only thing we need is ```something```. This needs to also be present as a positional input argument in the child ```class``` method ```printsomething```."
   ]
  },
  {
   "cell_type": "code",
   "execution_count": 320,
   "id": "pointed-lloyd",
   "metadata": {},
   "outputs": [],
   "source": [
    "class ChildScalar(ParentScalar):\n",
    "    def printsomething(self,something,somethingelse):\n",
    "        super(ChildScalar,self).printsomething(something)"
   ]
  },
  {
   "cell_type": "markdown",
   "id": "valued-yellow",
   "metadata": {},
   "source": [
    "We can now reinstantiate ```b``` and call the child ```class``` method ```printsomething```."
   ]
  },
  {
   "cell_type": "code",
   "execution_count": 321,
   "id": "monthly-carol",
   "metadata": {},
   "outputs": [],
   "source": [
    "b=ChildScalar()"
   ]
  },
  {
   "cell_type": "code",
   "execution_count": 322,
   "id": "institutional-syndicate",
   "metadata": {},
   "outputs": [
    {
     "data": {
      "text/plain": [
       "\u001b[1;31mSignature:\u001b[0m  \u001b[0mb\u001b[0m\u001b[1;33m.\u001b[0m\u001b[0mprintsomething\u001b[0m\u001b[1;33m(\u001b[0m\u001b[0msomething\u001b[0m\u001b[1;33m,\u001b[0m \u001b[0msomethingelse\u001b[0m\u001b[1;33m)\u001b[0m\u001b[1;33m\u001b[0m\u001b[1;33m\u001b[0m\u001b[0m\n",
       "\u001b[1;31mDocstring:\u001b[0m This will print something.\n",
       "\u001b[1;31mFile:\u001b[0m      c:\\users\\phili\\documents\\1. object orientated programming\\<ipython-input-320-16c118dc6771>\n",
       "\u001b[1;31mType:\u001b[0m      method\n"
      ]
     },
     "metadata": {},
     "output_type": "display_data"
    }
   ],
   "source": [
    "? b.printsomething"
   ]
  },
  {
   "cell_type": "code",
   "execution_count": 323,
   "id": "competitive-suicide",
   "metadata": {},
   "outputs": [
    {
     "name": "stdout",
     "output_type": "stream",
     "text": [
      "This will print hi\n"
     ]
    }
   ],
   "source": [
    "b.printsomething('hi','bye')"
   ]
  },
  {
   "cell_type": "markdown",
   "id": "connected-evening",
   "metadata": {},
   "source": [
    "We can now modify the ```printsomething``` method in the child ```class``` to give additional functionality not present in the ```printsomething``` method of the parent ```class```, for example an additional formatted string which contains the second positional input argument ```somethingelse```."
   ]
  },
  {
   "cell_type": "code",
   "execution_count": 324,
   "id": "solar-patrol",
   "metadata": {},
   "outputs": [],
   "source": [
    "class ChildScalar(ParentScalar):\n",
    "    def printsomething(self,something,somethingelse):\n",
    "        super(ChildScalar,self).printsomething(something)\n",
    "        print(f'This will print {somethingelse}')"
   ]
  },
  {
   "cell_type": "code",
   "execution_count": 325,
   "id": "visible-canberra",
   "metadata": {},
   "outputs": [],
   "source": [
    "b=ChildScalar()"
   ]
  },
  {
   "cell_type": "code",
   "execution_count": 326,
   "id": "given-indie",
   "metadata": {},
   "outputs": [
    {
     "data": {
      "text/plain": [
       "\u001b[1;31mSignature:\u001b[0m  \u001b[0mb\u001b[0m\u001b[1;33m.\u001b[0m\u001b[0mprintsomething\u001b[0m\u001b[1;33m(\u001b[0m\u001b[0msomething\u001b[0m\u001b[1;33m,\u001b[0m \u001b[0msomethingelse\u001b[0m\u001b[1;33m)\u001b[0m\u001b[1;33m\u001b[0m\u001b[1;33m\u001b[0m\u001b[0m\n",
       "\u001b[1;31mDocstring:\u001b[0m This will print something.\n",
       "\u001b[1;31mFile:\u001b[0m      c:\\users\\phili\\documents\\1. object orientated programming\\<ipython-input-324-1843de9c1e99>\n",
       "\u001b[1;31mType:\u001b[0m      method\n"
      ]
     },
     "metadata": {},
     "output_type": "display_data"
    }
   ],
   "source": [
    "? b.printsomething"
   ]
  },
  {
   "cell_type": "code",
   "execution_count": 327,
   "id": "naughty-raleigh",
   "metadata": {},
   "outputs": [
    {
     "name": "stdout",
     "output_type": "stream",
     "text": [
      "This will print hi\n",
      "This will print bye\n"
     ]
    }
   ],
   "source": [
    "b.printsomething('hi','bye')"
   ]
  },
  {
   "cell_type": "markdown",
   "id": "right-blair",
   "metadata": {},
   "source": [
    "Now the code works as expected. Notice that the docstring from the function ```printsomething``` is from the parent ```class```. We can create a docstring when defining the ```printsomething``` method in the ```child``` class that is more relevant."
   ]
  },
  {
   "cell_type": "code",
   "execution_count": 328,
   "id": "organizational-patio",
   "metadata": {},
   "outputs": [],
   "source": [
    "class ChildScalar(ParentScalar):\n",
    "    def printsomething(self,something,somethingelse):\n",
    "        '''This will print something from the parent class and somethingelse from the child class.'''\n",
    "        super(ChildScalar,self).printsomething(something)\n",
    "        print(f'This will print {somethingelse}')"
   ]
  },
  {
   "cell_type": "code",
   "execution_count": 329,
   "id": "innocent-protest",
   "metadata": {},
   "outputs": [],
   "source": [
    "b=ChildScalar()"
   ]
  },
  {
   "cell_type": "code",
   "execution_count": 330,
   "id": "entertaining-liability",
   "metadata": {},
   "outputs": [
    {
     "data": {
      "text/plain": [
       "\u001b[1;31mSignature:\u001b[0m  \u001b[0mb\u001b[0m\u001b[1;33m.\u001b[0m\u001b[0mprintsomething\u001b[0m\u001b[1;33m(\u001b[0m\u001b[0msomething\u001b[0m\u001b[1;33m,\u001b[0m \u001b[0msomethingelse\u001b[0m\u001b[1;33m)\u001b[0m\u001b[1;33m\u001b[0m\u001b[1;33m\u001b[0m\u001b[0m\n",
       "\u001b[1;31mDocstring:\u001b[0m This will print something from the parent class and somethingelse from the child class.\n",
       "\u001b[1;31mFile:\u001b[0m      c:\\users\\phili\\documents\\1. object orientated programming\\<ipython-input-328-ff0cc7bd5ada>\n",
       "\u001b[1;31mType:\u001b[0m      method\n"
      ]
     },
     "metadata": {},
     "output_type": "display_data"
    }
   ],
   "source": [
    "? b.printsomething"
   ]
  },
  {
   "cell_type": "code",
   "execution_count": 331,
   "id": "alive-baseline",
   "metadata": {},
   "outputs": [
    {
     "name": "stdout",
     "output_type": "stream",
     "text": [
      "This will print hi\n",
      "This will print bye\n"
     ]
    }
   ],
   "source": [
    "b.printsomething('hi','bye')"
   ]
  },
  {
   "cell_type": "markdown",
   "id": "available-decline",
   "metadata": {},
   "source": [
    "Because ```super``` is being called from within a method. The child ```class``` and instance ```self``` are implied if not stated (the code may be easier to follow for beginners if they are explicitly stated however). This means the following code would still work."
   ]
  },
  {
   "cell_type": "code",
   "execution_count": 332,
   "id": "statutory-swing",
   "metadata": {},
   "outputs": [],
   "source": [
    "class ChildScalar(ParentScalar):\n",
    "    def printsomething(self,something,somethingelse):\n",
    "        '''This will print something from the parent class and somethingelse from the child class.'''\n",
    "        super().printsomething(something)\n",
    "        print(f'This will print {somethingelse}')"
   ]
  },
  {
   "cell_type": "code",
   "execution_count": 333,
   "id": "streaming-knitting",
   "metadata": {},
   "outputs": [],
   "source": [
    "b=ChildScalar()"
   ]
  },
  {
   "cell_type": "code",
   "execution_count": 334,
   "id": "treated-little",
   "metadata": {},
   "outputs": [
    {
     "data": {
      "text/plain": [
       "\u001b[1;31mSignature:\u001b[0m  \u001b[0mb\u001b[0m\u001b[1;33m.\u001b[0m\u001b[0mprintsomething\u001b[0m\u001b[1;33m(\u001b[0m\u001b[0msomething\u001b[0m\u001b[1;33m,\u001b[0m \u001b[0msomethingelse\u001b[0m\u001b[1;33m)\u001b[0m\u001b[1;33m\u001b[0m\u001b[1;33m\u001b[0m\u001b[0m\n",
       "\u001b[1;31mDocstring:\u001b[0m This will print something from the parent class and somethingelse from the child class.\n",
       "\u001b[1;31mFile:\u001b[0m      c:\\users\\phili\\documents\\1. object orientated programming\\<ipython-input-332-8463ce5be87e>\n",
       "\u001b[1;31mType:\u001b[0m      method\n"
      ]
     },
     "metadata": {},
     "output_type": "display_data"
    }
   ],
   "source": [
    "? b.printsomething"
   ]
  },
  {
   "cell_type": "code",
   "execution_count": 335,
   "id": "cognitive-scott",
   "metadata": {},
   "outputs": [
    {
     "name": "stdout",
     "output_type": "stream",
     "text": [
      "This will print hi\n",
      "This will print bye\n"
     ]
    }
   ],
   "source": [
    "b.printsomething('hi','bye')"
   ]
  },
  {
   "cell_type": "markdown",
   "id": "perfect-option",
   "metadata": {},
   "source": [
    "Also the new method name in the child ```class``` does not need to have an identical name to that specified in the parent ```class```. "
   ]
  },
  {
   "cell_type": "code",
   "execution_count": 336,
   "id": "sapphire-confirmation",
   "metadata": {},
   "outputs": [],
   "source": [
    "class ChildScalar(ParentScalar):\n",
    "    def printsomething2(self,something,somethingelse):\n",
    "        '''This will print something from the parent class and somethingelse from the child class.'''\n",
    "        super(ChildScalar,self).printsomething(something)\n",
    "        print(f'This will print {somethingelse}')"
   ]
  },
  {
   "cell_type": "code",
   "execution_count": 337,
   "id": "devoted-committee",
   "metadata": {},
   "outputs": [],
   "source": [
    "b=ChildScalar()"
   ]
  },
  {
   "cell_type": "markdown",
   "id": "supposed-approach",
   "metadata": {},
   "source": [
    "The method ```printsomething``` is entirely inherited from the parent ```class```."
   ]
  },
  {
   "cell_type": "code",
   "execution_count": 338,
   "id": "usual-recall",
   "metadata": {},
   "outputs": [
    {
     "data": {
      "text/plain": [
       "\u001b[1;31mSignature:\u001b[0m  \u001b[0mb\u001b[0m\u001b[1;33m.\u001b[0m\u001b[0mprintsomething\u001b[0m\u001b[1;33m(\u001b[0m\u001b[0msomething\u001b[0m\u001b[1;33m)\u001b[0m\u001b[1;33m\u001b[0m\u001b[1;33m\u001b[0m\u001b[0m\n",
       "\u001b[1;31mDocstring:\u001b[0m This will print something.\n",
       "\u001b[1;31mFile:\u001b[0m      c:\\users\\phili\\documents\\1. object orientated programming\\<ipython-input-308-40a6c6cb005e>\n",
       "\u001b[1;31mType:\u001b[0m      method\n"
      ]
     },
     "metadata": {},
     "output_type": "display_data"
    }
   ],
   "source": [
    "? b.printsomething"
   ]
  },
  {
   "cell_type": "markdown",
   "id": "union-large",
   "metadata": {},
   "source": [
    "The method ```printsomething2``` calls ```printsomething``` from the parent ```class``` and adds the additional functionality specified."
   ]
  },
  {
   "cell_type": "code",
   "execution_count": 339,
   "id": "subject-devon",
   "metadata": {},
   "outputs": [
    {
     "data": {
      "text/plain": [
       "\u001b[1;31mSignature:\u001b[0m  \u001b[0mb\u001b[0m\u001b[1;33m.\u001b[0m\u001b[0mprintsomething2\u001b[0m\u001b[1;33m(\u001b[0m\u001b[0msomething\u001b[0m\u001b[1;33m,\u001b[0m \u001b[0msomethingelse\u001b[0m\u001b[1;33m)\u001b[0m\u001b[1;33m\u001b[0m\u001b[1;33m\u001b[0m\u001b[0m\n",
       "\u001b[1;31mDocstring:\u001b[0m This will print something from the parent class and somethingelse from the child class.\n",
       "\u001b[1;31mFile:\u001b[0m      c:\\users\\phili\\documents\\1. object orientated programming\\<ipython-input-336-7565b6b95a56>\n",
       "\u001b[1;31mType:\u001b[0m      method\n"
      ]
     },
     "metadata": {},
     "output_type": "display_data"
    }
   ],
   "source": [
    "? b.printsomething2"
   ]
  },
  {
   "cell_type": "code",
   "execution_count": 340,
   "id": "scheduled-cameroon",
   "metadata": {},
   "outputs": [
    {
     "name": "stdout",
     "output_type": "stream",
     "text": [
      "This will print hi\n"
     ]
    }
   ],
   "source": [
    "b.printsomething('hi')"
   ]
  },
  {
   "cell_type": "code",
   "execution_count": 341,
   "id": "banned-messaging",
   "metadata": {},
   "outputs": [
    {
     "name": "stdout",
     "output_type": "stream",
     "text": [
      "This will print hi\n",
      "This will print bye\n"
     ]
    }
   ],
   "source": [
    "b.printsomething2('hi','bye')"
   ]
  },
  {
   "cell_type": "markdown",
   "id": "common-weapon",
   "metadata": {},
   "source": [
    "Now let us recreate the parent ```class``` and include an ```__init__``` data model method which will use a single positional input argument ```value``` and create an attribute ```value``` from it."
   ]
  },
  {
   "cell_type": "code",
   "execution_count": 342,
   "id": "right-firewall",
   "metadata": {},
   "outputs": [],
   "source": [
    "class ParentScalar(object):\n",
    "    '''Custom Parent Scalar Class.'''\n",
    "    def __init__(self,value):\n",
    "        '''Creates an instance of the Scalar Class from a value.'''\n",
    "        self.value=value"
   ]
  },
  {
   "cell_type": "markdown",
   "id": "animal-repair",
   "metadata": {},
   "source": [
    "Let's assume we want to create a child ```class``` and want to inherit the parent classes ```__init__``` method but add an additional attribute ```att```. We can use ```super().__init__()``` to the ```___init___``` data model method from theparent ```class```. "
   ]
  },
  {
   "cell_type": "code",
   "execution_count": 343,
   "id": "intensive-huntington",
   "metadata": {},
   "outputs": [],
   "source": [
    "class ChildScalar(ParentScalar):\n",
    "    def __init__(self,value,att):\n",
    "        '''Creates an attribute value from the parent class and an attribute att from the child class.'''\n",
    "        self.att=att\n",
    "        super(ChildScalar,self).__init__(value)"
   ]
  },
  {
   "cell_type": "markdown",
   "id": "acceptable-powder",
   "metadata": {},
   "source": [
    "We can create the instance ```a``` and see that this works as expected."
   ]
  },
  {
   "cell_type": "code",
   "execution_count": 344,
   "id": "different-thought",
   "metadata": {},
   "outputs": [
    {
     "data": {
      "text/plain": [
       "\u001b[1;31mInit signature:\u001b[0m  \u001b[0mChildScalar\u001b[0m\u001b[1;33m(\u001b[0m\u001b[0mvalue\u001b[0m\u001b[1;33m,\u001b[0m \u001b[0matt\u001b[0m\u001b[1;33m)\u001b[0m\u001b[1;33m\u001b[0m\u001b[1;33m\u001b[0m\u001b[0m\n",
       "\u001b[1;31mDocstring:\u001b[0m      Custom Parent Scalar Class.\n",
       "\u001b[1;31mInit docstring:\u001b[0m Creates an attribute value from the parent class and an attribute att from the child class.\n",
       "\u001b[1;31mType:\u001b[0m           type\n",
       "\u001b[1;31mSubclasses:\u001b[0m     \n"
      ]
     },
     "metadata": {},
     "output_type": "display_data"
    }
   ],
   "source": [
    "? ChildScalar"
   ]
  },
  {
   "cell_type": "code",
   "execution_count": 345,
   "id": "conservative-crest",
   "metadata": {},
   "outputs": [],
   "source": [
    "a=ChildScalar(2,1)"
   ]
  },
  {
   "cell_type": "code",
   "execution_count": 346,
   "id": "following-elements",
   "metadata": {},
   "outputs": [
    {
     "data": {
      "text/plain": [
       "1"
      ]
     },
     "execution_count": 346,
     "metadata": {},
     "output_type": "execute_result"
    }
   ],
   "source": [
    "a.att"
   ]
  },
  {
   "cell_type": "code",
   "execution_count": 347,
   "id": "portable-hotel",
   "metadata": {},
   "outputs": [
    {
     "data": {
      "text/plain": [
       "2"
      ]
     },
     "execution_count": 347,
     "metadata": {},
     "output_type": "execute_result"
    }
   ],
   "source": [
    "a.value"
   ]
  },
  {
   "cell_type": "markdown",
   "id": "powerful-bachelor",
   "metadata": {},
   "source": [
    "## A Custom Fraction class"
   ]
  },
  {
   "cell_type": "markdown",
   "id": "heated-transmission",
   "metadata": {},
   "source": [
    "Let's think about the way we would go about constructing a fraction class. A fraction has a numerator and a denominator. These can be initialized as the int ```n``` and ```d``` when the fraction is created. We will store them to the hidden attributes ```_n``` and ```_d``` respectively."
   ]
  },
  {
   "cell_type": "markdown",
   "id": "copyrighted-forth",
   "metadata": {},
   "source": [
    "$\\frac{\\textrm{self.n}}{\\textrm{self.d}}$"
   ]
  },
  {
   "cell_type": "code",
   "execution_count": 348,
   "id": "charitable-winning",
   "metadata": {},
   "outputs": [],
   "source": [
    "class Fraction(object):\n",
    "    '''Fraction\n",
    "    n is the numerator and must be an integer\n",
    "    d is the denominator and must be an integer'''\n",
    "    def __init__(self,n,d):\n",
    "        self._n=n\n",
    "        self._d=d"
   ]
  },
  {
   "cell_type": "code",
   "execution_count": 349,
   "id": "positive-prerequisite",
   "metadata": {},
   "outputs": [],
   "source": [
    "o=Fraction(1,2)"
   ]
  },
  {
   "cell_type": "code",
   "execution_count": 350,
   "id": "contained-instruction",
   "metadata": {},
   "outputs": [
    {
     "data": {
      "text/plain": [
       "1"
      ]
     },
     "execution_count": 350,
     "metadata": {},
     "output_type": "execute_result"
    }
   ],
   "source": [
    "o._n"
   ]
  },
  {
   "cell_type": "code",
   "execution_count": 351,
   "id": "leading-bridal",
   "metadata": {},
   "outputs": [
    {
     "data": {
      "text/plain": [
       "2"
      ]
     },
     "execution_count": 351,
     "metadata": {},
     "output_type": "execute_result"
    }
   ],
   "source": [
    "o._d"
   ]
  },
  {
   "cell_type": "markdown",
   "id": "american-nelson",
   "metadata": {},
   "source": [
    "In the ```__init__``` method we will want to ensure that both ```n``` and ```d``` are integers and also that ```d``` is not equal to ```0```. "
   ]
  },
  {
   "cell_type": "code",
   "execution_count": 352,
   "id": "secondary-radio",
   "metadata": {},
   "outputs": [],
   "source": [
    "class Fraction(object):\n",
    "    '''Fraction\n",
    "    n is the numerator and must be an integer\n",
    "    d is the denominator and must be an integer'''\n",
    "    def __init__(self,n,d):\n",
    "        try: \n",
    "            assert (type(n)==int and type(d)==int), 'n and d must be of the type int.'\n",
    "            self._n=n\n",
    "            try: \n",
    "                assert (d!=0)\n",
    "                self._d=d\n",
    "            except AssertionError:\n",
    "                print('d cannot be zero.')\n",
    "        except AssertionError:\n",
    "            print('n and d must be of the type int.')\n",
    "        "
   ]
  },
  {
   "cell_type": "markdown",
   "id": "enclosed-attention",
   "metadata": {},
   "source": [
    "We can see this works as expected."
   ]
  },
  {
   "cell_type": "code",
   "execution_count": 353,
   "id": "ranking-participation",
   "metadata": {},
   "outputs": [],
   "source": [
    "l=Fraction(1,2)"
   ]
  },
  {
   "cell_type": "code",
   "execution_count": 354,
   "id": "reported-federation",
   "metadata": {},
   "outputs": [
    {
     "name": "stdout",
     "output_type": "stream",
     "text": [
      "n and d must be of the type int.\n"
     ]
    }
   ],
   "source": [
    "m=Fraction(1,2.1)"
   ]
  },
  {
   "cell_type": "code",
   "execution_count": 355,
   "id": "promising-radio",
   "metadata": {},
   "outputs": [
    {
     "name": "stdout",
     "output_type": "stream",
     "text": [
      "d cannot be zero.\n"
     ]
    }
   ],
   "source": [
    "n=Fraction(2,0)"
   ]
  },
  {
   "cell_type": "markdown",
   "id": "headed-particular",
   "metadata": {},
   "source": [
    "If we insert the values of ```6``` and ```4``` for the numerator and denominator."
   ]
  },
  {
   "cell_type": "code",
   "execution_count": 356,
   "id": "statistical-immune",
   "metadata": {},
   "outputs": [],
   "source": [
    "p=Fraction(6,4)"
   ]
  },
  {
   "cell_type": "markdown",
   "id": "married-national",
   "metadata": {},
   "source": [
    "We would like to automatically round it down to ```3``` and ```2``` because both the numerator and denominator are perfectly divisable by ```2``` and give a modulo of ```0```."
   ]
  },
  {
   "cell_type": "code",
   "execution_count": 357,
   "id": "every-coverage",
   "metadata": {},
   "outputs": [
    {
     "data": {
      "text/plain": [
       "3"
      ]
     },
     "execution_count": 357,
     "metadata": {},
     "output_type": "execute_result"
    }
   ],
   "source": [
    "p._n//2"
   ]
  },
  {
   "cell_type": "code",
   "execution_count": 358,
   "id": "polar-moore",
   "metadata": {},
   "outputs": [
    {
     "data": {
      "text/plain": [
       "0"
      ]
     },
     "execution_count": 358,
     "metadata": {},
     "output_type": "execute_result"
    }
   ],
   "source": [
    "p._n%2"
   ]
  },
  {
   "cell_type": "code",
   "execution_count": 359,
   "id": "polyphonic-listening",
   "metadata": {},
   "outputs": [
    {
     "data": {
      "text/plain": [
       "2"
      ]
     },
     "execution_count": 359,
     "metadata": {},
     "output_type": "execute_result"
    }
   ],
   "source": [
    "p._d//2"
   ]
  },
  {
   "cell_type": "code",
   "execution_count": 360,
   "id": "preliminary-peter",
   "metadata": {},
   "outputs": [
    {
     "data": {
      "text/plain": [
       "0"
      ]
     },
     "execution_count": 360,
     "metadata": {},
     "output_type": "execute_result"
    }
   ],
   "source": [
    "p._d%2"
   ]
  },
  {
   "cell_type": "markdown",
   "id": "extended-steps",
   "metadata": {},
   "source": [
    "To check for this we will need to construct a for loop counting from the value of the denominator in steps of ```-1```. Note that we are inclusive of the lower bound and exclusive of the top bound. So we will go to ```1``` and the last value will therefore be ```2```. There is no change when the lowest common denominator is ```1```."
   ]
  },
  {
   "cell_type": "code",
   "execution_count": 361,
   "id": "military-output",
   "metadata": {},
   "outputs": [
    {
     "name": "stdout",
     "output_type": "stream",
     "text": [
      "4\n",
      "3\n",
      "2\n"
     ]
    }
   ],
   "source": [
    "for idx in range(p._d,1,-1):\n",
    "    print(idx)"
   ]
  },
  {
   "cell_type": "markdown",
   "id": "second-coordination",
   "metadata": {},
   "source": [
    "We are only interested in cases where both ```n``` and ```d``` give a modulo of ```0``` when divided by the value and we are also only interested in the highest value. So wish to ```break``` the ```for``` loop ```if``` such a value is found."
   ]
  },
  {
   "cell_type": "code",
   "execution_count": 362,
   "id": "sixth-degree",
   "metadata": {},
   "outputs": [
    {
     "name": "stdout",
     "output_type": "stream",
     "text": [
      "2\n",
      "n=3\n",
      "d=2\n"
     ]
    }
   ],
   "source": [
    "for idx in range(p._d,1,-1):\n",
    "    if (p._n%idx==0 and p._d%idx==0):\n",
    "        print(idx)\n",
    "        print(f'n={p._n//idx}')\n",
    "        print(f'd={p._d//idx}')\n",
    "        break"
   ]
  },
  {
   "cell_type": "markdown",
   "id": "solar-english",
   "metadata": {},
   "source": [
    "Let's create a method called ```common_factor``` which includes this code. We can call this method in the ```__init__``` method to automatically divide our fraction through by the common factor."
   ]
  },
  {
   "cell_type": "code",
   "execution_count": 363,
   "id": "stopped-movie",
   "metadata": {},
   "outputs": [],
   "source": [
    "class Fraction(object):\n",
    "    '''Fraction\n",
    "    n is the numerator and must be an integer\n",
    "    d is the denominator and must be an integer'''\n",
    "    def __init__(self,n,d):\n",
    "        try: \n",
    "            assert (type(n)==int and type(d)==int), 'n and d must be of the type int.'\n",
    "            self._n=n\n",
    "            try: \n",
    "                assert (d!=0)\n",
    "                self._d=d\n",
    "                self.common_factor()\n",
    "            except AssertionError:\n",
    "                print('d cannot be zero.')\n",
    "        except AssertionError:\n",
    "            print('n and d must be of the type int.')\n",
    "    def common_factor(self):\n",
    "        for idx in range(self._d,1,-1):\n",
    "            if (self._n%idx==0 and self._d%idx==0):\n",
    "                self._n=self._n//idx\n",
    "                self._d=self._d//idx\n",
    "                break"
   ]
  },
  {
   "cell_type": "code",
   "execution_count": 364,
   "id": "square-section",
   "metadata": {},
   "outputs": [],
   "source": [
    "p=Fraction(6,4)"
   ]
  },
  {
   "cell_type": "code",
   "execution_count": 365,
   "id": "outside-chemistry",
   "metadata": {},
   "outputs": [
    {
     "data": {
      "text/plain": [
       "3"
      ]
     },
     "execution_count": 365,
     "metadata": {},
     "output_type": "execute_result"
    }
   ],
   "source": [
    "p._n"
   ]
  },
  {
   "cell_type": "code",
   "execution_count": 366,
   "id": "second-constant",
   "metadata": {},
   "outputs": [
    {
     "data": {
      "text/plain": [
       "2"
      ]
     },
     "execution_count": 366,
     "metadata": {},
     "output_type": "execute_result"
    }
   ],
   "source": [
    "p._d"
   ]
  },
  {
   "cell_type": "markdown",
   "id": "compound-speech",
   "metadata": {},
   "source": [
    "We may now want to update the data model methods ```__str__``` and ```__repr__``` to mimic the representation used in the ```__init__``` data model method."
   ]
  },
  {
   "cell_type": "code",
   "execution_count": 367,
   "id": "continent-defensive",
   "metadata": {},
   "outputs": [],
   "source": [
    "class Fraction(object):\n",
    "    '''Fraction\n",
    "    n is the numerator and must be an integer\n",
    "    d is the denominator and must be an integer'''\n",
    "    def __init__(self,n,d):\n",
    "        try: \n",
    "            assert (type(n)==int and type(d)==int), 'n and d must be of the type int.'\n",
    "            self._n=n\n",
    "            try: \n",
    "                assert (d!=0)\n",
    "                self._d=d\n",
    "                self.common_factor()\n",
    "            except AssertionError:\n",
    "                print('d cannot be zero.')\n",
    "        except AssertionError:\n",
    "            print('n and d must be of the type int.')\n",
    "    def common_factor(self):\n",
    "        for idx in range(self._d,1,-1):\n",
    "            if (self._n%idx==0 and self._d%idx==0):\n",
    "                self._n=self._n//idx\n",
    "                self._d=self._d//idx\n",
    "                break\n",
    "    def __str__(self):\n",
    "        string=f'Fraction({self._n},{self._d})'\n",
    "        return(string)\n",
    "    def __repr__(self):\n",
    "        string=f'Fraction({self._n},{self._d})'\n",
    "        return(string)"
   ]
  },
  {
   "cell_type": "markdown",
   "id": "encouraging-article",
   "metadata": {},
   "source": [
    "We can now easily see that the fraction 6/4 is automatically divided by the lowest common factor to become 3/2. "
   ]
  },
  {
   "cell_type": "code",
   "execution_count": 368,
   "id": "empirical-ideal",
   "metadata": {},
   "outputs": [],
   "source": [
    "p=Fraction(6,4)"
   ]
  },
  {
   "cell_type": "code",
   "execution_count": 369,
   "id": "flush-cement",
   "metadata": {},
   "outputs": [
    {
     "data": {
      "text/plain": [
       "Fraction(3,2)"
      ]
     },
     "execution_count": 369,
     "metadata": {},
     "output_type": "execute_result"
    }
   ],
   "source": [
    "p"
   ]
  },
  {
   "cell_type": "markdown",
   "id": "treated-watershed",
   "metadata": {},
   "source": [
    "Let's now consider how we would perform mathmatical opeartions between fractions. In the case of a fraction, multiplication and division are actually slightly easier than addition and subtraction. "
   ]
  },
  {
   "cell_type": "markdown",
   "id": "funded-portable",
   "metadata": {},
   "source": [
    "Fraction multiplication:"
   ]
  },
  {
   "cell_type": "markdown",
   "id": "surprised-savings",
   "metadata": {},
   "source": [
    "$\\frac{\\textrm{self.n}}{\\textrm{self.d}}\\cdot\\frac{\\textrm{other.n}}{\\textrm{other.d}}=\\frac{\\textrm{self.n}\\cdot\\textrm{other.n}}{\\textrm{self.d}\\cdot\\textrm{other.d}}$"
   ]
  },
  {
   "cell_type": "markdown",
   "id": "atomic-teach",
   "metadata": {},
   "source": [
    "Fraction division:"
   ]
  },
  {
   "cell_type": "markdown",
   "id": "fancy-collapse",
   "metadata": {},
   "source": [
    "$\\frac{\\textrm{self.n}}{\\textrm{self.d}}\\div\\frac{\\textrm{other.n}}{\\textrm{other.d}}=\\frac{\\textrm{self.n}}{\\textrm{self.d}}\\cdot\\frac{\\textrm{other.d}}{\\textrm{other.n}}=\\frac{\\textrm{self.n}\\cdot\\textrm{other.d}}{\\textrm{self.d}\\cdot\\textrm{other.n}}$"
   ]
  },
  {
   "cell_type": "markdown",
   "id": "recognized-album",
   "metadata": {},
   "source": [
    "Fraction addition:"
   ]
  },
  {
   "cell_type": "markdown",
   "id": "coupled-robertson",
   "metadata": {},
   "source": [
    "$\\frac{\\textrm{self.n}}{\\textrm{self.d}}+\\frac{\\textrm{other.n}}{\\textrm{other.d}}=\\frac{\\textrm{self.n}}{\\textrm{self.d}}\\cdot\\frac{\\textrm{other.d}}{\\textrm{other.d}}+\\frac{\\textrm{other.n}}{\\textrm{other.d}}\\cdot\\frac{\\textrm{self.d}}{\\textrm{self.d}}=\\frac{\\textrm{self.n}\\cdot\\textrm{other.d}+\\textrm{other.n}\\cdot\\textrm{self.d}}{\\textrm{self.d}\\cdot\\textrm{other.d}}$"
   ]
  },
  {
   "cell_type": "markdown",
   "id": "industrial-calculation",
   "metadata": {},
   "source": [
    "Fraction subtraction:"
   ]
  },
  {
   "cell_type": "markdown",
   "id": "approximate-continent",
   "metadata": {},
   "source": [
    "$\\frac{\\textrm{self.n}}{\\textrm{self.d}}-\\frac{\\textrm{other.n}}{\\textrm{other.d}}=\\frac{\\textrm{self.n}}{\\textrm{self.d}}\\cdot\\frac{\\textrm{other.d}}{\\textrm{other.d}}-\\frac{\\textrm{other.n}}{\\textrm{other.d}}\\cdot\\frac{\\textrm{self.d}}{\\textrm{self.d}}=\\frac{\\textrm{self.n}\\cdot\\textrm{other.d}-\\textrm{other.n}\\cdot\\textrm{self.d}}{\\textrm{self.d}\\cdot\\textrm{other.d}}$"
   ]
  },
  {
   "cell_type": "markdown",
   "id": "alone-biodiversity",
   "metadata": {},
   "source": [
    "As it is the simplest to compute let's begin with the ```__mul__``` data model method."
   ]
  },
  {
   "cell_type": "code",
   "execution_count": 370,
   "id": "consecutive-creator",
   "metadata": {},
   "outputs": [],
   "source": [
    "class Fraction(object):\n",
    "    '''Fraction\n",
    "    n is the numerator and must be an integer\n",
    "    d is the denominator and must be an integer'''\n",
    "    def __init__(self,n,d):\n",
    "        try: \n",
    "            assert (type(n)==int and type(d)==int), 'n and d must be of the type int.'\n",
    "            self._n=n\n",
    "            try: \n",
    "                assert (d!=0)\n",
    "                self._d=d\n",
    "                self.common_factor()\n",
    "            except AssertionError:\n",
    "                print('d cannot be zero.')\n",
    "        except AssertionError:\n",
    "            print('n and d must be of the type int.')\n",
    "    def common_factor(self):\n",
    "        for idx in range(self._d,1,-1):\n",
    "            if (self._n%idx==0 and self._d%idx==0):\n",
    "                self._n=self._n//idx\n",
    "                self._d=self._d//idx\n",
    "                break\n",
    "    def __str__(self):\n",
    "        string=f'Fraction({self._n},{self._d})'\n",
    "        return(string)\n",
    "    def __repr__(self):\n",
    "        string=f'Fraction({self._n},{self._d})'\n",
    "        return(string)\n",
    "    def __mul__(self,other):\n",
    "        n=self._n*other._n\n",
    "        d=self._d*other._d\n",
    "        return(Fraction(n,d))"
   ]
  },
  {
   "cell_type": "markdown",
   "id": "capable-kitchen",
   "metadata": {},
   "source": [
    "Now we see the (```*``` mul) operator as expected."
   ]
  },
  {
   "cell_type": "code",
   "execution_count": 371,
   "id": "intensive-statement",
   "metadata": {},
   "outputs": [
    {
     "data": {
      "text/plain": [
       "Fraction(2,1)"
      ]
     },
     "execution_count": 371,
     "metadata": {},
     "output_type": "execute_result"
    }
   ],
   "source": [
    "Fraction(3,2)*Fraction(4,3)"
   ]
  },
  {
   "cell_type": "markdown",
   "id": "published-technical",
   "metadata": {},
   "source": [
    "Note that the ```__init__``` data model method was called from the ```__mul__``` data model method creating a new instance. Recall that it calls the ```common_factor``` method and divides by the numerator and denominator by the highest common factor."
   ]
  },
  {
   "cell_type": "markdown",
   "id": "considered-holiday",
   "metadata": {},
   "source": [
    "Next let's have a look at the ```__truediv__``` data model method."
   ]
  },
  {
   "cell_type": "code",
   "execution_count": 372,
   "id": "adapted-breeding",
   "metadata": {},
   "outputs": [],
   "source": [
    "class Fraction(object):\n",
    "    '''Fraction\n",
    "    n is the numerator and must be an integer\n",
    "    d is the denominator and must be an integer'''\n",
    "    def __init__(self,n,d):\n",
    "        try: \n",
    "            assert (type(n)==int and type(d)==int), 'n and d must be of the type int.'\n",
    "            self._n=n\n",
    "            try: \n",
    "                assert (d!=0)\n",
    "                self._d=d\n",
    "                self.common_factor()\n",
    "            except AssertionError:\n",
    "                print('d cannot be zero.')\n",
    "        except AssertionError:\n",
    "            print('n and d must be of the type int.')\n",
    "    def common_factor(self):\n",
    "        for idx in range(self._d,0,-1):\n",
    "            if (self._n%idx==0 and self._d%idx==0):\n",
    "                self._n=self._n//idx\n",
    "                self._d=self._d//idx\n",
    "                break\n",
    "    def __str__(self):\n",
    "        string=f'Fraction({self._n},{self._d})'\n",
    "        return(string)\n",
    "    def __repr__(self):\n",
    "        string=f'Fraction({self._n},{self._d})'\n",
    "        return(string)\n",
    "    def __mul__(self,other):\n",
    "        n=self._n*other._n\n",
    "        d=self._d*other._d\n",
    "        return(Fraction(n,d))\n",
    "    def __truediv__(self,other):\n",
    "        n=self._n*other._d\n",
    "        d=self._d*other._n\n",
    "        return(Fraction(n,d))"
   ]
  },
  {
   "cell_type": "markdown",
   "id": "imposed-butler",
   "metadata": {},
   "source": [
    "Now we see the (```/``` truediv) operator as expected."
   ]
  },
  {
   "cell_type": "code",
   "execution_count": 373,
   "id": "sharp-bidding",
   "metadata": {},
   "outputs": [
    {
     "data": {
      "text/plain": [
       "Fraction(2,1)"
      ]
     },
     "execution_count": 373,
     "metadata": {},
     "output_type": "execute_result"
    }
   ],
   "source": [
    "Fraction(3,2)/Fraction(3,4)"
   ]
  },
  {
   "cell_type": "markdown",
   "id": "major-patient",
   "metadata": {},
   "source": [
    "Next let's have a look at the ```__add__``` data model method."
   ]
  },
  {
   "cell_type": "code",
   "execution_count": 374,
   "id": "empty-safety",
   "metadata": {},
   "outputs": [],
   "source": [
    "class Fraction(object):\n",
    "    '''Fraction\n",
    "    n is the numerator and must be an integer\n",
    "    d is the denominator and must be an integer'''\n",
    "    def __init__(self,n,d):\n",
    "        try: \n",
    "            assert (type(n)==int and type(d)==int), 'n and d must be of the type int.'\n",
    "            self._n=n\n",
    "            try: \n",
    "                assert (d!=0)\n",
    "                self._d=d\n",
    "                self.common_factor()\n",
    "            except AssertionError:\n",
    "                print('d cannot be zero.')\n",
    "        except AssertionError:\n",
    "            print('n and d must be of the type int.')\n",
    "    def common_factor(self):\n",
    "        for idx in range(self._d,1,-1):\n",
    "            if (self._n%idx==0 and self._d%idx==0):\n",
    "                self._n=self._n//idx\n",
    "                self._d=self._d//idx\n",
    "                break\n",
    "    def __str__(self):\n",
    "        string=f'Fraction({self._n},{self._d})'\n",
    "        return(string)\n",
    "    def __repr__(self):\n",
    "        string=f'Fraction({self._n},{self._d})'\n",
    "        return(string)\n",
    "    def __mul__(self,other):\n",
    "        n=self._n*other._n\n",
    "        d=self._d*other._d\n",
    "        return(Fraction(n,d))\n",
    "    def __truediv__(self,other):\n",
    "        n=self._n*other._d\n",
    "        d=self._d*other._n\n",
    "        return(Fraction(n,d))\n",
    "    def __add__(self,other):\n",
    "        n=self._n*other._d+other._n*self._d\n",
    "        d=self._d*other._d\n",
    "        return(Fraction(n,d))"
   ]
  },
  {
   "cell_type": "markdown",
   "id": "ceramic-debut",
   "metadata": {},
   "source": [
    "Now we see the (```+``` add) operator as expected."
   ]
  },
  {
   "cell_type": "code",
   "execution_count": 375,
   "id": "breathing-leave",
   "metadata": {},
   "outputs": [
    {
     "data": {
      "text/plain": [
       "Fraction(3,4)"
      ]
     },
     "execution_count": 375,
     "metadata": {},
     "output_type": "execute_result"
    }
   ],
   "source": [
    "Fraction(2,4)+Fraction(1,4)"
   ]
  },
  {
   "cell_type": "markdown",
   "id": "square-essex",
   "metadata": {},
   "source": [
    "Next let's have a look at the ```__sub__``` data model method."
   ]
  },
  {
   "cell_type": "code",
   "execution_count": 376,
   "id": "ideal-navigation",
   "metadata": {},
   "outputs": [],
   "source": [
    "class Fraction(object):\n",
    "    '''Fraction\n",
    "    n is the numerator and must be an integer\n",
    "    d is the denominator and must be an integer'''\n",
    "    def __init__(self,n,d):\n",
    "        try: \n",
    "            assert (type(n)==int and type(d)==int), 'n and d must be of the type int.'\n",
    "            self._n=n\n",
    "            try: \n",
    "                assert (d!=0)\n",
    "                self._d=d\n",
    "                self.common_factor()\n",
    "            except AssertionError:\n",
    "                print('d cannot be zero.')\n",
    "        except AssertionError:\n",
    "            print('n and d must be of the type int.')\n",
    "    def common_factor(self):\n",
    "        for idx in range(self._d,1,-1):\n",
    "            if (self._n%idx==0 and self._d%idx==0):\n",
    "                self._n=self._n//idx\n",
    "                self._d=self._d//idx\n",
    "                break\n",
    "    def __str__(self):\n",
    "        string=f'Fraction({self._n},{self._d})'\n",
    "        return(string)\n",
    "    def __repr__(self):\n",
    "        string=f'Fraction({self._n},{self._d})'\n",
    "        return(string)\n",
    "    def __mul__(self,other):\n",
    "        n=self._n*other._n\n",
    "        d=self._d*other._d\n",
    "        return(Fraction(n,d))\n",
    "    def __truediv__(self,other):\n",
    "        n=self._n*other._d\n",
    "        d=self._d*other._n\n",
    "        return(Fraction(n,d))\n",
    "    def __add__(self,other):\n",
    "        n=self._n*other._d+other._n*self._d\n",
    "        d=self._d*other._d\n",
    "        return(Fraction(n,d))\n",
    "    def __sub__(self,other):\n",
    "        n=self._n*other._d-other._n*self._d\n",
    "        d=self._d*other._d\n",
    "        return(Fraction(n,d))"
   ]
  },
  {
   "cell_type": "markdown",
   "id": "promising-feeding",
   "metadata": {},
   "source": [
    "Now we see the (```-``` sub) operator as expected."
   ]
  },
  {
   "cell_type": "code",
   "execution_count": 377,
   "id": "theoretical-genetics",
   "metadata": {},
   "outputs": [
    {
     "data": {
      "text/plain": [
       "Fraction(1,4)"
      ]
     },
     "execution_count": 377,
     "metadata": {},
     "output_type": "execute_result"
    }
   ],
   "source": [
    "Fraction(2,4)-Fraction(1,4)"
   ]
  },
  {
   "cell_type": "markdown",
   "id": "fifteen-glenn",
   "metadata": {},
   "source": [
    "We can create a method ```to_float``` which will convert the instance of the Fraction class to a ```float```. We can also create the methods ```get_n``` and ```get_d``` to get the numerator and denominator as an ```int``` respectively."
   ]
  },
  {
   "cell_type": "code",
   "execution_count": 378,
   "id": "centered-supervisor",
   "metadata": {},
   "outputs": [],
   "source": [
    "class Fraction(object):\n",
    "    '''Fraction\n",
    "    n is the numerator and must be an integer\n",
    "    d is the denominator and must be an integer'''\n",
    "    def __init__(self,n,d):\n",
    "        try: \n",
    "            assert (type(n)==int and type(d)==int), 'n and d must be of the type int.'\n",
    "            self._n=n\n",
    "            try: \n",
    "                assert (d!=0)\n",
    "                self._d=d\n",
    "                self.common_factor()\n",
    "            except AssertionError:\n",
    "                print('d cannot be zero.')\n",
    "        except AssertionError:\n",
    "            print('n and d must be of the type int.')\n",
    "    def common_factor(self):\n",
    "        for idx in range(self._d,0,-1):\n",
    "            if (self._n%idx==0 and self._d%idx==0):\n",
    "                self._n=self._n//idx\n",
    "                self._d=self._d//idx\n",
    "                break\n",
    "    def __str__(self):\n",
    "        string=f'Fraction({self._n},{self._d})'\n",
    "        return(string)\n",
    "    def __repr__(self):\n",
    "        string=f'Fraction({self._n},{self._d})'\n",
    "        return(string)\n",
    "    def __mul__(self,other):\n",
    "        n=self._n*other._n\n",
    "        d=self._d*other._d\n",
    "        return(Fraction(n,d))\n",
    "    def __truediv__(self,other):\n",
    "        n=self._n*other._d\n",
    "        d=self._d*other._n\n",
    "        return(Fraction(n,d))\n",
    "    def __add__(self,other):\n",
    "        n=self._n*other._d+other._n*self._d\n",
    "        d=self._d*other._d\n",
    "        return(Fraction(n,d))\n",
    "    def __sub__(self,other):\n",
    "        n=self._n*other._d-other._n*self._d\n",
    "        d=self._d*other._d\n",
    "        return(Fraction(n,d))\n",
    "    def to_float(self):\n",
    "        value=float(self._n/self._d)\n",
    "        return(value)\n",
    "    def get_n(self):\n",
    "        return(self._n)\n",
    "    def get_d(self):\n",
    "        return(self._d)"
   ]
  },
  {
   "cell_type": "markdown",
   "id": "devoted-dividend",
   "metadata": {},
   "source": [
    "When we type in the instance name followed by a ``````. and ```↹``` we see a list of methods available."
   ]
  },
  {
   "cell_type": "markdown",
   "id": "rental-creature",
   "metadata": {},
   "source": [
    "![Fraction_methods](Fraction_methods.png)"
   ]
  },
  {
   "cell_type": "markdown",
   "id": "arranged-medline",
   "metadata": {},
   "source": [
    "The method ```common_factor``` is only used within the dunder method ```__init__``` and not intended to be called by the end user so we can update it to be a private method by beginning with an underscore."
   ]
  },
  {
   "cell_type": "code",
   "execution_count": 379,
   "id": "gross-kidney",
   "metadata": {},
   "outputs": [],
   "source": [
    "class Fraction(object):\n",
    "    '''Fraction\n",
    "    n is the numerator and must be an integer\n",
    "    d is the denominator and must be an integer'''\n",
    "    def __init__(self,n,d):\n",
    "        try: \n",
    "            assert (type(n)==int and type(d)==int), 'n and d must be of the type int.'\n",
    "            self._n=n\n",
    "            try: \n",
    "                assert (d!=0)\n",
    "                self._d=d\n",
    "                self._common_factor()\n",
    "            except AssertionError:\n",
    "                print('d cannot be zero.')\n",
    "        except AssertionError:\n",
    "            print('n and d must be of the type int.')\n",
    "    def _common_factor(self):\n",
    "        for idx in range(self._d,0,-1):\n",
    "            if (self._n%idx==0 and self._d%idx==0):\n",
    "                self._n=self._n//idx\n",
    "                self._d=self._d//idx\n",
    "                break\n",
    "    def __str__(self):\n",
    "        string=f'Fraction({self._n},{self._d})'\n",
    "        return(string)\n",
    "    def __repr__(self):\n",
    "        string=f'Fraction({self._n},{self._d})'\n",
    "        return(string)\n",
    "    def __mul__(self,other):\n",
    "        n=self._n*other._n\n",
    "        d=self._d*other._d\n",
    "        return(Fraction(n,d))\n",
    "    def __truediv__(self,other):\n",
    "        n=self._n*other._d\n",
    "        d=self._d*other._n\n",
    "        return(Fraction(n,d))\n",
    "    def __add__(self,other):\n",
    "        n=self._n*other._d+other._n*self._d\n",
    "        d=self._d*other._d\n",
    "        return(Fraction(n,d))\n",
    "    def __sub__(self,other):\n",
    "        n=self._n*other._d-other._n*self._d\n",
    "        d=self._d*other._d\n",
    "        return(Fraction(n,d))\n",
    "    def to_float(self):\n",
    "        value=float(self._n/self._d)\n",
    "        return(value)\n",
    "    def get_n(self):\n",
    "        return(self._n)\n",
    "    def get_d(self):\n",
    "        return(self._d)"
   ]
  },
  {
   "cell_type": "code",
   "execution_count": 380,
   "id": "ranging-husband",
   "metadata": {},
   "outputs": [],
   "source": [
    "p=Fraction(1,4)"
   ]
  },
  {
   "cell_type": "markdown",
   "id": "satellite-trinidad",
   "metadata": {},
   "source": [
    "![Fraction_methods2](Fraction_methods2.png)"
   ]
  },
  {
   "cell_type": "code",
   "execution_count": 381,
   "id": "associate-doctor",
   "metadata": {},
   "outputs": [
    {
     "data": {
      "text/plain": [
       "0.25"
      ]
     },
     "execution_count": 381,
     "metadata": {},
     "output_type": "execute_result"
    }
   ],
   "source": [
    "p.to_float()"
   ]
  },
  {
   "cell_type": "code",
   "execution_count": 382,
   "id": "amazing-cylinder",
   "metadata": {},
   "outputs": [
    {
     "data": {
      "text/plain": [
       "1"
      ]
     },
     "execution_count": 382,
     "metadata": {},
     "output_type": "execute_result"
    }
   ],
   "source": [
    "p.get_n()"
   ]
  },
  {
   "cell_type": "code",
   "execution_count": 383,
   "id": "whole-brother",
   "metadata": {},
   "outputs": [
    {
     "data": {
      "text/plain": [
       "4"
      ]
     },
     "execution_count": 383,
     "metadata": {},
     "output_type": "execute_result"
    }
   ],
   "source": [
    "p.get_d()"
   ]
  },
  {
   "cell_type": "markdown",
   "id": "elect-memphis",
   "metadata": {},
   "source": [
    "We could also create methods ```set_n``` and ```set_d``` to set the numerator and denominator respectively. The clear advantage of using a hidden attribute and a set method is that we can once again we can assert our specifications for the ```_n``` and ```_d``` to be of the ```int``` data type and for ```_d``` to be non-zero."
   ]
  },
  {
   "cell_type": "code",
   "execution_count": 384,
   "id": "certified-strength",
   "metadata": {},
   "outputs": [],
   "source": [
    "class Fraction(object):\n",
    "    '''Fraction\n",
    "    n is the numerator and must be an integer\n",
    "    d is the denominator and must be an integer'''\n",
    "    def __init__(self,n,d):\n",
    "        try: \n",
    "            assert (type(n)==int and type(d)==int), 'n and d must be of the type int.'\n",
    "            self._n=n\n",
    "            try: \n",
    "                assert (d!=0)\n",
    "                self._d=d\n",
    "                self._common_factor()\n",
    "            except AssertionError:\n",
    "                print('d cannot be zero.')\n",
    "        except AssertionError:\n",
    "            print('n and d must be of the type int.')\n",
    "    def _common_factor(self):\n",
    "        for idx in range(self._d,0,-1):\n",
    "            if (self._n%idx==0 and self._d%idx==0):\n",
    "                self._n=self._n//idx\n",
    "                self._d=self._d//idx\n",
    "                break\n",
    "    def __str__(self):\n",
    "        string=f'Fraction({self._n},{self._d})'\n",
    "        return(string)\n",
    "    def __repr__(self):\n",
    "        string=f'Fraction({self._n},{self._d})'\n",
    "        return(string)\n",
    "    def __mul__(self,other):\n",
    "        n=self._n*other._n\n",
    "        d=self._d*other._d\n",
    "        return(Fraction(n,d))\n",
    "    def __truediv__(self,other):\n",
    "        n=self._n*other._d\n",
    "        d=self._d*other._n\n",
    "        return(Fraction(n,d))\n",
    "    def __add__(self,other):\n",
    "        n=self._n*other._d+other._n*self._d\n",
    "        d=self._d*other._d\n",
    "        return(Fraction(n,d))\n",
    "    def __sub__(self,other):\n",
    "        n=self._n*other._d-other._n*self._d\n",
    "        d=self._d*other._d\n",
    "        return(Fraction(n,d))\n",
    "    def to_float(self):\n",
    "        value=float(self._n/self._d)\n",
    "        return(value)\n",
    "    def get_n(self):\n",
    "        return(self._n)\n",
    "    def get_d(self):\n",
    "        return(self._d)\n",
    "    def set_n(self,n):\n",
    "        '''Sets a new numerator n. n must be an int.'''\n",
    "        try:\n",
    "            return(Fraction(n,self._d))\n",
    "        except AttributeError:\n",
    "            print('n must be an int.')\n",
    "    def set_d(self,d):\n",
    "        '''Sets a new denominator d. d must be a non-zero int.'''\n",
    "        try:\n",
    "            return(Fraction(self._n,d))\n",
    "        except AttributeError:\n",
    "            print('d must be a non-zero int.')"
   ]
  },
  {
   "cell_type": "code",
   "execution_count": 385,
   "id": "affected-dating",
   "metadata": {},
   "outputs": [],
   "source": [
    "p=Fraction(1,4)"
   ]
  },
  {
   "cell_type": "markdown",
   "id": "desperate-print",
   "metadata": {},
   "source": [
    "When we type in the instance name followed by a ```.``` and ```↹``` we see a list including the updated methods."
   ]
  },
  {
   "cell_type": "markdown",
   "id": "least-recording",
   "metadata": {},
   "source": [
    "![Fraction_methods3](Fraction_methods3.png)"
   ]
  },
  {
   "cell_type": "markdown",
   "id": "boring-nickname",
   "metadata": {},
   "source": [
    "Details about the input arguments can be found by typing in the function followed by ```↹``` and ```⇧``` or output to a cell by typing in ```?``` followed by the methods name (called from the object). "
   ]
  },
  {
   "cell_type": "code",
   "execution_count": 386,
   "id": "nuclear-divorce",
   "metadata": {},
   "outputs": [
    {
     "data": {
      "text/plain": [
       "\u001b[1;31mSignature:\u001b[0m  \u001b[0mp\u001b[0m\u001b[1;33m.\u001b[0m\u001b[0mset_n\u001b[0m\u001b[1;33m(\u001b[0m\u001b[0mn\u001b[0m\u001b[1;33m)\u001b[0m\u001b[1;33m\u001b[0m\u001b[1;33m\u001b[0m\u001b[0m\n",
       "\u001b[1;31mDocstring:\u001b[0m Sets a new numerator n. n must be an int.\n",
       "\u001b[1;31mFile:\u001b[0m      c:\\users\\phili\\documents\\1. object orientated programming\\<ipython-input-384-df63c676575f>\n",
       "\u001b[1;31mType:\u001b[0m      method\n"
      ]
     },
     "metadata": {},
     "output_type": "display_data"
    }
   ],
   "source": [
    "? p.set_n"
   ]
  },
  {
   "cell_type": "code",
   "execution_count": 387,
   "id": "fatty-railway",
   "metadata": {},
   "outputs": [
    {
     "data": {
      "text/plain": [
       "Fraction(5,2)"
      ]
     },
     "execution_count": 387,
     "metadata": {},
     "output_type": "execute_result"
    }
   ],
   "source": [
    "p.set_n(10)"
   ]
  },
  {
   "cell_type": "markdown",
   "id": "careful-control",
   "metadata": {},
   "source": [
    "Supposing we want only Eighths which are fractions where the denominator is always ```8```. We can create a Child ```class``` of the Fraction ```class```. We can create an ```Eighth``` using a child ```__init__``` signature where the user inputs a numerator ```n``` numerator and the denominator ```d``` is always ```8```. "
   ]
  },
  {
   "cell_type": "code",
   "execution_count": 388,
   "id": "floral-wallet",
   "metadata": {},
   "outputs": [],
   "source": [
    "class Eighths(Fraction):\n",
    "    def __init__(self,n):\n",
    "        d=8\n",
    "        super(Eighths,self).__init__(n,d)"
   ]
  },
  {
   "cell_type": "code",
   "execution_count": 389,
   "id": "celtic-combining",
   "metadata": {},
   "outputs": [],
   "source": [
    "q=Eighths(3)"
   ]
  },
  {
   "cell_type": "code",
   "execution_count": 390,
   "id": "official-weapon",
   "metadata": {},
   "outputs": [
    {
     "data": {
      "text/plain": [
       "Fraction(3,8)"
      ]
     },
     "execution_count": 390,
     "metadata": {},
     "output_type": "execute_result"
    }
   ],
   "source": [
    "q"
   ]
  },
  {
   "cell_type": "markdown",
   "id": "insured-moscow",
   "metadata": {},
   "source": [
    "## Collections"
   ]
  },
  {
   "cell_type": "markdown",
   "id": "embedded-opera",
   "metadata": {},
   "source": [
    "So far we have mainly looked at scalar data types that is a class where each instance consists of only a single data value for example the ```int``` ```class```. We have however used the ```str``` ```class``` which can be thought of as a collection of characters.\n",
    "\n",
    "Quite often we will want to group together a collection of numeric values. We can record a collection of y values in a scientific experiment for example.\n",
    "\n",
    "Before looking at how we do this in Python. Let's look at a spreadsheet in Microsoft Excel. When the data is in Excel we see that each data value is enclosed in a grid."
   ]
  },
  {
   "cell_type": "markdown",
   "id": "indoor-island",
   "metadata": {},
   "source": [
    "![excel_row](excel_row.png)"
   ]
  },
  {
   "cell_type": "markdown",
   "id": "legislative-emerald",
   "metadata": {},
   "source": [
    "The data can be saved as a CSV format."
   ]
  },
  {
   "cell_type": "markdown",
   "id": "thousand-forest",
   "metadata": {},
   "source": [
    "![excel_row_save](excel_row_save.png)"
   ]
  },
  {
   "cell_type": "markdown",
   "id": "organized-morocco",
   "metadata": {},
   "source": [
    "Now it can be viewed in Notepad++."
   ]
  },
  {
   "cell_type": "markdown",
   "id": "subtle-mailman",
   "metadata": {},
   "source": [
    "![notepadplusplus](notepadplusplus.png)"
   ]
  },
  {
   "cell_type": "markdown",
   "id": "changed-briefs",
   "metadata": {},
   "source": [
    "Notice that instead of a grid we see a ```,``` seperating out each value (hence the name csv comma seperated value file). \n",
    "The comma is the delimiter and is used to seperate out each value. We have also used the ```,``` as a delimiter for input arguments in a function or class."
   ]
  },
  {
   "cell_type": "markdown",
   "id": "pretty-delight",
   "metadata": {},
   "source": [
    "The values in the spreadsheet do not need to be numeric, they can also be text. When they are text, each cell in the spreadsheet can be thought of as a ```str``` i.e. a collection of characters and the row can be thought of as a collection of ```str``` values or more directly as a collection of a collection of characters."
   ]
  },
  {
   "cell_type": "markdown",
   "id": "plain-roads",
   "metadata": {},
   "source": [
    "![excel_row2](excel_row2.png)"
   ]
  },
  {
   "cell_type": "markdown",
   "id": "engaged-anatomy",
   "metadata": {},
   "source": [
    "![excel_row2_notepadplusplus](excel_row2_notepadplusplus.png)"
   ]
  },
  {
   "cell_type": "markdown",
   "id": "hispanic-perspective",
   "metadata": {},
   "source": [
    "We can create a collection of values in Python using similar notation with the comma as a delimiter. In Python however we need to enclose the collection in brackets. The type of brackets used creates a slightly different collection. The ```[ ]``` create a list, the ```( )``` create a tuple and the ```{ }``` create a dictionary."
   ]
  },
  {
   "cell_type": "markdown",
   "id": "annual-warren",
   "metadata": {},
   "source": [
    "### The List Collection (list)"
   ]
  },
  {
   "cell_type": "markdown",
   "id": "political-google",
   "metadata": {},
   "source": [
    "The most commonly used collection is called a ```list```. This relates to a ```list``` used in every day life. For example the shopping list."
   ]
  },
  {
   "cell_type": "markdown",
   "id": "cathedral-extension",
   "metadata": {},
   "source": [
    "* apples\n",
    "* bananas\n",
    "* grapes\n",
    "* oranges\n",
    "* pears"
   ]
  },
  {
   "cell_type": "markdown",
   "id": "substantial-theory",
   "metadata": {},
   "source": [
    "An empty list can be instantiated by using square brackets."
   ]
  },
  {
   "cell_type": "code",
   "execution_count": 391,
   "id": "clean-theorem",
   "metadata": {},
   "outputs": [],
   "source": [
    "shop=[]"
   ]
  },
  {
   "cell_type": "code",
   "execution_count": 392,
   "id": "furnished-jesus",
   "metadata": {},
   "outputs": [
    {
     "data": {
      "text/plain": [
       "[]"
      ]
     },
     "execution_count": 392,
     "metadata": {},
     "output_type": "execute_result"
    }
   ],
   "source": [
    "shop"
   ]
  },
  {
   "cell_type": "markdown",
   "id": "rural-clearing",
   "metadata": {},
   "source": [
    "Alternatively we can instantiate a list using the ```__init__``` signature of the ```list``` ```class``` directly. Details about the input arguments can be found by typing in the the name of the class followed by ```↹``` and ```⇧``` or output to a cell by typing in ```?``` followed by the classes name. We see that the positional input arguments are iterable."
   ]
  },
  {
   "cell_type": "code",
   "execution_count": 393,
   "id": "wound-consent",
   "metadata": {},
   "outputs": [
    {
     "data": {
      "text/plain": [
       "\u001b[1;31mInit signature:\u001b[0m  \u001b[0mlist\u001b[0m\u001b[1;33m(\u001b[0m\u001b[0miterable\u001b[0m\u001b[1;33m=\u001b[0m\u001b[1;33m(\u001b[0m\u001b[1;33m)\u001b[0m\u001b[1;33m,\u001b[0m \u001b[1;33m/\u001b[0m\u001b[1;33m)\u001b[0m\u001b[1;33m\u001b[0m\u001b[1;33m\u001b[0m\u001b[0m\n",
       "\u001b[1;31mDocstring:\u001b[0m     \n",
       "Built-in mutable sequence.\n",
       "\n",
       "If no argument is given, the constructor creates a new empty list.\n",
       "The argument must be an iterable if specified.\n",
       "\u001b[1;31mType:\u001b[0m           type\n",
       "\u001b[1;31mSubclasses:\u001b[0m     _HashedSeq, StackSummary, DeferredConfigList, SList, _ImmutableLineList, FormattedText, NodeList, _ExplodedList, Stack, _Accumulator, ...\n"
      ]
     },
     "metadata": {},
     "output_type": "display_data"
    }
   ],
   "source": [
    "? list"
   ]
  },
  {
   "cell_type": "markdown",
   "id": "defined-enough",
   "metadata": {},
   "source": [
    "We can keep it empty to make an empty list:"
   ]
  },
  {
   "cell_type": "code",
   "execution_count": 394,
   "id": "demonstrated-harvey",
   "metadata": {},
   "outputs": [],
   "source": [
    "shop=list()"
   ]
  },
  {
   "cell_type": "code",
   "execution_count": 395,
   "id": "whole-edwards",
   "metadata": {},
   "outputs": [
    {
     "data": {
      "text/plain": [
       "[]"
      ]
     },
     "execution_count": 395,
     "metadata": {},
     "output_type": "execute_result"
    }
   ],
   "source": [
    "shop"
   ]
  },
  {
   "cell_type": "markdown",
   "id": "casual-abraham",
   "metadata": {},
   "source": [
    "When we type in the list name followed by a ```.``` and a ```↹``` we see a number of ```list``` methods and attributes."
   ]
  },
  {
   "cell_type": "markdown",
   "id": "historical-webcam",
   "metadata": {},
   "source": [
    "![list_methods_attributes](list_methods_attributes.png)"
   ]
  },
  {
   "cell_type": "markdown",
   "id": "elegant-democrat",
   "metadata": {},
   "source": [
    "Let's attempt to add one ```str``` item to our ```list```. The ```str``` needs to be enclosed in quotations to inicate that it is a ```str``` and not an ```object``` name."
   ]
  },
  {
   "cell_type": "code",
   "execution_count": 396,
   "id": "organized-tribe",
   "metadata": {},
   "outputs": [],
   "source": [
    "shop=['apples']"
   ]
  },
  {
   "cell_type": "code",
   "execution_count": 397,
   "id": "coral-tooth",
   "metadata": {},
   "outputs": [
    {
     "data": {
      "text/plain": [
       "['apples']"
      ]
     },
     "execution_count": 397,
     "metadata": {},
     "output_type": "execute_result"
    }
   ],
   "source": [
    "shop"
   ]
  },
  {
   "cell_type": "markdown",
   "id": "planned-disposition",
   "metadata": {},
   "source": [
    "Note to get a single element when we are explicitly instantiating the ```list``` class we need to include a ```,``` delimiter. The positional input argument is actually ```tuple``` collection (more details later)."
   ]
  },
  {
   "cell_type": "code",
   "execution_count": 398,
   "id": "smaller-replica",
   "metadata": {},
   "outputs": [],
   "source": [
    "shop=list(('apples',))"
   ]
  },
  {
   "cell_type": "code",
   "execution_count": 399,
   "id": "altered-sending",
   "metadata": {},
   "outputs": [
    {
     "data": {
      "text/plain": [
       "['apples']"
      ]
     },
     "execution_count": 399,
     "metadata": {},
     "output_type": "execute_result"
    }
   ],
   "source": [
    "shop"
   ]
  },
  {
   "cell_type": "markdown",
   "id": "presidential-handbook",
   "metadata": {},
   "source": [
    "Otherwise the ```()``` are taken to mean parenthesis and we will make a ```list``` of each letter in the string."
   ]
  },
  {
   "cell_type": "code",
   "execution_count": 400,
   "id": "automatic-found",
   "metadata": {},
   "outputs": [],
   "source": [
    "shop=list(('apples'))"
   ]
  },
  {
   "cell_type": "code",
   "execution_count": 401,
   "id": "genuine-wisconsin",
   "metadata": {},
   "outputs": [
    {
     "data": {
      "text/plain": [
       "['a', 'p', 'p', 'l', 'e', 's']"
      ]
     },
     "execution_count": 401,
     "metadata": {},
     "output_type": "execute_result"
    }
   ],
   "source": [
    "shop"
   ]
  },
  {
   "cell_type": "markdown",
   "id": "dangerous-colon",
   "metadata": {},
   "source": [
    "Now to add another item we need to use a ```,``` as a delimiter."
   ]
  },
  {
   "cell_type": "code",
   "execution_count": 402,
   "id": "convenient-machine",
   "metadata": {},
   "outputs": [],
   "source": [
    "shop=['apples','bananas']"
   ]
  },
  {
   "cell_type": "code",
   "execution_count": 403,
   "id": "twenty-contemporary",
   "metadata": {},
   "outputs": [
    {
     "data": {
      "text/plain": [
       "['apples', 'bananas']"
      ]
     },
     "execution_count": 403,
     "metadata": {},
     "output_type": "execute_result"
    }
   ],
   "source": [
    "shop"
   ]
  },
  {
   "cell_type": "code",
   "execution_count": 404,
   "id": "disturbed-stopping",
   "metadata": {},
   "outputs": [],
   "source": [
    "shop=list(('apples','bananas'))"
   ]
  },
  {
   "cell_type": "markdown",
   "id": "intimate-texture",
   "metadata": {},
   "source": [
    "Alternatively we can explicity instantiate the ```class``` ```list```."
   ]
  },
  {
   "cell_type": "code",
   "execution_count": 405,
   "id": "conservative-advocacy",
   "metadata": {},
   "outputs": [
    {
     "data": {
      "text/plain": [
       "['apples', 'bananas']"
      ]
     },
     "execution_count": 405,
     "metadata": {},
     "output_type": "execute_result"
    }
   ],
   "source": [
    "shop"
   ]
  },
  {
   "cell_type": "markdown",
   "id": "vanilla-johnston",
   "metadata": {},
   "source": [
    "Continuing on with the complete ```list```."
   ]
  },
  {
   "cell_type": "code",
   "execution_count": 406,
   "id": "decent-auditor",
   "metadata": {},
   "outputs": [],
   "source": [
    "shop=['apples','bananas','grapes','oranges','pears']"
   ]
  },
  {
   "cell_type": "code",
   "execution_count": 407,
   "id": "subjective-typing",
   "metadata": {},
   "outputs": [
    {
     "data": {
      "text/plain": [
       "['apples', 'bananas', 'grapes', 'oranges', 'pears']"
      ]
     },
     "execution_count": 407,
     "metadata": {},
     "output_type": "execute_result"
    }
   ],
   "source": [
    "shop"
   ]
  },
  {
   "cell_type": "markdown",
   "id": "touched-poker",
   "metadata": {},
   "source": [
    "It is also possible to write the above splitting the ```list``` over multiple lines by pressing ```↵``` after the ```,``` delimiter. Note the spacing will be automatically applied to display the ```list``` as a column."
   ]
  },
  {
   "cell_type": "code",
   "execution_count": 408,
   "id": "expensive-fairy",
   "metadata": {},
   "outputs": [],
   "source": [
    "shop=['apples',\n",
    "      'bananas',\n",
    "      'grapes',\n",
    "      'oranges',\n",
    "      'pears']"
   ]
  },
  {
   "cell_type": "code",
   "execution_count": 409,
   "id": "natural-latitude",
   "metadata": {},
   "outputs": [
    {
     "data": {
      "text/plain": [
       "['apples', 'bananas', 'grapes', 'oranges', 'pears']"
      ]
     },
     "execution_count": 409,
     "metadata": {},
     "output_type": "execute_result"
    }
   ],
   "source": [
    "shop"
   ]
  },
  {
   "cell_type": "markdown",
   "id": "russian-hebrew",
   "metadata": {},
   "source": [
    "As we can see from the output above there is no difference between the list when input as a row or input as a column. In fact the list is neither a row nor a column. It is an object with only a single dimension."
   ]
  },
  {
   "cell_type": "markdown",
   "id": "explicit-sacramento",
   "metadata": {},
   "source": [
    "### Indexing a str or list"
   ]
  },
  {
   "cell_type": "markdown",
   "id": "diverse-bloom",
   "metadata": {},
   "source": [
    "In many cases, a collection such a ```list``` behaves in a simular manner to a ```str``` (which can be thought of as a string of characters or as a collection of characters). The ```+``` operator performs collection concatenation."
   ]
  },
  {
   "cell_type": "code",
   "execution_count": 410,
   "id": "outstanding-phase",
   "metadata": {},
   "outputs": [
    {
     "data": {
      "text/plain": [
       "'helloworld'"
      ]
     },
     "execution_count": 410,
     "metadata": {},
     "output_type": "execute_result"
    }
   ],
   "source": [
    "'hello'+'world'"
   ]
  },
  {
   "cell_type": "code",
   "execution_count": 411,
   "id": "inclusive-yesterday",
   "metadata": {},
   "outputs": [
    {
     "data": {
      "text/plain": [
       "['h', 'e', 'l', 'l', 'o', 'w', 'o', 'r', 'l', 'd']"
      ]
     },
     "execution_count": 411,
     "metadata": {},
     "output_type": "execute_result"
    }
   ],
   "source": [
    "['h','e','l','l','o']+['w','o','r','l','d']"
   ]
  },
  {
   "cell_type": "markdown",
   "id": "musical-farming",
   "metadata": {},
   "source": [
    "And multiplication by a scalar ```n``` replicates the contents of the collection ```n``` times."
   ]
  },
  {
   "cell_type": "code",
   "execution_count": 412,
   "id": "applicable-gibraltar",
   "metadata": {},
   "outputs": [
    {
     "data": {
      "text/plain": [
       "'hellohellohello'"
      ]
     },
     "execution_count": 412,
     "metadata": {},
     "output_type": "execute_result"
    }
   ],
   "source": [
    "'hello'*3"
   ]
  },
  {
   "cell_type": "code",
   "execution_count": 413,
   "id": "attended-kitchen",
   "metadata": {},
   "outputs": [
    {
     "data": {
      "text/plain": [
       "['h', 'e', 'l', 'l', 'o', 'h', 'e', 'l', 'l', 'o', 'h', 'e', 'l', 'l', 'o']"
      ]
     },
     "execution_count": 413,
     "metadata": {},
     "output_type": "execute_result"
    }
   ],
   "source": [
    "['h','e','l','l','o']*3"
   ]
  },
  {
   "cell_type": "markdown",
   "id": "sensitive-international",
   "metadata": {},
   "source": [
    "The function ```len``` can also be used to determine the number of elements in a collection."
   ]
  },
  {
   "cell_type": "code",
   "execution_count": 414,
   "id": "rough-sport",
   "metadata": {},
   "outputs": [
    {
     "data": {
      "text/plain": [
       "5"
      ]
     },
     "execution_count": 414,
     "metadata": {},
     "output_type": "execute_result"
    }
   ],
   "source": [
    "len('hello')"
   ]
  },
  {
   "cell_type": "code",
   "execution_count": 415,
   "id": "rubber-filter",
   "metadata": {},
   "outputs": [
    {
     "data": {
      "text/plain": [
       "5"
      ]
     },
     "execution_count": 415,
     "metadata": {},
     "output_type": "execute_result"
    }
   ],
   "source": [
    "len(['h','e','l','l','o'])"
   ]
  },
  {
   "cell_type": "markdown",
   "id": "sitting-whole",
   "metadata": {},
   "source": [
    "Recall that we could use a ```for``` loop to select a letter ```in``` a ```str```. "
   ]
  },
  {
   "cell_type": "code",
   "execution_count": 416,
   "id": "discrete-chick",
   "metadata": {},
   "outputs": [
    {
     "name": "stdout",
     "output_type": "stream",
     "text": [
      "h\n",
      "e\n",
      "l\n",
      "l\n",
      "o\n"
     ]
    }
   ],
   "source": [
    "for let in 'hello':\n",
    "    print(let)"
   ]
  },
  {
   "cell_type": "markdown",
   "id": "polish-generation",
   "metadata": {},
   "source": [
    "Or that we could ```enumerate``` a ```str``` to get both the index and letter."
   ]
  },
  {
   "cell_type": "code",
   "execution_count": 417,
   "id": "civil-resource",
   "metadata": {},
   "outputs": [
    {
     "name": "stdout",
     "output_type": "stream",
     "text": [
      "0 h\n",
      "1 e\n",
      "2 l\n",
      "3 l\n",
      "4 o\n"
     ]
    }
   ],
   "source": [
    "for idx,let in enumerate('hello'):\n",
    "    print(idx,let)"
   ]
  },
  {
   "cell_type": "markdown",
   "id": "described-transport",
   "metadata": {},
   "source": [
    "We can do the same for an item in a ```list```."
   ]
  },
  {
   "cell_type": "code",
   "execution_count": 418,
   "id": "latin-scanning",
   "metadata": {},
   "outputs": [
    {
     "name": "stdout",
     "output_type": "stream",
     "text": [
      "apples\n",
      "bananas\n",
      "grapes\n",
      "oranges\n",
      "pears\n"
     ]
    }
   ],
   "source": [
    "for item in shop:\n",
    "    print(item)"
   ]
  },
  {
   "cell_type": "code",
   "execution_count": 419,
   "id": "fluid-costs",
   "metadata": {},
   "outputs": [
    {
     "name": "stdout",
     "output_type": "stream",
     "text": [
      "0 apples\n",
      "1 bananas\n",
      "2 grapes\n",
      "3 oranges\n",
      "4 pears\n"
     ]
    }
   ],
   "source": [
    "for idx,item in enumerate(shop):\n",
    "    print(idx,item)"
   ]
  },
  {
   "cell_type": "markdown",
   "id": "retained-sheep",
   "metadata": {},
   "source": [
    "In Python indexes uses zero-order meaning we are inclusive of the lower bound ```0``` and exclusive of the upper bound ```5```. A ```list``` with a length of ```5``` has an index ```0```,```1```,```2```,```3``` and ```4``` as shown in the output of the ```enumeration``` of the ```list``` above using a ```for``` loop."
   ]
  },
  {
   "cell_type": "markdown",
   "id": "dated-antarctica",
   "metadata": {},
   "source": [
    "An individual item from the ```list``` can be selected from the numeric index by typing in the ```list``` name followed by square brackets enclosing the index."
   ]
  },
  {
   "cell_type": "code",
   "execution_count": 420,
   "id": "minimal-sphere",
   "metadata": {},
   "outputs": [
    {
     "data": {
      "text/plain": [
       "'apples'"
      ]
     },
     "execution_count": 420,
     "metadata": {},
     "output_type": "execute_result"
    }
   ],
   "source": [
    "shop[0]"
   ]
  },
  {
   "cell_type": "markdown",
   "id": "selective-composite",
   "metadata": {},
   "source": [
    "This approach also will also obtain a letter from a ```str```."
   ]
  },
  {
   "cell_type": "code",
   "execution_count": 421,
   "id": "bibliographic-carpet",
   "metadata": {},
   "outputs": [
    {
     "data": {
      "text/plain": [
       "'h'"
      ]
     },
     "execution_count": 421,
     "metadata": {},
     "output_type": "execute_result"
    }
   ],
   "source": [
    "'hello'[0]"
   ]
  },
  {
   "cell_type": "markdown",
   "id": "backed-peeing",
   "metadata": {},
   "source": [
    "We can index into the list to get the item at the index ```0``` which is the ```str``` ```'apples'```."
   ]
  },
  {
   "cell_type": "code",
   "execution_count": 422,
   "id": "cardiac-script",
   "metadata": {},
   "outputs": [
    {
     "data": {
      "text/plain": [
       "'apples'"
      ]
     },
     "execution_count": 422,
     "metadata": {},
     "output_type": "execute_result"
    }
   ],
   "source": [
    "shop[0]"
   ]
  },
  {
   "cell_type": "markdown",
   "id": "victorian-works",
   "metadata": {},
   "source": [
    "And then we can index into this ```str``` to get the letter at index ```3``` which is the letter ```'l'``` (a single letter is still of the ```type``` ```str```."
   ]
  },
  {
   "cell_type": "code",
   "execution_count": 423,
   "id": "constitutional-doctor",
   "metadata": {},
   "outputs": [
    {
     "data": {
      "text/plain": [
       "'l'"
      ]
     },
     "execution_count": 423,
     "metadata": {},
     "output_type": "execute_result"
    }
   ],
   "source": [
    "shop[0][3]"
   ]
  },
  {
   "cell_type": "markdown",
   "id": "korean-afternoon",
   "metadata": {},
   "source": [
    "The above line is equivalent to the following."
   ]
  },
  {
   "cell_type": "code",
   "execution_count": 424,
   "id": "collected-rental",
   "metadata": {},
   "outputs": [
    {
     "data": {
      "text/plain": [
       "'l'"
      ]
     },
     "execution_count": 424,
     "metadata": {},
     "output_type": "execute_result"
    }
   ],
   "source": [
    "item=shop[0]\n",
    "let=item[3]\n",
    "let"
   ]
  },
  {
   "cell_type": "markdown",
   "id": "ordered-leather",
   "metadata": {},
   "source": [
    "Multiple indexes can be selected by use of a ```:```. The value before the ````:``` is the ```start``` value and the value after the ```:``` is the ```stop``` value."
   ]
  },
  {
   "cell_type": "markdown",
   "id": "secondary-insert",
   "metadata": {},
   "source": [
    "```'str'[start:stop]```"
   ]
  },
  {
   "cell_type": "markdown",
   "id": "raising-intake",
   "metadata": {},
   "source": [
    "For example this can be thought of as the selection of index ```2``` to ```4```."
   ]
  },
  {
   "cell_type": "code",
   "execution_count": 425,
   "id": "broad-price",
   "metadata": {},
   "outputs": [
    {
     "data": {
      "text/plain": [
       "'ll'"
      ]
     },
     "execution_count": 425,
     "metadata": {},
     "output_type": "execute_result"
    }
   ],
   "source": [
    "'hello'[2:4]"
   ]
  },
  {
   "cell_type": "markdown",
   "id": "essential-youth",
   "metadata": {},
   "source": [
    "Recall that we are inclusive of the lower bound ```2``` and exclusive of the upper bound ```4```. Therefore we get the output from indexes ```2``` and ```3```. "
   ]
  },
  {
   "cell_type": "markdown",
   "id": "minor-tractor",
   "metadata": {},
   "source": [
    "If a lower bound ```start``` is not specified then it is assumed to be ```0```."
   ]
  },
  {
   "cell_type": "markdown",
   "id": "administrative-forestry",
   "metadata": {},
   "source": [
    "```'str'[start:stop]```"
   ]
  },
  {
   "cell_type": "markdown",
   "id": "incident-colorado",
   "metadata": {},
   "source": [
    "```'str'[0:stop]```"
   ]
  },
  {
   "cell_type": "markdown",
   "id": "minus-angola",
   "metadata": {},
   "source": [
    "```'str'[:stop]```"
   ]
  },
  {
   "cell_type": "markdown",
   "id": "prime-slovak",
   "metadata": {},
   "source": [
    "Going from index ```0``` to index ```3``` will give indexes ```0```, ```1``` and ```2``` for example."
   ]
  },
  {
   "cell_type": "code",
   "execution_count": 426,
   "id": "sweet-subsection",
   "metadata": {},
   "outputs": [
    {
     "data": {
      "text/plain": [
       "'hel'"
      ]
     },
     "execution_count": 426,
     "metadata": {},
     "output_type": "execute_result"
    }
   ],
   "source": [
    "'hello'[:3]"
   ]
  },
  {
   "cell_type": "markdown",
   "id": "hazardous-elimination",
   "metadata": {},
   "source": [
    "Likewise if an upper bound ```stop``` is not specified then it is assumed to be the length of the collection."
   ]
  },
  {
   "cell_type": "markdown",
   "id": "lined-charter",
   "metadata": {},
   "source": [
    "```'str'[start:stop]```"
   ]
  },
  {
   "cell_type": "markdown",
   "id": "efficient-prague",
   "metadata": {},
   "source": [
    "```'str'[start:len(str)]```"
   ]
  },
  {
   "cell_type": "markdown",
   "id": "infinite-blast",
   "metadata": {},
   "source": [
    "```'str'[start:]```"
   ]
  },
  {
   "cell_type": "markdown",
   "id": "genuine-karaoke",
   "metadata": {},
   "source": [
    "Going from index ```3``` to the ```len``` of the str will give indexes ```3``` and ```4``` for example."
   ]
  },
  {
   "cell_type": "code",
   "execution_count": 427,
   "id": "stuck-consultation",
   "metadata": {},
   "outputs": [
    {
     "data": {
      "text/plain": [
       "'lo'"
      ]
     },
     "execution_count": 427,
     "metadata": {},
     "output_type": "execute_result"
    }
   ],
   "source": [
    "'hello'[3:]"
   ]
  },
  {
   "cell_type": "markdown",
   "id": "million-parcel",
   "metadata": {},
   "source": [
    "If no ```start``` bound or ```stop``` bound are selected, all indexes will be selected and we will just get a copy of the collection."
   ]
  },
  {
   "cell_type": "code",
   "execution_count": 428,
   "id": "overall-injury",
   "metadata": {},
   "outputs": [
    {
     "data": {
      "text/plain": [
       "'hello'"
      ]
     },
     "execution_count": 428,
     "metadata": {},
     "output_type": "execute_result"
    }
   ],
   "source": [
    "'hello'[:]"
   ]
  },
  {
   "cell_type": "markdown",
   "id": "agreed-framework",
   "metadata": {},
   "source": [
    "The number before ```0``` is ```-1``` and this in Python corresponds to the last index. The negative index can be calculated by taking the positive index and substracting the ```len``` of the collection."
   ]
  },
  {
   "cell_type": "code",
   "execution_count": 429,
   "id": "hazardous-magnitude",
   "metadata": {},
   "outputs": [
    {
     "name": "stdout",
     "output_type": "stream",
     "text": [
      "0 -5 h\n",
      "1 -4 e\n",
      "2 -3 l\n",
      "3 -2 l\n",
      "4 -1 o\n"
     ]
    }
   ],
   "source": [
    "for idx,let in enumerate('hello'):\n",
    "    print(idx,idx-len('hello'),let)"
   ]
  },
  {
   "cell_type": "code",
   "execution_count": 430,
   "id": "controlled-release",
   "metadata": {},
   "outputs": [
    {
     "data": {
      "text/plain": [
       "'l'"
      ]
     },
     "execution_count": 430,
     "metadata": {},
     "output_type": "execute_result"
    }
   ],
   "source": [
    "'hello'[3]"
   ]
  },
  {
   "cell_type": "code",
   "execution_count": 431,
   "id": "suspended-strengthening",
   "metadata": {},
   "outputs": [
    {
     "data": {
      "text/plain": [
       "'l'"
      ]
     },
     "execution_count": 431,
     "metadata": {},
     "output_type": "execute_result"
    }
   ],
   "source": [
    "'hello'[-2]"
   ]
  },
  {
   "cell_type": "markdown",
   "id": "lovely-lawyer",
   "metadata": {},
   "source": [
    "We have seen that we can index with a ```:``` using the form."
   ]
  },
  {
   "cell_type": "markdown",
   "id": "operational-honey",
   "metadata": {},
   "source": [
    "```'string'[start:stop]```"
   ]
  },
  {
   "cell_type": "markdown",
   "id": "romance-silicon",
   "metadata": {},
   "source": [
    "An additional ```:``` can be placed to indicate a ```step```."
   ]
  },
  {
   "cell_type": "markdown",
   "id": "metropolitan-occupation",
   "metadata": {},
   "source": [
    "```'string'[start:stop:step]```"
   ]
  },
  {
   "cell_type": "markdown",
   "id": "offensive-collective",
   "metadata": {},
   "source": [
    "If we create the following ```str``` containing each letter of the word hello in upper and lower case, we can see the effect of using a ```step``` of ```2```."
   ]
  },
  {
   "cell_type": "code",
   "execution_count": 432,
   "id": "planned-williams",
   "metadata": {},
   "outputs": [],
   "source": [
    "string='HhEeLlLlOo'"
   ]
  },
  {
   "cell_type": "markdown",
   "id": "preliminary-scale",
   "metadata": {},
   "source": [
    "We can select every capital letter by using."
   ]
  },
  {
   "cell_type": "code",
   "execution_count": 433,
   "id": "three-disorder",
   "metadata": {},
   "outputs": [
    {
     "data": {
      "text/plain": [
       "'HELLO'"
      ]
     },
     "execution_count": 433,
     "metadata": {},
     "output_type": "execute_result"
    }
   ],
   "source": [
    "string[0:len(string):2]"
   ]
  },
  {
   "cell_type": "markdown",
   "id": "perceived-stream",
   "metadata": {},
   "source": [
    "Because we are using a start value of ```0``` and a ```stop``` value that is the ```len``` of the ```str```, we can omit these."
   ]
  },
  {
   "cell_type": "code",
   "execution_count": 434,
   "id": "powerful-register",
   "metadata": {},
   "outputs": [
    {
     "data": {
      "text/plain": [
       "'HELLO'"
      ]
     },
     "execution_count": 434,
     "metadata": {},
     "output_type": "execute_result"
    }
   ],
   "source": [
    "string[::2]"
   ]
  },
  {
   "cell_type": "markdown",
   "id": "collected-bennett",
   "metadata": {},
   "source": [
    "If we instead wanted the lower case we would instead ```start``` at ```1```."
   ]
  },
  {
   "cell_type": "code",
   "execution_count": 435,
   "id": "absolute-mason",
   "metadata": {},
   "outputs": [
    {
     "data": {
      "text/plain": [
       "'hello'"
      ]
     },
     "execution_count": 435,
     "metadata": {},
     "output_type": "execute_result"
    }
   ],
   "source": [
    "string[1:len(string):2]"
   ]
  },
  {
   "cell_type": "markdown",
   "id": "monthly-poster",
   "metadata": {},
   "source": [
    "Since the ```stop``` value is the length of the string we could also use."
   ]
  },
  {
   "cell_type": "code",
   "execution_count": 436,
   "id": "advised-valve",
   "metadata": {},
   "outputs": [
    {
     "data": {
      "text/plain": [
       "'hello'"
      ]
     },
     "execution_count": 436,
     "metadata": {},
     "output_type": "execute_result"
    }
   ],
   "source": [
    "string[1::2]"
   ]
  },
  {
   "cell_type": "markdown",
   "id": "internal-fancy",
   "metadata": {},
   "source": [
    "We can also use negative indexes. If we want the lower case ```str``` in reverse, we could take a ```step``` of ```-2```."
   ]
  },
  {
   "cell_type": "code",
   "execution_count": 437,
   "id": "internal-sweden",
   "metadata": {},
   "outputs": [
    {
     "data": {
      "text/plain": [
       "'olleh'"
      ]
     },
     "execution_count": 437,
     "metadata": {},
     "output_type": "execute_result"
    }
   ],
   "source": [
    "string[-1:-len(string)-1:-2]"
   ]
  },
  {
   "cell_type": "markdown",
   "id": "desperate-validity",
   "metadata": {},
   "source": [
    "When a negative ```step``` is selected the ```start``` value takes a default of ```-1``` if not specified and the ```stop``` value takes a default of ```-len(string)-1``` if not specified. Recall once again the the ```start``` bound is inclusive and the ```stop``` upper bound is exclusive."
   ]
  },
  {
   "cell_type": "code",
   "execution_count": 438,
   "id": "traditional-perception",
   "metadata": {},
   "outputs": [
    {
     "data": {
      "text/plain": [
       "'olleh'"
      ]
     },
     "execution_count": 438,
     "metadata": {},
     "output_type": "execute_result"
    }
   ],
   "source": [
    "string[::-2]"
   ]
  },
  {
   "cell_type": "code",
   "execution_count": 439,
   "id": "focal-inside",
   "metadata": {},
   "outputs": [
    {
     "data": {
      "text/plain": [
       "'OLLEH'"
      ]
     },
     "execution_count": 439,
     "metadata": {},
     "output_type": "execute_result"
    }
   ],
   "source": [
    "string[-2:-len(string)-1:-2]"
   ]
  },
  {
   "cell_type": "markdown",
   "id": "textile-bachelor",
   "metadata": {},
   "source": [
    "### The Dictionary Collection (dict)"
   ]
  },
  {
   "cell_type": "markdown",
   "id": "executed-visiting",
   "metadata": {},
   "source": [
    "Another collection is the dictionary collection (```class``` ```dict```). A dictionary has the form of a regular dictionary where there is a keyword (```key```) and definition (```value```). For example the dictionary below."
   ]
  },
  {
   "cell_type": "markdown",
   "id": "continent-disco",
   "metadata": {},
   "source": [
    "|key|value|\n",
    "|---|---|\n",
    "|python|a programming language|\n",
    "|numpy|the numeric python library|\n",
    "|pandas|the python and data analysis library|\n",
    "|matplotlib|the python plotting library|"
   ]
  },
  {
   "cell_type": "markdown",
   "id": "responsible-series",
   "metadata": {},
   "source": [
    "A dictionary is quite commonly used in a programming language when it comes to assigning settings. Each setting has one name and multiple possible values. A user configuration will have one value set for each setting."
   ]
  },
  {
   "cell_type": "markdown",
   "id": "controlled-terrorist",
   "metadata": {},
   "source": [
    "![windows10settings](windows10settings.png)"
   ]
  },
  {
   "cell_type": "markdown",
   "id": "normal-lloyd",
   "metadata": {},
   "source": [
    "The Windows-10-color-settings may for example be expressed in adictionary of the following.\n",
    "\n",
    "|key|value|\n",
    "|---|---|\n",
    "|'background-color'|'light'|\n",
    "|'transparancy'|True|\n",
    "|'accent-color-auto'|False|\n",
    "|'window-color'|'blue'|"
   ]
  },
  {
   "cell_type": "markdown",
   "id": "industrial-charleston",
   "metadata": {},
   "source": [
    "In Microsoft Word if we open up the color picker. We can see that each color has a Hex value which has the form ```'#FF0000'```. It can be insightful to make a dictionary which maps these ```values``` to color ```keys``` which are easier to recall for us."
   ]
  },
  {
   "cell_type": "markdown",
   "id": "variable-match",
   "metadata": {},
   "source": [
    "![color_picker](color_picker.png)"
   ]
  },
  {
   "cell_type": "markdown",
   "id": "current-deposit",
   "metadata": {},
   "source": [
    "To create a dictionary we can either use ```{}```."
   ]
  },
  {
   "cell_type": "code",
   "execution_count": 440,
   "id": "cooperative-chain",
   "metadata": {},
   "outputs": [],
   "source": [
    "colors={}"
   ]
  },
  {
   "cell_type": "code",
   "execution_count": 441,
   "id": "controversial-suspect",
   "metadata": {},
   "outputs": [
    {
     "data": {
      "text/plain": [
       "{}"
      ]
     },
     "execution_count": 441,
     "metadata": {},
     "output_type": "execute_result"
    }
   ],
   "source": [
    "colors"
   ]
  },
  {
   "cell_type": "markdown",
   "id": "jewish-northeast",
   "metadata": {},
   "source": [
    "Or alternatively use the ```__init__``` method of the ```dict``` class. Details about the input arguments can be found by typing in the class followed by ```↹``` and ```⇧``` or output to a cell by typing in ```?``` followed by the class name. "
   ]
  },
  {
   "cell_type": "code",
   "execution_count": 442,
   "id": "pretty-thompson",
   "metadata": {},
   "outputs": [
    {
     "data": {
      "text/plain": [
       "\u001b[1;31mInit signature:\u001b[0m  \u001b[0mdict\u001b[0m\u001b[1;33m(\u001b[0m\u001b[0mself\u001b[0m\u001b[1;33m,\u001b[0m \u001b[1;33m/\u001b[0m\u001b[1;33m,\u001b[0m \u001b[1;33m*\u001b[0m\u001b[0margs\u001b[0m\u001b[1;33m,\u001b[0m \u001b[1;33m**\u001b[0m\u001b[0mkwargs\u001b[0m\u001b[1;33m)\u001b[0m\u001b[1;33m\u001b[0m\u001b[1;33m\u001b[0m\u001b[0m\n",
       "\u001b[1;31mDocstring:\u001b[0m     \n",
       "dict() -> new empty dictionary\n",
       "dict(mapping) -> new dictionary initialized from a mapping object's\n",
       "    (key, value) pairs\n",
       "dict(iterable) -> new dictionary initialized as if via:\n",
       "    d = {}\n",
       "    for k, v in iterable:\n",
       "        d[k] = v\n",
       "dict(**kwargs) -> new dictionary initialized with the name=value pairs\n",
       "    in the keyword argument list.  For example:  dict(one=1, two=2)\n",
       "\u001b[1;31mType:\u001b[0m           type\n",
       "\u001b[1;31mSubclasses:\u001b[0m     OrderedDict, defaultdict, Counter, _EnumDict, Bunch, Config, _DefaultOptionDict, Struct, ColorSchemeTable, StgDict, ...\n"
      ]
     },
     "metadata": {},
     "output_type": "display_data"
    }
   ],
   "source": [
    "? dict"
   ]
  },
  {
   "cell_type": "code",
   "execution_count": 443,
   "id": "herbal-control",
   "metadata": {},
   "outputs": [],
   "source": [
    "colors=dict()"
   ]
  },
  {
   "cell_type": "code",
   "execution_count": 444,
   "id": "expired-registrar",
   "metadata": {},
   "outputs": [
    {
     "data": {
      "text/plain": [
       "{}"
      ]
     },
     "execution_count": 444,
     "metadata": {},
     "output_type": "execute_result"
    }
   ],
   "source": [
    "colors"
   ]
  },
  {
   "cell_type": "markdown",
   "id": "optimum-portrait",
   "metadata": {},
   "source": [
    "For a dictionary we don't just add single items, we add key value pairs. We use a ```:``` to seperate out the ```key``` from the ``value``` and the ```,``` to move onto the next ```key:value``` pair."
   ]
  },
  {
   "cell_type": "code",
   "execution_count": 445,
   "id": "vocal-carrier",
   "metadata": {},
   "outputs": [],
   "source": [
    "colors={'red':'#FF0000','blue':'#0070C0','green':'#00B050'}"
   ]
  },
  {
   "cell_type": "code",
   "execution_count": 446,
   "id": "acquired-court",
   "metadata": {},
   "outputs": [
    {
     "data": {
      "text/plain": [
       "{'red': '#FF0000', 'blue': '#0070C0', 'green': '#00B050'}"
      ]
     },
     "execution_count": 446,
     "metadata": {},
     "output_type": "execute_result"
    }
   ],
   "source": [
    "colors"
   ]
  },
  {
   "cell_type": "markdown",
   "id": "environmental-invention",
   "metadata": {},
   "source": [
    "Like a ```list```, this can be input over multiple lines."
   ]
  },
  {
   "cell_type": "code",
   "execution_count": 447,
   "id": "liked-klein",
   "metadata": {},
   "outputs": [],
   "source": [
    "colors={'red':'#FF0000',\n",
    "        'blue':'#0070C0',\n",
    "        'green':'#00B050'}"
   ]
  },
  {
   "cell_type": "code",
   "execution_count": 448,
   "id": "prepared-parker",
   "metadata": {},
   "outputs": [
    {
     "data": {
      "text/plain": [
       "{'red': '#FF0000', 'blue': '#0070C0', 'green': '#00B050'}"
      ]
     },
     "execution_count": 448,
     "metadata": {},
     "output_type": "execute_result"
    }
   ],
   "source": [
    "colors"
   ]
  },
  {
   "cell_type": "markdown",
   "id": "respiratory-asbestos",
   "metadata": {},
   "source": [
    "The ```dict``` class doesn't have a numeric index. Instead we index using the key."
   ]
  },
  {
   "cell_type": "code",
   "execution_count": 449,
   "id": "existing-interim",
   "metadata": {},
   "outputs": [
    {
     "data": {
      "text/plain": [
       "'#FF0000'"
      ]
     },
     "execution_count": 449,
     "metadata": {},
     "output_type": "execute_result"
    }
   ],
   "source": [
    "colors['red']"
   ]
  },
  {
   "cell_type": "markdown",
   "id": "deluxe-foundation",
   "metadata": {},
   "source": [
    "When we type in the ```dict``` name followed by a ```.``` and a ```↹``` we see a number of ```list``` methods and attributes."
   ]
  },
  {
   "cell_type": "markdown",
   "id": "upset-giving",
   "metadata": {},
   "source": [
    "![colors_dict_attributes_methods](colors_dict_attributes_methods.png)"
   ]
  },
  {
   "cell_type": "markdown",
   "id": "handed-earth",
   "metadata": {},
   "source": [
    "The methods ```keys``` and ```values``` displays the ```keys``` and ```values``` in a ```list``` like object."
   ]
  },
  {
   "cell_type": "code",
   "execution_count": 450,
   "id": "developmental-bookmark",
   "metadata": {},
   "outputs": [
    {
     "data": {
      "text/plain": [
       "dict_keys(['red', 'blue', 'green'])"
      ]
     },
     "execution_count": 450,
     "metadata": {},
     "output_type": "execute_result"
    }
   ],
   "source": [
    "colors.keys()"
   ]
  },
  {
   "cell_type": "code",
   "execution_count": 451,
   "id": "written-respondent",
   "metadata": {},
   "outputs": [
    {
     "data": {
      "text/plain": [
       "dict_values(['#FF0000', '#0070C0', '#00B050'])"
      ]
     },
     "execution_count": 451,
     "metadata": {},
     "output_type": "execute_result"
    }
   ],
   "source": [
    "colors.values()"
   ]
  },
  {
   "cell_type": "markdown",
   "id": "median-kennedy",
   "metadata": {},
   "source": [
    "These can be converted to lists."
   ]
  },
  {
   "cell_type": "code",
   "execution_count": 452,
   "id": "seeing-edwards",
   "metadata": {},
   "outputs": [],
   "source": [
    "keys=list(colors.keys())"
   ]
  },
  {
   "cell_type": "code",
   "execution_count": 453,
   "id": "conditional-generator",
   "metadata": {},
   "outputs": [],
   "source": [
    "values=list(colors.values())"
   ]
  },
  {
   "cell_type": "markdown",
   "id": "textile-balloon",
   "metadata": {},
   "source": [
    "Now that we have these as two equally sized ```list``` objects we can see how we can make a ```dict``` by zipping them together using the function ```zip```."
   ]
  },
  {
   "cell_type": "code",
   "execution_count": 454,
   "id": "trained-light",
   "metadata": {},
   "outputs": [
    {
     "data": {
      "text/plain": [
       "['red', 'blue', 'green']"
      ]
     },
     "execution_count": 454,
     "metadata": {},
     "output_type": "execute_result"
    }
   ],
   "source": [
    "keys"
   ]
  },
  {
   "cell_type": "code",
   "execution_count": 455,
   "id": "polished-mobile",
   "metadata": {},
   "outputs": [
    {
     "data": {
      "text/plain": [
       "['#FF0000', '#0070C0', '#00B050']"
      ]
     },
     "execution_count": 455,
     "metadata": {},
     "output_type": "execute_result"
    }
   ],
   "source": [
    "values"
   ]
  },
  {
   "cell_type": "code",
   "execution_count": 456,
   "id": "advance-morrison",
   "metadata": {},
   "outputs": [
    {
     "data": {
      "text/plain": [
       "{'red': '#FF0000', 'blue': '#0070C0', 'green': '#00B050'}"
      ]
     },
     "execution_count": 456,
     "metadata": {},
     "output_type": "execute_result"
    }
   ],
   "source": [
    "dict(zip(keys,values))"
   ]
  },
  {
   "cell_type": "markdown",
   "id": "deluxe-reasoning",
   "metadata": {},
   "source": [
    "The method items can also be used if we want to iterate ```in``` the ```dict``` using a ```for``` loop."
   ]
  },
  {
   "cell_type": "code",
   "execution_count": 457,
   "id": "described-neutral",
   "metadata": {},
   "outputs": [
    {
     "data": {
      "text/plain": [
       "dict_items([('red', '#FF0000'), ('blue', '#0070C0'), ('green', '#00B050')])"
      ]
     },
     "execution_count": 457,
     "metadata": {},
     "output_type": "execute_result"
    }
   ],
   "source": [
    "colors.items()"
   ]
  },
  {
   "cell_type": "code",
   "execution_count": 458,
   "id": "bound-finance",
   "metadata": {},
   "outputs": [
    {
     "name": "stdout",
     "output_type": "stream",
     "text": [
      "red #FF0000\n",
      "blue #0070C0\n",
      "green #00B050\n"
     ]
    }
   ],
   "source": [
    "for key,val in colors.items():\n",
    "    print(key,val)"
   ]
  },
  {
   "cell_type": "markdown",
   "id": "simplified-carnival",
   "metadata": {},
   "source": [
    "### Mutability"
   ]
  },
  {
   "cell_type": "markdown",
   "id": "representative-designation",
   "metadata": {},
   "source": [
    "Let's create the following ```list```."
   ]
  },
  {
   "cell_type": "code",
   "execution_count": 459,
   "id": "emotional-matrix",
   "metadata": {},
   "outputs": [],
   "source": [
    "shop=['apples',\n",
    "      'bananas',\n",
    "      'grapes',\n",
    "      'oranges',\n",
    "      'pears']"
   ]
  },
  {
   "cell_type": "code",
   "execution_count": 460,
   "id": "acquired-diary",
   "metadata": {},
   "outputs": [
    {
     "data": {
      "text/plain": [
       "['apples', 'bananas', 'grapes', 'oranges', 'pears']"
      ]
     },
     "execution_count": 460,
     "metadata": {},
     "output_type": "execute_result"
    }
   ],
   "source": [
    "shop"
   ]
  },
  {
   "cell_type": "markdown",
   "id": "protecting-weapon",
   "metadata": {},
   "source": [
    "Now let us attempt to create a copy."
   ]
  },
  {
   "cell_type": "code",
   "execution_count": 461,
   "id": "consolidated-better",
   "metadata": {},
   "outputs": [],
   "source": [
    "shop2=shop"
   ]
  },
  {
   "cell_type": "code",
   "execution_count": 462,
   "id": "standing-silly",
   "metadata": {},
   "outputs": [
    {
     "data": {
      "text/plain": [
       "['apples', 'bananas', 'grapes', 'oranges', 'pears']"
      ]
     },
     "execution_count": 462,
     "metadata": {},
     "output_type": "execute_result"
    }
   ],
   "source": [
    "shop2"
   ]
  },
  {
   "cell_type": "markdown",
   "id": "cosmetic-memphis",
   "metadata": {},
   "source": [
    "Now let us modify the ```list``` ```shop2``` for example by appending an item."
   ]
  },
  {
   "cell_type": "code",
   "execution_count": 463,
   "id": "daily-denial",
   "metadata": {},
   "outputs": [],
   "source": [
    "shop2.append('kiwi')"
   ]
  },
  {
   "cell_type": "code",
   "execution_count": 464,
   "id": "buried-ceiling",
   "metadata": {},
   "outputs": [
    {
     "data": {
      "text/plain": [
       "['apples', 'bananas', 'grapes', 'oranges', 'pears', 'kiwi']"
      ]
     },
     "execution_count": 464,
     "metadata": {},
     "output_type": "execute_result"
    }
   ],
   "source": [
    "shop2"
   ]
  },
  {
   "cell_type": "markdown",
   "id": "knowing-conference",
   "metadata": {},
   "source": [
    "If we check the value of ```shop``` we see that it has also been updated."
   ]
  },
  {
   "cell_type": "code",
   "execution_count": 465,
   "id": "equal-machinery",
   "metadata": {},
   "outputs": [
    {
     "data": {
      "text/plain": [
       "['apples', 'bananas', 'grapes', 'oranges', 'pears', 'kiwi']"
      ]
     },
     "execution_count": 465,
     "metadata": {},
     "output_type": "execute_result"
    }
   ],
   "source": [
    "shop"
   ]
  },
  {
   "cell_type": "markdown",
   "id": "knowing-newport",
   "metadata": {},
   "source": [
    "This is because the line ```shop2=shop``` did not create a copy but instead created an alias. i.e. ```shop2``` and ```shop``` are both object names for the same ```list```."
   ]
  },
  {
   "cell_type": "code",
   "execution_count": 466,
   "id": "level-overview",
   "metadata": {},
   "outputs": [],
   "source": [
    "shop=['apples',\n",
    "      'bananas',\n",
    "      'grapes',\n",
    "      'oranges',\n",
    "      'pears']"
   ]
  },
  {
   "cell_type": "markdown",
   "id": "hungarian-battle",
   "metadata": {},
   "source": [
    "Instead we should use the method ```copy``` or alternatively index using square brackets and a ```:```."
   ]
  },
  {
   "cell_type": "code",
   "execution_count": 467,
   "id": "upset-friendship",
   "metadata": {},
   "outputs": [],
   "source": [
    "shop2=shop.copy()"
   ]
  },
  {
   "cell_type": "code",
   "execution_count": 468,
   "id": "hearing-sweden",
   "metadata": {},
   "outputs": [],
   "source": [
    "shop3=shop2[:]"
   ]
  },
  {
   "cell_type": "code",
   "execution_count": 469,
   "id": "systematic-tonight",
   "metadata": {},
   "outputs": [],
   "source": [
    "shop2.append('kiwi')"
   ]
  },
  {
   "cell_type": "markdown",
   "id": "built-biotechnology",
   "metadata": {},
   "source": [
    "Now we see that both ```shop1``` and ```shop3``` are not updated when ```shop2``` is updated."
   ]
  },
  {
   "cell_type": "code",
   "execution_count": 470,
   "id": "preceding-explosion",
   "metadata": {},
   "outputs": [
    {
     "data": {
      "text/plain": [
       "['apples', 'bananas', 'grapes', 'oranges', 'pears']"
      ]
     },
     "execution_count": 470,
     "metadata": {},
     "output_type": "execute_result"
    }
   ],
   "source": [
    "shop"
   ]
  },
  {
   "cell_type": "code",
   "execution_count": 471,
   "id": "decimal-ribbon",
   "metadata": {},
   "outputs": [
    {
     "data": {
      "text/plain": [
       "['apples', 'bananas', 'grapes', 'oranges', 'pears', 'kiwi']"
      ]
     },
     "execution_count": 471,
     "metadata": {},
     "output_type": "execute_result"
    }
   ],
   "source": [
    "shop2"
   ]
  },
  {
   "cell_type": "code",
   "execution_count": 472,
   "id": "superb-tennessee",
   "metadata": {},
   "outputs": [
    {
     "data": {
      "text/plain": [
       "['apples', 'bananas', 'grapes', 'oranges', 'pears']"
      ]
     },
     "execution_count": 472,
     "metadata": {},
     "output_type": "execute_result"
    }
   ],
   "source": [
    "shop3"
   ]
  },
  {
   "cell_type": "markdown",
   "id": "competitive-first",
   "metadata": {},
   "source": [
    "Mutability allows great flexibility when it comes to working with a ```list``` however at the same time we also need to be careful that we don't mutate a ```list``` by mistake."
   ]
  },
  {
   "cell_type": "markdown",
   "id": "offshore-directive",
   "metadata": {},
   "source": [
    "### The Tuple Collection (tuple)"
   ]
  },
  {
   "cell_type": "markdown",
   "id": "suited-peeing",
   "metadata": {},
   "source": [
    "A tuple is essentially a list that is immutable. There are two main advantages in using a ```tuple``` over a ```list```. First a ```tuple``` is far less likely to be altered by accident and secondly it is faster to access because it is immutable. You won't really notice a speed difference for small collections but it can become important when handling very large collections."
   ]
  },
  {
   "cell_type": "markdown",
   "id": "herbal-minister",
   "metadata": {},
   "source": [
    "It has the same form as a list but uses brackets ```()``` opposed to square brackets ```[]```. Let's create an empty ```tuple```."
   ]
  },
  {
   "cell_type": "code",
   "execution_count": 473,
   "id": "furnished-asian",
   "metadata": {},
   "outputs": [],
   "source": [
    "shop_t=()"
   ]
  },
  {
   "cell_type": "markdown",
   "id": "antique-jason",
   "metadata": {},
   "source": [
    "Note to get a single element we need to include a ```,``` delimiter so the ```()``` isn't taken as parenthesis."
   ]
  },
  {
   "cell_type": "code",
   "execution_count": 474,
   "id": "revised-layer",
   "metadata": {},
   "outputs": [],
   "source": [
    "shop_t=('apples',)"
   ]
  },
  {
   "cell_type": "code",
   "execution_count": 475,
   "id": "small-display",
   "metadata": {},
   "outputs": [
    {
     "data": {
      "text/plain": [
       "('apples',)"
      ]
     },
     "execution_count": 475,
     "metadata": {},
     "output_type": "execute_result"
    }
   ],
   "source": [
    "shop_t"
   ]
  },
  {
   "cell_type": "code",
   "execution_count": 476,
   "id": "disciplinary-lindsay",
   "metadata": {},
   "outputs": [],
   "source": [
    "shop_t=('apples')"
   ]
  },
  {
   "cell_type": "code",
   "execution_count": 477,
   "id": "surprising-black",
   "metadata": {},
   "outputs": [
    {
     "data": {
      "text/plain": [
       "'apples'"
      ]
     },
     "execution_count": 477,
     "metadata": {},
     "output_type": "execute_result"
    }
   ],
   "source": [
    "shop_t"
   ]
  },
  {
   "cell_type": "code",
   "execution_count": 478,
   "id": "complex-convertible",
   "metadata": {},
   "outputs": [],
   "source": [
    "shop_t=('apples', 'bananas', 'grapes', 'oranges', 'pears')"
   ]
  },
  {
   "cell_type": "markdown",
   "id": "quick-drilling",
   "metadata": {},
   "source": [
    "Alternatively we can instantiate a ```tuple``` using the ```__init___``` signature of the ```tuple``` ```class``` directly. Details about the input arguments can be found by typing in the class followed by ```↹``` and ```⇧``` or output to a cell by typing in ```?``` followed by the ```class``` name. We see the form is more or less identical to that of a ```list```."
   ]
  },
  {
   "cell_type": "code",
   "execution_count": 479,
   "id": "textile-spencer",
   "metadata": {},
   "outputs": [
    {
     "data": {
      "text/plain": [
       "\u001b[1;31mInit signature:\u001b[0m  \u001b[0mtuple\u001b[0m\u001b[1;33m(\u001b[0m\u001b[0miterable\u001b[0m\u001b[1;33m=\u001b[0m\u001b[1;33m(\u001b[0m\u001b[1;33m)\u001b[0m\u001b[1;33m,\u001b[0m \u001b[1;33m/\u001b[0m\u001b[1;33m)\u001b[0m\u001b[1;33m\u001b[0m\u001b[1;33m\u001b[0m\u001b[0m\n",
       "\u001b[1;31mDocstring:\u001b[0m     \n",
       "Built-in immutable sequence.\n",
       "\n",
       "If no argument is given, the constructor returns an empty tuple.\n",
       "If iterable is specified the tuple is initialized from iterable's items.\n",
       "\n",
       "If the argument is a tuple, the return value is the same object.\n",
       "\u001b[1;31mType:\u001b[0m           type\n",
       "\u001b[1;31mSubclasses:\u001b[0m     int_info, float_info, UnraisableHookArgs, hash_info, version_info, flags, getwindowsversion, thread_info, asyncgen_hooks, ExceptHookArgs, ...\n"
      ]
     },
     "metadata": {},
     "output_type": "display_data"
    }
   ],
   "source": [
    "? tuple"
   ]
  },
  {
   "cell_type": "code",
   "execution_count": 480,
   "id": "funky-mouth",
   "metadata": {},
   "outputs": [],
   "source": [
    "shop_t=tuple(('apples', 'bananas', 'grapes', 'oranges', 'pears'))"
   ]
  },
  {
   "cell_type": "code",
   "execution_count": 481,
   "id": "mobile-inspiration",
   "metadata": {},
   "outputs": [
    {
     "data": {
      "text/plain": [
       "('apples', 'bananas', 'grapes', 'oranges', 'pears')"
      ]
     },
     "execution_count": 481,
     "metadata": {},
     "output_type": "execute_result"
    }
   ],
   "source": [
    "shop_t"
   ]
  },
  {
   "cell_type": "markdown",
   "id": "exempt-syracuse",
   "metadata": {},
   "source": [
    "The ```list``` and ```tuple``` ```__init__``` ```class``` signature may be used to quickly convert a ```list``` to a ```tuple``` and vice versa."
   ]
  },
  {
   "cell_type": "code",
   "execution_count": 482,
   "id": "dietary-argentina",
   "metadata": {},
   "outputs": [],
   "source": [
    "shop_l=list(shop_t)"
   ]
  },
  {
   "cell_type": "code",
   "execution_count": 483,
   "id": "suspected-willow",
   "metadata": {},
   "outputs": [
    {
     "data": {
      "text/plain": [
       "['apples', 'bananas', 'grapes', 'oranges', 'pears']"
      ]
     },
     "execution_count": 483,
     "metadata": {},
     "output_type": "execute_result"
    }
   ],
   "source": [
    "shop_l"
   ]
  },
  {
   "cell_type": "markdown",
   "id": "herbal-straight",
   "metadata": {},
   "source": [
    "Because a ```tuple``` is immutable, there are only a limited number of methods available which can be accessed by typing in the object name followed by a ```.``` and a ```↹```."
   ]
  },
  {
   "cell_type": "markdown",
   "id": "comparable-journalism",
   "metadata": {},
   "source": [
    "![tuple_methods_attributes](tuple_methods_attributes.png)"
   ]
  },
  {
   "cell_type": "markdown",
   "id": "mighty-jerusalem",
   "metadata": {},
   "source": [
    "We see that the ```list``` in comparison has many more methods available."
   ]
  },
  {
   "cell_type": "markdown",
   "id": "legendary-medicare",
   "metadata": {},
   "source": [
    "![list2_methods_attributes](list2_methods_attributes.png)"
   ]
  },
  {
   "cell_type": "markdown",
   "id": "featured-telescope",
   "metadata": {},
   "source": [
    "The ```tuple``` and ```list``` method count has a single positional input argument value. This will return the number of indexes which share the value. "
   ]
  },
  {
   "cell_type": "code",
   "execution_count": 484,
   "id": "hundred-supply",
   "metadata": {},
   "outputs": [
    {
     "data": {
      "text/plain": [
       "\u001b[1;31mSignature:\u001b[0m  \u001b[0mshop_t\u001b[0m\u001b[1;33m.\u001b[0m\u001b[0mcount\u001b[0m\u001b[1;33m(\u001b[0m\u001b[0mvalue\u001b[0m\u001b[1;33m,\u001b[0m \u001b[1;33m/\u001b[0m\u001b[1;33m)\u001b[0m\u001b[1;33m\u001b[0m\u001b[1;33m\u001b[0m\u001b[0m\n",
       "\u001b[1;31mDocstring:\u001b[0m Return number of occurrences of value.\n",
       "\u001b[1;31mType:\u001b[0m      builtin_function_or_method\n"
      ]
     },
     "metadata": {},
     "output_type": "display_data"
    }
   ],
   "source": [
    "? shop_t.count"
   ]
  },
  {
   "cell_type": "markdown",
   "id": "formed-accused",
   "metadata": {},
   "source": [
    "For example we check the number fo times 'apples' occur in each collection which is just 1."
   ]
  },
  {
   "cell_type": "code",
   "execution_count": 485,
   "id": "sunset-commonwealth",
   "metadata": {},
   "outputs": [
    {
     "data": {
      "text/plain": [
       "1"
      ]
     },
     "execution_count": 485,
     "metadata": {},
     "output_type": "execute_result"
    }
   ],
   "source": [
    "shop_t.count('apples')"
   ]
  },
  {
   "cell_type": "code",
   "execution_count": 486,
   "id": "chronic-electricity",
   "metadata": {},
   "outputs": [
    {
     "data": {
      "text/plain": [
       "1"
      ]
     },
     "execution_count": 486,
     "metadata": {},
     "output_type": "execute_result"
    }
   ],
   "source": [
    "shop_l.count('apples')"
   ]
  },
  {
   "cell_type": "markdown",
   "id": "employed-acting",
   "metadata": {},
   "source": [
    "Details about the input arguments can be found by typing in the method followed by ```↹``` and ```⇧``` or output to a cell by typing in ```?``` followed by the methods name (called from the object). The 0th positional input argument is the ```value``` to find. The 1st and 2nd positional input argument ```start``` and ```stop``` are optional and specify an index range which we can search over. These are documented to look like keyword input arguements but unfortunately do not operate in this manner."
   ]
  },
  {
   "cell_type": "code",
   "execution_count": 487,
   "id": "saved-france",
   "metadata": {},
   "outputs": [
    {
     "data": {
      "text/plain": [
       "\u001b[1;31mSignature:\u001b[0m  \u001b[0mshop_t\u001b[0m\u001b[1;33m.\u001b[0m\u001b[0mindex\u001b[0m\u001b[1;33m(\u001b[0m\u001b[0mvalue\u001b[0m\u001b[1;33m,\u001b[0m \u001b[0mstart\u001b[0m\u001b[1;33m=\u001b[0m\u001b[1;36m0\u001b[0m\u001b[1;33m,\u001b[0m \u001b[0mstop\u001b[0m\u001b[1;33m=\u001b[0m\u001b[1;36m9223372036854775807\u001b[0m\u001b[1;33m,\u001b[0m \u001b[1;33m/\u001b[0m\u001b[1;33m)\u001b[0m\u001b[1;33m\u001b[0m\u001b[1;33m\u001b[0m\u001b[0m\n",
       "\u001b[1;31mDocstring:\u001b[0m\n",
       "Return first index of value.\n",
       "\n",
       "Raises ValueError if the value is not present.\n",
       "\u001b[1;31mType:\u001b[0m      builtin_function_or_method\n"
      ]
     },
     "metadata": {},
     "output_type": "display_data"
    }
   ],
   "source": [
    "? shop_t.index"
   ]
  },
  {
   "cell_type": "code",
   "execution_count": 488,
   "id": "naughty-psychiatry",
   "metadata": {},
   "outputs": [
    {
     "data": {
      "text/plain": [
       "0"
      ]
     },
     "execution_count": 488,
     "metadata": {},
     "output_type": "execute_result"
    }
   ],
   "source": [
    "shop_t.index('apples')"
   ]
  },
  {
   "cell_type": "code",
   "execution_count": 489,
   "id": "vietnamese-duration",
   "metadata": {},
   "outputs": [
    {
     "data": {
      "text/plain": [
       "0"
      ]
     },
     "execution_count": 489,
     "metadata": {},
     "output_type": "execute_result"
    }
   ],
   "source": [
    "shop_l.index('apples')"
   ]
  },
  {
   "cell_type": "markdown",
   "id": "imported-exhibition",
   "metadata": {},
   "source": [
    "Let's concatenate another list to ```shop_l``` and reassign the output to ```shop_l```."
   ]
  },
  {
   "cell_type": "code",
   "execution_count": 490,
   "id": "acoustic-birmingham",
   "metadata": {},
   "outputs": [],
   "source": [
    "shop_l=shop_l+['apples','oranges']"
   ]
  },
  {
   "cell_type": "code",
   "execution_count": 491,
   "id": "competitive-assault",
   "metadata": {},
   "outputs": [
    {
     "data": {
      "text/plain": [
       "['apples', 'bananas', 'grapes', 'oranges', 'pears', 'apples', 'oranges']"
      ]
     },
     "execution_count": 491,
     "metadata": {},
     "output_type": "execute_result"
    }
   ],
   "source": [
    "shop_l"
   ]
  },
  {
   "cell_type": "markdown",
   "id": "instant-plaza",
   "metadata": {},
   "source": [
    "Now if we count the number of occurances of ```'apples'``` we get a value of ```2```."
   ]
  },
  {
   "cell_type": "code",
   "execution_count": 492,
   "id": "noted-preference",
   "metadata": {},
   "outputs": [
    {
     "data": {
      "text/plain": [
       "2"
      ]
     },
     "execution_count": 492,
     "metadata": {},
     "output_type": "execute_result"
    }
   ],
   "source": [
    "shop_l.count('apples')"
   ]
  },
  {
   "cell_type": "markdown",
   "id": "expressed-solution",
   "metadata": {},
   "source": [
    "The method ```index``` only returns the initial index of the value found i.e. index ```0```."
   ]
  },
  {
   "cell_type": "code",
   "execution_count": 493,
   "id": "blond-arbor",
   "metadata": {},
   "outputs": [
    {
     "data": {
      "text/plain": [
       "0"
      ]
     },
     "execution_count": 493,
     "metadata": {},
     "output_type": "execute_result"
    }
   ],
   "source": [
    "shop_l.index('apples')"
   ]
  },
  {
   "cell_type": "markdown",
   "id": "respected-shadow",
   "metadata": {},
   "source": [
    "```start``` and ```stop``` unfortunately do not work as keyword input arguments."
   ]
  },
  {
   "cell_type": "markdown",
   "id": "center-divorce",
   "metadata": {},
   "source": [
    "```idx1=shop_1.index('apples',start=1)```"
   ]
  },
  {
   "cell_type": "markdown",
   "id": "applied-significance",
   "metadata": {},
   "source": [
    "![tuple_method_index_TypeError](tuple_method_index_TypeError.png)"
   ]
  },
  {
   "cell_type": "markdown",
   "id": "first-knitting",
   "metadata": {},
   "source": [
    "The initial index within the range ```1``` upwards is found, in this case ```5```."
   ]
  },
  {
   "cell_type": "code",
   "execution_count": 494,
   "id": "neither-healthcare",
   "metadata": {},
   "outputs": [
    {
     "data": {
      "text/plain": [
       "5"
      ]
     },
     "execution_count": 494,
     "metadata": {},
     "output_type": "execute_result"
    }
   ],
   "source": [
    "shop_l.index('apples',1)"
   ]
  },
  {
   "cell_type": "markdown",
   "id": "persistent-personality",
   "metadata": {},
   "source": [
    "If the value is not found in the range selected a ```ValueError``` will display."
   ]
  },
  {
   "cell_type": "markdown",
   "id": "appropriate-implementation",
   "metadata": {},
   "source": [
    "```shop_1.index('apples',6)```"
   ]
  },
  {
   "cell_type": "markdown",
   "id": "encouraging-indonesian",
   "metadata": {},
   "source": [
    "![tuple_method_index_ValueError](tuple_method_index_ValueError.png)"
   ]
  },
  {
   "cell_type": "markdown",
   "id": "regulation-coral",
   "metadata": {},
   "source": [
    "To prevent this ```ValueError``` from halting the Kernel a try and except branch can be used. To get all the indexes that have the value ```'Apples'``` a ```while``` loop can be used."
   ]
  },
  {
   "cell_type": "code",
   "execution_count": 495,
   "id": "falling-johnson",
   "metadata": {},
   "outputs": [
    {
     "data": {
      "text/plain": [
       "[0, 5]"
      ]
     },
     "execution_count": 495,
     "metadata": {},
     "output_type": "execute_result"
    }
   ],
   "source": [
    "i=0\n",
    "idx=[]\n",
    "while i<len(shop_l):\n",
    "    try:\n",
    "        idx=idx+[shop_l.index('apples',i)]\n",
    "        i=shop_l.index('apples',i)+1\n",
    "    except ValueError:\n",
    "        break\n",
    "idx"
   ]
  },
  {
   "cell_type": "markdown",
   "id": "motivated-bracelet",
   "metadata": {},
   "source": [
    "### Tuple Unpacking"
   ]
  },
  {
   "cell_type": "markdown",
   "id": "collect-illinois",
   "metadata": {},
   "source": [
    "We looked previously at defining and using custom functions. We seen that we can have multiple input arguments but only a single return statement. It is possible to use the return statement to return a collection of values such as a ```tuple```. For example we can create this basic function ```plusminus``` which returns a ```lower``` and ```upper``` bound."
   ]
  },
  {
   "cell_type": "code",
   "execution_count": 496,
   "id": "charged-association",
   "metadata": {},
   "outputs": [],
   "source": [
    "def plusminus(value=0,error=1):\n",
    "    lower=value-error\n",
    "    upper=value+error\n",
    "    return((lower,upper))"
   ]
  },
  {
   "cell_type": "markdown",
   "id": "written-continuity",
   "metadata": {},
   "source": [
    "When we use it we get a ```tuple```."
   ]
  },
  {
   "cell_type": "code",
   "execution_count": 497,
   "id": "published-nurse",
   "metadata": {},
   "outputs": [
    {
     "data": {
      "text/plain": [
       "(8, 12)"
      ]
     },
     "execution_count": 497,
     "metadata": {},
     "output_type": "execute_result"
    }
   ],
   "source": [
    "plusminus(value=10,error=2)"
   ]
  },
  {
   "cell_type": "markdown",
   "id": "obvious-enterprise",
   "metadata": {},
   "source": [
    "Alternatively we can assign the output to an object name."
   ]
  },
  {
   "cell_type": "code",
   "execution_count": 498,
   "id": "absolute-continuity",
   "metadata": {},
   "outputs": [],
   "source": [
    "pm=plusminus(value=10,error=2)"
   ]
  },
  {
   "cell_type": "markdown",
   "id": "vital-houston",
   "metadata": {},
   "source": [
    "The object is a ```tuple```."
   ]
  },
  {
   "cell_type": "code",
   "execution_count": 499,
   "id": "worst-electricity",
   "metadata": {},
   "outputs": [
    {
     "data": {
      "text/plain": [
       "(8, 12)"
      ]
     },
     "execution_count": 499,
     "metadata": {},
     "output_type": "execute_result"
    }
   ],
   "source": [
    "pm"
   ]
  },
  {
   "cell_type": "code",
   "execution_count": 500,
   "id": "treated-missouri",
   "metadata": {},
   "outputs": [
    {
     "data": {
      "text/plain": [
       "tuple"
      ]
     },
     "execution_count": 500,
     "metadata": {},
     "output_type": "execute_result"
    }
   ],
   "source": [
    "type(pm)"
   ]
  },
  {
   "cell_type": "markdown",
   "id": "fourth-guard",
   "metadata": {},
   "source": [
    "Since we know the tuple has an index of ```0``` and an index of ```1``` we can assign the output of the function to two output arguments."
   ]
  },
  {
   "cell_type": "code",
   "execution_count": 501,
   "id": "single-lambda",
   "metadata": {},
   "outputs": [],
   "source": [
    "(m,p)=plusminus(value=10,error=2)"
   ]
  },
  {
   "cell_type": "code",
   "execution_count": 502,
   "id": "universal-french",
   "metadata": {},
   "outputs": [
    {
     "data": {
      "text/plain": [
       "8"
      ]
     },
     "execution_count": 502,
     "metadata": {},
     "output_type": "execute_result"
    }
   ],
   "source": [
    "m"
   ]
  },
  {
   "cell_type": "code",
   "execution_count": 503,
   "id": "violent-project",
   "metadata": {},
   "outputs": [
    {
     "data": {
      "text/plain": [
       "int"
      ]
     },
     "execution_count": 503,
     "metadata": {},
     "output_type": "execute_result"
    }
   ],
   "source": [
    "type(m)"
   ]
  },
  {
   "cell_type": "code",
   "execution_count": 504,
   "id": "african-relevance",
   "metadata": {},
   "outputs": [
    {
     "data": {
      "text/plain": [
       "12"
      ]
     },
     "execution_count": 504,
     "metadata": {},
     "output_type": "execute_result"
    }
   ],
   "source": [
    "p"
   ]
  },
  {
   "cell_type": "code",
   "execution_count": 505,
   "id": "fewer-warrior",
   "metadata": {},
   "outputs": [
    {
     "data": {
      "text/plain": [
       "int"
      ]
     },
     "execution_count": 505,
     "metadata": {},
     "output_type": "execute_result"
    }
   ],
   "source": [
    "type(p)"
   ]
  },
  {
   "cell_type": "markdown",
   "id": "stuffed-infrastructure",
   "metadata": {},
   "source": [
    "The code above can be simplified by removing parenthesis."
   ]
  },
  {
   "cell_type": "code",
   "execution_count": 506,
   "id": "substantial-romania",
   "metadata": {},
   "outputs": [],
   "source": [
    "def plusminus(value=0,error=1):\n",
    "    lower=value-error\n",
    "    upper=value+error\n",
    "    return(lower,upper)"
   ]
  },
  {
   "cell_type": "code",
   "execution_count": 507,
   "id": "celtic-saint",
   "metadata": {},
   "outputs": [],
   "source": [
    "m,p=plusminus(value=10,error=2)"
   ]
  },
  {
   "cell_type": "code",
   "execution_count": 508,
   "id": "fewer-benjamin",
   "metadata": {},
   "outputs": [
    {
     "data": {
      "text/plain": [
       "8"
      ]
     },
     "execution_count": 508,
     "metadata": {},
     "output_type": "execute_result"
    }
   ],
   "source": [
    "m"
   ]
  },
  {
   "cell_type": "code",
   "execution_count": 509,
   "id": "naval-heather",
   "metadata": {},
   "outputs": [
    {
     "data": {
      "text/plain": [
       "12"
      ]
     },
     "execution_count": 509,
     "metadata": {},
     "output_type": "execute_result"
    }
   ],
   "source": [
    "p"
   ]
  },
  {
   "cell_type": "markdown",
   "id": "driving-parliament",
   "metadata": {},
   "source": [
    "We can of course alter the code above to ```assert``` that the keyword input arguments are ```int``` or ```float```."
   ]
  },
  {
   "cell_type": "code",
   "execution_count": 510,
   "id": "impossible-course",
   "metadata": {},
   "outputs": [],
   "source": [
    "def plusminus(value=0,error=1):\n",
    "    '''Will calculate a lower and upper bound for value±error'''\n",
    "    try:\n",
    "        assert ((type(value)==int or type(value)==float) and (type(error)==int or type(error)==float)), 'value and error must be numeric'\n",
    "        lower=value-error\n",
    "        upper=value+error\n",
    "        return(lower,upper)\n",
    "    except AssertionError:\n",
    "        print('value and error must be numeric (type int or str)')"
   ]
  },
  {
   "cell_type": "code",
   "execution_count": 511,
   "id": "urban-protest",
   "metadata": {},
   "outputs": [
    {
     "name": "stdout",
     "output_type": "stream",
     "text": [
      "value and error must be numeric (type int or str)\n"
     ]
    }
   ],
   "source": [
    "plusminus(value='a',error=1)"
   ]
  },
  {
   "cell_type": "code",
   "execution_count": 512,
   "id": "premium-intersection",
   "metadata": {},
   "outputs": [
    {
     "data": {
      "text/plain": [
       "(8, 12)"
      ]
     },
     "execution_count": 512,
     "metadata": {},
     "output_type": "execute_result"
    }
   ],
   "source": [
    "plusminus(value=10,error=2)"
   ]
  },
  {
   "cell_type": "markdown",
   "id": "material-beatles",
   "metadata": {},
   "source": [
    "### Nested Collections"
   ]
  },
  {
   "cell_type": "markdown",
   "id": "continued-economics",
   "metadata": {},
   "source": [
    "So far we have looked at collections where all the items are of the same ```datatype```. Collections such as the ```list``` or ```tuple``` are much more flexible and each item in a collection can be a different data type. For example."
   ]
  },
  {
   "cell_type": "code",
   "execution_count": 513,
   "id": "complimentary-plant",
   "metadata": {},
   "outputs": [],
   "source": [
    "mixed=['a',1,1.5,True,complex(real=4,imag=-2)]"
   ]
  },
  {
   "cell_type": "code",
   "execution_count": 514,
   "id": "physical-cologne",
   "metadata": {},
   "outputs": [
    {
     "name": "stdout",
     "output_type": "stream",
     "text": [
      "0 a <class 'str'>\n",
      "1 1 <class 'int'>\n",
      "2 1.5 <class 'float'>\n",
      "3 True <class 'bool'>\n",
      "4 (4-2j) <class 'complex'>\n"
     ]
    }
   ],
   "source": [
    "for idx,item in enumerate(mixed):\n",
    "    print(idx,item,type(item))"
   ]
  },
  {
   "cell_type": "markdown",
   "id": "senior-mailman",
   "metadata": {},
   "source": [
    "It is also possible to nest another collection in a collection. For example a ```tuple``` and a ```list``` can each be elements within a ```list```."
   ]
  },
  {
   "cell_type": "code",
   "execution_count": 515,
   "id": "numeric-fundamentals",
   "metadata": {},
   "outputs": [],
   "source": [
    "mixed2=['b',2,2/5,True,complex(real=4,imag=-2),(2,-2),['apples',4,'oranges']]"
   ]
  },
  {
   "cell_type": "code",
   "execution_count": 516,
   "id": "proper-accommodation",
   "metadata": {},
   "outputs": [
    {
     "name": "stdout",
     "output_type": "stream",
     "text": [
      "0 b <class 'str'>\n",
      "1 2 <class 'int'>\n",
      "2 0.4 <class 'float'>\n",
      "3 True <class 'bool'>\n",
      "4 (4-2j) <class 'complex'>\n",
      "5 (2, -2) <class 'tuple'>\n",
      "6 ['apples', 4, 'oranges'] <class 'list'>\n"
     ]
    }
   ],
   "source": [
    "for idx,item in enumerate(mixed2):\n",
    "    print(idx,item,type(item))"
   ]
  },
  {
   "cell_type": "markdown",
   "id": "classified-kazakhstan",
   "metadata": {},
   "source": [
    "We can index into the ```list``` using square brackets ```[]``` and index ```5``` to get the ```tuple``` and then we can use an additional square brackets to select index ```1``` to get the 1st element in the ```tuple``` ```-2```."
   ]
  },
  {
   "cell_type": "code",
   "execution_count": 517,
   "id": "guilty-nirvana",
   "metadata": {},
   "outputs": [
    {
     "data": {
      "text/plain": [
       "-2"
      ]
     },
     "execution_count": 517,
     "metadata": {},
     "output_type": "execute_result"
    }
   ],
   "source": [
    "mixed2[5][1]"
   ]
  },
  {
   "cell_type": "markdown",
   "id": "sapphire-literature",
   "metadata": {},
   "source": [
    "Let's create two lists."
   ]
  },
  {
   "cell_type": "code",
   "execution_count": 518,
   "id": "complex-sight",
   "metadata": {},
   "outputs": [],
   "source": [
    "l1=[0,1,2,3,4]\n",
    "l2=[5,6]"
   ]
  },
  {
   "cell_type": "markdown",
   "id": "friendly-morrison",
   "metadata": {},
   "source": [
    "Now let's look at the methods ```append``` and ```extend```. At first glance the two methods may appear to do the same thing."
   ]
  },
  {
   "cell_type": "code",
   "execution_count": 519,
   "id": "amateur-budapest",
   "metadata": {},
   "outputs": [
    {
     "data": {
      "text/plain": [
       "\u001b[1;31mSignature:\u001b[0m  \u001b[0ml1\u001b[0m\u001b[1;33m.\u001b[0m\u001b[0mappend\u001b[0m\u001b[1;33m(\u001b[0m\u001b[0mobject\u001b[0m\u001b[1;33m,\u001b[0m \u001b[1;33m/\u001b[0m\u001b[1;33m)\u001b[0m\u001b[1;33m\u001b[0m\u001b[1;33m\u001b[0m\u001b[0m\n",
       "\u001b[1;31mDocstring:\u001b[0m Append object to the end of the list.\n",
       "\u001b[1;31mType:\u001b[0m      builtin_function_or_method\n"
      ]
     },
     "metadata": {},
     "output_type": "display_data"
    }
   ],
   "source": [
    "? l1.append"
   ]
  },
  {
   "cell_type": "code",
   "execution_count": 520,
   "id": "alien-booking",
   "metadata": {},
   "outputs": [
    {
     "data": {
      "text/plain": [
       "\u001b[1;31mSignature:\u001b[0m  \u001b[0ml1\u001b[0m\u001b[1;33m.\u001b[0m\u001b[0mextend\u001b[0m\u001b[1;33m(\u001b[0m\u001b[0miterable\u001b[0m\u001b[1;33m,\u001b[0m \u001b[1;33m/\u001b[0m\u001b[1;33m)\u001b[0m\u001b[1;33m\u001b[0m\u001b[1;33m\u001b[0m\u001b[0m\n",
       "\u001b[1;31mDocstring:\u001b[0m Extend list by appending elements from the iterable.\n",
       "\u001b[1;31mType:\u001b[0m      builtin_function_or_method\n"
      ]
     },
     "metadata": {},
     "output_type": "display_data"
    }
   ],
   "source": [
    "? l1.extend"
   ]
  },
  {
   "cell_type": "markdown",
   "id": "fabulous-million",
   "metadata": {},
   "source": [
    "However when we use ```append``` we see that the entire ```l2``` is appended at the end of ```l1``` as a nested ```list```."
   ]
  },
  {
   "cell_type": "code",
   "execution_count": 521,
   "id": "creative-judges",
   "metadata": {},
   "outputs": [],
   "source": [
    "l1.append(l2)"
   ]
  },
  {
   "cell_type": "markdown",
   "id": "integrated-castle",
   "metadata": {},
   "source": [
    "Note the method ```append``` shows no output and mutates the original ```list``` ```l1```."
   ]
  },
  {
   "cell_type": "code",
   "execution_count": 522,
   "id": "surgical-heaven",
   "metadata": {},
   "outputs": [
    {
     "data": {
      "text/plain": [
       "[0, 1, 2, 3, 4, [5, 6]]"
      ]
     },
     "execution_count": 522,
     "metadata": {},
     "output_type": "execute_result"
    }
   ],
   "source": [
    "l1"
   ]
  },
  {
   "cell_type": "markdown",
   "id": "strong-teddy",
   "metadata": {},
   "source": [
    "Reassigning ```l1``` and ```l2```."
   ]
  },
  {
   "cell_type": "code",
   "execution_count": 523,
   "id": "communist-contribution",
   "metadata": {},
   "outputs": [],
   "source": [
    "l1=[0,1,2,3,4]\n",
    "l2=[5,6]"
   ]
  },
  {
   "cell_type": "markdown",
   "id": "interim-harris",
   "metadata": {},
   "source": [
    "And now using the ```list``` method ```extend``` instead, extends ```l1``` using all the elements in ```l2```."
   ]
  },
  {
   "cell_type": "code",
   "execution_count": 524,
   "id": "undefined-night",
   "metadata": {},
   "outputs": [],
   "source": [
    "l1.extend(l2)"
   ]
  },
  {
   "cell_type": "code",
   "execution_count": 525,
   "id": "spread-valley",
   "metadata": {},
   "outputs": [
    {
     "data": {
      "text/plain": [
       "[0, 1, 2, 3, 4, 5, 6]"
      ]
     },
     "execution_count": 525,
     "metadata": {},
     "output_type": "execute_result"
    }
   ],
   "source": [
    "l1"
   ]
  },
  {
   "cell_type": "code",
   "execution_count": 526,
   "id": "fundamental-nursing",
   "metadata": {},
   "outputs": [],
   "source": [
    "l1=[0,1,2,3,4]\n",
    "l2=[5,6]"
   ]
  },
  {
   "cell_type": "markdown",
   "id": "fourth-genome",
   "metadata": {},
   "source": [
    "The ```list``` method ```insert``` works in a similar manner to ```append```. We see there are two positional input arguments. An ```index``` has to be selected to place the inserted ```object```. All existing values at this ```index``` or later are shifted one along."
   ]
  },
  {
   "cell_type": "code",
   "execution_count": 527,
   "id": "early-terminal",
   "metadata": {},
   "outputs": [
    {
     "data": {
      "text/plain": [
       "\u001b[1;31mSignature:\u001b[0m  \u001b[0ml1\u001b[0m\u001b[1;33m.\u001b[0m\u001b[0minsert\u001b[0m\u001b[1;33m(\u001b[0m\u001b[0mindex\u001b[0m\u001b[1;33m,\u001b[0m \u001b[0mobject\u001b[0m\u001b[1;33m,\u001b[0m \u001b[1;33m/\u001b[0m\u001b[1;33m)\u001b[0m\u001b[1;33m\u001b[0m\u001b[1;33m\u001b[0m\u001b[0m\n",
       "\u001b[1;31mDocstring:\u001b[0m Insert object before index.\n",
       "\u001b[1;31mType:\u001b[0m      builtin_function_or_method\n"
      ]
     },
     "metadata": {},
     "output_type": "display_data"
    }
   ],
   "source": [
    "? l1.insert"
   ]
  },
  {
   "cell_type": "code",
   "execution_count": 528,
   "id": "municipal-intersection",
   "metadata": {},
   "outputs": [],
   "source": [
    "l1.insert(2,l2)"
   ]
  },
  {
   "cell_type": "markdown",
   "id": "voluntary-catering",
   "metadata": {},
   "source": [
    "This method also mutates the list l1 and there is no output."
   ]
  },
  {
   "cell_type": "code",
   "execution_count": 529,
   "id": "palestinian-berry",
   "metadata": {},
   "outputs": [
    {
     "data": {
      "text/plain": [
       "[0, 1, [5, 6], 2, 3, 4]"
      ]
     },
     "execution_count": 529,
     "metadata": {},
     "output_type": "execute_result"
    }
   ],
   "source": [
    "l1"
   ]
  },
  {
   "cell_type": "markdown",
   "id": "moderate-designation",
   "metadata": {},
   "source": [
    "The list method remove will remove the first occurance of a value using the value as an input argument. We see there is a single positional input argument ```value```."
   ]
  },
  {
   "cell_type": "code",
   "execution_count": 530,
   "id": "lyric-productivity",
   "metadata": {},
   "outputs": [
    {
     "data": {
      "text/plain": [
       "\u001b[1;31mSignature:\u001b[0m  \u001b[0ml1\u001b[0m\u001b[1;33m.\u001b[0m\u001b[0mremove\u001b[0m\u001b[1;33m(\u001b[0m\u001b[0mvalue\u001b[0m\u001b[1;33m,\u001b[0m \u001b[1;33m/\u001b[0m\u001b[1;33m)\u001b[0m\u001b[1;33m\u001b[0m\u001b[1;33m\u001b[0m\u001b[0m\n",
       "\u001b[1;31mDocstring:\u001b[0m\n",
       "Remove first occurrence of value.\n",
       "\n",
       "Raises ValueError if the value is not present.\n",
       "\u001b[1;31mType:\u001b[0m      builtin_function_or_method\n"
      ]
     },
     "metadata": {},
     "output_type": "display_data"
    }
   ],
   "source": [
    "? l1.remove"
   ]
  },
  {
   "cell_type": "code",
   "execution_count": 531,
   "id": "addressed-favorite",
   "metadata": {},
   "outputs": [],
   "source": [
    "l1.remove(1)"
   ]
  },
  {
   "cell_type": "markdown",
   "id": "operating-turkey",
   "metadata": {},
   "source": [
    "This method also mutates the ```list``` ```l1``` and there is no output."
   ]
  },
  {
   "cell_type": "code",
   "execution_count": 532,
   "id": "tough-catalyst",
   "metadata": {},
   "outputs": [
    {
     "data": {
      "text/plain": [
       "[0, [5, 6], 2, 3, 4]"
      ]
     },
     "execution_count": 532,
     "metadata": {},
     "output_type": "execute_result"
    }
   ],
   "source": [
    "l1"
   ]
  },
  {
   "cell_type": "markdown",
   "id": "complicated-rainbow",
   "metadata": {},
   "source": [
    "The list method ```pop``` removes a ```value``` using the index as a keyword input argument. We see there is a positional input argument ```index``` and it is set to ```-1``` which is the last ```index```. "
   ]
  },
  {
   "cell_type": "code",
   "execution_count": 533,
   "id": "peaceful-cassette",
   "metadata": {},
   "outputs": [
    {
     "data": {
      "text/plain": [
       "\u001b[1;31mSignature:\u001b[0m  \u001b[0ml1\u001b[0m\u001b[1;33m.\u001b[0m\u001b[0mpop\u001b[0m\u001b[1;33m(\u001b[0m\u001b[0mindex\u001b[0m\u001b[1;33m=\u001b[0m\u001b[1;33m-\u001b[0m\u001b[1;36m1\u001b[0m\u001b[1;33m,\u001b[0m \u001b[1;33m/\u001b[0m\u001b[1;33m)\u001b[0m\u001b[1;33m\u001b[0m\u001b[1;33m\u001b[0m\u001b[0m\n",
       "\u001b[1;31mDocstring:\u001b[0m\n",
       "Remove and return item at index (default last).\n",
       "\n",
       "Raises IndexError if list is empty or index is out of range.\n",
       "\u001b[1;31mType:\u001b[0m      builtin_function_or_method\n"
      ]
     },
     "metadata": {},
     "output_type": "display_data"
    }
   ],
   "source": [
    "? l1.pop"
   ]
  },
  {
   "cell_type": "code",
   "execution_count": 534,
   "id": "relative-satin",
   "metadata": {},
   "outputs": [
    {
     "data": {
      "text/plain": [
       "[5, 6]"
      ]
     },
     "execution_count": 534,
     "metadata": {},
     "output_type": "execute_result"
    }
   ],
   "source": [
    "l1.pop(1)"
   ]
  },
  {
   "cell_type": "markdown",
   "id": "vulnerable-november",
   "metadata": {},
   "source": [
    "This method returns the index selected in this case the nested ```list``` ```[5,6]``` which was at index ```1```. This method mutates the ```list``` ```l1``` removing the popped value from it and assigning the popped value as the output."
   ]
  },
  {
   "cell_type": "code",
   "execution_count": 535,
   "id": "authorized-beauty",
   "metadata": {},
   "outputs": [
    {
     "data": {
      "text/plain": [
       "[0, 2, 3, 4]"
      ]
     },
     "execution_count": 535,
     "metadata": {},
     "output_type": "execute_result"
    }
   ],
   "source": [
    "l1"
   ]
  },
  {
   "cell_type": "markdown",
   "id": "appreciated-tuner",
   "metadata": {},
   "source": [
    "If the index is not specified, the last value will be popped."
   ]
  },
  {
   "cell_type": "code",
   "execution_count": 536,
   "id": "productive-reproduction",
   "metadata": {},
   "outputs": [
    {
     "data": {
      "text/plain": [
       "4"
      ]
     },
     "execution_count": 536,
     "metadata": {},
     "output_type": "execute_result"
    }
   ],
   "source": [
    "l1.pop()"
   ]
  },
  {
   "cell_type": "code",
   "execution_count": 537,
   "id": "alpine-intersection",
   "metadata": {},
   "outputs": [
    {
     "data": {
      "text/plain": [
       "[0, 2, 3]"
      ]
     },
     "execution_count": 537,
     "metadata": {},
     "output_type": "execute_result"
    }
   ],
   "source": [
    "l1"
   ]
  },
  {
   "cell_type": "markdown",
   "id": "ambient-processing",
   "metadata": {},
   "source": [
    "index unfortunately does not work as a keyword input argument."
   ]
  },
  {
   "cell_type": "markdown",
   "id": "satellite-identification",
   "metadata": {},
   "source": [
    "```l1.pop(index=1)```"
   ]
  },
  {
   "cell_type": "markdown",
   "id": "fatty-expert",
   "metadata": {},
   "source": [
    "![list_method_pop_TypeError](list_method_pop_TypeError.png)"
   ]
  },
  {
   "cell_type": "markdown",
   "id": "refined-volume",
   "metadata": {},
   "source": [
    "The list method ```clear``` removes all values in a list returning an empty list. It has no input arguments."
   ]
  },
  {
   "cell_type": "code",
   "execution_count": 538,
   "id": "ambient-battlefield",
   "metadata": {},
   "outputs": [
    {
     "data": {
      "text/plain": [
       "\u001b[1;31mSignature:\u001b[0m  \u001b[0ml1\u001b[0m\u001b[1;33m.\u001b[0m\u001b[0mclear\u001b[0m\u001b[1;33m(\u001b[0m\u001b[1;33m)\u001b[0m\u001b[1;33m\u001b[0m\u001b[1;33m\u001b[0m\u001b[0m\n",
       "\u001b[1;31mDocstring:\u001b[0m Remove all items from list.\n",
       "\u001b[1;31mType:\u001b[0m      builtin_function_or_method\n"
      ]
     },
     "metadata": {},
     "output_type": "display_data"
    }
   ],
   "source": [
    "? l1.clear"
   ]
  },
  {
   "cell_type": "code",
   "execution_count": 539,
   "id": "rolled-album",
   "metadata": {},
   "outputs": [],
   "source": [
    "l1.clear()"
   ]
  },
  {
   "cell_type": "markdown",
   "id": "excellent-store",
   "metadata": {},
   "source": [
    "This method mutates the ```list``` ```l1``` and there is no output."
   ]
  },
  {
   "cell_type": "code",
   "execution_count": 540,
   "id": "brazilian-screw",
   "metadata": {},
   "outputs": [
    {
     "data": {
      "text/plain": [
       "[]"
      ]
     },
     "execution_count": 540,
     "metadata": {},
     "output_type": "execute_result"
    }
   ],
   "source": [
    "l1"
   ]
  },
  {
   "cell_type": "markdown",
   "id": "moving-cancer",
   "metadata": {},
   "source": [
    "### \\*args and \\*\\*kwargs"
   ]
  },
  {
   "cell_type": "markdown",
   "id": "downtown-advocate",
   "metadata": {},
   "source": [
    "If we look at the ```list``` ```__init__``` signature in more detail we'll notice that it doesn't have a specified number of positional input arguments."
   ]
  },
  {
   "cell_type": "code",
   "execution_count": 541,
   "id": "filled-therapy",
   "metadata": {},
   "outputs": [
    {
     "data": {
      "text/plain": [
       "\u001b[1;31mInit signature:\u001b[0m  \u001b[0mlist\u001b[0m\u001b[1;33m(\u001b[0m\u001b[0miterable\u001b[0m\u001b[1;33m=\u001b[0m\u001b[1;33m(\u001b[0m\u001b[1;33m)\u001b[0m\u001b[1;33m,\u001b[0m \u001b[1;33m/\u001b[0m\u001b[1;33m)\u001b[0m\u001b[1;33m\u001b[0m\u001b[1;33m\u001b[0m\u001b[0m\n",
       "\u001b[1;31mDocstring:\u001b[0m     \n",
       "Built-in mutable sequence.\n",
       "\n",
       "If no argument is given, the constructor creates a new empty list.\n",
       "The argument must be an iterable if specified.\n",
       "\u001b[1;31mType:\u001b[0m           type\n",
       "\u001b[1;31mSubclasses:\u001b[0m     _HashedSeq, StackSummary, DeferredConfigList, SList, _ImmutableLineList, FormattedText, NodeList, _ExplodedList, Stack, _Accumulator, ...\n"
      ]
     },
     "metadata": {},
     "output_type": "display_data"
    }
   ],
   "source": [
    "? list"
   ]
  },
  {
   "cell_type": "markdown",
   "id": "recovered-hamilton",
   "metadata": {},
   "source": [
    "To allow for multiple positional input arguments we can use ```*args```. We can iterate through this using a ```for``` loop."
   ]
  },
  {
   "cell_type": "code",
   "execution_count": 542,
   "id": "novel-bandwidth",
   "metadata": {},
   "outputs": [],
   "source": [
    "def varying_args(*args):\n",
    "    for value in args:\n",
    "        print(value)"
   ]
  },
  {
   "cell_type": "code",
   "execution_count": 543,
   "id": "exterior-platinum",
   "metadata": {},
   "outputs": [
    {
     "name": "stdout",
     "output_type": "stream",
     "text": [
      "1\n"
     ]
    }
   ],
   "source": [
    "varying_args(1)"
   ]
  },
  {
   "cell_type": "code",
   "execution_count": 544,
   "id": "eight-teens",
   "metadata": {},
   "outputs": [
    {
     "name": "stdout",
     "output_type": "stream",
     "text": [
      "1\n",
      "2\n"
     ]
    }
   ],
   "source": [
    "varying_args(1,2)"
   ]
  },
  {
   "cell_type": "code",
   "execution_count": 545,
   "id": "agreed-january",
   "metadata": {},
   "outputs": [
    {
     "name": "stdout",
     "output_type": "stream",
     "text": [
      "1\n",
      "2\n",
      "3\n"
     ]
    }
   ],
   "source": [
    "varying_args(1,2,3)"
   ]
  },
  {
   "cell_type": "markdown",
   "id": "numeric-playlist",
   "metadata": {},
   "source": [
    "Alternatively to allow for multiple keyword input arguments we can use ```**kwargs```. Iterating through this is the same as iterating through a ```dict```."
   ]
  },
  {
   "cell_type": "code",
   "execution_count": 546,
   "id": "emotional-brother",
   "metadata": {},
   "outputs": [],
   "source": [
    "def varying_kwargs(**kwargs):\n",
    "    for key,value in kwargs.items():\n",
    "        print(key,value)"
   ]
  },
  {
   "cell_type": "code",
   "execution_count": 547,
   "id": "superior-stationery",
   "metadata": {},
   "outputs": [
    {
     "name": "stdout",
     "output_type": "stream",
     "text": [
      "a 1\n",
      "b 2\n",
      "c 3\n"
     ]
    }
   ],
   "source": [
    "varying_kwargs(a=1,b=2,c=3)"
   ]
  },
  {
   "cell_type": "markdown",
   "id": "increased-drilling",
   "metadata": {},
   "source": [
    "We could take advantage of this functionality for example when making a ```sum``` function."
   ]
  },
  {
   "cell_type": "code",
   "execution_count": 548,
   "id": "sacred-pioneer",
   "metadata": {},
   "outputs": [],
   "source": [
    "def sum_args(*args):\n",
    "    sum_val=0\n",
    "    for val in args:\n",
    "        sum_val=sum_val+val\n",
    "    return(sum_val)"
   ]
  },
  {
   "cell_type": "code",
   "execution_count": 549,
   "id": "adult-cooking",
   "metadata": {},
   "outputs": [
    {
     "data": {
      "text/plain": [
       "1"
      ]
     },
     "execution_count": 549,
     "metadata": {},
     "output_type": "execute_result"
    }
   ],
   "source": [
    "sum_args(1)"
   ]
  },
  {
   "cell_type": "code",
   "execution_count": 550,
   "id": "confidential-gather",
   "metadata": {},
   "outputs": [
    {
     "data": {
      "text/plain": [
       "3"
      ]
     },
     "execution_count": 550,
     "metadata": {},
     "output_type": "execute_result"
    }
   ],
   "source": [
    "sum_args(1,2)"
   ]
  },
  {
   "cell_type": "code",
   "execution_count": 551,
   "id": "worthy-brunswick",
   "metadata": {},
   "outputs": [
    {
     "data": {
      "text/plain": [
       "6"
      ]
     },
     "execution_count": 551,
     "metadata": {},
     "output_type": "execute_result"
    }
   ],
   "source": [
    "sum_args(1,2,3)"
   ]
  },
  {
   "cell_type": "markdown",
   "id": "chinese-worst",
   "metadata": {},
   "source": [
    "Because we haven't checked the types of input arguments we get the following error."
   ]
  },
  {
   "cell_type": "markdown",
   "id": "enclosed-creation",
   "metadata": {},
   "source": [
    "```sum_args(1,'a')```"
   ]
  },
  {
   "cell_type": "markdown",
   "id": "loving-architecture",
   "metadata": {},
   "source": [
    "![args_TypeError](args_TypeError.png)"
   ]
  },
  {
   "cell_type": "code",
   "execution_count": 552,
   "id": "fundamental-apparatus",
   "metadata": {},
   "outputs": [],
   "source": [
    "def sum_args(*args):\n",
    "    sum_val=0\n",
    "    for val in args:\n",
    "        try:\n",
    "            assert (type(val)==int or type(val)==float)\n",
    "            sum_val=sum_val+val\n",
    "        except AssertionError:\n",
    "            sum_val='NaN'\n",
    "            print('all input arguments must be int or float')\n",
    "            return(sum_val)\n",
    "    return(sum_val)"
   ]
  },
  {
   "cell_type": "code",
   "execution_count": 553,
   "id": "dominant-pocket",
   "metadata": {},
   "outputs": [
    {
     "data": {
      "text/plain": [
       "1"
      ]
     },
     "execution_count": 553,
     "metadata": {},
     "output_type": "execute_result"
    }
   ],
   "source": [
    "sum_args(1)"
   ]
  },
  {
   "cell_type": "code",
   "execution_count": 554,
   "id": "atmospheric-hanging",
   "metadata": {},
   "outputs": [
    {
     "data": {
      "text/plain": [
       "3"
      ]
     },
     "execution_count": 554,
     "metadata": {},
     "output_type": "execute_result"
    }
   ],
   "source": [
    "sum_args(1,2)"
   ]
  },
  {
   "cell_type": "code",
   "execution_count": 555,
   "id": "similar-ontario",
   "metadata": {},
   "outputs": [
    {
     "data": {
      "text/plain": [
       "6"
      ]
     },
     "execution_count": 555,
     "metadata": {},
     "output_type": "execute_result"
    }
   ],
   "source": [
    "sum_args(1,2,3)"
   ]
  },
  {
   "cell_type": "code",
   "execution_count": 556,
   "id": "awful-salvation",
   "metadata": {},
   "outputs": [
    {
     "name": "stdout",
     "output_type": "stream",
     "text": [
      "all input arguments must be int or float\n"
     ]
    },
    {
     "data": {
      "text/plain": [
       "'NaN'"
      ]
     },
     "execution_count": 556,
     "metadata": {},
     "output_type": "execute_result"
    }
   ],
   "source": [
    "sum_args(1,'a')"
   ]
  },
  {
   "cell_type": "markdown",
   "id": "ecological-injury",
   "metadata": {},
   "source": [
    "This behaviour is useful for a ```arange``` function. We can count the number of input arguments being received and enact slightly different behaviour depending on the number of input arguments."
   ]
  },
  {
   "cell_type": "code",
   "execution_count": 557,
   "id": "certified-moses",
   "metadata": {},
   "outputs": [],
   "source": [
    "def arange(*args):\n",
    "    '''\n",
    "    This function can take 1-3 input arguments.\n",
    "    1 input argument a. start=0, stop=a, step=1\n",
    "    2 input arguments a and b. start=a, stop=b, step=1\n",
    "    3 input arguments a, b and c. start=1, stop=b, step=c\n",
    "    '''\n",
    "    for val in args:\n",
    "        try:\n",
    "            assert (type(val)==int or type(val)==float)\n",
    "        except AssertionError:\n",
    "            data='NaN'\n",
    "            print('all input arguments must be int or float')\n",
    "            return(data)\n",
    "    if len(args)==0:\n",
    "        print('invalid number of user arguments')\n",
    "        data='NaN'\n",
    "        return(data)\n",
    "    elif len(args)==1:\n",
    "        start=0\n",
    "        stop=args[0]\n",
    "        step=1\n",
    "        data=[]\n",
    "        val=start\n",
    "        while val<stop:\n",
    "            data.append(val)\n",
    "            val+=1\n",
    "        return(data)\n",
    "    elif len(args)==2:\n",
    "        start=args[0]\n",
    "        stop=args[1]\n",
    "        step=1\n",
    "        data=[]\n",
    "        val=start\n",
    "        while val<stop:\n",
    "            data.append(val)\n",
    "            val+=1\n",
    "        return(data)\n",
    "    elif len(args)==3:\n",
    "        start=args[0]\n",
    "        stop=args[1]\n",
    "        step=args[2]\n",
    "        data=[]\n",
    "        val=start\n",
    "        if step>0:\n",
    "            while val<stop:\n",
    "                data.append(val)\n",
    "                val+=step\n",
    "            return(data)\n",
    "        else:\n",
    "            while val>stop:\n",
    "                data.append(val)\n",
    "                val+=step\n",
    "            return(data)\n",
    "    else:\n",
    "        print('invalid number of user arguments')\n",
    "        data='NaN'\n",
    "        return(data)"
   ]
  },
  {
   "cell_type": "markdown",
   "id": "considered-monaco",
   "metadata": {},
   "source": [
    "Let's now check the behaviour of the function ```arange```."
   ]
  },
  {
   "cell_type": "code",
   "execution_count": 558,
   "id": "reasonable-kernel",
   "metadata": {},
   "outputs": [
    {
     "data": {
      "text/plain": [
       "\u001b[1;31mSignature:\u001b[0m  \u001b[0marange\u001b[0m\u001b[1;33m(\u001b[0m\u001b[1;33m*\u001b[0m\u001b[0margs\u001b[0m\u001b[1;33m)\u001b[0m\u001b[1;33m\u001b[0m\u001b[1;33m\u001b[0m\u001b[0m\n",
       "\u001b[1;31mDocstring:\u001b[0m\n",
       "This function can take 1-3 input arguments.\n",
       "1 input argument a. start=0, stop=a, step=1\n",
       "2 input arguments a and b. start=a, stop=b, step=1\n",
       "3 input arguments a, b and c. start=1, stop=b, step=c\n",
       "\u001b[1;31mFile:\u001b[0m      c:\\users\\phili\\documents\\1. object orientated programming\\<ipython-input-557-e9fb38244a39>\n",
       "\u001b[1;31mType:\u001b[0m      function\n"
      ]
     },
     "metadata": {},
     "output_type": "display_data"
    }
   ],
   "source": [
    "? arange"
   ]
  },
  {
   "cell_type": "markdown",
   "id": "tired-angola",
   "metadata": {},
   "source": [
    "Now we can try to call it using the following scenarios."
   ]
  },
  {
   "cell_type": "code",
   "execution_count": 559,
   "id": "confused-rebel",
   "metadata": {},
   "outputs": [
    {
     "name": "stdout",
     "output_type": "stream",
     "text": [
      "invalid number of user arguments\n"
     ]
    },
    {
     "data": {
      "text/plain": [
       "'NaN'"
      ]
     },
     "execution_count": 559,
     "metadata": {},
     "output_type": "execute_result"
    }
   ],
   "source": [
    "arange()"
   ]
  },
  {
   "cell_type": "code",
   "execution_count": 560,
   "id": "multiple-error",
   "metadata": {},
   "outputs": [
    {
     "data": {
      "text/plain": [
       "[0, 1, 2, 3, 4]"
      ]
     },
     "execution_count": 560,
     "metadata": {},
     "output_type": "execute_result"
    }
   ],
   "source": [
    "arange(5)"
   ]
  },
  {
   "cell_type": "code",
   "execution_count": 561,
   "id": "pressed-journey",
   "metadata": {},
   "outputs": [
    {
     "data": {
      "text/plain": [
       "[1, 2, 3, 4]"
      ]
     },
     "execution_count": 561,
     "metadata": {},
     "output_type": "execute_result"
    }
   ],
   "source": [
    "arange(1,5)"
   ]
  },
  {
   "cell_type": "code",
   "execution_count": 562,
   "id": "devoted-auckland",
   "metadata": {},
   "outputs": [
    {
     "data": {
      "text/plain": [
       "[1, 1.5, 2.0, 2.5, 3.0, 3.5, 4.0, 4.5]"
      ]
     },
     "execution_count": 562,
     "metadata": {},
     "output_type": "execute_result"
    }
   ],
   "source": [
    "arange(1,5,0.5)"
   ]
  },
  {
   "cell_type": "code",
   "execution_count": 563,
   "id": "common-gentleman",
   "metadata": {},
   "outputs": [
    {
     "name": "stdout",
     "output_type": "stream",
     "text": [
      "invalid number of user arguments\n"
     ]
    },
    {
     "data": {
      "text/plain": [
       "'NaN'"
      ]
     },
     "execution_count": 563,
     "metadata": {},
     "output_type": "execute_result"
    }
   ],
   "source": [
    "arange(1,5,1,1)"
   ]
  },
  {
   "cell_type": "code",
   "execution_count": 564,
   "id": "cardiac-judges",
   "metadata": {},
   "outputs": [
    {
     "name": "stdout",
     "output_type": "stream",
     "text": [
      "all input arguments must be int or float\n"
     ]
    },
    {
     "data": {
      "text/plain": [
       "'NaN'"
      ]
     },
     "execution_count": 564,
     "metadata": {},
     "output_type": "execute_result"
    }
   ],
   "source": [
    "arange('a',5,0.5)"
   ]
  },
  {
   "cell_type": "code",
   "execution_count": 565,
   "id": "severe-yacht",
   "metadata": {},
   "outputs": [
    {
     "data": {
      "text/plain": [
       "[]"
      ]
     },
     "execution_count": 565,
     "metadata": {},
     "output_type": "execute_result"
    }
   ],
   "source": [
    "arange(1,5,-1)"
   ]
  },
  {
   "cell_type": "code",
   "execution_count": 566,
   "id": "sexual-sperm",
   "metadata": {},
   "outputs": [
    {
     "data": {
      "text/plain": [
       "[5, 4, 3, 2]"
      ]
     },
     "execution_count": 566,
     "metadata": {},
     "output_type": "execute_result"
    }
   ],
   "source": [
    "arange(5,1,-1)"
   ]
  },
  {
   "cell_type": "markdown",
   "id": "macro-handy",
   "metadata": {},
   "source": [
    "We may also use ```*args``` or ```**kwargs``` to unpack a ```tuple``` or ```list``` to a series of input arguments or a ```dict``` to a series of keyword input arguments."
   ]
  },
  {
   "cell_type": "code",
   "execution_count": 567,
   "id": "upset-athletics",
   "metadata": {},
   "outputs": [],
   "source": [
    "def fun(a,b,c):\n",
    "    return(a+b+c)"
   ]
  },
  {
   "cell_type": "code",
   "execution_count": 568,
   "id": "mathematical-tucson",
   "metadata": {},
   "outputs": [],
   "source": [
    "l1=[1,2,3]"
   ]
  },
  {
   "cell_type": "code",
   "execution_count": 569,
   "id": "painful-acceptance",
   "metadata": {},
   "outputs": [
    {
     "data": {
      "text/plain": [
       "6"
      ]
     },
     "execution_count": 569,
     "metadata": {},
     "output_type": "execute_result"
    }
   ],
   "source": [
    "fun(*l1)"
   ]
  },
  {
   "cell_type": "code",
   "execution_count": 570,
   "id": "yellow-mount",
   "metadata": {},
   "outputs": [],
   "source": [
    "def fun(a=0,b=0,c=0):\n",
    "    return(a+b+c)"
   ]
  },
  {
   "cell_type": "code",
   "execution_count": 571,
   "id": "multiple-judge",
   "metadata": {},
   "outputs": [],
   "source": [
    "d1={'a':1,'b':2,'c':3}"
   ]
  },
  {
   "cell_type": "code",
   "execution_count": 572,
   "id": "smaller-diploma",
   "metadata": {},
   "outputs": [
    {
     "data": {
      "text/plain": [
       "6"
      ]
     },
     "execution_count": 572,
     "metadata": {},
     "output_type": "execute_result"
    }
   ],
   "source": [
    "fun(**d1)"
   ]
  },
  {
   "cell_type": "markdown",
   "id": "official-calcium",
   "metadata": {},
   "source": [
    "Inheritance with inbuilt Python classes is tricky as the inbuilt classes are typically encoded in ```C++```. Normally we would build our custom classes around an ```object``` superclass and the superclass would be defined by using instances of inbuilt ```classes```.\n",
    "\n",
    "In some cases we may want to inherit from an inbuilt ```class```. To do so ```*args``` and ```**kwargs``` can be used to supply the appropriate arguments to the parent ```class``` method of an inbuilt ```class```. Let's use the ```int``` ```class``` as a parent ```class``` and assign the attribute ```value``` which will correspond to the number input."
   ]
  },
  {
   "cell_type": "code",
   "execution_count": 573,
   "id": "level-board",
   "metadata": {},
   "outputs": [],
   "source": [
    "class Scalar(int):\n",
    "    def __init__(self,value,*args):\n",
    "        self.value=value\n",
    "        super(Scalar,self).__init__(*args)"
   ]
  },
  {
   "cell_type": "markdown",
   "id": "emotional-valley",
   "metadata": {},
   "source": [
    "We can instantiate two instances and see this attribute ```value``` works as expected."
   ]
  },
  {
   "cell_type": "code",
   "execution_count": 574,
   "id": "funded-plate",
   "metadata": {},
   "outputs": [],
   "source": [
    "a=Scalar(5)"
   ]
  },
  {
   "cell_type": "code",
   "execution_count": 575,
   "id": "restricted-statement",
   "metadata": {},
   "outputs": [
    {
     "data": {
      "text/plain": [
       "5"
      ]
     },
     "execution_count": 575,
     "metadata": {},
     "output_type": "execute_result"
    }
   ],
   "source": [
    "a.value"
   ]
  },
  {
   "cell_type": "code",
   "execution_count": 576,
   "id": "dental-haiti",
   "metadata": {},
   "outputs": [],
   "source": [
    "b=Scalar(6)"
   ]
  },
  {
   "cell_type": "code",
   "execution_count": 577,
   "id": "massive-bulletin",
   "metadata": {},
   "outputs": [
    {
     "data": {
      "text/plain": [
       "6"
      ]
     },
     "execution_count": 577,
     "metadata": {},
     "output_type": "execute_result"
    }
   ],
   "source": [
    "b.value"
   ]
  },
  {
   "cell_type": "markdown",
   "id": "exotic-magnitude",
   "metadata": {},
   "source": [
    "Otherwise we can see have inherited all we need from the ```__init__``` signature of the parent ```class```."
   ]
  },
  {
   "cell_type": "code",
   "execution_count": 578,
   "id": "alert-wound",
   "metadata": {},
   "outputs": [
    {
     "data": {
      "text/plain": [
       "11"
      ]
     },
     "execution_count": 578,
     "metadata": {},
     "output_type": "execute_result"
    }
   ],
   "source": [
    "a+b"
   ]
  },
  {
   "cell_type": "code",
   "execution_count": 579,
   "id": "protective-assembly",
   "metadata": {},
   "outputs": [
    {
     "data": {
      "text/plain": [
       "-1"
      ]
     },
     "execution_count": 579,
     "metadata": {},
     "output_type": "execute_result"
    }
   ],
   "source": [
    "a-b"
   ]
  },
  {
   "cell_type": "code",
   "execution_count": 580,
   "id": "polished-reality",
   "metadata": {},
   "outputs": [
    {
     "data": {
      "text/plain": [
       "30"
      ]
     },
     "execution_count": 580,
     "metadata": {},
     "output_type": "execute_result"
    }
   ],
   "source": [
    "a*b"
   ]
  },
  {
   "cell_type": "markdown",
   "id": "considerable-precipitation",
   "metadata": {},
   "source": [
    "Now that you are familar with the Python programming language, you can move onto the core Python librarires used for data science. These are:\n",
    "\n",
    "[The Numeric Python (numpy) Library](https://github.com/PhilipYip1988/2-numpy/blob/main/numpy.ipynb)\n",
    "\n",
    "[The Python and Data Analysis (pandas) Library](https://github.com/PhilipYip1988/3-pandas/blob/main/pandas.ipynb)\n",
    "\n",
    "[The Python Plotting Library (matplotlib)](https://github.com/PhilipYip1988/4-matplotlib/blob/main/matplotlib.ipynb)"
   ]
  },
  {
   "cell_type": "markdown",
   "id": "statewide-engagement",
   "metadata": {},
   "source": [
    "The numpy library is built around a ```ndarray``` class designed purposely for numeric manipulation. The datamodel methods in this class are fine tuned for numeric operations.\n",
    "\n",
    "The pandas library is built around a ```DataFrame``` class which is analogous to an Excel Spreadsheet. We can use pandas to programmatically manipulate data to carry out all the operations one may manually carry out in an Excel using the general user interface.\n",
    "\n",
    "The matplotlib plotting library can be used to create 2d, 3d and animated plots from data of the appropriate data structure. "
   ]
  },
  {
   "cell_type": "code",
   "execution_count": null,
   "id": "scheduled-tongue",
   "metadata": {},
   "outputs": [],
   "source": []
  }
 ],
 "metadata": {
  "kernelspec": {
   "display_name": "Python 3",
   "language": "python",
   "name": "python3"
  },
  "language_info": {
   "codemirror_mode": {
    "name": "ipython",
    "version": 3
   },
   "file_extension": ".py",
   "mimetype": "text/x-python",
   "name": "python",
   "nbconvert_exporter": "python",
   "pygments_lexer": "ipython3",
   "version": "3.8.5"
  }
 },
 "nbformat": 4,
 "nbformat_minor": 5
}
