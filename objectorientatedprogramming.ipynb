{
 "cells": [
  {
   "cell_type": "markdown",
   "id": "promotional-directive",
   "metadata": {},
   "source": [
    "# Object Orientated Programming"
   ]
  },
  {
   "cell_type": "markdown",
   "id": "lovely-catalog",
   "metadata": {},
   "source": [
    "This is a beginner guide exploring the concepts behind object orientated programming using the Python programming language. This is an interactive JupyterLab workbook and is best to be ran in JupyterLab 3.0.6 or later althouh will display fine in a browser without running Python. If you have Anaconda installed. Open the Anaconda PowerShell Prompt and type in:"
   ]
  },
  {
   "cell_type": "markdown",
   "id": "preliminary-jefferson",
   "metadata": {},
   "source": [
    "```conda install -c conda-forge jupyterlab=3```"
   ]
  },
  {
   "cell_type": "markdown",
   "id": "coated-georgia",
   "metadata": {},
   "source": [
    "## Numeric Variables"
   ]
  },
  {
   "cell_type": "markdown",
   "id": "becoming-invention",
   "metadata": {},
   "source": [
    "### Integer Numbers (int)"
   ]
  },
  {
   "cell_type": "markdown",
   "id": "flying-sacramento",
   "metadata": {},
   "source": [
    "Python recognises numeric values, for example."
   ]
  },
  {
   "cell_type": "code",
   "execution_count": 1,
   "id": "funky-voltage",
   "metadata": {},
   "outputs": [
    {
     "data": {
      "text/plain": [
       "1"
      ]
     },
     "execution_count": 1,
     "metadata": {},
     "output_type": "execute_result"
    }
   ],
   "source": [
    "1"
   ]
  },
  {
   "cell_type": "markdown",
   "id": "removable-bouquet",
   "metadata": {},
   "source": [
    "It also recognises numeric operators such as:\n",
    "* (+ add) which adds the 0th number (self) to the 1st number (other)\n",
    "* (- sub) which takes the 0th number (self) and subtracts the 1st number (other)\n",
    "* (* mul) which multiplies the 0th number (self) and the 1st number (other)\n",
    "* (** pow) which gives the 0th number (self) to the power of the 1st number (other)"
   ]
  },
  {
   "cell_type": "code",
   "execution_count": 2,
   "id": "considered-hopkins",
   "metadata": {},
   "outputs": [
    {
     "data": {
      "text/plain": [
       "3"
      ]
     },
     "execution_count": 2,
     "metadata": {},
     "output_type": "execute_result"
    }
   ],
   "source": [
    "1+2"
   ]
  },
  {
   "cell_type": "code",
   "execution_count": 3,
   "id": "massive-family",
   "metadata": {},
   "outputs": [
    {
     "data": {
      "text/plain": [
       "1"
      ]
     },
     "execution_count": 3,
     "metadata": {},
     "output_type": "execute_result"
    }
   ],
   "source": [
    "2-1"
   ]
  },
  {
   "cell_type": "code",
   "execution_count": 4,
   "id": "returning-horizontal",
   "metadata": {},
   "outputs": [
    {
     "data": {
      "text/plain": [
       "4"
      ]
     },
     "execution_count": 4,
     "metadata": {},
     "output_type": "execute_result"
    }
   ],
   "source": [
    "2*2"
   ]
  },
  {
   "cell_type": "code",
   "execution_count": 5,
   "id": "soviet-intro",
   "metadata": {},
   "outputs": [
    {
     "data": {
      "text/plain": [
       "8"
      ]
     },
     "execution_count": 5,
     "metadata": {},
     "output_type": "execute_result"
    }
   ],
   "source": [
    "2**3"
   ]
  },
  {
   "cell_type": "markdown",
   "id": "apparent-soccer",
   "metadata": {},
   "source": [
    "All the numbers above are objects. Python is an object orientated programming language. The object type can be checked by use of the function type. A function uses parenthesis to enclose its input arguments. Details about the input arguments can be found by typing in the function followed by tab ↹ and shift ⇧. In this case we see that there is a single positional input argument object."
   ]
  },
  {
   "cell_type": "markdown",
   "id": "current-webmaster",
   "metadata": {},
   "source": [
    "![function_type](function_type.png)"
   ]
  },
  {
   "cell_type": "markdown",
   "id": "gorgeous-forge",
   "metadata": {},
   "source": [
    "In our case we can have a look at the number 4 object."
   ]
  },
  {
   "cell_type": "code",
   "execution_count": 6,
   "id": "bound-conviction",
   "metadata": {},
   "outputs": [
    {
     "data": {
      "text/plain": [
       "int"
      ]
     },
     "execution_count": 6,
     "metadata": {},
     "output_type": "execute_result"
    }
   ],
   "source": [
    "type(4)"
   ]
  },
  {
   "cell_type": "markdown",
   "id": "refined-crawford",
   "metadata": {},
   "source": [
    "We see that the type returns int (an abbreviation for integer) meaning it corresponds to a whole number. "
   ]
  },
  {
   "cell_type": "markdown",
   "id": "scenic-establishment",
   "metadata": {},
   "source": [
    "We can use \n",
    "* (// truediv) which takes the 0th number (self) and divides it by the 1st number (other) to return an integer. If the 0th number (self) does not divide fully by the 1st number (self) only a comple integer will be returned and there will be a bit left behind known as a remainder or modulo.\n",
    "* (% mod) returns the modulo from the equivalent true divide."
   ]
  },
  {
   "cell_type": "markdown",
   "id": "noticed-liquid",
   "metadata": {},
   "source": [
    "4 true divided by 2 gives 2 complete integers and no modulo integer."
   ]
  },
  {
   "cell_type": "code",
   "execution_count": 7,
   "id": "coordinated-award",
   "metadata": {},
   "outputs": [
    {
     "data": {
      "text/plain": [
       "2"
      ]
     },
     "execution_count": 7,
     "metadata": {},
     "output_type": "execute_result"
    }
   ],
   "source": [
    "4//2"
   ]
  },
  {
   "cell_type": "code",
   "execution_count": 8,
   "id": "brazilian-husband",
   "metadata": {},
   "outputs": [
    {
     "data": {
      "text/plain": [
       "0"
      ]
     },
     "execution_count": 8,
     "metadata": {},
     "output_type": "execute_result"
    }
   ],
   "source": [
    "4%2"
   ]
  },
  {
   "cell_type": "markdown",
   "id": "chemical-running",
   "metadata": {},
   "source": [
    "5 integer divided by 2 gives 2 complete integers and a modulo integer of 1."
   ]
  },
  {
   "cell_type": "code",
   "execution_count": 9,
   "id": "covered-jefferson",
   "metadata": {},
   "outputs": [
    {
     "data": {
      "text/plain": [
       "2"
      ]
     },
     "execution_count": 9,
     "metadata": {},
     "output_type": "execute_result"
    }
   ],
   "source": [
    "5//2"
   ]
  },
  {
   "cell_type": "code",
   "execution_count": 10,
   "id": "loose-grass",
   "metadata": {},
   "outputs": [
    {
     "data": {
      "text/plain": [
       "1"
      ]
     },
     "execution_count": 10,
     "metadata": {},
     "output_type": "execute_result"
    }
   ],
   "source": [
    "5%2"
   ]
  },
  {
   "cell_type": "markdown",
   "id": "checked-builder",
   "metadata": {},
   "source": [
    "In Python it is also possible to assign objects to object names. Object names should be in lower case letters without spaces or special characters. The underscore \\_ can be used as part of the object name. Object names can contain numbers but can't begin with a number. For example let's create the object a and assign it to the value 4. In Python the = sign is the assignment operator."
   ]
  },
  {
   "cell_type": "code",
   "execution_count": 11,
   "id": "sitting-chester",
   "metadata": {},
   "outputs": [],
   "source": [
    "a=4"
   ]
  },
  {
   "cell_type": "markdown",
   "id": "acceptable-duplicate",
   "metadata": {},
   "source": [
    "Note when we assign a value to an object name we do not see anything printed in the cell. We can see the value of an object by typing it directly in a cell."
   ]
  },
  {
   "cell_type": "code",
   "execution_count": 12,
   "id": "circular-custody",
   "metadata": {},
   "outputs": [
    {
     "data": {
      "text/plain": [
       "4"
      ]
     },
     "execution_count": 12,
     "metadata": {},
     "output_type": "execute_result"
    }
   ],
   "source": [
    "a"
   ]
  },
  {
   "cell_type": "markdown",
   "id": "charged-picture",
   "metadata": {},
   "source": [
    "We can also use the function print to print the value of an object to the cell output. Recall that to use a function we need to use parenthesis. Details about the input arguments can be found by typing in the function followed by tab ↹ and shift ⇧. In this case we see that there is a single positional input argument value. There are additional keyword input arguments sep, end, file and flush which have a default value when not specified. We will ignore these for now and come back to them later."
   ]
  },
  {
   "cell_type": "markdown",
   "id": "considered-armstrong",
   "metadata": {},
   "source": [
    "![function_print](function_print.png)"
   ]
  },
  {
   "cell_type": "markdown",
   "id": "tough-database",
   "metadata": {},
   "source": [
    "This time our object has the name a, so we will print the value of this object."
   ]
  },
  {
   "cell_type": "code",
   "execution_count": 13,
   "id": "negative-patient",
   "metadata": {},
   "outputs": [
    {
     "name": "stdout",
     "output_type": "stream",
     "text": [
      "4\n"
     ]
    }
   ],
   "source": [
    "print(a)"
   ]
  },
  {
   "cell_type": "markdown",
   "id": "first-question",
   "metadata": {},
   "source": [
    "As we seen above the object name a corresponds to a value of 4. It can be used in numeric calculations."
   ]
  },
  {
   "cell_type": "code",
   "execution_count": 14,
   "id": "shared-gasoline",
   "metadata": {},
   "outputs": [
    {
     "data": {
      "text/plain": [
       "5"
      ]
     },
     "execution_count": 14,
     "metadata": {},
     "output_type": "execute_result"
    }
   ],
   "source": [
    "a+1"
   ]
  },
  {
   "cell_type": "markdown",
   "id": "completed-siemens",
   "metadata": {},
   "source": [
    "When using the assignment operator = the object name must be on the left hand side of the assignment operator and the value assigned to the object name is on the right hand side."
   ]
  },
  {
   "cell_type": "markdown",
   "id": "suburban-attempt",
   "metadata": {},
   "source": [
    "The following line will display the following error. Note that both the code and the image of the error are placed in a markdown cell to prevent the error from holding up the Python Kernel in the notebook. This will be done for later code that also flags up errors."
   ]
  },
  {
   "cell_type": "markdown",
   "id": "equal-lingerie",
   "metadata": {},
   "source": [
    "```2=b```"
   ]
  },
  {
   "cell_type": "markdown",
   "id": "respected-platform",
   "metadata": {},
   "source": [
    "![assignment_operator_error](assignment_operator_error.png)"
   ]
  },
  {
   "cell_type": "markdown",
   "id": "colonial-blair",
   "metadata": {},
   "source": [
    "The line 2=b does not make sense to python. First of all python doesn't know the numeric value of the object b and second of all it does not make sense to update the value of the number 2 as this would mess up all subsequent numeric calculations."
   ]
  },
  {
   "cell_type": "markdown",
   "id": "breathing-makeup",
   "metadata": {},
   "source": [
    "When the assignment operator is used, the numeric operation on the right hand side is first calculated and the value of this numeric operation is assigned to the object name."
   ]
  },
  {
   "cell_type": "raw",
   "id": "square-antarctica",
   "metadata": {},
   "source": [
    "b=2+3"
   ]
  },
  {
   "cell_type": "markdown",
   "id": "speaking-buffer",
   "metadata": {},
   "source": [
    "The value isn't displayed in the console, we can print using the print statement."
   ]
  },
  {
   "cell_type": "code",
   "execution_count": 15,
   "id": "chief-wings",
   "metadata": {},
   "outputs": [
    {
     "name": "stdout",
     "output_type": "stream",
     "text": [
      "5\n"
     ]
    }
   ],
   "source": [
    "b=2+3\n",
    "print(b)"
   ]
  },
  {
   "cell_type": "markdown",
   "id": "universal-reggae",
   "metadata": {},
   "source": [
    "Here we see the operation on the right hand side is completed first, the calculation 2+3 is performed giving the value 5 and this is assigned to the object name b."
   ]
  },
  {
   "cell_type": "markdown",
   "id": "inclusive-remains",
   "metadata": {},
   "source": [
    "In Python it is quite common to reassign an object name. For example, the object name a was previously assigned a value of 4. "
   ]
  },
  {
   "cell_type": "code",
   "execution_count": 16,
   "id": "black-parliament",
   "metadata": {},
   "outputs": [
    {
     "name": "stdout",
     "output_type": "stream",
     "text": [
      "4\n"
     ]
    }
   ],
   "source": [
    "print(a)"
   ]
  },
  {
   "cell_type": "markdown",
   "id": "strategic-outline",
   "metadata": {},
   "source": [
    "Now it can be reassigned a value of 3. "
   ]
  },
  {
   "cell_type": "code",
   "execution_count": 17,
   "id": "collaborative-restaurant",
   "metadata": {},
   "outputs": [],
   "source": [
    "a=3"
   ]
  },
  {
   "cell_type": "markdown",
   "id": "previous-dallas",
   "metadata": {},
   "source": [
    "When the object is reassigned a value, the previous value is forgotten. printing the value of a will only return its currently assigned value."
   ]
  },
  {
   "cell_type": "code",
   "execution_count": 18,
   "id": "valued-exclusive",
   "metadata": {},
   "outputs": [
    {
     "name": "stdout",
     "output_type": "stream",
     "text": [
      "3\n"
     ]
    }
   ],
   "source": [
    "print(a)"
   ]
  },
  {
   "cell_type": "markdown",
   "id": "threatened-liability",
   "metadata": {},
   "source": [
    "It is common to reassign a value using a calculation with the object name itself. For example."
   ]
  },
  {
   "cell_type": "code",
   "execution_count": 19,
   "id": "faced-taste",
   "metadata": {},
   "outputs": [],
   "source": [
    "a=a+2"
   ]
  },
  {
   "cell_type": "markdown",
   "id": "resident-apple",
   "metadata": {},
   "source": [
    "Everything on the right hand side is carried out first. a has the value of 3, therefore a+2 returns the value of 5. This value of 5 is then reassigned to the object name a. Using the print function with the object a should therefore return the value of 5."
   ]
  },
  {
   "cell_type": "code",
   "execution_count": 20,
   "id": "hearing-overall",
   "metadata": {},
   "outputs": [
    {
     "name": "stdout",
     "output_type": "stream",
     "text": [
      "5\n"
     ]
    }
   ],
   "source": [
    "print(a)"
   ]
  },
  {
   "cell_type": "markdown",
   "id": "golden-wrapping",
   "metadata": {},
   "source": [
    "It is quite common to increment the value of an integer by +n or -n in particular. The operator +=n and -=n will perform an inplace update of the value a."
   ]
  },
  {
   "cell_type": "code",
   "execution_count": 21,
   "id": "invalid-panama",
   "metadata": {},
   "outputs": [],
   "source": [
    "a+=1"
   ]
  },
  {
   "cell_type": "code",
   "execution_count": 22,
   "id": "consolidated-mention",
   "metadata": {},
   "outputs": [
    {
     "name": "stdout",
     "output_type": "stream",
     "text": [
      "6\n"
     ]
    }
   ],
   "source": [
    "print(a)"
   ]
  },
  {
   "cell_type": "code",
   "execution_count": 23,
   "id": "formal-radiation",
   "metadata": {},
   "outputs": [],
   "source": [
    "a+=1"
   ]
  },
  {
   "cell_type": "code",
   "execution_count": 24,
   "id": "transsexual-mining",
   "metadata": {},
   "outputs": [
    {
     "name": "stdout",
     "output_type": "stream",
     "text": [
      "7\n"
     ]
    }
   ],
   "source": [
    "print(a)"
   ]
  },
  {
   "cell_type": "code",
   "execution_count": 25,
   "id": "fixed-officer",
   "metadata": {},
   "outputs": [],
   "source": [
    "a-=2"
   ]
  },
  {
   "cell_type": "code",
   "execution_count": 26,
   "id": "naval-proof",
   "metadata": {},
   "outputs": [
    {
     "name": "stdout",
     "output_type": "stream",
     "text": [
      "5\n"
     ]
    }
   ],
   "source": [
    "print(a)"
   ]
  },
  {
   "cell_type": "markdown",
   "id": "limiting-prototype",
   "metadata": {},
   "source": [
    "Let's have a look at the object a in more detail. First let's have a look at its type."
   ]
  },
  {
   "cell_type": "code",
   "execution_count": 27,
   "id": "respiratory-combining",
   "metadata": {},
   "outputs": [
    {
     "data": {
      "text/plain": [
       "int"
      ]
     },
     "execution_count": 27,
     "metadata": {},
     "output_type": "execute_result"
    }
   ],
   "source": [
    "type(a)"
   ]
  },
  {
   "cell_type": "markdown",
   "id": "younger-shoot",
   "metadata": {},
   "source": [
    "We see that it is a type int. a therefore shares common properties with other int objects. In Python, an object can possess attributes and methods. These can be accessed by typing in the objects name followed by a dot . and then pressing tab ↹. The list below shows attributes in blue and methods in orange which we will explore in more detail in a moment."
   ]
  },
  {
   "cell_type": "markdown",
   "id": "wired-payment",
   "metadata": {},
   "source": [
    "![int_attributes_methods](int_attributes_methods.png)"
   ]
  },
  {
   "cell_type": "markdown",
   "id": "qualified-trial",
   "metadata": {},
   "source": [
    "Each object is an instance of a class. More explicitly an instance called b can be created using an int class. "
   ]
  },
  {
   "cell_type": "markdown",
   "id": "phantom-entry",
   "metadata": {},
   "source": [
    "Inbuilt classes such as int uses a similar syntax to functions. Typing in int followed by tab ↹ and shift ⇧ gives details about the classes input arguments. Like a function, a class uses parenthesis to encapsulate the input arguments. "
   ]
  },
  {
   "cell_type": "markdown",
   "id": "laughing-nigeria",
   "metadata": {},
   "source": [
    "![instance_int_class](instance_int_class.png)"
   ]
  },
  {
   "cell_type": "markdown",
   "id": "consecutive-gates",
   "metadata": {},
   "source": [
    "The following line creates an instance b (b is the instance name or object name) of the class int. Thinking of the class int as analagous to a function, the positional input argument x is the value we wish to make the integer."
   ]
  },
  {
   "cell_type": "code",
   "execution_count": 28,
   "id": "equipped-courtesy",
   "metadata": {},
   "outputs": [],
   "source": [
    "b=int(3)"
   ]
  },
  {
   "cell_type": "markdown",
   "id": "preliminary-answer",
   "metadata": {},
   "source": [
    "Creating an instance of a class is also known as instantiating a class. "
   ]
  },
  {
   "cell_type": "markdown",
   "id": "attended-platinum",
   "metadata": {},
   "source": [
    "Notice that the 0th positional input argument (python uses 0 order indexing so we count from 0 upwards) in a class is called self. Once a class is instantiated, self becomes a reference to the object name, in this case b. Typing in the instance name b followed by a dot . and ↹ shows the list of attributes and methods available to call from the instance b."
   ]
  },
  {
   "cell_type": "markdown",
   "id": "compact-tiger",
   "metadata": {},
   "source": [
    "![int_attributes_methods2](int_attributes_methods2.png)"
   ]
  },
  {
   "cell_type": "markdown",
   "id": "surprising-fitting",
   "metadata": {},
   "source": [
    "Note that these are identical to the attributes and methods available to call from the instance a. This is because both a and b are instances of the class int."
   ]
  },
  {
   "cell_type": "markdown",
   "id": "applied-saying",
   "metadata": {},
   "source": [
    "The list below shows attributes in blue and methods in orange. "
   ]
  },
  {
   "cell_type": "markdown",
   "id": "reduced-stadium",
   "metadata": {},
   "source": [
    "An attribute of the object b can be thought of as an additional object that is referenced with respect to b. It is often a property of b. For example the attribute real will find the real component of b and this will also be an instance of the class int. imag will find the imaginary component of b and will also be an instance of the class int. In this case the real component is 3 and the number isn't a complex number so its imaginary component is 0."
   ]
  },
  {
   "cell_type": "markdown",
   "id": "immune-thumb",
   "metadata": {},
   "source": [
    "Attributes do not have input arguments and are therefore always called without parenthesis. "
   ]
  },
  {
   "cell_type": "code",
   "execution_count": 29,
   "id": "moral-detection",
   "metadata": {},
   "outputs": [
    {
     "data": {
      "text/plain": [
       "3"
      ]
     },
     "execution_count": 29,
     "metadata": {},
     "output_type": "execute_result"
    }
   ],
   "source": [
    "b.real"
   ]
  },
  {
   "cell_type": "code",
   "execution_count": 30,
   "id": "resistant-abuse",
   "metadata": {},
   "outputs": [
    {
     "data": {
      "text/plain": [
       "0"
      ]
     },
     "execution_count": 30,
     "metadata": {},
     "output_type": "execute_result"
    }
   ],
   "source": [
    "b.imag"
   ]
  },
  {
   "cell_type": "markdown",
   "id": "manual-chick",
   "metadata": {},
   "source": [
    "As the attribute itself is an object, in this case alos an integer it will also have its own attributes and methods."
   ]
  },
  {
   "cell_type": "markdown",
   "id": "palestinian-greek",
   "metadata": {},
   "source": [
    "![int_attributes_methods3](int_attributes_methods3.png)"
   ]
  },
  {
   "cell_type": "markdown",
   "id": "elect-nickname",
   "metadata": {},
   "source": [
    "b.real looks up the real component of b and b.real.real looks up the real component of the real componnt of b. "
   ]
  },
  {
   "cell_type": "code",
   "execution_count": 31,
   "id": "bronze-mistake",
   "metadata": {},
   "outputs": [
    {
     "data": {
      "text/plain": [
       "3"
      ]
     },
     "execution_count": 31,
     "metadata": {},
     "output_type": "execute_result"
    }
   ],
   "source": [
    "b.real.real"
   ]
  },
  {
   "cell_type": "markdown",
   "id": "binary-rugby",
   "metadata": {},
   "source": [
    "Methods usually input argments and have o be called with parenthesis. If a method is called without parenthesis the output will inform the user that it is a function belonging to the int class i.e. a method of the int class."
   ]
  },
  {
   "cell_type": "code",
   "execution_count": 32,
   "id": "synthetic-implement",
   "metadata": {},
   "outputs": [
    {
     "data": {
      "text/plain": [
       "<function int.conjugate>"
      ]
     },
     "execution_count": 32,
     "metadata": {},
     "output_type": "execute_result"
    }
   ],
   "source": [
    "b.conjugate"
   ]
  },
  {
   "cell_type": "markdown",
   "id": "enabling-charm",
   "metadata": {},
   "source": [
    "Details about the input arguments can be found by typing in the function followed by tab ↹ and shift ⇧. In this case we see that there are no input arguments."
   ]
  },
  {
   "cell_type": "markdown",
   "id": "respiratory-console",
   "metadata": {},
   "source": [
    "![int_method_conjugate](int_method_conjugate.png)"
   ]
  },
  {
   "cell_type": "markdown",
   "id": "usual-labor",
   "metadata": {},
   "source": [
    "Therefore the method is called without any input arguments."
   ]
  },
  {
   "cell_type": "code",
   "execution_count": 33,
   "id": "trained-kernel",
   "metadata": {},
   "outputs": [
    {
     "data": {
      "text/plain": [
       "3"
      ]
     },
     "execution_count": 33,
     "metadata": {},
     "output_type": "execute_result"
    }
   ],
   "source": [
    "b.conjugate()"
   ]
  },
  {
   "cell_type": "markdown",
   "id": "healthy-uncle",
   "metadata": {},
   "source": [
    "Attributes are read directly as properties of the object. The method conjugate may look like an attribute at first glance however uses an underlying function to calculate the complex conjugate. Behind the scenes the method conjugate looks at the attribute b.real for the real component and the attribute b.imag for the imaginary component and then reverses the sign of the imaginary component to return the complex conjugate. "
   ]
  },
  {
   "cell_type": "markdown",
   "id": "recovered-affect",
   "metadata": {},
   "source": [
    "### Floating Point Numbers (float)"
   ]
  },
  {
   "cell_type": "markdown",
   "id": "possible-particle",
   "metadata": {},
   "source": [
    "We have discussed integer numbers and integer operations so far. It is also possible to create a floating point number i.e. a number that has a decimal component. The . is used to denote a decimal point. "
   ]
  },
  {
   "cell_type": "code",
   "execution_count": 34,
   "id": "russian-survey",
   "metadata": {},
   "outputs": [],
   "source": [
    "c=2.1"
   ]
  },
  {
   "cell_type": "markdown",
   "id": "productive-remains",
   "metadata": {},
   "source": [
    "Let's check the type of c."
   ]
  },
  {
   "cell_type": "code",
   "execution_count": 35,
   "id": "ancient-unknown",
   "metadata": {},
   "outputs": [
    {
     "data": {
      "text/plain": [
       "float"
      ]
     },
     "execution_count": 35,
     "metadata": {},
     "output_type": "execute_result"
    }
   ],
   "source": [
    "type(c)"
   ]
  },
  {
   "cell_type": "markdown",
   "id": "cordless-hammer",
   "metadata": {},
   "source": [
    "We see that the type is float. If we type in the instance name followed by a dot . and then tab ↹ we will see a list of attributes and methods. "
   ]
  },
  {
   "cell_type": "markdown",
   "id": "standing-consumption",
   "metadata": {},
   "source": [
    "![float_attributes_methods](float_attributes_methods.png)"
   ]
  },
  {
   "cell_type": "markdown",
   "id": "beneficial-consultancy",
   "metadata": {},
   "source": [
    "If we compare this to b we will see some commonalities as both are numeric objects however there are slight differences reflecting the fact that these are different classes."
   ]
  },
  {
   "cell_type": "markdown",
   "id": "sublime-somewhere",
   "metadata": {},
   "source": [
    "![int_attributes_methods2](int_attributes_methods2.png)"
   ]
  },
  {
   "cell_type": "markdown",
   "id": "mounted-friendly",
   "metadata": {},
   "source": [
    "The method is_integer for example will check if a floating point number is an integer. Typing in the float method is_integer and pressing tab ↹ and shift ⇧ gives details about the methods input arguments"
   ]
  },
  {
   "cell_type": "markdown",
   "id": "legendary-taylor",
   "metadata": {},
   "source": [
    "![float_method_is_integer](float_method_is_integer.png)"
   ]
  },
  {
   "cell_type": "markdown",
   "id": "domestic-voice",
   "metadata": {},
   "source": [
    "We see in this case that the method once again has no input arguments, so is called using empty parenthesis. The value returned is False which is expected as this has a non-zero component following the decimal point."
   ]
  },
  {
   "cell_type": "code",
   "execution_count": 36,
   "id": "asian-blake",
   "metadata": {},
   "outputs": [
    {
     "data": {
      "text/plain": [
       "False"
      ]
     },
     "execution_count": 36,
     "metadata": {},
     "output_type": "execute_result"
    }
   ],
   "source": [
    "c.is_integer()"
   ]
  },
  {
   "cell_type": "markdown",
   "id": "prescribed-closer",
   "metadata": {},
   "source": [
    "We can also explicitly instantiate (create an instance of) a float class."
   ]
  },
  {
   "cell_type": "code",
   "execution_count": 37,
   "id": "considerable-bullet",
   "metadata": {},
   "outputs": [],
   "source": [
    "d=float(2.0)"
   ]
  },
  {
   "cell_type": "markdown",
   "id": "sticky-belle",
   "metadata": {},
   "source": [
    "If we type in the instance name followed by a dot . and then tab ↹ we will see a list of attributes and methods. These match those of the object c as both c and d are instances of the float class."
   ]
  },
  {
   "cell_type": "markdown",
   "id": "isolated-receipt",
   "metadata": {},
   "source": [
    "![float_attributes_methods2](float_attributes_methods2.png)"
   ]
  },
  {
   "cell_type": "markdown",
   "id": "conceptual-billion",
   "metadata": {},
   "source": [
    "If we use the float method is_integer using the instance d we will get a return value of True as there is no non-zero number following the decimal point. "
   ]
  },
  {
   "cell_type": "code",
   "execution_count": 38,
   "id": "exotic-cotton",
   "metadata": {},
   "outputs": [
    {
     "data": {
      "text/plain": [
       "True"
      ]
     },
     "execution_count": 38,
     "metadata": {},
     "output_type": "execute_result"
    }
   ],
   "source": [
    "d.is_integer()"
   ]
  },
  {
   "cell_type": "markdown",
   "id": "metric-bathroom",
   "metadata": {},
   "source": [
    "Earlier we see integer division (truediv //) and modulo (mod %). We can also perform float or true division.\n",
    "* (truediv /) divides the 0th number by the 1st number and returns a float."
   ]
  },
  {
   "cell_type": "code",
   "execution_count": 39,
   "id": "innocent-barcelona",
   "metadata": {},
   "outputs": [
    {
     "data": {
      "text/plain": [
       "2.5"
      ]
     },
     "execution_count": 39,
     "metadata": {},
     "output_type": "execute_result"
    }
   ],
   "source": [
    "5/2"
   ]
  },
  {
   "cell_type": "markdown",
   "id": "hindu-lambda",
   "metadata": {},
   "source": [
    "Note that float division always returns a float. This occurs even when the return value is a complete number. For example."
   ]
  },
  {
   "cell_type": "code",
   "execution_count": 40,
   "id": "executive-grounds",
   "metadata": {},
   "outputs": [],
   "source": [
    "e=4/2"
   ]
  },
  {
   "cell_type": "markdown",
   "id": "golden-commerce",
   "metadata": {},
   "source": [
    "e looks like an int."
   ]
  },
  {
   "cell_type": "code",
   "execution_count": 41,
   "id": "average-ocean",
   "metadata": {},
   "outputs": [
    {
     "data": {
      "text/plain": [
       "2.0"
      ]
     },
     "execution_count": 41,
     "metadata": {},
     "output_type": "execute_result"
    }
   ],
   "source": [
    "e"
   ]
  },
  {
   "cell_type": "markdown",
   "id": "broke-grass",
   "metadata": {},
   "source": [
    "However when we check its type we see that it is a float."
   ]
  },
  {
   "cell_type": "code",
   "execution_count": 42,
   "id": "vietnamese-shuttle",
   "metadata": {},
   "outputs": [
    {
     "data": {
      "text/plain": [
       "float"
      ]
     },
     "execution_count": 42,
     "metadata": {},
     "output_type": "execute_result"
    }
   ],
   "source": [
    "type(e)"
   ]
  },
  {
   "cell_type": "code",
   "execution_count": 43,
   "id": "forced-sunglasses",
   "metadata": {},
   "outputs": [
    {
     "data": {
      "text/plain": [
       "True"
      ]
     },
     "execution_count": 43,
     "metadata": {},
     "output_type": "execute_result"
    }
   ],
   "source": [
    "e.is_integer()"
   ]
  },
  {
   "cell_type": "markdown",
   "id": "favorite-snapshot",
   "metadata": {},
   "source": [
    "The output can be converted explicitly to an instance of the int class."
   ]
  },
  {
   "cell_type": "code",
   "execution_count": 44,
   "id": "secret-vampire",
   "metadata": {},
   "outputs": [],
   "source": [
    "e=int(e)"
   ]
  },
  {
   "cell_type": "markdown",
   "id": "south-input",
   "metadata": {},
   "source": [
    "The type is now int and not float."
   ]
  },
  {
   "cell_type": "code",
   "execution_count": 45,
   "id": "toxic-triumph",
   "metadata": {},
   "outputs": [
    {
     "data": {
      "text/plain": [
       "int"
      ]
     },
     "execution_count": 45,
     "metadata": {},
     "output_type": "execute_result"
    }
   ],
   "source": [
    "type(e)"
   ]
  },
  {
   "cell_type": "markdown",
   "id": "frequent-score",
   "metadata": {},
   "source": [
    "Note when a float gets converted to an int, the decimal component gets truncated."
   ]
  },
  {
   "cell_type": "code",
   "execution_count": 46,
   "id": "nuclear-inspection",
   "metadata": {},
   "outputs": [
    {
     "data": {
      "text/plain": [
       "2.1"
      ]
     },
     "execution_count": 46,
     "metadata": {},
     "output_type": "execute_result"
    }
   ],
   "source": [
    "c"
   ]
  },
  {
   "cell_type": "code",
   "execution_count": 47,
   "id": "twelve-abortion",
   "metadata": {},
   "outputs": [
    {
     "data": {
      "text/plain": [
       "2"
      ]
     },
     "execution_count": 47,
     "metadata": {},
     "output_type": "execute_result"
    }
   ],
   "source": [
    "int(c)"
   ]
  },
  {
   "cell_type": "markdown",
   "id": "freelance-universal",
   "metadata": {},
   "source": [
    "### Booleans"
   ]
  },
  {
   "cell_type": "markdown",
   "id": "threaded-defensive",
   "metadata": {},
   "source": [
    "When we used the float method is_integer we got back a value True or False (note the capitlaization). These are known as Boolean values."
   ]
  },
  {
   "cell_type": "code",
   "execution_count": 48,
   "id": "laden-schedule",
   "metadata": {},
   "outputs": [],
   "source": [
    "f=True"
   ]
  },
  {
   "cell_type": "markdown",
   "id": "painful-keyboard",
   "metadata": {},
   "source": [
    "If we look at the type, we can see that it is the type bool."
   ]
  },
  {
   "cell_type": "code",
   "execution_count": 49,
   "id": "exterior-beijing",
   "metadata": {},
   "outputs": [
    {
     "data": {
      "text/plain": [
       "bool"
      ]
     },
     "execution_count": 49,
     "metadata": {},
     "output_type": "execute_result"
    }
   ],
   "source": [
    "type(f)"
   ]
  },
  {
   "cell_type": "markdown",
   "id": "confidential-radius",
   "metadata": {},
   "source": [
    "If we type in the instance name followed by a dot . and then tab ↹ we will see a list of attributes and methods. These attributes and methods are the same as the int class."
   ]
  },
  {
   "cell_type": "markdown",
   "id": "canadian-execution",
   "metadata": {},
   "source": [
    "![bool_attributes_methods](bool_attributes_methods.png)"
   ]
  },
  {
   "cell_type": "markdown",
   "id": "distributed-lewis",
   "metadata": {},
   "source": [
    "For most numeric calculations we can treat a True and False as 1 and 0 respectively. \n",
    "\n",
    "We can use the comparison operators:\n",
    "* (== eq) checks if the 0th number (self) is equal to the 1st number (other).\n",
    "* (!= ne) checks if the 0th number (self) is not equal to the 1st number (other).\n",
    "* (< lt) checks if the 0th number (self) is less than the 1st number (other).\n",
    "* (> gt) checks if the 0th number (self) is greater than the 1st number (other).\n",
    "* (<= le) checks if the 0th number (self) is less than or equal to the 1st number (other).\n",
    "* (>= ge) checks if the 0th number (self) us greater than or equal to the 1st number (other).\n",
    "\n",
    "These return a Boolean (True or False) value respectively."
   ]
  },
  {
   "cell_type": "code",
   "execution_count": 50,
   "id": "nonprofit-letter",
   "metadata": {},
   "outputs": [
    {
     "data": {
      "text/plain": [
       "True"
      ]
     },
     "execution_count": 50,
     "metadata": {},
     "output_type": "execute_result"
    }
   ],
   "source": [
    "True==1"
   ]
  },
  {
   "cell_type": "code",
   "execution_count": 51,
   "id": "noted-maine",
   "metadata": {},
   "outputs": [
    {
     "data": {
      "text/plain": [
       "True"
      ]
     },
     "execution_count": 51,
     "metadata": {},
     "output_type": "execute_result"
    }
   ],
   "source": [
    "False==0"
   ]
  },
  {
   "cell_type": "markdown",
   "id": "cheap-hayes",
   "metadata": {},
   "source": [
    "Note do not confuse the (eq ==) operator with the assignment operator (=). Also recall that all operations to the right are carried out before using the assignment operator. In the example below, the check for is 1 equal to 2 gives a False return statement which is then assigned to the object name g. g is an instance of the bool class."
   ]
  },
  {
   "cell_type": "code",
   "execution_count": 52,
   "id": "julian-happening",
   "metadata": {},
   "outputs": [],
   "source": [
    "g=1==2"
   ]
  },
  {
   "cell_type": "code",
   "execution_count": 53,
   "id": "amazing-economics",
   "metadata": {},
   "outputs": [
    {
     "data": {
      "text/plain": [
       "False"
      ]
     },
     "execution_count": 53,
     "metadata": {},
     "output_type": "execute_result"
    }
   ],
   "source": [
    "g"
   ]
  },
  {
   "cell_type": "code",
   "execution_count": 54,
   "id": "completed-degree",
   "metadata": {},
   "outputs": [
    {
     "data": {
      "text/plain": [
       "bool"
      ]
     },
     "execution_count": 54,
     "metadata": {},
     "output_type": "execute_result"
    }
   ],
   "source": [
    "type(g)"
   ]
  },
  {
   "cell_type": "markdown",
   "id": "impressed-people",
   "metadata": {},
   "source": [
    "Knowing True takes the value 1 and False takes the value 0, the following numeric operations can be carried out."
   ]
  },
  {
   "cell_type": "code",
   "execution_count": 55,
   "id": "authorized-integral",
   "metadata": {},
   "outputs": [
    {
     "data": {
      "text/plain": [
       "1"
      ]
     },
     "execution_count": 55,
     "metadata": {},
     "output_type": "execute_result"
    }
   ],
   "source": [
    "True+False"
   ]
  },
  {
   "cell_type": "code",
   "execution_count": 56,
   "id": "informed-flight",
   "metadata": {},
   "outputs": [
    {
     "data": {
      "text/plain": [
       "0"
      ]
     },
     "execution_count": 56,
     "metadata": {},
     "output_type": "execute_result"
    }
   ],
   "source": [
    "True*False"
   ]
  },
  {
   "cell_type": "code",
   "execution_count": 57,
   "id": "honest-arkansas",
   "metadata": {},
   "outputs": [
    {
     "data": {
      "text/plain": [
       "1"
      ]
     },
     "execution_count": 57,
     "metadata": {},
     "output_type": "execute_result"
    }
   ],
   "source": [
    "True-False"
   ]
  },
  {
   "cell_type": "markdown",
   "id": "remarkable-oliver",
   "metadata": {},
   "source": [
    "### Complex Numbers"
   ]
  },
  {
   "cell_type": "markdown",
   "id": "political-employer",
   "metadata": {},
   "source": [
    "A complex number (with a real and imaginary component) can be instantiated from the complex class. To instantiate a complex number both a real and imag component need to be speciifed. "
   ]
  },
  {
   "cell_type": "markdown",
   "id": "satisfied-finnish",
   "metadata": {},
   "source": [
    "![instance_complex_class](instance_complex_class.png)"
   ]
  },
  {
   "cell_type": "markdown",
   "id": "industrial-resident",
   "metadata": {},
   "source": [
    "Note for convenience the init signature of the complex class uses keyword input arguments which have a defaullt value of 0 unless explictly specified. We can set them to 1 and -2 respectively."
   ]
  },
  {
   "cell_type": "code",
   "execution_count": 58,
   "id": "novel-spine",
   "metadata": {},
   "outputs": [],
   "source": [
    "h=complex(real=1,imag=-2)"
   ]
  },
  {
   "cell_type": "code",
   "execution_count": 59,
   "id": "negative-converter",
   "metadata": {},
   "outputs": [
    {
     "data": {
      "text/plain": [
       "(1-2j)"
      ]
     },
     "execution_count": 59,
     "metadata": {},
     "output_type": "execute_result"
    }
   ],
   "source": [
    "h"
   ]
  },
  {
   "cell_type": "markdown",
   "id": "delayed-placement",
   "metadata": {},
   "source": [
    "![complex_attributes_methods](complex_attributes_methods.png)"
   ]
  },
  {
   "cell_type": "markdown",
   "id": "immediate-spirituality",
   "metadata": {},
   "source": [
    "The attributes real and imag will look up the real and imaginary components respectively."
   ]
  },
  {
   "cell_type": "code",
   "execution_count": 60,
   "id": "innocent-parliament",
   "metadata": {},
   "outputs": [
    {
     "data": {
      "text/plain": [
       "1.0"
      ]
     },
     "execution_count": 60,
     "metadata": {},
     "output_type": "execute_result"
    }
   ],
   "source": [
    "h.real"
   ]
  },
  {
   "cell_type": "code",
   "execution_count": 61,
   "id": "domestic-therapist",
   "metadata": {},
   "outputs": [
    {
     "data": {
      "text/plain": [
       "-2.0"
      ]
     },
     "execution_count": 61,
     "metadata": {},
     "output_type": "execute_result"
    }
   ],
   "source": [
    "h.imag"
   ]
  },
  {
   "cell_type": "markdown",
   "id": "prime-safety",
   "metadata": {},
   "source": [
    "The method conjugate will look up the attributes real and imag and then reverse the sign of the imag component. "
   ]
  },
  {
   "cell_type": "code",
   "execution_count": 62,
   "id": "decimal-tourism",
   "metadata": {},
   "outputs": [
    {
     "data": {
      "text/plain": [
       "(1+2j)"
      ]
     },
     "execution_count": 62,
     "metadata": {},
     "output_type": "execute_result"
    }
   ],
   "source": [
    "h.conjugate()"
   ]
  },
  {
   "cell_type": "markdown",
   "id": "literary-phone",
   "metadata": {},
   "source": [
    "## Text Variables (str)"
   ]
  },
  {
   "cell_type": "markdown",
   "id": "moderate-harassment",
   "metadata": {},
   "source": [
    "It is also possible to create a variable that is a string of text abbreviated str. The string of text must be enclosed in quotation marks to prevent confusion with the variable name."
   ]
  },
  {
   "cell_type": "code",
   "execution_count": 63,
   "id": "plastic-lease",
   "metadata": {},
   "outputs": [],
   "source": [
    "i='i'"
   ]
  },
  {
   "cell_type": "markdown",
   "id": "invalid-natural",
   "metadata": {},
   "source": [
    "The str 'i' is assigned to the object name i. Note the difference in the color coding between the str on the right hand side and the variable name on the left hand side. "
   ]
  },
  {
   "cell_type": "markdown",
   "id": "restricted-nelson",
   "metadata": {},
   "source": [
    "Sometimes the str may require a quotation or other special characters. Note when a quotation is added to the str, Python terminates the str opposed to including it within the str."
   ]
  },
  {
   "cell_type": "markdown",
   "id": "adolescent-attendance",
   "metadata": {},
   "source": [
    "![str_quotation](str_quotation.png)"
   ]
  },
  {
   "cell_type": "markdown",
   "id": "downtown-copyright",
   "metadata": {},
   "source": [
    "This can be addressed using the special character \\ to denote that a quotation is supposed to be incorporated into the str."
   ]
  },
  {
   "cell_type": "code",
   "execution_count": 64,
   "id": "suburban-editor",
   "metadata": {},
   "outputs": [
    {
     "data": {
      "text/plain": [
       "\"Philip's\""
      ]
     },
     "execution_count": 64,
     "metadata": {},
     "output_type": "execute_result"
    }
   ],
   "source": [
    "\"Philip's\""
   ]
  },
  {
   "cell_type": "markdown",
   "id": "logical-beads",
   "metadata": {},
   "source": [
    "Note the output also shows that we can use double quotations for this particular case."
   ]
  },
  {
   "cell_type": "code",
   "execution_count": 65,
   "id": "reasonable-child",
   "metadata": {},
   "outputs": [
    {
     "data": {
      "text/plain": [
       "\"Philip's\""
      ]
     },
     "execution_count": 65,
     "metadata": {},
     "output_type": "execute_result"
    }
   ],
   "source": [
    "\"Philip's\""
   ]
  },
  {
   "cell_type": "markdown",
   "id": "later-might",
   "metadata": {},
   "source": [
    "We can see what the string of character looks like by using the print function."
   ]
  },
  {
   "cell_type": "code",
   "execution_count": 66,
   "id": "guided-terrace",
   "metadata": {},
   "outputs": [
    {
     "name": "stdout",
     "output_type": "stream",
     "text": [
      "Philip's\n"
     ]
    }
   ],
   "source": [
    "print('Philip\\'s')"
   ]
  },
  {
   "cell_type": "markdown",
   "id": "provincial-fundamental",
   "metadata": {},
   "source": [
    "Sometimes we will need to use both double quotes and single quotes and we must use the \\ to denote which quotes we want as part of the str."
   ]
  },
  {
   "cell_type": "code",
   "execution_count": 67,
   "id": "worth-output",
   "metadata": {},
   "outputs": [
    {
     "data": {
      "text/plain": [
       "'Philip\\'s \"quote\"'"
      ]
     },
     "execution_count": 67,
     "metadata": {},
     "output_type": "execute_result"
    }
   ],
   "source": [
    "'Philip\\'s \\\"quote\\\"'"
   ]
  },
  {
   "cell_type": "code",
   "execution_count": 68,
   "id": "verified-evanescence",
   "metadata": {},
   "outputs": [
    {
     "name": "stdout",
     "output_type": "stream",
     "text": [
      "Philip's \"quote\"\n"
     ]
    }
   ],
   "source": [
    "print('Philip\\'s \\\"quote\\\"')"
   ]
  },
  {
   "cell_type": "markdown",
   "id": "forbidden-blame",
   "metadata": {},
   "source": [
    "The \\ followed by t and n denotes a new line and tab respectively."
   ]
  },
  {
   "cell_type": "code",
   "execution_count": 69,
   "id": "collect-oliver",
   "metadata": {},
   "outputs": [
    {
     "data": {
      "text/plain": [
       "'\\tPhilip\\'s \\n\"quote\"'"
      ]
     },
     "execution_count": 69,
     "metadata": {},
     "output_type": "execute_result"
    }
   ],
   "source": [
    "'\\tPhilip\\'s \\n\\\"quote\\\"'"
   ]
  },
  {
   "cell_type": "code",
   "execution_count": 70,
   "id": "legal-savannah",
   "metadata": {},
   "outputs": [
    {
     "name": "stdout",
     "output_type": "stream",
     "text": [
      "\tPhilip's \n",
      "\"quote\"\n"
     ]
    }
   ],
   "source": [
    "print('\\tPhilip\\'s \\n\\\"quote\\\"')"
   ]
  },
  {
   "cell_type": "markdown",
   "id": "noble-alabama",
   "metadata": {},
   "source": [
    "In some cases for example file paths we need to use the special character \\. We must use \\\\. The 0th \\ denotes the fact we want to use a special character and the 1st \\ denotes that we want \\ as the special character."
   ]
  },
  {
   "cell_type": "code",
   "execution_count": 71,
   "id": "apparent-incident",
   "metadata": {},
   "outputs": [
    {
     "data": {
      "text/plain": [
       "'C:\\\\Users'"
      ]
     },
     "execution_count": 71,
     "metadata": {},
     "output_type": "execute_result"
    }
   ],
   "source": [
    "'C:\\\\Users'"
   ]
  },
  {
   "cell_type": "code",
   "execution_count": 72,
   "id": "defined-maple",
   "metadata": {},
   "outputs": [
    {
     "name": "stdout",
     "output_type": "stream",
     "text": [
      "C:\\Users\n"
     ]
    }
   ],
   "source": [
    "print('C:\\\\Users')"
   ]
  },
  {
   "cell_type": "markdown",
   "id": "actual-orleans",
   "metadata": {},
   "source": [
    "As file paths are used quite often in programming and copied from Windows Explorer which uses a single \\ we also have a special string called a relative string. A special string prepends r in front of the quotation. Any \\ seen in the str is automatically converted into a \\\\."
   ]
  },
  {
   "cell_type": "code",
   "execution_count": 73,
   "id": "valid-major",
   "metadata": {},
   "outputs": [
    {
     "data": {
      "text/plain": [
       "'C:\\\\Users'"
      ]
     },
     "execution_count": 73,
     "metadata": {},
     "output_type": "execute_result"
    }
   ],
   "source": [
    "r'C:\\Users'"
   ]
  },
  {
   "cell_type": "markdown",
   "id": "extraordinary-religious",
   "metadata": {},
   "source": [
    "There is also a special string known as a formatted string. To use a formatted string prepend f to the front of the quotation. A formatted string can be used to place variables within the str by use of curly brackets {}."
   ]
  },
  {
   "cell_type": "code",
   "execution_count": 74,
   "id": "dramatic-replication",
   "metadata": {},
   "outputs": [
    {
     "name": "stdout",
     "output_type": "stream",
     "text": [
      "hello Philip\n"
     ]
    }
   ],
   "source": [
    "user='Philip'\n",
    "print(f'hello {user}')"
   ]
  },
  {
   "cell_type": "markdown",
   "id": "contained-namibia",
   "metadata": {},
   "source": [
    "We can also explicitly instantiate (create an instance of) a str class."
   ]
  },
  {
   "cell_type": "markdown",
   "id": "engaging-basement",
   "metadata": {},
   "source": [
    "![instance_str_class](instance_str_class.png)"
   ]
  },
  {
   "cell_type": "code",
   "execution_count": 75,
   "id": "recent-matter",
   "metadata": {},
   "outputs": [],
   "source": [
    "j=str('philip')"
   ]
  },
  {
   "cell_type": "markdown",
   "id": "gentle-dominican",
   "metadata": {},
   "source": [
    "![str_methods](str_methods.png)"
   ]
  },
  {
   "cell_type": "markdown",
   "id": "norman-links",
   "metadata": {},
   "source": [
    "If we type in the instance name followed by a dot . and then tab ↹ we will see a list of attributes and methods. These are related to text objects (str) opposed to numeric objects (str, float, bool, complex) as seen previously."
   ]
  },
  {
   "cell_type": "markdown",
   "id": "metric-iraqi",
   "metadata": {},
   "source": [
    "The method capitalize will capitalize the str. Details about the input arguments can be found by typing in the function followed by tab ↹ and shift ⇧. In this case we see that there are no input arguments and the method transforms the original str to return it with a capital letter."
   ]
  },
  {
   "cell_type": "markdown",
   "id": "focal-place",
   "metadata": {},
   "source": [
    "![str_method_capitalize](str_method_capitalize.png)"
   ]
  },
  {
   "cell_type": "code",
   "execution_count": 76,
   "id": "vocational-orchestra",
   "metadata": {},
   "outputs": [
    {
     "data": {
      "text/plain": [
       "'Philip'"
      ]
     },
     "execution_count": 76,
     "metadata": {},
     "output_type": "execute_result"
    }
   ],
   "source": [
    "j.capitalize()"
   ]
  },
  {
   "cell_type": "markdown",
   "id": "injured-closer",
   "metadata": {},
   "source": [
    "We can use a similar method upper to make the entire str upper case."
   ]
  },
  {
   "cell_type": "code",
   "execution_count": 77,
   "id": "interested-canvas",
   "metadata": {},
   "outputs": [
    {
     "data": {
      "text/plain": [
       "'PHILIP'"
      ]
     },
     "execution_count": 77,
     "metadata": {},
     "output_type": "execute_result"
    }
   ],
   "source": [
    "j.upper()"
   ]
  },
  {
   "cell_type": "markdown",
   "id": "posted-russia",
   "metadata": {},
   "source": [
    "Note that j is unchangedand the output is just printed to the console. "
   ]
  },
  {
   "cell_type": "code",
   "execution_count": 78,
   "id": "productive-mauritius",
   "metadata": {},
   "outputs": [
    {
     "data": {
      "text/plain": [
       "'philip'"
      ]
     },
     "execution_count": 78,
     "metadata": {},
     "output_type": "execute_result"
    }
   ],
   "source": [
    "j"
   ]
  },
  {
   "cell_type": "markdown",
   "id": "retained-willow",
   "metadata": {},
   "source": [
    "We need to assign the output to the original object name to perform an inplace update."
   ]
  },
  {
   "cell_type": "code",
   "execution_count": 79,
   "id": "molecular-event",
   "metadata": {},
   "outputs": [],
   "source": [
    "j=j.upper()"
   ]
  },
  {
   "cell_type": "code",
   "execution_count": 80,
   "id": "stretch-scene",
   "metadata": {},
   "outputs": [
    {
     "data": {
      "text/plain": [
       "'PHILIP'"
      ]
     },
     "execution_count": 80,
     "metadata": {},
     "output_type": "execute_result"
    }
   ],
   "source": [
    "j"
   ]
  },
  {
   "cell_type": "markdown",
   "id": "wooden-clearance",
   "metadata": {},
   "source": [
    "We also have the str method lower to return the str to lowr case."
   ]
  },
  {
   "cell_type": "code",
   "execution_count": 81,
   "id": "hidden-thing",
   "metadata": {},
   "outputs": [],
   "source": [
    "j=j.lower()"
   ]
  },
  {
   "cell_type": "code",
   "execution_count": 82,
   "id": "elder-creature",
   "metadata": {},
   "outputs": [
    {
     "data": {
      "text/plain": [
       "'philip'"
      ]
     },
     "execution_count": 82,
     "metadata": {},
     "output_type": "execute_result"
    }
   ],
   "source": [
    "j"
   ]
  },
  {
   "cell_type": "markdown",
   "id": "injured-advertiser",
   "metadata": {},
   "source": [
    "The str method replace can be used to replace an old value with a new value. Details about the input arguments can be found by typing in the function followed by tab ↹ and shift ⇧. The positional input arguments old and new must be placed in order between the parenthesis when ccalling this method."
   ]
  },
  {
   "cell_type": "markdown",
   "id": "german-given",
   "metadata": {},
   "source": [
    "![str_method_replace](str_method_replace.png)"
   ]
  },
  {
   "cell_type": "markdown",
   "id": "ambient-amendment",
   "metadata": {},
   "source": [
    "Some people spell my name with a 'f' instead of a 'ph' so let's use this as an example."
   ]
  },
  {
   "cell_type": "code",
   "execution_count": 83,
   "id": "meaning-episode",
   "metadata": {},
   "outputs": [
    {
     "data": {
      "text/plain": [
       "'filip'"
      ]
     },
     "execution_count": 83,
     "metadata": {},
     "output_type": "execute_result"
    }
   ],
   "source": [
    "j.replace('ph','f')"
   ]
  },
  {
   "cell_type": "markdown",
   "id": "acoustic-abortion",
   "metadata": {},
   "source": [
    "The (+ add) operater in a str performs concatenation of the str with another str, for example if I want to concatenate my first name to my sirname."
   ]
  },
  {
   "cell_type": "code",
   "execution_count": 84,
   "id": "coordinated-poultry",
   "metadata": {},
   "outputs": [
    {
     "data": {
      "text/plain": [
       "'PhilipYip'"
      ]
     },
     "execution_count": 84,
     "metadata": {},
     "output_type": "execute_result"
    }
   ],
   "source": [
    "'Philip'+'Yip'"
   ]
  },
  {
   "cell_type": "markdown",
   "id": "helpful-fever",
   "metadata": {},
   "source": [
    "Note that concatenation does not provide spacing. If I want to concatenate a space, I will have to concatenate one seperately."
   ]
  },
  {
   "cell_type": "code",
   "execution_count": 85,
   "id": "decent-design",
   "metadata": {},
   "outputs": [
    {
     "data": {
      "text/plain": [
       "'Philip Yip'"
      ]
     },
     "execution_count": 85,
     "metadata": {},
     "output_type": "execute_result"
    }
   ],
   "source": [
    "'Philip'+' '+'Yip'"
   ]
  },
  {
   "cell_type": "markdown",
   "id": "known-recording",
   "metadata": {},
   "source": [
    "The (* mul) operator will work between a str and an int n to replicate the str n times."
   ]
  },
  {
   "cell_type": "code",
   "execution_count": 86,
   "id": "square-lebanon",
   "metadata": {},
   "outputs": [
    {
     "data": {
      "text/plain": [
       "'PhilipPhilipPhilipPhilipPhilip'"
      ]
     },
     "execution_count": 86,
     "metadata": {},
     "output_type": "execute_result"
    }
   ],
   "source": [
    "5*'Philip'"
   ]
  },
  {
   "cell_type": "markdown",
   "id": "industrial-circulation",
   "metadata": {},
   "source": [
    "Note that using the (+ add) operator instead will result in a TypeError. This is because there is no logical behaviour for adding an int to an undefined value (a str does not equate to a number)."
   ]
  },
  {
   "cell_type": "markdown",
   "id": "crazy-transition",
   "metadata": {},
   "source": [
    "```5+'Philip'```"
   ]
  },
  {
   "cell_type": "markdown",
   "id": "green-latin",
   "metadata": {},
   "source": [
    "![str_int_concatenate_typeerror](str_int_concatenate_typeerror.png)"
   ]
  },
  {
   "cell_type": "markdown",
   "id": "covered-source",
   "metadata": {},
   "source": [
    "Multiplying two str will also give a TypeError as there is no physical meaning behind this operation."
   ]
  },
  {
   "cell_type": "markdown",
   "id": "danish-cause",
   "metadata": {},
   "source": [
    "```'Philip'*'Philip'```"
   ]
  },
  {
   "cell_type": "markdown",
   "id": "tropical-bulletin",
   "metadata": {},
   "source": [
    "![str_str_multiply_typeerror](str_str_multiply_typeerror.png)"
   ]
  },
  {
   "cell_type": "markdown",
   "id": "supreme-solid",
   "metadata": {},
   "source": [
    "Care should therefore be taken when working with different datatypes."
   ]
  },
  {
   "cell_type": "markdown",
   "id": "artificial-pickup",
   "metadata": {},
   "source": [
    "## The input Function"
   ]
  },
  {
   "cell_type": "markdown",
   "id": "complimentary-portsmouth",
   "metadata": {},
   "source": [
    "The input function can be used to gather information from a user. To view details about the functions input arguments we can press tab ↹ and shift ⇧. The keyword input argument prompt (also acts as a positional input argument) is a question to ask the user."
   ]
  },
  {
   "cell_type": "markdown",
   "id": "stone-magnitude",
   "metadata": {},
   "source": [
    "![function_input](function_input.png)"
   ]
  },
  {
   "cell_type": "markdown",
   "id": "sudden-guide",
   "metadata": {},
   "source": [
    "To prevent the input statements from holding up the Python Kernel, the code containing input statements will be placed in a markdown cell and screenshots of the output will be placed in the markdown cell."
   ]
  },
  {
   "cell_type": "markdown",
   "id": "gentle-kingston",
   "metadata": {},
   "source": [
    "```\n",
    "yourname=input(prompt='What is your name?')\n",
    "print(f'hello {yourname}')\n",
    "```"
   ]
  },
  {
   "cell_type": "markdown",
   "id": "serial-anthropology",
   "metadata": {},
   "source": [
    "When it is ran the cell will be marked with a \\*. The dialog box will display waiting for the user to input a str."
   ]
  },
  {
   "cell_type": "markdown",
   "id": "wanted-andorra",
   "metadata": {},
   "source": [
    "![input_statement1](input_statement1.png)"
   ]
  },
  {
   "cell_type": "markdown",
   "id": "clean-passage",
   "metadata": {},
   "source": [
    "Anything the user inputs will be converted to a str and in this case the str input by the user will be incorporated into the print statement."
   ]
  },
  {
   "cell_type": "markdown",
   "id": "infinite-valley",
   "metadata": {},
   "source": [
    "![input_statement2](input_statement2.png)"
   ]
  },
  {
   "cell_type": "markdown",
   "id": "cellular-buffalo",
   "metadata": {},
   "source": [
    "The code in the cell is commented out using a # to prevent the JupyterLab Notebook from hanging when restarting the kernel. "
   ]
  },
  {
   "cell_type": "markdown",
   "id": "traditional-approach",
   "metadata": {},
   "source": [
    "Input statements always return a str and therefore the following code will not work as intended."
   ]
  },
  {
   "cell_type": "markdown",
   "id": "necessary-express",
   "metadata": {},
   "source": [
    "```\n",
    "number1=input(prompt='input a number')\n",
    "number2=input(prompt='input a second number')\n",
    "total=number1+number2\n",
    "print(f'the sum of your numbers is {total}')\n",
    "```"
   ]
  },
  {
   "cell_type": "markdown",
   "id": "promising-underwear",
   "metadata": {},
   "source": [
    "The value total returned is '22' opposed to '4'."
   ]
  },
  {
   "cell_type": "markdown",
   "id": "cubic-battle",
   "metadata": {},
   "source": [
    "![input_statement3](input_statement3.png)"
   ]
  },
  {
   "cell_type": "markdown",
   "id": "threaded-contributor",
   "metadata": {},
   "source": [
    "If we look at the types."
   ]
  },
  {
   "cell_type": "markdown",
   "id": "right-playlist",
   "metadata": {},
   "source": [
    "```type(number1)```"
   ]
  },
  {
   "cell_type": "markdown",
   "id": "artistic-tribute",
   "metadata": {},
   "source": [
    "```type(number2)```"
   ]
  },
  {
   "cell_type": "markdown",
   "id": "accepted-findings",
   "metadata": {},
   "source": [
    "We see they are both of the type str."
   ]
  },
  {
   "cell_type": "markdown",
   "id": "simplified-wrong",
   "metadata": {},
   "source": [
    "![input_statement4](input_statement4.png)"
   ]
  },
  {
   "cell_type": "markdown",
   "id": "optional-pierre",
   "metadata": {},
   "source": [
    "This means our code essentially does this."
   ]
  },
  {
   "cell_type": "code",
   "execution_count": 87,
   "id": "tracked-breathing",
   "metadata": {},
   "outputs": [
    {
     "data": {
      "text/plain": [
       "'22'"
      ]
     },
     "execution_count": 87,
     "metadata": {},
     "output_type": "execute_result"
    }
   ],
   "source": [
    "'2'+'2'"
   ]
  },
  {
   "cell_type": "markdown",
   "id": "pediatric-tribe",
   "metadata": {},
   "source": [
    "Recall that + for a str performs concatenation and not addition like we want."
   ]
  },
  {
   "cell_type": "code",
   "execution_count": 88,
   "id": "hundred-atlantic",
   "metadata": {},
   "outputs": [
    {
     "data": {
      "text/plain": [
       "4"
      ]
     },
     "execution_count": 88,
     "metadata": {},
     "output_type": "execute_result"
    }
   ],
   "source": [
    "2+2"
   ]
  },
  {
   "cell_type": "markdown",
   "id": "retired-eating",
   "metadata": {},
   "source": [
    "To get around this we need to convert our str into  number."
   ]
  },
  {
   "cell_type": "code",
   "execution_count": 89,
   "id": "available-democracy",
   "metadata": {},
   "outputs": [],
   "source": [
    "k='2'"
   ]
  },
  {
   "cell_type": "markdown",
   "id": "changing-parade",
   "metadata": {},
   "source": [
    "We can use the int class to do this."
   ]
  },
  {
   "cell_type": "code",
   "execution_count": 90,
   "id": "quantitative-giant",
   "metadata": {},
   "outputs": [],
   "source": [
    "k=int(k)"
   ]
  },
  {
   "cell_type": "markdown",
   "id": "weighted-weapon",
   "metadata": {},
   "source": [
    "```\n",
    "number1=input(prompt='input a number')\n",
    "number1=int(number1)\n",
    "number2=input(prompt='input a second number')\n",
    "number2=int(number2)\n",
    "total=number1+number2\n",
    "print(f'the sum of your numbers is {total}')\n",
    "```"
   ]
  },
  {
   "cell_type": "markdown",
   "id": "liberal-sentence",
   "metadata": {},
   "source": [
    "This works when both numbers input are int as expected."
   ]
  },
  {
   "cell_type": "markdown",
   "id": "packed-shelter",
   "metadata": {},
   "source": [
    "![input_statement5](input_statement5.png)"
   ]
  },
  {
   "cell_type": "markdown",
   "id": "facial-democracy",
   "metadata": {},
   "source": [
    "However if the number being input is input as a float it will lead to a ValueError. This is because the class int does not recognise a str with a . in it as valid."
   ]
  },
  {
   "cell_type": "markdown",
   "id": "lyric-machine",
   "metadata": {},
   "source": [
    "![input_valueerror](input_valueerror.png)"
   ]
  },
  {
   "cell_type": "markdown",
   "id": "distributed-design",
   "metadata": {},
   "source": [
    "To get around this we can use the float class instead."
   ]
  },
  {
   "cell_type": "markdown",
   "id": "detailed-sympathy",
   "metadata": {},
   "source": [
    "```\n",
    "number1=input(prompt='input a number')\n",
    "number1=float(number1)\n",
    "number2=input(prompt='input a second number')\n",
    "number2=float(number2)\n",
    "total=number1+number2\n",
    "print(f'the sum of your numbers is {total}')\n",
    "```"
   ]
  },
  {
   "cell_type": "markdown",
   "id": "legitimate-avatar",
   "metadata": {},
   "source": [
    "![input_statement6](input_statement6.png)"
   ]
  },
  {
   "cell_type": "markdown",
   "id": "automatic-birth",
   "metadata": {},
   "source": [
    "## if, elif and else Branching"
   ]
  },
  {
   "cell_type": "markdown",
   "id": "every-talent",
   "metadata": {},
   "source": [
    "So far all the code above has been procedural, starting from he top of a cell and continuing down to the bottom of the cell. Sometimes we may want to construct a condition (using a Boolean) and then execute code certain code only if the condition is satisfied.\n",
    "\n",
    "An analogy to this is driving a car. So far we have only travelled straight and have not had the ability to turn either left or right."
   ]
  },
  {
   "cell_type": "markdown",
   "id": "loose-designation",
   "metadata": {},
   "source": [
    "We can use an if statement containing a condition that will execute the code belonging to the if statement only when the condition is True."
   ]
  },
  {
   "cell_type": "code",
   "execution_count": 91,
   "id": "cardiovascular-winter",
   "metadata": {},
   "outputs": [
    {
     "name": "stdout",
     "output_type": "stream",
     "text": [
      "Condition is True\n",
      "Continuing as Usual\n"
     ]
    }
   ],
   "source": [
    "condition=True\n",
    "if condition:\n",
    "    print('Condition is True')\n",
    "\n",
    "print('Continuing as Usual')"
   ]
  },
  {
   "cell_type": "code",
   "execution_count": 92,
   "id": "minus-newton",
   "metadata": {},
   "outputs": [
    {
     "name": "stdout",
     "output_type": "stream",
     "text": [
      "Continuing as Usual\n"
     ]
    }
   ],
   "source": [
    "condition=False\n",
    "if condition:\n",
    "    print('Condition is True')\n",
    "\n",
    "print('Continuing as Usual')"
   ]
  },
  {
   "cell_type": "markdown",
   "id": "competitive-kinase",
   "metadata": {},
   "source": [
    "Comparing the two above we see that 'Condition is True' is only printed for the top cell and not in the bottom cell."
   ]
  },
  {
   "cell_type": "markdown",
   "id": "after-zambia",
   "metadata": {},
   "source": [
    "Let's have a look at the syntax in more detail. Following the if statement there is a colon : which indicates the beginning of a code block. Any code belonging to the code block must be indented by 4 spaces. A blank line is usually also left after ending a group of code blocks.\n",
    "\n",
    "Code that is not indented does not belong to the code block and will be implemented regardless of the condition."
   ]
  },
  {
   "cell_type": "markdown",
   "id": "dense-listing",
   "metadata": {},
   "source": [
    "An if code block can be followed on by an else code block. Once again a colon : is used to denote the beginning of a code block and any code belonging to the code block is indented by 4 spaces. There is no condition associated with the else block as by definition it will be carried out when the condition checked in the if statement is False."
   ]
  },
  {
   "cell_type": "code",
   "execution_count": 93,
   "id": "designed-version",
   "metadata": {},
   "outputs": [
    {
     "name": "stdout",
     "output_type": "stream",
     "text": [
      "Condition is True\n",
      "Continuing as Usual\n"
     ]
    }
   ],
   "source": [
    "condition=True\n",
    "if condition:\n",
    "    print('Condition is True')\n",
    "else:\n",
    "    print('Condition is False')\n",
    "\n",
    "print('Continuing as Usual')"
   ]
  },
  {
   "cell_type": "code",
   "execution_count": 94,
   "id": "higher-conspiracy",
   "metadata": {},
   "outputs": [
    {
     "name": "stdout",
     "output_type": "stream",
     "text": [
      "Condition is False\n",
      "Continuing as Usual\n"
     ]
    }
   ],
   "source": [
    "condition=False\n",
    "if condition:\n",
    "    print('Condition is True')\n",
    "else:\n",
    "    print('Condition is False')\n",
    "\n",
    "print('Continuing as Usual')"
   ]
  },
  {
   "cell_type": "markdown",
   "id": "mighty-forum",
   "metadata": {},
   "source": [
    "A series of other elif (else if) branches can be created in a similar manner."
   ]
  },
  {
   "cell_type": "code",
   "execution_count": 95,
   "id": "italian-valuable",
   "metadata": {},
   "outputs": [
    {
     "name": "stdout",
     "output_type": "stream",
     "text": [
      "Condition 2 is True\n",
      "Continuing as Usual\n"
     ]
    }
   ],
   "source": [
    "condition1=False\n",
    "condition2=True\n",
    "if condition1:\n",
    "    print('Condition 1 is True')\n",
    "elif condition2:\n",
    "    print('Condition 2 is True')\n",
    "else:\n",
    "    print('Conditions are False')\n",
    "\n",
    "print('Continuing as Usual')"
   ]
  },
  {
   "cell_type": "markdown",
   "id": "frozen-placement",
   "metadata": {},
   "source": [
    "Note when using if, elif and else branches only the top branch that has a True condition will be carried out. In the example below the elif code block is not executed because the if code block has been executed."
   ]
  },
  {
   "cell_type": "code",
   "execution_count": 96,
   "id": "sized-miami",
   "metadata": {},
   "outputs": [
    {
     "name": "stdout",
     "output_type": "stream",
     "text": [
      "Condition 1 is True\n",
      "Continuing as Usual\n"
     ]
    }
   ],
   "source": [
    "condition1=True\n",
    "condition2=True\n",
    "if condition1:\n",
    "    print('Condition 1 is True')\n",
    "elif condition2:\n",
    "    print('Condition 2 is True')\n",
    "else:\n",
    "    print('Conditions are False')\n",
    "\n",
    "print('Continuing as Usual')"
   ]
  },
  {
   "cell_type": "markdown",
   "id": "missing-intro",
   "metadata": {},
   "source": [
    "The code above can therefore be amended to check for both conditions using and & which will return True only if both conditions are True."
   ]
  },
  {
   "cell_type": "code",
   "execution_count": 97,
   "id": "filled-component",
   "metadata": {},
   "outputs": [
    {
     "name": "stdout",
     "output_type": "stream",
     "text": [
      "Condition 1 is True\n",
      "Condition 2 is True\n",
      "Continuing as Usual\n"
     ]
    }
   ],
   "source": [
    "condition1=True\n",
    "condition2=True\n",
    "if condition1 & condition2:\n",
    "    print('Condition 1 is True')\n",
    "    print('Condition 2 is True')   \n",
    "elif condition1:\n",
    "    print('Condition 1 is True')\n",
    "elif condition2:\n",
    "    print('Condition 2 is True')    \n",
    "else:\n",
    "    print('Conditions are False')\n",
    "\n",
    "print('Continuing as Usual')"
   ]
  },
  {
   "cell_type": "markdown",
   "id": "iraqi-underground",
   "metadata": {},
   "source": [
    "Alternatively it can be amended to use or | which willr eturn True if either one of the conditions are True."
   ]
  },
  {
   "cell_type": "code",
   "execution_count": 98,
   "id": "ultimate-retreat",
   "metadata": {},
   "outputs": [
    {
     "name": "stdout",
     "output_type": "stream",
     "text": [
      "A Condition is True\n",
      "Continuing as Usual\n"
     ]
    }
   ],
   "source": [
    "condition1=True\n",
    "condition2=True\n",
    "if condition1 | condition2:\n",
    "    print('A Condition is True')\n",
    "else:\n",
    "    print('Conditions are False')\n",
    "\n",
    "print('Continuing as Usual')"
   ]
  },
  {
   "cell_type": "markdown",
   "id": "seasonal-facial",
   "metadata": {},
   "source": [
    "if, elif, else statements can be nested. Take note of the use of colons : and 4 character indentations."
   ]
  },
  {
   "cell_type": "code",
   "execution_count": 99,
   "id": "supposed-source",
   "metadata": {},
   "outputs": [
    {
     "name": "stdout",
     "output_type": "stream",
     "text": [
      "A Condition is True\n",
      "Condition 1 is True\n",
      "Continuing as Usual\n"
     ]
    }
   ],
   "source": [
    "condition1=True\n",
    "condition2=True\n",
    "if condition1 | condition2:\n",
    "    print('A Condition is True')\n",
    "    if condition1:\n",
    "        print('Condition 1 is True')\n",
    "    else:\n",
    "        print('Condition 2 is True')\n",
    "else:\n",
    "    print('Conditions are False')\n",
    "\n",
    "print('Continuing as Usual')"
   ]
  },
  {
   "cell_type": "markdown",
   "id": "promising-implementation",
   "metadata": {},
   "source": [
    "## try and except Branching"
   ]
  },
  {
   "cell_type": "markdown",
   "id": "inclusive-julian",
   "metadata": {},
   "source": [
    "Earlier we used the input function to import a float (in the form of a str) and then when we attempted to convert it to an int we got a ValueError. We can instead use a try code block and an except code block. These branches share commonalities with the if and else blocks except they use the absence and presence of an error as a condition."
   ]
  },
  {
   "cell_type": "code",
   "execution_count": 100,
   "id": "geological-mounting",
   "metadata": {},
   "outputs": [
    {
     "name": "stdout",
     "output_type": "stream",
     "text": [
      "k is not an int and is unchanged.\n"
     ]
    }
   ],
   "source": [
    "k='2.1'\n",
    "try:\n",
    "    k=int(k)\n",
    "except:\n",
    "    print('k is not an int and is unchanged.')"
   ]
  },
  {
   "cell_type": "markdown",
   "id": "passing-thread",
   "metadata": {},
   "source": [
    "Except can be setup to look for a specific error, in this case let's look for both a NameError and ValueError."
   ]
  },
  {
   "cell_type": "code",
   "execution_count": 101,
   "id": "plain-model",
   "metadata": {},
   "outputs": [
    {
     "name": "stdout",
     "output_type": "stream",
     "text": [
      "ValueError. k is not an int and is unchanged.\n"
     ]
    }
   ],
   "source": [
    "k='2.1'\n",
    "try:\n",
    "    k=int(k)\n",
    "except NameError:\n",
    "    print('NameError. k is not assigned.')\n",
    "except ValueError:\n",
    "    print('ValueError. k is not an int and is unchanged.')\n",
    "except:\n",
    "    print('Some other error. k is unchanged.')"
   ]
  },
  {
   "cell_type": "markdown",
   "id": "supported-clothing",
   "metadata": {},
   "source": [
    "We can modify the code to delete the object k before entering the try code block which will give a NameError."
   ]
  },
  {
   "cell_type": "code",
   "execution_count": 102,
   "id": "informal-scenario",
   "metadata": {},
   "outputs": [
    {
     "name": "stdout",
     "output_type": "stream",
     "text": [
      "NameError. k is not assigned.\n"
     ]
    }
   ],
   "source": [
    "del(k)\n",
    "try:\n",
    "    k=int(k)\n",
    "except NameError:\n",
    "    print('NameError. k is not assigned.')\n",
    "except ValueError:\n",
    "    print('ValueError. k is not an int and is unchanged.')\n",
    "except:\n",
    "    print('Some other error. k is unchanged.')"
   ]
  },
  {
   "cell_type": "markdown",
   "id": "second-karen",
   "metadata": {},
   "source": [
    "ValueError will display if k is a str of a float or a str of alphabetical characters. We can use a nested try and except block to attempt to try to convert k to a float or to inform the user that k is neither an int or float. Let's test this by assigning k to '2.1' and 'a' respectively."
   ]
  },
  {
   "cell_type": "code",
   "execution_count": 103,
   "id": "concrete-house",
   "metadata": {},
   "outputs": [
    {
     "name": "stdout",
     "output_type": "stream",
     "text": [
      "k is a float.\n"
     ]
    }
   ],
   "source": [
    "k='2.1'\n",
    "try:\n",
    "    k=int(k)\n",
    "    print('k is an int')\n",
    "except NameError:\n",
    "    print('NameError. k is not assigned.')\n",
    "except ValueError:\n",
    "    try:\n",
    "        k=float(k)\n",
    "        print('k is a float.')\n",
    "    except:\n",
    "        print('ValueError. k is not an int or float and is unchanged.')        \n",
    "except:\n",
    "    print('Some other error. k is not an int and is unchanged.')"
   ]
  },
  {
   "cell_type": "code",
   "execution_count": 104,
   "id": "present-month",
   "metadata": {},
   "outputs": [
    {
     "name": "stdout",
     "output_type": "stream",
     "text": [
      "ValueError. k is not an int or float and is unchanged.\n"
     ]
    }
   ],
   "source": [
    "k='a'\n",
    "try:\n",
    "    k=int(k)\n",
    "    print('k is an int')\n",
    "except NameError:\n",
    "    print('NameError. k is not assigned.')\n",
    "except ValueError:\n",
    "    try:\n",
    "        k=float(k)\n",
    "        print('k is a float.')\n",
    "    except:\n",
    "        print('ValueError. k is not an int or float and is unchanged.')        \n",
    "except:\n",
    "    print('Some other error. k is not an int and is unchanged.')"
   ]
  },
  {
   "cell_type": "markdown",
   "id": "blank-dairy",
   "metadata": {},
   "source": [
    "It is also possible to check for a condition and raise an error."
   ]
  },
  {
   "cell_type": "markdown",
   "id": "distant-london",
   "metadata": {},
   "source": [
    "```\n",
    "k='a'\n",
    "if type(k)!=int:\n",
    "        raise TypeError('k must be an int')\n",
    "```"
   ]
  },
  {
   "cell_type": "markdown",
   "id": "utility-factory",
   "metadata": {},
   "source": [
    "![raise_error](raise_error.png)"
   ]
  },
  {
   "cell_type": "markdown",
   "id": "typical-software",
   "metadata": {},
   "source": [
    "## Custom functions"
   ]
  },
  {
   "cell_type": "markdown",
   "id": "outside-grove",
   "metadata": {},
   "source": [
    "We have already seen how to use inbuilt functions such as print, type and input."
   ]
  },
  {
   "cell_type": "code",
   "execution_count": 105,
   "id": "verbal-paste",
   "metadata": {},
   "outputs": [
    {
     "data": {
      "text/plain": [
       "<function print>"
      ]
     },
     "execution_count": 105,
     "metadata": {},
     "output_type": "execute_result"
    }
   ],
   "source": [
    "print"
   ]
  },
  {
   "cell_type": "code",
   "execution_count": 106,
   "id": "sticky-criminal",
   "metadata": {},
   "outputs": [
    {
     "data": {
      "text/plain": [
       "type"
      ]
     },
     "execution_count": 106,
     "metadata": {},
     "output_type": "execute_result"
    }
   ],
   "source": [
    "type"
   ]
  },
  {
   "cell_type": "code",
   "execution_count": 107,
   "id": "dedicated-document",
   "metadata": {},
   "outputs": [
    {
     "data": {
      "text/plain": [
       "<bound method Kernel.raw_input of <ipykernel.ipkernel.IPythonKernel object at 0x0000023C5798AEE0>>"
      ]
     },
     "execution_count": 107,
     "metadata": {},
     "output_type": "execute_result"
    }
   ],
   "source": [
    "input"
   ]
  },
  {
   "cell_type": "markdown",
   "id": "disabled-interview",
   "metadata": {},
   "source": [
    "When these are called without parenthesis we just get told that they are a function."
   ]
  },
  {
   "cell_type": "markdown",
   "id": "homeless-preparation",
   "metadata": {},
   "source": [
    "To use a function it must be called with parenthesis. Recall that we can see details about the input arguments by pressing tab ↹ and shift ⇧."
   ]
  },
  {
   "cell_type": "markdown",
   "id": "continent-veteran",
   "metadata": {},
   "source": [
    "![function_print](function_print.png)"
   ]
  },
  {
   "cell_type": "markdown",
   "id": "compound-melbourne",
   "metadata": {},
   "source": [
    "By default there is a single positional argument however the ... denotes that we can place in multiple positional arguments to print."
   ]
  },
  {
   "cell_type": "code",
   "execution_count": 108,
   "id": "cosmetic-budget",
   "metadata": {},
   "outputs": [
    {
     "name": "stdout",
     "output_type": "stream",
     "text": [
      "hello\n"
     ]
    }
   ],
   "source": [
    "print('hello')"
   ]
  },
  {
   "cell_type": "markdown",
   "id": "swiss-miniature",
   "metadata": {},
   "source": [
    "The positional input arguments are specified in order by use of a comma , as a delimiter."
   ]
  },
  {
   "cell_type": "code",
   "execution_count": 109,
   "id": "armed-ancient",
   "metadata": {},
   "outputs": [
    {
     "name": "stdout",
     "output_type": "stream",
     "text": [
      "hello goodbye\n"
     ]
    }
   ],
   "source": [
    "print('hello','goodbye')"
   ]
  },
  {
   "cell_type": "markdown",
   "id": "nasty-torture",
   "metadata": {},
   "source": [
    "The keyword input arguments sep and end are both shown to have a default value. This default value can be reassigned when calling the function. To do so we must specify the positional arguments at the beginning and then after we have speciied the positional input arguments we can specify the optional keyword input arguments in any order. Notice for example when the keyword input argument sep is specified as --- the space that was seen between the two printed str becomes --- and when the end is changed from '\\n' to '' there is no new line."
   ]
  },
  {
   "cell_type": "code",
   "execution_count": 110,
   "id": "filled-guess",
   "metadata": {},
   "outputs": [
    {
     "name": "stdout",
     "output_type": "stream",
     "text": [
      "hello---goodbye\n",
      "hello---goodbyehello---goodbye\n"
     ]
    }
   ],
   "source": [
    "print('hello','goodbye',sep='---')\n",
    "print('hello','goodbye',sep='---',end='')\n",
    "print('hello','goodbye',sep='---')"
   ]
  },
  {
   "cell_type": "markdown",
   "id": "iraqi-demand",
   "metadata": {},
   "source": [
    "With the above in mind we can create our own function. \n",
    "\n",
    "First we need to define the function using def followed by the function name (which follows the same rules behind object names) and parenthesis. Then we use a colon : to start a code block and the code belonging to the function must remain in the code block. Let's create a custom print_three function. This will have no input arguments."
   ]
  },
  {
   "cell_type": "code",
   "execution_count": 111,
   "id": "potential-builder",
   "metadata": {},
   "outputs": [],
   "source": [
    "def print_three():\n",
    "    print(3)"
   ]
  },
  {
   "cell_type": "markdown",
   "id": "driving-disaster",
   "metadata": {},
   "source": [
    "If we call it without any parenthesis we will just be informed that it is a function."
   ]
  },
  {
   "cell_type": "code",
   "execution_count": 112,
   "id": "existing-captain",
   "metadata": {},
   "outputs": [
    {
     "data": {
      "text/plain": [
       "<function __main__.print_three()>"
      ]
     },
     "execution_count": 112,
     "metadata": {},
     "output_type": "execute_result"
    }
   ],
   "source": [
    "print_three"
   ]
  },
  {
   "cell_type": "markdown",
   "id": "renewable-weekend",
   "metadata": {},
   "source": [
    "Recall that we can see details about the input arguments by pressing tab ↹ and shift ⇧. In this case we have not provided a doc sring so we get no details about the function. We can update it to include one. We use triple quotations to denote the creation of a doc string."
   ]
  },
  {
   "cell_type": "markdown",
   "id": "liquid-product",
   "metadata": {},
   "source": [
    "![print_three_no_doc_str](print_three_no_doc_str.png)"
   ]
  },
  {
   "cell_type": "code",
   "execution_count": 113,
   "id": "cloudy-juvenile",
   "metadata": {},
   "outputs": [],
   "source": [
    "def print_three():\n",
    "    '''This will print the number 3.'''\n",
    "    print(3)"
   ]
  },
  {
   "cell_type": "markdown",
   "id": "recreational-sense",
   "metadata": {},
   "source": [
    "Now the doc string displays. Note we do not mention any details about input arguments in the custom function so the user will therefore infer that the fucntion has no input arguments."
   ]
  },
  {
   "cell_type": "markdown",
   "id": "cognitive-pressing",
   "metadata": {},
   "source": [
    "![print_three_doc_str](print_three_doc_str.png)"
   ]
  },
  {
   "cell_type": "markdown",
   "id": "noted-booking",
   "metadata": {},
   "source": [
    "The custom function can therefore be called and prints the number 3 as expected."
   ]
  },
  {
   "cell_type": "code",
   "execution_count": 114,
   "id": "biblical-respondent",
   "metadata": {},
   "outputs": [
    {
     "name": "stdout",
     "output_type": "stream",
     "text": [
      "3\n"
     ]
    }
   ],
   "source": [
    "print_three()"
   ]
  },
  {
   "cell_type": "markdown",
   "id": "ancient-friend",
   "metadata": {},
   "source": [
    "There are 25.4 mm in an inch. Let's create a custom function that converts inches to mm. This will have an input argument."
   ]
  },
  {
   "cell_type": "code",
   "execution_count": 115,
   "id": "eastern-drain",
   "metadata": {},
   "outputs": [],
   "source": [
    "def inch2mm(input_inches):\n",
    "    '''Prints the value of input_inches to output_mm.'''\n",
    "    output_mm=25.4*input_inches\n",
    "    print(output_mm)"
   ]
  },
  {
   "cell_type": "markdown",
   "id": "criminal-orleans",
   "metadata": {},
   "source": [
    "We can see details about the input arguments by pressing tab ↹ and shift ⇧. "
   ]
  },
  {
   "cell_type": "markdown",
   "id": "sweet-density",
   "metadata": {},
   "source": [
    "![inch2mm_doc_str](inch2mm_doc_str.png)"
   ]
  },
  {
   "cell_type": "markdown",
   "id": "dirty-spider",
   "metadata": {},
   "source": [
    "Now we can use it to print the value of 2 inches."
   ]
  },
  {
   "cell_type": "code",
   "execution_count": 116,
   "id": "understanding-chaos",
   "metadata": {},
   "outputs": [
    {
     "name": "stdout",
     "output_type": "stream",
     "text": [
      "50.8\n"
     ]
    }
   ],
   "source": [
    "inch2mm(2)"
   ]
  },
  {
   "cell_type": "markdown",
   "id": "alternate-prophet",
   "metadata": {},
   "source": [
    "Note that we have used the print statement to print the output."
   ]
  },
  {
   "cell_type": "code",
   "execution_count": 117,
   "id": "understanding-portrait",
   "metadata": {},
   "outputs": [
    {
     "name": "stdout",
     "output_type": "stream",
     "text": [
      "50.8\n"
     ]
    }
   ],
   "source": [
    "dim=inch2mm(2)"
   ]
  },
  {
   "cell_type": "markdown",
   "id": "subsequent-worthy",
   "metadata": {},
   "source": [
    "The print statement has the return value NoneType. This means if we assign it to an object name, the value prints but the object name is assigned to NoneType. This is not that useful if we wish to use it for further calculations."
   ]
  },
  {
   "cell_type": "code",
   "execution_count": 118,
   "id": "occupied-dream",
   "metadata": {},
   "outputs": [],
   "source": [
    "dim"
   ]
  },
  {
   "cell_type": "code",
   "execution_count": 119,
   "id": "weird-member",
   "metadata": {},
   "outputs": [
    {
     "data": {
      "text/plain": [
       "NoneType"
      ]
     },
     "execution_count": 119,
     "metadata": {},
     "output_type": "execute_result"
    }
   ],
   "source": [
    "type(dim)"
   ]
  },
  {
   "cell_type": "markdown",
   "id": "honest-priority",
   "metadata": {},
   "source": [
    "To rectify this we can instead use the return statement to assign the funciosn return value."
   ]
  },
  {
   "cell_type": "code",
   "execution_count": 120,
   "id": "floating-validation",
   "metadata": {},
   "outputs": [],
   "source": [
    "def inch2mm(input_inches):\n",
    "    '''Returns the value of input_inches to output_mm.'''\n",
    "    output_mm=25.4*input_inches\n",
    "    return(output_mm)"
   ]
  },
  {
   "cell_type": "code",
   "execution_count": 121,
   "id": "exotic-specialist",
   "metadata": {},
   "outputs": [],
   "source": [
    "dim=inch2mm(2)"
   ]
  },
  {
   "cell_type": "code",
   "execution_count": 122,
   "id": "iraqi-delhi",
   "metadata": {},
   "outputs": [
    {
     "data": {
      "text/plain": [
       "50.8"
      ]
     },
     "execution_count": 122,
     "metadata": {},
     "output_type": "execute_result"
    }
   ],
   "source": [
    "dim"
   ]
  },
  {
   "cell_type": "markdown",
   "id": "devoted-homeless",
   "metadata": {},
   "source": [
    "We can update our function to use a keyword input argument with a default value of 1 inch. This can be a useful default if we want to just reference the conversion factor."
   ]
  },
  {
   "cell_type": "code",
   "execution_count": 123,
   "id": "changing-retailer",
   "metadata": {},
   "outputs": [],
   "source": [
    "def inch2mm(input_inches=1):\n",
    "    '''Returns the value of input_inches to output_mm.'''\n",
    "    output_mm=25.4*input_inches\n",
    "    return(output_mm)"
   ]
  },
  {
   "cell_type": "code",
   "execution_count": 124,
   "id": "australian-springer",
   "metadata": {},
   "outputs": [
    {
     "data": {
      "text/plain": [
       "25.4"
      ]
     },
     "execution_count": 124,
     "metadata": {},
     "output_type": "execute_result"
    }
   ],
   "source": [
    "dim=inch2mm()\n",
    "dim"
   ]
  },
  {
   "cell_type": "code",
   "execution_count": 125,
   "id": "criminal-while",
   "metadata": {},
   "outputs": [
    {
     "data": {
      "text/plain": [
       "50.8"
      ]
     },
     "execution_count": 125,
     "metadata": {},
     "output_type": "execute_result"
    }
   ],
   "source": [
    "dim1=inch2mm(input_inches=2)\n",
    "dim1"
   ]
  },
  {
   "cell_type": "markdown",
   "id": "together-conspiracy",
   "metadata": {},
   "source": [
    "## Lambda functions"
   ]
  },
  {
   "cell_type": "markdown",
   "id": "engaged-internship",
   "metadata": {},
   "source": [
    "Sometimes we require a small anonymous function that is only used a handful of times. This can be achieved by using a lambda function. A lambda function can have multiple arguments but has only has a single expression. The positional input arguments follow from the lambda expression using a comma as a delimiter. The colon : is used to seperate the arguments from the expression. Recreating inch2mm as a lambda expression."
   ]
  },
  {
   "cell_type": "code",
   "execution_count": 126,
   "id": "sitting-charleston",
   "metadata": {},
   "outputs": [],
   "source": [
    "inch2mm=lambda a: 25.4*a"
   ]
  },
  {
   "cell_type": "markdown",
   "id": "specified-posting",
   "metadata": {},
   "source": [
    "Calling the lambda function without parenthesis informs us that is is a lamba expression."
   ]
  },
  {
   "cell_type": "code",
   "execution_count": 127,
   "id": "outstanding-experiment",
   "metadata": {},
   "outputs": [
    {
     "data": {
      "text/plain": [
       "<function __main__.<lambda>(a)>"
      ]
     },
     "execution_count": 127,
     "metadata": {},
     "output_type": "execute_result"
    }
   ],
   "source": [
    "inch2mm"
   ]
  },
  {
   "cell_type": "markdown",
   "id": "automotive-snapshot",
   "metadata": {},
   "source": [
    "We can use it to convert 4 inches to mm."
   ]
  },
  {
   "cell_type": "code",
   "execution_count": 128,
   "id": "opposed-inspection",
   "metadata": {},
   "outputs": [],
   "source": [
    "dim3=inch2mm(4)"
   ]
  },
  {
   "cell_type": "code",
   "execution_count": 129,
   "id": "supreme-elevation",
   "metadata": {},
   "outputs": [
    {
     "data": {
      "text/plain": [
       "101.6"
      ]
     },
     "execution_count": 129,
     "metadata": {},
     "output_type": "execute_result"
    }
   ],
   "source": [
    "dim3"
   ]
  },
  {
   "cell_type": "markdown",
   "id": "binary-sydney",
   "metadata": {},
   "source": [
    "It is possible to create a lambda expression without input arguments."
   ]
  },
  {
   "cell_type": "code",
   "execution_count": 130,
   "id": "impaired-relations",
   "metadata": {},
   "outputs": [],
   "source": [
    "print_three=lambda : print(3)"
   ]
  },
  {
   "cell_type": "code",
   "execution_count": 131,
   "id": "median-python",
   "metadata": {},
   "outputs": [
    {
     "data": {
      "text/plain": [
       "<function __main__.<lambda>()>"
      ]
     },
     "execution_count": 131,
     "metadata": {},
     "output_type": "execute_result"
    }
   ],
   "source": [
    "print_three"
   ]
  },
  {
   "cell_type": "code",
   "execution_count": 132,
   "id": "defensive-azerbaijan",
   "metadata": {},
   "outputs": [
    {
     "name": "stdout",
     "output_type": "stream",
     "text": [
      "3\n"
     ]
    }
   ],
   "source": [
    "print_three()"
   ]
  },
  {
   "cell_type": "markdown",
   "id": "south-tractor",
   "metadata": {},
   "source": [
    "In some cases a dummy input argument is expected where the labda expression is going to be used."
   ]
  },
  {
   "cell_type": "code",
   "execution_count": 133,
   "id": "palestinian-counter",
   "metadata": {},
   "outputs": [],
   "source": [
    "print_three=lambda a: print(3)"
   ]
  },
  {
   "cell_type": "code",
   "execution_count": 134,
   "id": "overhead-factor",
   "metadata": {},
   "outputs": [
    {
     "data": {
      "text/plain": [
       "<function __main__.<lambda>(a)>"
      ]
     },
     "execution_count": 134,
     "metadata": {},
     "output_type": "execute_result"
    }
   ],
   "source": [
    "print_three"
   ]
  },
  {
   "cell_type": "markdown",
   "id": "removable-indian",
   "metadata": {},
   "source": [
    "In this simple example, the expression is independent of the value of the dummy input argument."
   ]
  },
  {
   "cell_type": "code",
   "execution_count": 135,
   "id": "institutional-danger",
   "metadata": {},
   "outputs": [
    {
     "name": "stdout",
     "output_type": "stream",
     "text": [
      "3\n"
     ]
    }
   ],
   "source": [
    "print_three('a')"
   ]
  },
  {
   "cell_type": "code",
   "execution_count": 136,
   "id": "worldwide-coaching",
   "metadata": {},
   "outputs": [
    {
     "name": "stdout",
     "output_type": "stream",
     "text": [
      "3\n"
     ]
    }
   ],
   "source": [
    "print_three(1)"
   ]
  },
  {
   "cell_type": "markdown",
   "id": "lesser-preserve",
   "metadata": {},
   "source": [
    "## Range and Looping"
   ]
  },
  {
   "cell_type": "markdown",
   "id": "silent-metropolitan",
   "metadata": {},
   "source": [
    "Another inbuilt class is the range class. The range class has a varying number of input arguments. These are referred to as start, stop and step."
   ]
  },
  {
   "cell_type": "markdown",
   "id": "sorted-accuracy",
   "metadata": {},
   "source": [
    "![range](range.png)"
   ]
  },
  {
   "cell_type": "markdown",
   "id": "available-calcium",
   "metadata": {},
   "source": [
    "When only a 0th positional input argument is input. It is taken to be stop. start is automatically assiged to 0 and steo is automatically assigned to be 1."
   ]
  },
  {
   "cell_type": "code",
   "execution_count": 137,
   "id": "comic-swift",
   "metadata": {},
   "outputs": [],
   "source": [
    "r=range(10)"
   ]
  },
  {
   "cell_type": "code",
   "execution_count": 138,
   "id": "typical-ranch",
   "metadata": {},
   "outputs": [
    {
     "data": {
      "text/plain": [
       "0"
      ]
     },
     "execution_count": 138,
     "metadata": {},
     "output_type": "execute_result"
    }
   ],
   "source": [
    "r.start"
   ]
  },
  {
   "cell_type": "code",
   "execution_count": 139,
   "id": "historic-sharing",
   "metadata": {},
   "outputs": [
    {
     "data": {
      "text/plain": [
       "10"
      ]
     },
     "execution_count": 139,
     "metadata": {},
     "output_type": "execute_result"
    }
   ],
   "source": [
    "r.stop"
   ]
  },
  {
   "cell_type": "code",
   "execution_count": 140,
   "id": "rubber-adapter",
   "metadata": {},
   "outputs": [
    {
     "data": {
      "text/plain": [
       "1"
      ]
     },
     "execution_count": 140,
     "metadata": {},
     "output_type": "execute_result"
    }
   ],
   "source": [
    "r.step"
   ]
  },
  {
   "cell_type": "markdown",
   "id": "senior-naples",
   "metadata": {},
   "source": [
    "When a 0th and 1st positional input arguments are input. The 0th positional input argument is taken to be start and the 1st input argument is taken to be stop. step is automatically assigned to 1."
   ]
  },
  {
   "cell_type": "code",
   "execution_count": 141,
   "id": "domestic-moldova",
   "metadata": {},
   "outputs": [
    {
     "data": {
      "text/plain": [
       "range(1, 10)"
      ]
     },
     "execution_count": 141,
     "metadata": {},
     "output_type": "execute_result"
    }
   ],
   "source": [
    "range(1,10)"
   ]
  },
  {
   "cell_type": "code",
   "execution_count": 142,
   "id": "adverse-oklahoma",
   "metadata": {},
   "outputs": [
    {
     "data": {
      "text/plain": [
       "0"
      ]
     },
     "execution_count": 142,
     "metadata": {},
     "output_type": "execute_result"
    }
   ],
   "source": [
    "r.start"
   ]
  },
  {
   "cell_type": "code",
   "execution_count": 143,
   "id": "moderate-intent",
   "metadata": {},
   "outputs": [
    {
     "data": {
      "text/plain": [
       "10"
      ]
     },
     "execution_count": 143,
     "metadata": {},
     "output_type": "execute_result"
    }
   ],
   "source": [
    "r.stop"
   ]
  },
  {
   "cell_type": "code",
   "execution_count": 144,
   "id": "floppy-marina",
   "metadata": {},
   "outputs": [
    {
     "data": {
      "text/plain": [
       "1"
      ]
     },
     "execution_count": 144,
     "metadata": {},
     "output_type": "execute_result"
    }
   ],
   "source": [
    "r.step"
   ]
  },
  {
   "cell_type": "markdown",
   "id": "major-liechtenstein",
   "metadata": {},
   "source": [
    "When a 0th, 1st and 2nd positional input arguments are input. The 0th positional input argument is taken to be start, the 1st input argument is taken to be stop and finally the 2nd positional input argument is taken to be step."
   ]
  },
  {
   "cell_type": "code",
   "execution_count": 145,
   "id": "engaged-testing",
   "metadata": {},
   "outputs": [],
   "source": [
    "r=range(1,10,2)"
   ]
  },
  {
   "cell_type": "code",
   "execution_count": 146,
   "id": "emerging-newspaper",
   "metadata": {},
   "outputs": [
    {
     "data": {
      "text/plain": [
       "1"
      ]
     },
     "execution_count": 146,
     "metadata": {},
     "output_type": "execute_result"
    }
   ],
   "source": [
    "r.start"
   ]
  },
  {
   "cell_type": "code",
   "execution_count": 147,
   "id": "breathing-float",
   "metadata": {},
   "outputs": [
    {
     "data": {
      "text/plain": [
       "10"
      ]
     },
     "execution_count": 147,
     "metadata": {},
     "output_type": "execute_result"
    }
   ],
   "source": [
    "r.stop"
   ]
  },
  {
   "cell_type": "code",
   "execution_count": 353,
   "id": "secure-gregory",
   "metadata": {},
   "outputs": [
    {
     "data": {
      "text/plain": [
       "2"
      ]
     },
     "execution_count": 353,
     "metadata": {},
     "output_type": "execute_result"
    }
   ],
   "source": [
    "r.step"
   ]
  },
  {
   "cell_type": "markdown",
   "id": "moral-civilian",
   "metadata": {},
   "source": [
    "Unfortunately, these names do not work as keyword input arguments which would make the range class more consistent with other python classes and functions and make it more acessible for begineers."
   ]
  },
  {
   "cell_type": "markdown",
   "id": "coated-placement",
   "metadata": {},
   "source": [
    "```range(start=0,stop=10,step=1)```"
   ]
  },
  {
   "cell_type": "markdown",
   "id": "initial-stereo",
   "metadata": {},
   "source": [
    "![range2](range2.png)"
   ]
  },
  {
   "cell_type": "markdown",
   "id": "split-senate",
   "metadata": {},
   "source": [
    "The range object is commonly used in for loops which are used to repeat a set of commands *for*  a certain number of times. For example if we want to print 'hello' 10 times we can use the following. "
   ]
  },
  {
   "cell_type": "code",
   "execution_count": 149,
   "id": "confused-valve",
   "metadata": {},
   "outputs": [
    {
     "name": "stdout",
     "output_type": "stream",
     "text": [
      "hello\n",
      "hello\n",
      "hello\n",
      "hello\n",
      "hello\n",
      "hello\n",
      "hello\n",
      "hello\n",
      "hello\n",
      "hello\n"
     ]
    }
   ],
   "source": [
    "for idx in range(10):\n",
    "    print('hello')"
   ]
  },
  {
   "cell_type": "markdown",
   "id": "dressed-greeting",
   "metadata": {},
   "source": [
    "The keyword for means we are going to use a for loop.\n",
    "After the for keyword we need to specify a loop variable (this can be anything as long as it is in accordance with the rules behind variable names). \n",
    "The keyword in means we are looking within an object (*in* this case, the range object).\n",
    "The colon : means we are beginning a code block. Anything belonging to the code block is indented by for spaces. This was seen earlier with the if, elif, else branching and try and except branching.\n",
    "\n",
    "We can print the loop variable instead of the str 'hello'."
   ]
  },
  {
   "cell_type": "code",
   "execution_count": 150,
   "id": "occasional-attendance",
   "metadata": {},
   "outputs": [
    {
     "name": "stdout",
     "output_type": "stream",
     "text": [
      "0\n",
      "1\n",
      "2\n",
      "3\n",
      "4\n",
      "5\n",
      "6\n",
      "7\n",
      "8\n",
      "9\n"
     ]
    }
   ],
   "source": [
    "for idx in range(10):\n",
    "    print(idx)"
   ]
  },
  {
   "cell_type": "markdown",
   "id": "rapid-stadium",
   "metadata": {},
   "source": [
    "We see here that Python uses zero order indexing. This means we count from 0 (and include the lower bound 0) in steps of 1 until we approach the upper bound 10 (we don't include the upper bound 10). In other words Python indexing includes the lower bound and excludes the upper bound."
   ]
  },
  {
   "cell_type": "code",
   "execution_count": 151,
   "id": "harmful-patio",
   "metadata": {},
   "outputs": [
    {
     "name": "stdout",
     "output_type": "stream",
     "text": [
      "1\n",
      "2\n",
      "3\n",
      "4\n",
      "5\n",
      "6\n",
      "7\n",
      "8\n",
      "9\n"
     ]
    }
   ],
   "source": [
    "for idx in range(1,10):\n",
    "    print(idx)"
   ]
  },
  {
   "cell_type": "code",
   "execution_count": 152,
   "id": "solid-profit",
   "metadata": {},
   "outputs": [
    {
     "name": "stdout",
     "output_type": "stream",
     "text": [
      "1\n",
      "3\n",
      "5\n",
      "7\n",
      "9\n"
     ]
    }
   ],
   "source": [
    "for idx in range(1,10,2):\n",
    "    print(idx)"
   ]
  },
  {
   "cell_type": "markdown",
   "id": "vocal-beauty",
   "metadata": {},
   "source": [
    "If we return to the above:"
   ]
  },
  {
   "cell_type": "code",
   "execution_count": 153,
   "id": "multiple-kidney",
   "metadata": {},
   "outputs": [
    {
     "name": "stdout",
     "output_type": "stream",
     "text": [
      "0\n",
      "1\n",
      "2\n",
      "3\n",
      "4\n",
      "5\n",
      "6\n",
      "7\n",
      "8\n",
      "9\n"
     ]
    }
   ],
   "source": [
    "for idx in range(10):\n",
    "    print(idx)"
   ]
  },
  {
   "cell_type": "markdown",
   "id": "random-jamaica",
   "metadata": {},
   "source": [
    "And want the numeric values displayed in the reverse order, note that we have to start at 9 (inclusive of the lower bound) and stop at -1 (exclusive of th lwer bound) using steps of -1."
   ]
  },
  {
   "cell_type": "code",
   "execution_count": 154,
   "id": "reverse-dollar",
   "metadata": {},
   "outputs": [
    {
     "name": "stdout",
     "output_type": "stream",
     "text": [
      "9\n",
      "8\n",
      "7\n",
      "6\n",
      "5\n",
      "4\n",
      "3\n",
      "2\n",
      "1\n",
      "0\n"
     ]
    }
   ],
   "source": [
    "for idx in range(9,-1,-1):\n",
    "    print(idx)"
   ]
  },
  {
   "cell_type": "markdown",
   "id": "suited-craps",
   "metadata": {},
   "source": [
    "The above looked looped *in* a range object. A str is an object which can have multiple characters."
   ]
  },
  {
   "cell_type": "code",
   "execution_count": 155,
   "id": "professional-conclusion",
   "metadata": {},
   "outputs": [
    {
     "name": "stdout",
     "output_type": "stream",
     "text": [
      "h\n",
      "e\n",
      "l\n",
      "l\n",
      "o\n"
     ]
    }
   ],
   "source": [
    "for idx in 'hello':\n",
    "    print(idx)"
   ]
  },
  {
   "cell_type": "markdown",
   "id": "married-bundle",
   "metadata": {},
   "source": [
    "Note how idx is now a letter and not a number. We can actually get both an numeric idx and a letter value by usign the function enumerate instead."
   ]
  },
  {
   "cell_type": "code",
   "execution_count": 156,
   "id": "sporting-douglas",
   "metadata": {},
   "outputs": [
    {
     "data": {
      "text/plain": [
       "<enumerate at 0x23c58b06180>"
      ]
     },
     "execution_count": 156,
     "metadata": {},
     "output_type": "execute_result"
    }
   ],
   "source": [
    "enumerate('hello')"
   ]
  },
  {
   "cell_type": "code",
   "execution_count": 157,
   "id": "cordless-management",
   "metadata": {},
   "outputs": [
    {
     "name": "stdout",
     "output_type": "stream",
     "text": [
      "0 h\n",
      "1 e\n",
      "2 l\n",
      "3 l\n",
      "4 o\n"
     ]
    }
   ],
   "source": [
    "for idx,value in enumerate('hello'):\n",
    "    print(idx,value)"
   ]
  },
  {
   "cell_type": "markdown",
   "id": "recognized-iraqi",
   "metadata": {},
   "source": [
    "We could use these in calculations if we wished."
   ]
  },
  {
   "cell_type": "code",
   "execution_count": 158,
   "id": "based-bolivia",
   "metadata": {},
   "outputs": [
    {
     "name": "stdout",
     "output_type": "stream",
     "text": [
      "\n",
      "e\n",
      "ll\n",
      "lll\n",
      "oooo\n"
     ]
    }
   ],
   "source": [
    "for idx,value in enumerate('hello'):\n",
    "    print(idx*value)"
   ]
  },
  {
   "cell_type": "markdown",
   "id": "narrative-romania",
   "metadata": {},
   "source": [
    "There is another loop called a while loop which will loop only if a condition is satisfied."
   ]
  },
  {
   "cell_type": "markdown",
   "id": "binding-thailand",
   "metadata": {},
   "source": [
    "```while condition```"
   ]
  },
  {
   "cell_type": "markdown",
   "id": "brilliant-malta",
   "metadata": {},
   "source": [
    "Normally an object related to the condition is changed within the code block so the condition is eentually not met and the loop ends."
   ]
  },
  {
   "cell_type": "code",
   "execution_count": 159,
   "id": "virtual-mitchell",
   "metadata": {},
   "outputs": [
    {
     "name": "stdout",
     "output_type": "stream",
     "text": [
      "0\n",
      "1\n",
      "2\n",
      "3\n",
      "4\n"
     ]
    }
   ],
   "source": [
    "counter=0\n",
    "while counter<5:\n",
    "    print(counter)\n",
    "    counter+=1"
   ]
  },
  {
   "cell_type": "markdown",
   "id": "cleared-tomorrow",
   "metadata": {},
   "source": [
    "We can see that when the coutner had  value of 4, the condition was satisfied and the value 4 was printed. After the value 4 was pritned,it got incremented by a value of 1 and then the while loops condition was not satisfied so the while loop broke. Therefore the code in the code block wasnot carried out for a value of 5. If we print the value of counter outside the loop we see it is 5."
   ]
  },
  {
   "cell_type": "code",
   "execution_count": 160,
   "id": "configured-arrival",
   "metadata": {},
   "outputs": [
    {
     "data": {
      "text/plain": [
       "5"
      ]
     },
     "execution_count": 160,
     "metadata": {},
     "output_type": "execute_result"
    }
   ],
   "source": [
    "counter"
   ]
  },
  {
   "cell_type": "markdown",
   "id": "recovered-index",
   "metadata": {},
   "source": [
    "Note that it is possible to create a loop that will loop forever, if the condition is never updated within the loop. The following code for example would spam one of the cells in the JupyterLab notebook forever."
   ]
  },
  {
   "cell_type": "markdown",
   "id": "personal-sleeve",
   "metadata": {},
   "source": [
    "```\n",
    "while True:\n",
    "    print('spam')\n",
    "```    "
   ]
  },
  {
   "cell_type": "markdown",
   "id": "interior-pride",
   "metadata": {},
   "source": [
    "## Asserting function input arguments"
   ]
  },
  {
   "cell_type": "markdown",
   "id": "intensive-station",
   "metadata": {},
   "source": [
    "The assert keyword can be used to check whether or not a condition is True. If it is, the code will proceed and if it is not it will flag up an error. The form to use is."
   ]
  },
  {
   "cell_type": "markdown",
   "id": "early-tunnel",
   "metadata": {},
   "source": [
    "```assert condition, \"optional message\"```"
   ]
  },
  {
   "cell_type": "markdown",
   "id": "automatic-tokyo",
   "metadata": {},
   "source": [
    "Note that assert is not a function and therefore does not use parenthesis."
   ]
  },
  {
   "cell_type": "code",
   "execution_count": 161,
   "id": "seasonal-account",
   "metadata": {},
   "outputs": [],
   "source": [
    "def fun(value=0):\n",
    "    assert type(value)==int,'value must be of the datatype int'\n",
    "    print(value)"
   ]
  },
  {
   "cell_type": "markdown",
   "id": "demanding-crazy",
   "metadata": {},
   "source": [
    "the function fun will proceed with value asigned to the default 0 and set to 1."
   ]
  },
  {
   "cell_type": "code",
   "execution_count": 162,
   "id": "yellow-observer",
   "metadata": {},
   "outputs": [
    {
     "name": "stdout",
     "output_type": "stream",
     "text": [
      "0\n"
     ]
    }
   ],
   "source": [
    "fun()"
   ]
  },
  {
   "cell_type": "code",
   "execution_count": 163,
   "id": "durable-showcase",
   "metadata": {},
   "outputs": [
    {
     "name": "stdout",
     "output_type": "stream",
     "text": [
      "1\n"
     ]
    }
   ],
   "source": [
    "fun(1)"
   ]
  },
  {
   "cell_type": "markdown",
   "id": "seven-operations",
   "metadata": {},
   "source": [
    "It will hang when value is assigned to a float 1.1 or a str of 'a'."
   ]
  },
  {
   "cell_type": "markdown",
   "id": "grateful-survivor",
   "metadata": {},
   "source": [
    "```fun(1.1.)```"
   ]
  },
  {
   "cell_type": "markdown",
   "id": "stone-violation",
   "metadata": {},
   "source": [
    "![AssertionError1](AssertionError1.png)"
   ]
  },
  {
   "cell_type": "markdown",
   "id": "abroad-split",
   "metadata": {},
   "source": [
    "```fun('a')```"
   ]
  },
  {
   "cell_type": "markdown",
   "id": "molecular-exclusive",
   "metadata": {},
   "source": [
    "![AssertionError2](AssertionError2.png)"
   ]
  },
  {
   "cell_type": "markdown",
   "id": "tropical-instrument",
   "metadata": {},
   "source": [
    "We can combine the assertion statement with a try and except branch with instructions to handle the AssertionError."
   ]
  },
  {
   "cell_type": "code",
   "execution_count": 164,
   "id": "native-picnic",
   "metadata": {},
   "outputs": [],
   "source": [
    "def fun(value=0):\n",
    "    try:\n",
    "        assert type(value)==int, 'value must be of the datatype int'\n",
    "        print(value)\n",
    "    except AssertionError:\n",
    "        print('invalid datatype for value, value must be an int datatype.')"
   ]
  },
  {
   "cell_type": "markdown",
   "id": "regulation-forwarding",
   "metadata": {},
   "source": [
    "Now once again when value is assigned to its default value int 0 or the int 1 the code works as expected. When it is assigned to the float 1.1 or the str, the AsertionError is handled and the print statement displays."
   ]
  },
  {
   "cell_type": "code",
   "execution_count": 165,
   "id": "detailed-workshop",
   "metadata": {},
   "outputs": [
    {
     "name": "stdout",
     "output_type": "stream",
     "text": [
      "0\n"
     ]
    }
   ],
   "source": [
    "fun()"
   ]
  },
  {
   "cell_type": "code",
   "execution_count": 166,
   "id": "recorded-tuner",
   "metadata": {},
   "outputs": [
    {
     "name": "stdout",
     "output_type": "stream",
     "text": [
      "1\n"
     ]
    }
   ],
   "source": [
    "fun(1)"
   ]
  },
  {
   "cell_type": "code",
   "execution_count": 167,
   "id": "spare-winner",
   "metadata": {},
   "outputs": [
    {
     "name": "stdout",
     "output_type": "stream",
     "text": [
      "invalid datatype for value, value must be an int datatype.\n"
     ]
    }
   ],
   "source": [
    "fun(1.1)"
   ]
  },
  {
   "cell_type": "code",
   "execution_count": 168,
   "id": "common-inclusion",
   "metadata": {},
   "outputs": [
    {
     "name": "stdout",
     "output_type": "stream",
     "text": [
      "invalid datatype for value, value must be an int datatype.\n"
     ]
    }
   ],
   "source": [
    "fun('a')"
   ]
  },
  {
   "cell_type": "markdown",
   "id": "thermal-newspaper",
   "metadata": {},
   "source": [
    "The condition can be updated to accept an int or a float."
   ]
  },
  {
   "cell_type": "code",
   "execution_count": 169,
   "id": "olive-baltimore",
   "metadata": {},
   "outputs": [],
   "source": [
    "def fun(value=0):\n",
    "    try:\n",
    "        assert (type(value)==int or type(value)==float), 'value must be of the datatype int or float'\n",
    "        print(value)\n",
    "    except AssertionError:\n",
    "        print('invalid datatype for value, value must be an int or float datatype.')"
   ]
  },
  {
   "cell_type": "markdown",
   "id": "rotary-resistance",
   "metadata": {},
   "source": [
    "Now once again when value is assigned to its default value int 0 or the int 1 or the float 1.1 the code works as expected. When it is assigned to the str, the AsertionError is handled and the print statement displays."
   ]
  },
  {
   "cell_type": "code",
   "execution_count": 170,
   "id": "removable-carter",
   "metadata": {},
   "outputs": [
    {
     "name": "stdout",
     "output_type": "stream",
     "text": [
      "0\n"
     ]
    }
   ],
   "source": [
    "fun()"
   ]
  },
  {
   "cell_type": "code",
   "execution_count": 171,
   "id": "integrated-honey",
   "metadata": {},
   "outputs": [
    {
     "name": "stdout",
     "output_type": "stream",
     "text": [
      "1\n"
     ]
    }
   ],
   "source": [
    "fun(1)"
   ]
  },
  {
   "cell_type": "code",
   "execution_count": 172,
   "id": "coordinated-triple",
   "metadata": {},
   "outputs": [
    {
     "name": "stdout",
     "output_type": "stream",
     "text": [
      "1.1\n"
     ]
    }
   ],
   "source": [
    "fun(1.1)"
   ]
  },
  {
   "cell_type": "code",
   "execution_count": 173,
   "id": "starting-request",
   "metadata": {},
   "outputs": [
    {
     "name": "stdout",
     "output_type": "stream",
     "text": [
      "invalid datatype for value, value must be an int or float datatype.\n"
     ]
    }
   ],
   "source": [
    "fun('a')"
   ]
  },
  {
   "cell_type": "markdown",
   "id": "disabled-fever",
   "metadata": {},
   "source": [
    "## Custom Classes"
   ]
  },
  {
   "cell_type": "markdown",
   "id": "antique-yesterday",
   "metadata": {},
   "source": [
    "We have used an instance of an int class and an instance of a str class and seen that these have a substantially different number of attributes and methods available to them. We can begin to understand this by looking at how a custom class is constructed. \n",
    "\n",
    "Python is an object orientated programming language and every class used inherits its properties from the object superclass. This can be seen by using the function issubclass. We can see the keyword input arguments the tab ↹ and shift ⇧."
   ]
  },
  {
   "cell_type": "markdown",
   "id": "needed-barrel",
   "metadata": {},
   "source": [
    "![issubclass_function](issubclass_function.png)"
   ]
  },
  {
   "cell_type": "markdown",
   "id": "julian-reverse",
   "metadata": {},
   "source": [
    "We see that int, str, floats and bools are all subclasses of the object class."
   ]
  },
  {
   "cell_type": "code",
   "execution_count": 174,
   "id": "thermal-moscow",
   "metadata": {},
   "outputs": [
    {
     "data": {
      "text/plain": [
       "True"
      ]
     },
     "execution_count": 174,
     "metadata": {},
     "output_type": "execute_result"
    }
   ],
   "source": [
    "issubclass(int,object)"
   ]
  },
  {
   "cell_type": "code",
   "execution_count": 175,
   "id": "incident-destination",
   "metadata": {},
   "outputs": [
    {
     "data": {
      "text/plain": [
       "True"
      ]
     },
     "execution_count": 175,
     "metadata": {},
     "output_type": "execute_result"
    }
   ],
   "source": [
    "issubclass(str,object)"
   ]
  },
  {
   "cell_type": "code",
   "execution_count": 176,
   "id": "altered-honey",
   "metadata": {},
   "outputs": [
    {
     "data": {
      "text/plain": [
       "True"
      ]
     },
     "execution_count": 176,
     "metadata": {},
     "output_type": "execute_result"
    }
   ],
   "source": [
    "issubclass(float,object)"
   ]
  },
  {
   "cell_type": "code",
   "execution_count": 177,
   "id": "proved-deadline",
   "metadata": {},
   "outputs": [
    {
     "data": {
      "text/plain": [
       "True"
      ]
     },
     "execution_count": 177,
     "metadata": {},
     "output_type": "execute_result"
    }
   ],
   "source": [
    "issubclass(bool,int)"
   ]
  },
  {
   "cell_type": "markdown",
   "id": "paperback-antarctica",
   "metadata": {},
   "source": [
    "We see that str is not a subclass of int as expected as they behave very differently (have vastly different attributes and methods). "
   ]
  },
  {
   "cell_type": "code",
   "execution_count": 178,
   "id": "dense-retention",
   "metadata": {},
   "outputs": [
    {
     "data": {
      "text/plain": [
       "False"
      ]
     },
     "execution_count": 178,
     "metadata": {},
     "output_type": "execute_result"
    }
   ],
   "source": [
    "issubclass(str,int)"
   ]
  },
  {
   "cell_type": "markdown",
   "id": "gorgeous-flooring",
   "metadata": {},
   "source": [
    "Although float and int have similarly defined methods and attributes they are still independent classes."
   ]
  },
  {
   "cell_type": "code",
   "execution_count": 179,
   "id": "photographic-genesis",
   "metadata": {},
   "outputs": [
    {
     "data": {
      "text/plain": [
       "False"
      ]
     },
     "execution_count": 179,
     "metadata": {},
     "output_type": "execute_result"
    }
   ],
   "source": [
    "issubclass(float,int)"
   ]
  },
  {
   "cell_type": "markdown",
   "id": "stock-water",
   "metadata": {},
   "source": [
    "We seen that the bool class has identical methods and attributes to the int class. This is because it is a subclass of the int superclass."
   ]
  },
  {
   "cell_type": "code",
   "execution_count": 180,
   "id": "opposed-fundamentals",
   "metadata": {},
   "outputs": [
    {
     "data": {
      "text/plain": [
       "True"
      ]
     },
     "execution_count": 180,
     "metadata": {},
     "output_type": "execute_result"
    }
   ],
   "source": [
    "issubclass(bool,int)"
   ]
  },
  {
   "cell_type": "markdown",
   "id": "mediterranean-subscriber",
   "metadata": {},
   "source": [
    "### Creating a Class"
   ]
  },
  {
   "cell_type": "markdown",
   "id": "small-calendar",
   "metadata": {},
   "source": [
    "Constructing a class shares some commonalities with defining a function. We use class (to define a class) instead of def (which we use to define a function). The convention is to use CamelCaseCapitilization opposed to lower_case for a function or variable. Parenthesis is used to enclose the superclass. The custom class being created will inherit properties from the superclass such as attributes and methods. object is the default superclass of everything in the python programming language and if a custom class is created without a class in the 0th position of the parenthesis it will be automatically use object as its superclass. i.e. the two cells below are equivalent."
   ]
  },
  {
   "cell_type": "code",
   "execution_count": 181,
   "id": "young-appreciation",
   "metadata": {},
   "outputs": [],
   "source": [
    "class ScalarClass(object):\n",
    "    pass"
   ]
  },
  {
   "cell_type": "code",
   "execution_count": 182,
   "id": "weighted-desert",
   "metadata": {},
   "outputs": [],
   "source": [
    "class ScalarClass():\n",
    "    pass"
   ]
  },
  {
   "cell_type": "markdown",
   "id": "prospective-gambling",
   "metadata": {},
   "source": [
    "The class above does nothing, it can be called in a cell without parenthesis which will return details about the class. This is analogous to calling the class int without parenthesis."
   ]
  },
  {
   "cell_type": "code",
   "execution_count": 183,
   "id": "unexpected-making",
   "metadata": {},
   "outputs": [
    {
     "data": {
      "text/plain": [
       "int"
      ]
     },
     "execution_count": 183,
     "metadata": {},
     "output_type": "execute_result"
    }
   ],
   "source": [
    "int"
   ]
  },
  {
   "cell_type": "code",
   "execution_count": 184,
   "id": "sexual-senior",
   "metadata": {},
   "outputs": [
    {
     "data": {
      "text/plain": [
       "__main__.ScalarClass"
      ]
     },
     "execution_count": 184,
     "metadata": {},
     "output_type": "execute_result"
    }
   ],
   "source": [
    "ScalarClass"
   ]
  },
  {
   "cell_type": "markdown",
   "id": "fixed-people",
   "metadata": {},
   "source": [
    "When we type in int followed by a tab ↹ and shift ⇧ we get details about the input arguments to provide when using the init signature."
   ]
  },
  {
   "cell_type": "markdown",
   "id": "seventh-medicine",
   "metadata": {},
   "source": [
    "![int_init_signature](int_init_signature.png)"
   ]
  },
  {
   "cell_type": "markdown",
   "id": "private-germany",
   "metadata": {},
   "source": [
    "When we do the same for our custom class ScalarClass we get no details because we have not inherited and no defined an init signature. There has also been no docstring created."
   ]
  },
  {
   "cell_type": "markdown",
   "id": "romantic-hypothetical",
   "metadata": {},
   "source": [
    "![ScalarClass_init_signature](ScalarClass_init_signature.png)"
   ]
  },
  {
   "cell_type": "markdown",
   "id": "controversial-principal",
   "metadata": {},
   "source": [
    "### Inheritance"
   ]
  },
  {
   "cell_type": "markdown",
   "id": "allied-writer",
   "metadata": {},
   "source": [
    "Let's now instead redefine our ScalarClass and use int as the superclass."
   ]
  },
  {
   "cell_type": "code",
   "execution_count": 185,
   "id": "behind-medicare",
   "metadata": {},
   "outputs": [],
   "source": [
    "class ScalarClass(int):\n",
    "    pass"
   ]
  },
  {
   "cell_type": "markdown",
   "id": "psychological-momentum",
   "metadata": {},
   "source": [
    "Now when we type in ScalarClass followed by a tab ↹ and shift ⇧ we inherit the init signature (and all the methods and attributes) of the int class. The docstring therefore resembles that of the int subclass."
   ]
  },
  {
   "cell_type": "markdown",
   "id": "contrary-prior",
   "metadata": {},
   "source": [
    "![ScalarClass_int_inheritance_init_signature](ScalarClass_int_inheritance_init_signature.png)"
   ]
  },
  {
   "cell_type": "markdown",
   "id": "direct-witness",
   "metadata": {},
   "source": [
    "Creating an instance of a class is also known as instantiating a class. Let's instantiate an instance l of the ScalarClass."
   ]
  },
  {
   "cell_type": "code",
   "execution_count": 186,
   "id": "atmospheric-jacket",
   "metadata": {},
   "outputs": [],
   "source": [
    "l=ScalarClass(5)"
   ]
  },
  {
   "cell_type": "markdown",
   "id": "raising-arena",
   "metadata": {},
   "source": [
    "Because the init signature is inherited from the str class, we only need to provide the positional input argument self. If we now type in our instance name followed by a dot . and ↹ shows the list of attributes and methods. These are identical to those from the int superclass because we have inherited them from the int superclass."
   ]
  },
  {
   "cell_type": "markdown",
   "id": "professional-treaty",
   "metadata": {},
   "source": [
    "![ScalarClass_int_inheritance_attributes_methods](ScalarClass_int_inheritance_attributes_methods.png)"
   ]
  },
  {
   "cell_type": "markdown",
   "id": "elementary-monaco",
   "metadata": {},
   "source": [
    "Let's now provide our own custom docstring."
   ]
  },
  {
   "cell_type": "code",
   "execution_count": 187,
   "id": "collect-maryland",
   "metadata": {},
   "outputs": [],
   "source": [
    "class ScalarClass(int):\n",
    "    '''Inherited from int superclass\n",
    "    Convert a number or string to an integer, or return 0 if no arguments are given. \n",
    "    For floating point numbers this truncates towards 0'''\n",
    "    pass"
   ]
  },
  {
   "cell_type": "markdown",
   "id": "informed-bradley",
   "metadata": {},
   "source": [
    "Now when we type in ScalarClass followed by a tab ↹ and shift ⇧ we will see our own custom docstring opposed to the one inherited from the int class. i.e. if we provide a docstring, the custom class we will use will be provided. If no doc string is provided it will automatically look to see if there is one it can inherit from the superclass."
   ]
  },
  {
   "cell_type": "markdown",
   "id": "fluid-chance",
   "metadata": {},
   "source": [
    "![ScalarClass_int_inheritance_attributes_methods_customdocstr](ScalarClass_int_inheritance_attributes_methods_customdocstr.png)"
   ]
  },
  {
   "cell_type": "markdown",
   "id": "korean-redhead",
   "metadata": {},
   "source": [
    "### Class functions (methods)"
   ]
  },
  {
   "cell_type": "markdown",
   "id": "caring-alloy",
   "metadata": {},
   "source": [
    "Within the class we can define a custom function. \n",
    "This custom function will belong to the class and can be called from any instance of the class i.e. is a method of any instance of the class."
   ]
  },
  {
   "cell_type": "code",
   "execution_count": 188,
   "id": "driving-french",
   "metadata": {},
   "outputs": [],
   "source": [
    "class ScalarClass(int):\n",
    "    '''Inherited from int superclass\n",
    "    Convert a number or string to an integer, or return 0 if no arguments are given. \n",
    "    For floating point numbers this truncates towards 0'''\n",
    "    def printhello():\n",
    "        print('hello')"
   ]
  },
  {
   "cell_type": "markdown",
   "id": "future-enforcement",
   "metadata": {},
   "source": [
    "Since we have updated our class we need to reinstantiate our instance l (otherwise l is an instance of the old custom class)."
   ]
  },
  {
   "cell_type": "code",
   "execution_count": 189,
   "id": "technical-convertible",
   "metadata": {},
   "outputs": [],
   "source": [
    "l=ScalarClass(5)"
   ]
  },
  {
   "cell_type": "markdown",
   "id": "wooden-macedonia",
   "metadata": {},
   "source": [
    "Now when we type in our instance name followed by a dot . a tab ↹ we get the list of attributes and methods. Note our custom method printhello displays."
   ]
  },
  {
   "cell_type": "markdown",
   "id": "accomplished-clearing",
   "metadata": {},
   "source": [
    "![ScalarClass_int_inheritance_custom_method_printhello](ScalarClass_int_inheritance_custom_method_printhello.png)"
   ]
  },
  {
   "cell_type": "markdown",
   "id": "female-harris",
   "metadata": {},
   "source": [
    "We can call the custom method from the class itself, we see it works as expected."
   ]
  },
  {
   "cell_type": "code",
   "execution_count": 190,
   "id": "infectious-review",
   "metadata": {},
   "outputs": [
    {
     "name": "stdout",
     "output_type": "stream",
     "text": [
      "hello\n"
     ]
    }
   ],
   "source": [
    "ScalarClass.printhello()"
   ]
  },
  {
   "cell_type": "markdown",
   "id": "liberal-above",
   "metadata": {},
   "source": [
    "However when we attempt to call it as a method we get the following error."
   ]
  },
  {
   "cell_type": "markdown",
   "id": "afraid-incentive",
   "metadata": {},
   "source": [
    "![ScalarClass_int_inheritance_custom_method_printhello_positional_input_arguments_error](ScalarClass_int_inheritance_custom_method_printhello_positional_input_arguments_error.png)"
   ]
  },
  {
   "cell_type": "markdown",
   "id": "little-currency",
   "metadata": {},
   "source": [
    "When we type in the method followed by a tab ↹ and shift ⇧ we get details about the input arguments. As we can see there are none because we haven't provided any when we defined the function and there is no docstring."
   ]
  },
  {
   "cell_type": "markdown",
   "id": "raising-lodging",
   "metadata": {},
   "source": [
    "![ScalarClass_int_inheritance_custom_method_printhello_docstring](ScalarClass_int_inheritance_custom_method_printhello_docstring.png)"
   ]
  },
  {
   "cell_type": "markdown",
   "id": "starting-differential",
   "metadata": {},
   "source": [
    "The error is this function takes 0 positional input arguments but 1 was given. This means an input argument was provided at position 0 but there was no 0th positional input argument defined in the function. When a method is called from an instance, the instance its *self* is provided automatically as the 0th positional input argument. \n",
    "\n",
    "We therefore need to update the function printhello to use self as its 0th positional input argument."
   ]
  },
  {
   "cell_type": "code",
   "execution_count": 191,
   "id": "southeast-shock",
   "metadata": {},
   "outputs": [],
   "source": [
    "class ScalarClass(int):\n",
    "    '''Inherited from int superclass\n",
    "    Convert a number or string to an integer, or return 0 if no arguments are given. \n",
    "    For floating point numbers this truncates towards 0.'''\n",
    "    def printhello(self):\n",
    "        '''This will print hello.'''\n",
    "        print('hello')"
   ]
  },
  {
   "cell_type": "markdown",
   "id": "noticed-worry",
   "metadata": {},
   "source": [
    "Since we have updated our class we need to reinstantiate our instance l."
   ]
  },
  {
   "cell_type": "code",
   "execution_count": 192,
   "id": "northern-trinidad",
   "metadata": {},
   "outputs": [],
   "source": [
    "l=ScalarClass(5)"
   ]
  },
  {
   "cell_type": "markdown",
   "id": "announced-purple",
   "metadata": {},
   "source": [
    "When the function is called from the instance l, the instance l will be supplied as self. So the method now works as intended."
   ]
  },
  {
   "cell_type": "code",
   "execution_count": 193,
   "id": "going-strategy",
   "metadata": {},
   "outputs": [
    {
     "name": "stdout",
     "output_type": "stream",
     "text": [
      "hello\n"
     ]
    }
   ],
   "source": [
    "l.printhello()"
   ]
  },
  {
   "cell_type": "markdown",
   "id": "latter-update",
   "metadata": {},
   "source": [
    "Note that it will give an error when called directly from the class as no instance is provided."
   ]
  },
  {
   "cell_type": "markdown",
   "id": "rubber-mathematics",
   "metadata": {},
   "source": [
    "![ScalarClass_int_inheritance_custom_method_printhello_positional_input_arguments_error2](ScalarClass_int_inheritance_custom_method_printhello_positional_input_arguments_error2.png)"
   ]
  },
  {
   "cell_type": "markdown",
   "id": "proof-nature",
   "metadata": {},
   "source": [
    "It will work correctly when an instance is provided."
   ]
  },
  {
   "cell_type": "code",
   "execution_count": 194,
   "id": "stainless-neighbor",
   "metadata": {},
   "outputs": [
    {
     "name": "stdout",
     "output_type": "stream",
     "text": [
      "hello\n"
     ]
    }
   ],
   "source": [
    "ScalarClass.printhello(l)"
   ]
  },
  {
   "cell_type": "markdown",
   "id": "fewer-british",
   "metadata": {},
   "source": [
    "### Static Class functions"
   ]
  },
  {
   "cell_type": "markdown",
   "id": "unknown-beast",
   "metadata": {},
   "source": [
    "When we first created the class function printhello it worked without providing an instance. In some rare cases, we may want a static method that can perform this way when called directly from a class or alternatively directly from an instance. To do this we need to use the decorator @staticmethod and we can create a function without any input arguments."
   ]
  },
  {
   "cell_type": "code",
   "execution_count": 195,
   "id": "pediatric-works",
   "metadata": {},
   "outputs": [],
   "source": [
    "class ScalarClass(int):\n",
    "    '''Inherited from int superclass\n",
    "    Convert a number or string to an integer, or return 0 if no arguments are given. \n",
    "    For floating point numbers this truncates towards 0.'''\n",
    "    def printhello(self):\n",
    "        '''This will print hello.'''\n",
    "        print('hello')\n",
    "    @staticmethod\n",
    "    def statichello():\n",
    "        '''This is a static method that prints hello.'''\n",
    "        print('hello')"
   ]
  },
  {
   "cell_type": "markdown",
   "id": "illegal-portrait",
   "metadata": {},
   "source": [
    "Since we have updated our class we need to reinstantiate our instance l."
   ]
  },
  {
   "cell_type": "code",
   "execution_count": 196,
   "id": "mounted-somerset",
   "metadata": {},
   "outputs": [],
   "source": [
    "l=ScalarClass(5)"
   ]
  },
  {
   "cell_type": "markdown",
   "id": "anonymous-sucking",
   "metadata": {},
   "source": [
    "When the function is called from the instance l, because the staticmethod decorator is present, the instance l will not be supplied. This means there is no input argument input and none expected so the static method works as expected."
   ]
  },
  {
   "cell_type": "code",
   "execution_count": 197,
   "id": "contained-harvest",
   "metadata": {},
   "outputs": [
    {
     "name": "stdout",
     "output_type": "stream",
     "text": [
      "hello\n"
     ]
    }
   ],
   "source": [
    "l.statichello()"
   ]
  },
  {
   "cell_type": "markdown",
   "id": "funny-ensemble",
   "metadata": {},
   "source": [
    "The staticmethod can also be called directly from the class without specifying an instance."
   ]
  },
  {
   "cell_type": "code",
   "execution_count": 198,
   "id": "earned-retail",
   "metadata": {},
   "outputs": [
    {
     "name": "stdout",
     "output_type": "stream",
     "text": [
      "hello\n"
     ]
    }
   ],
   "source": [
    "ScalarClass.statichello()"
   ]
  },
  {
   "cell_type": "markdown",
   "id": "lucky-digit",
   "metadata": {},
   "source": [
    "### Instance variables (attributes)"
   ]
  },
  {
   "cell_type": "markdown",
   "id": "spare-seminar",
   "metadata": {},
   "source": [
    "Recall that an attribute is an object (or variable) that is referenced with respect to another object."
   ]
  },
  {
   "cell_type": "markdown",
   "id": "sporting-backing",
   "metadata": {},
   "source": [
    "We can create a method which creates an attribute, that is an object belonging to the instance self."
   ]
  },
  {
   "cell_type": "code",
   "execution_count": 199,
   "id": "premier-drink",
   "metadata": {},
   "outputs": [],
   "source": [
    "class ScalarClass(int):\n",
    "    '''Inherited from int superclass\n",
    "    Convert a number or string to an integer, or return 0 if no arguments are given. \n",
    "    For floating point numbers this truncates towards 0.'''\n",
    "    def printhello(self):\n",
    "        '''This will print hello.'''\n",
    "        print('hello')\n",
    "    def create_attributes(self):\n",
    "        self.inverse=1/self"
   ]
  },
  {
   "cell_type": "markdown",
   "id": "personal-budget",
   "metadata": {},
   "source": [
    "Since we have updated our class we need to reinstantiate our instance l."
   ]
  },
  {
   "cell_type": "code",
   "execution_count": 200,
   "id": "eleven-diana",
   "metadata": {},
   "outputs": [],
   "source": [
    "l=ScalarClass(5)"
   ]
  },
  {
   "cell_type": "markdown",
   "id": "periodic-kitty",
   "metadata": {},
   "source": [
    "When we type in our instance name followed by a dot . a tab ↹ we get the list of attributes and methods. Note our custom method create_attributes displays but no attribute inverse displays as it has not been created yet."
   ]
  },
  {
   "cell_type": "markdown",
   "id": "agreed-footage",
   "metadata": {},
   "source": [
    "![ScalarClass_int_inheritance_custom_method_createattributes](ScalarClass_int_inheritance_custom_method_createattributes.png)"
   ]
  },
  {
   "cell_type": "markdown",
   "id": "caroline-intelligence",
   "metadata": {},
   "source": [
    "When we call this, an attribute is created:"
   ]
  },
  {
   "cell_type": "code",
   "execution_count": 201,
   "id": "optical-plasma",
   "metadata": {},
   "outputs": [],
   "source": [
    "l.create_attributes()"
   ]
  },
  {
   "cell_type": "markdown",
   "id": "careful-masters",
   "metadata": {},
   "source": [
    "When we type in our instance name followed by a dot . a tab ↹ we get the list of attributes and methods. Our custom attribute inverse now displays."
   ]
  },
  {
   "cell_type": "markdown",
   "id": "champion-genetics",
   "metadata": {},
   "source": [
    "![ScalarClass_int_inheritance_custom_attribute_inverse](ScalarClass_int_inheritance_custom_attribute_inverse.png)"
   ]
  },
  {
   "cell_type": "markdown",
   "id": "maritime-marketing",
   "metadata": {},
   "source": [
    "We can call this to get the inverse of l which is 0.2 as expected."
   ]
  },
  {
   "cell_type": "code",
   "execution_count": 202,
   "id": "curious-diesel",
   "metadata": {},
   "outputs": [
    {
     "data": {
      "text/plain": [
       "0.2"
      ]
     },
     "execution_count": 202,
     "metadata": {},
     "output_type": "execute_result"
    }
   ],
   "source": [
    "l.inverse"
   ]
  },
  {
   "cell_type": "markdown",
   "id": "detected-attitude",
   "metadata": {},
   "source": [
    "### Class Variables"
   ]
  },
  {
   "cell_type": "markdown",
   "id": "documentary-source",
   "metadata": {},
   "source": [
    "It is possible to create a class variable, which is essentially an attribute that will have a constant value for every single instance of a class when the class is instantiated. "
   ]
  },
  {
   "cell_type": "code",
   "execution_count": 203,
   "id": "copyrighted-logic",
   "metadata": {},
   "outputs": [],
   "source": [
    "class ScalarClass(int):\n",
    "    '''Inherited from int superclass\n",
    "    Convert a number or string to an integer, or return 0 if no arguments are given. \n",
    "    For floating point numbers this truncates towards 0.'''\n",
    "    greeting='hello'\n",
    "    def printhello(self):\n",
    "        '''This will print hello.'''\n",
    "        print('hello')\n",
    "    def create_attributes(self):\n",
    "        self.inverse=1/self"
   ]
  },
  {
   "cell_type": "markdown",
   "id": "pleased-sudan",
   "metadata": {},
   "source": [
    "A class variable can be accessed without use of an instance of a class."
   ]
  },
  {
   "cell_type": "code",
   "execution_count": 204,
   "id": "incoming-investor",
   "metadata": {},
   "outputs": [
    {
     "data": {
      "text/plain": [
       "'hello'"
      ]
     },
     "execution_count": 204,
     "metadata": {},
     "output_type": "execute_result"
    }
   ],
   "source": [
    "ScalarClass.greeting"
   ]
  },
  {
   "cell_type": "markdown",
   "id": "corrected-walter",
   "metadata": {},
   "source": [
    "Since we have updated our class we need to reinstantiate our instance l."
   ]
  },
  {
   "cell_type": "code",
   "execution_count": 205,
   "id": "guilty-universe",
   "metadata": {},
   "outputs": [],
   "source": [
    "l=ScalarClass(5)"
   ]
  },
  {
   "cell_type": "markdown",
   "id": "harmful-porcelain",
   "metadata": {},
   "source": [
    "The class variable is now available as an attribute."
   ]
  },
  {
   "cell_type": "code",
   "execution_count": 206,
   "id": "hungarian-electric",
   "metadata": {},
   "outputs": [
    {
     "data": {
      "text/plain": [
       "'hello'"
      ]
     },
     "execution_count": 206,
     "metadata": {},
     "output_type": "execute_result"
    }
   ],
   "source": [
    "l.greeting"
   ]
  },
  {
   "cell_type": "markdown",
   "id": "boolean-apache",
   "metadata": {},
   "source": [
    "### Private Variables and Methods"
   ]
  },
  {
   "cell_type": "markdown",
   "id": "greater-mixture",
   "metadata": {},
   "source": [
    "If a method or attribute begins with an underscore it is usually designed for private use and is hidden."
   ]
  },
  {
   "cell_type": "code",
   "execution_count": 207,
   "id": "coupled-fantasy",
   "metadata": {},
   "outputs": [],
   "source": [
    "class ScalarClass(int):\n",
    "    '''Inherited from int superclass\n",
    "    Convert a number or string to an integer, or return 0 if no arguments are given. \n",
    "    For floating point numbers this truncates towards 0.'''\n",
    "    def _create_attributes(self):\n",
    "        self._inverse=1/self"
   ]
  },
  {
   "cell_type": "markdown",
   "id": "dedicated-communist",
   "metadata": {},
   "source": [
    "Typing in the ScalarClass dot . and tab ↹ does not display the private method \\_create\\_attributes as it is hidden."
   ]
  },
  {
   "cell_type": "markdown",
   "id": "civilian-arcade",
   "metadata": {},
   "source": [
    "![ScalarClass_hidden_methods](ScalarClass_hidden_methods.png)"
   ]
  },
  {
   "cell_type": "markdown",
   "id": "refined-peninsula",
   "metadata": {},
   "source": [
    "The function dir can be used to view all attributes and methods available to the class."
   ]
  },
  {
   "cell_type": "code",
   "execution_count": 208,
   "id": "persistent-means",
   "metadata": {
    "scrolled": true
   },
   "outputs": [
    {
     "data": {
      "text/plain": [
       "['__abs__',\n",
       " '__add__',\n",
       " '__and__',\n",
       " '__bool__',\n",
       " '__ceil__',\n",
       " '__class__',\n",
       " '__delattr__',\n",
       " '__dict__',\n",
       " '__dir__',\n",
       " '__divmod__',\n",
       " '__doc__',\n",
       " '__eq__',\n",
       " '__float__',\n",
       " '__floor__',\n",
       " '__floordiv__',\n",
       " '__format__',\n",
       " '__ge__',\n",
       " '__getattribute__',\n",
       " '__getnewargs__',\n",
       " '__gt__',\n",
       " '__hash__',\n",
       " '__index__',\n",
       " '__init__',\n",
       " '__init_subclass__',\n",
       " '__int__',\n",
       " '__invert__',\n",
       " '__le__',\n",
       " '__lshift__',\n",
       " '__lt__',\n",
       " '__mod__',\n",
       " '__module__',\n",
       " '__mul__',\n",
       " '__ne__',\n",
       " '__neg__',\n",
       " '__new__',\n",
       " '__or__',\n",
       " '__pos__',\n",
       " '__pow__',\n",
       " '__radd__',\n",
       " '__rand__',\n",
       " '__rdivmod__',\n",
       " '__reduce__',\n",
       " '__reduce_ex__',\n",
       " '__repr__',\n",
       " '__rfloordiv__',\n",
       " '__rlshift__',\n",
       " '__rmod__',\n",
       " '__rmul__',\n",
       " '__ror__',\n",
       " '__round__',\n",
       " '__rpow__',\n",
       " '__rrshift__',\n",
       " '__rshift__',\n",
       " '__rsub__',\n",
       " '__rtruediv__',\n",
       " '__rxor__',\n",
       " '__setattr__',\n",
       " '__sizeof__',\n",
       " '__str__',\n",
       " '__sub__',\n",
       " '__subclasshook__',\n",
       " '__truediv__',\n",
       " '__trunc__',\n",
       " '__xor__',\n",
       " '_create_attributes',\n",
       " 'as_integer_ratio',\n",
       " 'bit_length',\n",
       " 'conjugate',\n",
       " 'denominator',\n",
       " 'from_bytes',\n",
       " 'imag',\n",
       " 'numerator',\n",
       " 'real',\n",
       " 'to_bytes']"
      ]
     },
     "execution_count": 208,
     "metadata": {},
     "output_type": "execute_result"
    }
   ],
   "source": [
    "dir(ScalarClass)"
   ]
  },
  {
   "cell_type": "markdown",
   "id": "elect-prediction",
   "metadata": {},
   "source": [
    "The list contains a number of **d**ouble **under**score (dunder) methods that begin and end with a double underscore. We will have a look at their meaning in a moment. Under these our custom hidden method \\_create\\_attributes now displays and then the remaining list of attributes and methods displays. "
   ]
  },
  {
   "cell_type": "markdown",
   "id": "sublime-ivory",
   "metadata": {},
   "source": [
    "In many cases we will want a safe way to create an attribute and read an attribute. Instead of creating an attribute directly we may create a hidden attribute alongside an associated get and set method."
   ]
  },
  {
   "cell_type": "code",
   "execution_count": 209,
   "id": "given-battle",
   "metadata": {},
   "outputs": [],
   "source": [
    "class ScalarClass(int):\n",
    "    '''Inherited from int superclass\n",
    "    Convert a number or string to an integer, or return 0 if no arguments are given. \n",
    "    For floating point numbers this truncates towards 0.'''\n",
    "    def set_inverse(self):\n",
    "        '''Sets the inverse attribute of self.'''\n",
    "        self._inverse=1/self\n",
    "    def get_inverse(self):\n",
    "        '''Gets the inverse attribute of self. If the attribute is set.'''\n",
    "        try:\n",
    "            return self._inverse\n",
    "        except AttributeError:\n",
    "            print('inverse is not yet assigned, use set_inverse first.')"
   ]
  },
  {
   "cell_type": "markdown",
   "id": "assumed-lincoln",
   "metadata": {},
   "source": [
    "Since we have updated our class we need to reinstantiate our instance l."
   ]
  },
  {
   "cell_type": "code",
   "execution_count": 210,
   "id": "utility-missile",
   "metadata": {},
   "outputs": [],
   "source": [
    "l=ScalarClass(5)"
   ]
  },
  {
   "cell_type": "markdown",
   "id": "selected-pixel",
   "metadata": {},
   "source": [
    "When we attempt to use the method get_inverse we are informed that the inverse is not yet assigned and instructed to use set_inverse first."
   ]
  },
  {
   "cell_type": "code",
   "execution_count": 211,
   "id": "infectious-appendix",
   "metadata": {},
   "outputs": [
    {
     "name": "stdout",
     "output_type": "stream",
     "text": [
      "inverse is not yet assigned, use set_inverse first.\n"
     ]
    }
   ],
   "source": [
    "l.get_inverse()"
   ]
  },
  {
   "cell_type": "markdown",
   "id": "white-white",
   "metadata": {},
   "source": [
    "We can use set_inverse which works as intended and assigns the attribute \\_inverse."
   ]
  },
  {
   "cell_type": "code",
   "execution_count": 212,
   "id": "duplicate-persian",
   "metadata": {},
   "outputs": [],
   "source": [
    "l.set_inverse()"
   ]
  },
  {
   "cell_type": "markdown",
   "id": "corporate-monthly",
   "metadata": {},
   "source": [
    "Now that the \\_inverse attribute is assigned the attribute get_inverse will work."
   ]
  },
  {
   "cell_type": "code",
   "execution_count": 213,
   "id": "painful-marker",
   "metadata": {},
   "outputs": [
    {
     "data": {
      "text/plain": [
       "0.2"
      ]
     },
     "execution_count": 213,
     "metadata": {},
     "output_type": "execute_result"
    }
   ],
   "source": [
    "l.get_inverse()"
   ]
  },
  {
   "cell_type": "markdown",
   "id": "convinced-perception",
   "metadata": {},
   "source": [
    "### Dunder Methods"
   ]
  },
  {
   "cell_type": "markdown",
   "id": "beginning-semester",
   "metadata": {},
   "source": [
    "We have seen that the (+ add) operator acts differently when used with instances of the integer class and instances of the str class, performing addition in one and concatenation in the other."
   ]
  },
  {
   "cell_type": "code",
   "execution_count": 214,
   "id": "elder-participant",
   "metadata": {},
   "outputs": [],
   "source": [
    "a=1\n",
    "b=2"
   ]
  },
  {
   "cell_type": "code",
   "execution_count": 215,
   "id": "bottom-windows",
   "metadata": {},
   "outputs": [
    {
     "data": {
      "text/plain": [
       "3"
      ]
     },
     "execution_count": 215,
     "metadata": {},
     "output_type": "execute_result"
    }
   ],
   "source": [
    "a+b"
   ]
  },
  {
   "cell_type": "code",
   "execution_count": 216,
   "id": "nutritional-illinois",
   "metadata": {},
   "outputs": [],
   "source": [
    "c='hello'\n",
    "d='world'"
   ]
  },
  {
   "cell_type": "code",
   "execution_count": 217,
   "id": "interstate-square",
   "metadata": {},
   "outputs": [
    {
     "data": {
      "text/plain": [
       "'helloworld'"
      ]
     },
     "execution_count": 217,
     "metadata": {},
     "output_type": "execute_result"
    }
   ],
   "source": [
    "c+d"
   ]
  },
  {
   "cell_type": "markdown",
   "id": "completed-sperm",
   "metadata": {},
   "source": [
    "Behind the scenes the behaviour of the (+ add) operator is defined by the special method \\_\\_add\\_\\_. This is also known as a dunder method as the name of each method begins and ends with a **d**ouble **under**score."
   ]
  },
  {
   "cell_type": "markdown",
   "id": "neutral-boston",
   "metadata": {},
   "source": [
    "As the dunder methods start with an underscore they are hidden from the list of attributes and methods show when one types a class name or object name followed by a dot . and tab ↹. The normal convention is to use the operator associated with the dunder method instead. For example in the case of the dunder method \\_\\_add\\_\\_ using + instead."
   ]
  },
  {
   "cell_type": "markdown",
   "id": "featured-titanium",
   "metadata": {},
   "source": [
    "In order to understand the dunder methods in more detail we can explicitly use the dunder methods to perform the addition and concatenation above."
   ]
  },
  {
   "cell_type": "code",
   "execution_count": 218,
   "id": "accomplished-westminster",
   "metadata": {},
   "outputs": [
    {
     "data": {
      "text/plain": [
       "3"
      ]
     },
     "execution_count": 218,
     "metadata": {},
     "output_type": "execute_result"
    }
   ],
   "source": [
    "a.__add__(b)"
   ]
  },
  {
   "cell_type": "code",
   "execution_count": 219,
   "id": "demanding-tribe",
   "metadata": {},
   "outputs": [
    {
     "data": {
      "text/plain": [
       "'helloworld'"
      ]
     },
     "execution_count": 219,
     "metadata": {},
     "output_type": "execute_result"
    }
   ],
   "source": [
    "c.__add__(d)"
   ]
  },
  {
   "cell_type": "markdown",
   "id": "religious-prophet",
   "metadata": {},
   "source": [
    "In the method above a is the object (self) that the method is being called from and b is another instance of the class (other)."
   ]
  },
  {
   "cell_type": "markdown",
   "id": "absolute-bulgarian",
   "metadata": {},
   "source": [
    "The method can also be called directly from the class and both self and other must be specified as the oth and 1st positional input arguments respectively."
   ]
  },
  {
   "cell_type": "code",
   "execution_count": 220,
   "id": "trained-morning",
   "metadata": {},
   "outputs": [
    {
     "data": {
      "text/plain": [
       "3"
      ]
     },
     "execution_count": 220,
     "metadata": {},
     "output_type": "execute_result"
    }
   ],
   "source": [
    "int.__add__(a,b)"
   ]
  },
  {
   "cell_type": "code",
   "execution_count": 221,
   "id": "democratic-applicant",
   "metadata": {},
   "outputs": [
    {
     "data": {
      "text/plain": [
       "'helloworld'"
      ]
     },
     "execution_count": 221,
     "metadata": {},
     "output_type": "execute_result"
    }
   ],
   "source": [
    "str.__add__(c,d)"
   ]
  },
  {
   "cell_type": "markdown",
   "id": "waiting-cross",
   "metadata": {},
   "source": [
    "Note the difference in the two behaviours above. When the dunder method is called from the object. The objects name is inferred to be self and as a result we only need to use a single positional input argument within the parenthesis. On the other hand when the dunder method is called from the class we need to specify the instance self and the instance other."
   ]
  },
  {
   "cell_type": "markdown",
   "id": "valuable-spoke",
   "metadata": {},
   "source": [
    "Let's return to our custom class."
   ]
  },
  {
   "cell_type": "code",
   "execution_count": 222,
   "id": "hollow-assessment",
   "metadata": {},
   "outputs": [],
   "source": [
    "class ScalarClass(int):\n",
    "    '''Inherited from int superclass\n",
    "    Convert a number or string to an integer, or return 0 if no arguments are given. \n",
    "    For floating point numbers this truncates towards 0.'''\n",
    "    def set_inverse(self):\n",
    "        '''Sets the inverse attribute of self.'''\n",
    "        self._inverse=1/self\n",
    "    def get_inverse(self):\n",
    "        '''Gets the inverse attribute of self. If the attribute is set.'''\n",
    "        try:\n",
    "            return self._inverse\n",
    "        except AttributeError:\n",
    "            print('inverse is not yet assigned, use set_inverse first.')"
   ]
  },
  {
   "cell_type": "markdown",
   "id": "global-civilian",
   "metadata": {},
   "source": [
    "Now let's instantiate two instance l and m."
   ]
  },
  {
   "cell_type": "code",
   "execution_count": 223,
   "id": "streaming-sixth",
   "metadata": {},
   "outputs": [],
   "source": [
    "l=ScalarClass(5)\n",
    "m=ScalarClass(3)"
   ]
  },
  {
   "cell_type": "markdown",
   "id": "infrared-smart",
   "metadata": {},
   "source": [
    "Because the CustomClass inherits the dunder method \\_\\_add\\_\\_ it will add the two numbers together when we use +."
   ]
  },
  {
   "cell_type": "code",
   "execution_count": 224,
   "id": "mysterious-courtesy",
   "metadata": {},
   "outputs": [
    {
     "data": {
      "text/plain": [
       "8"
      ]
     },
     "execution_count": 224,
     "metadata": {},
     "output_type": "execute_result"
    }
   ],
   "source": [
    "l+m"
   ]
  },
  {
   "cell_type": "markdown",
   "id": "interracial-cooking",
   "metadata": {},
   "source": [
    "If we instead define the dunder method \\_\\_add\\_\\_ it be used instead of the inherited version. We need to use the two positional input arguments the instance self (where the method is being called from) and the instance other (the other instance being added). We can convert both the int instances to str instances. Because both are now of the type str, str concatenation (using the str special method \\_\\_add\\_\\_) will occur instead of int addition. The str self and other will therefore be concatenated. We can then convert the str back into an int and then return this concatenated int as the result."
   ]
  },
  {
   "cell_type": "code",
   "execution_count": 225,
   "id": "loved-might",
   "metadata": {},
   "outputs": [],
   "source": [
    "class ScalarClass(int):\n",
    "    '''Inherited from int superclass\n",
    "    Convert a number or string to an integer, or return 0 if no arguments are given. \n",
    "    For floating point numbers this truncates towards 0.'''\n",
    "    greeting='hello'\n",
    "    def set_inverse(self):\n",
    "        '''Sets the inverse attribute of self.'''\n",
    "        self._inverse=1/self\n",
    "    def get_inverse(self):\n",
    "        '''Gets the inverse attribute of self. If the attribute is set.'''\n",
    "        try:\n",
    "            return self._inverse\n",
    "        except AttributeError:\n",
    "            print('inverse is not yet assigned, use set_inverse first.')\n",
    "    def __add__(self,other):\n",
    "        x=str(self)+str(other)\n",
    "        x=int(x)\n",
    "        return(x)"
   ]
  },
  {
   "cell_type": "markdown",
   "id": "isolated-mount",
   "metadata": {},
   "source": [
    "Now let's reinstantiate the two instances l and m."
   ]
  },
  {
   "cell_type": "code",
   "execution_count": 226,
   "id": "photographic-tract",
   "metadata": {},
   "outputs": [],
   "source": [
    "l=ScalarClass(5)\n",
    "m=ScalarClass(3)"
   ]
  },
  {
   "cell_type": "markdown",
   "id": "wired-serum",
   "metadata": {},
   "source": [
    "Now addition gives the int value 53 that is a type int."
   ]
  },
  {
   "cell_type": "code",
   "execution_count": 227,
   "id": "sublime-terrorist",
   "metadata": {},
   "outputs": [
    {
     "data": {
      "text/plain": [
       "53"
      ]
     },
     "execution_count": 227,
     "metadata": {},
     "output_type": "execute_result"
    }
   ],
   "source": [
    "l+m"
   ]
  },
  {
   "cell_type": "code",
   "execution_count": 228,
   "id": "becoming-presentation",
   "metadata": {},
   "outputs": [
    {
     "data": {
      "text/plain": [
       "int"
      ]
     },
     "execution_count": 228,
     "metadata": {},
     "output_type": "execute_result"
    }
   ],
   "source": [
    "type(5+3)"
   ]
  },
  {
   "cell_type": "markdown",
   "id": "english-voice",
   "metadata": {},
   "source": [
    "Instead of using int as the superclass, let's use object. We will just type in pass giving a child class more or less identical to the object superclass."
   ]
  },
  {
   "cell_type": "code",
   "execution_count": 229,
   "id": "czech-equivalent",
   "metadata": {},
   "outputs": [],
   "source": [
    "class Scalar(object):\n",
    "    '''Custom Scalar class'''\n",
    "    pass"
   ]
  },
  {
   "cell_type": "markdown",
   "id": "accomplished-tractor",
   "metadata": {},
   "source": [
    "If we type in a dot . and a tab ↹ we will see nothing. However when we use the function dir we see all the dunder methods inherited from the object class."
   ]
  },
  {
   "cell_type": "code",
   "execution_count": 230,
   "id": "sublime-civilization",
   "metadata": {},
   "outputs": [
    {
     "data": {
      "text/plain": [
       "['__class__',\n",
       " '__delattr__',\n",
       " '__dict__',\n",
       " '__dir__',\n",
       " '__doc__',\n",
       " '__eq__',\n",
       " '__format__',\n",
       " '__ge__',\n",
       " '__getattribute__',\n",
       " '__gt__',\n",
       " '__hash__',\n",
       " '__init__',\n",
       " '__init_subclass__',\n",
       " '__le__',\n",
       " '__lt__',\n",
       " '__module__',\n",
       " '__ne__',\n",
       " '__new__',\n",
       " '__reduce__',\n",
       " '__reduce_ex__',\n",
       " '__repr__',\n",
       " '__setattr__',\n",
       " '__sizeof__',\n",
       " '__str__',\n",
       " '__subclasshook__',\n",
       " '__weakref__']"
      ]
     },
     "execution_count": 230,
     "metadata": {},
     "output_type": "execute_result"
    }
   ],
   "source": [
    "dir(Scalar)"
   ]
  },
  {
   "cell_type": "markdown",
   "id": "creative-explanation",
   "metadata": {},
   "source": [
    "The main dunder methods of main interest are."
   ]
  },
  {
   "cell_type": "markdown",
   "id": "domestic-crazy",
   "metadata": {},
   "source": [
    "|Dunder Method|Function or Operator|\n",
    "|---|---|\n",
    "|\\_\\_init\\_\\_|init statement|\n",
    "|\\_\\_str\\_\\_|print|\n",
    "|\\_\\_repr\\_\\_|cell output|\n",
    "|\\_\\_len\\_\\_|len|\n",
    "|\\_\\_add\\_\\_|+|\n",
    "|\\_\\_sub\\_\\_|-|\n",
    "|\\_\\_mul\\_\\_|\\*|\n",
    "|\\_\\_pow\\_\\_|\\*\\*|\n",
    "|\\_\\_truediv\\_\\_|/|\n",
    "|\\_\\_matmul\\_\\_|@|\n",
    "|\\_\\_floordiv\\_\\_|//|\n",
    "|\\_\\_mod\\_\\_|%|\n",
    "|\\_\\_eq\\_\\_|==|\n",
    "|\\_\\_ne\\_\\_|!=|\n",
    "|\\_\\_lt\\_\\_|<|\n",
    "|\\_\\_le\\_\\_|<=|\n",
    "|\\_\\_gt\\_\\_|>|\n",
    "|\\_\\_ge\\_\\_|>=|\n",
    "|\\_\\_and\\_\\_|&|\n",
    "|\\_\\_or\\_\\_|\\||\n",
    "|\\_\\_xor\\_\\_|^|\n",
    "|\\_\\_lshift\\_\\_|<<|\n",
    "|\\_\\_rshift\\_\\_|>>|\n",
    "|\\_\\_iadd\\_\\_|+=|\n",
    "|\\_\\_isub\\_\\_|-=|\n",
    "|\\_\\_imul\\_\\_|\\*=|\n",
    "|\\_\\_ipow\\_\\_|\\*\\*=|\n",
    "|\\_\\_idiv\\_\\_|/=|\n",
    "|\\_\\_ifloordiv\\_\\_|//=|\n",
    "|\\_\\_imod\\_\\_|%=|\n",
    "|\\_\\_iand\\_\\_|&=|\n",
    "|\\_\\_ior\\_\\_|\\=||\n",
    "|\\_\\_ixor\\_\\_|^=|\n",
    "|\\_\\_ilshift\\_\\_|<<=|\n",
    "|\\_\\_irshift\\_\\_|>>=|\n"
   ]
  },
  {
   "cell_type": "markdown",
   "id": "lesbian-painting",
   "metadata": {},
   "source": [
    "### \\_\\_init\\_\\_"
   ]
  },
  {
   "cell_type": "markdown",
   "id": "alternate-white",
   "metadata": {},
   "source": [
    "The dunder method \\_\\_init\\_\\_ is ran when an instance is instantiated. It can be used to create attributes or run methods as the instance is instantiated."
   ]
  },
  {
   "cell_type": "code",
   "execution_count": 231,
   "id": "rational-resource",
   "metadata": {},
   "outputs": [],
   "source": [
    "class Scalar(object):\n",
    "    '''Custom Scalar class'''\n",
    "    pass"
   ]
  },
  {
   "cell_type": "markdown",
   "id": "promising-complexity",
   "metadata": {},
   "source": [
    "In the example above the dunder method \\_\\_init\\_\\_ is inherited from the object class. When we type in the class name followed by a tab ↹ and shift ⇧ we get details about what input arguments to provide in the init signature. The init signature displays no input arguments."
   ]
  },
  {
   "cell_type": "markdown",
   "id": "further-thomson",
   "metadata": {},
   "source": [
    "![Scalar_inherited_init_signature](Scalar_inherited_init_signature.png)"
   ]
  },
  {
   "cell_type": "markdown",
   "id": "flexible-musician",
   "metadata": {},
   "source": [
    "When we call the class, the output displays the following in the cell informing us that the Scalar class is in the main workspace."
   ]
  },
  {
   "cell_type": "code",
   "execution_count": 232,
   "id": "express-invasion",
   "metadata": {},
   "outputs": [
    {
     "data": {
      "text/plain": [
       "<__main__.Scalar at 0x23c58bb6b80>"
      ]
     },
     "execution_count": 232,
     "metadata": {},
     "output_type": "execute_result"
    }
   ],
   "source": [
    "Scalar()"
   ]
  },
  {
   "cell_type": "markdown",
   "id": "smaller-camping",
   "metadata": {},
   "source": [
    "When we can instantiate the class to the object name l. The object name l will become self as the Scalar class is instantiated."
   ]
  },
  {
   "cell_type": "code",
   "execution_count": 233,
   "id": "occasional-conditions",
   "metadata": {},
   "outputs": [],
   "source": [
    "l=Scalar()"
   ]
  },
  {
   "cell_type": "markdown",
   "id": "desperate-coach",
   "metadata": {},
   "source": [
    "When we try to print the instance. We are informed l is a Scalar object i.e. instance of the Scalar class within the main workspace."
   ]
  },
  {
   "cell_type": "code",
   "execution_count": 234,
   "id": "departmental-feeling",
   "metadata": {},
   "outputs": [
    {
     "name": "stdout",
     "output_type": "stream",
     "text": [
      "<__main__.Scalar object at 0x0000023C58BB6FA0>\n"
     ]
    }
   ],
   "source": [
    "print(l)"
   ]
  },
  {
   "cell_type": "markdown",
   "id": "exposed-amber",
   "metadata": {},
   "source": [
    "Displaying the output from within a cell shows the same behaviour shown when no instance name was specified (as expected)."
   ]
  },
  {
   "cell_type": "code",
   "execution_count": 235,
   "id": "stupid-israel",
   "metadata": {},
   "outputs": [
    {
     "data": {
      "text/plain": [
       "<__main__.Scalar at 0x23c58bb6fa0>"
      ]
     },
     "execution_count": 235,
     "metadata": {},
     "output_type": "execute_result"
    }
   ],
   "source": [
    "l"
   ]
  },
  {
   "cell_type": "markdown",
   "id": "quick-water",
   "metadata": {},
   "source": [
    "Instead of inheriting the \\_\\_init\\_\\_ dunder method from the object superclass we can create our own one. We will create an identical one which exhibits identical behaviour to the one inherited by the object superclass. Note we need to provide self as the 0th positional input argument to the dunder method so it can assign any specified object to self as the instance gets instantiated."
   ]
  },
  {
   "cell_type": "code",
   "execution_count": 236,
   "id": "direct-eagle",
   "metadata": {},
   "outputs": [],
   "source": [
    "class Scalar(object):\n",
    "    '''Custom Scalar class'''\n",
    "    def __init__(self):\n",
    "        pass"
   ]
  },
  {
   "cell_type": "markdown",
   "id": "hungarian-purchase",
   "metadata": {},
   "source": [
    "We get the same behaviour as above when we call the class and instantiate an object as expected."
   ]
  },
  {
   "cell_type": "code",
   "execution_count": 237,
   "id": "professional-defendant",
   "metadata": {},
   "outputs": [
    {
     "data": {
      "text/plain": [
       "<__main__.Scalar at 0x23c58b1faf0>"
      ]
     },
     "execution_count": 237,
     "metadata": {},
     "output_type": "execute_result"
    }
   ],
   "source": [
    "Scalar()"
   ]
  },
  {
   "cell_type": "code",
   "execution_count": 238,
   "id": "advance-commissioner",
   "metadata": {},
   "outputs": [],
   "source": [
    "l=Scalar()"
   ]
  },
  {
   "cell_type": "code",
   "execution_count": 239,
   "id": "invisible-initial",
   "metadata": {},
   "outputs": [
    {
     "name": "stdout",
     "output_type": "stream",
     "text": [
      "<__main__.Scalar object at 0x0000023C58B1FEB0>\n"
     ]
    }
   ],
   "source": [
    "print(l)"
   ]
  },
  {
   "cell_type": "markdown",
   "id": "swedish-football",
   "metadata": {},
   "source": [
    "In this example scalar class we can have the user provide a positional input argument value which is designed to be an int or float and will become the value used for the scalar when the class is instantiated.\n",
    "\n",
    "Within the \\_\\_init\\_\\_ dunder method we can assign the value the user input to a hidden attribute \\_value."
   ]
  },
  {
   "cell_type": "code",
   "execution_count": 240,
   "id": "several-island",
   "metadata": {},
   "outputs": [],
   "source": [
    "class Scalar(object):\n",
    "    '''Custom Scalar class'''\n",
    "    def __init__(self,value):\n",
    "        '''value should be an int or float'''\n",
    "        self._value=value"
   ]
  },
  {
   "cell_type": "markdown",
   "id": "interior-microwave",
   "metadata": {},
   "source": [
    "When we type in the class followed by a tab ↹ and shift ⇧ we get an updated Init signature instructing us to supply a positional input argument value. self is not asked for and will be infered from the object name if assigned."
   ]
  },
  {
   "cell_type": "markdown",
   "id": "compliant-bridges",
   "metadata": {},
   "source": [
    "![Scalar_init_signature](Scalar_init_signature.png)"
   ]
  },
  {
   "cell_type": "markdown",
   "id": "molecular-suggestion",
   "metadata": {},
   "source": [
    "When we can instantiate the class to the object name l. The object name l will become self as the Scalar class is instantiated."
   ]
  },
  {
   "cell_type": "code",
   "execution_count": 241,
   "id": "surrounded-activation",
   "metadata": {},
   "outputs": [],
   "source": [
    "l=Scalar(5)"
   ]
  },
  {
   "cell_type": "code",
   "execution_count": 242,
   "id": "canadian-dream",
   "metadata": {},
   "outputs": [
    {
     "data": {
      "text/plain": [
       "<__main__.Scalar at 0x23c57acaf70>"
      ]
     },
     "execution_count": 242,
     "metadata": {},
     "output_type": "execute_result"
    }
   ],
   "source": [
    "l"
   ]
  },
  {
   "cell_type": "code",
   "execution_count": 243,
   "id": "signal-biography",
   "metadata": {},
   "outputs": [
    {
     "name": "stdout",
     "output_type": "stream",
     "text": [
      "<__main__.Scalar object at 0x0000023C57ACAF70>\n"
     ]
    }
   ],
   "source": [
    "print(l)"
   ]
  },
  {
   "cell_type": "markdown",
   "id": "removable-civilian",
   "metadata": {},
   "source": [
    "We can update value to be a keyword input argument with a default value of 0."
   ]
  },
  {
   "cell_type": "code",
   "execution_count": 244,
   "id": "outstanding-charter",
   "metadata": {},
   "outputs": [],
   "source": [
    "class Scalar(object):\n",
    "    '''Custom Scalar class'''\n",
    "    def __init__(self,value=0):\n",
    "        '''value should be an int or float'''\n",
    "        self._value=value"
   ]
  },
  {
   "cell_type": "markdown",
   "id": "operating-nitrogen",
   "metadata": {},
   "source": [
    "This is reflected when we type in the class name followed by a tab ↹ and shift ⇧."
   ]
  },
  {
   "cell_type": "markdown",
   "id": "serious-wiring",
   "metadata": {},
   "source": [
    "![Scalar_init_signature2](Scalar_init_signature2.png)"
   ]
  },
  {
   "cell_type": "code",
   "execution_count": 245,
   "id": "proof-boston",
   "metadata": {},
   "outputs": [],
   "source": [
    "l=Scalar(value=5)\n",
    "m=Scalar()"
   ]
  },
  {
   "cell_type": "markdown",
   "id": "tropical-economy",
   "metadata": {},
   "source": [
    "Let's also add a method get_value method to the custom class. There is no need to create a corresponding set_value method as it is handled in the \\_\\_init\\_\\_ dunder method."
   ]
  },
  {
   "cell_type": "code",
   "execution_count": 246,
   "id": "comparative-honor",
   "metadata": {},
   "outputs": [],
   "source": [
    "class Scalar(object):\n",
    "    '''Custom Scalar class'''\n",
    "    def __init__(self,value=0):\n",
    "        '''value should be an int or float'''\n",
    "        self._value=value\n",
    "    def get_value(self):\n",
    "        '''returns the value of the scalar'''\n",
    "        return(self._value)"
   ]
  },
  {
   "cell_type": "code",
   "execution_count": 247,
   "id": "crucial-edition",
   "metadata": {},
   "outputs": [],
   "source": [
    "l=Scalar(value=5)\n",
    "m=Scalar()"
   ]
  },
  {
   "cell_type": "code",
   "execution_count": 248,
   "id": "bound-rider",
   "metadata": {},
   "outputs": [
    {
     "data": {
      "text/plain": [
       "5"
      ]
     },
     "execution_count": 248,
     "metadata": {},
     "output_type": "execute_result"
    }
   ],
   "source": [
    "l.get_value()"
   ]
  },
  {
   "cell_type": "code",
   "execution_count": 249,
   "id": "macro-japanese",
   "metadata": {},
   "outputs": [
    {
     "data": {
      "text/plain": [
       "0"
      ]
     },
     "execution_count": 249,
     "metadata": {},
     "output_type": "execute_result"
    }
   ],
   "source": [
    "m.get_value()"
   ]
  },
  {
   "cell_type": "markdown",
   "id": "varied-exchange",
   "metadata": {},
   "source": [
    "As we can see get the values that were set when the instances were instantiated as expected."
   ]
  },
  {
   "cell_type": "markdown",
   "id": "undefined-sector",
   "metadata": {},
   "source": [
    "We can update the Scalar class to include the methods set_inverse and get_inverse. If we want to call the set_inverse during instantiation to create an inverse attribute the \\_\\_init\\_\\_ dunder method can be used to call it."
   ]
  },
  {
   "cell_type": "code",
   "execution_count": 250,
   "id": "irish-armstrong",
   "metadata": {},
   "outputs": [],
   "source": [
    "class Scalar(object):\n",
    "    '''Custom Scalar class'''\n",
    "    def __init__(self,value=0):\n",
    "        '''value should be an int or float'''\n",
    "        self._value=value\n",
    "        self.set_inverse(value)\n",
    "    def get_value(self):\n",
    "        '''returns the value of the scalar'''\n",
    "        return(self._value)\n",
    "    def set_inverse(self,value):\n",
    "        '''sets the value of the scalar'''\n",
    "        self._inverse=1/value\n",
    "    def get_inverse(self):\n",
    "        '''returns the value of the inverse of the scalar'''\n",
    "        return(self._inverse)"
   ]
  },
  {
   "cell_type": "markdown",
   "id": "equipped-float",
   "metadata": {},
   "source": [
    "The code works as expected when we assign the value to be 5."
   ]
  },
  {
   "cell_type": "code",
   "execution_count": 251,
   "id": "special-angle",
   "metadata": {},
   "outputs": [],
   "source": [
    "l=Scalar(value=5)"
   ]
  },
  {
   "cell_type": "code",
   "execution_count": 252,
   "id": "expensive-niagara",
   "metadata": {},
   "outputs": [
    {
     "data": {
      "text/plain": [
       "5"
      ]
     },
     "execution_count": 252,
     "metadata": {},
     "output_type": "execute_result"
    }
   ],
   "source": [
    "l.get_value()"
   ]
  },
  {
   "cell_type": "code",
   "execution_count": 253,
   "id": "express-affect",
   "metadata": {},
   "outputs": [
    {
     "data": {
      "text/plain": [
       "0.2"
      ]
     },
     "execution_count": 253,
     "metadata": {},
     "output_type": "execute_result"
    }
   ],
   "source": [
    "l.get_inverse()"
   ]
  },
  {
   "cell_type": "markdown",
   "id": "optimum-status",
   "metadata": {},
   "source": [
    "However when we call it with the default value (which is 0) we get a ZeroDivisionError."
   ]
  },
  {
   "cell_type": "markdown",
   "id": "incomplete-expense",
   "metadata": {},
   "source": [
    "```m=Scalar()```"
   ]
  },
  {
   "cell_type": "markdown",
   "id": "designing-forum",
   "metadata": {},
   "source": [
    "![Scalar_ZeroDivisionError](Scalar_ZeroDivisionError.png)"
   ]
  },
  {
   "cell_type": "markdown",
   "id": "iraqi-cambridge",
   "metadata": {},
   "source": [
    "We also get a TypeError if we use a str opposed to an int or float. Note that the TypeError displays when the set_inverse method during instantiation."
   ]
  },
  {
   "cell_type": "markdown",
   "id": "departmental-telling",
   "metadata": {},
   "source": [
    "```n=Scalar(value='a')```"
   ]
  },
  {
   "cell_type": "markdown",
   "id": "under-stack",
   "metadata": {},
   "source": [
    "![Scalar_TypeError1](Scalar_TypeError1.png)"
   ]
  },
  {
   "cell_type": "markdown",
   "id": "higher-television",
   "metadata": {},
   "source": [
    "When using the \\_\\_init\\_\\_ dunder method it is quite common to assert the datatype and use try and except branching so a user cannot instantiate the class with the wrong datatype. In this case we want to make a check first that the datatype is correct. If not we want to inform the user that the value must be an int or float. When we do have the correct datatype we also want to try setting the inverse however we want to handle the case where there is a ZeroDivisionError seperately by assigning a str inf. For this reason for have a nested try and except statement. "
   ]
  },
  {
   "cell_type": "code",
   "execution_count": 254,
   "id": "micro-softball",
   "metadata": {},
   "outputs": [],
   "source": [
    "class Scalar(object):\n",
    "    '''Custom Scalar class'''\n",
    "    def __init__(self,value=0):\n",
    "        '''value should be an int or float'''\n",
    "        try:\n",
    "            assert (type(value)==int or type(value)==float), 'value must be an int or float'\n",
    "            self._value=value\n",
    "            try:\n",
    "                self.set_inverse(value)\n",
    "            except ZeroDivisionError:\n",
    "                self.set_inverse_inf(value)    \n",
    "        except AssertionError:\n",
    "            print('value must be an int or float')\n",
    "    def get_value(self):\n",
    "        '''returns the value of the scalar'''\n",
    "        return(self._value)\n",
    "    def set_inverse(self,value):\n",
    "        '''sets the inverse value of the scalar'''\n",
    "        self._inverse=1/value\n",
    "    def set_inverse_inf(self,value):\n",
    "        '''sets the inverse value when the scalar is equal to 0'''\n",
    "        self._inverse='inf'\n",
    "    def get_inverse(self):\n",
    "        '''returns the value of the inverse of the scalar'''\n",
    "        return(self._inverse)"
   ]
  },
  {
   "cell_type": "code",
   "execution_count": 255,
   "id": "domestic-amsterdam",
   "metadata": {},
   "outputs": [],
   "source": [
    "l=Scalar(value=5)"
   ]
  },
  {
   "cell_type": "code",
   "execution_count": 256,
   "id": "supreme-aviation",
   "metadata": {},
   "outputs": [
    {
     "data": {
      "text/plain": [
       "5"
      ]
     },
     "execution_count": 256,
     "metadata": {},
     "output_type": "execute_result"
    }
   ],
   "source": [
    "l.get_value()"
   ]
  },
  {
   "cell_type": "code",
   "execution_count": 257,
   "id": "environmental-hunger",
   "metadata": {},
   "outputs": [
    {
     "data": {
      "text/plain": [
       "0.2"
      ]
     },
     "execution_count": 257,
     "metadata": {},
     "output_type": "execute_result"
    }
   ],
   "source": [
    "l.get_inverse()"
   ]
  },
  {
   "cell_type": "code",
   "execution_count": 258,
   "id": "formed-center",
   "metadata": {},
   "outputs": [],
   "source": [
    "m=Scalar()"
   ]
  },
  {
   "cell_type": "code",
   "execution_count": 259,
   "id": "distributed-member",
   "metadata": {},
   "outputs": [
    {
     "data": {
      "text/plain": [
       "0"
      ]
     },
     "execution_count": 259,
     "metadata": {},
     "output_type": "execute_result"
    }
   ],
   "source": [
    "m.get_value()"
   ]
  },
  {
   "cell_type": "code",
   "execution_count": 260,
   "id": "independent-happiness",
   "metadata": {},
   "outputs": [
    {
     "data": {
      "text/plain": [
       "'inf'"
      ]
     },
     "execution_count": 260,
     "metadata": {},
     "output_type": "execute_result"
    }
   ],
   "source": [
    "m.get_inverse()"
   ]
  },
  {
   "cell_type": "code",
   "execution_count": 261,
   "id": "expensive-hayes",
   "metadata": {},
   "outputs": [
    {
     "name": "stdout",
     "output_type": "stream",
     "text": [
      "value must be an int or float\n"
     ]
    }
   ],
   "source": [
    "n=Scalar(value='a')"
   ]
  },
  {
   "cell_type": "markdown",
   "id": "developing-coalition",
   "metadata": {},
   "source": [
    "### \\_\\_str\\_\\_ and \\_\\_repr\\_\\_"
   ]
  },
  {
   "cell_type": "markdown",
   "id": "demonstrated-jurisdiction",
   "metadata": {},
   "source": [
    "Let's compare the difference when we print an instance of the integer class and we print an instance of the Scalar class. We get the value 5 in the case of an int and we are informed that l is a Scaler object with no details about the value in the case of our Scaler class."
   ]
  },
  {
   "cell_type": "code",
   "execution_count": 262,
   "id": "correct-heater",
   "metadata": {},
   "outputs": [],
   "source": [
    "n=int(5)"
   ]
  },
  {
   "cell_type": "code",
   "execution_count": 263,
   "id": "neutral-spain",
   "metadata": {},
   "outputs": [
    {
     "name": "stdout",
     "output_type": "stream",
     "text": [
      "5\n"
     ]
    }
   ],
   "source": [
    "print(n)"
   ]
  },
  {
   "cell_type": "code",
   "execution_count": 264,
   "id": "instant-queens",
   "metadata": {},
   "outputs": [],
   "source": [
    "l=Scalar(value=5)"
   ]
  },
  {
   "cell_type": "code",
   "execution_count": 265,
   "id": "numeric-devon",
   "metadata": {},
   "outputs": [
    {
     "name": "stdout",
     "output_type": "stream",
     "text": [
      "<__main__.Scalar object at 0x0000023C58B18E20>\n"
     ]
    }
   ],
   "source": [
    "print(l)"
   ]
  },
  {
   "cell_type": "markdown",
   "id": "offshore-generation",
   "metadata": {},
   "source": [
    "The \\_\\_str\\_\\_ dunder method controls what is output when the print statement is used. It must be a str. For example we can make it the generic str 'hello'."
   ]
  },
  {
   "cell_type": "code",
   "execution_count": 266,
   "id": "ultimate-classics",
   "metadata": {},
   "outputs": [],
   "source": [
    "class Scalar(object):\n",
    "    '''Custom Scalar class'''\n",
    "    def __init__(self,value=0):\n",
    "        '''value should be an int or float'''\n",
    "        try:\n",
    "            assert (type(value)==int or type(value)==float), 'value must be an int or float'\n",
    "            self._value=value\n",
    "            try:\n",
    "                self.set_inverse(value)\n",
    "            except ZeroDivisionError:\n",
    "                self.set_inverse_inf(value)    \n",
    "        except AssertionError:\n",
    "            print('value must be an int or float')\n",
    "    def get_value(self):\n",
    "        '''returns the value of the scalar'''\n",
    "        return(self._value)\n",
    "    def set_inverse(self,value):\n",
    "        '''sets the inverse value of the scalar'''\n",
    "        self._inverse=1/value\n",
    "    def set_inverse_inf(self,value):\n",
    "        '''sets the inverse value when the scalar is equal to 0'''\n",
    "        self._inverse='inf'\n",
    "    def get_inverse(self):\n",
    "        '''returns the value of the inverse of the scalar'''\n",
    "        return(self._inverse)\n",
    "    def __str__(self):\n",
    "        return('hello')"
   ]
  },
  {
   "cell_type": "code",
   "execution_count": 267,
   "id": "incorporate-flashing",
   "metadata": {},
   "outputs": [],
   "source": [
    "l=Scalar(value=5)"
   ]
  },
  {
   "cell_type": "code",
   "execution_count": 268,
   "id": "certain-granny",
   "metadata": {},
   "outputs": [
    {
     "name": "stdout",
     "output_type": "stream",
     "text": [
      "hello\n"
     ]
    }
   ],
   "source": [
    "print(l)"
   ]
  },
  {
   "cell_type": "markdown",
   "id": "harmful-teddy",
   "metadata": {},
   "source": [
    "It is more common however to use a str which mimics the manner we would instantiate a class. We can call our method get_value to return the value and incorporate it within a formatted str."
   ]
  },
  {
   "cell_type": "code",
   "execution_count": 269,
   "id": "about-hometown",
   "metadata": {},
   "outputs": [],
   "source": [
    "class Scalar(object):\n",
    "    '''Custom Scalar class'''\n",
    "    def __init__(self,value=0):\n",
    "        '''value should be an int or float'''\n",
    "        try:\n",
    "            assert (type(value)==int or type(value)==float), 'value must be an int or float'\n",
    "            self._value=value\n",
    "            try:\n",
    "                self.set_inverse(value)\n",
    "            except ZeroDivisionError:\n",
    "                self.set_inverse_inf(value)    \n",
    "        except AssertionError:\n",
    "            print('value must be an int or float')\n",
    "    def get_value(self):\n",
    "        '''returns the value of the scalar'''\n",
    "        return(self._value)\n",
    "    def set_inverse(self,value):\n",
    "        '''sets the inverse value of the scalar'''\n",
    "        self._inverse=1/value\n",
    "    def set_inverse_inf(self,value):\n",
    "        '''sets the inverse value when the scalar is equal to 0'''\n",
    "        self._inverse='inf'\n",
    "    def get_inverse(self):\n",
    "        '''returns the value of the inverse of the scalar'''\n",
    "        return(self._inverse)\n",
    "    def __str__(self):\n",
    "        string=f'Scalar(value={self.get_value()})'\n",
    "        return(string)"
   ]
  },
  {
   "cell_type": "code",
   "execution_count": 270,
   "id": "descending-makeup",
   "metadata": {},
   "outputs": [],
   "source": [
    "l=Scalar(value=5)"
   ]
  },
  {
   "cell_type": "code",
   "execution_count": 271,
   "id": "fossil-savings",
   "metadata": {},
   "outputs": [
    {
     "name": "stdout",
     "output_type": "stream",
     "text": [
      "Scalar(value=5)\n"
     ]
    }
   ],
   "source": [
    "print(l)"
   ]
  },
  {
   "cell_type": "markdown",
   "id": "balanced-helena",
   "metadata": {},
   "source": [
    "Notice that this only influences the print statement. If the object name is input directly into a cell or no instance name is defined, we do not get our updated str. There is a seperate \\_\\_repr\\_\\_ dunder method which can be sued to represent the way a class displays in a cell."
   ]
  },
  {
   "cell_type": "code",
   "execution_count": 272,
   "id": "soviet-vacation",
   "metadata": {},
   "outputs": [
    {
     "data": {
      "text/plain": [
       "<__main__.Scalar at 0x23c58b8b820>"
      ]
     },
     "execution_count": 272,
     "metadata": {},
     "output_type": "execute_result"
    }
   ],
   "source": [
    "l"
   ]
  },
  {
   "cell_type": "code",
   "execution_count": 273,
   "id": "interracial-norfolk",
   "metadata": {},
   "outputs": [
    {
     "data": {
      "text/plain": [
       "<__main__.Scalar at 0x23c58ba42e0>"
      ]
     },
     "execution_count": 273,
     "metadata": {},
     "output_type": "execute_result"
    }
   ],
   "source": [
    "Scalar(value=5)"
   ]
  },
  {
   "cell_type": "code",
   "execution_count": 274,
   "id": "rental-bread",
   "metadata": {},
   "outputs": [],
   "source": [
    "class Scalar(object):\n",
    "    '''Custom Scalar class'''\n",
    "    def __init__(self,value=0):\n",
    "        '''value should be an int or float'''\n",
    "        try:\n",
    "            assert (type(value)==int or type(value)==float), 'value must be an int or float'\n",
    "            self._value=value\n",
    "            try:\n",
    "                self.set_inverse(value)\n",
    "            except ZeroDivisionError:\n",
    "                self.set_inverse_inf(value)    \n",
    "        except AssertionError:\n",
    "            print('value must be an int or float')\n",
    "    def get_value(self):\n",
    "        '''returns the value of the scalar'''\n",
    "        return(self._value)\n",
    "    def set_inverse(self,value):\n",
    "        '''sets the inverse value of the scalar'''\n",
    "        self._inverse=1/value\n",
    "    def set_inverse_inf(self,value):\n",
    "        '''sets the inverse value when the scalar is equal to 0'''\n",
    "        self._inverse='inf'\n",
    "    def get_inverse(self):\n",
    "        '''returns the value of the inverse of the scalar'''\n",
    "        return(self._inverse)\n",
    "    def __str__(self):\n",
    "        string=f'Scalar(value={self.get_value()})'\n",
    "        return(string)\n",
    "    def __repr__(self):\n",
    "        string=f'Scalar(value={self.get_value()})'\n",
    "        return(string)"
   ]
  },
  {
   "cell_type": "markdown",
   "id": "promotional-highway",
   "metadata": {},
   "source": [
    "Now the format is the same for an instance beign pritned and its output being shown from a cell."
   ]
  },
  {
   "cell_type": "code",
   "execution_count": 275,
   "id": "headed-environment",
   "metadata": {},
   "outputs": [],
   "source": [
    "l=Scalar(value=5)"
   ]
  },
  {
   "cell_type": "code",
   "execution_count": 276,
   "id": "beginning-defensive",
   "metadata": {},
   "outputs": [
    {
     "name": "stdout",
     "output_type": "stream",
     "text": [
      "Scalar(value=5)\n"
     ]
    }
   ],
   "source": [
    "print(l)"
   ]
  },
  {
   "cell_type": "code",
   "execution_count": 277,
   "id": "suspected-hurricane",
   "metadata": {},
   "outputs": [
    {
     "data": {
      "text/plain": [
       "Scalar(value=5)"
      ]
     },
     "execution_count": 277,
     "metadata": {},
     "output_type": "execute_result"
    }
   ],
   "source": [
    "l"
   ]
  },
  {
   "cell_type": "code",
   "execution_count": 278,
   "id": "cross-montgomery",
   "metadata": {},
   "outputs": [
    {
     "data": {
      "text/plain": [
       "Scalar(value=5)"
      ]
     },
     "execution_count": 278,
     "metadata": {},
     "output_type": "execute_result"
    }
   ],
   "source": [
    "Scalar(value=5)"
   ]
  },
  {
   "cell_type": "markdown",
   "id": "north-cornwall",
   "metadata": {},
   "source": [
    "Additional dunder methods can be included allowing numerical operations to take place between instances of the Scalar class. Let's create the dunder methods \\_\\_add\\_\\_, \\_\\_sub\\_\\_, \\_\\_mul\\_\\_ and \\_\\_truediv\\_\\_ which will correspond to the operators +, -, * and / respectively. These dunder methods will be based on the duner methods between floats or ints. We can use our method get_value on the other and self instance which return the int attribute \\_value. Then we can perform standard numeric operations with hese values and finally return the value as a new instance of the Scalar class."
   ]
  },
  {
   "cell_type": "code",
   "execution_count": 354,
   "id": "united-vault",
   "metadata": {},
   "outputs": [],
   "source": [
    "class Scalar(object):\n",
    "    '''Custom Scalar class'''\n",
    "    def __init__(self,value=0):\n",
    "        '''value should be an int or float'''\n",
    "        try:\n",
    "            assert (type(value)==int or type(value)==float), 'value must be an int or float'\n",
    "            self._value=value\n",
    "            try:\n",
    "                self.set_inverse(value)\n",
    "            except ZeroDivisionError:\n",
    "                self.set_inverse_inf(value)    \n",
    "        except AssertionError:\n",
    "            print('value must be an int or float')\n",
    "    def get_value(self):\n",
    "        '''returns the value of the scalar'''\n",
    "        return(self._value)\n",
    "    def set_inverse(self,value):\n",
    "        '''sets the inverse value of the scalar'''\n",
    "        self._inverse=1/value\n",
    "    def set_inverse_inf(self,value):\n",
    "        '''sets the inverse value when the scalar is equal to 0'''\n",
    "        self._inverse='inf'\n",
    "    def get_inverse(self):\n",
    "        '''returns the value of the inverse of the scalar'''\n",
    "        return(self._inverse)\n",
    "    def __str__(self):\n",
    "        string=f'Scalar(value={self.get_value()})'\n",
    "        return(string)\n",
    "    def __repr__(self):\n",
    "        string=f'Scalar(value={self.get_value()})'\n",
    "        return(string)\n",
    "    def __add__(self,other):\n",
    "        add=self.get_value()+other.get_value()\n",
    "        return(Scalar(value=add))\n",
    "    def __sub__(self,other):\n",
    "        sub=self.get_value()-other.get_value()\n",
    "        return(Scalar(value=sub))\n",
    "    def __mul__(self,other):\n",
    "        mul=self.get_value()*other.get_value()\n",
    "        return(Scalar(value=mul))\n",
    "    def __truediv__(self,other):\n",
    "        truediv=self.get_value()/other.get_value()\n",
    "        return(Scalar(value=truediv))"
   ]
  },
  {
   "cell_type": "code",
   "execution_count": 355,
   "id": "reflected-delta",
   "metadata": {},
   "outputs": [],
   "source": [
    "l=Scalar(value=5)"
   ]
  },
  {
   "cell_type": "code",
   "execution_count": 356,
   "id": "adjusted-philadelphia",
   "metadata": {},
   "outputs": [],
   "source": [
    "m=Scalar(value=3)"
   ]
  },
  {
   "cell_type": "code",
   "execution_count": 357,
   "id": "patent-apparatus",
   "metadata": {},
   "outputs": [
    {
     "data": {
      "text/plain": [
       "Scalar(value=8)"
      ]
     },
     "execution_count": 357,
     "metadata": {},
     "output_type": "execute_result"
    }
   ],
   "source": [
    "l+m"
   ]
  },
  {
   "cell_type": "code",
   "execution_count": 358,
   "id": "naval-filling",
   "metadata": {},
   "outputs": [
    {
     "data": {
      "text/plain": [
       "Scalar(value=2)"
      ]
     },
     "execution_count": 358,
     "metadata": {},
     "output_type": "execute_result"
    }
   ],
   "source": [
    "l-m"
   ]
  },
  {
   "cell_type": "code",
   "execution_count": 360,
   "id": "conventional-claim",
   "metadata": {},
   "outputs": [
    {
     "data": {
      "text/plain": [
       "Scalar(value=15)"
      ]
     },
     "execution_count": 360,
     "metadata": {},
     "output_type": "execute_result"
    }
   ],
   "source": [
    "l*m"
   ]
  },
  {
   "cell_type": "code",
   "execution_count": 361,
   "id": "guilty-spokesman",
   "metadata": {},
   "outputs": [
    {
     "data": {
      "text/plain": [
       "Scalar(value=1.6666666666666667)"
      ]
     },
     "execution_count": 361,
     "metadata": {},
     "output_type": "execute_result"
    }
   ],
   "source": [
    "l/m"
   ]
  },
  {
   "cell_type": "markdown",
   "id": "tribal-africa",
   "metadata": {},
   "source": [
    "## A Custom Fraction Class"
   ]
  },
  {
   "cell_type": "markdown",
   "id": "absent-particular",
   "metadata": {},
   "source": [
    "Let's create a new class from scratch using what we have learned from above. First let's think about the way we would go about constructing a fraction class. A fraction has a numerator and a denominator. These can be initialized as the int n and d when the fraction is created. We will store them to the hidden attributes \\_n and \\_d respectively."
   ]
  },
  {
   "cell_type": "markdown",
   "id": "innocent-jamaica",
   "metadata": {},
   "source": [
    "$\\frac{\\textrm{self.n}}{\\textrm{self.d}}$"
   ]
  },
  {
   "cell_type": "code",
   "execution_count": 279,
   "id": "infrared-acquisition",
   "metadata": {},
   "outputs": [],
   "source": [
    "class Fraction(object):\n",
    "    '''Fraction\n",
    "    n is the numerator and must be an integer\n",
    "    d is the denominator and must be an integer'''\n",
    "    def __init__(self,n,d):\n",
    "        self._n=n\n",
    "        self._d=d"
   ]
  },
  {
   "cell_type": "code",
   "execution_count": 280,
   "id": "atmospheric-sperm",
   "metadata": {},
   "outputs": [],
   "source": [
    "o=Fraction(1,2)"
   ]
  },
  {
   "cell_type": "code",
   "execution_count": 281,
   "id": "specified-transmission",
   "metadata": {},
   "outputs": [
    {
     "data": {
      "text/plain": [
       "1"
      ]
     },
     "execution_count": 281,
     "metadata": {},
     "output_type": "execute_result"
    }
   ],
   "source": [
    "o._n"
   ]
  },
  {
   "cell_type": "code",
   "execution_count": 282,
   "id": "creative-shell",
   "metadata": {},
   "outputs": [
    {
     "data": {
      "text/plain": [
       "2"
      ]
     },
     "execution_count": 282,
     "metadata": {},
     "output_type": "execute_result"
    }
   ],
   "source": [
    "o._d"
   ]
  },
  {
   "cell_type": "markdown",
   "id": "historic-trust",
   "metadata": {},
   "source": [
    "We will want to ensure that both n and d are integers and also that d is not equal to 0."
   ]
  },
  {
   "cell_type": "code",
   "execution_count": 283,
   "id": "reported-elder",
   "metadata": {},
   "outputs": [],
   "source": [
    "class Fraction(object):\n",
    "    '''Fraction\n",
    "    n is the numerator and must be an integer\n",
    "    d is the denominator and must be an integer'''\n",
    "    def __init__(self,n,d):\n",
    "        try: \n",
    "            assert (type(n)==int and type(d)==int), 'n and d must be of the type int.'\n",
    "            self._n=n\n",
    "            try: \n",
    "                assert (d!=0)\n",
    "                self._d=d\n",
    "            except AssertionError:\n",
    "                print('d cannot be zero.')\n",
    "        except AssertionError:\n",
    "            print('n and d must be of the type int.')\n",
    "        "
   ]
  },
  {
   "cell_type": "markdown",
   "id": "declared-imaging",
   "metadata": {},
   "source": [
    "We can see this works as expected."
   ]
  },
  {
   "cell_type": "code",
   "execution_count": 284,
   "id": "stylish-banks",
   "metadata": {},
   "outputs": [],
   "source": [
    "l=Fraction(1,2)"
   ]
  },
  {
   "cell_type": "code",
   "execution_count": 285,
   "id": "considered-thread",
   "metadata": {},
   "outputs": [
    {
     "name": "stdout",
     "output_type": "stream",
     "text": [
      "n and d must be of the type int.\n"
     ]
    }
   ],
   "source": [
    "m=Fraction(1,2.1)"
   ]
  },
  {
   "cell_type": "code",
   "execution_count": 286,
   "id": "awful-meter",
   "metadata": {},
   "outputs": [
    {
     "name": "stdout",
     "output_type": "stream",
     "text": [
      "d cannot be zero.\n"
     ]
    }
   ],
   "source": [
    "n=Fraction(2,0)"
   ]
  },
  {
   "cell_type": "markdown",
   "id": "french-finland",
   "metadata": {},
   "source": [
    "If we insert the values of 6 and 4 for the numerator and denominator."
   ]
  },
  {
   "cell_type": "code",
   "execution_count": 287,
   "id": "assigned-uncertainty",
   "metadata": {},
   "outputs": [],
   "source": [
    "p=Fraction(6,4)"
   ]
  },
  {
   "cell_type": "markdown",
   "id": "worldwide-peoples",
   "metadata": {},
   "source": [
    "We would like to automatically round it down to 3 and 2 because both the numerator and denominator are perfectly divisable by 2 and give a modulo of 0."
   ]
  },
  {
   "cell_type": "code",
   "execution_count": 288,
   "id": "powered-carolina",
   "metadata": {},
   "outputs": [
    {
     "data": {
      "text/plain": [
       "3"
      ]
     },
     "execution_count": 288,
     "metadata": {},
     "output_type": "execute_result"
    }
   ],
   "source": [
    "p._n//2"
   ]
  },
  {
   "cell_type": "code",
   "execution_count": 289,
   "id": "rural-lobby",
   "metadata": {},
   "outputs": [
    {
     "data": {
      "text/plain": [
       "0"
      ]
     },
     "execution_count": 289,
     "metadata": {},
     "output_type": "execute_result"
    }
   ],
   "source": [
    "p._n%2"
   ]
  },
  {
   "cell_type": "code",
   "execution_count": 290,
   "id": "ethical-diagram",
   "metadata": {},
   "outputs": [
    {
     "data": {
      "text/plain": [
       "2"
      ]
     },
     "execution_count": 290,
     "metadata": {},
     "output_type": "execute_result"
    }
   ],
   "source": [
    "p._d//2"
   ]
  },
  {
   "cell_type": "code",
   "execution_count": 291,
   "id": "widespread-disney",
   "metadata": {},
   "outputs": [
    {
     "data": {
      "text/plain": [
       "0"
      ]
     },
     "execution_count": 291,
     "metadata": {},
     "output_type": "execute_result"
    }
   ],
   "source": [
    "p._d%2"
   ]
  },
  {
   "cell_type": "markdown",
   "id": "sunset-cholesterol",
   "metadata": {},
   "source": [
    "To check for this we will need to construct a for loop counting from the value fo the denominator in steps of -1. Note that we are inclusive of the lower bound and exclusive of the top bound. So we will go to 0 and the last value will be 1 (avoiding ZeroDivisionErrors). "
   ]
  },
  {
   "cell_type": "code",
   "execution_count": 292,
   "id": "blessed-review",
   "metadata": {},
   "outputs": [
    {
     "name": "stdout",
     "output_type": "stream",
     "text": [
      "4\n",
      "3\n",
      "2\n",
      "1\n"
     ]
    }
   ],
   "source": [
    "for idx in range(p._d,0,-1):\n",
    "    print(idx)"
   ]
  },
  {
   "cell_type": "markdown",
   "id": "greater-dollar",
   "metadata": {},
   "source": [
    "We are only interested in cases where both n and d give a modulo of 0 when divided by the value and we are also only interested in the highest value. So wish to break the loop if such a value is found."
   ]
  },
  {
   "cell_type": "code",
   "execution_count": 293,
   "id": "remarkable-wealth",
   "metadata": {},
   "outputs": [
    {
     "name": "stdout",
     "output_type": "stream",
     "text": [
      "2\n",
      "n=3\n",
      "d=2\n"
     ]
    }
   ],
   "source": [
    "for idx in range(p._d,0,-1):\n",
    "    if (p._n%idx==0 and p._d%idx==0):\n",
    "        print(idx)\n",
    "        print(f'n={p._n//idx}')\n",
    "        print(f'd={p._d//idx}')\n",
    "        break"
   ]
  },
  {
   "cell_type": "code",
   "execution_count": 294,
   "id": "indoor-handy",
   "metadata": {},
   "outputs": [],
   "source": [
    "class Fraction(object):\n",
    "    '''Fraction\n",
    "    n is the numerator and must be an integer\n",
    "    d is the denominator and must be an integer'''\n",
    "    def __init__(self,n,d):\n",
    "        try: \n",
    "            assert (type(n)==int and type(d)==int), 'n and d must be of the type int.'\n",
    "            self._n=n\n",
    "            try: \n",
    "                assert (d!=0)\n",
    "                self._d=d\n",
    "                self.common_factor()\n",
    "            except AssertionError:\n",
    "                print('d cannot be zero.')\n",
    "        except AssertionError:\n",
    "            print('n and d must be of the type int.')\n",
    "    def common_factor(self):\n",
    "        for idx in range(self._d,0,-1):\n",
    "            if (self._n%idx==0 and self._d%idx==0):\n",
    "                self._n=self._n//idx\n",
    "                self._d=self._d//idx\n",
    "                break"
   ]
  },
  {
   "cell_type": "code",
   "execution_count": 295,
   "id": "first-component",
   "metadata": {},
   "outputs": [],
   "source": [
    "p=Fraction(6,4)"
   ]
  },
  {
   "cell_type": "code",
   "execution_count": 296,
   "id": "industrial-departure",
   "metadata": {},
   "outputs": [
    {
     "data": {
      "text/plain": [
       "3"
      ]
     },
     "execution_count": 296,
     "metadata": {},
     "output_type": "execute_result"
    }
   ],
   "source": [
    "p._n"
   ]
  },
  {
   "cell_type": "code",
   "execution_count": 297,
   "id": "egyptian-russia",
   "metadata": {},
   "outputs": [
    {
     "data": {
      "text/plain": [
       "2"
      ]
     },
     "execution_count": 297,
     "metadata": {},
     "output_type": "execute_result"
    }
   ],
   "source": [
    "p._d"
   ]
  },
  {
   "cell_type": "markdown",
   "id": "restricted-relative",
   "metadata": {},
   "source": [
    "We may now want to update the dunder methods \\_\\_str\\_\\_ and \\_\\_repr\\_\\_ to mimic the representation used in the \\_\\_init\\_\\_ dunder method."
   ]
  },
  {
   "cell_type": "code",
   "execution_count": 298,
   "id": "split-shark",
   "metadata": {},
   "outputs": [],
   "source": [
    "class Fraction(object):\n",
    "    '''Fraction\n",
    "    n is the numerator and must be an integer\n",
    "    d is the denominator and must be an integer'''\n",
    "    def __init__(self,n,d):\n",
    "        try: \n",
    "            assert (type(n)==int and type(d)==int), 'n and d must be of the type int.'\n",
    "            self._n=n\n",
    "            try: \n",
    "                assert (d!=0)\n",
    "                self._d=d\n",
    "                self.common_factor()\n",
    "            except AssertionError:\n",
    "                print('d cannot be zero.')\n",
    "        except AssertionError:\n",
    "            print('n and d must be of the type int.')\n",
    "    def common_factor(self):\n",
    "        for idx in range(self._d,0,-1):\n",
    "            if (self._n%idx==0 and self._d%idx==0):\n",
    "                self._n=self._n//idx\n",
    "                self._d=self._d//idx\n",
    "                break\n",
    "    def __str__(self):\n",
    "        string=f'Fraction({self._n},{self._d})'\n",
    "        return(string)\n",
    "    def __repr__(self):\n",
    "        string=f'Fraction({self._n},{self._d})'\n",
    "        return(string)"
   ]
  },
  {
   "cell_type": "markdown",
   "id": "chronic-salon",
   "metadata": {},
   "source": [
    "We can now easily see that the fraction 6/4 is automatically divided by the lowest common factor to become 3/2. "
   ]
  },
  {
   "cell_type": "code",
   "execution_count": 299,
   "id": "occasional-being",
   "metadata": {},
   "outputs": [],
   "source": [
    "p=Fraction(6,4)"
   ]
  },
  {
   "cell_type": "code",
   "execution_count": 300,
   "id": "answering-politics",
   "metadata": {},
   "outputs": [
    {
     "data": {
      "text/plain": [
       "Fraction(3,2)"
      ]
     },
     "execution_count": 300,
     "metadata": {},
     "output_type": "execute_result"
    }
   ],
   "source": [
    "p"
   ]
  },
  {
   "cell_type": "markdown",
   "id": "rental-frequency",
   "metadata": {},
   "source": [
    "Let's now consider how we would perform mathmatical opeartions between fractions. In the cae of a fraction, multiplication and division are actually slightly easier than addition and subtraction. "
   ]
  },
  {
   "cell_type": "markdown",
   "id": "selected-retirement",
   "metadata": {},
   "source": [
    "Fraction multiplication:"
   ]
  },
  {
   "cell_type": "markdown",
   "id": "smaller-facility",
   "metadata": {},
   "source": [
    "$\\frac{\\textrm{self.n}}{\\textrm{self.d}}\\cdot\\frac{\\textrm{other.n}}{\\textrm{other.d}}=\\frac{\\textrm{self.n}\\cdot\\textrm{other.n}}{\\textrm{self.d}\\cdot\\textrm{other.d}}$"
   ]
  },
  {
   "cell_type": "markdown",
   "id": "african-turning",
   "metadata": {},
   "source": [
    "Fraction division:"
   ]
  },
  {
   "cell_type": "markdown",
   "id": "closed-fourth",
   "metadata": {},
   "source": [
    "$\\frac{\\textrm{self.n}}{\\textrm{self.d}}\\div\\frac{\\textrm{other.n}}{\\textrm{other.d}}=\\frac{\\textrm{self.n}}{\\textrm{self.d}}\\cdot\\frac{\\textrm{other.d}}{\\textrm{other.n}}=\\frac{\\textrm{self.n}\\cdot\\textrm{other.d}}{\\textrm{self.d}\\cdot\\textrm{other.n}}$"
   ]
  },
  {
   "cell_type": "markdown",
   "id": "billion-college",
   "metadata": {},
   "source": [
    "Fraction addition:"
   ]
  },
  {
   "cell_type": "markdown",
   "id": "successful-league",
   "metadata": {},
   "source": [
    "$\\frac{\\textrm{self.n}}{\\textrm{self.d}}+\\frac{\\textrm{other.n}}{\\textrm{other.d}}=\\frac{\\textrm{self.n}}{\\textrm{self.d}}\\cdot\\frac{\\textrm{other.d}}{\\textrm{other.d}}+\\frac{\\textrm{other.n}}{\\textrm{other.d}}\\cdot\\frac{\\textrm{self.d}}{\\textrm{self.d}}=\\frac{\\textrm{self.n}\\cdot\\textrm{other.d}+\\textrm{other.n}\\cdot\\textrm{self.d}}{\\textrm{self.d}\\cdot\\textrm{other.d}}$"
   ]
  },
  {
   "cell_type": "markdown",
   "id": "liberal-mambo",
   "metadata": {},
   "source": [
    "Fraction subtraction:"
   ]
  },
  {
   "cell_type": "markdown",
   "id": "boring-wrestling",
   "metadata": {},
   "source": [
    "$\\frac{\\textrm{self.n}}{\\textrm{self.d}}-\\frac{\\textrm{other.n}}{\\textrm{other.d}}=\\frac{\\textrm{self.n}}{\\textrm{self.d}}\\cdot\\frac{\\textrm{other.d}}{\\textrm{other.d}}-\\frac{\\textrm{other.n}}{\\textrm{other.d}}\\cdot\\frac{\\textrm{self.d}}{\\textrm{self.d}}=\\frac{\\textrm{self.n}\\cdot\\textrm{other.d}-\\textrm{other.n}\\cdot\\textrm{self.d}}{\\textrm{self.d}\\cdot\\textrm{other.d}}$"
   ]
  },
  {
   "cell_type": "markdown",
   "id": "worth-paradise",
   "metadata": {},
   "source": [
    "So we will begin with the \\_\\_mul\\_\\_ dunder method."
   ]
  },
  {
   "cell_type": "code",
   "execution_count": 301,
   "id": "representative-apple",
   "metadata": {},
   "outputs": [],
   "source": [
    "class Fraction(object):\n",
    "    '''Fraction\n",
    "    n is the numerator and must be an integer\n",
    "    d is the denominator and must be an integer'''\n",
    "    def __init__(self,n,d):\n",
    "        try: \n",
    "            assert (type(n)==int and type(d)==int), 'n and d must be of the type int.'\n",
    "            self._n=n\n",
    "            try: \n",
    "                assert (d!=0)\n",
    "                self._d=d\n",
    "                self.common_factor()\n",
    "            except AssertionError:\n",
    "                print('d cannot be zero.')\n",
    "        except AssertionError:\n",
    "            print('n and d must be of the type int.')\n",
    "    def common_factor(self):\n",
    "        for idx in range(self._d,0,-1):\n",
    "            if (self._n%idx==0 and self._d%idx==0):\n",
    "                self._n=self._n//idx\n",
    "                self._d=self._d//idx\n",
    "                break\n",
    "    def __str__(self):\n",
    "        string=f'Fraction({self._n},{self._d})'\n",
    "        return(string)\n",
    "    def __repr__(self):\n",
    "        string=f'Fraction({self._n},{self._d})'\n",
    "        return(string)\n",
    "    def __mul__(self,other):\n",
    "        n=self._n*other._n\n",
    "        d=self._d*other._d\n",
    "        return(Fraction(n,d))"
   ]
  },
  {
   "cell_type": "markdown",
   "id": "right-integrity",
   "metadata": {},
   "source": [
    "Now we see the (* mul) operator as expected."
   ]
  },
  {
   "cell_type": "code",
   "execution_count": 302,
   "id": "nuclear-engineering",
   "metadata": {},
   "outputs": [
    {
     "data": {
      "text/plain": [
       "Fraction(2,1)"
      ]
     },
     "execution_count": 302,
     "metadata": {},
     "output_type": "execute_result"
    }
   ],
   "source": [
    "Fraction(3,2)*Fraction(4,3)"
   ]
  },
  {
   "cell_type": "markdown",
   "id": "cleared-mechanics",
   "metadata": {},
   "source": [
    "Note that the \\_\\_init\\_\\_ dunder method was called from the \\_\\_mul\\_\\_ dunder method creating a new instance. Recall that it calls the common_factor method and divides by the numerator and denominator by the highest common factor."
   ]
  },
  {
   "cell_type": "markdown",
   "id": "accurate-province",
   "metadata": {},
   "source": [
    "Next let's have a look at the \\_\\_truediv\\_\\_ dunder method."
   ]
  },
  {
   "cell_type": "code",
   "execution_count": 303,
   "id": "adjustable-trance",
   "metadata": {},
   "outputs": [],
   "source": [
    "class Fraction(object):\n",
    "    '''Fraction\n",
    "    n is the numerator and must be an integer\n",
    "    d is the denominator and must be an integer'''\n",
    "    def __init__(self,n,d):\n",
    "        try: \n",
    "            assert (type(n)==int and type(d)==int), 'n and d must be of the type int.'\n",
    "            self._n=n\n",
    "            try: \n",
    "                assert (d!=0)\n",
    "                self._d=d\n",
    "                self.common_factor()\n",
    "            except AssertionError:\n",
    "                print('d cannot be zero.')\n",
    "        except AssertionError:\n",
    "            print('n and d must be of the type int.')\n",
    "    def common_factor(self):\n",
    "        for idx in range(self._d,0,-1):\n",
    "            if (self._n%idx==0 and self._d%idx==0):\n",
    "                self._n=self._n//idx\n",
    "                self._d=self._d//idx\n",
    "                break\n",
    "    def __str__(self):\n",
    "        string=f'Fraction({self._n},{self._d})'\n",
    "        return(string)\n",
    "    def __repr__(self):\n",
    "        string=f'Fraction({self._n},{self._d})'\n",
    "        return(string)\n",
    "    def __mul__(self,other):\n",
    "        n=self._n*other._n\n",
    "        d=self._d*other._d\n",
    "        return(Fraction(n,d))\n",
    "    def __truediv__(self,other):\n",
    "        n=self._n*other._d\n",
    "        d=self._d*other._n\n",
    "        return(Fraction(n,d))"
   ]
  },
  {
   "cell_type": "markdown",
   "id": "nominated-necessity",
   "metadata": {},
   "source": [
    "Now we see the (/ truediv) operator as expected."
   ]
  },
  {
   "cell_type": "code",
   "execution_count": 304,
   "id": "lasting-academy",
   "metadata": {},
   "outputs": [
    {
     "data": {
      "text/plain": [
       "Fraction(2,1)"
      ]
     },
     "execution_count": 304,
     "metadata": {},
     "output_type": "execute_result"
    }
   ],
   "source": [
    "Fraction(3,2)/Fraction(3,4)"
   ]
  },
  {
   "cell_type": "markdown",
   "id": "paperback-seller",
   "metadata": {},
   "source": [
    "Next let's have a look at the \\_\\_add\\_\\_ dunder method."
   ]
  },
  {
   "cell_type": "code",
   "execution_count": 305,
   "id": "indie-poland",
   "metadata": {},
   "outputs": [],
   "source": [
    "class Fraction(object):\n",
    "    '''Fraction\n",
    "    n is the numerator and must be an integer\n",
    "    d is the denominator and must be an integer'''\n",
    "    def __init__(self,n,d):\n",
    "        try: \n",
    "            assert (type(n)==int and type(d)==int), 'n and d must be of the type int.'\n",
    "            self._n=n\n",
    "            try: \n",
    "                assert (d!=0)\n",
    "                self._d=d\n",
    "                self.common_factor()\n",
    "            except AssertionError:\n",
    "                print('d cannot be zero.')\n",
    "        except AssertionError:\n",
    "            print('n and d must be of the type int.')\n",
    "    def common_factor(self):\n",
    "        for idx in range(self._d,0,-1):\n",
    "            if (self._n%idx==0 and self._d%idx==0):\n",
    "                self._n=self._n//idx\n",
    "                self._d=self._d//idx\n",
    "                break\n",
    "    def __str__(self):\n",
    "        string=f'Fraction({self._n},{self._d})'\n",
    "        return(string)\n",
    "    def __repr__(self):\n",
    "        string=f'Fraction({self._n},{self._d})'\n",
    "        return(string)\n",
    "    def __mul__(self,other):\n",
    "        n=self._n*other._n\n",
    "        d=self._d*other._d\n",
    "        return(Fraction(n,d))\n",
    "    def __truediv__(self,other):\n",
    "        n=self._n*other._d\n",
    "        d=self._d*other._n\n",
    "        return(Fraction(n,d))\n",
    "    def __add__(self,other):\n",
    "        n=self._n*other._d+other._n*self._d\n",
    "        d=self._d*other._d\n",
    "        return(Fraction(n,d))"
   ]
  },
  {
   "cell_type": "markdown",
   "id": "mighty-museum",
   "metadata": {},
   "source": [
    "Now we see the (+ add) operator as expected."
   ]
  },
  {
   "cell_type": "code",
   "execution_count": 306,
   "id": "spectacular-diameter",
   "metadata": {},
   "outputs": [
    {
     "data": {
      "text/plain": [
       "Fraction(3,4)"
      ]
     },
     "execution_count": 306,
     "metadata": {},
     "output_type": "execute_result"
    }
   ],
   "source": [
    "Fraction(2,4)+Fraction(1,4)"
   ]
  },
  {
   "cell_type": "markdown",
   "id": "identified-whale",
   "metadata": {},
   "source": [
    "Next let's have a look at the \\_\\_sub\\_\\_ dunder method."
   ]
  },
  {
   "cell_type": "code",
   "execution_count": 307,
   "id": "medical-boards",
   "metadata": {},
   "outputs": [],
   "source": [
    "class Fraction(object):\n",
    "    '''Fraction\n",
    "    n is the numerator and must be an integer\n",
    "    d is the denominator and must be an integer'''\n",
    "    def __init__(self,n,d):\n",
    "        try: \n",
    "            assert (type(n)==int and type(d)==int), 'n and d must be of the type int.'\n",
    "            self._n=n\n",
    "            try: \n",
    "                assert (d!=0)\n",
    "                self._d=d\n",
    "                self.common_factor()\n",
    "            except AssertionError:\n",
    "                print('d cannot be zero.')\n",
    "        except AssertionError:\n",
    "            print('n and d must be of the type int.')\n",
    "    def common_factor(self):\n",
    "        for idx in range(self._d,0,-1):\n",
    "            if (self._n%idx==0 and self._d%idx==0):\n",
    "                self._n=self._n//idx\n",
    "                self._d=self._d//idx\n",
    "                break\n",
    "    def __str__(self):\n",
    "        string=f'Fraction({self._n},{self._d})'\n",
    "        return(string)\n",
    "    def __repr__(self):\n",
    "        string=f'Fraction({self._n},{self._d})'\n",
    "        return(string)\n",
    "    def __mul__(self,other):\n",
    "        n=self._n*other._n\n",
    "        d=self._d*other._d\n",
    "        return(Fraction(n,d))\n",
    "    def __truediv__(self,other):\n",
    "        n=self._n*other._d\n",
    "        d=self._d*other._n\n",
    "        return(Fraction(n,d))\n",
    "    def __add__(self,other):\n",
    "        n=self._n*other._d+other._n*self._d\n",
    "        d=self._d*other._d\n",
    "        return(Fraction(n,d))\n",
    "    def __sub__(self,other):\n",
    "        n=self._n*other._d-other._n*self._d\n",
    "        d=self._d*other._d\n",
    "        return(Fraction(n,d))"
   ]
  },
  {
   "cell_type": "markdown",
   "id": "solar-biology",
   "metadata": {},
   "source": [
    "Now we see the (- sub) operator as expected."
   ]
  },
  {
   "cell_type": "code",
   "execution_count": 308,
   "id": "ongoing-license",
   "metadata": {},
   "outputs": [
    {
     "data": {
      "text/plain": [
       "Fraction(1,4)"
      ]
     },
     "execution_count": 308,
     "metadata": {},
     "output_type": "execute_result"
    }
   ],
   "source": [
    "Fraction(2,4)-Fraction(1,4)"
   ]
  },
  {
   "cell_type": "markdown",
   "id": "quantitative-entrepreneur",
   "metadata": {},
   "source": [
    "We can create an optional method to_float whhich will convert the instance of the Fraction class to a float. We can also create the methods get_n and get_d to get the numerator and denominator as an int respectively."
   ]
  },
  {
   "cell_type": "code",
   "execution_count": 312,
   "id": "advised-implement",
   "metadata": {},
   "outputs": [],
   "source": [
    "class Fraction(object):\n",
    "    '''Fraction\n",
    "    n is the numerator and must be an integer\n",
    "    d is the denominator and must be an integer'''\n",
    "    def __init__(self,n,d):\n",
    "        try: \n",
    "            assert (type(n)==int and type(d)==int), 'n and d must be of the type int.'\n",
    "            self._n=n\n",
    "            try: \n",
    "                assert (d!=0)\n",
    "                self._d=d\n",
    "                self.common_factor()\n",
    "            except AssertionError:\n",
    "                print('d cannot be zero.')\n",
    "        except AssertionError:\n",
    "            print('n and d must be of the type int.')\n",
    "    def common_factor(self):\n",
    "        for idx in range(self._d,0,-1):\n",
    "            if (self._n%idx==0 and self._d%idx==0):\n",
    "                self._n=self._n//idx\n",
    "                self._d=self._d//idx\n",
    "                break\n",
    "    def __str__(self):\n",
    "        string=f'Fraction({self._n},{self._d})'\n",
    "        return(string)\n",
    "    def __repr__(self):\n",
    "        string=f'Fraction({self._n},{self._d})'\n",
    "        return(string)\n",
    "    def __mul__(self,other):\n",
    "        n=self._n*other._n\n",
    "        d=self._d*other._d\n",
    "        return(Fraction(n,d))\n",
    "    def __truediv__(self,other):\n",
    "        n=self._n*other._d\n",
    "        d=self._d*other._n\n",
    "        return(Fraction(n,d))\n",
    "    def __add__(self,other):\n",
    "        n=self._n*other._d+other._n*self._d\n",
    "        d=self._d*other._d\n",
    "        return(Fraction(n,d))\n",
    "    def __sub__(self,other):\n",
    "        n=self._n*other._d-other._n*self._d\n",
    "        d=self._d*other._d\n",
    "        return(Fraction(n,d))\n",
    "    def to_float(self):\n",
    "        value=float(self._n/self._d)\n",
    "        return(value)\n",
    "    def get_n(self):\n",
    "        return(self._n)\n",
    "    def get_d(self):\n",
    "        return(self._d)"
   ]
  },
  {
   "cell_type": "markdown",
   "id": "stretch-project",
   "metadata": {},
   "source": [
    "When we type in the instance name followed by a dot . and tab ↹ we see a list of methods available."
   ]
  },
  {
   "cell_type": "markdown",
   "id": "finished-arrangement",
   "metadata": {},
   "source": [
    "![Fraction_methods](Fraction_methods.png)"
   ]
  },
  {
   "cell_type": "markdown",
   "id": "suffering-divorce",
   "metadata": {},
   "source": [
    "The method common_factor is only used within the dunder method \\_\\_init\\_\\_ and not intended to be called by the end user so we can update it to be a private method by beginning with an underscore."
   ]
  },
  {
   "cell_type": "code",
   "execution_count": 317,
   "id": "associate-factor",
   "metadata": {},
   "outputs": [],
   "source": [
    "class Fraction(object):\n",
    "    '''Fraction\n",
    "    n is the numerator and must be an integer\n",
    "    d is the denominator and must be an integer'''\n",
    "    def __init__(self,n,d):\n",
    "        try: \n",
    "            assert (type(n)==int and type(d)==int), 'n and d must be of the type int.'\n",
    "            self._n=n\n",
    "            try: \n",
    "                assert (d!=0)\n",
    "                self._d=d\n",
    "                self._common_factor()\n",
    "            except AssertionError:\n",
    "                print('d cannot be zero.')\n",
    "        except AssertionError:\n",
    "            print('n and d must be of the type int.')\n",
    "    def _common_factor(self):\n",
    "        for idx in range(self._d,0,-1):\n",
    "            if (self._n%idx==0 and self._d%idx==0):\n",
    "                self._n=self._n//idx\n",
    "                self._d=self._d//idx\n",
    "                break\n",
    "    def __str__(self):\n",
    "        string=f'Fraction({self._n},{self._d})'\n",
    "        return(string)\n",
    "    def __repr__(self):\n",
    "        string=f'Fraction({self._n},{self._d})'\n",
    "        return(string)\n",
    "    def __mul__(self,other):\n",
    "        n=self._n*other._n\n",
    "        d=self._d*other._d\n",
    "        return(Fraction(n,d))\n",
    "    def __truediv__(self,other):\n",
    "        n=self._n*other._d\n",
    "        d=self._d*other._n\n",
    "        return(Fraction(n,d))\n",
    "    def __add__(self,other):\n",
    "        n=self._n*other._d+other._n*self._d\n",
    "        d=self._d*other._d\n",
    "        return(Fraction(n,d))\n",
    "    def __sub__(self,other):\n",
    "        n=self._n*other._d-other._n*self._d\n",
    "        d=self._d*other._d\n",
    "        return(Fraction(n,d))\n",
    "    def to_float(self):\n",
    "        value=float(self._n/self._d)\n",
    "        return(value)\n",
    "    def get_n(self):\n",
    "        return(self._n)\n",
    "    def get_d(self):\n",
    "        return(self._d)"
   ]
  },
  {
   "cell_type": "code",
   "execution_count": 316,
   "id": "infectious-mountain",
   "metadata": {},
   "outputs": [],
   "source": [
    "p=Fraction(1,4)"
   ]
  },
  {
   "cell_type": "markdown",
   "id": "adult-killing",
   "metadata": {},
   "source": [
    "![Fraction_methods2](Fraction_methods2.png)"
   ]
  },
  {
   "cell_type": "code",
   "execution_count": 318,
   "id": "continental-discharge",
   "metadata": {},
   "outputs": [
    {
     "data": {
      "text/plain": [
       "0.25"
      ]
     },
     "execution_count": 318,
     "metadata": {},
     "output_type": "execute_result"
    }
   ],
   "source": [
    "p.to_float()"
   ]
  },
  {
   "cell_type": "code",
   "execution_count": 319,
   "id": "molecular-citizenship",
   "metadata": {},
   "outputs": [
    {
     "data": {
      "text/plain": [
       "1"
      ]
     },
     "execution_count": 319,
     "metadata": {},
     "output_type": "execute_result"
    }
   ],
   "source": [
    "p.get_n()"
   ]
  },
  {
   "cell_type": "code",
   "execution_count": 320,
   "id": "beneficial-medicine",
   "metadata": {},
   "outputs": [
    {
     "data": {
      "text/plain": [
       "4"
      ]
     },
     "execution_count": 320,
     "metadata": {},
     "output_type": "execute_result"
    }
   ],
   "source": [
    "p.get_d()"
   ]
  },
  {
   "cell_type": "markdown",
   "id": "sublime-drill",
   "metadata": {},
   "source": [
    "We could also create methods set_n and set_d to set the numerator and denmonator respectively."
   ]
  },
  {
   "cell_type": "code",
   "execution_count": 346,
   "id": "sized-fireplace",
   "metadata": {},
   "outputs": [],
   "source": [
    "class Fraction(object):\n",
    "    '''Fraction\n",
    "    n is the numerator and must be an integer\n",
    "    d is the denominator and must be an integer'''\n",
    "    def __init__(self,n,d):\n",
    "        try: \n",
    "            assert (type(n)==int and type(d)==int), 'n and d must be of the type int.'\n",
    "            self._n=n\n",
    "            try: \n",
    "                assert (d!=0)\n",
    "                self._d=d\n",
    "                self._common_factor()\n",
    "            except AssertionError:\n",
    "                print('d cannot be zero.')\n",
    "        except AssertionError:\n",
    "            print('n and d must be of the type int.')\n",
    "    def _common_factor(self):\n",
    "        for idx in range(self._d,0,-1):\n",
    "            if (self._n%idx==0 and self._d%idx==0):\n",
    "                self._n=self._n//idx\n",
    "                self._d=self._d//idx\n",
    "                break\n",
    "    def __str__(self):\n",
    "        string=f'Fraction({self._n},{self._d})'\n",
    "        return(string)\n",
    "    def __repr__(self):\n",
    "        string=f'Fraction({self._n},{self._d})'\n",
    "        return(string)\n",
    "    def __mul__(self,other):\n",
    "        n=self._n*other._n\n",
    "        d=self._d*other._d\n",
    "        return(Fraction(n,d))\n",
    "    def __truediv__(self,other):\n",
    "        n=self._n*other._d\n",
    "        d=self._d*other._n\n",
    "        return(Fraction(n,d))\n",
    "    def __add__(self,other):\n",
    "        n=self._n*other._d+other._n*self._d\n",
    "        d=self._d*other._d\n",
    "        return(Fraction(n,d))\n",
    "    def __sub__(self,other):\n",
    "        n=self._n*other._d-other._n*self._d\n",
    "        d=self._d*other._d\n",
    "        return(Fraction(n,d))\n",
    "    def to_float(self):\n",
    "        value=float(self._n/self._d)\n",
    "        return(value)\n",
    "    def get_n(self):\n",
    "        return(self._n)\n",
    "    def get_d(self):\n",
    "        return(self._d)\n",
    "    def set_n(self,n):\n",
    "        '''Sets a new numerator n. n must be an int.'''\n",
    "        try:\n",
    "            assert type(n)==int, 'n must be of the type int.'\n",
    "            self._n=n\n",
    "            self._common_factor()\n",
    "        except AssertionError:\n",
    "            print('n must be of the type int.')\n",
    "    def set_d(self,d):\n",
    "        '''Sets a new enominator d. d must be an int.'''\n",
    "        try:\n",
    "            assert type(d)==int, 'd must be of the type int.'\n",
    "            try:\n",
    "                assert d!=0, 'd cannot be 0.'\n",
    "                self._d=d\n",
    "                self._common_factor()\n",
    "            except AssertionError:\n",
    "                print('d must not be 0')\n",
    "        except AssertionError:\n",
    "            print('d must be of the type int.')"
   ]
  },
  {
   "cell_type": "code",
   "execution_count": 350,
   "id": "united-doctor",
   "metadata": {},
   "outputs": [],
   "source": [
    "p=Fraction(1,4)"
   ]
  },
  {
   "cell_type": "markdown",
   "id": "virgin-energy",
   "metadata": {},
   "source": [
    "When we type in the instance name followed by a dot . and tab ↹ we see a list including the updated methods."
   ]
  },
  {
   "cell_type": "markdown",
   "id": "talented-entity",
   "metadata": {},
   "source": [
    "![Fraction_methods3](Fraction_methods3.png)"
   ]
  },
  {
   "cell_type": "markdown",
   "id": "oriented-strand",
   "metadata": {},
   "source": [
    "When we type in the method followed by a tab ↹ and shift ⇧ we get our docstring and information about the positional input argument n."
   ]
  },
  {
   "cell_type": "markdown",
   "id": "bored-opportunity",
   "metadata": {},
   "source": [
    "![Fraction_method_set_n](Fraction_method_set_n.png)"
   ]
  },
  {
   "cell_type": "code",
   "execution_count": 351,
   "id": "representative-jesus",
   "metadata": {},
   "outputs": [],
   "source": [
    "p.set_n(10)"
   ]
  },
  {
   "cell_type": "code",
   "execution_count": 352,
   "id": "hybrid-experience",
   "metadata": {},
   "outputs": [
    {
     "data": {
      "text/plain": [
       "Fraction(5,2)"
      ]
     },
     "execution_count": 352,
     "metadata": {},
     "output_type": "execute_result"
    }
   ],
   "source": [
    "p"
   ]
  },
  {
   "cell_type": "markdown",
   "id": "direct-defensive",
   "metadata": {},
   "source": [
    "## Collections"
   ]
  },
  {
   "cell_type": "markdown",
   "id": "interesting-birthday",
   "metadata": {},
   "source": [
    "So far we have only looked at scalar data types that is a dataset that consists of only a single value. Quite often we will want to group together a collection of single values. Before looking at how we do this in Python. Let's look at a spreadsheet in Microsoft Excel. When the data is in Excel we see that each data value is enclosed in a grid."
   ]
  },
  {
   "cell_type": "markdown",
   "id": "patient-joseph",
   "metadata": {},
   "source": [
    "![excel_row](excel-row.png)"
   ]
  },
  {
   "cell_type": "markdown",
   "id": "fitted-quilt",
   "metadata": {},
   "source": [
    "The data can be saved as a CSV format."
   ]
  },
  {
   "cell_type": "markdown",
   "id": "progressive-thing",
   "metadata": {},
   "source": [
    "![excel-row-save](excel-row-save.png)"
   ]
  },
  {
   "cell_type": "markdown",
   "id": "hollow-admission",
   "metadata": {},
   "source": [
    "Now it can be viewed in Notepad++"
   ]
  },
  {
   "cell_type": "markdown",
   "id": "statistical-motivation",
   "metadata": {},
   "source": [
    "![excel-row-notepadplusplus](excel-row-notepadplusplus.png)"
   ]
  },
  {
   "cell_type": "markdown",
   "id": "packed-finding",
   "metadata": {},
   "source": [
    "Notice that instead of a grid we see a comma seperating out each value (hence the name csv comma seperated value file). \n",
    "The comma is the delimiter and is used to seperate out each value."
   ]
  },
  {
   "cell_type": "markdown",
   "id": "active-stuff",
   "metadata": {},
   "source": [
    "The values in the spreadsheet do not need to be numeric, they can also be text. "
   ]
  },
  {
   "cell_type": "markdown",
   "id": "minus-three",
   "metadata": {},
   "source": [
    "![excel-row2](excel-row2.png)"
   ]
  },
  {
   "cell_type": "markdown",
   "id": "located-willow",
   "metadata": {},
   "source": [
    "![excel-row2-notepadplusplus](excel-row2-notepadplusplus.png)"
   ]
  },
  {
   "cell_type": "markdown",
   "id": "quiet-passion",
   "metadata": {},
   "source": [
    "We can create a collection of values in Python using similar notation with the comma as a delimiter. In Python however we need to enclose the collection in brackets. The type of brackets used creates a slightly different collection. The \\[ \\] create a list, the ( ) create a tuple and the { } create a set or dictionary."
   ]
  },
  {
   "cell_type": "markdown",
   "id": "russian-remains",
   "metadata": {},
   "source": [
    "### The List Collection (list)"
   ]
  },
  {
   "cell_type": "markdown",
   "id": "retained-wealth",
   "metadata": {},
   "source": [
    "The most commonly used collection is called a list. This relates to a list used in every day life. For example the shopping list."
   ]
  },
  {
   "cell_type": "markdown",
   "id": "experimental-diesel",
   "metadata": {},
   "source": [
    "* apples\n",
    "* bananas\n",
    "* grapes\n",
    "* oranges\n",
    "* pears"
   ]
  },
  {
   "cell_type": "markdown",
   "id": "personalized-tragedy",
   "metadata": {},
   "source": [
    "An empty list can be instantiated by using square brackets."
   ]
  },
  {
   "cell_type": "code",
   "execution_count": 362,
   "id": "upper-potato",
   "metadata": {},
   "outputs": [],
   "source": [
    "shop=[]"
   ]
  },
  {
   "cell_type": "code",
   "execution_count": 363,
   "id": "efficient-mobile",
   "metadata": {},
   "outputs": [
    {
     "data": {
      "text/plain": [
       "[]"
      ]
     },
     "execution_count": 363,
     "metadata": {},
     "output_type": "execute_result"
    }
   ],
   "source": [
    "shop"
   ]
  },
  {
   "cell_type": "markdown",
   "id": "lesbian-exchange",
   "metadata": {},
   "source": [
    "Alternatively we can instantiate a list using the list class directly. If we type in list followed by a tab ↹ and shift ⇧ we get the list init statement docstring which outlines details about the positional input argument which we see are iterable."
   ]
  },
  {
   "cell_type": "markdown",
   "id": "heard-bristol",
   "metadata": {},
   "source": [
    "![list_init_signature](list_init_signature.png)"
   ]
  },
  {
   "cell_type": "markdown",
   "id": "departmental-vietnamese",
   "metadata": {},
   "source": [
    "We can keep it empty to make an empty list:"
   ]
  },
  {
   "cell_type": "code",
   "execution_count": 364,
   "id": "micro-wayne",
   "metadata": {},
   "outputs": [],
   "source": [
    "shop=list()"
   ]
  },
  {
   "cell_type": "code",
   "execution_count": 365,
   "id": "appreciated-moscow",
   "metadata": {},
   "outputs": [
    {
     "data": {
      "text/plain": [
       "[]"
      ]
     },
     "execution_count": 365,
     "metadata": {},
     "output_type": "execute_result"
    }
   ],
   "source": [
    "shop"
   ]
  },
  {
   "cell_type": "markdown",
   "id": "blessed-compatibility",
   "metadata": {},
   "source": [
    "When we type in the list name followed by a dot . and a tab ↹ we see a number of list methods and attributes."
   ]
  },
  {
   "cell_type": "markdown",
   "id": "entire-track",
   "metadata": {},
   "source": [
    "![list_methods_attributes](list_methods_attributes.png)"
   ]
  },
  {
   "cell_type": "markdown",
   "id": "willing-wheat",
   "metadata": {},
   "source": [
    "Let's attempt to add one str item to our list. The str needs to be enclosed in quotations to inicate that it is a str and not an object name."
   ]
  },
  {
   "cell_type": "code",
   "execution_count": 377,
   "id": "clear-destruction",
   "metadata": {},
   "outputs": [],
   "source": [
    "shop=['apples']"
   ]
  },
  {
   "cell_type": "code",
   "execution_count": 378,
   "id": "radical-uruguay",
   "metadata": {},
   "outputs": [
    {
     "data": {
      "text/plain": [
       "['apples']"
      ]
     },
     "execution_count": 378,
     "metadata": {},
     "output_type": "execute_result"
    }
   ],
   "source": [
    "shop"
   ]
  },
  {
   "cell_type": "markdown",
   "id": "prescribed-beijing",
   "metadata": {},
   "source": [
    "Note to get a single element when we are explicitly instantiating the list class we need to include a comma , delimiter."
   ]
  },
  {
   "cell_type": "code",
   "execution_count": 448,
   "id": "french-audit",
   "metadata": {},
   "outputs": [],
   "source": [
    "shop=list(('apples',))"
   ]
  },
  {
   "cell_type": "code",
   "execution_count": 449,
   "id": "natural-review",
   "metadata": {},
   "outputs": [
    {
     "data": {
      "text/plain": [
       "['apples']"
      ]
     },
     "execution_count": 449,
     "metadata": {},
     "output_type": "execute_result"
    }
   ],
   "source": [
    "shop"
   ]
  },
  {
   "cell_type": "markdown",
   "id": "qualified-madagascar",
   "metadata": {},
   "source": [
    "Otherwise the () are taken to mean parenthesis and we will make a list of each letter in the string."
   ]
  },
  {
   "cell_type": "code",
   "execution_count": 451,
   "id": "available-taxation",
   "metadata": {},
   "outputs": [],
   "source": [
    "shop=list(('apples'))"
   ]
  },
  {
   "cell_type": "code",
   "execution_count": 452,
   "id": "documented-oriental",
   "metadata": {},
   "outputs": [
    {
     "data": {
      "text/plain": [
       "['a', 'p', 'p', 'l', 'e', 's']"
      ]
     },
     "execution_count": 452,
     "metadata": {},
     "output_type": "execute_result"
    }
   ],
   "source": [
    "shop"
   ]
  },
  {
   "cell_type": "markdown",
   "id": "loaded-traveler",
   "metadata": {},
   "source": [
    "Now to add another item we need to use a comma as a delimiter."
   ]
  },
  {
   "cell_type": "code",
   "execution_count": 379,
   "id": "alike-romania",
   "metadata": {},
   "outputs": [],
   "source": [
    "shop=['apples','bananas']"
   ]
  },
  {
   "cell_type": "code",
   "execution_count": 380,
   "id": "modular-flexibility",
   "metadata": {},
   "outputs": [
    {
     "data": {
      "text/plain": [
       "['apples', 'bananas']"
      ]
     },
     "execution_count": 380,
     "metadata": {},
     "output_type": "execute_result"
    }
   ],
   "source": [
    "shop"
   ]
  },
  {
   "cell_type": "code",
   "execution_count": 453,
   "id": "assigned-effects",
   "metadata": {},
   "outputs": [],
   "source": [
    "shop=list(('apples','bananas'))"
   ]
  },
  {
   "cell_type": "markdown",
   "id": "literary-participant",
   "metadata": {},
   "source": [
    "Alternatively we can explicity instantiate the class list."
   ]
  },
  {
   "cell_type": "code",
   "execution_count": 454,
   "id": "bibliographic-syndicate",
   "metadata": {},
   "outputs": [
    {
     "data": {
      "text/plain": [
       "['apples', 'bananas']"
      ]
     },
     "execution_count": 454,
     "metadata": {},
     "output_type": "execute_result"
    }
   ],
   "source": [
    "shop"
   ]
  },
  {
   "cell_type": "markdown",
   "id": "acceptable-british",
   "metadata": {},
   "source": [
    "Continuing on with the complete list."
   ]
  },
  {
   "cell_type": "code",
   "execution_count": 381,
   "id": "defensive-emergency",
   "metadata": {},
   "outputs": [],
   "source": [
    "shop=['apples','bananas','grapes','oranges','pears']"
   ]
  },
  {
   "cell_type": "code",
   "execution_count": 382,
   "id": "economic-wallace",
   "metadata": {},
   "outputs": [
    {
     "data": {
      "text/plain": [
       "['apples', 'bananas', 'grapes', 'oranges', 'pears']"
      ]
     },
     "execution_count": 382,
     "metadata": {},
     "output_type": "execute_result"
    }
   ],
   "source": [
    "shop"
   ]
  },
  {
   "cell_type": "markdown",
   "id": "foster-biotechnology",
   "metadata": {},
   "source": [
    "It is also possible to write the above splitting the list over multiple lines by pressing enter ↵ after the comma , delimiter. Note the spacing will be automatically applied to display the list as a column."
   ]
  },
  {
   "cell_type": "code",
   "execution_count": 383,
   "id": "every-vegetable",
   "metadata": {},
   "outputs": [],
   "source": [
    "shop=['apples',\n",
    "      'bananas',\n",
    "      'grapes',\n",
    "      'oranges',\n",
    "      'pears']"
   ]
  },
  {
   "cell_type": "code",
   "execution_count": 384,
   "id": "optical-withdrawal",
   "metadata": {},
   "outputs": [
    {
     "data": {
      "text/plain": [
       "['apples', 'bananas', 'grapes', 'oranges', 'pears']"
      ]
     },
     "execution_count": 384,
     "metadata": {},
     "output_type": "execute_result"
    }
   ],
   "source": [
    "shop"
   ]
  },
  {
   "cell_type": "markdown",
   "id": "north-grain",
   "metadata": {},
   "source": [
    "As we can see from the output above there is no difference between the list when input as a row or input as a column. In fact the list is neither a row nor a column. It is an object with only a single dimension."
   ]
  },
  {
   "cell_type": "markdown",
   "id": "veterinary-haven",
   "metadata": {},
   "source": [
    "### Indexing a str or list"
   ]
  },
  {
   "cell_type": "markdown",
   "id": "sophisticated-basement",
   "metadata": {},
   "source": [
    "The methods in a list act similar manner as methods available in a str. Recall that we could use a for loop to select an index in a str."
   ]
  },
  {
   "cell_type": "code",
   "execution_count": 392,
   "id": "likely-colonial",
   "metadata": {},
   "outputs": [
    {
     "name": "stdout",
     "output_type": "stream",
     "text": [
      "h\n",
      "e\n",
      "l\n",
      "l\n",
      "o\n"
     ]
    }
   ],
   "source": [
    "for let in 'hello':\n",
    "    print(let)"
   ]
  },
  {
   "cell_type": "markdown",
   "id": "described-corpus",
   "metadata": {},
   "source": [
    "Or that we could enumerate a string to get both the index and letter."
   ]
  },
  {
   "cell_type": "code",
   "execution_count": 394,
   "id": "subject-macedonia",
   "metadata": {},
   "outputs": [
    {
     "name": "stdout",
     "output_type": "stream",
     "text": [
      "0 h\n",
      "1 e\n",
      "2 l\n",
      "3 l\n",
      "4 o\n"
     ]
    }
   ],
   "source": [
    "for idx,let in enumerate('hello'):\n",
    "    print(idx,let)"
   ]
  },
  {
   "cell_type": "markdown",
   "id": "noble-sociology",
   "metadata": {},
   "source": [
    "We can do the same for an item in a list."
   ]
  },
  {
   "cell_type": "code",
   "execution_count": 395,
   "id": "organized-discharge",
   "metadata": {},
   "outputs": [
    {
     "name": "stdout",
     "output_type": "stream",
     "text": [
      "apples\n",
      "bananas\n",
      "grapes\n",
      "oranges\n",
      "pears\n"
     ]
    }
   ],
   "source": [
    "for item in shop:\n",
    "    print(item)"
   ]
  },
  {
   "cell_type": "code",
   "execution_count": 396,
   "id": "reported-trademark",
   "metadata": {},
   "outputs": [
    {
     "name": "stdout",
     "output_type": "stream",
     "text": [
      "0 apples\n",
      "1 bananas\n",
      "2 grapes\n",
      "3 oranges\n",
      "4 pears\n"
     ]
    }
   ],
   "source": [
    "for idx,item in enumerate(shop):\n",
    "    print(idx,item)"
   ]
  },
  {
   "cell_type": "markdown",
   "id": "opening-installation",
   "metadata": {},
   "source": [
    "We can use the len function to determine the length of a list."
   ]
  },
  {
   "cell_type": "code",
   "execution_count": 397,
   "id": "retained-coordination",
   "metadata": {},
   "outputs": [
    {
     "data": {
      "text/plain": [
       "5"
      ]
     },
     "execution_count": 397,
     "metadata": {},
     "output_type": "execute_result"
    }
   ],
   "source": [
    "len(shop)"
   ]
  },
  {
   "cell_type": "markdown",
   "id": "regular-collectible",
   "metadata": {},
   "source": [
    "In Python indexes uses zero-order meaning we are inclusive of the lower bound 0 and exclusivie fo the upper bound 5. A list with a length of 5 has an index 0,1,2,3 and 4 as shown in the output of the enumeration of the list above using a for loop."
   ]
  },
  {
   "cell_type": "markdown",
   "id": "unsigned-petersburg",
   "metadata": {},
   "source": [
    "An individual item from the list can be selected from the numeric index by typing in the list name followed by square brackets containing the index."
   ]
  },
  {
   "cell_type": "code",
   "execution_count": 398,
   "id": "indirect-garlic",
   "metadata": {},
   "outputs": [
    {
     "data": {
      "text/plain": [
       "'apples'"
      ]
     },
     "execution_count": 398,
     "metadata": {},
     "output_type": "execute_result"
    }
   ],
   "source": [
    "shop[0]"
   ]
  },
  {
   "cell_type": "markdown",
   "id": "operational-astronomy",
   "metadata": {},
   "source": [
    "This also works with a str."
   ]
  },
  {
   "cell_type": "code",
   "execution_count": 399,
   "id": "urban-southwest",
   "metadata": {},
   "outputs": [
    {
     "data": {
      "text/plain": [
       "'h'"
      ]
     },
     "execution_count": 399,
     "metadata": {},
     "output_type": "execute_result"
    }
   ],
   "source": [
    "'hello'[0]"
   ]
  },
  {
   "cell_type": "markdown",
   "id": "direct-principal",
   "metadata": {},
   "source": [
    "We can index into the list to get the str."
   ]
  },
  {
   "cell_type": "code",
   "execution_count": 400,
   "id": "junior-intelligence",
   "metadata": {},
   "outputs": [
    {
     "data": {
      "text/plain": [
       "'apples'"
      ]
     },
     "execution_count": 400,
     "metadata": {},
     "output_type": "execute_result"
    }
   ],
   "source": [
    "shop[0]"
   ]
  },
  {
   "cell_type": "markdown",
   "id": "entitled-administration",
   "metadata": {},
   "source": [
    "And then we can index into this str output to get the letter within the str."
   ]
  },
  {
   "cell_type": "code",
   "execution_count": 401,
   "id": "fabulous-highlight",
   "metadata": {},
   "outputs": [
    {
     "data": {
      "text/plain": [
       "'l'"
      ]
     },
     "execution_count": 401,
     "metadata": {},
     "output_type": "execute_result"
    }
   ],
   "source": [
    "shop[0][3]"
   ]
  },
  {
   "cell_type": "markdown",
   "id": "armed-album",
   "metadata": {},
   "source": [
    "The above line is equivalent to the following."
   ]
  },
  {
   "cell_type": "code",
   "execution_count": 417,
   "id": "substantial-beginning",
   "metadata": {},
   "outputs": [
    {
     "data": {
      "text/plain": [
       "'l'"
      ]
     },
     "execution_count": 417,
     "metadata": {},
     "output_type": "execute_result"
    }
   ],
   "source": [
    "item=shop[0]\n",
    "let=item[3]\n",
    "let"
   ]
  },
  {
   "cell_type": "markdown",
   "id": "latin-discretion",
   "metadata": {},
   "source": [
    "Multiple indexes can be selected by use of a colon. The value befe the colon is the start value and the value after the colon is the stop value."
   ]
  },
  {
   "cell_type": "markdown",
   "id": "available-taiwan",
   "metadata": {},
   "source": [
    "```'str'[start:stop]```"
   ]
  },
  {
   "cell_type": "markdown",
   "id": "actual-importance",
   "metadata": {},
   "source": [
    "For example this can be thought of as the selection of index 2 to 4."
   ]
  },
  {
   "cell_type": "code",
   "execution_count": 418,
   "id": "biological-chosen",
   "metadata": {},
   "outputs": [
    {
     "data": {
      "text/plain": [
       "'ll'"
      ]
     },
     "execution_count": 418,
     "metadata": {},
     "output_type": "execute_result"
    }
   ],
   "source": [
    "'hello'[2:4]"
   ]
  },
  {
   "cell_type": "markdown",
   "id": "electronic-witness",
   "metadata": {},
   "source": [
    "Recall that we are inclusive of the lower bound 2 and exclusive of the upper bound 4. Therefore we get the output from indexes 2 and 3. "
   ]
  },
  {
   "cell_type": "markdown",
   "id": "ceramic-description",
   "metadata": {},
   "source": [
    "If a lower bound start is not specified then it is assumed to be 0."
   ]
  },
  {
   "cell_type": "markdown",
   "id": "accompanied-evolution",
   "metadata": {},
   "source": [
    "```'str'[start:stop]```"
   ]
  },
  {
   "cell_type": "markdown",
   "id": "existing-hometown",
   "metadata": {},
   "source": [
    "```'str'[0:stop]```"
   ]
  },
  {
   "cell_type": "markdown",
   "id": "silver-exploration",
   "metadata": {},
   "source": [
    "```'str'[:stop]```"
   ]
  },
  {
   "cell_type": "markdown",
   "id": "characteristic-superior",
   "metadata": {},
   "source": [
    "Going from index 0 to index 3 will give indexes 0, 1 and 2 for example."
   ]
  },
  {
   "cell_type": "code",
   "execution_count": 419,
   "id": "beautiful-richards",
   "metadata": {},
   "outputs": [
    {
     "data": {
      "text/plain": [
       "'hel'"
      ]
     },
     "execution_count": 419,
     "metadata": {},
     "output_type": "execute_result"
    }
   ],
   "source": [
    "'hello'[:3]"
   ]
  },
  {
   "cell_type": "markdown",
   "id": "ideal-glasgow",
   "metadata": {},
   "source": [
    "Likewise if an upper bound start is not specified then it is assumed to be the length of the str or list or other collection."
   ]
  },
  {
   "cell_type": "markdown",
   "id": "regulation-wilson",
   "metadata": {},
   "source": [
    "```'str'[start:stop]```"
   ]
  },
  {
   "cell_type": "markdown",
   "id": "pending-mining",
   "metadata": {},
   "source": [
    "```'str'[start:len(str)]```"
   ]
  },
  {
   "cell_type": "markdown",
   "id": "religious-equity",
   "metadata": {},
   "source": [
    "```'str'[start:]```"
   ]
  },
  {
   "cell_type": "markdown",
   "id": "liquid-lecture",
   "metadata": {},
   "source": [
    "Going from index 3 to the len of the str will give indexes 3 and 4 for example."
   ]
  },
  {
   "cell_type": "code",
   "execution_count": 421,
   "id": "joint-swedish",
   "metadata": {},
   "outputs": [
    {
     "data": {
      "text/plain": [
       "'lo'"
      ]
     },
     "execution_count": 421,
     "metadata": {},
     "output_type": "execute_result"
    }
   ],
   "source": [
    "'hello'[3:]"
   ]
  },
  {
   "cell_type": "markdown",
   "id": "suspended-landing",
   "metadata": {},
   "source": [
    "If no start bound or stop bound are selected, all indexes will be selected and we will just get a copy of the str, list or other collection."
   ]
  },
  {
   "cell_type": "code",
   "execution_count": 422,
   "id": "guided-soviet",
   "metadata": {},
   "outputs": [
    {
     "data": {
      "text/plain": [
       "'hello'"
      ]
     },
     "execution_count": 422,
     "metadata": {},
     "output_type": "execute_result"
    }
   ],
   "source": [
    "'hello'[:]"
   ]
  },
  {
   "cell_type": "markdown",
   "id": "strong-letters",
   "metadata": {},
   "source": [
    "The number before 0 is -1 and this in Python corresponds to the last index. The negative index can be calculated by taking the positive index and substracting the len of the str or list."
   ]
  },
  {
   "cell_type": "code",
   "execution_count": 410,
   "id": "arctic-report",
   "metadata": {},
   "outputs": [
    {
     "name": "stdout",
     "output_type": "stream",
     "text": [
      "0 -5 h\n",
      "1 -4 e\n",
      "2 -3 l\n",
      "3 -2 l\n",
      "4 -1 o\n"
     ]
    }
   ],
   "source": [
    "for idx,let in enumerate('hello'):\n",
    "    print(idx,idx-len('hello'),let)"
   ]
  },
  {
   "cell_type": "code",
   "execution_count": 411,
   "id": "second-charger",
   "metadata": {},
   "outputs": [
    {
     "data": {
      "text/plain": [
       "'l'"
      ]
     },
     "execution_count": 411,
     "metadata": {},
     "output_type": "execute_result"
    }
   ],
   "source": [
    "'hello'[3]"
   ]
  },
  {
   "cell_type": "code",
   "execution_count": 412,
   "id": "marked-license",
   "metadata": {},
   "outputs": [
    {
     "data": {
      "text/plain": [
       "'l'"
      ]
     },
     "execution_count": 412,
     "metadata": {},
     "output_type": "execute_result"
    }
   ],
   "source": [
    "'hello'[-2]"
   ]
  },
  {
   "cell_type": "markdown",
   "id": "agreed-structure",
   "metadata": {},
   "source": [
    "We have seen that we can index with a colon using the form."
   ]
  },
  {
   "cell_type": "markdown",
   "id": "level-disabled",
   "metadata": {},
   "source": [
    "```'string'[start:stop]```"
   ]
  },
  {
   "cell_type": "markdown",
   "id": "available-address",
   "metadata": {},
   "source": [
    "An additional colon can be placed to indicate a step."
   ]
  },
  {
   "cell_type": "markdown",
   "id": "applicable-factor",
   "metadata": {},
   "source": [
    "```'string'[start:stop:step]```"
   ]
  },
  {
   "cell_type": "markdown",
   "id": "korean-magazine",
   "metadata": {},
   "source": [
    "If we create the following string containing each letter of the word hello in upper and then lower case."
   ]
  },
  {
   "cell_type": "code",
   "execution_count": 423,
   "id": "economic-armenia",
   "metadata": {},
   "outputs": [],
   "source": [
    "string='HhEeLlLlOo'"
   ]
  },
  {
   "cell_type": "markdown",
   "id": "subjective-improvement",
   "metadata": {},
   "source": [
    "We can select every capital letter by usign a step size of 2."
   ]
  },
  {
   "cell_type": "code",
   "execution_count": 424,
   "id": "negative-aquatic",
   "metadata": {},
   "outputs": [
    {
     "data": {
      "text/plain": [
       "'HELLO'"
      ]
     },
     "execution_count": 424,
     "metadata": {},
     "output_type": "execute_result"
    }
   ],
   "source": [
    "string[0:len(string):2]"
   ]
  },
  {
   "cell_type": "markdown",
   "id": "minimal-clothing",
   "metadata": {},
   "source": [
    "Because we are using a start value of 0 and a stop value that is the length of the string, we can omitt these."
   ]
  },
  {
   "cell_type": "code",
   "execution_count": 426,
   "id": "extra-adaptation",
   "metadata": {},
   "outputs": [
    {
     "data": {
      "text/plain": [
       "'HELLO'"
      ]
     },
     "execution_count": 426,
     "metadata": {},
     "output_type": "execute_result"
    }
   ],
   "source": [
    "string[::2]"
   ]
  },
  {
   "cell_type": "markdown",
   "id": "educated-ribbon",
   "metadata": {},
   "source": [
    "If we instead wanted the lower case we would instead start at 1."
   ]
  },
  {
   "cell_type": "code",
   "execution_count": 425,
   "id": "based-barcelona",
   "metadata": {},
   "outputs": [
    {
     "data": {
      "text/plain": [
       "'hello'"
      ]
     },
     "execution_count": 425,
     "metadata": {},
     "output_type": "execute_result"
    }
   ],
   "source": [
    "string[1:len(string):2]"
   ]
  },
  {
   "cell_type": "markdown",
   "id": "gross-texture",
   "metadata": {},
   "source": [
    "Since the stop value is the length of the string we could also use."
   ]
  },
  {
   "cell_type": "code",
   "execution_count": 427,
   "id": "collective-tobago",
   "metadata": {},
   "outputs": [
    {
     "data": {
      "text/plain": [
       "'hello'"
      ]
     },
     "execution_count": 427,
     "metadata": {},
     "output_type": "execute_result"
    }
   ],
   "source": [
    "string[1::2]"
   ]
  },
  {
   "cell_type": "markdown",
   "id": "forbidden-thanksgiving",
   "metadata": {},
   "source": [
    "We can also use negative indexes. If we want the string in reverse, we could take every negative second value."
   ]
  },
  {
   "cell_type": "code",
   "execution_count": 438,
   "id": "banner-doctor",
   "metadata": {},
   "outputs": [
    {
     "data": {
      "text/plain": [
       "'olleh'"
      ]
     },
     "execution_count": 438,
     "metadata": {},
     "output_type": "execute_result"
    }
   ],
   "source": [
    "string[-1:-len(string)-1:-2]"
   ]
  },
  {
   "cell_type": "markdown",
   "id": "instructional-insulation",
   "metadata": {},
   "source": [
    "When a negative step is selected the start value takes a default of -1 if not specified and the stop value takes a default of -len(string)-1 if not specified. Recall once again the the start bound is inclusive and the upper bound is exclusive."
   ]
  },
  {
   "cell_type": "code",
   "execution_count": 428,
   "id": "documentary-contemporary",
   "metadata": {},
   "outputs": [
    {
     "data": {
      "text/plain": [
       "'olleh'"
      ]
     },
     "execution_count": 428,
     "metadata": {},
     "output_type": "execute_result"
    }
   ],
   "source": [
    "string[::-2]"
   ]
  },
  {
   "cell_type": "code",
   "execution_count": 439,
   "id": "loving-oklahoma",
   "metadata": {},
   "outputs": [
    {
     "data": {
      "text/plain": [
       "'OLLEH'"
      ]
     },
     "execution_count": 439,
     "metadata": {},
     "output_type": "execute_result"
    }
   ],
   "source": [
    "string[-2:-len(string)-1:-2]"
   ]
  },
  {
   "cell_type": "markdown",
   "id": "million-rachel",
   "metadata": {},
   "source": [
    "### The Dictionary Collection (dict)"
   ]
  },
  {
   "cell_type": "markdown",
   "id": "modular-story",
   "metadata": {},
   "source": [
    "Another collection is the dictionary collection. A dictionary has the form of a regular dictionary where there is a key (keyword) and value (definition). For example the dictionary below."
   ]
  },
  {
   "cell_type": "markdown",
   "id": "quarterly-psychiatry",
   "metadata": {},
   "source": [
    "|key|value|\n",
    "|---|---|\n",
    "|python|a programming language|\n",
    "|numpy|the numeric python library|\n",
    "|pandas|the python and data analysis library|\n",
    "|matplotlib|the python plotting library|"
   ]
  },
  {
   "cell_type": "markdown",
   "id": "restricted-gothic",
   "metadata": {},
   "source": [
    "A dictionary is quite commonly used in a programming language when it comes to assigning settings. Each setting has one name and multiple possible values. A user configuration will have one value set for each setting."
   ]
  },
  {
   "cell_type": "markdown",
   "id": "static-century",
   "metadata": {},
   "source": [
    "![windows10settings](windows10settings.png)"
   ]
  },
  {
   "cell_type": "markdown",
   "id": "demographic-brave",
   "metadata": {},
   "source": [
    "In Windows 10 the registry for example can just be thought of as a large dictionary."
   ]
  },
  {
   "cell_type": "markdown",
   "id": "accepted-engagement",
   "metadata": {},
   "source": [
    "![Windows10Settings2](Windows10Settings2.png)"
   ]
  },
  {
   "cell_type": "markdown",
   "id": "comfortable-cannon",
   "metadata": {},
   "source": [
    "The setting highlighted above for example uses the registry value AppsUseLightTheme (which can be thought of as the key) and the data for it is 1 (this is the value and in this case is a Boolean which can be True or False)."
   ]
  },
  {
   "cell_type": "markdown",
   "id": "grateful-machine",
   "metadata": {},
   "source": [
    "Dictionaries are commonly used when it comes to using functions which rename multiple items. In such cases the keys are normally the old names and the values are normally the new names."
   ]
  },
  {
   "cell_type": "markdown",
   "id": "cellular-proceeding",
   "metadata": {},
   "source": [
    "A dictionary uses curly brackets opposed to square brackets. We can create an empty dictionary using."
   ]
  },
  {
   "cell_type": "code",
   "execution_count": 440,
   "id": "entitled-bacteria",
   "metadata": {},
   "outputs": [],
   "source": [
    "pythonterms={}"
   ]
  },
  {
   "cell_type": "code",
   "execution_count": 442,
   "id": "ready-tomorrow",
   "metadata": {},
   "outputs": [
    {
     "data": {
      "text/plain": [
       "{}"
      ]
     },
     "execution_count": 442,
     "metadata": {},
     "output_type": "execute_result"
    }
   ],
   "source": [
    "pythonterms"
   ]
  },
  {
   "cell_type": "markdown",
   "id": "continent-permission",
   "metadata": {},
   "source": [
    "Alternatively we can instantiate a dictionary using the dict class directly. If we type in dict followed by a tab ↹ and shift ⇧ we get the docstring for the init signature which gives details about the positional input argument and mentions key-value pairs."
   ]
  },
  {
   "cell_type": "markdown",
   "id": "sublime-blast",
   "metadata": {},
   "source": [
    "![dict_init_signature](dict_init_signature.png)"
   ]
  },
  {
   "cell_type": "code",
   "execution_count": 443,
   "id": "romance-parking",
   "metadata": {},
   "outputs": [],
   "source": [
    "pythonterms=dict()"
   ]
  },
  {
   "cell_type": "code",
   "execution_count": 444,
   "id": "fleet-religion",
   "metadata": {},
   "outputs": [
    {
     "data": {
      "text/plain": [
       "{}"
      ]
     },
     "execution_count": 444,
     "metadata": {},
     "output_type": "execute_result"
    }
   ],
   "source": [
    "pythonterms"
   ]
  },
  {
   "cell_type": "markdown",
   "id": "loaded-panel",
   "metadata": {},
   "source": [
    "When we type in the dict name followed by a dot . and a tab ↹ we see a number of list methods and attributes."
   ]
  },
  {
   "cell_type": "markdown",
   "id": "respective-destination",
   "metadata": {},
   "source": [
    "![dict_methods_attributes](dict_methods_attributes.png)"
   ]
  },
  {
   "cell_type": "markdown",
   "id": "bound-shopping",
   "metadata": {},
   "source": [
    "We see that there are the methods keys and values outlining the data structure of the dictionary. "
   ]
  },
  {
   "cell_type": "markdown",
   "id": "prospective-calculator",
   "metadata": {},
   "source": [
    "Items have to be added in key value pairs. The colon is used to seperate the key from its corresponding value. Each key is unique but two keys can have the same value. In this case both the key and the value are of he type str."
   ]
  },
  {
   "cell_type": "code",
   "execution_count": 456,
   "id": "agreed-lobby",
   "metadata": {},
   "outputs": [],
   "source": [
    "pythonterms={'python':'a programming language'}"
   ]
  },
  {
   "cell_type": "code",
   "execution_count": 464,
   "id": "western-cheese",
   "metadata": {},
   "outputs": [
    {
     "data": {
      "text/plain": [
       "{'python': 'a programming language'}"
      ]
     },
     "execution_count": 464,
     "metadata": {},
     "output_type": "execute_result"
    }
   ],
   "source": [
    "pythonterms"
   ]
  },
  {
   "cell_type": "markdown",
   "id": "partial-specification",
   "metadata": {},
   "source": [
    "A dictionary can be indexed int using squarebrackets. It does not have a numeric index and the key is used to index."
   ]
  },
  {
   "cell_type": "code",
   "execution_count": 461,
   "id": "original-ceremony",
   "metadata": {},
   "outputs": [
    {
     "data": {
      "text/plain": [
       "'a programming language'"
      ]
     },
     "execution_count": 461,
     "metadata": {},
     "output_type": "execute_result"
    }
   ],
   "source": [
    "pythonterms['python']"
   ]
  },
  {
   "cell_type": "markdown",
   "id": "veterinary-expansion",
   "metadata": {},
   "source": [
    "When explictly instantating using the dict class, the key is input as a keyword input argument. Because it is input as a keyword input argument it is not enclosed in quotations. Quotations are automatically added to the key if it is text."
   ]
  },
  {
   "cell_type": "code",
   "execution_count": 462,
   "id": "animated-avenue",
   "metadata": {},
   "outputs": [],
   "source": [
    "pythonterms=dict(python='a programming language')"
   ]
  },
  {
   "cell_type": "code",
   "execution_count": 465,
   "id": "laughing-classification",
   "metadata": {},
   "outputs": [
    {
     "data": {
      "text/plain": [
       "{'python': 'a programming language'}"
      ]
     },
     "execution_count": 465,
     "metadata": {},
     "output_type": "execute_result"
    }
   ],
   "source": [
    "pythonterms"
   ]
  },
  {
   "cell_type": "markdown",
   "id": "hawaiian-animal",
   "metadata": {},
   "source": [
    "A new key:value pair can be added by indexing into the dictonary with a new key and assigning it to the value."
   ]
  },
  {
   "cell_type": "code",
   "execution_count": 466,
   "id": "chubby-toner",
   "metadata": {},
   "outputs": [],
   "source": [
    "pythonterms['numpy']='the numeric python library'"
   ]
  },
  {
   "cell_type": "code",
   "execution_count": 471,
   "id": "prerequisite-found",
   "metadata": {},
   "outputs": [
    {
     "data": {
      "text/plain": [
       "{'python': 'a programming language',\n",
       " 'numpy': 'the numeric python library',\n",
       " 'pandas': 'the python and data analysis library',\n",
       " 'matplotlib': 'the python plotting library'}"
      ]
     },
     "execution_count": 471,
     "metadata": {},
     "output_type": "execute_result"
    }
   ],
   "source": [
    "pythonterms"
   ]
  },
  {
   "cell_type": "markdown",
   "id": "indirect-robinson",
   "metadata": {},
   "source": [
    "When the dictionary is created with the braces it can be done on one line or similar to a list, it can be split over multiple lines by pressing enter ↵ after the comma , delimiter."
   ]
  },
  {
   "cell_type": "code",
   "execution_count": 469,
   "id": "physical-torture",
   "metadata": {},
   "outputs": [],
   "source": [
    "pythonterms={'python':'a programming language','numpy':'the numeric python library','pandas':'the python and data analysis library','matplotlib':'the python plotting library'}"
   ]
  },
  {
   "cell_type": "code",
   "execution_count": 470,
   "id": "massive-professor",
   "metadata": {},
   "outputs": [
    {
     "data": {
      "text/plain": [
       "{'python': 'a programming language',\n",
       " 'numpy': 'the numeric python library',\n",
       " 'pandas': 'the python and data analysis library',\n",
       " 'matplotlib': 'the python plotting library'}"
      ]
     },
     "execution_count": 470,
     "metadata": {},
     "output_type": "execute_result"
    }
   ],
   "source": [
    "pythonterms"
   ]
  },
  {
   "cell_type": "code",
   "execution_count": 472,
   "id": "antique-contents",
   "metadata": {},
   "outputs": [],
   "source": [
    "pythonterms={'python':'a programming language',\n",
    "             'numpy':'the numeric python library',\n",
    "             'pandas':'the python and data analysis library',\n",
    "             'matplotlib':'the python plotting library'}"
   ]
  },
  {
   "cell_type": "code",
   "execution_count": 473,
   "id": "physical-persian",
   "metadata": {},
   "outputs": [
    {
     "data": {
      "text/plain": [
       "{'python': 'a programming language',\n",
       " 'numpy': 'the numeric python library',\n",
       " 'pandas': 'the python and data analysis library',\n",
       " 'matplotlib': 'the python plotting library'}"
      ]
     },
     "execution_count": 473,
     "metadata": {},
     "output_type": "execute_result"
    }
   ],
   "source": [
    "pythonterms"
   ]
  },
  {
   "cell_type": "code",
   "execution_count": 474,
   "id": "forward-posting",
   "metadata": {},
   "outputs": [],
   "source": [
    "pythonterms=dict(python='a programming language',numpy='the numeric python library',pandas='the python and data analysis library',matplotlib='the python plotting library')"
   ]
  },
  {
   "cell_type": "code",
   "execution_count": 475,
   "id": "potential-mouth",
   "metadata": {},
   "outputs": [
    {
     "data": {
      "text/plain": [
       "{'python': 'a programming language',\n",
       " 'numpy': 'the numeric python library',\n",
       " 'pandas': 'the python and data analysis library',\n",
       " 'matplotlib': 'the python plotting library'}"
      ]
     },
     "execution_count": 475,
     "metadata": {},
     "output_type": "execute_result"
    }
   ],
   "source": [
    "pythonterms"
   ]
  },
  {
   "cell_type": "markdown",
   "id": "manual-creek",
   "metadata": {},
   "source": [
    "Now that the dictionary is populated we can look at the methods keys and values."
   ]
  },
  {
   "cell_type": "code",
   "execution_count": 476,
   "id": "illegal-russell",
   "metadata": {},
   "outputs": [
    {
     "data": {
      "text/plain": [
       "dict_keys(['python', 'numpy', 'pandas', 'matplotlib'])"
      ]
     },
     "execution_count": 476,
     "metadata": {},
     "output_type": "execute_result"
    }
   ],
   "source": [
    "pythonterms.keys()"
   ]
  },
  {
   "cell_type": "code",
   "execution_count": 477,
   "id": "respected-bench",
   "metadata": {},
   "outputs": [
    {
     "data": {
      "text/plain": [
       "dict_values(['a programming language', 'the numeric python library', 'the python and data analysis library', 'the python plotting library'])"
      ]
     },
     "execution_count": 477,
     "metadata": {},
     "output_type": "execute_result"
    }
   ],
   "source": [
    "pythonterms.values()"
   ]
  },
  {
   "cell_type": "markdown",
   "id": "alternative-rebel",
   "metadata": {},
   "source": [
    "We see that both of these are list like. "
   ]
  },
  {
   "cell_type": "markdown",
   "id": "nervous-climate",
   "metadata": {},
   "source": [
    "A dictionary can be constructe by zipping two lists together."
   ]
  },
  {
   "cell_type": "code",
   "execution_count": 478,
   "id": "partial-dream",
   "metadata": {},
   "outputs": [],
   "source": [
    "key_colors=['r','g','b']\n",
    "key_values=['red','green','blue']"
   ]
  },
  {
   "cell_type": "code",
   "execution_count": 480,
   "id": "southeast-gateway",
   "metadata": {},
   "outputs": [],
   "source": [
    "cmap=dict(zip(key_colors,key_values))"
   ]
  },
  {
   "cell_type": "code",
   "execution_count": 481,
   "id": "cellular-agriculture",
   "metadata": {},
   "outputs": [
    {
     "data": {
      "text/plain": [
       "{'r': 'red', 'g': 'green', 'b': 'blue'}"
      ]
     },
     "execution_count": 481,
     "metadata": {},
     "output_type": "execute_result"
    }
   ],
   "source": [
    "cmap"
   ]
  },
  {
   "cell_type": "markdown",
   "id": "fantastic-death",
   "metadata": {},
   "source": [
    "### Mutability"
   ]
  },
  {
   "cell_type": "markdown",
   "id": "whole-unknown",
   "metadata": {},
   "source": [
    "Let's create the following list."
   ]
  },
  {
   "cell_type": "code",
   "execution_count": 482,
   "id": "secure-manual",
   "metadata": {},
   "outputs": [],
   "source": [
    "shop=['apples',\n",
    "      'bananas',\n",
    "      'grapes',\n",
    "      'oranges',\n",
    "      'pears']"
   ]
  },
  {
   "cell_type": "code",
   "execution_count": 485,
   "id": "acute-serum",
   "metadata": {},
   "outputs": [
    {
     "data": {
      "text/plain": [
       "['apples', 'bananas', 'grapes', 'oranges', 'pears']"
      ]
     },
     "execution_count": 485,
     "metadata": {},
     "output_type": "execute_result"
    }
   ],
   "source": [
    "shop"
   ]
  },
  {
   "cell_type": "markdown",
   "id": "heated-receipt",
   "metadata": {},
   "source": [
    "Now let us attempt to create a copy."
   ]
  },
  {
   "cell_type": "code",
   "execution_count": 483,
   "id": "encouraging-objective",
   "metadata": {},
   "outputs": [],
   "source": [
    "shop2=shop"
   ]
  },
  {
   "cell_type": "code",
   "execution_count": 484,
   "id": "narrative-pacific",
   "metadata": {},
   "outputs": [
    {
     "data": {
      "text/plain": [
       "['apples', 'bananas', 'grapes', 'oranges', 'pears']"
      ]
     },
     "execution_count": 484,
     "metadata": {},
     "output_type": "execute_result"
    }
   ],
   "source": [
    "shop2"
   ]
  },
  {
   "cell_type": "markdown",
   "id": "nearby-teach",
   "metadata": {},
   "source": [
    "Now let us modify the list shop2 for example by appending an item."
   ]
  },
  {
   "cell_type": "code",
   "execution_count": 486,
   "id": "tracked-alfred",
   "metadata": {},
   "outputs": [],
   "source": [
    "shop2.append('kiwi')"
   ]
  },
  {
   "cell_type": "code",
   "execution_count": 487,
   "id": "developing-infrastructure",
   "metadata": {},
   "outputs": [
    {
     "data": {
      "text/plain": [
       "['apples', 'bananas', 'grapes', 'oranges', 'pears', 'kiwi']"
      ]
     },
     "execution_count": 487,
     "metadata": {},
     "output_type": "execute_result"
    }
   ],
   "source": [
    "shop2"
   ]
  },
  {
   "cell_type": "markdown",
   "id": "automotive-express",
   "metadata": {},
   "source": [
    "If we check the value of shop we see that it has also been updated."
   ]
  },
  {
   "cell_type": "code",
   "execution_count": 488,
   "id": "informed-mission",
   "metadata": {},
   "outputs": [
    {
     "data": {
      "text/plain": [
       "['apples', 'bananas', 'grapes', 'oranges', 'pears', 'kiwi']"
      ]
     },
     "execution_count": 488,
     "metadata": {},
     "output_type": "execute_result"
    }
   ],
   "source": [
    "shop"
   ]
  },
  {
   "cell_type": "markdown",
   "id": "worth-taylor",
   "metadata": {},
   "source": [
    "This is because the line shop2=shop does not create a copy but instead creats an alias. i.e. shop2 and shop are both object names for the same list."
   ]
  },
  {
   "cell_type": "code",
   "execution_count": 489,
   "id": "hearing-spirituality",
   "metadata": {},
   "outputs": [],
   "source": [
    "shop=['apples',\n",
    "      'bananas',\n",
    "      'grapes',\n",
    "      'oranges',\n",
    "      'pears']"
   ]
  },
  {
   "cell_type": "markdown",
   "id": "inside-passport",
   "metadata": {},
   "source": [
    "Instead we should use the method copy or alternatively index using square brakcets and a colon."
   ]
  },
  {
   "cell_type": "code",
   "execution_count": 490,
   "id": "foreign-volunteer",
   "metadata": {},
   "outputs": [],
   "source": [
    "shop2=shop.copy()"
   ]
  },
  {
   "cell_type": "code",
   "execution_count": 491,
   "id": "joint-borough",
   "metadata": {},
   "outputs": [],
   "source": [
    "shop3=shop2[:]"
   ]
  },
  {
   "cell_type": "code",
   "execution_count": 492,
   "id": "indonesian-warehouse",
   "metadata": {},
   "outputs": [],
   "source": [
    "shop2.append('kiwi')"
   ]
  },
  {
   "cell_type": "markdown",
   "id": "difficult-kinase",
   "metadata": {},
   "source": [
    "Now we see that both shop1 and shop3 are not updated when shop2 is updated."
   ]
  },
  {
   "cell_type": "code",
   "execution_count": 493,
   "id": "devoted-notice",
   "metadata": {},
   "outputs": [
    {
     "data": {
      "text/plain": [
       "['apples', 'bananas', 'grapes', 'oranges', 'pears']"
      ]
     },
     "execution_count": 493,
     "metadata": {},
     "output_type": "execute_result"
    }
   ],
   "source": [
    "shop"
   ]
  },
  {
   "cell_type": "code",
   "execution_count": 494,
   "id": "alert-continent",
   "metadata": {},
   "outputs": [
    {
     "data": {
      "text/plain": [
       "['apples', 'bananas', 'grapes', 'oranges', 'pears', 'kiwi']"
      ]
     },
     "execution_count": 494,
     "metadata": {},
     "output_type": "execute_result"
    }
   ],
   "source": [
    "shop2"
   ]
  },
  {
   "cell_type": "code",
   "execution_count": 495,
   "id": "retained-industry",
   "metadata": {},
   "outputs": [
    {
     "data": {
      "text/plain": [
       "['apples', 'bananas', 'grapes', 'oranges', 'pears']"
      ]
     },
     "execution_count": 495,
     "metadata": {},
     "output_type": "execute_result"
    }
   ],
   "source": [
    "shop3"
   ]
  },
  {
   "cell_type": "markdown",
   "id": "friendly-count",
   "metadata": {},
   "source": [
    "Mutability allows great flexibility when it comes to working with lists however at the same time we also need to be careful that we don't mutate a list by mistake."
   ]
  },
  {
   "cell_type": "markdown",
   "id": "digital-cattle",
   "metadata": {},
   "source": [
    "### The Tuple Collection (tuple)"
   ]
  },
  {
   "cell_type": "markdown",
   "id": "ranging-twelve",
   "metadata": {},
   "source": [
    "A tuple is a list that is not mutable. It has the same form as a list but uses brackets ( ) opposed to square brackets \\[ \\]. Let's create an empty tuple."
   ]
  },
  {
   "cell_type": "code",
   "execution_count": 496,
   "id": "known-davis",
   "metadata": {},
   "outputs": [],
   "source": [
    "shop_t=()"
   ]
  },
  {
   "cell_type": "markdown",
   "id": "ready-director",
   "metadata": {},
   "source": [
    "Note to get a single element we need to include a comma , delimiter so the ( ) isn't taken as parenthesis."
   ]
  },
  {
   "cell_type": "code",
   "execution_count": 497,
   "id": "attended-lincoln",
   "metadata": {},
   "outputs": [],
   "source": [
    "shop_t=('apples',)"
   ]
  },
  {
   "cell_type": "code",
   "execution_count": 498,
   "id": "veterinary-playing",
   "metadata": {},
   "outputs": [
    {
     "data": {
      "text/plain": [
       "('apples',)"
      ]
     },
     "execution_count": 498,
     "metadata": {},
     "output_type": "execute_result"
    }
   ],
   "source": [
    "shop_t"
   ]
  },
  {
   "cell_type": "code",
   "execution_count": 499,
   "id": "portable-corporation",
   "metadata": {},
   "outputs": [],
   "source": [
    "shop_t=('apples')"
   ]
  },
  {
   "cell_type": "code",
   "execution_count": 500,
   "id": "stylish-antigua",
   "metadata": {},
   "outputs": [
    {
     "data": {
      "text/plain": [
       "'apples'"
      ]
     },
     "execution_count": 500,
     "metadata": {},
     "output_type": "execute_result"
    }
   ],
   "source": [
    "shop_t"
   ]
  },
  {
   "cell_type": "code",
   "execution_count": 501,
   "id": "potential-reflection",
   "metadata": {},
   "outputs": [],
   "source": [
    "shop_t=('apples', 'bananas', 'grapes', 'oranges', 'pears')"
   ]
  },
  {
   "cell_type": "markdown",
   "id": "contemporary-jonathan",
   "metadata": {},
   "source": [
    "Alternatively we can instantiate a tuple using the tuple class directly. If we type in tuple followed by a tab ↹ and shift ⇧ we get the list init statement docstring which outlines details about the positional input argument which we see are iterable. We see the form is more or less identical to that of a list."
   ]
  },
  {
   "cell_type": "markdown",
   "id": "harmful-rating",
   "metadata": {},
   "source": [
    "![tuple_init_signature](tuple_init_signature.png)"
   ]
  },
  {
   "cell_type": "code",
   "execution_count": 502,
   "id": "portable-amino",
   "metadata": {},
   "outputs": [],
   "source": [
    "shop_t=tuple(('apples', 'bananas', 'grapes', 'oranges', 'pears'))"
   ]
  },
  {
   "cell_type": "code",
   "execution_count": 503,
   "id": "vanilla-wealth",
   "metadata": {},
   "outputs": [
    {
     "data": {
      "text/plain": [
       "('apples', 'bananas', 'grapes', 'oranges', 'pears')"
      ]
     },
     "execution_count": 503,
     "metadata": {},
     "output_type": "execute_result"
    }
   ],
   "source": [
    "shop_t"
   ]
  },
  {
   "cell_type": "markdown",
   "id": "unavailable-prairie",
   "metadata": {},
   "source": [
    "The list and tuple classes may be used to quickly convert a list to a tuple and vice versa."
   ]
  },
  {
   "cell_type": "code",
   "execution_count": 504,
   "id": "amateur-increase",
   "metadata": {},
   "outputs": [],
   "source": [
    "shop_l=list(shop_t)"
   ]
  },
  {
   "cell_type": "code",
   "execution_count": 505,
   "id": "round-plain",
   "metadata": {},
   "outputs": [
    {
     "data": {
      "text/plain": [
       "['apples', 'bananas', 'grapes', 'oranges', 'pears']"
      ]
     },
     "execution_count": 505,
     "metadata": {},
     "output_type": "execute_result"
    }
   ],
   "source": [
    "shop_l"
   ]
  },
  {
   "cell_type": "markdown",
   "id": "different-barbados",
   "metadata": {},
   "source": [
    "Because a tuple is immutable, there are only a limited number of methods ailable which can be accessed by typing in the tuples name followed by a dot . and a tab ↹."
   ]
  },
  {
   "cell_type": "markdown",
   "id": "innocent-registration",
   "metadata": {},
   "source": [
    "![tuple_methods_attributes](tuple_methods_attributes.png)"
   ]
  },
  {
   "cell_type": "markdown",
   "id": "physical-expert",
   "metadata": {},
   "source": [
    "We see that the list in comparson has many more methods availale."
   ]
  },
  {
   "cell_type": "markdown",
   "id": "tough-strike",
   "metadata": {},
   "source": [
    "![list2_methods_attributes](list2_methods_attributes.png)"
   ]
  },
  {
   "cell_type": "markdown",
   "id": "approximate-result",
   "metadata": {},
   "source": [
    "### Tuple Unpacking"
   ]
  },
  {
   "cell_type": "code",
   "execution_count": null,
   "id": "freelance-carter",
   "metadata": {},
   "outputs": [],
   "source": []
  }
 ],
 "metadata": {
  "kernelspec": {
   "display_name": "Python 3",
   "language": "python",
   "name": "python3"
  },
  "language_info": {
   "codemirror_mode": {
    "name": "ipython",
    "version": 3
   },
   "file_extension": ".py",
   "mimetype": "text/x-python",
   "name": "python",
   "nbconvert_exporter": "python",
   "pygments_lexer": "ipython3",
   "version": "3.8.5"
  }
 },
 "nbformat": 4,
 "nbformat_minor": 5
}
