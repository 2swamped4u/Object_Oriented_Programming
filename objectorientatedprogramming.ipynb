{
 "cells": [
  {
   "cell_type": "markdown",
   "id": "sacred-exemption",
   "metadata": {},
   "source": [
    "# Object Orientated Programming"
   ]
  },
  {
   "cell_type": "markdown",
   "id": "accepting-beginning",
   "metadata": {},
   "source": [
    "This is a beginner guide exploring the concepts behind object orientated programming using the Python programming language. This can be viewed in the browser however the Interactive Python Notebook File can also be opened in JupyterLab. Instructions are given below for installing JupyterLab."
   ]
  },
  {
   "cell_type": "markdown",
   "id": "certain-european",
   "metadata": {},
   "source": [
    "## Installing Python, Anaconda and JupyterLab3"
   ]
  },
  {
   "cell_type": "markdown",
   "id": "vocal-stuff",
   "metadata": {},
   "source": [
    "It is recommended to install the Anaconda Python Distribution. The Anaconda Python Distribution contains the Python programming language, plus a number of Python libraries which are commonly used for data science (this particular guide will only look at the Python Programming language and won't delve into other libraries) and a number of Integrated Developer Environments (IDEs) which allow the user to interface with Python. The Spyder and JupyterLab IDEs are particularly good for begineers and geared towards data scientists. The JupyterLab IDE allows one to write code within a Notebook file which can contain code and markdown cells (test, Latex equations, links and pictures). This document is written in JupyterLab and this guide focuses on using JupyterLab."
   ]
  },
  {
   "cell_type": "markdown",
   "id": "duplicate-reservoir",
   "metadata": {},
   "source": [
    "### Installing Anaconda"
   ]
  },
  {
   "cell_type": "markdown",
   "id": "elder-growing",
   "metadata": {},
   "source": [
    "__[Anaconda Individual Edition Download](https://www.anaconda.com/products/individual)__"
   ]
  },
  {
   "cell_type": "markdown",
   "id": "figured-cotton",
   "metadata": {},
   "source": [
    "Select your Operating System and install the 64 Bit option. I will use Windows 10 as an example."
   ]
  },
  {
   "cell_type": "markdown",
   "id": "pediatric-grammar",
   "metadata": {},
   "source": [
    "![Anaconda_1](Anaconda_1.png)"
   ]
  },
  {
   "cell_type": "markdown",
   "id": "daily-reality",
   "metadata": {},
   "source": [
    "Once Anaconda is downloaded, launch the setup."
   ]
  },
  {
   "cell_type": "markdown",
   "id": "hairy-renewal",
   "metadata": {},
   "source": [
    "![Anaconda_2](Anaconda_2.png)"
   ]
  },
  {
   "cell_type": "markdown",
   "id": "perfect-fetish",
   "metadata": {},
   "source": [
    "Select next."
   ]
  },
  {
   "cell_type": "markdown",
   "id": "controlled-density",
   "metadata": {},
   "source": [
    "![Anaconda_3](Anaconda_3.png)"
   ]
  },
  {
   "cell_type": "markdown",
   "id": "indirect-atlas",
   "metadata": {},
   "source": [
    "Read the End User Licence Agreement and select I Agree."
   ]
  },
  {
   "cell_type": "markdown",
   "id": "light-glasgow",
   "metadata": {},
   "source": [
    "![Anaconda_4](Anaconda_4.png)"
   ]
  },
  {
   "cell_type": "markdown",
   "id": "abroad-aggregate",
   "metadata": {},
   "source": [
    "![Anaconda_Launch](Anaconda_Launch.png)"
   ]
  },
  {
   "cell_type": "markdown",
   "id": "unlike-crystal",
   "metadata": {},
   "source": [
    "Select Just Me and then Next."
   ]
  },
  {
   "cell_type": "markdown",
   "id": "indie-scanner",
   "metadata": {},
   "source": [
    "![Anaconda_5](Anaconda_5.png)"
   ]
  },
  {
   "cell_type": "markdown",
   "id": "supreme-association",
   "metadata": {},
   "source": [
    "Anaconda will be installed by default within your User Directory. Select Next."
   ]
  },
  {
   "cell_type": "markdown",
   "id": "strategic-malta",
   "metadata": {},
   "source": [
    "![Anaconda_6](Anaconda_6.png)"
   ]
  },
  {
   "cell_type": "markdown",
   "id": "demographic-modern",
   "metadata": {},
   "source": [
    "It is recommended to use the default options. Select Install."
   ]
  },
  {
   "cell_type": "markdown",
   "id": "widespread-secretary",
   "metadata": {},
   "source": [
    "![Anaconda_7](Anaconda_7.png)"
   ]
  },
  {
   "cell_type": "markdown",
   "id": "tracked-rubber",
   "metadata": {},
   "source": [
    "Select Next."
   ]
  },
  {
   "cell_type": "markdown",
   "id": "negative-semester",
   "metadata": {},
   "source": [
    "![Anaconda_8](Anaconda_8.png)"
   ]
  },
  {
   "cell_type": "markdown",
   "id": "universal-railway",
   "metadata": {},
   "source": [
    "Select Next."
   ]
  },
  {
   "cell_type": "markdown",
   "id": "pointed-webster",
   "metadata": {},
   "source": [
    "![Anaconda_9](Anaconda_9.png)"
   ]
  },
  {
   "cell_type": "markdown",
   "id": "conventional-manchester",
   "metadata": {},
   "source": [
    "Anaconda is installed. Now select Finish."
   ]
  },
  {
   "cell_type": "markdown",
   "id": "enhanced-revision",
   "metadata": {},
   "source": [
    "![Anaconda_10](Anaconda_10.png)"
   ]
  },
  {
   "cell_type": "markdown",
   "id": "widespread-token",
   "metadata": {},
   "source": [
    "### Updating JupyterLab"
   ]
  },
  {
   "cell_type": "markdown",
   "id": "bottom-silver",
   "metadata": {},
   "source": [
    "The Anaconda installation contains an older version of JupyterLab. You will need to update it by using the Anaconda Powershell Prompt."
   ]
  },
  {
   "cell_type": "markdown",
   "id": "skilled-weapon",
   "metadata": {},
   "source": [
    "![JupyterLab_Install1](JupyterLab_Install1.png)"
   ]
  },
  {
   "cell_type": "markdown",
   "id": "dangerous-lebanon",
   "metadata": {},
   "source": [
    "Copy and paste the following line of code."
   ]
  },
  {
   "cell_type": "markdown",
   "id": "sunset-traveler",
   "metadata": {},
   "source": [
    "```conda install -c conda-forge jupyterlab=3```"
   ]
  },
  {
   "cell_type": "markdown",
   "id": "consolidated-metropolitan",
   "metadata": {},
   "source": [
    "![JupyterLab_Install2](JupyterLab_Install2.png)"
   ]
  },
  {
   "cell_type": "markdown",
   "id": "entitled-comfort",
   "metadata": {},
   "source": [
    "To proceed with the install type in."
   ]
  },
  {
   "cell_type": "markdown",
   "id": "intended-amazon",
   "metadata": {},
   "source": [
    "```y```"
   ]
  },
  {
   "cell_type": "markdown",
   "id": "otherwise-checklist",
   "metadata": {},
   "source": [
    "![JupyterLab_Install3](JupyterLab_Install3.png)"
   ]
  },
  {
   "cell_type": "markdown",
   "id": "adult-agenda",
   "metadata": {},
   "source": [
    "JupyterLab should now be installed."
   ]
  },
  {
   "cell_type": "markdown",
   "id": "respective-legislation",
   "metadata": {},
   "source": [
    "![JupyterLab_Install4](JupyterLab_Install4.png)"
   ]
  },
  {
   "cell_type": "markdown",
   "id": "comprehensive-saudi",
   "metadata": {},
   "source": [
    "Launch the Anaconda Navigator."
   ]
  },
  {
   "cell_type": "markdown",
   "id": "flexible-housing",
   "metadata": {},
   "source": [
    "![Anaconda_1](Anaconda_1.png)"
   ]
  },
  {
   "cell_type": "markdown",
   "id": "detected-wright",
   "metadata": {},
   "source": [
    "### Launching JupyterLab"
   ]
  },
  {
   "cell_type": "markdown",
   "id": "assisted-relay",
   "metadata": {},
   "source": [
    "From the Anaconda Navigator you can launch JupyterLab."
   ]
  },
  {
   "cell_type": "markdown",
   "id": "reverse-athletics",
   "metadata": {},
   "source": [
    "![JupyterLab_Launch1](JupyterLab_Launch1.png)"
   ]
  },
  {
   "cell_type": "markdown",
   "id": "muslim-region",
   "metadata": {},
   "source": [
    "JupyterLab will now display within your browser. To the left hand side is a file explorer. To the right side is a launcher."
   ]
  },
  {
   "cell_type": "markdown",
   "id": "floppy-ordinary",
   "metadata": {},
   "source": [
    "![JupyterLab_Launch2](JupyterLab_Launch2.png)"
   ]
  },
  {
   "cell_type": "markdown",
   "id": "identified-carter",
   "metadata": {},
   "source": [
    "### Downloading and Opening the Interactive Python Notebook (IPYNB) File from GitHub"
   ]
  },
  {
   "cell_type": "markdown",
   "id": "mighty-oracle",
   "metadata": {},
   "source": [
    "The folder containing all embedded images and this JupyterLab Notebook should be downloaded as a zip file from GitHub and extracted to a folder of your desired location."
   ]
  },
  {
   "cell_type": "markdown",
   "id": "efficient-bicycle",
   "metadata": {},
   "source": [
    "__[GitHub Object Orientated Programming](https://github.com/PhilipYip1988/1-object-orientated-programming)__"
   ]
  },
  {
   "cell_type": "markdown",
   "id": "moving-faith",
   "metadata": {},
   "source": [
    "![GitHub](GitHub.png)"
   ]
  },
  {
   "cell_type": "markdown",
   "id": "czech-legislation",
   "metadata": {},
   "source": [
    "Navigate to your extracted folder and open up objectorientatedprogramming.ipynb"
   ]
  },
  {
   "cell_type": "markdown",
   "id": "valid-closing",
   "metadata": {},
   "source": [
    "![OpenJupterLabNotebook](OpenJupterLabNotebook.png)"
   ]
  },
  {
   "cell_type": "markdown",
   "id": "undefined-oxford",
   "metadata": {},
   "source": [
    "Because it has a number of images embedded it will take a minute or so to load."
   ]
  },
  {
   "cell_type": "markdown",
   "id": "retired-fortune",
   "metadata": {},
   "source": [
    "![OpenJupterLabNotebook2](OpenJupterLabNotebook2.png)"
   ]
  },
  {
   "cell_type": "markdown",
   "id": "turkish-identifier",
   "metadata": {},
   "source": [
    "The notebook will display."
   ]
  },
  {
   "cell_type": "markdown",
   "id": "threatened-sherman",
   "metadata": {},
   "source": [
    "![OpenJupterLabNotebook3](OpenJupterLabNotebook3.png)"
   ]
  },
  {
   "cell_type": "markdown",
   "id": "rapid-tiger",
   "metadata": {},
   "source": [
    "You can select Kernel and either Restart Kernel and Clear All Outputs (if you want to look at the Notebook cell by cell) or Restart Kernal and Run All Cells (if you want to quickly scroll through it)."
   ]
  },
  {
   "cell_type": "markdown",
   "id": "irish-attendance",
   "metadata": {},
   "source": [
    "![OpenJupterLabNotebook4](OpenJupterLabNotebook4.png)"
   ]
  },
  {
   "cell_type": "markdown",
   "id": "spread-section",
   "metadata": {},
   "source": [
    "To the left hand side you can select the Notebook bookmarks."
   ]
  },
  {
   "cell_type": "markdown",
   "id": "clean-updating",
   "metadata": {},
   "source": [
    "![OpenJupterLabNotebook5](OpenJupterLabNotebook5.png)"
   ]
  },
  {
   "cell_type": "markdown",
   "id": "latest-magic",
   "metadata": {},
   "source": [
    "## Numeric Variables"
   ]
  },
  {
   "cell_type": "markdown",
   "id": "rocky-reach",
   "metadata": {},
   "source": [
    "### Integer Numbers (int)"
   ]
  },
  {
   "cell_type": "markdown",
   "id": "fitting-moore",
   "metadata": {},
   "source": [
    "Python recognises numeric integer values for example."
   ]
  },
  {
   "cell_type": "code",
   "execution_count": 1,
   "id": "buried-extra",
   "metadata": {},
   "outputs": [
    {
     "data": {
      "text/plain": [
       "1"
      ]
     },
     "execution_count": 1,
     "metadata": {},
     "output_type": "execute_result"
    }
   ],
   "source": [
    "1"
   ]
  },
  {
   "cell_type": "markdown",
   "id": "alleged-hampton",
   "metadata": {},
   "source": [
    "It also recognises numeric operators such as:\n",
    "* (+ add) which adds the 0th number (self) to the 1st number (other)\n",
    "* (- sub) which takes the 0th number (self) and subtracts the 1st number (other)\n",
    "* (* mul) which multiplies the 0th number (self) and the 1st number (other)\n",
    "* (** pow) which gives the 0th number (self) to the power of the 1st number (other)"
   ]
  },
  {
   "cell_type": "code",
   "execution_count": 2,
   "id": "demographic-memorial",
   "metadata": {},
   "outputs": [
    {
     "data": {
      "text/plain": [
       "3"
      ]
     },
     "execution_count": 2,
     "metadata": {},
     "output_type": "execute_result"
    }
   ],
   "source": [
    "1+2"
   ]
  },
  {
   "cell_type": "code",
   "execution_count": 3,
   "id": "olympic-hello",
   "metadata": {},
   "outputs": [
    {
     "data": {
      "text/plain": [
       "1"
      ]
     },
     "execution_count": 3,
     "metadata": {},
     "output_type": "execute_result"
    }
   ],
   "source": [
    "2-1"
   ]
  },
  {
   "cell_type": "code",
   "execution_count": 4,
   "id": "agreed-think",
   "metadata": {},
   "outputs": [
    {
     "data": {
      "text/plain": [
       "4"
      ]
     },
     "execution_count": 4,
     "metadata": {},
     "output_type": "execute_result"
    }
   ],
   "source": [
    "2*2"
   ]
  },
  {
   "cell_type": "code",
   "execution_count": 5,
   "id": "ethical-audience",
   "metadata": {},
   "outputs": [
    {
     "data": {
      "text/plain": [
       "8"
      ]
     },
     "execution_count": 5,
     "metadata": {},
     "output_type": "execute_result"
    }
   ],
   "source": [
    "2**3"
   ]
  },
  {
   "cell_type": "markdown",
   "id": "upset-salvation",
   "metadata": {},
   "source": [
    "All the numbers above are objects. Python is an object orientated programming language. The object type can be checked by use of the function type. If the function type is called without parenthesis the return statement will just tell us we have used the function type (which isn't so useful)."
   ]
  },
  {
   "cell_type": "code",
   "execution_count": 6,
   "id": "million-river",
   "metadata": {},
   "outputs": [
    {
     "data": {
      "text/plain": [
       "type"
      ]
     },
     "execution_count": 6,
     "metadata": {},
     "output_type": "execute_result"
    }
   ],
   "source": [
    "type"
   ]
  },
  {
   "cell_type": "markdown",
   "id": "governing-campbell",
   "metadata": {},
   "source": [
    "A function uses parenthesis to enclose its input arguments. Details about the input arguments can be found by typing in the function followed by tab ↹ and shift ⇧. In this case we see that there is a single positional input argument self (or object)."
   ]
  },
  {
   "cell_type": "markdown",
   "id": "searching-uncle",
   "metadata": {},
   "source": [
    "![function_type](function_type.png)"
   ]
  },
  {
   "cell_type": "markdown",
   "id": "painful-familiar",
   "metadata": {},
   "source": [
    "For example we can use the number 4 as the object."
   ]
  },
  {
   "cell_type": "code",
   "execution_count": 7,
   "id": "personalized-meeting",
   "metadata": {},
   "outputs": [
    {
     "data": {
      "text/plain": [
       "int"
      ]
     },
     "execution_count": 7,
     "metadata": {},
     "output_type": "execute_result"
    }
   ],
   "source": [
    "type(4)"
   ]
  },
  {
   "cell_type": "markdown",
   "id": "olive-value",
   "metadata": {},
   "source": [
    "We see that the type returns int (an abbreviation for integer) meaning it corresponds to a whole number. "
   ]
  },
  {
   "cell_type": "markdown",
   "id": "electric-liabilities",
   "metadata": {},
   "source": [
    "We can use \n",
    "* (// truediv) which takes the 0th number (self) and divides it by the 1st number (other) to return an integer. If the 0th number (self) does not divide fully by the 1st number (self) only a comple integer will be returned and there will be a bit left behind known as a remainder or modulo.\n",
    "* (% mod) returns the modulo from the equivalent true divide."
   ]
  },
  {
   "cell_type": "markdown",
   "id": "legitimate-consciousness",
   "metadata": {},
   "source": [
    "4 true divided by 2 gives 2 complete integers and no modulo integer."
   ]
  },
  {
   "cell_type": "code",
   "execution_count": 8,
   "id": "arranged-dream",
   "metadata": {},
   "outputs": [
    {
     "data": {
      "text/plain": [
       "2"
      ]
     },
     "execution_count": 8,
     "metadata": {},
     "output_type": "execute_result"
    }
   ],
   "source": [
    "4//2"
   ]
  },
  {
   "cell_type": "code",
   "execution_count": 9,
   "id": "obvious-colony",
   "metadata": {},
   "outputs": [
    {
     "data": {
      "text/plain": [
       "0"
      ]
     },
     "execution_count": 9,
     "metadata": {},
     "output_type": "execute_result"
    }
   ],
   "source": [
    "4%2"
   ]
  },
  {
   "cell_type": "markdown",
   "id": "raising-geneva",
   "metadata": {},
   "source": [
    "5 integer divided by 2 gives 2 complete integers and a modulo integer of 1."
   ]
  },
  {
   "cell_type": "code",
   "execution_count": 10,
   "id": "musical-harvest",
   "metadata": {},
   "outputs": [
    {
     "data": {
      "text/plain": [
       "2"
      ]
     },
     "execution_count": 10,
     "metadata": {},
     "output_type": "execute_result"
    }
   ],
   "source": [
    "5//2"
   ]
  },
  {
   "cell_type": "code",
   "execution_count": 11,
   "id": "dirty-sacrifice",
   "metadata": {},
   "outputs": [
    {
     "data": {
      "text/plain": [
       "1"
      ]
     },
     "execution_count": 11,
     "metadata": {},
     "output_type": "execute_result"
    }
   ],
   "source": [
    "5%2"
   ]
  },
  {
   "cell_type": "markdown",
   "id": "encouraging-balloon",
   "metadata": {},
   "source": [
    "In Python it is also possible to assign objects to object names. Object names should be in lower case letters without spaces or special characters. The underscore \\_ can be used as part of the object name. Object names can contain numbers but can't begin with a number. For example let's create the object a and assign it to the value 4. In Python the = sign is known as the assignment operator."
   ]
  },
  {
   "cell_type": "code",
   "execution_count": 12,
   "id": "defined-aggregate",
   "metadata": {},
   "outputs": [],
   "source": [
    "a=4"
   ]
  },
  {
   "cell_type": "markdown",
   "id": "systematic-fifteen",
   "metadata": {},
   "source": [
    "The above means the object a is assigned to the value of 4."
   ]
  },
  {
   "cell_type": "markdown",
   "id": "naughty-finder",
   "metadata": {},
   "source": [
    "Note when we assign a value to an object name we do not see anything printed in the cell. We can see the value of an object by typing it directly in a cell."
   ]
  },
  {
   "cell_type": "code",
   "execution_count": 13,
   "id": "qualified-macro",
   "metadata": {},
   "outputs": [
    {
     "data": {
      "text/plain": [
       "4"
      ]
     },
     "execution_count": 13,
     "metadata": {},
     "output_type": "execute_result"
    }
   ],
   "source": [
    "a"
   ]
  },
  {
   "cell_type": "markdown",
   "id": "hollywood-chile",
   "metadata": {},
   "source": [
    "We can also use the function print to print the value of an object to the cell output. Recall that to use a function we need to use parenthesis. Details about the input arguments can be found by typing in the function followed by tab ↹ and shift ⇧. In this case we see that there is a single positional input argument value followed by a ... The ... tells us that we can place multiple different values as positional input arguments. To seperate each value out we must use the comma , as a delimiter. There are additional keyword input arguments sep, end, file and flush which have a default value. This default value will be used when the keyword input argument is not specified. We will ignore these for now and come back to them later."
   ]
  },
  {
   "cell_type": "markdown",
   "id": "early-benchmark",
   "metadata": {},
   "source": [
    "![function_print](function_print.png)"
   ]
  },
  {
   "cell_type": "markdown",
   "id": "detected-psychiatry",
   "metadata": {},
   "source": [
    "This time our object has the name a, so we will print the value of this object."
   ]
  },
  {
   "cell_type": "code",
   "execution_count": 14,
   "id": "periodic-scholarship",
   "metadata": {},
   "outputs": [
    {
     "name": "stdout",
     "output_type": "stream",
     "text": [
      "4\n"
     ]
    }
   ],
   "source": [
    "print(a)"
   ]
  },
  {
   "cell_type": "markdown",
   "id": "incomplete-involvement",
   "metadata": {},
   "source": [
    "As we seen above the object name a corresponds to a value of 4. The object name can be used in numeric calculations in place of the value 4."
   ]
  },
  {
   "cell_type": "code",
   "execution_count": 15,
   "id": "better-attendance",
   "metadata": {},
   "outputs": [
    {
     "data": {
      "text/plain": [
       "5"
      ]
     },
     "execution_count": 15,
     "metadata": {},
     "output_type": "execute_result"
    }
   ],
   "source": [
    "a+1"
   ]
  },
  {
   "cell_type": "markdown",
   "id": "least-amendment",
   "metadata": {},
   "source": [
    "When using the assignment operator = the object name must be on the left hand side of the assignment operator and the value assigned to the object name is on the right hand side."
   ]
  },
  {
   "cell_type": "markdown",
   "id": "broke-homeless",
   "metadata": {},
   "source": [
    "The following line will display the following error. Note that both the code and the image of the error are placed in a markdown cell to prevent the error from holding up the Python Kernel in the notebook. This will be done for later code that also flags up errors."
   ]
  },
  {
   "cell_type": "markdown",
   "id": "young-horse",
   "metadata": {},
   "source": [
    "```2=b```"
   ]
  },
  {
   "cell_type": "markdown",
   "id": "controlled-stewart",
   "metadata": {},
   "source": [
    "![assignment_operator_error](assignment_operator_error.png)"
   ]
  },
  {
   "cell_type": "markdown",
   "id": "conscious-latvia",
   "metadata": {},
   "source": [
    "The line 2=b does not make sense to python. First of all python doesn't know the numeric value of the object b and second of all it does not make sense to update the value of the number 2 to anything else as this would mess up all subsequent numeric calculations."
   ]
  },
  {
   "cell_type": "markdown",
   "id": "simplified-child",
   "metadata": {},
   "source": [
    "When the assignment operator is used, the numeric operation on the right hand side is first calculated and the value of this numeric operation is assigned to the object name."
   ]
  },
  {
   "cell_type": "raw",
   "id": "looking-honey",
   "metadata": {},
   "source": [
    "b=2+3"
   ]
  },
  {
   "cell_type": "markdown",
   "id": "alien-action",
   "metadata": {},
   "source": [
    "The value isn't displayed in the console, we can print using the print statement."
   ]
  },
  {
   "cell_type": "code",
   "execution_count": 16,
   "id": "functioning-photography",
   "metadata": {},
   "outputs": [
    {
     "name": "stdout",
     "output_type": "stream",
     "text": [
      "5\n"
     ]
    }
   ],
   "source": [
    "b=2+3\n",
    "print(b)"
   ]
  },
  {
   "cell_type": "markdown",
   "id": "incident-sellers",
   "metadata": {},
   "source": [
    "Here we see the operation on the right hand side is completed first, the calculation 2+3 is performed giving the value 5 and this is assigned to the object name b. "
   ]
  },
  {
   "cell_type": "markdown",
   "id": "otherwise-peter",
   "metadata": {},
   "source": [
    "Python operators follow mathematical rulse for precidence."
   ]
  },
  {
   "cell_type": "markdown",
   "id": "talented-credit",
   "metadata": {},
   "source": [
    "* ( )\n",
    "* \\*\\*\n",
    "* *\n",
    "* \\\\\n",
    "* +\n",
    "* -\n"
   ]
  },
  {
   "cell_type": "markdown",
   "id": "expensive-inspection",
   "metadata": {},
   "source": [
    "In the following statement the * operator takes precidence of + so we perform 2\\*3 to get 6 in the 0th step and then add 5 to this in the 1st step returning 11."
   ]
  },
  {
   "cell_type": "code",
   "execution_count": 17,
   "id": "charitable-visiting",
   "metadata": {},
   "outputs": [
    {
     "name": "stdout",
     "output_type": "stream",
     "text": [
      "11\n"
     ]
    }
   ],
   "source": [
    "b=5+2*3\n",
    "print(b)"
   ]
  },
  {
   "cell_type": "markdown",
   "id": "wireless-conservative",
   "metadata": {},
   "source": [
    "With parenthesis added () the (5+2) takes precidence over the * so we get 7 in the 0th step and then multiply this by 3 in the 1st step returning21."
   ]
  },
  {
   "cell_type": "code",
   "execution_count": 18,
   "id": "satisfactory-reaction",
   "metadata": {},
   "outputs": [
    {
     "name": "stdout",
     "output_type": "stream",
     "text": [
      "21\n"
     ]
    }
   ],
   "source": [
    "b=(5+2)*3\n",
    "print(b)"
   ]
  },
  {
   "cell_type": "markdown",
   "id": "passing-asbestos",
   "metadata": {},
   "source": [
    "In Python it is quite common to reassign an object name. For example, the object name a was previously assigned a value of 4. "
   ]
  },
  {
   "cell_type": "code",
   "execution_count": 19,
   "id": "optimum-celebrity",
   "metadata": {},
   "outputs": [
    {
     "name": "stdout",
     "output_type": "stream",
     "text": [
      "4\n"
     ]
    }
   ],
   "source": [
    "print(a)"
   ]
  },
  {
   "cell_type": "markdown",
   "id": "concerned-comparative",
   "metadata": {},
   "source": [
    "Now it can be reassigned a value of 3. "
   ]
  },
  {
   "cell_type": "code",
   "execution_count": 20,
   "id": "intended-flush",
   "metadata": {},
   "outputs": [],
   "source": [
    "a=3"
   ]
  },
  {
   "cell_type": "markdown",
   "id": "trained-colony",
   "metadata": {},
   "source": [
    "When the object is reassigned a value, the previous value is forgotten. printing the value of a will only return its currently assigned value."
   ]
  },
  {
   "cell_type": "code",
   "execution_count": 21,
   "id": "mexican-uncertainty",
   "metadata": {},
   "outputs": [
    {
     "name": "stdout",
     "output_type": "stream",
     "text": [
      "3\n"
     ]
    }
   ],
   "source": [
    "print(a)"
   ]
  },
  {
   "cell_type": "markdown",
   "id": "posted-breakfast",
   "metadata": {},
   "source": [
    "It is common to reassign a value using a calculation involving the object name itself. For example."
   ]
  },
  {
   "cell_type": "code",
   "execution_count": 22,
   "id": "former-round",
   "metadata": {},
   "outputs": [],
   "source": [
    "a=a+2"
   ]
  },
  {
   "cell_type": "markdown",
   "id": "occupied-resource",
   "metadata": {},
   "source": [
    "Everything on the right hand side is carried out first. a currently has the value of 3, therefore a+2 returns the value of 5. This value of 5 is then reassigned to the object name a. Now a has a value of 5. Using the print function with the object a as the positional input argument should therefore return the value of 5."
   ]
  },
  {
   "cell_type": "code",
   "execution_count": 23,
   "id": "employed-binding",
   "metadata": {},
   "outputs": [
    {
     "name": "stdout",
     "output_type": "stream",
     "text": [
      "5\n"
     ]
    }
   ],
   "source": [
    "print(a)"
   ]
  },
  {
   "cell_type": "markdown",
   "id": "official-kuwait",
   "metadata": {},
   "source": [
    "It is quite common to increment the value of an integer by +n or -n in particular. The operator +=n and -=n will perform an inplace update of the value a."
   ]
  },
  {
   "cell_type": "code",
   "execution_count": 24,
   "id": "therapeutic-container",
   "metadata": {},
   "outputs": [],
   "source": [
    "a+=1"
   ]
  },
  {
   "cell_type": "code",
   "execution_count": 25,
   "id": "unauthorized-wages",
   "metadata": {},
   "outputs": [
    {
     "name": "stdout",
     "output_type": "stream",
     "text": [
      "6\n"
     ]
    }
   ],
   "source": [
    "print(a)"
   ]
  },
  {
   "cell_type": "code",
   "execution_count": 26,
   "id": "handy-champagne",
   "metadata": {},
   "outputs": [],
   "source": [
    "a+=1"
   ]
  },
  {
   "cell_type": "code",
   "execution_count": 27,
   "id": "diagnostic-thesis",
   "metadata": {},
   "outputs": [
    {
     "name": "stdout",
     "output_type": "stream",
     "text": [
      "7\n"
     ]
    }
   ],
   "source": [
    "print(a)"
   ]
  },
  {
   "cell_type": "code",
   "execution_count": 28,
   "id": "eight-terry",
   "metadata": {},
   "outputs": [],
   "source": [
    "a-=2"
   ]
  },
  {
   "cell_type": "code",
   "execution_count": 29,
   "id": "fifth-scholar",
   "metadata": {},
   "outputs": [
    {
     "name": "stdout",
     "output_type": "stream",
     "text": [
      "5\n"
     ]
    }
   ],
   "source": [
    "print(a)"
   ]
  },
  {
   "cell_type": "markdown",
   "id": "exempt-impact",
   "metadata": {},
   "source": [
    "Let's have a look at the object a in more detail. First let's have a look at its type."
   ]
  },
  {
   "cell_type": "code",
   "execution_count": 30,
   "id": "anonymous-detector",
   "metadata": {},
   "outputs": [
    {
     "data": {
      "text/plain": [
       "int"
      ]
     },
     "execution_count": 30,
     "metadata": {},
     "output_type": "execute_result"
    }
   ],
   "source": [
    "type(a)"
   ]
  },
  {
   "cell_type": "markdown",
   "id": "characteristic-locking",
   "metadata": {},
   "source": [
    "We see that it is a type int. a therefore shares common properties with other int objects. In Python, an object can possess attributes and methods. These can be accessed by typing in the objects name followed by a dot . and then pressing tab ↹. The list below shows attributes in blue and methods in orange which we will explore in more detail in a moment."
   ]
  },
  {
   "cell_type": "markdown",
   "id": "ranking-slovak",
   "metadata": {},
   "source": [
    "![int_attributes_methods](int_attributes_methods.png)"
   ]
  },
  {
   "cell_type": "markdown",
   "id": "italic-qatar",
   "metadata": {},
   "source": [
    "Each object is an instance of a class. More explicitly an instance called b can be created using an int class. "
   ]
  },
  {
   "cell_type": "markdown",
   "id": "copyrighted-admission",
   "metadata": {},
   "source": [
    "The Init signature of inbuilt classes such as int uses a similar syntax to a function. Typing in int followed by tab ↹ and shift ⇧ gives details about the input arguments. Like a function, a class Init signature uses parenthesis to encapsulate the input arguments. "
   ]
  },
  {
   "cell_type": "markdown",
   "id": "amino-israel",
   "metadata": {},
   "source": [
    "![instance_int_class](instance_int_class.png)"
   ]
  },
  {
   "cell_type": "markdown",
   "id": "veterinary-values",
   "metadata": {},
   "source": [
    "The following line creates an instance b (b is the instance name or object name) of the class int. Thinking of the class init signature as analagous to a function, the positional input argument x is the value we wish to make the integer."
   ]
  },
  {
   "cell_type": "code",
   "execution_count": 31,
   "id": "residential-savannah",
   "metadata": {},
   "outputs": [],
   "source": [
    "b=int(3)"
   ]
  },
  {
   "cell_type": "markdown",
   "id": "developmental-bradley",
   "metadata": {},
   "source": [
    "Creating an instance of a class is also known as instantiating a class. "
   ]
  },
  {
   "cell_type": "markdown",
   "id": "registered-necessity",
   "metadata": {},
   "source": [
    "Notice that the 0th positional input argument (python uses 0 order indexing so we count from 0 upwards) in a class is called self. Once a class is instantiated, self becomes a reference to the object name, in this case b. Typing in the instance name b followed by a dot . and ↹ shows the list of attributes and methods available to call from the instance b."
   ]
  },
  {
   "cell_type": "markdown",
   "id": "juvenile-guard",
   "metadata": {},
   "source": [
    "![int_attributes_methods2](int_attributes_methods2.png)"
   ]
  },
  {
   "cell_type": "markdown",
   "id": "configured-palestine",
   "metadata": {},
   "source": [
    "Note that these are identical to the attributes and methods available to call from the instance a. This is because both a and b are instances of the class int and these methods and attributes belong to the int class."
   ]
  },
  {
   "cell_type": "markdown",
   "id": "orange-america",
   "metadata": {},
   "source": [
    "The list below shows attributes (instances) in orange and methods (functions) in blue. "
   ]
  },
  {
   "cell_type": "markdown",
   "id": "downtown-illinois",
   "metadata": {},
   "source": [
    "An attribute of the object b can be thought of as an additional object that is referenced with respect to b. It is often a property of b. For example the attribute real will find the real component of b and this will also be an instance of the class int. imag will find the imaginary component of b and will also be an instance of the class int. In this case the real component is 3 and the number isn't a complex number so its imaginary component is 0."
   ]
  },
  {
   "cell_type": "markdown",
   "id": "corporate-barrel",
   "metadata": {},
   "source": [
    "Attributes do not have input arguments and are therefore always called without parenthesis. "
   ]
  },
  {
   "cell_type": "code",
   "execution_count": 32,
   "id": "brief-helicopter",
   "metadata": {},
   "outputs": [
    {
     "data": {
      "text/plain": [
       "3"
      ]
     },
     "execution_count": 32,
     "metadata": {},
     "output_type": "execute_result"
    }
   ],
   "source": [
    "b.real"
   ]
  },
  {
   "cell_type": "code",
   "execution_count": 33,
   "id": "simple-instruction",
   "metadata": {},
   "outputs": [
    {
     "data": {
      "text/plain": [
       "0"
      ]
     },
     "execution_count": 33,
     "metadata": {},
     "output_type": "execute_result"
    }
   ],
   "source": [
    "b.imag"
   ]
  },
  {
   "cell_type": "markdown",
   "id": "capable-gnome",
   "metadata": {},
   "source": [
    "As the attribute itself is an object, in this case also an int attributes and methods will be accessible from the attribute."
   ]
  },
  {
   "cell_type": "markdown",
   "id": "conscious-establishment",
   "metadata": {},
   "source": [
    "![int_attributes_methods3](int_attributes_methods3.png)"
   ]
  },
  {
   "cell_type": "markdown",
   "id": "widespread-procurement",
   "metadata": {},
   "source": [
    "b.real looks up the real component of b and b.real.real looks up the real component of the real component of b. "
   ]
  },
  {
   "cell_type": "code",
   "execution_count": 34,
   "id": "dental-partner",
   "metadata": {},
   "outputs": [
    {
     "data": {
      "text/plain": [
       "3"
      ]
     },
     "execution_count": 34,
     "metadata": {},
     "output_type": "execute_result"
    }
   ],
   "source": [
    "b.real.real"
   ]
  },
  {
   "cell_type": "markdown",
   "id": "banned-organic",
   "metadata": {},
   "source": [
    "And so on and so forth."
   ]
  },
  {
   "cell_type": "code",
   "execution_count": 35,
   "id": "expired-weekly",
   "metadata": {},
   "outputs": [
    {
     "data": {
      "text/plain": [
       "3"
      ]
     },
     "execution_count": 35,
     "metadata": {},
     "output_type": "execute_result"
    }
   ],
   "source": [
    "b.real.real.real.real.real.real.real.real.real.real.real.real"
   ]
  },
  {
   "cell_type": "markdown",
   "id": "banner-moral",
   "metadata": {},
   "source": [
    "Methods usually possess input arguments and have to always be called with parenthesis. If a method is called without parenthesis the output will inform the user that it is a function belonging to the int class i.e. a method of the int class. Recall when the function type was called without parenthes we got a similar behaviour. "
   ]
  },
  {
   "cell_type": "code",
   "execution_count": 36,
   "id": "cutting-prevention",
   "metadata": {},
   "outputs": [
    {
     "data": {
      "text/plain": [
       "<function int.conjugate>"
      ]
     },
     "execution_count": 36,
     "metadata": {},
     "output_type": "execute_result"
    }
   ],
   "source": [
    "b.conjugate"
   ]
  },
  {
   "cell_type": "markdown",
   "id": "occupational-sunrise",
   "metadata": {},
   "source": [
    "Details about the input arguments can be found by typing in the function followed by tab ↹ and shift ⇧ (again in the same manner as they are determined for functions). In this case we see that there are no input arguments."
   ]
  },
  {
   "cell_type": "markdown",
   "id": "current-phoenix",
   "metadata": {},
   "source": [
    "![int_method_conjugate](int_method_conjugate.png)"
   ]
  },
  {
   "cell_type": "markdown",
   "id": "charitable-verse",
   "metadata": {},
   "source": [
    "Therefore the method is called without any input arguments."
   ]
  },
  {
   "cell_type": "code",
   "execution_count": 37,
   "id": "legislative-white",
   "metadata": {},
   "outputs": [
    {
     "data": {
      "text/plain": [
       "3"
      ]
     },
     "execution_count": 37,
     "metadata": {},
     "output_type": "execute_result"
    }
   ],
   "source": [
    "b.conjugate()"
   ]
  },
  {
   "cell_type": "markdown",
   "id": "uniform-reproduction",
   "metadata": {},
   "source": [
    "Attributes are read directly as properties of the object. The method conjugate may look like an attribute at first glance however uses an underlying function to calculate the complex conjugate. Behind the scenes the method conjugate looks at the attribute b.real for the real component and the attribute b.imag for the imaginary component and then reverses the sign of the imaginary component to return the complex conjugate. "
   ]
  },
  {
   "cell_type": "markdown",
   "id": "quiet-couple",
   "metadata": {},
   "source": [
    "An instance can be deleted by using the function del."
   ]
  },
  {
   "cell_type": "code",
   "execution_count": 38,
   "id": "disturbed-majority",
   "metadata": {},
   "outputs": [],
   "source": [
    "del(b)"
   ]
  },
  {
   "cell_type": "markdown",
   "id": "completed-flight",
   "metadata": {},
   "source": [
    "Trying to access a variable that has been deleted (or has never existed because it has never been defined) gives a NameError."
   ]
  },
  {
   "cell_type": "markdown",
   "id": "british-concentration",
   "metadata": {},
   "source": [
    "The following line will display the following error. Once again both the code and the image of the error are placed in a markdown cell to prevent the error from holding up the Python Kernel in the notebook. "
   ]
  },
  {
   "cell_type": "markdown",
   "id": "reasonable-decade",
   "metadata": {},
   "source": [
    "```b```"
   ]
  },
  {
   "cell_type": "markdown",
   "id": "difficult-batch",
   "metadata": {},
   "source": [
    "![NameError](NameError.png)"
   ]
  },
  {
   "cell_type": "markdown",
   "id": "described-patrick",
   "metadata": {},
   "source": [
    "### Floating Point Numbers (float)"
   ]
  },
  {
   "cell_type": "markdown",
   "id": "dress-walnut",
   "metadata": {},
   "source": [
    "We have discussed int numbers and int operations so far. It is also possible to create a floating point number i.e. a number that has a decimal component. The . is used to denote a decimal point. "
   ]
  },
  {
   "cell_type": "code",
   "execution_count": 39,
   "id": "regular-techno",
   "metadata": {},
   "outputs": [],
   "source": [
    "c=2.1"
   ]
  },
  {
   "cell_type": "markdown",
   "id": "included-receipt",
   "metadata": {},
   "source": [
    "Let's check the type of c."
   ]
  },
  {
   "cell_type": "code",
   "execution_count": 40,
   "id": "professional-greece",
   "metadata": {},
   "outputs": [
    {
     "data": {
      "text/plain": [
       "float"
      ]
     },
     "execution_count": 40,
     "metadata": {},
     "output_type": "execute_result"
    }
   ],
   "source": [
    "type(c)"
   ]
  },
  {
   "cell_type": "markdown",
   "id": "blocked-effects",
   "metadata": {},
   "source": [
    "We see that the type is float (an abbreviation for floating point number). If we type in the instance name followed by a dot . and then tab ↹ we will see a list of attributes and methods. "
   ]
  },
  {
   "cell_type": "markdown",
   "id": "existing-adrian",
   "metadata": {},
   "source": [
    "![float_attributes_methods](float_attributes_methods.png)"
   ]
  },
  {
   "cell_type": "markdown",
   "id": "negative-expense",
   "metadata": {},
   "source": [
    "If we compare this to b we will see some commonalities as both are numeric objects however there are slight differences reflecting the fact that these are different classes."
   ]
  },
  {
   "cell_type": "markdown",
   "id": "stunning-account",
   "metadata": {},
   "source": [
    "![int_attributes_methods2](int_attributes_methods2.png)"
   ]
  },
  {
   "cell_type": "markdown",
   "id": "precious-camcorder",
   "metadata": {},
   "source": [
    "The method is_integer for example will check if a floating point number is an integer. Typing in the float method is_integer and pressing tab ↹ and shift ⇧ gives details about the methods input arguments"
   ]
  },
  {
   "cell_type": "markdown",
   "id": "editorial-tournament",
   "metadata": {},
   "source": [
    "![float_method_is_integer](float_method_is_integer.png)"
   ]
  },
  {
   "cell_type": "markdown",
   "id": "cordless-duncan",
   "metadata": {},
   "source": [
    "We see in this case that the method once again has no input arguments, so is called using empty parenthesis. The value returned is False which is expected as this has a non-zero component following the decimal point."
   ]
  },
  {
   "cell_type": "code",
   "execution_count": 41,
   "id": "sustainable-projector",
   "metadata": {},
   "outputs": [
    {
     "data": {
      "text/plain": [
       "False"
      ]
     },
     "execution_count": 41,
     "metadata": {},
     "output_type": "execute_result"
    }
   ],
   "source": [
    "c.is_integer()"
   ]
  },
  {
   "cell_type": "markdown",
   "id": "rapid-consistency",
   "metadata": {},
   "source": [
    "We can also explicitly instantiate (create an instance of) a float class."
   ]
  },
  {
   "cell_type": "code",
   "execution_count": 42,
   "id": "literary-cooperative",
   "metadata": {},
   "outputs": [],
   "source": [
    "d=float(2.0)"
   ]
  },
  {
   "cell_type": "markdown",
   "id": "essential-sheffield",
   "metadata": {},
   "source": [
    "If we type in the instance name followed by a dot . and then tab ↹ we will see a list of attributes and methods. These match those of the object c as both c and d are instances of the float class."
   ]
  },
  {
   "cell_type": "markdown",
   "id": "characteristic-greeting",
   "metadata": {},
   "source": [
    "![float_attributes_methods2](float_attributes_methods2.png)"
   ]
  },
  {
   "cell_type": "markdown",
   "id": "hidden-communist",
   "metadata": {},
   "source": [
    "If we use the float method is_integer using the instance d we will get a return value of True as there is no non-zero number following the decimal point. "
   ]
  },
  {
   "cell_type": "code",
   "execution_count": 43,
   "id": "neutral-laundry",
   "metadata": {},
   "outputs": [
    {
     "data": {
      "text/plain": [
       "True"
      ]
     },
     "execution_count": 43,
     "metadata": {},
     "output_type": "execute_result"
    }
   ],
   "source": [
    "d.is_integer()"
   ]
  },
  {
   "cell_type": "markdown",
   "id": "straight-louisville",
   "metadata": {},
   "source": [
    "Earlier we see integer division (truediv //) and modulo (mod %). We can also perform float or true division.\n",
    "* (truediv /) divides the 0th number by the 1st number and returns a float."
   ]
  },
  {
   "cell_type": "code",
   "execution_count": 44,
   "id": "directed-apparatus",
   "metadata": {},
   "outputs": [
    {
     "data": {
      "text/plain": [
       "2.5"
      ]
     },
     "execution_count": 44,
     "metadata": {},
     "output_type": "execute_result"
    }
   ],
   "source": [
    "5/2"
   ]
  },
  {
   "cell_type": "markdown",
   "id": "inside-austria",
   "metadata": {},
   "source": [
    "Note that float division always returns a float. This occurs even when the return value is a complete number. For example."
   ]
  },
  {
   "cell_type": "code",
   "execution_count": 45,
   "id": "streaming-montgomery",
   "metadata": {},
   "outputs": [],
   "source": [
    "e=4/2"
   ]
  },
  {
   "cell_type": "markdown",
   "id": "prepared-volleyball",
   "metadata": {},
   "source": [
    "e looks like an int."
   ]
  },
  {
   "cell_type": "code",
   "execution_count": 46,
   "id": "toxic-problem",
   "metadata": {},
   "outputs": [
    {
     "data": {
      "text/plain": [
       "2.0"
      ]
     },
     "execution_count": 46,
     "metadata": {},
     "output_type": "execute_result"
    }
   ],
   "source": [
    "e"
   ]
  },
  {
   "cell_type": "markdown",
   "id": "dramatic-russia",
   "metadata": {},
   "source": [
    "However when we check its type we see that it is a float."
   ]
  },
  {
   "cell_type": "code",
   "execution_count": 47,
   "id": "desperate-telephone",
   "metadata": {},
   "outputs": [
    {
     "data": {
      "text/plain": [
       "float"
      ]
     },
     "execution_count": 47,
     "metadata": {},
     "output_type": "execute_result"
    }
   ],
   "source": [
    "type(e)"
   ]
  },
  {
   "cell_type": "code",
   "execution_count": 48,
   "id": "distinguished-colleague",
   "metadata": {},
   "outputs": [
    {
     "data": {
      "text/plain": [
       "True"
      ]
     },
     "execution_count": 48,
     "metadata": {},
     "output_type": "execute_result"
    }
   ],
   "source": [
    "e.is_integer()"
   ]
  },
  {
   "cell_type": "markdown",
   "id": "conservative-johnston",
   "metadata": {},
   "source": [
    "The output can be converted explicitly to an instance of the int class."
   ]
  },
  {
   "cell_type": "code",
   "execution_count": 49,
   "id": "popular-bridal",
   "metadata": {},
   "outputs": [],
   "source": [
    "e=int(e)"
   ]
  },
  {
   "cell_type": "markdown",
   "id": "gorgeous-planning",
   "metadata": {},
   "source": [
    "The type is now int and not float."
   ]
  },
  {
   "cell_type": "code",
   "execution_count": 50,
   "id": "retired-filling",
   "metadata": {},
   "outputs": [
    {
     "data": {
      "text/plain": [
       "int"
      ]
     },
     "execution_count": 50,
     "metadata": {},
     "output_type": "execute_result"
    }
   ],
   "source": [
    "type(e)"
   ]
  },
  {
   "cell_type": "markdown",
   "id": "careful-appraisal",
   "metadata": {},
   "source": [
    "Note when a float gets converted to an int, the decimal component gets truncated."
   ]
  },
  {
   "cell_type": "code",
   "execution_count": 51,
   "id": "hollywood-egypt",
   "metadata": {},
   "outputs": [
    {
     "data": {
      "text/plain": [
       "2.1"
      ]
     },
     "execution_count": 51,
     "metadata": {},
     "output_type": "execute_result"
    }
   ],
   "source": [
    "c"
   ]
  },
  {
   "cell_type": "code",
   "execution_count": 52,
   "id": "recorded-component",
   "metadata": {},
   "outputs": [
    {
     "data": {
      "text/plain": [
       "2"
      ]
     },
     "execution_count": 52,
     "metadata": {},
     "output_type": "execute_result"
    }
   ],
   "source": [
    "int(c)"
   ]
  },
  {
   "cell_type": "markdown",
   "id": "postal-latest",
   "metadata": {},
   "source": [
    "### Booleans (bool)"
   ]
  },
  {
   "cell_type": "markdown",
   "id": "palestinian-interface",
   "metadata": {},
   "source": [
    "When we used the float method is_integer we got back a value True or False (note the capitlaization). These are known as Boolean values."
   ]
  },
  {
   "cell_type": "code",
   "execution_count": 53,
   "id": "divided-bishop",
   "metadata": {},
   "outputs": [],
   "source": [
    "f=True"
   ]
  },
  {
   "cell_type": "markdown",
   "id": "demonstrated-reserve",
   "metadata": {},
   "source": [
    "If we look at the type, we can see that it is the type bool."
   ]
  },
  {
   "cell_type": "code",
   "execution_count": 54,
   "id": "british-builder",
   "metadata": {},
   "outputs": [
    {
     "data": {
      "text/plain": [
       "bool"
      ]
     },
     "execution_count": 54,
     "metadata": {},
     "output_type": "execute_result"
    }
   ],
   "source": [
    "type(f)"
   ]
  },
  {
   "cell_type": "markdown",
   "id": "phantom-shelter",
   "metadata": {},
   "source": [
    "If we type in the instance name followed by a dot . and then tab ↹ we will see a list of attributes and methods. These attributes and methods are the same as the int class."
   ]
  },
  {
   "cell_type": "markdown",
   "id": "surrounded-rogers",
   "metadata": {},
   "source": [
    "![bool_attributes_methods](bool_attributes_methods.png)"
   ]
  },
  {
   "cell_type": "markdown",
   "id": "express-screen",
   "metadata": {},
   "source": [
    "For most numeric calculations we can treat a True and False as 1 and 0 respectively. \n",
    "\n",
    "We can use the comparison operators:\n",
    "* (== eq) checks if the 0th number (self) is equal to the 1st number (other).\n",
    "* (!= ne) checks if the 0th number (self) is not equal to the 1st number (other).\n",
    "* (< lt) checks if the 0th number (self) is less than the 1st number (other).\n",
    "* (> gt) checks if the 0th number (self) is greater than the 1st number (other).\n",
    "* (<= le) checks if the 0th number (self) is less than or equal to the 1st number (other).\n",
    "* (>= ge) checks if the 0th number (self) us greater than or equal to the 1st number (other).\n",
    "\n",
    "These return a Boolean (True or False) value respectively."
   ]
  },
  {
   "cell_type": "code",
   "execution_count": 55,
   "id": "played-filter",
   "metadata": {},
   "outputs": [
    {
     "data": {
      "text/plain": [
       "True"
      ]
     },
     "execution_count": 55,
     "metadata": {},
     "output_type": "execute_result"
    }
   ],
   "source": [
    "True==1"
   ]
  },
  {
   "cell_type": "code",
   "execution_count": 56,
   "id": "fancy-snake",
   "metadata": {},
   "outputs": [
    {
     "data": {
      "text/plain": [
       "True"
      ]
     },
     "execution_count": 56,
     "metadata": {},
     "output_type": "execute_result"
    }
   ],
   "source": [
    "False==0"
   ]
  },
  {
   "cell_type": "markdown",
   "id": "young-knight",
   "metadata": {},
   "source": [
    "Note do not confuse the (eq ==) operator with the assignment operator (=). Also recall that all operations to the right are carried out before using the assignment operator. In the example below, the check for is 1 equal to 2 gives a False return statement which is then assigned to the object name g. g is an instance of the bool class."
   ]
  },
  {
   "cell_type": "code",
   "execution_count": 57,
   "id": "voluntary-racing",
   "metadata": {},
   "outputs": [],
   "source": [
    "g=1==2"
   ]
  },
  {
   "cell_type": "code",
   "execution_count": 58,
   "id": "engaged-bennett",
   "metadata": {},
   "outputs": [
    {
     "data": {
      "text/plain": [
       "False"
      ]
     },
     "execution_count": 58,
     "metadata": {},
     "output_type": "execute_result"
    }
   ],
   "source": [
    "g"
   ]
  },
  {
   "cell_type": "code",
   "execution_count": 59,
   "id": "diverse-nevada",
   "metadata": {},
   "outputs": [
    {
     "data": {
      "text/plain": [
       "bool"
      ]
     },
     "execution_count": 59,
     "metadata": {},
     "output_type": "execute_result"
    }
   ],
   "source": [
    "type(g)"
   ]
  },
  {
   "cell_type": "markdown",
   "id": "electric-little",
   "metadata": {},
   "source": [
    "Knowing True takes the value 1 and False takes the value 0, the following numeric operations can be carried out."
   ]
  },
  {
   "cell_type": "code",
   "execution_count": 60,
   "id": "aging-swiss",
   "metadata": {},
   "outputs": [
    {
     "data": {
      "text/plain": [
       "1"
      ]
     },
     "execution_count": 60,
     "metadata": {},
     "output_type": "execute_result"
    }
   ],
   "source": [
    "True+False"
   ]
  },
  {
   "cell_type": "code",
   "execution_count": 61,
   "id": "naked-palmer",
   "metadata": {},
   "outputs": [
    {
     "data": {
      "text/plain": [
       "0"
      ]
     },
     "execution_count": 61,
     "metadata": {},
     "output_type": "execute_result"
    }
   ],
   "source": [
    "True*False"
   ]
  },
  {
   "cell_type": "code",
   "execution_count": 62,
   "id": "correct-impossible",
   "metadata": {},
   "outputs": [
    {
     "data": {
      "text/plain": [
       "1"
      ]
     },
     "execution_count": 62,
     "metadata": {},
     "output_type": "execute_result"
    }
   ],
   "source": [
    "True-False"
   ]
  },
  {
   "cell_type": "markdown",
   "id": "foreign-scope",
   "metadata": {},
   "source": [
    "We can use comparison statements to check whether or not two expressions are equal. Care should be taken when using comparison statements with the float datatypes. Compare the two statements below. The exact value 2 and the exact value 1 when summed together make the exact value of 3 and the expression below shows True as expected."
   ]
  },
  {
   "cell_type": "markdown",
   "id": "educational-kingdom",
   "metadata": {},
   "source": [
    "If both sides are divided by 10 (i.e. have a datatype float)Details about the input arguments can be found by typing in the function followed by tab ↹ and shift  and the same equivalence is made the comparison yields a False result."
   ]
  },
  {
   "cell_type": "code",
   "execution_count": 63,
   "id": "starting-fairy",
   "metadata": {},
   "outputs": [
    {
     "data": {
      "text/plain": [
       "True"
      ]
     },
     "execution_count": 63,
     "metadata": {},
     "output_type": "execute_result"
    }
   ],
   "source": [
    "2+1==3"
   ]
  },
  {
   "cell_type": "code",
   "execution_count": 64,
   "id": "middle-typing",
   "metadata": {},
   "outputs": [
    {
     "data": {
      "text/plain": [
       "False"
      ]
     },
     "execution_count": 64,
     "metadata": {},
     "output_type": "execute_result"
    }
   ],
   "source": [
    "0.2+0.1==0.3"
   ]
  },
  {
   "cell_type": "markdown",
   "id": "revised-aquatic",
   "metadata": {},
   "source": [
    "Computers store numbers to a limited precision using binary notation. The calculation 0.1+0.2 (using decimal) leads to an exact number 0.3 but in binary it recurs forever (similar to the idea of a third in decimal notation). In any case to the default high precision number of decimal places, the last value is non-zero and therefore the two sides of the expression are not equivalent."
   ]
  },
  {
   "cell_type": "code",
   "execution_count": 65,
   "id": "direct-science",
   "metadata": {},
   "outputs": [
    {
     "data": {
      "text/plain": [
       "0.30000000000000004"
      ]
     },
     "execution_count": 65,
     "metadata": {},
     "output_type": "execute_result"
    }
   ],
   "source": [
    "0.2+0.1"
   ]
  },
  {
   "cell_type": "markdown",
   "id": "frank-grass",
   "metadata": {},
   "source": [
    "In most practical applications we wouldn't use such a high number of decimal places. We may decide 6 digits suffice. We can use the function round. Details about the input arguments for the function round can be found by typing in the function followed by tab ↹ and shift. We see number is a positional input argument and ndigits is a keyword input argument with a default value of 0. As this is a function, the input arguments must be enclosed in parenthesis. As we are using multiple input arguments we must use a comma , as a delimiter to seperate the input arguments."
   ]
  },
  {
   "cell_type": "markdown",
   "id": "lesbian-ireland",
   "metadata": {},
   "source": [
    "![round](round.png)"
   ]
  },
  {
   "cell_type": "code",
   "execution_count": 66,
   "id": "decimal-intention",
   "metadata": {},
   "outputs": [
    {
     "data": {
      "text/plain": [
       "0.3"
      ]
     },
     "execution_count": 66,
     "metadata": {},
     "output_type": "execute_result"
    }
   ],
   "source": [
    "round(0.1+0.2,ndigits=6)"
   ]
  },
  {
   "cell_type": "markdown",
   "id": "inclusive-steering",
   "metadata": {},
   "source": [
    "To this assigned number of digits the statement is True (as expected)."
   ]
  },
  {
   "cell_type": "code",
   "execution_count": 67,
   "id": "competitive-verse",
   "metadata": {},
   "outputs": [
    {
     "data": {
      "text/plain": [
       "True"
      ]
     },
     "execution_count": 67,
     "metadata": {},
     "output_type": "execute_result"
    }
   ],
   "source": [
    "round(0.1+0.2,ndigits=6)==round(0.3,ndigits=6)"
   ]
  },
  {
   "cell_type": "markdown",
   "id": "prerequisite-reminder",
   "metadata": {},
   "source": [
    "### Complex Numbers (complex)"
   ]
  },
  {
   "cell_type": "markdown",
   "id": "advance-demographic",
   "metadata": {},
   "source": [
    "The square root of a negaive number yields a complex number with an imaginary component used to handle the negative square root."
   ]
  },
  {
   "cell_type": "code",
   "execution_count": 68,
   "id": "completed-provision",
   "metadata": {},
   "outputs": [
    {
     "data": {
      "text/plain": [
       "(1.2246467991473532e-16+2j)"
      ]
     },
     "execution_count": 68,
     "metadata": {},
     "output_type": "execute_result"
    }
   ],
   "source": [
    "(-4)**0.5"
   ]
  },
  {
   "cell_type": "code",
   "execution_count": 69,
   "id": "fantastic-yesterday",
   "metadata": {},
   "outputs": [
    {
     "data": {
      "text/plain": [
       "complex"
      ]
     },
     "execution_count": 69,
     "metadata": {},
     "output_type": "execute_result"
    }
   ],
   "source": [
    "type((-4)**0.5)"
   ]
  },
  {
   "cell_type": "markdown",
   "id": "southwest-duplicate",
   "metadata": {},
   "source": [
    "The real component of the above number is represented using scientific notation. The e-16 denotes we are 16 places after the decimal point i.e. a very tiny number.  \n",
    "\n",
    "1e2 denotes we will have two zeros after the number."
   ]
  },
  {
   "cell_type": "code",
   "execution_count": 70,
   "id": "double-beverage",
   "metadata": {},
   "outputs": [
    {
     "data": {
      "text/plain": [
       "100.0"
      ]
     },
     "execution_count": 70,
     "metadata": {},
     "output_type": "execute_result"
    }
   ],
   "source": [
    "1e2"
   ]
  },
  {
   "cell_type": "markdown",
   "id": "cooked-finish",
   "metadata": {},
   "source": [
    "1e0 denotes we will have no zeros after the number."
   ]
  },
  {
   "cell_type": "code",
   "execution_count": 71,
   "id": "dressed-processor",
   "metadata": {},
   "outputs": [
    {
     "data": {
      "text/plain": [
       "1.0"
      ]
     },
     "execution_count": 71,
     "metadata": {},
     "output_type": "execute_result"
    }
   ],
   "source": [
    "1e0"
   ]
  },
  {
   "cell_type": "markdown",
   "id": "skilled-offense",
   "metadata": {},
   "source": [
    "1e-2 denotes we have 2 zeros before the number."
   ]
  },
  {
   "cell_type": "code",
   "execution_count": 72,
   "id": "occupational-insert",
   "metadata": {},
   "outputs": [
    {
     "data": {
      "text/plain": [
       "0.01"
      ]
     },
     "execution_count": 72,
     "metadata": {},
     "output_type": "execute_result"
    }
   ],
   "source": [
    "1e-2"
   ]
  },
  {
   "cell_type": "markdown",
   "id": "catholic-faith",
   "metadata": {},
   "source": [
    "A complex number (with a real and imaginary component) can be instantiated from the complex class. To instantiate a complex number both a real and imag component need to be speciifed. "
   ]
  },
  {
   "cell_type": "markdown",
   "id": "pregnant-momentum",
   "metadata": {},
   "source": [
    "![instance_complex_class](instance_complex_class.png)"
   ]
  },
  {
   "cell_type": "markdown",
   "id": "serial-prescription",
   "metadata": {},
   "source": [
    "Note for convenience the init signature of the complex class uses keyword input arguments which have a defaullt value of 0 unless explictly specified. We can set them to 1 and -2 respectively."
   ]
  },
  {
   "cell_type": "code",
   "execution_count": 73,
   "id": "artificial-shadow",
   "metadata": {},
   "outputs": [],
   "source": [
    "h=complex(real=1,imag=-2)"
   ]
  },
  {
   "cell_type": "code",
   "execution_count": 74,
   "id": "meaningful-cornwall",
   "metadata": {},
   "outputs": [
    {
     "data": {
      "text/plain": [
       "(1-2j)"
      ]
     },
     "execution_count": 74,
     "metadata": {},
     "output_type": "execute_result"
    }
   ],
   "source": [
    "h"
   ]
  },
  {
   "cell_type": "markdown",
   "id": "subjective-training",
   "metadata": {},
   "source": [
    "![complex_attributes_methods](complex_attributes_methods.png)"
   ]
  },
  {
   "cell_type": "markdown",
   "id": "raising-participant",
   "metadata": {},
   "source": [
    "The attributes real and imag will look up the real and imaginary components respectively."
   ]
  },
  {
   "cell_type": "code",
   "execution_count": 75,
   "id": "humanitarian-float",
   "metadata": {},
   "outputs": [
    {
     "data": {
      "text/plain": [
       "1.0"
      ]
     },
     "execution_count": 75,
     "metadata": {},
     "output_type": "execute_result"
    }
   ],
   "source": [
    "h.real"
   ]
  },
  {
   "cell_type": "code",
   "execution_count": 76,
   "id": "genuine-wings",
   "metadata": {},
   "outputs": [
    {
     "data": {
      "text/plain": [
       "-2.0"
      ]
     },
     "execution_count": 76,
     "metadata": {},
     "output_type": "execute_result"
    }
   ],
   "source": [
    "h.imag"
   ]
  },
  {
   "cell_type": "code",
   "execution_count": 77,
   "id": "satisfied-plastic",
   "metadata": {},
   "outputs": [
    {
     "data": {
      "text/plain": [
       "(1+2j)"
      ]
     },
     "execution_count": 77,
     "metadata": {},
     "output_type": "execute_result"
    }
   ],
   "source": [
    "h.conjugate()"
   ]
  },
  {
   "cell_type": "markdown",
   "id": "naughty-function",
   "metadata": {},
   "source": [
    "## Text Variables - A String of Characters (str)"
   ]
  },
  {
   "cell_type": "markdown",
   "id": "collect-listening",
   "metadata": {},
   "source": [
    "It is also possible to create a variable that is a string of text abbreviated str. The string of text must be enclosed in quotation marks to prevent confusion with the variable name."
   ]
  },
  {
   "cell_type": "code",
   "execution_count": 78,
   "id": "comfortable-aurora",
   "metadata": {},
   "outputs": [],
   "source": [
    "i='i'"
   ]
  },
  {
   "cell_type": "markdown",
   "id": "consolidated-expression",
   "metadata": {},
   "source": [
    "The str 'i' is assigned to the object name i. Note the difference in the color coding between the str on the right hand side and the variable name on the left hand side. "
   ]
  },
  {
   "cell_type": "markdown",
   "id": "rolled-drunk",
   "metadata": {},
   "source": [
    "Sometimes the str may require a quotation or other special characters. Note when a quotation is added to the str, Python terminates the str opposed to including it within the str."
   ]
  },
  {
   "cell_type": "markdown",
   "id": "harmful-hardwood",
   "metadata": {},
   "source": [
    "![str_quotation](str_quotation.png)"
   ]
  },
  {
   "cell_type": "markdown",
   "id": "australian-cemetery",
   "metadata": {},
   "source": [
    "This can be addressed using the special character \\ to denote that a quotation is supposed to be incorporated into the str."
   ]
  },
  {
   "cell_type": "code",
   "execution_count": 79,
   "id": "educational-range",
   "metadata": {},
   "outputs": [
    {
     "data": {
      "text/plain": [
       "\"Philip's\""
      ]
     },
     "execution_count": 79,
     "metadata": {},
     "output_type": "execute_result"
    }
   ],
   "source": [
    "\"Philip's\""
   ]
  },
  {
   "cell_type": "markdown",
   "id": "regular-disclaimer",
   "metadata": {},
   "source": [
    "Note the output also shows that we can use double quotations for this particular case."
   ]
  },
  {
   "cell_type": "code",
   "execution_count": 80,
   "id": "sharp-ferry",
   "metadata": {},
   "outputs": [
    {
     "data": {
      "text/plain": [
       "\"Philip's\""
      ]
     },
     "execution_count": 80,
     "metadata": {},
     "output_type": "execute_result"
    }
   ],
   "source": [
    "\"Philip's\""
   ]
  },
  {
   "cell_type": "markdown",
   "id": "divine-universal",
   "metadata": {},
   "source": [
    "We can see what the string of character looks like by using the print function."
   ]
  },
  {
   "cell_type": "code",
   "execution_count": 81,
   "id": "south-calibration",
   "metadata": {},
   "outputs": [
    {
     "name": "stdout",
     "output_type": "stream",
     "text": [
      "Philip's\n"
     ]
    }
   ],
   "source": [
    "print('Philip\\'s')"
   ]
  },
  {
   "cell_type": "markdown",
   "id": "portuguese-continuity",
   "metadata": {},
   "source": [
    "Sometimes we will need to use both double quotes and single quotes and we must use the \\ to denote which quotes we want as part of the str."
   ]
  },
  {
   "cell_type": "code",
   "execution_count": 82,
   "id": "official-makeup",
   "metadata": {},
   "outputs": [
    {
     "data": {
      "text/plain": [
       "'Philip\\'s \"quote\"'"
      ]
     },
     "execution_count": 82,
     "metadata": {},
     "output_type": "execute_result"
    }
   ],
   "source": [
    "'Philip\\'s \\\"quote\\\"'"
   ]
  },
  {
   "cell_type": "code",
   "execution_count": 83,
   "id": "atmospheric-papua",
   "metadata": {},
   "outputs": [
    {
     "name": "stdout",
     "output_type": "stream",
     "text": [
      "Philip's \"quote\"\n"
     ]
    }
   ],
   "source": [
    "print('Philip\\'s \\\"quote\\\"')"
   ]
  },
  {
   "cell_type": "markdown",
   "id": "funded-revolution",
   "metadata": {},
   "source": [
    "The \\ followed by t and n denotes a new line and tab respectively."
   ]
  },
  {
   "cell_type": "code",
   "execution_count": 84,
   "id": "variable-nicholas",
   "metadata": {},
   "outputs": [
    {
     "data": {
      "text/plain": [
       "'\\tPhilip\\'s \\n\"quote\"'"
      ]
     },
     "execution_count": 84,
     "metadata": {},
     "output_type": "execute_result"
    }
   ],
   "source": [
    "'\\tPhilip\\'s \\n\\\"quote\\\"'"
   ]
  },
  {
   "cell_type": "code",
   "execution_count": 85,
   "id": "retained-order",
   "metadata": {},
   "outputs": [
    {
     "name": "stdout",
     "output_type": "stream",
     "text": [
      "\tPhilip's \n",
      "\"quote\"\n"
     ]
    }
   ],
   "source": [
    "print('\\tPhilip\\'s \\n\\\"quote\\\"')"
   ]
  },
  {
   "cell_type": "markdown",
   "id": "toxic-murray",
   "metadata": {},
   "source": [
    "In some cases for example file paths we need to use the special character \\. We must use \\\\. The 0th \\ denotes the fact we want to use a special character and the 1st \\ denotes that we want \\ as the special character."
   ]
  },
  {
   "cell_type": "code",
   "execution_count": 86,
   "id": "daily-african",
   "metadata": {},
   "outputs": [
    {
     "data": {
      "text/plain": [
       "'C:\\\\Users'"
      ]
     },
     "execution_count": 86,
     "metadata": {},
     "output_type": "execute_result"
    }
   ],
   "source": [
    "'C:\\\\Users'"
   ]
  },
  {
   "cell_type": "code",
   "execution_count": 87,
   "id": "impressive-summer",
   "metadata": {},
   "outputs": [
    {
     "name": "stdout",
     "output_type": "stream",
     "text": [
      "C:\\Users\n"
     ]
    }
   ],
   "source": [
    "print('C:\\\\Users')"
   ]
  },
  {
   "cell_type": "markdown",
   "id": "invalid-smell",
   "metadata": {},
   "source": [
    "As file paths are used quite often in programming and copied from Windows Explorer which uses a single \\ we also have a special string called a relative string. A special string prepends r in front of the quotation. Any \\ seen in the str is automatically converted into a \\\\."
   ]
  },
  {
   "cell_type": "code",
   "execution_count": 88,
   "id": "superb-suite",
   "metadata": {},
   "outputs": [
    {
     "data": {
      "text/plain": [
       "'C:\\\\Users'"
      ]
     },
     "execution_count": 88,
     "metadata": {},
     "output_type": "execute_result"
    }
   ],
   "source": [
    "r'C:\\Users'"
   ]
  },
  {
   "cell_type": "markdown",
   "id": "warming-quantity",
   "metadata": {},
   "source": [
    "There is also a special string known as a formatted string. To use a formatted string prepend f to the front of the quotation. A formatted string can be used to place variables within the str by use of curly brackets {}."
   ]
  },
  {
   "cell_type": "code",
   "execution_count": 89,
   "id": "olive-pillow",
   "metadata": {},
   "outputs": [
    {
     "name": "stdout",
     "output_type": "stream",
     "text": [
      "hello Philip\n"
     ]
    }
   ],
   "source": [
    "user='Philip'\n",
    "print(f'hello {user}')"
   ]
  },
  {
   "cell_type": "markdown",
   "id": "meaningful-somalia",
   "metadata": {},
   "source": [
    "We can also explicitly instantiate (create an instance of) a str class."
   ]
  },
  {
   "cell_type": "markdown",
   "id": "advance-passion",
   "metadata": {},
   "source": [
    "![instance_str_class](instance_str_class.png)"
   ]
  },
  {
   "cell_type": "code",
   "execution_count": 90,
   "id": "crude-demand",
   "metadata": {},
   "outputs": [],
   "source": [
    "j=str('philip')"
   ]
  },
  {
   "cell_type": "markdown",
   "id": "toxic-ecuador",
   "metadata": {},
   "source": [
    "![str_methods](str_methods.png)"
   ]
  },
  {
   "cell_type": "markdown",
   "id": "unlimited-honor",
   "metadata": {},
   "source": [
    "If we type in the instance name followed by a dot . and then tab ↹ we will see a list of attributes and methods. These are related to text objects (str) opposed to numeric objects (str, float, bool, complex) as seen previously."
   ]
  },
  {
   "cell_type": "markdown",
   "id": "serial-summer",
   "metadata": {},
   "source": [
    "The method capitalize will capitalize the str. Details about the input arguments can be found by typing in the function followed by tab ↹ and shift ⇧. In this case we see that there are no input arguments and the method transforms the original str to return it with a capital letter."
   ]
  },
  {
   "cell_type": "markdown",
   "id": "vital-symposium",
   "metadata": {},
   "source": [
    "![str_method_capitalize](str_method_capitalize.png)"
   ]
  },
  {
   "cell_type": "code",
   "execution_count": 91,
   "id": "posted-brazil",
   "metadata": {},
   "outputs": [
    {
     "data": {
      "text/plain": [
       "'Philip'"
      ]
     },
     "execution_count": 91,
     "metadata": {},
     "output_type": "execute_result"
    }
   ],
   "source": [
    "j.capitalize()"
   ]
  },
  {
   "cell_type": "markdown",
   "id": "divine-reform",
   "metadata": {},
   "source": [
    "We can use a similar method upper to make the entire str upper case."
   ]
  },
  {
   "cell_type": "code",
   "execution_count": 92,
   "id": "patent-intensity",
   "metadata": {},
   "outputs": [
    {
     "data": {
      "text/plain": [
       "'PHILIP'"
      ]
     },
     "execution_count": 92,
     "metadata": {},
     "output_type": "execute_result"
    }
   ],
   "source": [
    "j.upper()"
   ]
  },
  {
   "cell_type": "markdown",
   "id": "quiet-illinois",
   "metadata": {},
   "source": [
    "Note that j is unchanged and the output is just printed to the console. "
   ]
  },
  {
   "cell_type": "code",
   "execution_count": 93,
   "id": "beginning-exclusion",
   "metadata": {},
   "outputs": [
    {
     "data": {
      "text/plain": [
       "'philip'"
      ]
     },
     "execution_count": 93,
     "metadata": {},
     "output_type": "execute_result"
    }
   ],
   "source": [
    "j"
   ]
  },
  {
   "cell_type": "markdown",
   "id": "promotional-dictionary",
   "metadata": {},
   "source": [
    "We need to assign the output to the original object name to perform an inplace update."
   ]
  },
  {
   "cell_type": "code",
   "execution_count": 94,
   "id": "incident-chapter",
   "metadata": {},
   "outputs": [],
   "source": [
    "j=j.upper()"
   ]
  },
  {
   "cell_type": "code",
   "execution_count": 95,
   "id": "animal-provision",
   "metadata": {},
   "outputs": [
    {
     "data": {
      "text/plain": [
       "'PHILIP'"
      ]
     },
     "execution_count": 95,
     "metadata": {},
     "output_type": "execute_result"
    }
   ],
   "source": [
    "j"
   ]
  },
  {
   "cell_type": "markdown",
   "id": "planned-narrow",
   "metadata": {},
   "source": [
    "We also have the str method lower to return the str to lower case."
   ]
  },
  {
   "cell_type": "code",
   "execution_count": 96,
   "id": "agricultural-diploma",
   "metadata": {},
   "outputs": [],
   "source": [
    "j=j.lower()"
   ]
  },
  {
   "cell_type": "code",
   "execution_count": 97,
   "id": "copyrighted-cleaner",
   "metadata": {},
   "outputs": [
    {
     "data": {
      "text/plain": [
       "'philip'"
      ]
     },
     "execution_count": 97,
     "metadata": {},
     "output_type": "execute_result"
    }
   ],
   "source": [
    "j"
   ]
  },
  {
   "cell_type": "markdown",
   "id": "adopted-masters",
   "metadata": {},
   "source": [
    "The str method replace can be used to replace an old value with a new value. Details about the input arguments can be found by typing in the function followed by tab ↹ and shift ⇧. The positional input arguments old and new must be placed in order between the parenthesis when ccalling this method."
   ]
  },
  {
   "cell_type": "markdown",
   "id": "grave-voice",
   "metadata": {},
   "source": [
    "![str_method_replace](str_method_replace.png)"
   ]
  },
  {
   "cell_type": "markdown",
   "id": "cosmetic-bathroom",
   "metadata": {},
   "source": [
    "Some people spell my name with a 'f' instead of a 'ph' so let's use this as an example."
   ]
  },
  {
   "cell_type": "code",
   "execution_count": 98,
   "id": "secure-specification",
   "metadata": {},
   "outputs": [
    {
     "data": {
      "text/plain": [
       "'filip'"
      ]
     },
     "execution_count": 98,
     "metadata": {},
     "output_type": "execute_result"
    }
   ],
   "source": [
    "j.replace('ph','f')"
   ]
  },
  {
   "cell_type": "markdown",
   "id": "innovative-hardware",
   "metadata": {},
   "source": [
    "The (+ add) operater in a str performs concatenation of the str with another str, for example if I want to concatenate my first name to my sirname."
   ]
  },
  {
   "cell_type": "code",
   "execution_count": 99,
   "id": "boolean-damages",
   "metadata": {},
   "outputs": [
    {
     "data": {
      "text/plain": [
       "'PhilipYip'"
      ]
     },
     "execution_count": 99,
     "metadata": {},
     "output_type": "execute_result"
    }
   ],
   "source": [
    "'Philip'+'Yip'"
   ]
  },
  {
   "cell_type": "markdown",
   "id": "continental-pencil",
   "metadata": {},
   "source": [
    "Note that concatenation does not provide spacing. If I want to concatenate a space, I will have to concatenate one seperately."
   ]
  },
  {
   "cell_type": "code",
   "execution_count": 100,
   "id": "electric-dutch",
   "metadata": {},
   "outputs": [
    {
     "data": {
      "text/plain": [
       "'Philip Yip'"
      ]
     },
     "execution_count": 100,
     "metadata": {},
     "output_type": "execute_result"
    }
   ],
   "source": [
    "'Philip'+' '+'Yip'"
   ]
  },
  {
   "cell_type": "markdown",
   "id": "seventh-longer",
   "metadata": {},
   "source": [
    "The (* mul) operator will work between a str and an int n to replicate the str n times."
   ]
  },
  {
   "cell_type": "code",
   "execution_count": 101,
   "id": "outer-excerpt",
   "metadata": {},
   "outputs": [
    {
     "data": {
      "text/plain": [
       "'PhilipPhilipPhilipPhilipPhilip'"
      ]
     },
     "execution_count": 101,
     "metadata": {},
     "output_type": "execute_result"
    }
   ],
   "source": [
    "5*'Philip'"
   ]
  },
  {
   "cell_type": "markdown",
   "id": "alien-trout",
   "metadata": {},
   "source": [
    "Note that using the (+ add) operator instead will result in a TypeError. This is because there is no logical behaviour for adding an int to an undefined value (a str does not equate to a number)."
   ]
  },
  {
   "cell_type": "markdown",
   "id": "governmental-impression",
   "metadata": {},
   "source": [
    "```5+'Philip'```"
   ]
  },
  {
   "cell_type": "markdown",
   "id": "historical-allergy",
   "metadata": {},
   "source": [
    "![str_int_concatenate_typeerror](str_int_concatenate_typeerror.png)"
   ]
  },
  {
   "cell_type": "markdown",
   "id": "western-delaware",
   "metadata": {},
   "source": [
    "Multiplying two str will also give a TypeError as there is no physical meaning behind this operation."
   ]
  },
  {
   "cell_type": "markdown",
   "id": "forward-mainstream",
   "metadata": {},
   "source": [
    "```'Philip'*'Philip'```"
   ]
  },
  {
   "cell_type": "markdown",
   "id": "american-birthday",
   "metadata": {},
   "source": [
    "![str_str_multiply_typeerror](str_str_multiply_typeerror.png)"
   ]
  },
  {
   "cell_type": "markdown",
   "id": "illegal-figure",
   "metadata": {},
   "source": [
    "Care should therefore be taken when working with different datatypes."
   ]
  },
  {
   "cell_type": "markdown",
   "id": "appropriate-correlation",
   "metadata": {},
   "source": [
    "## The input Function"
   ]
  },
  {
   "cell_type": "markdown",
   "id": "enabling-wagon",
   "metadata": {},
   "source": [
    "The input function can be used to gather information from a user. To view details about the functions input arguments we can press tab ↹ and shift ⇧. The keyword input argument prompt (also acts as a positional input argument) is a question to ask the user."
   ]
  },
  {
   "cell_type": "markdown",
   "id": "twelve-acting",
   "metadata": {},
   "source": [
    "![function_input](function_input.png)"
   ]
  },
  {
   "cell_type": "markdown",
   "id": "latest-chest",
   "metadata": {},
   "source": [
    "To prevent the input statements from holding up the Python Kernel, the code containing input statements will be placed in a markdown cell and screenshots of the output will be placed in the markdown cell."
   ]
  },
  {
   "cell_type": "markdown",
   "id": "metallic-response",
   "metadata": {},
   "source": [
    "```\n",
    "yourname=input(prompt='What is your name?')\n",
    "print(f'hello {yourname}')\n",
    "```"
   ]
  },
  {
   "cell_type": "markdown",
   "id": "cellular-latitude",
   "metadata": {},
   "source": [
    "When it is ran the cell will be marked with a \\*. The dialog box will display waiting for the user to input a str."
   ]
  },
  {
   "cell_type": "markdown",
   "id": "local-piece",
   "metadata": {},
   "source": [
    "![input_statement1](input_statement1.png)"
   ]
  },
  {
   "cell_type": "markdown",
   "id": "fifteen-interest",
   "metadata": {},
   "source": [
    "Anything the user inputs will be converted to a str and in this case the str input by the user will be incorporated into the print statement."
   ]
  },
  {
   "cell_type": "markdown",
   "id": "tracked-mortality",
   "metadata": {},
   "source": [
    "![input_statement2](input_statement2.png)"
   ]
  },
  {
   "cell_type": "markdown",
   "id": "middle-understanding",
   "metadata": {},
   "source": [
    "Input statements always return a str and therefore the following code will not work as intended."
   ]
  },
  {
   "cell_type": "markdown",
   "id": "enabling-feedback",
   "metadata": {},
   "source": [
    "```\n",
    "number1=input(prompt='input a number')\n",
    "number2=input(prompt='input a second number')\n",
    "total=number1+number2\n",
    "print(f'the sum of your numbers is {total}')\n",
    "```"
   ]
  },
  {
   "cell_type": "markdown",
   "id": "applicable-timer",
   "metadata": {},
   "source": [
    "The value total returned is '22' opposed to '4'."
   ]
  },
  {
   "cell_type": "markdown",
   "id": "functional-samoa",
   "metadata": {},
   "source": [
    "![input_statement3](input_statement3.png)"
   ]
  },
  {
   "cell_type": "markdown",
   "id": "tired-review",
   "metadata": {},
   "source": [
    "If we look at the types."
   ]
  },
  {
   "cell_type": "markdown",
   "id": "hollow-nursery",
   "metadata": {},
   "source": [
    "```type(number1)```"
   ]
  },
  {
   "cell_type": "markdown",
   "id": "disciplinary-struggle",
   "metadata": {},
   "source": [
    "```type(number2)```"
   ]
  },
  {
   "cell_type": "markdown",
   "id": "awful-wellington",
   "metadata": {},
   "source": [
    "We see they are both of the type str."
   ]
  },
  {
   "cell_type": "markdown",
   "id": "lonely-silver",
   "metadata": {},
   "source": [
    "![input_statement4](input_statement4.png)"
   ]
  },
  {
   "cell_type": "markdown",
   "id": "favorite-nutrition",
   "metadata": {},
   "source": [
    "This means our code essentially does this."
   ]
  },
  {
   "cell_type": "code",
   "execution_count": 102,
   "id": "false-state",
   "metadata": {},
   "outputs": [
    {
     "data": {
      "text/plain": [
       "'22'"
      ]
     },
     "execution_count": 102,
     "metadata": {},
     "output_type": "execute_result"
    }
   ],
   "source": [
    "'2'+'2'"
   ]
  },
  {
   "cell_type": "markdown",
   "id": "neutral-venezuela",
   "metadata": {},
   "source": [
    "Recall that + for a str performs concatenation and not addition like we want."
   ]
  },
  {
   "cell_type": "code",
   "execution_count": 103,
   "id": "ongoing-enclosure",
   "metadata": {},
   "outputs": [
    {
     "data": {
      "text/plain": [
       "4"
      ]
     },
     "execution_count": 103,
     "metadata": {},
     "output_type": "execute_result"
    }
   ],
   "source": [
    "2+2"
   ]
  },
  {
   "cell_type": "markdown",
   "id": "sunrise-thousand",
   "metadata": {},
   "source": [
    "To get around this we need to convert our str into  number."
   ]
  },
  {
   "cell_type": "code",
   "execution_count": 104,
   "id": "distributed-equilibrium",
   "metadata": {},
   "outputs": [],
   "source": [
    "k='2'"
   ]
  },
  {
   "cell_type": "markdown",
   "id": "mighty-humidity",
   "metadata": {},
   "source": [
    "We can use the int class to do this."
   ]
  },
  {
   "cell_type": "code",
   "execution_count": 105,
   "id": "miniature-polymer",
   "metadata": {},
   "outputs": [],
   "source": [
    "k=int(k)"
   ]
  },
  {
   "cell_type": "markdown",
   "id": "criminal-virginia",
   "metadata": {},
   "source": [
    "```\n",
    "number1=input(prompt='input a number')\n",
    "number1=int(number1)\n",
    "number2=input(prompt='input a second number')\n",
    "number2=int(number2)\n",
    "total=number1+number2\n",
    "print(f'the sum of your numbers is {total}')\n",
    "```"
   ]
  },
  {
   "cell_type": "markdown",
   "id": "primary-accountability",
   "metadata": {},
   "source": [
    "This works when both numbers input are int as expected."
   ]
  },
  {
   "cell_type": "markdown",
   "id": "viral-detective",
   "metadata": {},
   "source": [
    "![input_statement5](input_statement5.png)"
   ]
  },
  {
   "cell_type": "markdown",
   "id": "technological-killing",
   "metadata": {},
   "source": [
    "However if the number being input is input as a float it will lead to a ValueError. This is because the class int does not recognise a str with a . in it as valid."
   ]
  },
  {
   "cell_type": "markdown",
   "id": "fitting-indian",
   "metadata": {},
   "source": [
    "![input_valueerror](input_valueerror.png)"
   ]
  },
  {
   "cell_type": "markdown",
   "id": "affecting-score",
   "metadata": {},
   "source": [
    "To get around this we can use the float class instead."
   ]
  },
  {
   "cell_type": "markdown",
   "id": "golden-junior",
   "metadata": {},
   "source": [
    "```\n",
    "number1=input(prompt='input a number')\n",
    "number1=float(number1)\n",
    "number2=input(prompt='input a second number')\n",
    "number2=float(number2)\n",
    "total=number1+number2\n",
    "print(f'the sum of your numbers is {total}')\n",
    "```"
   ]
  },
  {
   "cell_type": "markdown",
   "id": "known-dairy",
   "metadata": {},
   "source": [
    "![input_statement6](input_statement6.png)"
   ]
  },
  {
   "cell_type": "markdown",
   "id": "native-fishing",
   "metadata": {},
   "source": [
    "## if, elif and else Branching"
   ]
  },
  {
   "cell_type": "markdown",
   "id": "supported-surgery",
   "metadata": {},
   "source": [
    "So far all the code above has been procedural, starting from he top of a cell and continuing down to the bottom of the cell. Sometimes we may want to construct a condition (using a Boolean) and then execute certain code only if the condition is satisfied.\n",
    "\n",
    "An analogy to this is driving a car. So far we have only travelled straight and have not had the ability to turn either left or right."
   ]
  },
  {
   "cell_type": "markdown",
   "id": "played-lambda",
   "metadata": {},
   "source": [
    "We can use an if statement containing a condition that will execute the code belonging to the if statement only when the condition is True."
   ]
  },
  {
   "cell_type": "code",
   "execution_count": 106,
   "id": "international-crystal",
   "metadata": {},
   "outputs": [
    {
     "name": "stdout",
     "output_type": "stream",
     "text": [
      "Condition is True\n",
      "Continuing as Usual\n"
     ]
    }
   ],
   "source": [
    "condition=True\n",
    "if condition:\n",
    "    print('Condition is True')\n",
    "\n",
    "print('Continuing as Usual')"
   ]
  },
  {
   "cell_type": "code",
   "execution_count": 107,
   "id": "turned-chorus",
   "metadata": {},
   "outputs": [
    {
     "name": "stdout",
     "output_type": "stream",
     "text": [
      "Continuing as Usual\n"
     ]
    }
   ],
   "source": [
    "condition=False\n",
    "if condition:\n",
    "    print('Condition is True')\n",
    "\n",
    "print('Continuing as Usual')"
   ]
  },
  {
   "cell_type": "markdown",
   "id": "separated-booth",
   "metadata": {},
   "source": [
    "Comparing the two above we see that 'Condition is True' is only printed for the top cell and not in the bottom cell."
   ]
  },
  {
   "cell_type": "markdown",
   "id": "variable-september",
   "metadata": {},
   "source": [
    "Let's have a look at the syntax in more detail. Following the if statement there is a condition and then a colon : The colon : indicates the beginning of a code block. Any code belonging to the code block must be indented by 4 spaces. A blank line is usually also left after ending a group of code blocks.\n",
    "\n",
    "Code that is not indented does not belong to the code block and will be implemented regardless of the condition."
   ]
  },
  {
   "cell_type": "markdown",
   "id": "gorgeous-depth",
   "metadata": {},
   "source": [
    "An if code block can be followed on by an else code block. Once again a colon : is used to denote the beginning of a code block and any code belonging to the code block is indented by 4 spaces. There is no condition associated with the else block as by definition it will be carried out when the condition checked in the if statement is False."
   ]
  },
  {
   "cell_type": "code",
   "execution_count": 108,
   "id": "fossil-correction",
   "metadata": {},
   "outputs": [
    {
     "name": "stdout",
     "output_type": "stream",
     "text": [
      "Condition is True\n",
      "Continuing as Usual\n"
     ]
    }
   ],
   "source": [
    "condition=True\n",
    "if condition:\n",
    "    print('Condition is True')\n",
    "else:\n",
    "    print('Condition is False')\n",
    "\n",
    "print('Continuing as Usual')"
   ]
  },
  {
   "cell_type": "code",
   "execution_count": 109,
   "id": "hollywood-right",
   "metadata": {},
   "outputs": [
    {
     "name": "stdout",
     "output_type": "stream",
     "text": [
      "Condition is False\n",
      "Continuing as Usual\n"
     ]
    }
   ],
   "source": [
    "condition=False\n",
    "if condition:\n",
    "    print('Condition is True')\n",
    "else:\n",
    "    print('Condition is False')\n",
    "\n",
    "print('Continuing as Usual')"
   ]
  },
  {
   "cell_type": "markdown",
   "id": "hydraulic-somerset",
   "metadata": {},
   "source": [
    "A series of other elif (else if) branches can be created in a similar manner."
   ]
  },
  {
   "cell_type": "code",
   "execution_count": 110,
   "id": "suspected-irish",
   "metadata": {},
   "outputs": [
    {
     "name": "stdout",
     "output_type": "stream",
     "text": [
      "Condition 2 is True\n",
      "Continuing as Usual\n"
     ]
    }
   ],
   "source": [
    "condition1=False\n",
    "condition2=True\n",
    "if condition1:\n",
    "    print('Condition 1 is True')\n",
    "elif condition2:\n",
    "    print('Condition 2 is True')\n",
    "else:\n",
    "    print('Conditions are False')\n",
    "\n",
    "print('Continuing as Usual')"
   ]
  },
  {
   "cell_type": "markdown",
   "id": "native-characterization",
   "metadata": {},
   "source": [
    "Note when using if, elif and else branches only the top branch that has a True condition will be carried out. In the example below the elif code block is not executed because the if code block has been executed."
   ]
  },
  {
   "cell_type": "code",
   "execution_count": 111,
   "id": "intellectual-swing",
   "metadata": {},
   "outputs": [
    {
     "name": "stdout",
     "output_type": "stream",
     "text": [
      "Condition 1 is True\n",
      "Continuing as Usual\n"
     ]
    }
   ],
   "source": [
    "condition1=True\n",
    "condition2=True\n",
    "if condition1:\n",
    "    print('Condition 1 is True')\n",
    "elif condition2:\n",
    "    print('Condition 2 is True')\n",
    "else:\n",
    "    print('Conditions are False')\n",
    "\n",
    "print('Continuing as Usual')"
   ]
  },
  {
   "cell_type": "markdown",
   "id": "continental-raising",
   "metadata": {},
   "source": [
    "The code above can therefore be amended to check for both conditions using and & (the symbol or word can be used) which will return True only if both conditions are True."
   ]
  },
  {
   "cell_type": "code",
   "execution_count": 112,
   "id": "functional-deployment",
   "metadata": {},
   "outputs": [
    {
     "name": "stdout",
     "output_type": "stream",
     "text": [
      "Condition 1 is True\n",
      "Condition 2 is True\n",
      "Continuing as Usual\n"
     ]
    }
   ],
   "source": [
    "condition1=True\n",
    "condition2=True\n",
    "if condition1 & condition2:\n",
    "    print('Condition 1 is True')\n",
    "    print('Condition 2 is True')   \n",
    "elif condition1:\n",
    "    print('Condition 1 is True')\n",
    "elif condition2:\n",
    "    print('Condition 2 is True')    \n",
    "else:\n",
    "    print('Conditions are False')\n",
    "\n",
    "print('Continuing as Usual')"
   ]
  },
  {
   "cell_type": "markdown",
   "id": "jewish-mother",
   "metadata": {},
   "source": [
    "Alternatively it can be amended to use or | (the symbol or word can be used) which will return True if either one of the conditions are True."
   ]
  },
  {
   "cell_type": "code",
   "execution_count": 113,
   "id": "innocent-success",
   "metadata": {},
   "outputs": [
    {
     "name": "stdout",
     "output_type": "stream",
     "text": [
      "A Condition is True\n",
      "Continuing as Usual\n"
     ]
    }
   ],
   "source": [
    "condition1=True\n",
    "condition2=True\n",
    "if condition1 | condition2:\n",
    "    print('A Condition is True')\n",
    "else:\n",
    "    print('Conditions are False')\n",
    "\n",
    "print('Continuing as Usual')"
   ]
  },
  {
   "cell_type": "markdown",
   "id": "legal-balloon",
   "metadata": {},
   "source": [
    "if, elif, else statements can be nested. Take note of the use of colons : and 4 character indentations."
   ]
  },
  {
   "cell_type": "code",
   "execution_count": 114,
   "id": "forced-applicant",
   "metadata": {},
   "outputs": [
    {
     "name": "stdout",
     "output_type": "stream",
     "text": [
      "A Condition is True\n",
      "Condition 1 is True\n",
      "Continuing as Usual\n"
     ]
    }
   ],
   "source": [
    "condition1=True\n",
    "condition2=True\n",
    "if condition1 | condition2:\n",
    "    print('A Condition is True')\n",
    "    if condition1:\n",
    "        print('Condition 1 is True')\n",
    "    else:\n",
    "        print('Condition 2 is True')\n",
    "else:\n",
    "    print('Conditions are False')\n",
    "\n",
    "print('Continuing as Usual')"
   ]
  },
  {
   "cell_type": "markdown",
   "id": "adjusted-examination",
   "metadata": {},
   "source": [
    "## try and except Branching"
   ]
  },
  {
   "cell_type": "markdown",
   "id": "twenty-romance",
   "metadata": {},
   "source": [
    "Earlier we used the input function to import a float (in the form of a str) and then when we attempted to convert it to an int we got a ValueError. We can instead use a try code block and an except code block. These branches share commonalities with the if and else blocks except they use the absence and presence of an error as a condition."
   ]
  },
  {
   "cell_type": "code",
   "execution_count": 115,
   "id": "residential-shipping",
   "metadata": {},
   "outputs": [
    {
     "name": "stdout",
     "output_type": "stream",
     "text": [
      "k is not an int and is unchanged.\n"
     ]
    }
   ],
   "source": [
    "k='2.1'\n",
    "try:\n",
    "    k=int(k)\n",
    "except:\n",
    "    print('k is not an int and is unchanged.')"
   ]
  },
  {
   "cell_type": "markdown",
   "id": "funded-limitation",
   "metadata": {},
   "source": [
    "Except can be setup to look for a specific error, in this case let's look for both a NameError and ValueError."
   ]
  },
  {
   "cell_type": "code",
   "execution_count": 116,
   "id": "color-minute",
   "metadata": {},
   "outputs": [
    {
     "name": "stdout",
     "output_type": "stream",
     "text": [
      "ValueError. k is not an int and is unchanged.\n"
     ]
    }
   ],
   "source": [
    "k='2.1'\n",
    "try:\n",
    "    k=int(k)\n",
    "except NameError:\n",
    "    print('NameError. k is not assigned.')\n",
    "except ValueError:\n",
    "    print('ValueError. k is not an int and is unchanged.')\n",
    "except:\n",
    "    print('Some other error. k is unchanged.')"
   ]
  },
  {
   "cell_type": "markdown",
   "id": "useful-broadcasting",
   "metadata": {},
   "source": [
    "We can modify the code to delete the object k before entering the try code block which will give a NameError."
   ]
  },
  {
   "cell_type": "code",
   "execution_count": 117,
   "id": "musical-effects",
   "metadata": {},
   "outputs": [
    {
     "name": "stdout",
     "output_type": "stream",
     "text": [
      "NameError. k is not assigned.\n"
     ]
    }
   ],
   "source": [
    "del(k)\n",
    "try:\n",
    "    k=int(k)\n",
    "except NameError:\n",
    "    print('NameError. k is not assigned.')\n",
    "except ValueError:\n",
    "    print('ValueError. k is not an int and is unchanged.')\n",
    "except:\n",
    "    print('Some other error. k is unchanged.')"
   ]
  },
  {
   "cell_type": "markdown",
   "id": "wanted-great",
   "metadata": {},
   "source": [
    "ValueError will display if k is a str of a float or a str of alphabetical characters. We can use a nested try and except block to attempt to try to convert k to a float or to inform the user that k is neither an int or float. Let's test this by assigning k to '2.1' and 'a' respectively."
   ]
  },
  {
   "cell_type": "code",
   "execution_count": 118,
   "id": "gross-porcelain",
   "metadata": {},
   "outputs": [
    {
     "name": "stdout",
     "output_type": "stream",
     "text": [
      "k is a float.\n"
     ]
    }
   ],
   "source": [
    "k='2.1'\n",
    "try:\n",
    "    k=int(k)\n",
    "    print('k is an int')\n",
    "except NameError:\n",
    "    print('NameError. k is not assigned.')\n",
    "except ValueError:\n",
    "    try:\n",
    "        k=float(k)\n",
    "        print('k is a float.')\n",
    "    except:\n",
    "        print('ValueError. k is not an int or float and is unchanged.')        \n",
    "except:\n",
    "    print('Some other error. k is not an int and is unchanged.')"
   ]
  },
  {
   "cell_type": "code",
   "execution_count": 119,
   "id": "employed-season",
   "metadata": {},
   "outputs": [
    {
     "name": "stdout",
     "output_type": "stream",
     "text": [
      "ValueError. k is not an int or float and is unchanged.\n"
     ]
    }
   ],
   "source": [
    "k='a'\n",
    "try:\n",
    "    k=int(k)\n",
    "    print('k is an int')\n",
    "except NameError:\n",
    "    print('NameError. k is not assigned.')\n",
    "except ValueError:\n",
    "    try:\n",
    "        k=float(k)\n",
    "        print('k is a float.')\n",
    "    except:\n",
    "        print('ValueError. k is not an int or float and is unchanged.')        \n",
    "except:\n",
    "    print('Some other error. k is not an int and is unchanged.')"
   ]
  },
  {
   "cell_type": "markdown",
   "id": "accredited-criterion",
   "metadata": {},
   "source": [
    "It is also possible to check for a condition and raise an error."
   ]
  },
  {
   "cell_type": "markdown",
   "id": "optical-extraction",
   "metadata": {},
   "source": [
    "```\n",
    "k='a'\n",
    "if type(k)!=int:\n",
    "        raise TypeError('k must be an int')\n",
    "```"
   ]
  },
  {
   "cell_type": "markdown",
   "id": "injured-thumb",
   "metadata": {},
   "source": [
    "![raise_error](raise_error.png)"
   ]
  },
  {
   "cell_type": "markdown",
   "id": "attended-orientation",
   "metadata": {},
   "source": [
    "## Custom functions"
   ]
  },
  {
   "cell_type": "markdown",
   "id": "acute-championship",
   "metadata": {},
   "source": [
    "We have already seen how to use inbuilt functions such as print, type and input."
   ]
  },
  {
   "cell_type": "code",
   "execution_count": 120,
   "id": "changed-spanking",
   "metadata": {},
   "outputs": [
    {
     "data": {
      "text/plain": [
       "<function print>"
      ]
     },
     "execution_count": 120,
     "metadata": {},
     "output_type": "execute_result"
    }
   ],
   "source": [
    "print"
   ]
  },
  {
   "cell_type": "code",
   "execution_count": 121,
   "id": "civil-trinity",
   "metadata": {},
   "outputs": [
    {
     "data": {
      "text/plain": [
       "type"
      ]
     },
     "execution_count": 121,
     "metadata": {},
     "output_type": "execute_result"
    }
   ],
   "source": [
    "type"
   ]
  },
  {
   "cell_type": "code",
   "execution_count": 122,
   "id": "reported-crime",
   "metadata": {},
   "outputs": [
    {
     "data": {
      "text/plain": [
       "<bound method Kernel.raw_input of <ipykernel.ipkernel.IPythonKernel object at 0x0000024ECFA20760>>"
      ]
     },
     "execution_count": 122,
     "metadata": {},
     "output_type": "execute_result"
    }
   ],
   "source": [
    "input"
   ]
  },
  {
   "cell_type": "markdown",
   "id": "packed-minimum",
   "metadata": {},
   "source": [
    "When these are called without parenthesis we just get told that they are a function."
   ]
  },
  {
   "cell_type": "markdown",
   "id": "ecological-woman",
   "metadata": {},
   "source": [
    "To use a function it must be called with parenthesis. Recall that we can see details about the input arguments by pressing tab ↹ and shift ⇧."
   ]
  },
  {
   "cell_type": "markdown",
   "id": "polar-ozone",
   "metadata": {},
   "source": [
    "![function_print](function_print.png)"
   ]
  },
  {
   "cell_type": "markdown",
   "id": "charitable-creature",
   "metadata": {},
   "source": [
    "By default there is a single positional argument however the ... denotes that we can place in multiple positional arguments to print."
   ]
  },
  {
   "cell_type": "code",
   "execution_count": 123,
   "id": "handy-editor",
   "metadata": {},
   "outputs": [
    {
     "name": "stdout",
     "output_type": "stream",
     "text": [
      "hello\n"
     ]
    }
   ],
   "source": [
    "print('hello')"
   ]
  },
  {
   "cell_type": "markdown",
   "id": "owned-weekend",
   "metadata": {},
   "source": [
    "The positional input arguments are specified in order by use of a comma , as a delimiter."
   ]
  },
  {
   "cell_type": "code",
   "execution_count": 124,
   "id": "noted-watson",
   "metadata": {},
   "outputs": [
    {
     "name": "stdout",
     "output_type": "stream",
     "text": [
      "hello goodbye\n"
     ]
    }
   ],
   "source": [
    "print('hello','goodbye')"
   ]
  },
  {
   "cell_type": "markdown",
   "id": "fitting-ferry",
   "metadata": {},
   "source": [
    "The keyword input arguments sep and end are both shown to have a default value. This default value can be reassigned when calling the function. To do so we must specify the positional arguments at the beginning and then after we have speciied the positional input arguments we can specify the optional keyword input arguments in any order. Notice for example when the keyword input argument sep is specified as --- the space that was seen between the two printed str becomes --- and when the end is changed from '\\n' to '' there is no new line."
   ]
  },
  {
   "cell_type": "code",
   "execution_count": 125,
   "id": "accomplished-location",
   "metadata": {},
   "outputs": [
    {
     "name": "stdout",
     "output_type": "stream",
     "text": [
      "hello---goodbye\n",
      "hello---goodbyehello---goodbye\n"
     ]
    }
   ],
   "source": [
    "print('hello','goodbye',sep='---')\n",
    "print('hello','goodbye',sep='---',end='')\n",
    "print('hello','goodbye',sep='---')"
   ]
  },
  {
   "cell_type": "markdown",
   "id": "atomic-filter",
   "metadata": {},
   "source": [
    "With the above in mind we can create our own function. \n",
    "\n",
    "First we need to define the function using def followed by the function name (which follows the same rules behind object names) and parenthesis. Then we use a colon : to start a code block and the code belonging to the function must remain in the code block. Let's create a custom print_three function. This will have no input arguments."
   ]
  },
  {
   "cell_type": "code",
   "execution_count": 126,
   "id": "geological-warrior",
   "metadata": {},
   "outputs": [],
   "source": [
    "def print_three():\n",
    "    print(3)"
   ]
  },
  {
   "cell_type": "markdown",
   "id": "failing-beads",
   "metadata": {},
   "source": [
    "If we call it without any parenthesis we will just be informed that it is a function."
   ]
  },
  {
   "cell_type": "code",
   "execution_count": 127,
   "id": "cloudy-gallery",
   "metadata": {},
   "outputs": [
    {
     "data": {
      "text/plain": [
       "<function __main__.print_three()>"
      ]
     },
     "execution_count": 127,
     "metadata": {},
     "output_type": "execute_result"
    }
   ],
   "source": [
    "print_three"
   ]
  },
  {
   "cell_type": "markdown",
   "id": "recorded-woman",
   "metadata": {},
   "source": [
    "Recall that we can see details about the input arguments by pressing tab ↹ and shift ⇧. In this case we have not provided a doc sring so we get no details about the function. We can update it to include one. We use triple quotations to denote the creation of a doc string."
   ]
  },
  {
   "cell_type": "markdown",
   "id": "laughing-destiny",
   "metadata": {},
   "source": [
    "![print_three_no_doc_str](print_three_no_doc_str.png)"
   ]
  },
  {
   "cell_type": "code",
   "execution_count": 128,
   "id": "express-theorem",
   "metadata": {},
   "outputs": [],
   "source": [
    "def print_three():\n",
    "    '''This will print the number 3.'''\n",
    "    print(3)"
   ]
  },
  {
   "cell_type": "markdown",
   "id": "cooked-warrant",
   "metadata": {},
   "source": [
    "Now the doc string displays. Note we do not mention any details about input arguments in the custom function so the user will therefore infer that the fucntion has no input arguments."
   ]
  },
  {
   "cell_type": "markdown",
   "id": "advanced-spring",
   "metadata": {},
   "source": [
    "![print_three_doc_str](print_three_doc_str.png)"
   ]
  },
  {
   "cell_type": "markdown",
   "id": "whole-happiness",
   "metadata": {},
   "source": [
    "The custom function can therefore be called and prints the number 3 as expected."
   ]
  },
  {
   "cell_type": "code",
   "execution_count": 129,
   "id": "gross-corruption",
   "metadata": {},
   "outputs": [
    {
     "name": "stdout",
     "output_type": "stream",
     "text": [
      "3\n"
     ]
    }
   ],
   "source": [
    "print_three()"
   ]
  },
  {
   "cell_type": "markdown",
   "id": "artificial-capital",
   "metadata": {},
   "source": [
    "There are 25.4 mm in an inch. Let's create a custom function that converts inches to mm. This will have an input argument."
   ]
  },
  {
   "cell_type": "code",
   "execution_count": 130,
   "id": "developmental-season",
   "metadata": {},
   "outputs": [],
   "source": [
    "def inch2mm(input_inches):\n",
    "    '''Prints the value of input_inches to output_mm.'''\n",
    "    output_mm=25.4*input_inches\n",
    "    print(output_mm)"
   ]
  },
  {
   "cell_type": "markdown",
   "id": "natural-demonstration",
   "metadata": {},
   "source": [
    "We can see details about the input arguments by pressing tab ↹ and shift ⇧. "
   ]
  },
  {
   "cell_type": "markdown",
   "id": "catholic-emperor",
   "metadata": {},
   "source": [
    "![inch2mm_doc_str](inch2mm_doc_str.png)"
   ]
  },
  {
   "cell_type": "markdown",
   "id": "pressing-argentina",
   "metadata": {},
   "source": [
    "Now we can use it to print the value of 2 inches."
   ]
  },
  {
   "cell_type": "code",
   "execution_count": 131,
   "id": "reserved-opening",
   "metadata": {},
   "outputs": [
    {
     "name": "stdout",
     "output_type": "stream",
     "text": [
      "50.8\n"
     ]
    }
   ],
   "source": [
    "inch2mm(2)"
   ]
  },
  {
   "cell_type": "markdown",
   "id": "brave-boxing",
   "metadata": {},
   "source": [
    "Note that we have used the print statement to print the output."
   ]
  },
  {
   "cell_type": "code",
   "execution_count": 132,
   "id": "architectural-mixer",
   "metadata": {},
   "outputs": [
    {
     "name": "stdout",
     "output_type": "stream",
     "text": [
      "50.8\n"
     ]
    }
   ],
   "source": [
    "dim=inch2mm(2)"
   ]
  },
  {
   "cell_type": "markdown",
   "id": "separate-northwest",
   "metadata": {},
   "source": [
    "The print statement has the return value NoneType. This means if we assign it to an object name, the value prints but the object name is assigned to NoneType. This is not that useful if we wish to use it for further calculations."
   ]
  },
  {
   "cell_type": "code",
   "execution_count": 133,
   "id": "abroad-burke",
   "metadata": {},
   "outputs": [],
   "source": [
    "dim"
   ]
  },
  {
   "cell_type": "code",
   "execution_count": 134,
   "id": "activated-chambers",
   "metadata": {},
   "outputs": [
    {
     "data": {
      "text/plain": [
       "NoneType"
      ]
     },
     "execution_count": 134,
     "metadata": {},
     "output_type": "execute_result"
    }
   ],
   "source": [
    "type(dim)"
   ]
  },
  {
   "cell_type": "markdown",
   "id": "missing-siemens",
   "metadata": {},
   "source": [
    "To rectify this we can instead use the return statement to assign the functions return value."
   ]
  },
  {
   "cell_type": "code",
   "execution_count": 135,
   "id": "worse-length",
   "metadata": {},
   "outputs": [],
   "source": [
    "def inch2mm(input_inches):\n",
    "    '''Returns the value of input_inches to output_mm.'''\n",
    "    output_mm=25.4*input_inches\n",
    "    return(output_mm)"
   ]
  },
  {
   "cell_type": "code",
   "execution_count": 136,
   "id": "acoustic-physiology",
   "metadata": {},
   "outputs": [],
   "source": [
    "dim=inch2mm(2)"
   ]
  },
  {
   "cell_type": "code",
   "execution_count": 137,
   "id": "communist-bunny",
   "metadata": {},
   "outputs": [
    {
     "data": {
      "text/plain": [
       "50.8"
      ]
     },
     "execution_count": 137,
     "metadata": {},
     "output_type": "execute_result"
    }
   ],
   "source": [
    "dim"
   ]
  },
  {
   "cell_type": "markdown",
   "id": "medium-boost",
   "metadata": {},
   "source": [
    "We can update our function to use a keyword input argument with a default value of 1 inch. This can be a useful default if we want to just reference the conversion factor."
   ]
  },
  {
   "cell_type": "code",
   "execution_count": 138,
   "id": "broken-force",
   "metadata": {},
   "outputs": [],
   "source": [
    "def inch2mm(input_inches=1):\n",
    "    '''Returns the value of input_inches to output_mm.'''\n",
    "    output_mm=25.4*input_inches\n",
    "    return(output_mm)"
   ]
  },
  {
   "cell_type": "code",
   "execution_count": 139,
   "id": "cognitive-apple",
   "metadata": {},
   "outputs": [
    {
     "data": {
      "text/plain": [
       "25.4"
      ]
     },
     "execution_count": 139,
     "metadata": {},
     "output_type": "execute_result"
    }
   ],
   "source": [
    "dim=inch2mm()\n",
    "dim"
   ]
  },
  {
   "cell_type": "code",
   "execution_count": 140,
   "id": "effective-dealing",
   "metadata": {},
   "outputs": [
    {
     "data": {
      "text/plain": [
       "50.8"
      ]
     },
     "execution_count": 140,
     "metadata": {},
     "output_type": "execute_result"
    }
   ],
   "source": [
    "dim1=inch2mm(input_inches=2)\n",
    "dim1"
   ]
  },
  {
   "cell_type": "markdown",
   "id": "aggregate-complaint",
   "metadata": {},
   "source": [
    "## Lambda functions"
   ]
  },
  {
   "cell_type": "markdown",
   "id": "central-sheriff",
   "metadata": {},
   "source": [
    "Sometimes we require a small anonymous function that is only used a handful of times. This can be achieved by using a lambda function. A lambda function can have multiple arguments but has only has a single expression. The positional input arguments follow from the lambda expression using a comma as a delimiter. The colon : is used to seperate the arguments from the expression. Recreating inch2mm as a lambda expression."
   ]
  },
  {
   "cell_type": "code",
   "execution_count": 141,
   "id": "plastic-officer",
   "metadata": {},
   "outputs": [],
   "source": [
    "inch2mm=lambda a: 25.4*a"
   ]
  },
  {
   "cell_type": "markdown",
   "id": "inappropriate-security",
   "metadata": {},
   "source": [
    "Calling the lambda function without parenthesis informs us that is is a lamba expression."
   ]
  },
  {
   "cell_type": "code",
   "execution_count": 142,
   "id": "scheduled-negative",
   "metadata": {},
   "outputs": [
    {
     "data": {
      "text/plain": [
       "<function __main__.<lambda>(a)>"
      ]
     },
     "execution_count": 142,
     "metadata": {},
     "output_type": "execute_result"
    }
   ],
   "source": [
    "inch2mm"
   ]
  },
  {
   "cell_type": "markdown",
   "id": "multiple-jacksonville",
   "metadata": {},
   "source": [
    "We can use it to convert 4 inches to mm."
   ]
  },
  {
   "cell_type": "code",
   "execution_count": 143,
   "id": "functional-ranch",
   "metadata": {},
   "outputs": [],
   "source": [
    "dim3=inch2mm(4)"
   ]
  },
  {
   "cell_type": "code",
   "execution_count": 144,
   "id": "marked-growth",
   "metadata": {},
   "outputs": [
    {
     "data": {
      "text/plain": [
       "101.6"
      ]
     },
     "execution_count": 144,
     "metadata": {},
     "output_type": "execute_result"
    }
   ],
   "source": [
    "dim3"
   ]
  },
  {
   "cell_type": "markdown",
   "id": "outdoor-discipline",
   "metadata": {},
   "source": [
    "It is possible to create a lambda expression without input arguments."
   ]
  },
  {
   "cell_type": "code",
   "execution_count": 145,
   "id": "rural-supplier",
   "metadata": {},
   "outputs": [],
   "source": [
    "print_three=lambda : print(3)"
   ]
  },
  {
   "cell_type": "code",
   "execution_count": 146,
   "id": "internal-citizen",
   "metadata": {},
   "outputs": [
    {
     "data": {
      "text/plain": [
       "<function __main__.<lambda>()>"
      ]
     },
     "execution_count": 146,
     "metadata": {},
     "output_type": "execute_result"
    }
   ],
   "source": [
    "print_three"
   ]
  },
  {
   "cell_type": "code",
   "execution_count": 147,
   "id": "static-audience",
   "metadata": {},
   "outputs": [
    {
     "name": "stdout",
     "output_type": "stream",
     "text": [
      "3\n"
     ]
    }
   ],
   "source": [
    "print_three()"
   ]
  },
  {
   "cell_type": "markdown",
   "id": "noble-naples",
   "metadata": {},
   "source": [
    "In some cases a dummy input argument is expected where the lambda expression is going to be used."
   ]
  },
  {
   "cell_type": "code",
   "execution_count": 148,
   "id": "greater-ethics",
   "metadata": {},
   "outputs": [],
   "source": [
    "print_three=lambda a: print(3)"
   ]
  },
  {
   "cell_type": "code",
   "execution_count": 149,
   "id": "alive-metabolism",
   "metadata": {},
   "outputs": [
    {
     "data": {
      "text/plain": [
       "<function __main__.<lambda>(a)>"
      ]
     },
     "execution_count": 149,
     "metadata": {},
     "output_type": "execute_result"
    }
   ],
   "source": [
    "print_three"
   ]
  },
  {
   "cell_type": "markdown",
   "id": "direct-rouge",
   "metadata": {},
   "source": [
    "In this simple example, the expression is independent of the value of the dummy input argument."
   ]
  },
  {
   "cell_type": "code",
   "execution_count": 150,
   "id": "dietary-highlight",
   "metadata": {},
   "outputs": [
    {
     "name": "stdout",
     "output_type": "stream",
     "text": [
      "3\n"
     ]
    }
   ],
   "source": [
    "print_three('a')"
   ]
  },
  {
   "cell_type": "code",
   "execution_count": 151,
   "id": "spanish-eugene",
   "metadata": {},
   "outputs": [
    {
     "name": "stdout",
     "output_type": "stream",
     "text": [
      "3\n"
     ]
    }
   ],
   "source": [
    "print_three(1)"
   ]
  },
  {
   "cell_type": "markdown",
   "id": "optical-sharing",
   "metadata": {},
   "source": [
    "For comparison we can compare the single line lambda expression with the creation of a function. "
   ]
  },
  {
   "cell_type": "code",
   "execution_count": 152,
   "id": "martial-confidence",
   "metadata": {},
   "outputs": [],
   "source": [
    "add_xy=lambda x,y: x+y"
   ]
  },
  {
   "cell_type": "code",
   "execution_count": 153,
   "id": "beneficial-connection",
   "metadata": {},
   "outputs": [],
   "source": [
    "def add_xy(x,y):\n",
    "    return(x+y)"
   ]
  },
  {
   "cell_type": "markdown",
   "id": "respiratory-python",
   "metadata": {},
   "source": [
    "Both these defined functions will work in the same way."
   ]
  },
  {
   "cell_type": "code",
   "execution_count": 154,
   "id": "criminal-captain",
   "metadata": {},
   "outputs": [
    {
     "data": {
      "text/plain": [
       "3"
      ]
     },
     "execution_count": 154,
     "metadata": {},
     "output_type": "execute_result"
    }
   ],
   "source": [
    "add_xy(1,2)"
   ]
  },
  {
   "cell_type": "markdown",
   "id": "incorrect-volume",
   "metadata": {},
   "source": [
    "## Range and Looping"
   ]
  },
  {
   "cell_type": "markdown",
   "id": "comparative-acrylic",
   "metadata": {},
   "source": [
    "Another inbuilt class is the range class. The range class has a varying number of input arguments. These are referred to as start, stop and step."
   ]
  },
  {
   "cell_type": "markdown",
   "id": "angry-tobacco",
   "metadata": {},
   "source": [
    "![range](range.png)"
   ]
  },
  {
   "cell_type": "markdown",
   "id": "vocational-plastic",
   "metadata": {},
   "source": [
    "When only a 0th positional input argument is input. It is taken to be stop. start is automatically assiged to 0 and steo is automatically assigned to be 1."
   ]
  },
  {
   "cell_type": "code",
   "execution_count": 155,
   "id": "lyric-commercial",
   "metadata": {},
   "outputs": [],
   "source": [
    "r=range(10)"
   ]
  },
  {
   "cell_type": "code",
   "execution_count": 156,
   "id": "legitimate-feature",
   "metadata": {},
   "outputs": [
    {
     "data": {
      "text/plain": [
       "0"
      ]
     },
     "execution_count": 156,
     "metadata": {},
     "output_type": "execute_result"
    }
   ],
   "source": [
    "r.start"
   ]
  },
  {
   "cell_type": "code",
   "execution_count": 157,
   "id": "traditional-privilege",
   "metadata": {},
   "outputs": [
    {
     "data": {
      "text/plain": [
       "10"
      ]
     },
     "execution_count": 157,
     "metadata": {},
     "output_type": "execute_result"
    }
   ],
   "source": [
    "r.stop"
   ]
  },
  {
   "cell_type": "code",
   "execution_count": 158,
   "id": "further-plymouth",
   "metadata": {},
   "outputs": [
    {
     "data": {
      "text/plain": [
       "1"
      ]
     },
     "execution_count": 158,
     "metadata": {},
     "output_type": "execute_result"
    }
   ],
   "source": [
    "r.step"
   ]
  },
  {
   "cell_type": "markdown",
   "id": "spatial-wayne",
   "metadata": {},
   "source": [
    "When a 0th and 1st positional input arguments are input. The 0th positional input argument is taken to be start and the 1st input argument is taken to be stop. step is automatically assigned to 1."
   ]
  },
  {
   "cell_type": "code",
   "execution_count": 159,
   "id": "instructional-stationery",
   "metadata": {},
   "outputs": [
    {
     "data": {
      "text/plain": [
       "range(1, 10)"
      ]
     },
     "execution_count": 159,
     "metadata": {},
     "output_type": "execute_result"
    }
   ],
   "source": [
    "range(1,10)"
   ]
  },
  {
   "cell_type": "code",
   "execution_count": 160,
   "id": "congressional-heath",
   "metadata": {},
   "outputs": [
    {
     "data": {
      "text/plain": [
       "0"
      ]
     },
     "execution_count": 160,
     "metadata": {},
     "output_type": "execute_result"
    }
   ],
   "source": [
    "r.start"
   ]
  },
  {
   "cell_type": "code",
   "execution_count": 161,
   "id": "remarkable-herald",
   "metadata": {},
   "outputs": [
    {
     "data": {
      "text/plain": [
       "10"
      ]
     },
     "execution_count": 161,
     "metadata": {},
     "output_type": "execute_result"
    }
   ],
   "source": [
    "r.stop"
   ]
  },
  {
   "cell_type": "code",
   "execution_count": 162,
   "id": "ordinary-timer",
   "metadata": {},
   "outputs": [
    {
     "data": {
      "text/plain": [
       "1"
      ]
     },
     "execution_count": 162,
     "metadata": {},
     "output_type": "execute_result"
    }
   ],
   "source": [
    "r.step"
   ]
  },
  {
   "cell_type": "markdown",
   "id": "danish-hometown",
   "metadata": {},
   "source": [
    "When a 0th, 1st and 2nd positional input arguments are input. The 0th positional input argument is taken to be start, the 1st input argument is taken to be stop and finally the 2nd positional input argument is taken to be step."
   ]
  },
  {
   "cell_type": "code",
   "execution_count": 163,
   "id": "binary-latvia",
   "metadata": {},
   "outputs": [],
   "source": [
    "r=range(1,10,2)"
   ]
  },
  {
   "cell_type": "code",
   "execution_count": 164,
   "id": "adopted-blackberry",
   "metadata": {},
   "outputs": [
    {
     "data": {
      "text/plain": [
       "1"
      ]
     },
     "execution_count": 164,
     "metadata": {},
     "output_type": "execute_result"
    }
   ],
   "source": [
    "r.start"
   ]
  },
  {
   "cell_type": "code",
   "execution_count": 165,
   "id": "excess-mexican",
   "metadata": {},
   "outputs": [
    {
     "data": {
      "text/plain": [
       "10"
      ]
     },
     "execution_count": 165,
     "metadata": {},
     "output_type": "execute_result"
    }
   ],
   "source": [
    "r.stop"
   ]
  },
  {
   "cell_type": "code",
   "execution_count": 166,
   "id": "complete-alias",
   "metadata": {},
   "outputs": [
    {
     "data": {
      "text/plain": [
       "2"
      ]
     },
     "execution_count": 166,
     "metadata": {},
     "output_type": "execute_result"
    }
   ],
   "source": [
    "r.step"
   ]
  },
  {
   "cell_type": "markdown",
   "id": "residential-money",
   "metadata": {},
   "source": [
    "Unfortunately, these names do not work as keyword input arguments which would make the range class more consistent with other python classes and functions and make it more accessible for begineers."
   ]
  },
  {
   "cell_type": "markdown",
   "id": "built-affiliate",
   "metadata": {},
   "source": [
    "```range(start=0,stop=10,step=1)```"
   ]
  },
  {
   "cell_type": "markdown",
   "id": "adjustable-summer",
   "metadata": {},
   "source": [
    "![range2](range2.png)"
   ]
  },
  {
   "cell_type": "markdown",
   "id": "loved-position",
   "metadata": {},
   "source": [
    "The range object is commonly used in for loops which are used to repeat a set of commands *for*  a certain number of times. For example if we want to print 'hello' 10 times we can use the following. "
   ]
  },
  {
   "cell_type": "code",
   "execution_count": 167,
   "id": "brief-ceremony",
   "metadata": {},
   "outputs": [
    {
     "name": "stdout",
     "output_type": "stream",
     "text": [
      "hello\n",
      "hello\n",
      "hello\n",
      "hello\n",
      "hello\n",
      "hello\n",
      "hello\n",
      "hello\n",
      "hello\n",
      "hello\n"
     ]
    }
   ],
   "source": [
    "for idx in range(10):\n",
    "    print('hello')"
   ]
  },
  {
   "cell_type": "markdown",
   "id": "sustained-default",
   "metadata": {},
   "source": [
    "The keyword for means we are going to use a for loop.\n",
    "After the for keyword we need to specify a loop variable (this can be anything as long as it is in accordance with the rules behind variable names). \n",
    "The keyword in means we are looking within an object (*in* this case, the range object).\n",
    "The colon : means we are beginning a code block. Anything belonging to the code block is indented by for spaces. This was seen earlier with the if, elif, else branching and try and except branching.\n",
    "\n",
    "We can print the loop variable instead of the str 'hello'."
   ]
  },
  {
   "cell_type": "code",
   "execution_count": 168,
   "id": "vital-consultation",
   "metadata": {},
   "outputs": [
    {
     "name": "stdout",
     "output_type": "stream",
     "text": [
      "0\n",
      "1\n",
      "2\n",
      "3\n",
      "4\n",
      "5\n",
      "6\n",
      "7\n",
      "8\n",
      "9\n"
     ]
    }
   ],
   "source": [
    "for idx in range(10):\n",
    "    print(idx)"
   ]
  },
  {
   "cell_type": "markdown",
   "id": "sweet-criterion",
   "metadata": {},
   "source": [
    "We see here that Python uses zero order indexing. This means we count from 0 (and include the lower bound 0) in steps of 1 until we approach the upper bound 10 (we don't include the upper bound 10). In other words Python indexing includes the lower bound and excludes the upper bound."
   ]
  },
  {
   "cell_type": "code",
   "execution_count": 169,
   "id": "strong-chair",
   "metadata": {},
   "outputs": [
    {
     "name": "stdout",
     "output_type": "stream",
     "text": [
      "1\n",
      "2\n",
      "3\n",
      "4\n",
      "5\n",
      "6\n",
      "7\n",
      "8\n",
      "9\n"
     ]
    }
   ],
   "source": [
    "for idx in range(1,10):\n",
    "    print(idx)"
   ]
  },
  {
   "cell_type": "code",
   "execution_count": 170,
   "id": "bigger-scope",
   "metadata": {},
   "outputs": [
    {
     "name": "stdout",
     "output_type": "stream",
     "text": [
      "1\n",
      "3\n",
      "5\n",
      "7\n",
      "9\n"
     ]
    }
   ],
   "source": [
    "for idx in range(1,10,2):\n",
    "    print(idx)"
   ]
  },
  {
   "cell_type": "markdown",
   "id": "scenic-deviation",
   "metadata": {},
   "source": [
    "If we return to the above:"
   ]
  },
  {
   "cell_type": "code",
   "execution_count": 171,
   "id": "several-plate",
   "metadata": {},
   "outputs": [
    {
     "name": "stdout",
     "output_type": "stream",
     "text": [
      "0\n",
      "1\n",
      "2\n",
      "3\n",
      "4\n",
      "5\n",
      "6\n",
      "7\n",
      "8\n",
      "9\n"
     ]
    }
   ],
   "source": [
    "for idx in range(10):\n",
    "    print(idx)"
   ]
  },
  {
   "cell_type": "markdown",
   "id": "attempted-surgery",
   "metadata": {},
   "source": [
    "And want the numeric values displayed in the reverse order, note that we have to start at 9 (inclusive of the lower bound) and stop at -1 (exclusive of the lower bound) using steps of -1."
   ]
  },
  {
   "cell_type": "code",
   "execution_count": 172,
   "id": "considerable-conviction",
   "metadata": {},
   "outputs": [
    {
     "name": "stdout",
     "output_type": "stream",
     "text": [
      "9\n",
      "8\n",
      "7\n",
      "6\n",
      "5\n",
      "4\n",
      "3\n",
      "2\n",
      "1\n",
      "0\n"
     ]
    }
   ],
   "source": [
    "for idx in range(9,-1,-1):\n",
    "    print(idx)"
   ]
  },
  {
   "cell_type": "markdown",
   "id": "vocal-longitude",
   "metadata": {},
   "source": [
    "The above looked looped *in* a range object. A str is an object which can have multiple characters."
   ]
  },
  {
   "cell_type": "code",
   "execution_count": 173,
   "id": "romance-advocate",
   "metadata": {},
   "outputs": [
    {
     "name": "stdout",
     "output_type": "stream",
     "text": [
      "h\n",
      "e\n",
      "l\n",
      "l\n",
      "o\n"
     ]
    }
   ],
   "source": [
    "for idx in 'hello':\n",
    "    print(idx)"
   ]
  },
  {
   "cell_type": "markdown",
   "id": "located-cover",
   "metadata": {},
   "source": [
    "Note how idx is now a letter and not a number. We can actually get both an numeric idx and a letter value by using the function enumerate instead."
   ]
  },
  {
   "cell_type": "code",
   "execution_count": 174,
   "id": "early-rendering",
   "metadata": {},
   "outputs": [
    {
     "data": {
      "text/plain": [
       "<enumerate at 0x24ed0bd9040>"
      ]
     },
     "execution_count": 174,
     "metadata": {},
     "output_type": "execute_result"
    }
   ],
   "source": [
    "enumerate('hello')"
   ]
  },
  {
   "cell_type": "code",
   "execution_count": 175,
   "id": "gross-philippines",
   "metadata": {},
   "outputs": [
    {
     "name": "stdout",
     "output_type": "stream",
     "text": [
      "0 h\n",
      "1 e\n",
      "2 l\n",
      "3 l\n",
      "4 o\n"
     ]
    }
   ],
   "source": [
    "for idx,value in enumerate('hello'):\n",
    "    print(idx,value)"
   ]
  },
  {
   "cell_type": "markdown",
   "id": "extra-education",
   "metadata": {},
   "source": [
    "We could use these in calculations if we wished."
   ]
  },
  {
   "cell_type": "code",
   "execution_count": 176,
   "id": "entitled-possibility",
   "metadata": {},
   "outputs": [
    {
     "name": "stdout",
     "output_type": "stream",
     "text": [
      "\n",
      "e\n",
      "ll\n",
      "lll\n",
      "oooo\n"
     ]
    }
   ],
   "source": [
    "for idx,value in enumerate('hello'):\n",
    "    print(idx*value)"
   ]
  },
  {
   "cell_type": "markdown",
   "id": "pressing-columbia",
   "metadata": {},
   "source": [
    "There is another loop called a while loop which will loop only if a condition is satisfied."
   ]
  },
  {
   "cell_type": "markdown",
   "id": "light-tenant",
   "metadata": {},
   "source": [
    "```while condition```"
   ]
  },
  {
   "cell_type": "markdown",
   "id": "vital-alert",
   "metadata": {},
   "source": [
    "Normally an object related to the condition is changed within the code block so the condition is eventually not met and the loop ends."
   ]
  },
  {
   "cell_type": "code",
   "execution_count": 177,
   "id": "angry-clear",
   "metadata": {},
   "outputs": [
    {
     "name": "stdout",
     "output_type": "stream",
     "text": [
      "0\n",
      "1\n",
      "2\n",
      "3\n",
      "4\n"
     ]
    }
   ],
   "source": [
    "counter=0\n",
    "while counter<5:\n",
    "    print(counter)\n",
    "    counter+=1"
   ]
  },
  {
   "cell_type": "markdown",
   "id": "stainless-reserve",
   "metadata": {},
   "source": [
    "We can see that when the counter had  value of 4, the condition was satisfied and the value 4 was printed. After the value 4 was pritned, it got incremented by a value of 1 and then the while loops condition was not satisfied so the while loop broke. Therefore the code in the code block was not carried out for a value of 5. If we print the value of counter outside the loop we see it is 5."
   ]
  },
  {
   "cell_type": "code",
   "execution_count": 178,
   "id": "optional-arabic",
   "metadata": {},
   "outputs": [
    {
     "data": {
      "text/plain": [
       "5"
      ]
     },
     "execution_count": 178,
     "metadata": {},
     "output_type": "execute_result"
    }
   ],
   "source": [
    "counter"
   ]
  },
  {
   "cell_type": "markdown",
   "id": "decreased-ordinance",
   "metadata": {},
   "source": [
    "Note that it is possible to create a loop that will loop forever, if the condition is never updated within the loop. The following code for example would spam one of the cells in the JupyterLab notebook forever."
   ]
  },
  {
   "cell_type": "markdown",
   "id": "committed-flavor",
   "metadata": {},
   "source": [
    "```\n",
    "while True:\n",
    "    print('spam')\n",
    "```    "
   ]
  },
  {
   "cell_type": "markdown",
   "id": "pretty-toner",
   "metadata": {},
   "source": [
    "## Asserting function input arguments"
   ]
  },
  {
   "cell_type": "markdown",
   "id": "impossible-scholarship",
   "metadata": {},
   "source": [
    "The assert keyword can be used to check whether or not a condition is True. If it is, the code will proceed and if it is not it will flag up an error. The form to use is."
   ]
  },
  {
   "cell_type": "markdown",
   "id": "outside-humor",
   "metadata": {},
   "source": [
    "```assert condition, \"optional message\"```"
   ]
  },
  {
   "cell_type": "markdown",
   "id": "conditional-biography",
   "metadata": {},
   "source": [
    "Note that assert is not a function and therefore does not use parenthesis."
   ]
  },
  {
   "cell_type": "code",
   "execution_count": 179,
   "id": "meaning-portugal",
   "metadata": {},
   "outputs": [],
   "source": [
    "def fun(value=0):\n",
    "    assert type(value)==int,'value must be of the datatype int'\n",
    "    print(value)"
   ]
  },
  {
   "cell_type": "markdown",
   "id": "manufactured-location",
   "metadata": {},
   "source": [
    "the function fun will proceed with value assigned to the default 0 and then set to 1."
   ]
  },
  {
   "cell_type": "code",
   "execution_count": 180,
   "id": "instant-moscow",
   "metadata": {},
   "outputs": [
    {
     "name": "stdout",
     "output_type": "stream",
     "text": [
      "0\n"
     ]
    }
   ],
   "source": [
    "fun()"
   ]
  },
  {
   "cell_type": "code",
   "execution_count": 181,
   "id": "bigger-flavor",
   "metadata": {},
   "outputs": [
    {
     "name": "stdout",
     "output_type": "stream",
     "text": [
      "1\n"
     ]
    }
   ],
   "source": [
    "fun(1)"
   ]
  },
  {
   "cell_type": "markdown",
   "id": "valid-boutique",
   "metadata": {},
   "source": [
    "It will hang when value is assigned to a float 1.1 or a str of 'a'."
   ]
  },
  {
   "cell_type": "markdown",
   "id": "potential-raise",
   "metadata": {},
   "source": [
    "```fun(1.1.)```"
   ]
  },
  {
   "cell_type": "markdown",
   "id": "mineral-belle",
   "metadata": {},
   "source": [
    "![AssertionError1](AssertionError1.png)"
   ]
  },
  {
   "cell_type": "markdown",
   "id": "polished-colleague",
   "metadata": {},
   "source": [
    "```fun('a')```"
   ]
  },
  {
   "cell_type": "markdown",
   "id": "heard-supplier",
   "metadata": {},
   "source": [
    "![AssertionError2](AssertionError2.png)"
   ]
  },
  {
   "cell_type": "markdown",
   "id": "external-trinity",
   "metadata": {},
   "source": [
    "We can combine the assertion statement with a try and except branch with instructions to handle the AssertionError."
   ]
  },
  {
   "cell_type": "code",
   "execution_count": 182,
   "id": "thermal-adaptation",
   "metadata": {},
   "outputs": [],
   "source": [
    "def fun(value=0):\n",
    "    try:\n",
    "        assert type(value)==int, 'value must be of the datatype int'\n",
    "        print(value)\n",
    "    except AssertionError:\n",
    "        print('invalid datatype for value, value must be an int datatype.')"
   ]
  },
  {
   "cell_type": "markdown",
   "id": "significant-screen",
   "metadata": {},
   "source": [
    "Now once again when value is assigned to its default value int 0 or the int 1 the code works as expected. When it is assigned to the float 1.1 or the str, the AsertionError is handled and the print statement displays."
   ]
  },
  {
   "cell_type": "code",
   "execution_count": 183,
   "id": "assigned-supplier",
   "metadata": {},
   "outputs": [
    {
     "name": "stdout",
     "output_type": "stream",
     "text": [
      "0\n"
     ]
    }
   ],
   "source": [
    "fun()"
   ]
  },
  {
   "cell_type": "code",
   "execution_count": 184,
   "id": "unique-messaging",
   "metadata": {},
   "outputs": [
    {
     "name": "stdout",
     "output_type": "stream",
     "text": [
      "1\n"
     ]
    }
   ],
   "source": [
    "fun(1)"
   ]
  },
  {
   "cell_type": "code",
   "execution_count": 185,
   "id": "muslim-tuner",
   "metadata": {},
   "outputs": [
    {
     "name": "stdout",
     "output_type": "stream",
     "text": [
      "invalid datatype for value, value must be an int datatype.\n"
     ]
    }
   ],
   "source": [
    "fun(1.1)"
   ]
  },
  {
   "cell_type": "code",
   "execution_count": 186,
   "id": "intended-suffering",
   "metadata": {},
   "outputs": [
    {
     "name": "stdout",
     "output_type": "stream",
     "text": [
      "invalid datatype for value, value must be an int datatype.\n"
     ]
    }
   ],
   "source": [
    "fun('a')"
   ]
  },
  {
   "cell_type": "markdown",
   "id": "several-checklist",
   "metadata": {},
   "source": [
    "The condition can be updated to accept an int or a float."
   ]
  },
  {
   "cell_type": "code",
   "execution_count": 187,
   "id": "editorial-danger",
   "metadata": {},
   "outputs": [],
   "source": [
    "def fun(value=0):\n",
    "    try:\n",
    "        assert (type(value)==int or type(value)==float), 'value must be of the datatype int or float'\n",
    "        print(value)\n",
    "    except AssertionError:\n",
    "        print('invalid datatype for value, value must be an int or float datatype.')"
   ]
  },
  {
   "cell_type": "markdown",
   "id": "round-sherman",
   "metadata": {},
   "source": [
    "Now once again when value is assigned to its default value int 0 or the int 1 or the float 1.1 the code works as expected. When it is assigned to the str, the AssertionError is handled and the print statement displays."
   ]
  },
  {
   "cell_type": "code",
   "execution_count": 188,
   "id": "ideal-invite",
   "metadata": {},
   "outputs": [
    {
     "name": "stdout",
     "output_type": "stream",
     "text": [
      "0\n"
     ]
    }
   ],
   "source": [
    "fun()"
   ]
  },
  {
   "cell_type": "code",
   "execution_count": 189,
   "id": "multiple-supplier",
   "metadata": {},
   "outputs": [
    {
     "name": "stdout",
     "output_type": "stream",
     "text": [
      "1\n"
     ]
    }
   ],
   "source": [
    "fun(1)"
   ]
  },
  {
   "cell_type": "code",
   "execution_count": 190,
   "id": "meaningful-stable",
   "metadata": {},
   "outputs": [
    {
     "name": "stdout",
     "output_type": "stream",
     "text": [
      "1.1\n"
     ]
    }
   ],
   "source": [
    "fun(1.1)"
   ]
  },
  {
   "cell_type": "code",
   "execution_count": 191,
   "id": "suspected-baking",
   "metadata": {},
   "outputs": [
    {
     "name": "stdout",
     "output_type": "stream",
     "text": [
      "invalid datatype for value, value must be an int or float datatype.\n"
     ]
    }
   ],
   "source": [
    "fun('a')"
   ]
  },
  {
   "cell_type": "markdown",
   "id": "armed-original",
   "metadata": {},
   "source": [
    "## Custom Classes"
   ]
  },
  {
   "cell_type": "markdown",
   "id": "connected-optimum",
   "metadata": {},
   "source": [
    "We have used an instance of an int class and an instance of a str class and seen that these have a substantially different number of attributes and methods available to them. We can begin to understand this by looking at how a custom class is constructed. \n",
    "\n",
    "Python is an object orientated programming language and every class used inherits its properties from the object superclass. This can be seen by using the function issubclass. We can see the keyword input arguments the tab ↹ and shift ⇧."
   ]
  },
  {
   "cell_type": "markdown",
   "id": "opened-triple",
   "metadata": {},
   "source": [
    "![issubclass_function](issubclass_function.png)"
   ]
  },
  {
   "cell_type": "markdown",
   "id": "patient-paris",
   "metadata": {},
   "source": [
    "We see that int, str, floats and bools are all subclasses of the object class."
   ]
  },
  {
   "cell_type": "code",
   "execution_count": 192,
   "id": "removed-offense",
   "metadata": {},
   "outputs": [
    {
     "data": {
      "text/plain": [
       "True"
      ]
     },
     "execution_count": 192,
     "metadata": {},
     "output_type": "execute_result"
    }
   ],
   "source": [
    "issubclass(int,object)"
   ]
  },
  {
   "cell_type": "code",
   "execution_count": 193,
   "id": "continuous-performance",
   "metadata": {},
   "outputs": [
    {
     "data": {
      "text/plain": [
       "True"
      ]
     },
     "execution_count": 193,
     "metadata": {},
     "output_type": "execute_result"
    }
   ],
   "source": [
    "issubclass(str,object)"
   ]
  },
  {
   "cell_type": "code",
   "execution_count": 194,
   "id": "artistic-spectrum",
   "metadata": {},
   "outputs": [
    {
     "data": {
      "text/plain": [
       "True"
      ]
     },
     "execution_count": 194,
     "metadata": {},
     "output_type": "execute_result"
    }
   ],
   "source": [
    "issubclass(float,object)"
   ]
  },
  {
   "cell_type": "code",
   "execution_count": 195,
   "id": "executed-burlington",
   "metadata": {},
   "outputs": [
    {
     "data": {
      "text/plain": [
       "True"
      ]
     },
     "execution_count": 195,
     "metadata": {},
     "output_type": "execute_result"
    }
   ],
   "source": [
    "issubclass(bool,object)"
   ]
  },
  {
   "cell_type": "markdown",
   "id": "massive-dubai",
   "metadata": {},
   "source": [
    "We see that str is not a subclass of int as expected as they behave very differently (have vastly different attributes and methods). "
   ]
  },
  {
   "cell_type": "code",
   "execution_count": 196,
   "id": "stuffed-batch",
   "metadata": {},
   "outputs": [
    {
     "data": {
      "text/plain": [
       "False"
      ]
     },
     "execution_count": 196,
     "metadata": {},
     "output_type": "execute_result"
    }
   ],
   "source": [
    "issubclass(str,int)"
   ]
  },
  {
   "cell_type": "markdown",
   "id": "jewish-finnish",
   "metadata": {},
   "source": [
    "Although float and int have similarly defined methods and attributes they are still independent classes."
   ]
  },
  {
   "cell_type": "code",
   "execution_count": 197,
   "id": "parliamentary-variance",
   "metadata": {},
   "outputs": [
    {
     "data": {
      "text/plain": [
       "False"
      ]
     },
     "execution_count": 197,
     "metadata": {},
     "output_type": "execute_result"
    }
   ],
   "source": [
    "issubclass(float,int)"
   ]
  },
  {
   "cell_type": "markdown",
   "id": "warming-prince",
   "metadata": {},
   "source": [
    "We seen that the bool class has identical methods and attributes to the int class. This is because it is a subclass of the int superclass."
   ]
  },
  {
   "cell_type": "code",
   "execution_count": 198,
   "id": "analyzed-fleece",
   "metadata": {},
   "outputs": [
    {
     "data": {
      "text/plain": [
       "True"
      ]
     },
     "execution_count": 198,
     "metadata": {},
     "output_type": "execute_result"
    }
   ],
   "source": [
    "issubclass(bool,int)"
   ]
  },
  {
   "cell_type": "markdown",
   "id": "covered-community",
   "metadata": {},
   "source": [
    "### Creating a Class"
   ]
  },
  {
   "cell_type": "markdown",
   "id": "dynamic-dakota",
   "metadata": {},
   "source": [
    "Constructing a class shares some commonalities with defining a function. We use class (to define a class) instead of def (which we use to define a function). The convention is to use CamelCaseCapitilization opposed to lower_case for a function or variable. Parenthesis is used to enclose the superclass. The custom class being created will inherit properties from the superclass such as attributes and methods. object is the default superclass of everything in the python programming language and if a custom class is created without a class in the 0th position of the parenthesis it will be automatically use object as its superclass. i.e. the two cells below are equivalent."
   ]
  },
  {
   "cell_type": "code",
   "execution_count": 199,
   "id": "exotic-installation",
   "metadata": {},
   "outputs": [],
   "source": [
    "class ScalarClass(object):\n",
    "    pass"
   ]
  },
  {
   "cell_type": "code",
   "execution_count": 200,
   "id": "minimal-symbol",
   "metadata": {},
   "outputs": [],
   "source": [
    "class ScalarClass():\n",
    "    pass"
   ]
  },
  {
   "cell_type": "markdown",
   "id": "daily-partner",
   "metadata": {},
   "source": [
    "The class above does nothing, it can be called in a cell without parenthesis which will return details about the class. This is analogous to calling the class int without parenthesis."
   ]
  },
  {
   "cell_type": "code",
   "execution_count": 201,
   "id": "incredible-shield",
   "metadata": {},
   "outputs": [
    {
     "data": {
      "text/plain": [
       "int"
      ]
     },
     "execution_count": 201,
     "metadata": {},
     "output_type": "execute_result"
    }
   ],
   "source": [
    "int"
   ]
  },
  {
   "cell_type": "code",
   "execution_count": 202,
   "id": "outstanding-november",
   "metadata": {},
   "outputs": [
    {
     "data": {
      "text/plain": [
       "__main__.ScalarClass"
      ]
     },
     "execution_count": 202,
     "metadata": {},
     "output_type": "execute_result"
    }
   ],
   "source": [
    "ScalarClass"
   ]
  },
  {
   "cell_type": "markdown",
   "id": "tired-quebec",
   "metadata": {},
   "source": [
    "When we type in int followed by a tab ↹ and shift ⇧ we get details about the input arguments to provide when using the init signature."
   ]
  },
  {
   "cell_type": "markdown",
   "id": "adverse-drove",
   "metadata": {},
   "source": [
    "![int_init_signature](int_init_signature.png)"
   ]
  },
  {
   "cell_type": "markdown",
   "id": "treated-zimbabwe",
   "metadata": {},
   "source": [
    "When we do the same for our custom class ScalarClass we get no details because we have not inherited and no defined an init signature. There has also been no docstring created."
   ]
  },
  {
   "cell_type": "markdown",
   "id": "rotary-demand",
   "metadata": {},
   "source": [
    "![ScalarClass_init_signature](ScalarClass_init_signature.png)"
   ]
  },
  {
   "cell_type": "markdown",
   "id": "frequent-recorder",
   "metadata": {},
   "source": [
    "### Inheritance"
   ]
  },
  {
   "cell_type": "markdown",
   "id": "breathing-atlantic",
   "metadata": {},
   "source": [
    "Let's now instead redefine our ScalarClass and use int as the superclass."
   ]
  },
  {
   "cell_type": "code",
   "execution_count": 203,
   "id": "outside-anderson",
   "metadata": {},
   "outputs": [],
   "source": [
    "class ScalarClass(int):\n",
    "    pass"
   ]
  },
  {
   "cell_type": "markdown",
   "id": "eastern-separation",
   "metadata": {},
   "source": [
    "Now when we type in ScalarClass followed by a tab ↹ and shift ⇧ we inherit the init signature (and all the methods and attributes) of the int class. The docstring therefore resembles that of the int subclass."
   ]
  },
  {
   "cell_type": "markdown",
   "id": "distant-tuning",
   "metadata": {},
   "source": [
    "![ScalarClass_int_inheritance_init_signature](ScalarClass_int_inheritance_init_signature.png)"
   ]
  },
  {
   "cell_type": "markdown",
   "id": "processed-renaissance",
   "metadata": {},
   "source": [
    "Creating an instance of a class is also known as instantiating a class. Let's instantiate an instance l of the ScalarClass."
   ]
  },
  {
   "cell_type": "code",
   "execution_count": 204,
   "id": "gorgeous-syndication",
   "metadata": {},
   "outputs": [],
   "source": [
    "l=ScalarClass(5)"
   ]
  },
  {
   "cell_type": "markdown",
   "id": "integral-vertical",
   "metadata": {},
   "source": [
    "Because the init signature is inherited from the str class, we only need to provide the positional input argument self. If we now type in our instance name followed by a dot . and ↹ shows the list of attributes and methods. These are identical to those from the int superclass because we have inherited them from the int superclass."
   ]
  },
  {
   "cell_type": "markdown",
   "id": "criminal-alias",
   "metadata": {},
   "source": [
    "![ScalarClass_int_inheritance_attributes_methods](ScalarClass_int_inheritance_attributes_methods.png)"
   ]
  },
  {
   "cell_type": "markdown",
   "id": "deluxe-straight",
   "metadata": {},
   "source": [
    "Let's now provide our own custom docstring."
   ]
  },
  {
   "cell_type": "code",
   "execution_count": 205,
   "id": "given-brunei",
   "metadata": {},
   "outputs": [],
   "source": [
    "class ScalarClass(int):\n",
    "    '''Inherited from int superclass\n",
    "    Convert a number or string to an integer, or return 0 if no arguments are given. \n",
    "    For floating point numbers this truncates towards 0'''\n",
    "    pass"
   ]
  },
  {
   "cell_type": "markdown",
   "id": "corresponding-effort",
   "metadata": {},
   "source": [
    "Now when we type in ScalarClass followed by a tab ↹ and shift ⇧ we will see our own custom docstring opposed to the one inherited from the int class. In general the custom class will use anything we provide in preference to what it inherits from the superclass."
   ]
  },
  {
   "cell_type": "markdown",
   "id": "meaningful-gamma",
   "metadata": {},
   "source": [
    "![ScalarClass_int_inheritance_attributes_methods_customdocstr](ScalarClass_int_inheritance_attributes_methods_customdocstr.png)"
   ]
  },
  {
   "cell_type": "markdown",
   "id": "dependent-holocaust",
   "metadata": {},
   "source": [
    "### Class functions (methods)"
   ]
  },
  {
   "cell_type": "markdown",
   "id": "continental-manchester",
   "metadata": {},
   "source": [
    "Within the class we can define a custom function. \n",
    "This custom function will belong to the class and can be called from any instance of the class i.e. is a method of any instance of the class."
   ]
  },
  {
   "cell_type": "code",
   "execution_count": 206,
   "id": "preceding-consensus",
   "metadata": {},
   "outputs": [],
   "source": [
    "class ScalarClass(int):\n",
    "    '''Inherited from int superclass\n",
    "    Convert a number or string to an integer, or return 0 if no arguments are given. \n",
    "    For floating point numbers this truncates towards 0'''\n",
    "    def printhello():\n",
    "        print('hello')"
   ]
  },
  {
   "cell_type": "markdown",
   "id": "filled-software",
   "metadata": {},
   "source": [
    "Since we have updated our class we need to reinstantiate our instance l (otherwise l is an instance of the old custom class)."
   ]
  },
  {
   "cell_type": "code",
   "execution_count": 207,
   "id": "covered-ability",
   "metadata": {},
   "outputs": [],
   "source": [
    "l=ScalarClass(5)"
   ]
  },
  {
   "cell_type": "markdown",
   "id": "selective-tamil",
   "metadata": {},
   "source": [
    "Now when we type in our instance name followed by a dot . a tab ↹ we get the list of attributes and methods. Note our custom method printhello displays."
   ]
  },
  {
   "cell_type": "markdown",
   "id": "wooden-picking",
   "metadata": {},
   "source": [
    "![ScalarClass_int_inheritance_custom_method_printhello](ScalarClass_int_inheritance_custom_method_printhello.png)"
   ]
  },
  {
   "cell_type": "markdown",
   "id": "employed-treat",
   "metadata": {},
   "source": [
    "We can call the custom method from the class itself, we see it works as expected."
   ]
  },
  {
   "cell_type": "code",
   "execution_count": 208,
   "id": "under-essence",
   "metadata": {},
   "outputs": [
    {
     "name": "stdout",
     "output_type": "stream",
     "text": [
      "hello\n"
     ]
    }
   ],
   "source": [
    "ScalarClass.printhello()"
   ]
  },
  {
   "cell_type": "markdown",
   "id": "indoor-cooperation",
   "metadata": {},
   "source": [
    "However when we attempt to call it as a method we get the following error."
   ]
  },
  {
   "cell_type": "markdown",
   "id": "neural-refrigerator",
   "metadata": {},
   "source": [
    "![ScalarClass_int_inheritance_custom_method_printhello_positional_input_arguments_error](ScalarClass_int_inheritance_custom_method_printhello_positional_input_arguments_error.png)"
   ]
  },
  {
   "cell_type": "markdown",
   "id": "nominated-japan",
   "metadata": {},
   "source": [
    "When we type in the method followed by a tab ↹ and shift ⇧ we get details about the input arguments. As we can see there are none because we haven't provided any when we defined the function and there is no docstring."
   ]
  },
  {
   "cell_type": "markdown",
   "id": "gothic-geometry",
   "metadata": {},
   "source": [
    "![ScalarClass_int_inheritance_custom_method_printhello_docstring](ScalarClass_int_inheritance_custom_method_printhello_docstring.png)"
   ]
  },
  {
   "cell_type": "markdown",
   "id": "handmade-commander",
   "metadata": {},
   "source": [
    "The error is this function takes 0 positional input arguments but 1 was given. This means an input argument was provided at position 0 but there was no 0th positional input argument defined in the function. When a method is called from an instance, the instance its *self* is provided automatically as the 0th positional input argument. \n",
    "\n",
    "We therefore need to update the function printhello to use self as its 0th positional input argument."
   ]
  },
  {
   "cell_type": "code",
   "execution_count": 209,
   "id": "fourth-aging",
   "metadata": {},
   "outputs": [],
   "source": [
    "class ScalarClass(int):\n",
    "    '''Inherited from int superclass\n",
    "    Convert a number or string to an integer, or return 0 if no arguments are given. \n",
    "    For floating point numbers this truncates towards 0.'''\n",
    "    def printhello(self):\n",
    "        '''This will print hello.'''\n",
    "        print('hello')"
   ]
  },
  {
   "cell_type": "markdown",
   "id": "aggregate-brake",
   "metadata": {},
   "source": [
    "Since we have updated our class we need to reinstantiate our instance l."
   ]
  },
  {
   "cell_type": "code",
   "execution_count": 210,
   "id": "immune-payment",
   "metadata": {},
   "outputs": [],
   "source": [
    "l=ScalarClass(5)"
   ]
  },
  {
   "cell_type": "markdown",
   "id": "imposed-durham",
   "metadata": {},
   "source": [
    "When the function is called from the instance l, the instance l will be supplied as self. So the method now works as intended."
   ]
  },
  {
   "cell_type": "code",
   "execution_count": 211,
   "id": "prostate-astrology",
   "metadata": {},
   "outputs": [
    {
     "name": "stdout",
     "output_type": "stream",
     "text": [
      "hello\n"
     ]
    }
   ],
   "source": [
    "l.printhello()"
   ]
  },
  {
   "cell_type": "markdown",
   "id": "rental-gibson",
   "metadata": {},
   "source": [
    "Note that it will give an error when called directly from the class as no instance is provided."
   ]
  },
  {
   "cell_type": "markdown",
   "id": "bottom-rating",
   "metadata": {},
   "source": [
    "![ScalarClass_int_inheritance_custom_method_printhello_positional_input_arguments_error2](ScalarClass_int_inheritance_custom_method_printhello_positional_input_arguments_error2.png)"
   ]
  },
  {
   "cell_type": "markdown",
   "id": "brown-denver",
   "metadata": {},
   "source": [
    "It will work correctly when an instance is provided."
   ]
  },
  {
   "cell_type": "code",
   "execution_count": 212,
   "id": "official-cincinnati",
   "metadata": {},
   "outputs": [
    {
     "name": "stdout",
     "output_type": "stream",
     "text": [
      "hello\n"
     ]
    }
   ],
   "source": [
    "ScalarClass.printhello(l)"
   ]
  },
  {
   "cell_type": "markdown",
   "id": "republican-coast",
   "metadata": {},
   "source": [
    "### Static Class functions"
   ]
  },
  {
   "cell_type": "markdown",
   "id": "regulation-teacher",
   "metadata": {},
   "source": [
    "When we first created the class function printhello it worked without providing an instance. In some rare cases, we may want a static method that can perform this way when called directly from a class or alternatively directly from an instance. To do this we need to use the decorator @staticmethod and we can create a function without any input arguments."
   ]
  },
  {
   "cell_type": "code",
   "execution_count": 213,
   "id": "thermal-roulette",
   "metadata": {},
   "outputs": [],
   "source": [
    "class ScalarClass(int):\n",
    "    '''Inherited from int superclass\n",
    "    Convert a number or string to an integer, or return 0 if no arguments are given. \n",
    "    For floating point numbers this truncates towards 0.'''\n",
    "    def printhello(self):\n",
    "        '''This will print hello.'''\n",
    "        print('hello')\n",
    "    @staticmethod\n",
    "    def statichello():\n",
    "        '''This is a static method that prints hello.'''\n",
    "        print('hello')"
   ]
  },
  {
   "cell_type": "markdown",
   "id": "governing-citizen",
   "metadata": {},
   "source": [
    "Since we have updated our class we need to reinstantiate our instance l."
   ]
  },
  {
   "cell_type": "code",
   "execution_count": 214,
   "id": "stylish-milwaukee",
   "metadata": {},
   "outputs": [],
   "source": [
    "l=ScalarClass(5)"
   ]
  },
  {
   "cell_type": "markdown",
   "id": "tribal-shanghai",
   "metadata": {},
   "source": [
    "When the function is called from the instance l, because the staticmethod decorator is present, the instance l will not be supplied. This means there is no input argument input and none expected so the static method works as expected."
   ]
  },
  {
   "cell_type": "code",
   "execution_count": 215,
   "id": "worth-florist",
   "metadata": {},
   "outputs": [
    {
     "name": "stdout",
     "output_type": "stream",
     "text": [
      "hello\n"
     ]
    }
   ],
   "source": [
    "l.statichello()"
   ]
  },
  {
   "cell_type": "markdown",
   "id": "native-alabama",
   "metadata": {},
   "source": [
    "The staticmethod can also be called directly from the class without specifying an instance."
   ]
  },
  {
   "cell_type": "code",
   "execution_count": 216,
   "id": "liquid-guitar",
   "metadata": {},
   "outputs": [
    {
     "name": "stdout",
     "output_type": "stream",
     "text": [
      "hello\n"
     ]
    }
   ],
   "source": [
    "ScalarClass.statichello()"
   ]
  },
  {
   "cell_type": "markdown",
   "id": "excited-november",
   "metadata": {},
   "source": [
    "### Instance variables (attributes)"
   ]
  },
  {
   "cell_type": "markdown",
   "id": "economic-logging",
   "metadata": {},
   "source": [
    "Recall that an attribute is an object (or variable) that is referenced with respect to another object."
   ]
  },
  {
   "cell_type": "markdown",
   "id": "seasonal-opera",
   "metadata": {},
   "source": [
    "We can create a method which creates an attribute, that is an object belonging to the instance self."
   ]
  },
  {
   "cell_type": "code",
   "execution_count": 217,
   "id": "important-nebraska",
   "metadata": {},
   "outputs": [],
   "source": [
    "class ScalarClass(int):\n",
    "    '''Inherited from int superclass\n",
    "    Convert a number or string to an integer, or return 0 if no arguments are given. \n",
    "    For floating point numbers this truncates towards 0.'''\n",
    "    def printhello(self):\n",
    "        '''This will print hello.'''\n",
    "        print('hello')\n",
    "    def create_attributes(self):\n",
    "        self.inverse=1/self"
   ]
  },
  {
   "cell_type": "markdown",
   "id": "virgin-porcelain",
   "metadata": {},
   "source": [
    "Since we have updated our class we need to reinstantiate our instance l."
   ]
  },
  {
   "cell_type": "code",
   "execution_count": 218,
   "id": "electrical-genre",
   "metadata": {},
   "outputs": [],
   "source": [
    "l=ScalarClass(5)"
   ]
  },
  {
   "cell_type": "markdown",
   "id": "sensitive-activation",
   "metadata": {},
   "source": [
    "When we type in our instance name followed by a dot . a tab ↹ we get the list of attributes and methods. Note our custom method create_attributes displays but no attribute inverse displays as it has not been created yet."
   ]
  },
  {
   "cell_type": "markdown",
   "id": "quiet-nebraska",
   "metadata": {},
   "source": [
    "![ScalarClass_int_inheritance_custom_method_createattributes](ScalarClass_int_inheritance_custom_method_createattributes.png)"
   ]
  },
  {
   "cell_type": "markdown",
   "id": "stock-territory",
   "metadata": {},
   "source": [
    "When we call this, an attribute is created:"
   ]
  },
  {
   "cell_type": "code",
   "execution_count": 219,
   "id": "structured-female",
   "metadata": {},
   "outputs": [],
   "source": [
    "l.create_attributes()"
   ]
  },
  {
   "cell_type": "markdown",
   "id": "former-bahamas",
   "metadata": {},
   "source": [
    "When we type in our instance name followed by a dot . a tab ↹ we get the list of attributes and methods. Our custom attribute inverse now displays."
   ]
  },
  {
   "cell_type": "markdown",
   "id": "received-coordinate",
   "metadata": {},
   "source": [
    "![ScalarClass_int_inheritance_custom_attribute_inverse](ScalarClass_int_inheritance_custom_attribute_inverse.png)"
   ]
  },
  {
   "cell_type": "markdown",
   "id": "numerical-franchise",
   "metadata": {},
   "source": [
    "We can call this to get the inverse of l which is 0.2 as expected."
   ]
  },
  {
   "cell_type": "code",
   "execution_count": 220,
   "id": "binding-alcohol",
   "metadata": {},
   "outputs": [
    {
     "data": {
      "text/plain": [
       "0.2"
      ]
     },
     "execution_count": 220,
     "metadata": {},
     "output_type": "execute_result"
    }
   ],
   "source": [
    "l.inverse"
   ]
  },
  {
   "cell_type": "markdown",
   "id": "advanced-patent",
   "metadata": {},
   "source": [
    "### Class Variables"
   ]
  },
  {
   "cell_type": "markdown",
   "id": "numerous-memory",
   "metadata": {},
   "source": [
    "It is possible to create a class variable, which is essentially an attribute that will have a constant value for every single instance of a class when the class is instantiated. "
   ]
  },
  {
   "cell_type": "code",
   "execution_count": 221,
   "id": "confidential-danish",
   "metadata": {},
   "outputs": [],
   "source": [
    "class ScalarClass(int):\n",
    "    '''Inherited from int superclass\n",
    "    Convert a number or string to an integer, or return 0 if no arguments are given. \n",
    "    For floating point numbers this truncates towards 0.'''\n",
    "    greeting='hello'\n",
    "    def printhello(self):\n",
    "        '''This will print hello.'''\n",
    "        print('hello')\n",
    "    def create_attributes(self):\n",
    "        self.inverse=1/self"
   ]
  },
  {
   "cell_type": "markdown",
   "id": "verbal-platinum",
   "metadata": {},
   "source": [
    "A class variable can be accessed without use of an instance of a class."
   ]
  },
  {
   "cell_type": "code",
   "execution_count": 222,
   "id": "particular-insider",
   "metadata": {},
   "outputs": [
    {
     "data": {
      "text/plain": [
       "'hello'"
      ]
     },
     "execution_count": 222,
     "metadata": {},
     "output_type": "execute_result"
    }
   ],
   "source": [
    "ScalarClass.greeting"
   ]
  },
  {
   "cell_type": "markdown",
   "id": "alternate-syria",
   "metadata": {},
   "source": [
    "Since we have updated our class we need to reinstantiate our instance l."
   ]
  },
  {
   "cell_type": "code",
   "execution_count": 223,
   "id": "optimum-carolina",
   "metadata": {},
   "outputs": [],
   "source": [
    "l=ScalarClass(5)"
   ]
  },
  {
   "cell_type": "markdown",
   "id": "adequate-arlington",
   "metadata": {},
   "source": [
    "The class variable is now available as an attribute."
   ]
  },
  {
   "cell_type": "code",
   "execution_count": 224,
   "id": "billion-montgomery",
   "metadata": {},
   "outputs": [
    {
     "data": {
      "text/plain": [
       "'hello'"
      ]
     },
     "execution_count": 224,
     "metadata": {},
     "output_type": "execute_result"
    }
   ],
   "source": [
    "l.greeting"
   ]
  },
  {
   "cell_type": "markdown",
   "id": "delayed-climb",
   "metadata": {},
   "source": [
    "### Private Variables and Methods"
   ]
  },
  {
   "cell_type": "markdown",
   "id": "increased-somewhere",
   "metadata": {},
   "source": [
    "If a method or attribute begins with an underscore it is usually designed for private use and is hidden."
   ]
  },
  {
   "cell_type": "code",
   "execution_count": 225,
   "id": "spatial-quebec",
   "metadata": {},
   "outputs": [],
   "source": [
    "class ScalarClass(int):\n",
    "    '''Inherited from int superclass\n",
    "    Convert a number or string to an integer, or return 0 if no arguments are given. \n",
    "    For floating point numbers this truncates towards 0.'''\n",
    "    def _create_attributes(self):\n",
    "        self._inverse=1/self"
   ]
  },
  {
   "cell_type": "markdown",
   "id": "controlled-waterproof",
   "metadata": {},
   "source": [
    "Typing in the ScalarClass dot . and tab ↹ does not display the private method \\_create\\_attributes as it is hidden."
   ]
  },
  {
   "cell_type": "markdown",
   "id": "collect-blowing",
   "metadata": {},
   "source": [
    "![ScalarClass_hidden_methods](ScalarClass_hidden_methods.png)"
   ]
  },
  {
   "cell_type": "markdown",
   "id": "absent-motel",
   "metadata": {},
   "source": [
    "The function dir can be used to view all attributes and methods available to the class."
   ]
  },
  {
   "cell_type": "code",
   "execution_count": 226,
   "id": "transsexual-utility",
   "metadata": {
    "scrolled": true
   },
   "outputs": [
    {
     "data": {
      "text/plain": [
       "['__abs__',\n",
       " '__add__',\n",
       " '__and__',\n",
       " '__bool__',\n",
       " '__ceil__',\n",
       " '__class__',\n",
       " '__delattr__',\n",
       " '__dict__',\n",
       " '__dir__',\n",
       " '__divmod__',\n",
       " '__doc__',\n",
       " '__eq__',\n",
       " '__float__',\n",
       " '__floor__',\n",
       " '__floordiv__',\n",
       " '__format__',\n",
       " '__ge__',\n",
       " '__getattribute__',\n",
       " '__getnewargs__',\n",
       " '__gt__',\n",
       " '__hash__',\n",
       " '__index__',\n",
       " '__init__',\n",
       " '__init_subclass__',\n",
       " '__int__',\n",
       " '__invert__',\n",
       " '__le__',\n",
       " '__lshift__',\n",
       " '__lt__',\n",
       " '__mod__',\n",
       " '__module__',\n",
       " '__mul__',\n",
       " '__ne__',\n",
       " '__neg__',\n",
       " '__new__',\n",
       " '__or__',\n",
       " '__pos__',\n",
       " '__pow__',\n",
       " '__radd__',\n",
       " '__rand__',\n",
       " '__rdivmod__',\n",
       " '__reduce__',\n",
       " '__reduce_ex__',\n",
       " '__repr__',\n",
       " '__rfloordiv__',\n",
       " '__rlshift__',\n",
       " '__rmod__',\n",
       " '__rmul__',\n",
       " '__ror__',\n",
       " '__round__',\n",
       " '__rpow__',\n",
       " '__rrshift__',\n",
       " '__rshift__',\n",
       " '__rsub__',\n",
       " '__rtruediv__',\n",
       " '__rxor__',\n",
       " '__setattr__',\n",
       " '__sizeof__',\n",
       " '__str__',\n",
       " '__sub__',\n",
       " '__subclasshook__',\n",
       " '__truediv__',\n",
       " '__trunc__',\n",
       " '__xor__',\n",
       " '_create_attributes',\n",
       " 'as_integer_ratio',\n",
       " 'bit_length',\n",
       " 'conjugate',\n",
       " 'denominator',\n",
       " 'from_bytes',\n",
       " 'imag',\n",
       " 'numerator',\n",
       " 'real',\n",
       " 'to_bytes']"
      ]
     },
     "execution_count": 226,
     "metadata": {},
     "output_type": "execute_result"
    }
   ],
   "source": [
    "dir(ScalarClass)"
   ]
  },
  {
   "cell_type": "markdown",
   "id": "detected-kinase",
   "metadata": {},
   "source": [
    "The list contains a number of **d**ouble **under**score (dunder) methods that begin and end with a double underscore. We will have a look at their meaning in a moment. Under these our custom hidden method \\_create\\_attributes now displays and then the remaining list of attributes and methods displays. "
   ]
  },
  {
   "cell_type": "markdown",
   "id": "southwest-throw",
   "metadata": {},
   "source": [
    "In many cases we will want a safe way to create an attribute and read an attribute. Instead of creating an attribute directly we may create a hidden attribute alongside an associated get and set method."
   ]
  },
  {
   "cell_type": "code",
   "execution_count": 227,
   "id": "tamil-services",
   "metadata": {},
   "outputs": [],
   "source": [
    "class ScalarClass(int):\n",
    "    '''Inherited from int superclass\n",
    "    Convert a number or string to an integer, or return 0 if no arguments are given. \n",
    "    For floating point numbers this truncates towards 0.'''\n",
    "    def set_inverse(self):\n",
    "        '''Sets the inverse attribute of self.'''\n",
    "        self._inverse=1/self\n",
    "    def get_inverse(self):\n",
    "        '''Gets the inverse attribute of self. If the attribute is set.'''\n",
    "        try:\n",
    "            return self._inverse\n",
    "        except AttributeError:\n",
    "            print('inverse is not yet assigned, use set_inverse first.')"
   ]
  },
  {
   "cell_type": "markdown",
   "id": "cloudy-roads",
   "metadata": {},
   "source": [
    "Since we have updated our class we need to reinstantiate our instance l."
   ]
  },
  {
   "cell_type": "code",
   "execution_count": 228,
   "id": "joint-classification",
   "metadata": {},
   "outputs": [],
   "source": [
    "l=ScalarClass(5)"
   ]
  },
  {
   "cell_type": "markdown",
   "id": "related-basin",
   "metadata": {},
   "source": [
    "When we attempt to use the method get_inverse we are informed that the inverse is not yet assigned and instructed to use set_inverse first."
   ]
  },
  {
   "cell_type": "code",
   "execution_count": 229,
   "id": "relevant-exemption",
   "metadata": {},
   "outputs": [
    {
     "name": "stdout",
     "output_type": "stream",
     "text": [
      "inverse is not yet assigned, use set_inverse first.\n"
     ]
    }
   ],
   "source": [
    "l.get_inverse()"
   ]
  },
  {
   "cell_type": "markdown",
   "id": "medium-departure",
   "metadata": {},
   "source": [
    "We can use set_inverse which works as intended and assigns the attribute \\_inverse."
   ]
  },
  {
   "cell_type": "code",
   "execution_count": 230,
   "id": "dramatic-christianity",
   "metadata": {},
   "outputs": [],
   "source": [
    "l.set_inverse()"
   ]
  },
  {
   "cell_type": "markdown",
   "id": "cognitive-swimming",
   "metadata": {},
   "source": [
    "Now that the \\_inverse attribute is assigned the attribute get_inverse will work."
   ]
  },
  {
   "cell_type": "code",
   "execution_count": 231,
   "id": "square-shareware",
   "metadata": {},
   "outputs": [
    {
     "data": {
      "text/plain": [
       "0.2"
      ]
     },
     "execution_count": 231,
     "metadata": {},
     "output_type": "execute_result"
    }
   ],
   "source": [
    "l.get_inverse()"
   ]
  },
  {
   "cell_type": "markdown",
   "id": "brazilian-intro",
   "metadata": {},
   "source": [
    "### Datamodel Methods (dunder methods)"
   ]
  },
  {
   "cell_type": "markdown",
   "id": "unusual-evidence",
   "metadata": {},
   "source": [
    "We have seen that the (+ add) operator acts differently when used with instances of the integer class and instances of the str class, performing addition in one and concatenation in the other."
   ]
  },
  {
   "cell_type": "code",
   "execution_count": 232,
   "id": "paperback-egyptian",
   "metadata": {},
   "outputs": [],
   "source": [
    "a=1\n",
    "b=2"
   ]
  },
  {
   "cell_type": "code",
   "execution_count": 233,
   "id": "becoming-experiment",
   "metadata": {},
   "outputs": [
    {
     "data": {
      "text/plain": [
       "3"
      ]
     },
     "execution_count": 233,
     "metadata": {},
     "output_type": "execute_result"
    }
   ],
   "source": [
    "a+b"
   ]
  },
  {
   "cell_type": "code",
   "execution_count": 234,
   "id": "serious-retail",
   "metadata": {},
   "outputs": [],
   "source": [
    "c='hello'\n",
    "d='world'"
   ]
  },
  {
   "cell_type": "code",
   "execution_count": 235,
   "id": "sexual-custom",
   "metadata": {},
   "outputs": [
    {
     "data": {
      "text/plain": [
       "'helloworld'"
      ]
     },
     "execution_count": 235,
     "metadata": {},
     "output_type": "execute_result"
    }
   ],
   "source": [
    "c+d"
   ]
  },
  {
   "cell_type": "markdown",
   "id": "administrative-supplement",
   "metadata": {},
   "source": [
    "Behind the scenes the behaviour of the (+ add) operator is defined by the special method \\_\\_add\\_\\_. This is also known as a dunder method as the name of each method begins and ends with a **d**ouble **under**score. These are sometimes referred to as *magic* methods or *special* methods however these terms indicate that these methods are mysterious and therefore misunderstood. A better term which more accurately describes their function is a data model method. The following is normally performed using the + operator but can also be explicitly written using the data model method."
   ]
  },
  {
   "cell_type": "code",
   "execution_count": 236,
   "id": "effective-sharing",
   "metadata": {},
   "outputs": [
    {
     "data": {
      "text/plain": [
       "3"
      ]
     },
     "execution_count": 236,
     "metadata": {},
     "output_type": "execute_result"
    }
   ],
   "source": [
    "a.__add__(b)"
   ]
  },
  {
   "cell_type": "code",
   "execution_count": 237,
   "id": "interior-crazy",
   "metadata": {},
   "outputs": [
    {
     "data": {
      "text/plain": [
       "'helloworld'"
      ]
     },
     "execution_count": 237,
     "metadata": {},
     "output_type": "execute_result"
    }
   ],
   "source": [
    "c.__add__(d)"
   ]
  },
  {
   "cell_type": "markdown",
   "id": "rocky-property",
   "metadata": {},
   "source": [
    "The above has the form:"
   ]
  },
  {
   "cell_type": "markdown",
   "id": "fiscal-pursuit",
   "metadata": {},
   "source": [
    "```self.__add__(other)```"
   ]
  },
  {
   "cell_type": "markdown",
   "id": "painful-strand",
   "metadata": {},
   "source": [
    "i.e. the method is called from the isntance self and works on another instance other."
   ]
  },
  {
   "cell_type": "markdown",
   "id": "ahead-short",
   "metadata": {},
   "source": [
    "We seen earlier that object is the parent class of everything in Python. Let's create a Custom Class which is essentially a blank copy of the object class."
   ]
  },
  {
   "cell_type": "code",
   "execution_count": 238,
   "id": "technological-commonwealth",
   "metadata": {},
   "outputs": [],
   "source": [
    "class Scalar(object):\n",
    "    '''Custom Scalar Class.'''\n",
    "    pass"
   ]
  },
  {
   "cell_type": "markdown",
   "id": "growing-joshua",
   "metadata": {},
   "source": [
    "If we use the function dir, we will get details about all the methods and attributes available from the class."
   ]
  },
  {
   "cell_type": "code",
   "execution_count": 239,
   "id": "directed-senior",
   "metadata": {},
   "outputs": [
    {
     "data": {
      "text/plain": [
       "['__class__',\n",
       " '__delattr__',\n",
       " '__dict__',\n",
       " '__dir__',\n",
       " '__doc__',\n",
       " '__eq__',\n",
       " '__format__',\n",
       " '__ge__',\n",
       " '__getattribute__',\n",
       " '__gt__',\n",
       " '__hash__',\n",
       " '__init__',\n",
       " '__init_subclass__',\n",
       " '__le__',\n",
       " '__lt__',\n",
       " '__module__',\n",
       " '__ne__',\n",
       " '__new__',\n",
       " '__reduce__',\n",
       " '__reduce_ex__',\n",
       " '__repr__',\n",
       " '__setattr__',\n",
       " '__sizeof__',\n",
       " '__str__',\n",
       " '__subclasshook__',\n",
       " '__weakref__']"
      ]
     },
     "execution_count": 239,
     "metadata": {},
     "output_type": "execute_result"
    }
   ],
   "source": [
    "dir(Scalar)"
   ]
  },
  {
   "cell_type": "markdown",
   "id": "chinese-eagle",
   "metadata": {},
   "source": [
    "Let's have a look at the \\_\\_init\\_\\_, \\_\\_repr\\_\\_ and \\_\\_str\\_\\_ datamodel methods."
   ]
  },
  {
   "cell_type": "markdown",
   "id": "surface-structure",
   "metadata": {},
   "source": [
    "When we type in:"
   ]
  },
  {
   "cell_type": "code",
   "execution_count": 240,
   "id": "concrete-silicon",
   "metadata": {},
   "outputs": [
    {
     "data": {
      "text/plain": [
       "\u001b[1;31mInit signature:\u001b[0m  \u001b[0mScalar\u001b[0m\u001b[1;33m(\u001b[0m\u001b[1;33m)\u001b[0m\u001b[1;33m\u001b[0m\u001b[1;33m\u001b[0m\u001b[0m\n",
       "\u001b[1;31mDocstring:\u001b[0m      Custom Scalar Class.\n",
       "\u001b[1;31mType:\u001b[0m           type\n",
       "\u001b[1;31mSubclasses:\u001b[0m     \n"
      ]
     },
     "metadata": {},
     "output_type": "display_data"
    }
   ],
   "source": [
    "? Scalar"
   ]
  },
  {
   "cell_type": "markdown",
   "id": "junior-gateway",
   "metadata": {},
   "source": [
    "Then we get details about the init signature. This is blank has no details and no input arguments because we haven't defined the \\_\\_init\\_\\_ datamodel method and the default is shown."
   ]
  },
  {
   "cell_type": "markdown",
   "id": "collectible-twenty",
   "metadata": {},
   "source": [
    "We can instantiate an instance of the class using no input arguments:"
   ]
  },
  {
   "cell_type": "code",
   "execution_count": 241,
   "id": "several-association",
   "metadata": {},
   "outputs": [],
   "source": [
    "a=Scalar()"
   ]
  },
  {
   "cell_type": "markdown",
   "id": "binary-cooking",
   "metadata": {},
   "source": [
    "We can display the output of the instance in a cell:"
   ]
  },
  {
   "cell_type": "code",
   "execution_count": 242,
   "id": "alike-mouse",
   "metadata": {},
   "outputs": [
    {
     "data": {
      "text/plain": [
       "<__main__.Scalar at 0x24ed0c5bb50>"
      ]
     },
     "execution_count": 242,
     "metadata": {},
     "output_type": "execute_result"
    }
   ],
   "source": [
    "a"
   ]
  },
  {
   "cell_type": "markdown",
   "id": "suburban-catalog",
   "metadata": {},
   "source": [
    "Or use the function:"
   ]
  },
  {
   "cell_type": "code",
   "execution_count": 243,
   "id": "compressed-jackson",
   "metadata": {},
   "outputs": [
    {
     "data": {
      "text/plain": [
       "'<__main__.Scalar object at 0x0000024ED0C5BB50>'"
      ]
     },
     "execution_count": 243,
     "metadata": {},
     "output_type": "execute_result"
    }
   ],
   "source": [
    "repr(a)"
   ]
  },
  {
   "cell_type": "markdown",
   "id": "naughty-grove",
   "metadata": {},
   "source": [
    "Or the function:"
   ]
  },
  {
   "cell_type": "code",
   "execution_count": 244,
   "id": "prescribed-outreach",
   "metadata": {},
   "outputs": [
    {
     "name": "stdout",
     "output_type": "stream",
     "text": [
      "<__main__.Scalar object at 0x0000024ED0C5BB50>\n"
     ]
    }
   ],
   "source": [
    "print(a)"
   ]
  },
  {
   "cell_type": "markdown",
   "id": "former-strap",
   "metadata": {},
   "source": [
    "Note that function repr denotes that the output is a str. Outputting the value of a cell or using a print statement will also display a str but not explicitly show the quotations. The behaviour of the above can be changed by using the \\_\\_repr\\_\\_ data model method."
   ]
  },
  {
   "cell_type": "code",
   "execution_count": 245,
   "id": "early-blogger",
   "metadata": {},
   "outputs": [],
   "source": [
    "class Scalar(object):\n",
    "    '''Custom Scalar Class.'''\n",
    "    def __repr__(self):\n",
    "        string='Custom Scalar Class.'\n",
    "        return(string)"
   ]
  },
  {
   "cell_type": "markdown",
   "id": "super-puppy",
   "metadata": {},
   "source": [
    "We can instantiate an instance of the class once again using no input arguments:"
   ]
  },
  {
   "cell_type": "code",
   "execution_count": 246,
   "id": "enabling-cleaner",
   "metadata": {},
   "outputs": [],
   "source": [
    "a=Scalar()"
   ]
  },
  {
   "cell_type": "markdown",
   "id": "affecting-relation",
   "metadata": {},
   "source": [
    "Now let's look at the behaviour of:"
   ]
  },
  {
   "cell_type": "code",
   "execution_count": 247,
   "id": "according-announcement",
   "metadata": {},
   "outputs": [
    {
     "data": {
      "text/plain": [
       "Custom Scalar Class."
      ]
     },
     "execution_count": 247,
     "metadata": {},
     "output_type": "execute_result"
    }
   ],
   "source": [
    "a"
   ]
  },
  {
   "cell_type": "code",
   "execution_count": 248,
   "id": "quiet-activation",
   "metadata": {},
   "outputs": [
    {
     "data": {
      "text/plain": [
       "'Custom Scalar Class.'"
      ]
     },
     "execution_count": 248,
     "metadata": {},
     "output_type": "execute_result"
    }
   ],
   "source": [
    "repr(a)"
   ]
  },
  {
   "cell_type": "code",
   "execution_count": 249,
   "id": "fifty-necklace",
   "metadata": {},
   "outputs": [
    {
     "name": "stdout",
     "output_type": "stream",
     "text": [
      "Custom Scalar Class.\n"
     ]
    }
   ],
   "source": [
    "print(a)"
   ]
  },
  {
   "cell_type": "markdown",
   "id": "initial-vertex",
   "metadata": {},
   "source": [
    "It is possible to define a slightly different behaviour for the print function to the repr function (which also controls output of the cell). This is done by using the additional \\_\\_str\\_\\_ data model method."
   ]
  },
  {
   "cell_type": "code",
   "execution_count": 250,
   "id": "exact-european",
   "metadata": {},
   "outputs": [],
   "source": [
    "class Scalar(object):\n",
    "    '''Custom Scalar Class.'''\n",
    "    def __repr__(self):\n",
    "        string='Custom Scalar Class.'\n",
    "        return(string)\n",
    "    def __str__(self):\n",
    "        string='Printed Custom Scalar Class.'\n",
    "        return(string)"
   ]
  },
  {
   "cell_type": "code",
   "execution_count": 251,
   "id": "subjective-financing",
   "metadata": {},
   "outputs": [],
   "source": [
    "a=Scalar()"
   ]
  },
  {
   "cell_type": "code",
   "execution_count": 252,
   "id": "optical-gambling",
   "metadata": {},
   "outputs": [
    {
     "data": {
      "text/plain": [
       "Custom Scalar Class."
      ]
     },
     "execution_count": 252,
     "metadata": {},
     "output_type": "execute_result"
    }
   ],
   "source": [
    "a"
   ]
  },
  {
   "cell_type": "code",
   "execution_count": 253,
   "id": "neither-batch",
   "metadata": {},
   "outputs": [
    {
     "data": {
      "text/plain": [
       "'Custom Scalar Class.'"
      ]
     },
     "execution_count": 253,
     "metadata": {},
     "output_type": "execute_result"
    }
   ],
   "source": [
    "repr(a)"
   ]
  },
  {
   "cell_type": "code",
   "execution_count": 254,
   "id": "front-outdoors",
   "metadata": {},
   "outputs": [
    {
     "name": "stdout",
     "output_type": "stream",
     "text": [
      "Printed Custom Scalar Class.\n"
     ]
    }
   ],
   "source": [
    "print(a)"
   ]
  },
  {
   "cell_type": "markdown",
   "id": "pleased-papua",
   "metadata": {},
   "source": [
    "The \\_\\_init\\_\\_ data model method is ran when a class is instantiated. It can be used to define instance specific attributes and run additional methods during instantiation. Let's update our \\_\\_init\\_\\_ method to create a hidden attribute \\_value from a positional input argument value."
   ]
  },
  {
   "cell_type": "code",
   "execution_count": 255,
   "id": "average-safety",
   "metadata": {},
   "outputs": [],
   "source": [
    "class Scalar(object):\n",
    "    '''Custom Scalar Class.'''\n",
    "    def __init__(self,value):\n",
    "        '''Creates an instance of the Scalar Class from a value.'''\n",
    "        self._value=value\n",
    "    def __repr__(self):\n",
    "        string='Custom Scalar Class.'\n",
    "        return(string)\n",
    "    def __str__(self):\n",
    "        string='Printed Custom Scalar Class.'\n",
    "        return(string)"
   ]
  },
  {
   "cell_type": "markdown",
   "id": "previous-amount",
   "metadata": {},
   "source": [
    "Now:"
   ]
  },
  {
   "cell_type": "code",
   "execution_count": 256,
   "id": "congressional-chemistry",
   "metadata": {},
   "outputs": [
    {
     "data": {
      "text/plain": [
       "\u001b[1;31mInit signature:\u001b[0m  \u001b[0mScalar\u001b[0m\u001b[1;33m(\u001b[0m\u001b[0mvalue\u001b[0m\u001b[1;33m)\u001b[0m\u001b[1;33m\u001b[0m\u001b[1;33m\u001b[0m\u001b[0m\n",
       "\u001b[1;31mDocstring:\u001b[0m      Custom Scalar Class.\n",
       "\u001b[1;31mInit docstring:\u001b[0m Creates an instance of the Scalar Class from a value.\n",
       "\u001b[1;31mType:\u001b[0m           type\n",
       "\u001b[1;31mSubclasses:\u001b[0m     \n"
      ]
     },
     "metadata": {},
     "output_type": "display_data"
    }
   ],
   "source": [
    "? Scalar"
   ]
  },
  {
   "cell_type": "code",
   "execution_count": 257,
   "id": "impaired-tumor",
   "metadata": {},
   "outputs": [],
   "source": [
    "a=Scalar(5)"
   ]
  },
  {
   "cell_type": "code",
   "execution_count": 258,
   "id": "dutch-vietnamese",
   "metadata": {},
   "outputs": [
    {
     "data": {
      "text/plain": [
       "Custom Scalar Class."
      ]
     },
     "execution_count": 258,
     "metadata": {},
     "output_type": "execute_result"
    }
   ],
   "source": [
    "a"
   ]
  },
  {
   "cell_type": "code",
   "execution_count": 259,
   "id": "neural-passport",
   "metadata": {},
   "outputs": [
    {
     "data": {
      "text/plain": [
       "'Custom Scalar Class.'"
      ]
     },
     "execution_count": 259,
     "metadata": {},
     "output_type": "execute_result"
    }
   ],
   "source": [
    "repr(a)"
   ]
  },
  {
   "cell_type": "code",
   "execution_count": 260,
   "id": "attractive-process",
   "metadata": {},
   "outputs": [
    {
     "name": "stdout",
     "output_type": "stream",
     "text": [
      "Printed Custom Scalar Class.\n"
     ]
    }
   ],
   "source": [
    "print(a)"
   ]
  },
  {
   "cell_type": "markdown",
   "id": "stretch-claim",
   "metadata": {},
   "source": [
    "We can update the \\_\\_repr\\_\\_ and \\_\\_str\\_\\_ methods to display the output analogous to how we instantiate the class."
   ]
  },
  {
   "cell_type": "code",
   "execution_count": 261,
   "id": "patent-charger",
   "metadata": {},
   "outputs": [],
   "source": [
    "class Scalar(object):\n",
    "    '''Custom Scalar Class.'''\n",
    "    def __init__(self,value):\n",
    "        '''Creates an instance of the Scalar Class from a value.'''\n",
    "        self._value=value\n",
    "    def __repr__(self):\n",
    "        string=f'Scalar({self._value})'\n",
    "        return(string)\n",
    "    def __str__(self):\n",
    "        string=f'Scalar({self._value})'\n",
    "        return(string)"
   ]
  },
  {
   "cell_type": "code",
   "execution_count": 262,
   "id": "strategic-content",
   "metadata": {},
   "outputs": [],
   "source": [
    "a=Scalar(5)"
   ]
  },
  {
   "cell_type": "code",
   "execution_count": 263,
   "id": "convinced-challenge",
   "metadata": {},
   "outputs": [
    {
     "data": {
      "text/plain": [
       "Scalar(5)"
      ]
     },
     "execution_count": 263,
     "metadata": {},
     "output_type": "execute_result"
    }
   ],
   "source": [
    "a"
   ]
  },
  {
   "cell_type": "code",
   "execution_count": 264,
   "id": "mysterious-webcam",
   "metadata": {},
   "outputs": [
    {
     "data": {
      "text/plain": [
       "'Scalar(5)'"
      ]
     },
     "execution_count": 264,
     "metadata": {},
     "output_type": "execute_result"
    }
   ],
   "source": [
    "repr(a)"
   ]
  },
  {
   "cell_type": "code",
   "execution_count": 265,
   "id": "polyphonic-thesis",
   "metadata": {},
   "outputs": [
    {
     "name": "stdout",
     "output_type": "stream",
     "text": [
      "Scalar(5)\n"
     ]
    }
   ],
   "source": [
    "print(a)"
   ]
  },
  {
   "cell_type": "markdown",
   "id": "august-kernel",
   "metadata": {},
   "source": [
    "We can use additional data model methods to define the behaviour of operators. The main dunder methods of main interest are and we have used many of these with the int class."
   ]
  },
  {
   "cell_type": "markdown",
   "id": "corporate-stations",
   "metadata": {},
   "source": [
    "|Dunder Method|Function or Operator|\n",
    "|---|---|\n",
    "|\\_\\_init\\_\\_|init statement|\n",
    "|\\_\\_str\\_\\_|print|\n",
    "|\\_\\_repr\\_\\_|cell output|\n",
    "|\\_\\_len\\_\\_|len|\n",
    "|\\_\\_add\\_\\_|+|\n",
    "|\\_\\_sub\\_\\_|-|\n",
    "|\\_\\_mul\\_\\_|\\*|\n",
    "|\\_\\_pow\\_\\_|\\*\\*|\n",
    "|\\_\\_truediv\\_\\_|/|\n",
    "|\\_\\_matmul\\_\\_|@|\n",
    "|\\_\\_floordiv\\_\\_|//|\n",
    "|\\_\\_mod\\_\\_|%|\n",
    "|\\_\\_eq\\_\\_|==|\n",
    "|\\_\\_ne\\_\\_|!=|\n",
    "|\\_\\_lt\\_\\_|<|\n",
    "|\\_\\_le\\_\\_|<=|\n",
    "|\\_\\_gt\\_\\_|>|\n",
    "|\\_\\_ge\\_\\_|>=|\n",
    "|\\_\\_and\\_\\_|&|\n",
    "|\\_\\_or\\_\\_|\\||\n",
    "|\\_\\_xor\\_\\_|^|\n",
    "|\\_\\_lshift\\_\\_|<<|\n",
    "|\\_\\_rshift\\_\\_|>>|\n",
    "|\\_\\_iadd\\_\\_|+=|\n",
    "|\\_\\_isub\\_\\_|-=|\n",
    "|\\_\\_imul\\_\\_|\\*=|\n",
    "|\\_\\_ipow\\_\\_|\\*\\*=|\n",
    "|\\_\\_idiv\\_\\_|/=|\n",
    "|\\_\\_ifloordiv\\_\\_|//=|\n",
    "|\\_\\_imod\\_\\_|%=|\n",
    "|\\_\\_iand\\_\\_|&=|\n",
    "|\\_\\_ior\\_\\_|\\=||\n",
    "|\\_\\_ixor\\_\\_|^=|\n",
    "|\\_\\_ilshift\\_\\_|<<=|\n",
    "|\\_\\_irshift\\_\\_|>>=|\n"
   ]
  },
  {
   "cell_type": "markdown",
   "id": "stone-treasure",
   "metadata": {},
   "source": [
    "We can define the \\_\\_add\\_\\_ data model methods."
   ]
  },
  {
   "cell_type": "code",
   "execution_count": 266,
   "id": "fifteen-uncle",
   "metadata": {},
   "outputs": [],
   "source": [
    "class Scalar(object):\n",
    "    '''Custom Scalar Class.'''\n",
    "    def __init__(self,value):\n",
    "        '''Creates an instance of the Scalar Class from a value.'''\n",
    "        self._value=value\n",
    "    def __repr__(self):\n",
    "        string=f'Scalar({self._value})'\n",
    "        return(string)\n",
    "    def __str__(self):\n",
    "        string=f'Scalar({self._value})'\n",
    "        return(string)\n",
    "    def __add__(self,other):\n",
    "        return(self._value+other._value)"
   ]
  },
  {
   "cell_type": "code",
   "execution_count": 267,
   "id": "oriental-dodge",
   "metadata": {},
   "outputs": [],
   "source": [
    "a=Scalar(5)"
   ]
  },
  {
   "cell_type": "code",
   "execution_count": 268,
   "id": "funny-firewall",
   "metadata": {},
   "outputs": [],
   "source": [
    "b=Scalar(6)"
   ]
  },
  {
   "cell_type": "code",
   "execution_count": 269,
   "id": "mental-watershed",
   "metadata": {},
   "outputs": [
    {
     "data": {
      "text/plain": [
       "11"
      ]
     },
     "execution_count": 269,
     "metadata": {},
     "output_type": "execute_result"
    }
   ],
   "source": [
    "a+b"
   ]
  },
  {
   "cell_type": "markdown",
   "id": "agricultural-deployment",
   "metadata": {},
   "source": [
    "Note the output is an integer. We can instead return a new instance of the Scalar."
   ]
  },
  {
   "cell_type": "code",
   "execution_count": 270,
   "id": "olympic-bonus",
   "metadata": {},
   "outputs": [],
   "source": [
    "class Scalar(object):\n",
    "    '''Custom Scalar Class.'''\n",
    "    def __init__(self,value):\n",
    "        '''Creates an instance of the Scalar Class from a value.'''\n",
    "        self._value=value\n",
    "    def __repr__(self):\n",
    "        string=f'Scalar({self._value})'\n",
    "        return(string)\n",
    "    def __str__(self):\n",
    "        string=f'Scalar({self._value})'\n",
    "        return(string)\n",
    "    def __add__(self,other):\n",
    "        return(Scalar(self._value+other._value))"
   ]
  },
  {
   "cell_type": "code",
   "execution_count": 271,
   "id": "oriented-gambling",
   "metadata": {},
   "outputs": [],
   "source": [
    "a=Scalar(5)"
   ]
  },
  {
   "cell_type": "code",
   "execution_count": 272,
   "id": "viral-shower",
   "metadata": {},
   "outputs": [],
   "source": [
    "b=Scalar(6)"
   ]
  },
  {
   "cell_type": "code",
   "execution_count": 273,
   "id": "coastal-offset",
   "metadata": {},
   "outputs": [
    {
     "data": {
      "text/plain": [
       "Scalar(11)"
      ]
     },
     "execution_count": 273,
     "metadata": {},
     "output_type": "execute_result"
    }
   ],
   "source": [
    "a+b"
   ]
  },
  {
   "cell_type": "markdown",
   "id": "continuous-prague",
   "metadata": {},
   "source": [
    "We can do this for other data model methods."
   ]
  },
  {
   "cell_type": "code",
   "execution_count": 274,
   "id": "nonprofit-hearts",
   "metadata": {},
   "outputs": [],
   "source": [
    "class Scalar(object):\n",
    "    '''Custom Scalar Class.'''\n",
    "    def __init__(self,value):\n",
    "        '''Creates an instance of the Scalar Class from a value.'''\n",
    "        self._value=value\n",
    "    def __repr__(self):\n",
    "        string=f'Scalar({self._value})'\n",
    "        return(string)\n",
    "    def __str__(self):\n",
    "        string=f'Scalar({self._value})'\n",
    "        return(string)\n",
    "    def __add__(self,other):\n",
    "        return(Scalar(self._value+other._value))\n",
    "    def __sub__(self,other):\n",
    "        return(Scalar(self._value-other._value))\n",
    "    def __mul__(self,other):\n",
    "        return(Scalar(self._value*other._value))"
   ]
  },
  {
   "cell_type": "code",
   "execution_count": 275,
   "id": "assumed-princess",
   "metadata": {},
   "outputs": [],
   "source": [
    "a=Scalar(5)"
   ]
  },
  {
   "cell_type": "code",
   "execution_count": 276,
   "id": "nervous-bubble",
   "metadata": {},
   "outputs": [],
   "source": [
    "b=Scalar(6)"
   ]
  },
  {
   "cell_type": "code",
   "execution_count": 277,
   "id": "capable-satisfaction",
   "metadata": {},
   "outputs": [
    {
     "data": {
      "text/plain": [
       "Scalar(11)"
      ]
     },
     "execution_count": 277,
     "metadata": {},
     "output_type": "execute_result"
    }
   ],
   "source": [
    "a+b"
   ]
  },
  {
   "cell_type": "code",
   "execution_count": 278,
   "id": "christian-latin",
   "metadata": {},
   "outputs": [
    {
     "data": {
      "text/plain": [
       "Scalar(-1)"
      ]
     },
     "execution_count": 278,
     "metadata": {},
     "output_type": "execute_result"
    }
   ],
   "source": [
    "a-b"
   ]
  },
  {
   "cell_type": "code",
   "execution_count": 279,
   "id": "selected-absorption",
   "metadata": {},
   "outputs": [
    {
     "data": {
      "text/plain": [
       "Scalar(30)"
      ]
     },
     "execution_count": 279,
     "metadata": {},
     "output_type": "execute_result"
    }
   ],
   "source": [
    "a*b"
   ]
  },
  {
   "cell_type": "markdown",
   "id": "marine-input",
   "metadata": {},
   "source": [
    "Let's re-examine inheritance and use the following class as the parent class. "
   ]
  },
  {
   "cell_type": "code",
   "execution_count": 280,
   "id": "narrative-thumb",
   "metadata": {},
   "outputs": [],
   "source": [
    "class ParentScalar(object):\n",
    "    '''Custom Parent Scalar Class.'''\n",
    "    def __init__(self,value):\n",
    "        '''Creates an instance of the Scalar Class from a value.'''\n",
    "        self.value=value"
   ]
  },
  {
   "cell_type": "markdown",
   "id": "surface-qualification",
   "metadata": {},
   "source": [
    "Let's assume we want to create a child class and want to inherit the parent classes \\_\\_init\\_\\_ method. If we define our own \\_\\_init\\_\\_ method we will override the one from the parent class. \n",
    "\n",
    "This is not very useful if we want to use the parents \\_\\_init\\_\\_ method and only add another attribute during instantiation.\n",
    "\n",
    "We can use super().\\_\\_init\\_\\_() to call it from the parent class. \n",
    "\n",
    "Note the child class will need all the the positional input arguments (including the instance self) for the new attributes (in this case att) and expected arguments provided to the parent class (in this case value).\n",
    "\n",
    "The parent class can be referenced using super. This has positional input arguments, the child class and the instance self. A dot can then be used to call a method. Note when calling a method from the super class in this way, as self is already provided you should not provide it again. You will however need to provide all other required input arguments for the method."
   ]
  },
  {
   "cell_type": "code",
   "execution_count": 281,
   "id": "spatial-light",
   "metadata": {},
   "outputs": [],
   "source": [
    "class ChildScalar(ParentScalar):\n",
    "    def __init__(self,value,att):\n",
    "        self.att=att\n",
    "        super(ChildScalar,self).__init__(value)\n",
    "    "
   ]
  },
  {
   "cell_type": "code",
   "execution_count": 282,
   "id": "checked-knitting",
   "metadata": {},
   "outputs": [],
   "source": [
    "a=ChildScalar(2,1)"
   ]
  },
  {
   "cell_type": "code",
   "execution_count": 283,
   "id": "unauthorized-establishment",
   "metadata": {},
   "outputs": [
    {
     "data": {
      "text/plain": [
       "2"
      ]
     },
     "execution_count": 283,
     "metadata": {},
     "output_type": "execute_result"
    }
   ],
   "source": [
    "a.value"
   ]
  },
  {
   "cell_type": "code",
   "execution_count": 284,
   "id": "regulation-cooking",
   "metadata": {},
   "outputs": [
    {
     "data": {
      "text/plain": [
       "1"
      ]
     },
     "execution_count": 284,
     "metadata": {},
     "output_type": "execute_result"
    }
   ],
   "source": [
    "a.att"
   ]
  },
  {
   "cell_type": "markdown",
   "id": "taken-charles",
   "metadata": {},
   "source": [
    "If the statement super is left blank it will automatically infer that we want the superclass of the child class and supply the instance self."
   ]
  },
  {
   "cell_type": "code",
   "execution_count": 285,
   "id": "basic-declaration",
   "metadata": {},
   "outputs": [],
   "source": [
    "class ChildScalar(ParentScalar):\n",
    "    def __init__(self,value,att):\n",
    "        self.att=att\n",
    "        super().__init__(value)"
   ]
  },
  {
   "cell_type": "code",
   "execution_count": 286,
   "id": "unauthorized-equity",
   "metadata": {},
   "outputs": [],
   "source": [
    "a=ChildScalar(2,1)"
   ]
  },
  {
   "cell_type": "code",
   "execution_count": 287,
   "id": "distinct-viewer",
   "metadata": {},
   "outputs": [
    {
     "data": {
      "text/plain": [
       "2"
      ]
     },
     "execution_count": 287,
     "metadata": {},
     "output_type": "execute_result"
    }
   ],
   "source": [
    "a.value"
   ]
  },
  {
   "cell_type": "code",
   "execution_count": 288,
   "id": "damaged-melbourne",
   "metadata": {},
   "outputs": [
    {
     "data": {
      "text/plain": [
       "1"
      ]
     },
     "execution_count": 288,
     "metadata": {},
     "output_type": "execute_result"
    }
   ],
   "source": [
    "a.att"
   ]
  },
  {
   "cell_type": "markdown",
   "id": "macro-place",
   "metadata": {},
   "source": [
    "## A Custom Fraction class"
   ]
  },
  {
   "cell_type": "markdown",
   "id": "selective-schedule",
   "metadata": {},
   "source": [
    "Let's think about the way we would go about constructing a fraction class. A fraction has a numerator and a denominator. These can be initialized as the int n and d when the fraction is created. We will store them to the hidden attributes \\_n and \\_d respectively."
   ]
  },
  {
   "cell_type": "markdown",
   "id": "numeric-sarah",
   "metadata": {},
   "source": [
    "$\\frac{\\textrm{self.n}}{\\textrm{self.d}}$"
   ]
  },
  {
   "cell_type": "code",
   "execution_count": 502,
   "id": "governing-kernel",
   "metadata": {},
   "outputs": [],
   "source": [
    "class Fraction(object):\n",
    "    '''Fraction\n",
    "    n is the numerator and must be an integer\n",
    "    d is the denominator and must be an integer'''\n",
    "    def __init__(self,n,d):\n",
    "        self._n=n\n",
    "        self._d=d"
   ]
  },
  {
   "cell_type": "code",
   "execution_count": 503,
   "id": "hawaiian-shade",
   "metadata": {},
   "outputs": [],
   "source": [
    "o=Fraction(1,2)"
   ]
  },
  {
   "cell_type": "code",
   "execution_count": 504,
   "id": "greek-configuration",
   "metadata": {},
   "outputs": [
    {
     "data": {
      "text/plain": [
       "1"
      ]
     },
     "execution_count": 504,
     "metadata": {},
     "output_type": "execute_result"
    }
   ],
   "source": [
    "o._n"
   ]
  },
  {
   "cell_type": "code",
   "execution_count": 505,
   "id": "harmful-print",
   "metadata": {},
   "outputs": [
    {
     "data": {
      "text/plain": [
       "2"
      ]
     },
     "execution_count": 505,
     "metadata": {},
     "output_type": "execute_result"
    }
   ],
   "source": [
    "o._d"
   ]
  },
  {
   "cell_type": "markdown",
   "id": "strategic-drove",
   "metadata": {},
   "source": [
    "We will want to ensure that both n and d are integers and also that d is not equal to 0."
   ]
  },
  {
   "cell_type": "code",
   "execution_count": 506,
   "id": "republican-rebate",
   "metadata": {},
   "outputs": [],
   "source": [
    "class Fraction(object):\n",
    "    '''Fraction\n",
    "    n is the numerator and must be an integer\n",
    "    d is the denominator and must be an integer'''\n",
    "    def __init__(self,n,d):\n",
    "        try: \n",
    "            assert (type(n)==int and type(d)==int), 'n and d must be of the type int.'\n",
    "            self._n=n\n",
    "            try: \n",
    "                assert (d!=0)\n",
    "                self._d=d\n",
    "            except AssertionError:\n",
    "                print('d cannot be zero.')\n",
    "        except AssertionError:\n",
    "            print('n and d must be of the type int.')\n",
    "        "
   ]
  },
  {
   "cell_type": "markdown",
   "id": "unauthorized-supervision",
   "metadata": {},
   "source": [
    "We can see this works as expected."
   ]
  },
  {
   "cell_type": "code",
   "execution_count": 507,
   "id": "growing-craps",
   "metadata": {},
   "outputs": [],
   "source": [
    "l=Fraction(1,2)"
   ]
  },
  {
   "cell_type": "code",
   "execution_count": 508,
   "id": "occasional-radiation",
   "metadata": {},
   "outputs": [
    {
     "name": "stdout",
     "output_type": "stream",
     "text": [
      "n and d must be of the type int.\n"
     ]
    }
   ],
   "source": [
    "m=Fraction(1,2.1)"
   ]
  },
  {
   "cell_type": "code",
   "execution_count": 509,
   "id": "pregnant-gates",
   "metadata": {},
   "outputs": [
    {
     "name": "stdout",
     "output_type": "stream",
     "text": [
      "d cannot be zero.\n"
     ]
    }
   ],
   "source": [
    "n=Fraction(2,0)"
   ]
  },
  {
   "cell_type": "markdown",
   "id": "placed-factor",
   "metadata": {},
   "source": [
    "If we insert the values of 6 and 4 for the numerator and denominator."
   ]
  },
  {
   "cell_type": "code",
   "execution_count": 510,
   "id": "fifteen-gazette",
   "metadata": {},
   "outputs": [],
   "source": [
    "p=Fraction(6,4)"
   ]
  },
  {
   "cell_type": "markdown",
   "id": "necessary-explorer",
   "metadata": {},
   "source": [
    "We would like to automatically round it down to 3 and 2 because both the numerator and denominator are perfectly divisable by 2 and give a modulo of 0."
   ]
  },
  {
   "cell_type": "code",
   "execution_count": 511,
   "id": "emotional-leonard",
   "metadata": {},
   "outputs": [
    {
     "data": {
      "text/plain": [
       "3"
      ]
     },
     "execution_count": 511,
     "metadata": {},
     "output_type": "execute_result"
    }
   ],
   "source": [
    "p._n//2"
   ]
  },
  {
   "cell_type": "code",
   "execution_count": 512,
   "id": "arranged-lightning",
   "metadata": {},
   "outputs": [
    {
     "data": {
      "text/plain": [
       "0"
      ]
     },
     "execution_count": 512,
     "metadata": {},
     "output_type": "execute_result"
    }
   ],
   "source": [
    "p._n%2"
   ]
  },
  {
   "cell_type": "code",
   "execution_count": 513,
   "id": "racial-moldova",
   "metadata": {},
   "outputs": [
    {
     "data": {
      "text/plain": [
       "2"
      ]
     },
     "execution_count": 513,
     "metadata": {},
     "output_type": "execute_result"
    }
   ],
   "source": [
    "p._d//2"
   ]
  },
  {
   "cell_type": "code",
   "execution_count": 514,
   "id": "naked-optimum",
   "metadata": {},
   "outputs": [
    {
     "data": {
      "text/plain": [
       "0"
      ]
     },
     "execution_count": 514,
     "metadata": {},
     "output_type": "execute_result"
    }
   ],
   "source": [
    "p._d%2"
   ]
  },
  {
   "cell_type": "markdown",
   "id": "classical-extension",
   "metadata": {},
   "source": [
    "To check for this we will need to construct a for loop counting from the value fo the denominator in steps of -1. Note that we are inclusive of the lower bound and exclusive of the top bound. So we will go to 0 and the last value will be 1 (avoiding ZeroDivisionErrors). "
   ]
  },
  {
   "cell_type": "code",
   "execution_count": 515,
   "id": "macro-kitty",
   "metadata": {},
   "outputs": [
    {
     "name": "stdout",
     "output_type": "stream",
     "text": [
      "4\n",
      "3\n",
      "2\n",
      "1\n"
     ]
    }
   ],
   "source": [
    "for idx in range(p._d,0,-1):\n",
    "    print(idx)"
   ]
  },
  {
   "cell_type": "markdown",
   "id": "alone-instrumentation",
   "metadata": {},
   "source": [
    "We are only interested in cases where both n and d give a modulo of 0 when divided by the value and we are also only interested in the highest value. So wish to break the loop if such a value is found."
   ]
  },
  {
   "cell_type": "code",
   "execution_count": 516,
   "id": "responsible-style",
   "metadata": {},
   "outputs": [
    {
     "name": "stdout",
     "output_type": "stream",
     "text": [
      "2\n",
      "n=3\n",
      "d=2\n"
     ]
    }
   ],
   "source": [
    "for idx in range(p._d,0,-1):\n",
    "    if (p._n%idx==0 and p._d%idx==0):\n",
    "        print(idx)\n",
    "        print(f'n={p._n//idx}')\n",
    "        print(f'd={p._d//idx}')\n",
    "        break"
   ]
  },
  {
   "cell_type": "code",
   "execution_count": 517,
   "id": "prospective-daniel",
   "metadata": {},
   "outputs": [],
   "source": [
    "class Fraction(object):\n",
    "    '''Fraction\n",
    "    n is the numerator and must be an integer\n",
    "    d is the denominator and must be an integer'''\n",
    "    def __init__(self,n,d):\n",
    "        try: \n",
    "            assert (type(n)==int and type(d)==int), 'n and d must be of the type int.'\n",
    "            self._n=n\n",
    "            try: \n",
    "                assert (d!=0)\n",
    "                self._d=d\n",
    "                self.common_factor()\n",
    "            except AssertionError:\n",
    "                print('d cannot be zero.')\n",
    "        except AssertionError:\n",
    "            print('n and d must be of the type int.')\n",
    "    def common_factor(self):\n",
    "        for idx in range(self._d,0,-1):\n",
    "            if (self._n%idx==0 and self._d%idx==0):\n",
    "                self._n=self._n//idx\n",
    "                self._d=self._d//idx\n",
    "                break"
   ]
  },
  {
   "cell_type": "code",
   "execution_count": 518,
   "id": "involved-birth",
   "metadata": {},
   "outputs": [],
   "source": [
    "p=Fraction(6,4)"
   ]
  },
  {
   "cell_type": "code",
   "execution_count": 519,
   "id": "respective-apartment",
   "metadata": {},
   "outputs": [
    {
     "data": {
      "text/plain": [
       "3"
      ]
     },
     "execution_count": 519,
     "metadata": {},
     "output_type": "execute_result"
    }
   ],
   "source": [
    "p._n"
   ]
  },
  {
   "cell_type": "code",
   "execution_count": 520,
   "id": "floppy-bridge",
   "metadata": {},
   "outputs": [
    {
     "data": {
      "text/plain": [
       "2"
      ]
     },
     "execution_count": 520,
     "metadata": {},
     "output_type": "execute_result"
    }
   ],
   "source": [
    "p._d"
   ]
  },
  {
   "cell_type": "markdown",
   "id": "practical-sheffield",
   "metadata": {},
   "source": [
    "We may now want to update the dunder methods \\_\\_str\\_\\_ and \\_\\_repr\\_\\_ to mimic the representation used in the \\_\\_init\\_\\_ dunder method."
   ]
  },
  {
   "cell_type": "code",
   "execution_count": 521,
   "id": "advisory-daily",
   "metadata": {},
   "outputs": [],
   "source": [
    "class Fraction(object):\n",
    "    '''Fraction\n",
    "    n is the numerator and must be an integer\n",
    "    d is the denominator and must be an integer'''\n",
    "    def __init__(self,n,d):\n",
    "        try: \n",
    "            assert (type(n)==int and type(d)==int), 'n and d must be of the type int.'\n",
    "            self._n=n\n",
    "            try: \n",
    "                assert (d!=0)\n",
    "                self._d=d\n",
    "                self.common_factor()\n",
    "            except AssertionError:\n",
    "                print('d cannot be zero.')\n",
    "        except AssertionError:\n",
    "            print('n and d must be of the type int.')\n",
    "    def common_factor(self):\n",
    "        for idx in range(self._d,0,-1):\n",
    "            if (self._n%idx==0 and self._d%idx==0):\n",
    "                self._n=self._n//idx\n",
    "                self._d=self._d//idx\n",
    "                break\n",
    "    def __str__(self):\n",
    "        string=f'Fraction({self._n},{self._d})'\n",
    "        return(string)\n",
    "    def __repr__(self):\n",
    "        string=f'Fraction({self._n},{self._d})'\n",
    "        return(string)"
   ]
  },
  {
   "cell_type": "markdown",
   "id": "cordless-joyce",
   "metadata": {},
   "source": [
    "We can now easily see that the fraction 6/4 is automatically divided by the lowest common factor to become 3/2. "
   ]
  },
  {
   "cell_type": "code",
   "execution_count": 522,
   "id": "advanced-newman",
   "metadata": {},
   "outputs": [],
   "source": [
    "p=Fraction(6,4)"
   ]
  },
  {
   "cell_type": "code",
   "execution_count": 523,
   "id": "flying-creator",
   "metadata": {},
   "outputs": [
    {
     "data": {
      "text/plain": [
       "Fraction(3,2)"
      ]
     },
     "execution_count": 523,
     "metadata": {},
     "output_type": "execute_result"
    }
   ],
   "source": [
    "p"
   ]
  },
  {
   "cell_type": "markdown",
   "id": "objective-reason",
   "metadata": {},
   "source": [
    "Let's now consider how we would perform mathmatical opeartions between fractions. In the cae of a fraction, multiplication and division are actually slightly easier than addition and subtraction. "
   ]
  },
  {
   "cell_type": "markdown",
   "id": "universal-phase",
   "metadata": {},
   "source": [
    "Fraction multiplication:"
   ]
  },
  {
   "cell_type": "markdown",
   "id": "lasting-ghost",
   "metadata": {},
   "source": [
    "$\\frac{\\textrm{self.n}}{\\textrm{self.d}}\\cdot\\frac{\\textrm{other.n}}{\\textrm{other.d}}=\\frac{\\textrm{self.n}\\cdot\\textrm{other.n}}{\\textrm{self.d}\\cdot\\textrm{other.d}}$"
   ]
  },
  {
   "cell_type": "markdown",
   "id": "conventional-bobby",
   "metadata": {},
   "source": [
    "Fraction division:"
   ]
  },
  {
   "cell_type": "markdown",
   "id": "moral-discipline",
   "metadata": {},
   "source": [
    "$\\frac{\\textrm{self.n}}{\\textrm{self.d}}\\div\\frac{\\textrm{other.n}}{\\textrm{other.d}}=\\frac{\\textrm{self.n}}{\\textrm{self.d}}\\cdot\\frac{\\textrm{other.d}}{\\textrm{other.n}}=\\frac{\\textrm{self.n}\\cdot\\textrm{other.d}}{\\textrm{self.d}\\cdot\\textrm{other.n}}$"
   ]
  },
  {
   "cell_type": "markdown",
   "id": "recent-savannah",
   "metadata": {},
   "source": [
    "Fraction addition:"
   ]
  },
  {
   "cell_type": "markdown",
   "id": "defined-decimal",
   "metadata": {},
   "source": [
    "$\\frac{\\textrm{self.n}}{\\textrm{self.d}}+\\frac{\\textrm{other.n}}{\\textrm{other.d}}=\\frac{\\textrm{self.n}}{\\textrm{self.d}}\\cdot\\frac{\\textrm{other.d}}{\\textrm{other.d}}+\\frac{\\textrm{other.n}}{\\textrm{other.d}}\\cdot\\frac{\\textrm{self.d}}{\\textrm{self.d}}=\\frac{\\textrm{self.n}\\cdot\\textrm{other.d}+\\textrm{other.n}\\cdot\\textrm{self.d}}{\\textrm{self.d}\\cdot\\textrm{other.d}}$"
   ]
  },
  {
   "cell_type": "markdown",
   "id": "thorough-employee",
   "metadata": {},
   "source": [
    "Fraction subtraction:"
   ]
  },
  {
   "cell_type": "markdown",
   "id": "going-click",
   "metadata": {},
   "source": [
    "$\\frac{\\textrm{self.n}}{\\textrm{self.d}}-\\frac{\\textrm{other.n}}{\\textrm{other.d}}=\\frac{\\textrm{self.n}}{\\textrm{self.d}}\\cdot\\frac{\\textrm{other.d}}{\\textrm{other.d}}-\\frac{\\textrm{other.n}}{\\textrm{other.d}}\\cdot\\frac{\\textrm{self.d}}{\\textrm{self.d}}=\\frac{\\textrm{self.n}\\cdot\\textrm{other.d}-\\textrm{other.n}\\cdot\\textrm{self.d}}{\\textrm{self.d}\\cdot\\textrm{other.d}}$"
   ]
  },
  {
   "cell_type": "markdown",
   "id": "complimentary-postcard",
   "metadata": {},
   "source": [
    "So we will begin with the \\_\\_mul\\_\\_ dunder method."
   ]
  },
  {
   "cell_type": "code",
   "execution_count": 524,
   "id": "skilled-facility",
   "metadata": {},
   "outputs": [],
   "source": [
    "class Fraction(object):\n",
    "    '''Fraction\n",
    "    n is the numerator and must be an integer\n",
    "    d is the denominator and must be an integer'''\n",
    "    def __init__(self,n,d):\n",
    "        try: \n",
    "            assert (type(n)==int and type(d)==int), 'n and d must be of the type int.'\n",
    "            self._n=n\n",
    "            try: \n",
    "                assert (d!=0)\n",
    "                self._d=d\n",
    "                self.common_factor()\n",
    "            except AssertionError:\n",
    "                print('d cannot be zero.')\n",
    "        except AssertionError:\n",
    "            print('n and d must be of the type int.')\n",
    "    def common_factor(self):\n",
    "        for idx in range(self._d,0,-1):\n",
    "            if (self._n%idx==0 and self._d%idx==0):\n",
    "                self._n=self._n//idx\n",
    "                self._d=self._d//idx\n",
    "                break\n",
    "    def __str__(self):\n",
    "        string=f'Fraction({self._n},{self._d})'\n",
    "        return(string)\n",
    "    def __repr__(self):\n",
    "        string=f'Fraction({self._n},{self._d})'\n",
    "        return(string)\n",
    "    def __mul__(self,other):\n",
    "        n=self._n*other._n\n",
    "        d=self._d*other._d\n",
    "        return(Fraction(n,d))"
   ]
  },
  {
   "cell_type": "markdown",
   "id": "comparative-insured",
   "metadata": {},
   "source": [
    "Now we see the (* mul) operator as expected."
   ]
  },
  {
   "cell_type": "code",
   "execution_count": 525,
   "id": "dependent-festival",
   "metadata": {},
   "outputs": [
    {
     "data": {
      "text/plain": [
       "Fraction(2,1)"
      ]
     },
     "execution_count": 525,
     "metadata": {},
     "output_type": "execute_result"
    }
   ],
   "source": [
    "Fraction(3,2)*Fraction(4,3)"
   ]
  },
  {
   "cell_type": "markdown",
   "id": "extended-ranking",
   "metadata": {},
   "source": [
    "Note that the \\_\\_init\\_\\_ dunder method was called from the \\_\\_mul\\_\\_ dunder method creating a new instance. Recall that it calls the common_factor method and divides by the numerator and denominator by the highest common factor."
   ]
  },
  {
   "cell_type": "markdown",
   "id": "interested-juvenile",
   "metadata": {},
   "source": [
    "Next let's have a look at the \\_\\_truediv\\_\\_ dunder method."
   ]
  },
  {
   "cell_type": "code",
   "execution_count": 526,
   "id": "adverse-christopher",
   "metadata": {},
   "outputs": [],
   "source": [
    "class Fraction(object):\n",
    "    '''Fraction\n",
    "    n is the numerator and must be an integer\n",
    "    d is the denominator and must be an integer'''\n",
    "    def __init__(self,n,d):\n",
    "        try: \n",
    "            assert (type(n)==int and type(d)==int), 'n and d must be of the type int.'\n",
    "            self._n=n\n",
    "            try: \n",
    "                assert (d!=0)\n",
    "                self._d=d\n",
    "                self.common_factor()\n",
    "            except AssertionError:\n",
    "                print('d cannot be zero.')\n",
    "        except AssertionError:\n",
    "            print('n and d must be of the type int.')\n",
    "    def common_factor(self):\n",
    "        for idx in range(self._d,0,-1):\n",
    "            if (self._n%idx==0 and self._d%idx==0):\n",
    "                self._n=self._n//idx\n",
    "                self._d=self._d//idx\n",
    "                break\n",
    "    def __str__(self):\n",
    "        string=f'Fraction({self._n},{self._d})'\n",
    "        return(string)\n",
    "    def __repr__(self):\n",
    "        string=f'Fraction({self._n},{self._d})'\n",
    "        return(string)\n",
    "    def __mul__(self,other):\n",
    "        n=self._n*other._n\n",
    "        d=self._d*other._d\n",
    "        return(Fraction(n,d))\n",
    "    def __truediv__(self,other):\n",
    "        n=self._n*other._d\n",
    "        d=self._d*other._n\n",
    "        return(Fraction(n,d))"
   ]
  },
  {
   "cell_type": "markdown",
   "id": "opposed-delaware",
   "metadata": {},
   "source": [
    "Now we see the (/ truediv) operator as expected."
   ]
  },
  {
   "cell_type": "code",
   "execution_count": 527,
   "id": "theoretical-dress",
   "metadata": {},
   "outputs": [
    {
     "data": {
      "text/plain": [
       "Fraction(2,1)"
      ]
     },
     "execution_count": 527,
     "metadata": {},
     "output_type": "execute_result"
    }
   ],
   "source": [
    "Fraction(3,2)/Fraction(3,4)"
   ]
  },
  {
   "cell_type": "markdown",
   "id": "revolutionary-minimum",
   "metadata": {},
   "source": [
    "Next let's have a look at the \\_\\_add\\_\\_ dunder method."
   ]
  },
  {
   "cell_type": "code",
   "execution_count": 528,
   "id": "brave-conditions",
   "metadata": {},
   "outputs": [],
   "source": [
    "class Fraction(object):\n",
    "    '''Fraction\n",
    "    n is the numerator and must be an integer\n",
    "    d is the denominator and must be an integer'''\n",
    "    def __init__(self,n,d):\n",
    "        try: \n",
    "            assert (type(n)==int and type(d)==int), 'n and d must be of the type int.'\n",
    "            self._n=n\n",
    "            try: \n",
    "                assert (d!=0)\n",
    "                self._d=d\n",
    "                self.common_factor()\n",
    "            except AssertionError:\n",
    "                print('d cannot be zero.')\n",
    "        except AssertionError:\n",
    "            print('n and d must be of the type int.')\n",
    "    def common_factor(self):\n",
    "        for idx in range(self._d,0,-1):\n",
    "            if (self._n%idx==0 and self._d%idx==0):\n",
    "                self._n=self._n//idx\n",
    "                self._d=self._d//idx\n",
    "                break\n",
    "    def __str__(self):\n",
    "        string=f'Fraction({self._n},{self._d})'\n",
    "        return(string)\n",
    "    def __repr__(self):\n",
    "        string=f'Fraction({self._n},{self._d})'\n",
    "        return(string)\n",
    "    def __mul__(self,other):\n",
    "        n=self._n*other._n\n",
    "        d=self._d*other._d\n",
    "        return(Fraction(n,d))\n",
    "    def __truediv__(self,other):\n",
    "        n=self._n*other._d\n",
    "        d=self._d*other._n\n",
    "        return(Fraction(n,d))\n",
    "    def __add__(self,other):\n",
    "        n=self._n*other._d+other._n*self._d\n",
    "        d=self._d*other._d\n",
    "        return(Fraction(n,d))"
   ]
  },
  {
   "cell_type": "markdown",
   "id": "mexican-least",
   "metadata": {},
   "source": [
    "Now we see the (+ add) operator as expected."
   ]
  },
  {
   "cell_type": "code",
   "execution_count": 529,
   "id": "thrown-faith",
   "metadata": {},
   "outputs": [
    {
     "data": {
      "text/plain": [
       "Fraction(3,4)"
      ]
     },
     "execution_count": 529,
     "metadata": {},
     "output_type": "execute_result"
    }
   ],
   "source": [
    "Fraction(2,4)+Fraction(1,4)"
   ]
  },
  {
   "cell_type": "markdown",
   "id": "opening-curtis",
   "metadata": {},
   "source": [
    "Next let's have a look at the \\_\\_sub\\_\\_ dunder method."
   ]
  },
  {
   "cell_type": "code",
   "execution_count": 530,
   "id": "italian-smile",
   "metadata": {},
   "outputs": [],
   "source": [
    "class Fraction(object):\n",
    "    '''Fraction\n",
    "    n is the numerator and must be an integer\n",
    "    d is the denominator and must be an integer'''\n",
    "    def __init__(self,n,d):\n",
    "        try: \n",
    "            assert (type(n)==int and type(d)==int), 'n and d must be of the type int.'\n",
    "            self._n=n\n",
    "            try: \n",
    "                assert (d!=0)\n",
    "                self._d=d\n",
    "                self.common_factor()\n",
    "            except AssertionError:\n",
    "                print('d cannot be zero.')\n",
    "        except AssertionError:\n",
    "            print('n and d must be of the type int.')\n",
    "    def common_factor(self):\n",
    "        for idx in range(self._d,0,-1):\n",
    "            if (self._n%idx==0 and self._d%idx==0):\n",
    "                self._n=self._n//idx\n",
    "                self._d=self._d//idx\n",
    "                break\n",
    "    def __str__(self):\n",
    "        string=f'Fraction({self._n},{self._d})'\n",
    "        return(string)\n",
    "    def __repr__(self):\n",
    "        string=f'Fraction({self._n},{self._d})'\n",
    "        return(string)\n",
    "    def __mul__(self,other):\n",
    "        n=self._n*other._n\n",
    "        d=self._d*other._d\n",
    "        return(Fraction(n,d))\n",
    "    def __truediv__(self,other):\n",
    "        n=self._n*other._d\n",
    "        d=self._d*other._n\n",
    "        return(Fraction(n,d))\n",
    "    def __add__(self,other):\n",
    "        n=self._n*other._d+other._n*self._d\n",
    "        d=self._d*other._d\n",
    "        return(Fraction(n,d))\n",
    "    def __sub__(self,other):\n",
    "        n=self._n*other._d-other._n*self._d\n",
    "        d=self._d*other._d\n",
    "        return(Fraction(n,d))"
   ]
  },
  {
   "cell_type": "markdown",
   "id": "moral-format",
   "metadata": {},
   "source": [
    "Now we see the (- sub) operator as expected."
   ]
  },
  {
   "cell_type": "code",
   "execution_count": 318,
   "id": "secondary-methodology",
   "metadata": {},
   "outputs": [
    {
     "data": {
      "text/plain": [
       "Fraction(1,4)"
      ]
     },
     "execution_count": 318,
     "metadata": {},
     "output_type": "execute_result"
    }
   ],
   "source": [
    "Fraction(2,4)-Fraction(1,4)"
   ]
  },
  {
   "cell_type": "markdown",
   "id": "working-mexico",
   "metadata": {},
   "source": [
    "We can create an optional method to_float which will convert the instance of the Fraction class to a float. We can also create the methods get_n and get_d to get the numerator and denominator as an int respectively."
   ]
  },
  {
   "cell_type": "code",
   "execution_count": 531,
   "id": "empty-underground",
   "metadata": {},
   "outputs": [],
   "source": [
    "class Fraction(object):\n",
    "    '''Fraction\n",
    "    n is the numerator and must be an integer\n",
    "    d is the denominator and must be an integer'''\n",
    "    def __init__(self,n,d):\n",
    "        try: \n",
    "            assert (type(n)==int and type(d)==int), 'n and d must be of the type int.'\n",
    "            self._n=n\n",
    "            try: \n",
    "                assert (d!=0)\n",
    "                self._d=d\n",
    "                self.common_factor()\n",
    "            except AssertionError:\n",
    "                print('d cannot be zero.')\n",
    "        except AssertionError:\n",
    "            print('n and d must be of the type int.')\n",
    "    def common_factor(self):\n",
    "        for idx in range(self._d,0,-1):\n",
    "            if (self._n%idx==0 and self._d%idx==0):\n",
    "                self._n=self._n//idx\n",
    "                self._d=self._d//idx\n",
    "                break\n",
    "    def __str__(self):\n",
    "        string=f'Fraction({self._n},{self._d})'\n",
    "        return(string)\n",
    "    def __repr__(self):\n",
    "        string=f'Fraction({self._n},{self._d})'\n",
    "        return(string)\n",
    "    def __mul__(self,other):\n",
    "        n=self._n*other._n\n",
    "        d=self._d*other._d\n",
    "        return(Fraction(n,d))\n",
    "    def __truediv__(self,other):\n",
    "        n=self._n*other._d\n",
    "        d=self._d*other._n\n",
    "        return(Fraction(n,d))\n",
    "    def __add__(self,other):\n",
    "        n=self._n*other._d+other._n*self._d\n",
    "        d=self._d*other._d\n",
    "        return(Fraction(n,d))\n",
    "    def __sub__(self,other):\n",
    "        n=self._n*other._d-other._n*self._d\n",
    "        d=self._d*other._d\n",
    "        return(Fraction(n,d))\n",
    "    def to_float(self):\n",
    "        value=float(self._n/self._d)\n",
    "        return(value)\n",
    "    def get_n(self):\n",
    "        return(self._n)\n",
    "    def get_d(self):\n",
    "        return(self._d)"
   ]
  },
  {
   "cell_type": "markdown",
   "id": "turned-serve",
   "metadata": {},
   "source": [
    "When we type in the instance name followed by a dot . and tab ↹ we see a list of methods available."
   ]
  },
  {
   "cell_type": "markdown",
   "id": "negative-reality",
   "metadata": {},
   "source": [
    "![Fraction_methods](Fraction_methods.png)"
   ]
  },
  {
   "cell_type": "markdown",
   "id": "acting-toyota",
   "metadata": {},
   "source": [
    "The method common_factor is only used within the dunder method \\_\\_init\\_\\_ and not intended to be called by the end user so we can update it to be a private method by beginning with an underscore."
   ]
  },
  {
   "cell_type": "code",
   "execution_count": 532,
   "id": "normal-viewer",
   "metadata": {},
   "outputs": [],
   "source": [
    "class Fraction(object):\n",
    "    '''Fraction\n",
    "    n is the numerator and must be an integer\n",
    "    d is the denominator and must be an integer'''\n",
    "    def __init__(self,n,d):\n",
    "        try: \n",
    "            assert (type(n)==int and type(d)==int), 'n and d must be of the type int.'\n",
    "            self._n=n\n",
    "            try: \n",
    "                assert (d!=0)\n",
    "                self._d=d\n",
    "                self._common_factor()\n",
    "            except AssertionError:\n",
    "                print('d cannot be zero.')\n",
    "        except AssertionError:\n",
    "            print('n and d must be of the type int.')\n",
    "    def _common_factor(self):\n",
    "        for idx in range(self._d,0,-1):\n",
    "            if (self._n%idx==0 and self._d%idx==0):\n",
    "                self._n=self._n//idx\n",
    "                self._d=self._d//idx\n",
    "                break\n",
    "    def __str__(self):\n",
    "        string=f'Fraction({self._n},{self._d})'\n",
    "        return(string)\n",
    "    def __repr__(self):\n",
    "        string=f'Fraction({self._n},{self._d})'\n",
    "        return(string)\n",
    "    def __mul__(self,other):\n",
    "        n=self._n*other._n\n",
    "        d=self._d*other._d\n",
    "        return(Fraction(n,d))\n",
    "    def __truediv__(self,other):\n",
    "        n=self._n*other._d\n",
    "        d=self._d*other._n\n",
    "        return(Fraction(n,d))\n",
    "    def __add__(self,other):\n",
    "        n=self._n*other._d+other._n*self._d\n",
    "        d=self._d*other._d\n",
    "        return(Fraction(n,d))\n",
    "    def __sub__(self,other):\n",
    "        n=self._n*other._d-other._n*self._d\n",
    "        d=self._d*other._d\n",
    "        return(Fraction(n,d))\n",
    "    def to_float(self):\n",
    "        value=float(self._n/self._d)\n",
    "        return(value)\n",
    "    def get_n(self):\n",
    "        return(self._n)\n",
    "    def get_d(self):\n",
    "        return(self._d)"
   ]
  },
  {
   "cell_type": "code",
   "execution_count": 536,
   "id": "measured-oracle",
   "metadata": {},
   "outputs": [],
   "source": [
    "p=Fraction(1,4)"
   ]
  },
  {
   "cell_type": "markdown",
   "id": "related-brisbane",
   "metadata": {},
   "source": [
    "![Fraction_methods2](Fraction_methods2.png)"
   ]
  },
  {
   "cell_type": "code",
   "execution_count": 537,
   "id": "continent-documentation",
   "metadata": {},
   "outputs": [
    {
     "data": {
      "text/plain": [
       "0.25"
      ]
     },
     "execution_count": 537,
     "metadata": {},
     "output_type": "execute_result"
    }
   ],
   "source": [
    "p.to_float()"
   ]
  },
  {
   "cell_type": "code",
   "execution_count": 538,
   "id": "representative-soldier",
   "metadata": {},
   "outputs": [
    {
     "data": {
      "text/plain": [
       "1"
      ]
     },
     "execution_count": 538,
     "metadata": {},
     "output_type": "execute_result"
    }
   ],
   "source": [
    "p.get_n()"
   ]
  },
  {
   "cell_type": "code",
   "execution_count": 539,
   "id": "competitive-infrastructure",
   "metadata": {},
   "outputs": [
    {
     "data": {
      "text/plain": [
       "4"
      ]
     },
     "execution_count": 539,
     "metadata": {},
     "output_type": "execute_result"
    }
   ],
   "source": [
    "p.get_d()"
   ]
  },
  {
   "cell_type": "markdown",
   "id": "verbal-saint",
   "metadata": {},
   "source": [
    "We could also create methods set_n and set_d to set the numerator and denominator respectively."
   ]
  },
  {
   "cell_type": "code",
   "execution_count": 540,
   "id": "running-anatomy",
   "metadata": {},
   "outputs": [],
   "source": [
    "class Fraction(object):\n",
    "    '''Fraction\n",
    "    n is the numerator and must be an integer\n",
    "    d is the denominator and must be an integer'''\n",
    "    def __init__(self,n,d):\n",
    "        try: \n",
    "            assert (type(n)==int and type(d)==int), 'n and d must be of the type int.'\n",
    "            self._n=n\n",
    "            try: \n",
    "                assert (d!=0)\n",
    "                self._d=d\n",
    "                self._common_factor()\n",
    "            except AssertionError:\n",
    "                print('d cannot be zero.')\n",
    "        except AssertionError:\n",
    "            print('n and d must be of the type int.')\n",
    "    def _common_factor(self):\n",
    "        for idx in range(self._d,0,-1):\n",
    "            if (self._n%idx==0 and self._d%idx==0):\n",
    "                self._n=self._n//idx\n",
    "                self._d=self._d//idx\n",
    "                break\n",
    "    def __str__(self):\n",
    "        string=f'Fraction({self._n},{self._d})'\n",
    "        return(string)\n",
    "    def __repr__(self):\n",
    "        string=f'Fraction({self._n},{self._d})'\n",
    "        return(string)\n",
    "    def __mul__(self,other):\n",
    "        n=self._n*other._n\n",
    "        d=self._d*other._d\n",
    "        return(Fraction(n,d))\n",
    "    def __truediv__(self,other):\n",
    "        n=self._n*other._d\n",
    "        d=self._d*other._n\n",
    "        return(Fraction(n,d))\n",
    "    def __add__(self,other):\n",
    "        n=self._n*other._d+other._n*self._d\n",
    "        d=self._d*other._d\n",
    "        return(Fraction(n,d))\n",
    "    def __sub__(self,other):\n",
    "        n=self._n*other._d-other._n*self._d\n",
    "        d=self._d*other._d\n",
    "        return(Fraction(n,d))\n",
    "    def to_float(self):\n",
    "        value=float(self._n/self._d)\n",
    "        return(value)\n",
    "    def get_n(self):\n",
    "        return(self._n)\n",
    "    def get_d(self):\n",
    "        return(self._d)\n",
    "    def set_n(self,n):\n",
    "        '''Sets a new numerator n. n must be an int.'''\n",
    "        try:\n",
    "            return(Fraction(n,self._d))\n",
    "        except AttributeError:\n",
    "            print('n must be an int.')\n",
    "    def set_d(self,d):\n",
    "        '''Sets a new denominator d. d must be a non-zero int.'''\n",
    "        try:\n",
    "            return(Fraction(self._n,d))\n",
    "        except AttributeError:\n",
    "            print('d must be a non-zero int.')"
   ]
  },
  {
   "cell_type": "code",
   "execution_count": 541,
   "id": "understanding-politics",
   "metadata": {},
   "outputs": [],
   "source": [
    "p=Fraction(1,4)"
   ]
  },
  {
   "cell_type": "markdown",
   "id": "funded-point",
   "metadata": {},
   "source": [
    "When we type in the instance name followed by a dot . and tab ↹ we see a list including the updated methods."
   ]
  },
  {
   "cell_type": "markdown",
   "id": "global-prefix",
   "metadata": {},
   "source": [
    "![Fraction_methods3](Fraction_methods3.png)"
   ]
  },
  {
   "cell_type": "markdown",
   "id": "individual-nancy",
   "metadata": {},
   "source": [
    "When we type in the method followed by a tab ↹ and shift ⇧ we get our docstring and information about the positional input argument n."
   ]
  },
  {
   "cell_type": "markdown",
   "id": "given-modem",
   "metadata": {},
   "source": [
    "![Fraction_method_set_n](Fraction_method_set_n.png)"
   ]
  },
  {
   "cell_type": "code",
   "execution_count": 542,
   "id": "rational-solid",
   "metadata": {},
   "outputs": [
    {
     "data": {
      "text/plain": [
       "Fraction(5,2)"
      ]
     },
     "execution_count": 542,
     "metadata": {},
     "output_type": "execute_result"
    }
   ],
   "source": [
    "p.set_n(10)"
   ]
  },
  {
   "cell_type": "markdown",
   "id": "marked-husband",
   "metadata": {},
   "source": [
    "Supposing we want only Eighths which are fractions where the denominator is always 8. We can create a Child Class of the Fraction Class. We can create an Eighth using a child \\_\\_init\\_\\_ signature with only a numerator as the denominator is always 8. The child \\_\\_init\\_\\_ signature calls the \\_\\_init\\_\\_ signature of the parent class which requires the numerator n supplied by the user from the child class and d which is always set to 8 from the child class for an Eighth. "
   ]
  },
  {
   "cell_type": "code",
   "execution_count": 544,
   "id": "dying-labor",
   "metadata": {},
   "outputs": [],
   "source": [
    "class Eighths(Fraction):\n",
    "    def __init__(self,n):\n",
    "        d=8\n",
    "        super(Eighths,self).__init__(n,d)"
   ]
  },
  {
   "cell_type": "code",
   "execution_count": 545,
   "id": "breathing-trout",
   "metadata": {},
   "outputs": [],
   "source": [
    "q=Eighths(3)"
   ]
  },
  {
   "cell_type": "code",
   "execution_count": 546,
   "id": "descending-center",
   "metadata": {},
   "outputs": [
    {
     "data": {
      "text/plain": [
       "Fraction(3,8)"
      ]
     },
     "execution_count": 546,
     "metadata": {},
     "output_type": "execute_result"
    }
   ],
   "source": [
    "q"
   ]
  },
  {
   "cell_type": "markdown",
   "id": "leading-artist",
   "metadata": {},
   "source": [
    "## Collections"
   ]
  },
  {
   "cell_type": "markdown",
   "id": "vocational-exchange",
   "metadata": {},
   "source": [
    "So far we have only looked at scalar data types that is a dataset that consists of only a single value. Quite often we will want to group together a collection of single values. Before looking at how we do this in Python. Let's look at a spreadsheet in Microsoft Excel. When the data is in Excel we see that each data value is enclosed in a grid."
   ]
  },
  {
   "cell_type": "markdown",
   "id": "cleared-breed",
   "metadata": {},
   "source": [
    "![excel_row](excel_row.png)"
   ]
  },
  {
   "cell_type": "markdown",
   "id": "convenient-deputy",
   "metadata": {},
   "source": [
    "The data can be saved as a CSV format."
   ]
  },
  {
   "cell_type": "markdown",
   "id": "charitable-antique",
   "metadata": {},
   "source": [
    "![excel_row_save](excel_row_save.png)"
   ]
  },
  {
   "cell_type": "markdown",
   "id": "occupational-webcam",
   "metadata": {},
   "source": [
    "Now it can be viewed in Notepad++."
   ]
  },
  {
   "cell_type": "markdown",
   "id": "cooperative-bosnia",
   "metadata": {},
   "source": [
    "![excel_row_notepadplusplus](excel_row_notepadplusplus.png)"
   ]
  },
  {
   "cell_type": "markdown",
   "id": "painful-handy",
   "metadata": {},
   "source": [
    "Notice that instead of a grid we see a comma seperating out each value (hence the name csv comma seperated value file). \n",
    "The comma is the delimiter and is used to seperate out each value."
   ]
  },
  {
   "cell_type": "markdown",
   "id": "outdoor-pencil",
   "metadata": {},
   "source": [
    "The values in the spreadsheet do not need to be numeric, they can also be text. "
   ]
  },
  {
   "cell_type": "markdown",
   "id": "endless-cream",
   "metadata": {},
   "source": [
    "![excel_row2](excel_row2.png)"
   ]
  },
  {
   "cell_type": "markdown",
   "id": "caring-message",
   "metadata": {},
   "source": [
    "![excel_row2_notepadplusplus](excel_row2_notepadplusplus.png)"
   ]
  },
  {
   "cell_type": "markdown",
   "id": "atlantic-commodity",
   "metadata": {},
   "source": [
    "We can create a collection of values in Python using similar notation with the comma as a delimiter. In Python however we need to enclose the collection in brackets. The type of brackets used creates a slightly different collection. The \\[ \\] create a list, the ( ) create a tuple and the { } create a set or dictionary."
   ]
  },
  {
   "cell_type": "markdown",
   "id": "signal-excerpt",
   "metadata": {},
   "source": [
    "### The List Collection (list)"
   ]
  },
  {
   "cell_type": "markdown",
   "id": "liquid-treasure",
   "metadata": {},
   "source": [
    "The most commonly used collection is called a list. This relates to a list used in every day life. For example the shopping list."
   ]
  },
  {
   "cell_type": "markdown",
   "id": "constitutional-instrumentation",
   "metadata": {},
   "source": [
    "* apples\n",
    "* bananas\n",
    "* grapes\n",
    "* oranges\n",
    "* pears"
   ]
  },
  {
   "cell_type": "markdown",
   "id": "amended-occurrence",
   "metadata": {},
   "source": [
    "An empty list can be instantiated by using square brackets."
   ]
  },
  {
   "cell_type": "code",
   "execution_count": 329,
   "id": "printable-receiver",
   "metadata": {},
   "outputs": [],
   "source": [
    "shop=[]"
   ]
  },
  {
   "cell_type": "code",
   "execution_count": 330,
   "id": "consecutive-nitrogen",
   "metadata": {},
   "outputs": [
    {
     "data": {
      "text/plain": [
       "[]"
      ]
     },
     "execution_count": 330,
     "metadata": {},
     "output_type": "execute_result"
    }
   ],
   "source": [
    "shop"
   ]
  },
  {
   "cell_type": "markdown",
   "id": "perfect-slovakia",
   "metadata": {},
   "source": [
    "Alternatively we can instantiate a list using the list class directly. If we type in list followed by a tab ↹ and shift ⇧ we get the list init statement docstring which outlines details about the positional input argument which we see are iterable."
   ]
  },
  {
   "cell_type": "markdown",
   "id": "verbal-fever",
   "metadata": {},
   "source": [
    "![list_init_signature](list_init_signature.png)"
   ]
  },
  {
   "cell_type": "markdown",
   "id": "efficient-plymouth",
   "metadata": {},
   "source": [
    "We can keep it empty to make an empty list:"
   ]
  },
  {
   "cell_type": "code",
   "execution_count": 331,
   "id": "alive-launch",
   "metadata": {},
   "outputs": [],
   "source": [
    "shop=list()"
   ]
  },
  {
   "cell_type": "code",
   "execution_count": 332,
   "id": "unlikely-huntington",
   "metadata": {},
   "outputs": [
    {
     "data": {
      "text/plain": [
       "[]"
      ]
     },
     "execution_count": 332,
     "metadata": {},
     "output_type": "execute_result"
    }
   ],
   "source": [
    "shop"
   ]
  },
  {
   "cell_type": "markdown",
   "id": "extensive-prevention",
   "metadata": {},
   "source": [
    "When we type in the list name followed by a dot . and a tab ↹ we see a number of list methods and attributes."
   ]
  },
  {
   "cell_type": "markdown",
   "id": "loving-convertible",
   "metadata": {},
   "source": [
    "![list_methods_attributes](list_methods_attributes.png)"
   ]
  },
  {
   "cell_type": "markdown",
   "id": "directed-collectible",
   "metadata": {},
   "source": [
    "Let's attempt to add one str item to our list. The str needs to be enclosed in quotations to inicate that it is a str and not an object name."
   ]
  },
  {
   "cell_type": "code",
   "execution_count": 333,
   "id": "ceramic-grill",
   "metadata": {},
   "outputs": [],
   "source": [
    "shop=['apples']"
   ]
  },
  {
   "cell_type": "code",
   "execution_count": 334,
   "id": "weighted-router",
   "metadata": {},
   "outputs": [
    {
     "data": {
      "text/plain": [
       "['apples']"
      ]
     },
     "execution_count": 334,
     "metadata": {},
     "output_type": "execute_result"
    }
   ],
   "source": [
    "shop"
   ]
  },
  {
   "cell_type": "markdown",
   "id": "dominican-factor",
   "metadata": {},
   "source": [
    "Note to get a single element when we are explicitly instantiating the list class we need to include a comma , delimiter."
   ]
  },
  {
   "cell_type": "code",
   "execution_count": 335,
   "id": "informal-escape",
   "metadata": {},
   "outputs": [],
   "source": [
    "shop=list(('apples',))"
   ]
  },
  {
   "cell_type": "code",
   "execution_count": 336,
   "id": "saved-titanium",
   "metadata": {},
   "outputs": [
    {
     "data": {
      "text/plain": [
       "['apples']"
      ]
     },
     "execution_count": 336,
     "metadata": {},
     "output_type": "execute_result"
    }
   ],
   "source": [
    "shop"
   ]
  },
  {
   "cell_type": "markdown",
   "id": "passive-remark",
   "metadata": {},
   "source": [
    "Otherwise the () are taken to mean parenthesis and we will make a list of each letter in the string."
   ]
  },
  {
   "cell_type": "code",
   "execution_count": 337,
   "id": "overall-developer",
   "metadata": {},
   "outputs": [],
   "source": [
    "shop=list(('apples'))"
   ]
  },
  {
   "cell_type": "code",
   "execution_count": 338,
   "id": "essential-january",
   "metadata": {},
   "outputs": [
    {
     "data": {
      "text/plain": [
       "['a', 'p', 'p', 'l', 'e', 's']"
      ]
     },
     "execution_count": 338,
     "metadata": {},
     "output_type": "execute_result"
    }
   ],
   "source": [
    "shop"
   ]
  },
  {
   "cell_type": "markdown",
   "id": "nutritional-cartoon",
   "metadata": {},
   "source": [
    "Now to add another item we need to use a comma as a delimiter."
   ]
  },
  {
   "cell_type": "code",
   "execution_count": 339,
   "id": "diagnostic-master",
   "metadata": {},
   "outputs": [],
   "source": [
    "shop=['apples','bananas']"
   ]
  },
  {
   "cell_type": "code",
   "execution_count": 340,
   "id": "interstate-pulse",
   "metadata": {},
   "outputs": [
    {
     "data": {
      "text/plain": [
       "['apples', 'bananas']"
      ]
     },
     "execution_count": 340,
     "metadata": {},
     "output_type": "execute_result"
    }
   ],
   "source": [
    "shop"
   ]
  },
  {
   "cell_type": "code",
   "execution_count": 341,
   "id": "entitled-discipline",
   "metadata": {},
   "outputs": [],
   "source": [
    "shop=list(('apples','bananas'))"
   ]
  },
  {
   "cell_type": "markdown",
   "id": "educational-surface",
   "metadata": {},
   "source": [
    "Alternatively we can explicity instantiate the class list."
   ]
  },
  {
   "cell_type": "code",
   "execution_count": 342,
   "id": "dated-spanking",
   "metadata": {},
   "outputs": [
    {
     "data": {
      "text/plain": [
       "['apples', 'bananas']"
      ]
     },
     "execution_count": 342,
     "metadata": {},
     "output_type": "execute_result"
    }
   ],
   "source": [
    "shop"
   ]
  },
  {
   "cell_type": "markdown",
   "id": "curious-toronto",
   "metadata": {},
   "source": [
    "Continuing on with the complete list."
   ]
  },
  {
   "cell_type": "code",
   "execution_count": 343,
   "id": "cathedral-specialist",
   "metadata": {},
   "outputs": [],
   "source": [
    "shop=['apples','bananas','grapes','oranges','pears']"
   ]
  },
  {
   "cell_type": "code",
   "execution_count": 344,
   "id": "valuable-resolution",
   "metadata": {},
   "outputs": [
    {
     "data": {
      "text/plain": [
       "['apples', 'bananas', 'grapes', 'oranges', 'pears']"
      ]
     },
     "execution_count": 344,
     "metadata": {},
     "output_type": "execute_result"
    }
   ],
   "source": [
    "shop"
   ]
  },
  {
   "cell_type": "markdown",
   "id": "southwest-battery",
   "metadata": {},
   "source": [
    "It is also possible to write the above splitting the list over multiple lines by pressing enter ↵ after the comma , delimiter. Note the spacing will be automatically applied to display the list as a column."
   ]
  },
  {
   "cell_type": "code",
   "execution_count": 345,
   "id": "important-banana",
   "metadata": {},
   "outputs": [],
   "source": [
    "shop=['apples',\n",
    "      'bananas',\n",
    "      'grapes',\n",
    "      'oranges',\n",
    "      'pears']"
   ]
  },
  {
   "cell_type": "code",
   "execution_count": 346,
   "id": "personalized-animation",
   "metadata": {},
   "outputs": [
    {
     "data": {
      "text/plain": [
       "['apples', 'bananas', 'grapes', 'oranges', 'pears']"
      ]
     },
     "execution_count": 346,
     "metadata": {},
     "output_type": "execute_result"
    }
   ],
   "source": [
    "shop"
   ]
  },
  {
   "cell_type": "markdown",
   "id": "invisible-florist",
   "metadata": {},
   "source": [
    "As we can see from the output above there is no difference between the list when input as a row or input as a column. In fact the list is neither a row nor a column. It is an object with only a single dimension."
   ]
  },
  {
   "cell_type": "markdown",
   "id": "direct-kernel",
   "metadata": {},
   "source": [
    "### Indexing a str or list"
   ]
  },
  {
   "cell_type": "markdown",
   "id": "ambient-myanmar",
   "metadata": {},
   "source": [
    "In many cases collections such as lists behave in a simlar manner to strings. The + operator performs concatenation."
   ]
  },
  {
   "cell_type": "code",
   "execution_count": 347,
   "id": "annoying-gentleman",
   "metadata": {},
   "outputs": [
    {
     "data": {
      "text/plain": [
       "'helloworld'"
      ]
     },
     "execution_count": 347,
     "metadata": {},
     "output_type": "execute_result"
    }
   ],
   "source": [
    "'hello'+'world'"
   ]
  },
  {
   "cell_type": "code",
   "execution_count": 348,
   "id": "funded-shade",
   "metadata": {},
   "outputs": [
    {
     "data": {
      "text/plain": [
       "['h', 'e', 'l', 'l', 'o', 'w', 'o', 'r', 'l', 'd']"
      ]
     },
     "execution_count": 348,
     "metadata": {},
     "output_type": "execute_result"
    }
   ],
   "source": [
    "['h','e','l','l','o']+['w','o','r','l','d']"
   ]
  },
  {
   "cell_type": "markdown",
   "id": "correct-baptist",
   "metadata": {},
   "source": [
    "And multiplication by a scalar n replicates the list n times."
   ]
  },
  {
   "cell_type": "code",
   "execution_count": 349,
   "id": "pressed-earth",
   "metadata": {},
   "outputs": [
    {
     "data": {
      "text/plain": [
       "'hellohellohello'"
      ]
     },
     "execution_count": 349,
     "metadata": {},
     "output_type": "execute_result"
    }
   ],
   "source": [
    "'hello'*3"
   ]
  },
  {
   "cell_type": "code",
   "execution_count": 350,
   "id": "satellite-illustration",
   "metadata": {},
   "outputs": [
    {
     "data": {
      "text/plain": [
       "['h', 'e', 'l', 'l', 'o', 'h', 'e', 'l', 'l', 'o', 'h', 'e', 'l', 'l', 'o']"
      ]
     },
     "execution_count": 350,
     "metadata": {},
     "output_type": "execute_result"
    }
   ],
   "source": [
    "['h','e','l','l','o']*3"
   ]
  },
  {
   "cell_type": "markdown",
   "id": "trained-insulin",
   "metadata": {},
   "source": [
    "The function len can also be used to determine the number fo elements in a str or list."
   ]
  },
  {
   "cell_type": "code",
   "execution_count": 351,
   "id": "seasonal-cache",
   "metadata": {},
   "outputs": [
    {
     "data": {
      "text/plain": [
       "5"
      ]
     },
     "execution_count": 351,
     "metadata": {},
     "output_type": "execute_result"
    }
   ],
   "source": [
    "len('hello')"
   ]
  },
  {
   "cell_type": "code",
   "execution_count": 352,
   "id": "powerful-discipline",
   "metadata": {},
   "outputs": [
    {
     "data": {
      "text/plain": [
       "5"
      ]
     },
     "execution_count": 352,
     "metadata": {},
     "output_type": "execute_result"
    }
   ],
   "source": [
    "len(['h','e','l','l','o'])"
   ]
  },
  {
   "cell_type": "markdown",
   "id": "historical-baseline",
   "metadata": {},
   "source": [
    "Recall that we could use a for loop to select an index in a str. "
   ]
  },
  {
   "cell_type": "code",
   "execution_count": 353,
   "id": "sixth-dylan",
   "metadata": {},
   "outputs": [
    {
     "name": "stdout",
     "output_type": "stream",
     "text": [
      "h\n",
      "e\n",
      "l\n",
      "l\n",
      "o\n"
     ]
    }
   ],
   "source": [
    "for let in 'hello':\n",
    "    print(let)"
   ]
  },
  {
   "cell_type": "markdown",
   "id": "beneficial-christianity",
   "metadata": {},
   "source": [
    "Or that we could enumerate a string to get both the index and letter."
   ]
  },
  {
   "cell_type": "code",
   "execution_count": 354,
   "id": "binary-notebook",
   "metadata": {},
   "outputs": [
    {
     "name": "stdout",
     "output_type": "stream",
     "text": [
      "0 h\n",
      "1 e\n",
      "2 l\n",
      "3 l\n",
      "4 o\n"
     ]
    }
   ],
   "source": [
    "for idx,let in enumerate('hello'):\n",
    "    print(idx,let)"
   ]
  },
  {
   "cell_type": "markdown",
   "id": "pretty-canon",
   "metadata": {},
   "source": [
    "We can do the same for an item in a list."
   ]
  },
  {
   "cell_type": "code",
   "execution_count": 355,
   "id": "tender-rogers",
   "metadata": {},
   "outputs": [
    {
     "name": "stdout",
     "output_type": "stream",
     "text": [
      "apples\n",
      "bananas\n",
      "grapes\n",
      "oranges\n",
      "pears\n"
     ]
    }
   ],
   "source": [
    "for item in shop:\n",
    "    print(item)"
   ]
  },
  {
   "cell_type": "code",
   "execution_count": 356,
   "id": "informal-librarian",
   "metadata": {},
   "outputs": [
    {
     "name": "stdout",
     "output_type": "stream",
     "text": [
      "0 apples\n",
      "1 bananas\n",
      "2 grapes\n",
      "3 oranges\n",
      "4 pears\n"
     ]
    }
   ],
   "source": [
    "for idx,item in enumerate(shop):\n",
    "    print(idx,item)"
   ]
  },
  {
   "cell_type": "markdown",
   "id": "coral-joint",
   "metadata": {},
   "source": [
    "In Python indexes uses zero-order meaning we are inclusive of the lower bound 0 and exclusivie fo the upper bound 5. A list with a length of 5 has an index 0,1,2,3 and 4 as shown in the output of the enumeration of the list above using a for loop."
   ]
  },
  {
   "cell_type": "markdown",
   "id": "surgical-stationery",
   "metadata": {},
   "source": [
    "An individual item from the list can be selected from the numeric index by typing in the list name followed by square brackets containing the index."
   ]
  },
  {
   "cell_type": "code",
   "execution_count": 357,
   "id": "bright-realtor",
   "metadata": {},
   "outputs": [
    {
     "data": {
      "text/plain": [
       "'apples'"
      ]
     },
     "execution_count": 357,
     "metadata": {},
     "output_type": "execute_result"
    }
   ],
   "source": [
    "shop[0]"
   ]
  },
  {
   "cell_type": "markdown",
   "id": "related-bleeding",
   "metadata": {},
   "source": [
    "This approach also works to get a letter from a str."
   ]
  },
  {
   "cell_type": "code",
   "execution_count": 358,
   "id": "official-methodology",
   "metadata": {},
   "outputs": [
    {
     "data": {
      "text/plain": [
       "'h'"
      ]
     },
     "execution_count": 358,
     "metadata": {},
     "output_type": "execute_result"
    }
   ],
   "source": [
    "'hello'[0]"
   ]
  },
  {
   "cell_type": "markdown",
   "id": "through-intensity",
   "metadata": {},
   "source": [
    "We can index into the list to get item 0 which is the str 'apples'."
   ]
  },
  {
   "cell_type": "code",
   "execution_count": 359,
   "id": "thick-beach",
   "metadata": {},
   "outputs": [
    {
     "data": {
      "text/plain": [
       "'apples'"
      ]
     },
     "execution_count": 359,
     "metadata": {},
     "output_type": "execute_result"
    }
   ],
   "source": [
    "shop[0]"
   ]
  },
  {
   "cell_type": "markdown",
   "id": "essential-highway",
   "metadata": {},
   "source": [
    "And then we can index into this str output to get the index 3 which is the letter 'l'."
   ]
  },
  {
   "cell_type": "code",
   "execution_count": 360,
   "id": "handy-count",
   "metadata": {},
   "outputs": [
    {
     "data": {
      "text/plain": [
       "'l'"
      ]
     },
     "execution_count": 360,
     "metadata": {},
     "output_type": "execute_result"
    }
   ],
   "source": [
    "shop[0][3]"
   ]
  },
  {
   "cell_type": "markdown",
   "id": "numeric-graduate",
   "metadata": {},
   "source": [
    "The above line is equivalent to the following."
   ]
  },
  {
   "cell_type": "code",
   "execution_count": 361,
   "id": "inside-despite",
   "metadata": {},
   "outputs": [
    {
     "data": {
      "text/plain": [
       "'l'"
      ]
     },
     "execution_count": 361,
     "metadata": {},
     "output_type": "execute_result"
    }
   ],
   "source": [
    "item=shop[0]\n",
    "let=item[3]\n",
    "let"
   ]
  },
  {
   "cell_type": "markdown",
   "id": "numerical-motion",
   "metadata": {},
   "source": [
    "Multiple indexes can be selected by use of a colon. The value before the colon is the start value and the value after the colon is the stop value."
   ]
  },
  {
   "cell_type": "markdown",
   "id": "immune-maldives",
   "metadata": {},
   "source": [
    "```'str'[start:stop]```"
   ]
  },
  {
   "cell_type": "markdown",
   "id": "dried-teaching",
   "metadata": {},
   "source": [
    "For example this can be thought of as the selection of index 2 to 4."
   ]
  },
  {
   "cell_type": "code",
   "execution_count": 362,
   "id": "permanent-interim",
   "metadata": {},
   "outputs": [
    {
     "data": {
      "text/plain": [
       "'ll'"
      ]
     },
     "execution_count": 362,
     "metadata": {},
     "output_type": "execute_result"
    }
   ],
   "source": [
    "'hello'[2:4]"
   ]
  },
  {
   "cell_type": "markdown",
   "id": "dated-california",
   "metadata": {},
   "source": [
    "Recall that we are inclusive of the lower bound 2 and exclusive of the upper bound 4. Therefore we get the output from indexes 2 and 3. "
   ]
  },
  {
   "cell_type": "markdown",
   "id": "obvious-offer",
   "metadata": {},
   "source": [
    "If a lower bound start is not specified then it is assumed to be 0."
   ]
  },
  {
   "cell_type": "markdown",
   "id": "monthly-journey",
   "metadata": {},
   "source": [
    "```'str'[start:stop]```"
   ]
  },
  {
   "cell_type": "markdown",
   "id": "employed-initial",
   "metadata": {},
   "source": [
    "```'str'[0:stop]```"
   ]
  },
  {
   "cell_type": "markdown",
   "id": "spiritual-stanley",
   "metadata": {},
   "source": [
    "```'str'[:stop]```"
   ]
  },
  {
   "cell_type": "markdown",
   "id": "eastern-newton",
   "metadata": {},
   "source": [
    "Going from index 0 to index 3 will give indexes 0, 1 and 2 for example."
   ]
  },
  {
   "cell_type": "code",
   "execution_count": 363,
   "id": "embedded-german",
   "metadata": {},
   "outputs": [
    {
     "data": {
      "text/plain": [
       "'hel'"
      ]
     },
     "execution_count": 363,
     "metadata": {},
     "output_type": "execute_result"
    }
   ],
   "source": [
    "'hello'[:3]"
   ]
  },
  {
   "cell_type": "markdown",
   "id": "golden-carol",
   "metadata": {},
   "source": [
    "Likewise if an upper bound start is not specified then it is assumed to be the length of the str or list or other collection."
   ]
  },
  {
   "cell_type": "markdown",
   "id": "explicit-hungary",
   "metadata": {},
   "source": [
    "```'str'[start:stop]```"
   ]
  },
  {
   "cell_type": "markdown",
   "id": "confidential-aspect",
   "metadata": {},
   "source": [
    "```'str'[start:len(str)]```"
   ]
  },
  {
   "cell_type": "markdown",
   "id": "rural-ancient",
   "metadata": {},
   "source": [
    "```'str'[start:]```"
   ]
  },
  {
   "cell_type": "markdown",
   "id": "blond-heaven",
   "metadata": {},
   "source": [
    "Going from index 3 to the len of the str will give indexes 3 and 4 for example."
   ]
  },
  {
   "cell_type": "code",
   "execution_count": 364,
   "id": "oriental-wings",
   "metadata": {},
   "outputs": [
    {
     "data": {
      "text/plain": [
       "'lo'"
      ]
     },
     "execution_count": 364,
     "metadata": {},
     "output_type": "execute_result"
    }
   ],
   "source": [
    "'hello'[3:]"
   ]
  },
  {
   "cell_type": "markdown",
   "id": "heavy-outdoors",
   "metadata": {},
   "source": [
    "If no start bound or stop bound are selected, all indexes will be selected and we will just get a copy of the str, list or other collection."
   ]
  },
  {
   "cell_type": "code",
   "execution_count": 365,
   "id": "noticed-calcium",
   "metadata": {},
   "outputs": [
    {
     "data": {
      "text/plain": [
       "'hello'"
      ]
     },
     "execution_count": 365,
     "metadata": {},
     "output_type": "execute_result"
    }
   ],
   "source": [
    "'hello'[:]"
   ]
  },
  {
   "cell_type": "markdown",
   "id": "undefined-sister",
   "metadata": {},
   "source": [
    "The number before 0 is -1 and this in Python corresponds to the last index. The negative index can be calculated by taking the positive index and substracting the len of the str or list."
   ]
  },
  {
   "cell_type": "code",
   "execution_count": 366,
   "id": "built-principle",
   "metadata": {},
   "outputs": [
    {
     "name": "stdout",
     "output_type": "stream",
     "text": [
      "0 -5 h\n",
      "1 -4 e\n",
      "2 -3 l\n",
      "3 -2 l\n",
      "4 -1 o\n"
     ]
    }
   ],
   "source": [
    "for idx,let in enumerate('hello'):\n",
    "    print(idx,idx-len('hello'),let)"
   ]
  },
  {
   "cell_type": "code",
   "execution_count": 367,
   "id": "sudden-charles",
   "metadata": {},
   "outputs": [
    {
     "data": {
      "text/plain": [
       "'l'"
      ]
     },
     "execution_count": 367,
     "metadata": {},
     "output_type": "execute_result"
    }
   ],
   "source": [
    "'hello'[3]"
   ]
  },
  {
   "cell_type": "code",
   "execution_count": 368,
   "id": "proud-trance",
   "metadata": {},
   "outputs": [
    {
     "data": {
      "text/plain": [
       "'l'"
      ]
     },
     "execution_count": 368,
     "metadata": {},
     "output_type": "execute_result"
    }
   ],
   "source": [
    "'hello'[-2]"
   ]
  },
  {
   "cell_type": "markdown",
   "id": "apart-biography",
   "metadata": {},
   "source": [
    "We have seen that we can index with a colon using the form."
   ]
  },
  {
   "cell_type": "markdown",
   "id": "identical-mechanics",
   "metadata": {},
   "source": [
    "```'string'[start:stop]```"
   ]
  },
  {
   "cell_type": "markdown",
   "id": "laden-campus",
   "metadata": {},
   "source": [
    "An additional colon can be placed to indicate a step."
   ]
  },
  {
   "cell_type": "markdown",
   "id": "activated-angola",
   "metadata": {},
   "source": [
    "```'string'[start:stop:step]```"
   ]
  },
  {
   "cell_type": "markdown",
   "id": "athletic-election",
   "metadata": {},
   "source": [
    "If we create the following string containing each letter of the word hello in upper and then lower case."
   ]
  },
  {
   "cell_type": "code",
   "execution_count": 369,
   "id": "hindu-separate",
   "metadata": {},
   "outputs": [],
   "source": [
    "string='HhEeLlLlOo'"
   ]
  },
  {
   "cell_type": "markdown",
   "id": "statutory-football",
   "metadata": {},
   "source": [
    "We can select every capital letter by usign a step size of 2."
   ]
  },
  {
   "cell_type": "code",
   "execution_count": 370,
   "id": "varied-rouge",
   "metadata": {},
   "outputs": [
    {
     "data": {
      "text/plain": [
       "'HELLO'"
      ]
     },
     "execution_count": 370,
     "metadata": {},
     "output_type": "execute_result"
    }
   ],
   "source": [
    "string[0:len(string):2]"
   ]
  },
  {
   "cell_type": "markdown",
   "id": "understood-polymer",
   "metadata": {},
   "source": [
    "Because we are using a start value of 0 and a stop value that is the length of the string, we can omitt these."
   ]
  },
  {
   "cell_type": "code",
   "execution_count": 371,
   "id": "eleven-acquisition",
   "metadata": {},
   "outputs": [
    {
     "data": {
      "text/plain": [
       "'HELLO'"
      ]
     },
     "execution_count": 371,
     "metadata": {},
     "output_type": "execute_result"
    }
   ],
   "source": [
    "string[::2]"
   ]
  },
  {
   "cell_type": "markdown",
   "id": "favorite-plymouth",
   "metadata": {},
   "source": [
    "If we instead wanted the lower case we would instead start at 1."
   ]
  },
  {
   "cell_type": "code",
   "execution_count": 372,
   "id": "raised-mauritius",
   "metadata": {},
   "outputs": [
    {
     "data": {
      "text/plain": [
       "'hello'"
      ]
     },
     "execution_count": 372,
     "metadata": {},
     "output_type": "execute_result"
    }
   ],
   "source": [
    "string[1:len(string):2]"
   ]
  },
  {
   "cell_type": "markdown",
   "id": "fatal-emergency",
   "metadata": {},
   "source": [
    "Since the stop value is the length of the string we could also use."
   ]
  },
  {
   "cell_type": "code",
   "execution_count": 373,
   "id": "alternate-track",
   "metadata": {},
   "outputs": [
    {
     "data": {
      "text/plain": [
       "'hello'"
      ]
     },
     "execution_count": 373,
     "metadata": {},
     "output_type": "execute_result"
    }
   ],
   "source": [
    "string[1::2]"
   ]
  },
  {
   "cell_type": "markdown",
   "id": "south-empire",
   "metadata": {},
   "source": [
    "We can also use negative indexes. If we want the string in reverse, we could take every negative second value."
   ]
  },
  {
   "cell_type": "code",
   "execution_count": 374,
   "id": "sunset-category",
   "metadata": {},
   "outputs": [
    {
     "data": {
      "text/plain": [
       "'olleh'"
      ]
     },
     "execution_count": 374,
     "metadata": {},
     "output_type": "execute_result"
    }
   ],
   "source": [
    "string[-1:-len(string)-1:-2]"
   ]
  },
  {
   "cell_type": "markdown",
   "id": "prime-guitar",
   "metadata": {},
   "source": [
    "When a negative step is selected the start value takes a default of -1 if not specified and the stop value takes a default of -len(string)-1 if not specified. Recall once again the the start bound is inclusive and the upper bound is exclusive."
   ]
  },
  {
   "cell_type": "code",
   "execution_count": 375,
   "id": "interested-colleague",
   "metadata": {},
   "outputs": [
    {
     "data": {
      "text/plain": [
       "'olleh'"
      ]
     },
     "execution_count": 375,
     "metadata": {},
     "output_type": "execute_result"
    }
   ],
   "source": [
    "string[::-2]"
   ]
  },
  {
   "cell_type": "code",
   "execution_count": 376,
   "id": "incident-sleeve",
   "metadata": {},
   "outputs": [
    {
     "data": {
      "text/plain": [
       "'OLLEH'"
      ]
     },
     "execution_count": 376,
     "metadata": {},
     "output_type": "execute_result"
    }
   ],
   "source": [
    "string[-2:-len(string)-1:-2]"
   ]
  },
  {
   "cell_type": "markdown",
   "id": "blessed-diagram",
   "metadata": {},
   "source": [
    "### The Dictionary Collection (dict)"
   ]
  },
  {
   "cell_type": "markdown",
   "id": "waiting-allergy",
   "metadata": {},
   "source": [
    "Another collection is the dictionary collection. A dictionary has the form of a regular dictionary where there is a key (keyword) and value (definition). For example the dictionary below."
   ]
  },
  {
   "cell_type": "markdown",
   "id": "blank-failing",
   "metadata": {},
   "source": [
    "|key|value|\n",
    "|---|---|\n",
    "|python|a programming language|\n",
    "|numpy|the numeric python library|\n",
    "|pandas|the python and data analysis library|\n",
    "|matplotlib|the python plotting library|"
   ]
  },
  {
   "cell_type": "markdown",
   "id": "returning-ensemble",
   "metadata": {},
   "source": [
    "A dictionary is quite commonly used in a programming language when it comes to assigning settings. Each setting has one name and multiple possible values. A user configuration will have one value set for each setting."
   ]
  },
  {
   "cell_type": "markdown",
   "id": "robust-water",
   "metadata": {},
   "source": [
    "![windows10settings](windows10settings.png)"
   ]
  },
  {
   "cell_type": "markdown",
   "id": "awful-satisfaction",
   "metadata": {},
   "source": [
    "In Windows 10 the registry for example can just be thought of as a large dictionary."
   ]
  },
  {
   "cell_type": "markdown",
   "id": "beginning-cylinder",
   "metadata": {},
   "source": [
    "![windows10settings2](windows10settings2.png)"
   ]
  },
  {
   "cell_type": "markdown",
   "id": "julian-village",
   "metadata": {},
   "source": [
    "The setting highlighted above for example uses the registry value AppsUseLightTheme (which can be thought of as the key) and the data for it is 1 (this is the value and in this case is a Boolean which can be True or False)."
   ]
  },
  {
   "cell_type": "markdown",
   "id": "stylish-endorsement",
   "metadata": {},
   "source": [
    "Dictionaries are commonly used when it comes to using functions which rename multiple items. In such cases the keys are normally the old names and the values are normally the new names."
   ]
  },
  {
   "cell_type": "markdown",
   "id": "independent-hopkins",
   "metadata": {},
   "source": [
    "A dictionary uses curly brackets opposed to square brackets. We can create an empty dictionary using."
   ]
  },
  {
   "cell_type": "code",
   "execution_count": 377,
   "id": "departmental-control",
   "metadata": {},
   "outputs": [],
   "source": [
    "pythonterms={}"
   ]
  },
  {
   "cell_type": "code",
   "execution_count": 378,
   "id": "worthy-device",
   "metadata": {},
   "outputs": [
    {
     "data": {
      "text/plain": [
       "{}"
      ]
     },
     "execution_count": 378,
     "metadata": {},
     "output_type": "execute_result"
    }
   ],
   "source": [
    "pythonterms"
   ]
  },
  {
   "cell_type": "markdown",
   "id": "sufficient-audio",
   "metadata": {},
   "source": [
    "Alternatively we can instantiate a dictionary using the dict class directly. If we type in dict followed by a tab ↹ and shift ⇧ we get the docstring for the init signature which gives details about the positional input argument and mentions key-value pairs."
   ]
  },
  {
   "cell_type": "markdown",
   "id": "italic-rates",
   "metadata": {},
   "source": [
    "![dict_init_signature](dict_init_signature.png)"
   ]
  },
  {
   "cell_type": "code",
   "execution_count": 379,
   "id": "headed-castle",
   "metadata": {},
   "outputs": [],
   "source": [
    "pythonterms=dict()"
   ]
  },
  {
   "cell_type": "code",
   "execution_count": 380,
   "id": "reduced-tracker",
   "metadata": {},
   "outputs": [
    {
     "data": {
      "text/plain": [
       "{}"
      ]
     },
     "execution_count": 380,
     "metadata": {},
     "output_type": "execute_result"
    }
   ],
   "source": [
    "pythonterms"
   ]
  },
  {
   "cell_type": "markdown",
   "id": "saving-steps",
   "metadata": {},
   "source": [
    "When we type in the dict name followed by a dot . and a tab ↹ we see a number of list methods and attributes."
   ]
  },
  {
   "cell_type": "markdown",
   "id": "exclusive-teens",
   "metadata": {},
   "source": [
    "![dict_methods_attributes](dict_methods_attributes.png)"
   ]
  },
  {
   "cell_type": "markdown",
   "id": "perfect-collins",
   "metadata": {},
   "source": [
    "We see that there are the methods keys and values outlining the data structure of the dictionary. "
   ]
  },
  {
   "cell_type": "markdown",
   "id": "coupled-activity",
   "metadata": {},
   "source": [
    "Items have to be added in key value pairs. The colon is used to seperate the key from its corresponding value. Each key is unique but two keys can have the same value. In this case both the key and the value are of he type str."
   ]
  },
  {
   "cell_type": "code",
   "execution_count": 381,
   "id": "thrown-wonder",
   "metadata": {},
   "outputs": [],
   "source": [
    "pythonterms={'python':'a programming language'}"
   ]
  },
  {
   "cell_type": "code",
   "execution_count": 382,
   "id": "allied-price",
   "metadata": {},
   "outputs": [
    {
     "data": {
      "text/plain": [
       "{'python': 'a programming language'}"
      ]
     },
     "execution_count": 382,
     "metadata": {},
     "output_type": "execute_result"
    }
   ],
   "source": [
    "pythonterms"
   ]
  },
  {
   "cell_type": "markdown",
   "id": "patent-luther",
   "metadata": {},
   "source": [
    "A dictionary can be indexed int using squarebrackets. It does not have a numeric index and the key is used to index."
   ]
  },
  {
   "cell_type": "code",
   "execution_count": 383,
   "id": "printable-logistics",
   "metadata": {},
   "outputs": [
    {
     "data": {
      "text/plain": [
       "'a programming language'"
      ]
     },
     "execution_count": 383,
     "metadata": {},
     "output_type": "execute_result"
    }
   ],
   "source": [
    "pythonterms['python']"
   ]
  },
  {
   "cell_type": "markdown",
   "id": "textile-niagara",
   "metadata": {},
   "source": [
    "When explictly instantating using the dict class, the key is input as a keyword input argument. Because it is input as a keyword input argument it is not enclosed in quotations. Quotations are automatically added to the key if it is text."
   ]
  },
  {
   "cell_type": "code",
   "execution_count": 384,
   "id": "hindu-impact",
   "metadata": {},
   "outputs": [],
   "source": [
    "pythonterms=dict(python='a programming language')"
   ]
  },
  {
   "cell_type": "code",
   "execution_count": 385,
   "id": "molecular-imagination",
   "metadata": {},
   "outputs": [
    {
     "data": {
      "text/plain": [
       "{'python': 'a programming language'}"
      ]
     },
     "execution_count": 385,
     "metadata": {},
     "output_type": "execute_result"
    }
   ],
   "source": [
    "pythonterms"
   ]
  },
  {
   "cell_type": "markdown",
   "id": "traditional-annex",
   "metadata": {},
   "source": [
    "A new key:value pair can be added by indexing into the dictonary with a new key and assigning it to the value."
   ]
  },
  {
   "cell_type": "code",
   "execution_count": 386,
   "id": "coral-snowboard",
   "metadata": {},
   "outputs": [],
   "source": [
    "pythonterms['numpy']='the numeric python library'"
   ]
  },
  {
   "cell_type": "code",
   "execution_count": 387,
   "id": "gentle-leather",
   "metadata": {},
   "outputs": [
    {
     "data": {
      "text/plain": [
       "{'python': 'a programming language', 'numpy': 'the numeric python library'}"
      ]
     },
     "execution_count": 387,
     "metadata": {},
     "output_type": "execute_result"
    }
   ],
   "source": [
    "pythonterms"
   ]
  },
  {
   "cell_type": "markdown",
   "id": "regional-gossip",
   "metadata": {},
   "source": [
    "When the dictionary is created with the braces it can be done on one line or similar to a list, it can be split over multiple lines by pressing enter ↵ after the comma , delimiter."
   ]
  },
  {
   "cell_type": "code",
   "execution_count": 388,
   "id": "composite-expression",
   "metadata": {},
   "outputs": [],
   "source": [
    "pythonterms={'python':'a programming language','numpy':'the numeric python library','pandas':'the python and data analysis library','matplotlib':'the python plotting library'}"
   ]
  },
  {
   "cell_type": "code",
   "execution_count": 389,
   "id": "congressional-hayes",
   "metadata": {},
   "outputs": [
    {
     "data": {
      "text/plain": [
       "{'python': 'a programming language',\n",
       " 'numpy': 'the numeric python library',\n",
       " 'pandas': 'the python and data analysis library',\n",
       " 'matplotlib': 'the python plotting library'}"
      ]
     },
     "execution_count": 389,
     "metadata": {},
     "output_type": "execute_result"
    }
   ],
   "source": [
    "pythonterms"
   ]
  },
  {
   "cell_type": "code",
   "execution_count": 390,
   "id": "fancy-danish",
   "metadata": {},
   "outputs": [],
   "source": [
    "pythonterms={'python':'a programming language',\n",
    "             'numpy':'the numeric python library',\n",
    "             'pandas':'the python and data analysis library',\n",
    "             'matplotlib':'the python plotting library'}"
   ]
  },
  {
   "cell_type": "code",
   "execution_count": 391,
   "id": "caring-reserve",
   "metadata": {},
   "outputs": [
    {
     "data": {
      "text/plain": [
       "{'python': 'a programming language',\n",
       " 'numpy': 'the numeric python library',\n",
       " 'pandas': 'the python and data analysis library',\n",
       " 'matplotlib': 'the python plotting library'}"
      ]
     },
     "execution_count": 391,
     "metadata": {},
     "output_type": "execute_result"
    }
   ],
   "source": [
    "pythonterms"
   ]
  },
  {
   "cell_type": "code",
   "execution_count": 392,
   "id": "every-concentrate",
   "metadata": {},
   "outputs": [],
   "source": [
    "pythonterms=dict(python='a programming language',numpy='the numeric python library',pandas='the python and data analysis library',matplotlib='the python plotting library')"
   ]
  },
  {
   "cell_type": "code",
   "execution_count": 393,
   "id": "supreme-symposium",
   "metadata": {},
   "outputs": [
    {
     "data": {
      "text/plain": [
       "{'python': 'a programming language',\n",
       " 'numpy': 'the numeric python library',\n",
       " 'pandas': 'the python and data analysis library',\n",
       " 'matplotlib': 'the python plotting library'}"
      ]
     },
     "execution_count": 393,
     "metadata": {},
     "output_type": "execute_result"
    }
   ],
   "source": [
    "pythonterms"
   ]
  },
  {
   "cell_type": "markdown",
   "id": "developing-tennis",
   "metadata": {},
   "source": [
    "Now that the dictionary is populated we can look at the methods keys and values."
   ]
  },
  {
   "cell_type": "code",
   "execution_count": 394,
   "id": "adult-idaho",
   "metadata": {},
   "outputs": [
    {
     "data": {
      "text/plain": [
       "dict_keys(['python', 'numpy', 'pandas', 'matplotlib'])"
      ]
     },
     "execution_count": 394,
     "metadata": {},
     "output_type": "execute_result"
    }
   ],
   "source": [
    "pythonterms.keys()"
   ]
  },
  {
   "cell_type": "code",
   "execution_count": 395,
   "id": "upset-recipe",
   "metadata": {},
   "outputs": [
    {
     "data": {
      "text/plain": [
       "dict_values(['a programming language', 'the numeric python library', 'the python and data analysis library', 'the python plotting library'])"
      ]
     },
     "execution_count": 395,
     "metadata": {},
     "output_type": "execute_result"
    }
   ],
   "source": [
    "pythonterms.values()"
   ]
  },
  {
   "cell_type": "markdown",
   "id": "monetary-significance",
   "metadata": {},
   "source": [
    "We see that both of these are list like. "
   ]
  },
  {
   "cell_type": "markdown",
   "id": "proprietary-powell",
   "metadata": {},
   "source": [
    "A dictionary can be constructe by zipping two lists together."
   ]
  },
  {
   "cell_type": "code",
   "execution_count": 396,
   "id": "electrical-completion",
   "metadata": {},
   "outputs": [],
   "source": [
    "key_colors=['r','g','b']\n",
    "key_values=['red','green','blue']"
   ]
  },
  {
   "cell_type": "code",
   "execution_count": 397,
   "id": "changing-professor",
   "metadata": {},
   "outputs": [],
   "source": [
    "cmap=dict(zip(key_colors,key_values))"
   ]
  },
  {
   "cell_type": "code",
   "execution_count": 398,
   "id": "typical-antarctica",
   "metadata": {},
   "outputs": [
    {
     "data": {
      "text/plain": [
       "{'r': 'red', 'g': 'green', 'b': 'blue'}"
      ]
     },
     "execution_count": 398,
     "metadata": {},
     "output_type": "execute_result"
    }
   ],
   "source": [
    "cmap"
   ]
  },
  {
   "cell_type": "markdown",
   "id": "integral-shame",
   "metadata": {},
   "source": [
    "### Mutability"
   ]
  },
  {
   "cell_type": "markdown",
   "id": "comprehensive-broadway",
   "metadata": {},
   "source": [
    "Let's create the following list."
   ]
  },
  {
   "cell_type": "code",
   "execution_count": 399,
   "id": "cosmetic-australian",
   "metadata": {},
   "outputs": [],
   "source": [
    "shop=['apples',\n",
    "      'bananas',\n",
    "      'grapes',\n",
    "      'oranges',\n",
    "      'pears']"
   ]
  },
  {
   "cell_type": "code",
   "execution_count": 400,
   "id": "found-winning",
   "metadata": {},
   "outputs": [
    {
     "data": {
      "text/plain": [
       "['apples', 'bananas', 'grapes', 'oranges', 'pears']"
      ]
     },
     "execution_count": 400,
     "metadata": {},
     "output_type": "execute_result"
    }
   ],
   "source": [
    "shop"
   ]
  },
  {
   "cell_type": "markdown",
   "id": "wanted-female",
   "metadata": {},
   "source": [
    "Now let us attempt to create a copy."
   ]
  },
  {
   "cell_type": "code",
   "execution_count": 401,
   "id": "technological-impact",
   "metadata": {},
   "outputs": [],
   "source": [
    "shop2=shop"
   ]
  },
  {
   "cell_type": "code",
   "execution_count": 402,
   "id": "related-russian",
   "metadata": {},
   "outputs": [
    {
     "data": {
      "text/plain": [
       "['apples', 'bananas', 'grapes', 'oranges', 'pears']"
      ]
     },
     "execution_count": 402,
     "metadata": {},
     "output_type": "execute_result"
    }
   ],
   "source": [
    "shop2"
   ]
  },
  {
   "cell_type": "markdown",
   "id": "harmful-stations",
   "metadata": {},
   "source": [
    "Now let us modify the list shop2 for example by appending an item."
   ]
  },
  {
   "cell_type": "code",
   "execution_count": 403,
   "id": "auburn-margin",
   "metadata": {},
   "outputs": [],
   "source": [
    "shop2.append('kiwi')"
   ]
  },
  {
   "cell_type": "code",
   "execution_count": 404,
   "id": "governing-alexandria",
   "metadata": {},
   "outputs": [
    {
     "data": {
      "text/plain": [
       "['apples', 'bananas', 'grapes', 'oranges', 'pears', 'kiwi']"
      ]
     },
     "execution_count": 404,
     "metadata": {},
     "output_type": "execute_result"
    }
   ],
   "source": [
    "shop2"
   ]
  },
  {
   "cell_type": "markdown",
   "id": "supreme-broadcast",
   "metadata": {},
   "source": [
    "If we check the value of shop we see that it has also been updated."
   ]
  },
  {
   "cell_type": "code",
   "execution_count": 405,
   "id": "isolated-selection",
   "metadata": {},
   "outputs": [
    {
     "data": {
      "text/plain": [
       "['apples', 'bananas', 'grapes', 'oranges', 'pears', 'kiwi']"
      ]
     },
     "execution_count": 405,
     "metadata": {},
     "output_type": "execute_result"
    }
   ],
   "source": [
    "shop"
   ]
  },
  {
   "cell_type": "markdown",
   "id": "adapted-contrary",
   "metadata": {},
   "source": [
    "This is because the line shop2=shop does not create a copy but instead creats an alias. i.e. shop2 and shop are both object names for the same list."
   ]
  },
  {
   "cell_type": "code",
   "execution_count": 406,
   "id": "suspended-sandwich",
   "metadata": {},
   "outputs": [],
   "source": [
    "shop=['apples',\n",
    "      'bananas',\n",
    "      'grapes',\n",
    "      'oranges',\n",
    "      'pears']"
   ]
  },
  {
   "cell_type": "markdown",
   "id": "knowing-suicide",
   "metadata": {},
   "source": [
    "Instead we should use the method copy or alternatively index using square brakcets and a colon."
   ]
  },
  {
   "cell_type": "code",
   "execution_count": 407,
   "id": "violent-arbor",
   "metadata": {},
   "outputs": [],
   "source": [
    "shop2=shop.copy()"
   ]
  },
  {
   "cell_type": "code",
   "execution_count": 408,
   "id": "studied-cargo",
   "metadata": {},
   "outputs": [],
   "source": [
    "shop3=shop2[:]"
   ]
  },
  {
   "cell_type": "code",
   "execution_count": 409,
   "id": "genetic-biology",
   "metadata": {},
   "outputs": [],
   "source": [
    "shop2.append('kiwi')"
   ]
  },
  {
   "cell_type": "markdown",
   "id": "recognized-professor",
   "metadata": {},
   "source": [
    "Now we see that both shop1 and shop3 are not updated when shop2 is updated."
   ]
  },
  {
   "cell_type": "code",
   "execution_count": 410,
   "id": "conceptual-victorian",
   "metadata": {},
   "outputs": [
    {
     "data": {
      "text/plain": [
       "['apples', 'bananas', 'grapes', 'oranges', 'pears']"
      ]
     },
     "execution_count": 410,
     "metadata": {},
     "output_type": "execute_result"
    }
   ],
   "source": [
    "shop"
   ]
  },
  {
   "cell_type": "code",
   "execution_count": 411,
   "id": "bacterial-label",
   "metadata": {},
   "outputs": [
    {
     "data": {
      "text/plain": [
       "['apples', 'bananas', 'grapes', 'oranges', 'pears', 'kiwi']"
      ]
     },
     "execution_count": 411,
     "metadata": {},
     "output_type": "execute_result"
    }
   ],
   "source": [
    "shop2"
   ]
  },
  {
   "cell_type": "code",
   "execution_count": 412,
   "id": "limiting-experience",
   "metadata": {},
   "outputs": [
    {
     "data": {
      "text/plain": [
       "['apples', 'bananas', 'grapes', 'oranges', 'pears']"
      ]
     },
     "execution_count": 412,
     "metadata": {},
     "output_type": "execute_result"
    }
   ],
   "source": [
    "shop3"
   ]
  },
  {
   "cell_type": "markdown",
   "id": "buried-debut",
   "metadata": {},
   "source": [
    "Mutability allows great flexibility when it comes to working with lists however at the same time we also need to be careful that we don't mutate a list by mistake."
   ]
  },
  {
   "cell_type": "markdown",
   "id": "tested-tennessee",
   "metadata": {},
   "source": [
    "### The Tuple Collection (tuple)"
   ]
  },
  {
   "cell_type": "markdown",
   "id": "liberal-camping",
   "metadata": {},
   "source": [
    "A tuple is essentially a list that is immutable. There are two main advantages in using a tuple over a list. First a tuple is far less likely to be altered by accident and secondly it is faster to access because it is immutable."
   ]
  },
  {
   "cell_type": "markdown",
   "id": "reduced-definition",
   "metadata": {},
   "source": [
    "It has the same form as a list but uses brackets ( ) opposed to square brackets \\[ \\]. Let's create an empty tuple."
   ]
  },
  {
   "cell_type": "code",
   "execution_count": 413,
   "id": "optical-escape",
   "metadata": {},
   "outputs": [],
   "source": [
    "shop_t=()"
   ]
  },
  {
   "cell_type": "markdown",
   "id": "dutch-carter",
   "metadata": {},
   "source": [
    "Note to get a single element we need to include a comma , delimiter so the ( ) isn't taken as parenthesis."
   ]
  },
  {
   "cell_type": "code",
   "execution_count": 414,
   "id": "brazilian-cambodia",
   "metadata": {},
   "outputs": [],
   "source": [
    "shop_t=('apples',)"
   ]
  },
  {
   "cell_type": "code",
   "execution_count": 415,
   "id": "numerous-bahamas",
   "metadata": {},
   "outputs": [
    {
     "data": {
      "text/plain": [
       "('apples',)"
      ]
     },
     "execution_count": 415,
     "metadata": {},
     "output_type": "execute_result"
    }
   ],
   "source": [
    "shop_t"
   ]
  },
  {
   "cell_type": "code",
   "execution_count": 416,
   "id": "innocent-detail",
   "metadata": {},
   "outputs": [],
   "source": [
    "shop_t=('apples')"
   ]
  },
  {
   "cell_type": "code",
   "execution_count": 417,
   "id": "excessive-float",
   "metadata": {},
   "outputs": [
    {
     "data": {
      "text/plain": [
       "'apples'"
      ]
     },
     "execution_count": 417,
     "metadata": {},
     "output_type": "execute_result"
    }
   ],
   "source": [
    "shop_t"
   ]
  },
  {
   "cell_type": "code",
   "execution_count": 418,
   "id": "banned-penny",
   "metadata": {},
   "outputs": [],
   "source": [
    "shop_t=('apples', 'bananas', 'grapes', 'oranges', 'pears')"
   ]
  },
  {
   "cell_type": "markdown",
   "id": "hungarian-pulse",
   "metadata": {},
   "source": [
    "Alternatively we can instantiate a tuple using the tuple class directly. If we type in tuple followed by a tab ↹ and shift ⇧ we get the list init statement docstring which outlines details about the positional input argument which we see are iterable. We see the form is more or less identical to that of a list."
   ]
  },
  {
   "cell_type": "markdown",
   "id": "contained-harris",
   "metadata": {},
   "source": [
    "![tuple_init_signature](tuple_init_signature.png)"
   ]
  },
  {
   "cell_type": "code",
   "execution_count": 419,
   "id": "threaded-tunisia",
   "metadata": {},
   "outputs": [],
   "source": [
    "shop_t=tuple(('apples', 'bananas', 'grapes', 'oranges', 'pears'))"
   ]
  },
  {
   "cell_type": "code",
   "execution_count": 420,
   "id": "judicial-syndication",
   "metadata": {},
   "outputs": [
    {
     "data": {
      "text/plain": [
       "('apples', 'bananas', 'grapes', 'oranges', 'pears')"
      ]
     },
     "execution_count": 420,
     "metadata": {},
     "output_type": "execute_result"
    }
   ],
   "source": [
    "shop_t"
   ]
  },
  {
   "cell_type": "markdown",
   "id": "copyrighted-image",
   "metadata": {},
   "source": [
    "The list and tuple classes may be used to quickly convert a list to a tuple and vice versa."
   ]
  },
  {
   "cell_type": "code",
   "execution_count": 421,
   "id": "decimal-retro",
   "metadata": {},
   "outputs": [],
   "source": [
    "shop_l=list(shop_t)"
   ]
  },
  {
   "cell_type": "code",
   "execution_count": 422,
   "id": "early-construction",
   "metadata": {},
   "outputs": [
    {
     "data": {
      "text/plain": [
       "['apples', 'bananas', 'grapes', 'oranges', 'pears']"
      ]
     },
     "execution_count": 422,
     "metadata": {},
     "output_type": "execute_result"
    }
   ],
   "source": [
    "shop_l"
   ]
  },
  {
   "cell_type": "markdown",
   "id": "impossible-track",
   "metadata": {},
   "source": [
    "Because a tuple is immutable, there are only a limited number of methods ailable which can be accessed by typing in the tuples name followed by a dot . and a tab ↹."
   ]
  },
  {
   "cell_type": "markdown",
   "id": "promising-policy",
   "metadata": {},
   "source": [
    "![tuple_methods_attributes](tuple_methods_attributes.png)"
   ]
  },
  {
   "cell_type": "markdown",
   "id": "bottom-conflict",
   "metadata": {},
   "source": [
    "We see that the list in comparson has many more methods availale."
   ]
  },
  {
   "cell_type": "markdown",
   "id": "interpreted-glossary",
   "metadata": {},
   "source": [
    "![list2_methods_attributes](list2_methods_attributes.png)"
   ]
  },
  {
   "cell_type": "markdown",
   "id": "close-enhancement",
   "metadata": {},
   "source": [
    "The tuple and list method count has a single positional input argument value. This will return the number of indexes which share the value. "
   ]
  },
  {
   "cell_type": "markdown",
   "id": "floral-killing",
   "metadata": {},
   "source": [
    "![tuple_method_count](tuple_method_count.png)"
   ]
  },
  {
   "cell_type": "markdown",
   "id": "textile-venice",
   "metadata": {},
   "source": [
    "For example we check the number fo times 'apples' occur in each collection which is just 1."
   ]
  },
  {
   "cell_type": "code",
   "execution_count": 423,
   "id": "marked-tokyo",
   "metadata": {},
   "outputs": [
    {
     "data": {
      "text/plain": [
       "1"
      ]
     },
     "execution_count": 423,
     "metadata": {},
     "output_type": "execute_result"
    }
   ],
   "source": [
    "shop_t.count('apples')"
   ]
  },
  {
   "cell_type": "code",
   "execution_count": 424,
   "id": "about-cinema",
   "metadata": {},
   "outputs": [
    {
     "data": {
      "text/plain": [
       "1"
      ]
     },
     "execution_count": 424,
     "metadata": {},
     "output_type": "execute_result"
    }
   ],
   "source": [
    "shop_l.count('apples')"
   ]
  },
  {
   "cell_type": "markdown",
   "id": "spanish-tuning",
   "metadata": {},
   "source": [
    "If we have type in the method function followed by a tab ↹ and shift ⇧ we'll get details about the positional input arguments. The 0th positional input argument is the value to find. The 1st and 2nd positional input argument start and stop are optional and specify an index range which we can search over. These are documented to look like keyword input arguemnts but unfortunately do not work in this manner."
   ]
  },
  {
   "cell_type": "markdown",
   "id": "prerequisite-corrections",
   "metadata": {},
   "source": [
    "![tuple_method_index](tuple_method_index.png)"
   ]
  },
  {
   "cell_type": "code",
   "execution_count": 425,
   "id": "compatible-protection",
   "metadata": {},
   "outputs": [
    {
     "data": {
      "text/plain": [
       "0"
      ]
     },
     "execution_count": 425,
     "metadata": {},
     "output_type": "execute_result"
    }
   ],
   "source": [
    "shop_t.index('apples')"
   ]
  },
  {
   "cell_type": "code",
   "execution_count": 426,
   "id": "charming-harrison",
   "metadata": {},
   "outputs": [
    {
     "data": {
      "text/plain": [
       "0"
      ]
     },
     "execution_count": 426,
     "metadata": {},
     "output_type": "execute_result"
    }
   ],
   "source": [
    "shop_l.index('apples')"
   ]
  },
  {
   "cell_type": "markdown",
   "id": "mobile-classic",
   "metadata": {},
   "source": [
    "Let's concatenate another list to shop_1 and reassign the output to shop_l."
   ]
  },
  {
   "cell_type": "code",
   "execution_count": 427,
   "id": "aggressive-destruction",
   "metadata": {},
   "outputs": [],
   "source": [
    "shop_l=shop_l+['apples','oranges']"
   ]
  },
  {
   "cell_type": "code",
   "execution_count": 428,
   "id": "becoming-convenience",
   "metadata": {},
   "outputs": [
    {
     "data": {
      "text/plain": [
       "['apples', 'bananas', 'grapes', 'oranges', 'pears', 'apples', 'oranges']"
      ]
     },
     "execution_count": 428,
     "metadata": {},
     "output_type": "execute_result"
    }
   ],
   "source": [
    "shop_l"
   ]
  },
  {
   "cell_type": "markdown",
   "id": "educated-reason",
   "metadata": {},
   "source": [
    "Now if we count the number of occurances of 'apples' we get a value of 2."
   ]
  },
  {
   "cell_type": "code",
   "execution_count": 429,
   "id": "respiratory-honolulu",
   "metadata": {},
   "outputs": [
    {
     "data": {
      "text/plain": [
       "2"
      ]
     },
     "execution_count": 429,
     "metadata": {},
     "output_type": "execute_result"
    }
   ],
   "source": [
    "shop_l.count('apples')"
   ]
  },
  {
   "cell_type": "markdown",
   "id": "assisted-andorra",
   "metadata": {},
   "source": [
    "The method index only returns the initial index of the value found i.e. index 0."
   ]
  },
  {
   "cell_type": "code",
   "execution_count": 430,
   "id": "sustained-israel",
   "metadata": {},
   "outputs": [
    {
     "data": {
      "text/plain": [
       "0"
      ]
     },
     "execution_count": 430,
     "metadata": {},
     "output_type": "execute_result"
    }
   ],
   "source": [
    "shop_l.index('apples')"
   ]
  },
  {
   "cell_type": "markdown",
   "id": "nominated-theory",
   "metadata": {},
   "source": [
    "start and stop unfortunately do not work as keyword input arguments."
   ]
  },
  {
   "cell_type": "markdown",
   "id": "convinced-brazilian",
   "metadata": {},
   "source": [
    "```idx1=shop_1.index('apples',start=1)```"
   ]
  },
  {
   "cell_type": "markdown",
   "id": "conventional-official",
   "metadata": {},
   "source": [
    "![tuple_method_index_TypeError](tuple_method_index_TypeError.png)"
   ]
  },
  {
   "cell_type": "markdown",
   "id": "funny-prospect",
   "metadata": {},
   "source": [
    "The initial index within the range 1 upwards is found, in this case 5."
   ]
  },
  {
   "cell_type": "code",
   "execution_count": 431,
   "id": "brown-recorder",
   "metadata": {},
   "outputs": [
    {
     "data": {
      "text/plain": [
       "5"
      ]
     },
     "execution_count": 431,
     "metadata": {},
     "output_type": "execute_result"
    }
   ],
   "source": [
    "shop_l.index('apples',1)"
   ]
  },
  {
   "cell_type": "markdown",
   "id": "desperate-metabolism",
   "metadata": {},
   "source": [
    "If the value is not found in the range selected a ValueError will display."
   ]
  },
  {
   "cell_type": "markdown",
   "id": "sensitive-sewing",
   "metadata": {},
   "source": [
    "```shop_1.index('apples',6)```"
   ]
  },
  {
   "cell_type": "markdown",
   "id": "worth-disposition",
   "metadata": {},
   "source": [
    "![tuple_method_index_ValueError](tuple_method_index_ValueError.png)"
   ]
  },
  {
   "cell_type": "markdown",
   "id": "mechanical-baptist",
   "metadata": {},
   "source": [
    "To prevent this ValueError from halting the Kernel a try and except branch can be used. To get all the indexes that have the value 'Apples' a while loop can be used."
   ]
  },
  {
   "cell_type": "code",
   "execution_count": 432,
   "id": "progressive-intensity",
   "metadata": {},
   "outputs": [
    {
     "data": {
      "text/plain": [
       "[0, 5]"
      ]
     },
     "execution_count": 432,
     "metadata": {},
     "output_type": "execute_result"
    }
   ],
   "source": [
    "i=0\n",
    "idx=[]\n",
    "while i<len(shop_l):\n",
    "    try:\n",
    "        idx=idx+[shop_l.index('apples',i)]\n",
    "        i=shop_l.index('apples',i)+1\n",
    "    except ValueError:\n",
    "        break\n",
    "idx"
   ]
  },
  {
   "cell_type": "markdown",
   "id": "alone-software",
   "metadata": {},
   "source": [
    "### Tuple Unpacking"
   ]
  },
  {
   "cell_type": "markdown",
   "id": "serious-classic",
   "metadata": {},
   "source": [
    "We looked previously at defining and using custom functions. We seen that we can have multiple input arguments but only a single return statement. It is possible to use the return statement to return a collection of values such as a tuple. For example we can create this basic function plusminus which returns a lower and upper bound."
   ]
  },
  {
   "cell_type": "code",
   "execution_count": 433,
   "id": "generous-attendance",
   "metadata": {},
   "outputs": [],
   "source": [
    "def plusminus(value=0,error=1):\n",
    "    lower=value-error\n",
    "    upper=value+error\n",
    "    return((lower,upper))"
   ]
  },
  {
   "cell_type": "markdown",
   "id": "editorial-method",
   "metadata": {},
   "source": [
    "When we use it we get a tuple."
   ]
  },
  {
   "cell_type": "code",
   "execution_count": 434,
   "id": "vertical-gasoline",
   "metadata": {},
   "outputs": [
    {
     "data": {
      "text/plain": [
       "(8, 12)"
      ]
     },
     "execution_count": 434,
     "metadata": {},
     "output_type": "execute_result"
    }
   ],
   "source": [
    "plusminus(value=10,error=2)"
   ]
  },
  {
   "cell_type": "markdown",
   "id": "tough-sheffield",
   "metadata": {},
   "source": [
    "Alternatively we can assign the output to an object name."
   ]
  },
  {
   "cell_type": "code",
   "execution_count": 435,
   "id": "minor-soccer",
   "metadata": {},
   "outputs": [],
   "source": [
    "pm=plusminus(value=10,error=2)"
   ]
  },
  {
   "cell_type": "markdown",
   "id": "damaged-thong",
   "metadata": {},
   "source": [
    "The object is a tuple."
   ]
  },
  {
   "cell_type": "code",
   "execution_count": 436,
   "id": "assumed-cause",
   "metadata": {},
   "outputs": [
    {
     "data": {
      "text/plain": [
       "(8, 12)"
      ]
     },
     "execution_count": 436,
     "metadata": {},
     "output_type": "execute_result"
    }
   ],
   "source": [
    "pm"
   ]
  },
  {
   "cell_type": "code",
   "execution_count": 437,
   "id": "worst-block",
   "metadata": {},
   "outputs": [
    {
     "data": {
      "text/plain": [
       "tuple"
      ]
     },
     "execution_count": 437,
     "metadata": {},
     "output_type": "execute_result"
    }
   ],
   "source": [
    "type(pm)"
   ]
  },
  {
   "cell_type": "markdown",
   "id": "prompt-laundry",
   "metadata": {},
   "source": [
    "Since we know the tuple has an index of 0 and an index of 1 we can assign the output of the function to two output arguments."
   ]
  },
  {
   "cell_type": "code",
   "execution_count": 438,
   "id": "focal-stable",
   "metadata": {},
   "outputs": [],
   "source": [
    "(m,p)=plusminus(value=10,error=2)"
   ]
  },
  {
   "cell_type": "code",
   "execution_count": 439,
   "id": "strong-bulletin",
   "metadata": {},
   "outputs": [
    {
     "data": {
      "text/plain": [
       "8"
      ]
     },
     "execution_count": 439,
     "metadata": {},
     "output_type": "execute_result"
    }
   ],
   "source": [
    "m"
   ]
  },
  {
   "cell_type": "code",
   "execution_count": 440,
   "id": "coastal-roberts",
   "metadata": {},
   "outputs": [
    {
     "data": {
      "text/plain": [
       "int"
      ]
     },
     "execution_count": 440,
     "metadata": {},
     "output_type": "execute_result"
    }
   ],
   "source": [
    "type(m)"
   ]
  },
  {
   "cell_type": "code",
   "execution_count": 441,
   "id": "manual-mozambique",
   "metadata": {},
   "outputs": [
    {
     "data": {
      "text/plain": [
       "12"
      ]
     },
     "execution_count": 441,
     "metadata": {},
     "output_type": "execute_result"
    }
   ],
   "source": [
    "p"
   ]
  },
  {
   "cell_type": "code",
   "execution_count": 442,
   "id": "suited-latter",
   "metadata": {},
   "outputs": [
    {
     "data": {
      "text/plain": [
       "int"
      ]
     },
     "execution_count": 442,
     "metadata": {},
     "output_type": "execute_result"
    }
   ],
   "source": [
    "type(p)"
   ]
  },
  {
   "cell_type": "markdown",
   "id": "hybrid-belief",
   "metadata": {},
   "source": [
    "The code above can be simplified by removing parenthesis."
   ]
  },
  {
   "cell_type": "code",
   "execution_count": 443,
   "id": "norwegian-biology",
   "metadata": {},
   "outputs": [],
   "source": [
    "def plusminus(value=0,error=1):\n",
    "    lower=value-error\n",
    "    upper=value+error\n",
    "    return(lower,upper)"
   ]
  },
  {
   "cell_type": "code",
   "execution_count": 444,
   "id": "italian-material",
   "metadata": {},
   "outputs": [],
   "source": [
    "m,p=plusminus(value=10,error=2)"
   ]
  },
  {
   "cell_type": "code",
   "execution_count": 445,
   "id": "trained-brooklyn",
   "metadata": {},
   "outputs": [
    {
     "data": {
      "text/plain": [
       "8"
      ]
     },
     "execution_count": 445,
     "metadata": {},
     "output_type": "execute_result"
    }
   ],
   "source": [
    "m"
   ]
  },
  {
   "cell_type": "code",
   "execution_count": 446,
   "id": "strong-lloyd",
   "metadata": {},
   "outputs": [
    {
     "data": {
      "text/plain": [
       "12"
      ]
     },
     "execution_count": 446,
     "metadata": {},
     "output_type": "execute_result"
    }
   ],
   "source": [
    "p"
   ]
  },
  {
   "cell_type": "markdown",
   "id": "acknowledged-playing",
   "metadata": {},
   "source": [
    "We can of course alter the code above to assert that the keyword input arguments are int or float."
   ]
  },
  {
   "cell_type": "code",
   "execution_count": 447,
   "id": "egyptian-franklin",
   "metadata": {},
   "outputs": [],
   "source": [
    "def plusminus(value=0,error=1):\n",
    "    '''Will calculate a lower and upper bound for value±error'''\n",
    "    try:\n",
    "        assert ((type(value)==int or type(value)==float) and (type(error)==int or type(error)==float)), 'value and error must be numeric'\n",
    "        lower=value-error\n",
    "        upper=value+error\n",
    "        return(lower,upper)\n",
    "    except AssertionError:\n",
    "        print('value and error must be numeric (type int or str)')"
   ]
  },
  {
   "cell_type": "code",
   "execution_count": 448,
   "id": "advance-robinson",
   "metadata": {},
   "outputs": [
    {
     "name": "stdout",
     "output_type": "stream",
     "text": [
      "value and error must be numeric (type int or str)\n"
     ]
    }
   ],
   "source": [
    "plusminus(value='a',error=1)"
   ]
  },
  {
   "cell_type": "code",
   "execution_count": 449,
   "id": "liberal-sphere",
   "metadata": {},
   "outputs": [
    {
     "data": {
      "text/plain": [
       "(8, 12)"
      ]
     },
     "execution_count": 449,
     "metadata": {},
     "output_type": "execute_result"
    }
   ],
   "source": [
    "plusminus(value=10,error=2)"
   ]
  },
  {
   "cell_type": "markdown",
   "id": "technical-signal",
   "metadata": {},
   "source": [
    "### Nested Collections"
   ]
  },
  {
   "cell_type": "markdown",
   "id": "resistant-essay",
   "metadata": {},
   "source": [
    "So far we have looked at collections where all the items are of the same datatype. Collections such as lists and tuples are much more flexible and each item in a collection can be a different data type. For example."
   ]
  },
  {
   "cell_type": "code",
   "execution_count": 450,
   "id": "happy-pantyhose",
   "metadata": {},
   "outputs": [],
   "source": [
    "mixed=['a',1,1.5,True,complex(real=4,imag=-2)]"
   ]
  },
  {
   "cell_type": "code",
   "execution_count": 451,
   "id": "empirical-ministry",
   "metadata": {},
   "outputs": [
    {
     "name": "stdout",
     "output_type": "stream",
     "text": [
      "0 a <class 'str'>\n",
      "1 1 <class 'int'>\n",
      "2 1.5 <class 'float'>\n",
      "3 True <class 'bool'>\n",
      "4 (4-2j) <class 'complex'>\n"
     ]
    }
   ],
   "source": [
    "for idx,item in enumerate(mixed):\n",
    "    print(idx,item,type(item))"
   ]
  },
  {
   "cell_type": "markdown",
   "id": "heated-lease",
   "metadata": {},
   "source": [
    "It is also possible to nest another collection in a collection. For example a tuple and a list can each be elements within a list."
   ]
  },
  {
   "cell_type": "code",
   "execution_count": 452,
   "id": "color-bathroom",
   "metadata": {},
   "outputs": [],
   "source": [
    "mixed2=['b',2,2/5,True,complex(real=4,imag=-2),(2,-2),['apples',4,'oranges']]"
   ]
  },
  {
   "cell_type": "code",
   "execution_count": 453,
   "id": "moderate-services",
   "metadata": {},
   "outputs": [
    {
     "name": "stdout",
     "output_type": "stream",
     "text": [
      "0 b <class 'str'>\n",
      "1 2 <class 'int'>\n",
      "2 0.4 <class 'float'>\n",
      "3 True <class 'bool'>\n",
      "4 (4-2j) <class 'complex'>\n",
      "5 (2, -2) <class 'tuple'>\n",
      "6 ['apples', 4, 'oranges'] <class 'list'>\n"
     ]
    }
   ],
   "source": [
    "for idx,item in enumerate(mixed2):\n",
    "    print(idx,item,type(item))"
   ]
  },
  {
   "cell_type": "markdown",
   "id": "capital-policy",
   "metadata": {},
   "source": [
    "We can index into the list using square brackets and index 5 to get the tuple and then we can use an additional square brackets to select index 1 to get the 1st element in the tuple -2."
   ]
  },
  {
   "cell_type": "code",
   "execution_count": 454,
   "id": "general-enhancement",
   "metadata": {},
   "outputs": [
    {
     "data": {
      "text/plain": [
       "-2"
      ]
     },
     "execution_count": 454,
     "metadata": {},
     "output_type": "execute_result"
    }
   ],
   "source": [
    "mixed2[5][1]"
   ]
  },
  {
   "cell_type": "markdown",
   "id": "acting-rainbow",
   "metadata": {},
   "source": [
    "Let's create two lists."
   ]
  },
  {
   "cell_type": "code",
   "execution_count": 455,
   "id": "neutral-turning",
   "metadata": {},
   "outputs": [],
   "source": [
    "l1=[0,1,2,3,4]\n",
    "l2=[5,6]"
   ]
  },
  {
   "cell_type": "markdown",
   "id": "million-vatican",
   "metadata": {},
   "source": [
    "Now let's look at the methods append and extend. If we type in both method names followed by a tab ↹ and shift ⇧ we get details about the input arguments. At first glance the two methods may appear to do the same thing."
   ]
  },
  {
   "cell_type": "markdown",
   "id": "excessive-panel",
   "metadata": {},
   "source": [
    "![list_method_append](list_method_append.png)"
   ]
  },
  {
   "cell_type": "markdown",
   "id": "recreational-spank",
   "metadata": {},
   "source": [
    "![list_method_extend](list_method_extend.png)"
   ]
  },
  {
   "cell_type": "markdown",
   "id": "honest-departure",
   "metadata": {},
   "source": [
    "However when we use append we see that the entire l2 is appended at the end of l1 as a nested list."
   ]
  },
  {
   "cell_type": "code",
   "execution_count": 456,
   "id": "martial-infrared",
   "metadata": {},
   "outputs": [],
   "source": [
    "l1.append(l2)"
   ]
  },
  {
   "cell_type": "markdown",
   "id": "russian-dictionary",
   "metadata": {},
   "source": [
    "Note the method append shows no output and mutates the original list l1."
   ]
  },
  {
   "cell_type": "code",
   "execution_count": 457,
   "id": "random-classic",
   "metadata": {},
   "outputs": [
    {
     "data": {
      "text/plain": [
       "[0, 1, 2, 3, 4, [5, 6]]"
      ]
     },
     "execution_count": 457,
     "metadata": {},
     "output_type": "execute_result"
    }
   ],
   "source": [
    "l1"
   ]
  },
  {
   "cell_type": "markdown",
   "id": "sustainable-serve",
   "metadata": {},
   "source": [
    "Reassigning l1 and l2."
   ]
  },
  {
   "cell_type": "code",
   "execution_count": 458,
   "id": "public-marine",
   "metadata": {},
   "outputs": [],
   "source": [
    "l1=[0,1,2,3,4]\n",
    "l2=[5,6]"
   ]
  },
  {
   "cell_type": "markdown",
   "id": "worldwide-command",
   "metadata": {},
   "source": [
    "And now using the list method extend instead, extends l1 using all the elements in l2."
   ]
  },
  {
   "cell_type": "code",
   "execution_count": 459,
   "id": "ready-picture",
   "metadata": {},
   "outputs": [],
   "source": [
    "l1.extend(l2)"
   ]
  },
  {
   "cell_type": "code",
   "execution_count": 460,
   "id": "documentary-values",
   "metadata": {},
   "outputs": [
    {
     "data": {
      "text/plain": [
       "[0, 1, 2, 3, 4, 5, 6]"
      ]
     },
     "execution_count": 460,
     "metadata": {},
     "output_type": "execute_result"
    }
   ],
   "source": [
    "l1"
   ]
  },
  {
   "cell_type": "code",
   "execution_count": 461,
   "id": "listed-karma",
   "metadata": {},
   "outputs": [],
   "source": [
    "l1=[0,1,2,3,4]\n",
    "l2=[5,6]"
   ]
  },
  {
   "cell_type": "markdown",
   "id": "parallel-mouse",
   "metadata": {},
   "source": [
    "The list method insert works in a similar manner to append. If we type in the method followed by a tab ↹ and shift ⇧ we see there are two positional input arguments. An index has to be selected to place the inserted list. All existing values at this index or later are shifted one along."
   ]
  },
  {
   "cell_type": "markdown",
   "id": "eleven-tokyo",
   "metadata": {},
   "source": [
    "![list_method_insert](list_method_insert.png)"
   ]
  },
  {
   "cell_type": "code",
   "execution_count": 462,
   "id": "agreed-replica",
   "metadata": {},
   "outputs": [],
   "source": [
    "l1.insert(2,l2)"
   ]
  },
  {
   "cell_type": "markdown",
   "id": "patient-consultation",
   "metadata": {},
   "source": [
    "This method also mutates the list l1 and there is no output."
   ]
  },
  {
   "cell_type": "code",
   "execution_count": 463,
   "id": "hungarian-truth",
   "metadata": {},
   "outputs": [
    {
     "data": {
      "text/plain": [
       "[0, 1, [5, 6], 2, 3, 4]"
      ]
     },
     "execution_count": 463,
     "metadata": {},
     "output_type": "execute_result"
    }
   ],
   "source": [
    "l1"
   ]
  },
  {
   "cell_type": "markdown",
   "id": "wanted-copying",
   "metadata": {},
   "source": [
    "The list method remove will remove the first occurance of a value using the value as an input argument. If we type in the method followed by a tab ↹ and shift ⇧ we see there is a single positional input argument value."
   ]
  },
  {
   "cell_type": "markdown",
   "id": "conditional-conviction",
   "metadata": {},
   "source": [
    "![list_method_remove](list_method_remove.png)"
   ]
  },
  {
   "cell_type": "code",
   "execution_count": 464,
   "id": "increasing-oracle",
   "metadata": {},
   "outputs": [],
   "source": [
    "l1.remove(1)"
   ]
  },
  {
   "cell_type": "markdown",
   "id": "lonely-headline",
   "metadata": {},
   "source": [
    "This method also mutates the list l1 and there is no output."
   ]
  },
  {
   "cell_type": "code",
   "execution_count": 465,
   "id": "bottom-alloy",
   "metadata": {},
   "outputs": [
    {
     "data": {
      "text/plain": [
       "[0, [5, 6], 2, 3, 4]"
      ]
     },
     "execution_count": 465,
     "metadata": {},
     "output_type": "execute_result"
    }
   ],
   "source": [
    "l1"
   ]
  },
  {
   "cell_type": "markdown",
   "id": "lonely-replication",
   "metadata": {},
   "source": [
    "The list method pop removes a value using the index as a keyword input argument. If we type in the method followed by a tab ↹ and shift ⇧ we see there is a positional input argument index and it is set to -1 which is the last index. "
   ]
  },
  {
   "cell_type": "markdown",
   "id": "sublime-sight",
   "metadata": {},
   "source": [
    "![list_method_pop](list_method_pop.png)"
   ]
  },
  {
   "cell_type": "code",
   "execution_count": 466,
   "id": "tested-transaction",
   "metadata": {},
   "outputs": [
    {
     "data": {
      "text/plain": [
       "[5, 6]"
      ]
     },
     "execution_count": 466,
     "metadata": {},
     "output_type": "execute_result"
    }
   ],
   "source": [
    "l1.pop(1)"
   ]
  },
  {
   "cell_type": "markdown",
   "id": "capital-brake",
   "metadata": {},
   "source": [
    "This method returns the index selected in this case the nested list \\[5,6\\] which was at index 1. This method mutates the list l1 removing the popped value from it."
   ]
  },
  {
   "cell_type": "code",
   "execution_count": 467,
   "id": "prescribed-chicago",
   "metadata": {},
   "outputs": [
    {
     "data": {
      "text/plain": [
       "[0, 2, 3, 4]"
      ]
     },
     "execution_count": 467,
     "metadata": {},
     "output_type": "execute_result"
    }
   ],
   "source": [
    "l1"
   ]
  },
  {
   "cell_type": "markdown",
   "id": "revised-thesaurus",
   "metadata": {},
   "source": [
    "If the index is not specified, the last value will be popped."
   ]
  },
  {
   "cell_type": "code",
   "execution_count": 468,
   "id": "silent-access",
   "metadata": {},
   "outputs": [
    {
     "data": {
      "text/plain": [
       "4"
      ]
     },
     "execution_count": 468,
     "metadata": {},
     "output_type": "execute_result"
    }
   ],
   "source": [
    "l1.pop()"
   ]
  },
  {
   "cell_type": "code",
   "execution_count": 469,
   "id": "committed-potter",
   "metadata": {},
   "outputs": [
    {
     "data": {
      "text/plain": [
       "[0, 2, 3]"
      ]
     },
     "execution_count": 469,
     "metadata": {},
     "output_type": "execute_result"
    }
   ],
   "source": [
    "l1"
   ]
  },
  {
   "cell_type": "markdown",
   "id": "accepted-harbor",
   "metadata": {},
   "source": [
    "index unfortunately does not work as a keyword input argument."
   ]
  },
  {
   "cell_type": "markdown",
   "id": "golden-creation",
   "metadata": {},
   "source": [
    "```l1.pop(index=1)```"
   ]
  },
  {
   "cell_type": "markdown",
   "id": "lesbian-assembly",
   "metadata": {},
   "source": [
    "![list_method_pop_TypeError](list_method_pop_TypeError.png)"
   ]
  },
  {
   "cell_type": "markdown",
   "id": "desirable-surname",
   "metadata": {},
   "source": [
    "The list method clear removes all values in a list returning an empty list. If we type in the method followed by a tab ↹ and shift ⇧ we see there are no input arguments."
   ]
  },
  {
   "cell_type": "markdown",
   "id": "facial-scout",
   "metadata": {},
   "source": [
    "![list_method_clear](list_method_clear.png)"
   ]
  },
  {
   "cell_type": "code",
   "execution_count": 470,
   "id": "turned-knowing",
   "metadata": {},
   "outputs": [],
   "source": [
    "l1.clear()"
   ]
  },
  {
   "cell_type": "markdown",
   "id": "acceptable-lodge",
   "metadata": {},
   "source": [
    "This method mutates the list l1 and there is no output."
   ]
  },
  {
   "cell_type": "code",
   "execution_count": 471,
   "id": "possible-portfolio",
   "metadata": {},
   "outputs": [
    {
     "data": {
      "text/plain": [
       "[]"
      ]
     },
     "execution_count": 471,
     "metadata": {},
     "output_type": "execute_result"
    }
   ],
   "source": [
    "l1"
   ]
  },
  {
   "cell_type": "markdown",
   "id": "junior-trustee",
   "metadata": {},
   "source": [
    "### \\*args and \\*\\*kwargs"
   ]
  },
  {
   "cell_type": "markdown",
   "id": "unlike-selling",
   "metadata": {},
   "source": [
    "If we look at the list init signature in more detail we'll notice that it doesn't have a specified number of positional input arguments."
   ]
  },
  {
   "cell_type": "markdown",
   "id": "frozen-flavor",
   "metadata": {},
   "source": [
    "![list_init_signature2](list_init_signature2.png)"
   ]
  },
  {
   "cell_type": "markdown",
   "id": "confidential-copying",
   "metadata": {},
   "source": [
    "To allow for multiple positional input arguments we can use \\*args. We can iterate through this using a for loop."
   ]
  },
  {
   "cell_type": "code",
   "execution_count": 472,
   "id": "shared-syracuse",
   "metadata": {},
   "outputs": [],
   "source": [
    "def varying_args(*args):\n",
    "    for value in args:\n",
    "        print(value)"
   ]
  },
  {
   "cell_type": "code",
   "execution_count": 473,
   "id": "compound-india",
   "metadata": {},
   "outputs": [
    {
     "name": "stdout",
     "output_type": "stream",
     "text": [
      "1\n"
     ]
    }
   ],
   "source": [
    "varying_args(1)"
   ]
  },
  {
   "cell_type": "code",
   "execution_count": 474,
   "id": "compliant-prize",
   "metadata": {},
   "outputs": [
    {
     "name": "stdout",
     "output_type": "stream",
     "text": [
      "1\n",
      "2\n"
     ]
    }
   ],
   "source": [
    "varying_args(1,2)"
   ]
  },
  {
   "cell_type": "code",
   "execution_count": 475,
   "id": "color-italic",
   "metadata": {},
   "outputs": [
    {
     "name": "stdout",
     "output_type": "stream",
     "text": [
      "1\n",
      "2\n",
      "3\n"
     ]
    }
   ],
   "source": [
    "varying_args(1,2,3)"
   ]
  },
  {
   "cell_type": "markdown",
   "id": "multiple-conclusion",
   "metadata": {},
   "source": [
    "Alternatively to allow for multiple keyword input arguments we can use \\*\\*kwargs. Iterating through this is the same as iterating through a dictionary."
   ]
  },
  {
   "cell_type": "code",
   "execution_count": 476,
   "id": "executed-mortality",
   "metadata": {},
   "outputs": [],
   "source": [
    "def varying_kwargs(**kwargs):\n",
    "    for key,value in kwargs.items():\n",
    "        print(key,value)"
   ]
  },
  {
   "cell_type": "code",
   "execution_count": 477,
   "id": "secondary-dressing",
   "metadata": {},
   "outputs": [
    {
     "name": "stdout",
     "output_type": "stream",
     "text": [
      "a 1\n",
      "b 2\n",
      "c 3\n"
     ]
    }
   ],
   "source": [
    "varying_kwargs(a=1,b=2,c=3)"
   ]
  },
  {
   "cell_type": "markdown",
   "id": "developed-chocolate",
   "metadata": {},
   "source": [
    "We could for example make a sum function."
   ]
  },
  {
   "cell_type": "code",
   "execution_count": 478,
   "id": "authentic-adapter",
   "metadata": {},
   "outputs": [],
   "source": [
    "def sum_args(*args):\n",
    "    sum_val=0\n",
    "    for val in args:\n",
    "        sum_val=sum_val+val\n",
    "    return(sum_val)"
   ]
  },
  {
   "cell_type": "code",
   "execution_count": 479,
   "id": "positive-recipe",
   "metadata": {},
   "outputs": [
    {
     "data": {
      "text/plain": [
       "1"
      ]
     },
     "execution_count": 479,
     "metadata": {},
     "output_type": "execute_result"
    }
   ],
   "source": [
    "sum_args(1)"
   ]
  },
  {
   "cell_type": "code",
   "execution_count": 480,
   "id": "turned-weight",
   "metadata": {},
   "outputs": [
    {
     "data": {
      "text/plain": [
       "3"
      ]
     },
     "execution_count": 480,
     "metadata": {},
     "output_type": "execute_result"
    }
   ],
   "source": [
    "sum_args(1,2)"
   ]
  },
  {
   "cell_type": "code",
   "execution_count": 481,
   "id": "relevant-spelling",
   "metadata": {},
   "outputs": [
    {
     "data": {
      "text/plain": [
       "6"
      ]
     },
     "execution_count": 481,
     "metadata": {},
     "output_type": "execute_result"
    }
   ],
   "source": [
    "sum_args(1,2,3)"
   ]
  },
  {
   "cell_type": "markdown",
   "id": "distinct-department",
   "metadata": {},
   "source": [
    "Because we haven't checked the types of input arguments we get the following error."
   ]
  },
  {
   "cell_type": "markdown",
   "id": "varying-edmonton",
   "metadata": {},
   "source": [
    "```sum_args(1,'a')```"
   ]
  },
  {
   "cell_type": "markdown",
   "id": "official-studio",
   "metadata": {},
   "source": [
    "![args_TypeError](args_TypeError.png)"
   ]
  },
  {
   "cell_type": "code",
   "execution_count": 482,
   "id": "modular-macro",
   "metadata": {},
   "outputs": [],
   "source": [
    "def sum_args(*args):\n",
    "    sum_val=0\n",
    "    for val in args:\n",
    "        try:\n",
    "            assert (type(val)==int or type(val)==float)\n",
    "            sum_val=sum_val+val\n",
    "        except AssertionError:\n",
    "            sum_val='NaN'\n",
    "            print('all input arguments must be int or float')\n",
    "            return(sum_val)\n",
    "    return(sum_val)"
   ]
  },
  {
   "cell_type": "code",
   "execution_count": 483,
   "id": "jewish-musical",
   "metadata": {},
   "outputs": [
    {
     "data": {
      "text/plain": [
       "1"
      ]
     },
     "execution_count": 483,
     "metadata": {},
     "output_type": "execute_result"
    }
   ],
   "source": [
    "sum_args(1)"
   ]
  },
  {
   "cell_type": "code",
   "execution_count": 484,
   "id": "baking-legislature",
   "metadata": {},
   "outputs": [
    {
     "data": {
      "text/plain": [
       "3"
      ]
     },
     "execution_count": 484,
     "metadata": {},
     "output_type": "execute_result"
    }
   ],
   "source": [
    "sum_args(1,2)"
   ]
  },
  {
   "cell_type": "code",
   "execution_count": 485,
   "id": "legal-timber",
   "metadata": {},
   "outputs": [
    {
     "data": {
      "text/plain": [
       "6"
      ]
     },
     "execution_count": 485,
     "metadata": {},
     "output_type": "execute_result"
    }
   ],
   "source": [
    "sum_args(1,2,3)"
   ]
  },
  {
   "cell_type": "code",
   "execution_count": 486,
   "id": "apart-forest",
   "metadata": {},
   "outputs": [
    {
     "name": "stdout",
     "output_type": "stream",
     "text": [
      "all input arguments must be int or float\n"
     ]
    },
    {
     "data": {
      "text/plain": [
       "'NaN'"
      ]
     },
     "execution_count": 486,
     "metadata": {},
     "output_type": "execute_result"
    }
   ],
   "source": [
    "sum_args(1,'a')"
   ]
  },
  {
   "cell_type": "markdown",
   "id": "finnish-enlargement",
   "metadata": {},
   "source": [
    "This behaviour is useful for the arange function (based upon the numpy arange function) but in this case creates a list opposed to a numpy array. We can count the number of input arguments being received and enact slightly different behaviour depending on the number of input arguments."
   ]
  },
  {
   "cell_type": "code",
   "execution_count": 487,
   "id": "committed-limitation",
   "metadata": {},
   "outputs": [],
   "source": [
    "def arange(*args):\n",
    "    '''\n",
    "    This function can take 1-3 input arguments.\n",
    "    1 input argument a. start=0, stop=a, step=1\n",
    "    2 input arguments a and b. start=a, stop=b, step=1\n",
    "    3 input arguments a, b and c. start=1, stop=b, step=c\n",
    "    '''\n",
    "    for val in args:\n",
    "        try:\n",
    "            assert (type(val)==int or type(val)==float)\n",
    "        except AssertionError:\n",
    "            data='NaN'\n",
    "            print('all input arguments must be int or float')\n",
    "            return(data)\n",
    "    if len(args)==0:\n",
    "        print('invalid number of user arguments')\n",
    "        data='NaN'\n",
    "        return(data)\n",
    "    elif len(args)==1:\n",
    "        start=0\n",
    "        stop=args[0]\n",
    "        step=1\n",
    "        data=[]\n",
    "        val=start\n",
    "        while val<stop:\n",
    "            data.append(val)\n",
    "            val+=1\n",
    "        return(data)\n",
    "    elif len(args)==2:\n",
    "        start=args[0]\n",
    "        stop=args[1]\n",
    "        step=1\n",
    "        data=[]\n",
    "        val=start\n",
    "        while val<stop:\n",
    "            data.append(val)\n",
    "            val+=1\n",
    "        return(data)\n",
    "    elif len(args)==3:\n",
    "        start=args[0]\n",
    "        stop=args[1]\n",
    "        step=args[2]\n",
    "        data=[]\n",
    "        val=start\n",
    "        if step>0:\n",
    "            while val<stop:\n",
    "                data.append(val)\n",
    "                val+=step\n",
    "            return(data)\n",
    "        else:\n",
    "            while val>stop:\n",
    "                data.append(val)\n",
    "                val+=step\n",
    "            return(data)\n",
    "    else:\n",
    "        print('invalid number of user arguments')\n",
    "        data='NaN'\n",
    "        return(data)"
   ]
  },
  {
   "cell_type": "markdown",
   "id": "proprietary-disclosure",
   "metadata": {},
   "source": [
    "We can type in the function arange followed by shift ⇧ and tab ↹ to view details about the input arguments."
   ]
  },
  {
   "cell_type": "markdown",
   "id": "peaceful-luther",
   "metadata": {},
   "source": [
    "![arange_custom_function](arange_custom_function.png)"
   ]
  },
  {
   "cell_type": "markdown",
   "id": "sticky-wagon",
   "metadata": {},
   "source": [
    "Now we can try to call it using the following scenarios."
   ]
  },
  {
   "cell_type": "code",
   "execution_count": 488,
   "id": "common-ordering",
   "metadata": {},
   "outputs": [
    {
     "name": "stdout",
     "output_type": "stream",
     "text": [
      "invalid number of user arguments\n"
     ]
    },
    {
     "data": {
      "text/plain": [
       "'NaN'"
      ]
     },
     "execution_count": 488,
     "metadata": {},
     "output_type": "execute_result"
    }
   ],
   "source": [
    "arange()"
   ]
  },
  {
   "cell_type": "code",
   "execution_count": 489,
   "id": "organic-chambers",
   "metadata": {},
   "outputs": [
    {
     "data": {
      "text/plain": [
       "[0, 1, 2, 3, 4]"
      ]
     },
     "execution_count": 489,
     "metadata": {},
     "output_type": "execute_result"
    }
   ],
   "source": [
    "arange(5)"
   ]
  },
  {
   "cell_type": "code",
   "execution_count": 490,
   "id": "accepted-spank",
   "metadata": {},
   "outputs": [
    {
     "data": {
      "text/plain": [
       "[1, 2, 3, 4]"
      ]
     },
     "execution_count": 490,
     "metadata": {},
     "output_type": "execute_result"
    }
   ],
   "source": [
    "arange(1,5)"
   ]
  },
  {
   "cell_type": "code",
   "execution_count": 491,
   "id": "waiting-charger",
   "metadata": {},
   "outputs": [
    {
     "data": {
      "text/plain": [
       "[1, 1.5, 2.0, 2.5, 3.0, 3.5, 4.0, 4.5]"
      ]
     },
     "execution_count": 491,
     "metadata": {},
     "output_type": "execute_result"
    }
   ],
   "source": [
    "arange(1,5,0.5)"
   ]
  },
  {
   "cell_type": "code",
   "execution_count": 492,
   "id": "retained-former",
   "metadata": {},
   "outputs": [
    {
     "name": "stdout",
     "output_type": "stream",
     "text": [
      "invalid number of user arguments\n"
     ]
    },
    {
     "data": {
      "text/plain": [
       "'NaN'"
      ]
     },
     "execution_count": 492,
     "metadata": {},
     "output_type": "execute_result"
    }
   ],
   "source": [
    "arange(1,5,1,1)"
   ]
  },
  {
   "cell_type": "code",
   "execution_count": 493,
   "id": "committed-choice",
   "metadata": {},
   "outputs": [
    {
     "name": "stdout",
     "output_type": "stream",
     "text": [
      "all input arguments must be int or float\n"
     ]
    },
    {
     "data": {
      "text/plain": [
       "'NaN'"
      ]
     },
     "execution_count": 493,
     "metadata": {},
     "output_type": "execute_result"
    }
   ],
   "source": [
    "arange('a',5,0.5)"
   ]
  },
  {
   "cell_type": "code",
   "execution_count": 494,
   "id": "bigger-border",
   "metadata": {},
   "outputs": [
    {
     "data": {
      "text/plain": [
       "[]"
      ]
     },
     "execution_count": 494,
     "metadata": {},
     "output_type": "execute_result"
    }
   ],
   "source": [
    "arange(1,5,-1)"
   ]
  },
  {
   "cell_type": "code",
   "execution_count": 495,
   "id": "automated-reducing",
   "metadata": {},
   "outputs": [
    {
     "data": {
      "text/plain": [
       "[5, 4, 3, 2]"
      ]
     },
     "execution_count": 495,
     "metadata": {},
     "output_type": "execute_result"
    }
   ],
   "source": [
    "arange(5,1,-1)"
   ]
  },
  {
   "cell_type": "markdown",
   "id": "sufficient-district",
   "metadata": {},
   "source": [
    "We may also use \\*args or \\*\\*kwargs to unpack a tuple or list to a series of input arguments or a dict to a series of keyword input arguments."
   ]
  },
  {
   "cell_type": "code",
   "execution_count": 496,
   "id": "multiple-radical",
   "metadata": {},
   "outputs": [],
   "source": [
    "def fun(a,b,c):\n",
    "    return(a+b+c)"
   ]
  },
  {
   "cell_type": "code",
   "execution_count": 497,
   "id": "brief-antenna",
   "metadata": {},
   "outputs": [],
   "source": [
    "l1=[1,2,3]"
   ]
  },
  {
   "cell_type": "code",
   "execution_count": 498,
   "id": "noted-beginning",
   "metadata": {},
   "outputs": [
    {
     "data": {
      "text/plain": [
       "6"
      ]
     },
     "execution_count": 498,
     "metadata": {},
     "output_type": "execute_result"
    }
   ],
   "source": [
    "fun(*l1)"
   ]
  },
  {
   "cell_type": "code",
   "execution_count": 499,
   "id": "needed-sharing",
   "metadata": {},
   "outputs": [],
   "source": [
    "def fun(a=0,b=0,c=0):\n",
    "    return(a+b+c)"
   ]
  },
  {
   "cell_type": "code",
   "execution_count": 500,
   "id": "marked-benjamin",
   "metadata": {},
   "outputs": [],
   "source": [
    "d1={'a':1,'b':2,'c':3}"
   ]
  },
  {
   "cell_type": "code",
   "execution_count": 501,
   "id": "chinese-northeast",
   "metadata": {},
   "outputs": [
    {
     "data": {
      "text/plain": [
       "6"
      ]
     },
     "execution_count": 501,
     "metadata": {},
     "output_type": "execute_result"
    }
   ],
   "source": [
    "fun(**d1)"
   ]
  }
 ],
 "metadata": {
  "kernelspec": {
   "display_name": "Python 3",
   "language": "python",
   "name": "python3"
  },
  "language_info": {
   "codemirror_mode": {
    "name": "ipython",
    "version": 3
   },
   "file_extension": ".py",
   "mimetype": "text/x-python",
   "name": "python",
   "nbconvert_exporter": "python",
   "pygments_lexer": "ipython3",
   "version": "3.8.5"
  }
 },
 "nbformat": 4,
 "nbformat_minor": 5
}
