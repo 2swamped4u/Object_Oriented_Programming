{
 "cells": [
  {
   "cell_type": "markdown",
   "id": "wanted-tribute",
   "metadata": {},
   "source": [
    "# Object Orientated Programming"
   ]
  },
  {
   "cell_type": "markdown",
   "id": "racial-shipping",
   "metadata": {},
   "source": [
    "This is a beginner guide exploring the concepts behind object orientated programming using the Python programming language. This can be viewed in the browser however the Interactive Python Notebook File can also be opened in JupyterLab. Instructions are given below for installing JupyterLab."
   ]
  },
  {
   "cell_type": "markdown",
   "id": "extreme-helen",
   "metadata": {},
   "source": [
    "## Installing Python, Anaconda and JupyterLab3"
   ]
  },
  {
   "cell_type": "markdown",
   "id": "fourth-rouge",
   "metadata": {},
   "source": [
    "It is recommended to install the Anaconda Python Distribution. The Anaconda Python Distribution contains the Python programming language, plus a number of Python libraries which are commonly used for data science (this particular guide will only look at the Python Programming language and won't delve into other libraries) and a number of Integrated Developer Environments (IDEs) which allow the user to interface with Python. The Spyder and JupyterLab IDEs are particularly good for begineers and geared towards data scientists. The JupyterLab IDE allows one to write code within a Notebook file which can contain code and markdown cells (test, Latex equations, links and pictures). This document is written in JupyterLab and this guide focuses on using JupyterLab."
   ]
  },
  {
   "cell_type": "markdown",
   "id": "binary-highland",
   "metadata": {},
   "source": [
    "Installation instructions are below and an installation video is available on YouTube."
   ]
  },
  {
   "cell_type": "markdown",
   "id": "olympic-expert",
   "metadata": {},
   "source": [
    "[Anaconda Installation Video (Windows 10)](https://www.youtube.com/watch?v=q8cMRt3w04Q)"
   ]
  },
  {
   "cell_type": "markdown",
   "id": "herbal-sally",
   "metadata": {},
   "source": [
    "### Installing Anaconda"
   ]
  },
  {
   "cell_type": "markdown",
   "id": "forty-incentive",
   "metadata": {},
   "source": [
    "__[Anaconda Individual Edition Download](https://www.anaconda.com/products/individual)__"
   ]
  },
  {
   "cell_type": "markdown",
   "id": "further-single",
   "metadata": {},
   "source": [
    "Select your Operating System and install the 64 Bit option. I will use Windows 10 as an example."
   ]
  },
  {
   "cell_type": "markdown",
   "id": "criminal-rates",
   "metadata": {},
   "source": [
    "![Anaconda_1](Anaconda_1.png)"
   ]
  },
  {
   "cell_type": "markdown",
   "id": "binary-tennessee",
   "metadata": {},
   "source": [
    "Once Anaconda is downloaded, launch the setup."
   ]
  },
  {
   "cell_type": "markdown",
   "id": "confident-scenario",
   "metadata": {},
   "source": [
    "![Anaconda_2](Anaconda_2.png)"
   ]
  },
  {
   "cell_type": "markdown",
   "id": "funky-floating",
   "metadata": {},
   "source": [
    "Select next."
   ]
  },
  {
   "cell_type": "markdown",
   "id": "viral-portland",
   "metadata": {},
   "source": [
    "![Anaconda_3](Anaconda_3.png)"
   ]
  },
  {
   "cell_type": "markdown",
   "id": "passing-empty",
   "metadata": {},
   "source": [
    "Read the End User Licence Agreement and select I Agree."
   ]
  },
  {
   "cell_type": "markdown",
   "id": "labeled-healthcare",
   "metadata": {},
   "source": [
    "![Anaconda_4](Anaconda_4.png)"
   ]
  },
  {
   "cell_type": "markdown",
   "id": "dependent-conjunction",
   "metadata": {},
   "source": [
    "![Anaconda_Launch](Anaconda_Launch.png)"
   ]
  },
  {
   "cell_type": "markdown",
   "id": "miniature-bibliography",
   "metadata": {},
   "source": [
    "Select Just Me and then Next."
   ]
  },
  {
   "cell_type": "markdown",
   "id": "brutal-florist",
   "metadata": {},
   "source": [
    "![Anaconda_5](Anaconda_5.png)"
   ]
  },
  {
   "cell_type": "markdown",
   "id": "dirty-italian",
   "metadata": {},
   "source": [
    "Anaconda will be installed by default within your User Directory. Select Next."
   ]
  },
  {
   "cell_type": "markdown",
   "id": "proprietary-disabled",
   "metadata": {},
   "source": [
    "![Anaconda_6](Anaconda_6.png)"
   ]
  },
  {
   "cell_type": "markdown",
   "id": "graduate-individual",
   "metadata": {},
   "source": [
    "It is recommended to use the default options. Select Install."
   ]
  },
  {
   "cell_type": "markdown",
   "id": "suitable-nashville",
   "metadata": {},
   "source": [
    "![Anaconda_7](Anaconda_7.png)"
   ]
  },
  {
   "cell_type": "markdown",
   "id": "auburn-cambridge",
   "metadata": {},
   "source": [
    "Select Next."
   ]
  },
  {
   "cell_type": "markdown",
   "id": "suffering-clinton",
   "metadata": {},
   "source": [
    "![Anaconda_8](Anaconda_8.png)"
   ]
  },
  {
   "cell_type": "markdown",
   "id": "anonymous-cleaning",
   "metadata": {},
   "source": [
    "Select Next."
   ]
  },
  {
   "cell_type": "markdown",
   "id": "structured-glory",
   "metadata": {},
   "source": [
    "![Anaconda_9](Anaconda_9.png)"
   ]
  },
  {
   "cell_type": "markdown",
   "id": "brown-change",
   "metadata": {},
   "source": [
    "Anaconda is installed. Now select Finish."
   ]
  },
  {
   "cell_type": "markdown",
   "id": "attached-wisconsin",
   "metadata": {},
   "source": [
    "![Anaconda_10](Anaconda_10.png)"
   ]
  },
  {
   "cell_type": "markdown",
   "id": "thrown-digest",
   "metadata": {},
   "source": [
    "### Updating Anaconda and JupyterLab"
   ]
  },
  {
   "cell_type": "markdown",
   "id": "introductory-party",
   "metadata": {},
   "source": [
    "There are likely updates for the Anaconda installation. You will need to update it by using the Anaconda Powershell Prompt."
   ]
  },
  {
   "cell_type": "markdown",
   "id": "inclusive-photographer",
   "metadata": {},
   "source": [
    "![JupyterLab_Install1](JupyterLab_Install1.png)"
   ]
  },
  {
   "cell_type": "markdown",
   "id": "processed-spectacular",
   "metadata": {},
   "source": [
    "Copy and paste the following line of code and then press ↵."
   ]
  },
  {
   "cell_type": "markdown",
   "id": "judicial-texas",
   "metadata": {},
   "source": [
    "```conda update anaconda```"
   ]
  },
  {
   "cell_type": "markdown",
   "id": "adapted-grammar",
   "metadata": {},
   "source": [
    "![anaconda_update1](anaconda_update1.png)"
   ]
  },
  {
   "cell_type": "markdown",
   "id": "subject-charleston",
   "metadata": {},
   "source": [
    "To proceed with the install type in."
   ]
  },
  {
   "cell_type": "markdown",
   "id": "diverse-antique",
   "metadata": {},
   "source": [
    "```y```"
   ]
  },
  {
   "cell_type": "markdown",
   "id": "known-yellow",
   "metadata": {},
   "source": [
    "Followed by ↵."
   ]
  },
  {
   "cell_type": "markdown",
   "id": "sized-joining",
   "metadata": {},
   "source": [
    "![anaconda_update2](anaconda_update2.png)"
   ]
  },
  {
   "cell_type": "markdown",
   "id": "visible-copying",
   "metadata": {},
   "source": [
    "When the ```(base) C:\\\\Users\\\\Yourname>``` displays the update is finished. The Anaconda installation should now be up to date."
   ]
  },
  {
   "cell_type": "markdown",
   "id": "boring-chemical",
   "metadata": {},
   "source": [
    "![anaconda_update3](anaconda_update3.png)"
   ]
  },
  {
   "cell_type": "markdown",
   "id": "criminal-relation",
   "metadata": {},
   "source": [
    "The version of JupyterLab included with the Anaconda distribution is version 2. To get the latest version of version 3, we need to install version 3 from the conda-forge channel. To do this type in."
   ]
  },
  {
   "cell_type": "markdown",
   "id": "provincial-keyboard",
   "metadata": {},
   "source": [
    "```conda install -c conda-forge jupyterlab=3```"
   ]
  },
  {
   "cell_type": "markdown",
   "id": "formed-muscle",
   "metadata": {},
   "source": [
    "![JupyterLab_Install2](JupyterLab_Install2.png)"
   ]
  },
  {
   "cell_type": "markdown",
   "id": "offshore-spray",
   "metadata": {},
   "source": [
    "To proceed with the install once again type in."
   ]
  },
  {
   "cell_type": "markdown",
   "id": "attractive-theta",
   "metadata": {},
   "source": [
    "```y```"
   ]
  },
  {
   "cell_type": "markdown",
   "id": "extreme-warrior",
   "metadata": {},
   "source": [
    "![JupyterLab_Install3](JupyterLab_Install3.png)"
   ]
  },
  {
   "cell_type": "markdown",
   "id": "guided-anthropology",
   "metadata": {},
   "source": [
    "JupyterLab should now be installed."
   ]
  },
  {
   "cell_type": "markdown",
   "id": "electrical-psychology",
   "metadata": {},
   "source": [
    "![JupyterLab_Install4](JupyterLab_Install4.png)"
   ]
  },
  {
   "cell_type": "markdown",
   "id": "political-graphics",
   "metadata": {},
   "source": [
    "Launch the Anaconda Navigator."
   ]
  },
  {
   "cell_type": "markdown",
   "id": "systematic-accreditation",
   "metadata": {},
   "source": [
    "![Anaconda_Launch](Anaconda_Launch.png)"
   ]
  },
  {
   "cell_type": "markdown",
   "id": "labeled-packing",
   "metadata": {},
   "source": [
    "### Launching JupyterLab"
   ]
  },
  {
   "cell_type": "markdown",
   "id": "elementary-clinic",
   "metadata": {},
   "source": [
    "From the Anaconda Navigator you can launch JupyterLab."
   ]
  },
  {
   "cell_type": "markdown",
   "id": "every-lucas",
   "metadata": {},
   "source": [
    "![JupyterLab_Launch1](JupyterLab_Launch1.png)"
   ]
  },
  {
   "cell_type": "markdown",
   "id": "advisory-bermuda",
   "metadata": {},
   "source": [
    "JupyterLab will now display within your browser. To the left hand side is a file explorer. To the right side is a launcher."
   ]
  },
  {
   "cell_type": "markdown",
   "id": "beginning-sapphire",
   "metadata": {},
   "source": [
    "![JupyterLab_Launch2](JupyterLab_Launch2.png)"
   ]
  },
  {
   "cell_type": "markdown",
   "id": "unusual-certification",
   "metadata": {},
   "source": [
    "### Downloading and Opening the Interactive Python Notebook (IPYNB) File from GitHub"
   ]
  },
  {
   "cell_type": "markdown",
   "id": "norman-monkey",
   "metadata": {},
   "source": [
    "The folder containing all embedded images and this JupyterLab Notebook should be downloaded as a zip file from GitHub and extracted to a folder of your desired location."
   ]
  },
  {
   "cell_type": "markdown",
   "id": "white-editing",
   "metadata": {},
   "source": [
    "__[GitHub Object Orientated Programming](https://github.com/PhilipYip1988/1-object-orientated-programming)__"
   ]
  },
  {
   "cell_type": "markdown",
   "id": "capital-montana",
   "metadata": {},
   "source": [
    "![GitHub](GitHub.png)"
   ]
  },
  {
   "cell_type": "markdown",
   "id": "retired-spain",
   "metadata": {},
   "source": [
    "Navigate to your extracted folder and open up objectorientatedprogramming.ipynb"
   ]
  },
  {
   "cell_type": "markdown",
   "id": "prostate-explorer",
   "metadata": {},
   "source": [
    "![OpenJupterLabNotebook](OpenJupterLabNotebook.png)"
   ]
  },
  {
   "cell_type": "markdown",
   "id": "ranking-river",
   "metadata": {},
   "source": [
    "Because it has a number of images embedded it will take a minute or so to load."
   ]
  },
  {
   "cell_type": "markdown",
   "id": "thirty-drink",
   "metadata": {},
   "source": [
    "![OpenJupterLabNotebook2](OpenJupterLabNotebook2.png)"
   ]
  },
  {
   "cell_type": "markdown",
   "id": "decreased-riverside",
   "metadata": {},
   "source": [
    "The notebook will display."
   ]
  },
  {
   "cell_type": "markdown",
   "id": "french-blogger",
   "metadata": {},
   "source": [
    "![OpenJupterLabNotebook3](OpenJupterLabNotebook3.png)"
   ]
  },
  {
   "cell_type": "markdown",
   "id": "declared-curtis",
   "metadata": {},
   "source": [
    "You can select Kernel and either Restart Kernel and Clear All Outputs (if you want to look at the Notebook cell by cell) or Restart Kernal and Run All Cells (if you want to quickly scroll through it)."
   ]
  },
  {
   "cell_type": "markdown",
   "id": "accurate-concentrate",
   "metadata": {},
   "source": [
    "![OpenJupterLabNotebook4](OpenJupterLabNotebook4.png)"
   ]
  },
  {
   "cell_type": "markdown",
   "id": "convenient-fields",
   "metadata": {},
   "source": [
    "To the left hand side you can select the Notebook bookmarks."
   ]
  },
  {
   "cell_type": "markdown",
   "id": "adjusted-lloyd",
   "metadata": {},
   "source": [
    "![OpenJupterLabNotebook5](OpenJupterLabNotebook5.png)"
   ]
  },
  {
   "cell_type": "markdown",
   "id": "greek-white",
   "metadata": {},
   "source": [
    "Now we will begin to explore the Python Language and Object Orientated Programming OOP. The contents of this JupyterLab notebook are covered in a YouTube Video."
   ]
  },
  {
   "cell_type": "markdown",
   "id": "polar-internship",
   "metadata": {},
   "source": [
    "[Python Programming and Object Orientated Programming using the JupyterLab IDE](https://www.youtube.com/watch?v=dIDOzqKcc04)"
   ]
  },
  {
   "cell_type": "markdown",
   "id": "toxic-immune",
   "metadata": {},
   "source": [
    "## Useful Shortcut Keys"
   ]
  },
  {
   "cell_type": "markdown",
   "id": "human-forty",
   "metadata": {},
   "source": [
    "```Esc```+```m``` converts the currently selected cell to a markdown cell."
   ]
  },
  {
   "cell_type": "markdown",
   "id": "secure-storage",
   "metadata": {},
   "source": [
    "```⇧```+```↵``` runs the currently highlighted cell."
   ]
  },
  {
   "cell_type": "markdown",
   "id": "driving-delight",
   "metadata": {},
   "source": [
    "```.``` and ```↹``` will look up the list of methods and attributes available to be called from an object."
   ]
  },
  {
   "cell_type": "markdown",
   "id": "geological-incidence",
   "metadata": {},
   "source": [
    "```⇧``` and ```↹``` will give details about the input arguments in a function, method or when initilizing a class."
   ]
  },
  {
   "cell_type": "markdown",
   "id": "former-contrary",
   "metadata": {},
   "source": [
    "## Numeric Variables"
   ]
  },
  {
   "cell_type": "markdown",
   "id": "fifteen-knitting",
   "metadata": {},
   "source": [
    "### Integer Numbers (int)"
   ]
  },
  {
   "cell_type": "markdown",
   "id": "shaped-conducting",
   "metadata": {},
   "source": [
    "Python recognises numeric integer values for example."
   ]
  },
  {
   "cell_type": "code",
   "execution_count": 1,
   "id": "seventh-insurance",
   "metadata": {},
   "outputs": [
    {
     "data": {
      "text/plain": [
       "1"
      ]
     },
     "execution_count": 1,
     "metadata": {},
     "output_type": "execute_result"
    }
   ],
   "source": [
    "1"
   ]
  },
  {
   "cell_type": "markdown",
   "id": "progressive-green",
   "metadata": {},
   "source": [
    "It also recognises numeric operators such as:\n",
    "* (```+``` add) which adds the 0th number (self) to the 1st number (other)\n",
    "* (```-``` sub) which takes the 0th number (self) and subtracts the 1st number (other)\n",
    "* (```*``` mul) which multiplies the 0th number (self) and the 1st number (other)\n",
    "* (```**``` pow) which gives the 0th number (self) to the power of the 1st number (other)"
   ]
  },
  {
   "cell_type": "code",
   "execution_count": 2,
   "id": "junior-family",
   "metadata": {},
   "outputs": [
    {
     "data": {
      "text/plain": [
       "3"
      ]
     },
     "execution_count": 2,
     "metadata": {},
     "output_type": "execute_result"
    }
   ],
   "source": [
    "1+2"
   ]
  },
  {
   "cell_type": "code",
   "execution_count": 3,
   "id": "contemporary-cookie",
   "metadata": {},
   "outputs": [
    {
     "data": {
      "text/plain": [
       "1"
      ]
     },
     "execution_count": 3,
     "metadata": {},
     "output_type": "execute_result"
    }
   ],
   "source": [
    "2-1"
   ]
  },
  {
   "cell_type": "code",
   "execution_count": 4,
   "id": "binding-makeup",
   "metadata": {},
   "outputs": [
    {
     "data": {
      "text/plain": [
       "4"
      ]
     },
     "execution_count": 4,
     "metadata": {},
     "output_type": "execute_result"
    }
   ],
   "source": [
    "2*2"
   ]
  },
  {
   "cell_type": "code",
   "execution_count": 5,
   "id": "manual-stack",
   "metadata": {},
   "outputs": [
    {
     "data": {
      "text/plain": [
       "8"
      ]
     },
     "execution_count": 5,
     "metadata": {},
     "output_type": "execute_result"
    }
   ],
   "source": [
    "2**3"
   ]
  },
  {
   "cell_type": "markdown",
   "id": "hybrid-space",
   "metadata": {},
   "source": [
    "All the numbers above are objects. Python is an object orientated programming language. The object type can be checked by use of the function type. If the function type is called without parenthesis the return statement will just tell us we have used the function type (which isn't so useful)."
   ]
  },
  {
   "cell_type": "code",
   "execution_count": 6,
   "id": "floral-court",
   "metadata": {},
   "outputs": [
    {
     "data": {
      "text/plain": [
       "type"
      ]
     },
     "execution_count": 6,
     "metadata": {},
     "output_type": "execute_result"
    }
   ],
   "source": [
    "type"
   ]
  },
  {
   "cell_type": "markdown",
   "id": "liked-drill",
   "metadata": {},
   "source": [
    "A function uses parenthesis to enclose its input arguments. Details about the input arguments can be quickly viewed in a popup balloon by pressing ```↹``` and ```⇧```. Alternatively the Docstring can be view in a cell output by pressing ```?``` followed by the functions name.\n",
    "\n",
    "In this case we see that there is a single positional input argument ```self``` (or ```object```)."
   ]
  },
  {
   "cell_type": "markdown",
   "id": "brilliant-salmon",
   "metadata": {},
   "source": [
    "![function_type](function_type.png)"
   ]
  },
  {
   "cell_type": "code",
   "execution_count": 7,
   "id": "fitted-enough",
   "metadata": {},
   "outputs": [
    {
     "data": {
      "text/plain": [
       "\u001b[1;31mInit signature:\u001b[0m  \u001b[0mtype\u001b[0m\u001b[1;33m(\u001b[0m\u001b[0mself\u001b[0m\u001b[1;33m,\u001b[0m \u001b[1;33m/\u001b[0m\u001b[1;33m,\u001b[0m \u001b[1;33m*\u001b[0m\u001b[0margs\u001b[0m\u001b[1;33m,\u001b[0m \u001b[1;33m**\u001b[0m\u001b[0mkwargs\u001b[0m\u001b[1;33m)\u001b[0m\u001b[1;33m\u001b[0m\u001b[1;33m\u001b[0m\u001b[0m\n",
       "\u001b[1;31mDocstring:\u001b[0m     \n",
       "type(object_or_name, bases, dict)\n",
       "type(object) -> the object's type\n",
       "type(name, bases, dict) -> a new type\n",
       "\u001b[1;31mType:\u001b[0m           type\n",
       "\u001b[1;31mSubclasses:\u001b[0m     ABCMeta, EnumMeta, _TemplateMetaclass, _ABC, MetaHasDescriptors, PyCStructType, UnionType, PyCPointerType, PyCArrayType, PyCSimpleType, ...\n"
      ]
     },
     "metadata": {},
     "output_type": "display_data"
    }
   ],
   "source": [
    "? type"
   ]
  },
  {
   "cell_type": "markdown",
   "id": "fatal-romantic",
   "metadata": {},
   "source": [
    "For example we can use the number 4 as the object."
   ]
  },
  {
   "cell_type": "code",
   "execution_count": 8,
   "id": "asian-briefing",
   "metadata": {},
   "outputs": [
    {
     "data": {
      "text/plain": [
       "int"
      ]
     },
     "execution_count": 8,
     "metadata": {},
     "output_type": "execute_result"
    }
   ],
   "source": [
    "type(4)"
   ]
  },
  {
   "cell_type": "markdown",
   "id": "hydraulic-aggregate",
   "metadata": {},
   "source": [
    "We see that the type returns ```int``` (an abbreviation for integer) meaning it corresponds to a whole number. "
   ]
  },
  {
   "cell_type": "markdown",
   "id": "stylish-report",
   "metadata": {},
   "source": [
    "We can use \n",
    "* (```//``` truediv) which takes the 0th number (self) and divides it by the 1st number (other) to return an integer. If the 0th number (self) does not divide fully by the 1st number (self) only a comple integer will be returned and there will be a bit left behind known as a remainder or modulo.\n",
    "* (```%``` mod) returns the modulo from the equivalent true divide."
   ]
  },
  {
   "cell_type": "markdown",
   "id": "stopped-mobility",
   "metadata": {},
   "source": [
    "4 true divided by 2 gives 2 complete integers and no modulo integer."
   ]
  },
  {
   "cell_type": "code",
   "execution_count": 9,
   "id": "proved-server",
   "metadata": {},
   "outputs": [
    {
     "data": {
      "text/plain": [
       "2"
      ]
     },
     "execution_count": 9,
     "metadata": {},
     "output_type": "execute_result"
    }
   ],
   "source": [
    "4//2"
   ]
  },
  {
   "cell_type": "code",
   "execution_count": 10,
   "id": "marked-price",
   "metadata": {},
   "outputs": [
    {
     "data": {
      "text/plain": [
       "0"
      ]
     },
     "execution_count": 10,
     "metadata": {},
     "output_type": "execute_result"
    }
   ],
   "source": [
    "4%2"
   ]
  },
  {
   "cell_type": "markdown",
   "id": "guilty-courage",
   "metadata": {},
   "source": [
    "5 integer divided by 2 gives 2 complete integers and a modulo integer of 1."
   ]
  },
  {
   "cell_type": "code",
   "execution_count": 11,
   "id": "capable-separate",
   "metadata": {},
   "outputs": [
    {
     "data": {
      "text/plain": [
       "2"
      ]
     },
     "execution_count": 11,
     "metadata": {},
     "output_type": "execute_result"
    }
   ],
   "source": [
    "5//2"
   ]
  },
  {
   "cell_type": "code",
   "execution_count": 12,
   "id": "handled-alignment",
   "metadata": {},
   "outputs": [
    {
     "data": {
      "text/plain": [
       "1"
      ]
     },
     "execution_count": 12,
     "metadata": {},
     "output_type": "execute_result"
    }
   ],
   "source": [
    "5%2"
   ]
  },
  {
   "cell_type": "markdown",
   "id": "thermal-mercury",
   "metadata": {},
   "source": [
    "In Python it is also possible to assign objects to object names. Object names should be in lower case letters without spaces or special characters. The underscore ```_``` can be used as part of the object name. Object names can contain numbers but can't begin with a number. For example let's create the object ```a``` and assign it to the value ```4```. In Python the ```=``` sign is known as the assignment operator."
   ]
  },
  {
   "cell_type": "code",
   "execution_count": 13,
   "id": "valid-table",
   "metadata": {},
   "outputs": [],
   "source": [
    "a=4"
   ]
  },
  {
   "cell_type": "markdown",
   "id": "monetary-behavior",
   "metadata": {},
   "source": [
    "The above means the object ```a``` is assigned to the value of ```4```."
   ]
  },
  {
   "cell_type": "markdown",
   "id": "loving-effectiveness",
   "metadata": {},
   "source": [
    "Note when we assign a value to an object name we do not see anything printed in the cell. We can see the value of an object by typing it directly in a cell."
   ]
  },
  {
   "cell_type": "code",
   "execution_count": 14,
   "id": "measured-solid",
   "metadata": {},
   "outputs": [
    {
     "data": {
      "text/plain": [
       "4"
      ]
     },
     "execution_count": 14,
     "metadata": {},
     "output_type": "execute_result"
    }
   ],
   "source": [
    "a"
   ]
  },
  {
   "cell_type": "markdown",
   "id": "complimentary-sender",
   "metadata": {},
   "source": [
    "We can also use the function print to print the value of an object to the cell output. Recall that to use a function we need to use parenthesis. Once again details about the input arguments can be quickly viewed in a popup balloon by pressing ```↹``` and ```⇧```. Alternatively the Docstring can be view in a cell output by pressing ```?``` followed by the functions name.\n",
    "\n",
    "In this case we see that there is a single positional input argument value followed by a ```...``` The ```...``` tells us that we can place multiple different values as positional input arguments. To seperate each value out we must use the ```,``` as a delimiter. There are additional keyword input arguments ```sep```, ```end```, ```file``` and ```flush``` which have a default value. This default value will be used when the keyword input argument is not specified. We will ignore these for now and come back to them later."
   ]
  },
  {
   "cell_type": "markdown",
   "id": "micro-begin",
   "metadata": {},
   "source": [
    "![function_print](function_print.png)"
   ]
  },
  {
   "cell_type": "code",
   "execution_count": 15,
   "id": "equipped-garden",
   "metadata": {},
   "outputs": [
    {
     "data": {
      "text/plain": [
       "\u001b[1;31mDocstring:\u001b[0m\n",
       "print(value, ..., sep=' ', end='\\n', file=sys.stdout, flush=False)\n",
       "\n",
       "Prints the values to a stream, or to sys.stdout by default.\n",
       "Optional keyword arguments:\n",
       "file:  a file-like object (stream); defaults to the current sys.stdout.\n",
       "sep:   string inserted between values, default a space.\n",
       "end:   string appended after the last value, default a newline.\n",
       "flush: whether to forcibly flush the stream.\n",
       "\u001b[1;31mType:\u001b[0m      builtin_function_or_method\n"
      ]
     },
     "metadata": {},
     "output_type": "display_data"
    }
   ],
   "source": [
    "? print"
   ]
  },
  {
   "cell_type": "markdown",
   "id": "obvious-therapist",
   "metadata": {},
   "source": [
    "This time our object has the name ```a```, so we will print the value of this object."
   ]
  },
  {
   "cell_type": "code",
   "execution_count": 16,
   "id": "cross-bottom",
   "metadata": {},
   "outputs": [
    {
     "name": "stdout",
     "output_type": "stream",
     "text": [
      "4\n"
     ]
    }
   ],
   "source": [
    "print(a)"
   ]
  },
  {
   "cell_type": "markdown",
   "id": "instrumental-street",
   "metadata": {},
   "source": [
    "As we seen above the object name ```a``` corresponds to a value of ```4```. The object name can be used in numeric calculations in place of the value ```4```."
   ]
  },
  {
   "cell_type": "code",
   "execution_count": 17,
   "id": "infectious-fairy",
   "metadata": {},
   "outputs": [
    {
     "data": {
      "text/plain": [
       "5"
      ]
     },
     "execution_count": 17,
     "metadata": {},
     "output_type": "execute_result"
    }
   ],
   "source": [
    "a+1"
   ]
  },
  {
   "cell_type": "markdown",
   "id": "fixed-grammar",
   "metadata": {},
   "source": [
    "When using the assignment operator ```=``` the object name must be on the left hand side of the assignment operator and the value assigned to the object name is on the right hand side."
   ]
  },
  {
   "cell_type": "markdown",
   "id": "incorrect-question",
   "metadata": {},
   "source": [
    "The following line will display the following error. Note that both the code and the image of the error are placed in a markdown cell to prevent the error from holding up the Python Kernel in the notebook. This will be done for later code that also flags up errors."
   ]
  },
  {
   "cell_type": "markdown",
   "id": "tracked-million",
   "metadata": {},
   "source": [
    "```2=b```"
   ]
  },
  {
   "cell_type": "markdown",
   "id": "hawaiian-portsmouth",
   "metadata": {},
   "source": [
    "![assignment_operator_error](assignment_operator_error.png)"
   ]
  },
  {
   "cell_type": "markdown",
   "id": "medium-appliance",
   "metadata": {},
   "source": [
    "The line ```2=b``` does not make sense to python. First of all python doesn't know the numeric value of the object ```b``` and second of all it does not make sense to update the value of the number ```2``` to anything else as this would mess up all subsequent numeric calculations."
   ]
  },
  {
   "cell_type": "markdown",
   "id": "proud-trial",
   "metadata": {},
   "source": [
    "When the assignment operator is used, the numeric operation on the right hand side is first calculated and the value of this numeric operation is assigned to the object name."
   ]
  },
  {
   "cell_type": "raw",
   "id": "instrumental-china",
   "metadata": {},
   "source": [
    "b=2+3"
   ]
  },
  {
   "cell_type": "markdown",
   "id": "charming-andorra",
   "metadata": {},
   "source": [
    "The value isn't displayed in the console, we can print it using the print statement."
   ]
  },
  {
   "cell_type": "code",
   "execution_count": 18,
   "id": "parallel-blink",
   "metadata": {},
   "outputs": [
    {
     "name": "stdout",
     "output_type": "stream",
     "text": [
      "5\n"
     ]
    }
   ],
   "source": [
    "b=2+3\n",
    "print(b)"
   ]
  },
  {
   "cell_type": "markdown",
   "id": "reverse-wyoming",
   "metadata": {},
   "source": [
    "Here we see the operation on the right hand side is completed first, the calculation ```2+3``` is performed giving the value ```5``` and this is assigned to the object name ```b```. "
   ]
  },
  {
   "cell_type": "markdown",
   "id": "ready-chambers",
   "metadata": {},
   "source": [
    "Python operators follow mathematical rules for precidence."
   ]
  },
  {
   "cell_type": "markdown",
   "id": "dirty-struggle",
   "metadata": {},
   "source": [
    "* ```( )```\n",
    "* ```**```\n",
    "* ```*```\n",
    "* ```//```\n",
    "* ```+```\n",
    "* ```-```\n"
   ]
  },
  {
   "cell_type": "markdown",
   "id": "ecological-cambodia",
   "metadata": {},
   "source": [
    "In the following statement the ```*``` operator takes precidence of ```+``` so we perform ```2*3``` to get ```6``` in the 0th step and then add ```5``` to this in the 1st step returning ```11```."
   ]
  },
  {
   "cell_type": "code",
   "execution_count": 19,
   "id": "present-vintage",
   "metadata": {},
   "outputs": [
    {
     "name": "stdout",
     "output_type": "stream",
     "text": [
      "11\n"
     ]
    }
   ],
   "source": [
    "b=5+2*3\n",
    "print(b)"
   ]
  },
  {
   "cell_type": "markdown",
   "id": "comparable-filter",
   "metadata": {},
   "source": [
    "With parenthesis added ```()``` the ```(5+2)``` takes precidence over the ```*``` so we get ```7``` in the 0th step and then multiply this by ```3``` in the 1st step returning ```21```."
   ]
  },
  {
   "cell_type": "code",
   "execution_count": 20,
   "id": "alpha-potato",
   "metadata": {},
   "outputs": [
    {
     "name": "stdout",
     "output_type": "stream",
     "text": [
      "21\n"
     ]
    }
   ],
   "source": [
    "b=(5+2)*3\n",
    "print(b)"
   ]
  },
  {
   "cell_type": "markdown",
   "id": "thick-monthly",
   "metadata": {},
   "source": [
    "In Python it is quite common to reassign an object name. For example, the object name ```a``` was previously assigned a value of ```4```. "
   ]
  },
  {
   "cell_type": "code",
   "execution_count": 21,
   "id": "sharing-indianapolis",
   "metadata": {},
   "outputs": [
    {
     "name": "stdout",
     "output_type": "stream",
     "text": [
      "4\n"
     ]
    }
   ],
   "source": [
    "print(a)"
   ]
  },
  {
   "cell_type": "markdown",
   "id": "transsexual-milton",
   "metadata": {},
   "source": [
    "Now it can be reassigned a value of ```3```. "
   ]
  },
  {
   "cell_type": "code",
   "execution_count": 22,
   "id": "toxic-laundry",
   "metadata": {},
   "outputs": [],
   "source": [
    "a=3"
   ]
  },
  {
   "cell_type": "markdown",
   "id": "sublime-haiti",
   "metadata": {},
   "source": [
    "When the object is reassigned a value, the previous value is forgotten. printing the value of a will only return its currently assigned value."
   ]
  },
  {
   "cell_type": "code",
   "execution_count": 23,
   "id": "consistent-black",
   "metadata": {},
   "outputs": [
    {
     "name": "stdout",
     "output_type": "stream",
     "text": [
      "3\n"
     ]
    }
   ],
   "source": [
    "print(a)"
   ]
  },
  {
   "cell_type": "markdown",
   "id": "fuzzy-capture",
   "metadata": {},
   "source": [
    "It is common to reassign a value using a calculation involving the object name itself. For example."
   ]
  },
  {
   "cell_type": "code",
   "execution_count": 24,
   "id": "fifteen-verification",
   "metadata": {},
   "outputs": [],
   "source": [
    "a=a+2"
   ]
  },
  {
   "cell_type": "markdown",
   "id": "announced-inside",
   "metadata": {},
   "source": [
    "Everything on the right hand side is carried out first. ```a``` currently has the value of ```3```, therefore ```a+2``` returns the value of ```5```. This value of ```5``` is then reassigned to the object name ```a```. Now ```a``` has a value of ```5```. Using the ```print``` function with the object ```a``` as the positional input argument should therefore return the value of ```5```."
   ]
  },
  {
   "cell_type": "code",
   "execution_count": 25,
   "id": "integrated-motivation",
   "metadata": {},
   "outputs": [
    {
     "name": "stdout",
     "output_type": "stream",
     "text": [
      "5\n"
     ]
    }
   ],
   "source": [
    "print(a)"
   ]
  },
  {
   "cell_type": "markdown",
   "id": "incorporated-wildlife",
   "metadata": {},
   "source": [
    "It is quite common to increment the value of an integer by ```+n``` or ```-n``` in particular. The operator ```+=n``` and ```-=n``` will perform an inplace update of the value ```a```."
   ]
  },
  {
   "cell_type": "code",
   "execution_count": 26,
   "id": "liberal-hometown",
   "metadata": {},
   "outputs": [],
   "source": [
    "a+=1"
   ]
  },
  {
   "cell_type": "code",
   "execution_count": 27,
   "id": "encouraging-safety",
   "metadata": {},
   "outputs": [
    {
     "name": "stdout",
     "output_type": "stream",
     "text": [
      "6\n"
     ]
    }
   ],
   "source": [
    "print(a)"
   ]
  },
  {
   "cell_type": "code",
   "execution_count": 28,
   "id": "altered-april",
   "metadata": {},
   "outputs": [],
   "source": [
    "a+=1"
   ]
  },
  {
   "cell_type": "code",
   "execution_count": 29,
   "id": "certain-indianapolis",
   "metadata": {},
   "outputs": [
    {
     "name": "stdout",
     "output_type": "stream",
     "text": [
      "7\n"
     ]
    }
   ],
   "source": [
    "print(a)"
   ]
  },
  {
   "cell_type": "code",
   "execution_count": 30,
   "id": "negative-contractor",
   "metadata": {},
   "outputs": [],
   "source": [
    "a-=2"
   ]
  },
  {
   "cell_type": "code",
   "execution_count": 31,
   "id": "accomplished-serve",
   "metadata": {},
   "outputs": [
    {
     "name": "stdout",
     "output_type": "stream",
     "text": [
      "5\n"
     ]
    }
   ],
   "source": [
    "print(a)"
   ]
  },
  {
   "cell_type": "markdown",
   "id": "communist-organization",
   "metadata": {},
   "source": [
    "Let's have a look at the object ```a``` in more detail. First let's have a look at its type."
   ]
  },
  {
   "cell_type": "code",
   "execution_count": 32,
   "id": "martial-nicholas",
   "metadata": {},
   "outputs": [
    {
     "data": {
      "text/plain": [
       "int"
      ]
     },
     "execution_count": 32,
     "metadata": {},
     "output_type": "execute_result"
    }
   ],
   "source": [
    "type(a)"
   ]
  },
  {
   "cell_type": "markdown",
   "id": "raised-groove",
   "metadata": {},
   "source": [
    "We see that it is a type ```int```. ```a``` therefore shares common properties with other ```int``` objects. In Python, an object can possess attributes and methods. These can be accessed by typing in the objects name followed by a ```.``` and then pressing ```↹```. The list below shows attributes in blue and methods in orange which we will explore in more detail in a moment."
   ]
  },
  {
   "cell_type": "markdown",
   "id": "massive-district",
   "metadata": {},
   "source": [
    "![int_attributes_methods](int_attributes_methods.png)"
   ]
  },
  {
   "cell_type": "markdown",
   "id": "confident-entertainment",
   "metadata": {},
   "source": [
    "Each object is an instance of a class. More explicitly an instance called ```b``` can be created using an ```int``` class. "
   ]
  },
  {
   "cell_type": "markdown",
   "id": "located-secondary",
   "metadata": {},
   "source": [
    "The Init signature of inbuilt classes such as ```int``` uses a similar syntax to a function. Like a function details about the input arguments can be quickly viewed in a popup balloon by pressing ```↹``` and ```⇧```. In addition the Docstring can be view in a cell output by pressing ```?``` followed by the functions name."
   ]
  },
  {
   "cell_type": "code",
   "execution_count": 33,
   "id": "injured-toilet",
   "metadata": {},
   "outputs": [
    {
     "data": {
      "text/plain": [
       "\u001b[1;31mInit signature:\u001b[0m  \u001b[0mint\u001b[0m\u001b[1;33m(\u001b[0m\u001b[0mself\u001b[0m\u001b[1;33m,\u001b[0m \u001b[1;33m/\u001b[0m\u001b[1;33m,\u001b[0m \u001b[1;33m*\u001b[0m\u001b[0margs\u001b[0m\u001b[1;33m,\u001b[0m \u001b[1;33m**\u001b[0m\u001b[0mkwargs\u001b[0m\u001b[1;33m)\u001b[0m\u001b[1;33m\u001b[0m\u001b[1;33m\u001b[0m\u001b[0m\n",
       "\u001b[1;31mDocstring:\u001b[0m     \n",
       "int([x]) -> integer\n",
       "int(x, base=10) -> integer\n",
       "\n",
       "Convert a number or string to an integer, or return 0 if no arguments\n",
       "are given.  If x is a number, return x.__int__().  For floating point\n",
       "numbers, this truncates towards zero.\n",
       "\n",
       "If x is not a number or if base is given, then x must be a string,\n",
       "bytes, or bytearray instance representing an integer literal in the\n",
       "given base.  The literal can be preceded by '+' or '-' and be surrounded\n",
       "by whitespace.  The base defaults to 10.  Valid bases are 0 and 2-36.\n",
       "Base 0 means to interpret the base from the string as an integer literal.\n",
       ">>> int('0b100', base=0)\n",
       "4\n",
       "\u001b[1;31mType:\u001b[0m           type\n",
       "\u001b[1;31mSubclasses:\u001b[0m     bool, IntEnum, IntFlag, _NamedIntConstant, Handle\n"
      ]
     },
     "metadata": {},
     "output_type": "display_data"
    }
   ],
   "source": [
    "? int"
   ]
  },
  {
   "cell_type": "markdown",
   "id": "robust-geography",
   "metadata": {},
   "source": [
    "The following line creates an instance ```b``` (```b``` is the instance name or object name) of the class ```int```. Thinking of the class init signature as analogous to a function, the positional input argument ```x``` is the value we wish to make the integer."
   ]
  },
  {
   "cell_type": "code",
   "execution_count": 34,
   "id": "senior-differential",
   "metadata": {},
   "outputs": [],
   "source": [
    "b=int(3)"
   ]
  },
  {
   "cell_type": "markdown",
   "id": "classical-toddler",
   "metadata": {},
   "source": [
    "Creating an instance of a class is also known as instantiating a class. "
   ]
  },
  {
   "cell_type": "markdown",
   "id": "australian-efficiency",
   "metadata": {},
   "source": [
    "Notice that the 0th positional input argument (python uses 0 order indexing so we count from 0 upwards) in a class is called ```self```. Once a class is instantiated, ```self``` becomes a reference to the object name, in this case ```b```. Typing in the instance name ```b``` followed by a ```.``` and ```↹``` shows the list of attributes and methods available to call from the instance ```b```."
   ]
  },
  {
   "cell_type": "markdown",
   "id": "psychological-underground",
   "metadata": {},
   "source": [
    "![int_attributes_methods2](int_attributes_methods2.png)"
   ]
  },
  {
   "cell_type": "markdown",
   "id": "swedish-finish",
   "metadata": {},
   "source": [
    "Note that these are identical to the attributes and methods available to call from the instance ```a```. This is because both ```a``` and ```b``` are instances of the class ```int``` and these methods and attributes belong to the ```int``` class."
   ]
  },
  {
   "cell_type": "markdown",
   "id": "impaired-findings",
   "metadata": {},
   "source": [
    "The list below shows attributes (instances) in orange and methods (functions) in blue. "
   ]
  },
  {
   "cell_type": "markdown",
   "id": "political-bride",
   "metadata": {},
   "source": [
    "An attribute of the object ```b``` can be thought of as an additional object that is referenced with respect to ```b```. It is often a property of ```b```. For example the attribute ```real``` will find the real component of ```b``` and this will also be an instance of the class ```int```. ```imag``` will find the imaginary component of ```b``` and will also be an instance of the class ```int```. In this case the real component is ```3``` and the number isn't a complex number so its imaginary component is ```0```."
   ]
  },
  {
   "cell_type": "markdown",
   "id": "center-approval",
   "metadata": {},
   "source": [
    "Attributes do not have input arguments and are therefore always called without parenthesis. "
   ]
  },
  {
   "cell_type": "code",
   "execution_count": 35,
   "id": "beneficial-engineering",
   "metadata": {},
   "outputs": [
    {
     "data": {
      "text/plain": [
       "3"
      ]
     },
     "execution_count": 35,
     "metadata": {},
     "output_type": "execute_result"
    }
   ],
   "source": [
    "b.real"
   ]
  },
  {
   "cell_type": "code",
   "execution_count": 36,
   "id": "roman-harrison",
   "metadata": {},
   "outputs": [
    {
     "data": {
      "text/plain": [
       "0"
      ]
     },
     "execution_count": 36,
     "metadata": {},
     "output_type": "execute_result"
    }
   ],
   "source": [
    "b.imag"
   ]
  },
  {
   "cell_type": "markdown",
   "id": "discrete-doubt",
   "metadata": {},
   "source": [
    "As the attribute itself is an object, in this case also an ```int``` so attributes and methods associated with the ```int``` class will also be accessible from the attribute."
   ]
  },
  {
   "cell_type": "markdown",
   "id": "polar-slovenia",
   "metadata": {},
   "source": [
    "![int_attributes_methods3](int_attributes_methods3.png)"
   ]
  },
  {
   "cell_type": "markdown",
   "id": "closed-killing",
   "metadata": {},
   "source": [
    "```b.real``` looks up the real component of ```b``` and ```b.real.real``` looks up the real component of the real component of ```b```. "
   ]
  },
  {
   "cell_type": "code",
   "execution_count": 37,
   "id": "hundred-earthquake",
   "metadata": {},
   "outputs": [
    {
     "data": {
      "text/plain": [
       "3"
      ]
     },
     "execution_count": 37,
     "metadata": {},
     "output_type": "execute_result"
    }
   ],
   "source": [
    "b.real.real"
   ]
  },
  {
   "cell_type": "markdown",
   "id": "collected-commodity",
   "metadata": {},
   "source": [
    "And so on and so forth."
   ]
  },
  {
   "cell_type": "code",
   "execution_count": 38,
   "id": "center-potential",
   "metadata": {},
   "outputs": [
    {
     "data": {
      "text/plain": [
       "3"
      ]
     },
     "execution_count": 38,
     "metadata": {},
     "output_type": "execute_result"
    }
   ],
   "source": [
    "b.real.real.real.real.real.real.real.real.real.real.real.real"
   ]
  },
  {
   "cell_type": "markdown",
   "id": "mineral-accounting",
   "metadata": {},
   "source": [
    "Methods usually possess input arguments and have to always be called with parenthesis. If a method is called without parenthesis the output will inform the user that it is a function belonging to the ```int``` class i.e. a method of the int class. Recall when the function type was called without parenthes we got a similar behaviour. "
   ]
  },
  {
   "cell_type": "code",
   "execution_count": 39,
   "id": "royal-memorial",
   "metadata": {},
   "outputs": [
    {
     "data": {
      "text/plain": [
       "<function int.conjugate>"
      ]
     },
     "execution_count": 39,
     "metadata": {},
     "output_type": "execute_result"
    }
   ],
   "source": [
    "b.conjugate"
   ]
  },
  {
   "cell_type": "markdown",
   "id": "previous-galaxy",
   "metadata": {},
   "source": [
    "Details about the input arguments can be found by typing in the function followed by ```↹``` and ```⇧``` (again in the same manner as they are determined for functions). In this case we see that there are no input arguments."
   ]
  },
  {
   "cell_type": "markdown",
   "id": "positive-vietnam",
   "metadata": {},
   "source": [
    "![int_method_conjugate](int_method_conjugate.png)"
   ]
  },
  {
   "cell_type": "markdown",
   "id": "necessary-printing",
   "metadata": {},
   "source": [
    "Therefore the method is called without any input arguments."
   ]
  },
  {
   "cell_type": "code",
   "execution_count": 40,
   "id": "desperate-acting",
   "metadata": {},
   "outputs": [
    {
     "data": {
      "text/plain": [
       "3"
      ]
     },
     "execution_count": 40,
     "metadata": {},
     "output_type": "execute_result"
    }
   ],
   "source": [
    "b.conjugate()"
   ]
  },
  {
   "cell_type": "markdown",
   "id": "smart-honey",
   "metadata": {},
   "source": [
    "Attributes are read directly as properties of the object. The method ```conjugate``` may look like an attribute at first glance however uses an underlying function to calculate the complex conjugate. Behind the scenes the method conjugate looks at the attribute ```b.real``` for the real component and the attribute ```b.imag``` for the imaginary component and then reverses the sign of the imaginary component when returning the complex conjugate as part of a calculation. "
   ]
  },
  {
   "cell_type": "markdown",
   "id": "broad-bridges",
   "metadata": {},
   "source": [
    "An instance can be deleted by using the function ```del```."
   ]
  },
  {
   "cell_type": "code",
   "execution_count": 41,
   "id": "adverse-positive",
   "metadata": {},
   "outputs": [],
   "source": [
    "del(b)"
   ]
  },
  {
   "cell_type": "markdown",
   "id": "auburn-central",
   "metadata": {},
   "source": [
    "Trying to access a variable that has been deleted (or has never existed because it has never been defined) gives a ```NameError```."
   ]
  },
  {
   "cell_type": "markdown",
   "id": "british-humidity",
   "metadata": {},
   "source": [
    "The following line will display the following error. Once again both the code and the image of the error are placed in a markdown cell to prevent the error from holding up the Python Kernel in the notebook. "
   ]
  },
  {
   "cell_type": "markdown",
   "id": "colonial-canal",
   "metadata": {},
   "source": [
    "```b```"
   ]
  },
  {
   "cell_type": "markdown",
   "id": "laden-stopping",
   "metadata": {},
   "source": [
    "![NameError](NameError.png)"
   ]
  },
  {
   "cell_type": "markdown",
   "id": "assured-naples",
   "metadata": {},
   "source": [
    "### Floating Point Numbers (float)"
   ]
  },
  {
   "cell_type": "markdown",
   "id": "classical-cooperative",
   "metadata": {},
   "source": [
    "We have discussed ```int``` numbers and ```int``` operations so far. It is also possible to create a floating point number i.e. a number that has a decimal component. The ```.``` when enclosed between two numbers is used to denote a decimal point. "
   ]
  },
  {
   "cell_type": "code",
   "execution_count": 42,
   "id": "adaptive-bacon",
   "metadata": {},
   "outputs": [],
   "source": [
    "c=2.1"
   ]
  },
  {
   "cell_type": "markdown",
   "id": "restricted-bumper",
   "metadata": {},
   "source": [
    "Let's check the type of c."
   ]
  },
  {
   "cell_type": "code",
   "execution_count": 43,
   "id": "comfortable-soviet",
   "metadata": {},
   "outputs": [
    {
     "data": {
      "text/plain": [
       "float"
      ]
     },
     "execution_count": 43,
     "metadata": {},
     "output_type": "execute_result"
    }
   ],
   "source": [
    "type(c)"
   ]
  },
  {
   "cell_type": "markdown",
   "id": "turned-parade",
   "metadata": {},
   "source": [
    "We see that the ```type``` is ```float``` (an abbreviation for floating point number). If we type in the instance name followed by a ```.``` and then ```↹``` we will see a list of attributes and methods. "
   ]
  },
  {
   "cell_type": "markdown",
   "id": "therapeutic-illustration",
   "metadata": {},
   "source": [
    "![float_attributes_methods](float_attributes_methods.png)"
   ]
  },
  {
   "cell_type": "markdown",
   "id": "willing-phase",
   "metadata": {},
   "source": [
    "If we compare this to ```b``` we will see some commonalities as both are numeric objects however there are slight differences reflecting the fact that these are different classes."
   ]
  },
  {
   "cell_type": "markdown",
   "id": "scheduled-lottery",
   "metadata": {},
   "source": [
    "![int_attributes_methods2](int_attributes_methods2.png)"
   ]
  },
  {
   "cell_type": "markdown",
   "id": "concerned-floor",
   "metadata": {},
   "source": [
    "The method ```is_integer``` for example will check if a floating point number is an integer. \n",
    "\n",
    "As the method is essentially a function that is called from an object, details about the methods input arguments can be quickly viewed in a popup balloon by pressing ```↹``` and ```⇧```. Alternatively the Docstring can be view in a cell output by pressing ```?``` followed by the methods name (called from the object)."
   ]
  },
  {
   "cell_type": "code",
   "execution_count": 44,
   "id": "expressed-tennis",
   "metadata": {},
   "outputs": [
    {
     "data": {
      "text/plain": [
       "\u001b[1;31mSignature:\u001b[0m  \u001b[0mc\u001b[0m\u001b[1;33m.\u001b[0m\u001b[0mis_integer\u001b[0m\u001b[1;33m(\u001b[0m\u001b[1;33m)\u001b[0m\u001b[1;33m\u001b[0m\u001b[1;33m\u001b[0m\u001b[0m\n",
       "\u001b[1;31mDocstring:\u001b[0m Return True if the float is an integer.\n",
       "\u001b[1;31mType:\u001b[0m      builtin_function_or_method\n"
      ]
     },
     "metadata": {},
     "output_type": "display_data"
    }
   ],
   "source": [
    "? c.is_integer"
   ]
  },
  {
   "cell_type": "markdown",
   "id": "orange-palace",
   "metadata": {},
   "source": [
    "We see in this case that the method once again has no input arguments, so is called using empty parenthesis. The value returned is ```False``` which is expected as this has a non-zero component following the decimal point."
   ]
  },
  {
   "cell_type": "code",
   "execution_count": 45,
   "id": "pleasant-litigation",
   "metadata": {},
   "outputs": [
    {
     "data": {
      "text/plain": [
       "False"
      ]
     },
     "execution_count": 45,
     "metadata": {},
     "output_type": "execute_result"
    }
   ],
   "source": [
    "c.is_integer()"
   ]
  },
  {
   "cell_type": "markdown",
   "id": "waiting-cambridge",
   "metadata": {},
   "source": [
    "We can also explicitly instantiate (create an instance of) a ```float``` class."
   ]
  },
  {
   "cell_type": "code",
   "execution_count": 46,
   "id": "amazing-retirement",
   "metadata": {},
   "outputs": [],
   "source": [
    "d=float(2.0)"
   ]
  },
  {
   "cell_type": "markdown",
   "id": "mysterious-analysis",
   "metadata": {},
   "source": [
    "If we type in the instance name followed by a ```.``` and then ```↹``` we will see a list of attributes and methods. These match those of the object ```c``` as both ```c``` and ```d``` are instances of the ```float``` class."
   ]
  },
  {
   "cell_type": "markdown",
   "id": "fresh-brisbane",
   "metadata": {},
   "source": [
    "![float_attributes_methods2](float_attributes_methods2.png)"
   ]
  },
  {
   "cell_type": "markdown",
   "id": "important-movement",
   "metadata": {},
   "source": [
    "If we use the ```float``` method ```is_integer``` using the instance ```d``` we will get a return value of ```True``` as there is no non-zero number following the decimal point. "
   ]
  },
  {
   "cell_type": "code",
   "execution_count": 47,
   "id": "convinced-rotation",
   "metadata": {},
   "outputs": [
    {
     "data": {
      "text/plain": [
       "True"
      ]
     },
     "execution_count": 47,
     "metadata": {},
     "output_type": "execute_result"
    }
   ],
   "source": [
    "d.is_integer()"
   ]
  },
  {
   "cell_type": "markdown",
   "id": "conceptual-short",
   "metadata": {},
   "source": [
    "Earlier we see integer division (truediv ```//```) and modulo (mod ```%```). We can also perform float or true division.\n",
    "* (truediv ```/```) divides the 0th number by the 1st number and returns an instance of the ```float``` class."
   ]
  },
  {
   "cell_type": "code",
   "execution_count": 48,
   "id": "threatened-bathroom",
   "metadata": {},
   "outputs": [
    {
     "data": {
      "text/plain": [
       "2.5"
      ]
     },
     "execution_count": 48,
     "metadata": {},
     "output_type": "execute_result"
    }
   ],
   "source": [
    "5/2"
   ]
  },
  {
   "cell_type": "markdown",
   "id": "collected-intersection",
   "metadata": {},
   "source": [
    "Note that float division always returns a ```float```. This occurs even when the return value is a complete number. For example."
   ]
  },
  {
   "cell_type": "code",
   "execution_count": 49,
   "id": "rural-testament",
   "metadata": {},
   "outputs": [],
   "source": [
    "e=4/2"
   ]
  },
  {
   "cell_type": "markdown",
   "id": "egyptian-season",
   "metadata": {},
   "source": [
    "```e``` looks like an ```int```."
   ]
  },
  {
   "cell_type": "code",
   "execution_count": 50,
   "id": "personalized-discrimination",
   "metadata": {},
   "outputs": [
    {
     "data": {
      "text/plain": [
       "2.0"
      ]
     },
     "execution_count": 50,
     "metadata": {},
     "output_type": "execute_result"
    }
   ],
   "source": [
    "e"
   ]
  },
  {
   "cell_type": "markdown",
   "id": "settled-joint",
   "metadata": {},
   "source": [
    "However when we can see the decimal point indicating it is a ```float```. We check its type using the function ```type``` and this confirms that ```e``` is a ```float``` (instance of the ```float``` class)."
   ]
  },
  {
   "cell_type": "code",
   "execution_count": 51,
   "id": "catholic-gathering",
   "metadata": {},
   "outputs": [
    {
     "data": {
      "text/plain": [
       "float"
      ]
     },
     "execution_count": 51,
     "metadata": {},
     "output_type": "execute_result"
    }
   ],
   "source": [
    "type(e)"
   ]
  },
  {
   "cell_type": "code",
   "execution_count": 52,
   "id": "informed-graduate",
   "metadata": {},
   "outputs": [
    {
     "data": {
      "text/plain": [
       "True"
      ]
     },
     "execution_count": 52,
     "metadata": {},
     "output_type": "execute_result"
    }
   ],
   "source": [
    "e.is_integer()"
   ]
  },
  {
   "cell_type": "markdown",
   "id": "auburn-subsection",
   "metadata": {},
   "source": [
    "The output can be converted explicitly to an instance of the ```int``` class."
   ]
  },
  {
   "cell_type": "code",
   "execution_count": 53,
   "id": "systematic-content",
   "metadata": {},
   "outputs": [],
   "source": [
    "e=int(e)"
   ]
  },
  {
   "cell_type": "markdown",
   "id": "solved-elimination",
   "metadata": {},
   "source": [
    "The type is now ```int``` and not ```float```."
   ]
  },
  {
   "cell_type": "code",
   "execution_count": 54,
   "id": "accessory-influence",
   "metadata": {},
   "outputs": [
    {
     "data": {
      "text/plain": [
       "int"
      ]
     },
     "execution_count": 54,
     "metadata": {},
     "output_type": "execute_result"
    }
   ],
   "source": [
    "type(e)"
   ]
  },
  {
   "cell_type": "markdown",
   "id": "ethical-spokesman",
   "metadata": {},
   "source": [
    "Note when a ```float``` gets converted to an ```int```, the decimal component gets truncated."
   ]
  },
  {
   "cell_type": "code",
   "execution_count": 55,
   "id": "fitting-harbor",
   "metadata": {},
   "outputs": [
    {
     "data": {
      "text/plain": [
       "2.1"
      ]
     },
     "execution_count": 55,
     "metadata": {},
     "output_type": "execute_result"
    }
   ],
   "source": [
    "c"
   ]
  },
  {
   "cell_type": "code",
   "execution_count": 56,
   "id": "outside-brooks",
   "metadata": {},
   "outputs": [
    {
     "data": {
      "text/plain": [
       "2"
      ]
     },
     "execution_count": 56,
     "metadata": {},
     "output_type": "execute_result"
    }
   ],
   "source": [
    "int(c)"
   ]
  },
  {
   "cell_type": "markdown",
   "id": "operational-writing",
   "metadata": {},
   "source": [
    "### Booleans (bool)"
   ]
  },
  {
   "cell_type": "markdown",
   "id": "seasonal-census",
   "metadata": {},
   "source": [
    "When we used the ```float``` method ```is_integer``` we got back a value ```True``` or ```False``` (note the capitlaization). These are known as Boolean values."
   ]
  },
  {
   "cell_type": "code",
   "execution_count": 57,
   "id": "continuous-intake",
   "metadata": {},
   "outputs": [],
   "source": [
    "f=True"
   ]
  },
  {
   "cell_type": "markdown",
   "id": "completed-recording",
   "metadata": {},
   "source": [
    "If we look at the type, we can see that it is the type ```bool```."
   ]
  },
  {
   "cell_type": "code",
   "execution_count": 58,
   "id": "adolescent-palestinian",
   "metadata": {},
   "outputs": [
    {
     "data": {
      "text/plain": [
       "bool"
      ]
     },
     "execution_count": 58,
     "metadata": {},
     "output_type": "execute_result"
    }
   ],
   "source": [
    "type(f)"
   ]
  },
  {
   "cell_type": "markdown",
   "id": "invisible-reproduction",
   "metadata": {},
   "source": [
    "If we type in the instance name followed by a ```.``` and then ```↹``` we will see a list of attributes and methods. These attributes and methods are the same as the ```int``` class."
   ]
  },
  {
   "cell_type": "markdown",
   "id": "loaded-christopher",
   "metadata": {},
   "source": [
    "![bool_attributes_methods](bool_attributes_methods.png)"
   ]
  },
  {
   "cell_type": "markdown",
   "id": "apparent-brief",
   "metadata": {},
   "source": [
    "For most numeric calculations we can treat a ```True``` and ```False``` as ```1``` and ```0``` respectively. \n",
    "\n",
    "We can use the comparison operators:\n",
    "* (```==``` eq) checks if the 0th number (self) is equal to the 1st number (other).\n",
    "* (```!=``` ne) checks if the 0th number (self) is not equal to the 1st number (other).\n",
    "* (```<``` lt) checks if the 0th number (self) is less than the 1st number (other).\n",
    "* (```>``` gt) checks if the 0th number (self) is greater than the 1st number (other).\n",
    "* (```<=``` le) checks if the 0th number (self) is less than or equal to the 1st number (other).\n",
    "* (```>=``` ge) checks if the 0th number (self) us greater than or equal to the 1st number (other).\n",
    "\n",
    "These return a Boolean, instance of the ```bool``` class which has a value of ```True``` or ```False``` respectively."
   ]
  },
  {
   "cell_type": "code",
   "execution_count": 59,
   "id": "impressed-suspension",
   "metadata": {},
   "outputs": [
    {
     "data": {
      "text/plain": [
       "True"
      ]
     },
     "execution_count": 59,
     "metadata": {},
     "output_type": "execute_result"
    }
   ],
   "source": [
    "True==1"
   ]
  },
  {
   "cell_type": "code",
   "execution_count": 60,
   "id": "graphic-protocol",
   "metadata": {},
   "outputs": [
    {
     "data": {
      "text/plain": [
       "True"
      ]
     },
     "execution_count": 60,
     "metadata": {},
     "output_type": "execute_result"
    }
   ],
   "source": [
    "False==0"
   ]
  },
  {
   "cell_type": "markdown",
   "id": "european-butler",
   "metadata": {},
   "source": [
    "Note do not confuse the (eq ```==```) operator with the assignment operator (```=```). Also recall that all operations to the right are carried out before using the assignment operator. In the example below, the check for is ```1``` equal to ```2``` gives a ```False``` return statement which is then assigned to the object name ```g```. ```g``` is an instance of the ```bool``` class."
   ]
  },
  {
   "cell_type": "code",
   "execution_count": 61,
   "id": "stone-toilet",
   "metadata": {},
   "outputs": [],
   "source": [
    "g=1==2"
   ]
  },
  {
   "cell_type": "code",
   "execution_count": 62,
   "id": "ideal-paintball",
   "metadata": {},
   "outputs": [
    {
     "data": {
      "text/plain": [
       "False"
      ]
     },
     "execution_count": 62,
     "metadata": {},
     "output_type": "execute_result"
    }
   ],
   "source": [
    "g"
   ]
  },
  {
   "cell_type": "code",
   "execution_count": 63,
   "id": "necessary-coordinator",
   "metadata": {},
   "outputs": [
    {
     "data": {
      "text/plain": [
       "bool"
      ]
     },
     "execution_count": 63,
     "metadata": {},
     "output_type": "execute_result"
    }
   ],
   "source": [
    "type(g)"
   ]
  },
  {
   "cell_type": "markdown",
   "id": "killing-ozone",
   "metadata": {},
   "source": [
    "Knowing ```True``` takes the value ```1``` and ```False``` takes the value ```0```, the following numeric operations can be carried out."
   ]
  },
  {
   "cell_type": "code",
   "execution_count": 64,
   "id": "written-likelihood",
   "metadata": {},
   "outputs": [
    {
     "data": {
      "text/plain": [
       "1"
      ]
     },
     "execution_count": 64,
     "metadata": {},
     "output_type": "execute_result"
    }
   ],
   "source": [
    "True+False"
   ]
  },
  {
   "cell_type": "code",
   "execution_count": 65,
   "id": "cooked-restriction",
   "metadata": {},
   "outputs": [
    {
     "data": {
      "text/plain": [
       "0"
      ]
     },
     "execution_count": 65,
     "metadata": {},
     "output_type": "execute_result"
    }
   ],
   "source": [
    "True*False"
   ]
  },
  {
   "cell_type": "code",
   "execution_count": 66,
   "id": "attended-demonstration",
   "metadata": {},
   "outputs": [
    {
     "data": {
      "text/plain": [
       "1"
      ]
     },
     "execution_count": 66,
     "metadata": {},
     "output_type": "execute_result"
    }
   ],
   "source": [
    "True-False"
   ]
  },
  {
   "cell_type": "markdown",
   "id": "alive-leather",
   "metadata": {},
   "source": [
    "We can use comparison statements to check whether or not two expressions are equal. Care should be taken when using comparison statements with the ```float``` datatypes. Compare the two statements below. The exact value ```2``` and the exact value ```1``` when summed together make the exact value of ```3``` and the expression below shows ```True``` as expected."
   ]
  },
  {
   "cell_type": "markdown",
   "id": "collect-trace",
   "metadata": {},
   "source": [
    "If both sides are divided by 10 (i.e. have a datatype ```float```) and the same equivalence is made the comparison yields a ```False``` result."
   ]
  },
  {
   "cell_type": "code",
   "execution_count": 67,
   "id": "smart-duplicate",
   "metadata": {},
   "outputs": [
    {
     "data": {
      "text/plain": [
       "True"
      ]
     },
     "execution_count": 67,
     "metadata": {},
     "output_type": "execute_result"
    }
   ],
   "source": [
    "2+1==3"
   ]
  },
  {
   "cell_type": "code",
   "execution_count": 68,
   "id": "compressed-shannon",
   "metadata": {},
   "outputs": [
    {
     "data": {
      "text/plain": [
       "False"
      ]
     },
     "execution_count": 68,
     "metadata": {},
     "output_type": "execute_result"
    }
   ],
   "source": [
    "0.2+0.1==0.3"
   ]
  },
  {
   "cell_type": "markdown",
   "id": "three-angola",
   "metadata": {},
   "source": [
    "Computers store numbers to a limited precision using binary notation. The calculation 0.1+0.2 (using decimal) leads to an exact number 0.3 but in binary it recurs forever (similar to the idea of a third in decimal notation). In any case to the default high precision number of decimal places, the last value is non-zero and therefore the two sides of the expression are not equivalent."
   ]
  },
  {
   "cell_type": "code",
   "execution_count": 69,
   "id": "mounted-siemens",
   "metadata": {},
   "outputs": [
    {
     "data": {
      "text/plain": [
       "0.30000000000000004"
      ]
     },
     "execution_count": 69,
     "metadata": {},
     "output_type": "execute_result"
    }
   ],
   "source": [
    "0.2+0.1"
   ]
  },
  {
   "cell_type": "markdown",
   "id": "detected-segment",
   "metadata": {},
   "source": [
    "In most practical applications we wouldn't use such a high number of decimal places. We may decide 6 digits suffice. We can use the function ```round```. Details about the input arguments for the function ```round``` can be found by typing in the function followed by ```↹``` and ```⇧```. We see number is a positional input argument and ```ndigits``` is a keyword input argument with a default value of ```0```. As this is a function, the input arguments must be enclosed in parenthesis. As we are using multiple input arguments we must use a comma ```,``` as a delimiter to seperate the input arguments."
   ]
  },
  {
   "cell_type": "markdown",
   "id": "married-airline",
   "metadata": {},
   "source": [
    "![round](round.png)"
   ]
  },
  {
   "cell_type": "code",
   "execution_count": 70,
   "id": "social-theorem",
   "metadata": {},
   "outputs": [
    {
     "data": {
      "text/plain": [
       "0.3"
      ]
     },
     "execution_count": 70,
     "metadata": {},
     "output_type": "execute_result"
    }
   ],
   "source": [
    "round(0.1+0.2,ndigits=6)"
   ]
  },
  {
   "cell_type": "markdown",
   "id": "disciplinary-project",
   "metadata": {},
   "source": [
    "To this assigned number of digits the statement is ```True``` (as expected)."
   ]
  },
  {
   "cell_type": "code",
   "execution_count": 71,
   "id": "compliant-longer",
   "metadata": {},
   "outputs": [
    {
     "data": {
      "text/plain": [
       "True"
      ]
     },
     "execution_count": 71,
     "metadata": {},
     "output_type": "execute_result"
    }
   ],
   "source": [
    "round(0.1+0.2,ndigits=6)==round(0.3,ndigits=6)"
   ]
  },
  {
   "cell_type": "markdown",
   "id": "pediatric-cloud",
   "metadata": {},
   "source": [
    "### Complex Numbers (complex)"
   ]
  },
  {
   "cell_type": "markdown",
   "id": "approximate-manchester",
   "metadata": {},
   "source": [
    "The square root of a negaive number yields a complex number with an imaginary component used to handle the negative square root."
   ]
  },
  {
   "cell_type": "code",
   "execution_count": 72,
   "id": "dated-skill",
   "metadata": {},
   "outputs": [
    {
     "data": {
      "text/plain": [
       "(1.2246467991473532e-16+2j)"
      ]
     },
     "execution_count": 72,
     "metadata": {},
     "output_type": "execute_result"
    }
   ],
   "source": [
    "(-4)**0.5"
   ]
  },
  {
   "cell_type": "code",
   "execution_count": 73,
   "id": "important-chicago",
   "metadata": {},
   "outputs": [
    {
     "data": {
      "text/plain": [
       "complex"
      ]
     },
     "execution_count": 73,
     "metadata": {},
     "output_type": "execute_result"
    }
   ],
   "source": [
    "type((-4)**0.5)"
   ]
  },
  {
   "cell_type": "markdown",
   "id": "charming-sector",
   "metadata": {},
   "source": [
    "The real component of the above number is represented using scientific notation. The ```e-16``` denotes we are 16 places after the decimal point i.e. a very tiny number.  \n",
    "\n",
    "```1e2``` denotes we will have two zeros after the number."
   ]
  },
  {
   "cell_type": "code",
   "execution_count": 74,
   "id": "textile-pizza",
   "metadata": {},
   "outputs": [
    {
     "data": {
      "text/plain": [
       "100.0"
      ]
     },
     "execution_count": 74,
     "metadata": {},
     "output_type": "execute_result"
    }
   ],
   "source": [
    "1e2"
   ]
  },
  {
   "cell_type": "markdown",
   "id": "assumed-boost",
   "metadata": {},
   "source": [
    "```1e0``` denotes we will have no zeros after or before the number."
   ]
  },
  {
   "cell_type": "code",
   "execution_count": 75,
   "id": "portuguese-cooling",
   "metadata": {},
   "outputs": [
    {
     "data": {
      "text/plain": [
       "1.0"
      ]
     },
     "execution_count": 75,
     "metadata": {},
     "output_type": "execute_result"
    }
   ],
   "source": [
    "1e0"
   ]
  },
  {
   "cell_type": "markdown",
   "id": "independent-application",
   "metadata": {},
   "source": [
    "```1e-2``` denotes we have 2 zeros before the number."
   ]
  },
  {
   "cell_type": "code",
   "execution_count": 76,
   "id": "graphic-concert",
   "metadata": {},
   "outputs": [
    {
     "data": {
      "text/plain": [
       "0.01"
      ]
     },
     "execution_count": 76,
     "metadata": {},
     "output_type": "execute_result"
    }
   ],
   "source": [
    "1e-2"
   ]
  },
  {
   "cell_type": "markdown",
   "id": "restricted-publisher",
   "metadata": {},
   "source": [
    "A ```complex``` number (with a real and imaginary component) can be instantiated from the ```complex``` class. To instantiate a complex number both a real and imag component need to be speciifed. "
   ]
  },
  {
   "cell_type": "code",
   "execution_count": 77,
   "id": "whole-pharmaceutical",
   "metadata": {},
   "outputs": [
    {
     "data": {
      "text/plain": [
       "\u001b[1;31mInit signature:\u001b[0m  \u001b[0mcomplex\u001b[0m\u001b[1;33m(\u001b[0m\u001b[0mreal\u001b[0m\u001b[1;33m=\u001b[0m\u001b[1;36m0\u001b[0m\u001b[1;33m,\u001b[0m \u001b[0mimag\u001b[0m\u001b[1;33m=\u001b[0m\u001b[1;36m0\u001b[0m\u001b[1;33m)\u001b[0m\u001b[1;33m\u001b[0m\u001b[1;33m\u001b[0m\u001b[0m\n",
       "\u001b[1;31mDocstring:\u001b[0m     \n",
       "Create a complex number from a real part and an optional imaginary part.\n",
       "\n",
       "This is equivalent to (real + imag*1j) where imag defaults to 0.\n",
       "\u001b[1;31mType:\u001b[0m           type\n",
       "\u001b[1;31mSubclasses:\u001b[0m     \n"
      ]
     },
     "metadata": {},
     "output_type": "display_data"
    }
   ],
   "source": [
    "? complex"
   ]
  },
  {
   "cell_type": "markdown",
   "id": "functioning-passing",
   "metadata": {},
   "source": [
    "Note for convenience the init signature of the complex class uses keyword input arguments ```real``` and ```imag``` which have a default value of ```0``` unless explictly specified. We can set them to ```1``` and ```-2``` respectively."
   ]
  },
  {
   "cell_type": "code",
   "execution_count": 78,
   "id": "thick-bernard",
   "metadata": {},
   "outputs": [],
   "source": [
    "h=complex(real=1,imag=-2)"
   ]
  },
  {
   "cell_type": "code",
   "execution_count": 79,
   "id": "convinced-behalf",
   "metadata": {},
   "outputs": [
    {
     "data": {
      "text/plain": [
       "(1-2j)"
      ]
     },
     "execution_count": 79,
     "metadata": {},
     "output_type": "execute_result"
    }
   ],
   "source": [
    "h"
   ]
  },
  {
   "cell_type": "markdown",
   "id": "civic-coordinate",
   "metadata": {},
   "source": [
    "![complex_attributes_methods](complex_attributes_methods.png)"
   ]
  },
  {
   "cell_type": "markdown",
   "id": "concrete-summit",
   "metadata": {},
   "source": [
    "The attributes ```real``` and ```imag``` will look up the real and imaginary components respectively."
   ]
  },
  {
   "cell_type": "code",
   "execution_count": 80,
   "id": "minimal-credit",
   "metadata": {},
   "outputs": [
    {
     "data": {
      "text/plain": [
       "1.0"
      ]
     },
     "execution_count": 80,
     "metadata": {},
     "output_type": "execute_result"
    }
   ],
   "source": [
    "h.real"
   ]
  },
  {
   "cell_type": "code",
   "execution_count": 81,
   "id": "excellent-google",
   "metadata": {},
   "outputs": [
    {
     "data": {
      "text/plain": [
       "-2.0"
      ]
     },
     "execution_count": 81,
     "metadata": {},
     "output_type": "execute_result"
    }
   ],
   "source": [
    "h.imag"
   ]
  },
  {
   "cell_type": "code",
   "execution_count": 82,
   "id": "previous-tract",
   "metadata": {},
   "outputs": [
    {
     "data": {
      "text/plain": [
       "(1+2j)"
      ]
     },
     "execution_count": 82,
     "metadata": {},
     "output_type": "execute_result"
    }
   ],
   "source": [
    "h.conjugate()"
   ]
  },
  {
   "cell_type": "markdown",
   "id": "julian-missouri",
   "metadata": {},
   "source": [
    "## Text Variables - A String of Characters (str)"
   ]
  },
  {
   "cell_type": "markdown",
   "id": "premier-dancing",
   "metadata": {},
   "source": [
    "It is also possible to create a variable that is a string of text abbreviated ```str```. The string of text must be enclosed in quotation marks to prevent confusion with the variable name."
   ]
  },
  {
   "cell_type": "code",
   "execution_count": 83,
   "id": "broad-moscow",
   "metadata": {},
   "outputs": [],
   "source": [
    "i='i'"
   ]
  },
  {
   "cell_type": "markdown",
   "id": "intense-moral",
   "metadata": {},
   "source": [
    "The ```str``` ```'i'``` is assigned to the object name ```i```. Note the difference in the color coding between the ```str``` on the right hand side and the object name on the left hand side. "
   ]
  },
  {
   "cell_type": "markdown",
   "id": "blessed-turkish",
   "metadata": {},
   "source": [
    "Sometimes the ```str``` may require a quotation or other special characters. Note when a quotation is added to the ```str```, Python terminates the ```str``` opposed to including it within the ```str```."
   ]
  },
  {
   "cell_type": "markdown",
   "id": "fuzzy-niagara",
   "metadata": {},
   "source": [
    "![str_quotation](str_quotation.png)"
   ]
  },
  {
   "cell_type": "markdown",
   "id": "stupid-suite",
   "metadata": {},
   "source": [
    "This can be addressed using the special character ```\\``` to denote that a quotation is supposed to be incorporated into the ```str```."
   ]
  },
  {
   "cell_type": "code",
   "execution_count": 84,
   "id": "freelance-calculation",
   "metadata": {},
   "outputs": [
    {
     "data": {
      "text/plain": [
       "\"Philip's\""
      ]
     },
     "execution_count": 84,
     "metadata": {},
     "output_type": "execute_result"
    }
   ],
   "source": [
    "\"Philip's\""
   ]
  },
  {
   "cell_type": "markdown",
   "id": "dressed-investor",
   "metadata": {},
   "source": [
    "Note the output also shows that we can use double quotations for this particular case."
   ]
  },
  {
   "cell_type": "code",
   "execution_count": 85,
   "id": "smooth-happening",
   "metadata": {},
   "outputs": [
    {
     "data": {
      "text/plain": [
       "\"Philip's\""
      ]
     },
     "execution_count": 85,
     "metadata": {},
     "output_type": "execute_result"
    }
   ],
   "source": [
    "\"Philip's\""
   ]
  },
  {
   "cell_type": "markdown",
   "id": "worldwide-brush",
   "metadata": {},
   "source": [
    "We can see what the string of character looks like by using the ```print``` function."
   ]
  },
  {
   "cell_type": "code",
   "execution_count": 86,
   "id": "sticky-death",
   "metadata": {},
   "outputs": [
    {
     "name": "stdout",
     "output_type": "stream",
     "text": [
      "Philip's\n"
     ]
    }
   ],
   "source": [
    "print('Philip\\'s')"
   ]
  },
  {
   "cell_type": "markdown",
   "id": "separate-amsterdam",
   "metadata": {},
   "source": [
    "Sometimes we will need to use both double quotes and single quotes and we must use the special character ```\\``` to denote which quotes we want as part of the ```str```."
   ]
  },
  {
   "cell_type": "code",
   "execution_count": 87,
   "id": "loose-vertical",
   "metadata": {},
   "outputs": [
    {
     "data": {
      "text/plain": [
       "'Philip\\'s \"quote\"'"
      ]
     },
     "execution_count": 87,
     "metadata": {},
     "output_type": "execute_result"
    }
   ],
   "source": [
    "'Philip\\'s \\\"quote\\\"'"
   ]
  },
  {
   "cell_type": "code",
   "execution_count": 88,
   "id": "driving-literacy",
   "metadata": {},
   "outputs": [
    {
     "name": "stdout",
     "output_type": "stream",
     "text": [
      "Philip's \"quote\"\n"
     ]
    }
   ],
   "source": [
    "print('Philip\\'s \\\"quote\\\"')"
   ]
  },
  {
   "cell_type": "markdown",
   "id": "divided-secondary",
   "metadata": {},
   "source": [
    "The special character ```\\``` followed by a ```t``` and ```n``` denotes a new line and tab respectively."
   ]
  },
  {
   "cell_type": "code",
   "execution_count": 89,
   "id": "statistical-compact",
   "metadata": {},
   "outputs": [
    {
     "data": {
      "text/plain": [
       "'\\tPhilip\\'s \\n\"quote\"'"
      ]
     },
     "execution_count": 89,
     "metadata": {},
     "output_type": "execute_result"
    }
   ],
   "source": [
    "'\\tPhilip\\'s \\n\\\"quote\\\"'"
   ]
  },
  {
   "cell_type": "code",
   "execution_count": 90,
   "id": "spiritual-carry",
   "metadata": {},
   "outputs": [
    {
     "name": "stdout",
     "output_type": "stream",
     "text": [
      "\tPhilip's \n",
      "\"quote\"\n"
     ]
    }
   ],
   "source": [
    "print('\\tPhilip\\'s \\n\\\"quote\\\"')"
   ]
  },
  {
   "cell_type": "markdown",
   "id": "distant-october",
   "metadata": {},
   "source": [
    "In some cases for example file paths we need to use the special character ```\\``` as part of the ```str```. We must use ```\\\\```. The 0th ```\\``` denotes the fact we want to use a special character and the 1st ```\\``` denotes that we want to display ```\\```."
   ]
  },
  {
   "cell_type": "code",
   "execution_count": 91,
   "id": "suspected-affiliate",
   "metadata": {},
   "outputs": [
    {
     "data": {
      "text/plain": [
       "'C:\\\\Users'"
      ]
     },
     "execution_count": 91,
     "metadata": {},
     "output_type": "execute_result"
    }
   ],
   "source": [
    "'C:\\\\Users'"
   ]
  },
  {
   "cell_type": "code",
   "execution_count": 92,
   "id": "unlikely-evidence",
   "metadata": {},
   "outputs": [
    {
     "name": "stdout",
     "output_type": "stream",
     "text": [
      "C:\\Users\n"
     ]
    }
   ],
   "source": [
    "print('C:\\\\Users')"
   ]
  },
  {
   "cell_type": "markdown",
   "id": "excited-effectiveness",
   "metadata": {},
   "source": [
    "As file paths are used quite often in programming and copied from Windows Explorer which uses a single ```\\``` we also have a special string called a relative string. A special string prepends ```r``` in front of the quotation. Any ```\\``` seen in the ```str``` is automatically converted into a ```\\\\```."
   ]
  },
  {
   "cell_type": "code",
   "execution_count": 93,
   "id": "pretty-medication",
   "metadata": {},
   "outputs": [
    {
     "data": {
      "text/plain": [
       "'C:\\\\Users'"
      ]
     },
     "execution_count": 93,
     "metadata": {},
     "output_type": "execute_result"
    }
   ],
   "source": [
    "r'C:\\Users'"
   ]
  },
  {
   "cell_type": "markdown",
   "id": "dress-constraint",
   "metadata": {},
   "source": [
    "There is also a special string known as a formatted string. To use a formatted string prepend ```f``` to the front of the quotation. A formatted string can be used to place variables within the ```str``` by use of curly brackets ```{}```."
   ]
  },
  {
   "cell_type": "code",
   "execution_count": 94,
   "id": "standing-address",
   "metadata": {},
   "outputs": [
    {
     "name": "stdout",
     "output_type": "stream",
     "text": [
      "hello Philip\n"
     ]
    }
   ],
   "source": [
    "user='Philip'\n",
    "print(f'hello {user}')"
   ]
  },
  {
   "cell_type": "markdown",
   "id": "suited-blink",
   "metadata": {},
   "source": [
    "We can also explicitly instantiate (create an instance of) a ```str``` class."
   ]
  },
  {
   "cell_type": "code",
   "execution_count": 95,
   "id": "focused-sympathy",
   "metadata": {},
   "outputs": [
    {
     "data": {
      "text/plain": [
       "\u001b[1;31mInit signature:\u001b[0m  \u001b[0mstr\u001b[0m\u001b[1;33m(\u001b[0m\u001b[0mself\u001b[0m\u001b[1;33m,\u001b[0m \u001b[1;33m/\u001b[0m\u001b[1;33m,\u001b[0m \u001b[1;33m*\u001b[0m\u001b[0margs\u001b[0m\u001b[1;33m,\u001b[0m \u001b[1;33m**\u001b[0m\u001b[0mkwargs\u001b[0m\u001b[1;33m)\u001b[0m\u001b[1;33m\u001b[0m\u001b[1;33m\u001b[0m\u001b[0m\n",
       "\u001b[1;31mDocstring:\u001b[0m     \n",
       "str(object='') -> str\n",
       "str(bytes_or_buffer[, encoding[, errors]]) -> str\n",
       "\n",
       "Create a new string object from the given object. If encoding or\n",
       "errors is specified, then the object must expose a data buffer\n",
       "that will be decoded using the given encoding and error handler.\n",
       "Otherwise, returns the result of object.__str__() (if defined)\n",
       "or repr(object).\n",
       "encoding defaults to sys.getdefaultencoding().\n",
       "errors defaults to 'strict'.\n",
       "\u001b[1;31mType:\u001b[0m           type\n",
       "\u001b[1;31mSubclasses:\u001b[0m     DeferredConfigString, _rstr, LSString, include, ColorDepth, Keys, InputMode, CompleteStyle, SortKey\n"
      ]
     },
     "metadata": {},
     "output_type": "display_data"
    }
   ],
   "source": [
    "? str"
   ]
  },
  {
   "cell_type": "code",
   "execution_count": 96,
   "id": "quiet-saint",
   "metadata": {},
   "outputs": [],
   "source": [
    "j=str('philip')"
   ]
  },
  {
   "cell_type": "markdown",
   "id": "mediterranean-finance",
   "metadata": {},
   "source": [
    "![str_methods](str_methods.png)"
   ]
  },
  {
   "cell_type": "markdown",
   "id": "reverse-arrest",
   "metadata": {},
   "source": [
    "If we type in the instance name followed by a ```.``` and then ```↹``` we will see a list of attributes and methods. These are related to text objects (and hence applicable to the ```str``` class) opposed to numeric objects (```str```, ```float```, ```bool```, ```complex```) as seen previously."
   ]
  },
  {
   "cell_type": "markdown",
   "id": "growing-least",
   "metadata": {},
   "source": [
    "The method ```capitalize``` will capitalize the ```str```. Details about the input arguments can be found by typing in the function followed by ```↹``` and ```⇧``` or output to a cell by typing in ```?``` followed by the methods name (called from the object). In this case we see that there are no input arguments and the method transforms the original ```str``` returning it with a capital letter."
   ]
  },
  {
   "cell_type": "code",
   "execution_count": 97,
   "id": "natural-seller",
   "metadata": {},
   "outputs": [
    {
     "data": {
      "text/plain": [
       "\u001b[1;31mSignature:\u001b[0m  \u001b[0mj\u001b[0m\u001b[1;33m.\u001b[0m\u001b[0mcapitalize\u001b[0m\u001b[1;33m(\u001b[0m\u001b[1;33m)\u001b[0m\u001b[1;33m\u001b[0m\u001b[1;33m\u001b[0m\u001b[0m\n",
       "\u001b[1;31mDocstring:\u001b[0m\n",
       "Return a capitalized version of the string.\n",
       "\n",
       "More specifically, make the first character have upper case and the rest lower\n",
       "case.\n",
       "\u001b[1;31mType:\u001b[0m      builtin_function_or_method\n"
      ]
     },
     "metadata": {},
     "output_type": "display_data"
    }
   ],
   "source": [
    "? j.capitalize"
   ]
  },
  {
   "cell_type": "code",
   "execution_count": 98,
   "id": "southeast-iraqi",
   "metadata": {},
   "outputs": [
    {
     "data": {
      "text/plain": [
       "'Philip'"
      ]
     },
     "execution_count": 98,
     "metadata": {},
     "output_type": "execute_result"
    }
   ],
   "source": [
    "j.capitalize()"
   ]
  },
  {
   "cell_type": "markdown",
   "id": "mechanical-degree",
   "metadata": {},
   "source": [
    "We can use a similar method ```upper``` to make the entire ```str``` upper case."
   ]
  },
  {
   "cell_type": "code",
   "execution_count": 99,
   "id": "headed-capitol",
   "metadata": {},
   "outputs": [
    {
     "data": {
      "text/plain": [
       "'PHILIP'"
      ]
     },
     "execution_count": 99,
     "metadata": {},
     "output_type": "execute_result"
    }
   ],
   "source": [
    "j.upper()"
   ]
  },
  {
   "cell_type": "markdown",
   "id": "surrounded-lindsay",
   "metadata": {},
   "source": [
    "Note that ```j``` is unchanged and the output is just printed as the output of the cell."
   ]
  },
  {
   "cell_type": "code",
   "execution_count": 100,
   "id": "nuclear-cooper",
   "metadata": {},
   "outputs": [
    {
     "data": {
      "text/plain": [
       "'philip'"
      ]
     },
     "execution_count": 100,
     "metadata": {},
     "output_type": "execute_result"
    }
   ],
   "source": [
    "j"
   ]
  },
  {
   "cell_type": "markdown",
   "id": "optional-sherman",
   "metadata": {},
   "source": [
    "We can assign the output to the original object name to perform an inplace update."
   ]
  },
  {
   "cell_type": "code",
   "execution_count": 101,
   "id": "canadian-mambo",
   "metadata": {},
   "outputs": [],
   "source": [
    "j=j.upper()"
   ]
  },
  {
   "cell_type": "code",
   "execution_count": 102,
   "id": "identified-combine",
   "metadata": {},
   "outputs": [
    {
     "data": {
      "text/plain": [
       "'PHILIP'"
      ]
     },
     "execution_count": 102,
     "metadata": {},
     "output_type": "execute_result"
    }
   ],
   "source": [
    "j"
   ]
  },
  {
   "cell_type": "markdown",
   "id": "brazilian-martin",
   "metadata": {},
   "source": [
    "We also have the ```str``` method ```lower``` to return the ```str``` to lower case."
   ]
  },
  {
   "cell_type": "code",
   "execution_count": 103,
   "id": "cooked-willow",
   "metadata": {},
   "outputs": [],
   "source": [
    "j=j.lower()"
   ]
  },
  {
   "cell_type": "code",
   "execution_count": 104,
   "id": "brave-memorial",
   "metadata": {},
   "outputs": [
    {
     "data": {
      "text/plain": [
       "'philip'"
      ]
     },
     "execution_count": 104,
     "metadata": {},
     "output_type": "execute_result"
    }
   ],
   "source": [
    "j"
   ]
  },
  {
   "cell_type": "markdown",
   "id": "existing-victim",
   "metadata": {},
   "source": [
    "The ```str``` method ```replace``` can be used to replace an old value with a new value. Details about the input arguments can be found by typing in the function followed by ```↹``` and ```⇧``` or output to a cell by typing in ```?``` followed by the methods name (called from the object). The positional input arguments ```old``` and ```new``` must be placed in positional order between the parenthesis when calling this method."
   ]
  },
  {
   "cell_type": "code",
   "execution_count": 105,
   "id": "large-forum",
   "metadata": {},
   "outputs": [
    {
     "data": {
      "text/plain": [
       "\u001b[1;31mSignature:\u001b[0m  \u001b[0mj\u001b[0m\u001b[1;33m.\u001b[0m\u001b[0mreplace\u001b[0m\u001b[1;33m(\u001b[0m\u001b[0mold\u001b[0m\u001b[1;33m,\u001b[0m \u001b[0mnew\u001b[0m\u001b[1;33m,\u001b[0m \u001b[0mcount\u001b[0m\u001b[1;33m=\u001b[0m\u001b[1;33m-\u001b[0m\u001b[1;36m1\u001b[0m\u001b[1;33m,\u001b[0m \u001b[1;33m/\u001b[0m\u001b[1;33m)\u001b[0m\u001b[1;33m\u001b[0m\u001b[1;33m\u001b[0m\u001b[0m\n",
       "\u001b[1;31mDocstring:\u001b[0m\n",
       "Return a copy with all occurrences of substring old replaced by new.\n",
       "\n",
       "  count\n",
       "    Maximum number of occurrences to replace.\n",
       "    -1 (the default value) means replace all occurrences.\n",
       "\n",
       "If the optional argument count is given, only the first count occurrences are\n",
       "replaced.\n",
       "\u001b[1;31mType:\u001b[0m      builtin_function_or_method\n"
      ]
     },
     "metadata": {},
     "output_type": "display_data"
    }
   ],
   "source": [
    "? j.replace"
   ]
  },
  {
   "cell_type": "markdown",
   "id": "joint-cement",
   "metadata": {},
   "source": [
    "Some people spell my name with a ```'f'``` instead of a ```'ph'``` so let's use this as an example."
   ]
  },
  {
   "cell_type": "code",
   "execution_count": 106,
   "id": "blind-balloon",
   "metadata": {},
   "outputs": [
    {
     "data": {
      "text/plain": [
       "'filip'"
      ]
     },
     "execution_count": 106,
     "metadata": {},
     "output_type": "execute_result"
    }
   ],
   "source": [
    "j.replace('ph','f')"
   ]
  },
  {
   "cell_type": "markdown",
   "id": "flying-return",
   "metadata": {},
   "source": [
    "The (```+``` add) operater in a ```str``` performs concatenation of the ```str``` with another ```str```, for example if I want to concatenate my first name to my sirname."
   ]
  },
  {
   "cell_type": "code",
   "execution_count": 107,
   "id": "revolutionary-marshall",
   "metadata": {},
   "outputs": [
    {
     "data": {
      "text/plain": [
       "'PhilipYip'"
      ]
     },
     "execution_count": 107,
     "metadata": {},
     "output_type": "execute_result"
    }
   ],
   "source": [
    "'Philip'+'Yip'"
   ]
  },
  {
   "cell_type": "markdown",
   "id": "tribal-charter",
   "metadata": {},
   "source": [
    "Note that concatenation does not provide spacing. If I want to concatenate a space, I will have to concatenate one seperately."
   ]
  },
  {
   "cell_type": "code",
   "execution_count": 108,
   "id": "opposite-museum",
   "metadata": {},
   "outputs": [
    {
     "data": {
      "text/plain": [
       "'Philip Yip'"
      ]
     },
     "execution_count": 108,
     "metadata": {},
     "output_type": "execute_result"
    }
   ],
   "source": [
    "'Philip'+' '+'Yip'"
   ]
  },
  {
   "cell_type": "markdown",
   "id": "exposed-dubai",
   "metadata": {},
   "source": [
    "The (```*``` mul) operator will work between a str and an int n to replicate the str n times."
   ]
  },
  {
   "cell_type": "code",
   "execution_count": 109,
   "id": "floating-giving",
   "metadata": {},
   "outputs": [
    {
     "data": {
      "text/plain": [
       "'PhilipPhilipPhilipPhilipPhilip'"
      ]
     },
     "execution_count": 109,
     "metadata": {},
     "output_type": "execute_result"
    }
   ],
   "source": [
    "5*'Philip'"
   ]
  },
  {
   "cell_type": "markdown",
   "id": "suspended-sussex",
   "metadata": {},
   "source": [
    "Note that using the (```+``` add) operator instead will result in a ```TypeError```. This is because there is no logical behaviour for adding an ```int``` to an undefined value (a ```str``` does not equate to a number)."
   ]
  },
  {
   "cell_type": "markdown",
   "id": "fitting-cheat",
   "metadata": {},
   "source": [
    "```5+'Philip'```"
   ]
  },
  {
   "cell_type": "markdown",
   "id": "incoming-labor",
   "metadata": {},
   "source": [
    "![str_int_concatenate_typeerror](str_int_concatenate_typeerror.png)"
   ]
  },
  {
   "cell_type": "markdown",
   "id": "protecting-honor",
   "metadata": {},
   "source": [
    "Multiplying two ```str``` instances will also give a ```TypeError``` as there is no physical meaning behind this operation."
   ]
  },
  {
   "cell_type": "markdown",
   "id": "potential-cisco",
   "metadata": {},
   "source": [
    "```'Philip'*'Philip'```"
   ]
  },
  {
   "cell_type": "markdown",
   "id": "roman-sarah",
   "metadata": {},
   "source": [
    "![str_str_multiply_typeerror](str_str_multiply_typeerror.png)"
   ]
  },
  {
   "cell_type": "markdown",
   "id": "institutional-spiritual",
   "metadata": {},
   "source": [
    "Care should therefore be taken when working with different datatypes."
   ]
  },
  {
   "cell_type": "markdown",
   "id": "laden-infrared",
   "metadata": {},
   "source": [
    "## The print Function"
   ]
  },
  {
   "cell_type": "markdown",
   "id": "general-terrace",
   "metadata": {},
   "source": [
    "Let's have a look at the ```print``` function in more details. Details about the input arguments can be found by typing in the function followed by ```↹``` and ```⇧``` or output to a cell by typing in ```?``` followed by the methods name (called from the object). "
   ]
  },
  {
   "cell_type": "code",
   "execution_count": 110,
   "id": "toxic-temple",
   "metadata": {},
   "outputs": [
    {
     "data": {
      "text/plain": [
       "\u001b[1;31mDocstring:\u001b[0m\n",
       "print(value, ..., sep=' ', end='\\n', file=sys.stdout, flush=False)\n",
       "\n",
       "Prints the values to a stream, or to sys.stdout by default.\n",
       "Optional keyword arguments:\n",
       "file:  a file-like object (stream); defaults to the current sys.stdout.\n",
       "sep:   string inserted between values, default a space.\n",
       "end:   string appended after the last value, default a newline.\n",
       "flush: whether to forcibly flush the stream.\n",
       "\u001b[1;31mType:\u001b[0m      builtin_function_or_method\n"
      ]
     },
     "metadata": {},
     "output_type": "display_data"
    }
   ],
   "source": [
    "? print"
   ]
  },
  {
   "cell_type": "markdown",
   "id": "standard-stack",
   "metadata": {},
   "source": [
    "By default there is a single positional argument however the ```...``` denotes that we can place in multiple positional arguments to ```print```."
   ]
  },
  {
   "cell_type": "code",
   "execution_count": 111,
   "id": "robust-drill",
   "metadata": {},
   "outputs": [
    {
     "name": "stdout",
     "output_type": "stream",
     "text": [
      "hello\n"
     ]
    }
   ],
   "source": [
    "print('hello')"
   ]
  },
  {
   "cell_type": "markdown",
   "id": "automatic-semiconductor",
   "metadata": {},
   "source": [
    "The positional input arguments are specified in order by use of a ```,``` as a delimiter."
   ]
  },
  {
   "cell_type": "code",
   "execution_count": 112,
   "id": "apparent-christopher",
   "metadata": {},
   "outputs": [
    {
     "name": "stdout",
     "output_type": "stream",
     "text": [
      "hello goodbye\n"
     ]
    }
   ],
   "source": [
    "print('hello','goodbye')"
   ]
  },
  {
   "cell_type": "markdown",
   "id": "interesting-thought",
   "metadata": {},
   "source": [
    "Keyword input arguments have a default value. When these are not explicitly called the default value will be used. They can be called up and assigned to a different value. \n",
    "\n",
    "In the function ```print```, the keyword input arguments ```sep``` and ```end``` are both shown to have the default values of ```' '``` and ```'\\n'``` meaning when multiple positional input arguments are used in the ```print``` function they will be seperated by a space and the end of the line will end with a new line.\n",
    "\n",
    "When a function has both positional input and keyword input arguments, the positional input arguments must be placed in position at the beginning when calling the function. The keyword input arguments can be called in any order (or not called when the default values are desired) following these positional input arguments.\n",
    "\n",
    "Notice for example when the keyword input argument ```sep``` is specified as ```---``` the space that was seen between the two printed str becomes ```---``` and when the ```end``` is changed from ```'\\n'``` to ```''``` there is no new line."
   ]
  },
  {
   "cell_type": "code",
   "execution_count": 113,
   "id": "unique-tooth",
   "metadata": {},
   "outputs": [
    {
     "name": "stdout",
     "output_type": "stream",
     "text": [
      "hello---goodbye\n",
      "hello---goodbyehello---goodbye\n"
     ]
    }
   ],
   "source": [
    "print('hello','goodbye',sep='---')\n",
    "print('hello','goodbye',sep='---',end='')\n",
    "print('hello','goodbye',sep='---')"
   ]
  },
  {
   "cell_type": "markdown",
   "id": "cross-weekly",
   "metadata": {},
   "source": [
    "## The input Function"
   ]
  },
  {
   "cell_type": "markdown",
   "id": "domestic-cyprus",
   "metadata": {},
   "source": [
    "The input function can be used to gather information from a user. Details about the input arguments can be found by typing in the function followed by ```↹``` and ```⇧``` or output to a cell by typing in ```?``` followed by the methods name (called from the object). \n",
    "\n",
    "The keyword input argument ```prompt``` (also acts as a positional input argument) is a question to ask the user."
   ]
  },
  {
   "cell_type": "code",
   "execution_count": 114,
   "id": "changing-lighter",
   "metadata": {},
   "outputs": [
    {
     "data": {
      "text/plain": [
       "\u001b[1;31mSignature:\u001b[0m  \u001b[0minput\u001b[0m\u001b[1;33m(\u001b[0m\u001b[0mprompt\u001b[0m\u001b[1;33m=\u001b[0m\u001b[1;34m''\u001b[0m\u001b[1;33m)\u001b[0m\u001b[1;33m\u001b[0m\u001b[1;33m\u001b[0m\u001b[0m\n",
       "\u001b[1;31mDocstring:\u001b[0m\n",
       "Forward raw_input to frontends\n",
       "\n",
       "Raises\n",
       "------\n",
       "StdinNotImplentedError if active frontend doesn't support stdin.\n",
       "\u001b[1;31mFile:\u001b[0m      c:\\users\\phili\\anaconda3\\lib\\site-packages\\ipykernel\\kernelbase.py\n",
       "\u001b[1;31mType:\u001b[0m      method\n"
      ]
     },
     "metadata": {},
     "output_type": "display_data"
    }
   ],
   "source": [
    "? input"
   ]
  },
  {
   "cell_type": "markdown",
   "id": "facial-triumph",
   "metadata": {},
   "source": [
    "To prevent the input statements from holding up the Python Kernel, the code containing input statements will be placed in a markdown cell and screenshots of the output will be placed in the markdown cell."
   ]
  },
  {
   "cell_type": "markdown",
   "id": "wound-tuner",
   "metadata": {},
   "source": [
    "```\n",
    "yourname=input(prompt='What is your name?')\n",
    "print(f'hello {yourname}')\n",
    "```"
   ]
  },
  {
   "cell_type": "markdown",
   "id": "saving-collaboration",
   "metadata": {},
   "source": [
    "When it is ran the cell will be marked with a ```*```. The dialog box will display waiting for the user to input a ```str```."
   ]
  },
  {
   "cell_type": "markdown",
   "id": "tribal-event",
   "metadata": {},
   "source": [
    "![input_statement1](input_statement1.png)"
   ]
  },
  {
   "cell_type": "markdown",
   "id": "known-company",
   "metadata": {},
   "source": [
    "Anything the user inputs will be converted to a ```str``` (the user should not include the quotations) and in this case the ```str``` input by the user will be incorporated into the ```print``` statement."
   ]
  },
  {
   "cell_type": "markdown",
   "id": "private-concentration",
   "metadata": {},
   "source": [
    "![input_statement2](input_statement2.png)"
   ]
  },
  {
   "cell_type": "markdown",
   "id": "blank-petersburg",
   "metadata": {},
   "source": [
    "Input statements always return a ```str``` and therefore the following code will not work as intended."
   ]
  },
  {
   "cell_type": "markdown",
   "id": "personalized-knife",
   "metadata": {},
   "source": [
    "```\n",
    "number1=input(prompt='input a number')\n",
    "number2=input(prompt='input a second number')\n",
    "total=number1+number2\n",
    "print(f'the sum of your numbers is {total}')\n",
    "```"
   ]
  },
  {
   "cell_type": "markdown",
   "id": "standing-metabolism",
   "metadata": {},
   "source": [
    "The value total returned is ```'22'``` opposed to ```'4'```."
   ]
  },
  {
   "cell_type": "markdown",
   "id": "vulnerable-police",
   "metadata": {},
   "source": [
    "![input_statement3](input_statement3.png)"
   ]
  },
  {
   "cell_type": "markdown",
   "id": "amended-rabbit",
   "metadata": {},
   "source": [
    "If we look at the types."
   ]
  },
  {
   "cell_type": "markdown",
   "id": "native-syndrome",
   "metadata": {},
   "source": [
    "```type(number1)```"
   ]
  },
  {
   "cell_type": "markdown",
   "id": "photographic-diesel",
   "metadata": {},
   "source": [
    "```type(number2)```"
   ]
  },
  {
   "cell_type": "markdown",
   "id": "neural-damage",
   "metadata": {},
   "source": [
    "We see they are both of the type ```str```."
   ]
  },
  {
   "cell_type": "markdown",
   "id": "educational-bankruptcy",
   "metadata": {},
   "source": [
    "![input_statement4](input_statement4.png)"
   ]
  },
  {
   "cell_type": "markdown",
   "id": "spread-basket",
   "metadata": {},
   "source": [
    "This means our code essentially does this."
   ]
  },
  {
   "cell_type": "code",
   "execution_count": 115,
   "id": "empty-wallet",
   "metadata": {},
   "outputs": [
    {
     "data": {
      "text/plain": [
       "'22'"
      ]
     },
     "execution_count": 115,
     "metadata": {},
     "output_type": "execute_result"
    }
   ],
   "source": [
    "'2'+'2'"
   ]
  },
  {
   "cell_type": "markdown",
   "id": "irish-aging",
   "metadata": {},
   "source": [
    "Recall that the ```+``` add operator for a ```str``` performs concatenation and not addition like we want in this example."
   ]
  },
  {
   "cell_type": "code",
   "execution_count": 116,
   "id": "hearing-outreach",
   "metadata": {},
   "outputs": [
    {
     "data": {
      "text/plain": [
       "4"
      ]
     },
     "execution_count": 116,
     "metadata": {},
     "output_type": "execute_result"
    }
   ],
   "source": [
    "2+2"
   ]
  },
  {
   "cell_type": "markdown",
   "id": "massive-picture",
   "metadata": {},
   "source": [
    "To get around this we need to convert our ```str``` into a number."
   ]
  },
  {
   "cell_type": "code",
   "execution_count": 117,
   "id": "czech-stick",
   "metadata": {},
   "outputs": [],
   "source": [
    "k='2'"
   ]
  },
  {
   "cell_type": "markdown",
   "id": "legitimate-backup",
   "metadata": {},
   "source": [
    "Since the numer is a str of an ```int```, we can use the ```int``` class to do this."
   ]
  },
  {
   "cell_type": "code",
   "execution_count": 118,
   "id": "common-quarter",
   "metadata": {},
   "outputs": [],
   "source": [
    "k=int(k)"
   ]
  },
  {
   "cell_type": "markdown",
   "id": "contemporary-model",
   "metadata": {},
   "source": [
    "```\n",
    "number1=input(prompt='input a number')\n",
    "number1=int(number1)\n",
    "number2=input(prompt='input a second number')\n",
    "number2=int(number2)\n",
    "total=number1+number2\n",
    "print(f'the sum of your numbers is {total}')\n",
    "```"
   ]
  },
  {
   "cell_type": "markdown",
   "id": "latter-mounting",
   "metadata": {},
   "source": [
    "This works when both numbers input are ```int``` as expected."
   ]
  },
  {
   "cell_type": "markdown",
   "id": "dated-structure",
   "metadata": {},
   "source": [
    "![input_statement5](input_statement5.png)"
   ]
  },
  {
   "cell_type": "markdown",
   "id": "egyptian-circulation",
   "metadata": {},
   "source": [
    "However if the number being input is input as a ```float``` it will lead to a ```ValueError```. This is because the class ```int``` does not recognise a ```str``` with a ```.``` in it as valid."
   ]
  },
  {
   "cell_type": "markdown",
   "id": "educated-muscle",
   "metadata": {},
   "source": [
    "![input_valueerror](input_valueerror.png)"
   ]
  },
  {
   "cell_type": "markdown",
   "id": "derived-meaning",
   "metadata": {},
   "source": [
    "To get around this we can use the ```float``` class instead."
   ]
  },
  {
   "cell_type": "markdown",
   "id": "dietary-monte",
   "metadata": {},
   "source": [
    "```\n",
    "number1=input(prompt='input a number')\n",
    "number1=float(number1)\n",
    "number2=input(prompt='input a second number')\n",
    "number2=float(number2)\n",
    "total=number1+number2\n",
    "print(f'the sum of your numbers is {total}')\n",
    "```"
   ]
  },
  {
   "cell_type": "markdown",
   "id": "prompt-amazon",
   "metadata": {},
   "source": [
    "![input_statement6](input_statement6.png)"
   ]
  },
  {
   "cell_type": "markdown",
   "id": "infrared-labor",
   "metadata": {},
   "source": [
    "## if, elif and else Branching"
   ]
  },
  {
   "cell_type": "markdown",
   "id": "wired-answer",
   "metadata": {},
   "source": [
    "So far all the code above has been procedural, starting from the top of a cell and continuing down to the bottom of the cell. Sometimes we may want to construct a condition (using a Boolean value) and then execute certain code only if the condition is satisfied.\n",
    "\n",
    "An analogy to this is driving a car. So far we have only travelled straight and have not had the ability to turn either left or right."
   ]
  },
  {
   "cell_type": "markdown",
   "id": "patent-aurora",
   "metadata": {},
   "source": [
    "We can use an ```if``` statement containing a condition that will execute the code belonging to the ```if``` statement only ```if``` the condition is ```True```."
   ]
  },
  {
   "cell_type": "code",
   "execution_count": 119,
   "id": "distinct-japan",
   "metadata": {},
   "outputs": [
    {
     "name": "stdout",
     "output_type": "stream",
     "text": [
      "Condition is True\n",
      "Continuing as Usual\n"
     ]
    }
   ],
   "source": [
    "condition=True\n",
    "if condition:\n",
    "    print('Condition is True')\n",
    "\n",
    "print('Continuing as Usual')"
   ]
  },
  {
   "cell_type": "code",
   "execution_count": 120,
   "id": "hispanic-conviction",
   "metadata": {},
   "outputs": [
    {
     "name": "stdout",
     "output_type": "stream",
     "text": [
      "Continuing as Usual\n"
     ]
    }
   ],
   "source": [
    "condition=False\n",
    "if condition:\n",
    "    print('Condition is True')\n",
    "\n",
    "print('Continuing as Usual')"
   ]
  },
  {
   "cell_type": "markdown",
   "id": "identical-prompt",
   "metadata": {},
   "source": [
    "Comparing the two above we see that ```'Condition is True'``` is only printed for the top cell and not in the bottom cell."
   ]
  },
  {
   "cell_type": "markdown",
   "id": "extreme-banner",
   "metadata": {},
   "source": [
    "Let's have a look at the syntax in more detail. Following the ```if``` statement there is a condition and then a ```:``` The ```:``` indicates the beginning of a code block. Any code belonging to the code block must be indented by 4 spaces. A blank line is usually also left after ending a group of code blocks.\n",
    "\n",
    "Code that is not indented does not belong to the code block and will be implemented regardless of the condition."
   ]
  },
  {
   "cell_type": "markdown",
   "id": "round-teddy",
   "metadata": {},
   "source": [
    "An ```if``` code block can be associated with an ```else``` code block. Once again a colon ```:``` is used to denote the beginning of a code block and any code belonging to the code block is indented by 4 spaces. There is no condition stated after the keyword ```else``` as by definition it will be carried out when the condition checked in the ```if``` statement is ```False```."
   ]
  },
  {
   "cell_type": "code",
   "execution_count": 121,
   "id": "expensive-crown",
   "metadata": {},
   "outputs": [
    {
     "name": "stdout",
     "output_type": "stream",
     "text": [
      "Condition is True\n",
      "Continuing as Usual\n"
     ]
    }
   ],
   "source": [
    "condition=True\n",
    "if condition:\n",
    "    print('Condition is True')\n",
    "else:\n",
    "    print('Condition is False')\n",
    "\n",
    "print('Continuing as Usual')"
   ]
  },
  {
   "cell_type": "code",
   "execution_count": 122,
   "id": "plastic-exhaust",
   "metadata": {},
   "outputs": [
    {
     "name": "stdout",
     "output_type": "stream",
     "text": [
      "Condition is False\n",
      "Continuing as Usual\n"
     ]
    }
   ],
   "source": [
    "condition=False\n",
    "if condition:\n",
    "    print('Condition is True')\n",
    "else:\n",
    "    print('Condition is False')\n",
    "\n",
    "print('Continuing as Usual')"
   ]
  },
  {
   "cell_type": "markdown",
   "id": "generous-standard",
   "metadata": {},
   "source": [
    "A number of ```elif``` conditions (an abbreviation for else if) code blocks can be created in a similar manner. Returning to the analogy of a car, think of this as multiple way junction."
   ]
  },
  {
   "cell_type": "code",
   "execution_count": 123,
   "id": "fancy-petroleum",
   "metadata": {},
   "outputs": [
    {
     "name": "stdout",
     "output_type": "stream",
     "text": [
      "Condition 2 is True\n",
      "Continuing as Usual\n"
     ]
    }
   ],
   "source": [
    "condition1=False\n",
    "condition2=True\n",
    "if condition1:\n",
    "    print('Condition 1 is True')\n",
    "elif condition2:\n",
    "    print('Condition 2 is True')\n",
    "else:\n",
    "    print('Conditions are False')\n",
    "\n",
    "print('Continuing as Usual')"
   ]
  },
  {
   "cell_type": "markdown",
   "id": "developed-return",
   "metadata": {},
   "source": [
    "Note when using ```if```, ```elif``` and ```else``` code blocks only the top code block that has a ```True``` condition will be implemented. In the example below the ```elif``` code block is not executed because the ```if``` code block has been executed. Returning to the analogy of a car and a multi-way junction, the car has already turned and exited the junction."
   ]
  },
  {
   "cell_type": "code",
   "execution_count": 124,
   "id": "widespread-bangladesh",
   "metadata": {},
   "outputs": [
    {
     "name": "stdout",
     "output_type": "stream",
     "text": [
      "Condition 1 is True\n",
      "Continuing as Usual\n"
     ]
    }
   ],
   "source": [
    "condition1=True\n",
    "condition2=True\n",
    "if condition1:\n",
    "    print('Condition 1 is True')\n",
    "elif condition2:\n",
    "    print('Condition 2 is True')\n",
    "else:\n",
    "    print('Conditions are False')\n",
    "\n",
    "print('Continuing as Usual')"
   ]
  },
  {
   "cell_type": "markdown",
   "id": "driving-deadline",
   "metadata": {},
   "source": [
    "The code above can therefore be amended to check for both conditions using ```and``` or ```&``` (either the full word or the symbol can be used) which will return ```True``` only ```if``` both conditions are ```True```."
   ]
  },
  {
   "cell_type": "code",
   "execution_count": 125,
   "id": "nutritional-anxiety",
   "metadata": {},
   "outputs": [
    {
     "name": "stdout",
     "output_type": "stream",
     "text": [
      "Condition 1 is True\n",
      "Condition 2 is True\n",
      "Continuing as Usual\n"
     ]
    }
   ],
   "source": [
    "condition1=True\n",
    "condition2=True\n",
    "if condition1 & condition2:\n",
    "    print('Condition 1 is True')\n",
    "    print('Condition 2 is True')   \n",
    "elif condition1:\n",
    "    print('Condition 1 is True')\n",
    "elif condition2:\n",
    "    print('Condition 2 is True')    \n",
    "else:\n",
    "    print('Conditions are False')\n",
    "\n",
    "print('Continuing as Usual')"
   ]
  },
  {
   "cell_type": "markdown",
   "id": "superb-caribbean",
   "metadata": {},
   "source": [
    "Alternatively it can be amended to use ```or``` or ```|``` (once again either the full word or the symbol can be used) which will return ```True``` ```if``` either one of the conditions are ```True```."
   ]
  },
  {
   "cell_type": "code",
   "execution_count": 126,
   "id": "controlled-dover",
   "metadata": {},
   "outputs": [
    {
     "name": "stdout",
     "output_type": "stream",
     "text": [
      "A Condition is True\n",
      "Continuing as Usual\n"
     ]
    }
   ],
   "source": [
    "condition1=True\n",
    "condition2=True\n",
    "if condition1 | condition2:\n",
    "    print('A Condition is True')\n",
    "else:\n",
    "    print('Conditions are False')\n",
    "\n",
    "print('Continuing as Usual')"
   ]
  },
  {
   "cell_type": "markdown",
   "id": "literary-cyprus",
   "metadata": {},
   "source": [
    "```if```, ```elif```, ```else``` statements can be nested. Take careful note where the ```:``` and 4 character indentations are used."
   ]
  },
  {
   "cell_type": "code",
   "execution_count": 127,
   "id": "useful-silver",
   "metadata": {},
   "outputs": [
    {
     "name": "stdout",
     "output_type": "stream",
     "text": [
      "A Condition is True\n",
      "Condition 1 is True\n",
      "Continuing as Usual\n"
     ]
    }
   ],
   "source": [
    "condition1=True\n",
    "condition2=True\n",
    "if condition1 | condition2:\n",
    "    print('A Condition is True')\n",
    "    if condition1:\n",
    "        print('Condition 1 is True')\n",
    "    else:\n",
    "        print('Condition 2 is True')\n",
    "else:\n",
    "    print('Conditions are False')\n",
    "\n",
    "print('Continuing as Usual')"
   ]
  },
  {
   "cell_type": "markdown",
   "id": "negative-prerequisite",
   "metadata": {},
   "source": [
    "## try and except Branching"
   ]
  },
  {
   "cell_type": "markdown",
   "id": "geological-value",
   "metadata": {},
   "source": [
    "Earlier we used the ```input``` function to import a ```float``` (in the form of a ```str```) and then when we attempted to convert it to an ```int``` we got a ```ValueError```. We can instead use a ```try``` code block and an ```except``` code block. These branches share commonalities with the ```if``` and ```else``` blocks except they use the absence and presence of an error as a condition."
   ]
  },
  {
   "cell_type": "code",
   "execution_count": 128,
   "id": "portuguese-database",
   "metadata": {},
   "outputs": [
    {
     "name": "stdout",
     "output_type": "stream",
     "text": [
      "k is not an int and is unchanged.\n"
     ]
    }
   ],
   "source": [
    "k='2.1'\n",
    "try:\n",
    "    k=int(k)\n",
    "except:\n",
    "    print('k is not an int and is unchanged.')"
   ]
  },
  {
   "cell_type": "markdown",
   "id": "blind-technician",
   "metadata": {},
   "source": [
    "```except``` can be setup to look for a specific error, in this case let's look for both a ```NameError``` and ```ValueError```."
   ]
  },
  {
   "cell_type": "code",
   "execution_count": 129,
   "id": "angry-uzbekistan",
   "metadata": {},
   "outputs": [
    {
     "name": "stdout",
     "output_type": "stream",
     "text": [
      "ValueError. k is not an int and is unchanged.\n"
     ]
    }
   ],
   "source": [
    "k='2.1'\n",
    "try:\n",
    "    k=int(k)\n",
    "except NameError:\n",
    "    print('NameError. k is not assigned.')\n",
    "except ValueError:\n",
    "    print('ValueError. k is not an int and is unchanged.')\n",
    "except:\n",
    "    print('Some other error. k is unchanged.')"
   ]
  },
  {
   "cell_type": "markdown",
   "id": "formed-grounds",
   "metadata": {},
   "source": [
    "We can modify the code to delete the object ```k``` before entering the ```try``` code block which will give a ```NameError```."
   ]
  },
  {
   "cell_type": "code",
   "execution_count": 130,
   "id": "fitting-piano",
   "metadata": {},
   "outputs": [
    {
     "name": "stdout",
     "output_type": "stream",
     "text": [
      "NameError. k is not assigned.\n"
     ]
    }
   ],
   "source": [
    "del(k)\n",
    "try:\n",
    "    k=int(k)\n",
    "except NameError:\n",
    "    print('NameError. k is not assigned.')\n",
    "except ValueError:\n",
    "    print('ValueError. k is not an int and is unchanged.')\n",
    "except:\n",
    "    print('Some other error. k is unchanged.')"
   ]
  },
  {
   "cell_type": "markdown",
   "id": "unique-survey",
   "metadata": {},
   "source": [
    "```ValueError``` will display if ```k``` is a ```str``` of a ```float``` or a ```str``` of alphabetical characters. We can usenested ```try``` and ```except``` code blocks to attempt to ```try``` to convert ```k``` to a ```float``` or to inform the user that ```k``` is neither an ```int``` or ```float```. Let's test this by assigning ```k``` to ```'2.1'``` and ```'a'``` respectively."
   ]
  },
  {
   "cell_type": "code",
   "execution_count": 131,
   "id": "peaceful-seeking",
   "metadata": {},
   "outputs": [
    {
     "name": "stdout",
     "output_type": "stream",
     "text": [
      "k is a float.\n"
     ]
    }
   ],
   "source": [
    "k='2.1'\n",
    "try:\n",
    "    k=int(k)\n",
    "    print('k is an int')\n",
    "except NameError:\n",
    "    print('NameError. k is not assigned.')\n",
    "except ValueError:\n",
    "    try:\n",
    "        k=float(k)\n",
    "        print('k is a float.')\n",
    "    except:\n",
    "        print('ValueError. k is not an int or float and is unchanged.')        \n",
    "except:\n",
    "    print('Some other error. k is not an int and is unchanged.')"
   ]
  },
  {
   "cell_type": "code",
   "execution_count": 132,
   "id": "incident-frederick",
   "metadata": {},
   "outputs": [
    {
     "name": "stdout",
     "output_type": "stream",
     "text": [
      "ValueError. k is not an int or float and is unchanged.\n"
     ]
    }
   ],
   "source": [
    "k='a'\n",
    "try:\n",
    "    k=int(k)\n",
    "    print('k is an int')\n",
    "except NameError:\n",
    "    print('NameError. k is not assigned.')\n",
    "except ValueError:\n",
    "    try:\n",
    "        k=float(k)\n",
    "        print('k is a float.')\n",
    "    except:\n",
    "        print('ValueError. k is not an int or float and is unchanged.')        \n",
    "except:\n",
    "    print('Some other error. k is not an int and is unchanged.')"
   ]
  },
  {
   "cell_type": "markdown",
   "id": "opposite-progress",
   "metadata": {},
   "source": [
    "It is also possible to check for a condition and raise an error using the keyword ```raise```."
   ]
  },
  {
   "cell_type": "markdown",
   "id": "prostate-shark",
   "metadata": {},
   "source": [
    "```\n",
    "k='a'\n",
    "if type(k)!=int:\n",
    "        raise TypeError('k must be an int')\n",
    "```"
   ]
  },
  {
   "cell_type": "markdown",
   "id": "bulgarian-latino",
   "metadata": {},
   "source": [
    "![raise_error](raise_error.png)"
   ]
  },
  {
   "cell_type": "markdown",
   "id": "satisfied-penalty",
   "metadata": {},
   "source": [
    "## Custom functions"
   ]
  },
  {
   "cell_type": "markdown",
   "id": "former-indonesia",
   "metadata": {},
   "source": [
    "We have already seen how to use inbuilt functions such as ```print``` and ```input```."
   ]
  },
  {
   "cell_type": "code",
   "execution_count": 133,
   "id": "sticky-devices",
   "metadata": {},
   "outputs": [
    {
     "data": {
      "text/plain": [
       "<function print>"
      ]
     },
     "execution_count": 133,
     "metadata": {},
     "output_type": "execute_result"
    }
   ],
   "source": [
    "print"
   ]
  },
  {
   "cell_type": "code",
   "execution_count": 134,
   "id": "driven-reward",
   "metadata": {},
   "outputs": [
    {
     "data": {
      "text/plain": [
       "<bound method Kernel.raw_input of <ipykernel.ipkernel.IPythonKernel object at 0x000001FF44C70760>>"
      ]
     },
     "execution_count": 134,
     "metadata": {},
     "output_type": "execute_result"
    }
   ],
   "source": [
    "input"
   ]
  },
  {
   "cell_type": "markdown",
   "id": "lonely-jewelry",
   "metadata": {},
   "source": [
    "When these are called without parenthesis we just get told that they are a function."
   ]
  },
  {
   "cell_type": "markdown",
   "id": "inside-green",
   "metadata": {},
   "source": [
    "To use a function it must be called with parenthesis. Details about the input arguments can be found by typing in the function followed by ```↹``` and ```⇧``` or output to a cell by typing in ```?``` followed by the methods name (called from the object). "
   ]
  },
  {
   "cell_type": "code",
   "execution_count": 135,
   "id": "compound-style",
   "metadata": {},
   "outputs": [
    {
     "data": {
      "text/plain": [
       "\u001b[1;31mDocstring:\u001b[0m\n",
       "print(value, ..., sep=' ', end='\\n', file=sys.stdout, flush=False)\n",
       "\n",
       "Prints the values to a stream, or to sys.stdout by default.\n",
       "Optional keyword arguments:\n",
       "file:  a file-like object (stream); defaults to the current sys.stdout.\n",
       "sep:   string inserted between values, default a space.\n",
       "end:   string appended after the last value, default a newline.\n",
       "flush: whether to forcibly flush the stream.\n",
       "\u001b[1;31mType:\u001b[0m      builtin_function_or_method\n"
      ]
     },
     "metadata": {},
     "output_type": "display_data"
    }
   ],
   "source": [
    "? print"
   ]
  },
  {
   "cell_type": "markdown",
   "id": "naughty-milwaukee",
   "metadata": {},
   "source": [
    "We can call this function with positional and keyword input arguments as discussed in more detail above."
   ]
  },
  {
   "cell_type": "code",
   "execution_count": 136,
   "id": "incorporated-statistics",
   "metadata": {},
   "outputs": [
    {
     "name": "stdout",
     "output_type": "stream",
     "text": [
      "hello---goodbye\n"
     ]
    }
   ],
   "source": [
    "print('hello','goodbye',sep='---')"
   ]
  },
  {
   "cell_type": "markdown",
   "id": "beginning-chain",
   "metadata": {},
   "source": [
    "With the above in mind we can create our own function. \n",
    "\n",
    "First we need to define the function using the keyword ```def``` followed by the function name (which follows the same rules behind object names) and parenthesis. Then we use a ```:``` to start a code block. Like the code blocks we've seen earlier any code belonging to the code block is indented by 4 spaces. Let's create a custom ```print_three``` function. This will have no input arguments."
   ]
  },
  {
   "cell_type": "code",
   "execution_count": 137,
   "id": "interested-measurement",
   "metadata": {},
   "outputs": [],
   "source": [
    "def print_three():\n",
    "    print(3)"
   ]
  },
  {
   "cell_type": "markdown",
   "id": "dying-notice",
   "metadata": {},
   "source": [
    "If we call it without any parenthesis we will just be informed that it is a function."
   ]
  },
  {
   "cell_type": "code",
   "execution_count": 138,
   "id": "subtle-quest",
   "metadata": {},
   "outputs": [
    {
     "data": {
      "text/plain": [
       "<function __main__.print_three()>"
      ]
     },
     "execution_count": 138,
     "metadata": {},
     "output_type": "execute_result"
    }
   ],
   "source": [
    "print_three"
   ]
  },
  {
   "cell_type": "markdown",
   "id": "destroyed-consequence",
   "metadata": {},
   "source": [
    "Details about the input arguments can be found by typing in the function followed by ```↹``` and ```⇧``` or output to a cell by typing in ```?``` followed by the functions name. \n",
    "\n",
    "In this case we have not provided a Docstring so we get no details about the function. We can update it to include one. We use triple quotations to denote the creation of a Docstring."
   ]
  },
  {
   "cell_type": "code",
   "execution_count": 139,
   "id": "collect-large",
   "metadata": {},
   "outputs": [
    {
     "data": {
      "text/plain": [
       "\u001b[1;31mSignature:\u001b[0m  \u001b[0mprint_three\u001b[0m\u001b[1;33m(\u001b[0m\u001b[1;33m)\u001b[0m\u001b[1;33m\u001b[0m\u001b[1;33m\u001b[0m\u001b[0m\n",
       "\u001b[1;31mDocstring:\u001b[0m <no docstring>\n",
       "\u001b[1;31mFile:\u001b[0m      c:\\users\\phili\\documents\\1. object orientated programming\\<ipython-input-137-42746b27e68e>\n",
       "\u001b[1;31mType:\u001b[0m      function\n"
      ]
     },
     "metadata": {},
     "output_type": "display_data"
    }
   ],
   "source": [
    "? print_three"
   ]
  },
  {
   "cell_type": "code",
   "execution_count": 140,
   "id": "coral-behavior",
   "metadata": {},
   "outputs": [],
   "source": [
    "def print_three():\n",
    "    '''This will print the number 3.'''\n",
    "    print(3)"
   ]
  },
  {
   "cell_type": "markdown",
   "id": "verbal-negative",
   "metadata": {},
   "source": [
    "Now the Docstring displays. Note we do not mention any details about input arguments in the custom function so the user will therefore infer that the function has no input arguments."
   ]
  },
  {
   "cell_type": "code",
   "execution_count": 141,
   "id": "requested-command",
   "metadata": {},
   "outputs": [
    {
     "data": {
      "text/plain": [
       "\u001b[1;31mSignature:\u001b[0m  \u001b[0mprint_three\u001b[0m\u001b[1;33m(\u001b[0m\u001b[1;33m)\u001b[0m\u001b[1;33m\u001b[0m\u001b[1;33m\u001b[0m\u001b[0m\n",
       "\u001b[1;31mDocstring:\u001b[0m This will print the number 3.\n",
       "\u001b[1;31mFile:\u001b[0m      c:\\users\\phili\\documents\\1. object orientated programming\\<ipython-input-140-f8cd78fca3d6>\n",
       "\u001b[1;31mType:\u001b[0m      function\n"
      ]
     },
     "metadata": {},
     "output_type": "display_data"
    }
   ],
   "source": [
    "? print_three"
   ]
  },
  {
   "cell_type": "markdown",
   "id": "moving-mechanism",
   "metadata": {},
   "source": [
    "The custom function can therefore be called and prints the number 3 as expected."
   ]
  },
  {
   "cell_type": "code",
   "execution_count": 142,
   "id": "valid-marijuana",
   "metadata": {},
   "outputs": [
    {
     "name": "stdout",
     "output_type": "stream",
     "text": [
      "3\n"
     ]
    }
   ],
   "source": [
    "print_three()"
   ]
  },
  {
   "cell_type": "markdown",
   "id": "played-denver",
   "metadata": {},
   "source": [
    "There are 25.4 mm in an inch. Let's create a custom function that converts inches to mm. This will have a single positional input argument ```input_inches```."
   ]
  },
  {
   "cell_type": "code",
   "execution_count": 143,
   "id": "raised-latex",
   "metadata": {},
   "outputs": [],
   "source": [
    "def inch2mm(input_inches):\n",
    "    '''Prints the value of input_inches to output_mm.'''\n",
    "    output_mm=25.4*input_inches\n",
    "    print(output_mm)"
   ]
  },
  {
   "cell_type": "markdown",
   "id": "suspended-gambling",
   "metadata": {},
   "source": [
    "Details about the input arguments can be found by typing in the function name followed by ```↹``` and ```⇧``` or output to a cell by typing in ```?``` followed by the functions name. "
   ]
  },
  {
   "cell_type": "code",
   "execution_count": 144,
   "id": "documented-stand",
   "metadata": {},
   "outputs": [
    {
     "data": {
      "text/plain": [
       "\u001b[1;31mSignature:\u001b[0m  \u001b[0minch2mm\u001b[0m\u001b[1;33m(\u001b[0m\u001b[0minput_inches\u001b[0m\u001b[1;33m)\u001b[0m\u001b[1;33m\u001b[0m\u001b[1;33m\u001b[0m\u001b[0m\n",
       "\u001b[1;31mDocstring:\u001b[0m Prints the value of input_inches to output_mm.\n",
       "\u001b[1;31mFile:\u001b[0m      c:\\users\\phili\\documents\\1. object orientated programming\\<ipython-input-143-6950858db14b>\n",
       "\u001b[1;31mType:\u001b[0m      function\n"
      ]
     },
     "metadata": {},
     "output_type": "display_data"
    }
   ],
   "source": [
    "? inch2mm"
   ]
  },
  {
   "cell_type": "markdown",
   "id": "removable-lotus",
   "metadata": {},
   "source": [
    "Now we can use it to print the value of 2 inches."
   ]
  },
  {
   "cell_type": "code",
   "execution_count": 145,
   "id": "subtle-guyana",
   "metadata": {},
   "outputs": [
    {
     "name": "stdout",
     "output_type": "stream",
     "text": [
      "50.8\n"
     ]
    }
   ],
   "source": [
    "inch2mm(2)"
   ]
  },
  {
   "cell_type": "markdown",
   "id": "animated-acquisition",
   "metadata": {},
   "source": [
    "Note that we have used the print statement to print the output."
   ]
  },
  {
   "cell_type": "code",
   "execution_count": 146,
   "id": "iraqi-croatia",
   "metadata": {},
   "outputs": [
    {
     "name": "stdout",
     "output_type": "stream",
     "text": [
      "50.8\n"
     ]
    }
   ],
   "source": [
    "dim=inch2mm(2)"
   ]
  },
  {
   "cell_type": "markdown",
   "id": "turned-trustee",
   "metadata": {},
   "source": [
    "The print statement has the return value ```NoneType```. This means if we assign it to an object name, the value prints but the object name is assigned to ```NoneType```. This is not that useful if we wish to use it for further calculations."
   ]
  },
  {
   "cell_type": "code",
   "execution_count": 147,
   "id": "manual-walter",
   "metadata": {},
   "outputs": [],
   "source": [
    "dim"
   ]
  },
  {
   "cell_type": "code",
   "execution_count": 148,
   "id": "handmade-aluminum",
   "metadata": {},
   "outputs": [
    {
     "data": {
      "text/plain": [
       "NoneType"
      ]
     },
     "execution_count": 148,
     "metadata": {},
     "output_type": "execute_result"
    }
   ],
   "source": [
    "type(dim)"
   ]
  },
  {
   "cell_type": "markdown",
   "id": "chemical-parish",
   "metadata": {},
   "source": [
    "We can use the ```return``` statement to assign the functions return value."
   ]
  },
  {
   "cell_type": "code",
   "execution_count": 149,
   "id": "celtic-maldives",
   "metadata": {},
   "outputs": [],
   "source": [
    "def inch2mm(input_inches):\n",
    "    '''Returns the value of input_inches to output_mm.'''\n",
    "    output_mm=25.4*input_inches\n",
    "    return(output_mm)"
   ]
  },
  {
   "cell_type": "markdown",
   "id": "pleased-sullivan",
   "metadata": {},
   "source": [
    "When the function is called and assigned to an object name, nothing displays."
   ]
  },
  {
   "cell_type": "code",
   "execution_count": 150,
   "id": "viral-garage",
   "metadata": {},
   "outputs": [],
   "source": [
    "dim=inch2mm(2)"
   ]
  },
  {
   "cell_type": "markdown",
   "id": "norman-maldives",
   "metadata": {},
   "source": [
    "However when we type in ```dim``` within a cell or use the ```print(dim)``` statement we see the value."
   ]
  },
  {
   "cell_type": "code",
   "execution_count": 151,
   "id": "enabling-awareness",
   "metadata": {},
   "outputs": [
    {
     "data": {
      "text/plain": [
       "50.8"
      ]
     },
     "execution_count": 151,
     "metadata": {},
     "output_type": "execute_result"
    }
   ],
   "source": [
    "dim"
   ]
  },
  {
   "cell_type": "markdown",
   "id": "dependent-easter",
   "metadata": {},
   "source": [
    "We can update our function to use a keyword input argument ```input_inches``` with a default value of 1 inch. This can be a useful default if we want to just reference the conversion factor."
   ]
  },
  {
   "cell_type": "code",
   "execution_count": 152,
   "id": "million-middle",
   "metadata": {},
   "outputs": [],
   "source": [
    "def inch2mm(input_inches=1):\n",
    "    '''Returns the value of input_inches to output_mm.'''\n",
    "    output_mm=25.4*input_inches\n",
    "    return(output_mm)"
   ]
  },
  {
   "cell_type": "code",
   "execution_count": 153,
   "id": "controlled-baseball",
   "metadata": {},
   "outputs": [
    {
     "data": {
      "text/plain": [
       "25.4"
      ]
     },
     "execution_count": 153,
     "metadata": {},
     "output_type": "execute_result"
    }
   ],
   "source": [
    "dim=inch2mm()\n",
    "dim"
   ]
  },
  {
   "cell_type": "code",
   "execution_count": 154,
   "id": "interracial-twenty",
   "metadata": {},
   "outputs": [
    {
     "data": {
      "text/plain": [
       "50.8"
      ]
     },
     "execution_count": 154,
     "metadata": {},
     "output_type": "execute_result"
    }
   ],
   "source": [
    "dim1=inch2mm(input_inches=2)\n",
    "dim1"
   ]
  },
  {
   "cell_type": "markdown",
   "id": "polar-replication",
   "metadata": {},
   "source": [
    "## Lambda functions or lambda expressions"
   ]
  },
  {
   "cell_type": "markdown",
   "id": "favorite-india",
   "metadata": {},
   "source": [
    "Sometimes we require a small anonymous function that is only used a handful of times. This can be achieved by using a ```lambda``` function or ```lambda``` expression. A ```lambda``` function can have multiple arguments but has only has a single expression. The positional input arguments follow from the ```lambda``` expression using a ```,``` as a delimiter. The ```:``` is used before the expression (which can be thought of as the return statement). This is a one line function so there is no code block with indentation like in a regular function.\n",
    "\n",
    "We can recreate ```inch2mm``` as a ```lambda``` expression."
   ]
  },
  {
   "cell_type": "code",
   "execution_count": 155,
   "id": "sticky-softball",
   "metadata": {},
   "outputs": [],
   "source": [
    "inch2mm=lambda a: 25.4*a"
   ]
  },
  {
   "cell_type": "markdown",
   "id": "atlantic-brief",
   "metadata": {},
   "source": [
    "Calling the ```lambda``` function without parenthesis informs us that is is a ```lambda``` expression."
   ]
  },
  {
   "cell_type": "code",
   "execution_count": 156,
   "id": "virgin-contrast",
   "metadata": {},
   "outputs": [
    {
     "data": {
      "text/plain": [
       "<function __main__.<lambda>(a)>"
      ]
     },
     "execution_count": 156,
     "metadata": {},
     "output_type": "execute_result"
    }
   ],
   "source": [
    "inch2mm"
   ]
  },
  {
   "cell_type": "markdown",
   "id": "divine-sword",
   "metadata": {},
   "source": [
    "We can use it to convert 4 inches to mm."
   ]
  },
  {
   "cell_type": "code",
   "execution_count": 157,
   "id": "material-bermuda",
   "metadata": {},
   "outputs": [],
   "source": [
    "dim3=inch2mm(4)"
   ]
  },
  {
   "cell_type": "code",
   "execution_count": 158,
   "id": "valued-genius",
   "metadata": {},
   "outputs": [
    {
     "data": {
      "text/plain": [
       "101.6"
      ]
     },
     "execution_count": 158,
     "metadata": {},
     "output_type": "execute_result"
    }
   ],
   "source": [
    "dim3"
   ]
  },
  {
   "cell_type": "markdown",
   "id": "surface-copper",
   "metadata": {},
   "source": [
    "It is possible to create a ```lambda``` expression without input arguments."
   ]
  },
  {
   "cell_type": "code",
   "execution_count": 159,
   "id": "decimal-office",
   "metadata": {},
   "outputs": [],
   "source": [
    "print_three=lambda : print(3)"
   ]
  },
  {
   "cell_type": "code",
   "execution_count": 160,
   "id": "conditional-myrtle",
   "metadata": {},
   "outputs": [
    {
     "data": {
      "text/plain": [
       "<function __main__.<lambda>()>"
      ]
     },
     "execution_count": 160,
     "metadata": {},
     "output_type": "execute_result"
    }
   ],
   "source": [
    "print_three"
   ]
  },
  {
   "cell_type": "code",
   "execution_count": 161,
   "id": "obvious-johnston",
   "metadata": {},
   "outputs": [
    {
     "name": "stdout",
     "output_type": "stream",
     "text": [
      "3\n"
     ]
    }
   ],
   "source": [
    "print_three()"
   ]
  },
  {
   "cell_type": "markdown",
   "id": "assisted-physiology",
   "metadata": {},
   "source": [
    "In some cases a dummy input argument is expected where the ```lambda``` expression is going to be used."
   ]
  },
  {
   "cell_type": "code",
   "execution_count": 162,
   "id": "pharmaceutical-resolution",
   "metadata": {},
   "outputs": [],
   "source": [
    "print_three=lambda a: print(3)"
   ]
  },
  {
   "cell_type": "code",
   "execution_count": 163,
   "id": "oriental-abuse",
   "metadata": {},
   "outputs": [
    {
     "data": {
      "text/plain": [
       "<function __main__.<lambda>(a)>"
      ]
     },
     "execution_count": 163,
     "metadata": {},
     "output_type": "execute_result"
    }
   ],
   "source": [
    "print_three"
   ]
  },
  {
   "cell_type": "markdown",
   "id": "hindu-island",
   "metadata": {},
   "source": [
    "In this simple example, the expression is independent of the value of the dummy input argument."
   ]
  },
  {
   "cell_type": "code",
   "execution_count": 164,
   "id": "burning-genome",
   "metadata": {},
   "outputs": [
    {
     "name": "stdout",
     "output_type": "stream",
     "text": [
      "3\n"
     ]
    }
   ],
   "source": [
    "print_three('a')"
   ]
  },
  {
   "cell_type": "code",
   "execution_count": 165,
   "id": "continuing-sustainability",
   "metadata": {},
   "outputs": [
    {
     "name": "stdout",
     "output_type": "stream",
     "text": [
      "3\n"
     ]
    }
   ],
   "source": [
    "print_three(1)"
   ]
  },
  {
   "cell_type": "markdown",
   "id": "unable-accused",
   "metadata": {},
   "source": [
    "For comparison we can compare the single line ```lambda``` expression with the creation of a function. "
   ]
  },
  {
   "cell_type": "code",
   "execution_count": 166,
   "id": "educational-johns",
   "metadata": {},
   "outputs": [],
   "source": [
    "add_xy=lambda x,y: x+y"
   ]
  },
  {
   "cell_type": "code",
   "execution_count": 167,
   "id": "express-anderson",
   "metadata": {},
   "outputs": [],
   "source": [
    "def add_xy(x,y):\n",
    "    return(x+y)"
   ]
  },
  {
   "cell_type": "markdown",
   "id": "cooked-translator",
   "metadata": {},
   "source": [
    "Both these defined functions will work in the same way."
   ]
  },
  {
   "cell_type": "code",
   "execution_count": 168,
   "id": "advised-guard",
   "metadata": {},
   "outputs": [
    {
     "data": {
      "text/plain": [
       "3"
      ]
     },
     "execution_count": 168,
     "metadata": {},
     "output_type": "execute_result"
    }
   ],
   "source": [
    "add_xy(1,2)"
   ]
  },
  {
   "cell_type": "markdown",
   "id": "incorporate-aerospace",
   "metadata": {},
   "source": [
    "## Range and Looping"
   ]
  },
  {
   "cell_type": "markdown",
   "id": "compatible-password",
   "metadata": {},
   "source": [
    "Another inbuilt class is the ```range``` class. The ```range``` class has a varying number of input arguments. These are referred to as ```start```, ```stop``` and ```step```."
   ]
  },
  {
   "cell_type": "code",
   "execution_count": 169,
   "id": "fabulous-arctic",
   "metadata": {},
   "outputs": [
    {
     "data": {
      "text/plain": [
       "\u001b[1;31mInit signature:\u001b[0m  \u001b[0mrange\u001b[0m\u001b[1;33m(\u001b[0m\u001b[0mself\u001b[0m\u001b[1;33m,\u001b[0m \u001b[1;33m/\u001b[0m\u001b[1;33m,\u001b[0m \u001b[1;33m*\u001b[0m\u001b[0margs\u001b[0m\u001b[1;33m,\u001b[0m \u001b[1;33m**\u001b[0m\u001b[0mkwargs\u001b[0m\u001b[1;33m)\u001b[0m\u001b[1;33m\u001b[0m\u001b[1;33m\u001b[0m\u001b[0m\n",
       "\u001b[1;31mDocstring:\u001b[0m     \n",
       "range(stop) -> range object\n",
       "range(start, stop[, step]) -> range object\n",
       "\n",
       "Return an object that produces a sequence of integers from start (inclusive)\n",
       "to stop (exclusive) by step.  range(i, j) produces i, i+1, i+2, ..., j-1.\n",
       "start defaults to 0, and stop is omitted!  range(4) produces 0, 1, 2, 3.\n",
       "These are exactly the valid indices for a list of 4 elements.\n",
       "When step is given, it specifies the increment (or decrement).\n",
       "\u001b[1;31mType:\u001b[0m           type\n",
       "\u001b[1;31mSubclasses:\u001b[0m     \n"
      ]
     },
     "metadata": {},
     "output_type": "display_data"
    }
   ],
   "source": [
    "? range"
   ]
  },
  {
   "cell_type": "markdown",
   "id": "smart-nothing",
   "metadata": {},
   "source": [
    "When only a 0th positional input argument is input by the user. It is taken to be ```stop```. ```start``` is automatically assigned to ```0``` and ```step``` is automatically assigned to be ```1```."
   ]
  },
  {
   "cell_type": "code",
   "execution_count": 170,
   "id": "exempt-costume",
   "metadata": {},
   "outputs": [],
   "source": [
    "r=range(10)"
   ]
  },
  {
   "cell_type": "markdown",
   "id": "nutritional-lighting",
   "metadata": {},
   "source": [
    "The ```range``` object has the attributes ```start```, ```stop``` and ```step``` which we can check."
   ]
  },
  {
   "cell_type": "code",
   "execution_count": 171,
   "id": "dress-weather",
   "metadata": {},
   "outputs": [
    {
     "data": {
      "text/plain": [
       "0"
      ]
     },
     "execution_count": 171,
     "metadata": {},
     "output_type": "execute_result"
    }
   ],
   "source": [
    "r.start"
   ]
  },
  {
   "cell_type": "code",
   "execution_count": 172,
   "id": "built-olive",
   "metadata": {},
   "outputs": [
    {
     "data": {
      "text/plain": [
       "10"
      ]
     },
     "execution_count": 172,
     "metadata": {},
     "output_type": "execute_result"
    }
   ],
   "source": [
    "r.stop"
   ]
  },
  {
   "cell_type": "code",
   "execution_count": 173,
   "id": "least-wildlife",
   "metadata": {},
   "outputs": [
    {
     "data": {
      "text/plain": [
       "1"
      ]
     },
     "execution_count": 173,
     "metadata": {},
     "output_type": "execute_result"
    }
   ],
   "source": [
    "r.step"
   ]
  },
  {
   "cell_type": "markdown",
   "id": "endangered-excitement",
   "metadata": {},
   "source": [
    "When a 0th and 1st positional input arguments are input by a user. The 0th positional input argument is taken to be ```start``` and the 1st input argument is taken to be ```stop```. ```step``` is automatically assigned to 1."
   ]
  },
  {
   "cell_type": "code",
   "execution_count": 174,
   "id": "micro-engine",
   "metadata": {},
   "outputs": [
    {
     "data": {
      "text/plain": [
       "range(1, 10)"
      ]
     },
     "execution_count": 174,
     "metadata": {},
     "output_type": "execute_result"
    }
   ],
   "source": [
    "range(1,10)"
   ]
  },
  {
   "cell_type": "code",
   "execution_count": 175,
   "id": "practical-korea",
   "metadata": {},
   "outputs": [
    {
     "data": {
      "text/plain": [
       "0"
      ]
     },
     "execution_count": 175,
     "metadata": {},
     "output_type": "execute_result"
    }
   ],
   "source": [
    "r.start"
   ]
  },
  {
   "cell_type": "code",
   "execution_count": 176,
   "id": "civilian-gazette",
   "metadata": {},
   "outputs": [
    {
     "data": {
      "text/plain": [
       "10"
      ]
     },
     "execution_count": 176,
     "metadata": {},
     "output_type": "execute_result"
    }
   ],
   "source": [
    "r.stop"
   ]
  },
  {
   "cell_type": "code",
   "execution_count": 177,
   "id": "banned-alaska",
   "metadata": {},
   "outputs": [
    {
     "data": {
      "text/plain": [
       "1"
      ]
     },
     "execution_count": 177,
     "metadata": {},
     "output_type": "execute_result"
    }
   ],
   "source": [
    "r.step"
   ]
  },
  {
   "cell_type": "markdown",
   "id": "outdoor-vegetable",
   "metadata": {},
   "source": [
    "When a 0th, 1st and 2nd positional input arguments are input. The 0th positional input argument is taken to be ```start```, the 1st input argument is taken to be ```stop``` and finally the 2nd positional input argument is taken to be ```step```."
   ]
  },
  {
   "cell_type": "code",
   "execution_count": 178,
   "id": "appropriate-thought",
   "metadata": {},
   "outputs": [],
   "source": [
    "r=range(1,10,2)"
   ]
  },
  {
   "cell_type": "code",
   "execution_count": 179,
   "id": "conscious-hollow",
   "metadata": {},
   "outputs": [
    {
     "data": {
      "text/plain": [
       "1"
      ]
     },
     "execution_count": 179,
     "metadata": {},
     "output_type": "execute_result"
    }
   ],
   "source": [
    "r.start"
   ]
  },
  {
   "cell_type": "code",
   "execution_count": 180,
   "id": "surgical-roads",
   "metadata": {},
   "outputs": [
    {
     "data": {
      "text/plain": [
       "10"
      ]
     },
     "execution_count": 180,
     "metadata": {},
     "output_type": "execute_result"
    }
   ],
   "source": [
    "r.stop"
   ]
  },
  {
   "cell_type": "code",
   "execution_count": 181,
   "id": "permanent-revolution",
   "metadata": {},
   "outputs": [
    {
     "data": {
      "text/plain": [
       "2"
      ]
     },
     "execution_count": 181,
     "metadata": {},
     "output_type": "execute_result"
    }
   ],
   "source": [
    "r.step"
   ]
  },
  {
   "cell_type": "markdown",
   "id": "unknown-storage",
   "metadata": {},
   "source": [
    "Unfortunately, these names do not work as keyword input arguments which would make the range class more consistent with other python classes and functions and make it more accessible for begineers."
   ]
  },
  {
   "cell_type": "markdown",
   "id": "valuable-istanbul",
   "metadata": {},
   "source": [
    "```range(start=0,stop=10,step=1)```"
   ]
  },
  {
   "cell_type": "markdown",
   "id": "surprised-reflection",
   "metadata": {},
   "source": [
    "![range2](range2.png)"
   ]
  },
  {
   "cell_type": "markdown",
   "id": "possible-flexibility",
   "metadata": {},
   "source": [
    "The range object is commonly used in ```for``` loops which are used to repeat a set of commands ```for```  a certain number of times. For example if we want to print ```'hello'``` 10 times we can use the following. "
   ]
  },
  {
   "cell_type": "code",
   "execution_count": 182,
   "id": "divided-honey",
   "metadata": {},
   "outputs": [
    {
     "name": "stdout",
     "output_type": "stream",
     "text": [
      "hello\n",
      "hello\n",
      "hello\n",
      "hello\n",
      "hello\n",
      "hello\n",
      "hello\n",
      "hello\n",
      "hello\n",
      "hello\n"
     ]
    }
   ],
   "source": [
    "for idx in range(10):\n",
    "    print('hello')"
   ]
  },
  {
   "cell_type": "markdown",
   "id": "jewish-contract",
   "metadata": {},
   "source": [
    "The keyword ```for``` means we are going to use a ```for``` loop.\n",
    "\n",
    "After the ```for``` keyword we need to specify a loop variable (this can be anything as long as it is in accordance with the rules behind variable names). In this case we used ```idx``` as it corresponds to the index in the range object. \n",
    "\n",
    "The keyword ```in``` means we are looking within an object (```in``` this case, the ```range``` object).\n",
    "\n",
    "Once again the ```:``` means we are beginning a code block. Anything belonging to the code block is indented by four spaces. The code in this code block will be repeatedly executed ```for``` each iteration of the ```for``` loop.\n",
    "\n",
    "We can ```print``` the loop variable ```idx``` instead of the ```str``` ```'hello'```."
   ]
  },
  {
   "cell_type": "code",
   "execution_count": 183,
   "id": "unlikely-rebecca",
   "metadata": {},
   "outputs": [
    {
     "name": "stdout",
     "output_type": "stream",
     "text": [
      "0\n",
      "1\n",
      "2\n",
      "3\n",
      "4\n",
      "5\n",
      "6\n",
      "7\n",
      "8\n",
      "9\n"
     ]
    }
   ],
   "source": [
    "for idx in range(10):\n",
    "    print(idx)"
   ]
  },
  {
   "cell_type": "markdown",
   "id": "horizontal-return",
   "metadata": {},
   "source": [
    "We see here that Python uses zero order indexing. This means we count from ```0``` (and include the lower bound ```0```) in steps of ```1``` until we approach the upper bound ```10``` (note that we don't include the upper bound ```10```). In other words Python indexing includes the lower bound and excludes the upper bound."
   ]
  },
  {
   "cell_type": "code",
   "execution_count": 184,
   "id": "innocent-glucose",
   "metadata": {},
   "outputs": [
    {
     "name": "stdout",
     "output_type": "stream",
     "text": [
      "1\n",
      "2\n",
      "3\n",
      "4\n",
      "5\n",
      "6\n",
      "7\n",
      "8\n",
      "9\n"
     ]
    }
   ],
   "source": [
    "for idx in range(1,10):\n",
    "    print(idx)"
   ]
  },
  {
   "cell_type": "code",
   "execution_count": 185,
   "id": "perfect-elder",
   "metadata": {},
   "outputs": [
    {
     "name": "stdout",
     "output_type": "stream",
     "text": [
      "1\n",
      "3\n",
      "5\n",
      "7\n",
      "9\n"
     ]
    }
   ],
   "source": [
    "for idx in range(1,10,2):\n",
    "    print(idx)"
   ]
  },
  {
   "cell_type": "markdown",
   "id": "advanced-mystery",
   "metadata": {},
   "source": [
    "If we return to the above:"
   ]
  },
  {
   "cell_type": "code",
   "execution_count": 186,
   "id": "derived-wisdom",
   "metadata": {},
   "outputs": [
    {
     "name": "stdout",
     "output_type": "stream",
     "text": [
      "0\n",
      "1\n",
      "2\n",
      "3\n",
      "4\n",
      "5\n",
      "6\n",
      "7\n",
      "8\n",
      "9\n"
     ]
    }
   ],
   "source": [
    "for idx in range(10):\n",
    "    print(idx)"
   ]
  },
  {
   "cell_type": "markdown",
   "id": "chinese-battle",
   "metadata": {},
   "source": [
    "And want the numeric values displayed in the reverse order, note that we have to start at ```9``` (inclusive of the lower bound) and stop at ```-1``` (exclusive of the lower bound) using steps of ```-1```."
   ]
  },
  {
   "cell_type": "code",
   "execution_count": 187,
   "id": "whole-payment",
   "metadata": {},
   "outputs": [
    {
     "name": "stdout",
     "output_type": "stream",
     "text": [
      "9\n",
      "8\n",
      "7\n",
      "6\n",
      "5\n",
      "4\n",
      "3\n",
      "2\n",
      "1\n",
      "0\n"
     ]
    }
   ],
   "source": [
    "for idx in range(9,-1,-1):\n",
    "    print(idx)"
   ]
  },
  {
   "cell_type": "markdown",
   "id": "enclosed-rotation",
   "metadata": {},
   "source": [
    "The above for loop, looped ```in``` a ```range``` object which can be thought of as a collection of numeric integers. A ```str``` can be thought of as an object that has a collection of characters."
   ]
  },
  {
   "cell_type": "code",
   "execution_count": 188,
   "id": "hundred-guyana",
   "metadata": {},
   "outputs": [
    {
     "name": "stdout",
     "output_type": "stream",
     "text": [
      "h\n",
      "e\n",
      "l\n",
      "l\n",
      "o\n"
     ]
    }
   ],
   "source": [
    "for idx in 'hello':\n",
    "    print(idx)"
   ]
  },
  {
   "cell_type": "markdown",
   "id": "incomplete-album",
   "metadata": {},
   "source": [
    "Note how ```idx``` is now a letter and not a number. We can actually get both an numeric index and a letter value by using the function enumerate instead."
   ]
  },
  {
   "cell_type": "code",
   "execution_count": 189,
   "id": "earlier-mentor",
   "metadata": {},
   "outputs": [
    {
     "data": {
      "text/plain": [
       "<enumerate at 0x1ff45eac080>"
      ]
     },
     "execution_count": 189,
     "metadata": {},
     "output_type": "execute_result"
    }
   ],
   "source": [
    "enumerate('hello')"
   ]
  },
  {
   "cell_type": "code",
   "execution_count": 190,
   "id": "transparent-wildlife",
   "metadata": {},
   "outputs": [
    {
     "name": "stdout",
     "output_type": "stream",
     "text": [
      "0 h\n",
      "1 e\n",
      "2 l\n",
      "3 l\n",
      "4 o\n"
     ]
    }
   ],
   "source": [
    "for idx,val in enumerate('hello'):\n",
    "    print(idx,val)"
   ]
  },
  {
   "cell_type": "markdown",
   "id": "sonic-arrival",
   "metadata": {},
   "source": [
    "We could use these in calculations if we wished."
   ]
  },
  {
   "cell_type": "code",
   "execution_count": 191,
   "id": "soviet-deadline",
   "metadata": {},
   "outputs": [
    {
     "name": "stdout",
     "output_type": "stream",
     "text": [
      "\n",
      "e\n",
      "ll\n",
      "lll\n",
      "oooo\n"
     ]
    }
   ],
   "source": [
    "for idx,val in enumerate('hello'):\n",
    "    print(idx*val)"
   ]
  },
  {
   "cell_type": "markdown",
   "id": "israeli-buffer",
   "metadata": {},
   "source": [
    "There is another loop called a ```while``` loop which will loop only ```while``` a condition is satisfied. This can be thought of as an ```if``` code block that loops. The condition is rechecked at the beginning of each loop iteration."
   ]
  },
  {
   "cell_type": "markdown",
   "id": "comparable-chrome",
   "metadata": {},
   "source": [
    "```while condition```"
   ]
  },
  {
   "cell_type": "markdown",
   "id": "swedish-highland",
   "metadata": {},
   "source": [
    "Normally an object related to the condition is changed within the code block so the condition is eventually not met and the loop ends."
   ]
  },
  {
   "cell_type": "code",
   "execution_count": 192,
   "id": "colored-colon",
   "metadata": {},
   "outputs": [
    {
     "name": "stdout",
     "output_type": "stream",
     "text": [
      "0\n",
      "1\n",
      "2\n",
      "3\n",
      "4\n"
     ]
    }
   ],
   "source": [
    "counter=0\n",
    "while counter<5:\n",
    "    print(counter)\n",
    "    counter+=1"
   ]
  },
  {
   "cell_type": "markdown",
   "id": "imposed-disposition",
   "metadata": {},
   "source": [
    "We can see that when the counter had  value of ```4```, the condition was satisfied and the value ```4``` was printed. After the value ```4``` was printed, it got incremented by a value of ```1``` and then the ```while``` loop condition was not satisfied so we exited the ```while``` loop. Therefore the code in the code block was not carried out for a value of ```5```. If we print the value of counter outside the loop we see it is ```5``` i.e. unchanged."
   ]
  },
  {
   "cell_type": "code",
   "execution_count": 193,
   "id": "neither-desktop",
   "metadata": {},
   "outputs": [
    {
     "data": {
      "text/plain": [
       "5"
      ]
     },
     "execution_count": 193,
     "metadata": {},
     "output_type": "execute_result"
    }
   ],
   "source": [
    "counter"
   ]
  },
  {
   "cell_type": "markdown",
   "id": "sophisticated-antigua",
   "metadata": {},
   "source": [
    "Note that it is possible to create a loop that will loop forever, if the condition is never updated within the loop, this is known as an infinite loop. The following code for example would spam one of the cells in the JupyterLab notebook forever."
   ]
  },
  {
   "cell_type": "markdown",
   "id": "welcome-stress",
   "metadata": {},
   "source": [
    "```\n",
    "while True:\n",
    "    print('spam')\n",
    "```    "
   ]
  },
  {
   "cell_type": "markdown",
   "id": "according-denmark",
   "metadata": {},
   "source": [
    "## Asserting function input arguments"
   ]
  },
  {
   "cell_type": "markdown",
   "id": "automatic-programmer",
   "metadata": {},
   "source": [
    "The ```assert``` keyword can be used to check whether or not a condition is ```True```. If it is, the code will proceed and if it is not it will flag up an error. The form to use is."
   ]
  },
  {
   "cell_type": "markdown",
   "id": "rocky-cotton",
   "metadata": {},
   "source": [
    "```assert condition, \"optional message\"```"
   ]
  },
  {
   "cell_type": "markdown",
   "id": "filled-istanbul",
   "metadata": {},
   "source": [
    "Note that ```assert``` is not a function and therefore does not use parenthesis."
   ]
  },
  {
   "cell_type": "code",
   "execution_count": 194,
   "id": "regional-template",
   "metadata": {},
   "outputs": [],
   "source": [
    "def fun(value=0):\n",
    "    assert type(value)==int,'value must be of the datatype int'\n",
    "    print(value)"
   ]
  },
  {
   "cell_type": "markdown",
   "id": "rocky-closer",
   "metadata": {},
   "source": [
    "the function ```fun``` will proceed with ```value``` assigned to the default ```0``` or set to ```1```."
   ]
  },
  {
   "cell_type": "code",
   "execution_count": 195,
   "id": "asian-swiss",
   "metadata": {},
   "outputs": [
    {
     "name": "stdout",
     "output_type": "stream",
     "text": [
      "0\n"
     ]
    }
   ],
   "source": [
    "fun()"
   ]
  },
  {
   "cell_type": "code",
   "execution_count": 196,
   "id": "tribal-briefs",
   "metadata": {},
   "outputs": [
    {
     "name": "stdout",
     "output_type": "stream",
     "text": [
      "1\n"
     ]
    }
   ],
   "source": [
    "fun(1)"
   ]
  },
  {
   "cell_type": "markdown",
   "id": "latest-mustang",
   "metadata": {},
   "source": [
    "It will hang when ```value``` is assigned to a ```float``` of ```1.1``` or a ```str``` of ```'a'```."
   ]
  },
  {
   "cell_type": "markdown",
   "id": "satisfactory-villa",
   "metadata": {},
   "source": [
    "```fun(1.1.)```"
   ]
  },
  {
   "cell_type": "markdown",
   "id": "bright-simpson",
   "metadata": {},
   "source": [
    "![AssertionError1](AssertionError1.png)"
   ]
  },
  {
   "cell_type": "markdown",
   "id": "attended-quality",
   "metadata": {},
   "source": [
    "```fun('a')```"
   ]
  },
  {
   "cell_type": "markdown",
   "id": "auburn-validity",
   "metadata": {},
   "source": [
    "![AssertionError2](AssertionError2.png)"
   ]
  },
  {
   "cell_type": "markdown",
   "id": "amazing-scout",
   "metadata": {},
   "source": [
    "We can combine the ```assertion``` statement with ```try``` and ```except``` code blocks with instructions to handle the ```AssertionError```."
   ]
  },
  {
   "cell_type": "code",
   "execution_count": 197,
   "id": "civilian-czech",
   "metadata": {},
   "outputs": [],
   "source": [
    "def fun(value=0):\n",
    "    try:\n",
    "        assert type(value)==int, 'value must be of the datatype int'\n",
    "        print(value)\n",
    "    except AssertionError:\n",
    "        print('invalid datatype for value, value must be an int datatype.')"
   ]
  },
  {
   "cell_type": "markdown",
   "id": "intelligent-fight",
   "metadata": {},
   "source": [
    "Now once again when value is assigned to an ```int``` of ```0``` (the default value) or ```1``` the code works as expected. When it is assigned to another datatype for example the ```float``` of ```1.1``` or the ```str``` of ```'a'```, the ```AssertionError``` is handled and the ```print``` statement displays."
   ]
  },
  {
   "cell_type": "code",
   "execution_count": 198,
   "id": "coupled-mystery",
   "metadata": {},
   "outputs": [
    {
     "name": "stdout",
     "output_type": "stream",
     "text": [
      "0\n"
     ]
    }
   ],
   "source": [
    "fun()"
   ]
  },
  {
   "cell_type": "code",
   "execution_count": 199,
   "id": "tamil-cement",
   "metadata": {},
   "outputs": [
    {
     "name": "stdout",
     "output_type": "stream",
     "text": [
      "1\n"
     ]
    }
   ],
   "source": [
    "fun(1)"
   ]
  },
  {
   "cell_type": "code",
   "execution_count": 200,
   "id": "raised-elite",
   "metadata": {},
   "outputs": [
    {
     "name": "stdout",
     "output_type": "stream",
     "text": [
      "invalid datatype for value, value must be an int datatype.\n"
     ]
    }
   ],
   "source": [
    "fun(1.1)"
   ]
  },
  {
   "cell_type": "code",
   "execution_count": 201,
   "id": "german-kingston",
   "metadata": {},
   "outputs": [
    {
     "name": "stdout",
     "output_type": "stream",
     "text": [
      "invalid datatype for value, value must be an int datatype.\n"
     ]
    }
   ],
   "source": [
    "fun('a')"
   ]
  },
  {
   "cell_type": "markdown",
   "id": "aggregate-boundary",
   "metadata": {},
   "source": [
    "The condition can be updated to accept an ```int``` or a ```float```."
   ]
  },
  {
   "cell_type": "code",
   "execution_count": 202,
   "id": "rental-campbell",
   "metadata": {},
   "outputs": [],
   "source": [
    "def fun(value=0):\n",
    "    try:\n",
    "        assert (type(value)==int or type(value)==float), 'value must be of the datatype int or float'\n",
    "        print(value)\n",
    "    except AssertionError:\n",
    "        print('invalid datatype for value, value must be an int or float datatype.')"
   ]
  },
  {
   "cell_type": "markdown",
   "id": "premium-charger",
   "metadata": {},
   "source": [
    "Now once again when ```value``` is ```assigned``` to the ```int``` of value ```0``` or ```1``` or the ```float``` of value ```1.1``` the code works as expected. When it is assigned to the ```str``` of value ```'a'```, the ```AssertionError``` is handled and the ```print``` statement displays."
   ]
  },
  {
   "cell_type": "code",
   "execution_count": 203,
   "id": "special-holiday",
   "metadata": {},
   "outputs": [
    {
     "name": "stdout",
     "output_type": "stream",
     "text": [
      "0\n"
     ]
    }
   ],
   "source": [
    "fun()"
   ]
  },
  {
   "cell_type": "code",
   "execution_count": 204,
   "id": "cooked-essex",
   "metadata": {},
   "outputs": [
    {
     "name": "stdout",
     "output_type": "stream",
     "text": [
      "1\n"
     ]
    }
   ],
   "source": [
    "fun(1)"
   ]
  },
  {
   "cell_type": "code",
   "execution_count": 205,
   "id": "appropriate-mongolia",
   "metadata": {},
   "outputs": [
    {
     "name": "stdout",
     "output_type": "stream",
     "text": [
      "1.1\n"
     ]
    }
   ],
   "source": [
    "fun(1.1)"
   ]
  },
  {
   "cell_type": "code",
   "execution_count": 206,
   "id": "dramatic-nightlife",
   "metadata": {},
   "outputs": [
    {
     "name": "stdout",
     "output_type": "stream",
     "text": [
      "invalid datatype for value, value must be an int or float datatype.\n"
     ]
    }
   ],
   "source": [
    "fun('a')"
   ]
  },
  {
   "cell_type": "markdown",
   "id": "knowing-organic",
   "metadata": {},
   "source": [
    "## Custom Classes"
   ]
  },
  {
   "cell_type": "markdown",
   "id": "computational-photographer",
   "metadata": {},
   "source": [
    "We have used an instance of an ```int``` class and an instance of a ```str``` class and seen that these have a substantially different number of attributes and methods available to them. We can begin to understand this by looking at how a custom class is constructed. \n",
    "\n",
    "Python is an object orientated programming language and every class used inherits its properties from the object superclass. This can be seen by using the function ```issubclass```. \n",
    "\n",
    "Details about the input arguments can be found by typing in the function followed by ```↹``` and ```⇧``` or output to a cell by typing in ```?``` followed by the functions name. "
   ]
  },
  {
   "cell_type": "code",
   "execution_count": 207,
   "id": "wicked-tobacco",
   "metadata": {},
   "outputs": [
    {
     "data": {
      "text/plain": [
       "\u001b[1;31mSignature:\u001b[0m  \u001b[0missubclass\u001b[0m\u001b[1;33m(\u001b[0m\u001b[0mcls\u001b[0m\u001b[1;33m,\u001b[0m \u001b[0mclass_or_tuple\u001b[0m\u001b[1;33m,\u001b[0m \u001b[1;33m/\u001b[0m\u001b[1;33m)\u001b[0m\u001b[1;33m\u001b[0m\u001b[1;33m\u001b[0m\u001b[0m\n",
       "\u001b[1;31mDocstring:\u001b[0m\n",
       "Return whether 'cls' is a derived from another class or is the same class.\n",
       "\n",
       "A tuple, as in ``issubclass(x, (A, B, ...))``, may be given as the target to\n",
       "check against. This is equivalent to ``issubclass(x, A) or issubclass(x, B)\n",
       "or ...`` etc.\n",
       "\u001b[1;31mType:\u001b[0m      builtin_function_or_method\n"
      ]
     },
     "metadata": {},
     "output_type": "display_data"
    }
   ],
   "source": [
    "? issubclass"
   ]
  },
  {
   "cell_type": "markdown",
   "id": "colonial-tracy",
   "metadata": {},
   "source": [
    "We see that ```int```, ```str```, ```float``` and ```bool``` classes are all subclasses of the ```object``` class."
   ]
  },
  {
   "cell_type": "code",
   "execution_count": 208,
   "id": "smoking-surname",
   "metadata": {},
   "outputs": [
    {
     "data": {
      "text/plain": [
       "True"
      ]
     },
     "execution_count": 208,
     "metadata": {},
     "output_type": "execute_result"
    }
   ],
   "source": [
    "issubclass(int,object)"
   ]
  },
  {
   "cell_type": "code",
   "execution_count": 209,
   "id": "organizational-surname",
   "metadata": {},
   "outputs": [
    {
     "data": {
      "text/plain": [
       "True"
      ]
     },
     "execution_count": 209,
     "metadata": {},
     "output_type": "execute_result"
    }
   ],
   "source": [
    "issubclass(str,object)"
   ]
  },
  {
   "cell_type": "code",
   "execution_count": 210,
   "id": "roman-postcard",
   "metadata": {},
   "outputs": [
    {
     "data": {
      "text/plain": [
       "True"
      ]
     },
     "execution_count": 210,
     "metadata": {},
     "output_type": "execute_result"
    }
   ],
   "source": [
    "issubclass(float,object)"
   ]
  },
  {
   "cell_type": "code",
   "execution_count": 211,
   "id": "assured-prize",
   "metadata": {},
   "outputs": [
    {
     "data": {
      "text/plain": [
       "True"
      ]
     },
     "execution_count": 211,
     "metadata": {},
     "output_type": "execute_result"
    }
   ],
   "source": [
    "issubclass(bool,object)"
   ]
  },
  {
   "cell_type": "markdown",
   "id": "existing-gathering",
   "metadata": {},
   "source": [
    "We see that ```str``` is not a subclass of ```int``` as expected as they behave very differently (have vastly different attributes and methods). "
   ]
  },
  {
   "cell_type": "code",
   "execution_count": 212,
   "id": "primary-immigration",
   "metadata": {},
   "outputs": [
    {
     "data": {
      "text/plain": [
       "False"
      ]
     },
     "execution_count": 212,
     "metadata": {},
     "output_type": "execute_result"
    }
   ],
   "source": [
    "issubclass(str,int)"
   ]
  },
  {
   "cell_type": "markdown",
   "id": "stock-scanning",
   "metadata": {},
   "source": [
    "Although ```float``` and ```int``` have similarly defined methods and attributes they are still independent classes."
   ]
  },
  {
   "cell_type": "code",
   "execution_count": 213,
   "id": "annual-essay",
   "metadata": {},
   "outputs": [
    {
     "data": {
      "text/plain": [
       "False"
      ]
     },
     "execution_count": 213,
     "metadata": {},
     "output_type": "execute_result"
    }
   ],
   "source": [
    "issubclass(float,int)"
   ]
  },
  {
   "cell_type": "markdown",
   "id": "occasional-architect",
   "metadata": {},
   "source": [
    "We seen that the ```bool``` class has identical methods and attributes to the ```int``` class. This is because it is a ```subclass``` of the ```int``` superclass."
   ]
  },
  {
   "cell_type": "code",
   "execution_count": 214,
   "id": "cleared-native",
   "metadata": {},
   "outputs": [
    {
     "data": {
      "text/plain": [
       "True"
      ]
     },
     "execution_count": 214,
     "metadata": {},
     "output_type": "execute_result"
    }
   ],
   "source": [
    "issubclass(bool,int)"
   ]
  },
  {
   "cell_type": "markdown",
   "id": "thrown-iraqi",
   "metadata": {},
   "source": [
    "### Creating a Class"
   ]
  },
  {
   "cell_type": "markdown",
   "id": "historic-locator",
   "metadata": {},
   "source": [
    "Constructing a class shares some commonalities with defining a function. We use the keyword ```class``` (to define a ```class```) instead of ```def``` (which we use to define a function). The convention is to use ```CamelCaseCapitilization``` for ```class``` names opposed to ```lower_case``` for a function or variable. Parenthesis is used to enclose the superclass. The custom ```class``` being created will inherit properties from the superclass such as attributes and methods. ```object``` is the default superclass of everything in the python programming language and if a custom ```class``` is created without a ```class``` in the 0th position of the parenthesis it will be automatically use object as its superclass. i.e. the two cells below are equivalent."
   ]
  },
  {
   "cell_type": "code",
   "execution_count": 215,
   "id": "republican-resolution",
   "metadata": {},
   "outputs": [],
   "source": [
    "class ScalarClass(object):\n",
    "    pass"
   ]
  },
  {
   "cell_type": "code",
   "execution_count": 216,
   "id": "attended-export",
   "metadata": {},
   "outputs": [],
   "source": [
    "class ScalarClass():\n",
    "    pass"
   ]
  },
  {
   "cell_type": "markdown",
   "id": "unknown-tomorrow",
   "metadata": {},
   "source": [
    "The ```class``` above does nothing, it can be called in a cell without parenthesis which will return details about the ```class```. This is analogous to calling the class ```int``` without parenthesis."
   ]
  },
  {
   "cell_type": "code",
   "execution_count": 217,
   "id": "functioning-dating",
   "metadata": {},
   "outputs": [
    {
     "data": {
      "text/plain": [
       "int"
      ]
     },
     "execution_count": 217,
     "metadata": {},
     "output_type": "execute_result"
    }
   ],
   "source": [
    "int"
   ]
  },
  {
   "cell_type": "code",
   "execution_count": 218,
   "id": "irish-project",
   "metadata": {},
   "outputs": [
    {
     "data": {
      "text/plain": [
       "__main__.ScalarClass"
      ]
     },
     "execution_count": 218,
     "metadata": {},
     "output_type": "execute_result"
    }
   ],
   "source": [
    "ScalarClass"
   ]
  },
  {
   "cell_type": "markdown",
   "id": "promising-wiring",
   "metadata": {},
   "source": [
    "When we type in ```int``` details about its input arguments can be found by typing in the function followed by ```↹``` and ```⇧``` or output to a cell by typing in ```?``` followed by the methods name (called from the object). The docstring with the init signature displays."
   ]
  },
  {
   "cell_type": "code",
   "execution_count": 219,
   "id": "baking-contract",
   "metadata": {},
   "outputs": [
    {
     "data": {
      "text/plain": [
       "\u001b[1;31mInit signature:\u001b[0m  \u001b[0mint\u001b[0m\u001b[1;33m(\u001b[0m\u001b[0mself\u001b[0m\u001b[1;33m,\u001b[0m \u001b[1;33m/\u001b[0m\u001b[1;33m,\u001b[0m \u001b[1;33m*\u001b[0m\u001b[0margs\u001b[0m\u001b[1;33m,\u001b[0m \u001b[1;33m**\u001b[0m\u001b[0mkwargs\u001b[0m\u001b[1;33m)\u001b[0m\u001b[1;33m\u001b[0m\u001b[1;33m\u001b[0m\u001b[0m\n",
       "\u001b[1;31mDocstring:\u001b[0m     \n",
       "int([x]) -> integer\n",
       "int(x, base=10) -> integer\n",
       "\n",
       "Convert a number or string to an integer, or return 0 if no arguments\n",
       "are given.  If x is a number, return x.__int__().  For floating point\n",
       "numbers, this truncates towards zero.\n",
       "\n",
       "If x is not a number or if base is given, then x must be a string,\n",
       "bytes, or bytearray instance representing an integer literal in the\n",
       "given base.  The literal can be preceded by '+' or '-' and be surrounded\n",
       "by whitespace.  The base defaults to 10.  Valid bases are 0 and 2-36.\n",
       "Base 0 means to interpret the base from the string as an integer literal.\n",
       ">>> int('0b100', base=0)\n",
       "4\n",
       "\u001b[1;31mType:\u001b[0m           type\n",
       "\u001b[1;31mSubclasses:\u001b[0m     bool, IntEnum, IntFlag, _NamedIntConstant, Handle\n"
      ]
     },
     "metadata": {},
     "output_type": "display_data"
    }
   ],
   "source": [
    "? int"
   ]
  },
  {
   "cell_type": "markdown",
   "id": "ongoing-longer",
   "metadata": {},
   "source": [
    "When we do the same for our custom class ```ScalarClass``` we get no details because we have not inherited and have not defined an init signature. There is also no docstring because none has been created."
   ]
  },
  {
   "cell_type": "code",
   "execution_count": 220,
   "id": "subjective-classics",
   "metadata": {},
   "outputs": [
    {
     "data": {
      "text/plain": [
       "\u001b[1;31mInit signature:\u001b[0m  \u001b[0mScalarClass\u001b[0m\u001b[1;33m(\u001b[0m\u001b[1;33m)\u001b[0m\u001b[1;33m\u001b[0m\u001b[1;33m\u001b[0m\u001b[0m\n",
       "\u001b[1;31mDocstring:\u001b[0m      <no docstring>\n",
       "\u001b[1;31mType:\u001b[0m           type\n",
       "\u001b[1;31mSubclasses:\u001b[0m     \n"
      ]
     },
     "metadata": {},
     "output_type": "display_data"
    }
   ],
   "source": [
    "? ScalarClass"
   ]
  },
  {
   "cell_type": "markdown",
   "id": "northern-ferry",
   "metadata": {},
   "source": [
    "### Inheritance"
   ]
  },
  {
   "cell_type": "markdown",
   "id": "accepting-youth",
   "metadata": {},
   "source": [
    "Let's now instead redefine our ```ScalarClass``` and use ```int``` as the superclass."
   ]
  },
  {
   "cell_type": "code",
   "execution_count": 221,
   "id": "medium-bloom",
   "metadata": {},
   "outputs": [],
   "source": [
    "class ScalarClass(int):\n",
    "    pass"
   ]
  },
  {
   "cell_type": "markdown",
   "id": "julian-sally",
   "metadata": {},
   "source": [
    "Now when we type in ScalarClass followed by a tab ↹ and shift ⇧ we inherit the init signature (and all the methods and attributes) of the int class. The docstring therefore resembles that of the int subclass."
   ]
  },
  {
   "cell_type": "markdown",
   "id": "split-facing",
   "metadata": {},
   "source": [
    "Now when we type in ```ScalarClass``` details about the input arguments can be found by typing in the function followed by ```↹``` and ```⇧``` or output to a cell by typing in ```?```. We can see these are inherited from the ```int``` superclass. "
   ]
  },
  {
   "cell_type": "code",
   "execution_count": 222,
   "id": "joined-martial",
   "metadata": {},
   "outputs": [
    {
     "data": {
      "text/plain": [
       "\u001b[1;31mInit signature:\u001b[0m  \u001b[0mScalarClass\u001b[0m\u001b[1;33m(\u001b[0m\u001b[0mself\u001b[0m\u001b[1;33m,\u001b[0m \u001b[1;33m/\u001b[0m\u001b[1;33m,\u001b[0m \u001b[1;33m*\u001b[0m\u001b[0margs\u001b[0m\u001b[1;33m,\u001b[0m \u001b[1;33m**\u001b[0m\u001b[0mkwargs\u001b[0m\u001b[1;33m)\u001b[0m\u001b[1;33m\u001b[0m\u001b[1;33m\u001b[0m\u001b[0m\n",
       "\u001b[1;31mDocstring:\u001b[0m     \n",
       "int([x]) -> integer\n",
       "int(x, base=10) -> integer\n",
       "\n",
       "Convert a number or string to an integer, or return 0 if no arguments\n",
       "are given.  If x is a number, return x.__int__().  For floating point\n",
       "numbers, this truncates towards zero.\n",
       "\n",
       "If x is not a number or if base is given, then x must be a string,\n",
       "bytes, or bytearray instance representing an integer literal in the\n",
       "given base.  The literal can be preceded by '+' or '-' and be surrounded\n",
       "by whitespace.  The base defaults to 10.  Valid bases are 0 and 2-36.\n",
       "Base 0 means to interpret the base from the string as an integer literal.\n",
       ">>> int('0b100', base=0)\n",
       "4\n",
       "\u001b[1;31mType:\u001b[0m           type\n",
       "\u001b[1;31mSubclasses:\u001b[0m     \n"
      ]
     },
     "metadata": {},
     "output_type": "display_data"
    }
   ],
   "source": [
    "? ScalarClass"
   ]
  },
  {
   "cell_type": "code",
   "execution_count": 223,
   "id": "hired-traveler",
   "metadata": {},
   "outputs": [
    {
     "data": {
      "text/plain": [
       "\u001b[1;31mInit signature:\u001b[0m  \u001b[0mint\u001b[0m\u001b[1;33m(\u001b[0m\u001b[0mself\u001b[0m\u001b[1;33m,\u001b[0m \u001b[1;33m/\u001b[0m\u001b[1;33m,\u001b[0m \u001b[1;33m*\u001b[0m\u001b[0margs\u001b[0m\u001b[1;33m,\u001b[0m \u001b[1;33m**\u001b[0m\u001b[0mkwargs\u001b[0m\u001b[1;33m)\u001b[0m\u001b[1;33m\u001b[0m\u001b[1;33m\u001b[0m\u001b[0m\n",
       "\u001b[1;31mDocstring:\u001b[0m     \n",
       "int([x]) -> integer\n",
       "int(x, base=10) -> integer\n",
       "\n",
       "Convert a number or string to an integer, or return 0 if no arguments\n",
       "are given.  If x is a number, return x.__int__().  For floating point\n",
       "numbers, this truncates towards zero.\n",
       "\n",
       "If x is not a number or if base is given, then x must be a string,\n",
       "bytes, or bytearray instance representing an integer literal in the\n",
       "given base.  The literal can be preceded by '+' or '-' and be surrounded\n",
       "by whitespace.  The base defaults to 10.  Valid bases are 0 and 2-36.\n",
       "Base 0 means to interpret the base from the string as an integer literal.\n",
       ">>> int('0b100', base=0)\n",
       "4\n",
       "\u001b[1;31mType:\u001b[0m           type\n",
       "\u001b[1;31mSubclasses:\u001b[0m     bool, IntEnum, IntFlag, _NamedIntConstant, Handle, ScalarClass\n"
      ]
     },
     "metadata": {},
     "output_type": "display_data"
    }
   ],
   "source": [
    "? int"
   ]
  },
  {
   "cell_type": "markdown",
   "id": "shared-hostel",
   "metadata": {},
   "source": [
    "Creating an instance of a class is also known as instantiating a class. Let's instantiate the ```ScalarClass``` to create the instance ```l```."
   ]
  },
  {
   "cell_type": "code",
   "execution_count": 224,
   "id": "protected-canvas",
   "metadata": {},
   "outputs": [],
   "source": [
    "l=ScalarClass(5)"
   ]
  },
  {
   "cell_type": "markdown",
   "id": "potential-rebound",
   "metadata": {},
   "source": [
    "Because the init signature is inherited from the ```str``` ```class```, we only need to provide the positional input argument ```self```. If we now type in our instance name followed by a ```.``` and ```↹``` we see a list of attributes and methods. These are identical to those from the ```int``` superclass because we have inherited them from the ```int``` superclass."
   ]
  },
  {
   "cell_type": "markdown",
   "id": "concerned-palmer",
   "metadata": {},
   "source": [
    "![ScalarClass_int_inheritance_attributes_methods](ScalarClass_int_inheritance_attributes_methods.png)"
   ]
  },
  {
   "cell_type": "markdown",
   "id": "russian-columbus",
   "metadata": {},
   "source": [
    "Let's now provide our own custom docstring."
   ]
  },
  {
   "cell_type": "code",
   "execution_count": 225,
   "id": "visible-belgium",
   "metadata": {},
   "outputs": [],
   "source": [
    "class ScalarClass(int):\n",
    "    '''Inherited from int superclass\n",
    "    Convert a number or string to an integer, or return 0 if no arguments are given. \n",
    "    For floating point numbers this truncates towards 0'''\n",
    "    pass"
   ]
  },
  {
   "cell_type": "markdown",
   "id": "powered-gardening",
   "metadata": {},
   "source": [
    "Now when we type in ```ScalarClass``` followed by ```↹``` and ```⇧``` or output the docstring to a cell using ```?``` we now see our own docstring."
   ]
  },
  {
   "cell_type": "code",
   "execution_count": 226,
   "id": "double-municipality",
   "metadata": {},
   "outputs": [
    {
     "data": {
      "text/plain": [
       "\u001b[1;31mInit signature:\u001b[0m  \u001b[0mScalarClass\u001b[0m\u001b[1;33m(\u001b[0m\u001b[0mself\u001b[0m\u001b[1;33m,\u001b[0m \u001b[1;33m/\u001b[0m\u001b[1;33m,\u001b[0m \u001b[1;33m*\u001b[0m\u001b[0margs\u001b[0m\u001b[1;33m,\u001b[0m \u001b[1;33m**\u001b[0m\u001b[0mkwargs\u001b[0m\u001b[1;33m)\u001b[0m\u001b[1;33m\u001b[0m\u001b[1;33m\u001b[0m\u001b[0m\n",
       "\u001b[1;31mDocstring:\u001b[0m     \n",
       "Inherited from int superclass\n",
       "Convert a number or string to an integer, or return 0 if no arguments are given. \n",
       "For floating point numbers this truncates towards 0\n",
       "\u001b[1;31mType:\u001b[0m           type\n",
       "\u001b[1;31mSubclasses:\u001b[0m     \n"
      ]
     },
     "metadata": {},
     "output_type": "display_data"
    }
   ],
   "source": [
    "? ScalarClass"
   ]
  },
  {
   "cell_type": "markdown",
   "id": "better-return",
   "metadata": {},
   "source": [
    "### Class functions (methods)"
   ]
  },
  {
   "cell_type": "markdown",
   "id": "enclosed-economics",
   "metadata": {},
   "source": [
    "Within the ```class``` we can define a custom function. \n",
    "\n",
    "This custom function will belong to the ```class``` and can be called from any instance of the ```class``` i.e. is a method of any instance of the ```class```."
   ]
  },
  {
   "cell_type": "code",
   "execution_count": 227,
   "id": "virgin-picking",
   "metadata": {},
   "outputs": [],
   "source": [
    "class ScalarClass(int):\n",
    "    '''Inherited from int superclass\n",
    "    Convert a number or string to an integer, or return 0 if no arguments are given. \n",
    "    For floating point numbers this truncates towards 0'''\n",
    "    def printhello():\n",
    "        print('hello')"
   ]
  },
  {
   "cell_type": "markdown",
   "id": "strange-photograph",
   "metadata": {},
   "source": [
    "Since we have updated our ```class``` we need to reinstantiate our instance ```l``` (otherwise ```l``` is an instance of the old custom ```class```)."
   ]
  },
  {
   "cell_type": "code",
   "execution_count": 228,
   "id": "foreign-scanner",
   "metadata": {},
   "outputs": [],
   "source": [
    "l=ScalarClass(5)"
   ]
  },
  {
   "cell_type": "markdown",
   "id": "bacterial-baker",
   "metadata": {},
   "source": [
    "Now when we type in our instance name followed by a ```.``` a ```↹``` we get the list of attributes and methods. Note our custom method ```printhello``` displays."
   ]
  },
  {
   "cell_type": "markdown",
   "id": "requested-determination",
   "metadata": {},
   "source": [
    "![ScalarClass_int_inheritance_custom_method_printhello](ScalarClass_int_inheritance_custom_method_printhello.png)"
   ]
  },
  {
   "cell_type": "markdown",
   "id": "fifteen-ukraine",
   "metadata": {},
   "source": [
    "We can call the custom method ```printhello``` from the ```class``` itself, we see it works as expected."
   ]
  },
  {
   "cell_type": "code",
   "execution_count": 229,
   "id": "packed-giving",
   "metadata": {},
   "outputs": [
    {
     "name": "stdout",
     "output_type": "stream",
     "text": [
      "hello\n"
     ]
    }
   ],
   "source": [
    "ScalarClass.printhello()"
   ]
  },
  {
   "cell_type": "markdown",
   "id": "analyzed-monday",
   "metadata": {},
   "source": [
    "However when we attempt to call it as a method we get the following error."
   ]
  },
  {
   "cell_type": "markdown",
   "id": "conscious-encyclopedia",
   "metadata": {},
   "source": [
    "![ScalarClass_int_inheritance_custom_method_printhello_positional_input_arguments_error](ScalarClass_int_inheritance_custom_method_printhello_positional_input_arguments_error.png)"
   ]
  },
  {
   "cell_type": "markdown",
   "id": "final-system",
   "metadata": {},
   "source": [
    "Details about the methods input arguments can be found by typing in the method followed by ```↹``` and ```⇧``` or output to a cell by typing in ```?``` followed by the methods name (called from the object). \n",
    "\n",
    "As we can see there are none because we haven't provided any when we defined the function and there is no docstring."
   ]
  },
  {
   "cell_type": "code",
   "execution_count": 230,
   "id": "artificial-irish",
   "metadata": {},
   "outputs": [
    {
     "data": {
      "text/plain": [
       "\u001b[1;31mDocstring:\u001b[0m <no docstring>\n",
       "\u001b[1;31mFile:\u001b[0m      c:\\users\\phili\\documents\\1. object orientated programming\\<ipython-input-227-b562dabab6fb>\n",
       "\u001b[1;31mType:\u001b[0m      method\n"
      ]
     },
     "metadata": {},
     "output_type": "display_data"
    }
   ],
   "source": [
    "? l.printhello"
   ]
  },
  {
   "cell_type": "markdown",
   "id": "statewide-lease",
   "metadata": {},
   "source": [
    "The error is this function takes 0 positional input arguments but 1 was given. This means an input argument was provided at position 0 but there was no 0th positional input argument defined in the function. When a method is called from an instance, the instance its ```self``` is provided automatically as the 0th positional input argument. \n",
    "\n",
    "We therefore need to update the function ```printhello``` to use ```self``` as its 0th positional input argument."
   ]
  },
  {
   "cell_type": "code",
   "execution_count": 231,
   "id": "higher-legislation",
   "metadata": {},
   "outputs": [],
   "source": [
    "class ScalarClass(int):\n",
    "    '''Inherited from int superclass\n",
    "    Convert a number or string to an integer, or return 0 if no arguments are given. \n",
    "    For floating point numbers this truncates towards 0.'''\n",
    "    def printhello(self):\n",
    "        '''This will print hello.'''\n",
    "        print('hello')"
   ]
  },
  {
   "cell_type": "markdown",
   "id": "attached-finder",
   "metadata": {},
   "source": [
    "Since we have updated our ```class``` we need to reinstantiate our instance ```l```."
   ]
  },
  {
   "cell_type": "code",
   "execution_count": 232,
   "id": "contained-discussion",
   "metadata": {},
   "outputs": [],
   "source": [
    "l=ScalarClass(5)"
   ]
  },
  {
   "cell_type": "markdown",
   "id": "accepting-skating",
   "metadata": {},
   "source": [
    "When the function is called from the instance ```l```, the instance ```l``` will be supplied as ```self```. So the method now works as intended."
   ]
  },
  {
   "cell_type": "code",
   "execution_count": 233,
   "id": "upset-dealer",
   "metadata": {},
   "outputs": [
    {
     "name": "stdout",
     "output_type": "stream",
     "text": [
      "hello\n"
     ]
    }
   ],
   "source": [
    "l.printhello()"
   ]
  },
  {
   "cell_type": "markdown",
   "id": "aboriginal-plate",
   "metadata": {},
   "source": [
    "Note that it will give an error when called directly from the class as no instance is provided."
   ]
  },
  {
   "cell_type": "markdown",
   "id": "closing-brooks",
   "metadata": {},
   "source": [
    "![ScalarClass_int_inheritance_custom_method_printhello_positional_input_arguments_error2](ScalarClass_int_inheritance_custom_method_printhello_positional_input_arguments_error2.png)"
   ]
  },
  {
   "cell_type": "markdown",
   "id": "reduced-behalf",
   "metadata": {},
   "source": [
    "It will work correctly when an instance is provided."
   ]
  },
  {
   "cell_type": "code",
   "execution_count": 234,
   "id": "inclusive-coverage",
   "metadata": {},
   "outputs": [
    {
     "name": "stdout",
     "output_type": "stream",
     "text": [
      "hello\n"
     ]
    }
   ],
   "source": [
    "ScalarClass.printhello(l)"
   ]
  },
  {
   "cell_type": "markdown",
   "id": "extreme-county",
   "metadata": {},
   "source": [
    "### Static Class functions"
   ]
  },
  {
   "cell_type": "markdown",
   "id": "funded-intervention",
   "metadata": {},
   "source": [
    "When we first created the ```class``` function ```printhello``` it worked without providing an instance. In some rare cases, we may want a static method that can perform this way when called directly from a ```class``` or alternatively directly from an instance. To do this we need to use the decorator ```@staticmethod```. In this example we can create a function that prints the str ```'hello'``` without any input arguments."
   ]
  },
  {
   "cell_type": "code",
   "execution_count": 235,
   "id": "green-crest",
   "metadata": {},
   "outputs": [],
   "source": [
    "class ScalarClass(int):\n",
    "    '''Inherited from int superclass\n",
    "    Convert a number or string to an integer, or return 0 if no arguments are given. \n",
    "    For floating point numbers this truncates towards 0.'''\n",
    "    def printhello(self):\n",
    "        '''This will print hello.'''\n",
    "        print('hello')\n",
    "    @staticmethod\n",
    "    def statichello():\n",
    "        '''This is a static method that prints hello.'''\n",
    "        print('hello')"
   ]
  },
  {
   "cell_type": "markdown",
   "id": "laden-might",
   "metadata": {},
   "source": [
    "Since we have updated our ```class``` we need to reinstantiate our instance ```l```."
   ]
  },
  {
   "cell_type": "code",
   "execution_count": 236,
   "id": "expired-separate",
   "metadata": {},
   "outputs": [],
   "source": [
    "l=ScalarClass(5)"
   ]
  },
  {
   "cell_type": "markdown",
   "id": "packed-dodge",
   "metadata": {},
   "source": [
    "When the function is called from the instance ```l```, because the ```@staticmethod``` decorator is present, the instance ```l``` will not be supplied. This means there is no ```self``` input argument input by the user and none expected by the static method, so the static method is called without an error."
   ]
  },
  {
   "cell_type": "code",
   "execution_count": 237,
   "id": "lucky-haven",
   "metadata": {},
   "outputs": [
    {
     "name": "stdout",
     "output_type": "stream",
     "text": [
      "hello\n"
     ]
    }
   ],
   "source": [
    "l.statichello()"
   ]
  },
  {
   "cell_type": "markdown",
   "id": "possible-defense",
   "metadata": {},
   "source": [
    "The staticmethod can also be called directly from the ```class``` without specifying an instance."
   ]
  },
  {
   "cell_type": "code",
   "execution_count": 238,
   "id": "electronic-organization",
   "metadata": {},
   "outputs": [
    {
     "name": "stdout",
     "output_type": "stream",
     "text": [
      "hello\n"
     ]
    }
   ],
   "source": [
    "ScalarClass.statichello()"
   ]
  },
  {
   "cell_type": "markdown",
   "id": "indoor-boxing",
   "metadata": {},
   "source": [
    "### Instance variables (attributes)"
   ]
  },
  {
   "cell_type": "markdown",
   "id": "median-controversy",
   "metadata": {},
   "source": [
    "Recall that an attribute is an ```object``` (or variable) that is referenced with respect to another ```object```."
   ]
  },
  {
   "cell_type": "markdown",
   "id": "southwest-groove",
   "metadata": {},
   "source": [
    "We can create a method which creates an attribute, that is an object belonging to the instance ```self```."
   ]
  },
  {
   "cell_type": "code",
   "execution_count": 239,
   "id": "beginning-township",
   "metadata": {},
   "outputs": [],
   "source": [
    "class ScalarClass(int):\n",
    "    '''Inherited from int superclass\n",
    "    Convert a number or string to an integer, or return 0 if no arguments are given. \n",
    "    For floating point numbers this truncates towards 0.'''\n",
    "    def printhello(self):\n",
    "        '''This will print hello.'''\n",
    "        print('hello')\n",
    "    def create_attributes(self):\n",
    "        self.inverse=1/self"
   ]
  },
  {
   "cell_type": "markdown",
   "id": "demographic-marketing",
   "metadata": {},
   "source": [
    "Since we have updated our ```class``` we need to reinstantiate our instance ```l```."
   ]
  },
  {
   "cell_type": "code",
   "execution_count": 240,
   "id": "handy-aberdeen",
   "metadata": {},
   "outputs": [],
   "source": [
    "l=ScalarClass(5)"
   ]
  },
  {
   "cell_type": "markdown",
   "id": "spectacular-enclosure",
   "metadata": {},
   "source": [
    "When we type in our instance name followed by a ```.``` a ```↹``` we get the list of attributes and methods. Note our custom method ```create_attributes``` displays but no attribute inverse displays as it has not been created yet."
   ]
  },
  {
   "cell_type": "markdown",
   "id": "retired-microphone",
   "metadata": {},
   "source": [
    "![ScalarClass_int_inheritance_custom_method_createattributes](ScalarClass_int_inheritance_custom_method_createattributes.png)"
   ]
  },
  {
   "cell_type": "markdown",
   "id": "adequate-groove",
   "metadata": {},
   "source": [
    "When we call this, an attribute is created:"
   ]
  },
  {
   "cell_type": "code",
   "execution_count": 241,
   "id": "charged-tribune",
   "metadata": {},
   "outputs": [],
   "source": [
    "l.create_attributes()"
   ]
  },
  {
   "cell_type": "markdown",
   "id": "purple-synthesis",
   "metadata": {},
   "source": [
    "When we type in our instance name followed by a ```.``` a ```↹``` we get the list of attributes and methods. Our custom attribute inverse now displays."
   ]
  },
  {
   "cell_type": "markdown",
   "id": "protective-doubt",
   "metadata": {},
   "source": [
    "![ScalarClass_int_inheritance_custom_attribute_inverse](ScalarClass_int_inheritance_custom_attribute_inverse.png)"
   ]
  },
  {
   "cell_type": "markdown",
   "id": "speaking-kenya",
   "metadata": {},
   "source": [
    "We can call this to get the inverse of ```l``` which is 0.2 as expected."
   ]
  },
  {
   "cell_type": "code",
   "execution_count": 242,
   "id": "satisfactory-monroe",
   "metadata": {},
   "outputs": [
    {
     "data": {
      "text/plain": [
       "0.2"
      ]
     },
     "execution_count": 242,
     "metadata": {},
     "output_type": "execute_result"
    }
   ],
   "source": [
    "l.inverse"
   ]
  },
  {
   "cell_type": "markdown",
   "id": "formed-finder",
   "metadata": {},
   "source": [
    "### Class Variables"
   ]
  },
  {
   "cell_type": "markdown",
   "id": "rental-marijuana",
   "metadata": {},
   "source": [
    "It is possible to create a ```class``` variable, which is essentially an attribute that will have a constant value for every single instance of a ```class``` when the ```class``` is instantiated. "
   ]
  },
  {
   "cell_type": "code",
   "execution_count": 243,
   "id": "tight-sensitivity",
   "metadata": {},
   "outputs": [],
   "source": [
    "class ScalarClass(int):\n",
    "    '''Inherited from int superclass\n",
    "    Convert a number or string to an integer, or return 0 if no arguments are given. \n",
    "    For floating point numbers this truncates towards 0.'''\n",
    "    greeting='hello'\n",
    "    def printhello(self):\n",
    "        '''This will print hello.'''\n",
    "        print('hello')\n",
    "    def create_attributes(self):\n",
    "        self.inverse=1/self"
   ]
  },
  {
   "cell_type": "markdown",
   "id": "lasting-samuel",
   "metadata": {},
   "source": [
    "A ```class``` variable can be accessed without use of an instance of a ```class```."
   ]
  },
  {
   "cell_type": "code",
   "execution_count": 244,
   "id": "juvenile-buffalo",
   "metadata": {},
   "outputs": [
    {
     "data": {
      "text/plain": [
       "'hello'"
      ]
     },
     "execution_count": 244,
     "metadata": {},
     "output_type": "execute_result"
    }
   ],
   "source": [
    "ScalarClass.greeting"
   ]
  },
  {
   "cell_type": "markdown",
   "id": "fifty-hungary",
   "metadata": {},
   "source": [
    "Since we have updated our ```class``` we need to reinstantiate our instance ```l```."
   ]
  },
  {
   "cell_type": "code",
   "execution_count": 245,
   "id": "regional-monroe",
   "metadata": {},
   "outputs": [],
   "source": [
    "l=ScalarClass(5)"
   ]
  },
  {
   "cell_type": "markdown",
   "id": "vanilla-librarian",
   "metadata": {},
   "source": [
    "The ```class``` variable is now available as an attribute."
   ]
  },
  {
   "cell_type": "code",
   "execution_count": 246,
   "id": "alpine-allocation",
   "metadata": {},
   "outputs": [
    {
     "data": {
      "text/plain": [
       "'hello'"
      ]
     },
     "execution_count": 246,
     "metadata": {},
     "output_type": "execute_result"
    }
   ],
   "source": [
    "l.greeting"
   ]
  },
  {
   "cell_type": "markdown",
   "id": "typical-fleece",
   "metadata": {},
   "source": [
    "### Private Variables and Methods"
   ]
  },
  {
   "cell_type": "markdown",
   "id": "terminal-structure",
   "metadata": {},
   "source": [
    "If a method or attribute begins with an ```_``` it is usually designed for private use and is hidden."
   ]
  },
  {
   "cell_type": "code",
   "execution_count": 247,
   "id": "sealed-wound",
   "metadata": {},
   "outputs": [],
   "source": [
    "class ScalarClass(int):\n",
    "    '''Inherited from int superclass\n",
    "    Convert a number or string to an integer, or return 0 if no arguments are given. \n",
    "    For floating point numbers this truncates towards 0.'''\n",
    "    def _create_attributes(self):\n",
    "        self._inverse=1/self"
   ]
  },
  {
   "cell_type": "markdown",
   "id": "transsexual-adult",
   "metadata": {},
   "source": [
    "Typing in the ScalarClass ```.``` and ```↹``` does not display the private method ```_create_attributes``` as it is hidden."
   ]
  },
  {
   "cell_type": "markdown",
   "id": "opening-nutrition",
   "metadata": {},
   "source": [
    "![ScalarClass_hidden_methods](ScalarClass_hidden_methods.png)"
   ]
  },
  {
   "cell_type": "markdown",
   "id": "nuclear-costs",
   "metadata": {},
   "source": [
    "The function ```dir``` can be used to view all attributes and methods available to the ```class```."
   ]
  },
  {
   "cell_type": "code",
   "execution_count": 248,
   "id": "institutional-algorithm",
   "metadata": {
    "scrolled": true
   },
   "outputs": [
    {
     "data": {
      "text/plain": [
       "['__abs__',\n",
       " '__add__',\n",
       " '__and__',\n",
       " '__bool__',\n",
       " '__ceil__',\n",
       " '__class__',\n",
       " '__delattr__',\n",
       " '__dict__',\n",
       " '__dir__',\n",
       " '__divmod__',\n",
       " '__doc__',\n",
       " '__eq__',\n",
       " '__float__',\n",
       " '__floor__',\n",
       " '__floordiv__',\n",
       " '__format__',\n",
       " '__ge__',\n",
       " '__getattribute__',\n",
       " '__getnewargs__',\n",
       " '__gt__',\n",
       " '__hash__',\n",
       " '__index__',\n",
       " '__init__',\n",
       " '__init_subclass__',\n",
       " '__int__',\n",
       " '__invert__',\n",
       " '__le__',\n",
       " '__lshift__',\n",
       " '__lt__',\n",
       " '__mod__',\n",
       " '__module__',\n",
       " '__mul__',\n",
       " '__ne__',\n",
       " '__neg__',\n",
       " '__new__',\n",
       " '__or__',\n",
       " '__pos__',\n",
       " '__pow__',\n",
       " '__radd__',\n",
       " '__rand__',\n",
       " '__rdivmod__',\n",
       " '__reduce__',\n",
       " '__reduce_ex__',\n",
       " '__repr__',\n",
       " '__rfloordiv__',\n",
       " '__rlshift__',\n",
       " '__rmod__',\n",
       " '__rmul__',\n",
       " '__ror__',\n",
       " '__round__',\n",
       " '__rpow__',\n",
       " '__rrshift__',\n",
       " '__rshift__',\n",
       " '__rsub__',\n",
       " '__rtruediv__',\n",
       " '__rxor__',\n",
       " '__setattr__',\n",
       " '__sizeof__',\n",
       " '__str__',\n",
       " '__sub__',\n",
       " '__subclasshook__',\n",
       " '__truediv__',\n",
       " '__trunc__',\n",
       " '__xor__',\n",
       " '_create_attributes',\n",
       " 'as_integer_ratio',\n",
       " 'bit_length',\n",
       " 'conjugate',\n",
       " 'denominator',\n",
       " 'from_bytes',\n",
       " 'imag',\n",
       " 'numerator',\n",
       " 'real',\n",
       " 'to_bytes']"
      ]
     },
     "execution_count": 248,
     "metadata": {},
     "output_type": "execute_result"
    }
   ],
   "source": [
    "dir(ScalarClass)"
   ]
  },
  {
   "cell_type": "markdown",
   "id": "recognized-welcome",
   "metadata": {},
   "source": [
    "The list contains a number of **d**ouble **under**score (dunder) methods that begin and end with a double underscore. We will have a look at their meaning in more detail in a moment. Under these our custom hidden method ```_create_attributes``` now displays and then the remaining list of attributes and methods displays. "
   ]
  },
  {
   "cell_type": "markdown",
   "id": "pressing-tracker",
   "metadata": {},
   "source": [
    "In many cases we will want a safe way to create an attribute and read an attribute. Instead of creating an attribute directly we may create a hidden attribute alongside an associated get and set method."
   ]
  },
  {
   "cell_type": "code",
   "execution_count": 249,
   "id": "identical-arrow",
   "metadata": {},
   "outputs": [],
   "source": [
    "class ScalarClass(int):\n",
    "    '''Inherited from int superclass\n",
    "    Convert a number or string to an integer, or return 0 if no arguments are given. \n",
    "    For floating point numbers this truncates towards 0.'''\n",
    "    def set_inverse(self):\n",
    "        '''Sets the inverse attribute of self.'''\n",
    "        self._inverse=1/self\n",
    "    def get_inverse(self):\n",
    "        '''Gets the inverse attribute of self. If the attribute is set.'''\n",
    "        try:\n",
    "            return self._inverse\n",
    "        except AttributeError:\n",
    "            print('inverse is not yet assigned, use set_inverse first.')"
   ]
  },
  {
   "cell_type": "markdown",
   "id": "considered-smell",
   "metadata": {},
   "source": [
    "Since we have updated our class we need to reinstantiate our instance ```l```."
   ]
  },
  {
   "cell_type": "code",
   "execution_count": 250,
   "id": "rolled-feedback",
   "metadata": {},
   "outputs": [],
   "source": [
    "l=ScalarClass(5)"
   ]
  },
  {
   "cell_type": "markdown",
   "id": "suburban-region",
   "metadata": {},
   "source": [
    "When we attempt to use the method ```get_inverse``` we are informed that the inverse is not yet assigned and instructed to use ```set_inverse``` first."
   ]
  },
  {
   "cell_type": "code",
   "execution_count": 251,
   "id": "instructional-roommate",
   "metadata": {},
   "outputs": [
    {
     "name": "stdout",
     "output_type": "stream",
     "text": [
      "inverse is not yet assigned, use set_inverse first.\n"
     ]
    }
   ],
   "source": [
    "l.get_inverse()"
   ]
  },
  {
   "cell_type": "markdown",
   "id": "living-annual",
   "metadata": {},
   "source": [
    "We can use ```set_inverse``` which works as intended and assigns the attribute ```_inverse```."
   ]
  },
  {
   "cell_type": "code",
   "execution_count": 252,
   "id": "external-tender",
   "metadata": {},
   "outputs": [],
   "source": [
    "l.set_inverse()"
   ]
  },
  {
   "cell_type": "markdown",
   "id": "meaningful-hybrid",
   "metadata": {},
   "source": [
    "Now that the ```_inverse attribute``` is assigned the attribute ```get_inverse``` will work."
   ]
  },
  {
   "cell_type": "code",
   "execution_count": 253,
   "id": "normal-vermont",
   "metadata": {},
   "outputs": [
    {
     "data": {
      "text/plain": [
       "0.2"
      ]
     },
     "execution_count": 253,
     "metadata": {},
     "output_type": "execute_result"
    }
   ],
   "source": [
    "l.get_inverse()"
   ]
  },
  {
   "cell_type": "markdown",
   "id": "ahead-digest",
   "metadata": {},
   "source": [
    "### Datamodel Methods (dunder methods)"
   ]
  },
  {
   "cell_type": "markdown",
   "id": "acquired-species",
   "metadata": {},
   "source": [
    "We have seen that the (```+``` add) operator acts differently when used with instances of the ```int``` class and instances of the ```str``` class, performing addition and concatenation in each respectively."
   ]
  },
  {
   "cell_type": "code",
   "execution_count": 254,
   "id": "peaceful-latin",
   "metadata": {},
   "outputs": [],
   "source": [
    "a=1\n",
    "b=2"
   ]
  },
  {
   "cell_type": "code",
   "execution_count": 255,
   "id": "systematic-firmware",
   "metadata": {},
   "outputs": [
    {
     "data": {
      "text/plain": [
       "3"
      ]
     },
     "execution_count": 255,
     "metadata": {},
     "output_type": "execute_result"
    }
   ],
   "source": [
    "a+b"
   ]
  },
  {
   "cell_type": "code",
   "execution_count": 256,
   "id": "governmental-leadership",
   "metadata": {},
   "outputs": [],
   "source": [
    "c='hello'\n",
    "d='world'"
   ]
  },
  {
   "cell_type": "code",
   "execution_count": 257,
   "id": "dental-jurisdiction",
   "metadata": {},
   "outputs": [
    {
     "data": {
      "text/plain": [
       "'helloworld'"
      ]
     },
     "execution_count": 257,
     "metadata": {},
     "output_type": "execute_result"
    }
   ],
   "source": [
    "c+d"
   ]
  },
  {
   "cell_type": "markdown",
   "id": "specified-violence",
   "metadata": {},
   "source": [
    "Behind the scenes the behaviour of the (```+``` add) operator is defined by the special method ```__add__```. This is also known as a dunder method as the name of each method begins and ends with a **d**ouble **under**score. These are sometimes referred to as *magic* methods or *special* methods however these terms indicate that these methods are mysterious and therefore misunderstood. A better term which more accurately describes their function is a data model method. The following is normally performed using the ```+``` operator but can also be explicitly written using the data model method."
   ]
  },
  {
   "cell_type": "code",
   "execution_count": 258,
   "id": "corporate-albuquerque",
   "metadata": {},
   "outputs": [
    {
     "data": {
      "text/plain": [
       "3"
      ]
     },
     "execution_count": 258,
     "metadata": {},
     "output_type": "execute_result"
    }
   ],
   "source": [
    "a.__add__(b)"
   ]
  },
  {
   "cell_type": "code",
   "execution_count": 259,
   "id": "round-opportunity",
   "metadata": {},
   "outputs": [
    {
     "data": {
      "text/plain": [
       "'helloworld'"
      ]
     },
     "execution_count": 259,
     "metadata": {},
     "output_type": "execute_result"
    }
   ],
   "source": [
    "c.__add__(d)"
   ]
  },
  {
   "cell_type": "markdown",
   "id": "ongoing-wages",
   "metadata": {},
   "source": [
    "The above has the form:"
   ]
  },
  {
   "cell_type": "markdown",
   "id": "mature-sodium",
   "metadata": {},
   "source": [
    "```self.__add__(other)```"
   ]
  },
  {
   "cell_type": "markdown",
   "id": "optimum-accountability",
   "metadata": {},
   "source": [
    "i.e. the method is called from the instance ```self``` and works on another instance ```other```."
   ]
  },
  {
   "cell_type": "markdown",
   "id": "independent-subject",
   "metadata": {},
   "source": [
    "We seen earlier that ```object``` is the parent ```class``` of everything in Python. Let's create a Custom ```class``` which is essentially a blank copy of the ```object``` class."
   ]
  },
  {
   "cell_type": "code",
   "execution_count": 260,
   "id": "prescription-access",
   "metadata": {},
   "outputs": [],
   "source": [
    "class Scalar(object):\n",
    "    '''Custom Scalar Class.'''\n",
    "    pass"
   ]
  },
  {
   "cell_type": "markdown",
   "id": "developmental-bishop",
   "metadata": {},
   "source": [
    "If we use the function ```dir```, we will get details about all the methods and attributes available from the ```class```."
   ]
  },
  {
   "cell_type": "code",
   "execution_count": 261,
   "id": "advanced-adventure",
   "metadata": {},
   "outputs": [
    {
     "data": {
      "text/plain": [
       "['__class__',\n",
       " '__delattr__',\n",
       " '__dict__',\n",
       " '__dir__',\n",
       " '__doc__',\n",
       " '__eq__',\n",
       " '__format__',\n",
       " '__ge__',\n",
       " '__getattribute__',\n",
       " '__gt__',\n",
       " '__hash__',\n",
       " '__init__',\n",
       " '__init_subclass__',\n",
       " '__le__',\n",
       " '__lt__',\n",
       " '__module__',\n",
       " '__ne__',\n",
       " '__new__',\n",
       " '__reduce__',\n",
       " '__reduce_ex__',\n",
       " '__repr__',\n",
       " '__setattr__',\n",
       " '__sizeof__',\n",
       " '__str__',\n",
       " '__subclasshook__',\n",
       " '__weakref__']"
      ]
     },
     "execution_count": 261,
     "metadata": {},
     "output_type": "execute_result"
    }
   ],
   "source": [
    "dir(Scalar)"
   ]
  },
  {
   "cell_type": "markdown",
   "id": "quick-carolina",
   "metadata": {},
   "source": [
    "Let's have a look at the ```__init__```, ```__repr__``` and ```__str__``` datamodel methods."
   ]
  },
  {
   "cell_type": "markdown",
   "id": "focal-undergraduate",
   "metadata": {},
   "source": [
    "When we type in:"
   ]
  },
  {
   "cell_type": "code",
   "execution_count": 262,
   "id": "electric-niger",
   "metadata": {},
   "outputs": [
    {
     "data": {
      "text/plain": [
       "\u001b[1;31mInit signature:\u001b[0m  \u001b[0mScalar\u001b[0m\u001b[1;33m(\u001b[0m\u001b[1;33m)\u001b[0m\u001b[1;33m\u001b[0m\u001b[1;33m\u001b[0m\u001b[0m\n",
       "\u001b[1;31mDocstring:\u001b[0m      Custom Scalar Class.\n",
       "\u001b[1;31mType:\u001b[0m           type\n",
       "\u001b[1;31mSubclasses:\u001b[0m     \n"
      ]
     },
     "metadata": {},
     "output_type": "display_data"
    }
   ],
   "source": [
    "? Scalar"
   ]
  },
  {
   "cell_type": "markdown",
   "id": "common-partner",
   "metadata": {},
   "source": [
    "Then we get details about the init signature. This is blank has no details and no input arguments because we haven't defined the ```__init__``` datamodel method and the default is shown."
   ]
  },
  {
   "cell_type": "markdown",
   "id": "demanding-belarus",
   "metadata": {},
   "source": [
    "We can instantiate an instance of the class using no input arguments:"
   ]
  },
  {
   "cell_type": "code",
   "execution_count": 263,
   "id": "monetary-witch",
   "metadata": {},
   "outputs": [],
   "source": [
    "a=Scalar()"
   ]
  },
  {
   "cell_type": "markdown",
   "id": "finnish-circular",
   "metadata": {},
   "source": [
    "We can display the output of the instance in a cell:"
   ]
  },
  {
   "cell_type": "code",
   "execution_count": 264,
   "id": "miniature-integer",
   "metadata": {},
   "outputs": [
    {
     "data": {
      "text/plain": [
       "<__main__.Scalar at 0x1ff45ed4610>"
      ]
     },
     "execution_count": 264,
     "metadata": {},
     "output_type": "execute_result"
    }
   ],
   "source": [
    "a"
   ]
  },
  {
   "cell_type": "markdown",
   "id": "muslim-grill",
   "metadata": {},
   "source": [
    "Or use the function:"
   ]
  },
  {
   "cell_type": "code",
   "execution_count": 265,
   "id": "pursuant-wednesday",
   "metadata": {},
   "outputs": [
    {
     "data": {
      "text/plain": [
       "'<__main__.Scalar object at 0x000001FF45ED4610>'"
      ]
     },
     "execution_count": 265,
     "metadata": {},
     "output_type": "execute_result"
    }
   ],
   "source": [
    "repr(a)"
   ]
  },
  {
   "cell_type": "markdown",
   "id": "varying-vulnerability",
   "metadata": {},
   "source": [
    "Or the function:"
   ]
  },
  {
   "cell_type": "code",
   "execution_count": 266,
   "id": "abandoned-reducing",
   "metadata": {},
   "outputs": [
    {
     "name": "stdout",
     "output_type": "stream",
     "text": [
      "<__main__.Scalar object at 0x000001FF45ED4610>\n"
     ]
    }
   ],
   "source": [
    "print(a)"
   ]
  },
  {
   "cell_type": "markdown",
   "id": "sunrise-starter",
   "metadata": {},
   "source": [
    "Note that function ```repr``` denotes that the output is a ```str```. Outputting the value of a cell or using a ```print``` statement will also display a ```str``` but not explicitly show the quotations. The behaviour of the above can be changed by using the ```__repr__``` data model method."
   ]
  },
  {
   "cell_type": "code",
   "execution_count": 267,
   "id": "discrete-belief",
   "metadata": {},
   "outputs": [],
   "source": [
    "class Scalar(object):\n",
    "    '''Custom Scalar Class.'''\n",
    "    def __repr__(self):\n",
    "        string='Custom Scalar Class.'\n",
    "        return(string)"
   ]
  },
  {
   "cell_type": "markdown",
   "id": "interpreted-buddy",
   "metadata": {},
   "source": [
    "We can instantiate an instance of the ```class``` once again using no input arguments:"
   ]
  },
  {
   "cell_type": "code",
   "execution_count": 268,
   "id": "wired-coalition",
   "metadata": {},
   "outputs": [],
   "source": [
    "a=Scalar()"
   ]
  },
  {
   "cell_type": "markdown",
   "id": "white-persian",
   "metadata": {},
   "source": [
    "Now let's look at the behaviour of:"
   ]
  },
  {
   "cell_type": "code",
   "execution_count": 269,
   "id": "banner-training",
   "metadata": {},
   "outputs": [
    {
     "data": {
      "text/plain": [
       "Custom Scalar Class."
      ]
     },
     "execution_count": 269,
     "metadata": {},
     "output_type": "execute_result"
    }
   ],
   "source": [
    "a"
   ]
  },
  {
   "cell_type": "code",
   "execution_count": 270,
   "id": "standing-price",
   "metadata": {},
   "outputs": [
    {
     "data": {
      "text/plain": [
       "'Custom Scalar Class.'"
      ]
     },
     "execution_count": 270,
     "metadata": {},
     "output_type": "execute_result"
    }
   ],
   "source": [
    "repr(a)"
   ]
  },
  {
   "cell_type": "code",
   "execution_count": 271,
   "id": "optional-insured",
   "metadata": {},
   "outputs": [
    {
     "name": "stdout",
     "output_type": "stream",
     "text": [
      "Custom Scalar Class.\n"
     ]
    }
   ],
   "source": [
    "print(a)"
   ]
  },
  {
   "cell_type": "markdown",
   "id": "actual-delaware",
   "metadata": {},
   "source": [
    "It is possible to define a slightly different behaviour for the ```print``` function to the ```repr``` function (which also controls output of the cell). This is done by using the additional ```__str__``` data model method."
   ]
  },
  {
   "cell_type": "code",
   "execution_count": 272,
   "id": "turkish-stocks",
   "metadata": {},
   "outputs": [],
   "source": [
    "class Scalar(object):\n",
    "    '''Custom Scalar Class.'''\n",
    "    def __repr__(self):\n",
    "        string='Custom Scalar Class.'\n",
    "        return(string)\n",
    "    def __str__(self):\n",
    "        string='Printed Custom Scalar Class.'\n",
    "        return(string)"
   ]
  },
  {
   "cell_type": "code",
   "execution_count": 273,
   "id": "eleven-reputation",
   "metadata": {},
   "outputs": [],
   "source": [
    "a=Scalar()"
   ]
  },
  {
   "cell_type": "code",
   "execution_count": 274,
   "id": "handed-museum",
   "metadata": {},
   "outputs": [
    {
     "data": {
      "text/plain": [
       "Custom Scalar Class."
      ]
     },
     "execution_count": 274,
     "metadata": {},
     "output_type": "execute_result"
    }
   ],
   "source": [
    "a"
   ]
  },
  {
   "cell_type": "code",
   "execution_count": 275,
   "id": "intelligent-eating",
   "metadata": {},
   "outputs": [
    {
     "data": {
      "text/plain": [
       "'Custom Scalar Class.'"
      ]
     },
     "execution_count": 275,
     "metadata": {},
     "output_type": "execute_result"
    }
   ],
   "source": [
    "repr(a)"
   ]
  },
  {
   "cell_type": "code",
   "execution_count": 276,
   "id": "fewer-temperature",
   "metadata": {},
   "outputs": [
    {
     "name": "stdout",
     "output_type": "stream",
     "text": [
      "Printed Custom Scalar Class.\n"
     ]
    }
   ],
   "source": [
    "print(a)"
   ]
  },
  {
   "cell_type": "markdown",
   "id": "experimental-arena",
   "metadata": {},
   "source": [
    "The ```__init__``` data model method is ran when a ```class``` is instantiated. It can be used to define instance specific attributes and run additional methods during instantiation. Let's update our ```__init__``` method to create a hidden attribute ```_value``` from a positional input argument ```value```."
   ]
  },
  {
   "cell_type": "code",
   "execution_count": 277,
   "id": "affected-cartoon",
   "metadata": {},
   "outputs": [],
   "source": [
    "class Scalar(object):\n",
    "    '''Custom Scalar Class.'''\n",
    "    def __init__(self,value):\n",
    "        '''Creates an instance of the Scalar Class from a value.'''\n",
    "        self._value=value\n",
    "    def __repr__(self):\n",
    "        string='Custom Scalar Class.'\n",
    "        return(string)\n",
    "    def __str__(self):\n",
    "        string='Printed Custom Scalar Class.'\n",
    "        return(string)"
   ]
  },
  {
   "cell_type": "markdown",
   "id": "likely-proportion",
   "metadata": {},
   "source": [
    "Now:"
   ]
  },
  {
   "cell_type": "code",
   "execution_count": 278,
   "id": "interpreted-therapy",
   "metadata": {},
   "outputs": [
    {
     "data": {
      "text/plain": [
       "\u001b[1;31mInit signature:\u001b[0m  \u001b[0mScalar\u001b[0m\u001b[1;33m(\u001b[0m\u001b[0mvalue\u001b[0m\u001b[1;33m)\u001b[0m\u001b[1;33m\u001b[0m\u001b[1;33m\u001b[0m\u001b[0m\n",
       "\u001b[1;31mDocstring:\u001b[0m      Custom Scalar Class.\n",
       "\u001b[1;31mInit docstring:\u001b[0m Creates an instance of the Scalar Class from a value.\n",
       "\u001b[1;31mType:\u001b[0m           type\n",
       "\u001b[1;31mSubclasses:\u001b[0m     \n"
      ]
     },
     "metadata": {},
     "output_type": "display_data"
    }
   ],
   "source": [
    "? Scalar"
   ]
  },
  {
   "cell_type": "code",
   "execution_count": 279,
   "id": "certified-chosen",
   "metadata": {},
   "outputs": [],
   "source": [
    "a=Scalar(5)"
   ]
  },
  {
   "cell_type": "code",
   "execution_count": 280,
   "id": "motivated-namibia",
   "metadata": {},
   "outputs": [
    {
     "data": {
      "text/plain": [
       "Custom Scalar Class."
      ]
     },
     "execution_count": 280,
     "metadata": {},
     "output_type": "execute_result"
    }
   ],
   "source": [
    "a"
   ]
  },
  {
   "cell_type": "code",
   "execution_count": 281,
   "id": "sustainable-glenn",
   "metadata": {},
   "outputs": [
    {
     "data": {
      "text/plain": [
       "'Custom Scalar Class.'"
      ]
     },
     "execution_count": 281,
     "metadata": {},
     "output_type": "execute_result"
    }
   ],
   "source": [
    "repr(a)"
   ]
  },
  {
   "cell_type": "code",
   "execution_count": 282,
   "id": "alpine-vision",
   "metadata": {},
   "outputs": [
    {
     "name": "stdout",
     "output_type": "stream",
     "text": [
      "Printed Custom Scalar Class.\n"
     ]
    }
   ],
   "source": [
    "print(a)"
   ]
  },
  {
   "cell_type": "markdown",
   "id": "dressed-shooting",
   "metadata": {},
   "source": [
    "We can update the ```__repr__``` and ```__str__``` methods to display the output analogous to how we instantiate the ```class```."
   ]
  },
  {
   "cell_type": "code",
   "execution_count": 283,
   "id": "satisfied-playback",
   "metadata": {},
   "outputs": [],
   "source": [
    "class Scalar(object):\n",
    "    '''Custom Scalar Class.'''\n",
    "    def __init__(self,value):\n",
    "        '''Creates an instance of the Scalar Class from a value.'''\n",
    "        self._value=value\n",
    "    def __repr__(self):\n",
    "        string=f'Scalar({self._value})'\n",
    "        return(string)\n",
    "    def __str__(self):\n",
    "        string=f'Scalar({self._value})'\n",
    "        return(string)"
   ]
  },
  {
   "cell_type": "code",
   "execution_count": 284,
   "id": "senior-marshall",
   "metadata": {},
   "outputs": [],
   "source": [
    "a=Scalar(5)"
   ]
  },
  {
   "cell_type": "code",
   "execution_count": 285,
   "id": "local-uzbekistan",
   "metadata": {},
   "outputs": [
    {
     "data": {
      "text/plain": [
       "Scalar(5)"
      ]
     },
     "execution_count": 285,
     "metadata": {},
     "output_type": "execute_result"
    }
   ],
   "source": [
    "a"
   ]
  },
  {
   "cell_type": "code",
   "execution_count": 286,
   "id": "domestic-cedar",
   "metadata": {},
   "outputs": [
    {
     "data": {
      "text/plain": [
       "'Scalar(5)'"
      ]
     },
     "execution_count": 286,
     "metadata": {},
     "output_type": "execute_result"
    }
   ],
   "source": [
    "repr(a)"
   ]
  },
  {
   "cell_type": "code",
   "execution_count": 287,
   "id": "defined-denial",
   "metadata": {},
   "outputs": [
    {
     "name": "stdout",
     "output_type": "stream",
     "text": [
      "Scalar(5)\n"
     ]
    }
   ],
   "source": [
    "print(a)"
   ]
  },
  {
   "cell_type": "markdown",
   "id": "rapid-stuart",
   "metadata": {},
   "source": [
    "We can use additional data model methods to define the behaviour of operators. The main data model methods of main interest are and we have used many of these with the ```int``` class."
   ]
  },
  {
   "cell_type": "markdown",
   "id": "metric-subsection",
   "metadata": {},
   "source": [
    "|Data Model Method|Function or Operator|\n",
    "|---|---|\n",
    "|\\_\\_init\\_\\_|init statement|\n",
    "|\\_\\_str\\_\\_|print|\n",
    "|\\_\\_repr\\_\\_|cell output|\n",
    "|\\_\\_len\\_\\_|len|\n",
    "|\\_\\_add\\_\\_|+|\n",
    "|\\_\\_sub\\_\\_|-|\n",
    "|\\_\\_mul\\_\\_|\\*|\n",
    "|\\_\\_pow\\_\\_|\\*\\*|\n",
    "|\\_\\_truediv\\_\\_|/|\n",
    "|\\_\\_matmul\\_\\_|@|\n",
    "|\\_\\_floordiv\\_\\_|//|\n",
    "|\\_\\_mod\\_\\_|%|\n",
    "|\\_\\_eq\\_\\_|==|\n",
    "|\\_\\_ne\\_\\_|!=|\n",
    "|\\_\\_lt\\_\\_|<|\n",
    "|\\_\\_le\\_\\_|<=|\n",
    "|\\_\\_gt\\_\\_|>|\n",
    "|\\_\\_ge\\_\\_|>=|\n",
    "|\\_\\_and\\_\\_|&|\n",
    "|\\_\\_or\\_\\_|\\||\n",
    "|\\_\\_xor\\_\\_|^|\n",
    "|\\_\\_lshift\\_\\_|<<|\n",
    "|\\_\\_rshift\\_\\_|>>|\n",
    "|\\_\\_iadd\\_\\_|+=|\n",
    "|\\_\\_isub\\_\\_|-=|\n",
    "|\\_\\_imul\\_\\_|\\*=|\n",
    "|\\_\\_ipow\\_\\_|\\*\\*=|\n",
    "|\\_\\_idiv\\_\\_|/=|\n",
    "|\\_\\_ifloordiv\\_\\_|//=|\n",
    "|\\_\\_imod\\_\\_|%=|\n",
    "|\\_\\_iand\\_\\_|&=|\n",
    "|\\_\\_ior\\_\\_|\\=||\n",
    "|\\_\\_ixor\\_\\_|^=|\n",
    "|\\_\\_ilshift\\_\\_|<<=|\n",
    "|\\_\\_irshift\\_\\_|>>=|\n"
   ]
  },
  {
   "cell_type": "markdown",
   "id": "cardiovascular-lawsuit",
   "metadata": {},
   "source": [
    "We can define the ```__add__``` data model methods."
   ]
  },
  {
   "cell_type": "code",
   "execution_count": 288,
   "id": "noticed-bunch",
   "metadata": {},
   "outputs": [],
   "source": [
    "class Scalar(object):\n",
    "    '''Custom Scalar Class.'''\n",
    "    def __init__(self,value):\n",
    "        '''Creates an instance of the Scalar Class from a value.'''\n",
    "        self._value=value\n",
    "    def __repr__(self):\n",
    "        string=f'Scalar({self._value})'\n",
    "        return(string)\n",
    "    def __str__(self):\n",
    "        string=f'Scalar({self._value})'\n",
    "        return(string)\n",
    "    def __add__(self,other):\n",
    "        return(self._value+other._value)"
   ]
  },
  {
   "cell_type": "code",
   "execution_count": 289,
   "id": "naval-envelope",
   "metadata": {},
   "outputs": [],
   "source": [
    "a=Scalar(5)"
   ]
  },
  {
   "cell_type": "code",
   "execution_count": 290,
   "id": "seasonal-strength",
   "metadata": {},
   "outputs": [],
   "source": [
    "b=Scalar(6)"
   ]
  },
  {
   "cell_type": "code",
   "execution_count": 291,
   "id": "lyric-madness",
   "metadata": {},
   "outputs": [
    {
     "data": {
      "text/plain": [
       "11"
      ]
     },
     "execution_count": 291,
     "metadata": {},
     "output_type": "execute_result"
    }
   ],
   "source": [
    "a+b"
   ]
  },
  {
   "cell_type": "markdown",
   "id": "endless-burlington",
   "metadata": {},
   "source": [
    "Note the output is an ```int```. We can instead return a new instance of the ```Scalar``` class."
   ]
  },
  {
   "cell_type": "code",
   "execution_count": 292,
   "id": "identified-bride",
   "metadata": {},
   "outputs": [],
   "source": [
    "class Scalar(object):\n",
    "    '''Custom Scalar Class.'''\n",
    "    def __init__(self,value):\n",
    "        '''Creates an instance of the Scalar Class from a value.'''\n",
    "        self._value=value\n",
    "    def __repr__(self):\n",
    "        string=f'Scalar({self._value})'\n",
    "        return(string)\n",
    "    def __str__(self):\n",
    "        string=f'Scalar({self._value})'\n",
    "        return(string)\n",
    "    def __add__(self,other):\n",
    "        return(Scalar(self._value+other._value))"
   ]
  },
  {
   "cell_type": "code",
   "execution_count": 293,
   "id": "rural-idaho",
   "metadata": {},
   "outputs": [],
   "source": [
    "a=Scalar(5)"
   ]
  },
  {
   "cell_type": "code",
   "execution_count": 294,
   "id": "dutch-romantic",
   "metadata": {},
   "outputs": [],
   "source": [
    "b=Scalar(6)"
   ]
  },
  {
   "cell_type": "code",
   "execution_count": 295,
   "id": "consistent-eleven",
   "metadata": {},
   "outputs": [
    {
     "data": {
      "text/plain": [
       "Scalar(11)"
      ]
     },
     "execution_count": 295,
     "metadata": {},
     "output_type": "execute_result"
    }
   ],
   "source": [
    "a+b"
   ]
  },
  {
   "cell_type": "markdown",
   "id": "continent-hotel",
   "metadata": {},
   "source": [
    "We can also do this for other data model methods."
   ]
  },
  {
   "cell_type": "code",
   "execution_count": 296,
   "id": "educated-candle",
   "metadata": {},
   "outputs": [],
   "source": [
    "class Scalar(object):\n",
    "    '''Custom Scalar Class.'''\n",
    "    def __init__(self,value):\n",
    "        '''Creates an instance of the Scalar Class from a value.'''\n",
    "        self._value=value\n",
    "    def __repr__(self):\n",
    "        string=f'Scalar({self._value})'\n",
    "        return(string)\n",
    "    def __str__(self):\n",
    "        string=f'Scalar({self._value})'\n",
    "        return(string)\n",
    "    def __add__(self,other):\n",
    "        return(Scalar(self._value+other._value))\n",
    "    def __sub__(self,other):\n",
    "        return(Scalar(self._value-other._value))\n",
    "    def __mul__(self,other):\n",
    "        return(Scalar(self._value*other._value))"
   ]
  },
  {
   "cell_type": "code",
   "execution_count": 297,
   "id": "elegant-canal",
   "metadata": {},
   "outputs": [],
   "source": [
    "a=Scalar(5)"
   ]
  },
  {
   "cell_type": "code",
   "execution_count": 298,
   "id": "violent-metadata",
   "metadata": {},
   "outputs": [],
   "source": [
    "b=Scalar(6)"
   ]
  },
  {
   "cell_type": "code",
   "execution_count": 299,
   "id": "similar-generic",
   "metadata": {},
   "outputs": [
    {
     "data": {
      "text/plain": [
       "Scalar(11)"
      ]
     },
     "execution_count": 299,
     "metadata": {},
     "output_type": "execute_result"
    }
   ],
   "source": [
    "a+b"
   ]
  },
  {
   "cell_type": "code",
   "execution_count": 300,
   "id": "perceived-better",
   "metadata": {},
   "outputs": [
    {
     "data": {
      "text/plain": [
       "Scalar(-1)"
      ]
     },
     "execution_count": 300,
     "metadata": {},
     "output_type": "execute_result"
    }
   ],
   "source": [
    "a-b"
   ]
  },
  {
   "cell_type": "code",
   "execution_count": 301,
   "id": "molecular-arizona",
   "metadata": {},
   "outputs": [
    {
     "data": {
      "text/plain": [
       "Scalar(30)"
      ]
     },
     "execution_count": 301,
     "metadata": {},
     "output_type": "execute_result"
    }
   ],
   "source": [
    "a*b"
   ]
  },
  {
   "cell_type": "markdown",
   "id": "collective-postage",
   "metadata": {},
   "source": [
    "### Inheritance continued"
   ]
  },
  {
   "cell_type": "markdown",
   "id": "covered-methodology",
   "metadata": {},
   "source": [
    "Let's create a very simple custom class ```ParentScalar``` with a single method that has a single positional input argument ```something``` and prints a formatted string containing the value of ```something```. The parent ```class``` will be assigned to ```object```."
   ]
  },
  {
   "cell_type": "code",
   "execution_count": 302,
   "id": "nonprofit-finish",
   "metadata": {},
   "outputs": [],
   "source": [
    "class ParentScalar(object):\n",
    "    '''Custom Scalar class.'''\n",
    "    def printsomething(self,something):\n",
    "        '''This will print something.'''\n",
    "        print(f'This will print {something}')"
   ]
  },
  {
   "cell_type": "code",
   "execution_count": 303,
   "id": "marked-alias",
   "metadata": {},
   "outputs": [],
   "source": [
    "a=ParentScalar()"
   ]
  },
  {
   "cell_type": "code",
   "execution_count": 304,
   "id": "liquid-saying",
   "metadata": {},
   "outputs": [
    {
     "data": {
      "text/plain": [
       "\u001b[1;31mSignature:\u001b[0m  \u001b[0ma\u001b[0m\u001b[1;33m.\u001b[0m\u001b[0mprintsomething\u001b[0m\u001b[1;33m(\u001b[0m\u001b[0msomething\u001b[0m\u001b[1;33m)\u001b[0m\u001b[1;33m\u001b[0m\u001b[1;33m\u001b[0m\u001b[0m\n",
       "\u001b[1;31mDocstring:\u001b[0m This will print something.\n",
       "\u001b[1;31mFile:\u001b[0m      c:\\users\\phili\\documents\\1. object orientated programming\\<ipython-input-302-40a6c6cb005e>\n",
       "\u001b[1;31mType:\u001b[0m      method\n"
      ]
     },
     "metadata": {},
     "output_type": "display_data"
    }
   ],
   "source": [
    "? a.printsomething"
   ]
  },
  {
   "cell_type": "code",
   "execution_count": 305,
   "id": "australian-charles",
   "metadata": {},
   "outputs": [
    {
     "name": "stdout",
     "output_type": "stream",
     "text": [
      "This will print hi\n"
     ]
    }
   ],
   "source": [
    "a.printsomething('hi')"
   ]
  },
  {
   "cell_type": "markdown",
   "id": "tough-spectrum",
   "metadata": {},
   "source": [
    "Now let's create a ```ChildScalar``` which uses ```ParentScalar``` as a parent ```class```. This child ```class``` will inherit the method ```printsomething```."
   ]
  },
  {
   "cell_type": "code",
   "execution_count": 306,
   "id": "impressed-natural",
   "metadata": {},
   "outputs": [],
   "source": [
    "class ChildScalar(ParentScalar):\n",
    "    pass"
   ]
  },
  {
   "cell_type": "code",
   "execution_count": 307,
   "id": "american-amendment",
   "metadata": {},
   "outputs": [],
   "source": [
    "b=ChildScalar()"
   ]
  },
  {
   "cell_type": "code",
   "execution_count": 308,
   "id": "overall-right",
   "metadata": {},
   "outputs": [
    {
     "data": {
      "text/plain": [
       "\u001b[1;31mSignature:\u001b[0m  \u001b[0mb\u001b[0m\u001b[1;33m.\u001b[0m\u001b[0mprintsomething\u001b[0m\u001b[1;33m(\u001b[0m\u001b[0msomething\u001b[0m\u001b[1;33m)\u001b[0m\u001b[1;33m\u001b[0m\u001b[1;33m\u001b[0m\u001b[0m\n",
       "\u001b[1;31mDocstring:\u001b[0m This will print something.\n",
       "\u001b[1;31mFile:\u001b[0m      c:\\users\\phili\\documents\\1. object orientated programming\\<ipython-input-302-40a6c6cb005e>\n",
       "\u001b[1;31mType:\u001b[0m      method\n"
      ]
     },
     "metadata": {},
     "output_type": "display_data"
    }
   ],
   "source": [
    "? b.printsomething"
   ]
  },
  {
   "cell_type": "code",
   "execution_count": 309,
   "id": "seven-catering",
   "metadata": {},
   "outputs": [
    {
     "name": "stdout",
     "output_type": "stream",
     "text": [
      "This will print hi\n"
     ]
    }
   ],
   "source": [
    "b.printsomething('hi')"
   ]
  },
  {
   "cell_type": "markdown",
   "id": "earlier-exception",
   "metadata": {},
   "source": [
    "Assuming we want to update the method ```printsomething``` to ```print``` a formatted string which contains the value of the positional input ```something``` and also print another formatted string which contains the value of the positional input arguments ```somethingelse```.\n",
    "\n",
    "Defining the method ```printsomething``` will completely override the behaviour of the ```printsomething``` method found in the parents ```class```. If we leave it as blank using ```pass``` we see nothing happens."
   ]
  },
  {
   "cell_type": "code",
   "execution_count": 310,
   "id": "accepting-hanging",
   "metadata": {},
   "outputs": [],
   "source": [
    "class ChildScalar(ParentScalar):\n",
    "    def printsomething(self,something,somethingelse):\n",
    "        pass"
   ]
  },
  {
   "cell_type": "code",
   "execution_count": 311,
   "id": "empirical-argument",
   "metadata": {},
   "outputs": [],
   "source": [
    "b=ChildScalar()"
   ]
  },
  {
   "cell_type": "code",
   "execution_count": 312,
   "id": "weird-ethiopia",
   "metadata": {},
   "outputs": [
    {
     "data": {
      "text/plain": [
       "\u001b[1;31mSignature:\u001b[0m  \u001b[0mb\u001b[0m\u001b[1;33m.\u001b[0m\u001b[0mprintsomething\u001b[0m\u001b[1;33m(\u001b[0m\u001b[0msomething\u001b[0m\u001b[1;33m,\u001b[0m \u001b[0msomethingelse\u001b[0m\u001b[1;33m)\u001b[0m\u001b[1;33m\u001b[0m\u001b[1;33m\u001b[0m\u001b[0m\n",
       "\u001b[1;31mDocstring:\u001b[0m This will print something.\n",
       "\u001b[1;31mFile:\u001b[0m      c:\\users\\phili\\documents\\1. object orientated programming\\<ipython-input-310-96bc652350e1>\n",
       "\u001b[1;31mType:\u001b[0m      method\n"
      ]
     },
     "metadata": {},
     "output_type": "display_data"
    }
   ],
   "source": [
    "? b.printsomething"
   ]
  },
  {
   "cell_type": "code",
   "execution_count": 313,
   "id": "delayed-breakfast",
   "metadata": {},
   "outputs": [],
   "source": [
    "b.printsomething('hi','bye')"
   ]
  },
  {
   "cell_type": "markdown",
   "id": "african-assistant",
   "metadata": {},
   "source": [
    "We want to reuse the code from within the parents ```class```. To do this we can use ```super```. The ```super``` init method takes 2 positional input arguments, the child ```class``` which we wish to call the superclass of and the instance which will be ```self```. In our example this will be ```super(ChildScalar,self)```. We can then call methods or attributes from the parent ```class``` by using a ```.``` and ```↹```."
   ]
  },
  {
   "cell_type": "markdown",
   "id": "threaded-planner",
   "metadata": {},
   "source": [
    "![inheritance_ChildScalar](inheritance_ChildScalar.png)"
   ]
  },
  {
   "cell_type": "markdown",
   "id": "loose-wilson",
   "metadata": {},
   "source": [
    "In our case we can call the method print something. Recall in the parent class the positional input arguments were ```self``` and ```something```. ```self``` is already provided when we use ```super``` so the only thing we need is ```something```. This needs to also be present as a positional input argument in the child ```class``` method ```printsomething```."
   ]
  },
  {
   "cell_type": "code",
   "execution_count": 314,
   "id": "ready-march",
   "metadata": {},
   "outputs": [],
   "source": [
    "class ChildScalar(ParentScalar):\n",
    "    def printsomething(self,something,somethingelse):\n",
    "        super(ChildScalar,self).printsomething(something)"
   ]
  },
  {
   "cell_type": "markdown",
   "id": "continuing-copyright",
   "metadata": {},
   "source": [
    "We can now reinstantiate ```b``` and call the child ```class``` method ```printsomething```."
   ]
  },
  {
   "cell_type": "code",
   "execution_count": 315,
   "id": "impressed-seller",
   "metadata": {},
   "outputs": [],
   "source": [
    "b=ChildScalar()"
   ]
  },
  {
   "cell_type": "code",
   "execution_count": 316,
   "id": "theoretical-directory",
   "metadata": {},
   "outputs": [
    {
     "data": {
      "text/plain": [
       "\u001b[1;31mSignature:\u001b[0m  \u001b[0mb\u001b[0m\u001b[1;33m.\u001b[0m\u001b[0mprintsomething\u001b[0m\u001b[1;33m(\u001b[0m\u001b[0msomething\u001b[0m\u001b[1;33m,\u001b[0m \u001b[0msomethingelse\u001b[0m\u001b[1;33m)\u001b[0m\u001b[1;33m\u001b[0m\u001b[1;33m\u001b[0m\u001b[0m\n",
       "\u001b[1;31mDocstring:\u001b[0m This will print something.\n",
       "\u001b[1;31mFile:\u001b[0m      c:\\users\\phili\\documents\\1. object orientated programming\\<ipython-input-314-16c118dc6771>\n",
       "\u001b[1;31mType:\u001b[0m      method\n"
      ]
     },
     "metadata": {},
     "output_type": "display_data"
    }
   ],
   "source": [
    "? b.printsomething"
   ]
  },
  {
   "cell_type": "code",
   "execution_count": 317,
   "id": "adjustable-contamination",
   "metadata": {},
   "outputs": [
    {
     "name": "stdout",
     "output_type": "stream",
     "text": [
      "This will print hi\n"
     ]
    }
   ],
   "source": [
    "b.printsomething('hi','bye')"
   ]
  },
  {
   "cell_type": "markdown",
   "id": "unlike-cleaner",
   "metadata": {},
   "source": [
    "We can now modify the ```printsomething``` method in the child ```class``` to give additional functionality not present in the ```printsomething``` method of the parent ```class```, for example an additional formatted string which contains the second positional input argument ```somethingelse```."
   ]
  },
  {
   "cell_type": "code",
   "execution_count": 318,
   "id": "expanded-alfred",
   "metadata": {},
   "outputs": [],
   "source": [
    "class ChildScalar(ParentScalar):\n",
    "    def printsomething(self,something,somethingelse):\n",
    "        super(ChildScalar,self).printsomething(something)\n",
    "        print(f'This will print {somethingelse}')"
   ]
  },
  {
   "cell_type": "code",
   "execution_count": 319,
   "id": "integrated-antigua",
   "metadata": {},
   "outputs": [],
   "source": [
    "b=ChildScalar()"
   ]
  },
  {
   "cell_type": "code",
   "execution_count": 320,
   "id": "geographic-establishment",
   "metadata": {},
   "outputs": [
    {
     "data": {
      "text/plain": [
       "\u001b[1;31mSignature:\u001b[0m  \u001b[0mb\u001b[0m\u001b[1;33m.\u001b[0m\u001b[0mprintsomething\u001b[0m\u001b[1;33m(\u001b[0m\u001b[0msomething\u001b[0m\u001b[1;33m,\u001b[0m \u001b[0msomethingelse\u001b[0m\u001b[1;33m)\u001b[0m\u001b[1;33m\u001b[0m\u001b[1;33m\u001b[0m\u001b[0m\n",
       "\u001b[1;31mDocstring:\u001b[0m This will print something.\n",
       "\u001b[1;31mFile:\u001b[0m      c:\\users\\phili\\documents\\1. object orientated programming\\<ipython-input-318-1843de9c1e99>\n",
       "\u001b[1;31mType:\u001b[0m      method\n"
      ]
     },
     "metadata": {},
     "output_type": "display_data"
    }
   ],
   "source": [
    "? b.printsomething"
   ]
  },
  {
   "cell_type": "code",
   "execution_count": 321,
   "id": "facial-services",
   "metadata": {},
   "outputs": [
    {
     "name": "stdout",
     "output_type": "stream",
     "text": [
      "This will print hi\n",
      "This will print bye\n"
     ]
    }
   ],
   "source": [
    "b.printsomething('hi','bye')"
   ]
  },
  {
   "cell_type": "markdown",
   "id": "hourly-place",
   "metadata": {},
   "source": [
    "Now the code works as expected. Notice that the docstring from the function ```printsomething``` is from the parent ```class```. We can create a docstring when defining the ```printsomething``` method in the ```child``` class that is more relevant."
   ]
  },
  {
   "cell_type": "code",
   "execution_count": 322,
   "id": "spiritual-disco",
   "metadata": {},
   "outputs": [],
   "source": [
    "class ChildScalar(ParentScalar):\n",
    "    def printsomething(self,something,somethingelse):\n",
    "        '''This will print something from the parent class and somethingelse from the child class.'''\n",
    "        super(ChildScalar,self).printsomething(something)\n",
    "        print(f'This will print {somethingelse}')"
   ]
  },
  {
   "cell_type": "code",
   "execution_count": 323,
   "id": "important-gather",
   "metadata": {},
   "outputs": [],
   "source": [
    "b=ChildScalar()"
   ]
  },
  {
   "cell_type": "code",
   "execution_count": 324,
   "id": "portuguese-glass",
   "metadata": {},
   "outputs": [
    {
     "data": {
      "text/plain": [
       "\u001b[1;31mSignature:\u001b[0m  \u001b[0mb\u001b[0m\u001b[1;33m.\u001b[0m\u001b[0mprintsomething\u001b[0m\u001b[1;33m(\u001b[0m\u001b[0msomething\u001b[0m\u001b[1;33m,\u001b[0m \u001b[0msomethingelse\u001b[0m\u001b[1;33m)\u001b[0m\u001b[1;33m\u001b[0m\u001b[1;33m\u001b[0m\u001b[0m\n",
       "\u001b[1;31mDocstring:\u001b[0m This will print something from the parent class and somethingelse from the child class.\n",
       "\u001b[1;31mFile:\u001b[0m      c:\\users\\phili\\documents\\1. object orientated programming\\<ipython-input-322-ff0cc7bd5ada>\n",
       "\u001b[1;31mType:\u001b[0m      method\n"
      ]
     },
     "metadata": {},
     "output_type": "display_data"
    }
   ],
   "source": [
    "? b.printsomething"
   ]
  },
  {
   "cell_type": "code",
   "execution_count": 325,
   "id": "naughty-drive",
   "metadata": {},
   "outputs": [
    {
     "name": "stdout",
     "output_type": "stream",
     "text": [
      "This will print hi\n",
      "This will print bye\n"
     ]
    }
   ],
   "source": [
    "b.printsomething('hi','bye')"
   ]
  },
  {
   "cell_type": "markdown",
   "id": "convinced-hepatitis",
   "metadata": {},
   "source": [
    "Because ```super``` is being called from within a method. The child ```class``` and instance ```self``` are implied if not stated (the code may be easier to follow for beginners if they are explicitly stated however). This means the following code would still work."
   ]
  },
  {
   "cell_type": "code",
   "execution_count": 326,
   "id": "theoretical-chancellor",
   "metadata": {},
   "outputs": [],
   "source": [
    "class ChildScalar(ParentScalar):\n",
    "    def printsomething(self,something,somethingelse):\n",
    "        '''This will print something from the parent class and somethingelse from the child class.'''\n",
    "        super().printsomething(something)\n",
    "        print(f'This will print {somethingelse}')"
   ]
  },
  {
   "cell_type": "code",
   "execution_count": 327,
   "id": "industrial-quantity",
   "metadata": {},
   "outputs": [],
   "source": [
    "b=ChildScalar()"
   ]
  },
  {
   "cell_type": "code",
   "execution_count": 328,
   "id": "excess-luxembourg",
   "metadata": {},
   "outputs": [
    {
     "data": {
      "text/plain": [
       "\u001b[1;31mSignature:\u001b[0m  \u001b[0mb\u001b[0m\u001b[1;33m.\u001b[0m\u001b[0mprintsomething\u001b[0m\u001b[1;33m(\u001b[0m\u001b[0msomething\u001b[0m\u001b[1;33m,\u001b[0m \u001b[0msomethingelse\u001b[0m\u001b[1;33m)\u001b[0m\u001b[1;33m\u001b[0m\u001b[1;33m\u001b[0m\u001b[0m\n",
       "\u001b[1;31mDocstring:\u001b[0m This will print something from the parent class and somethingelse from the child class.\n",
       "\u001b[1;31mFile:\u001b[0m      c:\\users\\phili\\documents\\1. object orientated programming\\<ipython-input-326-8463ce5be87e>\n",
       "\u001b[1;31mType:\u001b[0m      method\n"
      ]
     },
     "metadata": {},
     "output_type": "display_data"
    }
   ],
   "source": [
    "? b.printsomething"
   ]
  },
  {
   "cell_type": "code",
   "execution_count": 329,
   "id": "subjective-thailand",
   "metadata": {},
   "outputs": [
    {
     "name": "stdout",
     "output_type": "stream",
     "text": [
      "This will print hi\n",
      "This will print bye\n"
     ]
    }
   ],
   "source": [
    "b.printsomething('hi','bye')"
   ]
  },
  {
   "cell_type": "markdown",
   "id": "persistent-petersburg",
   "metadata": {},
   "source": [
    "Also the new method name in the child ```class``` does not need to have an identical name to that specified in the parent ```class```. "
   ]
  },
  {
   "cell_type": "code",
   "execution_count": 330,
   "id": "fewer-recipe",
   "metadata": {},
   "outputs": [],
   "source": [
    "class ChildScalar(ParentScalar):\n",
    "    def printsomething2(self,something,somethingelse):\n",
    "        '''This will print something from the parent class and somethingelse from the child class.'''\n",
    "        super(ChildScalar,self).printsomething(something)\n",
    "        print(f'This will print {somethingelse}')"
   ]
  },
  {
   "cell_type": "code",
   "execution_count": 331,
   "id": "logical-moment",
   "metadata": {},
   "outputs": [],
   "source": [
    "b=ChildScalar()"
   ]
  },
  {
   "cell_type": "markdown",
   "id": "educated-conservative",
   "metadata": {},
   "source": [
    "The method ```printsomething``` is entirely inherited from the parent ```class```."
   ]
  },
  {
   "cell_type": "code",
   "execution_count": 332,
   "id": "nasty-radical",
   "metadata": {},
   "outputs": [
    {
     "data": {
      "text/plain": [
       "\u001b[1;31mSignature:\u001b[0m  \u001b[0mb\u001b[0m\u001b[1;33m.\u001b[0m\u001b[0mprintsomething\u001b[0m\u001b[1;33m(\u001b[0m\u001b[0msomething\u001b[0m\u001b[1;33m)\u001b[0m\u001b[1;33m\u001b[0m\u001b[1;33m\u001b[0m\u001b[0m\n",
       "\u001b[1;31mDocstring:\u001b[0m This will print something.\n",
       "\u001b[1;31mFile:\u001b[0m      c:\\users\\phili\\documents\\1. object orientated programming\\<ipython-input-302-40a6c6cb005e>\n",
       "\u001b[1;31mType:\u001b[0m      method\n"
      ]
     },
     "metadata": {},
     "output_type": "display_data"
    }
   ],
   "source": [
    "? b.printsomething"
   ]
  },
  {
   "cell_type": "markdown",
   "id": "serial-exception",
   "metadata": {},
   "source": [
    "The method ```printsomething2``` calls ```printsomething``` from the parent ```class``` and adds the additional functionality specified."
   ]
  },
  {
   "cell_type": "code",
   "execution_count": 333,
   "id": "respiratory-manner",
   "metadata": {},
   "outputs": [
    {
     "data": {
      "text/plain": [
       "\u001b[1;31mSignature:\u001b[0m  \u001b[0mb\u001b[0m\u001b[1;33m.\u001b[0m\u001b[0mprintsomething2\u001b[0m\u001b[1;33m(\u001b[0m\u001b[0msomething\u001b[0m\u001b[1;33m,\u001b[0m \u001b[0msomethingelse\u001b[0m\u001b[1;33m)\u001b[0m\u001b[1;33m\u001b[0m\u001b[1;33m\u001b[0m\u001b[0m\n",
       "\u001b[1;31mDocstring:\u001b[0m This will print something from the parent class and somethingelse from the child class.\n",
       "\u001b[1;31mFile:\u001b[0m      c:\\users\\phili\\documents\\1. object orientated programming\\<ipython-input-330-7565b6b95a56>\n",
       "\u001b[1;31mType:\u001b[0m      method\n"
      ]
     },
     "metadata": {},
     "output_type": "display_data"
    }
   ],
   "source": [
    "? b.printsomething2"
   ]
  },
  {
   "cell_type": "code",
   "execution_count": 334,
   "id": "established-cedar",
   "metadata": {},
   "outputs": [
    {
     "name": "stdout",
     "output_type": "stream",
     "text": [
      "This will print hi\n"
     ]
    }
   ],
   "source": [
    "b.printsomething('hi')"
   ]
  },
  {
   "cell_type": "code",
   "execution_count": 335,
   "id": "flush-supervision",
   "metadata": {},
   "outputs": [
    {
     "name": "stdout",
     "output_type": "stream",
     "text": [
      "This will print hi\n",
      "This will print bye\n"
     ]
    }
   ],
   "source": [
    "b.printsomething2('hi','bye')"
   ]
  },
  {
   "cell_type": "markdown",
   "id": "least-adelaide",
   "metadata": {},
   "source": [
    "Now let us recreate the parent ```class``` and include an ```__init__``` data model method which will use a single positional input argument ```value``` and create an attribute ```value``` from it."
   ]
  },
  {
   "cell_type": "code",
   "execution_count": 336,
   "id": "surrounded-inspection",
   "metadata": {},
   "outputs": [],
   "source": [
    "class ParentScalar(object):\n",
    "    '''Custom Parent Scalar Class.'''\n",
    "    def __init__(self,value):\n",
    "        '''Creates an instance of the Scalar Class from a value.'''\n",
    "        self.value=value"
   ]
  },
  {
   "cell_type": "markdown",
   "id": "democratic-character",
   "metadata": {},
   "source": [
    "Let's assume we want to create a child ```class``` and want to inherit the parent classes ```__init__``` method but add an additional attribute ```att```. We can use ```super().__init__()``` to the ```___init___``` data model method from theparent ```class```. "
   ]
  },
  {
   "cell_type": "code",
   "execution_count": 337,
   "id": "surrounded-intent",
   "metadata": {},
   "outputs": [],
   "source": [
    "class ChildScalar(ParentScalar):\n",
    "    def __init__(self,value,att):\n",
    "        '''Creates an attribute value from the parent class and an attribute att from the child class.'''\n",
    "        self.att=att\n",
    "        super(ChildScalar,self).__init__(value)"
   ]
  },
  {
   "cell_type": "markdown",
   "id": "accepting-prize",
   "metadata": {},
   "source": [
    "We can create the instance ```a``` and see that this works as expected."
   ]
  },
  {
   "cell_type": "code",
   "execution_count": 338,
   "id": "diverse-willow",
   "metadata": {},
   "outputs": [
    {
     "data": {
      "text/plain": [
       "\u001b[1;31mInit signature:\u001b[0m  \u001b[0mChildScalar\u001b[0m\u001b[1;33m(\u001b[0m\u001b[0mvalue\u001b[0m\u001b[1;33m,\u001b[0m \u001b[0matt\u001b[0m\u001b[1;33m)\u001b[0m\u001b[1;33m\u001b[0m\u001b[1;33m\u001b[0m\u001b[0m\n",
       "\u001b[1;31mDocstring:\u001b[0m      Custom Parent Scalar Class.\n",
       "\u001b[1;31mInit docstring:\u001b[0m Creates an attribute value from the parent class and an attribute att from the child class.\n",
       "\u001b[1;31mType:\u001b[0m           type\n",
       "\u001b[1;31mSubclasses:\u001b[0m     \n"
      ]
     },
     "metadata": {},
     "output_type": "display_data"
    }
   ],
   "source": [
    "? ChildScalar"
   ]
  },
  {
   "cell_type": "code",
   "execution_count": 339,
   "id": "uniform-break",
   "metadata": {},
   "outputs": [],
   "source": [
    "a=ChildScalar(2,1)"
   ]
  },
  {
   "cell_type": "code",
   "execution_count": 340,
   "id": "pressing-allah",
   "metadata": {},
   "outputs": [
    {
     "data": {
      "text/plain": [
       "1"
      ]
     },
     "execution_count": 340,
     "metadata": {},
     "output_type": "execute_result"
    }
   ],
   "source": [
    "a.att"
   ]
  },
  {
   "cell_type": "code",
   "execution_count": 341,
   "id": "christian-collar",
   "metadata": {},
   "outputs": [
    {
     "data": {
      "text/plain": [
       "2"
      ]
     },
     "execution_count": 341,
     "metadata": {},
     "output_type": "execute_result"
    }
   ],
   "source": [
    "a.value"
   ]
  },
  {
   "cell_type": "markdown",
   "id": "retired-destruction",
   "metadata": {},
   "source": [
    "## A Custom Fraction class"
   ]
  },
  {
   "cell_type": "markdown",
   "id": "working-nutrition",
   "metadata": {},
   "source": [
    "Let's think about the way we would go about constructing a fraction class. A fraction has a numerator and a denominator. These can be initialized as the int ```n``` and ```d``` when the fraction is created. We will store them to the hidden attributes ```_n``` and ```_d``` respectively."
   ]
  },
  {
   "cell_type": "markdown",
   "id": "fourth-equivalent",
   "metadata": {},
   "source": [
    "$\\frac{\\textrm{self.n}}{\\textrm{self.d}}$"
   ]
  },
  {
   "cell_type": "code",
   "execution_count": 342,
   "id": "under-liverpool",
   "metadata": {},
   "outputs": [],
   "source": [
    "class Fraction(object):\n",
    "    '''Fraction\n",
    "    n is the numerator and must be an integer\n",
    "    d is the denominator and must be an integer'''\n",
    "    def __init__(self,n,d):\n",
    "        self._n=n\n",
    "        self._d=d"
   ]
  },
  {
   "cell_type": "code",
   "execution_count": 343,
   "id": "rolled-musician",
   "metadata": {},
   "outputs": [],
   "source": [
    "o=Fraction(1,2)"
   ]
  },
  {
   "cell_type": "code",
   "execution_count": 344,
   "id": "korean-patrick",
   "metadata": {},
   "outputs": [
    {
     "data": {
      "text/plain": [
       "1"
      ]
     },
     "execution_count": 344,
     "metadata": {},
     "output_type": "execute_result"
    }
   ],
   "source": [
    "o._n"
   ]
  },
  {
   "cell_type": "code",
   "execution_count": 345,
   "id": "checked-immigration",
   "metadata": {},
   "outputs": [
    {
     "data": {
      "text/plain": [
       "2"
      ]
     },
     "execution_count": 345,
     "metadata": {},
     "output_type": "execute_result"
    }
   ],
   "source": [
    "o._d"
   ]
  },
  {
   "cell_type": "markdown",
   "id": "minute-truck",
   "metadata": {},
   "source": [
    "In the ```__init__``` method we will want to ensure that both ```n``` and ```d``` are integers and also that ```d``` is not equal to ```0```. "
   ]
  },
  {
   "cell_type": "code",
   "execution_count": 346,
   "id": "floating-charleston",
   "metadata": {},
   "outputs": [],
   "source": [
    "class Fraction(object):\n",
    "    '''Fraction\n",
    "    n is the numerator and must be an integer\n",
    "    d is the denominator and must be an integer'''\n",
    "    def __init__(self,n,d):\n",
    "        try: \n",
    "            assert (type(n)==int and type(d)==int), 'n and d must be of the type int.'\n",
    "            self._n=n\n",
    "            try: \n",
    "                assert (d!=0)\n",
    "                self._d=d\n",
    "            except AssertionError:\n",
    "                print('d cannot be zero.')\n",
    "        except AssertionError:\n",
    "            print('n and d must be of the type int.')\n",
    "        "
   ]
  },
  {
   "cell_type": "markdown",
   "id": "tired-daily",
   "metadata": {},
   "source": [
    "We can see this works as expected."
   ]
  },
  {
   "cell_type": "code",
   "execution_count": 347,
   "id": "increasing-johns",
   "metadata": {},
   "outputs": [],
   "source": [
    "l=Fraction(1,2)"
   ]
  },
  {
   "cell_type": "code",
   "execution_count": 348,
   "id": "ruled-duplicate",
   "metadata": {},
   "outputs": [
    {
     "name": "stdout",
     "output_type": "stream",
     "text": [
      "n and d must be of the type int.\n"
     ]
    }
   ],
   "source": [
    "m=Fraction(1,2.1)"
   ]
  },
  {
   "cell_type": "code",
   "execution_count": 349,
   "id": "nuclear-retailer",
   "metadata": {},
   "outputs": [
    {
     "name": "stdout",
     "output_type": "stream",
     "text": [
      "d cannot be zero.\n"
     ]
    }
   ],
   "source": [
    "n=Fraction(2,0)"
   ]
  },
  {
   "cell_type": "markdown",
   "id": "boxed-fusion",
   "metadata": {},
   "source": [
    "If we insert the values of ```6``` and ```4``` for the numerator and denominator."
   ]
  },
  {
   "cell_type": "code",
   "execution_count": 350,
   "id": "labeled-corruption",
   "metadata": {},
   "outputs": [],
   "source": [
    "p=Fraction(6,4)"
   ]
  },
  {
   "cell_type": "markdown",
   "id": "passing-massachusetts",
   "metadata": {},
   "source": [
    "We would like to automatically round it down to ```3``` and ```2``` because both the numerator and denominator are perfectly divisable by ```2``` and give a modulo of ```0```."
   ]
  },
  {
   "cell_type": "code",
   "execution_count": 351,
   "id": "southeast-quarterly",
   "metadata": {},
   "outputs": [
    {
     "data": {
      "text/plain": [
       "3"
      ]
     },
     "execution_count": 351,
     "metadata": {},
     "output_type": "execute_result"
    }
   ],
   "source": [
    "p._n//2"
   ]
  },
  {
   "cell_type": "code",
   "execution_count": 352,
   "id": "single-jacket",
   "metadata": {},
   "outputs": [
    {
     "data": {
      "text/plain": [
       "0"
      ]
     },
     "execution_count": 352,
     "metadata": {},
     "output_type": "execute_result"
    }
   ],
   "source": [
    "p._n%2"
   ]
  },
  {
   "cell_type": "code",
   "execution_count": 353,
   "id": "civic-lexington",
   "metadata": {},
   "outputs": [
    {
     "data": {
      "text/plain": [
       "2"
      ]
     },
     "execution_count": 353,
     "metadata": {},
     "output_type": "execute_result"
    }
   ],
   "source": [
    "p._d//2"
   ]
  },
  {
   "cell_type": "code",
   "execution_count": 354,
   "id": "presidential-equality",
   "metadata": {},
   "outputs": [
    {
     "data": {
      "text/plain": [
       "0"
      ]
     },
     "execution_count": 354,
     "metadata": {},
     "output_type": "execute_result"
    }
   ],
   "source": [
    "p._d%2"
   ]
  },
  {
   "cell_type": "markdown",
   "id": "happy-citation",
   "metadata": {},
   "source": [
    "To check for this we will need to construct a for loop counting from the value of the denominator in steps of ```-1```. Note that we are inclusive of the lower bound and exclusive of the top bound. So we will go to ```1``` and the last value will therefore be ```2```. There is no change when the lowest common denominator is ```1```."
   ]
  },
  {
   "cell_type": "code",
   "execution_count": 355,
   "id": "supported-strain",
   "metadata": {},
   "outputs": [
    {
     "name": "stdout",
     "output_type": "stream",
     "text": [
      "4\n",
      "3\n",
      "2\n"
     ]
    }
   ],
   "source": [
    "for idx in range(p._d,1,-1):\n",
    "    print(idx)"
   ]
  },
  {
   "cell_type": "markdown",
   "id": "weighted-empire",
   "metadata": {},
   "source": [
    "We are only interested in cases where both ```n``` and ```d``` give a modulo of ```0``` when divided by the value and we are also only interested in the highest value. So wish to ```break``` the ```for``` loop ```if``` such a value is found."
   ]
  },
  {
   "cell_type": "code",
   "execution_count": 356,
   "id": "premier-footage",
   "metadata": {},
   "outputs": [
    {
     "name": "stdout",
     "output_type": "stream",
     "text": [
      "2\n",
      "n=3\n",
      "d=2\n"
     ]
    }
   ],
   "source": [
    "for idx in range(p._d,1,-1):\n",
    "    if (p._n%idx==0 and p._d%idx==0):\n",
    "        print(idx)\n",
    "        print(f'n={p._n//idx}')\n",
    "        print(f'd={p._d//idx}')\n",
    "        break"
   ]
  },
  {
   "cell_type": "markdown",
   "id": "numeric-union",
   "metadata": {},
   "source": [
    "Let's create a method called ```common_factor``` which includes this code. We can call this method in the ```__init__``` method to automatically divide our fraction through by the common factor."
   ]
  },
  {
   "cell_type": "code",
   "execution_count": 357,
   "id": "traditional-prayer",
   "metadata": {},
   "outputs": [],
   "source": [
    "class Fraction(object):\n",
    "    '''Fraction\n",
    "    n is the numerator and must be an integer\n",
    "    d is the denominator and must be an integer'''\n",
    "    def __init__(self,n,d):\n",
    "        try: \n",
    "            assert (type(n)==int and type(d)==int), 'n and d must be of the type int.'\n",
    "            self._n=n\n",
    "            try: \n",
    "                assert (d!=0)\n",
    "                self._d=d\n",
    "                self.common_factor()\n",
    "            except AssertionError:\n",
    "                print('d cannot be zero.')\n",
    "        except AssertionError:\n",
    "            print('n and d must be of the type int.')\n",
    "    def common_factor(self):\n",
    "        for idx in range(self._d,1,-1):\n",
    "            if (self._n%idx==0 and self._d%idx==0):\n",
    "                self._n=self._n//idx\n",
    "                self._d=self._d//idx\n",
    "                break"
   ]
  },
  {
   "cell_type": "code",
   "execution_count": 358,
   "id": "fancy-cowboy",
   "metadata": {},
   "outputs": [],
   "source": [
    "p=Fraction(6,4)"
   ]
  },
  {
   "cell_type": "code",
   "execution_count": 359,
   "id": "executive-kennedy",
   "metadata": {},
   "outputs": [
    {
     "data": {
      "text/plain": [
       "3"
      ]
     },
     "execution_count": 359,
     "metadata": {},
     "output_type": "execute_result"
    }
   ],
   "source": [
    "p._n"
   ]
  },
  {
   "cell_type": "code",
   "execution_count": 360,
   "id": "broadband-xerox",
   "metadata": {},
   "outputs": [
    {
     "data": {
      "text/plain": [
       "2"
      ]
     },
     "execution_count": 360,
     "metadata": {},
     "output_type": "execute_result"
    }
   ],
   "source": [
    "p._d"
   ]
  },
  {
   "cell_type": "markdown",
   "id": "satisfactory-heading",
   "metadata": {},
   "source": [
    "We may now want to update the data model methods ```__str__``` and ```__repr__``` to mimic the representation used in the ```__init__``` data model method."
   ]
  },
  {
   "cell_type": "code",
   "execution_count": 361,
   "id": "olympic-version",
   "metadata": {},
   "outputs": [],
   "source": [
    "class Fraction(object):\n",
    "    '''Fraction\n",
    "    n is the numerator and must be an integer\n",
    "    d is the denominator and must be an integer'''\n",
    "    def __init__(self,n,d):\n",
    "        try: \n",
    "            assert (type(n)==int and type(d)==int), 'n and d must be of the type int.'\n",
    "            self._n=n\n",
    "            try: \n",
    "                assert (d!=0)\n",
    "                self._d=d\n",
    "                self.common_factor()\n",
    "            except AssertionError:\n",
    "                print('d cannot be zero.')\n",
    "        except AssertionError:\n",
    "            print('n and d must be of the type int.')\n",
    "    def common_factor(self):\n",
    "        for idx in range(self._d,1,-1):\n",
    "            if (self._n%idx==0 and self._d%idx==0):\n",
    "                self._n=self._n//idx\n",
    "                self._d=self._d//idx\n",
    "                break\n",
    "    def __str__(self):\n",
    "        string=f'Fraction({self._n},{self._d})'\n",
    "        return(string)\n",
    "    def __repr__(self):\n",
    "        string=f'Fraction({self._n},{self._d})'\n",
    "        return(string)"
   ]
  },
  {
   "cell_type": "markdown",
   "id": "adjustable-desire",
   "metadata": {},
   "source": [
    "We can now easily see that the fraction 6/4 is automatically divided by the lowest common factor to become 3/2. "
   ]
  },
  {
   "cell_type": "code",
   "execution_count": 362,
   "id": "gorgeous-sellers",
   "metadata": {},
   "outputs": [],
   "source": [
    "p=Fraction(6,4)"
   ]
  },
  {
   "cell_type": "code",
   "execution_count": 363,
   "id": "understanding-alabama",
   "metadata": {},
   "outputs": [
    {
     "data": {
      "text/plain": [
       "Fraction(3,2)"
      ]
     },
     "execution_count": 363,
     "metadata": {},
     "output_type": "execute_result"
    }
   ],
   "source": [
    "p"
   ]
  },
  {
   "cell_type": "markdown",
   "id": "induced-scenario",
   "metadata": {},
   "source": [
    "Let's now consider how we would perform mathmatical opeartions between fractions. In the case of a fraction, multiplication and division are actually slightly easier than addition and subtraction. "
   ]
  },
  {
   "cell_type": "markdown",
   "id": "broad-cleanup",
   "metadata": {},
   "source": [
    "Fraction multiplication:"
   ]
  },
  {
   "cell_type": "markdown",
   "id": "attached-warehouse",
   "metadata": {},
   "source": [
    "$\\frac{\\textrm{self.n}}{\\textrm{self.d}}\\cdot\\frac{\\textrm{other.n}}{\\textrm{other.d}}=\\frac{\\textrm{self.n}\\cdot\\textrm{other.n}}{\\textrm{self.d}\\cdot\\textrm{other.d}}$"
   ]
  },
  {
   "cell_type": "markdown",
   "id": "desperate-mountain",
   "metadata": {},
   "source": [
    "Fraction division:"
   ]
  },
  {
   "cell_type": "markdown",
   "id": "bulgarian-stuart",
   "metadata": {},
   "source": [
    "$\\frac{\\textrm{self.n}}{\\textrm{self.d}}\\div\\frac{\\textrm{other.n}}{\\textrm{other.d}}=\\frac{\\textrm{self.n}}{\\textrm{self.d}}\\cdot\\frac{\\textrm{other.d}}{\\textrm{other.n}}=\\frac{\\textrm{self.n}\\cdot\\textrm{other.d}}{\\textrm{self.d}\\cdot\\textrm{other.n}}$"
   ]
  },
  {
   "cell_type": "markdown",
   "id": "improved-carolina",
   "metadata": {},
   "source": [
    "Fraction addition:"
   ]
  },
  {
   "cell_type": "markdown",
   "id": "excessive-contrast",
   "metadata": {},
   "source": [
    "$\\frac{\\textrm{self.n}}{\\textrm{self.d}}+\\frac{\\textrm{other.n}}{\\textrm{other.d}}=\\frac{\\textrm{self.n}}{\\textrm{self.d}}\\cdot\\frac{\\textrm{other.d}}{\\textrm{other.d}}+\\frac{\\textrm{other.n}}{\\textrm{other.d}}\\cdot\\frac{\\textrm{self.d}}{\\textrm{self.d}}=\\frac{\\textrm{self.n}\\cdot\\textrm{other.d}+\\textrm{other.n}\\cdot\\textrm{self.d}}{\\textrm{self.d}\\cdot\\textrm{other.d}}$"
   ]
  },
  {
   "cell_type": "markdown",
   "id": "weekly-spring",
   "metadata": {},
   "source": [
    "Fraction subtraction:"
   ]
  },
  {
   "cell_type": "markdown",
   "id": "accredited-reputation",
   "metadata": {},
   "source": [
    "$\\frac{\\textrm{self.n}}{\\textrm{self.d}}-\\frac{\\textrm{other.n}}{\\textrm{other.d}}=\\frac{\\textrm{self.n}}{\\textrm{self.d}}\\cdot\\frac{\\textrm{other.d}}{\\textrm{other.d}}-\\frac{\\textrm{other.n}}{\\textrm{other.d}}\\cdot\\frac{\\textrm{self.d}}{\\textrm{self.d}}=\\frac{\\textrm{self.n}\\cdot\\textrm{other.d}-\\textrm{other.n}\\cdot\\textrm{self.d}}{\\textrm{self.d}\\cdot\\textrm{other.d}}$"
   ]
  },
  {
   "cell_type": "markdown",
   "id": "spatial-vietnamese",
   "metadata": {},
   "source": [
    "As it is the simplest to compute let's begin with the ```__mul__``` data model method."
   ]
  },
  {
   "cell_type": "code",
   "execution_count": 364,
   "id": "automatic-frequency",
   "metadata": {},
   "outputs": [],
   "source": [
    "class Fraction(object):\n",
    "    '''Fraction\n",
    "    n is the numerator and must be an integer\n",
    "    d is the denominator and must be an integer'''\n",
    "    def __init__(self,n,d):\n",
    "        try: \n",
    "            assert (type(n)==int and type(d)==int), 'n and d must be of the type int.'\n",
    "            self._n=n\n",
    "            try: \n",
    "                assert (d!=0)\n",
    "                self._d=d\n",
    "                self.common_factor()\n",
    "            except AssertionError:\n",
    "                print('d cannot be zero.')\n",
    "        except AssertionError:\n",
    "            print('n and d must be of the type int.')\n",
    "    def common_factor(self):\n",
    "        for idx in range(self._d,1,-1):\n",
    "            if (self._n%idx==0 and self._d%idx==0):\n",
    "                self._n=self._n//idx\n",
    "                self._d=self._d//idx\n",
    "                break\n",
    "    def __str__(self):\n",
    "        string=f'Fraction({self._n},{self._d})'\n",
    "        return(string)\n",
    "    def __repr__(self):\n",
    "        string=f'Fraction({self._n},{self._d})'\n",
    "        return(string)\n",
    "    def __mul__(self,other):\n",
    "        n=self._n*other._n\n",
    "        d=self._d*other._d\n",
    "        return(Fraction(n,d))"
   ]
  },
  {
   "cell_type": "markdown",
   "id": "express-empty",
   "metadata": {},
   "source": [
    "Now we see the (```*``` mul) operator as expected."
   ]
  },
  {
   "cell_type": "code",
   "execution_count": 365,
   "id": "other-musician",
   "metadata": {},
   "outputs": [
    {
     "data": {
      "text/plain": [
       "Fraction(2,1)"
      ]
     },
     "execution_count": 365,
     "metadata": {},
     "output_type": "execute_result"
    }
   ],
   "source": [
    "Fraction(3,2)*Fraction(4,3)"
   ]
  },
  {
   "cell_type": "markdown",
   "id": "silver-homeless",
   "metadata": {},
   "source": [
    "Note that the ```__init__``` data model method was called from the ```__mul__``` data model method creating a new instance. Recall that it calls the ```common_factor``` method and divides by the numerator and denominator by the highest common factor."
   ]
  },
  {
   "cell_type": "markdown",
   "id": "progressive-buyer",
   "metadata": {},
   "source": [
    "Next let's have a look at the ```__truediv__``` data model method."
   ]
  },
  {
   "cell_type": "code",
   "execution_count": 366,
   "id": "distinguished-enzyme",
   "metadata": {},
   "outputs": [],
   "source": [
    "class Fraction(object):\n",
    "    '''Fraction\n",
    "    n is the numerator and must be an integer\n",
    "    d is the denominator and must be an integer'''\n",
    "    def __init__(self,n,d):\n",
    "        try: \n",
    "            assert (type(n)==int and type(d)==int), 'n and d must be of the type int.'\n",
    "            self._n=n\n",
    "            try: \n",
    "                assert (d!=0)\n",
    "                self._d=d\n",
    "                self.common_factor()\n",
    "            except AssertionError:\n",
    "                print('d cannot be zero.')\n",
    "        except AssertionError:\n",
    "            print('n and d must be of the type int.')\n",
    "    def common_factor(self):\n",
    "        for idx in range(self._d,0,-1):\n",
    "            if (self._n%idx==0 and self._d%idx==0):\n",
    "                self._n=self._n//idx\n",
    "                self._d=self._d//idx\n",
    "                break\n",
    "    def __str__(self):\n",
    "        string=f'Fraction({self._n},{self._d})'\n",
    "        return(string)\n",
    "    def __repr__(self):\n",
    "        string=f'Fraction({self._n},{self._d})'\n",
    "        return(string)\n",
    "    def __mul__(self,other):\n",
    "        n=self._n*other._n\n",
    "        d=self._d*other._d\n",
    "        return(Fraction(n,d))\n",
    "    def __truediv__(self,other):\n",
    "        n=self._n*other._d\n",
    "        d=self._d*other._n\n",
    "        return(Fraction(n,d))"
   ]
  },
  {
   "cell_type": "markdown",
   "id": "attractive-paint",
   "metadata": {},
   "source": [
    "Now we see the (```/``` truediv) operator as expected."
   ]
  },
  {
   "cell_type": "code",
   "execution_count": 367,
   "id": "passing-gamma",
   "metadata": {},
   "outputs": [
    {
     "data": {
      "text/plain": [
       "Fraction(2,1)"
      ]
     },
     "execution_count": 367,
     "metadata": {},
     "output_type": "execute_result"
    }
   ],
   "source": [
    "Fraction(3,2)/Fraction(3,4)"
   ]
  },
  {
   "cell_type": "markdown",
   "id": "distant-drain",
   "metadata": {},
   "source": [
    "Next let's have a look at the ```__add__``` data model method."
   ]
  },
  {
   "cell_type": "code",
   "execution_count": 368,
   "id": "opposite-anime",
   "metadata": {},
   "outputs": [],
   "source": [
    "class Fraction(object):\n",
    "    '''Fraction\n",
    "    n is the numerator and must be an integer\n",
    "    d is the denominator and must be an integer'''\n",
    "    def __init__(self,n,d):\n",
    "        try: \n",
    "            assert (type(n)==int and type(d)==int), 'n and d must be of the type int.'\n",
    "            self._n=n\n",
    "            try: \n",
    "                assert (d!=0)\n",
    "                self._d=d\n",
    "                self.common_factor()\n",
    "            except AssertionError:\n",
    "                print('d cannot be zero.')\n",
    "        except AssertionError:\n",
    "            print('n and d must be of the type int.')\n",
    "    def common_factor(self):\n",
    "        for idx in range(self._d,1,-1):\n",
    "            if (self._n%idx==0 and self._d%idx==0):\n",
    "                self._n=self._n//idx\n",
    "                self._d=self._d//idx\n",
    "                break\n",
    "    def __str__(self):\n",
    "        string=f'Fraction({self._n},{self._d})'\n",
    "        return(string)\n",
    "    def __repr__(self):\n",
    "        string=f'Fraction({self._n},{self._d})'\n",
    "        return(string)\n",
    "    def __mul__(self,other):\n",
    "        n=self._n*other._n\n",
    "        d=self._d*other._d\n",
    "        return(Fraction(n,d))\n",
    "    def __truediv__(self,other):\n",
    "        n=self._n*other._d\n",
    "        d=self._d*other._n\n",
    "        return(Fraction(n,d))\n",
    "    def __add__(self,other):\n",
    "        n=self._n*other._d+other._n*self._d\n",
    "        d=self._d*other._d\n",
    "        return(Fraction(n,d))"
   ]
  },
  {
   "cell_type": "markdown",
   "id": "ceramic-stanley",
   "metadata": {},
   "source": [
    "Now we see the (```+``` add) operator as expected."
   ]
  },
  {
   "cell_type": "code",
   "execution_count": 369,
   "id": "recovered-prospect",
   "metadata": {},
   "outputs": [
    {
     "data": {
      "text/plain": [
       "Fraction(3,4)"
      ]
     },
     "execution_count": 369,
     "metadata": {},
     "output_type": "execute_result"
    }
   ],
   "source": [
    "Fraction(2,4)+Fraction(1,4)"
   ]
  },
  {
   "cell_type": "markdown",
   "id": "military-lightning",
   "metadata": {},
   "source": [
    "Next let's have a look at the ```__sub__``` data model method."
   ]
  },
  {
   "cell_type": "code",
   "execution_count": 370,
   "id": "presidential-roller",
   "metadata": {},
   "outputs": [],
   "source": [
    "class Fraction(object):\n",
    "    '''Fraction\n",
    "    n is the numerator and must be an integer\n",
    "    d is the denominator and must be an integer'''\n",
    "    def __init__(self,n,d):\n",
    "        try: \n",
    "            assert (type(n)==int and type(d)==int), 'n and d must be of the type int.'\n",
    "            self._n=n\n",
    "            try: \n",
    "                assert (d!=0)\n",
    "                self._d=d\n",
    "                self.common_factor()\n",
    "            except AssertionError:\n",
    "                print('d cannot be zero.')\n",
    "        except AssertionError:\n",
    "            print('n and d must be of the type int.')\n",
    "    def common_factor(self):\n",
    "        for idx in range(self._d,1,-1):\n",
    "            if (self._n%idx==0 and self._d%idx==0):\n",
    "                self._n=self._n//idx\n",
    "                self._d=self._d//idx\n",
    "                break\n",
    "    def __str__(self):\n",
    "        string=f'Fraction({self._n},{self._d})'\n",
    "        return(string)\n",
    "    def __repr__(self):\n",
    "        string=f'Fraction({self._n},{self._d})'\n",
    "        return(string)\n",
    "    def __mul__(self,other):\n",
    "        n=self._n*other._n\n",
    "        d=self._d*other._d\n",
    "        return(Fraction(n,d))\n",
    "    def __truediv__(self,other):\n",
    "        n=self._n*other._d\n",
    "        d=self._d*other._n\n",
    "        return(Fraction(n,d))\n",
    "    def __add__(self,other):\n",
    "        n=self._n*other._d+other._n*self._d\n",
    "        d=self._d*other._d\n",
    "        return(Fraction(n,d))\n",
    "    def __sub__(self,other):\n",
    "        n=self._n*other._d-other._n*self._d\n",
    "        d=self._d*other._d\n",
    "        return(Fraction(n,d))"
   ]
  },
  {
   "cell_type": "markdown",
   "id": "chicken-advocate",
   "metadata": {},
   "source": [
    "Now we see the (```-``` sub) operator as expected."
   ]
  },
  {
   "cell_type": "code",
   "execution_count": 371,
   "id": "sporting-investor",
   "metadata": {},
   "outputs": [
    {
     "data": {
      "text/plain": [
       "Fraction(1,4)"
      ]
     },
     "execution_count": 371,
     "metadata": {},
     "output_type": "execute_result"
    }
   ],
   "source": [
    "Fraction(2,4)-Fraction(1,4)"
   ]
  },
  {
   "cell_type": "markdown",
   "id": "several-value",
   "metadata": {},
   "source": [
    "We can create a method ```to_float``` which will convert the instance of the Fraction class to a ```float```. We can also create the methods ```get_n``` and ```get_d``` to get the numerator and denominator as an ```int``` respectively."
   ]
  },
  {
   "cell_type": "code",
   "execution_count": 372,
   "id": "agreed-corps",
   "metadata": {},
   "outputs": [],
   "source": [
    "class Fraction(object):\n",
    "    '''Fraction\n",
    "    n is the numerator and must be an integer\n",
    "    d is the denominator and must be an integer'''\n",
    "    def __init__(self,n,d):\n",
    "        try: \n",
    "            assert (type(n)==int and type(d)==int), 'n and d must be of the type int.'\n",
    "            self._n=n\n",
    "            try: \n",
    "                assert (d!=0)\n",
    "                self._d=d\n",
    "                self.common_factor()\n",
    "            except AssertionError:\n",
    "                print('d cannot be zero.')\n",
    "        except AssertionError:\n",
    "            print('n and d must be of the type int.')\n",
    "    def common_factor(self):\n",
    "        for idx in range(self._d,0,-1):\n",
    "            if (self._n%idx==0 and self._d%idx==0):\n",
    "                self._n=self._n//idx\n",
    "                self._d=self._d//idx\n",
    "                break\n",
    "    def __str__(self):\n",
    "        string=f'Fraction({self._n},{self._d})'\n",
    "        return(string)\n",
    "    def __repr__(self):\n",
    "        string=f'Fraction({self._n},{self._d})'\n",
    "        return(string)\n",
    "    def __mul__(self,other):\n",
    "        n=self._n*other._n\n",
    "        d=self._d*other._d\n",
    "        return(Fraction(n,d))\n",
    "    def __truediv__(self,other):\n",
    "        n=self._n*other._d\n",
    "        d=self._d*other._n\n",
    "        return(Fraction(n,d))\n",
    "    def __add__(self,other):\n",
    "        n=self._n*other._d+other._n*self._d\n",
    "        d=self._d*other._d\n",
    "        return(Fraction(n,d))\n",
    "    def __sub__(self,other):\n",
    "        n=self._n*other._d-other._n*self._d\n",
    "        d=self._d*other._d\n",
    "        return(Fraction(n,d))\n",
    "    def to_float(self):\n",
    "        value=float(self._n/self._d)\n",
    "        return(value)\n",
    "    def get_n(self):\n",
    "        return(self._n)\n",
    "    def get_d(self):\n",
    "        return(self._d)"
   ]
  },
  {
   "cell_type": "markdown",
   "id": "signal-inventory",
   "metadata": {},
   "source": [
    "When we type in the instance name followed by a ``````. and ```↹``` we see a list of methods available."
   ]
  },
  {
   "cell_type": "markdown",
   "id": "acquired-concrete",
   "metadata": {},
   "source": [
    "![Fraction_methods](Fraction_methods.png)"
   ]
  },
  {
   "cell_type": "markdown",
   "id": "awful-throat",
   "metadata": {},
   "source": [
    "The method ```common_factor``` is only used within the dunder method ```__init__``` and not intended to be called by the end user so we can update it to be a private method by beginning with an underscore."
   ]
  },
  {
   "cell_type": "code",
   "execution_count": 373,
   "id": "unable-adrian",
   "metadata": {},
   "outputs": [],
   "source": [
    "class Fraction(object):\n",
    "    '''Fraction\n",
    "    n is the numerator and must be an integer\n",
    "    d is the denominator and must be an integer'''\n",
    "    def __init__(self,n,d):\n",
    "        try: \n",
    "            assert (type(n)==int and type(d)==int), 'n and d must be of the type int.'\n",
    "            self._n=n\n",
    "            try: \n",
    "                assert (d!=0)\n",
    "                self._d=d\n",
    "                self._common_factor()\n",
    "            except AssertionError:\n",
    "                print('d cannot be zero.')\n",
    "        except AssertionError:\n",
    "            print('n and d must be of the type int.')\n",
    "    def _common_factor(self):\n",
    "        for idx in range(self._d,0,-1):\n",
    "            if (self._n%idx==0 and self._d%idx==0):\n",
    "                self._n=self._n//idx\n",
    "                self._d=self._d//idx\n",
    "                break\n",
    "    def __str__(self):\n",
    "        string=f'Fraction({self._n},{self._d})'\n",
    "        return(string)\n",
    "    def __repr__(self):\n",
    "        string=f'Fraction({self._n},{self._d})'\n",
    "        return(string)\n",
    "    def __mul__(self,other):\n",
    "        n=self._n*other._n\n",
    "        d=self._d*other._d\n",
    "        return(Fraction(n,d))\n",
    "    def __truediv__(self,other):\n",
    "        n=self._n*other._d\n",
    "        d=self._d*other._n\n",
    "        return(Fraction(n,d))\n",
    "    def __add__(self,other):\n",
    "        n=self._n*other._d+other._n*self._d\n",
    "        d=self._d*other._d\n",
    "        return(Fraction(n,d))\n",
    "    def __sub__(self,other):\n",
    "        n=self._n*other._d-other._n*self._d\n",
    "        d=self._d*other._d\n",
    "        return(Fraction(n,d))\n",
    "    def to_float(self):\n",
    "        value=float(self._n/self._d)\n",
    "        return(value)\n",
    "    def get_n(self):\n",
    "        return(self._n)\n",
    "    def get_d(self):\n",
    "        return(self._d)"
   ]
  },
  {
   "cell_type": "code",
   "execution_count": 374,
   "id": "ongoing-intake",
   "metadata": {},
   "outputs": [],
   "source": [
    "p=Fraction(1,4)"
   ]
  },
  {
   "cell_type": "markdown",
   "id": "overhead-sight",
   "metadata": {},
   "source": [
    "![Fraction_methods2](Fraction_methods2.png)"
   ]
  },
  {
   "cell_type": "code",
   "execution_count": 375,
   "id": "grave-butterfly",
   "metadata": {},
   "outputs": [
    {
     "data": {
      "text/plain": [
       "0.25"
      ]
     },
     "execution_count": 375,
     "metadata": {},
     "output_type": "execute_result"
    }
   ],
   "source": [
    "p.to_float()"
   ]
  },
  {
   "cell_type": "code",
   "execution_count": 376,
   "id": "ecological-wellington",
   "metadata": {},
   "outputs": [
    {
     "data": {
      "text/plain": [
       "1"
      ]
     },
     "execution_count": 376,
     "metadata": {},
     "output_type": "execute_result"
    }
   ],
   "source": [
    "p.get_n()"
   ]
  },
  {
   "cell_type": "code",
   "execution_count": 377,
   "id": "applicable-leather",
   "metadata": {},
   "outputs": [
    {
     "data": {
      "text/plain": [
       "4"
      ]
     },
     "execution_count": 377,
     "metadata": {},
     "output_type": "execute_result"
    }
   ],
   "source": [
    "p.get_d()"
   ]
  },
  {
   "cell_type": "markdown",
   "id": "comparative-psychiatry",
   "metadata": {},
   "source": [
    "We could also create methods ```set_n``` and ```set_d``` to set the numerator and denominator respectively. The clear advantage of using a hidden attribute and a set method is that we can once again we can assert our specifications for the ```_n``` and ```_d``` to be of the ```int``` data type and for ```_d``` to be non-zero."
   ]
  },
  {
   "cell_type": "code",
   "execution_count": 378,
   "id": "floral-samuel",
   "metadata": {},
   "outputs": [],
   "source": [
    "class Fraction(object):\n",
    "    '''Fraction\n",
    "    n is the numerator and must be an integer\n",
    "    d is the denominator and must be an integer'''\n",
    "    def __init__(self,n,d):\n",
    "        try: \n",
    "            assert (type(n)==int and type(d)==int), 'n and d must be of the type int.'\n",
    "            self._n=n\n",
    "            try: \n",
    "                assert (d!=0)\n",
    "                self._d=d\n",
    "                self._common_factor()\n",
    "            except AssertionError:\n",
    "                print('d cannot be zero.')\n",
    "        except AssertionError:\n",
    "            print('n and d must be of the type int.')\n",
    "    def _common_factor(self):\n",
    "        for idx in range(self._d,0,-1):\n",
    "            if (self._n%idx==0 and self._d%idx==0):\n",
    "                self._n=self._n//idx\n",
    "                self._d=self._d//idx\n",
    "                break\n",
    "    def __str__(self):\n",
    "        string=f'Fraction({self._n},{self._d})'\n",
    "        return(string)\n",
    "    def __repr__(self):\n",
    "        string=f'Fraction({self._n},{self._d})'\n",
    "        return(string)\n",
    "    def __mul__(self,other):\n",
    "        n=self._n*other._n\n",
    "        d=self._d*other._d\n",
    "        return(Fraction(n,d))\n",
    "    def __truediv__(self,other):\n",
    "        n=self._n*other._d\n",
    "        d=self._d*other._n\n",
    "        return(Fraction(n,d))\n",
    "    def __add__(self,other):\n",
    "        n=self._n*other._d+other._n*self._d\n",
    "        d=self._d*other._d\n",
    "        return(Fraction(n,d))\n",
    "    def __sub__(self,other):\n",
    "        n=self._n*other._d-other._n*self._d\n",
    "        d=self._d*other._d\n",
    "        return(Fraction(n,d))\n",
    "    def to_float(self):\n",
    "        value=float(self._n/self._d)\n",
    "        return(value)\n",
    "    def get_n(self):\n",
    "        return(self._n)\n",
    "    def get_d(self):\n",
    "        return(self._d)\n",
    "    def set_n(self,n):\n",
    "        '''Sets a new numerator n. n must be an int.'''\n",
    "        try:\n",
    "            return(Fraction(n,self._d))\n",
    "        except AttributeError:\n",
    "            print('n must be an int.')\n",
    "    def set_d(self,d):\n",
    "        '''Sets a new denominator d. d must be a non-zero int.'''\n",
    "        try:\n",
    "            return(Fraction(self._n,d))\n",
    "        except AttributeError:\n",
    "            print('d must be a non-zero int.')"
   ]
  },
  {
   "cell_type": "code",
   "execution_count": 379,
   "id": "chicken-relation",
   "metadata": {},
   "outputs": [],
   "source": [
    "p=Fraction(1,4)"
   ]
  },
  {
   "cell_type": "markdown",
   "id": "friendly-triumph",
   "metadata": {},
   "source": [
    "When we type in the instance name followed by a ```.``` and ```↹``` we see a list including the updated methods."
   ]
  },
  {
   "cell_type": "markdown",
   "id": "fantastic-textbook",
   "metadata": {},
   "source": [
    "![Fraction_methods3](Fraction_methods3.png)"
   ]
  },
  {
   "cell_type": "markdown",
   "id": "daily-qatar",
   "metadata": {},
   "source": [
    "Details about the input arguments can be found by typing in the function followed by ```↹``` and ```⇧``` or output to a cell by typing in ```?``` followed by the methods name (called from the object). "
   ]
  },
  {
   "cell_type": "code",
   "execution_count": 380,
   "id": "acoustic-marketing",
   "metadata": {},
   "outputs": [
    {
     "data": {
      "text/plain": [
       "\u001b[1;31mSignature:\u001b[0m  \u001b[0mp\u001b[0m\u001b[1;33m.\u001b[0m\u001b[0mset_n\u001b[0m\u001b[1;33m(\u001b[0m\u001b[0mn\u001b[0m\u001b[1;33m)\u001b[0m\u001b[1;33m\u001b[0m\u001b[1;33m\u001b[0m\u001b[0m\n",
       "\u001b[1;31mDocstring:\u001b[0m Sets a new numerator n. n must be an int.\n",
       "\u001b[1;31mFile:\u001b[0m      c:\\users\\phili\\documents\\1. object orientated programming\\<ipython-input-378-df63c676575f>\n",
       "\u001b[1;31mType:\u001b[0m      method\n"
      ]
     },
     "metadata": {},
     "output_type": "display_data"
    }
   ],
   "source": [
    "? p.set_n"
   ]
  },
  {
   "cell_type": "code",
   "execution_count": 381,
   "id": "greenhouse-sentence",
   "metadata": {},
   "outputs": [
    {
     "data": {
      "text/plain": [
       "Fraction(5,2)"
      ]
     },
     "execution_count": 381,
     "metadata": {},
     "output_type": "execute_result"
    }
   ],
   "source": [
    "p.set_n(10)"
   ]
  },
  {
   "cell_type": "markdown",
   "id": "geographic-marble",
   "metadata": {},
   "source": [
    "Supposing we want only Eighths which are fractions where the denominator is always ```8```. We can create a Child ```class``` of the Fraction ```class```. We can create an ```Eighth``` using a child ```__init__``` signature where the user inputs a numerator ```n``` numerator and the denominator ```d``` is always ```8```. "
   ]
  },
  {
   "cell_type": "code",
   "execution_count": 382,
   "id": "united-leader",
   "metadata": {},
   "outputs": [],
   "source": [
    "class Eighths(Fraction):\n",
    "    def __init__(self,n):\n",
    "        d=8\n",
    "        super(Eighths,self).__init__(n,d)"
   ]
  },
  {
   "cell_type": "code",
   "execution_count": 383,
   "id": "soviet-major",
   "metadata": {},
   "outputs": [],
   "source": [
    "q=Eighths(3)"
   ]
  },
  {
   "cell_type": "code",
   "execution_count": 384,
   "id": "packed-grove",
   "metadata": {},
   "outputs": [
    {
     "data": {
      "text/plain": [
       "Fraction(3,8)"
      ]
     },
     "execution_count": 384,
     "metadata": {},
     "output_type": "execute_result"
    }
   ],
   "source": [
    "q"
   ]
  },
  {
   "cell_type": "markdown",
   "id": "ecological-pursuit",
   "metadata": {},
   "source": [
    "## Collections"
   ]
  },
  {
   "cell_type": "markdown",
   "id": "saving-preserve",
   "metadata": {},
   "source": [
    "So far we have only looked at scalar data types that is a dataset that consists of only a single value. Quite often we will want to group together a collection of single values. Before looking at how we do this in Python. Let's look at a spreadsheet in Microsoft Excel. When the data is in Excel we see that each data value is enclosed in a grid."
   ]
  },
  {
   "cell_type": "markdown",
   "id": "above-swing",
   "metadata": {},
   "source": [
    "![excel_row](excel_row.png)"
   ]
  },
  {
   "cell_type": "markdown",
   "id": "valued-elizabeth",
   "metadata": {},
   "source": [
    "The data can be saved as a CSV format."
   ]
  },
  {
   "cell_type": "markdown",
   "id": "selective-membrane",
   "metadata": {},
   "source": [
    "![excel_row_save](excel_row_save.png)"
   ]
  },
  {
   "cell_type": "markdown",
   "id": "israeli-agent",
   "metadata": {},
   "source": [
    "Now it can be viewed in Notepad++."
   ]
  },
  {
   "cell_type": "markdown",
   "id": "raising-drunk",
   "metadata": {},
   "source": [
    "![notepadplusplus](notepadplusplus.png)"
   ]
  },
  {
   "cell_type": "markdown",
   "id": "moral-jimmy",
   "metadata": {},
   "source": [
    "Notice that instead of a grid we see a ```,``` seperating out each value (hence the name csv comma seperated value file). \n",
    "The comma is the delimiter and is used to seperate out each value. We have also used the ```,``` as a delimiter for input arguments in a function or class."
   ]
  },
  {
   "cell_type": "markdown",
   "id": "several-sleeve",
   "metadata": {},
   "source": [
    "The values in the spreadsheet do not need to be numeric, they can also be text. "
   ]
  },
  {
   "cell_type": "markdown",
   "id": "coated-garden",
   "metadata": {},
   "source": [
    "![excel_row2](excel_row2.png)"
   ]
  },
  {
   "cell_type": "markdown",
   "id": "center-vacuum",
   "metadata": {},
   "source": [
    "![excel_row2_notepadplusplus](excel_row2_notepadplusplus.png)"
   ]
  },
  {
   "cell_type": "markdown",
   "id": "personalized-grill",
   "metadata": {},
   "source": [
    "We can create a collection of values in Python using similar notation with the comma as a delimiter. In Python however we need to enclose the collection in brackets. The type of brackets used creates a slightly different collection. The ```[ ]``` create a list, the ```( )``` create a tuple and the ```{ }``` create a dictionary."
   ]
  },
  {
   "cell_type": "markdown",
   "id": "vocal-asian",
   "metadata": {},
   "source": [
    "### The List Collection (list)"
   ]
  },
  {
   "cell_type": "markdown",
   "id": "informal-captain",
   "metadata": {},
   "source": [
    "The most commonly used collection is called a ```list```. This relates to a ```list``` used in every day life. For example the shopping list."
   ]
  },
  {
   "cell_type": "markdown",
   "id": "brazilian-mayor",
   "metadata": {},
   "source": [
    "* apples\n",
    "* bananas\n",
    "* grapes\n",
    "* oranges\n",
    "* pears"
   ]
  },
  {
   "cell_type": "markdown",
   "id": "operating-andorra",
   "metadata": {},
   "source": [
    "An empty list can be instantiated by using square brackets."
   ]
  },
  {
   "cell_type": "code",
   "execution_count": 385,
   "id": "amino-decline",
   "metadata": {},
   "outputs": [],
   "source": [
    "shop=[]"
   ]
  },
  {
   "cell_type": "code",
   "execution_count": 386,
   "id": "revised-soldier",
   "metadata": {},
   "outputs": [
    {
     "data": {
      "text/plain": [
       "[]"
      ]
     },
     "execution_count": 386,
     "metadata": {},
     "output_type": "execute_result"
    }
   ],
   "source": [
    "shop"
   ]
  },
  {
   "cell_type": "markdown",
   "id": "vulnerable-count",
   "metadata": {},
   "source": [
    "Alternatively we can instantiate a list using the ```__init__``` signature of the ```list``` ```class``` directly. Details about the input arguments can be found by typing in the the name of the class followed by ```↹``` and ```⇧``` or output to a cell by typing in ```?``` followed by the classes name. We see that the positional input arguments are iterable."
   ]
  },
  {
   "cell_type": "code",
   "execution_count": 387,
   "id": "trained-therapy",
   "metadata": {},
   "outputs": [
    {
     "data": {
      "text/plain": [
       "\u001b[1;31mInit signature:\u001b[0m  \u001b[0mlist\u001b[0m\u001b[1;33m(\u001b[0m\u001b[0miterable\u001b[0m\u001b[1;33m=\u001b[0m\u001b[1;33m(\u001b[0m\u001b[1;33m)\u001b[0m\u001b[1;33m,\u001b[0m \u001b[1;33m/\u001b[0m\u001b[1;33m)\u001b[0m\u001b[1;33m\u001b[0m\u001b[1;33m\u001b[0m\u001b[0m\n",
       "\u001b[1;31mDocstring:\u001b[0m     \n",
       "Built-in mutable sequence.\n",
       "\n",
       "If no argument is given, the constructor creates a new empty list.\n",
       "The argument must be an iterable if specified.\n",
       "\u001b[1;31mType:\u001b[0m           type\n",
       "\u001b[1;31mSubclasses:\u001b[0m     _HashedSeq, StackSummary, DeferredConfigList, SList, _ImmutableLineList, FormattedText, NodeList, _ExplodedList, Stack, _Accumulator, ...\n"
      ]
     },
     "metadata": {},
     "output_type": "display_data"
    }
   ],
   "source": [
    "? list"
   ]
  },
  {
   "cell_type": "markdown",
   "id": "encouraging-green",
   "metadata": {},
   "source": [
    "We can keep it empty to make an empty list:"
   ]
  },
  {
   "cell_type": "code",
   "execution_count": 388,
   "id": "superb-spain",
   "metadata": {},
   "outputs": [],
   "source": [
    "shop=list()"
   ]
  },
  {
   "cell_type": "code",
   "execution_count": 389,
   "id": "civil-colon",
   "metadata": {},
   "outputs": [
    {
     "data": {
      "text/plain": [
       "[]"
      ]
     },
     "execution_count": 389,
     "metadata": {},
     "output_type": "execute_result"
    }
   ],
   "source": [
    "shop"
   ]
  },
  {
   "cell_type": "markdown",
   "id": "advisory-baghdad",
   "metadata": {},
   "source": [
    "When we type in the list name followed by a ```.``` and a ```↹``` we see a number of ```list``` methods and attributes."
   ]
  },
  {
   "cell_type": "markdown",
   "id": "prescription-penny",
   "metadata": {},
   "source": [
    "![list_methods_attributes](list_methods_attributes.png)"
   ]
  },
  {
   "cell_type": "markdown",
   "id": "talented-soccer",
   "metadata": {},
   "source": [
    "Let's attempt to add one ```str``` item to our ```list```. The ```str``` needs to be enclosed in quotations to inicate that it is a ```str``` and not an ```object``` name."
   ]
  },
  {
   "cell_type": "code",
   "execution_count": 390,
   "id": "binary-silly",
   "metadata": {},
   "outputs": [],
   "source": [
    "shop=['apples']"
   ]
  },
  {
   "cell_type": "code",
   "execution_count": 391,
   "id": "continental-director",
   "metadata": {},
   "outputs": [
    {
     "data": {
      "text/plain": [
       "['apples']"
      ]
     },
     "execution_count": 391,
     "metadata": {},
     "output_type": "execute_result"
    }
   ],
   "source": [
    "shop"
   ]
  },
  {
   "cell_type": "markdown",
   "id": "square-pearl",
   "metadata": {},
   "source": [
    "Note to get a single element when we are explicitly instantiating the ```list``` class we need to include a ```,``` delimiter. The positional input argument is actually ```tuple``` collection (more details later)."
   ]
  },
  {
   "cell_type": "code",
   "execution_count": 392,
   "id": "veterinary-traffic",
   "metadata": {},
   "outputs": [],
   "source": [
    "shop=list(('apples',))"
   ]
  },
  {
   "cell_type": "code",
   "execution_count": 393,
   "id": "fatal-placement",
   "metadata": {},
   "outputs": [
    {
     "data": {
      "text/plain": [
       "['apples']"
      ]
     },
     "execution_count": 393,
     "metadata": {},
     "output_type": "execute_result"
    }
   ],
   "source": [
    "shop"
   ]
  },
  {
   "cell_type": "markdown",
   "id": "rocky-beach",
   "metadata": {},
   "source": [
    "Otherwise the ```()``` are taken to mean parenthesis and we will make a ```list``` of each letter in the string."
   ]
  },
  {
   "cell_type": "code",
   "execution_count": 394,
   "id": "lined-fossil",
   "metadata": {},
   "outputs": [],
   "source": [
    "shop=list(('apples'))"
   ]
  },
  {
   "cell_type": "code",
   "execution_count": 395,
   "id": "authorized-layout",
   "metadata": {},
   "outputs": [
    {
     "data": {
      "text/plain": [
       "['a', 'p', 'p', 'l', 'e', 's']"
      ]
     },
     "execution_count": 395,
     "metadata": {},
     "output_type": "execute_result"
    }
   ],
   "source": [
    "shop"
   ]
  },
  {
   "cell_type": "markdown",
   "id": "exempt-fountain",
   "metadata": {},
   "source": [
    "Now to add another item we need to use a ```,``` as a delimiter."
   ]
  },
  {
   "cell_type": "code",
   "execution_count": 396,
   "id": "conceptual-yellow",
   "metadata": {},
   "outputs": [],
   "source": [
    "shop=['apples','bananas']"
   ]
  },
  {
   "cell_type": "code",
   "execution_count": 397,
   "id": "abandoned-drunk",
   "metadata": {},
   "outputs": [
    {
     "data": {
      "text/plain": [
       "['apples', 'bananas']"
      ]
     },
     "execution_count": 397,
     "metadata": {},
     "output_type": "execute_result"
    }
   ],
   "source": [
    "shop"
   ]
  },
  {
   "cell_type": "code",
   "execution_count": 398,
   "id": "single-airplane",
   "metadata": {},
   "outputs": [],
   "source": [
    "shop=list(('apples','bananas'))"
   ]
  },
  {
   "cell_type": "markdown",
   "id": "distributed-vision",
   "metadata": {},
   "source": [
    "Alternatively we can explicity instantiate the ```class``` ```list```."
   ]
  },
  {
   "cell_type": "code",
   "execution_count": 399,
   "id": "neither-bahamas",
   "metadata": {},
   "outputs": [
    {
     "data": {
      "text/plain": [
       "['apples', 'bananas']"
      ]
     },
     "execution_count": 399,
     "metadata": {},
     "output_type": "execute_result"
    }
   ],
   "source": [
    "shop"
   ]
  },
  {
   "cell_type": "markdown",
   "id": "realistic-exhibition",
   "metadata": {},
   "source": [
    "Continuing on with the complete ```list```."
   ]
  },
  {
   "cell_type": "code",
   "execution_count": 400,
   "id": "developed-ordering",
   "metadata": {},
   "outputs": [],
   "source": [
    "shop=['apples','bananas','grapes','oranges','pears']"
   ]
  },
  {
   "cell_type": "code",
   "execution_count": 401,
   "id": "actual-halloween",
   "metadata": {},
   "outputs": [
    {
     "data": {
      "text/plain": [
       "['apples', 'bananas', 'grapes', 'oranges', 'pears']"
      ]
     },
     "execution_count": 401,
     "metadata": {},
     "output_type": "execute_result"
    }
   ],
   "source": [
    "shop"
   ]
  },
  {
   "cell_type": "markdown",
   "id": "daily-rochester",
   "metadata": {},
   "source": [
    "It is also possible to write the above splitting the ```list``` over multiple lines by pressing ```↵``` after the ```,``` delimiter. Note the spacing will be automatically applied to display the ```list``` as a column."
   ]
  },
  {
   "cell_type": "code",
   "execution_count": 402,
   "id": "general-prompt",
   "metadata": {},
   "outputs": [],
   "source": [
    "shop=['apples',\n",
    "      'bananas',\n",
    "      'grapes',\n",
    "      'oranges',\n",
    "      'pears']"
   ]
  },
  {
   "cell_type": "code",
   "execution_count": 403,
   "id": "african-egyptian",
   "metadata": {},
   "outputs": [
    {
     "data": {
      "text/plain": [
       "['apples', 'bananas', 'grapes', 'oranges', 'pears']"
      ]
     },
     "execution_count": 403,
     "metadata": {},
     "output_type": "execute_result"
    }
   ],
   "source": [
    "shop"
   ]
  },
  {
   "cell_type": "markdown",
   "id": "dense-imperial",
   "metadata": {},
   "source": [
    "As we can see from the output above there is no difference between the list when input as a row or input as a column. In fact the list is neither a row nor a column. It is an object with only a single dimension."
   ]
  },
  {
   "cell_type": "markdown",
   "id": "considered-abraham",
   "metadata": {},
   "source": [
    "### Indexing a str or list"
   ]
  },
  {
   "cell_type": "markdown",
   "id": "pretty-present",
   "metadata": {},
   "source": [
    "In many cases, a collection such a ```list``` behaves in a simular manner to a ```str``` (which can be thought of as a string of characters or as a collection of characters). The ```+``` operator performs collection concatenation."
   ]
  },
  {
   "cell_type": "code",
   "execution_count": 404,
   "id": "coated-bahamas",
   "metadata": {},
   "outputs": [
    {
     "data": {
      "text/plain": [
       "'helloworld'"
      ]
     },
     "execution_count": 404,
     "metadata": {},
     "output_type": "execute_result"
    }
   ],
   "source": [
    "'hello'+'world'"
   ]
  },
  {
   "cell_type": "code",
   "execution_count": 405,
   "id": "blind-opposition",
   "metadata": {},
   "outputs": [
    {
     "data": {
      "text/plain": [
       "['h', 'e', 'l', 'l', 'o', 'w', 'o', 'r', 'l', 'd']"
      ]
     },
     "execution_count": 405,
     "metadata": {},
     "output_type": "execute_result"
    }
   ],
   "source": [
    "['h','e','l','l','o']+['w','o','r','l','d']"
   ]
  },
  {
   "cell_type": "markdown",
   "id": "legendary-venice",
   "metadata": {},
   "source": [
    "And multiplication by a scalar ```n``` replicates the contents of the collection ```n``` times."
   ]
  },
  {
   "cell_type": "code",
   "execution_count": 406,
   "id": "absent-entity",
   "metadata": {},
   "outputs": [
    {
     "data": {
      "text/plain": [
       "'hellohellohello'"
      ]
     },
     "execution_count": 406,
     "metadata": {},
     "output_type": "execute_result"
    }
   ],
   "source": [
    "'hello'*3"
   ]
  },
  {
   "cell_type": "code",
   "execution_count": 407,
   "id": "fleet-whole",
   "metadata": {},
   "outputs": [
    {
     "data": {
      "text/plain": [
       "['h', 'e', 'l', 'l', 'o', 'h', 'e', 'l', 'l', 'o', 'h', 'e', 'l', 'l', 'o']"
      ]
     },
     "execution_count": 407,
     "metadata": {},
     "output_type": "execute_result"
    }
   ],
   "source": [
    "['h','e','l','l','o']*3"
   ]
  },
  {
   "cell_type": "markdown",
   "id": "dramatic-climb",
   "metadata": {},
   "source": [
    "The function ```len``` can also be used to determine the number of elements in a collection."
   ]
  },
  {
   "cell_type": "code",
   "execution_count": 408,
   "id": "stone-cable",
   "metadata": {},
   "outputs": [
    {
     "data": {
      "text/plain": [
       "5"
      ]
     },
     "execution_count": 408,
     "metadata": {},
     "output_type": "execute_result"
    }
   ],
   "source": [
    "len('hello')"
   ]
  },
  {
   "cell_type": "code",
   "execution_count": 409,
   "id": "basic-spank",
   "metadata": {},
   "outputs": [
    {
     "data": {
      "text/plain": [
       "5"
      ]
     },
     "execution_count": 409,
     "metadata": {},
     "output_type": "execute_result"
    }
   ],
   "source": [
    "len(['h','e','l','l','o'])"
   ]
  },
  {
   "cell_type": "markdown",
   "id": "bizarre-playing",
   "metadata": {},
   "source": [
    "Recall that we could use a ```for``` loop to select a letter ```in``` a ```str```. "
   ]
  },
  {
   "cell_type": "code",
   "execution_count": 410,
   "id": "split-february",
   "metadata": {},
   "outputs": [
    {
     "name": "stdout",
     "output_type": "stream",
     "text": [
      "h\n",
      "e\n",
      "l\n",
      "l\n",
      "o\n"
     ]
    }
   ],
   "source": [
    "for let in 'hello':\n",
    "    print(let)"
   ]
  },
  {
   "cell_type": "markdown",
   "id": "supported-forwarding",
   "metadata": {},
   "source": [
    "Or that we could ```enumerate``` a ```str``` to get both the index and letter."
   ]
  },
  {
   "cell_type": "code",
   "execution_count": 411,
   "id": "floral-clock",
   "metadata": {},
   "outputs": [
    {
     "name": "stdout",
     "output_type": "stream",
     "text": [
      "0 h\n",
      "1 e\n",
      "2 l\n",
      "3 l\n",
      "4 o\n"
     ]
    }
   ],
   "source": [
    "for idx,let in enumerate('hello'):\n",
    "    print(idx,let)"
   ]
  },
  {
   "cell_type": "markdown",
   "id": "radio-respondent",
   "metadata": {},
   "source": [
    "We can do the same for an item in a ```list```."
   ]
  },
  {
   "cell_type": "code",
   "execution_count": 412,
   "id": "twenty-craps",
   "metadata": {},
   "outputs": [
    {
     "name": "stdout",
     "output_type": "stream",
     "text": [
      "apples\n",
      "bananas\n",
      "grapes\n",
      "oranges\n",
      "pears\n"
     ]
    }
   ],
   "source": [
    "for item in shop:\n",
    "    print(item)"
   ]
  },
  {
   "cell_type": "code",
   "execution_count": 413,
   "id": "lesser-treasurer",
   "metadata": {},
   "outputs": [
    {
     "name": "stdout",
     "output_type": "stream",
     "text": [
      "0 apples\n",
      "1 bananas\n",
      "2 grapes\n",
      "3 oranges\n",
      "4 pears\n"
     ]
    }
   ],
   "source": [
    "for idx,item in enumerate(shop):\n",
    "    print(idx,item)"
   ]
  },
  {
   "cell_type": "markdown",
   "id": "scheduled-murder",
   "metadata": {},
   "source": [
    "In Python indexes uses zero-order meaning we are inclusive of the lower bound ```0``` and exclusive of the upper bound ```5```. A ```list``` with a length of ```5``` has an index ```0```,```1```,```2```,```3``` and ```4``` as shown in the output of the ```enumeration``` of the ```list``` above using a ```for``` loop."
   ]
  },
  {
   "cell_type": "markdown",
   "id": "regular-cosmetic",
   "metadata": {},
   "source": [
    "An individual item from the ```list``` can be selected from the numeric index by typing in the ```list``` name followed by square brackets enclosing the index."
   ]
  },
  {
   "cell_type": "code",
   "execution_count": 414,
   "id": "eleven-partner",
   "metadata": {},
   "outputs": [
    {
     "data": {
      "text/plain": [
       "'apples'"
      ]
     },
     "execution_count": 414,
     "metadata": {},
     "output_type": "execute_result"
    }
   ],
   "source": [
    "shop[0]"
   ]
  },
  {
   "cell_type": "markdown",
   "id": "uniform-screw",
   "metadata": {},
   "source": [
    "This approach also will also obtain a letter from a ```str```."
   ]
  },
  {
   "cell_type": "code",
   "execution_count": 415,
   "id": "loving-seventh",
   "metadata": {},
   "outputs": [
    {
     "data": {
      "text/plain": [
       "'h'"
      ]
     },
     "execution_count": 415,
     "metadata": {},
     "output_type": "execute_result"
    }
   ],
   "source": [
    "'hello'[0]"
   ]
  },
  {
   "cell_type": "markdown",
   "id": "humanitarian-carpet",
   "metadata": {},
   "source": [
    "We can index into the list to get the item at the index ```0``` which is the ```str``` ```'apples'```."
   ]
  },
  {
   "cell_type": "code",
   "execution_count": 416,
   "id": "beginning-beverage",
   "metadata": {},
   "outputs": [
    {
     "data": {
      "text/plain": [
       "'apples'"
      ]
     },
     "execution_count": 416,
     "metadata": {},
     "output_type": "execute_result"
    }
   ],
   "source": [
    "shop[0]"
   ]
  },
  {
   "cell_type": "markdown",
   "id": "reliable-fault",
   "metadata": {},
   "source": [
    "And then we can index into this ```str``` to get the letter at index ```3``` which is the letter ```'l'``` (a single letter is still of the ```type``` ```str```."
   ]
  },
  {
   "cell_type": "code",
   "execution_count": 417,
   "id": "correct-prescription",
   "metadata": {},
   "outputs": [
    {
     "data": {
      "text/plain": [
       "'l'"
      ]
     },
     "execution_count": 417,
     "metadata": {},
     "output_type": "execute_result"
    }
   ],
   "source": [
    "shop[0][3]"
   ]
  },
  {
   "cell_type": "markdown",
   "id": "coastal-debate",
   "metadata": {},
   "source": [
    "The above line is equivalent to the following."
   ]
  },
  {
   "cell_type": "code",
   "execution_count": 418,
   "id": "controlling-colombia",
   "metadata": {},
   "outputs": [
    {
     "data": {
      "text/plain": [
       "'l'"
      ]
     },
     "execution_count": 418,
     "metadata": {},
     "output_type": "execute_result"
    }
   ],
   "source": [
    "item=shop[0]\n",
    "let=item[3]\n",
    "let"
   ]
  },
  {
   "cell_type": "markdown",
   "id": "attempted-serve",
   "metadata": {},
   "source": [
    "Multiple indexes can be selected by use of a ```:```. The value before the ````:``` is the ```start``` value and the value after the ```:``` is the ```stop``` value."
   ]
  },
  {
   "cell_type": "markdown",
   "id": "intermediate-franklin",
   "metadata": {},
   "source": [
    "```'str'[start:stop]```"
   ]
  },
  {
   "cell_type": "markdown",
   "id": "dense-shepherd",
   "metadata": {},
   "source": [
    "For example this can be thought of as the selection of index ```2``` to ```4```."
   ]
  },
  {
   "cell_type": "code",
   "execution_count": 419,
   "id": "retained-venice",
   "metadata": {},
   "outputs": [
    {
     "data": {
      "text/plain": [
       "'ll'"
      ]
     },
     "execution_count": 419,
     "metadata": {},
     "output_type": "execute_result"
    }
   ],
   "source": [
    "'hello'[2:4]"
   ]
  },
  {
   "cell_type": "markdown",
   "id": "confidential-aging",
   "metadata": {},
   "source": [
    "Recall that we are inclusive of the lower bound ```2``` and exclusive of the upper bound ```4```. Therefore we get the output from indexes ```2``` and ```3```. "
   ]
  },
  {
   "cell_type": "markdown",
   "id": "persistent-airfare",
   "metadata": {},
   "source": [
    "If a lower bound ```start``` is not specified then it is assumed to be ```0```."
   ]
  },
  {
   "cell_type": "markdown",
   "id": "capable-variance",
   "metadata": {},
   "source": [
    "```'str'[start:stop]```"
   ]
  },
  {
   "cell_type": "markdown",
   "id": "authorized-philosophy",
   "metadata": {},
   "source": [
    "```'str'[0:stop]```"
   ]
  },
  {
   "cell_type": "markdown",
   "id": "separated-canadian",
   "metadata": {},
   "source": [
    "```'str'[:stop]```"
   ]
  },
  {
   "cell_type": "markdown",
   "id": "dynamic-collect",
   "metadata": {},
   "source": [
    "Going from index ```0``` to index ```3``` will give indexes ```0```, ```1``` and ```2``` for example."
   ]
  },
  {
   "cell_type": "code",
   "execution_count": 420,
   "id": "fancy-basement",
   "metadata": {},
   "outputs": [
    {
     "data": {
      "text/plain": [
       "'hel'"
      ]
     },
     "execution_count": 420,
     "metadata": {},
     "output_type": "execute_result"
    }
   ],
   "source": [
    "'hello'[:3]"
   ]
  },
  {
   "cell_type": "markdown",
   "id": "beautiful-profession",
   "metadata": {},
   "source": [
    "Likewise if an upper bound ```stop``` is not specified then it is assumed to be the length of the collection."
   ]
  },
  {
   "cell_type": "markdown",
   "id": "robust-gross",
   "metadata": {},
   "source": [
    "```'str'[start:stop]```"
   ]
  },
  {
   "cell_type": "markdown",
   "id": "infinite-radar",
   "metadata": {},
   "source": [
    "```'str'[start:len(str)]```"
   ]
  },
  {
   "cell_type": "markdown",
   "id": "juvenile-memorial",
   "metadata": {},
   "source": [
    "```'str'[start:]```"
   ]
  },
  {
   "cell_type": "markdown",
   "id": "confidential-soccer",
   "metadata": {},
   "source": [
    "Going from index ```3``` to the ```len``` of the str will give indexes ```3``` and ```4``` for example."
   ]
  },
  {
   "cell_type": "code",
   "execution_count": 421,
   "id": "juvenile-worry",
   "metadata": {},
   "outputs": [
    {
     "data": {
      "text/plain": [
       "'lo'"
      ]
     },
     "execution_count": 421,
     "metadata": {},
     "output_type": "execute_result"
    }
   ],
   "source": [
    "'hello'[3:]"
   ]
  },
  {
   "cell_type": "markdown",
   "id": "legitimate-mission",
   "metadata": {},
   "source": [
    "If no ```start``` bound or ```stop``` bound are selected, all indexes will be selected and we will just get a copy of the collection."
   ]
  },
  {
   "cell_type": "code",
   "execution_count": 422,
   "id": "brave-planner",
   "metadata": {},
   "outputs": [
    {
     "data": {
      "text/plain": [
       "'hello'"
      ]
     },
     "execution_count": 422,
     "metadata": {},
     "output_type": "execute_result"
    }
   ],
   "source": [
    "'hello'[:]"
   ]
  },
  {
   "cell_type": "markdown",
   "id": "olive-membrane",
   "metadata": {},
   "source": [
    "The number before ```0``` is ```-1``` and this in Python corresponds to the last index. The negative index can be calculated by taking the positive index and substracting the ```len``` of the collection."
   ]
  },
  {
   "cell_type": "code",
   "execution_count": 423,
   "id": "floral-parliament",
   "metadata": {},
   "outputs": [
    {
     "name": "stdout",
     "output_type": "stream",
     "text": [
      "0 -5 h\n",
      "1 -4 e\n",
      "2 -3 l\n",
      "3 -2 l\n",
      "4 -1 o\n"
     ]
    }
   ],
   "source": [
    "for idx,let in enumerate('hello'):\n",
    "    print(idx,idx-len('hello'),let)"
   ]
  },
  {
   "cell_type": "code",
   "execution_count": 424,
   "id": "contemporary-insulation",
   "metadata": {},
   "outputs": [
    {
     "data": {
      "text/plain": [
       "'l'"
      ]
     },
     "execution_count": 424,
     "metadata": {},
     "output_type": "execute_result"
    }
   ],
   "source": [
    "'hello'[3]"
   ]
  },
  {
   "cell_type": "code",
   "execution_count": 425,
   "id": "broad-content",
   "metadata": {},
   "outputs": [
    {
     "data": {
      "text/plain": [
       "'l'"
      ]
     },
     "execution_count": 425,
     "metadata": {},
     "output_type": "execute_result"
    }
   ],
   "source": [
    "'hello'[-2]"
   ]
  },
  {
   "cell_type": "markdown",
   "id": "catholic-halloween",
   "metadata": {},
   "source": [
    "We have seen that we can index with a ```:``` using the form."
   ]
  },
  {
   "cell_type": "markdown",
   "id": "cathedral-diesel",
   "metadata": {},
   "source": [
    "```'string'[start:stop]```"
   ]
  },
  {
   "cell_type": "markdown",
   "id": "robust-campaign",
   "metadata": {},
   "source": [
    "An additional ```:``` can be placed to indicate a ```step```."
   ]
  },
  {
   "cell_type": "markdown",
   "id": "enabling-coupon",
   "metadata": {},
   "source": [
    "```'string'[start:stop:step]```"
   ]
  },
  {
   "cell_type": "markdown",
   "id": "separated-anchor",
   "metadata": {},
   "source": [
    "If we create the following ```str``` containing each letter of the word hello in upper and lower case, we can see the effect of using a ```step``` of ```2```."
   ]
  },
  {
   "cell_type": "code",
   "execution_count": 426,
   "id": "stone-israel",
   "metadata": {},
   "outputs": [],
   "source": [
    "string='HhEeLlLlOo'"
   ]
  },
  {
   "cell_type": "markdown",
   "id": "measured-moore",
   "metadata": {},
   "source": [
    "We can select every capital letter by using."
   ]
  },
  {
   "cell_type": "code",
   "execution_count": 427,
   "id": "spare-future",
   "metadata": {},
   "outputs": [
    {
     "data": {
      "text/plain": [
       "'HELLO'"
      ]
     },
     "execution_count": 427,
     "metadata": {},
     "output_type": "execute_result"
    }
   ],
   "source": [
    "string[0:len(string):2]"
   ]
  },
  {
   "cell_type": "markdown",
   "id": "directed-vintage",
   "metadata": {},
   "source": [
    "Because we are using a start value of ```0``` and a ```stop``` value that is the ```len``` of the ```str```, we can omit these."
   ]
  },
  {
   "cell_type": "code",
   "execution_count": 428,
   "id": "dress-yugoslavia",
   "metadata": {},
   "outputs": [
    {
     "data": {
      "text/plain": [
       "'HELLO'"
      ]
     },
     "execution_count": 428,
     "metadata": {},
     "output_type": "execute_result"
    }
   ],
   "source": [
    "string[::2]"
   ]
  },
  {
   "cell_type": "markdown",
   "id": "armed-guarantee",
   "metadata": {},
   "source": [
    "If we instead wanted the lower case we would instead ```start``` at ```1```."
   ]
  },
  {
   "cell_type": "code",
   "execution_count": 429,
   "id": "indie-teens",
   "metadata": {},
   "outputs": [
    {
     "data": {
      "text/plain": [
       "'hello'"
      ]
     },
     "execution_count": 429,
     "metadata": {},
     "output_type": "execute_result"
    }
   ],
   "source": [
    "string[1:len(string):2]"
   ]
  },
  {
   "cell_type": "markdown",
   "id": "lasting-wallpaper",
   "metadata": {},
   "source": [
    "Since the ```stop``` value is the length of the string we could also use."
   ]
  },
  {
   "cell_type": "code",
   "execution_count": 430,
   "id": "former-camera",
   "metadata": {},
   "outputs": [
    {
     "data": {
      "text/plain": [
       "'hello'"
      ]
     },
     "execution_count": 430,
     "metadata": {},
     "output_type": "execute_result"
    }
   ],
   "source": [
    "string[1::2]"
   ]
  },
  {
   "cell_type": "markdown",
   "id": "unable-trust",
   "metadata": {},
   "source": [
    "We can also use negative indexes. If we want the lower case ```str``` in reverse, we could take a ```step``` of ```-2```."
   ]
  },
  {
   "cell_type": "code",
   "execution_count": 431,
   "id": "interim-halloween",
   "metadata": {},
   "outputs": [
    {
     "data": {
      "text/plain": [
       "'olleh'"
      ]
     },
     "execution_count": 431,
     "metadata": {},
     "output_type": "execute_result"
    }
   ],
   "source": [
    "string[-1:-len(string)-1:-2]"
   ]
  },
  {
   "cell_type": "markdown",
   "id": "random-conspiracy",
   "metadata": {},
   "source": [
    "When a negative ```step``` is selected the ```start``` value takes a default of ```-1``` if not specified and the ```stop``` value takes a default of ```-len(string)-1``` if not specified. Recall once again the the ```start``` bound is inclusive and the ```stop``` upper bound is exclusive."
   ]
  },
  {
   "cell_type": "code",
   "execution_count": 432,
   "id": "similar-failing",
   "metadata": {},
   "outputs": [
    {
     "data": {
      "text/plain": [
       "'olleh'"
      ]
     },
     "execution_count": 432,
     "metadata": {},
     "output_type": "execute_result"
    }
   ],
   "source": [
    "string[::-2]"
   ]
  },
  {
   "cell_type": "code",
   "execution_count": 433,
   "id": "direct-testing",
   "metadata": {},
   "outputs": [
    {
     "data": {
      "text/plain": [
       "'OLLEH'"
      ]
     },
     "execution_count": 433,
     "metadata": {},
     "output_type": "execute_result"
    }
   ],
   "source": [
    "string[-2:-len(string)-1:-2]"
   ]
  },
  {
   "cell_type": "markdown",
   "id": "retired-italic",
   "metadata": {},
   "source": [
    "### The Dictionary Collection (dict)"
   ]
  },
  {
   "cell_type": "markdown",
   "id": "social-produce",
   "metadata": {},
   "source": [
    "Another collection is the dictionary collection (```class``` ```dict```). A dictionary has the form of a regular dictionary where there is a keyword (```key```) and definition (```value```). For example the dictionary below."
   ]
  },
  {
   "cell_type": "markdown",
   "id": "found-argument",
   "metadata": {},
   "source": [
    "|key|value|\n",
    "|---|---|\n",
    "|python|a programming language|\n",
    "|numpy|the numeric python library|\n",
    "|pandas|the python and data analysis library|\n",
    "|matplotlib|the python plotting library|"
   ]
  },
  {
   "cell_type": "markdown",
   "id": "bottom-making",
   "metadata": {},
   "source": [
    "A dictionary is quite commonly used in a programming language when it comes to assigning settings. Each setting has one name and multiple possible values. A user configuration will have one value set for each setting."
   ]
  },
  {
   "cell_type": "markdown",
   "id": "double-incidence",
   "metadata": {},
   "source": [
    "![windows10settings](windows10settings.png)"
   ]
  },
  {
   "cell_type": "markdown",
   "id": "retained-program",
   "metadata": {},
   "source": [
    "The Windows-10-color-settings may for example be expressed in adictionary of the following.\n",
    "\n",
    "|key|value|\n",
    "|---|---|\n",
    "|'background-color'|'light'|\n",
    "|'transparancy'|True|\n",
    "|'accent-color-auto'|False|\n",
    "|'window-color'|'blue'|"
   ]
  },
  {
   "cell_type": "markdown",
   "id": "valid-nancy",
   "metadata": {},
   "source": [
    "In Microsoft Word if we open up the color picker. We can see that each color has a Hex value which has the form ```'#FF0000'```. It can be insightful to make a dictionary which maps these ```values``` to color ```keys``` which are easier to recall for us."
   ]
  },
  {
   "cell_type": "markdown",
   "id": "surprising-mozambique",
   "metadata": {},
   "source": [
    "![color_picker](color_picker.png)"
   ]
  },
  {
   "cell_type": "markdown",
   "id": "serial-moment",
   "metadata": {},
   "source": [
    "To create a dictionary we can either use ```{}```."
   ]
  },
  {
   "cell_type": "code",
   "execution_count": 434,
   "id": "complimentary-tutorial",
   "metadata": {},
   "outputs": [],
   "source": [
    "colors={}"
   ]
  },
  {
   "cell_type": "code",
   "execution_count": 435,
   "id": "therapeutic-folder",
   "metadata": {},
   "outputs": [
    {
     "data": {
      "text/plain": [
       "{}"
      ]
     },
     "execution_count": 435,
     "metadata": {},
     "output_type": "execute_result"
    }
   ],
   "source": [
    "colors"
   ]
  },
  {
   "cell_type": "markdown",
   "id": "prepared-senate",
   "metadata": {},
   "source": [
    "Or alternatively use the ```__init__``` method of the ```dict``` class. Details about the input arguments can be found by typing in the class followed by ```↹``` and ```⇧``` or output to a cell by typing in ```?``` followed by the class name. "
   ]
  },
  {
   "cell_type": "code",
   "execution_count": 436,
   "id": "political-trinity",
   "metadata": {},
   "outputs": [
    {
     "data": {
      "text/plain": [
       "\u001b[1;31mInit signature:\u001b[0m  \u001b[0mdict\u001b[0m\u001b[1;33m(\u001b[0m\u001b[0mself\u001b[0m\u001b[1;33m,\u001b[0m \u001b[1;33m/\u001b[0m\u001b[1;33m,\u001b[0m \u001b[1;33m*\u001b[0m\u001b[0margs\u001b[0m\u001b[1;33m,\u001b[0m \u001b[1;33m**\u001b[0m\u001b[0mkwargs\u001b[0m\u001b[1;33m)\u001b[0m\u001b[1;33m\u001b[0m\u001b[1;33m\u001b[0m\u001b[0m\n",
       "\u001b[1;31mDocstring:\u001b[0m     \n",
       "dict() -> new empty dictionary\n",
       "dict(mapping) -> new dictionary initialized from a mapping object's\n",
       "    (key, value) pairs\n",
       "dict(iterable) -> new dictionary initialized as if via:\n",
       "    d = {}\n",
       "    for k, v in iterable:\n",
       "        d[k] = v\n",
       "dict(**kwargs) -> new dictionary initialized with the name=value pairs\n",
       "    in the keyword argument list.  For example:  dict(one=1, two=2)\n",
       "\u001b[1;31mType:\u001b[0m           type\n",
       "\u001b[1;31mSubclasses:\u001b[0m     OrderedDict, defaultdict, Counter, _EnumDict, Bunch, Config, _DefaultOptionDict, Struct, ColorSchemeTable, StgDict, ...\n"
      ]
     },
     "metadata": {},
     "output_type": "display_data"
    }
   ],
   "source": [
    "? dict"
   ]
  },
  {
   "cell_type": "code",
   "execution_count": 437,
   "id": "clinical-configuration",
   "metadata": {},
   "outputs": [],
   "source": [
    "colors=dict()"
   ]
  },
  {
   "cell_type": "code",
   "execution_count": 438,
   "id": "hairy-toronto",
   "metadata": {},
   "outputs": [
    {
     "data": {
      "text/plain": [
       "{}"
      ]
     },
     "execution_count": 438,
     "metadata": {},
     "output_type": "execute_result"
    }
   ],
   "source": [
    "colors"
   ]
  },
  {
   "cell_type": "markdown",
   "id": "permanent-validation",
   "metadata": {},
   "source": [
    "For a dictionary we don't just add single items, we add key value pairs. We use a ```:``` to seperate out the ```key``` from the ``value``` and the ```,``` to move onto the next ```key:value``` pair."
   ]
  },
  {
   "cell_type": "code",
   "execution_count": 439,
   "id": "tested-suspect",
   "metadata": {},
   "outputs": [],
   "source": [
    "colors={'red':'#FF0000','blue':'#0070C0','green':'#00B050'}"
   ]
  },
  {
   "cell_type": "code",
   "execution_count": 440,
   "id": "surprised-logistics",
   "metadata": {},
   "outputs": [
    {
     "data": {
      "text/plain": [
       "{'red': '#FF0000', 'blue': '#0070C0', 'green': '#00B050'}"
      ]
     },
     "execution_count": 440,
     "metadata": {},
     "output_type": "execute_result"
    }
   ],
   "source": [
    "colors"
   ]
  },
  {
   "cell_type": "markdown",
   "id": "flexible-jonathan",
   "metadata": {},
   "source": [
    "Like a ```list```, this can be input over multiple lines."
   ]
  },
  {
   "cell_type": "code",
   "execution_count": 441,
   "id": "biblical-hypothesis",
   "metadata": {},
   "outputs": [],
   "source": [
    "colors={'red':'#FF0000',\n",
    "        'blue':'#0070C0',\n",
    "        'green':'#00B050'}"
   ]
  },
  {
   "cell_type": "code",
   "execution_count": 442,
   "id": "macro-divorce",
   "metadata": {},
   "outputs": [
    {
     "data": {
      "text/plain": [
       "{'red': '#FF0000', 'blue': '#0070C0', 'green': '#00B050'}"
      ]
     },
     "execution_count": 442,
     "metadata": {},
     "output_type": "execute_result"
    }
   ],
   "source": [
    "colors"
   ]
  },
  {
   "cell_type": "markdown",
   "id": "grand-lancaster",
   "metadata": {},
   "source": [
    "The ```dict``` class doesn't have a numeric index. Instead we index using the key."
   ]
  },
  {
   "cell_type": "code",
   "execution_count": 443,
   "id": "complete-shannon",
   "metadata": {},
   "outputs": [
    {
     "data": {
      "text/plain": [
       "'#FF0000'"
      ]
     },
     "execution_count": 443,
     "metadata": {},
     "output_type": "execute_result"
    }
   ],
   "source": [
    "colors['red']"
   ]
  },
  {
   "cell_type": "markdown",
   "id": "aerial-showcase",
   "metadata": {},
   "source": [
    "When we type in the ```dict``` name followed by a ```.``` and a ```↹``` we see a number of ```list``` methods and attributes."
   ]
  },
  {
   "cell_type": "markdown",
   "id": "miniature-summary",
   "metadata": {},
   "source": [
    "![colors_dict_attributes_methods](colors_dict_attributes_methods.png)"
   ]
  },
  {
   "cell_type": "markdown",
   "id": "worldwide-publisher",
   "metadata": {},
   "source": [
    "The methods ```keys``` and ```values``` displays the ```keys``` and ```values``` in a ```list``` like object."
   ]
  },
  {
   "cell_type": "code",
   "execution_count": 444,
   "id": "electrical-receipt",
   "metadata": {},
   "outputs": [
    {
     "data": {
      "text/plain": [
       "dict_keys(['red', 'blue', 'green'])"
      ]
     },
     "execution_count": 444,
     "metadata": {},
     "output_type": "execute_result"
    }
   ],
   "source": [
    "colors.keys()"
   ]
  },
  {
   "cell_type": "code",
   "execution_count": 445,
   "id": "contained-hollywood",
   "metadata": {},
   "outputs": [
    {
     "data": {
      "text/plain": [
       "dict_values(['#FF0000', '#0070C0', '#00B050'])"
      ]
     },
     "execution_count": 445,
     "metadata": {},
     "output_type": "execute_result"
    }
   ],
   "source": [
    "colors.values()"
   ]
  },
  {
   "cell_type": "markdown",
   "id": "hired-peninsula",
   "metadata": {},
   "source": [
    "These can be converted to lists."
   ]
  },
  {
   "cell_type": "code",
   "execution_count": 446,
   "id": "excessive-drawing",
   "metadata": {},
   "outputs": [],
   "source": [
    "keys=list(colors.keys())"
   ]
  },
  {
   "cell_type": "code",
   "execution_count": 447,
   "id": "english-validity",
   "metadata": {},
   "outputs": [],
   "source": [
    "values=list(colors.values())"
   ]
  },
  {
   "cell_type": "markdown",
   "id": "rising-advertiser",
   "metadata": {},
   "source": [
    "Now that we have these as two equally sized ```list``` objects we can see how we can make a ```dict``` by zipping them together using the function ```zip```."
   ]
  },
  {
   "cell_type": "code",
   "execution_count": 448,
   "id": "noble-jacket",
   "metadata": {},
   "outputs": [
    {
     "data": {
      "text/plain": [
       "['red', 'blue', 'green']"
      ]
     },
     "execution_count": 448,
     "metadata": {},
     "output_type": "execute_result"
    }
   ],
   "source": [
    "keys"
   ]
  },
  {
   "cell_type": "code",
   "execution_count": 449,
   "id": "comparative-burst",
   "metadata": {},
   "outputs": [
    {
     "data": {
      "text/plain": [
       "['#FF0000', '#0070C0', '#00B050']"
      ]
     },
     "execution_count": 449,
     "metadata": {},
     "output_type": "execute_result"
    }
   ],
   "source": [
    "values"
   ]
  },
  {
   "cell_type": "code",
   "execution_count": 450,
   "id": "boolean-elder",
   "metadata": {},
   "outputs": [
    {
     "data": {
      "text/plain": [
       "{'red': '#FF0000', 'blue': '#0070C0', 'green': '#00B050'}"
      ]
     },
     "execution_count": 450,
     "metadata": {},
     "output_type": "execute_result"
    }
   ],
   "source": [
    "dict(zip(keys,values))"
   ]
  },
  {
   "cell_type": "markdown",
   "id": "arctic-knitting",
   "metadata": {},
   "source": [
    "The method items can also be used if we want to iterate ```in``` the ```dict``` using a ```for``` loop."
   ]
  },
  {
   "cell_type": "code",
   "execution_count": 451,
   "id": "fitted-fashion",
   "metadata": {},
   "outputs": [
    {
     "data": {
      "text/plain": [
       "dict_items([('red', '#FF0000'), ('blue', '#0070C0'), ('green', '#00B050')])"
      ]
     },
     "execution_count": 451,
     "metadata": {},
     "output_type": "execute_result"
    }
   ],
   "source": [
    "colors.items()"
   ]
  },
  {
   "cell_type": "code",
   "execution_count": 452,
   "id": "funky-chile",
   "metadata": {},
   "outputs": [
    {
     "name": "stdout",
     "output_type": "stream",
     "text": [
      "red #FF0000\n",
      "blue #0070C0\n",
      "green #00B050\n"
     ]
    }
   ],
   "source": [
    "for key,val in colors.items():\n",
    "    print(key,val)"
   ]
  },
  {
   "cell_type": "markdown",
   "id": "express-safety",
   "metadata": {},
   "source": [
    "### Mutability"
   ]
  },
  {
   "cell_type": "markdown",
   "id": "unnecessary-gossip",
   "metadata": {},
   "source": [
    "Let's create the following ```list```."
   ]
  },
  {
   "cell_type": "code",
   "execution_count": 453,
   "id": "blessed-parliament",
   "metadata": {},
   "outputs": [],
   "source": [
    "shop=['apples',\n",
    "      'bananas',\n",
    "      'grapes',\n",
    "      'oranges',\n",
    "      'pears']"
   ]
  },
  {
   "cell_type": "code",
   "execution_count": 454,
   "id": "congressional-calendar",
   "metadata": {},
   "outputs": [
    {
     "data": {
      "text/plain": [
       "['apples', 'bananas', 'grapes', 'oranges', 'pears']"
      ]
     },
     "execution_count": 454,
     "metadata": {},
     "output_type": "execute_result"
    }
   ],
   "source": [
    "shop"
   ]
  },
  {
   "cell_type": "markdown",
   "id": "awful-merchant",
   "metadata": {},
   "source": [
    "Now let us attempt to create a copy."
   ]
  },
  {
   "cell_type": "code",
   "execution_count": 455,
   "id": "charged-object",
   "metadata": {},
   "outputs": [],
   "source": [
    "shop2=shop"
   ]
  },
  {
   "cell_type": "code",
   "execution_count": 456,
   "id": "eight-drama",
   "metadata": {},
   "outputs": [
    {
     "data": {
      "text/plain": [
       "['apples', 'bananas', 'grapes', 'oranges', 'pears']"
      ]
     },
     "execution_count": 456,
     "metadata": {},
     "output_type": "execute_result"
    }
   ],
   "source": [
    "shop2"
   ]
  },
  {
   "cell_type": "markdown",
   "id": "liquid-declaration",
   "metadata": {},
   "source": [
    "Now let us modify the ```list``` ```shop2``` for example by appending an item."
   ]
  },
  {
   "cell_type": "code",
   "execution_count": 457,
   "id": "prerequisite-spice",
   "metadata": {},
   "outputs": [],
   "source": [
    "shop2.append('kiwi')"
   ]
  },
  {
   "cell_type": "code",
   "execution_count": 458,
   "id": "billion-david",
   "metadata": {},
   "outputs": [
    {
     "data": {
      "text/plain": [
       "['apples', 'bananas', 'grapes', 'oranges', 'pears', 'kiwi']"
      ]
     },
     "execution_count": 458,
     "metadata": {},
     "output_type": "execute_result"
    }
   ],
   "source": [
    "shop2"
   ]
  },
  {
   "cell_type": "markdown",
   "id": "optical-teddy",
   "metadata": {},
   "source": [
    "If we check the value of ```shop``` we see that it has also been updated."
   ]
  },
  {
   "cell_type": "code",
   "execution_count": 459,
   "id": "subtle-african",
   "metadata": {},
   "outputs": [
    {
     "data": {
      "text/plain": [
       "['apples', 'bananas', 'grapes', 'oranges', 'pears', 'kiwi']"
      ]
     },
     "execution_count": 459,
     "metadata": {},
     "output_type": "execute_result"
    }
   ],
   "source": [
    "shop"
   ]
  },
  {
   "cell_type": "markdown",
   "id": "economic-mentor",
   "metadata": {},
   "source": [
    "This is because the line ```shop2=shop``` did not create a copy but instead created an alias. i.e. ```shop2``` and ```shop``` are both object names for the same ```list```."
   ]
  },
  {
   "cell_type": "code",
   "execution_count": 460,
   "id": "coastal-disco",
   "metadata": {},
   "outputs": [],
   "source": [
    "shop=['apples',\n",
    "      'bananas',\n",
    "      'grapes',\n",
    "      'oranges',\n",
    "      'pears']"
   ]
  },
  {
   "cell_type": "markdown",
   "id": "adjacent-bloom",
   "metadata": {},
   "source": [
    "Instead we should use the method ```copy``` or alternatively index using square brackets and a ```:```."
   ]
  },
  {
   "cell_type": "code",
   "execution_count": 461,
   "id": "balanced-delicious",
   "metadata": {},
   "outputs": [],
   "source": [
    "shop2=shop.copy()"
   ]
  },
  {
   "cell_type": "code",
   "execution_count": 462,
   "id": "linear-bryan",
   "metadata": {},
   "outputs": [],
   "source": [
    "shop3=shop2[:]"
   ]
  },
  {
   "cell_type": "code",
   "execution_count": 463,
   "id": "modified-wagner",
   "metadata": {},
   "outputs": [],
   "source": [
    "shop2.append('kiwi')"
   ]
  },
  {
   "cell_type": "markdown",
   "id": "organic-respondent",
   "metadata": {},
   "source": [
    "Now we see that both ```shop1``` and ```shop3``` are not updated when ```shop2``` is updated."
   ]
  },
  {
   "cell_type": "code",
   "execution_count": 464,
   "id": "exposed-perry",
   "metadata": {},
   "outputs": [
    {
     "data": {
      "text/plain": [
       "['apples', 'bananas', 'grapes', 'oranges', 'pears']"
      ]
     },
     "execution_count": 464,
     "metadata": {},
     "output_type": "execute_result"
    }
   ],
   "source": [
    "shop"
   ]
  },
  {
   "cell_type": "code",
   "execution_count": 465,
   "id": "white-humanity",
   "metadata": {},
   "outputs": [
    {
     "data": {
      "text/plain": [
       "['apples', 'bananas', 'grapes', 'oranges', 'pears', 'kiwi']"
      ]
     },
     "execution_count": 465,
     "metadata": {},
     "output_type": "execute_result"
    }
   ],
   "source": [
    "shop2"
   ]
  },
  {
   "cell_type": "code",
   "execution_count": 466,
   "id": "impressive-petite",
   "metadata": {},
   "outputs": [
    {
     "data": {
      "text/plain": [
       "['apples', 'bananas', 'grapes', 'oranges', 'pears']"
      ]
     },
     "execution_count": 466,
     "metadata": {},
     "output_type": "execute_result"
    }
   ],
   "source": [
    "shop3"
   ]
  },
  {
   "cell_type": "markdown",
   "id": "charming-package",
   "metadata": {},
   "source": [
    "Mutability allows great flexibility when it comes to working with a ```list``` however at the same time we also need to be careful that we don't mutate a ```list``` by mistake."
   ]
  },
  {
   "cell_type": "markdown",
   "id": "apparent-luther",
   "metadata": {},
   "source": [
    "### The Tuple Collection (tuple)"
   ]
  },
  {
   "cell_type": "markdown",
   "id": "pressed-cancer",
   "metadata": {},
   "source": [
    "A tuple is essentially a list that is immutable. There are two main advantages in using a ```tuple``` over a ```list```. First a ```tuple``` is far less likely to be altered by accident and secondly it is faster to access because it is immutable. You won't really notice a speed difference for small collections but it can become important when handling very large collections."
   ]
  },
  {
   "cell_type": "markdown",
   "id": "frank-filename",
   "metadata": {},
   "source": [
    "It has the same form as a list but uses brackets ```()``` opposed to square brackets ```[]```. Let's create an empty ```tuple```."
   ]
  },
  {
   "cell_type": "code",
   "execution_count": 467,
   "id": "operating-expert",
   "metadata": {},
   "outputs": [],
   "source": [
    "shop_t=()"
   ]
  },
  {
   "cell_type": "markdown",
   "id": "radio-tutorial",
   "metadata": {},
   "source": [
    "Note to get a single element we need to include a ```,``` delimiter so the ```()``` isn't taken as parenthesis."
   ]
  },
  {
   "cell_type": "code",
   "execution_count": 468,
   "id": "golden-recommendation",
   "metadata": {},
   "outputs": [],
   "source": [
    "shop_t=('apples',)"
   ]
  },
  {
   "cell_type": "code",
   "execution_count": 469,
   "id": "lined-million",
   "metadata": {},
   "outputs": [
    {
     "data": {
      "text/plain": [
       "('apples',)"
      ]
     },
     "execution_count": 469,
     "metadata": {},
     "output_type": "execute_result"
    }
   ],
   "source": [
    "shop_t"
   ]
  },
  {
   "cell_type": "code",
   "execution_count": 470,
   "id": "mysterious-least",
   "metadata": {},
   "outputs": [],
   "source": [
    "shop_t=('apples')"
   ]
  },
  {
   "cell_type": "code",
   "execution_count": 471,
   "id": "mexican-customs",
   "metadata": {},
   "outputs": [
    {
     "data": {
      "text/plain": [
       "'apples'"
      ]
     },
     "execution_count": 471,
     "metadata": {},
     "output_type": "execute_result"
    }
   ],
   "source": [
    "shop_t"
   ]
  },
  {
   "cell_type": "code",
   "execution_count": 472,
   "id": "grave-elite",
   "metadata": {},
   "outputs": [],
   "source": [
    "shop_t=('apples', 'bananas', 'grapes', 'oranges', 'pears')"
   ]
  },
  {
   "cell_type": "markdown",
   "id": "acknowledged-banks",
   "metadata": {},
   "source": [
    "Alternatively we can instantiate a ```tuple``` using the ```__init___``` signature of the ```tuple``` ```class``` directly. Details about the input arguments can be found by typing in the class followed by ```↹``` and ```⇧``` or output to a cell by typing in ```?``` followed by the ```class``` name. We see the form is more or less identical to that of a ```list```."
   ]
  },
  {
   "cell_type": "code",
   "execution_count": 473,
   "id": "illegal-reality",
   "metadata": {},
   "outputs": [
    {
     "data": {
      "text/plain": [
       "\u001b[1;31mInit signature:\u001b[0m  \u001b[0mtuple\u001b[0m\u001b[1;33m(\u001b[0m\u001b[0miterable\u001b[0m\u001b[1;33m=\u001b[0m\u001b[1;33m(\u001b[0m\u001b[1;33m)\u001b[0m\u001b[1;33m,\u001b[0m \u001b[1;33m/\u001b[0m\u001b[1;33m)\u001b[0m\u001b[1;33m\u001b[0m\u001b[1;33m\u001b[0m\u001b[0m\n",
       "\u001b[1;31mDocstring:\u001b[0m     \n",
       "Built-in immutable sequence.\n",
       "\n",
       "If no argument is given, the constructor returns an empty tuple.\n",
       "If iterable is specified the tuple is initialized from iterable's items.\n",
       "\n",
       "If the argument is a tuple, the return value is the same object.\n",
       "\u001b[1;31mType:\u001b[0m           type\n",
       "\u001b[1;31mSubclasses:\u001b[0m     int_info, float_info, UnraisableHookArgs, hash_info, version_info, flags, getwindowsversion, thread_info, asyncgen_hooks, ExceptHookArgs, ...\n"
      ]
     },
     "metadata": {},
     "output_type": "display_data"
    }
   ],
   "source": [
    "? tuple"
   ]
  },
  {
   "cell_type": "code",
   "execution_count": 474,
   "id": "olympic-backup",
   "metadata": {},
   "outputs": [],
   "source": [
    "shop_t=tuple(('apples', 'bananas', 'grapes', 'oranges', 'pears'))"
   ]
  },
  {
   "cell_type": "code",
   "execution_count": 475,
   "id": "third-reynolds",
   "metadata": {},
   "outputs": [
    {
     "data": {
      "text/plain": [
       "('apples', 'bananas', 'grapes', 'oranges', 'pears')"
      ]
     },
     "execution_count": 475,
     "metadata": {},
     "output_type": "execute_result"
    }
   ],
   "source": [
    "shop_t"
   ]
  },
  {
   "cell_type": "markdown",
   "id": "dated-edinburgh",
   "metadata": {},
   "source": [
    "The ```list``` and ```tuple``` ```__init__``` ```class``` signature may be used to quickly convert a ```list``` to a ```tuple``` and vice versa."
   ]
  },
  {
   "cell_type": "code",
   "execution_count": 476,
   "id": "hourly-evening",
   "metadata": {},
   "outputs": [],
   "source": [
    "shop_l=list(shop_t)"
   ]
  },
  {
   "cell_type": "code",
   "execution_count": 477,
   "id": "identical-cooling",
   "metadata": {},
   "outputs": [
    {
     "data": {
      "text/plain": [
       "['apples', 'bananas', 'grapes', 'oranges', 'pears']"
      ]
     },
     "execution_count": 477,
     "metadata": {},
     "output_type": "execute_result"
    }
   ],
   "source": [
    "shop_l"
   ]
  },
  {
   "cell_type": "markdown",
   "id": "weighted-cleaning",
   "metadata": {},
   "source": [
    "Because a ```tuple``` is immutable, there are only a limited number of methods available which can be accessed by typing in the object name followed by a ```.``` and a ```↹```."
   ]
  },
  {
   "cell_type": "markdown",
   "id": "arabic-fence",
   "metadata": {},
   "source": [
    "![tuple_methods_attributes](tuple_methods_attributes.png)"
   ]
  },
  {
   "cell_type": "markdown",
   "id": "threaded-investigation",
   "metadata": {},
   "source": [
    "We see that the ```list``` in comparison has many more methods available."
   ]
  },
  {
   "cell_type": "markdown",
   "id": "about-highlight",
   "metadata": {},
   "source": [
    "![list2_methods_attributes](list2_methods_attributes.png)"
   ]
  },
  {
   "cell_type": "markdown",
   "id": "sitting-tumor",
   "metadata": {},
   "source": [
    "The ```tuple``` and ```list``` method count has a single positional input argument value. This will return the number of indexes which share the value. "
   ]
  },
  {
   "cell_type": "code",
   "execution_count": 478,
   "id": "strategic-italy",
   "metadata": {},
   "outputs": [
    {
     "data": {
      "text/plain": [
       "\u001b[1;31mSignature:\u001b[0m  \u001b[0mshop_t\u001b[0m\u001b[1;33m.\u001b[0m\u001b[0mcount\u001b[0m\u001b[1;33m(\u001b[0m\u001b[0mvalue\u001b[0m\u001b[1;33m,\u001b[0m \u001b[1;33m/\u001b[0m\u001b[1;33m)\u001b[0m\u001b[1;33m\u001b[0m\u001b[1;33m\u001b[0m\u001b[0m\n",
       "\u001b[1;31mDocstring:\u001b[0m Return number of occurrences of value.\n",
       "\u001b[1;31mType:\u001b[0m      builtin_function_or_method\n"
      ]
     },
     "metadata": {},
     "output_type": "display_data"
    }
   ],
   "source": [
    "? shop_t.count"
   ]
  },
  {
   "cell_type": "markdown",
   "id": "armed-expert",
   "metadata": {},
   "source": [
    "For example we check the number fo times 'apples' occur in each collection which is just 1."
   ]
  },
  {
   "cell_type": "code",
   "execution_count": 479,
   "id": "following-measure",
   "metadata": {},
   "outputs": [
    {
     "data": {
      "text/plain": [
       "1"
      ]
     },
     "execution_count": 479,
     "metadata": {},
     "output_type": "execute_result"
    }
   ],
   "source": [
    "shop_t.count('apples')"
   ]
  },
  {
   "cell_type": "code",
   "execution_count": 480,
   "id": "chubby-butterfly",
   "metadata": {},
   "outputs": [
    {
     "data": {
      "text/plain": [
       "1"
      ]
     },
     "execution_count": 480,
     "metadata": {},
     "output_type": "execute_result"
    }
   ],
   "source": [
    "shop_l.count('apples')"
   ]
  },
  {
   "cell_type": "markdown",
   "id": "architectural-actor",
   "metadata": {},
   "source": [
    "Details about the input arguments can be found by typing in the method followed by ```↹``` and ```⇧``` or output to a cell by typing in ```?``` followed by the methods name (called from the object). The 0th positional input argument is the ```value``` to find. The 1st and 2nd positional input argument ```start``` and ```stop``` are optional and specify an index range which we can search over. These are documented to look like keyword input arguements but unfortunately do not operate in this manner."
   ]
  },
  {
   "cell_type": "code",
   "execution_count": 481,
   "id": "indoor-silicon",
   "metadata": {},
   "outputs": [
    {
     "data": {
      "text/plain": [
       "\u001b[1;31mSignature:\u001b[0m  \u001b[0mshop_t\u001b[0m\u001b[1;33m.\u001b[0m\u001b[0mindex\u001b[0m\u001b[1;33m(\u001b[0m\u001b[0mvalue\u001b[0m\u001b[1;33m,\u001b[0m \u001b[0mstart\u001b[0m\u001b[1;33m=\u001b[0m\u001b[1;36m0\u001b[0m\u001b[1;33m,\u001b[0m \u001b[0mstop\u001b[0m\u001b[1;33m=\u001b[0m\u001b[1;36m9223372036854775807\u001b[0m\u001b[1;33m,\u001b[0m \u001b[1;33m/\u001b[0m\u001b[1;33m)\u001b[0m\u001b[1;33m\u001b[0m\u001b[1;33m\u001b[0m\u001b[0m\n",
       "\u001b[1;31mDocstring:\u001b[0m\n",
       "Return first index of value.\n",
       "\n",
       "Raises ValueError if the value is not present.\n",
       "\u001b[1;31mType:\u001b[0m      builtin_function_or_method\n"
      ]
     },
     "metadata": {},
     "output_type": "display_data"
    }
   ],
   "source": [
    "? shop_t.index"
   ]
  },
  {
   "cell_type": "code",
   "execution_count": 482,
   "id": "objective-healing",
   "metadata": {},
   "outputs": [
    {
     "data": {
      "text/plain": [
       "0"
      ]
     },
     "execution_count": 482,
     "metadata": {},
     "output_type": "execute_result"
    }
   ],
   "source": [
    "shop_t.index('apples')"
   ]
  },
  {
   "cell_type": "code",
   "execution_count": 483,
   "id": "intellectual-google",
   "metadata": {},
   "outputs": [
    {
     "data": {
      "text/plain": [
       "0"
      ]
     },
     "execution_count": 483,
     "metadata": {},
     "output_type": "execute_result"
    }
   ],
   "source": [
    "shop_l.index('apples')"
   ]
  },
  {
   "cell_type": "markdown",
   "id": "fitted-plymouth",
   "metadata": {},
   "source": [
    "Let's concatenate another list to ```shop_l``` and reassign the output to ```shop_l```."
   ]
  },
  {
   "cell_type": "code",
   "execution_count": 484,
   "id": "ecological-mississippi",
   "metadata": {},
   "outputs": [],
   "source": [
    "shop_l=shop_l+['apples','oranges']"
   ]
  },
  {
   "cell_type": "code",
   "execution_count": 485,
   "id": "supported-pricing",
   "metadata": {},
   "outputs": [
    {
     "data": {
      "text/plain": [
       "['apples', 'bananas', 'grapes', 'oranges', 'pears', 'apples', 'oranges']"
      ]
     },
     "execution_count": 485,
     "metadata": {},
     "output_type": "execute_result"
    }
   ],
   "source": [
    "shop_l"
   ]
  },
  {
   "cell_type": "markdown",
   "id": "fifteen-royalty",
   "metadata": {},
   "source": [
    "Now if we count the number of occurances of ```'apples'``` we get a value of ```2```."
   ]
  },
  {
   "cell_type": "code",
   "execution_count": 486,
   "id": "enabling-arabic",
   "metadata": {},
   "outputs": [
    {
     "data": {
      "text/plain": [
       "2"
      ]
     },
     "execution_count": 486,
     "metadata": {},
     "output_type": "execute_result"
    }
   ],
   "source": [
    "shop_l.count('apples')"
   ]
  },
  {
   "cell_type": "markdown",
   "id": "exciting-virus",
   "metadata": {},
   "source": [
    "The method ```index``` only returns the initial index of the value found i.e. index ```0```."
   ]
  },
  {
   "cell_type": "code",
   "execution_count": 487,
   "id": "asian-married",
   "metadata": {},
   "outputs": [
    {
     "data": {
      "text/plain": [
       "0"
      ]
     },
     "execution_count": 487,
     "metadata": {},
     "output_type": "execute_result"
    }
   ],
   "source": [
    "shop_l.index('apples')"
   ]
  },
  {
   "cell_type": "markdown",
   "id": "bottom-single",
   "metadata": {},
   "source": [
    "```start``` and ```stop``` unfortunately do not work as keyword input arguments."
   ]
  },
  {
   "cell_type": "markdown",
   "id": "agreed-quality",
   "metadata": {},
   "source": [
    "```idx1=shop_1.index('apples',start=1)```"
   ]
  },
  {
   "cell_type": "markdown",
   "id": "legal-ghost",
   "metadata": {},
   "source": [
    "![tuple_method_index_TypeError](tuple_method_index_TypeError.png)"
   ]
  },
  {
   "cell_type": "markdown",
   "id": "treated-broadway",
   "metadata": {},
   "source": [
    "The initial index within the range ```1``` upwards is found, in this case ```5```."
   ]
  },
  {
   "cell_type": "code",
   "execution_count": 488,
   "id": "mysterious-shaft",
   "metadata": {},
   "outputs": [
    {
     "data": {
      "text/plain": [
       "5"
      ]
     },
     "execution_count": 488,
     "metadata": {},
     "output_type": "execute_result"
    }
   ],
   "source": [
    "shop_l.index('apples',1)"
   ]
  },
  {
   "cell_type": "markdown",
   "id": "loved-debate",
   "metadata": {},
   "source": [
    "If the value is not found in the range selected a ```ValueError``` will display."
   ]
  },
  {
   "cell_type": "markdown",
   "id": "productive-wrestling",
   "metadata": {},
   "source": [
    "```shop_1.index('apples',6)```"
   ]
  },
  {
   "cell_type": "markdown",
   "id": "critical-access",
   "metadata": {},
   "source": [
    "![tuple_method_index_ValueError](tuple_method_index_ValueError.png)"
   ]
  },
  {
   "cell_type": "markdown",
   "id": "rational-wallace",
   "metadata": {},
   "source": [
    "To prevent this ```ValueError``` from halting the Kernel a try and except branch can be used. To get all the indexes that have the value ```'Apples'``` a ```while``` loop can be used."
   ]
  },
  {
   "cell_type": "code",
   "execution_count": 489,
   "id": "hairy-mills",
   "metadata": {},
   "outputs": [
    {
     "data": {
      "text/plain": [
       "[0, 5]"
      ]
     },
     "execution_count": 489,
     "metadata": {},
     "output_type": "execute_result"
    }
   ],
   "source": [
    "i=0\n",
    "idx=[]\n",
    "while i<len(shop_l):\n",
    "    try:\n",
    "        idx=idx+[shop_l.index('apples',i)]\n",
    "        i=shop_l.index('apples',i)+1\n",
    "    except ValueError:\n",
    "        break\n",
    "idx"
   ]
  },
  {
   "cell_type": "markdown",
   "id": "minimal-improvement",
   "metadata": {},
   "source": [
    "### Tuple Unpacking"
   ]
  },
  {
   "cell_type": "markdown",
   "id": "elder-cursor",
   "metadata": {},
   "source": [
    "We looked previously at defining and using custom functions. We seen that we can have multiple input arguments but only a single return statement. It is possible to use the return statement to return a collection of values such as a ```tuple```. For example we can create this basic function ```plusminus``` which returns a ```lower``` and ```upper``` bound."
   ]
  },
  {
   "cell_type": "code",
   "execution_count": 490,
   "id": "spanish-preservation",
   "metadata": {},
   "outputs": [],
   "source": [
    "def plusminus(value=0,error=1):\n",
    "    lower=value-error\n",
    "    upper=value+error\n",
    "    return((lower,upper))"
   ]
  },
  {
   "cell_type": "markdown",
   "id": "velvet-summary",
   "metadata": {},
   "source": [
    "When we use it we get a ```tuple```."
   ]
  },
  {
   "cell_type": "code",
   "execution_count": 491,
   "id": "seventh-disabled",
   "metadata": {},
   "outputs": [
    {
     "data": {
      "text/plain": [
       "(8, 12)"
      ]
     },
     "execution_count": 491,
     "metadata": {},
     "output_type": "execute_result"
    }
   ],
   "source": [
    "plusminus(value=10,error=2)"
   ]
  },
  {
   "cell_type": "markdown",
   "id": "quantitative-removal",
   "metadata": {},
   "source": [
    "Alternatively we can assign the output to an object name."
   ]
  },
  {
   "cell_type": "code",
   "execution_count": 492,
   "id": "introductory-horror",
   "metadata": {},
   "outputs": [],
   "source": [
    "pm=plusminus(value=10,error=2)"
   ]
  },
  {
   "cell_type": "markdown",
   "id": "rising-sleep",
   "metadata": {},
   "source": [
    "The object is a ```tuple```."
   ]
  },
  {
   "cell_type": "code",
   "execution_count": 493,
   "id": "worse-recognition",
   "metadata": {},
   "outputs": [
    {
     "data": {
      "text/plain": [
       "(8, 12)"
      ]
     },
     "execution_count": 493,
     "metadata": {},
     "output_type": "execute_result"
    }
   ],
   "source": [
    "pm"
   ]
  },
  {
   "cell_type": "code",
   "execution_count": 494,
   "id": "useful-deviation",
   "metadata": {},
   "outputs": [
    {
     "data": {
      "text/plain": [
       "tuple"
      ]
     },
     "execution_count": 494,
     "metadata": {},
     "output_type": "execute_result"
    }
   ],
   "source": [
    "type(pm)"
   ]
  },
  {
   "cell_type": "markdown",
   "id": "north-nashville",
   "metadata": {},
   "source": [
    "Since we know the tuple has an index of ```0``` and an index of ```1``` we can assign the output of the function to two output arguments."
   ]
  },
  {
   "cell_type": "code",
   "execution_count": 495,
   "id": "legitimate-developer",
   "metadata": {},
   "outputs": [],
   "source": [
    "(m,p)=plusminus(value=10,error=2)"
   ]
  },
  {
   "cell_type": "code",
   "execution_count": 496,
   "id": "cross-miniature",
   "metadata": {},
   "outputs": [
    {
     "data": {
      "text/plain": [
       "8"
      ]
     },
     "execution_count": 496,
     "metadata": {},
     "output_type": "execute_result"
    }
   ],
   "source": [
    "m"
   ]
  },
  {
   "cell_type": "code",
   "execution_count": 497,
   "id": "unexpected-baltimore",
   "metadata": {},
   "outputs": [
    {
     "data": {
      "text/plain": [
       "int"
      ]
     },
     "execution_count": 497,
     "metadata": {},
     "output_type": "execute_result"
    }
   ],
   "source": [
    "type(m)"
   ]
  },
  {
   "cell_type": "code",
   "execution_count": 498,
   "id": "african-greeting",
   "metadata": {},
   "outputs": [
    {
     "data": {
      "text/plain": [
       "12"
      ]
     },
     "execution_count": 498,
     "metadata": {},
     "output_type": "execute_result"
    }
   ],
   "source": [
    "p"
   ]
  },
  {
   "cell_type": "code",
   "execution_count": 499,
   "id": "legendary-break",
   "metadata": {},
   "outputs": [
    {
     "data": {
      "text/plain": [
       "int"
      ]
     },
     "execution_count": 499,
     "metadata": {},
     "output_type": "execute_result"
    }
   ],
   "source": [
    "type(p)"
   ]
  },
  {
   "cell_type": "markdown",
   "id": "small-recovery",
   "metadata": {},
   "source": [
    "The code above can be simplified by removing parenthesis."
   ]
  },
  {
   "cell_type": "code",
   "execution_count": 500,
   "id": "entitled-license",
   "metadata": {},
   "outputs": [],
   "source": [
    "def plusminus(value=0,error=1):\n",
    "    lower=value-error\n",
    "    upper=value+error\n",
    "    return(lower,upper)"
   ]
  },
  {
   "cell_type": "code",
   "execution_count": 501,
   "id": "dying-career",
   "metadata": {},
   "outputs": [],
   "source": [
    "m,p=plusminus(value=10,error=2)"
   ]
  },
  {
   "cell_type": "code",
   "execution_count": 502,
   "id": "nominated-radius",
   "metadata": {},
   "outputs": [
    {
     "data": {
      "text/plain": [
       "8"
      ]
     },
     "execution_count": 502,
     "metadata": {},
     "output_type": "execute_result"
    }
   ],
   "source": [
    "m"
   ]
  },
  {
   "cell_type": "code",
   "execution_count": 503,
   "id": "fixed-sandwich",
   "metadata": {},
   "outputs": [
    {
     "data": {
      "text/plain": [
       "12"
      ]
     },
     "execution_count": 503,
     "metadata": {},
     "output_type": "execute_result"
    }
   ],
   "source": [
    "p"
   ]
  },
  {
   "cell_type": "markdown",
   "id": "critical-notebook",
   "metadata": {},
   "source": [
    "We can of course alter the code above to ```assert``` that the keyword input arguments are ```int``` or ```float```."
   ]
  },
  {
   "cell_type": "code",
   "execution_count": 504,
   "id": "sapphire-university",
   "metadata": {},
   "outputs": [],
   "source": [
    "def plusminus(value=0,error=1):\n",
    "    '''Will calculate a lower and upper bound for value±error'''\n",
    "    try:\n",
    "        assert ((type(value)==int or type(value)==float) and (type(error)==int or type(error)==float)), 'value and error must be numeric'\n",
    "        lower=value-error\n",
    "        upper=value+error\n",
    "        return(lower,upper)\n",
    "    except AssertionError:\n",
    "        print('value and error must be numeric (type int or str)')"
   ]
  },
  {
   "cell_type": "code",
   "execution_count": 505,
   "id": "corrected-election",
   "metadata": {},
   "outputs": [
    {
     "name": "stdout",
     "output_type": "stream",
     "text": [
      "value and error must be numeric (type int or str)\n"
     ]
    }
   ],
   "source": [
    "plusminus(value='a',error=1)"
   ]
  },
  {
   "cell_type": "code",
   "execution_count": 506,
   "id": "legal-current",
   "metadata": {},
   "outputs": [
    {
     "data": {
      "text/plain": [
       "(8, 12)"
      ]
     },
     "execution_count": 506,
     "metadata": {},
     "output_type": "execute_result"
    }
   ],
   "source": [
    "plusminus(value=10,error=2)"
   ]
  },
  {
   "cell_type": "markdown",
   "id": "falling-islam",
   "metadata": {},
   "source": [
    "### Nested Collections"
   ]
  },
  {
   "cell_type": "markdown",
   "id": "beautiful-starter",
   "metadata": {},
   "source": [
    "So far we have looked at collections where all the items are of the same ```datatype```. Collections such as the ```list``` or ```tuple``` are much more flexible and each item in a collection can be a different data type. For example."
   ]
  },
  {
   "cell_type": "code",
   "execution_count": 507,
   "id": "official-grass",
   "metadata": {},
   "outputs": [],
   "source": [
    "mixed=['a',1,1.5,True,complex(real=4,imag=-2)]"
   ]
  },
  {
   "cell_type": "code",
   "execution_count": 508,
   "id": "tired-ultimate",
   "metadata": {},
   "outputs": [
    {
     "name": "stdout",
     "output_type": "stream",
     "text": [
      "0 a <class 'str'>\n",
      "1 1 <class 'int'>\n",
      "2 1.5 <class 'float'>\n",
      "3 True <class 'bool'>\n",
      "4 (4-2j) <class 'complex'>\n"
     ]
    }
   ],
   "source": [
    "for idx,item in enumerate(mixed):\n",
    "    print(idx,item,type(item))"
   ]
  },
  {
   "cell_type": "markdown",
   "id": "hindu-jurisdiction",
   "metadata": {},
   "source": [
    "It is also possible to nest another collection in a collection. For example a ```tuple``` and a ```list``` can each be elements within a ```list```."
   ]
  },
  {
   "cell_type": "code",
   "execution_count": 509,
   "id": "variable-basin",
   "metadata": {},
   "outputs": [],
   "source": [
    "mixed2=['b',2,2/5,True,complex(real=4,imag=-2),(2,-2),['apples',4,'oranges']]"
   ]
  },
  {
   "cell_type": "code",
   "execution_count": 510,
   "id": "artificial-cooperative",
   "metadata": {},
   "outputs": [
    {
     "name": "stdout",
     "output_type": "stream",
     "text": [
      "0 b <class 'str'>\n",
      "1 2 <class 'int'>\n",
      "2 0.4 <class 'float'>\n",
      "3 True <class 'bool'>\n",
      "4 (4-2j) <class 'complex'>\n",
      "5 (2, -2) <class 'tuple'>\n",
      "6 ['apples', 4, 'oranges'] <class 'list'>\n"
     ]
    }
   ],
   "source": [
    "for idx,item in enumerate(mixed2):\n",
    "    print(idx,item,type(item))"
   ]
  },
  {
   "cell_type": "markdown",
   "id": "virgin-prior",
   "metadata": {},
   "source": [
    "We can index into the ```list``` using square brackets ```[]``` and index ```5``` to get the ```tuple``` and then we can use an additional square brackets to select index ```1``` to get the 1st element in the ```tuple``` ```-2```."
   ]
  },
  {
   "cell_type": "code",
   "execution_count": 511,
   "id": "commercial-breathing",
   "metadata": {},
   "outputs": [
    {
     "data": {
      "text/plain": [
       "-2"
      ]
     },
     "execution_count": 511,
     "metadata": {},
     "output_type": "execute_result"
    }
   ],
   "source": [
    "mixed2[5][1]"
   ]
  },
  {
   "cell_type": "markdown",
   "id": "english-stand",
   "metadata": {},
   "source": [
    "Let's create two lists."
   ]
  },
  {
   "cell_type": "code",
   "execution_count": 512,
   "id": "irish-postage",
   "metadata": {},
   "outputs": [],
   "source": [
    "l1=[0,1,2,3,4]\n",
    "l2=[5,6]"
   ]
  },
  {
   "cell_type": "markdown",
   "id": "accomplished-shark",
   "metadata": {},
   "source": [
    "Now let's look at the methods ```append``` and ```extend```. At first glance the two methods may appear to do the same thing."
   ]
  },
  {
   "cell_type": "code",
   "execution_count": 513,
   "id": "greatest-health",
   "metadata": {},
   "outputs": [
    {
     "data": {
      "text/plain": [
       "\u001b[1;31mSignature:\u001b[0m  \u001b[0ml1\u001b[0m\u001b[1;33m.\u001b[0m\u001b[0mappend\u001b[0m\u001b[1;33m(\u001b[0m\u001b[0mobject\u001b[0m\u001b[1;33m,\u001b[0m \u001b[1;33m/\u001b[0m\u001b[1;33m)\u001b[0m\u001b[1;33m\u001b[0m\u001b[1;33m\u001b[0m\u001b[0m\n",
       "\u001b[1;31mDocstring:\u001b[0m Append object to the end of the list.\n",
       "\u001b[1;31mType:\u001b[0m      builtin_function_or_method\n"
      ]
     },
     "metadata": {},
     "output_type": "display_data"
    }
   ],
   "source": [
    "? l1.append"
   ]
  },
  {
   "cell_type": "code",
   "execution_count": 514,
   "id": "scheduled-coupon",
   "metadata": {},
   "outputs": [
    {
     "data": {
      "text/plain": [
       "\u001b[1;31mSignature:\u001b[0m  \u001b[0ml1\u001b[0m\u001b[1;33m.\u001b[0m\u001b[0mextend\u001b[0m\u001b[1;33m(\u001b[0m\u001b[0miterable\u001b[0m\u001b[1;33m,\u001b[0m \u001b[1;33m/\u001b[0m\u001b[1;33m)\u001b[0m\u001b[1;33m\u001b[0m\u001b[1;33m\u001b[0m\u001b[0m\n",
       "\u001b[1;31mDocstring:\u001b[0m Extend list by appending elements from the iterable.\n",
       "\u001b[1;31mType:\u001b[0m      builtin_function_or_method\n"
      ]
     },
     "metadata": {},
     "output_type": "display_data"
    }
   ],
   "source": [
    "? l1.extend"
   ]
  },
  {
   "cell_type": "markdown",
   "id": "binding-earthquake",
   "metadata": {},
   "source": [
    "However when we use ```append``` we see that the entire ```l2``` is appended at the end of ```l1``` as a nested ```list```."
   ]
  },
  {
   "cell_type": "code",
   "execution_count": 515,
   "id": "imposed-truth",
   "metadata": {},
   "outputs": [],
   "source": [
    "l1.append(l2)"
   ]
  },
  {
   "cell_type": "markdown",
   "id": "original-prize",
   "metadata": {},
   "source": [
    "Note the method ```append``` shows no output and mutates the original ```list``` ```l1```."
   ]
  },
  {
   "cell_type": "code",
   "execution_count": 516,
   "id": "continuing-burning",
   "metadata": {},
   "outputs": [
    {
     "data": {
      "text/plain": [
       "[0, 1, 2, 3, 4, [5, 6]]"
      ]
     },
     "execution_count": 516,
     "metadata": {},
     "output_type": "execute_result"
    }
   ],
   "source": [
    "l1"
   ]
  },
  {
   "cell_type": "markdown",
   "id": "alpha-combination",
   "metadata": {},
   "source": [
    "Reassigning ```l1``` and ```l2```."
   ]
  },
  {
   "cell_type": "code",
   "execution_count": 517,
   "id": "mental-depression",
   "metadata": {},
   "outputs": [],
   "source": [
    "l1=[0,1,2,3,4]\n",
    "l2=[5,6]"
   ]
  },
  {
   "cell_type": "markdown",
   "id": "numerical-fountain",
   "metadata": {},
   "source": [
    "And now using the ```list``` method ```extend``` instead, extends ```l1``` using all the elements in ```l2```."
   ]
  },
  {
   "cell_type": "code",
   "execution_count": 518,
   "id": "narrative-christopher",
   "metadata": {},
   "outputs": [],
   "source": [
    "l1.extend(l2)"
   ]
  },
  {
   "cell_type": "code",
   "execution_count": 519,
   "id": "ranking-apparatus",
   "metadata": {},
   "outputs": [
    {
     "data": {
      "text/plain": [
       "[0, 1, 2, 3, 4, 5, 6]"
      ]
     },
     "execution_count": 519,
     "metadata": {},
     "output_type": "execute_result"
    }
   ],
   "source": [
    "l1"
   ]
  },
  {
   "cell_type": "code",
   "execution_count": 520,
   "id": "surrounded-empire",
   "metadata": {},
   "outputs": [],
   "source": [
    "l1=[0,1,2,3,4]\n",
    "l2=[5,6]"
   ]
  },
  {
   "cell_type": "markdown",
   "id": "recovered-event",
   "metadata": {},
   "source": [
    "The ```list``` method ```insert``` works in a similar manner to ```append```. We see there are two positional input arguments. An ```index``` has to be selected to place the inserted ```object```. All existing values at this ```index``` or later are shifted one along."
   ]
  },
  {
   "cell_type": "code",
   "execution_count": 521,
   "id": "minor-button",
   "metadata": {},
   "outputs": [
    {
     "data": {
      "text/plain": [
       "\u001b[1;31mSignature:\u001b[0m  \u001b[0ml1\u001b[0m\u001b[1;33m.\u001b[0m\u001b[0minsert\u001b[0m\u001b[1;33m(\u001b[0m\u001b[0mindex\u001b[0m\u001b[1;33m,\u001b[0m \u001b[0mobject\u001b[0m\u001b[1;33m,\u001b[0m \u001b[1;33m/\u001b[0m\u001b[1;33m)\u001b[0m\u001b[1;33m\u001b[0m\u001b[1;33m\u001b[0m\u001b[0m\n",
       "\u001b[1;31mDocstring:\u001b[0m Insert object before index.\n",
       "\u001b[1;31mType:\u001b[0m      builtin_function_or_method\n"
      ]
     },
     "metadata": {},
     "output_type": "display_data"
    }
   ],
   "source": [
    "? l1.insert"
   ]
  },
  {
   "cell_type": "code",
   "execution_count": 522,
   "id": "trained-travel",
   "metadata": {},
   "outputs": [],
   "source": [
    "l1.insert(2,l2)"
   ]
  },
  {
   "cell_type": "markdown",
   "id": "blind-child",
   "metadata": {},
   "source": [
    "This method also mutates the list l1 and there is no output."
   ]
  },
  {
   "cell_type": "code",
   "execution_count": 523,
   "id": "difficult-direction",
   "metadata": {},
   "outputs": [
    {
     "data": {
      "text/plain": [
       "[0, 1, [5, 6], 2, 3, 4]"
      ]
     },
     "execution_count": 523,
     "metadata": {},
     "output_type": "execute_result"
    }
   ],
   "source": [
    "l1"
   ]
  },
  {
   "cell_type": "markdown",
   "id": "mental-lloyd",
   "metadata": {},
   "source": [
    "The list method remove will remove the first occurance of a value using the value as an input argument. We see there is a single positional input argument ```value```."
   ]
  },
  {
   "cell_type": "code",
   "execution_count": 524,
   "id": "dried-buffalo",
   "metadata": {},
   "outputs": [
    {
     "data": {
      "text/plain": [
       "\u001b[1;31mSignature:\u001b[0m  \u001b[0ml1\u001b[0m\u001b[1;33m.\u001b[0m\u001b[0mremove\u001b[0m\u001b[1;33m(\u001b[0m\u001b[0mvalue\u001b[0m\u001b[1;33m,\u001b[0m \u001b[1;33m/\u001b[0m\u001b[1;33m)\u001b[0m\u001b[1;33m\u001b[0m\u001b[1;33m\u001b[0m\u001b[0m\n",
       "\u001b[1;31mDocstring:\u001b[0m\n",
       "Remove first occurrence of value.\n",
       "\n",
       "Raises ValueError if the value is not present.\n",
       "\u001b[1;31mType:\u001b[0m      builtin_function_or_method\n"
      ]
     },
     "metadata": {},
     "output_type": "display_data"
    }
   ],
   "source": [
    "? l1.remove"
   ]
  },
  {
   "cell_type": "code",
   "execution_count": 525,
   "id": "divided-coverage",
   "metadata": {},
   "outputs": [],
   "source": [
    "l1.remove(1)"
   ]
  },
  {
   "cell_type": "markdown",
   "id": "rubber-immunology",
   "metadata": {},
   "source": [
    "This method also mutates the ```list``` ```l1``` and there is no output."
   ]
  },
  {
   "cell_type": "code",
   "execution_count": 526,
   "id": "sought-violation",
   "metadata": {},
   "outputs": [
    {
     "data": {
      "text/plain": [
       "[0, [5, 6], 2, 3, 4]"
      ]
     },
     "execution_count": 526,
     "metadata": {},
     "output_type": "execute_result"
    }
   ],
   "source": [
    "l1"
   ]
  },
  {
   "cell_type": "markdown",
   "id": "copyrighted-breath",
   "metadata": {},
   "source": [
    "The list method ```pop``` removes a ```value``` using the index as a keyword input argument. We see there is a positional input argument ```index``` and it is set to ```-1``` which is the last ```index```. "
   ]
  },
  {
   "cell_type": "code",
   "execution_count": 527,
   "id": "expensive-dayton",
   "metadata": {},
   "outputs": [
    {
     "data": {
      "text/plain": [
       "\u001b[1;31mSignature:\u001b[0m  \u001b[0ml1\u001b[0m\u001b[1;33m.\u001b[0m\u001b[0mpop\u001b[0m\u001b[1;33m(\u001b[0m\u001b[0mindex\u001b[0m\u001b[1;33m=\u001b[0m\u001b[1;33m-\u001b[0m\u001b[1;36m1\u001b[0m\u001b[1;33m,\u001b[0m \u001b[1;33m/\u001b[0m\u001b[1;33m)\u001b[0m\u001b[1;33m\u001b[0m\u001b[1;33m\u001b[0m\u001b[0m\n",
       "\u001b[1;31mDocstring:\u001b[0m\n",
       "Remove and return item at index (default last).\n",
       "\n",
       "Raises IndexError if list is empty or index is out of range.\n",
       "\u001b[1;31mType:\u001b[0m      builtin_function_or_method\n"
      ]
     },
     "metadata": {},
     "output_type": "display_data"
    }
   ],
   "source": [
    "? l1.pop"
   ]
  },
  {
   "cell_type": "code",
   "execution_count": 528,
   "id": "worse-satin",
   "metadata": {},
   "outputs": [
    {
     "data": {
      "text/plain": [
       "[5, 6]"
      ]
     },
     "execution_count": 528,
     "metadata": {},
     "output_type": "execute_result"
    }
   ],
   "source": [
    "l1.pop(1)"
   ]
  },
  {
   "cell_type": "markdown",
   "id": "conscious-samoa",
   "metadata": {},
   "source": [
    "This method returns the index selected in this case the nested ```list``` ```[5,6]``` which was at index ```1```. This method mutates the ```list``` ```l1``` removing the popped value from it and assignong the popped value as the output."
   ]
  },
  {
   "cell_type": "code",
   "execution_count": 529,
   "id": "steady-little",
   "metadata": {},
   "outputs": [
    {
     "data": {
      "text/plain": [
       "[0, 2, 3, 4]"
      ]
     },
     "execution_count": 529,
     "metadata": {},
     "output_type": "execute_result"
    }
   ],
   "source": [
    "l1"
   ]
  },
  {
   "cell_type": "markdown",
   "id": "convinced-perfume",
   "metadata": {},
   "source": [
    "If the index is not specified, the last value will be popped."
   ]
  },
  {
   "cell_type": "code",
   "execution_count": 530,
   "id": "median-attack",
   "metadata": {},
   "outputs": [
    {
     "data": {
      "text/plain": [
       "4"
      ]
     },
     "execution_count": 530,
     "metadata": {},
     "output_type": "execute_result"
    }
   ],
   "source": [
    "l1.pop()"
   ]
  },
  {
   "cell_type": "code",
   "execution_count": 531,
   "id": "greek-heater",
   "metadata": {},
   "outputs": [
    {
     "data": {
      "text/plain": [
       "[0, 2, 3]"
      ]
     },
     "execution_count": 531,
     "metadata": {},
     "output_type": "execute_result"
    }
   ],
   "source": [
    "l1"
   ]
  },
  {
   "cell_type": "markdown",
   "id": "adapted-track",
   "metadata": {},
   "source": [
    "index unfortunately does not work as a keyword input argument."
   ]
  },
  {
   "cell_type": "markdown",
   "id": "obvious-latex",
   "metadata": {},
   "source": [
    "```l1.pop(index=1)```"
   ]
  },
  {
   "cell_type": "markdown",
   "id": "nutritional-hardware",
   "metadata": {},
   "source": [
    "![list_method_pop_TypeError](list_method_pop_TypeError.png)"
   ]
  },
  {
   "cell_type": "markdown",
   "id": "tribal-asthma",
   "metadata": {},
   "source": [
    "The list method ```clear``` removes all values in a list returning an empty list. It has no input arguments."
   ]
  },
  {
   "cell_type": "code",
   "execution_count": 532,
   "id": "palestinian-composer",
   "metadata": {},
   "outputs": [
    {
     "data": {
      "text/plain": [
       "\u001b[1;31mSignature:\u001b[0m  \u001b[0ml1\u001b[0m\u001b[1;33m.\u001b[0m\u001b[0mclear\u001b[0m\u001b[1;33m(\u001b[0m\u001b[1;33m)\u001b[0m\u001b[1;33m\u001b[0m\u001b[1;33m\u001b[0m\u001b[0m\n",
       "\u001b[1;31mDocstring:\u001b[0m Remove all items from list.\n",
       "\u001b[1;31mType:\u001b[0m      builtin_function_or_method\n"
      ]
     },
     "metadata": {},
     "output_type": "display_data"
    }
   ],
   "source": [
    "? l1.clear"
   ]
  },
  {
   "cell_type": "code",
   "execution_count": 533,
   "id": "stainless-artist",
   "metadata": {},
   "outputs": [],
   "source": [
    "l1.clear()"
   ]
  },
  {
   "cell_type": "markdown",
   "id": "declared-relative",
   "metadata": {},
   "source": [
    "This method mutates the ```list``` ```l1``` and there is no output."
   ]
  },
  {
   "cell_type": "code",
   "execution_count": 534,
   "id": "alpha-preference",
   "metadata": {},
   "outputs": [
    {
     "data": {
      "text/plain": [
       "[]"
      ]
     },
     "execution_count": 534,
     "metadata": {},
     "output_type": "execute_result"
    }
   ],
   "source": [
    "l1"
   ]
  },
  {
   "cell_type": "markdown",
   "id": "assumed-supply",
   "metadata": {},
   "source": [
    "### \\*args and \\*\\*kwargs"
   ]
  },
  {
   "cell_type": "markdown",
   "id": "floral-turkish",
   "metadata": {},
   "source": [
    "If we look at the ```list``` ```__init__``` signature in more detail we'll notice that it doesn't have a specified number of positional input arguments."
   ]
  },
  {
   "cell_type": "code",
   "execution_count": 535,
   "id": "broad-employee",
   "metadata": {},
   "outputs": [
    {
     "data": {
      "text/plain": [
       "\u001b[1;31mInit signature:\u001b[0m  \u001b[0mlist\u001b[0m\u001b[1;33m(\u001b[0m\u001b[0miterable\u001b[0m\u001b[1;33m=\u001b[0m\u001b[1;33m(\u001b[0m\u001b[1;33m)\u001b[0m\u001b[1;33m,\u001b[0m \u001b[1;33m/\u001b[0m\u001b[1;33m)\u001b[0m\u001b[1;33m\u001b[0m\u001b[1;33m\u001b[0m\u001b[0m\n",
       "\u001b[1;31mDocstring:\u001b[0m     \n",
       "Built-in mutable sequence.\n",
       "\n",
       "If no argument is given, the constructor creates a new empty list.\n",
       "The argument must be an iterable if specified.\n",
       "\u001b[1;31mType:\u001b[0m           type\n",
       "\u001b[1;31mSubclasses:\u001b[0m     _HashedSeq, StackSummary, DeferredConfigList, SList, _ImmutableLineList, FormattedText, NodeList, _ExplodedList, Stack, _Accumulator, ...\n"
      ]
     },
     "metadata": {},
     "output_type": "display_data"
    }
   ],
   "source": [
    "? list"
   ]
  },
  {
   "cell_type": "markdown",
   "id": "entire-median",
   "metadata": {},
   "source": [
    "To allow for multiple positional input arguments we can use ```*args```. We can iterate through this using a ```for``` loop."
   ]
  },
  {
   "cell_type": "code",
   "execution_count": 536,
   "id": "frozen-tension",
   "metadata": {},
   "outputs": [],
   "source": [
    "def varying_args(*args):\n",
    "    for value in args:\n",
    "        print(value)"
   ]
  },
  {
   "cell_type": "code",
   "execution_count": 537,
   "id": "limiting-lesbian",
   "metadata": {},
   "outputs": [
    {
     "name": "stdout",
     "output_type": "stream",
     "text": [
      "1\n"
     ]
    }
   ],
   "source": [
    "varying_args(1)"
   ]
  },
  {
   "cell_type": "code",
   "execution_count": 538,
   "id": "possible-harrison",
   "metadata": {},
   "outputs": [
    {
     "name": "stdout",
     "output_type": "stream",
     "text": [
      "1\n",
      "2\n"
     ]
    }
   ],
   "source": [
    "varying_args(1,2)"
   ]
  },
  {
   "cell_type": "code",
   "execution_count": 539,
   "id": "official-planet",
   "metadata": {},
   "outputs": [
    {
     "name": "stdout",
     "output_type": "stream",
     "text": [
      "1\n",
      "2\n",
      "3\n"
     ]
    }
   ],
   "source": [
    "varying_args(1,2,3)"
   ]
  },
  {
   "cell_type": "markdown",
   "id": "incomplete-dress",
   "metadata": {},
   "source": [
    "Alternatively to allow for multiple keyword input arguments we can use ```**kwargs```. Iterating through this is the same as iterating through a ```dict```."
   ]
  },
  {
   "cell_type": "code",
   "execution_count": 540,
   "id": "capital-survival",
   "metadata": {},
   "outputs": [],
   "source": [
    "def varying_kwargs(**kwargs):\n",
    "    for key,value in kwargs.items():\n",
    "        print(key,value)"
   ]
  },
  {
   "cell_type": "code",
   "execution_count": 541,
   "id": "ordinary-summer",
   "metadata": {},
   "outputs": [
    {
     "name": "stdout",
     "output_type": "stream",
     "text": [
      "a 1\n",
      "b 2\n",
      "c 3\n"
     ]
    }
   ],
   "source": [
    "varying_kwargs(a=1,b=2,c=3)"
   ]
  },
  {
   "cell_type": "markdown",
   "id": "curious-marking",
   "metadata": {},
   "source": [
    "We could take advantage of this functionality for example when making a ```sum``` function."
   ]
  },
  {
   "cell_type": "code",
   "execution_count": 542,
   "id": "sensitive-portugal",
   "metadata": {},
   "outputs": [],
   "source": [
    "def sum_args(*args):\n",
    "    sum_val=0\n",
    "    for val in args:\n",
    "        sum_val=sum_val+val\n",
    "    return(sum_val)"
   ]
  },
  {
   "cell_type": "code",
   "execution_count": 543,
   "id": "postal-diamond",
   "metadata": {},
   "outputs": [
    {
     "data": {
      "text/plain": [
       "1"
      ]
     },
     "execution_count": 543,
     "metadata": {},
     "output_type": "execute_result"
    }
   ],
   "source": [
    "sum_args(1)"
   ]
  },
  {
   "cell_type": "code",
   "execution_count": 544,
   "id": "compatible-asian",
   "metadata": {},
   "outputs": [
    {
     "data": {
      "text/plain": [
       "3"
      ]
     },
     "execution_count": 544,
     "metadata": {},
     "output_type": "execute_result"
    }
   ],
   "source": [
    "sum_args(1,2)"
   ]
  },
  {
   "cell_type": "code",
   "execution_count": 545,
   "id": "ranking-playing",
   "metadata": {},
   "outputs": [
    {
     "data": {
      "text/plain": [
       "6"
      ]
     },
     "execution_count": 545,
     "metadata": {},
     "output_type": "execute_result"
    }
   ],
   "source": [
    "sum_args(1,2,3)"
   ]
  },
  {
   "cell_type": "markdown",
   "id": "gross-former",
   "metadata": {},
   "source": [
    "Because we haven't checked the types of input arguments we get the following error."
   ]
  },
  {
   "cell_type": "markdown",
   "id": "fleet-extra",
   "metadata": {},
   "source": [
    "```sum_args(1,'a')```"
   ]
  },
  {
   "cell_type": "markdown",
   "id": "voluntary-canada",
   "metadata": {},
   "source": [
    "![args_TypeError](args_TypeError.png)"
   ]
  },
  {
   "cell_type": "code",
   "execution_count": 546,
   "id": "pregnant-mambo",
   "metadata": {},
   "outputs": [],
   "source": [
    "def sum_args(*args):\n",
    "    sum_val=0\n",
    "    for val in args:\n",
    "        try:\n",
    "            assert (type(val)==int or type(val)==float)\n",
    "            sum_val=sum_val+val\n",
    "        except AssertionError:\n",
    "            sum_val='NaN'\n",
    "            print('all input arguments must be int or float')\n",
    "            return(sum_val)\n",
    "    return(sum_val)"
   ]
  },
  {
   "cell_type": "code",
   "execution_count": 547,
   "id": "declared-citation",
   "metadata": {},
   "outputs": [
    {
     "data": {
      "text/plain": [
       "1"
      ]
     },
     "execution_count": 547,
     "metadata": {},
     "output_type": "execute_result"
    }
   ],
   "source": [
    "sum_args(1)"
   ]
  },
  {
   "cell_type": "code",
   "execution_count": 548,
   "id": "optimum-leader",
   "metadata": {},
   "outputs": [
    {
     "data": {
      "text/plain": [
       "3"
      ]
     },
     "execution_count": 548,
     "metadata": {},
     "output_type": "execute_result"
    }
   ],
   "source": [
    "sum_args(1,2)"
   ]
  },
  {
   "cell_type": "code",
   "execution_count": 549,
   "id": "copyrighted-addition",
   "metadata": {},
   "outputs": [
    {
     "data": {
      "text/plain": [
       "6"
      ]
     },
     "execution_count": 549,
     "metadata": {},
     "output_type": "execute_result"
    }
   ],
   "source": [
    "sum_args(1,2,3)"
   ]
  },
  {
   "cell_type": "code",
   "execution_count": 550,
   "id": "eight-buying",
   "metadata": {},
   "outputs": [
    {
     "name": "stdout",
     "output_type": "stream",
     "text": [
      "all input arguments must be int or float\n"
     ]
    },
    {
     "data": {
      "text/plain": [
       "'NaN'"
      ]
     },
     "execution_count": 550,
     "metadata": {},
     "output_type": "execute_result"
    }
   ],
   "source": [
    "sum_args(1,'a')"
   ]
  },
  {
   "cell_type": "markdown",
   "id": "classical-hybrid",
   "metadata": {},
   "source": [
    "This behaviour is useful for a ```arange``` function. We can count the number of input arguments being received and enact slightly different behaviour depending on the number of input arguments."
   ]
  },
  {
   "cell_type": "code",
   "execution_count": 551,
   "id": "hazardous-cement",
   "metadata": {},
   "outputs": [],
   "source": [
    "def arange(*args):\n",
    "    '''\n",
    "    This function can take 1-3 input arguments.\n",
    "    1 input argument a. start=0, stop=a, step=1\n",
    "    2 input arguments a and b. start=a, stop=b, step=1\n",
    "    3 input arguments a, b and c. start=1, stop=b, step=c\n",
    "    '''\n",
    "    for val in args:\n",
    "        try:\n",
    "            assert (type(val)==int or type(val)==float)\n",
    "        except AssertionError:\n",
    "            data='NaN'\n",
    "            print('all input arguments must be int or float')\n",
    "            return(data)\n",
    "    if len(args)==0:\n",
    "        print('invalid number of user arguments')\n",
    "        data='NaN'\n",
    "        return(data)\n",
    "    elif len(args)==1:\n",
    "        start=0\n",
    "        stop=args[0]\n",
    "        step=1\n",
    "        data=[]\n",
    "        val=start\n",
    "        while val<stop:\n",
    "            data.append(val)\n",
    "            val+=1\n",
    "        return(data)\n",
    "    elif len(args)==2:\n",
    "        start=args[0]\n",
    "        stop=args[1]\n",
    "        step=1\n",
    "        data=[]\n",
    "        val=start\n",
    "        while val<stop:\n",
    "            data.append(val)\n",
    "            val+=1\n",
    "        return(data)\n",
    "    elif len(args)==3:\n",
    "        start=args[0]\n",
    "        stop=args[1]\n",
    "        step=args[2]\n",
    "        data=[]\n",
    "        val=start\n",
    "        if step>0:\n",
    "            while val<stop:\n",
    "                data.append(val)\n",
    "                val+=step\n",
    "            return(data)\n",
    "        else:\n",
    "            while val>stop:\n",
    "                data.append(val)\n",
    "                val+=step\n",
    "            return(data)\n",
    "    else:\n",
    "        print('invalid number of user arguments')\n",
    "        data='NaN'\n",
    "        return(data)"
   ]
  },
  {
   "cell_type": "markdown",
   "id": "domestic-product",
   "metadata": {},
   "source": [
    "Let's now check the behaviour of the function ```arange```."
   ]
  },
  {
   "cell_type": "code",
   "execution_count": 552,
   "id": "early-simple",
   "metadata": {},
   "outputs": [
    {
     "data": {
      "text/plain": [
       "\u001b[1;31mSignature:\u001b[0m  \u001b[0marange\u001b[0m\u001b[1;33m(\u001b[0m\u001b[1;33m*\u001b[0m\u001b[0margs\u001b[0m\u001b[1;33m)\u001b[0m\u001b[1;33m\u001b[0m\u001b[1;33m\u001b[0m\u001b[0m\n",
       "\u001b[1;31mDocstring:\u001b[0m\n",
       "This function can take 1-3 input arguments.\n",
       "1 input argument a. start=0, stop=a, step=1\n",
       "2 input arguments a and b. start=a, stop=b, step=1\n",
       "3 input arguments a, b and c. start=1, stop=b, step=c\n",
       "\u001b[1;31mFile:\u001b[0m      c:\\users\\phili\\documents\\1. object orientated programming\\<ipython-input-551-e9fb38244a39>\n",
       "\u001b[1;31mType:\u001b[0m      function\n"
      ]
     },
     "metadata": {},
     "output_type": "display_data"
    }
   ],
   "source": [
    "? arange"
   ]
  },
  {
   "cell_type": "markdown",
   "id": "tested-florence",
   "metadata": {},
   "source": [
    "![arange_custom_function](arange_custom_function.png)"
   ]
  },
  {
   "cell_type": "markdown",
   "id": "resistant-metadata",
   "metadata": {},
   "source": [
    "Now we can try to call it using the following scenarios."
   ]
  },
  {
   "cell_type": "code",
   "execution_count": 553,
   "id": "thorough-recall",
   "metadata": {},
   "outputs": [
    {
     "name": "stdout",
     "output_type": "stream",
     "text": [
      "invalid number of user arguments\n"
     ]
    },
    {
     "data": {
      "text/plain": [
       "'NaN'"
      ]
     },
     "execution_count": 553,
     "metadata": {},
     "output_type": "execute_result"
    }
   ],
   "source": [
    "arange()"
   ]
  },
  {
   "cell_type": "code",
   "execution_count": 554,
   "id": "initial-chaos",
   "metadata": {},
   "outputs": [
    {
     "data": {
      "text/plain": [
       "[0, 1, 2, 3, 4]"
      ]
     },
     "execution_count": 554,
     "metadata": {},
     "output_type": "execute_result"
    }
   ],
   "source": [
    "arange(5)"
   ]
  },
  {
   "cell_type": "code",
   "execution_count": 555,
   "id": "configured-adolescent",
   "metadata": {},
   "outputs": [
    {
     "data": {
      "text/plain": [
       "[1, 2, 3, 4]"
      ]
     },
     "execution_count": 555,
     "metadata": {},
     "output_type": "execute_result"
    }
   ],
   "source": [
    "arange(1,5)"
   ]
  },
  {
   "cell_type": "code",
   "execution_count": 556,
   "id": "favorite-helicopter",
   "metadata": {},
   "outputs": [
    {
     "data": {
      "text/plain": [
       "[1, 1.5, 2.0, 2.5, 3.0, 3.5, 4.0, 4.5]"
      ]
     },
     "execution_count": 556,
     "metadata": {},
     "output_type": "execute_result"
    }
   ],
   "source": [
    "arange(1,5,0.5)"
   ]
  },
  {
   "cell_type": "code",
   "execution_count": 557,
   "id": "alternative-receptor",
   "metadata": {},
   "outputs": [
    {
     "name": "stdout",
     "output_type": "stream",
     "text": [
      "invalid number of user arguments\n"
     ]
    },
    {
     "data": {
      "text/plain": [
       "'NaN'"
      ]
     },
     "execution_count": 557,
     "metadata": {},
     "output_type": "execute_result"
    }
   ],
   "source": [
    "arange(1,5,1,1)"
   ]
  },
  {
   "cell_type": "code",
   "execution_count": 558,
   "id": "adverse-camel",
   "metadata": {},
   "outputs": [
    {
     "name": "stdout",
     "output_type": "stream",
     "text": [
      "all input arguments must be int or float\n"
     ]
    },
    {
     "data": {
      "text/plain": [
       "'NaN'"
      ]
     },
     "execution_count": 558,
     "metadata": {},
     "output_type": "execute_result"
    }
   ],
   "source": [
    "arange('a',5,0.5)"
   ]
  },
  {
   "cell_type": "code",
   "execution_count": 559,
   "id": "surprised-smart",
   "metadata": {},
   "outputs": [
    {
     "data": {
      "text/plain": [
       "[]"
      ]
     },
     "execution_count": 559,
     "metadata": {},
     "output_type": "execute_result"
    }
   ],
   "source": [
    "arange(1,5,-1)"
   ]
  },
  {
   "cell_type": "code",
   "execution_count": 560,
   "id": "exposed-programming",
   "metadata": {},
   "outputs": [
    {
     "data": {
      "text/plain": [
       "[5, 4, 3, 2]"
      ]
     },
     "execution_count": 560,
     "metadata": {},
     "output_type": "execute_result"
    }
   ],
   "source": [
    "arange(5,1,-1)"
   ]
  },
  {
   "cell_type": "markdown",
   "id": "black-watershed",
   "metadata": {},
   "source": [
    "We may also use ```*args``` or ```**kwargs``` to unpack a ```tuple``` or ```list``` to a series of input arguments or a ```dict``` to a series of keyword input arguments."
   ]
  },
  {
   "cell_type": "code",
   "execution_count": 561,
   "id": "french-hawaii",
   "metadata": {},
   "outputs": [],
   "source": [
    "def fun(a,b,c):\n",
    "    return(a+b+c)"
   ]
  },
  {
   "cell_type": "code",
   "execution_count": 562,
   "id": "innocent-advocacy",
   "metadata": {},
   "outputs": [],
   "source": [
    "l1=[1,2,3]"
   ]
  },
  {
   "cell_type": "code",
   "execution_count": 563,
   "id": "speaking-suite",
   "metadata": {},
   "outputs": [
    {
     "data": {
      "text/plain": [
       "6"
      ]
     },
     "execution_count": 563,
     "metadata": {},
     "output_type": "execute_result"
    }
   ],
   "source": [
    "fun(*l1)"
   ]
  },
  {
   "cell_type": "code",
   "execution_count": 564,
   "id": "median-tampa",
   "metadata": {},
   "outputs": [],
   "source": [
    "def fun(a=0,b=0,c=0):\n",
    "    return(a+b+c)"
   ]
  },
  {
   "cell_type": "code",
   "execution_count": 565,
   "id": "sitting-franklin",
   "metadata": {},
   "outputs": [],
   "source": [
    "d1={'a':1,'b':2,'c':3}"
   ]
  },
  {
   "cell_type": "code",
   "execution_count": 566,
   "id": "adequate-pride",
   "metadata": {},
   "outputs": [
    {
     "data": {
      "text/plain": [
       "6"
      ]
     },
     "execution_count": 566,
     "metadata": {},
     "output_type": "execute_result"
    }
   ],
   "source": [
    "fun(**d1)"
   ]
  },
  {
   "cell_type": "markdown",
   "id": "composed-baghdad",
   "metadata": {},
   "source": [
    "```*args``` and ```**kwargs``` can be used to supply the appropriate arguments to the parent ```class``` method of an inbuilt ```class```. Let's use the ```int``` ```class``` as a parent ```class``` and assign the attribute ```value``` which will correspond to the number input."
   ]
  },
  {
   "cell_type": "code",
   "execution_count": 567,
   "id": "optical-screening",
   "metadata": {},
   "outputs": [],
   "source": [
    "class Scalar(int):\n",
    "    def __init__(self,value,*args):\n",
    "        self.value=value\n",
    "        super(Scalar,self).__init__(*args)"
   ]
  },
  {
   "cell_type": "markdown",
   "id": "hispanic-conservative",
   "metadata": {},
   "source": [
    "We can instantiate two instances and see this attribute ```value``` works as expected."
   ]
  },
  {
   "cell_type": "code",
   "execution_count": 568,
   "id": "burning-grass",
   "metadata": {},
   "outputs": [],
   "source": [
    "a=Scalar(5)"
   ]
  },
  {
   "cell_type": "code",
   "execution_count": 569,
   "id": "threaded-cricket",
   "metadata": {},
   "outputs": [
    {
     "data": {
      "text/plain": [
       "5"
      ]
     },
     "execution_count": 569,
     "metadata": {},
     "output_type": "execute_result"
    }
   ],
   "source": [
    "a.value"
   ]
  },
  {
   "cell_type": "code",
   "execution_count": 570,
   "id": "middle-understanding",
   "metadata": {},
   "outputs": [],
   "source": [
    "b=Scalar(6)"
   ]
  },
  {
   "cell_type": "code",
   "execution_count": 571,
   "id": "black-relief",
   "metadata": {},
   "outputs": [
    {
     "data": {
      "text/plain": [
       "6"
      ]
     },
     "execution_count": 571,
     "metadata": {},
     "output_type": "execute_result"
    }
   ],
   "source": [
    "b.value"
   ]
  },
  {
   "cell_type": "markdown",
   "id": "wanted-greenhouse",
   "metadata": {},
   "source": [
    "Otherwise we can see have inherited all we need from the ```__init__``` signature of the parent ```class```."
   ]
  },
  {
   "cell_type": "code",
   "execution_count": 572,
   "id": "weird-jamaica",
   "metadata": {},
   "outputs": [
    {
     "data": {
      "text/plain": [
       "11"
      ]
     },
     "execution_count": 572,
     "metadata": {},
     "output_type": "execute_result"
    }
   ],
   "source": [
    "a+b"
   ]
  },
  {
   "cell_type": "code",
   "execution_count": 573,
   "id": "consolidated-stadium",
   "metadata": {},
   "outputs": [
    {
     "data": {
      "text/plain": [
       "-1"
      ]
     },
     "execution_count": 573,
     "metadata": {},
     "output_type": "execute_result"
    }
   ],
   "source": [
    "a-b"
   ]
  },
  {
   "cell_type": "code",
   "execution_count": 574,
   "id": "boxed-player",
   "metadata": {},
   "outputs": [
    {
     "data": {
      "text/plain": [
       "30"
      ]
     },
     "execution_count": 574,
     "metadata": {},
     "output_type": "execute_result"
    }
   ],
   "source": [
    "a*b"
   ]
  }
 ],
 "metadata": {
  "kernelspec": {
   "display_name": "Python 3",
   "language": "python",
   "name": "python3"
  },
  "language_info": {
   "codemirror_mode": {
    "name": "ipython",
    "version": 3
   },
   "file_extension": ".py",
   "mimetype": "text/x-python",
   "name": "python",
   "nbconvert_exporter": "python",
   "pygments_lexer": "ipython3",
   "version": "3.8.5"
  }
 },
 "nbformat": 4,
 "nbformat_minor": 5
}
