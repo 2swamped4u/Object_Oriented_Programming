{
 "cells": [
  {
   "cell_type": "markdown",
   "id": "equipped-namibia",
   "metadata": {},
   "source": [
    "# Object Orientated Programming"
   ]
  },
  {
   "cell_type": "markdown",
   "id": "empirical-classic",
   "metadata": {},
   "source": [
    "This is a beginner guide exploring the concepts behind object orientated programming using the Python programming language. This can be viewed in the browser however the Interactive Python Notebook File can also be opened in JupyterLab. Instructions are given below for installing JupyterLab."
   ]
  },
  {
   "cell_type": "markdown",
   "id": "empirical-adventure",
   "metadata": {},
   "source": [
    "## Installing Python, Anaconda and JupyterLab3"
   ]
  },
  {
   "cell_type": "markdown",
   "id": "intelligent-emerald",
   "metadata": {},
   "source": [
    "It is recommended to install the Anaconda Python Distribution. The Anaconda Python Distribution contains the Python programming language, plus a number of Python libraries which are commonly used for data science (this particular guide will only look at the Python Programming language and won't delve into other libraries) and a number of Integrated Developer Environments (IDEs) which allow the user to interface with Python. The Spyder and JupyterLab IDEs are particularly good for begineers and geared towards data scientists. The JupyterLab IDE allows one to write code within a Notebook file which can contain code and markdown cells (test, Latex equations, links and pictures). This document is written in JupyterLab and this guide focuses on using JupyterLab."
   ]
  },
  {
   "cell_type": "markdown",
   "id": "oriental-slope",
   "metadata": {},
   "source": [
    "Installation instructions are below and an installation video is available on YouTube."
   ]
  },
  {
   "cell_type": "markdown",
   "id": "passing-arthur",
   "metadata": {},
   "source": [
    "[Anaconda Installation Video (Windows 10)](https://www.youtube.com/watch?v=q8cMRt3w04Q)"
   ]
  },
  {
   "cell_type": "markdown",
   "id": "optical-netherlands",
   "metadata": {},
   "source": [
    "### Installing Anaconda"
   ]
  },
  {
   "cell_type": "markdown",
   "id": "sporting-tuning",
   "metadata": {},
   "source": [
    "__[Anaconda Individual Edition Download](https://www.anaconda.com/products/individual)__"
   ]
  },
  {
   "cell_type": "markdown",
   "id": "lesbian-briefs",
   "metadata": {},
   "source": [
    "Select your Operating System and install the 64 Bit option. I will use Windows 10 as an example."
   ]
  },
  {
   "cell_type": "markdown",
   "id": "legitimate-genius",
   "metadata": {},
   "source": [
    "![Anaconda_1](Anaconda_1.png)"
   ]
  },
  {
   "cell_type": "markdown",
   "id": "smart-progress",
   "metadata": {},
   "source": [
    "Once Anaconda is downloaded, launch the setup."
   ]
  },
  {
   "cell_type": "markdown",
   "id": "loose-faculty",
   "metadata": {},
   "source": [
    "![Anaconda_2](Anaconda_2.png)"
   ]
  },
  {
   "cell_type": "markdown",
   "id": "toxic-speed",
   "metadata": {},
   "source": [
    "Select next."
   ]
  },
  {
   "cell_type": "markdown",
   "id": "bigger-subcommittee",
   "metadata": {},
   "source": [
    "![Anaconda_3](Anaconda_3.png)"
   ]
  },
  {
   "cell_type": "markdown",
   "id": "funded-population",
   "metadata": {},
   "source": [
    "Read the End User Licence Agreement and select I Agree."
   ]
  },
  {
   "cell_type": "markdown",
   "id": "cheap-expense",
   "metadata": {},
   "source": [
    "![Anaconda_4](Anaconda_4.png)"
   ]
  },
  {
   "cell_type": "markdown",
   "id": "charming-model",
   "metadata": {},
   "source": [
    "![Anaconda_Launch](Anaconda_Launch.png)"
   ]
  },
  {
   "cell_type": "markdown",
   "id": "surface-legislature",
   "metadata": {},
   "source": [
    "Select Just Me and then Next."
   ]
  },
  {
   "cell_type": "markdown",
   "id": "worthy-commander",
   "metadata": {},
   "source": [
    "![Anaconda_5](Anaconda_5.png)"
   ]
  },
  {
   "cell_type": "markdown",
   "id": "sophisticated-lender",
   "metadata": {},
   "source": [
    "Anaconda will be installed by default within your User Directory. Select Next."
   ]
  },
  {
   "cell_type": "markdown",
   "id": "champion-revolution",
   "metadata": {},
   "source": [
    "![Anaconda_6](Anaconda_6.png)"
   ]
  },
  {
   "cell_type": "markdown",
   "id": "worse-civilization",
   "metadata": {},
   "source": [
    "It is recommended to use the default options. Select Install."
   ]
  },
  {
   "cell_type": "markdown",
   "id": "brave-origin",
   "metadata": {},
   "source": [
    "![Anaconda_7](Anaconda_7.png)"
   ]
  },
  {
   "cell_type": "markdown",
   "id": "architectural-timeline",
   "metadata": {},
   "source": [
    "Select Next."
   ]
  },
  {
   "cell_type": "markdown",
   "id": "biblical-grass",
   "metadata": {},
   "source": [
    "![Anaconda_8](Anaconda_8.png)"
   ]
  },
  {
   "cell_type": "markdown",
   "id": "foreign-newcastle",
   "metadata": {},
   "source": [
    "Select Next."
   ]
  },
  {
   "cell_type": "markdown",
   "id": "dynamic-helicopter",
   "metadata": {},
   "source": [
    "![Anaconda_9](Anaconda_9.png)"
   ]
  },
  {
   "cell_type": "markdown",
   "id": "passive-disclaimer",
   "metadata": {},
   "source": [
    "Anaconda is installed. Now select Finish."
   ]
  },
  {
   "cell_type": "markdown",
   "id": "unexpected-smooth",
   "metadata": {},
   "source": [
    "![Anaconda_10](Anaconda_10.png)"
   ]
  },
  {
   "cell_type": "markdown",
   "id": "identical-anaheim",
   "metadata": {},
   "source": [
    "### Updating Anaconda and JupyterLab"
   ]
  },
  {
   "cell_type": "markdown",
   "id": "arctic-yellow",
   "metadata": {},
   "source": [
    "There are likely updates for the Anaconda installation. You will need to update it by using the Anaconda Powershell Prompt."
   ]
  },
  {
   "cell_type": "markdown",
   "id": "prescribed-contrary",
   "metadata": {},
   "source": [
    "![JupyterLab_Install1](JupyterLab_Install1.png)"
   ]
  },
  {
   "cell_type": "markdown",
   "id": "existing-genealogy",
   "metadata": {},
   "source": [
    "Copy and paste the following line of code and then press ↵."
   ]
  },
  {
   "cell_type": "markdown",
   "id": "latter-engineering",
   "metadata": {},
   "source": [
    "```conda update anaconda```"
   ]
  },
  {
   "cell_type": "markdown",
   "id": "direct-support",
   "metadata": {},
   "source": [
    "![anaconda_update1](anaconda_update1.png)"
   ]
  },
  {
   "cell_type": "markdown",
   "id": "committed-weekly",
   "metadata": {},
   "source": [
    "To proceed with the install type in."
   ]
  },
  {
   "cell_type": "markdown",
   "id": "accessory-worthy",
   "metadata": {},
   "source": [
    "```y```"
   ]
  },
  {
   "cell_type": "markdown",
   "id": "better-pulse",
   "metadata": {},
   "source": [
    "Followed by ↵."
   ]
  },
  {
   "cell_type": "markdown",
   "id": "ongoing-provider",
   "metadata": {},
   "source": [
    "![anaconda_update2](anaconda_update2.png)"
   ]
  },
  {
   "cell_type": "markdown",
   "id": "multiple-union",
   "metadata": {},
   "source": [
    "When the ```(base) C:\\\\Users\\\\Yourname>``` displays the update is finished. The Anaconda installation should now be up to date."
   ]
  },
  {
   "cell_type": "markdown",
   "id": "twenty-lyric",
   "metadata": {},
   "source": [
    "![anaconda_update3](anaconda_update3.png)"
   ]
  },
  {
   "cell_type": "markdown",
   "id": "turned-elite",
   "metadata": {},
   "source": [
    "The version of JupyterLab included with the Anaconda distribution is version 2. To get the latest version of version 3, we need to install version 3 from the conda-forge channel. To do this type in."
   ]
  },
  {
   "cell_type": "markdown",
   "id": "funny-merchandise",
   "metadata": {},
   "source": [
    "```conda install -c conda-forge jupyterlab=3```"
   ]
  },
  {
   "cell_type": "markdown",
   "id": "swedish-conclusion",
   "metadata": {},
   "source": [
    "![JupyterLab_Install2](JupyterLab_Install2.png)"
   ]
  },
  {
   "cell_type": "markdown",
   "id": "addressed-comment",
   "metadata": {},
   "source": [
    "To proceed with the install once again type in."
   ]
  },
  {
   "cell_type": "markdown",
   "id": "chief-tribe",
   "metadata": {},
   "source": [
    "```y```"
   ]
  },
  {
   "cell_type": "markdown",
   "id": "broad-vintage",
   "metadata": {},
   "source": [
    "![JupyterLab_Install3](JupyterLab_Install3.png)"
   ]
  },
  {
   "cell_type": "markdown",
   "id": "national-alignment",
   "metadata": {},
   "source": [
    "JupyterLab should now be installed."
   ]
  },
  {
   "cell_type": "markdown",
   "id": "martial-senate",
   "metadata": {},
   "source": [
    "![JupyterLab_Install4](JupyterLab_Install4.png)"
   ]
  },
  {
   "cell_type": "markdown",
   "id": "grave-catalyst",
   "metadata": {},
   "source": [
    "Launch the Anaconda Navigator."
   ]
  },
  {
   "cell_type": "markdown",
   "id": "grand-reserve",
   "metadata": {},
   "source": [
    "![Anaconda_Launch](Anaconda_Launch.png)"
   ]
  },
  {
   "cell_type": "markdown",
   "id": "valuable-tablet",
   "metadata": {},
   "source": [
    "### Launching JupyterLab"
   ]
  },
  {
   "cell_type": "markdown",
   "id": "presidential-glory",
   "metadata": {},
   "source": [
    "From the Anaconda Navigator you can launch JupyterLab."
   ]
  },
  {
   "cell_type": "markdown",
   "id": "disturbed-conversion",
   "metadata": {},
   "source": [
    "![JupyterLab_Launch1](JupyterLab_Launch1.png)"
   ]
  },
  {
   "cell_type": "markdown",
   "id": "planned-function",
   "metadata": {},
   "source": [
    "JupyterLab will now display within your browser. To the left hand side is a file explorer. To the right side is a launcher."
   ]
  },
  {
   "cell_type": "markdown",
   "id": "liable-appraisal",
   "metadata": {},
   "source": [
    "![JupyterLab_Launch2](JupyterLab_Launch2.png)"
   ]
  },
  {
   "cell_type": "markdown",
   "id": "requested-miller",
   "metadata": {},
   "source": [
    "### Downloading and Opening the Interactive Python Notebook (IPYNB) File from GitHub"
   ]
  },
  {
   "cell_type": "markdown",
   "id": "successful-inclusion",
   "metadata": {},
   "source": [
    "The folder containing all embedded images and this JupyterLab Notebook should be downloaded as a zip file from GitHub and extracted to a folder of your desired location."
   ]
  },
  {
   "cell_type": "markdown",
   "id": "permanent-option",
   "metadata": {},
   "source": [
    "__[GitHub Object Orientated Programming](https://github.com/PhilipYip1988/1-object-orientated-programming)__"
   ]
  },
  {
   "cell_type": "markdown",
   "id": "other-calibration",
   "metadata": {},
   "source": [
    "![GitHub](GitHub.png)"
   ]
  },
  {
   "cell_type": "markdown",
   "id": "considered-phrase",
   "metadata": {},
   "source": [
    "Navigate to your extracted folder and open up objectorientatedprogramming.ipynb"
   ]
  },
  {
   "cell_type": "markdown",
   "id": "decimal-passenger",
   "metadata": {},
   "source": [
    "![OpenJupterLabNotebook](OpenJupterLabNotebook.png)"
   ]
  },
  {
   "cell_type": "markdown",
   "id": "personalized-passion",
   "metadata": {},
   "source": [
    "Because it has a number of images embedded it will take a minute or so to load."
   ]
  },
  {
   "cell_type": "markdown",
   "id": "responsible-springer",
   "metadata": {},
   "source": [
    "![OpenJupterLabNotebook2](OpenJupterLabNotebook2.png)"
   ]
  },
  {
   "cell_type": "markdown",
   "id": "residential-officer",
   "metadata": {},
   "source": [
    "The notebook will display."
   ]
  },
  {
   "cell_type": "markdown",
   "id": "colored-static",
   "metadata": {},
   "source": [
    "![OpenJupterLabNotebook3](OpenJupterLabNotebook3.png)"
   ]
  },
  {
   "cell_type": "markdown",
   "id": "behind-belly",
   "metadata": {},
   "source": [
    "You can select Kernel and either Restart Kernel and Clear All Outputs (if you want to look at the Notebook cell by cell) or Restart Kernal and Run All Cells (if you want to quickly scroll through it)."
   ]
  },
  {
   "cell_type": "markdown",
   "id": "federal-longitude",
   "metadata": {},
   "source": [
    "![OpenJupterLabNotebook4](OpenJupterLabNotebook4.png)"
   ]
  },
  {
   "cell_type": "markdown",
   "id": "parliamentary-passion",
   "metadata": {},
   "source": [
    "To the left hand side you can select the Notebook bookmarks."
   ]
  },
  {
   "cell_type": "markdown",
   "id": "endangered-fetish",
   "metadata": {},
   "source": [
    "![OpenJupterLabNotebook5](OpenJupterLabNotebook5.png)"
   ]
  },
  {
   "cell_type": "markdown",
   "id": "sonic-spice",
   "metadata": {},
   "source": [
    "Now we will begin to explore the Python Language and Object Orientated Programming OOP. The contents of this JupyterLab notebook are covered in a YouTube Video."
   ]
  },
  {
   "cell_type": "markdown",
   "id": "editorial-document",
   "metadata": {},
   "source": [
    "[Python Programming and Object Orientated Programming using the JupyterLab IDE](https://www.youtube.com/watch?v=dIDOzqKcc04)"
   ]
  },
  {
   "cell_type": "markdown",
   "id": "compatible-updating",
   "metadata": {},
   "source": [
    "## Useful Shortcut Keys"
   ]
  },
  {
   "cell_type": "markdown",
   "id": "sixth-boring",
   "metadata": {},
   "source": [
    "```Esc```+```m``` converts the currently selected cell to a markdown cell."
   ]
  },
  {
   "cell_type": "markdown",
   "id": "removable-freeware",
   "metadata": {},
   "source": [
    "```⇧```+```↵``` runs the currently highlighted cell."
   ]
  },
  {
   "cell_type": "markdown",
   "id": "steady-medicine",
   "metadata": {},
   "source": [
    "```.``` and ```↹``` will look up the list of methods and attributes available to be called from an object."
   ]
  },
  {
   "cell_type": "markdown",
   "id": "perfect-buying",
   "metadata": {},
   "source": [
    "```⇧``` and ```↹``` will give details about the input arguments in a function, method or when initilizing a class."
   ]
  },
  {
   "cell_type": "markdown",
   "id": "confused-street",
   "metadata": {},
   "source": [
    "## Numeric Variables"
   ]
  },
  {
   "cell_type": "markdown",
   "id": "baking-delta",
   "metadata": {},
   "source": [
    "### Integer Numbers (int)"
   ]
  },
  {
   "cell_type": "markdown",
   "id": "valuable-sitting",
   "metadata": {},
   "source": [
    "Python recognises numeric integer values for example."
   ]
  },
  {
   "cell_type": "code",
   "execution_count": 1,
   "id": "accepted-vertex",
   "metadata": {},
   "outputs": [
    {
     "data": {
      "text/plain": [
       "1"
      ]
     },
     "execution_count": 1,
     "metadata": {},
     "output_type": "execute_result"
    }
   ],
   "source": [
    "1"
   ]
  },
  {
   "cell_type": "markdown",
   "id": "dated-saskatchewan",
   "metadata": {},
   "source": [
    "It also recognises numeric operators such as:\n",
    "* (```+``` add) which adds the 0th number (self) to the 1st number (other)\n",
    "* (```-``` sub) which takes the 0th number (self) and subtracts the 1st number (other)\n",
    "* (```*``` mul) which multiplies the 0th number (self) and the 1st number (other)\n",
    "* (```**``` pow) which gives the 0th number (self) to the power of the 1st number (other)"
   ]
  },
  {
   "cell_type": "code",
   "execution_count": 2,
   "id": "monetary-reverse",
   "metadata": {},
   "outputs": [
    {
     "data": {
      "text/plain": [
       "3"
      ]
     },
     "execution_count": 2,
     "metadata": {},
     "output_type": "execute_result"
    }
   ],
   "source": [
    "1+2"
   ]
  },
  {
   "cell_type": "code",
   "execution_count": 3,
   "id": "characteristic-hartford",
   "metadata": {},
   "outputs": [
    {
     "data": {
      "text/plain": [
       "1"
      ]
     },
     "execution_count": 3,
     "metadata": {},
     "output_type": "execute_result"
    }
   ],
   "source": [
    "2-1"
   ]
  },
  {
   "cell_type": "code",
   "execution_count": 4,
   "id": "proved-wiring",
   "metadata": {},
   "outputs": [
    {
     "data": {
      "text/plain": [
       "4"
      ]
     },
     "execution_count": 4,
     "metadata": {},
     "output_type": "execute_result"
    }
   ],
   "source": [
    "2*2"
   ]
  },
  {
   "cell_type": "code",
   "execution_count": 5,
   "id": "wireless-distinction",
   "metadata": {},
   "outputs": [
    {
     "data": {
      "text/plain": [
       "8"
      ]
     },
     "execution_count": 5,
     "metadata": {},
     "output_type": "execute_result"
    }
   ],
   "source": [
    "2**3"
   ]
  },
  {
   "cell_type": "markdown",
   "id": "maritime-invitation",
   "metadata": {},
   "source": [
    "All the numbers above are objects. Python is an object orientated programming language. The object type can be checked by use of the function type. If the function type is called without parenthesis the return statement will just tell us we have used the function type (which isn't so useful)."
   ]
  },
  {
   "cell_type": "code",
   "execution_count": 6,
   "id": "confident-daniel",
   "metadata": {},
   "outputs": [
    {
     "data": {
      "text/plain": [
       "type"
      ]
     },
     "execution_count": 6,
     "metadata": {},
     "output_type": "execute_result"
    }
   ],
   "source": [
    "type"
   ]
  },
  {
   "cell_type": "markdown",
   "id": "fantastic-compact",
   "metadata": {},
   "source": [
    "A function uses parenthesis to enclose its input arguments. Details about the input arguments can be found by typing in the function followed by tab ↹ and shift ⇧. In this case we see that there is a single positional input argument self (or object)."
   ]
  },
  {
   "cell_type": "markdown",
   "id": "steady-treasury",
   "metadata": {},
   "source": [
    "![function_type](function_type.png)"
   ]
  },
  {
   "cell_type": "markdown",
   "id": "marked-coast",
   "metadata": {},
   "source": [
    "For example we can use the number 4 as the object."
   ]
  },
  {
   "cell_type": "code",
   "execution_count": 7,
   "id": "suspected-world",
   "metadata": {},
   "outputs": [
    {
     "data": {
      "text/plain": [
       "int"
      ]
     },
     "execution_count": 7,
     "metadata": {},
     "output_type": "execute_result"
    }
   ],
   "source": [
    "type(4)"
   ]
  },
  {
   "cell_type": "markdown",
   "id": "smaller-antibody",
   "metadata": {},
   "source": [
    "We see that the type returns ```int``` (an abbreviation for integer) meaning it corresponds to a whole number. "
   ]
  },
  {
   "cell_type": "markdown",
   "id": "ethical-mathematics",
   "metadata": {},
   "source": [
    "We can use \n",
    "* (```//``` truediv) which takes the 0th number (self) and divides it by the 1st number (other) to return an integer. If the 0th number (self) does not divide fully by the 1st number (self) only a comple integer will be returned and there will be a bit left behind known as a remainder or modulo.\n",
    "* (```%``` mod) returns the modulo from the equivalent true divide."
   ]
  },
  {
   "cell_type": "markdown",
   "id": "virtual-myrtle",
   "metadata": {},
   "source": [
    "4 true divided by 2 gives 2 complete integers and no modulo integer."
   ]
  },
  {
   "cell_type": "code",
   "execution_count": 8,
   "id": "abroad-partnership",
   "metadata": {},
   "outputs": [
    {
     "data": {
      "text/plain": [
       "2"
      ]
     },
     "execution_count": 8,
     "metadata": {},
     "output_type": "execute_result"
    }
   ],
   "source": [
    "4//2"
   ]
  },
  {
   "cell_type": "code",
   "execution_count": 9,
   "id": "ranging-inquiry",
   "metadata": {},
   "outputs": [
    {
     "data": {
      "text/plain": [
       "0"
      ]
     },
     "execution_count": 9,
     "metadata": {},
     "output_type": "execute_result"
    }
   ],
   "source": [
    "4%2"
   ]
  },
  {
   "cell_type": "markdown",
   "id": "apart-investigator",
   "metadata": {},
   "source": [
    "5 integer divided by 2 gives 2 complete integers and a modulo integer of 1."
   ]
  },
  {
   "cell_type": "code",
   "execution_count": 10,
   "id": "vertical-missile",
   "metadata": {},
   "outputs": [
    {
     "data": {
      "text/plain": [
       "2"
      ]
     },
     "execution_count": 10,
     "metadata": {},
     "output_type": "execute_result"
    }
   ],
   "source": [
    "5//2"
   ]
  },
  {
   "cell_type": "code",
   "execution_count": 11,
   "id": "anonymous-cisco",
   "metadata": {},
   "outputs": [
    {
     "data": {
      "text/plain": [
       "1"
      ]
     },
     "execution_count": 11,
     "metadata": {},
     "output_type": "execute_result"
    }
   ],
   "source": [
    "5%2"
   ]
  },
  {
   "cell_type": "markdown",
   "id": "brave-surface",
   "metadata": {},
   "source": [
    "In Python it is also possible to assign objects to object names. Object names should be in lower case letters without spaces or special characters. The underscore ```_``` can be used as part of the object name. Object names can contain numbers but can't begin with a number. For example let's create the object ```a``` and assign it to the value ```4```. In Python the ```=``` sign is known as the assignment operator."
   ]
  },
  {
   "cell_type": "code",
   "execution_count": 12,
   "id": "clean-assault",
   "metadata": {},
   "outputs": [],
   "source": [
    "a=4"
   ]
  },
  {
   "cell_type": "markdown",
   "id": "lasting-investigation",
   "metadata": {},
   "source": [
    "The above means the object ```a``` is assigned to the value of ```4```."
   ]
  },
  {
   "cell_type": "markdown",
   "id": "fifth-gasoline",
   "metadata": {},
   "source": [
    "Note when we assign a value to an object name we do not see anything printed in the cell. We can see the value of an object by typing it directly in a cell."
   ]
  },
  {
   "cell_type": "code",
   "execution_count": 13,
   "id": "primary-punishment",
   "metadata": {},
   "outputs": [
    {
     "data": {
      "text/plain": [
       "4"
      ]
     },
     "execution_count": 13,
     "metadata": {},
     "output_type": "execute_result"
    }
   ],
   "source": [
    "a"
   ]
  },
  {
   "cell_type": "markdown",
   "id": "continent-excerpt",
   "metadata": {},
   "source": [
    "We can also use the function print to print the value of an object to the cell output. Recall that to use a function we need to use parenthesis. Details about the input arguments can be found by typing in the function followed by ```↹``` and ```⇧```. In this case we see that there is a single positional input argument value followed by a ... The ... tells us that we can place multiple different values as positional input arguments. To seperate each value out we must use the comma , as a delimiter. There are additional keyword input arguments sep, end, file and flush which have a default value. This default value will be used when the keyword input argument is not specified. We will ignore these for now and come back to them later."
   ]
  },
  {
   "cell_type": "markdown",
   "id": "northern-fifty",
   "metadata": {},
   "source": [
    "![function_print](function_print.png)"
   ]
  },
  {
   "cell_type": "markdown",
   "id": "educated-pipeline",
   "metadata": {},
   "source": [
    "If we wish to view the documentation as a cell output opposed to a pop up we can use the ```?```. For example:"
   ]
  },
  {
   "cell_type": "code",
   "execution_count": 1,
   "id": "breathing-round",
   "metadata": {},
   "outputs": [
    {
     "data": {
      "text/plain": [
       "\u001b[1;31mDocstring:\u001b[0m\n",
       "print(value, ..., sep=' ', end='\\n', file=sys.stdout, flush=False)\n",
       "\n",
       "Prints the values to a stream, or to sys.stdout by default.\n",
       "Optional keyword arguments:\n",
       "file:  a file-like object (stream); defaults to the current sys.stdout.\n",
       "sep:   string inserted between values, default a space.\n",
       "end:   string appended after the last value, default a newline.\n",
       "flush: whether to forcibly flush the stream.\n",
       "\u001b[1;31mType:\u001b[0m      builtin_function_or_method\n"
      ]
     },
     "metadata": {},
     "output_type": "display_data"
    }
   ],
   "source": [
    "? print"
   ]
  },
  {
   "cell_type": "markdown",
   "id": "rental-catalyst",
   "metadata": {},
   "source": [
    "This time our object has the name ```a```, so we will print the value of this object."
   ]
  },
  {
   "cell_type": "code",
   "execution_count": 14,
   "id": "patient-grill",
   "metadata": {},
   "outputs": [
    {
     "name": "stdout",
     "output_type": "stream",
     "text": [
      "4\n"
     ]
    }
   ],
   "source": [
    "print(a)"
   ]
  },
  {
   "cell_type": "markdown",
   "id": "frequent-custom",
   "metadata": {},
   "source": [
    "As we seen above the object name ```a``` corresponds to a value of ```4```. The object name can be used in numeric calculations in place of the value ```4```."
   ]
  },
  {
   "cell_type": "code",
   "execution_count": 15,
   "id": "thorough-dispatch",
   "metadata": {},
   "outputs": [
    {
     "data": {
      "text/plain": [
       "5"
      ]
     },
     "execution_count": 15,
     "metadata": {},
     "output_type": "execute_result"
    }
   ],
   "source": [
    "a+1"
   ]
  },
  {
   "cell_type": "markdown",
   "id": "agreed-vegetable",
   "metadata": {},
   "source": [
    "When using the assignment operator ```=``` the object name must be on the left hand side of the assignment operator and the value assigned to the object name is on the right hand side."
   ]
  },
  {
   "cell_type": "markdown",
   "id": "personalized-forth",
   "metadata": {},
   "source": [
    "The following line will display the following error. Note that both the code and the image of the error are placed in a markdown cell to prevent the error from holding up the Python Kernel in the notebook. This will be done for later code that also flags up errors."
   ]
  },
  {
   "cell_type": "markdown",
   "id": "precise-secondary",
   "metadata": {},
   "source": [
    "```2=b```"
   ]
  },
  {
   "cell_type": "markdown",
   "id": "distinct-segment",
   "metadata": {},
   "source": [
    "![assignment_operator_error](assignment_operator_error.png)"
   ]
  },
  {
   "cell_type": "markdown",
   "id": "collective-advance",
   "metadata": {},
   "source": [
    "The line ```2=b``` does not make sense to python. First of all python doesn't know the numeric value of the object ```b``` and second of all it does not make sense to update the value of the number ```2``` to anything else as this would mess up all subsequent numeric calculations."
   ]
  },
  {
   "cell_type": "markdown",
   "id": "designed-vertex",
   "metadata": {},
   "source": [
    "When the assignment operator is used, the numeric operation on the right hand side is first calculated and the value of this numeric operation is assigned to the object name."
   ]
  },
  {
   "cell_type": "raw",
   "id": "viral-relaxation",
   "metadata": {},
   "source": [
    "b=2+3"
   ]
  },
  {
   "cell_type": "markdown",
   "id": "aging-foster",
   "metadata": {},
   "source": [
    "The value isn't displayed in the console, we can print it using the print statement."
   ]
  },
  {
   "cell_type": "code",
   "execution_count": 16,
   "id": "robust-sustainability",
   "metadata": {},
   "outputs": [
    {
     "name": "stdout",
     "output_type": "stream",
     "text": [
      "5\n"
     ]
    }
   ],
   "source": [
    "b=2+3\n",
    "print(b)"
   ]
  },
  {
   "cell_type": "markdown",
   "id": "worth-guitar",
   "metadata": {},
   "source": [
    "Here we see the operation on the right hand side is completed first, the calculation ```2+3``` is performed giving the value ```5``` and this is assigned to the object name ```b```. "
   ]
  },
  {
   "cell_type": "markdown",
   "id": "rental-portsmouth",
   "metadata": {},
   "source": [
    "Python operators follow mathematical rules for precidence."
   ]
  },
  {
   "cell_type": "markdown",
   "id": "australian-consultation",
   "metadata": {},
   "source": [
    "* ```( )```\n",
    "* ```**```\n",
    "* ```*```\n",
    "* ```//```\n",
    "* ```+```\n",
    "* ```-```\n"
   ]
  },
  {
   "cell_type": "markdown",
   "id": "beginning-telephone",
   "metadata": {},
   "source": [
    "In the following statement the ```*``` operator takes precidence of ```+``` so we perform ```2*3``` to get ```6``` in the 0th step and then add ```5``` to this in the 1st step returning ```11```."
   ]
  },
  {
   "cell_type": "code",
   "execution_count": 17,
   "id": "binary-london",
   "metadata": {},
   "outputs": [
    {
     "name": "stdout",
     "output_type": "stream",
     "text": [
      "11\n"
     ]
    }
   ],
   "source": [
    "b=5+2*3\n",
    "print(b)"
   ]
  },
  {
   "cell_type": "markdown",
   "id": "tender-million",
   "metadata": {},
   "source": [
    "With parenthesis added ```()``` the ```(5+2)``` takes precidence over the ```*``` so we get ```7``` in the 0th step and then multiply this by ```3``` in the 1st step returning ```21```."
   ]
  },
  {
   "cell_type": "code",
   "execution_count": 18,
   "id": "coordinate-demonstration",
   "metadata": {},
   "outputs": [
    {
     "name": "stdout",
     "output_type": "stream",
     "text": [
      "21\n"
     ]
    }
   ],
   "source": [
    "b=(5+2)*3\n",
    "print(b)"
   ]
  },
  {
   "cell_type": "markdown",
   "id": "alive-money",
   "metadata": {},
   "source": [
    "In Python it is quite common to reassign an object name. For example, the object name ```a``` was previously assigned a value of ```4```. "
   ]
  },
  {
   "cell_type": "code",
   "execution_count": 19,
   "id": "devoted-jungle",
   "metadata": {},
   "outputs": [
    {
     "name": "stdout",
     "output_type": "stream",
     "text": [
      "4\n"
     ]
    }
   ],
   "source": [
    "print(a)"
   ]
  },
  {
   "cell_type": "markdown",
   "id": "animal-activity",
   "metadata": {},
   "source": [
    "Now it can be reassigned a value of ```3```. "
   ]
  },
  {
   "cell_type": "code",
   "execution_count": 20,
   "id": "unknown-anger",
   "metadata": {},
   "outputs": [],
   "source": [
    "a=3"
   ]
  },
  {
   "cell_type": "markdown",
   "id": "virtual-alloy",
   "metadata": {},
   "source": [
    "When the object is reassigned a value, the previous value is forgotten. printing the value of a will only return its currently assigned value."
   ]
  },
  {
   "cell_type": "code",
   "execution_count": 21,
   "id": "copyrighted-scoop",
   "metadata": {},
   "outputs": [
    {
     "name": "stdout",
     "output_type": "stream",
     "text": [
      "3\n"
     ]
    }
   ],
   "source": [
    "print(a)"
   ]
  },
  {
   "cell_type": "markdown",
   "id": "acoustic-interval",
   "metadata": {},
   "source": [
    "It is common to reassign a value using a calculation involving the object name itself. For example."
   ]
  },
  {
   "cell_type": "code",
   "execution_count": 22,
   "id": "novel-supply",
   "metadata": {},
   "outputs": [],
   "source": [
    "a=a+2"
   ]
  },
  {
   "cell_type": "markdown",
   "id": "aboriginal-maintenance",
   "metadata": {},
   "source": [
    "Everything on the right hand side is carried out first. ```a``` currently has the value of ```3```, therefore ```a+2``` returns the value of ```5```. This value of ```5``` is then reassigned to the object name ```a```. Now ```a``` has a value of ```5```. Using the ```print``` function with the object ```a``` as the positional input argument should therefore return the value of ```5```."
   ]
  },
  {
   "cell_type": "code",
   "execution_count": 23,
   "id": "underlying-regression",
   "metadata": {},
   "outputs": [
    {
     "name": "stdout",
     "output_type": "stream",
     "text": [
      "5\n"
     ]
    }
   ],
   "source": [
    "print(a)"
   ]
  },
  {
   "cell_type": "markdown",
   "id": "loose-mainland",
   "metadata": {},
   "source": [
    "It is quite common to increment the value of an integer by ```+n``` or ```-n``` in particular. The operator ```+=n``` and ```-=n``` will perform an inplace update of the value ```a```."
   ]
  },
  {
   "cell_type": "code",
   "execution_count": 24,
   "id": "robust-attribute",
   "metadata": {},
   "outputs": [],
   "source": [
    "a+=1"
   ]
  },
  {
   "cell_type": "code",
   "execution_count": 25,
   "id": "assisted-killing",
   "metadata": {},
   "outputs": [
    {
     "name": "stdout",
     "output_type": "stream",
     "text": [
      "6\n"
     ]
    }
   ],
   "source": [
    "print(a)"
   ]
  },
  {
   "cell_type": "code",
   "execution_count": 26,
   "id": "broad-projection",
   "metadata": {},
   "outputs": [],
   "source": [
    "a+=1"
   ]
  },
  {
   "cell_type": "code",
   "execution_count": 27,
   "id": "burning-civilization",
   "metadata": {},
   "outputs": [
    {
     "name": "stdout",
     "output_type": "stream",
     "text": [
      "7\n"
     ]
    }
   ],
   "source": [
    "print(a)"
   ]
  },
  {
   "cell_type": "code",
   "execution_count": 28,
   "id": "early-oregon",
   "metadata": {},
   "outputs": [],
   "source": [
    "a-=2"
   ]
  },
  {
   "cell_type": "code",
   "execution_count": 29,
   "id": "higher-efficiency",
   "metadata": {},
   "outputs": [
    {
     "name": "stdout",
     "output_type": "stream",
     "text": [
      "5\n"
     ]
    }
   ],
   "source": [
    "print(a)"
   ]
  },
  {
   "cell_type": "markdown",
   "id": "liable-voluntary",
   "metadata": {},
   "source": [
    "Let's have a look at the object ```a``` in more detail. First let's have a look at its type."
   ]
  },
  {
   "cell_type": "code",
   "execution_count": 30,
   "id": "united-transcript",
   "metadata": {},
   "outputs": [
    {
     "data": {
      "text/plain": [
       "int"
      ]
     },
     "execution_count": 30,
     "metadata": {},
     "output_type": "execute_result"
    }
   ],
   "source": [
    "type(a)"
   ]
  },
  {
   "cell_type": "markdown",
   "id": "searching-aerospace",
   "metadata": {},
   "source": [
    "We see that it is a type ```int```. ```a``` therefore shares common properties with other ```int``` objects. In Python, an object can possess attributes and methods. These can be accessed by typing in the objects name followed by a ```.``` and then pressing ```↹```. The list below shows attributes in blue and methods in orange which we will explore in more detail in a moment."
   ]
  },
  {
   "cell_type": "markdown",
   "id": "widespread-television",
   "metadata": {},
   "source": [
    "![int_attributes_methods](int_attributes_methods.png)"
   ]
  },
  {
   "cell_type": "markdown",
   "id": "million-confirmation",
   "metadata": {},
   "source": [
    "Each object is an instance of a class. More explicitly an instance called ```b``` can be created using an ```int``` class. "
   ]
  },
  {
   "cell_type": "markdown",
   "id": "ready-dayton",
   "metadata": {},
   "source": [
    "The Init signature of inbuilt classes such as ```int``` uses a similar syntax to a function. Typing in ```int``` followed by ```↹``` and ```⇧``` gives details about the input arguments. Like a function, a class Init signature uses parenthesis to encapsulate the input arguments. "
   ]
  },
  {
   "cell_type": "markdown",
   "id": "sized-problem",
   "metadata": {},
   "source": [
    "![instance_int_class](instance_int_class.png)"
   ]
  },
  {
   "cell_type": "markdown",
   "id": "critical-packet",
   "metadata": {},
   "source": [
    "The following line creates an instance ```b``` (```b``` is the instance name or object name) of the class ```int```. Thinking of the class init signature as analogous to a function, the positional input argument ```x``` is the value we wish to make the integer."
   ]
  },
  {
   "cell_type": "code",
   "execution_count": 31,
   "id": "musical-thomas",
   "metadata": {},
   "outputs": [],
   "source": [
    "b=int(3)"
   ]
  },
  {
   "cell_type": "markdown",
   "id": "false-legislature",
   "metadata": {},
   "source": [
    "Creating an instance of a class is also known as instantiating a class. "
   ]
  },
  {
   "cell_type": "markdown",
   "id": "passing-stranger",
   "metadata": {},
   "source": [
    "Notice that the 0th positional input argument (python uses 0 order indexing so we count from 0 upwards) in a class is called ```self```. Once a class is instantiated, ```self``` becomes a reference to the object name, in this case ```b```. Typing in the instance name ```b``` followed by a ```.``` and ```↹``` shows the list of attributes and methods available to call from the instance ```b```."
   ]
  },
  {
   "cell_type": "markdown",
   "id": "canadian-jonathan",
   "metadata": {},
   "source": [
    "![int_attributes_methods2](int_attributes_methods2.png)"
   ]
  },
  {
   "cell_type": "markdown",
   "id": "loose-stretch",
   "metadata": {},
   "source": [
    "Note that these are identical to the attributes and methods available to call from the instance ```a```. This is because both ```a``` and ```b``` are instances of the class ```int``` and these methods and attributes belong to the ```int``` class."
   ]
  },
  {
   "cell_type": "markdown",
   "id": "rotary-county",
   "metadata": {},
   "source": [
    "The list below shows attributes (instances) in orange and methods (functions) in blue. "
   ]
  },
  {
   "cell_type": "markdown",
   "id": "cellular-frontier",
   "metadata": {},
   "source": [
    "An attribute of the object ```b``` can be thought of as an additional object that is referenced with respect to ```b```. It is often a property of ```b```. For example the attribute ```real``` will find the real component of ```b``` and this will also be an instance of the class ```int```. ```imag``` will find the imaginary component of ```b``` and will also be an instance of the class ```int```. In this case the real component is ```3``` and the number isn't a complex number so its imaginary component is ```0```."
   ]
  },
  {
   "cell_type": "markdown",
   "id": "purple-nightmare",
   "metadata": {},
   "source": [
    "Attributes do not have input arguments and are therefore always called without parenthesis. "
   ]
  },
  {
   "cell_type": "code",
   "execution_count": 32,
   "id": "quiet-likelihood",
   "metadata": {},
   "outputs": [
    {
     "data": {
      "text/plain": [
       "3"
      ]
     },
     "execution_count": 32,
     "metadata": {},
     "output_type": "execute_result"
    }
   ],
   "source": [
    "b.real"
   ]
  },
  {
   "cell_type": "code",
   "execution_count": 33,
   "id": "dynamic-shoot",
   "metadata": {},
   "outputs": [
    {
     "data": {
      "text/plain": [
       "0"
      ]
     },
     "execution_count": 33,
     "metadata": {},
     "output_type": "execute_result"
    }
   ],
   "source": [
    "b.imag"
   ]
  },
  {
   "cell_type": "markdown",
   "id": "sexual-distribution",
   "metadata": {},
   "source": [
    "As the attribute itself is an object, in this case also an ```int``` so attributes and methods associated with the ```int``` class will also be accessible from the attribute."
   ]
  },
  {
   "cell_type": "markdown",
   "id": "manufactured-eugene",
   "metadata": {},
   "source": [
    "![int_attributes_methods3](int_attributes_methods3.png)"
   ]
  },
  {
   "cell_type": "markdown",
   "id": "dangerous-obligation",
   "metadata": {},
   "source": [
    "```b.real``` looks up the real component of ```b``` and ```b.real.real``` looks up the real component of the real component of ```b```. "
   ]
  },
  {
   "cell_type": "code",
   "execution_count": 34,
   "id": "rapid-sewing",
   "metadata": {},
   "outputs": [
    {
     "data": {
      "text/plain": [
       "3"
      ]
     },
     "execution_count": 34,
     "metadata": {},
     "output_type": "execute_result"
    }
   ],
   "source": [
    "b.real.real"
   ]
  },
  {
   "cell_type": "markdown",
   "id": "sufficient-accreditation",
   "metadata": {},
   "source": [
    "And so on and so forth."
   ]
  },
  {
   "cell_type": "code",
   "execution_count": 35,
   "id": "imperial-colorado",
   "metadata": {},
   "outputs": [
    {
     "data": {
      "text/plain": [
       "3"
      ]
     },
     "execution_count": 35,
     "metadata": {},
     "output_type": "execute_result"
    }
   ],
   "source": [
    "b.real.real.real.real.real.real.real.real.real.real.real.real"
   ]
  },
  {
   "cell_type": "markdown",
   "id": "dimensional-craps",
   "metadata": {},
   "source": [
    "Methods usually possess input arguments and have to always be called with parenthesis. If a method is called without parenthesis the output will inform the user that it is a function belonging to the ```int``` class i.e. a method of the int class. Recall when the function type was called without parenthes we got a similar behaviour. "
   ]
  },
  {
   "cell_type": "code",
   "execution_count": 36,
   "id": "preceding-johns",
   "metadata": {},
   "outputs": [
    {
     "data": {
      "text/plain": [
       "<function int.conjugate>"
      ]
     },
     "execution_count": 36,
     "metadata": {},
     "output_type": "execute_result"
    }
   ],
   "source": [
    "b.conjugate"
   ]
  },
  {
   "cell_type": "markdown",
   "id": "excellent-judges",
   "metadata": {},
   "source": [
    "Details about the input arguments can be found by typing in the function followed by ```↹``` and ```⇧``` (again in the same manner as they are determined for functions). In this case we see that there are no input arguments."
   ]
  },
  {
   "cell_type": "markdown",
   "id": "reverse-current",
   "metadata": {},
   "source": [
    "![int_method_conjugate](int_method_conjugate.png)"
   ]
  },
  {
   "cell_type": "markdown",
   "id": "commercial-teacher",
   "metadata": {},
   "source": [
    "Therefore the method is called without any input arguments."
   ]
  },
  {
   "cell_type": "code",
   "execution_count": 37,
   "id": "labeled-updating",
   "metadata": {},
   "outputs": [
    {
     "data": {
      "text/plain": [
       "3"
      ]
     },
     "execution_count": 37,
     "metadata": {},
     "output_type": "execute_result"
    }
   ],
   "source": [
    "b.conjugate()"
   ]
  },
  {
   "cell_type": "markdown",
   "id": "welcome-sport",
   "metadata": {},
   "source": [
    "Attributes are read directly as properties of the object. The method ```conjugate``` may look like an attribute at first glance however uses an underlying function to calculate the complex conjugate. Behind the scenes the method conjugate looks at the attribute ```b.real``` for the real component and the attribute ```b.imag``` for the imaginary component and then reverses the sign of the imaginary component when returning the complex conjugate as part of a calculation. "
   ]
  },
  {
   "cell_type": "markdown",
   "id": "vanilla-intervention",
   "metadata": {},
   "source": [
    "An instance can be deleted by using the function ```del```."
   ]
  },
  {
   "cell_type": "code",
   "execution_count": 38,
   "id": "selective-determination",
   "metadata": {},
   "outputs": [],
   "source": [
    "del(b)"
   ]
  },
  {
   "cell_type": "markdown",
   "id": "thermal-collector",
   "metadata": {},
   "source": [
    "Trying to access a variable that has been deleted (or has never existed because it has never been defined) gives a ```NameError```."
   ]
  },
  {
   "cell_type": "markdown",
   "id": "occupational-payment",
   "metadata": {},
   "source": [
    "The following line will display the following error. Once again both the code and the image of the error are placed in a markdown cell to prevent the error from holding up the Python Kernel in the notebook. "
   ]
  },
  {
   "cell_type": "markdown",
   "id": "white-leisure",
   "metadata": {},
   "source": [
    "```b```"
   ]
  },
  {
   "cell_type": "markdown",
   "id": "victorian-extension",
   "metadata": {},
   "source": [
    "![NameError](NameError.png)"
   ]
  },
  {
   "cell_type": "markdown",
   "id": "comic-cattle",
   "metadata": {},
   "source": [
    "### Floating Point Numbers (float)"
   ]
  },
  {
   "cell_type": "markdown",
   "id": "starting-mustang",
   "metadata": {},
   "source": [
    "We have discussed ```int``` numbers and ```int``` operations so far. It is also possible to create a floating point number i.e. a number that has a decimal component. The ```.``` when enclosed between two numbers is used to denote a decimal point. "
   ]
  },
  {
   "cell_type": "code",
   "execution_count": 39,
   "id": "healthy-pacific",
   "metadata": {},
   "outputs": [],
   "source": [
    "c=2.1"
   ]
  },
  {
   "cell_type": "markdown",
   "id": "hidden-emergency",
   "metadata": {},
   "source": [
    "Let's check the type of c."
   ]
  },
  {
   "cell_type": "code",
   "execution_count": 40,
   "id": "collective-expression",
   "metadata": {},
   "outputs": [
    {
     "data": {
      "text/plain": [
       "float"
      ]
     },
     "execution_count": 40,
     "metadata": {},
     "output_type": "execute_result"
    }
   ],
   "source": [
    "type(c)"
   ]
  },
  {
   "cell_type": "markdown",
   "id": "technological-foundation",
   "metadata": {},
   "source": [
    "We see that the type is float (an abbreviation for floating point number). If we type in the instance name followed by a ```.``` and then ```↹``` we will see a list of attributes and methods. "
   ]
  },
  {
   "cell_type": "markdown",
   "id": "subjective-sharp",
   "metadata": {},
   "source": [
    "![float_attributes_methods](float_attributes_methods.png)"
   ]
  },
  {
   "cell_type": "markdown",
   "id": "searching-laser",
   "metadata": {},
   "source": [
    "If we compare this to b we will see some commonalities as both are numeric objects however there are slight differences reflecting the fact that these are different classes."
   ]
  },
  {
   "cell_type": "markdown",
   "id": "corporate-hotel",
   "metadata": {},
   "source": [
    "![int_attributes_methods2](int_attributes_methods2.png)"
   ]
  },
  {
   "cell_type": "markdown",
   "id": "mineral-prefix",
   "metadata": {},
   "source": [
    "The method ```is_integer``` for example will check if a floating point number is an integer. Typing in the float method is_integer and pressing ```↹``` and ```⇧``` gives details about the methods input arguments"
   ]
  },
  {
   "cell_type": "markdown",
   "id": "hundred-patent",
   "metadata": {},
   "source": [
    "![float_method_is_integer](float_method_is_integer.png)"
   ]
  },
  {
   "cell_type": "markdown",
   "id": "unable-county",
   "metadata": {},
   "source": [
    "We see in this case that the method once again has no input arguments, so is called using empty parenthesis. The value returned is ```False``` which is expected as this has a non-zero component following the decimal point."
   ]
  },
  {
   "cell_type": "code",
   "execution_count": 41,
   "id": "jewish-isaac",
   "metadata": {},
   "outputs": [
    {
     "data": {
      "text/plain": [
       "False"
      ]
     },
     "execution_count": 41,
     "metadata": {},
     "output_type": "execute_result"
    }
   ],
   "source": [
    "c.is_integer()"
   ]
  },
  {
   "cell_type": "markdown",
   "id": "adapted-munich",
   "metadata": {},
   "source": [
    "We can also explicitly instantiate (create an instance of) a ```float``` class."
   ]
  },
  {
   "cell_type": "code",
   "execution_count": 42,
   "id": "typical-alarm",
   "metadata": {},
   "outputs": [],
   "source": [
    "d=float(2.0)"
   ]
  },
  {
   "cell_type": "markdown",
   "id": "killing-safety",
   "metadata": {},
   "source": [
    "If we type in the instance name followed by a ```.``` and then ```↹``` we will see a list of attributes and methods. These match those of the object ```c``` as both ```c``` and ```d``` are instances of the ```float``` class."
   ]
  },
  {
   "cell_type": "markdown",
   "id": "irish-greensboro",
   "metadata": {},
   "source": [
    "![float_attributes_methods2](float_attributes_methods2.png)"
   ]
  },
  {
   "cell_type": "markdown",
   "id": "respiratory-heather",
   "metadata": {},
   "source": [
    "If we use the ```float``` method ```is_integer``` using the instance ```d``` we will get a return value of ```True``` as there is no non-zero number following the decimal point. "
   ]
  },
  {
   "cell_type": "code",
   "execution_count": 43,
   "id": "bronze-telephone",
   "metadata": {},
   "outputs": [
    {
     "data": {
      "text/plain": [
       "True"
      ]
     },
     "execution_count": 43,
     "metadata": {},
     "output_type": "execute_result"
    }
   ],
   "source": [
    "d.is_integer()"
   ]
  },
  {
   "cell_type": "markdown",
   "id": "protective-mistress",
   "metadata": {},
   "source": [
    "Earlier we see integer division (truediv ```//```) and modulo (mod ```%```). We can also perform float or true division.\n",
    "* (truediv ```/```) divides the 0th number by the 1st number and returns an instance of the ```float``` class."
   ]
  },
  {
   "cell_type": "code",
   "execution_count": 44,
   "id": "innovative-ethics",
   "metadata": {},
   "outputs": [
    {
     "data": {
      "text/plain": [
       "2.5"
      ]
     },
     "execution_count": 44,
     "metadata": {},
     "output_type": "execute_result"
    }
   ],
   "source": [
    "5/2"
   ]
  },
  {
   "cell_type": "markdown",
   "id": "separated-suspect",
   "metadata": {},
   "source": [
    "Note that float division always returns a ```float```. This occurs even when the return value is a complete number. For example."
   ]
  },
  {
   "cell_type": "code",
   "execution_count": 45,
   "id": "found-tooth",
   "metadata": {},
   "outputs": [],
   "source": [
    "e=4/2"
   ]
  },
  {
   "cell_type": "markdown",
   "id": "certain-guide",
   "metadata": {},
   "source": [
    "```e``` looks like an ```int```."
   ]
  },
  {
   "cell_type": "code",
   "execution_count": 46,
   "id": "honey-vessel",
   "metadata": {},
   "outputs": [
    {
     "data": {
      "text/plain": [
       "2.0"
      ]
     },
     "execution_count": 46,
     "metadata": {},
     "output_type": "execute_result"
    }
   ],
   "source": [
    "e"
   ]
  },
  {
   "cell_type": "markdown",
   "id": "portable-atlas",
   "metadata": {},
   "source": [
    "However when we can see the decimal point indicating it is a ```float```. We check its type using the function ```type``` and this confirms that ```e``` is a ```float``` (instance of the ```float``` class)."
   ]
  },
  {
   "cell_type": "code",
   "execution_count": 47,
   "id": "inside-documentary",
   "metadata": {},
   "outputs": [
    {
     "data": {
      "text/plain": [
       "float"
      ]
     },
     "execution_count": 47,
     "metadata": {},
     "output_type": "execute_result"
    }
   ],
   "source": [
    "type(e)"
   ]
  },
  {
   "cell_type": "code",
   "execution_count": 48,
   "id": "reflected-numbers",
   "metadata": {},
   "outputs": [
    {
     "data": {
      "text/plain": [
       "True"
      ]
     },
     "execution_count": 48,
     "metadata": {},
     "output_type": "execute_result"
    }
   ],
   "source": [
    "e.is_integer()"
   ]
  },
  {
   "cell_type": "markdown",
   "id": "desperate-fifty",
   "metadata": {},
   "source": [
    "The output can be converted explicitly to an instance of the ```int``` class."
   ]
  },
  {
   "cell_type": "code",
   "execution_count": 49,
   "id": "defensive-victor",
   "metadata": {},
   "outputs": [],
   "source": [
    "e=int(e)"
   ]
  },
  {
   "cell_type": "markdown",
   "id": "smoking-globe",
   "metadata": {},
   "source": [
    "The type is now ```int``` and not ```float```."
   ]
  },
  {
   "cell_type": "code",
   "execution_count": 50,
   "id": "growing-packing",
   "metadata": {},
   "outputs": [
    {
     "data": {
      "text/plain": [
       "int"
      ]
     },
     "execution_count": 50,
     "metadata": {},
     "output_type": "execute_result"
    }
   ],
   "source": [
    "type(e)"
   ]
  },
  {
   "cell_type": "markdown",
   "id": "alleged-grocery",
   "metadata": {},
   "source": [
    "Note when a ```float``` gets converted to an ```int```, the decimal component gets truncated."
   ]
  },
  {
   "cell_type": "code",
   "execution_count": 51,
   "id": "historic-establishment",
   "metadata": {},
   "outputs": [
    {
     "data": {
      "text/plain": [
       "2.1"
      ]
     },
     "execution_count": 51,
     "metadata": {},
     "output_type": "execute_result"
    }
   ],
   "source": [
    "c"
   ]
  },
  {
   "cell_type": "code",
   "execution_count": 52,
   "id": "commercial-navigation",
   "metadata": {},
   "outputs": [
    {
     "data": {
      "text/plain": [
       "2"
      ]
     },
     "execution_count": 52,
     "metadata": {},
     "output_type": "execute_result"
    }
   ],
   "source": [
    "int(c)"
   ]
  },
  {
   "cell_type": "markdown",
   "id": "severe-catholic",
   "metadata": {},
   "source": [
    "### Booleans (bool)"
   ]
  },
  {
   "cell_type": "markdown",
   "id": "familiar-strategy",
   "metadata": {},
   "source": [
    "When we used the ```float``` method ```is_integer``` we got back a value ```True``` or ```False``` (note the capitlaization). These are known as Boolean values."
   ]
  },
  {
   "cell_type": "code",
   "execution_count": 53,
   "id": "emerging-accordance",
   "metadata": {},
   "outputs": [],
   "source": [
    "f=True"
   ]
  },
  {
   "cell_type": "markdown",
   "id": "objective-highway",
   "metadata": {},
   "source": [
    "If we look at the type, we can see that it is the type ```bool```."
   ]
  },
  {
   "cell_type": "code",
   "execution_count": 54,
   "id": "every-citizenship",
   "metadata": {},
   "outputs": [
    {
     "data": {
      "text/plain": [
       "bool"
      ]
     },
     "execution_count": 54,
     "metadata": {},
     "output_type": "execute_result"
    }
   ],
   "source": [
    "type(f)"
   ]
  },
  {
   "cell_type": "markdown",
   "id": "activated-ocean",
   "metadata": {},
   "source": [
    "If we type in the instance name followed by a ```.``` and then ```↹``` we will see a list of attributes and methods. These attributes and methods are the same as the ```int``` class."
   ]
  },
  {
   "cell_type": "markdown",
   "id": "valid-approval",
   "metadata": {},
   "source": [
    "![bool_attributes_methods](bool_attributes_methods.png)"
   ]
  },
  {
   "cell_type": "markdown",
   "id": "settled-interference",
   "metadata": {},
   "source": [
    "For most numeric calculations we can treat a ```True``` and ```False``` as ```1``` and ```0``` respectively. \n",
    "\n",
    "We can use the comparison operators:\n",
    "* (```==``` eq) checks if the 0th number (self) is equal to the 1st number (other).\n",
    "* (```!=``` ne) checks if the 0th number (self) is not equal to the 1st number (other).\n",
    "* (```<``` lt) checks if the 0th number (self) is less than the 1st number (other).\n",
    "* (```>``` gt) checks if the 0th number (self) is greater than the 1st number (other).\n",
    "* (```<=``` le) checks if the 0th number (self) is less than or equal to the 1st number (other).\n",
    "* (```>=``` ge) checks if the 0th number (self) us greater than or equal to the 1st number (other).\n",
    "\n",
    "These return a Boolean, instance of the ```bool``` class which has a value of ```True``` or ```False``` respectively."
   ]
  },
  {
   "cell_type": "code",
   "execution_count": 55,
   "id": "organic-twins",
   "metadata": {},
   "outputs": [
    {
     "data": {
      "text/plain": [
       "True"
      ]
     },
     "execution_count": 55,
     "metadata": {},
     "output_type": "execute_result"
    }
   ],
   "source": [
    "True==1"
   ]
  },
  {
   "cell_type": "code",
   "execution_count": 56,
   "id": "automated-aaron",
   "metadata": {},
   "outputs": [
    {
     "data": {
      "text/plain": [
       "True"
      ]
     },
     "execution_count": 56,
     "metadata": {},
     "output_type": "execute_result"
    }
   ],
   "source": [
    "False==0"
   ]
  },
  {
   "cell_type": "markdown",
   "id": "absolute-stable",
   "metadata": {},
   "source": [
    "Note do not confuse the (eq ```==```) operator with the assignment operator (```=```). Also recall that all operations to the right are carried out before using the assignment operator. In the example below, the check for is ```1``` equal to ```2``` gives a ```False``` return statement which is then assigned to the object name ```g```. ```g``` is an instance of the ```bool``` class."
   ]
  },
  {
   "cell_type": "code",
   "execution_count": 57,
   "id": "connected-string",
   "metadata": {},
   "outputs": [],
   "source": [
    "g=1==2"
   ]
  },
  {
   "cell_type": "code",
   "execution_count": 58,
   "id": "incoming-agreement",
   "metadata": {},
   "outputs": [
    {
     "data": {
      "text/plain": [
       "False"
      ]
     },
     "execution_count": 58,
     "metadata": {},
     "output_type": "execute_result"
    }
   ],
   "source": [
    "g"
   ]
  },
  {
   "cell_type": "code",
   "execution_count": 59,
   "id": "rolled-tobago",
   "metadata": {},
   "outputs": [
    {
     "data": {
      "text/plain": [
       "bool"
      ]
     },
     "execution_count": 59,
     "metadata": {},
     "output_type": "execute_result"
    }
   ],
   "source": [
    "type(g)"
   ]
  },
  {
   "cell_type": "markdown",
   "id": "cellular-retention",
   "metadata": {},
   "source": [
    "Knowing ```True``` takes the value ```1``` and ```False``` takes the value ```0```, the following numeric operations can be carried out."
   ]
  },
  {
   "cell_type": "code",
   "execution_count": 60,
   "id": "dress-sleep",
   "metadata": {},
   "outputs": [
    {
     "data": {
      "text/plain": [
       "1"
      ]
     },
     "execution_count": 60,
     "metadata": {},
     "output_type": "execute_result"
    }
   ],
   "source": [
    "True+False"
   ]
  },
  {
   "cell_type": "code",
   "execution_count": 61,
   "id": "substantial-helen",
   "metadata": {},
   "outputs": [
    {
     "data": {
      "text/plain": [
       "0"
      ]
     },
     "execution_count": 61,
     "metadata": {},
     "output_type": "execute_result"
    }
   ],
   "source": [
    "True*False"
   ]
  },
  {
   "cell_type": "code",
   "execution_count": 62,
   "id": "nonprofit-macro",
   "metadata": {},
   "outputs": [
    {
     "data": {
      "text/plain": [
       "1"
      ]
     },
     "execution_count": 62,
     "metadata": {},
     "output_type": "execute_result"
    }
   ],
   "source": [
    "True-False"
   ]
  },
  {
   "cell_type": "markdown",
   "id": "sensitive-michael",
   "metadata": {},
   "source": [
    "We can use comparison statements to check whether or not two expressions are equal. Care should be taken when using comparison statements with the ```float``` datatypes. Compare the two statements below. The exact value ```2``` and the exact value ```1``` when summed together make the exact value of ```3``` and the expression below shows ```True``` as expected."
   ]
  },
  {
   "cell_type": "markdown",
   "id": "linear-uncertainty",
   "metadata": {},
   "source": [
    "If both sides are divided by 10 (i.e. have a datatype ```float```) and the same equivalence is made the comparison yields a ```False``` result."
   ]
  },
  {
   "cell_type": "code",
   "execution_count": 63,
   "id": "determined-journal",
   "metadata": {},
   "outputs": [
    {
     "data": {
      "text/plain": [
       "True"
      ]
     },
     "execution_count": 63,
     "metadata": {},
     "output_type": "execute_result"
    }
   ],
   "source": [
    "2+1==3"
   ]
  },
  {
   "cell_type": "code",
   "execution_count": 64,
   "id": "second-alignment",
   "metadata": {},
   "outputs": [
    {
     "data": {
      "text/plain": [
       "False"
      ]
     },
     "execution_count": 64,
     "metadata": {},
     "output_type": "execute_result"
    }
   ],
   "source": [
    "0.2+0.1==0.3"
   ]
  },
  {
   "cell_type": "markdown",
   "id": "global-timing",
   "metadata": {},
   "source": [
    "Computers store numbers to a limited precision using binary notation. The calculation 0.1+0.2 (using decimal) leads to an exact number 0.3 but in binary it recurs forever (similar to the idea of a third in decimal notation). In any case to the default high precision number of decimal places, the last value is non-zero and therefore the two sides of the expression are not equivalent."
   ]
  },
  {
   "cell_type": "code",
   "execution_count": 65,
   "id": "demographic-stomach",
   "metadata": {},
   "outputs": [
    {
     "data": {
      "text/plain": [
       "0.30000000000000004"
      ]
     },
     "execution_count": 65,
     "metadata": {},
     "output_type": "execute_result"
    }
   ],
   "source": [
    "0.2+0.1"
   ]
  },
  {
   "cell_type": "markdown",
   "id": "coordinated-stable",
   "metadata": {},
   "source": [
    "In most practical applications we wouldn't use such a high number of decimal places. We may decide 6 digits suffice. We can use the function ```round```. Details about the input arguments for the function ```round``` can be found by typing in the function followed by ```↹``` and ```⇧```. We see number is a positional input argument and ```ndigits``` is a keyword input argument with a default value of ```0```. As this is a function, the input arguments must be enclosed in parenthesis. As we are using multiple input arguments we must use a comma ```,``` as a delimiter to seperate the input arguments."
   ]
  },
  {
   "cell_type": "markdown",
   "id": "comprehensive-exemption",
   "metadata": {},
   "source": [
    "![round](round.png)"
   ]
  },
  {
   "cell_type": "code",
   "execution_count": 66,
   "id": "apparent-still",
   "metadata": {},
   "outputs": [
    {
     "data": {
      "text/plain": [
       "0.3"
      ]
     },
     "execution_count": 66,
     "metadata": {},
     "output_type": "execute_result"
    }
   ],
   "source": [
    "round(0.1+0.2,ndigits=6)"
   ]
  },
  {
   "cell_type": "markdown",
   "id": "binding-pathology",
   "metadata": {},
   "source": [
    "To this assigned number of digits the statement is ```True``` (as expected)."
   ]
  },
  {
   "cell_type": "code",
   "execution_count": 67,
   "id": "vocal-coverage",
   "metadata": {},
   "outputs": [
    {
     "data": {
      "text/plain": [
       "True"
      ]
     },
     "execution_count": 67,
     "metadata": {},
     "output_type": "execute_result"
    }
   ],
   "source": [
    "round(0.1+0.2,ndigits=6)==round(0.3,ndigits=6)"
   ]
  },
  {
   "cell_type": "markdown",
   "id": "thermal-ground",
   "metadata": {},
   "source": [
    "### Complex Numbers (complex)"
   ]
  },
  {
   "cell_type": "markdown",
   "id": "chemical-signal",
   "metadata": {},
   "source": [
    "The square root of a negaive number yields a complex number with an imaginary component used to handle the negative square root."
   ]
  },
  {
   "cell_type": "code",
   "execution_count": 68,
   "id": "fewer-progress",
   "metadata": {},
   "outputs": [
    {
     "data": {
      "text/plain": [
       "(1.2246467991473532e-16+2j)"
      ]
     },
     "execution_count": 68,
     "metadata": {},
     "output_type": "execute_result"
    }
   ],
   "source": [
    "(-4)**0.5"
   ]
  },
  {
   "cell_type": "code",
   "execution_count": 69,
   "id": "arranged-coaching",
   "metadata": {},
   "outputs": [
    {
     "data": {
      "text/plain": [
       "complex"
      ]
     },
     "execution_count": 69,
     "metadata": {},
     "output_type": "execute_result"
    }
   ],
   "source": [
    "type((-4)**0.5)"
   ]
  },
  {
   "cell_type": "markdown",
   "id": "encouraging-mississippi",
   "metadata": {},
   "source": [
    "The real component of the above number is represented using scientific notation. The ```e-16``` denotes we are 16 places after the decimal point i.e. a very tiny number.  \n",
    "\n",
    "```1e2``` denotes we will have two zeros after the number."
   ]
  },
  {
   "cell_type": "code",
   "execution_count": 70,
   "id": "imported-aircraft",
   "metadata": {},
   "outputs": [
    {
     "data": {
      "text/plain": [
       "100.0"
      ]
     },
     "execution_count": 70,
     "metadata": {},
     "output_type": "execute_result"
    }
   ],
   "source": [
    "1e2"
   ]
  },
  {
   "cell_type": "markdown",
   "id": "serious-israel",
   "metadata": {},
   "source": [
    "```1e0``` denotes we will have no zeros after or before the number."
   ]
  },
  {
   "cell_type": "code",
   "execution_count": 71,
   "id": "ethical-treasury",
   "metadata": {},
   "outputs": [
    {
     "data": {
      "text/plain": [
       "1.0"
      ]
     },
     "execution_count": 71,
     "metadata": {},
     "output_type": "execute_result"
    }
   ],
   "source": [
    "1e0"
   ]
  },
  {
   "cell_type": "markdown",
   "id": "turkish-pharmacy",
   "metadata": {},
   "source": [
    "```1e-2``` denotes we have 2 zeros before the number."
   ]
  },
  {
   "cell_type": "code",
   "execution_count": 72,
   "id": "found-prefix",
   "metadata": {},
   "outputs": [
    {
     "data": {
      "text/plain": [
       "0.01"
      ]
     },
     "execution_count": 72,
     "metadata": {},
     "output_type": "execute_result"
    }
   ],
   "source": [
    "1e-2"
   ]
  },
  {
   "cell_type": "markdown",
   "id": "matched-athens",
   "metadata": {},
   "source": [
    "A ```complex``` number (with a real and imaginary component) can be instantiated from the ```complex``` class. To instantiate a complex number both a real and imag component need to be speciifed. "
   ]
  },
  {
   "cell_type": "markdown",
   "id": "adopted-restoration",
   "metadata": {},
   "source": [
    "![instance_complex_class](instance_complex_class.png)"
   ]
  },
  {
   "cell_type": "markdown",
   "id": "classical-riding",
   "metadata": {},
   "source": [
    "Note for convenience the init signature of the complex class uses keyword input arguments ```real``` and ```imag``` which have a default value of ```0``` unless explictly specified. We can set them to ```1``` and ```-2``` respectively."
   ]
  },
  {
   "cell_type": "code",
   "execution_count": 73,
   "id": "acting-developer",
   "metadata": {},
   "outputs": [],
   "source": [
    "h=complex(real=1,imag=-2)"
   ]
  },
  {
   "cell_type": "code",
   "execution_count": 74,
   "id": "stainless-bhutan",
   "metadata": {},
   "outputs": [
    {
     "data": {
      "text/plain": [
       "(1-2j)"
      ]
     },
     "execution_count": 74,
     "metadata": {},
     "output_type": "execute_result"
    }
   ],
   "source": [
    "h"
   ]
  },
  {
   "cell_type": "markdown",
   "id": "julian-bullet",
   "metadata": {},
   "source": [
    "![complex_attributes_methods](complex_attributes_methods.png)"
   ]
  },
  {
   "cell_type": "markdown",
   "id": "falling-crest",
   "metadata": {},
   "source": [
    "The attributes ```real``` and ```imag``` will look up the real and imaginary components respectively."
   ]
  },
  {
   "cell_type": "code",
   "execution_count": 75,
   "id": "norman-drilling",
   "metadata": {},
   "outputs": [
    {
     "data": {
      "text/plain": [
       "1.0"
      ]
     },
     "execution_count": 75,
     "metadata": {},
     "output_type": "execute_result"
    }
   ],
   "source": [
    "h.real"
   ]
  },
  {
   "cell_type": "code",
   "execution_count": 76,
   "id": "equal-kernel",
   "metadata": {},
   "outputs": [
    {
     "data": {
      "text/plain": [
       "-2.0"
      ]
     },
     "execution_count": 76,
     "metadata": {},
     "output_type": "execute_result"
    }
   ],
   "source": [
    "h.imag"
   ]
  },
  {
   "cell_type": "code",
   "execution_count": 77,
   "id": "signal-riding",
   "metadata": {},
   "outputs": [
    {
     "data": {
      "text/plain": [
       "(1+2j)"
      ]
     },
     "execution_count": 77,
     "metadata": {},
     "output_type": "execute_result"
    }
   ],
   "source": [
    "h.conjugate()"
   ]
  },
  {
   "cell_type": "markdown",
   "id": "analyzed-hierarchy",
   "metadata": {},
   "source": [
    "## Text Variables - A String of Characters (str)"
   ]
  },
  {
   "cell_type": "markdown",
   "id": "magnetic-cameroon",
   "metadata": {},
   "source": [
    "It is also possible to create a variable that is a string of text abbreviated ```str```. The string of text must be enclosed in quotation marks to prevent confusion with the variable name."
   ]
  },
  {
   "cell_type": "code",
   "execution_count": 78,
   "id": "russian-clock",
   "metadata": {},
   "outputs": [],
   "source": [
    "i='i'"
   ]
  },
  {
   "cell_type": "markdown",
   "id": "opposite-parcel",
   "metadata": {},
   "source": [
    "The ```str``` ```'i'``` is assigned to the object name ```i```. Note the difference in the color coding between the ```str``` on the right hand side and the object name on the left hand side. "
   ]
  },
  {
   "cell_type": "markdown",
   "id": "marine-thermal",
   "metadata": {},
   "source": [
    "Sometimes the ```str``` may require a quotation or other special characters. Note when a quotation is added to the ```str```, Python terminates the ```str``` opposed to including it within the ```str```."
   ]
  },
  {
   "cell_type": "markdown",
   "id": "ultimate-arrest",
   "metadata": {},
   "source": [
    "![str_quotation](str_quotation.png)"
   ]
  },
  {
   "cell_type": "markdown",
   "id": "sporting-denmark",
   "metadata": {},
   "source": [
    "This can be addressed using the special character ```\\``` to denote that a quotation is supposed to be incorporated into the ```str```."
   ]
  },
  {
   "cell_type": "code",
   "execution_count": 79,
   "id": "loose-literature",
   "metadata": {},
   "outputs": [
    {
     "data": {
      "text/plain": [
       "\"Philip's\""
      ]
     },
     "execution_count": 79,
     "metadata": {},
     "output_type": "execute_result"
    }
   ],
   "source": [
    "\"Philip's\""
   ]
  },
  {
   "cell_type": "markdown",
   "id": "better-destiny",
   "metadata": {},
   "source": [
    "Note the output also shows that we can use double quotations for this particular case."
   ]
  },
  {
   "cell_type": "code",
   "execution_count": 80,
   "id": "seasonal-homeless",
   "metadata": {},
   "outputs": [
    {
     "data": {
      "text/plain": [
       "\"Philip's\""
      ]
     },
     "execution_count": 80,
     "metadata": {},
     "output_type": "execute_result"
    }
   ],
   "source": [
    "\"Philip's\""
   ]
  },
  {
   "cell_type": "markdown",
   "id": "violent-fellowship",
   "metadata": {},
   "source": [
    "We can see what the string of character looks like by using the ```print``` function."
   ]
  },
  {
   "cell_type": "code",
   "execution_count": 81,
   "id": "alleged-venezuela",
   "metadata": {},
   "outputs": [
    {
     "name": "stdout",
     "output_type": "stream",
     "text": [
      "Philip's\n"
     ]
    }
   ],
   "source": [
    "print('Philip\\'s')"
   ]
  },
  {
   "cell_type": "markdown",
   "id": "weighted-citizenship",
   "metadata": {},
   "source": [
    "Sometimes we will need to use both double quotes and single quotes and we must use the special character ```\\``` to denote which quotes we want as part of the ```str```."
   ]
  },
  {
   "cell_type": "code",
   "execution_count": 82,
   "id": "reliable-naples",
   "metadata": {},
   "outputs": [
    {
     "data": {
      "text/plain": [
       "'Philip\\'s \"quote\"'"
      ]
     },
     "execution_count": 82,
     "metadata": {},
     "output_type": "execute_result"
    }
   ],
   "source": [
    "'Philip\\'s \\\"quote\\\"'"
   ]
  },
  {
   "cell_type": "code",
   "execution_count": 83,
   "id": "specialized-commission",
   "metadata": {},
   "outputs": [
    {
     "name": "stdout",
     "output_type": "stream",
     "text": [
      "Philip's \"quote\"\n"
     ]
    }
   ],
   "source": [
    "print('Philip\\'s \\\"quote\\\"')"
   ]
  },
  {
   "cell_type": "markdown",
   "id": "altered-clothing",
   "metadata": {},
   "source": [
    "The special character ```\\``` followed by a ```t``` and ```n``` denotes a new line and tab respectively."
   ]
  },
  {
   "cell_type": "code",
   "execution_count": 84,
   "id": "spanish-hygiene",
   "metadata": {},
   "outputs": [
    {
     "data": {
      "text/plain": [
       "'\\tPhilip\\'s \\n\"quote\"'"
      ]
     },
     "execution_count": 84,
     "metadata": {},
     "output_type": "execute_result"
    }
   ],
   "source": [
    "'\\tPhilip\\'s \\n\\\"quote\\\"'"
   ]
  },
  {
   "cell_type": "code",
   "execution_count": 85,
   "id": "tracked-chile",
   "metadata": {},
   "outputs": [
    {
     "name": "stdout",
     "output_type": "stream",
     "text": [
      "\tPhilip's \n",
      "\"quote\"\n"
     ]
    }
   ],
   "source": [
    "print('\\tPhilip\\'s \\n\\\"quote\\\"')"
   ]
  },
  {
   "cell_type": "markdown",
   "id": "unlikely-rebel",
   "metadata": {},
   "source": [
    "In some cases for example file paths we need to use the special character ```\\``` as part of the ```str```. We must use ```\\\\```. The 0th ```\\``` denotes the fact we want to use a special character and the 1st ```\\``` denotes that we want to display ```\\```."
   ]
  },
  {
   "cell_type": "code",
   "execution_count": 86,
   "id": "selected-phase",
   "metadata": {},
   "outputs": [
    {
     "data": {
      "text/plain": [
       "'C:\\\\Users'"
      ]
     },
     "execution_count": 86,
     "metadata": {},
     "output_type": "execute_result"
    }
   ],
   "source": [
    "'C:\\\\Users'"
   ]
  },
  {
   "cell_type": "code",
   "execution_count": 87,
   "id": "correct-warren",
   "metadata": {},
   "outputs": [
    {
     "name": "stdout",
     "output_type": "stream",
     "text": [
      "C:\\Users\n"
     ]
    }
   ],
   "source": [
    "print('C:\\\\Users')"
   ]
  },
  {
   "cell_type": "markdown",
   "id": "demonstrated-sampling",
   "metadata": {},
   "source": [
    "As file paths are used quite often in programming and copied from Windows Explorer which uses a single ```\\``` we also have a special string called a relative string. A special string prepends ```r``` in front of the quotation. Any ```\\``` seen in the ```str``` is automatically converted into a ```\\\\```."
   ]
  },
  {
   "cell_type": "code",
   "execution_count": 88,
   "id": "falling-checkout",
   "metadata": {},
   "outputs": [
    {
     "data": {
      "text/plain": [
       "'C:\\\\Users'"
      ]
     },
     "execution_count": 88,
     "metadata": {},
     "output_type": "execute_result"
    }
   ],
   "source": [
    "r'C:\\Users'"
   ]
  },
  {
   "cell_type": "markdown",
   "id": "architectural-range",
   "metadata": {},
   "source": [
    "There is also a special string known as a formatted string. To use a formatted string prepend ```f``` to the front of the quotation. A formatted string can be used to place variables within the ```str``` by use of curly brackets ```{}```."
   ]
  },
  {
   "cell_type": "code",
   "execution_count": 89,
   "id": "expanded-samoa",
   "metadata": {},
   "outputs": [
    {
     "name": "stdout",
     "output_type": "stream",
     "text": [
      "hello Philip\n"
     ]
    }
   ],
   "source": [
    "user='Philip'\n",
    "print(f'hello {user}')"
   ]
  },
  {
   "cell_type": "markdown",
   "id": "improved-banana",
   "metadata": {},
   "source": [
    "We can also explicitly instantiate (create an instance of) a ```str``` class."
   ]
  },
  {
   "cell_type": "markdown",
   "id": "passing-belief",
   "metadata": {},
   "source": [
    "![instance_str_class](instance_str_class.png)"
   ]
  },
  {
   "cell_type": "code",
   "execution_count": 90,
   "id": "obvious-beijing",
   "metadata": {},
   "outputs": [],
   "source": [
    "j=str('philip')"
   ]
  },
  {
   "cell_type": "markdown",
   "id": "direct-story",
   "metadata": {},
   "source": [
    "![str_methods](str_methods.png)"
   ]
  },
  {
   "cell_type": "markdown",
   "id": "permanent-diary",
   "metadata": {},
   "source": [
    "If we type in the instance name followed by a ```.``` and then ```↹``` we will see a list of attributes and methods. These are related to text objects (and hence applicable to the ```str``` class) opposed to numeric objects (```str```, ```float```, ```bool```, ```complex```) as seen previously."
   ]
  },
  {
   "cell_type": "markdown",
   "id": "fitting-yacht",
   "metadata": {},
   "source": [
    "The method ```capitalize``` will capitalize the ```str```. Details about the input arguments can be found by typing in the function followed by ```↹``` and ```⇧```. In this case we see that there are no input arguments and the method transforms the original ```str``` returning it with a capital letter."
   ]
  },
  {
   "cell_type": "markdown",
   "id": "parallel-present",
   "metadata": {},
   "source": [
    "![str_method_capitalize](str_method_capitalize.png)"
   ]
  },
  {
   "cell_type": "code",
   "execution_count": 91,
   "id": "searching-chosen",
   "metadata": {},
   "outputs": [
    {
     "data": {
      "text/plain": [
       "'Philip'"
      ]
     },
     "execution_count": 91,
     "metadata": {},
     "output_type": "execute_result"
    }
   ],
   "source": [
    "j.capitalize()"
   ]
  },
  {
   "cell_type": "markdown",
   "id": "typical-investment",
   "metadata": {},
   "source": [
    "We can use a similar method ```upper``` to make the entire ```str``` upper case."
   ]
  },
  {
   "cell_type": "code",
   "execution_count": 92,
   "id": "thermal-creation",
   "metadata": {},
   "outputs": [
    {
     "data": {
      "text/plain": [
       "'PHILIP'"
      ]
     },
     "execution_count": 92,
     "metadata": {},
     "output_type": "execute_result"
    }
   ],
   "source": [
    "j.upper()"
   ]
  },
  {
   "cell_type": "markdown",
   "id": "animal-skirt",
   "metadata": {},
   "source": [
    "Note that ```j``` is unchanged and the output is just printed as the output of the cell."
   ]
  },
  {
   "cell_type": "code",
   "execution_count": 93,
   "id": "improved-benchmark",
   "metadata": {},
   "outputs": [
    {
     "data": {
      "text/plain": [
       "'philip'"
      ]
     },
     "execution_count": 93,
     "metadata": {},
     "output_type": "execute_result"
    }
   ],
   "source": [
    "j"
   ]
  },
  {
   "cell_type": "markdown",
   "id": "looking-seventh",
   "metadata": {},
   "source": [
    "We can assign the output to the original object name to perform an inplace update."
   ]
  },
  {
   "cell_type": "code",
   "execution_count": 94,
   "id": "respiratory-jordan",
   "metadata": {},
   "outputs": [],
   "source": [
    "j=j.upper()"
   ]
  },
  {
   "cell_type": "code",
   "execution_count": 95,
   "id": "color-shepherd",
   "metadata": {},
   "outputs": [
    {
     "data": {
      "text/plain": [
       "'PHILIP'"
      ]
     },
     "execution_count": 95,
     "metadata": {},
     "output_type": "execute_result"
    }
   ],
   "source": [
    "j"
   ]
  },
  {
   "cell_type": "markdown",
   "id": "olympic-birthday",
   "metadata": {},
   "source": [
    "We also have the ```str``` method ```lower``` to return the ```str``` to lower case."
   ]
  },
  {
   "cell_type": "code",
   "execution_count": 96,
   "id": "leading-british",
   "metadata": {},
   "outputs": [],
   "source": [
    "j=j.lower()"
   ]
  },
  {
   "cell_type": "code",
   "execution_count": 97,
   "id": "requested-direction",
   "metadata": {},
   "outputs": [
    {
     "data": {
      "text/plain": [
       "'philip'"
      ]
     },
     "execution_count": 97,
     "metadata": {},
     "output_type": "execute_result"
    }
   ],
   "source": [
    "j"
   ]
  },
  {
   "cell_type": "markdown",
   "id": "olympic-fundamentals",
   "metadata": {},
   "source": [
    "The ```str``` method ```replace``` can be used to replace an old value with a new value. Details about the input arguments can be found by typing in the function followed by ```↹``` and ```⇧```. The positional input arguments ```old``` and ```new``` must be placed in positional order between the parenthesis when calling this method."
   ]
  },
  {
   "cell_type": "markdown",
   "id": "confident-incidence",
   "metadata": {},
   "source": [
    "![str_method_replace](str_method_replace.png)"
   ]
  },
  {
   "cell_type": "markdown",
   "id": "changed-remark",
   "metadata": {},
   "source": [
    "Some people spell my name with a ```'f'``` instead of a ```'ph'``` so let's use this as an example."
   ]
  },
  {
   "cell_type": "code",
   "execution_count": 98,
   "id": "delayed-salem",
   "metadata": {},
   "outputs": [
    {
     "data": {
      "text/plain": [
       "'filip'"
      ]
     },
     "execution_count": 98,
     "metadata": {},
     "output_type": "execute_result"
    }
   ],
   "source": [
    "j.replace('ph','f')"
   ]
  },
  {
   "cell_type": "markdown",
   "id": "substantial-elimination",
   "metadata": {},
   "source": [
    "The (```+``` add) operater in a ```str``` performs concatenation of the ```str``` with another ```str```, for example if I want to concatenate my first name to my sirname."
   ]
  },
  {
   "cell_type": "code",
   "execution_count": 99,
   "id": "stuffed-galaxy",
   "metadata": {},
   "outputs": [
    {
     "data": {
      "text/plain": [
       "'PhilipYip'"
      ]
     },
     "execution_count": 99,
     "metadata": {},
     "output_type": "execute_result"
    }
   ],
   "source": [
    "'Philip'+'Yip'"
   ]
  },
  {
   "cell_type": "markdown",
   "id": "voluntary-startup",
   "metadata": {},
   "source": [
    "Note that concatenation does not provide spacing. If I want to concatenate a space, I will have to concatenate one seperately."
   ]
  },
  {
   "cell_type": "code",
   "execution_count": 100,
   "id": "unlimited-biography",
   "metadata": {},
   "outputs": [
    {
     "data": {
      "text/plain": [
       "'Philip Yip'"
      ]
     },
     "execution_count": 100,
     "metadata": {},
     "output_type": "execute_result"
    }
   ],
   "source": [
    "'Philip'+' '+'Yip'"
   ]
  },
  {
   "cell_type": "markdown",
   "id": "incorporated-arena",
   "metadata": {},
   "source": [
    "The (```*``` mul) operator will work between a str and an int n to replicate the str n times."
   ]
  },
  {
   "cell_type": "code",
   "execution_count": 101,
   "id": "double-carnival",
   "metadata": {},
   "outputs": [
    {
     "data": {
      "text/plain": [
       "'PhilipPhilipPhilipPhilipPhilip'"
      ]
     },
     "execution_count": 101,
     "metadata": {},
     "output_type": "execute_result"
    }
   ],
   "source": [
    "5*'Philip'"
   ]
  },
  {
   "cell_type": "markdown",
   "id": "worst-louisville",
   "metadata": {},
   "source": [
    "Note that using the (```+``` add) operator instead will result in a ```TypeError```. This is because there is no logical behaviour for adding an ```int``` to an undefined value (a ```str``` does not equate to a number)."
   ]
  },
  {
   "cell_type": "markdown",
   "id": "conventional-inspector",
   "metadata": {},
   "source": [
    "```5+'Philip'```"
   ]
  },
  {
   "cell_type": "markdown",
   "id": "naughty-norwegian",
   "metadata": {},
   "source": [
    "![str_int_concatenate_typeerror](str_int_concatenate_typeerror.png)"
   ]
  },
  {
   "cell_type": "markdown",
   "id": "given-musician",
   "metadata": {},
   "source": [
    "Multiplying two ```str``` instances will also give a ```TypeError``` as there is no physical meaning behind this operation."
   ]
  },
  {
   "cell_type": "markdown",
   "id": "atmospheric-librarian",
   "metadata": {},
   "source": [
    "```'Philip'*'Philip'```"
   ]
  },
  {
   "cell_type": "markdown",
   "id": "maritime-treasure",
   "metadata": {},
   "source": [
    "![str_str_multiply_typeerror](str_str_multiply_typeerror.png)"
   ]
  },
  {
   "cell_type": "markdown",
   "id": "crucial-methodology",
   "metadata": {},
   "source": [
    "Care should therefore be taken when working with different datatypes."
   ]
  },
  {
   "cell_type": "markdown",
   "id": "pretty-voluntary",
   "metadata": {},
   "source": [
    "## The input Function"
   ]
  },
  {
   "cell_type": "markdown",
   "id": "monthly-eating",
   "metadata": {},
   "source": [
    "The input function can be used to gather information from a user. To view details about the functions input arguments we can press ```↹``` and ```⇧```. The keyword input argument ```prompt``` (also acts as a positional input argument) is a question to ask the user."
   ]
  },
  {
   "cell_type": "markdown",
   "id": "inclusive-manual",
   "metadata": {},
   "source": [
    "![function_input](function_input.png)"
   ]
  },
  {
   "cell_type": "markdown",
   "id": "religious-bottom",
   "metadata": {},
   "source": [
    "To prevent the input statements from holding up the Python Kernel, the code containing input statements will be placed in a markdown cell and screenshots of the output will be placed in the markdown cell."
   ]
  },
  {
   "cell_type": "markdown",
   "id": "civic-currency",
   "metadata": {},
   "source": [
    "```\n",
    "yourname=input(prompt='What is your name?')\n",
    "print(f'hello {yourname}')\n",
    "```"
   ]
  },
  {
   "cell_type": "markdown",
   "id": "martial-theme",
   "metadata": {},
   "source": [
    "When it is ran the cell will be marked with a ```*```. The dialog box will display waiting for the user to input a ```str```."
   ]
  },
  {
   "cell_type": "markdown",
   "id": "active-garlic",
   "metadata": {},
   "source": [
    "![input_statement1](input_statement1.png)"
   ]
  },
  {
   "cell_type": "markdown",
   "id": "chicken-blackberry",
   "metadata": {},
   "source": [
    "Anything the user inputs will be converted to a ```str``` (the user should not include the quotations) and in this case the ```str``` input by the user will be incorporated into the ```print``` statement."
   ]
  },
  {
   "cell_type": "markdown",
   "id": "greek-object",
   "metadata": {},
   "source": [
    "![input_statement2](input_statement2.png)"
   ]
  },
  {
   "cell_type": "markdown",
   "id": "regional-rally",
   "metadata": {},
   "source": [
    "Input statements always return a ```str``` and therefore the following code will not work as intended."
   ]
  },
  {
   "cell_type": "markdown",
   "id": "alien-landscape",
   "metadata": {},
   "source": [
    "```\n",
    "number1=input(prompt='input a number')\n",
    "number2=input(prompt='input a second number')\n",
    "total=number1+number2\n",
    "print(f'the sum of your numbers is {total}')\n",
    "```"
   ]
  },
  {
   "cell_type": "markdown",
   "id": "diagnostic-musical",
   "metadata": {},
   "source": [
    "The value total returned is ```'22'``` opposed to ```'4'```."
   ]
  },
  {
   "cell_type": "markdown",
   "id": "theoretical-booth",
   "metadata": {},
   "source": [
    "![input_statement3](input_statement3.png)"
   ]
  },
  {
   "cell_type": "markdown",
   "id": "breathing-elimination",
   "metadata": {},
   "source": [
    "If we look at the types."
   ]
  },
  {
   "cell_type": "markdown",
   "id": "pediatric-berlin",
   "metadata": {},
   "source": [
    "```type(number1)```"
   ]
  },
  {
   "cell_type": "markdown",
   "id": "working-worker",
   "metadata": {},
   "source": [
    "```type(number2)```"
   ]
  },
  {
   "cell_type": "markdown",
   "id": "universal-orleans",
   "metadata": {},
   "source": [
    "We see they are both of the type ```str```."
   ]
  },
  {
   "cell_type": "markdown",
   "id": "revised-cradle",
   "metadata": {},
   "source": [
    "![input_statement4](input_statement4.png)"
   ]
  },
  {
   "cell_type": "markdown",
   "id": "painted-yeast",
   "metadata": {},
   "source": [
    "This means our code essentially does this."
   ]
  },
  {
   "cell_type": "code",
   "execution_count": 102,
   "id": "accurate-planning",
   "metadata": {},
   "outputs": [
    {
     "data": {
      "text/plain": [
       "'22'"
      ]
     },
     "execution_count": 102,
     "metadata": {},
     "output_type": "execute_result"
    }
   ],
   "source": [
    "'2'+'2'"
   ]
  },
  {
   "cell_type": "markdown",
   "id": "brilliant-discovery",
   "metadata": {},
   "source": [
    "Recall that the ```+``` add operator for a ```str``` performs concatenation and not addition like we want in this example."
   ]
  },
  {
   "cell_type": "code",
   "execution_count": 103,
   "id": "public-cameroon",
   "metadata": {},
   "outputs": [
    {
     "data": {
      "text/plain": [
       "4"
      ]
     },
     "execution_count": 103,
     "metadata": {},
     "output_type": "execute_result"
    }
   ],
   "source": [
    "2+2"
   ]
  },
  {
   "cell_type": "markdown",
   "id": "detected-journal",
   "metadata": {},
   "source": [
    "To get around this we need to convert our ```str``` into a number."
   ]
  },
  {
   "cell_type": "code",
   "execution_count": 104,
   "id": "absolute-purple",
   "metadata": {},
   "outputs": [],
   "source": [
    "k='2'"
   ]
  },
  {
   "cell_type": "markdown",
   "id": "congressional-speaking",
   "metadata": {},
   "source": [
    "Since the numer is a str of an ```int```, we can use the ```int``` class to do this."
   ]
  },
  {
   "cell_type": "code",
   "execution_count": 105,
   "id": "destroyed-columbia",
   "metadata": {},
   "outputs": [],
   "source": [
    "k=int(k)"
   ]
  },
  {
   "cell_type": "markdown",
   "id": "appointed-chester",
   "metadata": {},
   "source": [
    "```\n",
    "number1=input(prompt='input a number')\n",
    "number1=int(number1)\n",
    "number2=input(prompt='input a second number')\n",
    "number2=int(number2)\n",
    "total=number1+number2\n",
    "print(f'the sum of your numbers is {total}')\n",
    "```"
   ]
  },
  {
   "cell_type": "markdown",
   "id": "recorded-property",
   "metadata": {},
   "source": [
    "This works when both numbers input are ```int``` as expected."
   ]
  },
  {
   "cell_type": "markdown",
   "id": "handed-assistant",
   "metadata": {},
   "source": [
    "![input_statement5](input_statement5.png)"
   ]
  },
  {
   "cell_type": "markdown",
   "id": "advisory-captain",
   "metadata": {},
   "source": [
    "However if the number being input is input as a ```float``` it will lead to a ```ValueError```. This is because the class ```int``` does not recognise a ```str``` with a ```.``` in it as valid."
   ]
  },
  {
   "cell_type": "markdown",
   "id": "injured-timber",
   "metadata": {},
   "source": [
    "![input_valueerror](input_valueerror.png)"
   ]
  },
  {
   "cell_type": "markdown",
   "id": "spiritual-chemical",
   "metadata": {},
   "source": [
    "To get around this we can use the ```float``` class instead."
   ]
  },
  {
   "cell_type": "markdown",
   "id": "received-thumbnail",
   "metadata": {},
   "source": [
    "```\n",
    "number1=input(prompt='input a number')\n",
    "number1=float(number1)\n",
    "number2=input(prompt='input a second number')\n",
    "number2=float(number2)\n",
    "total=number1+number2\n",
    "print(f'the sum of your numbers is {total}')\n",
    "```"
   ]
  },
  {
   "cell_type": "markdown",
   "id": "focal-sustainability",
   "metadata": {},
   "source": [
    "![input_statement6](input_statement6.png)"
   ]
  },
  {
   "cell_type": "markdown",
   "id": "robust-father",
   "metadata": {},
   "source": [
    "## if, elif and else Branching"
   ]
  },
  {
   "cell_type": "markdown",
   "id": "sealed-rochester",
   "metadata": {},
   "source": [
    "So far all the code above has been procedural, starting from he top of a cell and continuing down to the bottom of the cell. Sometimes we may want to construct a condition (using a Boolean) and then execute certain code only if the condition is satisfied.\n",
    "\n",
    "An analogy to this is driving a car. So far we have only travelled straight and have not had the ability to turn either left or right."
   ]
  },
  {
   "cell_type": "markdown",
   "id": "pregnant-pride",
   "metadata": {},
   "source": [
    "We can use an if statement containing a condition that will execute the code belonging to the if statement only when the condition is True."
   ]
  },
  {
   "cell_type": "code",
   "execution_count": 106,
   "id": "difficult-protection",
   "metadata": {},
   "outputs": [
    {
     "name": "stdout",
     "output_type": "stream",
     "text": [
      "Condition is True\n",
      "Continuing as Usual\n"
     ]
    }
   ],
   "source": [
    "condition=True\n",
    "if condition:\n",
    "    print('Condition is True')\n",
    "\n",
    "print('Continuing as Usual')"
   ]
  },
  {
   "cell_type": "code",
   "execution_count": 107,
   "id": "closing-canal",
   "metadata": {},
   "outputs": [
    {
     "name": "stdout",
     "output_type": "stream",
     "text": [
      "Continuing as Usual\n"
     ]
    }
   ],
   "source": [
    "condition=False\n",
    "if condition:\n",
    "    print('Condition is True')\n",
    "\n",
    "print('Continuing as Usual')"
   ]
  },
  {
   "cell_type": "markdown",
   "id": "wooden-multiple",
   "metadata": {},
   "source": [
    "Comparing the two above we see that 'Condition is True' is only printed for the top cell and not in the bottom cell."
   ]
  },
  {
   "cell_type": "markdown",
   "id": "chubby-debate",
   "metadata": {},
   "source": [
    "Let's have a look at the syntax in more detail. Following the if statement there is a condition and then a colon : The colon : indicates the beginning of a code block. Any code belonging to the code block must be indented by 4 spaces. A blank line is usually also left after ending a group of code blocks.\n",
    "\n",
    "Code that is not indented does not belong to the code block and will be implemented regardless of the condition."
   ]
  },
  {
   "cell_type": "markdown",
   "id": "german-quest",
   "metadata": {},
   "source": [
    "An if code block can be followed on by an else code block. Once again a colon : is used to denote the beginning of a code block and any code belonging to the code block is indented by 4 spaces. There is no condition associated with the else block as by definition it will be carried out when the condition checked in the if statement is False."
   ]
  },
  {
   "cell_type": "code",
   "execution_count": 108,
   "id": "adolescent-girlfriend",
   "metadata": {},
   "outputs": [
    {
     "name": "stdout",
     "output_type": "stream",
     "text": [
      "Condition is True\n",
      "Continuing as Usual\n"
     ]
    }
   ],
   "source": [
    "condition=True\n",
    "if condition:\n",
    "    print('Condition is True')\n",
    "else:\n",
    "    print('Condition is False')\n",
    "\n",
    "print('Continuing as Usual')"
   ]
  },
  {
   "cell_type": "code",
   "execution_count": 109,
   "id": "damaged-phenomenon",
   "metadata": {},
   "outputs": [
    {
     "name": "stdout",
     "output_type": "stream",
     "text": [
      "Condition is False\n",
      "Continuing as Usual\n"
     ]
    }
   ],
   "source": [
    "condition=False\n",
    "if condition:\n",
    "    print('Condition is True')\n",
    "else:\n",
    "    print('Condition is False')\n",
    "\n",
    "print('Continuing as Usual')"
   ]
  },
  {
   "cell_type": "markdown",
   "id": "unusual-checklist",
   "metadata": {},
   "source": [
    "A series of other elif (else if) branches can be created in a similar manner."
   ]
  },
  {
   "cell_type": "code",
   "execution_count": 110,
   "id": "fewer-voice",
   "metadata": {},
   "outputs": [
    {
     "name": "stdout",
     "output_type": "stream",
     "text": [
      "Condition 2 is True\n",
      "Continuing as Usual\n"
     ]
    }
   ],
   "source": [
    "condition1=False\n",
    "condition2=True\n",
    "if condition1:\n",
    "    print('Condition 1 is True')\n",
    "elif condition2:\n",
    "    print('Condition 2 is True')\n",
    "else:\n",
    "    print('Conditions are False')\n",
    "\n",
    "print('Continuing as Usual')"
   ]
  },
  {
   "cell_type": "markdown",
   "id": "invisible-newsletter",
   "metadata": {},
   "source": [
    "Note when using if, elif and else branches only the top branch that has a True condition will be carried out. In the example below the elif code block is not executed because the if code block has been executed."
   ]
  },
  {
   "cell_type": "code",
   "execution_count": 111,
   "id": "blessed-mixer",
   "metadata": {},
   "outputs": [
    {
     "name": "stdout",
     "output_type": "stream",
     "text": [
      "Condition 1 is True\n",
      "Continuing as Usual\n"
     ]
    }
   ],
   "source": [
    "condition1=True\n",
    "condition2=True\n",
    "if condition1:\n",
    "    print('Condition 1 is True')\n",
    "elif condition2:\n",
    "    print('Condition 2 is True')\n",
    "else:\n",
    "    print('Conditions are False')\n",
    "\n",
    "print('Continuing as Usual')"
   ]
  },
  {
   "cell_type": "markdown",
   "id": "loose-watson",
   "metadata": {},
   "source": [
    "The code above can therefore be amended to check for both conditions using and & (the symbol or word can be used) which will return True only if both conditions are True."
   ]
  },
  {
   "cell_type": "code",
   "execution_count": 112,
   "id": "secret-disorder",
   "metadata": {},
   "outputs": [
    {
     "name": "stdout",
     "output_type": "stream",
     "text": [
      "Condition 1 is True\n",
      "Condition 2 is True\n",
      "Continuing as Usual\n"
     ]
    }
   ],
   "source": [
    "condition1=True\n",
    "condition2=True\n",
    "if condition1 & condition2:\n",
    "    print('Condition 1 is True')\n",
    "    print('Condition 2 is True')   \n",
    "elif condition1:\n",
    "    print('Condition 1 is True')\n",
    "elif condition2:\n",
    "    print('Condition 2 is True')    \n",
    "else:\n",
    "    print('Conditions are False')\n",
    "\n",
    "print('Continuing as Usual')"
   ]
  },
  {
   "cell_type": "markdown",
   "id": "tracked-melissa",
   "metadata": {},
   "source": [
    "Alternatively it can be amended to use or | (the symbol or word can be used) which will return True if either one of the conditions are True."
   ]
  },
  {
   "cell_type": "code",
   "execution_count": 113,
   "id": "atlantic-presentation",
   "metadata": {},
   "outputs": [
    {
     "name": "stdout",
     "output_type": "stream",
     "text": [
      "A Condition is True\n",
      "Continuing as Usual\n"
     ]
    }
   ],
   "source": [
    "condition1=True\n",
    "condition2=True\n",
    "if condition1 | condition2:\n",
    "    print('A Condition is True')\n",
    "else:\n",
    "    print('Conditions are False')\n",
    "\n",
    "print('Continuing as Usual')"
   ]
  },
  {
   "cell_type": "markdown",
   "id": "comprehensive-finding",
   "metadata": {},
   "source": [
    "if, elif, else statements can be nested. Take note of the use of colons : and 4 character indentations."
   ]
  },
  {
   "cell_type": "code",
   "execution_count": 114,
   "id": "sunrise-underwear",
   "metadata": {},
   "outputs": [
    {
     "name": "stdout",
     "output_type": "stream",
     "text": [
      "A Condition is True\n",
      "Condition 1 is True\n",
      "Continuing as Usual\n"
     ]
    }
   ],
   "source": [
    "condition1=True\n",
    "condition2=True\n",
    "if condition1 | condition2:\n",
    "    print('A Condition is True')\n",
    "    if condition1:\n",
    "        print('Condition 1 is True')\n",
    "    else:\n",
    "        print('Condition 2 is True')\n",
    "else:\n",
    "    print('Conditions are False')\n",
    "\n",
    "print('Continuing as Usual')"
   ]
  },
  {
   "cell_type": "markdown",
   "id": "exotic-prefix",
   "metadata": {},
   "source": [
    "## try and except Branching"
   ]
  },
  {
   "cell_type": "markdown",
   "id": "cleared-tsunami",
   "metadata": {},
   "source": [
    "Earlier we used the input function to import a float (in the form of a str) and then when we attempted to convert it to an int we got a ValueError. We can instead use a try code block and an except code block. These branches share commonalities with the if and else blocks except they use the absence and presence of an error as a condition."
   ]
  },
  {
   "cell_type": "code",
   "execution_count": 115,
   "id": "crude-injection",
   "metadata": {},
   "outputs": [
    {
     "name": "stdout",
     "output_type": "stream",
     "text": [
      "k is not an int and is unchanged.\n"
     ]
    }
   ],
   "source": [
    "k='2.1'\n",
    "try:\n",
    "    k=int(k)\n",
    "except:\n",
    "    print('k is not an int and is unchanged.')"
   ]
  },
  {
   "cell_type": "markdown",
   "id": "textile-cover",
   "metadata": {},
   "source": [
    "Except can be setup to look for a specific error, in this case let's look for both a NameError and ValueError."
   ]
  },
  {
   "cell_type": "code",
   "execution_count": 116,
   "id": "strategic-attachment",
   "metadata": {},
   "outputs": [
    {
     "name": "stdout",
     "output_type": "stream",
     "text": [
      "ValueError. k is not an int and is unchanged.\n"
     ]
    }
   ],
   "source": [
    "k='2.1'\n",
    "try:\n",
    "    k=int(k)\n",
    "except NameError:\n",
    "    print('NameError. k is not assigned.')\n",
    "except ValueError:\n",
    "    print('ValueError. k is not an int and is unchanged.')\n",
    "except:\n",
    "    print('Some other error. k is unchanged.')"
   ]
  },
  {
   "cell_type": "markdown",
   "id": "challenging-receiver",
   "metadata": {},
   "source": [
    "We can modify the code to delete the object k before entering the try code block which will give a NameError."
   ]
  },
  {
   "cell_type": "code",
   "execution_count": 117,
   "id": "excessive-brand",
   "metadata": {},
   "outputs": [
    {
     "name": "stdout",
     "output_type": "stream",
     "text": [
      "NameError. k is not assigned.\n"
     ]
    }
   ],
   "source": [
    "del(k)\n",
    "try:\n",
    "    k=int(k)\n",
    "except NameError:\n",
    "    print('NameError. k is not assigned.')\n",
    "except ValueError:\n",
    "    print('ValueError. k is not an int and is unchanged.')\n",
    "except:\n",
    "    print('Some other error. k is unchanged.')"
   ]
  },
  {
   "cell_type": "markdown",
   "id": "aware-inventory",
   "metadata": {},
   "source": [
    "ValueError will display if k is a str of a float or a str of alphabetical characters. We can use a nested try and except block to attempt to try to convert k to a float or to inform the user that k is neither an int or float. Let's test this by assigning k to '2.1' and 'a' respectively."
   ]
  },
  {
   "cell_type": "code",
   "execution_count": 118,
   "id": "stuffed-establishment",
   "metadata": {},
   "outputs": [
    {
     "name": "stdout",
     "output_type": "stream",
     "text": [
      "k is a float.\n"
     ]
    }
   ],
   "source": [
    "k='2.1'\n",
    "try:\n",
    "    k=int(k)\n",
    "    print('k is an int')\n",
    "except NameError:\n",
    "    print('NameError. k is not assigned.')\n",
    "except ValueError:\n",
    "    try:\n",
    "        k=float(k)\n",
    "        print('k is a float.')\n",
    "    except:\n",
    "        print('ValueError. k is not an int or float and is unchanged.')        \n",
    "except:\n",
    "    print('Some other error. k is not an int and is unchanged.')"
   ]
  },
  {
   "cell_type": "code",
   "execution_count": 119,
   "id": "configured-registrar",
   "metadata": {},
   "outputs": [
    {
     "name": "stdout",
     "output_type": "stream",
     "text": [
      "ValueError. k is not an int or float and is unchanged.\n"
     ]
    }
   ],
   "source": [
    "k='a'\n",
    "try:\n",
    "    k=int(k)\n",
    "    print('k is an int')\n",
    "except NameError:\n",
    "    print('NameError. k is not assigned.')\n",
    "except ValueError:\n",
    "    try:\n",
    "        k=float(k)\n",
    "        print('k is a float.')\n",
    "    except:\n",
    "        print('ValueError. k is not an int or float and is unchanged.')        \n",
    "except:\n",
    "    print('Some other error. k is not an int and is unchanged.')"
   ]
  },
  {
   "cell_type": "markdown",
   "id": "living-butter",
   "metadata": {},
   "source": [
    "It is also possible to check for a condition and raise an error."
   ]
  },
  {
   "cell_type": "markdown",
   "id": "standing-sugar",
   "metadata": {},
   "source": [
    "```\n",
    "k='a'\n",
    "if type(k)!=int:\n",
    "        raise TypeError('k must be an int')\n",
    "```"
   ]
  },
  {
   "cell_type": "markdown",
   "id": "postal-industry",
   "metadata": {},
   "source": [
    "![raise_error](raise_error.png)"
   ]
  },
  {
   "cell_type": "markdown",
   "id": "threaded-ozone",
   "metadata": {},
   "source": [
    "## Custom functions"
   ]
  },
  {
   "cell_type": "markdown",
   "id": "bacterial-specific",
   "metadata": {},
   "source": [
    "We have already seen how to use inbuilt functions such as print, type and input."
   ]
  },
  {
   "cell_type": "code",
   "execution_count": 120,
   "id": "combined-earthquake",
   "metadata": {},
   "outputs": [
    {
     "data": {
      "text/plain": [
       "<function print>"
      ]
     },
     "execution_count": 120,
     "metadata": {},
     "output_type": "execute_result"
    }
   ],
   "source": [
    "print"
   ]
  },
  {
   "cell_type": "code",
   "execution_count": 121,
   "id": "young-pepper",
   "metadata": {},
   "outputs": [
    {
     "data": {
      "text/plain": [
       "type"
      ]
     },
     "execution_count": 121,
     "metadata": {},
     "output_type": "execute_result"
    }
   ],
   "source": [
    "type"
   ]
  },
  {
   "cell_type": "code",
   "execution_count": 122,
   "id": "secret-highlight",
   "metadata": {},
   "outputs": [
    {
     "data": {
      "text/plain": [
       "<bound method Kernel.raw_input of <ipykernel.ipkernel.IPythonKernel object at 0x0000024ECFA20760>>"
      ]
     },
     "execution_count": 122,
     "metadata": {},
     "output_type": "execute_result"
    }
   ],
   "source": [
    "input"
   ]
  },
  {
   "cell_type": "markdown",
   "id": "occupational-rings",
   "metadata": {},
   "source": [
    "When these are called without parenthesis we just get told that they are a function."
   ]
  },
  {
   "cell_type": "markdown",
   "id": "intermediate-bubble",
   "metadata": {},
   "source": [
    "To use a function it must be called with parenthesis. Recall that we can see details about the input arguments by pressing tab ↹ and shift ⇧."
   ]
  },
  {
   "cell_type": "markdown",
   "id": "brave-catholic",
   "metadata": {},
   "source": [
    "![function_print](function_print.png)"
   ]
  },
  {
   "cell_type": "markdown",
   "id": "optical-treatment",
   "metadata": {},
   "source": [
    "By default there is a single positional argument however the ... denotes that we can place in multiple positional arguments to print."
   ]
  },
  {
   "cell_type": "code",
   "execution_count": 123,
   "id": "usual-equation",
   "metadata": {},
   "outputs": [
    {
     "name": "stdout",
     "output_type": "stream",
     "text": [
      "hello\n"
     ]
    }
   ],
   "source": [
    "print('hello')"
   ]
  },
  {
   "cell_type": "markdown",
   "id": "obvious-building",
   "metadata": {},
   "source": [
    "The positional input arguments are specified in order by use of a comma , as a delimiter."
   ]
  },
  {
   "cell_type": "code",
   "execution_count": 124,
   "id": "angry-vessel",
   "metadata": {},
   "outputs": [
    {
     "name": "stdout",
     "output_type": "stream",
     "text": [
      "hello goodbye\n"
     ]
    }
   ],
   "source": [
    "print('hello','goodbye')"
   ]
  },
  {
   "cell_type": "markdown",
   "id": "applicable-scale",
   "metadata": {},
   "source": [
    "The keyword input arguments sep and end are both shown to have a default value. This default value can be reassigned when calling the function. To do so we must specify the positional arguments at the beginning and then after we have speciied the positional input arguments we can specify the optional keyword input arguments in any order. Notice for example when the keyword input argument sep is specified as --- the space that was seen between the two printed str becomes --- and when the end is changed from '\\n' to '' there is no new line."
   ]
  },
  {
   "cell_type": "code",
   "execution_count": 125,
   "id": "fresh-gathering",
   "metadata": {},
   "outputs": [
    {
     "name": "stdout",
     "output_type": "stream",
     "text": [
      "hello---goodbye\n",
      "hello---goodbyehello---goodbye\n"
     ]
    }
   ],
   "source": [
    "print('hello','goodbye',sep='---')\n",
    "print('hello','goodbye',sep='---',end='')\n",
    "print('hello','goodbye',sep='---')"
   ]
  },
  {
   "cell_type": "markdown",
   "id": "billion-cement",
   "metadata": {},
   "source": [
    "With the above in mind we can create our own function. \n",
    "\n",
    "First we need to define the function using def followed by the function name (which follows the same rules behind object names) and parenthesis. Then we use a colon : to start a code block and the code belonging to the function must remain in the code block. Let's create a custom print_three function. This will have no input arguments."
   ]
  },
  {
   "cell_type": "code",
   "execution_count": 126,
   "id": "intensive-profile",
   "metadata": {},
   "outputs": [],
   "source": [
    "def print_three():\n",
    "    print(3)"
   ]
  },
  {
   "cell_type": "markdown",
   "id": "tamil-radio",
   "metadata": {},
   "source": [
    "If we call it without any parenthesis we will just be informed that it is a function."
   ]
  },
  {
   "cell_type": "code",
   "execution_count": 127,
   "id": "studied-cradle",
   "metadata": {},
   "outputs": [
    {
     "data": {
      "text/plain": [
       "<function __main__.print_three()>"
      ]
     },
     "execution_count": 127,
     "metadata": {},
     "output_type": "execute_result"
    }
   ],
   "source": [
    "print_three"
   ]
  },
  {
   "cell_type": "markdown",
   "id": "thousand-tender",
   "metadata": {},
   "source": [
    "Recall that we can see details about the input arguments by pressing tab ↹ and shift ⇧. In this case we have not provided a doc sring so we get no details about the function. We can update it to include one. We use triple quotations to denote the creation of a doc string."
   ]
  },
  {
   "cell_type": "markdown",
   "id": "julian-moscow",
   "metadata": {},
   "source": [
    "![print_three_no_doc_str](print_three_no_doc_str.png)"
   ]
  },
  {
   "cell_type": "code",
   "execution_count": 128,
   "id": "blank-waste",
   "metadata": {},
   "outputs": [],
   "source": [
    "def print_three():\n",
    "    '''This will print the number 3.'''\n",
    "    print(3)"
   ]
  },
  {
   "cell_type": "markdown",
   "id": "meaningful-brick",
   "metadata": {},
   "source": [
    "Now the doc string displays. Note we do not mention any details about input arguments in the custom function so the user will therefore infer that the fucntion has no input arguments."
   ]
  },
  {
   "cell_type": "markdown",
   "id": "pressing-surprise",
   "metadata": {},
   "source": [
    "![print_three_doc_str](print_three_doc_str.png)"
   ]
  },
  {
   "cell_type": "markdown",
   "id": "floral-correlation",
   "metadata": {},
   "source": [
    "The custom function can therefore be called and prints the number 3 as expected."
   ]
  },
  {
   "cell_type": "code",
   "execution_count": 129,
   "id": "global-money",
   "metadata": {},
   "outputs": [
    {
     "name": "stdout",
     "output_type": "stream",
     "text": [
      "3\n"
     ]
    }
   ],
   "source": [
    "print_three()"
   ]
  },
  {
   "cell_type": "markdown",
   "id": "fancy-velvet",
   "metadata": {},
   "source": [
    "There are 25.4 mm in an inch. Let's create a custom function that converts inches to mm. This will have an input argument."
   ]
  },
  {
   "cell_type": "code",
   "execution_count": 130,
   "id": "composed-liquid",
   "metadata": {},
   "outputs": [],
   "source": [
    "def inch2mm(input_inches):\n",
    "    '''Prints the value of input_inches to output_mm.'''\n",
    "    output_mm=25.4*input_inches\n",
    "    print(output_mm)"
   ]
  },
  {
   "cell_type": "markdown",
   "id": "legal-alignment",
   "metadata": {},
   "source": [
    "We can see details about the input arguments by pressing tab ↹ and shift ⇧. "
   ]
  },
  {
   "cell_type": "markdown",
   "id": "saved-scratch",
   "metadata": {},
   "source": [
    "![inch2mm_doc_str](inch2mm_doc_str.png)"
   ]
  },
  {
   "cell_type": "markdown",
   "id": "wicked-classic",
   "metadata": {},
   "source": [
    "Now we can use it to print the value of 2 inches."
   ]
  },
  {
   "cell_type": "code",
   "execution_count": 131,
   "id": "judicial-rainbow",
   "metadata": {},
   "outputs": [
    {
     "name": "stdout",
     "output_type": "stream",
     "text": [
      "50.8\n"
     ]
    }
   ],
   "source": [
    "inch2mm(2)"
   ]
  },
  {
   "cell_type": "markdown",
   "id": "first-expense",
   "metadata": {},
   "source": [
    "Note that we have used the print statement to print the output."
   ]
  },
  {
   "cell_type": "code",
   "execution_count": 132,
   "id": "naval-emission",
   "metadata": {},
   "outputs": [
    {
     "name": "stdout",
     "output_type": "stream",
     "text": [
      "50.8\n"
     ]
    }
   ],
   "source": [
    "dim=inch2mm(2)"
   ]
  },
  {
   "cell_type": "markdown",
   "id": "strategic-vintage",
   "metadata": {},
   "source": [
    "The print statement has the return value NoneType. This means if we assign it to an object name, the value prints but the object name is assigned to NoneType. This is not that useful if we wish to use it for further calculations."
   ]
  },
  {
   "cell_type": "code",
   "execution_count": 133,
   "id": "greatest-arnold",
   "metadata": {},
   "outputs": [],
   "source": [
    "dim"
   ]
  },
  {
   "cell_type": "code",
   "execution_count": 134,
   "id": "political-hands",
   "metadata": {},
   "outputs": [
    {
     "data": {
      "text/plain": [
       "NoneType"
      ]
     },
     "execution_count": 134,
     "metadata": {},
     "output_type": "execute_result"
    }
   ],
   "source": [
    "type(dim)"
   ]
  },
  {
   "cell_type": "markdown",
   "id": "level-packing",
   "metadata": {},
   "source": [
    "To rectify this we can instead use the return statement to assign the functions return value."
   ]
  },
  {
   "cell_type": "code",
   "execution_count": 135,
   "id": "rural-lyric",
   "metadata": {},
   "outputs": [],
   "source": [
    "def inch2mm(input_inches):\n",
    "    '''Returns the value of input_inches to output_mm.'''\n",
    "    output_mm=25.4*input_inches\n",
    "    return(output_mm)"
   ]
  },
  {
   "cell_type": "code",
   "execution_count": 136,
   "id": "remarkable-michigan",
   "metadata": {},
   "outputs": [],
   "source": [
    "dim=inch2mm(2)"
   ]
  },
  {
   "cell_type": "code",
   "execution_count": 137,
   "id": "ready-island",
   "metadata": {},
   "outputs": [
    {
     "data": {
      "text/plain": [
       "50.8"
      ]
     },
     "execution_count": 137,
     "metadata": {},
     "output_type": "execute_result"
    }
   ],
   "source": [
    "dim"
   ]
  },
  {
   "cell_type": "markdown",
   "id": "alleged-bidding",
   "metadata": {},
   "source": [
    "We can update our function to use a keyword input argument with a default value of 1 inch. This can be a useful default if we want to just reference the conversion factor."
   ]
  },
  {
   "cell_type": "code",
   "execution_count": 138,
   "id": "fatty-plain",
   "metadata": {},
   "outputs": [],
   "source": [
    "def inch2mm(input_inches=1):\n",
    "    '''Returns the value of input_inches to output_mm.'''\n",
    "    output_mm=25.4*input_inches\n",
    "    return(output_mm)"
   ]
  },
  {
   "cell_type": "code",
   "execution_count": 139,
   "id": "continent-israel",
   "metadata": {},
   "outputs": [
    {
     "data": {
      "text/plain": [
       "25.4"
      ]
     },
     "execution_count": 139,
     "metadata": {},
     "output_type": "execute_result"
    }
   ],
   "source": [
    "dim=inch2mm()\n",
    "dim"
   ]
  },
  {
   "cell_type": "code",
   "execution_count": 140,
   "id": "interested-score",
   "metadata": {},
   "outputs": [
    {
     "data": {
      "text/plain": [
       "50.8"
      ]
     },
     "execution_count": 140,
     "metadata": {},
     "output_type": "execute_result"
    }
   ],
   "source": [
    "dim1=inch2mm(input_inches=2)\n",
    "dim1"
   ]
  },
  {
   "cell_type": "markdown",
   "id": "cordless-turkish",
   "metadata": {},
   "source": [
    "## Lambda functions"
   ]
  },
  {
   "cell_type": "markdown",
   "id": "hired-jones",
   "metadata": {},
   "source": [
    "Sometimes we require a small anonymous function that is only used a handful of times. This can be achieved by using a lambda function. A lambda function can have multiple arguments but has only has a single expression. The positional input arguments follow from the lambda expression using a comma as a delimiter. The colon : is used to seperate the arguments from the expression. Recreating inch2mm as a lambda expression."
   ]
  },
  {
   "cell_type": "code",
   "execution_count": 141,
   "id": "alleged-mistress",
   "metadata": {},
   "outputs": [],
   "source": [
    "inch2mm=lambda a: 25.4*a"
   ]
  },
  {
   "cell_type": "markdown",
   "id": "competent-addiction",
   "metadata": {},
   "source": [
    "Calling the lambda function without parenthesis informs us that is is a lamba expression."
   ]
  },
  {
   "cell_type": "code",
   "execution_count": 142,
   "id": "distinct-checkout",
   "metadata": {},
   "outputs": [
    {
     "data": {
      "text/plain": [
       "<function __main__.<lambda>(a)>"
      ]
     },
     "execution_count": 142,
     "metadata": {},
     "output_type": "execute_result"
    }
   ],
   "source": [
    "inch2mm"
   ]
  },
  {
   "cell_type": "markdown",
   "id": "sound-major",
   "metadata": {},
   "source": [
    "We can use it to convert 4 inches to mm."
   ]
  },
  {
   "cell_type": "code",
   "execution_count": 143,
   "id": "valid-classification",
   "metadata": {},
   "outputs": [],
   "source": [
    "dim3=inch2mm(4)"
   ]
  },
  {
   "cell_type": "code",
   "execution_count": 144,
   "id": "republican-profession",
   "metadata": {},
   "outputs": [
    {
     "data": {
      "text/plain": [
       "101.6"
      ]
     },
     "execution_count": 144,
     "metadata": {},
     "output_type": "execute_result"
    }
   ],
   "source": [
    "dim3"
   ]
  },
  {
   "cell_type": "markdown",
   "id": "stuck-halloween",
   "metadata": {},
   "source": [
    "It is possible to create a lambda expression without input arguments."
   ]
  },
  {
   "cell_type": "code",
   "execution_count": 145,
   "id": "transparent-filename",
   "metadata": {},
   "outputs": [],
   "source": [
    "print_three=lambda : print(3)"
   ]
  },
  {
   "cell_type": "code",
   "execution_count": 146,
   "id": "acute-authority",
   "metadata": {},
   "outputs": [
    {
     "data": {
      "text/plain": [
       "<function __main__.<lambda>()>"
      ]
     },
     "execution_count": 146,
     "metadata": {},
     "output_type": "execute_result"
    }
   ],
   "source": [
    "print_three"
   ]
  },
  {
   "cell_type": "code",
   "execution_count": 147,
   "id": "contained-cursor",
   "metadata": {},
   "outputs": [
    {
     "name": "stdout",
     "output_type": "stream",
     "text": [
      "3\n"
     ]
    }
   ],
   "source": [
    "print_three()"
   ]
  },
  {
   "cell_type": "markdown",
   "id": "harmful-freeze",
   "metadata": {},
   "source": [
    "In some cases a dummy input argument is expected where the lambda expression is going to be used."
   ]
  },
  {
   "cell_type": "code",
   "execution_count": 148,
   "id": "adverse-lying",
   "metadata": {},
   "outputs": [],
   "source": [
    "print_three=lambda a: print(3)"
   ]
  },
  {
   "cell_type": "code",
   "execution_count": 149,
   "id": "large-initial",
   "metadata": {},
   "outputs": [
    {
     "data": {
      "text/plain": [
       "<function __main__.<lambda>(a)>"
      ]
     },
     "execution_count": 149,
     "metadata": {},
     "output_type": "execute_result"
    }
   ],
   "source": [
    "print_three"
   ]
  },
  {
   "cell_type": "markdown",
   "id": "driven-annual",
   "metadata": {},
   "source": [
    "In this simple example, the expression is independent of the value of the dummy input argument."
   ]
  },
  {
   "cell_type": "code",
   "execution_count": 150,
   "id": "turkish-kingdom",
   "metadata": {},
   "outputs": [
    {
     "name": "stdout",
     "output_type": "stream",
     "text": [
      "3\n"
     ]
    }
   ],
   "source": [
    "print_three('a')"
   ]
  },
  {
   "cell_type": "code",
   "execution_count": 151,
   "id": "crucial-agency",
   "metadata": {},
   "outputs": [
    {
     "name": "stdout",
     "output_type": "stream",
     "text": [
      "3\n"
     ]
    }
   ],
   "source": [
    "print_three(1)"
   ]
  },
  {
   "cell_type": "markdown",
   "id": "negative-cleveland",
   "metadata": {},
   "source": [
    "For comparison we can compare the single line lambda expression with the creation of a function. "
   ]
  },
  {
   "cell_type": "code",
   "execution_count": 152,
   "id": "boring-saturn",
   "metadata": {},
   "outputs": [],
   "source": [
    "add_xy=lambda x,y: x+y"
   ]
  },
  {
   "cell_type": "code",
   "execution_count": 153,
   "id": "beautiful-bicycle",
   "metadata": {},
   "outputs": [],
   "source": [
    "def add_xy(x,y):\n",
    "    return(x+y)"
   ]
  },
  {
   "cell_type": "markdown",
   "id": "clinical-twenty",
   "metadata": {},
   "source": [
    "Both these defined functions will work in the same way."
   ]
  },
  {
   "cell_type": "code",
   "execution_count": 154,
   "id": "impaired-enhancement",
   "metadata": {},
   "outputs": [
    {
     "data": {
      "text/plain": [
       "3"
      ]
     },
     "execution_count": 154,
     "metadata": {},
     "output_type": "execute_result"
    }
   ],
   "source": [
    "add_xy(1,2)"
   ]
  },
  {
   "cell_type": "markdown",
   "id": "caring-radar",
   "metadata": {},
   "source": [
    "## Range and Looping"
   ]
  },
  {
   "cell_type": "markdown",
   "id": "comfortable-bench",
   "metadata": {},
   "source": [
    "Another inbuilt class is the range class. The range class has a varying number of input arguments. These are referred to as start, stop and step."
   ]
  },
  {
   "cell_type": "markdown",
   "id": "coastal-manchester",
   "metadata": {},
   "source": [
    "![range](range.png)"
   ]
  },
  {
   "cell_type": "markdown",
   "id": "infectious-microwave",
   "metadata": {},
   "source": [
    "When only a 0th positional input argument is input. It is taken to be stop. start is automatically assiged to 0 and steo is automatically assigned to be 1."
   ]
  },
  {
   "cell_type": "code",
   "execution_count": 155,
   "id": "focal-transformation",
   "metadata": {},
   "outputs": [],
   "source": [
    "r=range(10)"
   ]
  },
  {
   "cell_type": "code",
   "execution_count": 156,
   "id": "interpreted-testimony",
   "metadata": {},
   "outputs": [
    {
     "data": {
      "text/plain": [
       "0"
      ]
     },
     "execution_count": 156,
     "metadata": {},
     "output_type": "execute_result"
    }
   ],
   "source": [
    "r.start"
   ]
  },
  {
   "cell_type": "code",
   "execution_count": 157,
   "id": "offensive-turtle",
   "metadata": {},
   "outputs": [
    {
     "data": {
      "text/plain": [
       "10"
      ]
     },
     "execution_count": 157,
     "metadata": {},
     "output_type": "execute_result"
    }
   ],
   "source": [
    "r.stop"
   ]
  },
  {
   "cell_type": "code",
   "execution_count": 158,
   "id": "rural-standard",
   "metadata": {},
   "outputs": [
    {
     "data": {
      "text/plain": [
       "1"
      ]
     },
     "execution_count": 158,
     "metadata": {},
     "output_type": "execute_result"
    }
   ],
   "source": [
    "r.step"
   ]
  },
  {
   "cell_type": "markdown",
   "id": "aware-malta",
   "metadata": {},
   "source": [
    "When a 0th and 1st positional input arguments are input. The 0th positional input argument is taken to be start and the 1st input argument is taken to be stop. step is automatically assigned to 1."
   ]
  },
  {
   "cell_type": "code",
   "execution_count": 159,
   "id": "sustainable-reliance",
   "metadata": {},
   "outputs": [
    {
     "data": {
      "text/plain": [
       "range(1, 10)"
      ]
     },
     "execution_count": 159,
     "metadata": {},
     "output_type": "execute_result"
    }
   ],
   "source": [
    "range(1,10)"
   ]
  },
  {
   "cell_type": "code",
   "execution_count": 160,
   "id": "completed-charleston",
   "metadata": {},
   "outputs": [
    {
     "data": {
      "text/plain": [
       "0"
      ]
     },
     "execution_count": 160,
     "metadata": {},
     "output_type": "execute_result"
    }
   ],
   "source": [
    "r.start"
   ]
  },
  {
   "cell_type": "code",
   "execution_count": 161,
   "id": "nasty-filling",
   "metadata": {},
   "outputs": [
    {
     "data": {
      "text/plain": [
       "10"
      ]
     },
     "execution_count": 161,
     "metadata": {},
     "output_type": "execute_result"
    }
   ],
   "source": [
    "r.stop"
   ]
  },
  {
   "cell_type": "code",
   "execution_count": 162,
   "id": "under-times",
   "metadata": {},
   "outputs": [
    {
     "data": {
      "text/plain": [
       "1"
      ]
     },
     "execution_count": 162,
     "metadata": {},
     "output_type": "execute_result"
    }
   ],
   "source": [
    "r.step"
   ]
  },
  {
   "cell_type": "markdown",
   "id": "judicial-citizen",
   "metadata": {},
   "source": [
    "When a 0th, 1st and 2nd positional input arguments are input. The 0th positional input argument is taken to be start, the 1st input argument is taken to be stop and finally the 2nd positional input argument is taken to be step."
   ]
  },
  {
   "cell_type": "code",
   "execution_count": 163,
   "id": "religious-productivity",
   "metadata": {},
   "outputs": [],
   "source": [
    "r=range(1,10,2)"
   ]
  },
  {
   "cell_type": "code",
   "execution_count": 164,
   "id": "addressed-tourism",
   "metadata": {},
   "outputs": [
    {
     "data": {
      "text/plain": [
       "1"
      ]
     },
     "execution_count": 164,
     "metadata": {},
     "output_type": "execute_result"
    }
   ],
   "source": [
    "r.start"
   ]
  },
  {
   "cell_type": "code",
   "execution_count": 165,
   "id": "thirty-syntax",
   "metadata": {},
   "outputs": [
    {
     "data": {
      "text/plain": [
       "10"
      ]
     },
     "execution_count": 165,
     "metadata": {},
     "output_type": "execute_result"
    }
   ],
   "source": [
    "r.stop"
   ]
  },
  {
   "cell_type": "code",
   "execution_count": 166,
   "id": "introductory-macedonia",
   "metadata": {},
   "outputs": [
    {
     "data": {
      "text/plain": [
       "2"
      ]
     },
     "execution_count": 166,
     "metadata": {},
     "output_type": "execute_result"
    }
   ],
   "source": [
    "r.step"
   ]
  },
  {
   "cell_type": "markdown",
   "id": "compressed-cream",
   "metadata": {},
   "source": [
    "Unfortunately, these names do not work as keyword input arguments which would make the range class more consistent with other python classes and functions and make it more accessible for begineers."
   ]
  },
  {
   "cell_type": "markdown",
   "id": "abroad-stations",
   "metadata": {},
   "source": [
    "```range(start=0,stop=10,step=1)```"
   ]
  },
  {
   "cell_type": "markdown",
   "id": "cleared-column",
   "metadata": {},
   "source": [
    "![range2](range2.png)"
   ]
  },
  {
   "cell_type": "markdown",
   "id": "matched-principal",
   "metadata": {},
   "source": [
    "The range object is commonly used in for loops which are used to repeat a set of commands *for*  a certain number of times. For example if we want to print 'hello' 10 times we can use the following. "
   ]
  },
  {
   "cell_type": "code",
   "execution_count": 167,
   "id": "scientific-productivity",
   "metadata": {},
   "outputs": [
    {
     "name": "stdout",
     "output_type": "stream",
     "text": [
      "hello\n",
      "hello\n",
      "hello\n",
      "hello\n",
      "hello\n",
      "hello\n",
      "hello\n",
      "hello\n",
      "hello\n",
      "hello\n"
     ]
    }
   ],
   "source": [
    "for idx in range(10):\n",
    "    print('hello')"
   ]
  },
  {
   "cell_type": "markdown",
   "id": "framed-enterprise",
   "metadata": {},
   "source": [
    "The keyword for means we are going to use a for loop.\n",
    "After the for keyword we need to specify a loop variable (this can be anything as long as it is in accordance with the rules behind variable names). \n",
    "The keyword in means we are looking within an object (*in* this case, the range object).\n",
    "The colon : means we are beginning a code block. Anything belonging to the code block is indented by for spaces. This was seen earlier with the if, elif, else branching and try and except branching.\n",
    "\n",
    "We can print the loop variable instead of the str 'hello'."
   ]
  },
  {
   "cell_type": "code",
   "execution_count": 168,
   "id": "green-classic",
   "metadata": {},
   "outputs": [
    {
     "name": "stdout",
     "output_type": "stream",
     "text": [
      "0\n",
      "1\n",
      "2\n",
      "3\n",
      "4\n",
      "5\n",
      "6\n",
      "7\n",
      "8\n",
      "9\n"
     ]
    }
   ],
   "source": [
    "for idx in range(10):\n",
    "    print(idx)"
   ]
  },
  {
   "cell_type": "markdown",
   "id": "shared-authority",
   "metadata": {},
   "source": [
    "We see here that Python uses zero order indexing. This means we count from 0 (and include the lower bound 0) in steps of 1 until we approach the upper bound 10 (we don't include the upper bound 10). In other words Python indexing includes the lower bound and excludes the upper bound."
   ]
  },
  {
   "cell_type": "code",
   "execution_count": 169,
   "id": "commercial-assembly",
   "metadata": {},
   "outputs": [
    {
     "name": "stdout",
     "output_type": "stream",
     "text": [
      "1\n",
      "2\n",
      "3\n",
      "4\n",
      "5\n",
      "6\n",
      "7\n",
      "8\n",
      "9\n"
     ]
    }
   ],
   "source": [
    "for idx in range(1,10):\n",
    "    print(idx)"
   ]
  },
  {
   "cell_type": "code",
   "execution_count": 170,
   "id": "funded-fireplace",
   "metadata": {},
   "outputs": [
    {
     "name": "stdout",
     "output_type": "stream",
     "text": [
      "1\n",
      "3\n",
      "5\n",
      "7\n",
      "9\n"
     ]
    }
   ],
   "source": [
    "for idx in range(1,10,2):\n",
    "    print(idx)"
   ]
  },
  {
   "cell_type": "markdown",
   "id": "utility-oxford",
   "metadata": {},
   "source": [
    "If we return to the above:"
   ]
  },
  {
   "cell_type": "code",
   "execution_count": 171,
   "id": "expressed-alliance",
   "metadata": {},
   "outputs": [
    {
     "name": "stdout",
     "output_type": "stream",
     "text": [
      "0\n",
      "1\n",
      "2\n",
      "3\n",
      "4\n",
      "5\n",
      "6\n",
      "7\n",
      "8\n",
      "9\n"
     ]
    }
   ],
   "source": [
    "for idx in range(10):\n",
    "    print(idx)"
   ]
  },
  {
   "cell_type": "markdown",
   "id": "informative-conversation",
   "metadata": {},
   "source": [
    "And want the numeric values displayed in the reverse order, note that we have to start at 9 (inclusive of the lower bound) and stop at -1 (exclusive of the lower bound) using steps of -1."
   ]
  },
  {
   "cell_type": "code",
   "execution_count": 172,
   "id": "equipped-graphics",
   "metadata": {},
   "outputs": [
    {
     "name": "stdout",
     "output_type": "stream",
     "text": [
      "9\n",
      "8\n",
      "7\n",
      "6\n",
      "5\n",
      "4\n",
      "3\n",
      "2\n",
      "1\n",
      "0\n"
     ]
    }
   ],
   "source": [
    "for idx in range(9,-1,-1):\n",
    "    print(idx)"
   ]
  },
  {
   "cell_type": "markdown",
   "id": "loved-perception",
   "metadata": {},
   "source": [
    "The above looked looped *in* a range object. A str is an object which can have multiple characters."
   ]
  },
  {
   "cell_type": "code",
   "execution_count": 173,
   "id": "portable-coordinator",
   "metadata": {},
   "outputs": [
    {
     "name": "stdout",
     "output_type": "stream",
     "text": [
      "h\n",
      "e\n",
      "l\n",
      "l\n",
      "o\n"
     ]
    }
   ],
   "source": [
    "for idx in 'hello':\n",
    "    print(idx)"
   ]
  },
  {
   "cell_type": "markdown",
   "id": "united-image",
   "metadata": {},
   "source": [
    "Note how idx is now a letter and not a number. We can actually get both an numeric idx and a letter value by using the function enumerate instead."
   ]
  },
  {
   "cell_type": "code",
   "execution_count": 174,
   "id": "convinced-plymouth",
   "metadata": {},
   "outputs": [
    {
     "data": {
      "text/plain": [
       "<enumerate at 0x24ed0bd9040>"
      ]
     },
     "execution_count": 174,
     "metadata": {},
     "output_type": "execute_result"
    }
   ],
   "source": [
    "enumerate('hello')"
   ]
  },
  {
   "cell_type": "code",
   "execution_count": 175,
   "id": "stunning-bahamas",
   "metadata": {},
   "outputs": [
    {
     "name": "stdout",
     "output_type": "stream",
     "text": [
      "0 h\n",
      "1 e\n",
      "2 l\n",
      "3 l\n",
      "4 o\n"
     ]
    }
   ],
   "source": [
    "for idx,value in enumerate('hello'):\n",
    "    print(idx,value)"
   ]
  },
  {
   "cell_type": "markdown",
   "id": "refined-stevens",
   "metadata": {},
   "source": [
    "We could use these in calculations if we wished."
   ]
  },
  {
   "cell_type": "code",
   "execution_count": 176,
   "id": "economic-palmer",
   "metadata": {},
   "outputs": [
    {
     "name": "stdout",
     "output_type": "stream",
     "text": [
      "\n",
      "e\n",
      "ll\n",
      "lll\n",
      "oooo\n"
     ]
    }
   ],
   "source": [
    "for idx,value in enumerate('hello'):\n",
    "    print(idx*value)"
   ]
  },
  {
   "cell_type": "markdown",
   "id": "tested-inside",
   "metadata": {},
   "source": [
    "There is another loop called a while loop which will loop only if a condition is satisfied."
   ]
  },
  {
   "cell_type": "markdown",
   "id": "partial-point",
   "metadata": {},
   "source": [
    "```while condition```"
   ]
  },
  {
   "cell_type": "markdown",
   "id": "running-chemical",
   "metadata": {},
   "source": [
    "Normally an object related to the condition is changed within the code block so the condition is eventually not met and the loop ends."
   ]
  },
  {
   "cell_type": "code",
   "execution_count": 177,
   "id": "ready-davis",
   "metadata": {},
   "outputs": [
    {
     "name": "stdout",
     "output_type": "stream",
     "text": [
      "0\n",
      "1\n",
      "2\n",
      "3\n",
      "4\n"
     ]
    }
   ],
   "source": [
    "counter=0\n",
    "while counter<5:\n",
    "    print(counter)\n",
    "    counter+=1"
   ]
  },
  {
   "cell_type": "markdown",
   "id": "behind-coordinator",
   "metadata": {},
   "source": [
    "We can see that when the counter had  value of 4, the condition was satisfied and the value 4 was printed. After the value 4 was pritned, it got incremented by a value of 1 and then the while loops condition was not satisfied so the while loop broke. Therefore the code in the code block was not carried out for a value of 5. If we print the value of counter outside the loop we see it is 5."
   ]
  },
  {
   "cell_type": "code",
   "execution_count": 178,
   "id": "alternate-function",
   "metadata": {},
   "outputs": [
    {
     "data": {
      "text/plain": [
       "5"
      ]
     },
     "execution_count": 178,
     "metadata": {},
     "output_type": "execute_result"
    }
   ],
   "source": [
    "counter"
   ]
  },
  {
   "cell_type": "markdown",
   "id": "choice-lightweight",
   "metadata": {},
   "source": [
    "Note that it is possible to create a loop that will loop forever, if the condition is never updated within the loop. The following code for example would spam one of the cells in the JupyterLab notebook forever."
   ]
  },
  {
   "cell_type": "markdown",
   "id": "compliant-tomorrow",
   "metadata": {},
   "source": [
    "```\n",
    "while True:\n",
    "    print('spam')\n",
    "```    "
   ]
  },
  {
   "cell_type": "markdown",
   "id": "cubic-jenny",
   "metadata": {},
   "source": [
    "## Asserting function input arguments"
   ]
  },
  {
   "cell_type": "markdown",
   "id": "sharp-alberta",
   "metadata": {},
   "source": [
    "The assert keyword can be used to check whether or not a condition is True. If it is, the code will proceed and if it is not it will flag up an error. The form to use is."
   ]
  },
  {
   "cell_type": "markdown",
   "id": "secondary-cooperation",
   "metadata": {},
   "source": [
    "```assert condition, \"optional message\"```"
   ]
  },
  {
   "cell_type": "markdown",
   "id": "dominant-account",
   "metadata": {},
   "source": [
    "Note that assert is not a function and therefore does not use parenthesis."
   ]
  },
  {
   "cell_type": "code",
   "execution_count": 179,
   "id": "running-franklin",
   "metadata": {},
   "outputs": [],
   "source": [
    "def fun(value=0):\n",
    "    assert type(value)==int,'value must be of the datatype int'\n",
    "    print(value)"
   ]
  },
  {
   "cell_type": "markdown",
   "id": "coordinated-stereo",
   "metadata": {},
   "source": [
    "the function fun will proceed with value assigned to the default 0 and then set to 1."
   ]
  },
  {
   "cell_type": "code",
   "execution_count": 180,
   "id": "higher-baghdad",
   "metadata": {},
   "outputs": [
    {
     "name": "stdout",
     "output_type": "stream",
     "text": [
      "0\n"
     ]
    }
   ],
   "source": [
    "fun()"
   ]
  },
  {
   "cell_type": "code",
   "execution_count": 181,
   "id": "gentle-bachelor",
   "metadata": {},
   "outputs": [
    {
     "name": "stdout",
     "output_type": "stream",
     "text": [
      "1\n"
     ]
    }
   ],
   "source": [
    "fun(1)"
   ]
  },
  {
   "cell_type": "markdown",
   "id": "hydraulic-breathing",
   "metadata": {},
   "source": [
    "It will hang when value is assigned to a float 1.1 or a str of 'a'."
   ]
  },
  {
   "cell_type": "markdown",
   "id": "everyday-assessment",
   "metadata": {},
   "source": [
    "```fun(1.1.)```"
   ]
  },
  {
   "cell_type": "markdown",
   "id": "ultimate-functionality",
   "metadata": {},
   "source": [
    "![AssertionError1](AssertionError1.png)"
   ]
  },
  {
   "cell_type": "markdown",
   "id": "colored-delta",
   "metadata": {},
   "source": [
    "```fun('a')```"
   ]
  },
  {
   "cell_type": "markdown",
   "id": "dressed-trail",
   "metadata": {},
   "source": [
    "![AssertionError2](AssertionError2.png)"
   ]
  },
  {
   "cell_type": "markdown",
   "id": "pressed-seating",
   "metadata": {},
   "source": [
    "We can combine the assertion statement with a try and except branch with instructions to handle the AssertionError."
   ]
  },
  {
   "cell_type": "code",
   "execution_count": 182,
   "id": "controlling-noise",
   "metadata": {},
   "outputs": [],
   "source": [
    "def fun(value=0):\n",
    "    try:\n",
    "        assert type(value)==int, 'value must be of the datatype int'\n",
    "        print(value)\n",
    "    except AssertionError:\n",
    "        print('invalid datatype for value, value must be an int datatype.')"
   ]
  },
  {
   "cell_type": "markdown",
   "id": "another-prince",
   "metadata": {},
   "source": [
    "Now once again when value is assigned to its default value int 0 or the int 1 the code works as expected. When it is assigned to the float 1.1 or the str, the AsertionError is handled and the print statement displays."
   ]
  },
  {
   "cell_type": "code",
   "execution_count": 183,
   "id": "exposed-taiwan",
   "metadata": {},
   "outputs": [
    {
     "name": "stdout",
     "output_type": "stream",
     "text": [
      "0\n"
     ]
    }
   ],
   "source": [
    "fun()"
   ]
  },
  {
   "cell_type": "code",
   "execution_count": 184,
   "id": "diverse-height",
   "metadata": {},
   "outputs": [
    {
     "name": "stdout",
     "output_type": "stream",
     "text": [
      "1\n"
     ]
    }
   ],
   "source": [
    "fun(1)"
   ]
  },
  {
   "cell_type": "code",
   "execution_count": 185,
   "id": "starting-estate",
   "metadata": {},
   "outputs": [
    {
     "name": "stdout",
     "output_type": "stream",
     "text": [
      "invalid datatype for value, value must be an int datatype.\n"
     ]
    }
   ],
   "source": [
    "fun(1.1)"
   ]
  },
  {
   "cell_type": "code",
   "execution_count": 186,
   "id": "accomplished-boating",
   "metadata": {},
   "outputs": [
    {
     "name": "stdout",
     "output_type": "stream",
     "text": [
      "invalid datatype for value, value must be an int datatype.\n"
     ]
    }
   ],
   "source": [
    "fun('a')"
   ]
  },
  {
   "cell_type": "markdown",
   "id": "executive-reason",
   "metadata": {},
   "source": [
    "The condition can be updated to accept an int or a float."
   ]
  },
  {
   "cell_type": "code",
   "execution_count": 187,
   "id": "directed-escape",
   "metadata": {},
   "outputs": [],
   "source": [
    "def fun(value=0):\n",
    "    try:\n",
    "        assert (type(value)==int or type(value)==float), 'value must be of the datatype int or float'\n",
    "        print(value)\n",
    "    except AssertionError:\n",
    "        print('invalid datatype for value, value must be an int or float datatype.')"
   ]
  },
  {
   "cell_type": "markdown",
   "id": "fitted-generation",
   "metadata": {},
   "source": [
    "Now once again when value is assigned to its default value int 0 or the int 1 or the float 1.1 the code works as expected. When it is assigned to the str, the AssertionError is handled and the print statement displays."
   ]
  },
  {
   "cell_type": "code",
   "execution_count": 188,
   "id": "organic-anthropology",
   "metadata": {},
   "outputs": [
    {
     "name": "stdout",
     "output_type": "stream",
     "text": [
      "0\n"
     ]
    }
   ],
   "source": [
    "fun()"
   ]
  },
  {
   "cell_type": "code",
   "execution_count": 189,
   "id": "sacred-command",
   "metadata": {},
   "outputs": [
    {
     "name": "stdout",
     "output_type": "stream",
     "text": [
      "1\n"
     ]
    }
   ],
   "source": [
    "fun(1)"
   ]
  },
  {
   "cell_type": "code",
   "execution_count": 190,
   "id": "killing-costa",
   "metadata": {},
   "outputs": [
    {
     "name": "stdout",
     "output_type": "stream",
     "text": [
      "1.1\n"
     ]
    }
   ],
   "source": [
    "fun(1.1)"
   ]
  },
  {
   "cell_type": "code",
   "execution_count": 191,
   "id": "printable-savannah",
   "metadata": {},
   "outputs": [
    {
     "name": "stdout",
     "output_type": "stream",
     "text": [
      "invalid datatype for value, value must be an int or float datatype.\n"
     ]
    }
   ],
   "source": [
    "fun('a')"
   ]
  },
  {
   "cell_type": "markdown",
   "id": "active-elements",
   "metadata": {},
   "source": [
    "## Custom Classes"
   ]
  },
  {
   "cell_type": "markdown",
   "id": "governmental-taxation",
   "metadata": {},
   "source": [
    "We have used an instance of an int class and an instance of a str class and seen that these have a substantially different number of attributes and methods available to them. We can begin to understand this by looking at how a custom class is constructed. \n",
    "\n",
    "Python is an object orientated programming language and every class used inherits its properties from the object superclass. This can be seen by using the function issubclass. We can see the keyword input arguments the tab ↹ and shift ⇧."
   ]
  },
  {
   "cell_type": "markdown",
   "id": "statistical-planning",
   "metadata": {},
   "source": [
    "![issubclass_function](issubclass_function.png)"
   ]
  },
  {
   "cell_type": "markdown",
   "id": "municipal-dominant",
   "metadata": {},
   "source": [
    "We see that int, str, floats and bools are all subclasses of the object class."
   ]
  },
  {
   "cell_type": "code",
   "execution_count": 192,
   "id": "european-excess",
   "metadata": {},
   "outputs": [
    {
     "data": {
      "text/plain": [
       "True"
      ]
     },
     "execution_count": 192,
     "metadata": {},
     "output_type": "execute_result"
    }
   ],
   "source": [
    "issubclass(int,object)"
   ]
  },
  {
   "cell_type": "code",
   "execution_count": 193,
   "id": "subjective-mileage",
   "metadata": {},
   "outputs": [
    {
     "data": {
      "text/plain": [
       "True"
      ]
     },
     "execution_count": 193,
     "metadata": {},
     "output_type": "execute_result"
    }
   ],
   "source": [
    "issubclass(str,object)"
   ]
  },
  {
   "cell_type": "code",
   "execution_count": 194,
   "id": "under-responsibility",
   "metadata": {},
   "outputs": [
    {
     "data": {
      "text/plain": [
       "True"
      ]
     },
     "execution_count": 194,
     "metadata": {},
     "output_type": "execute_result"
    }
   ],
   "source": [
    "issubclass(float,object)"
   ]
  },
  {
   "cell_type": "code",
   "execution_count": 195,
   "id": "stylish-norway",
   "metadata": {},
   "outputs": [
    {
     "data": {
      "text/plain": [
       "True"
      ]
     },
     "execution_count": 195,
     "metadata": {},
     "output_type": "execute_result"
    }
   ],
   "source": [
    "issubclass(bool,object)"
   ]
  },
  {
   "cell_type": "markdown",
   "id": "muslim-caution",
   "metadata": {},
   "source": [
    "We see that str is not a subclass of int as expected as they behave very differently (have vastly different attributes and methods). "
   ]
  },
  {
   "cell_type": "code",
   "execution_count": 196,
   "id": "unsigned-villa",
   "metadata": {},
   "outputs": [
    {
     "data": {
      "text/plain": [
       "False"
      ]
     },
     "execution_count": 196,
     "metadata": {},
     "output_type": "execute_result"
    }
   ],
   "source": [
    "issubclass(str,int)"
   ]
  },
  {
   "cell_type": "markdown",
   "id": "beneficial-martin",
   "metadata": {},
   "source": [
    "Although float and int have similarly defined methods and attributes they are still independent classes."
   ]
  },
  {
   "cell_type": "code",
   "execution_count": 197,
   "id": "equal-church",
   "metadata": {},
   "outputs": [
    {
     "data": {
      "text/plain": [
       "False"
      ]
     },
     "execution_count": 197,
     "metadata": {},
     "output_type": "execute_result"
    }
   ],
   "source": [
    "issubclass(float,int)"
   ]
  },
  {
   "cell_type": "markdown",
   "id": "responsible-workplace",
   "metadata": {},
   "source": [
    "We seen that the bool class has identical methods and attributes to the int class. This is because it is a subclass of the int superclass."
   ]
  },
  {
   "cell_type": "code",
   "execution_count": 198,
   "id": "accredited-bracelet",
   "metadata": {},
   "outputs": [
    {
     "data": {
      "text/plain": [
       "True"
      ]
     },
     "execution_count": 198,
     "metadata": {},
     "output_type": "execute_result"
    }
   ],
   "source": [
    "issubclass(bool,int)"
   ]
  },
  {
   "cell_type": "markdown",
   "id": "aware-brooklyn",
   "metadata": {},
   "source": [
    "### Creating a Class"
   ]
  },
  {
   "cell_type": "markdown",
   "id": "random-concept",
   "metadata": {},
   "source": [
    "Constructing a class shares some commonalities with defining a function. We use class (to define a class) instead of def (which we use to define a function). The convention is to use CamelCaseCapitilization opposed to lower_case for a function or variable. Parenthesis is used to enclose the superclass. The custom class being created will inherit properties from the superclass such as attributes and methods. object is the default superclass of everything in the python programming language and if a custom class is created without a class in the 0th position of the parenthesis it will be automatically use object as its superclass. i.e. the two cells below are equivalent."
   ]
  },
  {
   "cell_type": "code",
   "execution_count": 199,
   "id": "general-behalf",
   "metadata": {},
   "outputs": [],
   "source": [
    "class ScalarClass(object):\n",
    "    pass"
   ]
  },
  {
   "cell_type": "code",
   "execution_count": 200,
   "id": "serious-stephen",
   "metadata": {},
   "outputs": [],
   "source": [
    "class ScalarClass():\n",
    "    pass"
   ]
  },
  {
   "cell_type": "markdown",
   "id": "residential-retailer",
   "metadata": {},
   "source": [
    "The class above does nothing, it can be called in a cell without parenthesis which will return details about the class. This is analogous to calling the class int without parenthesis."
   ]
  },
  {
   "cell_type": "code",
   "execution_count": 201,
   "id": "chubby-nickname",
   "metadata": {},
   "outputs": [
    {
     "data": {
      "text/plain": [
       "int"
      ]
     },
     "execution_count": 201,
     "metadata": {},
     "output_type": "execute_result"
    }
   ],
   "source": [
    "int"
   ]
  },
  {
   "cell_type": "code",
   "execution_count": 202,
   "id": "noticed-logic",
   "metadata": {},
   "outputs": [
    {
     "data": {
      "text/plain": [
       "__main__.ScalarClass"
      ]
     },
     "execution_count": 202,
     "metadata": {},
     "output_type": "execute_result"
    }
   ],
   "source": [
    "ScalarClass"
   ]
  },
  {
   "cell_type": "markdown",
   "id": "improved-exception",
   "metadata": {},
   "source": [
    "When we type in int followed by a tab ↹ and shift ⇧ we get details about the input arguments to provide when using the init signature."
   ]
  },
  {
   "cell_type": "markdown",
   "id": "beneficial-memory",
   "metadata": {},
   "source": [
    "![int_init_signature](int_init_signature.png)"
   ]
  },
  {
   "cell_type": "markdown",
   "id": "improving-investigation",
   "metadata": {},
   "source": [
    "When we do the same for our custom class ScalarClass we get no details because we have not inherited and no defined an init signature. There has also been no docstring created."
   ]
  },
  {
   "cell_type": "markdown",
   "id": "intense-cotton",
   "metadata": {},
   "source": [
    "![ScalarClass_init_signature](ScalarClass_init_signature.png)"
   ]
  },
  {
   "cell_type": "markdown",
   "id": "labeled-sweden",
   "metadata": {},
   "source": [
    "### Inheritance"
   ]
  },
  {
   "cell_type": "markdown",
   "id": "developed-observation",
   "metadata": {},
   "source": [
    "Let's now instead redefine our ScalarClass and use int as the superclass."
   ]
  },
  {
   "cell_type": "code",
   "execution_count": 203,
   "id": "quality-trailer",
   "metadata": {},
   "outputs": [],
   "source": [
    "class ScalarClass(int):\n",
    "    pass"
   ]
  },
  {
   "cell_type": "markdown",
   "id": "biblical-captain",
   "metadata": {},
   "source": [
    "Now when we type in ScalarClass followed by a tab ↹ and shift ⇧ we inherit the init signature (and all the methods and attributes) of the int class. The docstring therefore resembles that of the int subclass."
   ]
  },
  {
   "cell_type": "markdown",
   "id": "transparent-battery",
   "metadata": {},
   "source": [
    "![ScalarClass_int_inheritance_init_signature](ScalarClass_int_inheritance_init_signature.png)"
   ]
  },
  {
   "cell_type": "markdown",
   "id": "bacterial-austria",
   "metadata": {},
   "source": [
    "Creating an instance of a class is also known as instantiating a class. Let's instantiate an instance l of the ScalarClass."
   ]
  },
  {
   "cell_type": "code",
   "execution_count": 204,
   "id": "immediate-collaboration",
   "metadata": {},
   "outputs": [],
   "source": [
    "l=ScalarClass(5)"
   ]
  },
  {
   "cell_type": "markdown",
   "id": "divided-fabric",
   "metadata": {},
   "source": [
    "Because the init signature is inherited from the str class, we only need to provide the positional input argument self. If we now type in our instance name followed by a dot . and ↹ shows the list of attributes and methods. These are identical to those from the int superclass because we have inherited them from the int superclass."
   ]
  },
  {
   "cell_type": "markdown",
   "id": "useful-daughter",
   "metadata": {},
   "source": [
    "![ScalarClass_int_inheritance_attributes_methods](ScalarClass_int_inheritance_attributes_methods.png)"
   ]
  },
  {
   "cell_type": "markdown",
   "id": "joint-testimony",
   "metadata": {},
   "source": [
    "Let's now provide our own custom docstring."
   ]
  },
  {
   "cell_type": "code",
   "execution_count": 205,
   "id": "ahead-pontiac",
   "metadata": {},
   "outputs": [],
   "source": [
    "class ScalarClass(int):\n",
    "    '''Inherited from int superclass\n",
    "    Convert a number or string to an integer, or return 0 if no arguments are given. \n",
    "    For floating point numbers this truncates towards 0'''\n",
    "    pass"
   ]
  },
  {
   "cell_type": "markdown",
   "id": "still-documentation",
   "metadata": {},
   "source": [
    "Now when we type in ScalarClass followed by a tab ↹ and shift ⇧ we will see our own custom docstring opposed to the one inherited from the int class. In general the custom class will use anything we provide in preference to what it inherits from the superclass."
   ]
  },
  {
   "cell_type": "markdown",
   "id": "indie-analyst",
   "metadata": {},
   "source": [
    "![ScalarClass_int_inheritance_attributes_methods_customdocstr](ScalarClass_int_inheritance_attributes_methods_customdocstr.png)"
   ]
  },
  {
   "cell_type": "markdown",
   "id": "democratic-boxing",
   "metadata": {},
   "source": [
    "### Class functions (methods)"
   ]
  },
  {
   "cell_type": "markdown",
   "id": "noticed-spanish",
   "metadata": {},
   "source": [
    "Within the class we can define a custom function. \n",
    "This custom function will belong to the class and can be called from any instance of the class i.e. is a method of any instance of the class."
   ]
  },
  {
   "cell_type": "code",
   "execution_count": 206,
   "id": "enhanced-filter",
   "metadata": {},
   "outputs": [],
   "source": [
    "class ScalarClass(int):\n",
    "    '''Inherited from int superclass\n",
    "    Convert a number or string to an integer, or return 0 if no arguments are given. \n",
    "    For floating point numbers this truncates towards 0'''\n",
    "    def printhello():\n",
    "        print('hello')"
   ]
  },
  {
   "cell_type": "markdown",
   "id": "synthetic-roommate",
   "metadata": {},
   "source": [
    "Since we have updated our class we need to reinstantiate our instance l (otherwise l is an instance of the old custom class)."
   ]
  },
  {
   "cell_type": "code",
   "execution_count": 207,
   "id": "judicial-porcelain",
   "metadata": {},
   "outputs": [],
   "source": [
    "l=ScalarClass(5)"
   ]
  },
  {
   "cell_type": "markdown",
   "id": "former-blanket",
   "metadata": {},
   "source": [
    "Now when we type in our instance name followed by a dot . a tab ↹ we get the list of attributes and methods. Note our custom method printhello displays."
   ]
  },
  {
   "cell_type": "markdown",
   "id": "conscious-communications",
   "metadata": {},
   "source": [
    "![ScalarClass_int_inheritance_custom_method_printhello](ScalarClass_int_inheritance_custom_method_printhello.png)"
   ]
  },
  {
   "cell_type": "markdown",
   "id": "infinite-jersey",
   "metadata": {},
   "source": [
    "We can call the custom method from the class itself, we see it works as expected."
   ]
  },
  {
   "cell_type": "code",
   "execution_count": 208,
   "id": "signal-width",
   "metadata": {},
   "outputs": [
    {
     "name": "stdout",
     "output_type": "stream",
     "text": [
      "hello\n"
     ]
    }
   ],
   "source": [
    "ScalarClass.printhello()"
   ]
  },
  {
   "cell_type": "markdown",
   "id": "brutal-earth",
   "metadata": {},
   "source": [
    "However when we attempt to call it as a method we get the following error."
   ]
  },
  {
   "cell_type": "markdown",
   "id": "strange-remark",
   "metadata": {},
   "source": [
    "![ScalarClass_int_inheritance_custom_method_printhello_positional_input_arguments_error](ScalarClass_int_inheritance_custom_method_printhello_positional_input_arguments_error.png)"
   ]
  },
  {
   "cell_type": "markdown",
   "id": "established-hammer",
   "metadata": {},
   "source": [
    "When we type in the method followed by a tab ↹ and shift ⇧ we get details about the input arguments. As we can see there are none because we haven't provided any when we defined the function and there is no docstring."
   ]
  },
  {
   "cell_type": "markdown",
   "id": "overhead-veteran",
   "metadata": {},
   "source": [
    "![ScalarClass_int_inheritance_custom_method_printhello_docstring](ScalarClass_int_inheritance_custom_method_printhello_docstring.png)"
   ]
  },
  {
   "cell_type": "markdown",
   "id": "correct-memory",
   "metadata": {},
   "source": [
    "The error is this function takes 0 positional input arguments but 1 was given. This means an input argument was provided at position 0 but there was no 0th positional input argument defined in the function. When a method is called from an instance, the instance its *self* is provided automatically as the 0th positional input argument. \n",
    "\n",
    "We therefore need to update the function printhello to use self as its 0th positional input argument."
   ]
  },
  {
   "cell_type": "code",
   "execution_count": 209,
   "id": "spiritual-transmission",
   "metadata": {},
   "outputs": [],
   "source": [
    "class ScalarClass(int):\n",
    "    '''Inherited from int superclass\n",
    "    Convert a number or string to an integer, or return 0 if no arguments are given. \n",
    "    For floating point numbers this truncates towards 0.'''\n",
    "    def printhello(self):\n",
    "        '''This will print hello.'''\n",
    "        print('hello')"
   ]
  },
  {
   "cell_type": "markdown",
   "id": "conceptual-louis",
   "metadata": {},
   "source": [
    "Since we have updated our class we need to reinstantiate our instance l."
   ]
  },
  {
   "cell_type": "code",
   "execution_count": 210,
   "id": "satisfactory-tyler",
   "metadata": {},
   "outputs": [],
   "source": [
    "l=ScalarClass(5)"
   ]
  },
  {
   "cell_type": "markdown",
   "id": "generic-fellow",
   "metadata": {},
   "source": [
    "When the function is called from the instance l, the instance l will be supplied as self. So the method now works as intended."
   ]
  },
  {
   "cell_type": "code",
   "execution_count": 211,
   "id": "supreme-builder",
   "metadata": {},
   "outputs": [
    {
     "name": "stdout",
     "output_type": "stream",
     "text": [
      "hello\n"
     ]
    }
   ],
   "source": [
    "l.printhello()"
   ]
  },
  {
   "cell_type": "markdown",
   "id": "operational-attachment",
   "metadata": {},
   "source": [
    "Note that it will give an error when called directly from the class as no instance is provided."
   ]
  },
  {
   "cell_type": "markdown",
   "id": "virgin-charter",
   "metadata": {},
   "source": [
    "![ScalarClass_int_inheritance_custom_method_printhello_positional_input_arguments_error2](ScalarClass_int_inheritance_custom_method_printhello_positional_input_arguments_error2.png)"
   ]
  },
  {
   "cell_type": "markdown",
   "id": "cathedral-praise",
   "metadata": {},
   "source": [
    "It will work correctly when an instance is provided."
   ]
  },
  {
   "cell_type": "code",
   "execution_count": 212,
   "id": "academic-optimization",
   "metadata": {},
   "outputs": [
    {
     "name": "stdout",
     "output_type": "stream",
     "text": [
      "hello\n"
     ]
    }
   ],
   "source": [
    "ScalarClass.printhello(l)"
   ]
  },
  {
   "cell_type": "markdown",
   "id": "informational-light",
   "metadata": {},
   "source": [
    "### Static Class functions"
   ]
  },
  {
   "cell_type": "markdown",
   "id": "sealed-writing",
   "metadata": {},
   "source": [
    "When we first created the class function printhello it worked without providing an instance. In some rare cases, we may want a static method that can perform this way when called directly from a class or alternatively directly from an instance. To do this we need to use the decorator @staticmethod and we can create a function without any input arguments."
   ]
  },
  {
   "cell_type": "code",
   "execution_count": 213,
   "id": "posted-defendant",
   "metadata": {},
   "outputs": [],
   "source": [
    "class ScalarClass(int):\n",
    "    '''Inherited from int superclass\n",
    "    Convert a number or string to an integer, or return 0 if no arguments are given. \n",
    "    For floating point numbers this truncates towards 0.'''\n",
    "    def printhello(self):\n",
    "        '''This will print hello.'''\n",
    "        print('hello')\n",
    "    @staticmethod\n",
    "    def statichello():\n",
    "        '''This is a static method that prints hello.'''\n",
    "        print('hello')"
   ]
  },
  {
   "cell_type": "markdown",
   "id": "proved-illinois",
   "metadata": {},
   "source": [
    "Since we have updated our class we need to reinstantiate our instance l."
   ]
  },
  {
   "cell_type": "code",
   "execution_count": 214,
   "id": "charitable-vegetable",
   "metadata": {},
   "outputs": [],
   "source": [
    "l=ScalarClass(5)"
   ]
  },
  {
   "cell_type": "markdown",
   "id": "fitted-directive",
   "metadata": {},
   "source": [
    "When the function is called from the instance l, because the staticmethod decorator is present, the instance l will not be supplied. This means there is no input argument input and none expected so the static method works as expected."
   ]
  },
  {
   "cell_type": "code",
   "execution_count": 215,
   "id": "medical-temperature",
   "metadata": {},
   "outputs": [
    {
     "name": "stdout",
     "output_type": "stream",
     "text": [
      "hello\n"
     ]
    }
   ],
   "source": [
    "l.statichello()"
   ]
  },
  {
   "cell_type": "markdown",
   "id": "future-governor",
   "metadata": {},
   "source": [
    "The staticmethod can also be called directly from the class without specifying an instance."
   ]
  },
  {
   "cell_type": "code",
   "execution_count": 216,
   "id": "portuguese-myanmar",
   "metadata": {},
   "outputs": [
    {
     "name": "stdout",
     "output_type": "stream",
     "text": [
      "hello\n"
     ]
    }
   ],
   "source": [
    "ScalarClass.statichello()"
   ]
  },
  {
   "cell_type": "markdown",
   "id": "wooden-float",
   "metadata": {},
   "source": [
    "### Instance variables (attributes)"
   ]
  },
  {
   "cell_type": "markdown",
   "id": "forced-liechtenstein",
   "metadata": {},
   "source": [
    "Recall that an attribute is an object (or variable) that is referenced with respect to another object."
   ]
  },
  {
   "cell_type": "markdown",
   "id": "premier-jordan",
   "metadata": {},
   "source": [
    "We can create a method which creates an attribute, that is an object belonging to the instance self."
   ]
  },
  {
   "cell_type": "code",
   "execution_count": 217,
   "id": "employed-renaissance",
   "metadata": {},
   "outputs": [],
   "source": [
    "class ScalarClass(int):\n",
    "    '''Inherited from int superclass\n",
    "    Convert a number or string to an integer, or return 0 if no arguments are given. \n",
    "    For floating point numbers this truncates towards 0.'''\n",
    "    def printhello(self):\n",
    "        '''This will print hello.'''\n",
    "        print('hello')\n",
    "    def create_attributes(self):\n",
    "        self.inverse=1/self"
   ]
  },
  {
   "cell_type": "markdown",
   "id": "ordinary-folks",
   "metadata": {},
   "source": [
    "Since we have updated our class we need to reinstantiate our instance l."
   ]
  },
  {
   "cell_type": "code",
   "execution_count": 218,
   "id": "forward-terrain",
   "metadata": {},
   "outputs": [],
   "source": [
    "l=ScalarClass(5)"
   ]
  },
  {
   "cell_type": "markdown",
   "id": "funny-script",
   "metadata": {},
   "source": [
    "When we type in our instance name followed by a dot . a tab ↹ we get the list of attributes and methods. Note our custom method create_attributes displays but no attribute inverse displays as it has not been created yet."
   ]
  },
  {
   "cell_type": "markdown",
   "id": "indian-simulation",
   "metadata": {},
   "source": [
    "![ScalarClass_int_inheritance_custom_method_createattributes](ScalarClass_int_inheritance_custom_method_createattributes.png)"
   ]
  },
  {
   "cell_type": "markdown",
   "id": "filled-consultancy",
   "metadata": {},
   "source": [
    "When we call this, an attribute is created:"
   ]
  },
  {
   "cell_type": "code",
   "execution_count": 219,
   "id": "married-university",
   "metadata": {},
   "outputs": [],
   "source": [
    "l.create_attributes()"
   ]
  },
  {
   "cell_type": "markdown",
   "id": "functional-accommodation",
   "metadata": {},
   "source": [
    "When we type in our instance name followed by a dot . a tab ↹ we get the list of attributes and methods. Our custom attribute inverse now displays."
   ]
  },
  {
   "cell_type": "markdown",
   "id": "cultural-programming",
   "metadata": {},
   "source": [
    "![ScalarClass_int_inheritance_custom_attribute_inverse](ScalarClass_int_inheritance_custom_attribute_inverse.png)"
   ]
  },
  {
   "cell_type": "markdown",
   "id": "noble-petroleum",
   "metadata": {},
   "source": [
    "We can call this to get the inverse of l which is 0.2 as expected."
   ]
  },
  {
   "cell_type": "code",
   "execution_count": 220,
   "id": "velvet-transparency",
   "metadata": {},
   "outputs": [
    {
     "data": {
      "text/plain": [
       "0.2"
      ]
     },
     "execution_count": 220,
     "metadata": {},
     "output_type": "execute_result"
    }
   ],
   "source": [
    "l.inverse"
   ]
  },
  {
   "cell_type": "markdown",
   "id": "lonely-ordering",
   "metadata": {},
   "source": [
    "### Class Variables"
   ]
  },
  {
   "cell_type": "markdown",
   "id": "authentic-surveillance",
   "metadata": {},
   "source": [
    "It is possible to create a class variable, which is essentially an attribute that will have a constant value for every single instance of a class when the class is instantiated. "
   ]
  },
  {
   "cell_type": "code",
   "execution_count": 221,
   "id": "analyzed-mexican",
   "metadata": {},
   "outputs": [],
   "source": [
    "class ScalarClass(int):\n",
    "    '''Inherited from int superclass\n",
    "    Convert a number or string to an integer, or return 0 if no arguments are given. \n",
    "    For floating point numbers this truncates towards 0.'''\n",
    "    greeting='hello'\n",
    "    def printhello(self):\n",
    "        '''This will print hello.'''\n",
    "        print('hello')\n",
    "    def create_attributes(self):\n",
    "        self.inverse=1/self"
   ]
  },
  {
   "cell_type": "markdown",
   "id": "editorial-deployment",
   "metadata": {},
   "source": [
    "A class variable can be accessed without use of an instance of a class."
   ]
  },
  {
   "cell_type": "code",
   "execution_count": 222,
   "id": "characteristic-merchant",
   "metadata": {},
   "outputs": [
    {
     "data": {
      "text/plain": [
       "'hello'"
      ]
     },
     "execution_count": 222,
     "metadata": {},
     "output_type": "execute_result"
    }
   ],
   "source": [
    "ScalarClass.greeting"
   ]
  },
  {
   "cell_type": "markdown",
   "id": "sound-institution",
   "metadata": {},
   "source": [
    "Since we have updated our class we need to reinstantiate our instance l."
   ]
  },
  {
   "cell_type": "code",
   "execution_count": 223,
   "id": "essential-bangladesh",
   "metadata": {},
   "outputs": [],
   "source": [
    "l=ScalarClass(5)"
   ]
  },
  {
   "cell_type": "markdown",
   "id": "attached-television",
   "metadata": {},
   "source": [
    "The class variable is now available as an attribute."
   ]
  },
  {
   "cell_type": "code",
   "execution_count": 224,
   "id": "diagnostic-frederick",
   "metadata": {},
   "outputs": [
    {
     "data": {
      "text/plain": [
       "'hello'"
      ]
     },
     "execution_count": 224,
     "metadata": {},
     "output_type": "execute_result"
    }
   ],
   "source": [
    "l.greeting"
   ]
  },
  {
   "cell_type": "markdown",
   "id": "fancy-monthly",
   "metadata": {},
   "source": [
    "### Private Variables and Methods"
   ]
  },
  {
   "cell_type": "markdown",
   "id": "tight-labor",
   "metadata": {},
   "source": [
    "If a method or attribute begins with an underscore it is usually designed for private use and is hidden."
   ]
  },
  {
   "cell_type": "code",
   "execution_count": 225,
   "id": "catholic-macedonia",
   "metadata": {},
   "outputs": [],
   "source": [
    "class ScalarClass(int):\n",
    "    '''Inherited from int superclass\n",
    "    Convert a number or string to an integer, or return 0 if no arguments are given. \n",
    "    For floating point numbers this truncates towards 0.'''\n",
    "    def _create_attributes(self):\n",
    "        self._inverse=1/self"
   ]
  },
  {
   "cell_type": "markdown",
   "id": "southern-generic",
   "metadata": {},
   "source": [
    "Typing in the ScalarClass dot . and tab ↹ does not display the private method \\_create\\_attributes as it is hidden."
   ]
  },
  {
   "cell_type": "markdown",
   "id": "isolated-instruction",
   "metadata": {},
   "source": [
    "![ScalarClass_hidden_methods](ScalarClass_hidden_methods.png)"
   ]
  },
  {
   "cell_type": "markdown",
   "id": "cloudy-organizer",
   "metadata": {},
   "source": [
    "The function dir can be used to view all attributes and methods available to the class."
   ]
  },
  {
   "cell_type": "code",
   "execution_count": 226,
   "id": "advance-routine",
   "metadata": {
    "scrolled": true
   },
   "outputs": [
    {
     "data": {
      "text/plain": [
       "['__abs__',\n",
       " '__add__',\n",
       " '__and__',\n",
       " '__bool__',\n",
       " '__ceil__',\n",
       " '__class__',\n",
       " '__delattr__',\n",
       " '__dict__',\n",
       " '__dir__',\n",
       " '__divmod__',\n",
       " '__doc__',\n",
       " '__eq__',\n",
       " '__float__',\n",
       " '__floor__',\n",
       " '__floordiv__',\n",
       " '__format__',\n",
       " '__ge__',\n",
       " '__getattribute__',\n",
       " '__getnewargs__',\n",
       " '__gt__',\n",
       " '__hash__',\n",
       " '__index__',\n",
       " '__init__',\n",
       " '__init_subclass__',\n",
       " '__int__',\n",
       " '__invert__',\n",
       " '__le__',\n",
       " '__lshift__',\n",
       " '__lt__',\n",
       " '__mod__',\n",
       " '__module__',\n",
       " '__mul__',\n",
       " '__ne__',\n",
       " '__neg__',\n",
       " '__new__',\n",
       " '__or__',\n",
       " '__pos__',\n",
       " '__pow__',\n",
       " '__radd__',\n",
       " '__rand__',\n",
       " '__rdivmod__',\n",
       " '__reduce__',\n",
       " '__reduce_ex__',\n",
       " '__repr__',\n",
       " '__rfloordiv__',\n",
       " '__rlshift__',\n",
       " '__rmod__',\n",
       " '__rmul__',\n",
       " '__ror__',\n",
       " '__round__',\n",
       " '__rpow__',\n",
       " '__rrshift__',\n",
       " '__rshift__',\n",
       " '__rsub__',\n",
       " '__rtruediv__',\n",
       " '__rxor__',\n",
       " '__setattr__',\n",
       " '__sizeof__',\n",
       " '__str__',\n",
       " '__sub__',\n",
       " '__subclasshook__',\n",
       " '__truediv__',\n",
       " '__trunc__',\n",
       " '__xor__',\n",
       " '_create_attributes',\n",
       " 'as_integer_ratio',\n",
       " 'bit_length',\n",
       " 'conjugate',\n",
       " 'denominator',\n",
       " 'from_bytes',\n",
       " 'imag',\n",
       " 'numerator',\n",
       " 'real',\n",
       " 'to_bytes']"
      ]
     },
     "execution_count": 226,
     "metadata": {},
     "output_type": "execute_result"
    }
   ],
   "source": [
    "dir(ScalarClass)"
   ]
  },
  {
   "cell_type": "markdown",
   "id": "attractive-drilling",
   "metadata": {},
   "source": [
    "The list contains a number of **d**ouble **under**score (dunder) methods that begin and end with a double underscore. We will have a look at their meaning in a moment. Under these our custom hidden method \\_create\\_attributes now displays and then the remaining list of attributes and methods displays. "
   ]
  },
  {
   "cell_type": "markdown",
   "id": "criminal-staff",
   "metadata": {},
   "source": [
    "In many cases we will want a safe way to create an attribute and read an attribute. Instead of creating an attribute directly we may create a hidden attribute alongside an associated get and set method."
   ]
  },
  {
   "cell_type": "code",
   "execution_count": 227,
   "id": "textile-concentration",
   "metadata": {},
   "outputs": [],
   "source": [
    "class ScalarClass(int):\n",
    "    '''Inherited from int superclass\n",
    "    Convert a number or string to an integer, or return 0 if no arguments are given. \n",
    "    For floating point numbers this truncates towards 0.'''\n",
    "    def set_inverse(self):\n",
    "        '''Sets the inverse attribute of self.'''\n",
    "        self._inverse=1/self\n",
    "    def get_inverse(self):\n",
    "        '''Gets the inverse attribute of self. If the attribute is set.'''\n",
    "        try:\n",
    "            return self._inverse\n",
    "        except AttributeError:\n",
    "            print('inverse is not yet assigned, use set_inverse first.')"
   ]
  },
  {
   "cell_type": "markdown",
   "id": "civilian-whole",
   "metadata": {},
   "source": [
    "Since we have updated our class we need to reinstantiate our instance l."
   ]
  },
  {
   "cell_type": "code",
   "execution_count": 228,
   "id": "adjusted-anthropology",
   "metadata": {},
   "outputs": [],
   "source": [
    "l=ScalarClass(5)"
   ]
  },
  {
   "cell_type": "markdown",
   "id": "ready-roads",
   "metadata": {},
   "source": [
    "When we attempt to use the method get_inverse we are informed that the inverse is not yet assigned and instructed to use set_inverse first."
   ]
  },
  {
   "cell_type": "code",
   "execution_count": 229,
   "id": "outside-customer",
   "metadata": {},
   "outputs": [
    {
     "name": "stdout",
     "output_type": "stream",
     "text": [
      "inverse is not yet assigned, use set_inverse first.\n"
     ]
    }
   ],
   "source": [
    "l.get_inverse()"
   ]
  },
  {
   "cell_type": "markdown",
   "id": "magnetic-speaking",
   "metadata": {},
   "source": [
    "We can use set_inverse which works as intended and assigns the attribute \\_inverse."
   ]
  },
  {
   "cell_type": "code",
   "execution_count": 230,
   "id": "structural-wilderness",
   "metadata": {},
   "outputs": [],
   "source": [
    "l.set_inverse()"
   ]
  },
  {
   "cell_type": "markdown",
   "id": "experienced-sixth",
   "metadata": {},
   "source": [
    "Now that the \\_inverse attribute is assigned the attribute get_inverse will work."
   ]
  },
  {
   "cell_type": "code",
   "execution_count": 231,
   "id": "forward-separate",
   "metadata": {},
   "outputs": [
    {
     "data": {
      "text/plain": [
       "0.2"
      ]
     },
     "execution_count": 231,
     "metadata": {},
     "output_type": "execute_result"
    }
   ],
   "source": [
    "l.get_inverse()"
   ]
  },
  {
   "cell_type": "markdown",
   "id": "aggressive-underwear",
   "metadata": {},
   "source": [
    "### Datamodel Methods (dunder methods)"
   ]
  },
  {
   "cell_type": "markdown",
   "id": "unnecessary-endorsement",
   "metadata": {},
   "source": [
    "We have seen that the (+ add) operator acts differently when used with instances of the integer class and instances of the str class, performing addition in one and concatenation in the other."
   ]
  },
  {
   "cell_type": "code",
   "execution_count": 232,
   "id": "agricultural-familiar",
   "metadata": {},
   "outputs": [],
   "source": [
    "a=1\n",
    "b=2"
   ]
  },
  {
   "cell_type": "code",
   "execution_count": 233,
   "id": "preceding-bracelet",
   "metadata": {},
   "outputs": [
    {
     "data": {
      "text/plain": [
       "3"
      ]
     },
     "execution_count": 233,
     "metadata": {},
     "output_type": "execute_result"
    }
   ],
   "source": [
    "a+b"
   ]
  },
  {
   "cell_type": "code",
   "execution_count": 234,
   "id": "capital-major",
   "metadata": {},
   "outputs": [],
   "source": [
    "c='hello'\n",
    "d='world'"
   ]
  },
  {
   "cell_type": "code",
   "execution_count": 235,
   "id": "defined-tiffany",
   "metadata": {},
   "outputs": [
    {
     "data": {
      "text/plain": [
       "'helloworld'"
      ]
     },
     "execution_count": 235,
     "metadata": {},
     "output_type": "execute_result"
    }
   ],
   "source": [
    "c+d"
   ]
  },
  {
   "cell_type": "markdown",
   "id": "fleet-ethics",
   "metadata": {},
   "source": [
    "Behind the scenes the behaviour of the (+ add) operator is defined by the special method \\_\\_add\\_\\_. This is also known as a dunder method as the name of each method begins and ends with a **d**ouble **under**score. These are sometimes referred to as *magic* methods or *special* methods however these terms indicate that these methods are mysterious and therefore misunderstood. A better term which more accurately describes their function is a data model method. The following is normally performed using the + operator but can also be explicitly written using the data model method."
   ]
  },
  {
   "cell_type": "code",
   "execution_count": 236,
   "id": "finite-bunny",
   "metadata": {},
   "outputs": [
    {
     "data": {
      "text/plain": [
       "3"
      ]
     },
     "execution_count": 236,
     "metadata": {},
     "output_type": "execute_result"
    }
   ],
   "source": [
    "a.__add__(b)"
   ]
  },
  {
   "cell_type": "code",
   "execution_count": 237,
   "id": "entertaining-mississippi",
   "metadata": {},
   "outputs": [
    {
     "data": {
      "text/plain": [
       "'helloworld'"
      ]
     },
     "execution_count": 237,
     "metadata": {},
     "output_type": "execute_result"
    }
   ],
   "source": [
    "c.__add__(d)"
   ]
  },
  {
   "cell_type": "markdown",
   "id": "caroline-football",
   "metadata": {},
   "source": [
    "The above has the form:"
   ]
  },
  {
   "cell_type": "markdown",
   "id": "virtual-papua",
   "metadata": {},
   "source": [
    "```self.__add__(other)```"
   ]
  },
  {
   "cell_type": "markdown",
   "id": "helpful-stand",
   "metadata": {},
   "source": [
    "i.e. the method is called from the isntance self and works on another instance other."
   ]
  },
  {
   "cell_type": "markdown",
   "id": "advance-decimal",
   "metadata": {},
   "source": [
    "We seen earlier that object is the parent class of everything in Python. Let's create a Custom Class which is essentially a blank copy of the object class."
   ]
  },
  {
   "cell_type": "code",
   "execution_count": 238,
   "id": "confused-parallel",
   "metadata": {},
   "outputs": [],
   "source": [
    "class Scalar(object):\n",
    "    '''Custom Scalar Class.'''\n",
    "    pass"
   ]
  },
  {
   "cell_type": "markdown",
   "id": "focused-angel",
   "metadata": {},
   "source": [
    "If we use the function dir, we will get details about all the methods and attributes available from the class."
   ]
  },
  {
   "cell_type": "code",
   "execution_count": 239,
   "id": "uniform-fellow",
   "metadata": {},
   "outputs": [
    {
     "data": {
      "text/plain": [
       "['__class__',\n",
       " '__delattr__',\n",
       " '__dict__',\n",
       " '__dir__',\n",
       " '__doc__',\n",
       " '__eq__',\n",
       " '__format__',\n",
       " '__ge__',\n",
       " '__getattribute__',\n",
       " '__gt__',\n",
       " '__hash__',\n",
       " '__init__',\n",
       " '__init_subclass__',\n",
       " '__le__',\n",
       " '__lt__',\n",
       " '__module__',\n",
       " '__ne__',\n",
       " '__new__',\n",
       " '__reduce__',\n",
       " '__reduce_ex__',\n",
       " '__repr__',\n",
       " '__setattr__',\n",
       " '__sizeof__',\n",
       " '__str__',\n",
       " '__subclasshook__',\n",
       " '__weakref__']"
      ]
     },
     "execution_count": 239,
     "metadata": {},
     "output_type": "execute_result"
    }
   ],
   "source": [
    "dir(Scalar)"
   ]
  },
  {
   "cell_type": "markdown",
   "id": "improving-technical",
   "metadata": {},
   "source": [
    "Let's have a look at the \\_\\_init\\_\\_, \\_\\_repr\\_\\_ and \\_\\_str\\_\\_ datamodel methods."
   ]
  },
  {
   "cell_type": "markdown",
   "id": "classical-wisdom",
   "metadata": {},
   "source": [
    "When we type in:"
   ]
  },
  {
   "cell_type": "code",
   "execution_count": 240,
   "id": "private-preserve",
   "metadata": {},
   "outputs": [
    {
     "data": {
      "text/plain": [
       "\u001b[1;31mInit signature:\u001b[0m  \u001b[0mScalar\u001b[0m\u001b[1;33m(\u001b[0m\u001b[1;33m)\u001b[0m\u001b[1;33m\u001b[0m\u001b[1;33m\u001b[0m\u001b[0m\n",
       "\u001b[1;31mDocstring:\u001b[0m      Custom Scalar Class.\n",
       "\u001b[1;31mType:\u001b[0m           type\n",
       "\u001b[1;31mSubclasses:\u001b[0m     \n"
      ]
     },
     "metadata": {},
     "output_type": "display_data"
    }
   ],
   "source": [
    "? Scalar"
   ]
  },
  {
   "cell_type": "markdown",
   "id": "breathing-german",
   "metadata": {},
   "source": [
    "Then we get details about the init signature. This is blank has no details and no input arguments because we haven't defined the \\_\\_init\\_\\_ datamodel method and the default is shown."
   ]
  },
  {
   "cell_type": "markdown",
   "id": "contrary-front",
   "metadata": {},
   "source": [
    "We can instantiate an instance of the class using no input arguments:"
   ]
  },
  {
   "cell_type": "code",
   "execution_count": 241,
   "id": "irish-secondary",
   "metadata": {},
   "outputs": [],
   "source": [
    "a=Scalar()"
   ]
  },
  {
   "cell_type": "markdown",
   "id": "settled-plate",
   "metadata": {},
   "source": [
    "We can display the output of the instance in a cell:"
   ]
  },
  {
   "cell_type": "code",
   "execution_count": 242,
   "id": "photographic-guarantee",
   "metadata": {},
   "outputs": [
    {
     "data": {
      "text/plain": [
       "<__main__.Scalar at 0x24ed0c5bb50>"
      ]
     },
     "execution_count": 242,
     "metadata": {},
     "output_type": "execute_result"
    }
   ],
   "source": [
    "a"
   ]
  },
  {
   "cell_type": "markdown",
   "id": "unsigned-confidentiality",
   "metadata": {},
   "source": [
    "Or use the function:"
   ]
  },
  {
   "cell_type": "code",
   "execution_count": 243,
   "id": "driving-tamil",
   "metadata": {},
   "outputs": [
    {
     "data": {
      "text/plain": [
       "'<__main__.Scalar object at 0x0000024ED0C5BB50>'"
      ]
     },
     "execution_count": 243,
     "metadata": {},
     "output_type": "execute_result"
    }
   ],
   "source": [
    "repr(a)"
   ]
  },
  {
   "cell_type": "markdown",
   "id": "reliable-batman",
   "metadata": {},
   "source": [
    "Or the function:"
   ]
  },
  {
   "cell_type": "code",
   "execution_count": 244,
   "id": "closed-freedom",
   "metadata": {},
   "outputs": [
    {
     "name": "stdout",
     "output_type": "stream",
     "text": [
      "<__main__.Scalar object at 0x0000024ED0C5BB50>\n"
     ]
    }
   ],
   "source": [
    "print(a)"
   ]
  },
  {
   "cell_type": "markdown",
   "id": "abroad-robinson",
   "metadata": {},
   "source": [
    "Note that function repr denotes that the output is a str. Outputting the value of a cell or using a print statement will also display a str but not explicitly show the quotations. The behaviour of the above can be changed by using the \\_\\_repr\\_\\_ data model method."
   ]
  },
  {
   "cell_type": "code",
   "execution_count": 245,
   "id": "industrial-mountain",
   "metadata": {},
   "outputs": [],
   "source": [
    "class Scalar(object):\n",
    "    '''Custom Scalar Class.'''\n",
    "    def __repr__(self):\n",
    "        string='Custom Scalar Class.'\n",
    "        return(string)"
   ]
  },
  {
   "cell_type": "markdown",
   "id": "unusual-durham",
   "metadata": {},
   "source": [
    "We can instantiate an instance of the class once again using no input arguments:"
   ]
  },
  {
   "cell_type": "code",
   "execution_count": 246,
   "id": "sealed-update",
   "metadata": {},
   "outputs": [],
   "source": [
    "a=Scalar()"
   ]
  },
  {
   "cell_type": "markdown",
   "id": "afraid-wireless",
   "metadata": {},
   "source": [
    "Now let's look at the behaviour of:"
   ]
  },
  {
   "cell_type": "code",
   "execution_count": 247,
   "id": "organized-clear",
   "metadata": {},
   "outputs": [
    {
     "data": {
      "text/plain": [
       "Custom Scalar Class."
      ]
     },
     "execution_count": 247,
     "metadata": {},
     "output_type": "execute_result"
    }
   ],
   "source": [
    "a"
   ]
  },
  {
   "cell_type": "code",
   "execution_count": 248,
   "id": "passive-rebecca",
   "metadata": {},
   "outputs": [
    {
     "data": {
      "text/plain": [
       "'Custom Scalar Class.'"
      ]
     },
     "execution_count": 248,
     "metadata": {},
     "output_type": "execute_result"
    }
   ],
   "source": [
    "repr(a)"
   ]
  },
  {
   "cell_type": "code",
   "execution_count": 249,
   "id": "raising-interaction",
   "metadata": {},
   "outputs": [
    {
     "name": "stdout",
     "output_type": "stream",
     "text": [
      "Custom Scalar Class.\n"
     ]
    }
   ],
   "source": [
    "print(a)"
   ]
  },
  {
   "cell_type": "markdown",
   "id": "challenging-anchor",
   "metadata": {},
   "source": [
    "It is possible to define a slightly different behaviour for the print function to the repr function (which also controls output of the cell). This is done by using the additional \\_\\_str\\_\\_ data model method."
   ]
  },
  {
   "cell_type": "code",
   "execution_count": 250,
   "id": "eleven-angel",
   "metadata": {},
   "outputs": [],
   "source": [
    "class Scalar(object):\n",
    "    '''Custom Scalar Class.'''\n",
    "    def __repr__(self):\n",
    "        string='Custom Scalar Class.'\n",
    "        return(string)\n",
    "    def __str__(self):\n",
    "        string='Printed Custom Scalar Class.'\n",
    "        return(string)"
   ]
  },
  {
   "cell_type": "code",
   "execution_count": 251,
   "id": "forced-child",
   "metadata": {},
   "outputs": [],
   "source": [
    "a=Scalar()"
   ]
  },
  {
   "cell_type": "code",
   "execution_count": 252,
   "id": "continued-officer",
   "metadata": {},
   "outputs": [
    {
     "data": {
      "text/plain": [
       "Custom Scalar Class."
      ]
     },
     "execution_count": 252,
     "metadata": {},
     "output_type": "execute_result"
    }
   ],
   "source": [
    "a"
   ]
  },
  {
   "cell_type": "code",
   "execution_count": 253,
   "id": "sharp-brief",
   "metadata": {},
   "outputs": [
    {
     "data": {
      "text/plain": [
       "'Custom Scalar Class.'"
      ]
     },
     "execution_count": 253,
     "metadata": {},
     "output_type": "execute_result"
    }
   ],
   "source": [
    "repr(a)"
   ]
  },
  {
   "cell_type": "code",
   "execution_count": 254,
   "id": "pending-rwanda",
   "metadata": {},
   "outputs": [
    {
     "name": "stdout",
     "output_type": "stream",
     "text": [
      "Printed Custom Scalar Class.\n"
     ]
    }
   ],
   "source": [
    "print(a)"
   ]
  },
  {
   "cell_type": "markdown",
   "id": "expressed-tactics",
   "metadata": {},
   "source": [
    "The \\_\\_init\\_\\_ data model method is ran when a class is instantiated. It can be used to define instance specific attributes and run additional methods during instantiation. Let's update our \\_\\_init\\_\\_ method to create a hidden attribute \\_value from a positional input argument value."
   ]
  },
  {
   "cell_type": "code",
   "execution_count": 255,
   "id": "blessed-voltage",
   "metadata": {},
   "outputs": [],
   "source": [
    "class Scalar(object):\n",
    "    '''Custom Scalar Class.'''\n",
    "    def __init__(self,value):\n",
    "        '''Creates an instance of the Scalar Class from a value.'''\n",
    "        self._value=value\n",
    "    def __repr__(self):\n",
    "        string='Custom Scalar Class.'\n",
    "        return(string)\n",
    "    def __str__(self):\n",
    "        string='Printed Custom Scalar Class.'\n",
    "        return(string)"
   ]
  },
  {
   "cell_type": "markdown",
   "id": "affiliated-proxy",
   "metadata": {},
   "source": [
    "Now:"
   ]
  },
  {
   "cell_type": "code",
   "execution_count": 256,
   "id": "tender-inventory",
   "metadata": {},
   "outputs": [
    {
     "data": {
      "text/plain": [
       "\u001b[1;31mInit signature:\u001b[0m  \u001b[0mScalar\u001b[0m\u001b[1;33m(\u001b[0m\u001b[0mvalue\u001b[0m\u001b[1;33m)\u001b[0m\u001b[1;33m\u001b[0m\u001b[1;33m\u001b[0m\u001b[0m\n",
       "\u001b[1;31mDocstring:\u001b[0m      Custom Scalar Class.\n",
       "\u001b[1;31mInit docstring:\u001b[0m Creates an instance of the Scalar Class from a value.\n",
       "\u001b[1;31mType:\u001b[0m           type\n",
       "\u001b[1;31mSubclasses:\u001b[0m     \n"
      ]
     },
     "metadata": {},
     "output_type": "display_data"
    }
   ],
   "source": [
    "? Scalar"
   ]
  },
  {
   "cell_type": "code",
   "execution_count": 257,
   "id": "usual-cargo",
   "metadata": {},
   "outputs": [],
   "source": [
    "a=Scalar(5)"
   ]
  },
  {
   "cell_type": "code",
   "execution_count": 258,
   "id": "iraqi-carbon",
   "metadata": {},
   "outputs": [
    {
     "data": {
      "text/plain": [
       "Custom Scalar Class."
      ]
     },
     "execution_count": 258,
     "metadata": {},
     "output_type": "execute_result"
    }
   ],
   "source": [
    "a"
   ]
  },
  {
   "cell_type": "code",
   "execution_count": 259,
   "id": "eastern-praise",
   "metadata": {},
   "outputs": [
    {
     "data": {
      "text/plain": [
       "'Custom Scalar Class.'"
      ]
     },
     "execution_count": 259,
     "metadata": {},
     "output_type": "execute_result"
    }
   ],
   "source": [
    "repr(a)"
   ]
  },
  {
   "cell_type": "code",
   "execution_count": 260,
   "id": "shaped-lingerie",
   "metadata": {},
   "outputs": [
    {
     "name": "stdout",
     "output_type": "stream",
     "text": [
      "Printed Custom Scalar Class.\n"
     ]
    }
   ],
   "source": [
    "print(a)"
   ]
  },
  {
   "cell_type": "markdown",
   "id": "informational-friend",
   "metadata": {},
   "source": [
    "We can update the \\_\\_repr\\_\\_ and \\_\\_str\\_\\_ methods to display the output analogous to how we instantiate the class."
   ]
  },
  {
   "cell_type": "code",
   "execution_count": 261,
   "id": "approved-suite",
   "metadata": {},
   "outputs": [],
   "source": [
    "class Scalar(object):\n",
    "    '''Custom Scalar Class.'''\n",
    "    def __init__(self,value):\n",
    "        '''Creates an instance of the Scalar Class from a value.'''\n",
    "        self._value=value\n",
    "    def __repr__(self):\n",
    "        string=f'Scalar({self._value})'\n",
    "        return(string)\n",
    "    def __str__(self):\n",
    "        string=f'Scalar({self._value})'\n",
    "        return(string)"
   ]
  },
  {
   "cell_type": "code",
   "execution_count": 262,
   "id": "raised-necessity",
   "metadata": {},
   "outputs": [],
   "source": [
    "a=Scalar(5)"
   ]
  },
  {
   "cell_type": "code",
   "execution_count": 263,
   "id": "velvet-crazy",
   "metadata": {},
   "outputs": [
    {
     "data": {
      "text/plain": [
       "Scalar(5)"
      ]
     },
     "execution_count": 263,
     "metadata": {},
     "output_type": "execute_result"
    }
   ],
   "source": [
    "a"
   ]
  },
  {
   "cell_type": "code",
   "execution_count": 264,
   "id": "guilty-eugene",
   "metadata": {},
   "outputs": [
    {
     "data": {
      "text/plain": [
       "'Scalar(5)'"
      ]
     },
     "execution_count": 264,
     "metadata": {},
     "output_type": "execute_result"
    }
   ],
   "source": [
    "repr(a)"
   ]
  },
  {
   "cell_type": "code",
   "execution_count": 265,
   "id": "sudden-adelaide",
   "metadata": {},
   "outputs": [
    {
     "name": "stdout",
     "output_type": "stream",
     "text": [
      "Scalar(5)\n"
     ]
    }
   ],
   "source": [
    "print(a)"
   ]
  },
  {
   "cell_type": "markdown",
   "id": "primary-spirituality",
   "metadata": {},
   "source": [
    "We can use additional data model methods to define the behaviour of operators. The main dunder methods of main interest are and we have used many of these with the int class."
   ]
  },
  {
   "cell_type": "markdown",
   "id": "reserved-constitutional",
   "metadata": {},
   "source": [
    "|Dunder Method|Function or Operator|\n",
    "|---|---|\n",
    "|\\_\\_init\\_\\_|init statement|\n",
    "|\\_\\_str\\_\\_|print|\n",
    "|\\_\\_repr\\_\\_|cell output|\n",
    "|\\_\\_len\\_\\_|len|\n",
    "|\\_\\_add\\_\\_|+|\n",
    "|\\_\\_sub\\_\\_|-|\n",
    "|\\_\\_mul\\_\\_|\\*|\n",
    "|\\_\\_pow\\_\\_|\\*\\*|\n",
    "|\\_\\_truediv\\_\\_|/|\n",
    "|\\_\\_matmul\\_\\_|@|\n",
    "|\\_\\_floordiv\\_\\_|//|\n",
    "|\\_\\_mod\\_\\_|%|\n",
    "|\\_\\_eq\\_\\_|==|\n",
    "|\\_\\_ne\\_\\_|!=|\n",
    "|\\_\\_lt\\_\\_|<|\n",
    "|\\_\\_le\\_\\_|<=|\n",
    "|\\_\\_gt\\_\\_|>|\n",
    "|\\_\\_ge\\_\\_|>=|\n",
    "|\\_\\_and\\_\\_|&|\n",
    "|\\_\\_or\\_\\_|\\||\n",
    "|\\_\\_xor\\_\\_|^|\n",
    "|\\_\\_lshift\\_\\_|<<|\n",
    "|\\_\\_rshift\\_\\_|>>|\n",
    "|\\_\\_iadd\\_\\_|+=|\n",
    "|\\_\\_isub\\_\\_|-=|\n",
    "|\\_\\_imul\\_\\_|\\*=|\n",
    "|\\_\\_ipow\\_\\_|\\*\\*=|\n",
    "|\\_\\_idiv\\_\\_|/=|\n",
    "|\\_\\_ifloordiv\\_\\_|//=|\n",
    "|\\_\\_imod\\_\\_|%=|\n",
    "|\\_\\_iand\\_\\_|&=|\n",
    "|\\_\\_ior\\_\\_|\\=||\n",
    "|\\_\\_ixor\\_\\_|^=|\n",
    "|\\_\\_ilshift\\_\\_|<<=|\n",
    "|\\_\\_irshift\\_\\_|>>=|\n"
   ]
  },
  {
   "cell_type": "markdown",
   "id": "south-medicaid",
   "metadata": {},
   "source": [
    "We can define the \\_\\_add\\_\\_ data model methods."
   ]
  },
  {
   "cell_type": "code",
   "execution_count": 266,
   "id": "following-clerk",
   "metadata": {},
   "outputs": [],
   "source": [
    "class Scalar(object):\n",
    "    '''Custom Scalar Class.'''\n",
    "    def __init__(self,value):\n",
    "        '''Creates an instance of the Scalar Class from a value.'''\n",
    "        self._value=value\n",
    "    def __repr__(self):\n",
    "        string=f'Scalar({self._value})'\n",
    "        return(string)\n",
    "    def __str__(self):\n",
    "        string=f'Scalar({self._value})'\n",
    "        return(string)\n",
    "    def __add__(self,other):\n",
    "        return(self._value+other._value)"
   ]
  },
  {
   "cell_type": "code",
   "execution_count": 267,
   "id": "forward-merit",
   "metadata": {},
   "outputs": [],
   "source": [
    "a=Scalar(5)"
   ]
  },
  {
   "cell_type": "code",
   "execution_count": 268,
   "id": "technological-reading",
   "metadata": {},
   "outputs": [],
   "source": [
    "b=Scalar(6)"
   ]
  },
  {
   "cell_type": "code",
   "execution_count": 269,
   "id": "narrow-weight",
   "metadata": {},
   "outputs": [
    {
     "data": {
      "text/plain": [
       "11"
      ]
     },
     "execution_count": 269,
     "metadata": {},
     "output_type": "execute_result"
    }
   ],
   "source": [
    "a+b"
   ]
  },
  {
   "cell_type": "markdown",
   "id": "composite-cursor",
   "metadata": {},
   "source": [
    "Note the output is an integer. We can instead return a new instance of the Scalar."
   ]
  },
  {
   "cell_type": "code",
   "execution_count": 270,
   "id": "prostate-infection",
   "metadata": {},
   "outputs": [],
   "source": [
    "class Scalar(object):\n",
    "    '''Custom Scalar Class.'''\n",
    "    def __init__(self,value):\n",
    "        '''Creates an instance of the Scalar Class from a value.'''\n",
    "        self._value=value\n",
    "    def __repr__(self):\n",
    "        string=f'Scalar({self._value})'\n",
    "        return(string)\n",
    "    def __str__(self):\n",
    "        string=f'Scalar({self._value})'\n",
    "        return(string)\n",
    "    def __add__(self,other):\n",
    "        return(Scalar(self._value+other._value))"
   ]
  },
  {
   "cell_type": "code",
   "execution_count": 271,
   "id": "missing-catch",
   "metadata": {},
   "outputs": [],
   "source": [
    "a=Scalar(5)"
   ]
  },
  {
   "cell_type": "code",
   "execution_count": 272,
   "id": "spoken-miniature",
   "metadata": {},
   "outputs": [],
   "source": [
    "b=Scalar(6)"
   ]
  },
  {
   "cell_type": "code",
   "execution_count": 273,
   "id": "included-gambling",
   "metadata": {},
   "outputs": [
    {
     "data": {
      "text/plain": [
       "Scalar(11)"
      ]
     },
     "execution_count": 273,
     "metadata": {},
     "output_type": "execute_result"
    }
   ],
   "source": [
    "a+b"
   ]
  },
  {
   "cell_type": "markdown",
   "id": "intermediate-means",
   "metadata": {},
   "source": [
    "We can do this for other data model methods."
   ]
  },
  {
   "cell_type": "code",
   "execution_count": 274,
   "id": "framed-pilot",
   "metadata": {},
   "outputs": [],
   "source": [
    "class Scalar(object):\n",
    "    '''Custom Scalar Class.'''\n",
    "    def __init__(self,value):\n",
    "        '''Creates an instance of the Scalar Class from a value.'''\n",
    "        self._value=value\n",
    "    def __repr__(self):\n",
    "        string=f'Scalar({self._value})'\n",
    "        return(string)\n",
    "    def __str__(self):\n",
    "        string=f'Scalar({self._value})'\n",
    "        return(string)\n",
    "    def __add__(self,other):\n",
    "        return(Scalar(self._value+other._value))\n",
    "    def __sub__(self,other):\n",
    "        return(Scalar(self._value-other._value))\n",
    "    def __mul__(self,other):\n",
    "        return(Scalar(self._value*other._value))"
   ]
  },
  {
   "cell_type": "code",
   "execution_count": 275,
   "id": "curious-possibility",
   "metadata": {},
   "outputs": [],
   "source": [
    "a=Scalar(5)"
   ]
  },
  {
   "cell_type": "code",
   "execution_count": 276,
   "id": "better-accommodation",
   "metadata": {},
   "outputs": [],
   "source": [
    "b=Scalar(6)"
   ]
  },
  {
   "cell_type": "code",
   "execution_count": 277,
   "id": "maritime-business",
   "metadata": {},
   "outputs": [
    {
     "data": {
      "text/plain": [
       "Scalar(11)"
      ]
     },
     "execution_count": 277,
     "metadata": {},
     "output_type": "execute_result"
    }
   ],
   "source": [
    "a+b"
   ]
  },
  {
   "cell_type": "code",
   "execution_count": 278,
   "id": "falling-syria",
   "metadata": {},
   "outputs": [
    {
     "data": {
      "text/plain": [
       "Scalar(-1)"
      ]
     },
     "execution_count": 278,
     "metadata": {},
     "output_type": "execute_result"
    }
   ],
   "source": [
    "a-b"
   ]
  },
  {
   "cell_type": "code",
   "execution_count": 279,
   "id": "reverse-weather",
   "metadata": {},
   "outputs": [
    {
     "data": {
      "text/plain": [
       "Scalar(30)"
      ]
     },
     "execution_count": 279,
     "metadata": {},
     "output_type": "execute_result"
    }
   ],
   "source": [
    "a*b"
   ]
  },
  {
   "cell_type": "markdown",
   "id": "chronic-venezuela",
   "metadata": {},
   "source": [
    "Let's re-examine inheritance and use the following class as the parent class. "
   ]
  },
  {
   "cell_type": "code",
   "execution_count": 280,
   "id": "floating-civilian",
   "metadata": {},
   "outputs": [],
   "source": [
    "class ParentScalar(object):\n",
    "    '''Custom Parent Scalar Class.'''\n",
    "    def __init__(self,value):\n",
    "        '''Creates an instance of the Scalar Class from a value.'''\n",
    "        self.value=value"
   ]
  },
  {
   "cell_type": "markdown",
   "id": "preceding-imagination",
   "metadata": {},
   "source": [
    "Let's assume we want to create a child class and want to inherit the parent classes \\_\\_init\\_\\_ method. If we define our own \\_\\_init\\_\\_ method we will override the one from the parent class. \n",
    "\n",
    "This is not very useful if we want to use the parents \\_\\_init\\_\\_ method and only add another attribute during instantiation.\n",
    "\n",
    "We can use super().\\_\\_init\\_\\_() to call it from the parent class. \n",
    "\n",
    "Note the child class will need all the the positional input arguments (including the instance self) for the new attributes (in this case att) and expected arguments provided to the parent class (in this case value).\n",
    "\n",
    "The parent class can be referenced using super. This has positional input arguments, the child class and the instance self. A dot can then be used to call a method. Note when calling a method from the super class in this way, as self is already provided you should not provide it again. You will however need to provide all other required input arguments for the method."
   ]
  },
  {
   "cell_type": "code",
   "execution_count": 281,
   "id": "swiss-whale",
   "metadata": {},
   "outputs": [],
   "source": [
    "class ChildScalar(ParentScalar):\n",
    "    def __init__(self,value,att):\n",
    "        self.att=att\n",
    "        super(ChildScalar,self).__init__(value)\n",
    "    "
   ]
  },
  {
   "cell_type": "code",
   "execution_count": 282,
   "id": "decreased-discretion",
   "metadata": {},
   "outputs": [],
   "source": [
    "a=ChildScalar(2,1)"
   ]
  },
  {
   "cell_type": "code",
   "execution_count": 283,
   "id": "authorized-influence",
   "metadata": {},
   "outputs": [
    {
     "data": {
      "text/plain": [
       "2"
      ]
     },
     "execution_count": 283,
     "metadata": {},
     "output_type": "execute_result"
    }
   ],
   "source": [
    "a.value"
   ]
  },
  {
   "cell_type": "code",
   "execution_count": 284,
   "id": "hired-oracle",
   "metadata": {},
   "outputs": [
    {
     "data": {
      "text/plain": [
       "1"
      ]
     },
     "execution_count": 284,
     "metadata": {},
     "output_type": "execute_result"
    }
   ],
   "source": [
    "a.att"
   ]
  },
  {
   "cell_type": "markdown",
   "id": "worthy-selection",
   "metadata": {},
   "source": [
    "If the statement super is left blank it will automatically infer that we want the superclass of the child class and supply the instance self."
   ]
  },
  {
   "cell_type": "code",
   "execution_count": 285,
   "id": "historical-pension",
   "metadata": {},
   "outputs": [],
   "source": [
    "class ChildScalar(ParentScalar):\n",
    "    def __init__(self,value,att):\n",
    "        self.att=att\n",
    "        super().__init__(value)"
   ]
  },
  {
   "cell_type": "code",
   "execution_count": 286,
   "id": "fabulous-lodge",
   "metadata": {},
   "outputs": [],
   "source": [
    "a=ChildScalar(2,1)"
   ]
  },
  {
   "cell_type": "code",
   "execution_count": 287,
   "id": "focal-majority",
   "metadata": {},
   "outputs": [
    {
     "data": {
      "text/plain": [
       "2"
      ]
     },
     "execution_count": 287,
     "metadata": {},
     "output_type": "execute_result"
    }
   ],
   "source": [
    "a.value"
   ]
  },
  {
   "cell_type": "code",
   "execution_count": 288,
   "id": "invalid-authorization",
   "metadata": {},
   "outputs": [
    {
     "data": {
      "text/plain": [
       "1"
      ]
     },
     "execution_count": 288,
     "metadata": {},
     "output_type": "execute_result"
    }
   ],
   "source": [
    "a.att"
   ]
  },
  {
   "cell_type": "markdown",
   "id": "liquid-dimension",
   "metadata": {},
   "source": [
    "## A Custom Fraction class"
   ]
  },
  {
   "cell_type": "markdown",
   "id": "destroyed-maker",
   "metadata": {},
   "source": [
    "Let's think about the way we would go about constructing a fraction class. A fraction has a numerator and a denominator. These can be initialized as the int n and d when the fraction is created. We will store them to the hidden attributes \\_n and \\_d respectively."
   ]
  },
  {
   "cell_type": "markdown",
   "id": "compound-suffering",
   "metadata": {},
   "source": [
    "$\\frac{\\textrm{self.n}}{\\textrm{self.d}}$"
   ]
  },
  {
   "cell_type": "code",
   "execution_count": 502,
   "id": "adaptive-expense",
   "metadata": {},
   "outputs": [],
   "source": [
    "class Fraction(object):\n",
    "    '''Fraction\n",
    "    n is the numerator and must be an integer\n",
    "    d is the denominator and must be an integer'''\n",
    "    def __init__(self,n,d):\n",
    "        self._n=n\n",
    "        self._d=d"
   ]
  },
  {
   "cell_type": "code",
   "execution_count": 503,
   "id": "brutal-profile",
   "metadata": {},
   "outputs": [],
   "source": [
    "o=Fraction(1,2)"
   ]
  },
  {
   "cell_type": "code",
   "execution_count": 504,
   "id": "norman-width",
   "metadata": {},
   "outputs": [
    {
     "data": {
      "text/plain": [
       "1"
      ]
     },
     "execution_count": 504,
     "metadata": {},
     "output_type": "execute_result"
    }
   ],
   "source": [
    "o._n"
   ]
  },
  {
   "cell_type": "code",
   "execution_count": 505,
   "id": "premier-emerald",
   "metadata": {},
   "outputs": [
    {
     "data": {
      "text/plain": [
       "2"
      ]
     },
     "execution_count": 505,
     "metadata": {},
     "output_type": "execute_result"
    }
   ],
   "source": [
    "o._d"
   ]
  },
  {
   "cell_type": "markdown",
   "id": "chronic-keeping",
   "metadata": {},
   "source": [
    "We will want to ensure that both n and d are integers and also that d is not equal to 0."
   ]
  },
  {
   "cell_type": "code",
   "execution_count": 506,
   "id": "forty-customs",
   "metadata": {},
   "outputs": [],
   "source": [
    "class Fraction(object):\n",
    "    '''Fraction\n",
    "    n is the numerator and must be an integer\n",
    "    d is the denominator and must be an integer'''\n",
    "    def __init__(self,n,d):\n",
    "        try: \n",
    "            assert (type(n)==int and type(d)==int), 'n and d must be of the type int.'\n",
    "            self._n=n\n",
    "            try: \n",
    "                assert (d!=0)\n",
    "                self._d=d\n",
    "            except AssertionError:\n",
    "                print('d cannot be zero.')\n",
    "        except AssertionError:\n",
    "            print('n and d must be of the type int.')\n",
    "        "
   ]
  },
  {
   "cell_type": "markdown",
   "id": "terminal-personality",
   "metadata": {},
   "source": [
    "We can see this works as expected."
   ]
  },
  {
   "cell_type": "code",
   "execution_count": 507,
   "id": "developmental-atmosphere",
   "metadata": {},
   "outputs": [],
   "source": [
    "l=Fraction(1,2)"
   ]
  },
  {
   "cell_type": "code",
   "execution_count": 508,
   "id": "conventional-stewart",
   "metadata": {},
   "outputs": [
    {
     "name": "stdout",
     "output_type": "stream",
     "text": [
      "n and d must be of the type int.\n"
     ]
    }
   ],
   "source": [
    "m=Fraction(1,2.1)"
   ]
  },
  {
   "cell_type": "code",
   "execution_count": 509,
   "id": "neither-tenant",
   "metadata": {},
   "outputs": [
    {
     "name": "stdout",
     "output_type": "stream",
     "text": [
      "d cannot be zero.\n"
     ]
    }
   ],
   "source": [
    "n=Fraction(2,0)"
   ]
  },
  {
   "cell_type": "markdown",
   "id": "architectural-tuning",
   "metadata": {},
   "source": [
    "If we insert the values of 6 and 4 for the numerator and denominator."
   ]
  },
  {
   "cell_type": "code",
   "execution_count": 510,
   "id": "announced-journey",
   "metadata": {},
   "outputs": [],
   "source": [
    "p=Fraction(6,4)"
   ]
  },
  {
   "cell_type": "markdown",
   "id": "professional-comment",
   "metadata": {},
   "source": [
    "We would like to automatically round it down to 3 and 2 because both the numerator and denominator are perfectly divisable by 2 and give a modulo of 0."
   ]
  },
  {
   "cell_type": "code",
   "execution_count": 511,
   "id": "irish-bachelor",
   "metadata": {},
   "outputs": [
    {
     "data": {
      "text/plain": [
       "3"
      ]
     },
     "execution_count": 511,
     "metadata": {},
     "output_type": "execute_result"
    }
   ],
   "source": [
    "p._n//2"
   ]
  },
  {
   "cell_type": "code",
   "execution_count": 512,
   "id": "hindu-essex",
   "metadata": {},
   "outputs": [
    {
     "data": {
      "text/plain": [
       "0"
      ]
     },
     "execution_count": 512,
     "metadata": {},
     "output_type": "execute_result"
    }
   ],
   "source": [
    "p._n%2"
   ]
  },
  {
   "cell_type": "code",
   "execution_count": 513,
   "id": "modern-hazard",
   "metadata": {},
   "outputs": [
    {
     "data": {
      "text/plain": [
       "2"
      ]
     },
     "execution_count": 513,
     "metadata": {},
     "output_type": "execute_result"
    }
   ],
   "source": [
    "p._d//2"
   ]
  },
  {
   "cell_type": "code",
   "execution_count": 514,
   "id": "surrounded-bosnia",
   "metadata": {},
   "outputs": [
    {
     "data": {
      "text/plain": [
       "0"
      ]
     },
     "execution_count": 514,
     "metadata": {},
     "output_type": "execute_result"
    }
   ],
   "source": [
    "p._d%2"
   ]
  },
  {
   "cell_type": "markdown",
   "id": "bulgarian-detroit",
   "metadata": {},
   "source": [
    "To check for this we will need to construct a for loop counting from the value fo the denominator in steps of -1. Note that we are inclusive of the lower bound and exclusive of the top bound. So we will go to 0 and the last value will be 1 (avoiding ZeroDivisionErrors). "
   ]
  },
  {
   "cell_type": "code",
   "execution_count": 515,
   "id": "apparent-textbook",
   "metadata": {},
   "outputs": [
    {
     "name": "stdout",
     "output_type": "stream",
     "text": [
      "4\n",
      "3\n",
      "2\n",
      "1\n"
     ]
    }
   ],
   "source": [
    "for idx in range(p._d,0,-1):\n",
    "    print(idx)"
   ]
  },
  {
   "cell_type": "markdown",
   "id": "sonic-highlight",
   "metadata": {},
   "source": [
    "We are only interested in cases where both n and d give a modulo of 0 when divided by the value and we are also only interested in the highest value. So wish to break the loop if such a value is found."
   ]
  },
  {
   "cell_type": "code",
   "execution_count": 516,
   "id": "baking-hamilton",
   "metadata": {},
   "outputs": [
    {
     "name": "stdout",
     "output_type": "stream",
     "text": [
      "2\n",
      "n=3\n",
      "d=2\n"
     ]
    }
   ],
   "source": [
    "for idx in range(p._d,0,-1):\n",
    "    if (p._n%idx==0 and p._d%idx==0):\n",
    "        print(idx)\n",
    "        print(f'n={p._n//idx}')\n",
    "        print(f'd={p._d//idx}')\n",
    "        break"
   ]
  },
  {
   "cell_type": "code",
   "execution_count": 517,
   "id": "norman-stuff",
   "metadata": {},
   "outputs": [],
   "source": [
    "class Fraction(object):\n",
    "    '''Fraction\n",
    "    n is the numerator and must be an integer\n",
    "    d is the denominator and must be an integer'''\n",
    "    def __init__(self,n,d):\n",
    "        try: \n",
    "            assert (type(n)==int and type(d)==int), 'n and d must be of the type int.'\n",
    "            self._n=n\n",
    "            try: \n",
    "                assert (d!=0)\n",
    "                self._d=d\n",
    "                self.common_factor()\n",
    "            except AssertionError:\n",
    "                print('d cannot be zero.')\n",
    "        except AssertionError:\n",
    "            print('n and d must be of the type int.')\n",
    "    def common_factor(self):\n",
    "        for idx in range(self._d,0,-1):\n",
    "            if (self._n%idx==0 and self._d%idx==0):\n",
    "                self._n=self._n//idx\n",
    "                self._d=self._d//idx\n",
    "                break"
   ]
  },
  {
   "cell_type": "code",
   "execution_count": 518,
   "id": "pointed-liverpool",
   "metadata": {},
   "outputs": [],
   "source": [
    "p=Fraction(6,4)"
   ]
  },
  {
   "cell_type": "code",
   "execution_count": 519,
   "id": "duplicate-deviation",
   "metadata": {},
   "outputs": [
    {
     "data": {
      "text/plain": [
       "3"
      ]
     },
     "execution_count": 519,
     "metadata": {},
     "output_type": "execute_result"
    }
   ],
   "source": [
    "p._n"
   ]
  },
  {
   "cell_type": "code",
   "execution_count": 520,
   "id": "alleged-warehouse",
   "metadata": {},
   "outputs": [
    {
     "data": {
      "text/plain": [
       "2"
      ]
     },
     "execution_count": 520,
     "metadata": {},
     "output_type": "execute_result"
    }
   ],
   "source": [
    "p._d"
   ]
  },
  {
   "cell_type": "markdown",
   "id": "loaded-illness",
   "metadata": {},
   "source": [
    "We may now want to update the dunder methods \\_\\_str\\_\\_ and \\_\\_repr\\_\\_ to mimic the representation used in the \\_\\_init\\_\\_ dunder method."
   ]
  },
  {
   "cell_type": "code",
   "execution_count": 521,
   "id": "czech-seeking",
   "metadata": {},
   "outputs": [],
   "source": [
    "class Fraction(object):\n",
    "    '''Fraction\n",
    "    n is the numerator and must be an integer\n",
    "    d is the denominator and must be an integer'''\n",
    "    def __init__(self,n,d):\n",
    "        try: \n",
    "            assert (type(n)==int and type(d)==int), 'n and d must be of the type int.'\n",
    "            self._n=n\n",
    "            try: \n",
    "                assert (d!=0)\n",
    "                self._d=d\n",
    "                self.common_factor()\n",
    "            except AssertionError:\n",
    "                print('d cannot be zero.')\n",
    "        except AssertionError:\n",
    "            print('n and d must be of the type int.')\n",
    "    def common_factor(self):\n",
    "        for idx in range(self._d,0,-1):\n",
    "            if (self._n%idx==0 and self._d%idx==0):\n",
    "                self._n=self._n//idx\n",
    "                self._d=self._d//idx\n",
    "                break\n",
    "    def __str__(self):\n",
    "        string=f'Fraction({self._n},{self._d})'\n",
    "        return(string)\n",
    "    def __repr__(self):\n",
    "        string=f'Fraction({self._n},{self._d})'\n",
    "        return(string)"
   ]
  },
  {
   "cell_type": "markdown",
   "id": "romance-picnic",
   "metadata": {},
   "source": [
    "We can now easily see that the fraction 6/4 is automatically divided by the lowest common factor to become 3/2. "
   ]
  },
  {
   "cell_type": "code",
   "execution_count": 522,
   "id": "hairy-discussion",
   "metadata": {},
   "outputs": [],
   "source": [
    "p=Fraction(6,4)"
   ]
  },
  {
   "cell_type": "code",
   "execution_count": 523,
   "id": "valid-median",
   "metadata": {},
   "outputs": [
    {
     "data": {
      "text/plain": [
       "Fraction(3,2)"
      ]
     },
     "execution_count": 523,
     "metadata": {},
     "output_type": "execute_result"
    }
   ],
   "source": [
    "p"
   ]
  },
  {
   "cell_type": "markdown",
   "id": "continuing-depression",
   "metadata": {},
   "source": [
    "Let's now consider how we would perform mathmatical opeartions between fractions. In the cae of a fraction, multiplication and division are actually slightly easier than addition and subtraction. "
   ]
  },
  {
   "cell_type": "markdown",
   "id": "tender-therapist",
   "metadata": {},
   "source": [
    "Fraction multiplication:"
   ]
  },
  {
   "cell_type": "markdown",
   "id": "applicable-evidence",
   "metadata": {},
   "source": [
    "$\\frac{\\textrm{self.n}}{\\textrm{self.d}}\\cdot\\frac{\\textrm{other.n}}{\\textrm{other.d}}=\\frac{\\textrm{self.n}\\cdot\\textrm{other.n}}{\\textrm{self.d}\\cdot\\textrm{other.d}}$"
   ]
  },
  {
   "cell_type": "markdown",
   "id": "unknown-article",
   "metadata": {},
   "source": [
    "Fraction division:"
   ]
  },
  {
   "cell_type": "markdown",
   "id": "dirty-silly",
   "metadata": {},
   "source": [
    "$\\frac{\\textrm{self.n}}{\\textrm{self.d}}\\div\\frac{\\textrm{other.n}}{\\textrm{other.d}}=\\frac{\\textrm{self.n}}{\\textrm{self.d}}\\cdot\\frac{\\textrm{other.d}}{\\textrm{other.n}}=\\frac{\\textrm{self.n}\\cdot\\textrm{other.d}}{\\textrm{self.d}\\cdot\\textrm{other.n}}$"
   ]
  },
  {
   "cell_type": "markdown",
   "id": "governing-defensive",
   "metadata": {},
   "source": [
    "Fraction addition:"
   ]
  },
  {
   "cell_type": "markdown",
   "id": "driven-drive",
   "metadata": {},
   "source": [
    "$\\frac{\\textrm{self.n}}{\\textrm{self.d}}+\\frac{\\textrm{other.n}}{\\textrm{other.d}}=\\frac{\\textrm{self.n}}{\\textrm{self.d}}\\cdot\\frac{\\textrm{other.d}}{\\textrm{other.d}}+\\frac{\\textrm{other.n}}{\\textrm{other.d}}\\cdot\\frac{\\textrm{self.d}}{\\textrm{self.d}}=\\frac{\\textrm{self.n}\\cdot\\textrm{other.d}+\\textrm{other.n}\\cdot\\textrm{self.d}}{\\textrm{self.d}\\cdot\\textrm{other.d}}$"
   ]
  },
  {
   "cell_type": "markdown",
   "id": "stopped-vampire",
   "metadata": {},
   "source": [
    "Fraction subtraction:"
   ]
  },
  {
   "cell_type": "markdown",
   "id": "cosmetic-appliance",
   "metadata": {},
   "source": [
    "$\\frac{\\textrm{self.n}}{\\textrm{self.d}}-\\frac{\\textrm{other.n}}{\\textrm{other.d}}=\\frac{\\textrm{self.n}}{\\textrm{self.d}}\\cdot\\frac{\\textrm{other.d}}{\\textrm{other.d}}-\\frac{\\textrm{other.n}}{\\textrm{other.d}}\\cdot\\frac{\\textrm{self.d}}{\\textrm{self.d}}=\\frac{\\textrm{self.n}\\cdot\\textrm{other.d}-\\textrm{other.n}\\cdot\\textrm{self.d}}{\\textrm{self.d}\\cdot\\textrm{other.d}}$"
   ]
  },
  {
   "cell_type": "markdown",
   "id": "assured-closure",
   "metadata": {},
   "source": [
    "So we will begin with the \\_\\_mul\\_\\_ dunder method."
   ]
  },
  {
   "cell_type": "code",
   "execution_count": 524,
   "id": "dutch-consensus",
   "metadata": {},
   "outputs": [],
   "source": [
    "class Fraction(object):\n",
    "    '''Fraction\n",
    "    n is the numerator and must be an integer\n",
    "    d is the denominator and must be an integer'''\n",
    "    def __init__(self,n,d):\n",
    "        try: \n",
    "            assert (type(n)==int and type(d)==int), 'n and d must be of the type int.'\n",
    "            self._n=n\n",
    "            try: \n",
    "                assert (d!=0)\n",
    "                self._d=d\n",
    "                self.common_factor()\n",
    "            except AssertionError:\n",
    "                print('d cannot be zero.')\n",
    "        except AssertionError:\n",
    "            print('n and d must be of the type int.')\n",
    "    def common_factor(self):\n",
    "        for idx in range(self._d,0,-1):\n",
    "            if (self._n%idx==0 and self._d%idx==0):\n",
    "                self._n=self._n//idx\n",
    "                self._d=self._d//idx\n",
    "                break\n",
    "    def __str__(self):\n",
    "        string=f'Fraction({self._n},{self._d})'\n",
    "        return(string)\n",
    "    def __repr__(self):\n",
    "        string=f'Fraction({self._n},{self._d})'\n",
    "        return(string)\n",
    "    def __mul__(self,other):\n",
    "        n=self._n*other._n\n",
    "        d=self._d*other._d\n",
    "        return(Fraction(n,d))"
   ]
  },
  {
   "cell_type": "markdown",
   "id": "specified-remark",
   "metadata": {},
   "source": [
    "Now we see the (* mul) operator as expected."
   ]
  },
  {
   "cell_type": "code",
   "execution_count": 525,
   "id": "secondary-modeling",
   "metadata": {},
   "outputs": [
    {
     "data": {
      "text/plain": [
       "Fraction(2,1)"
      ]
     },
     "execution_count": 525,
     "metadata": {},
     "output_type": "execute_result"
    }
   ],
   "source": [
    "Fraction(3,2)*Fraction(4,3)"
   ]
  },
  {
   "cell_type": "markdown",
   "id": "extreme-bidding",
   "metadata": {},
   "source": [
    "Note that the \\_\\_init\\_\\_ dunder method was called from the \\_\\_mul\\_\\_ dunder method creating a new instance. Recall that it calls the common_factor method and divides by the numerator and denominator by the highest common factor."
   ]
  },
  {
   "cell_type": "markdown",
   "id": "weekly-artist",
   "metadata": {},
   "source": [
    "Next let's have a look at the \\_\\_truediv\\_\\_ dunder method."
   ]
  },
  {
   "cell_type": "code",
   "execution_count": 526,
   "id": "interim-rwanda",
   "metadata": {},
   "outputs": [],
   "source": [
    "class Fraction(object):\n",
    "    '''Fraction\n",
    "    n is the numerator and must be an integer\n",
    "    d is the denominator and must be an integer'''\n",
    "    def __init__(self,n,d):\n",
    "        try: \n",
    "            assert (type(n)==int and type(d)==int), 'n and d must be of the type int.'\n",
    "            self._n=n\n",
    "            try: \n",
    "                assert (d!=0)\n",
    "                self._d=d\n",
    "                self.common_factor()\n",
    "            except AssertionError:\n",
    "                print('d cannot be zero.')\n",
    "        except AssertionError:\n",
    "            print('n and d must be of the type int.')\n",
    "    def common_factor(self):\n",
    "        for idx in range(self._d,0,-1):\n",
    "            if (self._n%idx==0 and self._d%idx==0):\n",
    "                self._n=self._n//idx\n",
    "                self._d=self._d//idx\n",
    "                break\n",
    "    def __str__(self):\n",
    "        string=f'Fraction({self._n},{self._d})'\n",
    "        return(string)\n",
    "    def __repr__(self):\n",
    "        string=f'Fraction({self._n},{self._d})'\n",
    "        return(string)\n",
    "    def __mul__(self,other):\n",
    "        n=self._n*other._n\n",
    "        d=self._d*other._d\n",
    "        return(Fraction(n,d))\n",
    "    def __truediv__(self,other):\n",
    "        n=self._n*other._d\n",
    "        d=self._d*other._n\n",
    "        return(Fraction(n,d))"
   ]
  },
  {
   "cell_type": "markdown",
   "id": "italic-entertainment",
   "metadata": {},
   "source": [
    "Now we see the (/ truediv) operator as expected."
   ]
  },
  {
   "cell_type": "code",
   "execution_count": 527,
   "id": "loaded-influence",
   "metadata": {},
   "outputs": [
    {
     "data": {
      "text/plain": [
       "Fraction(2,1)"
      ]
     },
     "execution_count": 527,
     "metadata": {},
     "output_type": "execute_result"
    }
   ],
   "source": [
    "Fraction(3,2)/Fraction(3,4)"
   ]
  },
  {
   "cell_type": "markdown",
   "id": "backed-secretariat",
   "metadata": {},
   "source": [
    "Next let's have a look at the \\_\\_add\\_\\_ dunder method."
   ]
  },
  {
   "cell_type": "code",
   "execution_count": 528,
   "id": "particular-tanzania",
   "metadata": {},
   "outputs": [],
   "source": [
    "class Fraction(object):\n",
    "    '''Fraction\n",
    "    n is the numerator and must be an integer\n",
    "    d is the denominator and must be an integer'''\n",
    "    def __init__(self,n,d):\n",
    "        try: \n",
    "            assert (type(n)==int and type(d)==int), 'n and d must be of the type int.'\n",
    "            self._n=n\n",
    "            try: \n",
    "                assert (d!=0)\n",
    "                self._d=d\n",
    "                self.common_factor()\n",
    "            except AssertionError:\n",
    "                print('d cannot be zero.')\n",
    "        except AssertionError:\n",
    "            print('n and d must be of the type int.')\n",
    "    def common_factor(self):\n",
    "        for idx in range(self._d,0,-1):\n",
    "            if (self._n%idx==0 and self._d%idx==0):\n",
    "                self._n=self._n//idx\n",
    "                self._d=self._d//idx\n",
    "                break\n",
    "    def __str__(self):\n",
    "        string=f'Fraction({self._n},{self._d})'\n",
    "        return(string)\n",
    "    def __repr__(self):\n",
    "        string=f'Fraction({self._n},{self._d})'\n",
    "        return(string)\n",
    "    def __mul__(self,other):\n",
    "        n=self._n*other._n\n",
    "        d=self._d*other._d\n",
    "        return(Fraction(n,d))\n",
    "    def __truediv__(self,other):\n",
    "        n=self._n*other._d\n",
    "        d=self._d*other._n\n",
    "        return(Fraction(n,d))\n",
    "    def __add__(self,other):\n",
    "        n=self._n*other._d+other._n*self._d\n",
    "        d=self._d*other._d\n",
    "        return(Fraction(n,d))"
   ]
  },
  {
   "cell_type": "markdown",
   "id": "alone-proof",
   "metadata": {},
   "source": [
    "Now we see the (+ add) operator as expected."
   ]
  },
  {
   "cell_type": "code",
   "execution_count": 529,
   "id": "vital-belgium",
   "metadata": {},
   "outputs": [
    {
     "data": {
      "text/plain": [
       "Fraction(3,4)"
      ]
     },
     "execution_count": 529,
     "metadata": {},
     "output_type": "execute_result"
    }
   ],
   "source": [
    "Fraction(2,4)+Fraction(1,4)"
   ]
  },
  {
   "cell_type": "markdown",
   "id": "acoustic-pension",
   "metadata": {},
   "source": [
    "Next let's have a look at the \\_\\_sub\\_\\_ dunder method."
   ]
  },
  {
   "cell_type": "code",
   "execution_count": 530,
   "id": "interested-springfield",
   "metadata": {},
   "outputs": [],
   "source": [
    "class Fraction(object):\n",
    "    '''Fraction\n",
    "    n is the numerator and must be an integer\n",
    "    d is the denominator and must be an integer'''\n",
    "    def __init__(self,n,d):\n",
    "        try: \n",
    "            assert (type(n)==int and type(d)==int), 'n and d must be of the type int.'\n",
    "            self._n=n\n",
    "            try: \n",
    "                assert (d!=0)\n",
    "                self._d=d\n",
    "                self.common_factor()\n",
    "            except AssertionError:\n",
    "                print('d cannot be zero.')\n",
    "        except AssertionError:\n",
    "            print('n and d must be of the type int.')\n",
    "    def common_factor(self):\n",
    "        for idx in range(self._d,0,-1):\n",
    "            if (self._n%idx==0 and self._d%idx==0):\n",
    "                self._n=self._n//idx\n",
    "                self._d=self._d//idx\n",
    "                break\n",
    "    def __str__(self):\n",
    "        string=f'Fraction({self._n},{self._d})'\n",
    "        return(string)\n",
    "    def __repr__(self):\n",
    "        string=f'Fraction({self._n},{self._d})'\n",
    "        return(string)\n",
    "    def __mul__(self,other):\n",
    "        n=self._n*other._n\n",
    "        d=self._d*other._d\n",
    "        return(Fraction(n,d))\n",
    "    def __truediv__(self,other):\n",
    "        n=self._n*other._d\n",
    "        d=self._d*other._n\n",
    "        return(Fraction(n,d))\n",
    "    def __add__(self,other):\n",
    "        n=self._n*other._d+other._n*self._d\n",
    "        d=self._d*other._d\n",
    "        return(Fraction(n,d))\n",
    "    def __sub__(self,other):\n",
    "        n=self._n*other._d-other._n*self._d\n",
    "        d=self._d*other._d\n",
    "        return(Fraction(n,d))"
   ]
  },
  {
   "cell_type": "markdown",
   "id": "demographic-budget",
   "metadata": {},
   "source": [
    "Now we see the (- sub) operator as expected."
   ]
  },
  {
   "cell_type": "code",
   "execution_count": 318,
   "id": "international-interval",
   "metadata": {},
   "outputs": [
    {
     "data": {
      "text/plain": [
       "Fraction(1,4)"
      ]
     },
     "execution_count": 318,
     "metadata": {},
     "output_type": "execute_result"
    }
   ],
   "source": [
    "Fraction(2,4)-Fraction(1,4)"
   ]
  },
  {
   "cell_type": "markdown",
   "id": "affiliated-issue",
   "metadata": {},
   "source": [
    "We can create an optional method to_float which will convert the instance of the Fraction class to a float. We can also create the methods get_n and get_d to get the numerator and denominator as an int respectively."
   ]
  },
  {
   "cell_type": "code",
   "execution_count": 531,
   "id": "fossil-title",
   "metadata": {},
   "outputs": [],
   "source": [
    "class Fraction(object):\n",
    "    '''Fraction\n",
    "    n is the numerator and must be an integer\n",
    "    d is the denominator and must be an integer'''\n",
    "    def __init__(self,n,d):\n",
    "        try: \n",
    "            assert (type(n)==int and type(d)==int), 'n and d must be of the type int.'\n",
    "            self._n=n\n",
    "            try: \n",
    "                assert (d!=0)\n",
    "                self._d=d\n",
    "                self.common_factor()\n",
    "            except AssertionError:\n",
    "                print('d cannot be zero.')\n",
    "        except AssertionError:\n",
    "            print('n and d must be of the type int.')\n",
    "    def common_factor(self):\n",
    "        for idx in range(self._d,0,-1):\n",
    "            if (self._n%idx==0 and self._d%idx==0):\n",
    "                self._n=self._n//idx\n",
    "                self._d=self._d//idx\n",
    "                break\n",
    "    def __str__(self):\n",
    "        string=f'Fraction({self._n},{self._d})'\n",
    "        return(string)\n",
    "    def __repr__(self):\n",
    "        string=f'Fraction({self._n},{self._d})'\n",
    "        return(string)\n",
    "    def __mul__(self,other):\n",
    "        n=self._n*other._n\n",
    "        d=self._d*other._d\n",
    "        return(Fraction(n,d))\n",
    "    def __truediv__(self,other):\n",
    "        n=self._n*other._d\n",
    "        d=self._d*other._n\n",
    "        return(Fraction(n,d))\n",
    "    def __add__(self,other):\n",
    "        n=self._n*other._d+other._n*self._d\n",
    "        d=self._d*other._d\n",
    "        return(Fraction(n,d))\n",
    "    def __sub__(self,other):\n",
    "        n=self._n*other._d-other._n*self._d\n",
    "        d=self._d*other._d\n",
    "        return(Fraction(n,d))\n",
    "    def to_float(self):\n",
    "        value=float(self._n/self._d)\n",
    "        return(value)\n",
    "    def get_n(self):\n",
    "        return(self._n)\n",
    "    def get_d(self):\n",
    "        return(self._d)"
   ]
  },
  {
   "cell_type": "markdown",
   "id": "floating-elephant",
   "metadata": {},
   "source": [
    "When we type in the instance name followed by a dot . and tab ↹ we see a list of methods available."
   ]
  },
  {
   "cell_type": "markdown",
   "id": "friendly-korea",
   "metadata": {},
   "source": [
    "![Fraction_methods](Fraction_methods.png)"
   ]
  },
  {
   "cell_type": "markdown",
   "id": "flexible-banana",
   "metadata": {},
   "source": [
    "The method common_factor is only used within the dunder method \\_\\_init\\_\\_ and not intended to be called by the end user so we can update it to be a private method by beginning with an underscore."
   ]
  },
  {
   "cell_type": "code",
   "execution_count": 532,
   "id": "contemporary-despite",
   "metadata": {},
   "outputs": [],
   "source": [
    "class Fraction(object):\n",
    "    '''Fraction\n",
    "    n is the numerator and must be an integer\n",
    "    d is the denominator and must be an integer'''\n",
    "    def __init__(self,n,d):\n",
    "        try: \n",
    "            assert (type(n)==int and type(d)==int), 'n and d must be of the type int.'\n",
    "            self._n=n\n",
    "            try: \n",
    "                assert (d!=0)\n",
    "                self._d=d\n",
    "                self._common_factor()\n",
    "            except AssertionError:\n",
    "                print('d cannot be zero.')\n",
    "        except AssertionError:\n",
    "            print('n and d must be of the type int.')\n",
    "    def _common_factor(self):\n",
    "        for idx in range(self._d,0,-1):\n",
    "            if (self._n%idx==0 and self._d%idx==0):\n",
    "                self._n=self._n//idx\n",
    "                self._d=self._d//idx\n",
    "                break\n",
    "    def __str__(self):\n",
    "        string=f'Fraction({self._n},{self._d})'\n",
    "        return(string)\n",
    "    def __repr__(self):\n",
    "        string=f'Fraction({self._n},{self._d})'\n",
    "        return(string)\n",
    "    def __mul__(self,other):\n",
    "        n=self._n*other._n\n",
    "        d=self._d*other._d\n",
    "        return(Fraction(n,d))\n",
    "    def __truediv__(self,other):\n",
    "        n=self._n*other._d\n",
    "        d=self._d*other._n\n",
    "        return(Fraction(n,d))\n",
    "    def __add__(self,other):\n",
    "        n=self._n*other._d+other._n*self._d\n",
    "        d=self._d*other._d\n",
    "        return(Fraction(n,d))\n",
    "    def __sub__(self,other):\n",
    "        n=self._n*other._d-other._n*self._d\n",
    "        d=self._d*other._d\n",
    "        return(Fraction(n,d))\n",
    "    def to_float(self):\n",
    "        value=float(self._n/self._d)\n",
    "        return(value)\n",
    "    def get_n(self):\n",
    "        return(self._n)\n",
    "    def get_d(self):\n",
    "        return(self._d)"
   ]
  },
  {
   "cell_type": "code",
   "execution_count": 536,
   "id": "sustainable-brand",
   "metadata": {},
   "outputs": [],
   "source": [
    "p=Fraction(1,4)"
   ]
  },
  {
   "cell_type": "markdown",
   "id": "reliable-healing",
   "metadata": {},
   "source": [
    "![Fraction_methods2](Fraction_methods2.png)"
   ]
  },
  {
   "cell_type": "code",
   "execution_count": 537,
   "id": "descending-tunisia",
   "metadata": {},
   "outputs": [
    {
     "data": {
      "text/plain": [
       "0.25"
      ]
     },
     "execution_count": 537,
     "metadata": {},
     "output_type": "execute_result"
    }
   ],
   "source": [
    "p.to_float()"
   ]
  },
  {
   "cell_type": "code",
   "execution_count": 538,
   "id": "sharp-county",
   "metadata": {},
   "outputs": [
    {
     "data": {
      "text/plain": [
       "1"
      ]
     },
     "execution_count": 538,
     "metadata": {},
     "output_type": "execute_result"
    }
   ],
   "source": [
    "p.get_n()"
   ]
  },
  {
   "cell_type": "code",
   "execution_count": 539,
   "id": "color-string",
   "metadata": {},
   "outputs": [
    {
     "data": {
      "text/plain": [
       "4"
      ]
     },
     "execution_count": 539,
     "metadata": {},
     "output_type": "execute_result"
    }
   ],
   "source": [
    "p.get_d()"
   ]
  },
  {
   "cell_type": "markdown",
   "id": "elder-singles",
   "metadata": {},
   "source": [
    "We could also create methods set_n and set_d to set the numerator and denominator respectively."
   ]
  },
  {
   "cell_type": "code",
   "execution_count": 540,
   "id": "wrapped-germany",
   "metadata": {},
   "outputs": [],
   "source": [
    "class Fraction(object):\n",
    "    '''Fraction\n",
    "    n is the numerator and must be an integer\n",
    "    d is the denominator and must be an integer'''\n",
    "    def __init__(self,n,d):\n",
    "        try: \n",
    "            assert (type(n)==int and type(d)==int), 'n and d must be of the type int.'\n",
    "            self._n=n\n",
    "            try: \n",
    "                assert (d!=0)\n",
    "                self._d=d\n",
    "                self._common_factor()\n",
    "            except AssertionError:\n",
    "                print('d cannot be zero.')\n",
    "        except AssertionError:\n",
    "            print('n and d must be of the type int.')\n",
    "    def _common_factor(self):\n",
    "        for idx in range(self._d,0,-1):\n",
    "            if (self._n%idx==0 and self._d%idx==0):\n",
    "                self._n=self._n//idx\n",
    "                self._d=self._d//idx\n",
    "                break\n",
    "    def __str__(self):\n",
    "        string=f'Fraction({self._n},{self._d})'\n",
    "        return(string)\n",
    "    def __repr__(self):\n",
    "        string=f'Fraction({self._n},{self._d})'\n",
    "        return(string)\n",
    "    def __mul__(self,other):\n",
    "        n=self._n*other._n\n",
    "        d=self._d*other._d\n",
    "        return(Fraction(n,d))\n",
    "    def __truediv__(self,other):\n",
    "        n=self._n*other._d\n",
    "        d=self._d*other._n\n",
    "        return(Fraction(n,d))\n",
    "    def __add__(self,other):\n",
    "        n=self._n*other._d+other._n*self._d\n",
    "        d=self._d*other._d\n",
    "        return(Fraction(n,d))\n",
    "    def __sub__(self,other):\n",
    "        n=self._n*other._d-other._n*self._d\n",
    "        d=self._d*other._d\n",
    "        return(Fraction(n,d))\n",
    "    def to_float(self):\n",
    "        value=float(self._n/self._d)\n",
    "        return(value)\n",
    "    def get_n(self):\n",
    "        return(self._n)\n",
    "    def get_d(self):\n",
    "        return(self._d)\n",
    "    def set_n(self,n):\n",
    "        '''Sets a new numerator n. n must be an int.'''\n",
    "        try:\n",
    "            return(Fraction(n,self._d))\n",
    "        except AttributeError:\n",
    "            print('n must be an int.')\n",
    "    def set_d(self,d):\n",
    "        '''Sets a new denominator d. d must be a non-zero int.'''\n",
    "        try:\n",
    "            return(Fraction(self._n,d))\n",
    "        except AttributeError:\n",
    "            print('d must be a non-zero int.')"
   ]
  },
  {
   "cell_type": "code",
   "execution_count": 541,
   "id": "worse-detroit",
   "metadata": {},
   "outputs": [],
   "source": [
    "p=Fraction(1,4)"
   ]
  },
  {
   "cell_type": "markdown",
   "id": "settled-skating",
   "metadata": {},
   "source": [
    "When we type in the instance name followed by a dot . and tab ↹ we see a list including the updated methods."
   ]
  },
  {
   "cell_type": "markdown",
   "id": "handled-uzbekistan",
   "metadata": {},
   "source": [
    "![Fraction_methods3](Fraction_methods3.png)"
   ]
  },
  {
   "cell_type": "markdown",
   "id": "according-albert",
   "metadata": {},
   "source": [
    "When we type in the method followed by a tab ↹ and shift ⇧ we get our docstring and information about the positional input argument n."
   ]
  },
  {
   "cell_type": "markdown",
   "id": "civic-maldives",
   "metadata": {},
   "source": [
    "![Fraction_method_set_n](Fraction_method_set_n.png)"
   ]
  },
  {
   "cell_type": "code",
   "execution_count": 542,
   "id": "anticipated-ozone",
   "metadata": {},
   "outputs": [
    {
     "data": {
      "text/plain": [
       "Fraction(5,2)"
      ]
     },
     "execution_count": 542,
     "metadata": {},
     "output_type": "execute_result"
    }
   ],
   "source": [
    "p.set_n(10)"
   ]
  },
  {
   "cell_type": "markdown",
   "id": "cooked-column",
   "metadata": {},
   "source": [
    "Supposing we want only Eighths which are fractions where the denominator is always 8. We can create a Child Class of the Fraction Class. We can create an Eighth using a child \\_\\_init\\_\\_ signature with only a numerator as the denominator is always 8. The child \\_\\_init\\_\\_ signature calls the \\_\\_init\\_\\_ signature of the parent class which requires the numerator n supplied by the user from the child class and d which is always set to 8 from the child class for an Eighth. "
   ]
  },
  {
   "cell_type": "code",
   "execution_count": 544,
   "id": "african-rings",
   "metadata": {},
   "outputs": [],
   "source": [
    "class Eighths(Fraction):\n",
    "    def __init__(self,n):\n",
    "        d=8\n",
    "        super(Eighths,self).__init__(n,d)"
   ]
  },
  {
   "cell_type": "code",
   "execution_count": 545,
   "id": "generic-custom",
   "metadata": {},
   "outputs": [],
   "source": [
    "q=Eighths(3)"
   ]
  },
  {
   "cell_type": "code",
   "execution_count": 546,
   "id": "heard-convergence",
   "metadata": {},
   "outputs": [
    {
     "data": {
      "text/plain": [
       "Fraction(3,8)"
      ]
     },
     "execution_count": 546,
     "metadata": {},
     "output_type": "execute_result"
    }
   ],
   "source": [
    "q"
   ]
  },
  {
   "cell_type": "markdown",
   "id": "harmful-verification",
   "metadata": {},
   "source": [
    "## Collections"
   ]
  },
  {
   "cell_type": "markdown",
   "id": "imperial-mercury",
   "metadata": {},
   "source": [
    "So far we have only looked at scalar data types that is a dataset that consists of only a single value. Quite often we will want to group together a collection of single values. Before looking at how we do this in Python. Let's look at a spreadsheet in Microsoft Excel. When the data is in Excel we see that each data value is enclosed in a grid."
   ]
  },
  {
   "cell_type": "markdown",
   "id": "overall-annotation",
   "metadata": {},
   "source": [
    "![excel_row](excel_row.png)"
   ]
  },
  {
   "cell_type": "markdown",
   "id": "crude-cream",
   "metadata": {},
   "source": [
    "The data can be saved as a CSV format."
   ]
  },
  {
   "cell_type": "markdown",
   "id": "applied-barbados",
   "metadata": {},
   "source": [
    "![excel_row_save](excel_row_save.png)"
   ]
  },
  {
   "cell_type": "markdown",
   "id": "determined-layer",
   "metadata": {},
   "source": [
    "Now it can be viewed in Notepad++."
   ]
  },
  {
   "cell_type": "markdown",
   "id": "interested-blake",
   "metadata": {},
   "source": [
    "![excel_row_notepadplusplus](excel_row_notepadplusplus.png)"
   ]
  },
  {
   "cell_type": "markdown",
   "id": "lucky-scroll",
   "metadata": {},
   "source": [
    "Notice that instead of a grid we see a comma seperating out each value (hence the name csv comma seperated value file). \n",
    "The comma is the delimiter and is used to seperate out each value."
   ]
  },
  {
   "cell_type": "markdown",
   "id": "changed-lincoln",
   "metadata": {},
   "source": [
    "The values in the spreadsheet do not need to be numeric, they can also be text. "
   ]
  },
  {
   "cell_type": "markdown",
   "id": "lucky-explorer",
   "metadata": {},
   "source": [
    "![excel_row2](excel_row2.png)"
   ]
  },
  {
   "cell_type": "markdown",
   "id": "hourly-building",
   "metadata": {},
   "source": [
    "![excel_row2_notepadplusplus](excel_row2_notepadplusplus.png)"
   ]
  },
  {
   "cell_type": "markdown",
   "id": "relative-induction",
   "metadata": {},
   "source": [
    "We can create a collection of values in Python using similar notation with the comma as a delimiter. In Python however we need to enclose the collection in brackets. The type of brackets used creates a slightly different collection. The \\[ \\] create a list, the ( ) create a tuple and the { } create a set or dictionary."
   ]
  },
  {
   "cell_type": "markdown",
   "id": "fifty-modeling",
   "metadata": {},
   "source": [
    "### The List Collection (list)"
   ]
  },
  {
   "cell_type": "markdown",
   "id": "agricultural-perfume",
   "metadata": {},
   "source": [
    "The most commonly used collection is called a list. This relates to a list used in every day life. For example the shopping list."
   ]
  },
  {
   "cell_type": "markdown",
   "id": "shaped-electric",
   "metadata": {},
   "source": [
    "* apples\n",
    "* bananas\n",
    "* grapes\n",
    "* oranges\n",
    "* pears"
   ]
  },
  {
   "cell_type": "markdown",
   "id": "entire-rescue",
   "metadata": {},
   "source": [
    "An empty list can be instantiated by using square brackets."
   ]
  },
  {
   "cell_type": "code",
   "execution_count": 329,
   "id": "quiet-tradition",
   "metadata": {},
   "outputs": [],
   "source": [
    "shop=[]"
   ]
  },
  {
   "cell_type": "code",
   "execution_count": 330,
   "id": "empty-personal",
   "metadata": {},
   "outputs": [
    {
     "data": {
      "text/plain": [
       "[]"
      ]
     },
     "execution_count": 330,
     "metadata": {},
     "output_type": "execute_result"
    }
   ],
   "source": [
    "shop"
   ]
  },
  {
   "cell_type": "markdown",
   "id": "cutting-hearts",
   "metadata": {},
   "source": [
    "Alternatively we can instantiate a list using the list class directly. If we type in list followed by a tab ↹ and shift ⇧ we get the list init statement docstring which outlines details about the positional input argument which we see are iterable."
   ]
  },
  {
   "cell_type": "markdown",
   "id": "collective-reference",
   "metadata": {},
   "source": [
    "![list_init_signature](list_init_signature.png)"
   ]
  },
  {
   "cell_type": "markdown",
   "id": "settled-borough",
   "metadata": {},
   "source": [
    "We can keep it empty to make an empty list:"
   ]
  },
  {
   "cell_type": "code",
   "execution_count": 331,
   "id": "supported-patrol",
   "metadata": {},
   "outputs": [],
   "source": [
    "shop=list()"
   ]
  },
  {
   "cell_type": "code",
   "execution_count": 332,
   "id": "matched-texas",
   "metadata": {},
   "outputs": [
    {
     "data": {
      "text/plain": [
       "[]"
      ]
     },
     "execution_count": 332,
     "metadata": {},
     "output_type": "execute_result"
    }
   ],
   "source": [
    "shop"
   ]
  },
  {
   "cell_type": "markdown",
   "id": "ecological-nickname",
   "metadata": {},
   "source": [
    "When we type in the list name followed by a dot . and a tab ↹ we see a number of list methods and attributes."
   ]
  },
  {
   "cell_type": "markdown",
   "id": "cognitive-frontier",
   "metadata": {},
   "source": [
    "![list_methods_attributes](list_methods_attributes.png)"
   ]
  },
  {
   "cell_type": "markdown",
   "id": "conscious-knight",
   "metadata": {},
   "source": [
    "Let's attempt to add one str item to our list. The str needs to be enclosed in quotations to inicate that it is a str and not an object name."
   ]
  },
  {
   "cell_type": "code",
   "execution_count": 333,
   "id": "focused-married",
   "metadata": {},
   "outputs": [],
   "source": [
    "shop=['apples']"
   ]
  },
  {
   "cell_type": "code",
   "execution_count": 334,
   "id": "billion-minimum",
   "metadata": {},
   "outputs": [
    {
     "data": {
      "text/plain": [
       "['apples']"
      ]
     },
     "execution_count": 334,
     "metadata": {},
     "output_type": "execute_result"
    }
   ],
   "source": [
    "shop"
   ]
  },
  {
   "cell_type": "markdown",
   "id": "unauthorized-overhead",
   "metadata": {},
   "source": [
    "Note to get a single element when we are explicitly instantiating the list class we need to include a comma , delimiter."
   ]
  },
  {
   "cell_type": "code",
   "execution_count": 335,
   "id": "functioning-rescue",
   "metadata": {},
   "outputs": [],
   "source": [
    "shop=list(('apples',))"
   ]
  },
  {
   "cell_type": "code",
   "execution_count": 336,
   "id": "saved-publication",
   "metadata": {},
   "outputs": [
    {
     "data": {
      "text/plain": [
       "['apples']"
      ]
     },
     "execution_count": 336,
     "metadata": {},
     "output_type": "execute_result"
    }
   ],
   "source": [
    "shop"
   ]
  },
  {
   "cell_type": "markdown",
   "id": "satellite-thanksgiving",
   "metadata": {},
   "source": [
    "Otherwise the () are taken to mean parenthesis and we will make a list of each letter in the string."
   ]
  },
  {
   "cell_type": "code",
   "execution_count": 337,
   "id": "authentic-chosen",
   "metadata": {},
   "outputs": [],
   "source": [
    "shop=list(('apples'))"
   ]
  },
  {
   "cell_type": "code",
   "execution_count": 338,
   "id": "beautiful-walnut",
   "metadata": {},
   "outputs": [
    {
     "data": {
      "text/plain": [
       "['a', 'p', 'p', 'l', 'e', 's']"
      ]
     },
     "execution_count": 338,
     "metadata": {},
     "output_type": "execute_result"
    }
   ],
   "source": [
    "shop"
   ]
  },
  {
   "cell_type": "markdown",
   "id": "certain-reynolds",
   "metadata": {},
   "source": [
    "Now to add another item we need to use a comma as a delimiter."
   ]
  },
  {
   "cell_type": "code",
   "execution_count": 339,
   "id": "completed-kinase",
   "metadata": {},
   "outputs": [],
   "source": [
    "shop=['apples','bananas']"
   ]
  },
  {
   "cell_type": "code",
   "execution_count": 340,
   "id": "junior-corrections",
   "metadata": {},
   "outputs": [
    {
     "data": {
      "text/plain": [
       "['apples', 'bananas']"
      ]
     },
     "execution_count": 340,
     "metadata": {},
     "output_type": "execute_result"
    }
   ],
   "source": [
    "shop"
   ]
  },
  {
   "cell_type": "code",
   "execution_count": 341,
   "id": "supreme-importance",
   "metadata": {},
   "outputs": [],
   "source": [
    "shop=list(('apples','bananas'))"
   ]
  },
  {
   "cell_type": "markdown",
   "id": "postal-temple",
   "metadata": {},
   "source": [
    "Alternatively we can explicity instantiate the class list."
   ]
  },
  {
   "cell_type": "code",
   "execution_count": 342,
   "id": "black-station",
   "metadata": {},
   "outputs": [
    {
     "data": {
      "text/plain": [
       "['apples', 'bananas']"
      ]
     },
     "execution_count": 342,
     "metadata": {},
     "output_type": "execute_result"
    }
   ],
   "source": [
    "shop"
   ]
  },
  {
   "cell_type": "markdown",
   "id": "conscious-mystery",
   "metadata": {},
   "source": [
    "Continuing on with the complete list."
   ]
  },
  {
   "cell_type": "code",
   "execution_count": 343,
   "id": "british-nerve",
   "metadata": {},
   "outputs": [],
   "source": [
    "shop=['apples','bananas','grapes','oranges','pears']"
   ]
  },
  {
   "cell_type": "code",
   "execution_count": 344,
   "id": "exposed-vector",
   "metadata": {},
   "outputs": [
    {
     "data": {
      "text/plain": [
       "['apples', 'bananas', 'grapes', 'oranges', 'pears']"
      ]
     },
     "execution_count": 344,
     "metadata": {},
     "output_type": "execute_result"
    }
   ],
   "source": [
    "shop"
   ]
  },
  {
   "cell_type": "markdown",
   "id": "athletic-scholar",
   "metadata": {},
   "source": [
    "It is also possible to write the above splitting the list over multiple lines by pressing enter ↵ after the comma , delimiter. Note the spacing will be automatically applied to display the list as a column."
   ]
  },
  {
   "cell_type": "code",
   "execution_count": 345,
   "id": "norman-nickel",
   "metadata": {},
   "outputs": [],
   "source": [
    "shop=['apples',\n",
    "      'bananas',\n",
    "      'grapes',\n",
    "      'oranges',\n",
    "      'pears']"
   ]
  },
  {
   "cell_type": "code",
   "execution_count": 346,
   "id": "hired-concentration",
   "metadata": {},
   "outputs": [
    {
     "data": {
      "text/plain": [
       "['apples', 'bananas', 'grapes', 'oranges', 'pears']"
      ]
     },
     "execution_count": 346,
     "metadata": {},
     "output_type": "execute_result"
    }
   ],
   "source": [
    "shop"
   ]
  },
  {
   "cell_type": "markdown",
   "id": "handed-climb",
   "metadata": {},
   "source": [
    "As we can see from the output above there is no difference between the list when input as a row or input as a column. In fact the list is neither a row nor a column. It is an object with only a single dimension."
   ]
  },
  {
   "cell_type": "markdown",
   "id": "stone-appearance",
   "metadata": {},
   "source": [
    "### Indexing a str or list"
   ]
  },
  {
   "cell_type": "markdown",
   "id": "little-freeware",
   "metadata": {},
   "source": [
    "In many cases collections such as lists behave in a simlar manner to strings. The + operator performs concatenation."
   ]
  },
  {
   "cell_type": "code",
   "execution_count": 347,
   "id": "stone-victorian",
   "metadata": {},
   "outputs": [
    {
     "data": {
      "text/plain": [
       "'helloworld'"
      ]
     },
     "execution_count": 347,
     "metadata": {},
     "output_type": "execute_result"
    }
   ],
   "source": [
    "'hello'+'world'"
   ]
  },
  {
   "cell_type": "code",
   "execution_count": 348,
   "id": "bored-statistics",
   "metadata": {},
   "outputs": [
    {
     "data": {
      "text/plain": [
       "['h', 'e', 'l', 'l', 'o', 'w', 'o', 'r', 'l', 'd']"
      ]
     },
     "execution_count": 348,
     "metadata": {},
     "output_type": "execute_result"
    }
   ],
   "source": [
    "['h','e','l','l','o']+['w','o','r','l','d']"
   ]
  },
  {
   "cell_type": "markdown",
   "id": "statewide-projector",
   "metadata": {},
   "source": [
    "And multiplication by a scalar n replicates the list n times."
   ]
  },
  {
   "cell_type": "code",
   "execution_count": 349,
   "id": "growing-colonial",
   "metadata": {},
   "outputs": [
    {
     "data": {
      "text/plain": [
       "'hellohellohello'"
      ]
     },
     "execution_count": 349,
     "metadata": {},
     "output_type": "execute_result"
    }
   ],
   "source": [
    "'hello'*3"
   ]
  },
  {
   "cell_type": "code",
   "execution_count": 350,
   "id": "angry-compound",
   "metadata": {},
   "outputs": [
    {
     "data": {
      "text/plain": [
       "['h', 'e', 'l', 'l', 'o', 'h', 'e', 'l', 'l', 'o', 'h', 'e', 'l', 'l', 'o']"
      ]
     },
     "execution_count": 350,
     "metadata": {},
     "output_type": "execute_result"
    }
   ],
   "source": [
    "['h','e','l','l','o']*3"
   ]
  },
  {
   "cell_type": "markdown",
   "id": "voluntary-ethernet",
   "metadata": {},
   "source": [
    "The function len can also be used to determine the number fo elements in a str or list."
   ]
  },
  {
   "cell_type": "code",
   "execution_count": 351,
   "id": "formal-short",
   "metadata": {},
   "outputs": [
    {
     "data": {
      "text/plain": [
       "5"
      ]
     },
     "execution_count": 351,
     "metadata": {},
     "output_type": "execute_result"
    }
   ],
   "source": [
    "len('hello')"
   ]
  },
  {
   "cell_type": "code",
   "execution_count": 352,
   "id": "turkish-liberty",
   "metadata": {},
   "outputs": [
    {
     "data": {
      "text/plain": [
       "5"
      ]
     },
     "execution_count": 352,
     "metadata": {},
     "output_type": "execute_result"
    }
   ],
   "source": [
    "len(['h','e','l','l','o'])"
   ]
  },
  {
   "cell_type": "markdown",
   "id": "improving-envelope",
   "metadata": {},
   "source": [
    "Recall that we could use a for loop to select an index in a str. "
   ]
  },
  {
   "cell_type": "code",
   "execution_count": 353,
   "id": "bacterial-minutes",
   "metadata": {},
   "outputs": [
    {
     "name": "stdout",
     "output_type": "stream",
     "text": [
      "h\n",
      "e\n",
      "l\n",
      "l\n",
      "o\n"
     ]
    }
   ],
   "source": [
    "for let in 'hello':\n",
    "    print(let)"
   ]
  },
  {
   "cell_type": "markdown",
   "id": "developing-appreciation",
   "metadata": {},
   "source": [
    "Or that we could enumerate a string to get both the index and letter."
   ]
  },
  {
   "cell_type": "code",
   "execution_count": 354,
   "id": "moral-springfield",
   "metadata": {},
   "outputs": [
    {
     "name": "stdout",
     "output_type": "stream",
     "text": [
      "0 h\n",
      "1 e\n",
      "2 l\n",
      "3 l\n",
      "4 o\n"
     ]
    }
   ],
   "source": [
    "for idx,let in enumerate('hello'):\n",
    "    print(idx,let)"
   ]
  },
  {
   "cell_type": "markdown",
   "id": "cutting-astrology",
   "metadata": {},
   "source": [
    "We can do the same for an item in a list."
   ]
  },
  {
   "cell_type": "code",
   "execution_count": 355,
   "id": "suburban-packing",
   "metadata": {},
   "outputs": [
    {
     "name": "stdout",
     "output_type": "stream",
     "text": [
      "apples\n",
      "bananas\n",
      "grapes\n",
      "oranges\n",
      "pears\n"
     ]
    }
   ],
   "source": [
    "for item in shop:\n",
    "    print(item)"
   ]
  },
  {
   "cell_type": "code",
   "execution_count": 356,
   "id": "sitting-titanium",
   "metadata": {},
   "outputs": [
    {
     "name": "stdout",
     "output_type": "stream",
     "text": [
      "0 apples\n",
      "1 bananas\n",
      "2 grapes\n",
      "3 oranges\n",
      "4 pears\n"
     ]
    }
   ],
   "source": [
    "for idx,item in enumerate(shop):\n",
    "    print(idx,item)"
   ]
  },
  {
   "cell_type": "markdown",
   "id": "vocal-safety",
   "metadata": {},
   "source": [
    "In Python indexes uses zero-order meaning we are inclusive of the lower bound 0 and exclusivie fo the upper bound 5. A list with a length of 5 has an index 0,1,2,3 and 4 as shown in the output of the enumeration of the list above using a for loop."
   ]
  },
  {
   "cell_type": "markdown",
   "id": "sitting-destiny",
   "metadata": {},
   "source": [
    "An individual item from the list can be selected from the numeric index by typing in the list name followed by square brackets containing the index."
   ]
  },
  {
   "cell_type": "code",
   "execution_count": 357,
   "id": "scheduled-spain",
   "metadata": {},
   "outputs": [
    {
     "data": {
      "text/plain": [
       "'apples'"
      ]
     },
     "execution_count": 357,
     "metadata": {},
     "output_type": "execute_result"
    }
   ],
   "source": [
    "shop[0]"
   ]
  },
  {
   "cell_type": "markdown",
   "id": "signal-taiwan",
   "metadata": {},
   "source": [
    "This approach also works to get a letter from a str."
   ]
  },
  {
   "cell_type": "code",
   "execution_count": 358,
   "id": "accessory-cardiff",
   "metadata": {},
   "outputs": [
    {
     "data": {
      "text/plain": [
       "'h'"
      ]
     },
     "execution_count": 358,
     "metadata": {},
     "output_type": "execute_result"
    }
   ],
   "source": [
    "'hello'[0]"
   ]
  },
  {
   "cell_type": "markdown",
   "id": "popular-dayton",
   "metadata": {},
   "source": [
    "We can index into the list to get item 0 which is the str 'apples'."
   ]
  },
  {
   "cell_type": "code",
   "execution_count": 359,
   "id": "statutory-husband",
   "metadata": {},
   "outputs": [
    {
     "data": {
      "text/plain": [
       "'apples'"
      ]
     },
     "execution_count": 359,
     "metadata": {},
     "output_type": "execute_result"
    }
   ],
   "source": [
    "shop[0]"
   ]
  },
  {
   "cell_type": "markdown",
   "id": "ultimate-exhaust",
   "metadata": {},
   "source": [
    "And then we can index into this str output to get the index 3 which is the letter 'l'."
   ]
  },
  {
   "cell_type": "code",
   "execution_count": 360,
   "id": "improving-journalist",
   "metadata": {},
   "outputs": [
    {
     "data": {
      "text/plain": [
       "'l'"
      ]
     },
     "execution_count": 360,
     "metadata": {},
     "output_type": "execute_result"
    }
   ],
   "source": [
    "shop[0][3]"
   ]
  },
  {
   "cell_type": "markdown",
   "id": "latest-developer",
   "metadata": {},
   "source": [
    "The above line is equivalent to the following."
   ]
  },
  {
   "cell_type": "code",
   "execution_count": 361,
   "id": "optional-nursing",
   "metadata": {},
   "outputs": [
    {
     "data": {
      "text/plain": [
       "'l'"
      ]
     },
     "execution_count": 361,
     "metadata": {},
     "output_type": "execute_result"
    }
   ],
   "source": [
    "item=shop[0]\n",
    "let=item[3]\n",
    "let"
   ]
  },
  {
   "cell_type": "markdown",
   "id": "stuck-lindsay",
   "metadata": {},
   "source": [
    "Multiple indexes can be selected by use of a colon. The value before the colon is the start value and the value after the colon is the stop value."
   ]
  },
  {
   "cell_type": "markdown",
   "id": "modified-information",
   "metadata": {},
   "source": [
    "```'str'[start:stop]```"
   ]
  },
  {
   "cell_type": "markdown",
   "id": "sacred-slope",
   "metadata": {},
   "source": [
    "For example this can be thought of as the selection of index 2 to 4."
   ]
  },
  {
   "cell_type": "code",
   "execution_count": 362,
   "id": "grave-anthropology",
   "metadata": {},
   "outputs": [
    {
     "data": {
      "text/plain": [
       "'ll'"
      ]
     },
     "execution_count": 362,
     "metadata": {},
     "output_type": "execute_result"
    }
   ],
   "source": [
    "'hello'[2:4]"
   ]
  },
  {
   "cell_type": "markdown",
   "id": "divided-passing",
   "metadata": {},
   "source": [
    "Recall that we are inclusive of the lower bound 2 and exclusive of the upper bound 4. Therefore we get the output from indexes 2 and 3. "
   ]
  },
  {
   "cell_type": "markdown",
   "id": "active-sponsorship",
   "metadata": {},
   "source": [
    "If a lower bound start is not specified then it is assumed to be 0."
   ]
  },
  {
   "cell_type": "markdown",
   "id": "dynamic-celebration",
   "metadata": {},
   "source": [
    "```'str'[start:stop]```"
   ]
  },
  {
   "cell_type": "markdown",
   "id": "composed-algebra",
   "metadata": {},
   "source": [
    "```'str'[0:stop]```"
   ]
  },
  {
   "cell_type": "markdown",
   "id": "hydraulic-corps",
   "metadata": {},
   "source": [
    "```'str'[:stop]```"
   ]
  },
  {
   "cell_type": "markdown",
   "id": "olympic-bosnia",
   "metadata": {},
   "source": [
    "Going from index 0 to index 3 will give indexes 0, 1 and 2 for example."
   ]
  },
  {
   "cell_type": "code",
   "execution_count": 363,
   "id": "threatened-martial",
   "metadata": {},
   "outputs": [
    {
     "data": {
      "text/plain": [
       "'hel'"
      ]
     },
     "execution_count": 363,
     "metadata": {},
     "output_type": "execute_result"
    }
   ],
   "source": [
    "'hello'[:3]"
   ]
  },
  {
   "cell_type": "markdown",
   "id": "limited-primary",
   "metadata": {},
   "source": [
    "Likewise if an upper bound start is not specified then it is assumed to be the length of the str or list or other collection."
   ]
  },
  {
   "cell_type": "markdown",
   "id": "lightweight-float",
   "metadata": {},
   "source": [
    "```'str'[start:stop]```"
   ]
  },
  {
   "cell_type": "markdown",
   "id": "ignored-modeling",
   "metadata": {},
   "source": [
    "```'str'[start:len(str)]```"
   ]
  },
  {
   "cell_type": "markdown",
   "id": "active-ordinance",
   "metadata": {},
   "source": [
    "```'str'[start:]```"
   ]
  },
  {
   "cell_type": "markdown",
   "id": "massive-former",
   "metadata": {},
   "source": [
    "Going from index 3 to the len of the str will give indexes 3 and 4 for example."
   ]
  },
  {
   "cell_type": "code",
   "execution_count": 364,
   "id": "italic-disney",
   "metadata": {},
   "outputs": [
    {
     "data": {
      "text/plain": [
       "'lo'"
      ]
     },
     "execution_count": 364,
     "metadata": {},
     "output_type": "execute_result"
    }
   ],
   "source": [
    "'hello'[3:]"
   ]
  },
  {
   "cell_type": "markdown",
   "id": "tracked-providence",
   "metadata": {},
   "source": [
    "If no start bound or stop bound are selected, all indexes will be selected and we will just get a copy of the str, list or other collection."
   ]
  },
  {
   "cell_type": "code",
   "execution_count": 365,
   "id": "bigger-romantic",
   "metadata": {},
   "outputs": [
    {
     "data": {
      "text/plain": [
       "'hello'"
      ]
     },
     "execution_count": 365,
     "metadata": {},
     "output_type": "execute_result"
    }
   ],
   "source": [
    "'hello'[:]"
   ]
  },
  {
   "cell_type": "markdown",
   "id": "moved-revelation",
   "metadata": {},
   "source": [
    "The number before 0 is -1 and this in Python corresponds to the last index. The negative index can be calculated by taking the positive index and substracting the len of the str or list."
   ]
  },
  {
   "cell_type": "code",
   "execution_count": 366,
   "id": "coordinate-admission",
   "metadata": {},
   "outputs": [
    {
     "name": "stdout",
     "output_type": "stream",
     "text": [
      "0 -5 h\n",
      "1 -4 e\n",
      "2 -3 l\n",
      "3 -2 l\n",
      "4 -1 o\n"
     ]
    }
   ],
   "source": [
    "for idx,let in enumerate('hello'):\n",
    "    print(idx,idx-len('hello'),let)"
   ]
  },
  {
   "cell_type": "code",
   "execution_count": 367,
   "id": "fancy-party",
   "metadata": {},
   "outputs": [
    {
     "data": {
      "text/plain": [
       "'l'"
      ]
     },
     "execution_count": 367,
     "metadata": {},
     "output_type": "execute_result"
    }
   ],
   "source": [
    "'hello'[3]"
   ]
  },
  {
   "cell_type": "code",
   "execution_count": 368,
   "id": "recorded-plaza",
   "metadata": {},
   "outputs": [
    {
     "data": {
      "text/plain": [
       "'l'"
      ]
     },
     "execution_count": 368,
     "metadata": {},
     "output_type": "execute_result"
    }
   ],
   "source": [
    "'hello'[-2]"
   ]
  },
  {
   "cell_type": "markdown",
   "id": "different-intelligence",
   "metadata": {},
   "source": [
    "We have seen that we can index with a colon using the form."
   ]
  },
  {
   "cell_type": "markdown",
   "id": "overall-zealand",
   "metadata": {},
   "source": [
    "```'string'[start:stop]```"
   ]
  },
  {
   "cell_type": "markdown",
   "id": "intermediate-drilling",
   "metadata": {},
   "source": [
    "An additional colon can be placed to indicate a step."
   ]
  },
  {
   "cell_type": "markdown",
   "id": "stupid-extraction",
   "metadata": {},
   "source": [
    "```'string'[start:stop:step]```"
   ]
  },
  {
   "cell_type": "markdown",
   "id": "trying-melissa",
   "metadata": {},
   "source": [
    "If we create the following string containing each letter of the word hello in upper and then lower case."
   ]
  },
  {
   "cell_type": "code",
   "execution_count": 369,
   "id": "minimal-composition",
   "metadata": {},
   "outputs": [],
   "source": [
    "string='HhEeLlLlOo'"
   ]
  },
  {
   "cell_type": "markdown",
   "id": "million-network",
   "metadata": {},
   "source": [
    "We can select every capital letter by usign a step size of 2."
   ]
  },
  {
   "cell_type": "code",
   "execution_count": 370,
   "id": "impressive-marijuana",
   "metadata": {},
   "outputs": [
    {
     "data": {
      "text/plain": [
       "'HELLO'"
      ]
     },
     "execution_count": 370,
     "metadata": {},
     "output_type": "execute_result"
    }
   ],
   "source": [
    "string[0:len(string):2]"
   ]
  },
  {
   "cell_type": "markdown",
   "id": "complimentary-insight",
   "metadata": {},
   "source": [
    "Because we are using a start value of 0 and a stop value that is the length of the string, we can omitt these."
   ]
  },
  {
   "cell_type": "code",
   "execution_count": 371,
   "id": "laden-fifth",
   "metadata": {},
   "outputs": [
    {
     "data": {
      "text/plain": [
       "'HELLO'"
      ]
     },
     "execution_count": 371,
     "metadata": {},
     "output_type": "execute_result"
    }
   ],
   "source": [
    "string[::2]"
   ]
  },
  {
   "cell_type": "markdown",
   "id": "altered-salon",
   "metadata": {},
   "source": [
    "If we instead wanted the lower case we would instead start at 1."
   ]
  },
  {
   "cell_type": "code",
   "execution_count": 372,
   "id": "angry-petersburg",
   "metadata": {},
   "outputs": [
    {
     "data": {
      "text/plain": [
       "'hello'"
      ]
     },
     "execution_count": 372,
     "metadata": {},
     "output_type": "execute_result"
    }
   ],
   "source": [
    "string[1:len(string):2]"
   ]
  },
  {
   "cell_type": "markdown",
   "id": "continued-validity",
   "metadata": {},
   "source": [
    "Since the stop value is the length of the string we could also use."
   ]
  },
  {
   "cell_type": "code",
   "execution_count": 373,
   "id": "unlimited-portugal",
   "metadata": {},
   "outputs": [
    {
     "data": {
      "text/plain": [
       "'hello'"
      ]
     },
     "execution_count": 373,
     "metadata": {},
     "output_type": "execute_result"
    }
   ],
   "source": [
    "string[1::2]"
   ]
  },
  {
   "cell_type": "markdown",
   "id": "fixed-browser",
   "metadata": {},
   "source": [
    "We can also use negative indexes. If we want the string in reverse, we could take every negative second value."
   ]
  },
  {
   "cell_type": "code",
   "execution_count": 374,
   "id": "portable-stocks",
   "metadata": {},
   "outputs": [
    {
     "data": {
      "text/plain": [
       "'olleh'"
      ]
     },
     "execution_count": 374,
     "metadata": {},
     "output_type": "execute_result"
    }
   ],
   "source": [
    "string[-1:-len(string)-1:-2]"
   ]
  },
  {
   "cell_type": "markdown",
   "id": "nearby-reaction",
   "metadata": {},
   "source": [
    "When a negative step is selected the start value takes a default of -1 if not specified and the stop value takes a default of -len(string)-1 if not specified. Recall once again the the start bound is inclusive and the upper bound is exclusive."
   ]
  },
  {
   "cell_type": "code",
   "execution_count": 375,
   "id": "tender-fifty",
   "metadata": {},
   "outputs": [
    {
     "data": {
      "text/plain": [
       "'olleh'"
      ]
     },
     "execution_count": 375,
     "metadata": {},
     "output_type": "execute_result"
    }
   ],
   "source": [
    "string[::-2]"
   ]
  },
  {
   "cell_type": "code",
   "execution_count": 376,
   "id": "confirmed-israeli",
   "metadata": {},
   "outputs": [
    {
     "data": {
      "text/plain": [
       "'OLLEH'"
      ]
     },
     "execution_count": 376,
     "metadata": {},
     "output_type": "execute_result"
    }
   ],
   "source": [
    "string[-2:-len(string)-1:-2]"
   ]
  },
  {
   "cell_type": "markdown",
   "id": "senior-kruger",
   "metadata": {},
   "source": [
    "### The Dictionary Collection (dict)"
   ]
  },
  {
   "cell_type": "markdown",
   "id": "hydraulic-rwanda",
   "metadata": {},
   "source": [
    "Another collection is the dictionary collection. A dictionary has the form of a regular dictionary where there is a key (keyword) and value (definition). For example the dictionary below."
   ]
  },
  {
   "cell_type": "markdown",
   "id": "vocal-blank",
   "metadata": {},
   "source": [
    "|key|value|\n",
    "|---|---|\n",
    "|python|a programming language|\n",
    "|numpy|the numeric python library|\n",
    "|pandas|the python and data analysis library|\n",
    "|matplotlib|the python plotting library|"
   ]
  },
  {
   "cell_type": "markdown",
   "id": "treated-panama",
   "metadata": {},
   "source": [
    "A dictionary is quite commonly used in a programming language when it comes to assigning settings. Each setting has one name and multiple possible values. A user configuration will have one value set for each setting."
   ]
  },
  {
   "cell_type": "markdown",
   "id": "enabling-presentation",
   "metadata": {},
   "source": [
    "![windows10settings](windows10settings.png)"
   ]
  },
  {
   "cell_type": "markdown",
   "id": "pending-sweden",
   "metadata": {},
   "source": [
    "In Windows 10 the registry for example can just be thought of as a large dictionary."
   ]
  },
  {
   "cell_type": "markdown",
   "id": "variable-commonwealth",
   "metadata": {},
   "source": [
    "![windows10settings2](windows10settings2.png)"
   ]
  },
  {
   "cell_type": "markdown",
   "id": "trained-circumstances",
   "metadata": {},
   "source": [
    "The setting highlighted above for example uses the registry value AppsUseLightTheme (which can be thought of as the key) and the data for it is 1 (this is the value and in this case is a Boolean which can be True or False)."
   ]
  },
  {
   "cell_type": "markdown",
   "id": "middle-summit",
   "metadata": {},
   "source": [
    "Dictionaries are commonly used when it comes to using functions which rename multiple items. In such cases the keys are normally the old names and the values are normally the new names."
   ]
  },
  {
   "cell_type": "markdown",
   "id": "framed-mechanism",
   "metadata": {},
   "source": [
    "A dictionary uses curly brackets opposed to square brackets. We can create an empty dictionary using."
   ]
  },
  {
   "cell_type": "code",
   "execution_count": 377,
   "id": "entire-footwear",
   "metadata": {},
   "outputs": [],
   "source": [
    "pythonterms={}"
   ]
  },
  {
   "cell_type": "code",
   "execution_count": 378,
   "id": "enormous-homework",
   "metadata": {},
   "outputs": [
    {
     "data": {
      "text/plain": [
       "{}"
      ]
     },
     "execution_count": 378,
     "metadata": {},
     "output_type": "execute_result"
    }
   ],
   "source": [
    "pythonterms"
   ]
  },
  {
   "cell_type": "markdown",
   "id": "precise-harassment",
   "metadata": {},
   "source": [
    "Alternatively we can instantiate a dictionary using the dict class directly. If we type in dict followed by a tab ↹ and shift ⇧ we get the docstring for the init signature which gives details about the positional input argument and mentions key-value pairs."
   ]
  },
  {
   "cell_type": "markdown",
   "id": "tamil-victorian",
   "metadata": {},
   "source": [
    "![dict_init_signature](dict_init_signature.png)"
   ]
  },
  {
   "cell_type": "code",
   "execution_count": 379,
   "id": "developing-pendant",
   "metadata": {},
   "outputs": [],
   "source": [
    "pythonterms=dict()"
   ]
  },
  {
   "cell_type": "code",
   "execution_count": 380,
   "id": "reverse-fellow",
   "metadata": {},
   "outputs": [
    {
     "data": {
      "text/plain": [
       "{}"
      ]
     },
     "execution_count": 380,
     "metadata": {},
     "output_type": "execute_result"
    }
   ],
   "source": [
    "pythonterms"
   ]
  },
  {
   "cell_type": "markdown",
   "id": "continuing-paintball",
   "metadata": {},
   "source": [
    "When we type in the dict name followed by a dot . and a tab ↹ we see a number of list methods and attributes."
   ]
  },
  {
   "cell_type": "markdown",
   "id": "incident-server",
   "metadata": {},
   "source": [
    "![dict_methods_attributes](dict_methods_attributes.png)"
   ]
  },
  {
   "cell_type": "markdown",
   "id": "valued-graduation",
   "metadata": {},
   "source": [
    "We see that there are the methods keys and values outlining the data structure of the dictionary. "
   ]
  },
  {
   "cell_type": "markdown",
   "id": "subjective-thesaurus",
   "metadata": {},
   "source": [
    "Items have to be added in key value pairs. The colon is used to seperate the key from its corresponding value. Each key is unique but two keys can have the same value. In this case both the key and the value are of he type str."
   ]
  },
  {
   "cell_type": "code",
   "execution_count": 381,
   "id": "absent-service",
   "metadata": {},
   "outputs": [],
   "source": [
    "pythonterms={'python':'a programming language'}"
   ]
  },
  {
   "cell_type": "code",
   "execution_count": 382,
   "id": "mediterranean-honduras",
   "metadata": {},
   "outputs": [
    {
     "data": {
      "text/plain": [
       "{'python': 'a programming language'}"
      ]
     },
     "execution_count": 382,
     "metadata": {},
     "output_type": "execute_result"
    }
   ],
   "source": [
    "pythonterms"
   ]
  },
  {
   "cell_type": "markdown",
   "id": "endless-reproduction",
   "metadata": {},
   "source": [
    "A dictionary can be indexed int using squarebrackets. It does not have a numeric index and the key is used to index."
   ]
  },
  {
   "cell_type": "code",
   "execution_count": 383,
   "id": "armed-amount",
   "metadata": {},
   "outputs": [
    {
     "data": {
      "text/plain": [
       "'a programming language'"
      ]
     },
     "execution_count": 383,
     "metadata": {},
     "output_type": "execute_result"
    }
   ],
   "source": [
    "pythonterms['python']"
   ]
  },
  {
   "cell_type": "markdown",
   "id": "worthy-yahoo",
   "metadata": {},
   "source": [
    "When explictly instantating using the dict class, the key is input as a keyword input argument. Because it is input as a keyword input argument it is not enclosed in quotations. Quotations are automatically added to the key if it is text."
   ]
  },
  {
   "cell_type": "code",
   "execution_count": 384,
   "id": "interesting-assessment",
   "metadata": {},
   "outputs": [],
   "source": [
    "pythonterms=dict(python='a programming language')"
   ]
  },
  {
   "cell_type": "code",
   "execution_count": 385,
   "id": "ignored-romance",
   "metadata": {},
   "outputs": [
    {
     "data": {
      "text/plain": [
       "{'python': 'a programming language'}"
      ]
     },
     "execution_count": 385,
     "metadata": {},
     "output_type": "execute_result"
    }
   ],
   "source": [
    "pythonterms"
   ]
  },
  {
   "cell_type": "markdown",
   "id": "other-salmon",
   "metadata": {},
   "source": [
    "A new key:value pair can be added by indexing into the dictonary with a new key and assigning it to the value."
   ]
  },
  {
   "cell_type": "code",
   "execution_count": 386,
   "id": "hawaiian-replica",
   "metadata": {},
   "outputs": [],
   "source": [
    "pythonterms['numpy']='the numeric python library'"
   ]
  },
  {
   "cell_type": "code",
   "execution_count": 387,
   "id": "strategic-zoning",
   "metadata": {},
   "outputs": [
    {
     "data": {
      "text/plain": [
       "{'python': 'a programming language', 'numpy': 'the numeric python library'}"
      ]
     },
     "execution_count": 387,
     "metadata": {},
     "output_type": "execute_result"
    }
   ],
   "source": [
    "pythonterms"
   ]
  },
  {
   "cell_type": "markdown",
   "id": "polished-reform",
   "metadata": {},
   "source": [
    "When the dictionary is created with the braces it can be done on one line or similar to a list, it can be split over multiple lines by pressing enter ↵ after the comma , delimiter."
   ]
  },
  {
   "cell_type": "code",
   "execution_count": 388,
   "id": "demonstrated-pointer",
   "metadata": {},
   "outputs": [],
   "source": [
    "pythonterms={'python':'a programming language','numpy':'the numeric python library','pandas':'the python and data analysis library','matplotlib':'the python plotting library'}"
   ]
  },
  {
   "cell_type": "code",
   "execution_count": 389,
   "id": "literary-there",
   "metadata": {},
   "outputs": [
    {
     "data": {
      "text/plain": [
       "{'python': 'a programming language',\n",
       " 'numpy': 'the numeric python library',\n",
       " 'pandas': 'the python and data analysis library',\n",
       " 'matplotlib': 'the python plotting library'}"
      ]
     },
     "execution_count": 389,
     "metadata": {},
     "output_type": "execute_result"
    }
   ],
   "source": [
    "pythonterms"
   ]
  },
  {
   "cell_type": "code",
   "execution_count": 390,
   "id": "stuffed-stations",
   "metadata": {},
   "outputs": [],
   "source": [
    "pythonterms={'python':'a programming language',\n",
    "             'numpy':'the numeric python library',\n",
    "             'pandas':'the python and data analysis library',\n",
    "             'matplotlib':'the python plotting library'}"
   ]
  },
  {
   "cell_type": "code",
   "execution_count": 391,
   "id": "residential-maria",
   "metadata": {},
   "outputs": [
    {
     "data": {
      "text/plain": [
       "{'python': 'a programming language',\n",
       " 'numpy': 'the numeric python library',\n",
       " 'pandas': 'the python and data analysis library',\n",
       " 'matplotlib': 'the python plotting library'}"
      ]
     },
     "execution_count": 391,
     "metadata": {},
     "output_type": "execute_result"
    }
   ],
   "source": [
    "pythonterms"
   ]
  },
  {
   "cell_type": "code",
   "execution_count": 392,
   "id": "great-joshua",
   "metadata": {},
   "outputs": [],
   "source": [
    "pythonterms=dict(python='a programming language',numpy='the numeric python library',pandas='the python and data analysis library',matplotlib='the python plotting library')"
   ]
  },
  {
   "cell_type": "code",
   "execution_count": 393,
   "id": "worthy-concrete",
   "metadata": {},
   "outputs": [
    {
     "data": {
      "text/plain": [
       "{'python': 'a programming language',\n",
       " 'numpy': 'the numeric python library',\n",
       " 'pandas': 'the python and data analysis library',\n",
       " 'matplotlib': 'the python plotting library'}"
      ]
     },
     "execution_count": 393,
     "metadata": {},
     "output_type": "execute_result"
    }
   ],
   "source": [
    "pythonterms"
   ]
  },
  {
   "cell_type": "markdown",
   "id": "combined-payday",
   "metadata": {},
   "source": [
    "Now that the dictionary is populated we can look at the methods keys and values."
   ]
  },
  {
   "cell_type": "code",
   "execution_count": 394,
   "id": "supreme-petersburg",
   "metadata": {},
   "outputs": [
    {
     "data": {
      "text/plain": [
       "dict_keys(['python', 'numpy', 'pandas', 'matplotlib'])"
      ]
     },
     "execution_count": 394,
     "metadata": {},
     "output_type": "execute_result"
    }
   ],
   "source": [
    "pythonterms.keys()"
   ]
  },
  {
   "cell_type": "code",
   "execution_count": 395,
   "id": "compatible-punishment",
   "metadata": {},
   "outputs": [
    {
     "data": {
      "text/plain": [
       "dict_values(['a programming language', 'the numeric python library', 'the python and data analysis library', 'the python plotting library'])"
      ]
     },
     "execution_count": 395,
     "metadata": {},
     "output_type": "execute_result"
    }
   ],
   "source": [
    "pythonterms.values()"
   ]
  },
  {
   "cell_type": "markdown",
   "id": "pending-april",
   "metadata": {},
   "source": [
    "We see that both of these are list like. "
   ]
  },
  {
   "cell_type": "markdown",
   "id": "unexpected-extraction",
   "metadata": {},
   "source": [
    "A dictionary can be constructe by zipping two lists together."
   ]
  },
  {
   "cell_type": "code",
   "execution_count": 396,
   "id": "incomplete-dictionary",
   "metadata": {},
   "outputs": [],
   "source": [
    "key_colors=['r','g','b']\n",
    "key_values=['red','green','blue']"
   ]
  },
  {
   "cell_type": "code",
   "execution_count": 397,
   "id": "standing-ghana",
   "metadata": {},
   "outputs": [],
   "source": [
    "cmap=dict(zip(key_colors,key_values))"
   ]
  },
  {
   "cell_type": "code",
   "execution_count": 398,
   "id": "liable-fetish",
   "metadata": {},
   "outputs": [
    {
     "data": {
      "text/plain": [
       "{'r': 'red', 'g': 'green', 'b': 'blue'}"
      ]
     },
     "execution_count": 398,
     "metadata": {},
     "output_type": "execute_result"
    }
   ],
   "source": [
    "cmap"
   ]
  },
  {
   "cell_type": "markdown",
   "id": "catholic-nelson",
   "metadata": {},
   "source": [
    "### Mutability"
   ]
  },
  {
   "cell_type": "markdown",
   "id": "ranking-noise",
   "metadata": {},
   "source": [
    "Let's create the following list."
   ]
  },
  {
   "cell_type": "code",
   "execution_count": 399,
   "id": "light-championship",
   "metadata": {},
   "outputs": [],
   "source": [
    "shop=['apples',\n",
    "      'bananas',\n",
    "      'grapes',\n",
    "      'oranges',\n",
    "      'pears']"
   ]
  },
  {
   "cell_type": "code",
   "execution_count": 400,
   "id": "atomic-television",
   "metadata": {},
   "outputs": [
    {
     "data": {
      "text/plain": [
       "['apples', 'bananas', 'grapes', 'oranges', 'pears']"
      ]
     },
     "execution_count": 400,
     "metadata": {},
     "output_type": "execute_result"
    }
   ],
   "source": [
    "shop"
   ]
  },
  {
   "cell_type": "markdown",
   "id": "understanding-accounting",
   "metadata": {},
   "source": [
    "Now let us attempt to create a copy."
   ]
  },
  {
   "cell_type": "code",
   "execution_count": 401,
   "id": "former-option",
   "metadata": {},
   "outputs": [],
   "source": [
    "shop2=shop"
   ]
  },
  {
   "cell_type": "code",
   "execution_count": 402,
   "id": "cathedral-vinyl",
   "metadata": {},
   "outputs": [
    {
     "data": {
      "text/plain": [
       "['apples', 'bananas', 'grapes', 'oranges', 'pears']"
      ]
     },
     "execution_count": 402,
     "metadata": {},
     "output_type": "execute_result"
    }
   ],
   "source": [
    "shop2"
   ]
  },
  {
   "cell_type": "markdown",
   "id": "dependent-sense",
   "metadata": {},
   "source": [
    "Now let us modify the list shop2 for example by appending an item."
   ]
  },
  {
   "cell_type": "code",
   "execution_count": 403,
   "id": "extra-payday",
   "metadata": {},
   "outputs": [],
   "source": [
    "shop2.append('kiwi')"
   ]
  },
  {
   "cell_type": "code",
   "execution_count": 404,
   "id": "respective-demonstration",
   "metadata": {},
   "outputs": [
    {
     "data": {
      "text/plain": [
       "['apples', 'bananas', 'grapes', 'oranges', 'pears', 'kiwi']"
      ]
     },
     "execution_count": 404,
     "metadata": {},
     "output_type": "execute_result"
    }
   ],
   "source": [
    "shop2"
   ]
  },
  {
   "cell_type": "markdown",
   "id": "catholic-palace",
   "metadata": {},
   "source": [
    "If we check the value of shop we see that it has also been updated."
   ]
  },
  {
   "cell_type": "code",
   "execution_count": 405,
   "id": "amazing-bradford",
   "metadata": {},
   "outputs": [
    {
     "data": {
      "text/plain": [
       "['apples', 'bananas', 'grapes', 'oranges', 'pears', 'kiwi']"
      ]
     },
     "execution_count": 405,
     "metadata": {},
     "output_type": "execute_result"
    }
   ],
   "source": [
    "shop"
   ]
  },
  {
   "cell_type": "markdown",
   "id": "piano-calendar",
   "metadata": {},
   "source": [
    "This is because the line shop2=shop does not create a copy but instead creats an alias. i.e. shop2 and shop are both object names for the same list."
   ]
  },
  {
   "cell_type": "code",
   "execution_count": 406,
   "id": "timely-intent",
   "metadata": {},
   "outputs": [],
   "source": [
    "shop=['apples',\n",
    "      'bananas',\n",
    "      'grapes',\n",
    "      'oranges',\n",
    "      'pears']"
   ]
  },
  {
   "cell_type": "markdown",
   "id": "exceptional-southwest",
   "metadata": {},
   "source": [
    "Instead we should use the method copy or alternatively index using square brakcets and a colon."
   ]
  },
  {
   "cell_type": "code",
   "execution_count": 407,
   "id": "perfect-rebound",
   "metadata": {},
   "outputs": [],
   "source": [
    "shop2=shop.copy()"
   ]
  },
  {
   "cell_type": "code",
   "execution_count": 408,
   "id": "administrative-bottom",
   "metadata": {},
   "outputs": [],
   "source": [
    "shop3=shop2[:]"
   ]
  },
  {
   "cell_type": "code",
   "execution_count": 409,
   "id": "packed-lotus",
   "metadata": {},
   "outputs": [],
   "source": [
    "shop2.append('kiwi')"
   ]
  },
  {
   "cell_type": "markdown",
   "id": "local-folder",
   "metadata": {},
   "source": [
    "Now we see that both shop1 and shop3 are not updated when shop2 is updated."
   ]
  },
  {
   "cell_type": "code",
   "execution_count": 410,
   "id": "mysterious-version",
   "metadata": {},
   "outputs": [
    {
     "data": {
      "text/plain": [
       "['apples', 'bananas', 'grapes', 'oranges', 'pears']"
      ]
     },
     "execution_count": 410,
     "metadata": {},
     "output_type": "execute_result"
    }
   ],
   "source": [
    "shop"
   ]
  },
  {
   "cell_type": "code",
   "execution_count": 411,
   "id": "acting-protocol",
   "metadata": {},
   "outputs": [
    {
     "data": {
      "text/plain": [
       "['apples', 'bananas', 'grapes', 'oranges', 'pears', 'kiwi']"
      ]
     },
     "execution_count": 411,
     "metadata": {},
     "output_type": "execute_result"
    }
   ],
   "source": [
    "shop2"
   ]
  },
  {
   "cell_type": "code",
   "execution_count": 412,
   "id": "transsexual-blocking",
   "metadata": {},
   "outputs": [
    {
     "data": {
      "text/plain": [
       "['apples', 'bananas', 'grapes', 'oranges', 'pears']"
      ]
     },
     "execution_count": 412,
     "metadata": {},
     "output_type": "execute_result"
    }
   ],
   "source": [
    "shop3"
   ]
  },
  {
   "cell_type": "markdown",
   "id": "finnish-trick",
   "metadata": {},
   "source": [
    "Mutability allows great flexibility when it comes to working with lists however at the same time we also need to be careful that we don't mutate a list by mistake."
   ]
  },
  {
   "cell_type": "markdown",
   "id": "previous-dollar",
   "metadata": {},
   "source": [
    "### The Tuple Collection (tuple)"
   ]
  },
  {
   "cell_type": "markdown",
   "id": "racial-development",
   "metadata": {},
   "source": [
    "A tuple is essentially a list that is immutable. There are two main advantages in using a tuple over a list. First a tuple is far less likely to be altered by accident and secondly it is faster to access because it is immutable."
   ]
  },
  {
   "cell_type": "markdown",
   "id": "southern-leonard",
   "metadata": {},
   "source": [
    "It has the same form as a list but uses brackets ( ) opposed to square brackets \\[ \\]. Let's create an empty tuple."
   ]
  },
  {
   "cell_type": "code",
   "execution_count": 413,
   "id": "unauthorized-jones",
   "metadata": {},
   "outputs": [],
   "source": [
    "shop_t=()"
   ]
  },
  {
   "cell_type": "markdown",
   "id": "specified-diagnosis",
   "metadata": {},
   "source": [
    "Note to get a single element we need to include a comma , delimiter so the ( ) isn't taken as parenthesis."
   ]
  },
  {
   "cell_type": "code",
   "execution_count": 414,
   "id": "worth-hotel",
   "metadata": {},
   "outputs": [],
   "source": [
    "shop_t=('apples',)"
   ]
  },
  {
   "cell_type": "code",
   "execution_count": 415,
   "id": "scenic-rescue",
   "metadata": {},
   "outputs": [
    {
     "data": {
      "text/plain": [
       "('apples',)"
      ]
     },
     "execution_count": 415,
     "metadata": {},
     "output_type": "execute_result"
    }
   ],
   "source": [
    "shop_t"
   ]
  },
  {
   "cell_type": "code",
   "execution_count": 416,
   "id": "assigned-section",
   "metadata": {},
   "outputs": [],
   "source": [
    "shop_t=('apples')"
   ]
  },
  {
   "cell_type": "code",
   "execution_count": 417,
   "id": "improving-adjustment",
   "metadata": {},
   "outputs": [
    {
     "data": {
      "text/plain": [
       "'apples'"
      ]
     },
     "execution_count": 417,
     "metadata": {},
     "output_type": "execute_result"
    }
   ],
   "source": [
    "shop_t"
   ]
  },
  {
   "cell_type": "code",
   "execution_count": 418,
   "id": "unlike-elevation",
   "metadata": {},
   "outputs": [],
   "source": [
    "shop_t=('apples', 'bananas', 'grapes', 'oranges', 'pears')"
   ]
  },
  {
   "cell_type": "markdown",
   "id": "amazing-creativity",
   "metadata": {},
   "source": [
    "Alternatively we can instantiate a tuple using the tuple class directly. If we type in tuple followed by a tab ↹ and shift ⇧ we get the list init statement docstring which outlines details about the positional input argument which we see are iterable. We see the form is more or less identical to that of a list."
   ]
  },
  {
   "cell_type": "markdown",
   "id": "pretty-causing",
   "metadata": {},
   "source": [
    "![tuple_init_signature](tuple_init_signature.png)"
   ]
  },
  {
   "cell_type": "code",
   "execution_count": 419,
   "id": "english-abraham",
   "metadata": {},
   "outputs": [],
   "source": [
    "shop_t=tuple(('apples', 'bananas', 'grapes', 'oranges', 'pears'))"
   ]
  },
  {
   "cell_type": "code",
   "execution_count": 420,
   "id": "systematic-somalia",
   "metadata": {},
   "outputs": [
    {
     "data": {
      "text/plain": [
       "('apples', 'bananas', 'grapes', 'oranges', 'pears')"
      ]
     },
     "execution_count": 420,
     "metadata": {},
     "output_type": "execute_result"
    }
   ],
   "source": [
    "shop_t"
   ]
  },
  {
   "cell_type": "markdown",
   "id": "suffering-heritage",
   "metadata": {},
   "source": [
    "The list and tuple classes may be used to quickly convert a list to a tuple and vice versa."
   ]
  },
  {
   "cell_type": "code",
   "execution_count": 421,
   "id": "controversial-agency",
   "metadata": {},
   "outputs": [],
   "source": [
    "shop_l=list(shop_t)"
   ]
  },
  {
   "cell_type": "code",
   "execution_count": 422,
   "id": "fuzzy-italic",
   "metadata": {},
   "outputs": [
    {
     "data": {
      "text/plain": [
       "['apples', 'bananas', 'grapes', 'oranges', 'pears']"
      ]
     },
     "execution_count": 422,
     "metadata": {},
     "output_type": "execute_result"
    }
   ],
   "source": [
    "shop_l"
   ]
  },
  {
   "cell_type": "markdown",
   "id": "canadian-insured",
   "metadata": {},
   "source": [
    "Because a tuple is immutable, there are only a limited number of methods ailable which can be accessed by typing in the tuples name followed by a dot . and a tab ↹."
   ]
  },
  {
   "cell_type": "markdown",
   "id": "electoral-bishop",
   "metadata": {},
   "source": [
    "![tuple_methods_attributes](tuple_methods_attributes.png)"
   ]
  },
  {
   "cell_type": "markdown",
   "id": "dental-laundry",
   "metadata": {},
   "source": [
    "We see that the list in comparson has many more methods availale."
   ]
  },
  {
   "cell_type": "markdown",
   "id": "seasonal-florist",
   "metadata": {},
   "source": [
    "![list2_methods_attributes](list2_methods_attributes.png)"
   ]
  },
  {
   "cell_type": "markdown",
   "id": "noted-pound",
   "metadata": {},
   "source": [
    "The tuple and list method count has a single positional input argument value. This will return the number of indexes which share the value. "
   ]
  },
  {
   "cell_type": "markdown",
   "id": "failing-truth",
   "metadata": {},
   "source": [
    "![tuple_method_count](tuple_method_count.png)"
   ]
  },
  {
   "cell_type": "markdown",
   "id": "instructional-button",
   "metadata": {},
   "source": [
    "For example we check the number fo times 'apples' occur in each collection which is just 1."
   ]
  },
  {
   "cell_type": "code",
   "execution_count": 423,
   "id": "satisfied-sauce",
   "metadata": {},
   "outputs": [
    {
     "data": {
      "text/plain": [
       "1"
      ]
     },
     "execution_count": 423,
     "metadata": {},
     "output_type": "execute_result"
    }
   ],
   "source": [
    "shop_t.count('apples')"
   ]
  },
  {
   "cell_type": "code",
   "execution_count": 424,
   "id": "republican-withdrawal",
   "metadata": {},
   "outputs": [
    {
     "data": {
      "text/plain": [
       "1"
      ]
     },
     "execution_count": 424,
     "metadata": {},
     "output_type": "execute_result"
    }
   ],
   "source": [
    "shop_l.count('apples')"
   ]
  },
  {
   "cell_type": "markdown",
   "id": "related-ceramic",
   "metadata": {},
   "source": [
    "If we have type in the method function followed by a tab ↹ and shift ⇧ we'll get details about the positional input arguments. The 0th positional input argument is the value to find. The 1st and 2nd positional input argument start and stop are optional and specify an index range which we can search over. These are documented to look like keyword input arguemnts but unfortunately do not work in this manner."
   ]
  },
  {
   "cell_type": "markdown",
   "id": "conceptual-distributor",
   "metadata": {},
   "source": [
    "![tuple_method_index](tuple_method_index.png)"
   ]
  },
  {
   "cell_type": "code",
   "execution_count": 425,
   "id": "unusual-intake",
   "metadata": {},
   "outputs": [
    {
     "data": {
      "text/plain": [
       "0"
      ]
     },
     "execution_count": 425,
     "metadata": {},
     "output_type": "execute_result"
    }
   ],
   "source": [
    "shop_t.index('apples')"
   ]
  },
  {
   "cell_type": "code",
   "execution_count": 426,
   "id": "strategic-stadium",
   "metadata": {},
   "outputs": [
    {
     "data": {
      "text/plain": [
       "0"
      ]
     },
     "execution_count": 426,
     "metadata": {},
     "output_type": "execute_result"
    }
   ],
   "source": [
    "shop_l.index('apples')"
   ]
  },
  {
   "cell_type": "markdown",
   "id": "amino-editor",
   "metadata": {},
   "source": [
    "Let's concatenate another list to shop_1 and reassign the output to shop_l."
   ]
  },
  {
   "cell_type": "code",
   "execution_count": 427,
   "id": "known-negative",
   "metadata": {},
   "outputs": [],
   "source": [
    "shop_l=shop_l+['apples','oranges']"
   ]
  },
  {
   "cell_type": "code",
   "execution_count": 428,
   "id": "labeled-korea",
   "metadata": {},
   "outputs": [
    {
     "data": {
      "text/plain": [
       "['apples', 'bananas', 'grapes', 'oranges', 'pears', 'apples', 'oranges']"
      ]
     },
     "execution_count": 428,
     "metadata": {},
     "output_type": "execute_result"
    }
   ],
   "source": [
    "shop_l"
   ]
  },
  {
   "cell_type": "markdown",
   "id": "played-marathon",
   "metadata": {},
   "source": [
    "Now if we count the number of occurances of 'apples' we get a value of 2."
   ]
  },
  {
   "cell_type": "code",
   "execution_count": 429,
   "id": "dramatic-dublin",
   "metadata": {},
   "outputs": [
    {
     "data": {
      "text/plain": [
       "2"
      ]
     },
     "execution_count": 429,
     "metadata": {},
     "output_type": "execute_result"
    }
   ],
   "source": [
    "shop_l.count('apples')"
   ]
  },
  {
   "cell_type": "markdown",
   "id": "based-structure",
   "metadata": {},
   "source": [
    "The method index only returns the initial index of the value found i.e. index 0."
   ]
  },
  {
   "cell_type": "code",
   "execution_count": 430,
   "id": "removed-secretary",
   "metadata": {},
   "outputs": [
    {
     "data": {
      "text/plain": [
       "0"
      ]
     },
     "execution_count": 430,
     "metadata": {},
     "output_type": "execute_result"
    }
   ],
   "source": [
    "shop_l.index('apples')"
   ]
  },
  {
   "cell_type": "markdown",
   "id": "located-average",
   "metadata": {},
   "source": [
    "start and stop unfortunately do not work as keyword input arguments."
   ]
  },
  {
   "cell_type": "markdown",
   "id": "minimal-payment",
   "metadata": {},
   "source": [
    "```idx1=shop_1.index('apples',start=1)```"
   ]
  },
  {
   "cell_type": "markdown",
   "id": "changed-section",
   "metadata": {},
   "source": [
    "![tuple_method_index_TypeError](tuple_method_index_TypeError.png)"
   ]
  },
  {
   "cell_type": "markdown",
   "id": "contained-backing",
   "metadata": {},
   "source": [
    "The initial index within the range 1 upwards is found, in this case 5."
   ]
  },
  {
   "cell_type": "code",
   "execution_count": 431,
   "id": "accessory-duration",
   "metadata": {},
   "outputs": [
    {
     "data": {
      "text/plain": [
       "5"
      ]
     },
     "execution_count": 431,
     "metadata": {},
     "output_type": "execute_result"
    }
   ],
   "source": [
    "shop_l.index('apples',1)"
   ]
  },
  {
   "cell_type": "markdown",
   "id": "worst-leave",
   "metadata": {},
   "source": [
    "If the value is not found in the range selected a ValueError will display."
   ]
  },
  {
   "cell_type": "markdown",
   "id": "nearby-emergency",
   "metadata": {},
   "source": [
    "```shop_1.index('apples',6)```"
   ]
  },
  {
   "cell_type": "markdown",
   "id": "nervous-jamaica",
   "metadata": {},
   "source": [
    "![tuple_method_index_ValueError](tuple_method_index_ValueError.png)"
   ]
  },
  {
   "cell_type": "markdown",
   "id": "entire-representative",
   "metadata": {},
   "source": [
    "To prevent this ValueError from halting the Kernel a try and except branch can be used. To get all the indexes that have the value 'Apples' a while loop can be used."
   ]
  },
  {
   "cell_type": "code",
   "execution_count": 432,
   "id": "aggressive-france",
   "metadata": {},
   "outputs": [
    {
     "data": {
      "text/plain": [
       "[0, 5]"
      ]
     },
     "execution_count": 432,
     "metadata": {},
     "output_type": "execute_result"
    }
   ],
   "source": [
    "i=0\n",
    "idx=[]\n",
    "while i<len(shop_l):\n",
    "    try:\n",
    "        idx=idx+[shop_l.index('apples',i)]\n",
    "        i=shop_l.index('apples',i)+1\n",
    "    except ValueError:\n",
    "        break\n",
    "idx"
   ]
  },
  {
   "cell_type": "markdown",
   "id": "limiting-bradley",
   "metadata": {},
   "source": [
    "### Tuple Unpacking"
   ]
  },
  {
   "cell_type": "markdown",
   "id": "stylish-outdoors",
   "metadata": {},
   "source": [
    "We looked previously at defining and using custom functions. We seen that we can have multiple input arguments but only a single return statement. It is possible to use the return statement to return a collection of values such as a tuple. For example we can create this basic function plusminus which returns a lower and upper bound."
   ]
  },
  {
   "cell_type": "code",
   "execution_count": 433,
   "id": "conservative-internet",
   "metadata": {},
   "outputs": [],
   "source": [
    "def plusminus(value=0,error=1):\n",
    "    lower=value-error\n",
    "    upper=value+error\n",
    "    return((lower,upper))"
   ]
  },
  {
   "cell_type": "markdown",
   "id": "double-prague",
   "metadata": {},
   "source": [
    "When we use it we get a tuple."
   ]
  },
  {
   "cell_type": "code",
   "execution_count": 434,
   "id": "white-spell",
   "metadata": {},
   "outputs": [
    {
     "data": {
      "text/plain": [
       "(8, 12)"
      ]
     },
     "execution_count": 434,
     "metadata": {},
     "output_type": "execute_result"
    }
   ],
   "source": [
    "plusminus(value=10,error=2)"
   ]
  },
  {
   "cell_type": "markdown",
   "id": "decent-syndication",
   "metadata": {},
   "source": [
    "Alternatively we can assign the output to an object name."
   ]
  },
  {
   "cell_type": "code",
   "execution_count": 435,
   "id": "ongoing-calgary",
   "metadata": {},
   "outputs": [],
   "source": [
    "pm=plusminus(value=10,error=2)"
   ]
  },
  {
   "cell_type": "markdown",
   "id": "creative-quantity",
   "metadata": {},
   "source": [
    "The object is a tuple."
   ]
  },
  {
   "cell_type": "code",
   "execution_count": 436,
   "id": "built-personal",
   "metadata": {},
   "outputs": [
    {
     "data": {
      "text/plain": [
       "(8, 12)"
      ]
     },
     "execution_count": 436,
     "metadata": {},
     "output_type": "execute_result"
    }
   ],
   "source": [
    "pm"
   ]
  },
  {
   "cell_type": "code",
   "execution_count": 437,
   "id": "million-likelihood",
   "metadata": {},
   "outputs": [
    {
     "data": {
      "text/plain": [
       "tuple"
      ]
     },
     "execution_count": 437,
     "metadata": {},
     "output_type": "execute_result"
    }
   ],
   "source": [
    "type(pm)"
   ]
  },
  {
   "cell_type": "markdown",
   "id": "separate-passion",
   "metadata": {},
   "source": [
    "Since we know the tuple has an index of 0 and an index of 1 we can assign the output of the function to two output arguments."
   ]
  },
  {
   "cell_type": "code",
   "execution_count": 438,
   "id": "assumed-harvey",
   "metadata": {},
   "outputs": [],
   "source": [
    "(m,p)=plusminus(value=10,error=2)"
   ]
  },
  {
   "cell_type": "code",
   "execution_count": 439,
   "id": "accessory-shuttle",
   "metadata": {},
   "outputs": [
    {
     "data": {
      "text/plain": [
       "8"
      ]
     },
     "execution_count": 439,
     "metadata": {},
     "output_type": "execute_result"
    }
   ],
   "source": [
    "m"
   ]
  },
  {
   "cell_type": "code",
   "execution_count": 440,
   "id": "circular-closing",
   "metadata": {},
   "outputs": [
    {
     "data": {
      "text/plain": [
       "int"
      ]
     },
     "execution_count": 440,
     "metadata": {},
     "output_type": "execute_result"
    }
   ],
   "source": [
    "type(m)"
   ]
  },
  {
   "cell_type": "code",
   "execution_count": 441,
   "id": "optional-cathedral",
   "metadata": {},
   "outputs": [
    {
     "data": {
      "text/plain": [
       "12"
      ]
     },
     "execution_count": 441,
     "metadata": {},
     "output_type": "execute_result"
    }
   ],
   "source": [
    "p"
   ]
  },
  {
   "cell_type": "code",
   "execution_count": 442,
   "id": "crude-attribute",
   "metadata": {},
   "outputs": [
    {
     "data": {
      "text/plain": [
       "int"
      ]
     },
     "execution_count": 442,
     "metadata": {},
     "output_type": "execute_result"
    }
   ],
   "source": [
    "type(p)"
   ]
  },
  {
   "cell_type": "markdown",
   "id": "unknown-devon",
   "metadata": {},
   "source": [
    "The code above can be simplified by removing parenthesis."
   ]
  },
  {
   "cell_type": "code",
   "execution_count": 443,
   "id": "further-ultimate",
   "metadata": {},
   "outputs": [],
   "source": [
    "def plusminus(value=0,error=1):\n",
    "    lower=value-error\n",
    "    upper=value+error\n",
    "    return(lower,upper)"
   ]
  },
  {
   "cell_type": "code",
   "execution_count": 444,
   "id": "interracial-shelf",
   "metadata": {},
   "outputs": [],
   "source": [
    "m,p=plusminus(value=10,error=2)"
   ]
  },
  {
   "cell_type": "code",
   "execution_count": 445,
   "id": "conditional-preliminary",
   "metadata": {},
   "outputs": [
    {
     "data": {
      "text/plain": [
       "8"
      ]
     },
     "execution_count": 445,
     "metadata": {},
     "output_type": "execute_result"
    }
   ],
   "source": [
    "m"
   ]
  },
  {
   "cell_type": "code",
   "execution_count": 446,
   "id": "voluntary-memorabilia",
   "metadata": {},
   "outputs": [
    {
     "data": {
      "text/plain": [
       "12"
      ]
     },
     "execution_count": 446,
     "metadata": {},
     "output_type": "execute_result"
    }
   ],
   "source": [
    "p"
   ]
  },
  {
   "cell_type": "markdown",
   "id": "forbidden-burke",
   "metadata": {},
   "source": [
    "We can of course alter the code above to assert that the keyword input arguments are int or float."
   ]
  },
  {
   "cell_type": "code",
   "execution_count": 447,
   "id": "finite-marketplace",
   "metadata": {},
   "outputs": [],
   "source": [
    "def plusminus(value=0,error=1):\n",
    "    '''Will calculate a lower and upper bound for value±error'''\n",
    "    try:\n",
    "        assert ((type(value)==int or type(value)==float) and (type(error)==int or type(error)==float)), 'value and error must be numeric'\n",
    "        lower=value-error\n",
    "        upper=value+error\n",
    "        return(lower,upper)\n",
    "    except AssertionError:\n",
    "        print('value and error must be numeric (type int or str)')"
   ]
  },
  {
   "cell_type": "code",
   "execution_count": 448,
   "id": "given-teacher",
   "metadata": {},
   "outputs": [
    {
     "name": "stdout",
     "output_type": "stream",
     "text": [
      "value and error must be numeric (type int or str)\n"
     ]
    }
   ],
   "source": [
    "plusminus(value='a',error=1)"
   ]
  },
  {
   "cell_type": "code",
   "execution_count": 449,
   "id": "pleasant-willow",
   "metadata": {},
   "outputs": [
    {
     "data": {
      "text/plain": [
       "(8, 12)"
      ]
     },
     "execution_count": 449,
     "metadata": {},
     "output_type": "execute_result"
    }
   ],
   "source": [
    "plusminus(value=10,error=2)"
   ]
  },
  {
   "cell_type": "markdown",
   "id": "suburban-coalition",
   "metadata": {},
   "source": [
    "### Nested Collections"
   ]
  },
  {
   "cell_type": "markdown",
   "id": "union-logan",
   "metadata": {},
   "source": [
    "So far we have looked at collections where all the items are of the same datatype. Collections such as lists and tuples are much more flexible and each item in a collection can be a different data type. For example."
   ]
  },
  {
   "cell_type": "code",
   "execution_count": 450,
   "id": "bearing-mistake",
   "metadata": {},
   "outputs": [],
   "source": [
    "mixed=['a',1,1.5,True,complex(real=4,imag=-2)]"
   ]
  },
  {
   "cell_type": "code",
   "execution_count": 451,
   "id": "domestic-photography",
   "metadata": {},
   "outputs": [
    {
     "name": "stdout",
     "output_type": "stream",
     "text": [
      "0 a <class 'str'>\n",
      "1 1 <class 'int'>\n",
      "2 1.5 <class 'float'>\n",
      "3 True <class 'bool'>\n",
      "4 (4-2j) <class 'complex'>\n"
     ]
    }
   ],
   "source": [
    "for idx,item in enumerate(mixed):\n",
    "    print(idx,item,type(item))"
   ]
  },
  {
   "cell_type": "markdown",
   "id": "religious-consultation",
   "metadata": {},
   "source": [
    "It is also possible to nest another collection in a collection. For example a tuple and a list can each be elements within a list."
   ]
  },
  {
   "cell_type": "code",
   "execution_count": 452,
   "id": "compliant-moisture",
   "metadata": {},
   "outputs": [],
   "source": [
    "mixed2=['b',2,2/5,True,complex(real=4,imag=-2),(2,-2),['apples',4,'oranges']]"
   ]
  },
  {
   "cell_type": "code",
   "execution_count": 453,
   "id": "breeding-humanity",
   "metadata": {},
   "outputs": [
    {
     "name": "stdout",
     "output_type": "stream",
     "text": [
      "0 b <class 'str'>\n",
      "1 2 <class 'int'>\n",
      "2 0.4 <class 'float'>\n",
      "3 True <class 'bool'>\n",
      "4 (4-2j) <class 'complex'>\n",
      "5 (2, -2) <class 'tuple'>\n",
      "6 ['apples', 4, 'oranges'] <class 'list'>\n"
     ]
    }
   ],
   "source": [
    "for idx,item in enumerate(mixed2):\n",
    "    print(idx,item,type(item))"
   ]
  },
  {
   "cell_type": "markdown",
   "id": "recognized-cabin",
   "metadata": {},
   "source": [
    "We can index into the list using square brackets and index 5 to get the tuple and then we can use an additional square brackets to select index 1 to get the 1st element in the tuple -2."
   ]
  },
  {
   "cell_type": "code",
   "execution_count": 454,
   "id": "contrary-davis",
   "metadata": {},
   "outputs": [
    {
     "data": {
      "text/plain": [
       "-2"
      ]
     },
     "execution_count": 454,
     "metadata": {},
     "output_type": "execute_result"
    }
   ],
   "source": [
    "mixed2[5][1]"
   ]
  },
  {
   "cell_type": "markdown",
   "id": "apparent-watts",
   "metadata": {},
   "source": [
    "Let's create two lists."
   ]
  },
  {
   "cell_type": "code",
   "execution_count": 455,
   "id": "gross-steering",
   "metadata": {},
   "outputs": [],
   "source": [
    "l1=[0,1,2,3,4]\n",
    "l2=[5,6]"
   ]
  },
  {
   "cell_type": "markdown",
   "id": "elder-suffering",
   "metadata": {},
   "source": [
    "Now let's look at the methods append and extend. If we type in both method names followed by a tab ↹ and shift ⇧ we get details about the input arguments. At first glance the two methods may appear to do the same thing."
   ]
  },
  {
   "cell_type": "markdown",
   "id": "unknown-criterion",
   "metadata": {},
   "source": [
    "![list_method_append](list_method_append.png)"
   ]
  },
  {
   "cell_type": "markdown",
   "id": "painted-specialist",
   "metadata": {},
   "source": [
    "![list_method_extend](list_method_extend.png)"
   ]
  },
  {
   "cell_type": "markdown",
   "id": "resident-basic",
   "metadata": {},
   "source": [
    "However when we use append we see that the entire l2 is appended at the end of l1 as a nested list."
   ]
  },
  {
   "cell_type": "code",
   "execution_count": 456,
   "id": "determined-sterling",
   "metadata": {},
   "outputs": [],
   "source": [
    "l1.append(l2)"
   ]
  },
  {
   "cell_type": "markdown",
   "id": "contained-while",
   "metadata": {},
   "source": [
    "Note the method append shows no output and mutates the original list l1."
   ]
  },
  {
   "cell_type": "code",
   "execution_count": 457,
   "id": "cultural-seeker",
   "metadata": {},
   "outputs": [
    {
     "data": {
      "text/plain": [
       "[0, 1, 2, 3, 4, [5, 6]]"
      ]
     },
     "execution_count": 457,
     "metadata": {},
     "output_type": "execute_result"
    }
   ],
   "source": [
    "l1"
   ]
  },
  {
   "cell_type": "markdown",
   "id": "realistic-agency",
   "metadata": {},
   "source": [
    "Reassigning l1 and l2."
   ]
  },
  {
   "cell_type": "code",
   "execution_count": 458,
   "id": "ambient-cornwall",
   "metadata": {},
   "outputs": [],
   "source": [
    "l1=[0,1,2,3,4]\n",
    "l2=[5,6]"
   ]
  },
  {
   "cell_type": "markdown",
   "id": "greatest-location",
   "metadata": {},
   "source": [
    "And now using the list method extend instead, extends l1 using all the elements in l2."
   ]
  },
  {
   "cell_type": "code",
   "execution_count": 459,
   "id": "mineral-newcastle",
   "metadata": {},
   "outputs": [],
   "source": [
    "l1.extend(l2)"
   ]
  },
  {
   "cell_type": "code",
   "execution_count": 460,
   "id": "registered-financing",
   "metadata": {},
   "outputs": [
    {
     "data": {
      "text/plain": [
       "[0, 1, 2, 3, 4, 5, 6]"
      ]
     },
     "execution_count": 460,
     "metadata": {},
     "output_type": "execute_result"
    }
   ],
   "source": [
    "l1"
   ]
  },
  {
   "cell_type": "code",
   "execution_count": 461,
   "id": "adaptive-shanghai",
   "metadata": {},
   "outputs": [],
   "source": [
    "l1=[0,1,2,3,4]\n",
    "l2=[5,6]"
   ]
  },
  {
   "cell_type": "markdown",
   "id": "caring-programming",
   "metadata": {},
   "source": [
    "The list method insert works in a similar manner to append. If we type in the method followed by a tab ↹ and shift ⇧ we see there are two positional input arguments. An index has to be selected to place the inserted list. All existing values at this index or later are shifted one along."
   ]
  },
  {
   "cell_type": "markdown",
   "id": "boxed-thumbnail",
   "metadata": {},
   "source": [
    "![list_method_insert](list_method_insert.png)"
   ]
  },
  {
   "cell_type": "code",
   "execution_count": 462,
   "id": "lucky-workshop",
   "metadata": {},
   "outputs": [],
   "source": [
    "l1.insert(2,l2)"
   ]
  },
  {
   "cell_type": "markdown",
   "id": "statistical-society",
   "metadata": {},
   "source": [
    "This method also mutates the list l1 and there is no output."
   ]
  },
  {
   "cell_type": "code",
   "execution_count": 463,
   "id": "brief-nightlife",
   "metadata": {},
   "outputs": [
    {
     "data": {
      "text/plain": [
       "[0, 1, [5, 6], 2, 3, 4]"
      ]
     },
     "execution_count": 463,
     "metadata": {},
     "output_type": "execute_result"
    }
   ],
   "source": [
    "l1"
   ]
  },
  {
   "cell_type": "markdown",
   "id": "light-vegetation",
   "metadata": {},
   "source": [
    "The list method remove will remove the first occurance of a value using the value as an input argument. If we type in the method followed by a tab ↹ and shift ⇧ we see there is a single positional input argument value."
   ]
  },
  {
   "cell_type": "markdown",
   "id": "grave-application",
   "metadata": {},
   "source": [
    "![list_method_remove](list_method_remove.png)"
   ]
  },
  {
   "cell_type": "code",
   "execution_count": 464,
   "id": "aging-liability",
   "metadata": {},
   "outputs": [],
   "source": [
    "l1.remove(1)"
   ]
  },
  {
   "cell_type": "markdown",
   "id": "adverse-mailman",
   "metadata": {},
   "source": [
    "This method also mutates the list l1 and there is no output."
   ]
  },
  {
   "cell_type": "code",
   "execution_count": 465,
   "id": "technical-hobby",
   "metadata": {},
   "outputs": [
    {
     "data": {
      "text/plain": [
       "[0, [5, 6], 2, 3, 4]"
      ]
     },
     "execution_count": 465,
     "metadata": {},
     "output_type": "execute_result"
    }
   ],
   "source": [
    "l1"
   ]
  },
  {
   "cell_type": "markdown",
   "id": "alert-reply",
   "metadata": {},
   "source": [
    "The list method pop removes a value using the index as a keyword input argument. If we type in the method followed by a tab ↹ and shift ⇧ we see there is a positional input argument index and it is set to -1 which is the last index. "
   ]
  },
  {
   "cell_type": "markdown",
   "id": "growing-audience",
   "metadata": {},
   "source": [
    "![list_method_pop](list_method_pop.png)"
   ]
  },
  {
   "cell_type": "code",
   "execution_count": 466,
   "id": "accessible-berry",
   "metadata": {},
   "outputs": [
    {
     "data": {
      "text/plain": [
       "[5, 6]"
      ]
     },
     "execution_count": 466,
     "metadata": {},
     "output_type": "execute_result"
    }
   ],
   "source": [
    "l1.pop(1)"
   ]
  },
  {
   "cell_type": "markdown",
   "id": "through-siemens",
   "metadata": {},
   "source": [
    "This method returns the index selected in this case the nested list \\[5,6\\] which was at index 1. This method mutates the list l1 removing the popped value from it."
   ]
  },
  {
   "cell_type": "code",
   "execution_count": 467,
   "id": "fixed-colorado",
   "metadata": {},
   "outputs": [
    {
     "data": {
      "text/plain": [
       "[0, 2, 3, 4]"
      ]
     },
     "execution_count": 467,
     "metadata": {},
     "output_type": "execute_result"
    }
   ],
   "source": [
    "l1"
   ]
  },
  {
   "cell_type": "markdown",
   "id": "powered-supervisor",
   "metadata": {},
   "source": [
    "If the index is not specified, the last value will be popped."
   ]
  },
  {
   "cell_type": "code",
   "execution_count": 468,
   "id": "optimum-reaction",
   "metadata": {},
   "outputs": [
    {
     "data": {
      "text/plain": [
       "4"
      ]
     },
     "execution_count": 468,
     "metadata": {},
     "output_type": "execute_result"
    }
   ],
   "source": [
    "l1.pop()"
   ]
  },
  {
   "cell_type": "code",
   "execution_count": 469,
   "id": "capital-significance",
   "metadata": {},
   "outputs": [
    {
     "data": {
      "text/plain": [
       "[0, 2, 3]"
      ]
     },
     "execution_count": 469,
     "metadata": {},
     "output_type": "execute_result"
    }
   ],
   "source": [
    "l1"
   ]
  },
  {
   "cell_type": "markdown",
   "id": "aggressive-canberra",
   "metadata": {},
   "source": [
    "index unfortunately does not work as a keyword input argument."
   ]
  },
  {
   "cell_type": "markdown",
   "id": "solid-gazette",
   "metadata": {},
   "source": [
    "```l1.pop(index=1)```"
   ]
  },
  {
   "cell_type": "markdown",
   "id": "suburban-nightlife",
   "metadata": {},
   "source": [
    "![list_method_pop_TypeError](list_method_pop_TypeError.png)"
   ]
  },
  {
   "cell_type": "markdown",
   "id": "split-party",
   "metadata": {},
   "source": [
    "The list method clear removes all values in a list returning an empty list. If we type in the method followed by a tab ↹ and shift ⇧ we see there are no input arguments."
   ]
  },
  {
   "cell_type": "markdown",
   "id": "natural-recognition",
   "metadata": {},
   "source": [
    "![list_method_clear](list_method_clear.png)"
   ]
  },
  {
   "cell_type": "code",
   "execution_count": 470,
   "id": "beneficial-plaza",
   "metadata": {},
   "outputs": [],
   "source": [
    "l1.clear()"
   ]
  },
  {
   "cell_type": "markdown",
   "id": "seasonal-typing",
   "metadata": {},
   "source": [
    "This method mutates the list l1 and there is no output."
   ]
  },
  {
   "cell_type": "code",
   "execution_count": 471,
   "id": "played-agent",
   "metadata": {},
   "outputs": [
    {
     "data": {
      "text/plain": [
       "[]"
      ]
     },
     "execution_count": 471,
     "metadata": {},
     "output_type": "execute_result"
    }
   ],
   "source": [
    "l1"
   ]
  },
  {
   "cell_type": "markdown",
   "id": "reverse-warrior",
   "metadata": {},
   "source": [
    "### \\*args and \\*\\*kwargs"
   ]
  },
  {
   "cell_type": "markdown",
   "id": "parental-manhattan",
   "metadata": {},
   "source": [
    "If we look at the list init signature in more detail we'll notice that it doesn't have a specified number of positional input arguments."
   ]
  },
  {
   "cell_type": "markdown",
   "id": "imposed-colony",
   "metadata": {},
   "source": [
    "![list_init_signature2](list_init_signature2.png)"
   ]
  },
  {
   "cell_type": "markdown",
   "id": "adjacent-console",
   "metadata": {},
   "source": [
    "To allow for multiple positional input arguments we can use \\*args. We can iterate through this using a for loop."
   ]
  },
  {
   "cell_type": "code",
   "execution_count": 472,
   "id": "magnetic-closure",
   "metadata": {},
   "outputs": [],
   "source": [
    "def varying_args(*args):\n",
    "    for value in args:\n",
    "        print(value)"
   ]
  },
  {
   "cell_type": "code",
   "execution_count": 473,
   "id": "finite-airport",
   "metadata": {},
   "outputs": [
    {
     "name": "stdout",
     "output_type": "stream",
     "text": [
      "1\n"
     ]
    }
   ],
   "source": [
    "varying_args(1)"
   ]
  },
  {
   "cell_type": "code",
   "execution_count": 474,
   "id": "sublime-sociology",
   "metadata": {},
   "outputs": [
    {
     "name": "stdout",
     "output_type": "stream",
     "text": [
      "1\n",
      "2\n"
     ]
    }
   ],
   "source": [
    "varying_args(1,2)"
   ]
  },
  {
   "cell_type": "code",
   "execution_count": 475,
   "id": "valuable-fourth",
   "metadata": {},
   "outputs": [
    {
     "name": "stdout",
     "output_type": "stream",
     "text": [
      "1\n",
      "2\n",
      "3\n"
     ]
    }
   ],
   "source": [
    "varying_args(1,2,3)"
   ]
  },
  {
   "cell_type": "markdown",
   "id": "intended-signature",
   "metadata": {},
   "source": [
    "Alternatively to allow for multiple keyword input arguments we can use \\*\\*kwargs. Iterating through this is the same as iterating through a dictionary."
   ]
  },
  {
   "cell_type": "code",
   "execution_count": 476,
   "id": "worst-vermont",
   "metadata": {},
   "outputs": [],
   "source": [
    "def varying_kwargs(**kwargs):\n",
    "    for key,value in kwargs.items():\n",
    "        print(key,value)"
   ]
  },
  {
   "cell_type": "code",
   "execution_count": 477,
   "id": "after-harris",
   "metadata": {},
   "outputs": [
    {
     "name": "stdout",
     "output_type": "stream",
     "text": [
      "a 1\n",
      "b 2\n",
      "c 3\n"
     ]
    }
   ],
   "source": [
    "varying_kwargs(a=1,b=2,c=3)"
   ]
  },
  {
   "cell_type": "markdown",
   "id": "checked-contractor",
   "metadata": {},
   "source": [
    "We could for example make a sum function."
   ]
  },
  {
   "cell_type": "code",
   "execution_count": 478,
   "id": "raising-affair",
   "metadata": {},
   "outputs": [],
   "source": [
    "def sum_args(*args):\n",
    "    sum_val=0\n",
    "    for val in args:\n",
    "        sum_val=sum_val+val\n",
    "    return(sum_val)"
   ]
  },
  {
   "cell_type": "code",
   "execution_count": 479,
   "id": "reliable-semiconductor",
   "metadata": {},
   "outputs": [
    {
     "data": {
      "text/plain": [
       "1"
      ]
     },
     "execution_count": 479,
     "metadata": {},
     "output_type": "execute_result"
    }
   ],
   "source": [
    "sum_args(1)"
   ]
  },
  {
   "cell_type": "code",
   "execution_count": 480,
   "id": "demonstrated-bouquet",
   "metadata": {},
   "outputs": [
    {
     "data": {
      "text/plain": [
       "3"
      ]
     },
     "execution_count": 480,
     "metadata": {},
     "output_type": "execute_result"
    }
   ],
   "source": [
    "sum_args(1,2)"
   ]
  },
  {
   "cell_type": "code",
   "execution_count": 481,
   "id": "significant-safety",
   "metadata": {},
   "outputs": [
    {
     "data": {
      "text/plain": [
       "6"
      ]
     },
     "execution_count": 481,
     "metadata": {},
     "output_type": "execute_result"
    }
   ],
   "source": [
    "sum_args(1,2,3)"
   ]
  },
  {
   "cell_type": "markdown",
   "id": "dress-hanging",
   "metadata": {},
   "source": [
    "Because we haven't checked the types of input arguments we get the following error."
   ]
  },
  {
   "cell_type": "markdown",
   "id": "sweet-escape",
   "metadata": {},
   "source": [
    "```sum_args(1,'a')```"
   ]
  },
  {
   "cell_type": "markdown",
   "id": "national-study",
   "metadata": {},
   "source": [
    "![args_TypeError](args_TypeError.png)"
   ]
  },
  {
   "cell_type": "code",
   "execution_count": 482,
   "id": "canadian-physics",
   "metadata": {},
   "outputs": [],
   "source": [
    "def sum_args(*args):\n",
    "    sum_val=0\n",
    "    for val in args:\n",
    "        try:\n",
    "            assert (type(val)==int or type(val)==float)\n",
    "            sum_val=sum_val+val\n",
    "        except AssertionError:\n",
    "            sum_val='NaN'\n",
    "            print('all input arguments must be int or float')\n",
    "            return(sum_val)\n",
    "    return(sum_val)"
   ]
  },
  {
   "cell_type": "code",
   "execution_count": 483,
   "id": "fatty-therapy",
   "metadata": {},
   "outputs": [
    {
     "data": {
      "text/plain": [
       "1"
      ]
     },
     "execution_count": 483,
     "metadata": {},
     "output_type": "execute_result"
    }
   ],
   "source": [
    "sum_args(1)"
   ]
  },
  {
   "cell_type": "code",
   "execution_count": 484,
   "id": "creative-right",
   "metadata": {},
   "outputs": [
    {
     "data": {
      "text/plain": [
       "3"
      ]
     },
     "execution_count": 484,
     "metadata": {},
     "output_type": "execute_result"
    }
   ],
   "source": [
    "sum_args(1,2)"
   ]
  },
  {
   "cell_type": "code",
   "execution_count": 485,
   "id": "passive-botswana",
   "metadata": {},
   "outputs": [
    {
     "data": {
      "text/plain": [
       "6"
      ]
     },
     "execution_count": 485,
     "metadata": {},
     "output_type": "execute_result"
    }
   ],
   "source": [
    "sum_args(1,2,3)"
   ]
  },
  {
   "cell_type": "code",
   "execution_count": 486,
   "id": "material-detector",
   "metadata": {},
   "outputs": [
    {
     "name": "stdout",
     "output_type": "stream",
     "text": [
      "all input arguments must be int or float\n"
     ]
    },
    {
     "data": {
      "text/plain": [
       "'NaN'"
      ]
     },
     "execution_count": 486,
     "metadata": {},
     "output_type": "execute_result"
    }
   ],
   "source": [
    "sum_args(1,'a')"
   ]
  },
  {
   "cell_type": "markdown",
   "id": "competitive-cleanup",
   "metadata": {},
   "source": [
    "This behaviour is useful for the arange function (based upon the numpy arange function) but in this case creates a list opposed to a numpy array. We can count the number of input arguments being received and enact slightly different behaviour depending on the number of input arguments."
   ]
  },
  {
   "cell_type": "code",
   "execution_count": 487,
   "id": "intimate-modern",
   "metadata": {},
   "outputs": [],
   "source": [
    "def arange(*args):\n",
    "    '''\n",
    "    This function can take 1-3 input arguments.\n",
    "    1 input argument a. start=0, stop=a, step=1\n",
    "    2 input arguments a and b. start=a, stop=b, step=1\n",
    "    3 input arguments a, b and c. start=1, stop=b, step=c\n",
    "    '''\n",
    "    for val in args:\n",
    "        try:\n",
    "            assert (type(val)==int or type(val)==float)\n",
    "        except AssertionError:\n",
    "            data='NaN'\n",
    "            print('all input arguments must be int or float')\n",
    "            return(data)\n",
    "    if len(args)==0:\n",
    "        print('invalid number of user arguments')\n",
    "        data='NaN'\n",
    "        return(data)\n",
    "    elif len(args)==1:\n",
    "        start=0\n",
    "        stop=args[0]\n",
    "        step=1\n",
    "        data=[]\n",
    "        val=start\n",
    "        while val<stop:\n",
    "            data.append(val)\n",
    "            val+=1\n",
    "        return(data)\n",
    "    elif len(args)==2:\n",
    "        start=args[0]\n",
    "        stop=args[1]\n",
    "        step=1\n",
    "        data=[]\n",
    "        val=start\n",
    "        while val<stop:\n",
    "            data.append(val)\n",
    "            val+=1\n",
    "        return(data)\n",
    "    elif len(args)==3:\n",
    "        start=args[0]\n",
    "        stop=args[1]\n",
    "        step=args[2]\n",
    "        data=[]\n",
    "        val=start\n",
    "        if step>0:\n",
    "            while val<stop:\n",
    "                data.append(val)\n",
    "                val+=step\n",
    "            return(data)\n",
    "        else:\n",
    "            while val>stop:\n",
    "                data.append(val)\n",
    "                val+=step\n",
    "            return(data)\n",
    "    else:\n",
    "        print('invalid number of user arguments')\n",
    "        data='NaN'\n",
    "        return(data)"
   ]
  },
  {
   "cell_type": "markdown",
   "id": "checked-pottery",
   "metadata": {},
   "source": [
    "We can type in the function arange followed by shift ⇧ and tab ↹ to view details about the input arguments."
   ]
  },
  {
   "cell_type": "markdown",
   "id": "psychological-injury",
   "metadata": {},
   "source": [
    "![arange_custom_function](arange_custom_function.png)"
   ]
  },
  {
   "cell_type": "markdown",
   "id": "ready-expansion",
   "metadata": {},
   "source": [
    "Now we can try to call it using the following scenarios."
   ]
  },
  {
   "cell_type": "code",
   "execution_count": 488,
   "id": "important-examination",
   "metadata": {},
   "outputs": [
    {
     "name": "stdout",
     "output_type": "stream",
     "text": [
      "invalid number of user arguments\n"
     ]
    },
    {
     "data": {
      "text/plain": [
       "'NaN'"
      ]
     },
     "execution_count": 488,
     "metadata": {},
     "output_type": "execute_result"
    }
   ],
   "source": [
    "arange()"
   ]
  },
  {
   "cell_type": "code",
   "execution_count": 489,
   "id": "fantastic-simple",
   "metadata": {},
   "outputs": [
    {
     "data": {
      "text/plain": [
       "[0, 1, 2, 3, 4]"
      ]
     },
     "execution_count": 489,
     "metadata": {},
     "output_type": "execute_result"
    }
   ],
   "source": [
    "arange(5)"
   ]
  },
  {
   "cell_type": "code",
   "execution_count": 490,
   "id": "breathing-virginia",
   "metadata": {},
   "outputs": [
    {
     "data": {
      "text/plain": [
       "[1, 2, 3, 4]"
      ]
     },
     "execution_count": 490,
     "metadata": {},
     "output_type": "execute_result"
    }
   ],
   "source": [
    "arange(1,5)"
   ]
  },
  {
   "cell_type": "code",
   "execution_count": 491,
   "id": "awful-murder",
   "metadata": {},
   "outputs": [
    {
     "data": {
      "text/plain": [
       "[1, 1.5, 2.0, 2.5, 3.0, 3.5, 4.0, 4.5]"
      ]
     },
     "execution_count": 491,
     "metadata": {},
     "output_type": "execute_result"
    }
   ],
   "source": [
    "arange(1,5,0.5)"
   ]
  },
  {
   "cell_type": "code",
   "execution_count": 492,
   "id": "greenhouse-intellectual",
   "metadata": {},
   "outputs": [
    {
     "name": "stdout",
     "output_type": "stream",
     "text": [
      "invalid number of user arguments\n"
     ]
    },
    {
     "data": {
      "text/plain": [
       "'NaN'"
      ]
     },
     "execution_count": 492,
     "metadata": {},
     "output_type": "execute_result"
    }
   ],
   "source": [
    "arange(1,5,1,1)"
   ]
  },
  {
   "cell_type": "code",
   "execution_count": 493,
   "id": "devoted-bidder",
   "metadata": {},
   "outputs": [
    {
     "name": "stdout",
     "output_type": "stream",
     "text": [
      "all input arguments must be int or float\n"
     ]
    },
    {
     "data": {
      "text/plain": [
       "'NaN'"
      ]
     },
     "execution_count": 493,
     "metadata": {},
     "output_type": "execute_result"
    }
   ],
   "source": [
    "arange('a',5,0.5)"
   ]
  },
  {
   "cell_type": "code",
   "execution_count": 494,
   "id": "structured-store",
   "metadata": {},
   "outputs": [
    {
     "data": {
      "text/plain": [
       "[]"
      ]
     },
     "execution_count": 494,
     "metadata": {},
     "output_type": "execute_result"
    }
   ],
   "source": [
    "arange(1,5,-1)"
   ]
  },
  {
   "cell_type": "code",
   "execution_count": 495,
   "id": "north-edwards",
   "metadata": {},
   "outputs": [
    {
     "data": {
      "text/plain": [
       "[5, 4, 3, 2]"
      ]
     },
     "execution_count": 495,
     "metadata": {},
     "output_type": "execute_result"
    }
   ],
   "source": [
    "arange(5,1,-1)"
   ]
  },
  {
   "cell_type": "markdown",
   "id": "sorted-latex",
   "metadata": {},
   "source": [
    "We may also use \\*args or \\*\\*kwargs to unpack a tuple or list to a series of input arguments or a dict to a series of keyword input arguments."
   ]
  },
  {
   "cell_type": "code",
   "execution_count": 496,
   "id": "concrete-tower",
   "metadata": {},
   "outputs": [],
   "source": [
    "def fun(a,b,c):\n",
    "    return(a+b+c)"
   ]
  },
  {
   "cell_type": "code",
   "execution_count": 497,
   "id": "narrow-sunrise",
   "metadata": {},
   "outputs": [],
   "source": [
    "l1=[1,2,3]"
   ]
  },
  {
   "cell_type": "code",
   "execution_count": 498,
   "id": "surgical-handy",
   "metadata": {},
   "outputs": [
    {
     "data": {
      "text/plain": [
       "6"
      ]
     },
     "execution_count": 498,
     "metadata": {},
     "output_type": "execute_result"
    }
   ],
   "source": [
    "fun(*l1)"
   ]
  },
  {
   "cell_type": "code",
   "execution_count": 499,
   "id": "electoral-appreciation",
   "metadata": {},
   "outputs": [],
   "source": [
    "def fun(a=0,b=0,c=0):\n",
    "    return(a+b+c)"
   ]
  },
  {
   "cell_type": "code",
   "execution_count": 500,
   "id": "victorian-parking",
   "metadata": {},
   "outputs": [],
   "source": [
    "d1={'a':1,'b':2,'c':3}"
   ]
  },
  {
   "cell_type": "code",
   "execution_count": 501,
   "id": "polish-communist",
   "metadata": {},
   "outputs": [
    {
     "data": {
      "text/plain": [
       "6"
      ]
     },
     "execution_count": 501,
     "metadata": {},
     "output_type": "execute_result"
    }
   ],
   "source": [
    "fun(**d1)"
   ]
  }
 ],
 "metadata": {
  "kernelspec": {
   "display_name": "Python 3",
   "language": "python",
   "name": "python3"
  },
  "language_info": {
   "codemirror_mode": {
    "name": "ipython",
    "version": 3
   },
   "file_extension": ".py",
   "mimetype": "text/x-python",
   "name": "python",
   "nbconvert_exporter": "python",
   "pygments_lexer": "ipython3",
   "version": "3.8.5"
  }
 },
 "nbformat": 4,
 "nbformat_minor": 5
}
