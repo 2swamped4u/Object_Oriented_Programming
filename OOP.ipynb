{
 "cells": [
  {
   "cell_type": "markdown",
   "id": "c7ca92be-284d-4885-a4a4-f6d2373da93b",
   "metadata": {},
   "source": [
    "# Object Oriented Programming"
   ]
  },
  {
   "cell_type": "markdown",
   "id": "2da09e4e-5526-4ab0-8d98-d7a3630bf14b",
   "metadata": {},
   "source": [
    "## Numeric Variables"
   ]
  },
  {
   "cell_type": "markdown",
   "id": "a37816f0-f46d-4f88-968c-c062cdfc5785",
   "metadata": {},
   "source": [
    "### Integer Numbers (int)"
   ]
  },
  {
   "cell_type": "code",
   "execution_count": 3,
   "id": "b224d7ad-ef03-402c-b8ec-5a71164c45f1",
   "metadata": {},
   "outputs": [
    {
     "data": {
      "text/plain": [
       "1"
      ]
     },
     "execution_count": 3,
     "metadata": {},
     "output_type": "execute_result"
    }
   ],
   "source": [
    "1"
   ]
  },
  {
   "cell_type": "code",
   "execution_count": 4,
   "id": "733b9fdc-26de-4206-9a6f-90628dd527e5",
   "metadata": {},
   "outputs": [
    {
     "data": {
      "text/plain": [
       "2"
      ]
     },
     "execution_count": 4,
     "metadata": {},
     "output_type": "execute_result"
    }
   ],
   "source": [
    "1+1"
   ]
  },
  {
   "cell_type": "code",
   "execution_count": 5,
   "id": "2afd56ad-fc44-4946-9143-d03b422133cf",
   "metadata": {},
   "outputs": [
    {
     "data": {
      "text/plain": [
       "1"
      ]
     },
     "execution_count": 5,
     "metadata": {},
     "output_type": "execute_result"
    }
   ],
   "source": [
    "2-1"
   ]
  },
  {
   "cell_type": "code",
   "execution_count": 6,
   "id": "6845c89e-8717-4eb1-9ae2-45d6d21ca6d4",
   "metadata": {},
   "outputs": [
    {
     "data": {
      "text/plain": [
       "4"
      ]
     },
     "execution_count": 6,
     "metadata": {},
     "output_type": "execute_result"
    }
   ],
   "source": [
    "2*2"
   ]
  },
  {
   "cell_type": "code",
   "execution_count": 7,
   "id": "32bb1ac8-b061-4f12-a0a9-84a761b3076e",
   "metadata": {},
   "outputs": [
    {
     "data": {
      "text/plain": [
       "8"
      ]
     },
     "execution_count": 7,
     "metadata": {},
     "output_type": "execute_result"
    }
   ],
   "source": [
    "2**3"
   ]
  },
  {
   "cell_type": "code",
   "execution_count": 8,
   "id": "ea9c3135-67ec-49c2-8062-48a640b7646a",
   "metadata": {},
   "outputs": [
    {
     "data": {
      "text/plain": [
       "\u001b[0;31mInit signature:\u001b[0m  \u001b[0mtype\u001b[0m\u001b[0;34m(\u001b[0m\u001b[0mself\u001b[0m\u001b[0;34m,\u001b[0m \u001b[0;34m/\u001b[0m\u001b[0;34m,\u001b[0m \u001b[0;34m*\u001b[0m\u001b[0margs\u001b[0m\u001b[0;34m,\u001b[0m \u001b[0;34m**\u001b[0m\u001b[0mkwargs\u001b[0m\u001b[0;34m)\u001b[0m\u001b[0;34m\u001b[0m\u001b[0;34m\u001b[0m\u001b[0m\n",
       "\u001b[0;31mDocstring:\u001b[0m     \n",
       "type(object_or_name, bases, dict)\n",
       "type(object) -> the object's type\n",
       "type(name, bases, dict) -> a new type\n",
       "\u001b[0;31mType:\u001b[0m           type\n",
       "\u001b[0;31mSubclasses:\u001b[0m     ABCMeta, EnumMeta, _TemplateMetaclass, _ABC, MetaHasDescriptors, NamedTupleMeta, _TypedDictMeta, LexerMeta, StyleMeta, _NormalizerMeta, ...\n"
      ]
     },
     "metadata": {},
     "output_type": "display_data"
    }
   ],
   "source": [
    "? type"
   ]
  },
  {
   "cell_type": "code",
   "execution_count": 10,
   "id": "5406d481-e5bd-4304-b20d-1e4f93ae93d2",
   "metadata": {},
   "outputs": [
    {
     "data": {
      "text/plain": [
       "int"
      ]
     },
     "execution_count": 10,
     "metadata": {},
     "output_type": "execute_result"
    }
   ],
   "source": [
    "type(4)"
   ]
  },
  {
   "cell_type": "code",
   "execution_count": 11,
   "id": "07a3ddea-00a9-4a01-a638-2c4c18309808",
   "metadata": {},
   "outputs": [
    {
     "data": {
      "text/plain": [
       "2"
      ]
     },
     "execution_count": 11,
     "metadata": {},
     "output_type": "execute_result"
    }
   ],
   "source": [
    "4//2"
   ]
  },
  {
   "cell_type": "code",
   "execution_count": 12,
   "id": "5ffdeae8-4695-45b5-9019-f48ea05cd6d0",
   "metadata": {},
   "outputs": [
    {
     "data": {
      "text/plain": [
       "0"
      ]
     },
     "execution_count": 12,
     "metadata": {},
     "output_type": "execute_result"
    }
   ],
   "source": [
    "4%2"
   ]
  },
  {
   "cell_type": "code",
   "execution_count": 13,
   "id": "c1a294d1-11c3-4fb4-9e69-db08d6344fea",
   "metadata": {},
   "outputs": [
    {
     "data": {
      "text/plain": [
       "2"
      ]
     },
     "execution_count": 13,
     "metadata": {},
     "output_type": "execute_result"
    }
   ],
   "source": [
    "5//2"
   ]
  },
  {
   "cell_type": "code",
   "execution_count": 14,
   "id": "948c40cb-b6e0-4832-b2a3-a92313deabd8",
   "metadata": {},
   "outputs": [
    {
     "data": {
      "text/plain": [
       "1"
      ]
     },
     "execution_count": 14,
     "metadata": {},
     "output_type": "execute_result"
    }
   ],
   "source": [
    "5%2"
   ]
  },
  {
   "cell_type": "code",
   "execution_count": 15,
   "id": "3e6efe91-e78f-4113-9a95-1c441bbbaf65",
   "metadata": {},
   "outputs": [],
   "source": [
    "a=1"
   ]
  },
  {
   "cell_type": "code",
   "execution_count": 16,
   "id": "09f427ef-0ce9-4d48-a4e4-db96e7e9ea29",
   "metadata": {},
   "outputs": [
    {
     "name": "stdout",
     "output_type": "stream",
     "text": [
      "1\n"
     ]
    }
   ],
   "source": [
    "print(a)"
   ]
  },
  {
   "cell_type": "code",
   "execution_count": 17,
   "id": "a0d5bb90-b0d7-445b-954a-c2bf1aa30bc2",
   "metadata": {},
   "outputs": [
    {
     "data": {
      "text/plain": [
       "\u001b[0;31mDocstring:\u001b[0m\n",
       "print(value, ..., sep=' ', end='\\n', file=sys.stdout, flush=False)\n",
       "\n",
       "Prints the values to a stream, or to sys.stdout by default.\n",
       "Optional keyword arguments:\n",
       "file:  a file-like object (stream); defaults to the current sys.stdout.\n",
       "sep:   string inserted between values, default a space.\n",
       "end:   string appended after the last value, default a newline.\n",
       "flush: whether to forcibly flush the stream.\n",
       "\u001b[0;31mType:\u001b[0m      builtin_function_or_method\n"
      ]
     },
     "metadata": {},
     "output_type": "display_data"
    }
   ],
   "source": [
    "? print"
   ]
  },
  {
   "cell_type": "code",
   "execution_count": 18,
   "id": "f9b39663-ab43-4566-af24-29a2561cff81",
   "metadata": {},
   "outputs": [
    {
     "data": {
      "text/plain": [
       "2"
      ]
     },
     "execution_count": 18,
     "metadata": {},
     "output_type": "execute_result"
    }
   ],
   "source": [
    "a+1"
   ]
  },
  {
   "cell_type": "code",
   "execution_count": 22,
   "id": "617dc016-f86d-443c-9795-89c9d92f34b2",
   "metadata": {},
   "outputs": [],
   "source": [
    "b=2"
   ]
  },
  {
   "cell_type": "code",
   "execution_count": 23,
   "id": "b337517a-17ef-4f16-99ae-effb00903a50",
   "metadata": {},
   "outputs": [],
   "source": [
    "b=2+3"
   ]
  },
  {
   "cell_type": "code",
   "execution_count": 24,
   "id": "3b5179f6-5dc5-47de-953f-b3b60cac9b2f",
   "metadata": {},
   "outputs": [
    {
     "name": "stdout",
     "output_type": "stream",
     "text": [
      "5\n"
     ]
    }
   ],
   "source": [
    "print(b)"
   ]
  },
  {
   "cell_type": "code",
   "execution_count": 26,
   "id": "28ceaf2a-889b-4ad0-a91a-7596320c9650",
   "metadata": {},
   "outputs": [
    {
     "name": "stdout",
     "output_type": "stream",
     "text": [
      "11\n"
     ]
    }
   ],
   "source": [
    "b = 5+2*3\n",
    "print(b)"
   ]
  },
  {
   "cell_type": "code",
   "execution_count": 28,
   "id": "3e10f343-9b69-4ed2-a241-2465cfccc987",
   "metadata": {},
   "outputs": [
    {
     "name": "stdout",
     "output_type": "stream",
     "text": [
      "21\n"
     ]
    }
   ],
   "source": [
    "b=(5+2)*3\n",
    "print(b)"
   ]
  },
  {
   "cell_type": "code",
   "execution_count": 29,
   "id": "2a4f5e61-6d22-436b-8a82-e00f6f78eb22",
   "metadata": {},
   "outputs": [
    {
     "name": "stdout",
     "output_type": "stream",
     "text": [
      "1\n"
     ]
    }
   ],
   "source": [
    "print(a)"
   ]
  },
  {
   "cell_type": "code",
   "execution_count": 30,
   "id": "fdd3c955-b708-4fb7-b3fd-16a958055654",
   "metadata": {},
   "outputs": [
    {
     "data": {
      "text/plain": [
       "1"
      ]
     },
     "execution_count": 30,
     "metadata": {},
     "output_type": "execute_result"
    }
   ],
   "source": [
    "a"
   ]
  },
  {
   "cell_type": "code",
   "execution_count": 31,
   "id": "1224c5e3-4b9e-4c1d-a050-cbc8cb4da4f5",
   "metadata": {},
   "outputs": [],
   "source": [
    "a=3"
   ]
  },
  {
   "cell_type": "code",
   "execution_count": 32,
   "id": "09c9cda1-a7e4-4614-b874-42ab04ba6d9b",
   "metadata": {},
   "outputs": [
    {
     "name": "stdout",
     "output_type": "stream",
     "text": [
      "3\n"
     ]
    }
   ],
   "source": [
    "print(a)"
   ]
  },
  {
   "cell_type": "code",
   "execution_count": 41,
   "id": "c9fbc622-944d-437b-8f58-02f72f9444d6",
   "metadata": {},
   "outputs": [
    {
     "data": {
      "text/plain": [
       "13"
      ]
     },
     "execution_count": 41,
     "metadata": {},
     "output_type": "execute_result"
    }
   ],
   "source": [
    "a"
   ]
  },
  {
   "cell_type": "code",
   "execution_count": 42,
   "id": "5ec3e495-bf7a-4c5a-91c2-8fc3f3794f8f",
   "metadata": {},
   "outputs": [
    {
     "data": {
      "text/plain": [
       "int"
      ]
     },
     "execution_count": 42,
     "metadata": {},
     "output_type": "execute_result"
    }
   ],
   "source": [
    "type(a)"
   ]
  },
  {
   "cell_type": "code",
   "execution_count": 43,
   "id": "fa4e6715-fd6b-497e-9626-f38b1e47ab15",
   "metadata": {},
   "outputs": [
    {
     "data": {
      "text/plain": [
       "\u001b[0;31mInit signature:\u001b[0m  \u001b[0mint\u001b[0m\u001b[0;34m(\u001b[0m\u001b[0mself\u001b[0m\u001b[0;34m,\u001b[0m \u001b[0;34m/\u001b[0m\u001b[0;34m,\u001b[0m \u001b[0;34m*\u001b[0m\u001b[0margs\u001b[0m\u001b[0;34m,\u001b[0m \u001b[0;34m**\u001b[0m\u001b[0mkwargs\u001b[0m\u001b[0;34m)\u001b[0m\u001b[0;34m\u001b[0m\u001b[0;34m\u001b[0m\u001b[0m\n",
       "\u001b[0;31mDocstring:\u001b[0m     \n",
       "int([x]) -> integer\n",
       "int(x, base=10) -> integer\n",
       "\n",
       "Convert a number or string to an integer, or return 0 if no arguments\n",
       "are given.  If x is a number, return x.__int__().  For floating point\n",
       "numbers, this truncates towards zero.\n",
       "\n",
       "If x is not a number or if base is given, then x must be a string,\n",
       "bytes, or bytearray instance representing an integer literal in the\n",
       "given base.  The literal can be preceded by '+' or '-' and be surrounded\n",
       "by whitespace.  The base defaults to 10.  Valid bases are 0 and 2-36.\n",
       "Base 0 means to interpret the base from the string as an integer literal.\n",
       ">>> int('0b100', base=0)\n",
       "4\n",
       "\u001b[0;31mType:\u001b[0m           type\n",
       "\u001b[0;31mSubclasses:\u001b[0m     bool, IntEnum, IntFlag, _NamedIntConstant\n"
      ]
     },
     "metadata": {},
     "output_type": "display_data"
    }
   ],
   "source": [
    "? int"
   ]
  },
  {
   "cell_type": "code",
   "execution_count": 44,
   "id": "9ee7b481-42b7-401b-a43e-fd520822f3fa",
   "metadata": {},
   "outputs": [],
   "source": [
    "b=int(3)"
   ]
  },
  {
   "cell_type": "code",
   "execution_count": 45,
   "id": "e352c134-1adf-4363-9841-e0f7cc6a57bd",
   "metadata": {},
   "outputs": [
    {
     "data": {
      "text/plain": [
       "3"
      ]
     },
     "execution_count": 45,
     "metadata": {},
     "output_type": "execute_result"
    }
   ],
   "source": [
    "b"
   ]
  },
  {
   "cell_type": "code",
   "execution_count": 46,
   "id": "c13f191b-0731-455f-96ef-8fd6a582dac5",
   "metadata": {},
   "outputs": [
    {
     "data": {
      "text/plain": [
       "int"
      ]
     },
     "execution_count": 46,
     "metadata": {},
     "output_type": "execute_result"
    }
   ],
   "source": [
    "type(b)"
   ]
  },
  {
   "cell_type": "code",
   "execution_count": 47,
   "id": "c178336d-abd1-484a-9212-6ef32e999e2e",
   "metadata": {},
   "outputs": [
    {
     "data": {
      "text/plain": [
       "3"
      ]
     },
     "execution_count": 47,
     "metadata": {},
     "output_type": "execute_result"
    }
   ],
   "source": [
    "b.real"
   ]
  },
  {
   "cell_type": "code",
   "execution_count": 48,
   "id": "ad4801f4-6ec4-4a6b-81a7-5c2dd809ae94",
   "metadata": {},
   "outputs": [
    {
     "data": {
      "text/plain": [
       "0"
      ]
     },
     "execution_count": 48,
     "metadata": {},
     "output_type": "execute_result"
    }
   ],
   "source": [
    "b.imag"
   ]
  },
  {
   "cell_type": "code",
   "execution_count": 49,
   "id": "ee368bc9-6a2c-453a-ae0f-69692e0616e2",
   "metadata": {},
   "outputs": [
    {
     "data": {
      "text/plain": [
       "3"
      ]
     },
     "execution_count": 49,
     "metadata": {},
     "output_type": "execute_result"
    }
   ],
   "source": [
    "b.real.real"
   ]
  },
  {
   "cell_type": "code",
   "execution_count": 50,
   "id": "f75950c7-f29c-4a2c-bacd-39e64315ef84",
   "metadata": {},
   "outputs": [
    {
     "data": {
      "text/plain": [
       "3"
      ]
     },
     "execution_count": 50,
     "metadata": {},
     "output_type": "execute_result"
    }
   ],
   "source": [
    "b.real.real.real.real"
   ]
  },
  {
   "cell_type": "code",
   "execution_count": 51,
   "id": "74741400-1f65-457a-ab9c-f0992bab697d",
   "metadata": {},
   "outputs": [
    {
     "data": {
      "text/plain": [
       "<function int.conjugate>"
      ]
     },
     "execution_count": 51,
     "metadata": {},
     "output_type": "execute_result"
    }
   ],
   "source": [
    "b.conjugate"
   ]
  },
  {
   "cell_type": "code",
   "execution_count": 52,
   "id": "2eed3062-a5e6-4106-802e-dc353c4eb407",
   "metadata": {},
   "outputs": [
    {
     "data": {
      "text/plain": [
       "3"
      ]
     },
     "execution_count": 52,
     "metadata": {},
     "output_type": "execute_result"
    }
   ],
   "source": [
    "b.conjugate()"
   ]
  },
  {
   "cell_type": "code",
   "execution_count": 53,
   "id": "0eb954b6-1556-440c-b1b7-00f7d556f5f3",
   "metadata": {},
   "outputs": [],
   "source": [
    "del(b)"
   ]
  },
  {
   "cell_type": "code",
   "execution_count": 54,
   "id": "e28e4107-ef96-4dac-8dd6-7f43c6ac87fb",
   "metadata": {},
   "outputs": [
    {
     "ename": "NameError",
     "evalue": "name 'b' is not defined",
     "output_type": "error",
     "traceback": [
      "\u001b[0;31m---------------------------------------------------------------------------\u001b[0m",
      "\u001b[0;31mNameError\u001b[0m                                 Traceback (most recent call last)",
      "\u001b[0;32m<ipython-input-54-89e6c98d9288>\u001b[0m in \u001b[0;36m<module>\u001b[0;34m\u001b[0m\n\u001b[0;32m----> 1\u001b[0;31m \u001b[0mb\u001b[0m\u001b[0;34m\u001b[0m\u001b[0;34m\u001b[0m\u001b[0m\n\u001b[0m",
      "\u001b[0;31mNameError\u001b[0m: name 'b' is not defined"
     ]
    }
   ],
   "source": [
    "b"
   ]
  },
  {
   "cell_type": "markdown",
   "id": "9eef1679-6de4-4c83-babb-73d9dad63b7d",
   "metadata": {},
   "source": [
    "### Floating Point Numbers (float)"
   ]
  },
  {
   "cell_type": "code",
   "execution_count": 56,
   "id": "b629ab49-b20a-4d28-86e7-7ccc8e3c59bc",
   "metadata": {},
   "outputs": [],
   "source": [
    "c=2.1"
   ]
  },
  {
   "cell_type": "code",
   "execution_count": 57,
   "id": "736ded13-f864-49e8-a284-0fa3195e5a87",
   "metadata": {},
   "outputs": [
    {
     "data": {
      "text/plain": [
       "False"
      ]
     },
     "execution_count": 57,
     "metadata": {},
     "output_type": "execute_result"
    }
   ],
   "source": [
    "c.is_integer()"
   ]
  },
  {
   "cell_type": "code",
   "execution_count": 58,
   "id": "86a00adb-a812-4b7d-ada9-b7600e8f8e31",
   "metadata": {},
   "outputs": [
    {
     "data": {
      "text/plain": [
       "float"
      ]
     },
     "execution_count": 58,
     "metadata": {},
     "output_type": "execute_result"
    }
   ],
   "source": [
    "type(c)"
   ]
  },
  {
   "cell_type": "code",
   "execution_count": 59,
   "id": "5763c385-ce82-4282-9f8a-b3ea8d6fbb92",
   "metadata": {},
   "outputs": [],
   "source": [
    "d=float(2.0)"
   ]
  },
  {
   "cell_type": "code",
   "execution_count": 60,
   "id": "937e0cca-403d-45e1-b601-83eb0cd5fec0",
   "metadata": {},
   "outputs": [
    {
     "data": {
      "text/plain": [
       "2.5"
      ]
     },
     "execution_count": 60,
     "metadata": {},
     "output_type": "execute_result"
    }
   ],
   "source": [
    "5/2"
   ]
  },
  {
   "cell_type": "code",
   "execution_count": 61,
   "id": "f56d6a12-3fa3-4824-a667-fcf91d24423b",
   "metadata": {},
   "outputs": [],
   "source": [
    "e=4/2"
   ]
  },
  {
   "cell_type": "code",
   "execution_count": 62,
   "id": "52de8479-5489-4ae8-b5a2-d545820e2009",
   "metadata": {},
   "outputs": [
    {
     "data": {
      "text/plain": [
       "2.0"
      ]
     },
     "execution_count": 62,
     "metadata": {},
     "output_type": "execute_result"
    }
   ],
   "source": [
    "e"
   ]
  },
  {
   "cell_type": "code",
   "execution_count": 63,
   "id": "94de1506-eb17-433d-b1ce-fd9981716c3f",
   "metadata": {},
   "outputs": [
    {
     "data": {
      "text/plain": [
       "True"
      ]
     },
     "execution_count": 63,
     "metadata": {},
     "output_type": "execute_result"
    }
   ],
   "source": [
    "e.is_integer()"
   ]
  },
  {
   "cell_type": "code",
   "execution_count": 64,
   "id": "6de1060f-d429-4e47-925e-19bf6d8bb713",
   "metadata": {},
   "outputs": [
    {
     "data": {
      "text/plain": [
       "float"
      ]
     },
     "execution_count": 64,
     "metadata": {},
     "output_type": "execute_result"
    }
   ],
   "source": [
    "type(e)"
   ]
  },
  {
   "cell_type": "code",
   "execution_count": 65,
   "id": "38e7e89e-aff5-4f42-8eb4-91c1d8f8be7d",
   "metadata": {},
   "outputs": [],
   "source": [
    "e=int(e)"
   ]
  },
  {
   "cell_type": "code",
   "execution_count": 66,
   "id": "6164a92f-38cc-47ff-bf7a-6b13a4cc0825",
   "metadata": {},
   "outputs": [
    {
     "data": {
      "text/plain": [
       "int"
      ]
     },
     "execution_count": 66,
     "metadata": {},
     "output_type": "execute_result"
    }
   ],
   "source": [
    "type(e)"
   ]
  },
  {
   "cell_type": "code",
   "execution_count": 67,
   "id": "4d852684-1060-4d69-850d-cd89ed797681",
   "metadata": {},
   "outputs": [
    {
     "data": {
      "text/plain": [
       "2"
      ]
     },
     "execution_count": 67,
     "metadata": {},
     "output_type": "execute_result"
    }
   ],
   "source": [
    "e"
   ]
  },
  {
   "cell_type": "code",
   "execution_count": 68,
   "id": "f64f227c-4c09-4371-bf25-e2a080f63988",
   "metadata": {},
   "outputs": [
    {
     "data": {
      "text/plain": [
       "2.1"
      ]
     },
     "execution_count": 68,
     "metadata": {},
     "output_type": "execute_result"
    }
   ],
   "source": [
    "c"
   ]
  },
  {
   "cell_type": "code",
   "execution_count": 69,
   "id": "fa02c60e-e50c-4a86-a113-cce3b077cacf",
   "metadata": {},
   "outputs": [
    {
     "data": {
      "text/plain": [
       "2"
      ]
     },
     "execution_count": 69,
     "metadata": {},
     "output_type": "execute_result"
    }
   ],
   "source": [
    "int(c)"
   ]
  },
  {
   "cell_type": "markdown",
   "id": "db372700-d643-4ecd-9ebc-f613ab4d2d32",
   "metadata": {},
   "source": [
    "### Booleans (bool)"
   ]
  },
  {
   "cell_type": "code",
   "execution_count": 70,
   "id": "789e9005-5ba6-40a6-90ee-b5b438445b9d",
   "metadata": {},
   "outputs": [],
   "source": [
    "f=True"
   ]
  },
  {
   "cell_type": "code",
   "execution_count": 71,
   "id": "5a9525a7-ae64-4705-853c-2f97aaea6291",
   "metadata": {},
   "outputs": [
    {
     "data": {
      "text/plain": [
       "True"
      ]
     },
     "execution_count": 71,
     "metadata": {},
     "output_type": "execute_result"
    }
   ],
   "source": [
    "True==1"
   ]
  },
  {
   "cell_type": "code",
   "execution_count": 72,
   "id": "1157b970-1dc0-4301-9751-6ffe26710235",
   "metadata": {},
   "outputs": [
    {
     "data": {
      "text/plain": [
       "True"
      ]
     },
     "execution_count": 72,
     "metadata": {},
     "output_type": "execute_result"
    }
   ],
   "source": [
    "False==0"
   ]
  },
  {
   "cell_type": "code",
   "execution_count": 73,
   "id": "2854516f-8cb8-469f-9c39-e320349e120f",
   "metadata": {},
   "outputs": [],
   "source": [
    "g=1==2"
   ]
  },
  {
   "cell_type": "code",
   "execution_count": 74,
   "id": "63e33e65-148e-4efc-80d1-25fbf1d70ba6",
   "metadata": {},
   "outputs": [
    {
     "data": {
      "text/plain": [
       "False"
      ]
     },
     "execution_count": 74,
     "metadata": {},
     "output_type": "execute_result"
    }
   ],
   "source": [
    "g"
   ]
  },
  {
   "cell_type": "code",
   "execution_count": 75,
   "id": "a7c45868-d94e-4d9f-a959-f241abfa6ac9",
   "metadata": {},
   "outputs": [
    {
     "data": {
      "text/plain": [
       "1"
      ]
     },
     "execution_count": 75,
     "metadata": {},
     "output_type": "execute_result"
    }
   ],
   "source": [
    "True+False"
   ]
  },
  {
   "cell_type": "code",
   "execution_count": 76,
   "id": "e8a2c567-6fee-4532-af37-b4cb6167b60b",
   "metadata": {},
   "outputs": [
    {
     "data": {
      "text/plain": [
       "0"
      ]
     },
     "execution_count": 76,
     "metadata": {},
     "output_type": "execute_result"
    }
   ],
   "source": [
    "True*False"
   ]
  },
  {
   "cell_type": "code",
   "execution_count": 77,
   "id": "8796d7f8-e6c9-414c-ac61-c93150a6660e",
   "metadata": {},
   "outputs": [
    {
     "data": {
      "text/plain": [
       "1"
      ]
     },
     "execution_count": 77,
     "metadata": {},
     "output_type": "execute_result"
    }
   ],
   "source": [
    "True-False"
   ]
  },
  {
   "cell_type": "code",
   "execution_count": 78,
   "id": "093cbf95-737f-4744-a3d5-50bca4ffc191",
   "metadata": {},
   "outputs": [
    {
     "data": {
      "text/plain": [
       "True"
      ]
     },
     "execution_count": 78,
     "metadata": {},
     "output_type": "execute_result"
    }
   ],
   "source": [
    "2+1==3"
   ]
  },
  {
   "cell_type": "code",
   "execution_count": 79,
   "id": "129ed7de-4412-418a-891a-41b8d857f2f4",
   "metadata": {},
   "outputs": [
    {
     "data": {
      "text/plain": [
       "0.30000000000000004"
      ]
     },
     "execution_count": 79,
     "metadata": {},
     "output_type": "execute_result"
    }
   ],
   "source": [
    "0.2+0.1"
   ]
  },
  {
   "cell_type": "code",
   "execution_count": 80,
   "id": "fa6d677a-0fb5-4e99-8bf7-03ffacbd8368",
   "metadata": {},
   "outputs": [
    {
     "data": {
      "text/plain": [
       "False"
      ]
     },
     "execution_count": 80,
     "metadata": {},
     "output_type": "execute_result"
    }
   ],
   "source": [
    "0.2+0.1==0.3"
   ]
  },
  {
   "cell_type": "code",
   "execution_count": 81,
   "id": "df00c382-c1a6-483c-a9a6-946e4ca2d345",
   "metadata": {},
   "outputs": [
    {
     "data": {
      "text/plain": [
       "\u001b[0;31mSignature:\u001b[0m  \u001b[0mround\u001b[0m\u001b[0;34m(\u001b[0m\u001b[0mnumber\u001b[0m\u001b[0;34m,\u001b[0m \u001b[0mndigits\u001b[0m\u001b[0;34m=\u001b[0m\u001b[0;32mNone\u001b[0m\u001b[0;34m)\u001b[0m\u001b[0;34m\u001b[0m\u001b[0;34m\u001b[0m\u001b[0m\n",
       "\u001b[0;31mDocstring:\u001b[0m\n",
       "Round a number to a given precision in decimal digits.\n",
       "\n",
       "The return value is an integer if ndigits is omitted or None.  Otherwise\n",
       "the return value has the same type as the number.  ndigits may be negative.\n",
       "\u001b[0;31mType:\u001b[0m      builtin_function_or_method\n"
      ]
     },
     "metadata": {},
     "output_type": "display_data"
    }
   ],
   "source": [
    "? round"
   ]
  },
  {
   "cell_type": "code",
   "execution_count": 82,
   "id": "c1ad8911-db5d-41d4-b89e-476985aaca65",
   "metadata": {},
   "outputs": [
    {
     "data": {
      "text/plain": [
       "0"
      ]
     },
     "execution_count": 82,
     "metadata": {},
     "output_type": "execute_result"
    }
   ],
   "source": [
    "round(0.1+0.2)"
   ]
  },
  {
   "cell_type": "code",
   "execution_count": 83,
   "id": "30b130ce-bebb-4ec7-bf36-bcd80613faf1",
   "metadata": {},
   "outputs": [
    {
     "data": {
      "text/plain": [
       "0.3"
      ]
     },
     "execution_count": 83,
     "metadata": {},
     "output_type": "execute_result"
    }
   ],
   "source": [
    "round(0.1+0.2,ndigits=6)"
   ]
  },
  {
   "cell_type": "code",
   "execution_count": 84,
   "id": "9f551727-3095-45ab-a596-1a9957768635",
   "metadata": {},
   "outputs": [
    {
     "data": {
      "text/plain": [
       "True"
      ]
     },
     "execution_count": 84,
     "metadata": {},
     "output_type": "execute_result"
    }
   ],
   "source": [
    "round(0.1+0.2,ndigits=6)==0.3"
   ]
  },
  {
   "cell_type": "markdown",
   "id": "ea51cebe-01ec-402a-9662-627cff42c250",
   "metadata": {},
   "source": [
    "### Complex Numbers (complex)"
   ]
  },
  {
   "cell_type": "code",
   "execution_count": 85,
   "id": "e7330ff3-657f-4903-9e11-c69a3ea79819",
   "metadata": {},
   "outputs": [
    {
     "data": {
      "text/plain": [
       "2.0"
      ]
     },
     "execution_count": 85,
     "metadata": {},
     "output_type": "execute_result"
    }
   ],
   "source": [
    "(4)**0.5"
   ]
  },
  {
   "cell_type": "code",
   "execution_count": 86,
   "id": "15a94d1a-2356-4b30-bfa2-3a2f4fe32b48",
   "metadata": {},
   "outputs": [
    {
     "data": {
      "text/plain": [
       "(1.2246467991473532e-16+2j)"
      ]
     },
     "execution_count": 86,
     "metadata": {},
     "output_type": "execute_result"
    }
   ],
   "source": [
    "(-4)**0.5"
   ]
  },
  {
   "cell_type": "code",
   "execution_count": 87,
   "id": "dfe6c87e-1a60-4a6e-bd9b-1fa8099d0c25",
   "metadata": {},
   "outputs": [
    {
     "data": {
      "text/plain": [
       "100.0"
      ]
     },
     "execution_count": 87,
     "metadata": {},
     "output_type": "execute_result"
    }
   ],
   "source": [
    "1e2"
   ]
  },
  {
   "cell_type": "code",
   "execution_count": 88,
   "id": "27df3797-79dd-4946-8ec0-758dc483eea8",
   "metadata": {},
   "outputs": [
    {
     "data": {
      "text/plain": [
       "0.01"
      ]
     },
     "execution_count": 88,
     "metadata": {},
     "output_type": "execute_result"
    }
   ],
   "source": [
    "1e-2"
   ]
  },
  {
   "cell_type": "code",
   "execution_count": 89,
   "id": "bd212b94-5127-44b9-b23e-3f95c50b391d",
   "metadata": {},
   "outputs": [
    {
     "data": {
      "text/plain": [
       "\u001b[0;31mInit signature:\u001b[0m  \u001b[0mcomplex\u001b[0m\u001b[0;34m(\u001b[0m\u001b[0mreal\u001b[0m\u001b[0;34m=\u001b[0m\u001b[0;36m0\u001b[0m\u001b[0;34m,\u001b[0m \u001b[0mimag\u001b[0m\u001b[0;34m=\u001b[0m\u001b[0;36m0\u001b[0m\u001b[0;34m)\u001b[0m\u001b[0;34m\u001b[0m\u001b[0;34m\u001b[0m\u001b[0m\n",
       "\u001b[0;31mDocstring:\u001b[0m     \n",
       "Create a complex number from a real part and an optional imaginary part.\n",
       "\n",
       "This is equivalent to (real + imag*1j) where imag defaults to 0.\n",
       "\u001b[0;31mType:\u001b[0m           type\n",
       "\u001b[0;31mSubclasses:\u001b[0m     \n"
      ]
     },
     "metadata": {},
     "output_type": "display_data"
    }
   ],
   "source": [
    "? complex"
   ]
  },
  {
   "cell_type": "code",
   "execution_count": 90,
   "id": "8b0d8131-0ae3-4029-bf99-fde6d13a189f",
   "metadata": {},
   "outputs": [],
   "source": [
    "h=complex(real=1,imag=-2)"
   ]
  },
  {
   "cell_type": "code",
   "execution_count": 91,
   "id": "9ef3a966-ce4e-4c70-82bd-dbfdd255b1e3",
   "metadata": {},
   "outputs": [
    {
     "data": {
      "text/plain": [
       "(1-2j)"
      ]
     },
     "execution_count": 91,
     "metadata": {},
     "output_type": "execute_result"
    }
   ],
   "source": [
    "h"
   ]
  },
  {
   "cell_type": "code",
   "execution_count": 92,
   "id": "360e1b3b-12e5-4eb3-b0df-2e637d44027e",
   "metadata": {},
   "outputs": [
    {
     "data": {
      "text/plain": [
       "1.0"
      ]
     },
     "execution_count": 92,
     "metadata": {},
     "output_type": "execute_result"
    }
   ],
   "source": [
    "h.real"
   ]
  },
  {
   "cell_type": "code",
   "execution_count": 93,
   "id": "b61216b9-d8c8-4068-a270-e78ffb1c7434",
   "metadata": {},
   "outputs": [
    {
     "data": {
      "text/plain": [
       "-2.0"
      ]
     },
     "execution_count": 93,
     "metadata": {},
     "output_type": "execute_result"
    }
   ],
   "source": [
    "h.imag"
   ]
  },
  {
   "cell_type": "code",
   "execution_count": 94,
   "id": "a5c9ed05-227b-491e-8a68-9428e06c0c86",
   "metadata": {},
   "outputs": [
    {
     "data": {
      "text/plain": [
       "(1+2j)"
      ]
     },
     "execution_count": 94,
     "metadata": {},
     "output_type": "execute_result"
    }
   ],
   "source": [
    "h.conjugate()"
   ]
  },
  {
   "cell_type": "markdown",
   "id": "2d29dde0-f168-4a7c-aefa-0ee891a2ccb2",
   "metadata": {},
   "source": [
    "## Test Variables (str)"
   ]
  },
  {
   "cell_type": "markdown",
   "id": "3d02fd1d-9a24-4eef-a8f5-12fa831ac5da",
   "metadata": {},
   "source": [
    "A string of characters"
   ]
  },
  {
   "cell_type": "code",
   "execution_count": 97,
   "id": "7c20d1f7-d5b2-43c5-bb7c-d60c67a721a9",
   "metadata": {},
   "outputs": [],
   "source": [
    "i='i'"
   ]
  },
  {
   "cell_type": "code",
   "execution_count": 98,
   "id": "76b7f286-c34c-46a6-9ba9-caec02cfbf7b",
   "metadata": {},
   "outputs": [
    {
     "data": {
      "text/plain": [
       "'i'"
      ]
     },
     "execution_count": 98,
     "metadata": {},
     "output_type": "execute_result"
    }
   ],
   "source": [
    "i"
   ]
  },
  {
   "cell_type": "code",
   "execution_count": 99,
   "id": "3f404c19-a7ae-47fd-bf53-9e0242d1db9b",
   "metadata": {},
   "outputs": [
    {
     "data": {
      "text/plain": [
       "\"Philip's\""
      ]
     },
     "execution_count": 99,
     "metadata": {},
     "output_type": "execute_result"
    }
   ],
   "source": [
    "'Philip\\'s'"
   ]
  },
  {
   "cell_type": "code",
   "execution_count": 100,
   "id": "dc960bda-a53e-4941-b855-6043dfbf7673",
   "metadata": {},
   "outputs": [
    {
     "data": {
      "text/plain": [
       "\"Philip's\""
      ]
     },
     "execution_count": 100,
     "metadata": {},
     "output_type": "execute_result"
    }
   ],
   "source": [
    "\"Philip's\""
   ]
  },
  {
   "cell_type": "code",
   "execution_count": 102,
   "id": "de30ce25-e249-4f31-b82a-0a7399b5f7d1",
   "metadata": {},
   "outputs": [
    {
     "name": "stdout",
     "output_type": "stream",
     "text": [
      "Philip's\n"
     ]
    }
   ],
   "source": [
    "print('Philip\\'s')"
   ]
  },
  {
   "cell_type": "code",
   "execution_count": 103,
   "id": "2653589a-b6de-46bc-ac4d-04e78466bde6",
   "metadata": {},
   "outputs": [
    {
     "data": {
      "text/plain": [
       "'Philip\\'s \"Quote\"'"
      ]
     },
     "execution_count": 103,
     "metadata": {},
     "output_type": "execute_result"
    }
   ],
   "source": [
    "'Philip\\'s \\\"Quote\\\"'"
   ]
  },
  {
   "cell_type": "code",
   "execution_count": 104,
   "id": "8e901b25-3e52-4c86-bdff-aa0a3b5c2166",
   "metadata": {},
   "outputs": [
    {
     "name": "stdout",
     "output_type": "stream",
     "text": [
      "Philip's \"Quote\"\n"
     ]
    }
   ],
   "source": [
    "print('Philip\\'s \\\"Quote\\\"')"
   ]
  },
  {
   "cell_type": "code",
   "execution_count": 105,
   "id": "df43d8db-447c-4b81-a2e4-4bac1792d835",
   "metadata": {},
   "outputs": [
    {
     "data": {
      "text/plain": [
       "\u001b[0;31mDocstring:\u001b[0m\n",
       "print(value, ..., sep=' ', end='\\n', file=sys.stdout, flush=False)\n",
       "\n",
       "Prints the values to a stream, or to sys.stdout by default.\n",
       "Optional keyword arguments:\n",
       "file:  a file-like object (stream); defaults to the current sys.stdout.\n",
       "sep:   string inserted between values, default a space.\n",
       "end:   string appended after the last value, default a newline.\n",
       "flush: whether to forcibly flush the stream.\n",
       "\u001b[0;31mType:\u001b[0m      builtin_function_or_method\n"
      ]
     },
     "metadata": {},
     "output_type": "display_data"
    }
   ],
   "source": [
    "? print"
   ]
  },
  {
   "cell_type": "code",
   "execution_count": 106,
   "id": "394af667-e07e-4486-9c11-0cdc638f7c3f",
   "metadata": {},
   "outputs": [
    {
     "name": "stdout",
     "output_type": "stream",
     "text": [
      "\tPhilip's \n",
      "\"quote\"\n"
     ]
    }
   ],
   "source": [
    "print('\\tPhilip\\'s \\n\\\"quote\\\"')"
   ]
  },
  {
   "cell_type": "code",
   "execution_count": 107,
   "id": "c07e78c5-8e77-4535-9e45-c4ed99736d05",
   "metadata": {},
   "outputs": [
    {
     "data": {
      "text/plain": [
       "'C:\\\\Users'"
      ]
     },
     "execution_count": 107,
     "metadata": {},
     "output_type": "execute_result"
    }
   ],
   "source": [
    "'C:\\\\Users'"
   ]
  },
  {
   "cell_type": "code",
   "execution_count": 108,
   "id": "044bd178-7e14-4c25-ae04-ea060ecd08e1",
   "metadata": {},
   "outputs": [
    {
     "name": "stdout",
     "output_type": "stream",
     "text": [
      "C:\\Users\n"
     ]
    }
   ],
   "source": [
    "print('C:\\\\Users')"
   ]
  },
  {
   "cell_type": "code",
   "execution_count": 110,
   "id": "a5be2579-3843-47e4-bd0b-48d2441b9d2c",
   "metadata": {},
   "outputs": [
    {
     "data": {
      "text/plain": [
       "'C:\\\\Users'"
      ]
     },
     "execution_count": 110,
     "metadata": {},
     "output_type": "execute_result"
    }
   ],
   "source": [
    "r'C:\\Users'"
   ]
  },
  {
   "cell_type": "code",
   "execution_count": 111,
   "id": "6540055e-a764-440a-98c2-da5deaeb7be7",
   "metadata": {},
   "outputs": [],
   "source": [
    "user='Philip'"
   ]
  },
  {
   "cell_type": "code",
   "execution_count": 112,
   "id": "d588678c-cf0b-4222-ad18-eb80d9899438",
   "metadata": {},
   "outputs": [
    {
     "data": {
      "text/plain": [
       "'Philip'"
      ]
     },
     "execution_count": 112,
     "metadata": {},
     "output_type": "execute_result"
    }
   ],
   "source": [
    "user"
   ]
  },
  {
   "cell_type": "code",
   "execution_count": 113,
   "id": "16cb7161-c07f-45e8-a509-6352a6171303",
   "metadata": {},
   "outputs": [
    {
     "data": {
      "text/plain": [
       "'hello Philip'"
      ]
     },
     "execution_count": 113,
     "metadata": {},
     "output_type": "execute_result"
    }
   ],
   "source": [
    "f'hello {user}'"
   ]
  },
  {
   "cell_type": "code",
   "execution_count": 115,
   "id": "097228ec-b587-4828-8c53-0b9ee9374b6e",
   "metadata": {},
   "outputs": [],
   "source": [
    "j='philip'"
   ]
  },
  {
   "cell_type": "code",
   "execution_count": 116,
   "id": "0a4c4c28-ccd5-44b6-a543-5cb1e020e432",
   "metadata": {},
   "outputs": [
    {
     "data": {
      "text/plain": [
       "'philip'"
      ]
     },
     "execution_count": 116,
     "metadata": {},
     "output_type": "execute_result"
    }
   ],
   "source": [
    "j"
   ]
  },
  {
   "cell_type": "code",
   "execution_count": 117,
   "id": "ed85e232-fb35-4421-8800-523c9e684b6a",
   "metadata": {},
   "outputs": [
    {
     "data": {
      "text/plain": [
       "'Philip'"
      ]
     },
     "execution_count": 117,
     "metadata": {},
     "output_type": "execute_result"
    }
   ],
   "source": [
    "j.capitalize()"
   ]
  },
  {
   "cell_type": "code",
   "execution_count": 118,
   "id": "8438b58e-478f-4499-a13d-6f36709aceee",
   "metadata": {},
   "outputs": [
    {
     "data": {
      "text/plain": [
       "'philip'"
      ]
     },
     "execution_count": 118,
     "metadata": {},
     "output_type": "execute_result"
    }
   ],
   "source": [
    "j"
   ]
  },
  {
   "cell_type": "code",
   "execution_count": 119,
   "id": "7e02b6ed-9526-4ef7-b4ec-4c7835321fd2",
   "metadata": {},
   "outputs": [
    {
     "data": {
      "text/plain": [
       "'PHILIP'"
      ]
     },
     "execution_count": 119,
     "metadata": {},
     "output_type": "execute_result"
    }
   ],
   "source": [
    "j.upper()"
   ]
  },
  {
   "cell_type": "code",
   "execution_count": 120,
   "id": "59aa7057-746d-4fd5-82a7-d81b8b879193",
   "metadata": {},
   "outputs": [],
   "source": [
    "j=j.upper()"
   ]
  },
  {
   "cell_type": "code",
   "execution_count": 121,
   "id": "92b003cb-0fa7-4e7f-b059-98a703b93669",
   "metadata": {},
   "outputs": [
    {
     "data": {
      "text/plain": [
       "'PHILIP'"
      ]
     },
     "execution_count": 121,
     "metadata": {},
     "output_type": "execute_result"
    }
   ],
   "source": [
    "j"
   ]
  },
  {
   "cell_type": "code",
   "execution_count": 122,
   "id": "8543c29a-d5f2-4042-b5a6-ca0ff3c008a0",
   "metadata": {},
   "outputs": [],
   "source": [
    "j=j.lower()"
   ]
  },
  {
   "cell_type": "code",
   "execution_count": 123,
   "id": "b4e4636b-9c85-4c82-9447-ca2f14f03401",
   "metadata": {},
   "outputs": [
    {
     "data": {
      "text/plain": [
       "'philip'"
      ]
     },
     "execution_count": 123,
     "metadata": {},
     "output_type": "execute_result"
    }
   ],
   "source": [
    "j"
   ]
  },
  {
   "cell_type": "code",
   "execution_count": 124,
   "id": "a1841ea6-ae4a-4bc4-88af-0e47246f2a2e",
   "metadata": {},
   "outputs": [
    {
     "data": {
      "text/plain": [
       "<function str.replace(old, new, count=-1, /)>"
      ]
     },
     "execution_count": 124,
     "metadata": {},
     "output_type": "execute_result"
    }
   ],
   "source": [
    "j.replace"
   ]
  },
  {
   "cell_type": "code",
   "execution_count": 125,
   "id": "84110fc0-de29-4a9b-81f3-0378f18a5a3f",
   "metadata": {},
   "outputs": [
    {
     "data": {
      "text/plain": [
       "\u001b[0;31mSignature:\u001b[0m  \u001b[0mj\u001b[0m\u001b[0;34m.\u001b[0m\u001b[0mreplace\u001b[0m\u001b[0;34m(\u001b[0m\u001b[0mold\u001b[0m\u001b[0;34m,\u001b[0m \u001b[0mnew\u001b[0m\u001b[0;34m,\u001b[0m \u001b[0mcount\u001b[0m\u001b[0;34m=\u001b[0m\u001b[0;34m-\u001b[0m\u001b[0;36m1\u001b[0m\u001b[0;34m,\u001b[0m \u001b[0;34m/\u001b[0m\u001b[0;34m)\u001b[0m\u001b[0;34m\u001b[0m\u001b[0;34m\u001b[0m\u001b[0m\n",
       "\u001b[0;31mDocstring:\u001b[0m\n",
       "Return a copy with all occurrences of substring old replaced by new.\n",
       "\n",
       "  count\n",
       "    Maximum number of occurrences to replace.\n",
       "    -1 (the default value) means replace all occurrences.\n",
       "\n",
       "If the optional argument count is given, only the first count occurrences are\n",
       "replaced.\n",
       "\u001b[0;31mType:\u001b[0m      builtin_function_or_method\n"
      ]
     },
     "metadata": {},
     "output_type": "display_data"
    }
   ],
   "source": [
    "? j.replace"
   ]
  },
  {
   "cell_type": "code",
   "execution_count": 126,
   "id": "77c9d364-ea43-465c-984a-f1e3232d4ca2",
   "metadata": {},
   "outputs": [
    {
     "data": {
      "text/plain": [
       "'filip'"
      ]
     },
     "execution_count": 126,
     "metadata": {},
     "output_type": "execute_result"
    }
   ],
   "source": [
    "j.replace('ph','f')"
   ]
  },
  {
   "cell_type": "code",
   "execution_count": 127,
   "id": "37a4dc45-20b5-4012-bdfb-656a9ddb2636",
   "metadata": {},
   "outputs": [
    {
     "data": {
      "text/plain": [
       "'JavierSanchez'"
      ]
     },
     "execution_count": 127,
     "metadata": {},
     "output_type": "execute_result"
    }
   ],
   "source": [
    "'Javier'+'Sanchez'"
   ]
  },
  {
   "cell_type": "code",
   "execution_count": 128,
   "id": "ca624fb1-86cd-4619-bd70-961ea35bdc75",
   "metadata": {},
   "outputs": [
    {
     "data": {
      "text/plain": [
       "'Javier Sanchez'"
      ]
     },
     "execution_count": 128,
     "metadata": {},
     "output_type": "execute_result"
    }
   ],
   "source": [
    "'Javier'+' '+'Sanchez' "
   ]
  },
  {
   "cell_type": "code",
   "execution_count": 129,
   "id": "bbaa9e0f-2cbe-4592-8e31-b190c58649f1",
   "metadata": {},
   "outputs": [
    {
     "data": {
      "text/plain": [
       "'JavierJavierJavierJavierJavier'"
      ]
     },
     "execution_count": 129,
     "metadata": {},
     "output_type": "execute_result"
    }
   ],
   "source": [
    "5*'Javier'"
   ]
  },
  {
   "cell_type": "markdown",
   "id": "c8975537-64da-4a81-adf6-0cb62e5d2497",
   "metadata": {},
   "source": [
    "## The print function"
   ]
  },
  {
   "cell_type": "code",
   "execution_count": 130,
   "id": "60b7bc60-0ac5-41ea-a121-901f0f9739f8",
   "metadata": {},
   "outputs": [
    {
     "data": {
      "text/plain": [
       "\u001b[0;31mDocstring:\u001b[0m\n",
       "print(value, ..., sep=' ', end='\\n', file=sys.stdout, flush=False)\n",
       "\n",
       "Prints the values to a stream, or to sys.stdout by default.\n",
       "Optional keyword arguments:\n",
       "file:  a file-like object (stream); defaults to the current sys.stdout.\n",
       "sep:   string inserted between values, default a space.\n",
       "end:   string appended after the last value, default a newline.\n",
       "flush: whether to forcibly flush the stream.\n",
       "\u001b[0;31mType:\u001b[0m      builtin_function_or_method\n"
      ]
     },
     "metadata": {},
     "output_type": "display_data"
    }
   ],
   "source": [
    "? print"
   ]
  },
  {
   "cell_type": "code",
   "execution_count": 131,
   "id": "5a1e0513-56e6-4bcb-b55f-41dd5f5b9d8f",
   "metadata": {},
   "outputs": [
    {
     "name": "stdout",
     "output_type": "stream",
     "text": [
      "Javier Wilma Jesus\n"
     ]
    }
   ],
   "source": [
    "print('Javier', 'Wilma', 'Jesus')"
   ]
  },
  {
   "cell_type": "code",
   "execution_count": 132,
   "id": "d753cfca-54d8-4230-8892-60c4891d6efc",
   "metadata": {},
   "outputs": [
    {
     "name": "stdout",
     "output_type": "stream",
     "text": [
      "Javier-Wilma-Jesus\n"
     ]
    }
   ],
   "source": [
    "print('Javier', 'Wilma', 'Jesus', sep='-')"
   ]
  },
  {
   "cell_type": "code",
   "execution_count": 133,
   "id": "e100dec2-3519-4087-9ccd-30f639c55c78",
   "metadata": {},
   "outputs": [
    {
     "name": "stdout",
     "output_type": "stream",
     "text": [
      "Javier-Wilma-Jesus\n",
      "\tJavier Wilma Jesus\n"
     ]
    }
   ],
   "source": [
    "print('Javier', 'Wilma', 'Jesus', sep='-', end='\\n\\t')\n",
    "print('Javier', 'Wilma', 'Jesus')"
   ]
  },
  {
   "cell_type": "markdown",
   "id": "c6eeef64-98cb-4dda-972e-aea634fc8e65",
   "metadata": {},
   "source": [
    "## The input function"
   ]
  },
  {
   "cell_type": "code",
   "execution_count": 134,
   "id": "ad5937b5-9c45-4a07-9fc0-84badc0b2217",
   "metadata": {},
   "outputs": [
    {
     "data": {
      "text/plain": [
       "\u001b[0;31mSignature:\u001b[0m  \u001b[0minput\u001b[0m\u001b[0;34m(\u001b[0m\u001b[0mprompt\u001b[0m\u001b[0;34m=\u001b[0m\u001b[0;34m''\u001b[0m\u001b[0;34m)\u001b[0m\u001b[0;34m\u001b[0m\u001b[0;34m\u001b[0m\u001b[0m\n",
       "\u001b[0;31mDocstring:\u001b[0m\n",
       "Forward raw_input to frontends\n",
       "\n",
       "Raises\n",
       "------\n",
       "StdinNotImplentedError if active frontend doesn't support stdin.\n",
       "\u001b[0;31mFile:\u001b[0m      ~/anaconda3/lib/python3.8/site-packages/ipykernel/kernelbase.py\n",
       "\u001b[0;31mType:\u001b[0m      method\n"
      ]
     },
     "metadata": {},
     "output_type": "display_data"
    }
   ],
   "source": [
    "? input"
   ]
  },
  {
   "cell_type": "code",
   "execution_count": 139,
   "id": "7b7a7e10-2067-484e-ae50-200a10327928",
   "metadata": {},
   "outputs": [
    {
     "name": "stdin",
     "output_type": "stream",
     "text": [
      "What is your name? Javier Sanchez\n"
     ]
    },
    {
     "name": "stdout",
     "output_type": "stream",
     "text": [
      "hello Javier Sanchez\n"
     ]
    }
   ],
   "source": [
    "yourname=input(prompt='What is your name?')\n",
    "print(f'hello {yourname}')"
   ]
  },
  {
   "cell_type": "code",
   "execution_count": 144,
   "id": "00caf786-aa4d-4c3d-b4b3-7f20466a0ff6",
   "metadata": {},
   "outputs": [
    {
     "name": "stdin",
     "output_type": "stream",
     "text": [
      "input a number 2\n",
      "input a second number 2.1\n"
     ]
    },
    {
     "name": "stdout",
     "output_type": "stream",
     "text": [
      "the sum of your numbers is 4.1\n"
     ]
    }
   ],
   "source": [
    "number1=input(prompt='input a number')\n",
    "number2=input(prompt='input a second number')\n",
    "total=float(number1)+float(number2)\n",
    "print(f'the sum of your numbers is {total}')"
   ]
  },
  {
   "cell_type": "code",
   "execution_count": 140,
   "id": "e01e44f7-6862-4202-a9b4-116ea99ca486",
   "metadata": {},
   "outputs": [
    {
     "data": {
      "text/plain": [
       "'22'"
      ]
     },
     "execution_count": 140,
     "metadata": {},
     "output_type": "execute_result"
    }
   ],
   "source": [
    "'2'+'2'"
   ]
  },
  {
   "cell_type": "code",
   "execution_count": 141,
   "id": "7a5cb3b2-f5fd-46e3-a71d-5bdd770b9e6c",
   "metadata": {},
   "outputs": [],
   "source": [
    "k='2'"
   ]
  },
  {
   "cell_type": "code",
   "execution_count": 142,
   "id": "0b0a2b8c-19ba-4a68-9429-c7201b17fb4f",
   "metadata": {},
   "outputs": [
    {
     "data": {
      "text/plain": [
       "2"
      ]
     },
     "execution_count": 142,
     "metadata": {},
     "output_type": "execute_result"
    }
   ],
   "source": [
    "int(k)"
   ]
  },
  {
   "cell_type": "markdown",
   "id": "05e88799-0767-4548-9033-00658342d739",
   "metadata": {},
   "source": [
    "## if, elif and else branching"
   ]
  },
  {
   "cell_type": "code",
   "execution_count": 157,
   "id": "f823340e-0744-4cdd-989f-aa72d3cccd87",
   "metadata": {},
   "outputs": [
    {
     "name": "stdout",
     "output_type": "stream",
     "text": [
      "A condition is True\n",
      "Condition 1 is True\n",
      "Continuing as normal...\n"
     ]
    }
   ],
   "source": [
    "condition1=True\n",
    "condition2=True\n",
    "if condition1 | condition2:\n",
    "    print('A condition is True')\n",
    "    if condition1: \n",
    "        print('Condition 1 is True')\n",
    "    else:\n",
    "        print('Condition 2 is True')\n",
    "else:\n",
    "    print('Both condition are False')\n",
    "    \n",
    "print('Continuing as normal...')"
   ]
  },
  {
   "cell_type": "code",
   "execution_count": 160,
   "id": "f1a5245f-00b2-4492-b921-39f21f657a9c",
   "metadata": {},
   "outputs": [
    {
     "name": "stdout",
     "output_type": "stream",
     "text": [
      "4 is greater than or equal to 4\n"
     ]
    }
   ],
   "source": [
    "if 4>=4:\n",
    "    print('4 is greater than or equal to 4')"
   ]
  },
  {
   "cell_type": "markdown",
   "id": "2419bb93-8486-43a3-bc2a-3b4c68a4e3b8",
   "metadata": {},
   "source": [
    "## try and except branching"
   ]
  },
  {
   "cell_type": "code",
   "execution_count": 238,
   "id": "c03b935b-f84b-4736-a406-e7f9b2a8b357",
   "metadata": {},
   "outputs": [],
   "source": [
    "k=2.1"
   ]
  },
  {
   "cell_type": "code",
   "execution_count": 239,
   "id": "051dba83-52b8-4f82-b566-e04e9bd5b1d9",
   "metadata": {},
   "outputs": [],
   "source": [
    "try:\n",
    "    k=int(k)\n",
    "except ValueError:\n",
    "    try:\n",
    "        k=float(k)\n",
    "    except ValueError:\n",
    "        print('k is an invalid value.')\n",
    "except NameError:\n",
    "    print('k is not defined.')\n",
    "except:\n",
    "    print('some other error.')"
   ]
  },
  {
   "cell_type": "code",
   "execution_count": 240,
   "id": "0691975f-2f9a-47ce-9359-cad67320dd7d",
   "metadata": {},
   "outputs": [
    {
     "data": {
      "text/plain": [
       "2"
      ]
     },
     "execution_count": 240,
     "metadata": {},
     "output_type": "execute_result"
    }
   ],
   "source": [
    "k"
   ]
  },
  {
   "cell_type": "code",
   "execution_count": 241,
   "id": "e5ac4328-27b7-452e-b160-2bca36d62abc",
   "metadata": {},
   "outputs": [],
   "source": [
    "try:\n",
    "    if type(k)!=int:\n",
    "        raise TypeError('k is not an int.')\n",
    "except TypeError:\n",
    "    print('please make sure k is an int before running this code block.')"
   ]
  },
  {
   "cell_type": "markdown",
   "id": "7d2576be-1df9-4196-a9d7-76b9da274384",
   "metadata": {},
   "source": [
    "## custom functions"
   ]
  },
  {
   "cell_type": "code",
   "execution_count": 242,
   "id": "a61a5e62-ede6-4ff8-ac8a-2bfa6aadee2d",
   "metadata": {},
   "outputs": [
    {
     "data": {
      "text/plain": [
       "<function print>"
      ]
     },
     "execution_count": 242,
     "metadata": {},
     "output_type": "execute_result"
    }
   ],
   "source": [
    "print"
   ]
  },
  {
   "cell_type": "code",
   "execution_count": 243,
   "id": "517f0614-d449-4725-8720-f33dbbfa24e6",
   "metadata": {},
   "outputs": [
    {
     "data": {
      "text/plain": [
       "type"
      ]
     },
     "execution_count": 243,
     "metadata": {},
     "output_type": "execute_result"
    }
   ],
   "source": [
    "type"
   ]
  },
  {
   "cell_type": "code",
   "execution_count": 244,
   "id": "83523404-4efc-49c6-a97f-1c29a79fe276",
   "metadata": {},
   "outputs": [
    {
     "data": {
      "text/plain": [
       "<bound method Kernel.raw_input of <ipykernel.ipkernel.IPythonKernel object at 0x7f1e664d8d00>>"
      ]
     },
     "execution_count": 244,
     "metadata": {},
     "output_type": "execute_result"
    }
   ],
   "source": [
    "input"
   ]
  },
  {
   "cell_type": "code",
   "execution_count": 245,
   "id": "7d5496f7-8120-4994-84b9-4bdc955fe9d6",
   "metadata": {},
   "outputs": [
    {
     "data": {
      "text/plain": [
       "\u001b[0;31mDocstring:\u001b[0m\n",
       "print(value, ..., sep=' ', end='\\n', file=sys.stdout, flush=False)\n",
       "\n",
       "Prints the values to a stream, or to sys.stdout by default.\n",
       "Optional keyword arguments:\n",
       "file:  a file-like object (stream); defaults to the current sys.stdout.\n",
       "sep:   string inserted between values, default a space.\n",
       "end:   string appended after the last value, default a newline.\n",
       "flush: whether to forcibly flush the stream.\n",
       "\u001b[0;31mType:\u001b[0m      builtin_function_or_method\n"
      ]
     },
     "metadata": {},
     "output_type": "display_data"
    }
   ],
   "source": [
    "? print"
   ]
  },
  {
   "cell_type": "code",
   "execution_count": 246,
   "id": "03ca261a-14ef-49f9-87b7-72304bdc89dd",
   "metadata": {},
   "outputs": [
    {
     "name": "stdout",
     "output_type": "stream",
     "text": [
      "hello\n"
     ]
    }
   ],
   "source": [
    "print('hello')"
   ]
  },
  {
   "cell_type": "code",
   "execution_count": 247,
   "id": "14bb9570-a59b-4e85-b5e1-87aa6fb2c879",
   "metadata": {},
   "outputs": [
    {
     "name": "stdout",
     "output_type": "stream",
     "text": [
      "hello goodbye\n"
     ]
    }
   ],
   "source": [
    "print('hello','goodbye')"
   ]
  },
  {
   "cell_type": "code",
   "execution_count": 248,
   "id": "458f7855-8ab2-45d1-b423-3fd34784291a",
   "metadata": {},
   "outputs": [
    {
     "name": "stdout",
     "output_type": "stream",
     "text": [
      "hello---goodbye\n"
     ]
    }
   ],
   "source": [
    "print('hello','goodbye', sep='---')"
   ]
  },
  {
   "cell_type": "code",
   "execution_count": 249,
   "id": "465e2b97-77b8-46aa-a1b7-374c7ce1efa3",
   "metadata": {},
   "outputs": [
    {
     "name": "stdout",
     "output_type": "stream",
     "text": [
      "hello---goodbye\n",
      "hello---goodbyehello---goodbye\n"
     ]
    }
   ],
   "source": [
    "print('hello','goodbye', sep='---')\n",
    "print('hello','goodbye', sep='---', end='')\n",
    "print('hello','goodbye', sep='---')"
   ]
  },
  {
   "cell_type": "code",
   "execution_count": 254,
   "id": "4ae25ffc-b6ae-4ce2-b513-787d471804d8",
   "metadata": {},
   "outputs": [],
   "source": [
    "def print_three():\n",
    "    '''This will print the number 3'''\n",
    "    print(3)"
   ]
  },
  {
   "cell_type": "code",
   "execution_count": 255,
   "id": "4b5de752-fc17-49d9-8543-4252cb0da68c",
   "metadata": {},
   "outputs": [
    {
     "data": {
      "text/plain": [
       "<function __main__.print_three()>"
      ]
     },
     "execution_count": 255,
     "metadata": {},
     "output_type": "execute_result"
    }
   ],
   "source": [
    "print_three"
   ]
  },
  {
   "cell_type": "code",
   "execution_count": 256,
   "id": "8f34ae12-e216-41d0-8d45-03bc4fefa2e0",
   "metadata": {},
   "outputs": [
    {
     "name": "stdout",
     "output_type": "stream",
     "text": [
      "3\n"
     ]
    }
   ],
   "source": [
    "print_three()"
   ]
  },
  {
   "cell_type": "code",
   "execution_count": 257,
   "id": "5f9fc2ed-d00d-41fb-8e8c-4ed0eb339965",
   "metadata": {},
   "outputs": [
    {
     "data": {
      "text/plain": [
       "\u001b[0;31mSignature:\u001b[0m  \u001b[0mprint_three\u001b[0m\u001b[0;34m(\u001b[0m\u001b[0;34m)\u001b[0m\u001b[0;34m\u001b[0m\u001b[0;34m\u001b[0m\u001b[0m\n",
       "\u001b[0;31mDocstring:\u001b[0m This will print the number 3\n",
       "\u001b[0;31mFile:\u001b[0m      ~/Documents/Object Oriented Programming Youtube/<ipython-input-254-ec0e1836c352>\n",
       "\u001b[0;31mType:\u001b[0m      function\n"
      ]
     },
     "metadata": {},
     "output_type": "display_data"
    }
   ],
   "source": [
    "? print_three"
   ]
  },
  {
   "cell_type": "code",
   "execution_count": 298,
   "id": "567c8371-3c68-46aa-8cc1-94686a1b1ddf",
   "metadata": {},
   "outputs": [],
   "source": [
    "def inch2mm(input_inches=1):\n",
    "    '''converts the value of input_inches to output_mm'''\n",
    "    output_mm=25.4*input_inches\n",
    "    output_mm=round(output_mm, ndigits=3)\n",
    "    return(output_mm)"
   ]
  },
  {
   "cell_type": "code",
   "execution_count": 299,
   "id": "9534e1a6-e8f4-4695-a23f-079156d04f63",
   "metadata": {},
   "outputs": [
    {
     "data": {
      "text/plain": [
       "76.2"
      ]
     },
     "execution_count": 299,
     "metadata": {},
     "output_type": "execute_result"
    }
   ],
   "source": [
    "inch2mm(input_inches=3)"
   ]
  },
  {
   "cell_type": "code",
   "execution_count": 301,
   "id": "d0c250ec-9e9d-45bf-873d-0c4bb7463775",
   "metadata": {},
   "outputs": [
    {
     "data": {
      "text/plain": [
       "2"
      ]
     },
     "execution_count": 301,
     "metadata": {},
     "output_type": "execute_result"
    }
   ],
   "source": [
    "output_mm"
   ]
  },
  {
   "cell_type": "code",
   "execution_count": 284,
   "id": "7a989c96-508d-40ff-aea4-935c2ae5395e",
   "metadata": {},
   "outputs": [
    {
     "data": {
      "text/plain": [
       "<function __main__.inch2mm(input_inches=1)>"
      ]
     },
     "execution_count": 284,
     "metadata": {},
     "output_type": "execute_result"
    }
   ],
   "source": [
    "inch2mm"
   ]
  },
  {
   "cell_type": "code",
   "execution_count": 285,
   "id": "5351475e-aa2c-46e7-9bfd-cdba03fb4918",
   "metadata": {},
   "outputs": [
    {
     "data": {
      "text/plain": [
       "\u001b[0;31mSignature:\u001b[0m  \u001b[0minch2mm\u001b[0m\u001b[0;34m(\u001b[0m\u001b[0minput_inches\u001b[0m\u001b[0;34m=\u001b[0m\u001b[0;36m1\u001b[0m\u001b[0;34m)\u001b[0m\u001b[0;34m\u001b[0m\u001b[0;34m\u001b[0m\u001b[0m\n",
       "\u001b[0;31mDocstring:\u001b[0m converts the value of input_inches to output_mm\n",
       "\u001b[0;31mFile:\u001b[0m      ~/Documents/Object Oriented Programming Youtube/<ipython-input-283-a47f7ed61e9b>\n",
       "\u001b[0;31mType:\u001b[0m      function\n"
      ]
     },
     "metadata": {},
     "output_type": "display_data"
    }
   ],
   "source": [
    "? inch2mm"
   ]
  },
  {
   "cell_type": "code",
   "execution_count": 286,
   "id": "450d35da-8761-4ae2-9216-7bca01feb398",
   "metadata": {},
   "outputs": [
    {
     "data": {
      "text/plain": [
       "25.4"
      ]
     },
     "execution_count": 286,
     "metadata": {},
     "output_type": "execute_result"
    }
   ],
   "source": [
    "inch2mm()"
   ]
  },
  {
   "cell_type": "code",
   "execution_count": 287,
   "id": "234c92b6-f422-47c5-830a-cd62f29e94c8",
   "metadata": {},
   "outputs": [
    {
     "data": {
      "text/plain": [
       "76.2"
      ]
     },
     "execution_count": 287,
     "metadata": {},
     "output_type": "execute_result"
    }
   ],
   "source": [
    "inch2mm(input_inches=3)"
   ]
  },
  {
   "cell_type": "code",
   "execution_count": 288,
   "id": "eab87b5d-5748-4e4c-b20e-3179ec8c058f",
   "metadata": {},
   "outputs": [],
   "source": [
    "dim=inch2mm(2)"
   ]
  },
  {
   "cell_type": "code",
   "execution_count": 281,
   "id": "f53f2a4f-3de4-49c5-b884-2bfe146aeb8a",
   "metadata": {},
   "outputs": [
    {
     "data": {
      "text/plain": [
       "50.8"
      ]
     },
     "execution_count": 281,
     "metadata": {},
     "output_type": "execute_result"
    }
   ],
   "source": [
    "dim"
   ]
  },
  {
   "cell_type": "code",
   "execution_count": 282,
   "id": "1a61914c-f5c2-42a7-86fe-8672045d5b2e",
   "metadata": {},
   "outputs": [
    {
     "data": {
      "text/plain": [
       "float"
      ]
     },
     "execution_count": 282,
     "metadata": {},
     "output_type": "execute_result"
    }
   ],
   "source": [
    "type(dim)"
   ]
  },
  {
   "cell_type": "markdown",
   "id": "76964157-2836-45dd-a80b-a7e48dc34ccb",
   "metadata": {},
   "source": [
    "## lamba functions"
   ]
  },
  {
   "cell_type": "code",
   "execution_count": 302,
   "id": "9bc226c9-3521-4fe4-b992-3ac0cfc5919a",
   "metadata": {},
   "outputs": [],
   "source": [
    "inch2mm=lambda a: 25.4*a"
   ]
  },
  {
   "cell_type": "code",
   "execution_count": 303,
   "id": "c2b32539-796b-4ca1-852b-229d72e5978b",
   "metadata": {},
   "outputs": [
    {
     "data": {
      "text/plain": [
       "<function __main__.<lambda>(a)>"
      ]
     },
     "execution_count": 303,
     "metadata": {},
     "output_type": "execute_result"
    }
   ],
   "source": [
    "inch2mm"
   ]
  },
  {
   "cell_type": "code",
   "execution_count": 304,
   "id": "f5e0a0f7-da1d-4b1b-800c-6ed404e8f2e2",
   "metadata": {},
   "outputs": [],
   "source": [
    "dim3=inch2mm(4)"
   ]
  },
  {
   "cell_type": "code",
   "execution_count": 305,
   "id": "e4070ddd-f615-42e6-92d4-89ccd3b0283f",
   "metadata": {},
   "outputs": [
    {
     "data": {
      "text/plain": [
       "101.6"
      ]
     },
     "execution_count": 305,
     "metadata": {},
     "output_type": "execute_result"
    }
   ],
   "source": [
    "dim3"
   ]
  },
  {
   "cell_type": "code",
   "execution_count": 306,
   "id": "ac614d26-8a22-428e-b82d-13e0071d0cca",
   "metadata": {},
   "outputs": [],
   "source": [
    "print_three=lambda : print(3)"
   ]
  },
  {
   "cell_type": "code",
   "execution_count": 307,
   "id": "b26a6e56-0396-45f5-b96e-eb5d8d4fd7e7",
   "metadata": {},
   "outputs": [
    {
     "data": {
      "text/plain": [
       "<function __main__.<lambda>()>"
      ]
     },
     "execution_count": 307,
     "metadata": {},
     "output_type": "execute_result"
    }
   ],
   "source": [
    "print_three"
   ]
  },
  {
   "cell_type": "code",
   "execution_count": 308,
   "id": "2a6d1ddf-4821-4d79-ac9e-c17400355d24",
   "metadata": {},
   "outputs": [
    {
     "name": "stdout",
     "output_type": "stream",
     "text": [
      "3\n"
     ]
    }
   ],
   "source": [
    "print_three()"
   ]
  },
  {
   "cell_type": "code",
   "execution_count": 309,
   "id": "8ab5a742-88d8-48f0-ba56-5a449c63406c",
   "metadata": {},
   "outputs": [],
   "source": [
    "print_three=lambda a: print(3)"
   ]
  },
  {
   "cell_type": "code",
   "execution_count": 310,
   "id": "36f3a05f-90de-4ff6-9eaf-d7be3da2bd0f",
   "metadata": {},
   "outputs": [
    {
     "name": "stdout",
     "output_type": "stream",
     "text": [
      "3\n"
     ]
    }
   ],
   "source": [
    "print_three('anything')"
   ]
  },
  {
   "cell_type": "code",
   "execution_count": 311,
   "id": "447d318e-7c0e-4efe-9a1d-1363309240a9",
   "metadata": {},
   "outputs": [
    {
     "name": "stdout",
     "output_type": "stream",
     "text": [
      "3\n"
     ]
    }
   ],
   "source": [
    "print_three(2)"
   ]
  },
  {
   "cell_type": "code",
   "execution_count": 312,
   "id": "9eb4707e-3600-4480-b4eb-8e457df88ea1",
   "metadata": {},
   "outputs": [],
   "source": [
    "add_xy=lambda x,y: x+y"
   ]
  },
  {
   "cell_type": "code",
   "execution_count": 314,
   "id": "82e30371-7536-474a-911a-8534ff6372fa",
   "metadata": {},
   "outputs": [],
   "source": [
    "def add_xy(x,y):\n",
    "    return(x+y)"
   ]
  },
  {
   "cell_type": "code",
   "execution_count": 315,
   "id": "50d2a8dc-bac5-44d2-b165-b89b80840260",
   "metadata": {},
   "outputs": [
    {
     "data": {
      "text/plain": [
       "3"
      ]
     },
     "execution_count": 315,
     "metadata": {},
     "output_type": "execute_result"
    }
   ],
   "source": [
    "add_xy(1,2)"
   ]
  },
  {
   "cell_type": "markdown",
   "id": "8b07dafc-990b-4a10-83a2-84eb5bb09cb9",
   "metadata": {},
   "source": [
    "## range and looping "
   ]
  },
  {
   "cell_type": "code",
   "execution_count": 316,
   "id": "34b66246-a3bc-4d70-8683-36e2fd6b5d16",
   "metadata": {},
   "outputs": [
    {
     "data": {
      "text/plain": [
       "\u001b[0;31mInit signature:\u001b[0m  \u001b[0mrange\u001b[0m\u001b[0;34m(\u001b[0m\u001b[0mself\u001b[0m\u001b[0;34m,\u001b[0m \u001b[0;34m/\u001b[0m\u001b[0;34m,\u001b[0m \u001b[0;34m*\u001b[0m\u001b[0margs\u001b[0m\u001b[0;34m,\u001b[0m \u001b[0;34m**\u001b[0m\u001b[0mkwargs\u001b[0m\u001b[0;34m)\u001b[0m\u001b[0;34m\u001b[0m\u001b[0;34m\u001b[0m\u001b[0m\n",
       "\u001b[0;31mDocstring:\u001b[0m     \n",
       "range(stop) -> range object\n",
       "range(start, stop[, step]) -> range object\n",
       "\n",
       "Return an object that produces a sequence of integers from start (inclusive)\n",
       "to stop (exclusive) by step.  range(i, j) produces i, i+1, i+2, ..., j-1.\n",
       "start defaults to 0, and stop is omitted!  range(4) produces 0, 1, 2, 3.\n",
       "These are exactly the valid indices for a list of 4 elements.\n",
       "When step is given, it specifies the increment (or decrement).\n",
       "\u001b[0;31mType:\u001b[0m           type\n",
       "\u001b[0;31mSubclasses:\u001b[0m     \n"
      ]
     },
     "metadata": {},
     "output_type": "display_data"
    }
   ],
   "source": [
    "? range"
   ]
  },
  {
   "cell_type": "code",
   "execution_count": 330,
   "id": "fd3f360a-ddd9-4e91-a602-7ae382e28cf9",
   "metadata": {},
   "outputs": [],
   "source": [
    "r=range(1,10,2)"
   ]
  },
  {
   "cell_type": "code",
   "execution_count": 331,
   "id": "5c010c1a-1f12-4af9-83da-37a36ae311a0",
   "metadata": {},
   "outputs": [
    {
     "name": "stdout",
     "output_type": "stream",
     "text": [
      "1\n",
      "3\n",
      "5\n",
      "7\n",
      "9\n"
     ]
    }
   ],
   "source": [
    "for idx in r: \n",
    "    print(idx)"
   ]
  },
  {
   "cell_type": "code",
   "execution_count": 332,
   "id": "85e1d8e7-f864-43bc-b8c1-49780f28e5f4",
   "metadata": {},
   "outputs": [
    {
     "data": {
      "text/plain": [
       "1"
      ]
     },
     "execution_count": 332,
     "metadata": {},
     "output_type": "execute_result"
    }
   ],
   "source": [
    "r.start"
   ]
  },
  {
   "cell_type": "code",
   "execution_count": 333,
   "id": "b60415f0-6fd3-4aa2-92d7-5108cacea688",
   "metadata": {},
   "outputs": [
    {
     "data": {
      "text/plain": [
       "10"
      ]
     },
     "execution_count": 333,
     "metadata": {},
     "output_type": "execute_result"
    }
   ],
   "source": [
    "r.stop"
   ]
  },
  {
   "cell_type": "code",
   "execution_count": 334,
   "id": "d7b8424a-77b1-4f33-8297-de8c352e1c3e",
   "metadata": {},
   "outputs": [
    {
     "data": {
      "text/plain": [
       "2"
      ]
     },
     "execution_count": 334,
     "metadata": {},
     "output_type": "execute_result"
    }
   ],
   "source": [
    "r.step"
   ]
  },
  {
   "cell_type": "code",
   "execution_count": 335,
   "id": "2f6d7fba-6d83-4ce7-a37a-45f70c058713",
   "metadata": {},
   "outputs": [
    {
     "name": "stdout",
     "output_type": "stream",
     "text": [
      "9\n",
      "9\n",
      "9\n",
      "9\n",
      "9\n",
      "9\n",
      "9\n",
      "9\n",
      "9\n",
      "9\n"
     ]
    }
   ],
   "source": [
    "for idk in range(10):\n",
    "    print(idx)"
   ]
  },
  {
   "cell_type": "code",
   "execution_count": 336,
   "id": "e3efed97-be49-4d17-ad24-8ca629b403fe",
   "metadata": {},
   "outputs": [
    {
     "name": "stdout",
     "output_type": "stream",
     "text": [
      "9\n",
      "8\n",
      "7\n",
      "6\n",
      "5\n",
      "4\n",
      "3\n",
      "2\n",
      "1\n",
      "0\n"
     ]
    }
   ],
   "source": [
    "for idx in range(9,-1,-1):\n",
    "    print(idx)"
   ]
  },
  {
   "cell_type": "code",
   "execution_count": 337,
   "id": "596a99af-be0e-463e-a2a0-28cbee5ed5bd",
   "metadata": {},
   "outputs": [
    {
     "name": "stdout",
     "output_type": "stream",
     "text": [
      "hello\n",
      "hello\n",
      "hello\n",
      "hello\n",
      "hello\n",
      "hello\n",
      "hello\n",
      "hello\n",
      "hello\n",
      "hello\n"
     ]
    }
   ],
   "source": [
    "for idx in range(10):\n",
    "    print('hello')"
   ]
  },
  {
   "cell_type": "code",
   "execution_count": 338,
   "id": "968b9a54-d54f-4ee9-9cd2-0555a34e8384",
   "metadata": {},
   "outputs": [
    {
     "name": "stdout",
     "output_type": "stream",
     "text": [
      "h\n",
      "e\n",
      "l\n",
      "l\n",
      "o\n"
     ]
    }
   ],
   "source": [
    "for idx in 'hello':\n",
    "    print(idx)"
   ]
  },
  {
   "cell_type": "code",
   "execution_count": 340,
   "id": "2a105e71-8f14-498d-9e2e-9c268afec99d",
   "metadata": {},
   "outputs": [
    {
     "name": "stdout",
     "output_type": "stream",
     "text": [
      "\n",
      "e\n",
      "ll\n",
      "lll\n",
      "oooo\n"
     ]
    }
   ],
   "source": [
    "for idx, value in enumerate('hello'):\n",
    "    print(idx*value)"
   ]
  },
  {
   "cell_type": "code",
   "execution_count": 343,
   "id": "689be01a-d59c-4549-b866-60e3cc6f0e9e",
   "metadata": {},
   "outputs": [
    {
     "name": "stdout",
     "output_type": "stream",
     "text": [
      "0\n",
      "1\n",
      "2\n",
      "3\n",
      "4\n"
     ]
    }
   ],
   "source": [
    "counter=0\n",
    "while counter<5:\n",
    "    print(counter)\n",
    "    counter+=1"
   ]
  },
  {
   "cell_type": "code",
   "execution_count": 344,
   "id": "0956f5c4-5683-4cc4-b7ab-25369f4603e5",
   "metadata": {},
   "outputs": [
    {
     "data": {
      "text/plain": [
       "5"
      ]
     },
     "execution_count": 344,
     "metadata": {},
     "output_type": "execute_result"
    }
   ],
   "source": [
    "counter"
   ]
  },
  {
   "cell_type": "markdown",
   "id": "4b33a376-d61e-4286-b491-ad0a0b317130",
   "metadata": {},
   "source": [
    "## asserting function input arguments"
   ]
  },
  {
   "cell_type": "code",
   "execution_count": 346,
   "id": "83ee4a3d-6fcd-4742-ae75-f1776e636644",
   "metadata": {},
   "outputs": [],
   "source": [
    "condition=True\n",
    "assert condition, 'optional message'"
   ]
  },
  {
   "cell_type": "code",
   "execution_count": 352,
   "id": "26e2c400-b094-4e3e-b1bc-aae2c0416aad",
   "metadata": {},
   "outputs": [],
   "source": [
    "def fun(value=0):\n",
    "    try:\n",
    "        assert type(value)==int, 'value must be of the type int'\n",
    "        print(value)\n",
    "    except AssertionError:\n",
    "        print('Invalid datatype fpr value, value must be an int datatype')"
   ]
  },
  {
   "cell_type": "code",
   "execution_count": 353,
   "id": "d973f145-3dc5-4525-a70b-ff7df6b45fda",
   "metadata": {},
   "outputs": [
    {
     "name": "stdout",
     "output_type": "stream",
     "text": [
      "0\n"
     ]
    }
   ],
   "source": [
    "fun()"
   ]
  },
  {
   "cell_type": "code",
   "execution_count": 354,
   "id": "bf63de1f-56a9-4295-b55d-a38c1375370a",
   "metadata": {},
   "outputs": [
    {
     "name": "stdout",
     "output_type": "stream",
     "text": [
      "1\n"
     ]
    }
   ],
   "source": [
    "fun(1)"
   ]
  },
  {
   "cell_type": "code",
   "execution_count": 356,
   "id": "d5f4f13f-92db-4372-a77f-3dd7f10a22fa",
   "metadata": {},
   "outputs": [
    {
     "name": "stdout",
     "output_type": "stream",
     "text": [
      "Invalid datatype fpr value, value must be an int datatype\n"
     ]
    }
   ],
   "source": [
    "fun('a')"
   ]
  },
  {
   "cell_type": "markdown",
   "id": "8f5c47c1-7afa-481e-b4e9-4fb1bd4deb81",
   "metadata": {},
   "source": [
    "## custom classes"
   ]
  },
  {
   "cell_type": "code",
   "execution_count": 358,
   "id": "71261b70-d13c-4578-a4ae-567cb5e6adf8",
   "metadata": {},
   "outputs": [
    {
     "data": {
      "text/plain": [
       "True"
      ]
     },
     "execution_count": 358,
     "metadata": {},
     "output_type": "execute_result"
    }
   ],
   "source": [
    "issubclass(int,object)"
   ]
  },
  {
   "cell_type": "code",
   "execution_count": 359,
   "id": "86a107a9-bfd4-419c-87fe-8ed80a2f1b0a",
   "metadata": {},
   "outputs": [
    {
     "data": {
      "text/plain": [
       "True"
      ]
     },
     "execution_count": 359,
     "metadata": {},
     "output_type": "execute_result"
    }
   ],
   "source": [
    "issubclass(str,object)"
   ]
  },
  {
   "cell_type": "code",
   "execution_count": 360,
   "id": "bf72cc04-b83d-4a4b-8508-718e7dddc92d",
   "metadata": {},
   "outputs": [
    {
     "data": {
      "text/plain": [
       "True"
      ]
     },
     "execution_count": 360,
     "metadata": {},
     "output_type": "execute_result"
    }
   ],
   "source": [
    "issubclass(float,object)"
   ]
  },
  {
   "cell_type": "code",
   "execution_count": 361,
   "id": "3166781a-4cc5-4752-a15b-6c87ea24270c",
   "metadata": {},
   "outputs": [
    {
     "data": {
      "text/plain": [
       "True"
      ]
     },
     "execution_count": 361,
     "metadata": {},
     "output_type": "execute_result"
    }
   ],
   "source": [
    "issubclass(bool,object)"
   ]
  },
  {
   "cell_type": "code",
   "execution_count": 363,
   "id": "6325a2ec-ea1d-4d6b-849a-6666d92cfbe8",
   "metadata": {},
   "outputs": [
    {
     "data": {
      "text/plain": [
       "False"
      ]
     },
     "execution_count": 363,
     "metadata": {},
     "output_type": "execute_result"
    }
   ],
   "source": [
    "issubclass(str,int)"
   ]
  },
  {
   "cell_type": "code",
   "execution_count": 364,
   "id": "b248b035-3bb7-4b99-9100-095e56fef99b",
   "metadata": {},
   "outputs": [
    {
     "data": {
      "text/plain": [
       "False"
      ]
     },
     "execution_count": 364,
     "metadata": {},
     "output_type": "execute_result"
    }
   ],
   "source": [
    "issubclass(float,int)"
   ]
  },
  {
   "cell_type": "code",
   "execution_count": 365,
   "id": "2821a437-72bc-4ae7-89da-405d60ac6e2a",
   "metadata": {},
   "outputs": [
    {
     "data": {
      "text/plain": [
       "True"
      ]
     },
     "execution_count": 365,
     "metadata": {},
     "output_type": "execute_result"
    }
   ],
   "source": [
    "issubclass(bool,int)"
   ]
  },
  {
   "cell_type": "markdown",
   "id": "e80bc432-8210-4b02-98ae-2fd85ef15aa7",
   "metadata": {},
   "source": [
    "## creating class"
   ]
  },
  {
   "cell_type": "code",
   "execution_count": 366,
   "id": "c414629e-6602-4f51-8686-4489acfd9220",
   "metadata": {},
   "outputs": [],
   "source": [
    "class ScalarClass(object):\n",
    "    pass"
   ]
  },
  {
   "cell_type": "code",
   "execution_count": 367,
   "id": "c5b4e68c-6d1f-4497-9c53-966c3dea0756",
   "metadata": {},
   "outputs": [],
   "source": [
    "class ScalarClass():\n",
    "    pass"
   ]
  },
  {
   "cell_type": "code",
   "execution_count": 368,
   "id": "c3c293bc-c5f6-4f3c-bfe3-9a93a648a1e7",
   "metadata": {},
   "outputs": [
    {
     "data": {
      "text/plain": [
       "int"
      ]
     },
     "execution_count": 368,
     "metadata": {},
     "output_type": "execute_result"
    }
   ],
   "source": [
    "int"
   ]
  },
  {
   "cell_type": "code",
   "execution_count": 369,
   "id": "692fe109-0a61-4f41-aeae-18c52cfcc81b",
   "metadata": {},
   "outputs": [
    {
     "data": {
      "text/plain": [
       "__main__.ScalarClass"
      ]
     },
     "execution_count": 369,
     "metadata": {},
     "output_type": "execute_result"
    }
   ],
   "source": [
    "ScalarClass"
   ]
  },
  {
   "cell_type": "code",
   "execution_count": 370,
   "id": "9d2fa0b8-4b7f-4750-9c38-fe064e97fb98",
   "metadata": {},
   "outputs": [
    {
     "data": {
      "text/plain": [
       "\u001b[0;31mInit signature:\u001b[0m  \u001b[0mint\u001b[0m\u001b[0;34m(\u001b[0m\u001b[0mself\u001b[0m\u001b[0;34m,\u001b[0m \u001b[0;34m/\u001b[0m\u001b[0;34m,\u001b[0m \u001b[0;34m*\u001b[0m\u001b[0margs\u001b[0m\u001b[0;34m,\u001b[0m \u001b[0;34m**\u001b[0m\u001b[0mkwargs\u001b[0m\u001b[0;34m)\u001b[0m\u001b[0;34m\u001b[0m\u001b[0;34m\u001b[0m\u001b[0m\n",
       "\u001b[0;31mDocstring:\u001b[0m     \n",
       "int([x]) -> integer\n",
       "int(x, base=10) -> integer\n",
       "\n",
       "Convert a number or string to an integer, or return 0 if no arguments\n",
       "are given.  If x is a number, return x.__int__().  For floating point\n",
       "numbers, this truncates towards zero.\n",
       "\n",
       "If x is not a number or if base is given, then x must be a string,\n",
       "bytes, or bytearray instance representing an integer literal in the\n",
       "given base.  The literal can be preceded by '+' or '-' and be surrounded\n",
       "by whitespace.  The base defaults to 10.  Valid bases are 0 and 2-36.\n",
       "Base 0 means to interpret the base from the string as an integer literal.\n",
       ">>> int('0b100', base=0)\n",
       "4\n",
       "\u001b[0;31mType:\u001b[0m           type\n",
       "\u001b[0;31mSubclasses:\u001b[0m     bool, IntEnum, IntFlag, _NamedIntConstant\n"
      ]
     },
     "metadata": {},
     "output_type": "display_data"
    }
   ],
   "source": [
    "? int"
   ]
  },
  {
   "cell_type": "code",
   "execution_count": 371,
   "id": "56f5329c-6df4-4a4b-ac41-e5930a14c793",
   "metadata": {},
   "outputs": [
    {
     "data": {
      "text/plain": [
       "\u001b[0;31mInit signature:\u001b[0m  \u001b[0mScalarClass\u001b[0m\u001b[0;34m(\u001b[0m\u001b[0;34m)\u001b[0m\u001b[0;34m\u001b[0m\u001b[0;34m\u001b[0m\u001b[0m\n",
       "\u001b[0;31mDocstring:\u001b[0m      <no docstring>\n",
       "\u001b[0;31mType:\u001b[0m           type\n",
       "\u001b[0;31mSubclasses:\u001b[0m     \n"
      ]
     },
     "metadata": {},
     "output_type": "display_data"
    }
   ],
   "source": [
    "? ScalarClass"
   ]
  },
  {
   "cell_type": "markdown",
   "id": "5590a7ac-d1a2-44da-abe0-b2d638081f79",
   "metadata": {},
   "source": [
    "## inheritance"
   ]
  },
  {
   "cell_type": "code",
   "execution_count": 59,
   "id": "61769256-f133-44d6-884e-7ab5bdd89268",
   "metadata": {},
   "outputs": [],
   "source": [
    "class ScalarClass(int):\n",
    "    '''Inherited from int superclass.\n",
    "    Convert a number or string to an integer, or return 0 if no input argument is given.\n",
    "    For floating point numbers this truncates towards 0.'''\n",
    "    pass"
   ]
  },
  {
   "cell_type": "code",
   "execution_count": 60,
   "id": "67176f42-b871-4637-8007-5db084fafb9e",
   "metadata": {},
   "outputs": [
    {
     "data": {
      "text/plain": [
       "\u001b[0;31mInit signature:\u001b[0m  \u001b[0mScalarClass\u001b[0m\u001b[0;34m(\u001b[0m\u001b[0mself\u001b[0m\u001b[0;34m,\u001b[0m \u001b[0;34m/\u001b[0m\u001b[0;34m,\u001b[0m \u001b[0;34m*\u001b[0m\u001b[0margs\u001b[0m\u001b[0;34m,\u001b[0m \u001b[0;34m**\u001b[0m\u001b[0mkwargs\u001b[0m\u001b[0;34m)\u001b[0m\u001b[0;34m\u001b[0m\u001b[0;34m\u001b[0m\u001b[0m\n",
       "\u001b[0;31mDocstring:\u001b[0m     \n",
       "Inherited from int superclass.\n",
       "Convert a number or string to an integer, or return 0 if no input argument is given.\n",
       "For floating point numbers this truncates towards 0.\n",
       "\u001b[0;31mType:\u001b[0m           type\n",
       "\u001b[0;31mSubclasses:\u001b[0m     \n"
      ]
     },
     "metadata": {},
     "output_type": "display_data"
    }
   ],
   "source": [
    "? ScalarClass"
   ]
  },
  {
   "cell_type": "code",
   "execution_count": 61,
   "id": "d5137d6d-e520-411c-90c6-b702b8208b4d",
   "metadata": {},
   "outputs": [],
   "source": [
    "l=ScalarClass(5)"
   ]
  },
  {
   "cell_type": "markdown",
   "id": "ee18cee2-686f-4250-9989-5a010a13ce4c",
   "metadata": {},
   "source": [
    "## class functions (methods)"
   ]
  },
  {
   "cell_type": "code",
   "execution_count": 130,
   "id": "60c7800b-86f2-4870-b5d2-0a3a806b732a",
   "metadata": {},
   "outputs": [],
   "source": [
    "class ScalarClass(int):\n",
    "    '''Inherited from int superclass.\n",
    "    Convert a number or string to an integer, or return 0 if no input argument is given.\n",
    "    For floating point numbers this truncates towards 0.'''\n",
    "    _greeting='hello'\n",
    "    def __add__(self,other):\n",
    "        x=str(self)+str(other)\n",
    "        x=int(x)\n",
    "        return(x)\n",
    "    def printhello(self):\n",
    "        print('hello')\n",
    "    @staticmethod\n",
    "    def statichello():\n",
    "        '''This is a static method that prints hello.'''\n",
    "        print('hello')\n",
    "    def set_inverse(self):\n",
    "        '''Sets the inverse of self.'''\n",
    "        try:\n",
    "            self._inverse=1/self\n",
    "        except ZeroDivisionError:\n",
    "            self._inverse='inf'\n",
    "    def get_inverse(self):\n",
    "        '''Gets the inverse attribute of self. If the attribute is set.'''\n",
    "        try:\n",
    "            return(self._inverse)\n",
    "        except AttributeError:\n",
    "            print('inverse is not yet assigned, use set_inverse first.')"
   ]
  },
  {
   "cell_type": "code",
   "execution_count": 110,
   "id": "fd9e0fec-dd24-45d9-b65c-273e0fa17b1b",
   "metadata": {},
   "outputs": [
    {
     "name": "stdout",
     "output_type": "stream",
     "text": [
      "hello\n"
     ]
    }
   ],
   "source": [
    "ScalarClass.printhello(l)"
   ]
  },
  {
   "cell_type": "code",
   "execution_count": 111,
   "id": "e7edc87b-9d48-4647-8d2c-ea1e4c86fef1",
   "metadata": {},
   "outputs": [
    {
     "name": "stdout",
     "output_type": "stream",
     "text": [
      "hello\n"
     ]
    }
   ],
   "source": [
    "ScalarClass.statichello()"
   ]
  },
  {
   "cell_type": "code",
   "execution_count": 131,
   "id": "f405022a-b921-43d1-abbc-0585ccad70cd",
   "metadata": {},
   "outputs": [],
   "source": [
    "l=ScalarClass(5)"
   ]
  },
  {
   "cell_type": "code",
   "execution_count": 132,
   "id": "13efc7b3-5e7a-46d1-9ab2-6b71352648bc",
   "metadata": {},
   "outputs": [],
   "source": [
    "l.set_inverse()"
   ]
  },
  {
   "cell_type": "code",
   "execution_count": 133,
   "id": "3080137e-7435-40fa-9283-1bb03aac677a",
   "metadata": {},
   "outputs": [
    {
     "data": {
      "text/plain": [
       "0.2"
      ]
     },
     "execution_count": 133,
     "metadata": {},
     "output_type": "execute_result"
    }
   ],
   "source": [
    "l.get_inverse()"
   ]
  },
  {
   "cell_type": "code",
   "execution_count": 134,
   "id": "0cd4f002-62e8-47ef-9474-44545b358323",
   "metadata": {},
   "outputs": [],
   "source": [
    "m=ScalarClass(0)"
   ]
  },
  {
   "cell_type": "code",
   "execution_count": 135,
   "id": "0233b1ca-8314-4d66-af1b-813e69390ff6",
   "metadata": {},
   "outputs": [],
   "source": [
    "m.set_inverse()"
   ]
  },
  {
   "cell_type": "code",
   "execution_count": 136,
   "id": "f03bce34-1f22-4a54-a17f-5cbfcad1f7a2",
   "metadata": {},
   "outputs": [
    {
     "data": {
      "text/plain": [
       "'inf'"
      ]
     },
     "execution_count": 136,
     "metadata": {},
     "output_type": "execute_result"
    }
   ],
   "source": [
    "m.get_inverse()"
   ]
  },
  {
   "cell_type": "markdown",
   "id": "1d0e3275-272a-496a-9461-6464478e93a0",
   "metadata": {},
   "source": [
    "### \\_\\_dunder\\_\\_methods"
   ]
  },
  {
   "cell_type": "code",
   "execution_count": 137,
   "id": "be55c216-de4e-46be-9ffb-374a6c131528",
   "metadata": {
    "scrolled": true,
    "tags": []
   },
   "outputs": [
    {
     "data": {
      "text/plain": [
       "['__abs__',\n",
       " '__add__',\n",
       " '__and__',\n",
       " '__bool__',\n",
       " '__ceil__',\n",
       " '__class__',\n",
       " '__delattr__',\n",
       " '__dict__',\n",
       " '__dir__',\n",
       " '__divmod__',\n",
       " '__doc__',\n",
       " '__eq__',\n",
       " '__float__',\n",
       " '__floor__',\n",
       " '__floordiv__',\n",
       " '__format__',\n",
       " '__ge__',\n",
       " '__getattribute__',\n",
       " '__getnewargs__',\n",
       " '__gt__',\n",
       " '__hash__',\n",
       " '__index__',\n",
       " '__init__',\n",
       " '__init_subclass__',\n",
       " '__int__',\n",
       " '__invert__',\n",
       " '__le__',\n",
       " '__lshift__',\n",
       " '__lt__',\n",
       " '__mod__',\n",
       " '__module__',\n",
       " '__mul__',\n",
       " '__ne__',\n",
       " '__neg__',\n",
       " '__new__',\n",
       " '__or__',\n",
       " '__pos__',\n",
       " '__pow__',\n",
       " '__radd__',\n",
       " '__rand__',\n",
       " '__rdivmod__',\n",
       " '__reduce__',\n",
       " '__reduce_ex__',\n",
       " '__repr__',\n",
       " '__rfloordiv__',\n",
       " '__rlshift__',\n",
       " '__rmod__',\n",
       " '__rmul__',\n",
       " '__ror__',\n",
       " '__round__',\n",
       " '__rpow__',\n",
       " '__rrshift__',\n",
       " '__rshift__',\n",
       " '__rsub__',\n",
       " '__rtruediv__',\n",
       " '__rxor__',\n",
       " '__setattr__',\n",
       " '__sizeof__',\n",
       " '__str__',\n",
       " '__sub__',\n",
       " '__subclasshook__',\n",
       " '__truediv__',\n",
       " '__trunc__',\n",
       " '__xor__',\n",
       " '_greeting',\n",
       " '_inverse',\n",
       " 'as_integer_ratio',\n",
       " 'bit_length',\n",
       " 'conjugate',\n",
       " 'denominator',\n",
       " 'from_bytes',\n",
       " 'get_inverse',\n",
       " 'imag',\n",
       " 'numerator',\n",
       " 'printhello',\n",
       " 'real',\n",
       " 'set_inverse',\n",
       " 'statichello',\n",
       " 'to_bytes']"
      ]
     },
     "execution_count": 137,
     "metadata": {},
     "output_type": "execute_result"
    }
   ],
   "source": [
    "dir(m)"
   ]
  },
  {
   "cell_type": "code",
   "execution_count": 138,
   "id": "f515b96f-38bc-4681-9933-2316aa5b11b8",
   "metadata": {},
   "outputs": [
    {
     "data": {
      "text/plain": [
       "5"
      ]
     },
     "execution_count": 138,
     "metadata": {},
     "output_type": "execute_result"
    }
   ],
   "source": [
    "m.__add__(l)"
   ]
  },
  {
   "cell_type": "code",
   "execution_count": 143,
   "id": "d5bde3b0-a2ea-45ed-87d4-0ec5b2c71373",
   "metadata": {},
   "outputs": [
    {
     "data": {
      "text/plain": [
       "50"
      ]
     },
     "execution_count": 143,
     "metadata": {},
     "output_type": "execute_result"
    }
   ],
   "source": [
    "l+m"
   ]
  },
  {
   "cell_type": "code",
   "execution_count": 144,
   "id": "f528e9e3-40ab-40e9-969f-bd9bcb6088b7",
   "metadata": {},
   "outputs": [
    {
     "data": {
      "text/plain": [
       "5"
      ]
     },
     "execution_count": 144,
     "metadata": {},
     "output_type": "execute_result"
    }
   ],
   "source": [
    "5+0"
   ]
  },
  {
   "cell_type": "code",
   "execution_count": 145,
   "id": "818ccaf3-0a57-4284-aac9-40a79f488508",
   "metadata": {},
   "outputs": [],
   "source": [
    "a=1\n",
    "b=2"
   ]
  },
  {
   "cell_type": "code",
   "execution_count": 146,
   "id": "7eed3abc-ad58-40cd-b69d-7fe7816ea40a",
   "metadata": {},
   "outputs": [
    {
     "data": {
      "text/plain": [
       "3"
      ]
     },
     "execution_count": 146,
     "metadata": {},
     "output_type": "execute_result"
    }
   ],
   "source": [
    "a.__add__(b)"
   ]
  },
  {
   "cell_type": "code",
   "execution_count": 147,
   "id": "57469fd1-94cf-4611-8e44-59b911cb5931",
   "metadata": {},
   "outputs": [],
   "source": [
    "c='hello'\n",
    "d='world'"
   ]
  },
  {
   "cell_type": "code",
   "execution_count": 148,
   "id": "fc1fc735-76ff-4299-9e25-3f1b553c084a",
   "metadata": {},
   "outputs": [
    {
     "data": {
      "text/plain": [
       "'helloworld'"
      ]
     },
     "execution_count": 148,
     "metadata": {},
     "output_type": "execute_result"
    }
   ],
   "source": [
    "c.__add__(d)"
   ]
  },
  {
   "cell_type": "code",
   "execution_count": 203,
   "id": "9de4f373-72ed-4c16-bb24-caa496c9df5e",
   "metadata": {},
   "outputs": [],
   "source": [
    "class Scalar(object):\n",
    "    '''Custom Scalar Class'''\n",
    "    def __init__(self, value):\n",
    "        '''Create a Scalar class instance from a value'''\n",
    "        self._value=value\n",
    "    def __repr__(self):\n",
    "        string='Scalar('+str(self._value)+')'\n",
    "        return(string)\n",
    "    def __str__(self):\n",
    "        string='Scalar('+str(self._value)+')'\n",
    "        return(string)\n",
    "    def __add__(self,other):\n",
    "        return(Scalar(self._value+other._value))\n",
    "    def __sub__(self,other):\n",
    "        return(Scalar(self._value-other._value))\n",
    "    def __mul__(self,other):\n",
    "        return(Scalar(self._value*other._value))\n",
    "    "
   ]
  },
  {
   "cell_type": "code",
   "execution_count": 204,
   "id": "1337fca3-2d8e-4491-b159-599da5417372",
   "metadata": {},
   "outputs": [
    {
     "data": {
      "text/plain": [
       "['__add__',\n",
       " '__class__',\n",
       " '__delattr__',\n",
       " '__dict__',\n",
       " '__dir__',\n",
       " '__doc__',\n",
       " '__eq__',\n",
       " '__format__',\n",
       " '__ge__',\n",
       " '__getattribute__',\n",
       " '__gt__',\n",
       " '__hash__',\n",
       " '__init__',\n",
       " '__init_subclass__',\n",
       " '__le__',\n",
       " '__lt__',\n",
       " '__module__',\n",
       " '__mul__',\n",
       " '__ne__',\n",
       " '__new__',\n",
       " '__reduce__',\n",
       " '__reduce_ex__',\n",
       " '__repr__',\n",
       " '__setattr__',\n",
       " '__sizeof__',\n",
       " '__str__',\n",
       " '__sub__',\n",
       " '__subclasshook__',\n",
       " '__weakref__']"
      ]
     },
     "execution_count": 204,
     "metadata": {},
     "output_type": "execute_result"
    }
   ],
   "source": [
    "dir(Scalar)"
   ]
  },
  {
   "cell_type": "code",
   "execution_count": 205,
   "id": "a9316581-317d-4cbb-be40-50fff2b1a42f",
   "metadata": {},
   "outputs": [],
   "source": [
    "a=Scalar(5)"
   ]
  },
  {
   "cell_type": "code",
   "execution_count": 206,
   "id": "93090f0e-c631-4af9-99cb-46779d55104c",
   "metadata": {},
   "outputs": [
    {
     "data": {
      "text/plain": [
       "'Scalar(5)'"
      ]
     },
     "execution_count": 206,
     "metadata": {},
     "output_type": "execute_result"
    }
   ],
   "source": [
    "repr(a)"
   ]
  },
  {
   "cell_type": "code",
   "execution_count": 207,
   "id": "df8cc23a-e009-4716-8b80-79a9547b0cfa",
   "metadata": {},
   "outputs": [
    {
     "name": "stdout",
     "output_type": "stream",
     "text": [
      "Scalar(5)\n"
     ]
    }
   ],
   "source": [
    "print(a)"
   ]
  },
  {
   "cell_type": "code",
   "execution_count": 208,
   "id": "fcea920d-225a-4bd7-ba79-3a3b4314d91b",
   "metadata": {},
   "outputs": [
    {
     "data": {
      "text/plain": [
       "Scalar(5)"
      ]
     },
     "execution_count": 208,
     "metadata": {},
     "output_type": "execute_result"
    }
   ],
   "source": [
    "a"
   ]
  },
  {
   "cell_type": "code",
   "execution_count": 209,
   "id": "d7e25d4e-4a3c-41e2-b471-9e968672b68a",
   "metadata": {},
   "outputs": [],
   "source": [
    "a=Scalar(5)"
   ]
  },
  {
   "cell_type": "code",
   "execution_count": 210,
   "id": "f7ca0ea5-534d-4a81-94a1-c78343b95cf7",
   "metadata": {},
   "outputs": [],
   "source": [
    "b=Scalar(2)"
   ]
  },
  {
   "cell_type": "code",
   "execution_count": 214,
   "id": "9e60dff3-00c2-496c-ab6d-a2ca848ba4c7",
   "metadata": {},
   "outputs": [
    {
     "data": {
      "text/plain": [
       "Scalar(5)"
      ]
     },
     "execution_count": 214,
     "metadata": {},
     "output_type": "execute_result"
    }
   ],
   "source": [
    "a"
   ]
  },
  {
   "cell_type": "code",
   "execution_count": 215,
   "id": "60e675a9-6bba-4f23-9cf9-b63c8685bffc",
   "metadata": {},
   "outputs": [
    {
     "data": {
      "text/plain": [
       "Scalar(2)"
      ]
     },
     "execution_count": 215,
     "metadata": {},
     "output_type": "execute_result"
    }
   ],
   "source": [
    "b"
   ]
  },
  {
   "cell_type": "code",
   "execution_count": 211,
   "id": "60b72c49-e176-4d8e-93b3-8a645bd7f06e",
   "metadata": {},
   "outputs": [
    {
     "data": {
      "text/plain": [
       "Scalar(10)"
      ]
     },
     "execution_count": 211,
     "metadata": {},
     "output_type": "execute_result"
    }
   ],
   "source": [
    "a*b"
   ]
  },
  {
   "cell_type": "code",
   "execution_count": 212,
   "id": "05a5ce4b-d552-4bf2-913b-0e6342339a02",
   "metadata": {},
   "outputs": [
    {
     "data": {
      "text/plain": [
       "Scalar(7)"
      ]
     },
     "execution_count": 212,
     "metadata": {},
     "output_type": "execute_result"
    }
   ],
   "source": [
    "a+b"
   ]
  },
  {
   "cell_type": "code",
   "execution_count": 213,
   "id": "fd0315ef-def4-41e2-9271-23f1f20f6e1a",
   "metadata": {},
   "outputs": [
    {
     "data": {
      "text/plain": [
       "Scalar(3)"
      ]
     },
     "execution_count": 213,
     "metadata": {},
     "output_type": "execute_result"
    }
   ],
   "source": [
    "a-b"
   ]
  },
  {
   "cell_type": "markdown",
   "id": "07a0a017-568b-4c94-b197-a8a69db90beb",
   "metadata": {},
   "source": [
    "## inheritance continued"
   ]
  },
  {
   "cell_type": "code",
   "execution_count": 230,
   "id": "dbbc22a7-58ba-4333-a1a8-31d7e2cdaeb2",
   "metadata": {},
   "outputs": [],
   "source": [
    "class ParentScalar(object):\n",
    "    '''Custom Scalar Class.'''\n",
    "    def __init__(self,value):\n",
    "        '''Creates an instance of the Scalar Class from a value.'''\n",
    "        self.value=value\n",
    "    def printsomething(self,something):\n",
    "        '''This will print something'''\n",
    "        print(f'This will print {something}')"
   ]
  },
  {
   "cell_type": "code",
   "execution_count": 239,
   "id": "62654029-ae69-40f2-9dec-6377f37c124a",
   "metadata": {},
   "outputs": [],
   "source": [
    "class ChildScalar(ParentScalar):\n",
    "    def __init__(self,value,att):\n",
    "        self.att=att\n",
    "        super().__init__(value)\n",
    "    def printsomething(self,something,somethingelse):\n",
    "        super().printsomething(something)\n",
    "        print(f'This will print {somethingelse}')"
   ]
  },
  {
   "cell_type": "code",
   "execution_count": 240,
   "id": "b66e9ca8-69f4-40ed-8eff-6a08db73efce",
   "metadata": {},
   "outputs": [],
   "source": [
    "a=ParentScalar(1)"
   ]
  },
  {
   "cell_type": "code",
   "execution_count": 241,
   "id": "02a080b0-b07c-4f5a-9392-21af36881a71",
   "metadata": {},
   "outputs": [
    {
     "data": {
      "text/plain": [
       "1"
      ]
     },
     "execution_count": 241,
     "metadata": {},
     "output_type": "execute_result"
    }
   ],
   "source": [
    "a.value"
   ]
  },
  {
   "cell_type": "code",
   "execution_count": 242,
   "id": "6dbb0297-34cb-495b-ae55-8d268cf427b2",
   "metadata": {},
   "outputs": [],
   "source": [
    "b=ChildScalar(1,2)"
   ]
  },
  {
   "cell_type": "code",
   "execution_count": 243,
   "id": "a6ee17a8-d34f-4f2a-9a51-7e385a6fbc88",
   "metadata": {},
   "outputs": [
    {
     "data": {
      "text/plain": [
       "2"
      ]
     },
     "execution_count": 243,
     "metadata": {},
     "output_type": "execute_result"
    }
   ],
   "source": [
    "b.att"
   ]
  },
  {
   "cell_type": "markdown",
   "id": "016d6298-a60e-4309-954b-277f781e4eda",
   "metadata": {},
   "source": [
    "### A custom fraction class"
   ]
  },
  {
   "cell_type": "code",
   "execution_count": 341,
   "id": "5b1362a0-3909-4918-970b-996b488990d0",
   "metadata": {},
   "outputs": [],
   "source": [
    "class Fraction(object):\n",
    "    '''Fraction class'''\n",
    "    def __init__(self,n,d):\n",
    "        '''n is the narrator and must be an int.\n",
    "        d is the denominator and must be an int.'''\n",
    "        try: \n",
    "            assert(type(n)==int and type(d)==int), 'n and d must be of the type int.'\n",
    "            self._n=n\n",
    "        except AssertionError:\n",
    "            print('n and d must be of the type int')\n",
    "        try:\n",
    "            assert(d!=0), 'd cannot be 0'\n",
    "            self._d=d\n",
    "        except AssertionError:\n",
    "            print('d cannot be 0')\n",
    "        self._common_factor()\n",
    "    def __repr__(self):\n",
    "        return(f'Fraction({self._n},{self._d})')\n",
    "    def __str__(self):\n",
    "        return(f'Fraction({self._n},{self._d})')\n",
    "    def _common_factor(self):\n",
    "        for idx in range(self._d,0,-1):\n",
    "            if (self._n%idx==0 and self._d%idx==0):\n",
    "                self._n=self._n//idx\n",
    "                self._d=self._d//idx\n",
    "                break\n",
    "    def get_n(self):\n",
    "        return(self._n)\n",
    "    def get_d(self):\n",
    "        return(self._d)\n",
    "    def set_n(self,n):\n",
    "        try:\n",
    "            return(Fraction(n,self._d))\n",
    "        except AttributeError:\n",
    "            print('n must be an int')\n",
    "    def set_d(self,d):\n",
    "        try:\n",
    "            return(Fraction(self._n,d))\n",
    "        except AttributeError:\n",
    "            print('d must be a non zero int')\n",
    "    def __mul__(self,other):\n",
    "        n=self._n*other._n\n",
    "        d=self._d*other._d\n",
    "        return(Fraction(n,d))\n",
    "    def __truediv__(self,other):\n",
    "        n=self._n*other._d\n",
    "        d=self._d*other._n\n",
    "        return(Fraction(n,d))\n",
    "    def __add__(self,other):\n",
    "        n=self._n*other._d+self._d*other._n\n",
    "        d=self._d*other._d\n",
    "        return(Fraction(n,d))\n",
    "    def __sub__(self,other):\n",
    "        n=self._n*other._d-self._d*other._n\n",
    "        d=self._d*other._d\n",
    "        return(Fraction(n,d))\n",
    "    def to_float(self):\n",
    "        value=float(self._n/self._d)\n",
    "        return(value)\n",
    "            "
   ]
  },
  {
   "cell_type": "code",
   "execution_count": 342,
   "id": "fade0095-dfab-436d-bbc5-abe76fe44bee",
   "metadata": {},
   "outputs": [],
   "source": [
    "a=Fraction(2,4)"
   ]
  },
  {
   "cell_type": "code",
   "execution_count": 343,
   "id": "daa45e9a-f448-48bf-99d4-4b0988ab1815",
   "metadata": {},
   "outputs": [
    {
     "data": {
      "text/plain": [
       "Fraction(1,2)"
      ]
     },
     "execution_count": 343,
     "metadata": {},
     "output_type": "execute_result"
    }
   ],
   "source": [
    "a"
   ]
  },
  {
   "cell_type": "code",
   "execution_count": 344,
   "id": "ca0a6ace-6d7d-4645-a72e-fdb6a96c852d",
   "metadata": {},
   "outputs": [
    {
     "data": {
      "text/plain": [
       "2"
      ]
     },
     "execution_count": 344,
     "metadata": {},
     "output_type": "execute_result"
    }
   ],
   "source": [
    "a.get_d()"
   ]
  },
  {
   "cell_type": "code",
   "execution_count": 345,
   "id": "d5107900-e0f9-4976-83b8-257de2dd3f42",
   "metadata": {},
   "outputs": [
    {
     "data": {
      "text/plain": [
       "1"
      ]
     },
     "execution_count": 345,
     "metadata": {},
     "output_type": "execute_result"
    }
   ],
   "source": [
    "a.get_n()"
   ]
  },
  {
   "cell_type": "code",
   "execution_count": 346,
   "id": "d640f2f4-a143-4e55-991f-e6ef561abc20",
   "metadata": {},
   "outputs": [
    {
     "data": {
      "text/plain": [
       "Fraction(1,5)"
      ]
     },
     "execution_count": 346,
     "metadata": {},
     "output_type": "execute_result"
    }
   ],
   "source": [
    "a.set_d(5)"
   ]
  },
  {
   "cell_type": "code",
   "execution_count": 347,
   "id": "549e6e3c-8405-4ad8-89aa-b8c2097d3b4b",
   "metadata": {},
   "outputs": [
    {
     "name": "stdout",
     "output_type": "stream",
     "text": [
      "n and d must be of the type int\n",
      "n must be an int\n"
     ]
    }
   ],
   "source": [
    "a.set_n(3.1)"
   ]
  },
  {
   "cell_type": "code",
   "execution_count": 348,
   "id": "2d4e4969-29d8-4931-8f01-43fac4b9b92d",
   "metadata": {},
   "outputs": [
    {
     "data": {
      "text/plain": [
       "0.5"
      ]
     },
     "execution_count": 348,
     "metadata": {},
     "output_type": "execute_result"
    }
   ],
   "source": [
    "a.to_float()"
   ]
  },
  {
   "cell_type": "code",
   "execution_count": 349,
   "id": "67d7a8af-e46d-48bb-9e1c-7703efb9d968",
   "metadata": {},
   "outputs": [],
   "source": [
    "b=Fraction(3,2)"
   ]
  },
  {
   "cell_type": "code",
   "execution_count": 350,
   "id": "198bf233-7b93-4e98-b97b-98a0b5688461",
   "metadata": {},
   "outputs": [
    {
     "data": {
      "text/plain": [
       "Fraction(2,1)"
      ]
     },
     "execution_count": 350,
     "metadata": {},
     "output_type": "execute_result"
    }
   ],
   "source": [
    "a+b"
   ]
  },
  {
   "cell_type": "code",
   "execution_count": 351,
   "id": "ba2f5e61-d8df-4d3e-9f88-0e5b99f68cb8",
   "metadata": {},
   "outputs": [
    {
     "data": {
      "text/plain": [
       "Fraction(-1,1)"
      ]
     },
     "execution_count": 351,
     "metadata": {},
     "output_type": "execute_result"
    }
   ],
   "source": [
    "a-b"
   ]
  },
  {
   "cell_type": "code",
   "execution_count": 352,
   "id": "96b47cef-83ff-4cd2-aa89-4b93c4c6fecd",
   "metadata": {},
   "outputs": [
    {
     "data": {
      "text/plain": [
       "Fraction(1,3)"
      ]
     },
     "execution_count": 352,
     "metadata": {},
     "output_type": "execute_result"
    }
   ],
   "source": [
    "a/b"
   ]
  },
  {
   "cell_type": "code",
   "execution_count": 353,
   "id": "f3c2330d-ff4f-4b6a-aae0-e115546f8cfd",
   "metadata": {},
   "outputs": [
    {
     "data": {
      "text/plain": [
       "Fraction(3,4)"
      ]
     },
     "execution_count": 353,
     "metadata": {},
     "output_type": "execute_result"
    }
   ],
   "source": [
    "a*b"
   ]
  },
  {
   "cell_type": "code",
   "execution_count": 354,
   "id": "f3f9fb3e-8694-4113-a9a6-c6686ea29fbd",
   "metadata": {},
   "outputs": [],
   "source": [
    "class Eighths(Fraction):\n",
    "    def __init__(self,n):\n",
    "        d=8\n",
    "        super(Eighths,self).__init__(n,d)"
   ]
  },
  {
   "cell_type": "code",
   "execution_count": 355,
   "id": "7dec5ac4-8648-4848-a679-77511384bee5",
   "metadata": {},
   "outputs": [],
   "source": [
    "d=Eighths(3)"
   ]
  },
  {
   "cell_type": "code",
   "execution_count": 356,
   "id": "aefd73a9-58e0-4612-8016-11ec1648d0a1",
   "metadata": {},
   "outputs": [
    {
     "data": {
      "text/plain": [
       "Fraction(3,8)"
      ]
     },
     "execution_count": 356,
     "metadata": {},
     "output_type": "execute_result"
    }
   ],
   "source": [
    "d"
   ]
  },
  {
   "cell_type": "markdown",
   "id": "ae08855e-64d9-40cf-991d-2ddc3a0ba15b",
   "metadata": {},
   "source": [
    "## Collections"
   ]
  },
  {
   "cell_type": "markdown",
   "id": "8eb95f21-caea-4059-b9b6-1e2e4111b81d",
   "metadata": {},
   "source": [
    "### The list collection (list)"
   ]
  },
  {
   "cell_type": "code",
   "execution_count": 357,
   "id": "2182567f-3efc-4d25-bc0a-65c14aefd3ee",
   "metadata": {},
   "outputs": [],
   "source": [
    "shop=[]"
   ]
  },
  {
   "cell_type": "code",
   "execution_count": 358,
   "id": "6b89a103-fa8a-4070-9437-2a8f4094cbe7",
   "metadata": {},
   "outputs": [
    {
     "data": {
      "text/plain": [
       "[]"
      ]
     },
     "execution_count": 358,
     "metadata": {},
     "output_type": "execute_result"
    }
   ],
   "source": [
    "shop"
   ]
  },
  {
   "cell_type": "code",
   "execution_count": 359,
   "id": "255110b6-8097-403b-9279-244ee9d2f674",
   "metadata": {},
   "outputs": [],
   "source": [
    "shop=list()"
   ]
  },
  {
   "cell_type": "code",
   "execution_count": 360,
   "id": "b56f99df-4bd3-4b54-8acb-55b0642edf28",
   "metadata": {},
   "outputs": [
    {
     "data": {
      "text/plain": [
       "[]"
      ]
     },
     "execution_count": 360,
     "metadata": {},
     "output_type": "execute_result"
    }
   ],
   "source": [
    "shop"
   ]
  },
  {
   "cell_type": "code",
   "execution_count": 361,
   "id": "cc3db34a-9b01-4d51-9d63-a287ef3ef9ea",
   "metadata": {},
   "outputs": [],
   "source": [
    "shop=['apples']"
   ]
  },
  {
   "cell_type": "code",
   "execution_count": 362,
   "id": "16ad880e-a426-44b6-a93b-bdcdff0a8838",
   "metadata": {},
   "outputs": [
    {
     "data": {
      "text/plain": [
       "['apples']"
      ]
     },
     "execution_count": 362,
     "metadata": {},
     "output_type": "execute_result"
    }
   ],
   "source": [
    "shop"
   ]
  },
  {
   "cell_type": "code",
   "execution_count": 363,
   "id": "5606c16b-0c7b-43ee-965d-330228ac96ee",
   "metadata": {},
   "outputs": [],
   "source": [
    "shop=list('apples')"
   ]
  },
  {
   "cell_type": "code",
   "execution_count": 364,
   "id": "c628e206-c8d6-4d95-a35c-7ca10015dedc",
   "metadata": {},
   "outputs": [
    {
     "data": {
      "text/plain": [
       "['a', 'p', 'p', 'l', 'e', 's']"
      ]
     },
     "execution_count": 364,
     "metadata": {},
     "output_type": "execute_result"
    }
   ],
   "source": [
    "shop"
   ]
  },
  {
   "cell_type": "code",
   "execution_count": 365,
   "id": "6727f258-b8b8-4557-9f50-bc23e6eea6db",
   "metadata": {},
   "outputs": [],
   "source": [
    "shop=list('apples',)"
   ]
  },
  {
   "cell_type": "code",
   "execution_count": 366,
   "id": "d12b16b1-f915-468d-bb89-875fda2db791",
   "metadata": {},
   "outputs": [
    {
     "data": {
      "text/plain": [
       "['a', 'p', 'p', 'l', 'e', 's']"
      ]
     },
     "execution_count": 366,
     "metadata": {},
     "output_type": "execute_result"
    }
   ],
   "source": [
    "shop"
   ]
  },
  {
   "cell_type": "code",
   "execution_count": 367,
   "id": "9f08e7da-3a24-4902-96c0-cf84dce5e5c4",
   "metadata": {},
   "outputs": [],
   "source": [
    "shop=list(('apples',))"
   ]
  },
  {
   "cell_type": "code",
   "execution_count": 368,
   "id": "6e5a66f5-af28-4198-8fae-abb763dbcc37",
   "metadata": {},
   "outputs": [
    {
     "data": {
      "text/plain": [
       "['apples']"
      ]
     },
     "execution_count": 368,
     "metadata": {},
     "output_type": "execute_result"
    }
   ],
   "source": [
    "shop"
   ]
  },
  {
   "cell_type": "code",
   "execution_count": 369,
   "id": "5d46b583-d7a1-4f7e-9cef-1f872f1481a1",
   "metadata": {},
   "outputs": [],
   "source": [
    "shop=['apples', 'bananas']"
   ]
  },
  {
   "cell_type": "code",
   "execution_count": 370,
   "id": "e5f737aa-da4a-4427-a885-aa54a9cd6c4f",
   "metadata": {},
   "outputs": [
    {
     "data": {
      "text/plain": [
       "['apples', 'bananas']"
      ]
     },
     "execution_count": 370,
     "metadata": {},
     "output_type": "execute_result"
    }
   ],
   "source": [
    "shop"
   ]
  },
  {
   "cell_type": "code",
   "execution_count": 373,
   "id": "d3b947d5-63ab-418d-b13f-8221a3a63a55",
   "metadata": {},
   "outputs": [],
   "source": [
    "shop=['apples',\n",
    "      'bananas',\n",
    "      'grapes',\n",
    "      'oranges',\n",
    "      'pears']"
   ]
  },
  {
   "cell_type": "code",
   "execution_count": 374,
   "id": "2c5457ca-49d1-4bca-b596-1ba082544e00",
   "metadata": {},
   "outputs": [
    {
     "data": {
      "text/plain": [
       "['apples', 'bananas', 'grapes', 'oranges', 'pears']"
      ]
     },
     "execution_count": 374,
     "metadata": {},
     "output_type": "execute_result"
    }
   ],
   "source": [
    "shop"
   ]
  },
  {
   "cell_type": "markdown",
   "id": "3fba4586-a26c-496d-ace4-e99da733966e",
   "metadata": {},
   "source": [
    "### Indexing a str or list"
   ]
  },
  {
   "cell_type": "code",
   "execution_count": 375,
   "id": "7595b41b-53e1-441a-922f-68e4ee904330",
   "metadata": {},
   "outputs": [
    {
     "data": {
      "text/plain": [
       "'helloworld'"
      ]
     },
     "execution_count": 375,
     "metadata": {},
     "output_type": "execute_result"
    }
   ],
   "source": [
    "'hello'+'world'"
   ]
  },
  {
   "cell_type": "code",
   "execution_count": 376,
   "id": "fb3f5177-238e-45c5-9206-295ff00fe667",
   "metadata": {},
   "outputs": [
    {
     "data": {
      "text/plain": [
       "['h', 'e', 'l', 'l', 'o', 'w', 'o', 'r', 'l', 'd']"
      ]
     },
     "execution_count": 376,
     "metadata": {},
     "output_type": "execute_result"
    }
   ],
   "source": [
    "['h','e','l','l','o']+['w','o','r','l','d']"
   ]
  },
  {
   "cell_type": "code",
   "execution_count": 377,
   "id": "87561c5e-8900-4037-9a7f-335636511907",
   "metadata": {},
   "outputs": [
    {
     "data": {
      "text/plain": [
       "'hellohellohello'"
      ]
     },
     "execution_count": 377,
     "metadata": {},
     "output_type": "execute_result"
    }
   ],
   "source": [
    "'hello'*3"
   ]
  },
  {
   "cell_type": "code",
   "execution_count": 378,
   "id": "fc47dee4-5694-4270-9557-f8f3bfa4ed36",
   "metadata": {},
   "outputs": [
    {
     "data": {
      "text/plain": [
       "['h', 'e', 'l', 'l', 'o', 'h', 'e', 'l', 'l', 'o', 'h', 'e', 'l', 'l', 'o']"
      ]
     },
     "execution_count": 378,
     "metadata": {},
     "output_type": "execute_result"
    }
   ],
   "source": [
    "['h','e','l','l','o']*3"
   ]
  },
  {
   "cell_type": "code",
   "execution_count": 379,
   "id": "aef79b31-a4cf-422b-8d03-de0479185c95",
   "metadata": {},
   "outputs": [
    {
     "data": {
      "text/plain": [
       "5"
      ]
     },
     "execution_count": 379,
     "metadata": {},
     "output_type": "execute_result"
    }
   ],
   "source": [
    "len('hello')"
   ]
  },
  {
   "cell_type": "code",
   "execution_count": 380,
   "id": "6bc4b15a-be65-44fe-8db7-443bb9401c9a",
   "metadata": {},
   "outputs": [
    {
     "data": {
      "text/plain": [
       "5"
      ]
     },
     "execution_count": 380,
     "metadata": {},
     "output_type": "execute_result"
    }
   ],
   "source": [
    "len(['h','e','l','l','o'])"
   ]
  },
  {
   "cell_type": "code",
   "execution_count": 381,
   "id": "54f466dd-ff19-4888-9f25-6b5e079f12e2",
   "metadata": {},
   "outputs": [
    {
     "name": "stdout",
     "output_type": "stream",
     "text": [
      "h\n",
      "e\n",
      "l\n",
      "l\n",
      "o\n"
     ]
    }
   ],
   "source": [
    "for let in 'hello':\n",
    "    print(let)"
   ]
  },
  {
   "cell_type": "code",
   "execution_count": 383,
   "id": "f83dc16b-dc73-4cd8-a5c2-a679757a9b12",
   "metadata": {},
   "outputs": [
    {
     "name": "stdout",
     "output_type": "stream",
     "text": [
      "h\n",
      "e\n",
      "l\n",
      "l\n",
      "o\n"
     ]
    }
   ],
   "source": [
    "for item in ['h','e','l','l','o']:\n",
    "    print(item)"
   ]
  },
  {
   "cell_type": "code",
   "execution_count": 384,
   "id": "a5b6020a-429b-4f3c-9994-235c760036ed",
   "metadata": {},
   "outputs": [
    {
     "data": {
      "text/plain": [
       "['apples', 'bananas', 'grapes', 'oranges', 'pears']"
      ]
     },
     "execution_count": 384,
     "metadata": {},
     "output_type": "execute_result"
    }
   ],
   "source": [
    "shop"
   ]
  },
  {
   "cell_type": "code",
   "execution_count": 385,
   "id": "a6b1afed-6ced-4047-b724-ecc7b69a1c63",
   "metadata": {},
   "outputs": [
    {
     "name": "stdout",
     "output_type": "stream",
     "text": [
      "apples\n",
      "bananas\n",
      "grapes\n",
      "oranges\n",
      "pears\n"
     ]
    }
   ],
   "source": [
    "for item in shop:\n",
    "    print(item)"
   ]
  },
  {
   "cell_type": "code",
   "execution_count": 386,
   "id": "4c281a7c-2044-449f-b900-855de1229f21",
   "metadata": {},
   "outputs": [
    {
     "name": "stdout",
     "output_type": "stream",
     "text": [
      "0 h\n",
      "1 e\n",
      "2 l\n",
      "3 l\n",
      "4 o\n"
     ]
    }
   ],
   "source": [
    "for idx, let in enumerate('hello'):\n",
    "    print(idx,let)"
   ]
  },
  {
   "cell_type": "code",
   "execution_count": 387,
   "id": "eb010394-c506-4ef3-ba21-80fde7546c04",
   "metadata": {},
   "outputs": [
    {
     "name": "stdout",
     "output_type": "stream",
     "text": [
      "0 h\n",
      "1 e\n",
      "2 l\n",
      "3 l\n",
      "4 o\n"
     ]
    }
   ],
   "source": [
    "for idx,item in enumerate(['h','e','l','l','o']):\n",
    "    print(idx,item)"
   ]
  },
  {
   "cell_type": "code",
   "execution_count": 388,
   "id": "a2ea4c2c-f629-4621-9e07-8994e07fcdf0",
   "metadata": {},
   "outputs": [
    {
     "data": {
      "text/plain": [
       "['apples', 'bananas', 'grapes', 'oranges', 'pears']"
      ]
     },
     "execution_count": 388,
     "metadata": {},
     "output_type": "execute_result"
    }
   ],
   "source": [
    "shop"
   ]
  },
  {
   "cell_type": "code",
   "execution_count": 389,
   "id": "2e630c1e-f168-4f4f-a67c-274dc9f22ba0",
   "metadata": {},
   "outputs": [
    {
     "name": "stdout",
     "output_type": "stream",
     "text": [
      "0 apples\n",
      "1 bananas\n",
      "2 grapes\n",
      "3 oranges\n",
      "4 pears\n"
     ]
    }
   ],
   "source": [
    "for idx,item in enumerate(shop):\n",
    "    print(idx,item)"
   ]
  },
  {
   "cell_type": "code",
   "execution_count": 390,
   "id": "ae4e069a-b502-48f6-bbe3-39cd3c8085c4",
   "metadata": {},
   "outputs": [
    {
     "data": {
      "text/plain": [
       "'apples'"
      ]
     },
     "execution_count": 390,
     "metadata": {},
     "output_type": "execute_result"
    }
   ],
   "source": [
    "shop[0]"
   ]
  },
  {
   "cell_type": "code",
   "execution_count": 391,
   "id": "763e5aaa-ce04-439c-ab06-d26adb071f92",
   "metadata": {},
   "outputs": [
    {
     "data": {
      "text/plain": [
       "'p'"
      ]
     },
     "execution_count": 391,
     "metadata": {},
     "output_type": "execute_result"
    }
   ],
   "source": [
    "shop[0][1]"
   ]
  },
  {
   "cell_type": "code",
   "execution_count": 392,
   "id": "50f66a11-787f-4945-b5b7-08dfa8fe6fe5",
   "metadata": {},
   "outputs": [],
   "source": [
    "item=shop[0]"
   ]
  },
  {
   "cell_type": "code",
   "execution_count": 393,
   "id": "d3e48345-80d8-4832-bed3-5fd311680449",
   "metadata": {},
   "outputs": [
    {
     "data": {
      "text/plain": [
       "'apples'"
      ]
     },
     "execution_count": 393,
     "metadata": {},
     "output_type": "execute_result"
    }
   ],
   "source": [
    "item"
   ]
  },
  {
   "cell_type": "code",
   "execution_count": 394,
   "id": "02ede9bb-8647-4f87-99f6-291ca0d6b3ff",
   "metadata": {},
   "outputs": [],
   "source": [
    "let=item[1]"
   ]
  },
  {
   "cell_type": "code",
   "execution_count": 395,
   "id": "db7c6c1a-ba45-490e-beb3-0cdb01e6372f",
   "metadata": {},
   "outputs": [
    {
     "data": {
      "text/plain": [
       "'p'"
      ]
     },
     "execution_count": 395,
     "metadata": {},
     "output_type": "execute_result"
    }
   ],
   "source": [
    "let"
   ]
  },
  {
   "cell_type": "code",
   "execution_count": 396,
   "id": "97bef0eb-e6e4-43e9-b053-bee184589758",
   "metadata": {},
   "outputs": [
    {
     "data": {
      "text/plain": [
       "'h'"
      ]
     },
     "execution_count": 396,
     "metadata": {},
     "output_type": "execute_result"
    }
   ],
   "source": [
    "'hello'[0]"
   ]
  },
  {
   "cell_type": "code",
   "execution_count": 397,
   "id": "acaf4a0a-d5ef-486c-a8d0-0a4397ed1ef2",
   "metadata": {},
   "outputs": [
    {
     "data": {
      "text/plain": [
       "'l'"
      ]
     },
     "execution_count": 397,
     "metadata": {},
     "output_type": "execute_result"
    }
   ],
   "source": [
    "'hello'[2]"
   ]
  },
  {
   "cell_type": "code",
   "execution_count": 398,
   "id": "15bf4f08-2615-482d-a149-8a773e01143a",
   "metadata": {},
   "outputs": [
    {
     "data": {
      "text/plain": [
       "'o'"
      ]
     },
     "execution_count": 398,
     "metadata": {},
     "output_type": "execute_result"
    }
   ],
   "source": [
    "'hello'[4]"
   ]
  },
  {
   "cell_type": "code",
   "execution_count": 399,
   "id": "f83a10a0-6b9d-4d11-8c72-7a316dbcfac9",
   "metadata": {},
   "outputs": [
    {
     "data": {
      "text/plain": [
       "'ll'"
      ]
     },
     "execution_count": 399,
     "metadata": {},
     "output_type": "execute_result"
    }
   ],
   "source": [
    "'hello'[2:4]"
   ]
  },
  {
   "cell_type": "code",
   "execution_count": 402,
   "id": "3b17dc0f-148c-4fad-badf-863238116019",
   "metadata": {},
   "outputs": [
    {
     "data": {
      "text/plain": [
       "'hel'"
      ]
     },
     "execution_count": 402,
     "metadata": {},
     "output_type": "execute_result"
    }
   ],
   "source": [
    "'hello'[:3]"
   ]
  },
  {
   "cell_type": "code",
   "execution_count": 403,
   "id": "c9333c18-6d58-4172-9c23-ef3331012466",
   "metadata": {},
   "outputs": [
    {
     "data": {
      "text/plain": [
       "'lo'"
      ]
     },
     "execution_count": 403,
     "metadata": {},
     "output_type": "execute_result"
    }
   ],
   "source": [
    "'hello'[3:]"
   ]
  },
  {
   "cell_type": "code",
   "execution_count": 405,
   "id": "28d0e6e3-0a7a-42bc-be28-fdfb47b4c73a",
   "metadata": {},
   "outputs": [
    {
     "data": {
      "text/plain": [
       "'hello'"
      ]
     },
     "execution_count": 405,
     "metadata": {},
     "output_type": "execute_result"
    }
   ],
   "source": [
    "'hello'[:]"
   ]
  },
  {
   "cell_type": "code",
   "execution_count": 406,
   "id": "dc373bf0-1fac-422a-ac06-f1273d23b44e",
   "metadata": {},
   "outputs": [
    {
     "name": "stdout",
     "output_type": "stream",
     "text": [
      "0 -5 h\n",
      "1 -4 e\n",
      "2 -3 l\n",
      "3 -2 l\n",
      "4 -1 o\n"
     ]
    }
   ],
   "source": [
    "for idx, let in enumerate('hello'):\n",
    "    print(idx,idx-len('hello'),let)"
   ]
  },
  {
   "cell_type": "code",
   "execution_count": 407,
   "id": "8e57c6f1-ec12-4f20-a5c8-c31ffbca8274",
   "metadata": {},
   "outputs": [
    {
     "data": {
      "text/plain": [
       "'l'"
      ]
     },
     "execution_count": 407,
     "metadata": {},
     "output_type": "execute_result"
    }
   ],
   "source": [
    "'hello'[2]"
   ]
  },
  {
   "cell_type": "code",
   "execution_count": 408,
   "id": "4a62e64c-40be-4708-98db-27a9cc3a427e",
   "metadata": {},
   "outputs": [
    {
     "data": {
      "text/plain": [
       "'l'"
      ]
     },
     "execution_count": 408,
     "metadata": {},
     "output_type": "execute_result"
    }
   ],
   "source": [
    "'hello'[-3]"
   ]
  },
  {
   "cell_type": "code",
   "execution_count": 411,
   "id": "cbd0e25e-2773-4b2f-b0ae-b283f4213528",
   "metadata": {},
   "outputs": [],
   "source": [
    "string='HhEeLlLlOo'"
   ]
  },
  {
   "cell_type": "code",
   "execution_count": 412,
   "id": "38aad9e9-6e91-4eb9-bf73-a376c2a937c4",
   "metadata": {},
   "outputs": [
    {
     "data": {
      "text/plain": [
       "'HELLO'"
      ]
     },
     "execution_count": 412,
     "metadata": {},
     "output_type": "execute_result"
    }
   ],
   "source": [
    "string[0:len(string):2]"
   ]
  },
  {
   "cell_type": "code",
   "execution_count": 413,
   "id": "abcc5b7c-cb08-46f6-941c-217700668e97",
   "metadata": {},
   "outputs": [
    {
     "data": {
      "text/plain": [
       "'HELLO'"
      ]
     },
     "execution_count": 413,
     "metadata": {},
     "output_type": "execute_result"
    }
   ],
   "source": [
    "string[::2]"
   ]
  },
  {
   "cell_type": "code",
   "execution_count": 414,
   "id": "50390d08-4f54-42bb-8aab-2d79857d7b71",
   "metadata": {},
   "outputs": [
    {
     "data": {
      "text/plain": [
       "'hello'"
      ]
     },
     "execution_count": 414,
     "metadata": {},
     "output_type": "execute_result"
    }
   ],
   "source": [
    "string[1:len(string):2]"
   ]
  },
  {
   "cell_type": "code",
   "execution_count": 415,
   "id": "ca907339-d9de-4237-97cc-51148cb5d7f4",
   "metadata": {},
   "outputs": [
    {
     "data": {
      "text/plain": [
       "'hello'"
      ]
     },
     "execution_count": 415,
     "metadata": {},
     "output_type": "execute_result"
    }
   ],
   "source": [
    "string[1::2]"
   ]
  },
  {
   "cell_type": "code",
   "execution_count": 416,
   "id": "248da111-4a95-4cc5-9d09-b918a25a52cd",
   "metadata": {},
   "outputs": [
    {
     "data": {
      "text/plain": [
       "'olleh'"
      ]
     },
     "execution_count": 416,
     "metadata": {},
     "output_type": "execute_result"
    }
   ],
   "source": [
    "string[-1:-len(string)-1:-2]"
   ]
  },
  {
   "cell_type": "code",
   "execution_count": 417,
   "id": "7fd23dad-4868-4eec-85c4-eca2eaba0d7f",
   "metadata": {},
   "outputs": [
    {
     "data": {
      "text/plain": [
       "'olleh'"
      ]
     },
     "execution_count": 417,
     "metadata": {},
     "output_type": "execute_result"
    }
   ],
   "source": [
    "string[::-2]"
   ]
  },
  {
   "cell_type": "code",
   "execution_count": 418,
   "id": "58a2ae94-7953-4a73-8e97-f47b56453f4c",
   "metadata": {},
   "outputs": [
    {
     "data": {
      "text/plain": [
       "'OLLEH'"
      ]
     },
     "execution_count": 418,
     "metadata": {},
     "output_type": "execute_result"
    }
   ],
   "source": [
    "string[-2:-len(string)-1:-2]"
   ]
  },
  {
   "cell_type": "code",
   "execution_count": 419,
   "id": "9b03dd41-378d-446a-b497-99d4d3de2348",
   "metadata": {},
   "outputs": [
    {
     "data": {
      "text/plain": [
       "'OLLEH'"
      ]
     },
     "execution_count": 419,
     "metadata": {},
     "output_type": "execute_result"
    }
   ],
   "source": [
    "string[-2::-2]"
   ]
  },
  {
   "cell_type": "markdown",
   "id": "ced15c06-c642-40e1-9107-809946e0203d",
   "metadata": {},
   "source": [
    "## The dictionary collection (dict)"
   ]
  },
  {
   "cell_type": "code",
   "execution_count": 420,
   "id": "f5786f33-b546-4913-b010-32910a290036",
   "metadata": {},
   "outputs": [],
   "source": [
    "colors={}"
   ]
  },
  {
   "cell_type": "code",
   "execution_count": 421,
   "id": "d8ca73d6-244e-40e3-b2a6-5b19e8648f8c",
   "metadata": {},
   "outputs": [
    {
     "data": {
      "text/plain": [
       "{}"
      ]
     },
     "execution_count": 421,
     "metadata": {},
     "output_type": "execute_result"
    }
   ],
   "source": [
    "colors"
   ]
  },
  {
   "cell_type": "code",
   "execution_count": 422,
   "id": "6ffcedb6-6272-4d19-8866-699b7c668f8b",
   "metadata": {},
   "outputs": [],
   "source": [
    "colors=dict()"
   ]
  },
  {
   "cell_type": "code",
   "execution_count": 423,
   "id": "9e1b891c-697d-4a45-be35-7af784e8a5b2",
   "metadata": {},
   "outputs": [
    {
     "data": {
      "text/plain": [
       "{}"
      ]
     },
     "execution_count": 423,
     "metadata": {},
     "output_type": "execute_result"
    }
   ],
   "source": [
    "colors"
   ]
  },
  {
   "cell_type": "code",
   "execution_count": 424,
   "id": "9b0debba-9357-48f1-aec8-7d5e654dba63",
   "metadata": {},
   "outputs": [],
   "source": [
    "colors={'red':'#FF0000','green':'#00B050','blue':'#0070C0'}"
   ]
  },
  {
   "cell_type": "code",
   "execution_count": 425,
   "id": "cebf842f-15ac-462e-a06b-f851710805a0",
   "metadata": {},
   "outputs": [
    {
     "data": {
      "text/plain": [
       "'#FF0000'"
      ]
     },
     "execution_count": 425,
     "metadata": {},
     "output_type": "execute_result"
    }
   ],
   "source": [
    "colors['red']"
   ]
  },
  {
   "cell_type": "code",
   "execution_count": 426,
   "id": "d4092163-ca0c-47b7-8887-2b983992c375",
   "metadata": {},
   "outputs": [
    {
     "data": {
      "text/plain": [
       "dict_keys(['red', 'green', 'blue'])"
      ]
     },
     "execution_count": 426,
     "metadata": {},
     "output_type": "execute_result"
    }
   ],
   "source": [
    "colors.keys()"
   ]
  },
  {
   "cell_type": "code",
   "execution_count": 427,
   "id": "e70cc99b-0465-4275-95bf-4e71f18606e1",
   "metadata": {},
   "outputs": [
    {
     "data": {
      "text/plain": [
       "dict_values(['#FF0000', '#00B050', '#0070C0'])"
      ]
     },
     "execution_count": 427,
     "metadata": {},
     "output_type": "execute_result"
    }
   ],
   "source": [
    "colors.values()"
   ]
  },
  {
   "cell_type": "code",
   "execution_count": 428,
   "id": "1bc46f04-62e3-4f6b-84c1-93aaa8af72ad",
   "metadata": {},
   "outputs": [],
   "source": [
    "key_colors=colors.keys()"
   ]
  },
  {
   "cell_type": "code",
   "execution_count": 429,
   "id": "3419e998-fb72-406f-918b-985121685f89",
   "metadata": {},
   "outputs": [],
   "source": [
    "key_values=colors.values()"
   ]
  },
  {
   "cell_type": "code",
   "execution_count": 430,
   "id": "57578197-33f3-42c0-8803-a737ac7ddcea",
   "metadata": {},
   "outputs": [
    {
     "data": {
      "text/plain": [
       "dict_keys(['red', 'green', 'blue'])"
      ]
     },
     "execution_count": 430,
     "metadata": {},
     "output_type": "execute_result"
    }
   ],
   "source": [
    "key_colors"
   ]
  },
  {
   "cell_type": "code",
   "execution_count": 431,
   "id": "a632fd92-c871-4858-9315-9f04d5c54c9b",
   "metadata": {},
   "outputs": [
    {
     "data": {
      "text/plain": [
       "dict_values(['#FF0000', '#00B050', '#0070C0'])"
      ]
     },
     "execution_count": 431,
     "metadata": {},
     "output_type": "execute_result"
    }
   ],
   "source": [
    "key_values"
   ]
  },
  {
   "cell_type": "code",
   "execution_count": 432,
   "id": "a38c6bb8-21e9-418b-969e-c9ae3fffc761",
   "metadata": {},
   "outputs": [],
   "source": [
    "key_colors=list(key_colors)"
   ]
  },
  {
   "cell_type": "code",
   "execution_count": 433,
   "id": "e43c77e6-77b9-486b-9fc0-b0ca62449dbc",
   "metadata": {},
   "outputs": [
    {
     "data": {
      "text/plain": [
       "['red', 'green', 'blue']"
      ]
     },
     "execution_count": 433,
     "metadata": {},
     "output_type": "execute_result"
    }
   ],
   "source": [
    "key_colors"
   ]
  },
  {
   "cell_type": "code",
   "execution_count": 434,
   "id": "69102061-d209-4f83-8e6a-162f8b07ce55",
   "metadata": {},
   "outputs": [],
   "source": [
    "key_values=list(key_values)"
   ]
  },
  {
   "cell_type": "code",
   "execution_count": 435,
   "id": "9c5ced0d-5be9-43d9-8975-c2f66e5aa00c",
   "metadata": {},
   "outputs": [
    {
     "data": {
      "text/plain": [
       "['#FF0000', '#00B050', '#0070C0']"
      ]
     },
     "execution_count": 435,
     "metadata": {},
     "output_type": "execute_result"
    }
   ],
   "source": [
    "key_values"
   ]
  },
  {
   "cell_type": "code",
   "execution_count": 436,
   "id": "22eb9544-1471-4ff2-b508-4c733ced6b76",
   "metadata": {},
   "outputs": [],
   "source": [
    "colors2=dict(zip(key_colors,key_values))"
   ]
  },
  {
   "cell_type": "code",
   "execution_count": 437,
   "id": "9aed9199-ff70-4bbb-934b-64b388cf8a64",
   "metadata": {},
   "outputs": [
    {
     "data": {
      "text/plain": [
       "{'red': '#FF0000', 'green': '#00B050', 'blue': '#0070C0'}"
      ]
     },
     "execution_count": 437,
     "metadata": {},
     "output_type": "execute_result"
    }
   ],
   "source": [
    "colors2"
   ]
  },
  {
   "cell_type": "code",
   "execution_count": 438,
   "id": "7431caca-683b-4196-8152-5a3cf5e96baa",
   "metadata": {},
   "outputs": [
    {
     "name": "stdout",
     "output_type": "stream",
     "text": [
      "red\n",
      "green\n",
      "blue\n"
     ]
    }
   ],
   "source": [
    "for key in colors.keys():\n",
    "    print(key)"
   ]
  },
  {
   "cell_type": "code",
   "execution_count": 439,
   "id": "188e22b9-35ea-4da6-84f2-2ac3452879c8",
   "metadata": {},
   "outputs": [
    {
     "name": "stdout",
     "output_type": "stream",
     "text": [
      "0 red\n",
      "1 green\n",
      "2 blue\n"
     ]
    }
   ],
   "source": [
    "for key,value in enumerate(colors):\n",
    "    print(key,value)"
   ]
  },
  {
   "cell_type": "code",
   "execution_count": 441,
   "id": "a17d86e1-4233-4e67-8dc6-551f8974e31f",
   "metadata": {},
   "outputs": [
    {
     "data": {
      "text/plain": [
       "dict_items([('red', '#FF0000'), ('green', '#00B050'), ('blue', '#0070C0')])"
      ]
     },
     "execution_count": 441,
     "metadata": {},
     "output_type": "execute_result"
    }
   ],
   "source": [
    "colors.items()"
   ]
  },
  {
   "cell_type": "code",
   "execution_count": 442,
   "id": "578b7c7f-ec97-4f7c-9db6-4ffeed8e86e4",
   "metadata": {},
   "outputs": [
    {
     "name": "stdout",
     "output_type": "stream",
     "text": [
      "red #FF0000\n",
      "green #00B050\n",
      "blue #0070C0\n"
     ]
    }
   ],
   "source": [
    "for key,value in colors.items():\n",
    "    print(key,value)"
   ]
  },
  {
   "cell_type": "markdown",
   "id": "326ac1ed-2ea9-49cc-9692-b507e7bf8d27",
   "metadata": {},
   "source": [
    "## mutability"
   ]
  },
  {
   "cell_type": "code",
   "execution_count": 443,
   "id": "53038ef2-eb81-4956-a2db-ad9b77504cb5",
   "metadata": {},
   "outputs": [],
   "source": [
    "shop=['apples', 'bananas', 'grapes', 'oranges', 'pears']"
   ]
  },
  {
   "cell_type": "code",
   "execution_count": 444,
   "id": "0fda8045-d9a1-49fb-bba6-a649d39d0df8",
   "metadata": {},
   "outputs": [
    {
     "data": {
      "text/plain": [
       "['apples', 'bananas', 'grapes', 'oranges', 'pears']"
      ]
     },
     "execution_count": 444,
     "metadata": {},
     "output_type": "execute_result"
    }
   ],
   "source": [
    "shop"
   ]
  },
  {
   "cell_type": "code",
   "execution_count": 445,
   "id": "ee78cdaa-1d28-4f45-8172-373360fe8c22",
   "metadata": {},
   "outputs": [],
   "source": [
    "shop2=shop"
   ]
  },
  {
   "cell_type": "code",
   "execution_count": 446,
   "id": "b69c72c1-23b8-4617-8f49-8d7ef3633bdd",
   "metadata": {},
   "outputs": [],
   "source": [
    "shop2.append('kiwi')"
   ]
  },
  {
   "cell_type": "code",
   "execution_count": 447,
   "id": "21394325-8231-4e20-a21f-113a3e518dca",
   "metadata": {},
   "outputs": [
    {
     "data": {
      "text/plain": [
       "['apples', 'bananas', 'grapes', 'oranges', 'pears', 'kiwi']"
      ]
     },
     "execution_count": 447,
     "metadata": {},
     "output_type": "execute_result"
    }
   ],
   "source": [
    "shop2"
   ]
  },
  {
   "cell_type": "code",
   "execution_count": 448,
   "id": "82b69109-a16a-44ca-9bd4-bdf041450fec",
   "metadata": {},
   "outputs": [
    {
     "data": {
      "text/plain": [
       "['apples', 'bananas', 'grapes', 'oranges', 'pears', 'kiwi']"
      ]
     },
     "execution_count": 448,
     "metadata": {},
     "output_type": "execute_result"
    }
   ],
   "source": [
    "shop"
   ]
  },
  {
   "cell_type": "code",
   "execution_count": 449,
   "id": "00a8421b-4987-4899-9844-2d1f79556edb",
   "metadata": {},
   "outputs": [],
   "source": [
    "shop=['apples', 'bananas', 'grapes', 'oranges', 'pears']"
   ]
  },
  {
   "cell_type": "code",
   "execution_count": 451,
   "id": "49627431-786e-4cb1-851c-55d43041b352",
   "metadata": {},
   "outputs": [],
   "source": [
    "shop2=shop.copy()"
   ]
  },
  {
   "cell_type": "code",
   "execution_count": 452,
   "id": "6d082afd-3f52-4545-96a6-431f684bf03b",
   "metadata": {},
   "outputs": [],
   "source": [
    "shop2.append('kiwi')"
   ]
  },
  {
   "cell_type": "code",
   "execution_count": 453,
   "id": "8ad97691-7898-4d01-ad1d-9bae55a98fe4",
   "metadata": {},
   "outputs": [
    {
     "data": {
      "text/plain": [
       "['apples', 'bananas', 'grapes', 'oranges', 'pears', 'kiwi']"
      ]
     },
     "execution_count": 453,
     "metadata": {},
     "output_type": "execute_result"
    }
   ],
   "source": [
    "shop2"
   ]
  },
  {
   "cell_type": "code",
   "execution_count": 454,
   "id": "37dba597-437d-4950-90df-f700e7361eb1",
   "metadata": {},
   "outputs": [
    {
     "data": {
      "text/plain": [
       "['apples', 'bananas', 'grapes', 'oranges', 'pears']"
      ]
     },
     "execution_count": 454,
     "metadata": {},
     "output_type": "execute_result"
    }
   ],
   "source": [
    "shop"
   ]
  },
  {
   "cell_type": "code",
   "execution_count": 455,
   "id": "90ceb7ec-496a-4248-ae0b-d085d8b57f7d",
   "metadata": {},
   "outputs": [],
   "source": [
    "shop2=shop[:]"
   ]
  },
  {
   "cell_type": "code",
   "execution_count": 458,
   "id": "4b1fcaad-4982-47cc-9203-c5285b3c9783",
   "metadata": {},
   "outputs": [],
   "source": [
    "shop2.append('kiwi')"
   ]
  },
  {
   "cell_type": "code",
   "execution_count": 459,
   "id": "2b2becd8-000f-4fd0-a070-60c26b62f47c",
   "metadata": {},
   "outputs": [
    {
     "data": {
      "text/plain": [
       "['apples', 'bananas', 'grapes', 'oranges', 'pears', 'kiwi']"
      ]
     },
     "execution_count": 459,
     "metadata": {},
     "output_type": "execute_result"
    }
   ],
   "source": [
    "shop2"
   ]
  },
  {
   "cell_type": "code",
   "execution_count": 460,
   "id": "3ccc2163-ecd6-4ce2-a862-57400b2c442c",
   "metadata": {},
   "outputs": [
    {
     "data": {
      "text/plain": [
       "['apples', 'bananas', 'grapes', 'oranges', 'pears']"
      ]
     },
     "execution_count": 460,
     "metadata": {},
     "output_type": "execute_result"
    }
   ],
   "source": [
    "shop"
   ]
  },
  {
   "cell_type": "markdown",
   "id": "f7c3a27b-d5f9-4556-b756-d6d80febdfdd",
   "metadata": {},
   "source": [
    "## The Tuple Collection (tuple)"
   ]
  },
  {
   "cell_type": "code",
   "execution_count": 461,
   "id": "b549ed44-bd6d-45be-9b88-ae674a3fcf93",
   "metadata": {},
   "outputs": [],
   "source": [
    "shop_t=()"
   ]
  },
  {
   "cell_type": "code",
   "execution_count": 462,
   "id": "4377e37a-d039-4f0d-a688-583f685e7a52",
   "metadata": {},
   "outputs": [],
   "source": [
    "shop_t=('apples')"
   ]
  },
  {
   "cell_type": "code",
   "execution_count": 463,
   "id": "fde5f9c1-864c-40bb-baae-9f66a0413bc9",
   "metadata": {},
   "outputs": [
    {
     "data": {
      "text/plain": [
       "'apples'"
      ]
     },
     "execution_count": 463,
     "metadata": {},
     "output_type": "execute_result"
    }
   ],
   "source": [
    "shop_t"
   ]
  },
  {
   "cell_type": "code",
   "execution_count": 464,
   "id": "35004c90-50c9-4950-81df-734537ec1b45",
   "metadata": {},
   "outputs": [],
   "source": [
    "shop_t=('apples',)"
   ]
  },
  {
   "cell_type": "code",
   "execution_count": 465,
   "id": "68c4356e-4fd1-4041-a268-e9ec4ffb7764",
   "metadata": {},
   "outputs": [
    {
     "data": {
      "text/plain": [
       "('apples',)"
      ]
     },
     "execution_count": 465,
     "metadata": {},
     "output_type": "execute_result"
    }
   ],
   "source": [
    "shop_t"
   ]
  },
  {
   "cell_type": "code",
   "execution_count": 466,
   "id": "1e0a805e-cc7f-4170-9afc-4acb5f9df424",
   "metadata": {},
   "outputs": [],
   "source": [
    "shop_t=('apples','bananas', 'grapes', 'oranges', 'pears')"
   ]
  },
  {
   "cell_type": "code",
   "execution_count": 467,
   "id": "6baa17f3-53f2-48f3-8482-eab1376c4f38",
   "metadata": {},
   "outputs": [
    {
     "data": {
      "text/plain": [
       "('apples', 'bananas', 'grapes', 'oranges', 'pears')"
      ]
     },
     "execution_count": 467,
     "metadata": {},
     "output_type": "execute_result"
    }
   ],
   "source": [
    "shop_t"
   ]
  },
  {
   "cell_type": "code",
   "execution_count": 468,
   "id": "c1f96be2-e1a7-42f1-b407-c55c20a3be62",
   "metadata": {},
   "outputs": [
    {
     "data": {
      "text/plain": [
       "['apples', 'bananas', 'grapes', 'oranges', 'pears']"
      ]
     },
     "execution_count": 468,
     "metadata": {},
     "output_type": "execute_result"
    }
   ],
   "source": [
    "shop"
   ]
  },
  {
   "cell_type": "code",
   "execution_count": 469,
   "id": "aa1c1653-0f66-4531-85ce-ab32d9b21b1c",
   "metadata": {},
   "outputs": [],
   "source": [
    "shop_t=tuple(('apples', 'bananas', 'grapes', 'oranges', 'pears'))"
   ]
  },
  {
   "cell_type": "code",
   "execution_count": 470,
   "id": "03ef4594-74b7-475b-9f0b-3a316b2d91c4",
   "metadata": {},
   "outputs": [
    {
     "data": {
      "text/plain": [
       "('apples', 'bananas', 'grapes', 'oranges', 'pears')"
      ]
     },
     "execution_count": 470,
     "metadata": {},
     "output_type": "execute_result"
    }
   ],
   "source": [
    "shop_t"
   ]
  },
  {
   "cell_type": "code",
   "execution_count": 471,
   "id": "98f4d016-d75a-4ff4-85c3-4f0a88c9208f",
   "metadata": {},
   "outputs": [
    {
     "data": {
      "text/plain": [
       "1"
      ]
     },
     "execution_count": 471,
     "metadata": {},
     "output_type": "execute_result"
    }
   ],
   "source": [
    "shop_t.count('apples')"
   ]
  },
  {
   "cell_type": "code",
   "execution_count": 472,
   "id": "4fc0c54e-627a-4b80-98e2-e605355e826b",
   "metadata": {},
   "outputs": [
    {
     "data": {
      "text/plain": [
       "0"
      ]
     },
     "execution_count": 472,
     "metadata": {},
     "output_type": "execute_result"
    }
   ],
   "source": [
    "shop_t.count('kiwi')"
   ]
  },
  {
   "cell_type": "code",
   "execution_count": 473,
   "id": "3c6f2c14-64eb-425f-a4ae-0fa318d624d3",
   "metadata": {},
   "outputs": [
    {
     "data": {
      "text/plain": [
       "0"
      ]
     },
     "execution_count": 473,
     "metadata": {},
     "output_type": "execute_result"
    }
   ],
   "source": [
    "shop_t.index('apples')"
   ]
  },
  {
   "cell_type": "code",
   "execution_count": 474,
   "id": "e49b0be5-2890-4ed2-9a21-532b7649bf95",
   "metadata": {},
   "outputs": [],
   "source": [
    "shop_t2=shop_t+('apples','oranges')"
   ]
  },
  {
   "cell_type": "code",
   "execution_count": 475,
   "id": "b2eeb189-0ed3-41e2-add6-90eb53e3c0d7",
   "metadata": {},
   "outputs": [
    {
     "data": {
      "text/plain": [
       "('apples', 'bananas', 'grapes', 'oranges', 'pears', 'apples', 'oranges')"
      ]
     },
     "execution_count": 475,
     "metadata": {},
     "output_type": "execute_result"
    }
   ],
   "source": [
    "shop_t2"
   ]
  },
  {
   "cell_type": "code",
   "execution_count": 477,
   "id": "ef2ed8d2-d940-413a-8fa9-423d644cb084",
   "metadata": {},
   "outputs": [
    {
     "data": {
      "text/plain": [
       "2"
      ]
     },
     "execution_count": 477,
     "metadata": {},
     "output_type": "execute_result"
    }
   ],
   "source": [
    "shop_t2.count('apples')"
   ]
  },
  {
   "cell_type": "code",
   "execution_count": 478,
   "id": "db832a58-a9b0-49c9-b906-b080747ac1ad",
   "metadata": {},
   "outputs": [
    {
     "data": {
      "text/plain": [
       "0"
      ]
     },
     "execution_count": 478,
     "metadata": {},
     "output_type": "execute_result"
    }
   ],
   "source": [
    "shop_t2.index('apples')"
   ]
  },
  {
   "cell_type": "code",
   "execution_count": 479,
   "id": "a51bafd3-d955-4518-9764-7ac73f9bf6ed",
   "metadata": {},
   "outputs": [
    {
     "data": {
      "text/plain": [
       "5"
      ]
     },
     "execution_count": 479,
     "metadata": {},
     "output_type": "execute_result"
    }
   ],
   "source": [
    "shop_t2.index('apples',1)"
   ]
  },
  {
   "cell_type": "code",
   "execution_count": 480,
   "id": "a6aec169-25bd-4697-a4a3-838a062b5da2",
   "metadata": {},
   "outputs": [],
   "source": [
    "loop_idx=0\n",
    "apples_idxs=[]\n",
    "while loop_idx<len(shop_t2):\n",
    "    try:\n",
    "        apples_idxs=apples_idxs+[shop_t2.index('apples',loop_idx)]\n",
    "        loop_idx=shop_t2.index('apples',loop_idx)+1\n",
    "    except ValueError:\n",
    "        break"
   ]
  },
  {
   "cell_type": "code",
   "execution_count": 481,
   "id": "3ba7cba8-450b-4971-8e24-71fb4093354d",
   "metadata": {},
   "outputs": [
    {
     "data": {
      "text/plain": [
       "[0, 5]"
      ]
     },
     "execution_count": 481,
     "metadata": {},
     "output_type": "execute_result"
    }
   ],
   "source": [
    "apples_idxs"
   ]
  },
  {
   "cell_type": "markdown",
   "id": "42772c09-5250-42b1-9264-c85248bd1492",
   "metadata": {},
   "source": [
    "### tuple unpacking"
   ]
  },
  {
   "cell_type": "code",
   "execution_count": 500,
   "id": "ab18b8bb-98cf-4700-9e39-d60014a9c860",
   "metadata": {},
   "outputs": [],
   "source": [
    "def plusminus(value=0,error=1):\n",
    "    lower=value-error\n",
    "    upper=value+error\n",
    "    return(lower,upper)"
   ]
  },
  {
   "cell_type": "code",
   "execution_count": 501,
   "id": "7c0e4b6e-5e9f-4366-bf95-e5d8e0aadc63",
   "metadata": {},
   "outputs": [
    {
     "data": {
      "text/plain": [
       "(8, 12)"
      ]
     },
     "execution_count": 501,
     "metadata": {},
     "output_type": "execute_result"
    }
   ],
   "source": [
    "plusminus(value=10,error=2)"
   ]
  },
  {
   "cell_type": "code",
   "execution_count": 502,
   "id": "dd6db504-bc7e-4d66-9ccf-e0b4868dcf60",
   "metadata": {},
   "outputs": [],
   "source": [
    "pm=plusminus(value=10,error=2)"
   ]
  },
  {
   "cell_type": "code",
   "execution_count": 503,
   "id": "a4d6d40c-c32d-4b15-9faf-6c13a1d61a83",
   "metadata": {},
   "outputs": [
    {
     "data": {
      "text/plain": [
       "(8, 12)"
      ]
     },
     "execution_count": 503,
     "metadata": {},
     "output_type": "execute_result"
    }
   ],
   "source": [
    "pm"
   ]
  },
  {
   "cell_type": "code",
   "execution_count": 504,
   "id": "9547d72c-6c9c-4921-a5c9-fd44616d6498",
   "metadata": {},
   "outputs": [
    {
     "data": {
      "text/plain": [
       "tuple"
      ]
     },
     "execution_count": 504,
     "metadata": {},
     "output_type": "execute_result"
    }
   ],
   "source": [
    "type(pm)"
   ]
  },
  {
   "cell_type": "code",
   "execution_count": 505,
   "id": "234aec97-7277-4184-9759-1eb25e27f7f9",
   "metadata": {},
   "outputs": [],
   "source": [
    "(m,p)=plusminus(value=10,error=2)"
   ]
  },
  {
   "cell_type": "code",
   "execution_count": 506,
   "id": "0414018a-3e7b-4094-9efe-4c64528b0280",
   "metadata": {},
   "outputs": [
    {
     "data": {
      "text/plain": [
       "8"
      ]
     },
     "execution_count": 506,
     "metadata": {},
     "output_type": "execute_result"
    }
   ],
   "source": [
    "m"
   ]
  },
  {
   "cell_type": "code",
   "execution_count": 507,
   "id": "1701069f-f35c-4cd7-882f-406ef2857ab2",
   "metadata": {},
   "outputs": [
    {
     "data": {
      "text/plain": [
       "12"
      ]
     },
     "execution_count": 507,
     "metadata": {},
     "output_type": "execute_result"
    }
   ],
   "source": [
    "p"
   ]
  },
  {
   "cell_type": "code",
   "execution_count": 508,
   "id": "e8450388-8997-4447-93e0-27bc614e9759",
   "metadata": {},
   "outputs": [
    {
     "data": {
      "text/plain": [
       "int"
      ]
     },
     "execution_count": 508,
     "metadata": {},
     "output_type": "execute_result"
    }
   ],
   "source": [
    "type(m)"
   ]
  },
  {
   "cell_type": "code",
   "execution_count": 509,
   "id": "c63f1c3c-33ca-4d48-a3d3-ceb9b423c939",
   "metadata": {},
   "outputs": [
    {
     "data": {
      "text/plain": [
       "int"
      ]
     },
     "execution_count": 509,
     "metadata": {},
     "output_type": "execute_result"
    }
   ],
   "source": [
    "type(p)"
   ]
  },
  {
   "cell_type": "code",
   "execution_count": 510,
   "id": "220e2949-40fd-4896-bbd7-25df06a007f2",
   "metadata": {},
   "outputs": [],
   "source": [
    "m,p=plusminus(value=10,error=2)"
   ]
  },
  {
   "cell_type": "code",
   "execution_count": 511,
   "id": "a61db8c0-ec5f-45f8-9aa5-c58bded6ef58",
   "metadata": {},
   "outputs": [
    {
     "data": {
      "text/plain": [
       "8"
      ]
     },
     "execution_count": 511,
     "metadata": {},
     "output_type": "execute_result"
    }
   ],
   "source": [
    "m"
   ]
  },
  {
   "cell_type": "code",
   "execution_count": 512,
   "id": "1ac75351-f1a1-4d4e-8418-64a3419e7461",
   "metadata": {},
   "outputs": [
    {
     "data": {
      "text/plain": [
       "12"
      ]
     },
     "execution_count": 512,
     "metadata": {},
     "output_type": "execute_result"
    }
   ],
   "source": [
    "p"
   ]
  },
  {
   "cell_type": "code",
   "execution_count": 513,
   "id": "89614eaf-a5e5-4009-a376-25978d1c0f92",
   "metadata": {},
   "outputs": [
    {
     "data": {
      "text/plain": [
       "(8, 12)"
      ]
     },
     "execution_count": 513,
     "metadata": {},
     "output_type": "execute_result"
    }
   ],
   "source": [
    "m,p"
   ]
  },
  {
   "cell_type": "code",
   "execution_count": 514,
   "id": "4ee105e6-1f1c-477b-88e7-5da79659d1d4",
   "metadata": {},
   "outputs": [],
   "source": [
    "[m,p]=plusminus(value=10,error=2)"
   ]
  },
  {
   "cell_type": "code",
   "execution_count": 515,
   "id": "1cceee9e-2c8d-4c34-8de8-c3468b2a94b7",
   "metadata": {},
   "outputs": [
    {
     "data": {
      "text/plain": [
       "8"
      ]
     },
     "execution_count": 515,
     "metadata": {},
     "output_type": "execute_result"
    }
   ],
   "source": [
    "m"
   ]
  },
  {
   "cell_type": "code",
   "execution_count": 516,
   "id": "a153dd3e-4cd8-4288-9134-2f3f26716d44",
   "metadata": {},
   "outputs": [
    {
     "data": {
      "text/plain": [
       "12"
      ]
     },
     "execution_count": 516,
     "metadata": {},
     "output_type": "execute_result"
    }
   ],
   "source": [
    "p"
   ]
  },
  {
   "cell_type": "markdown",
   "id": "f5a093ca-86b1-4372-a26c-f94c7b636714",
   "metadata": {},
   "source": [
    "### Nested Collections"
   ]
  },
  {
   "cell_type": "code",
   "execution_count": 517,
   "id": "2b09a2c1-3231-4069-af79-3aff6b5d1e3c",
   "metadata": {},
   "outputs": [],
   "source": [
    "mixed=['a',1,1.5,True,complex(real=4,imag=-2)]"
   ]
  },
  {
   "cell_type": "code",
   "execution_count": 518,
   "id": "0e725668-cfa0-4589-a6a8-c401c0df2e67",
   "metadata": {},
   "outputs": [
    {
     "data": {
      "text/plain": [
       "['a', 1, 1.5, True, (4-2j)]"
      ]
     },
     "execution_count": 518,
     "metadata": {},
     "output_type": "execute_result"
    }
   ],
   "source": [
    "mixed"
   ]
  },
  {
   "cell_type": "code",
   "execution_count": 519,
   "id": "bba0eceb-6a27-4155-933b-c4683e087098",
   "metadata": {},
   "outputs": [
    {
     "name": "stdout",
     "output_type": "stream",
     "text": [
      "0 a <class 'str'>\n",
      "1 1 <class 'int'>\n",
      "2 1.5 <class 'float'>\n",
      "3 True <class 'bool'>\n",
      "4 (4-2j) <class 'complex'>\n"
     ]
    }
   ],
   "source": [
    "for idx,item in enumerate(mixed):\n",
    "    print(idx,item,type(item))"
   ]
  },
  {
   "cell_type": "code",
   "execution_count": 520,
   "id": "5e036df8-788a-4d76-9453-25ff161616fc",
   "metadata": {},
   "outputs": [],
   "source": [
    "mixed2=['b',2,2/5,True,complex(real=4,imag=-2),(2,-2),['apples',4,'oranges']]"
   ]
  },
  {
   "cell_type": "code",
   "execution_count": 521,
   "id": "08d50856-5a68-4ece-a179-5c7112354d7b",
   "metadata": {},
   "outputs": [
    {
     "data": {
      "text/plain": [
       "['b', 2, 0.4, True, (4-2j), (2, -2), ['apples', 4, 'oranges']]"
      ]
     },
     "execution_count": 521,
     "metadata": {},
     "output_type": "execute_result"
    }
   ],
   "source": [
    "mixed2"
   ]
  },
  {
   "cell_type": "code",
   "execution_count": 522,
   "id": "a195e168-8cf9-4757-a84f-7e7e49e39af7",
   "metadata": {},
   "outputs": [
    {
     "name": "stdout",
     "output_type": "stream",
     "text": [
      "0 b <class 'str'>\n",
      "1 2 <class 'int'>\n",
      "2 0.4 <class 'float'>\n",
      "3 True <class 'bool'>\n",
      "4 (4-2j) <class 'complex'>\n",
      "5 (2, -2) <class 'tuple'>\n",
      "6 ['apples', 4, 'oranges'] <class 'list'>\n"
     ]
    }
   ],
   "source": [
    "for idx,item in enumerate(mixed2):\n",
    "    print(idx,item,type(item))"
   ]
  },
  {
   "cell_type": "code",
   "execution_count": 523,
   "id": "14a9b698-eb5d-4255-a8eb-3355fb627010",
   "metadata": {},
   "outputs": [
    {
     "data": {
      "text/plain": [
       "-2"
      ]
     },
     "execution_count": 523,
     "metadata": {},
     "output_type": "execute_result"
    }
   ],
   "source": [
    "mixed2[5][1]"
   ]
  },
  {
   "cell_type": "code",
   "execution_count": 538,
   "id": "36eb2ccd-2668-416d-a822-b3abcc6a2470",
   "metadata": {},
   "outputs": [],
   "source": [
    "l1=[0,1,2,3,4]"
   ]
  },
  {
   "cell_type": "code",
   "execution_count": 539,
   "id": "a19c70f9-75cf-4b66-a1b1-99eff2b03d06",
   "metadata": {},
   "outputs": [],
   "source": [
    "l2=[5,6]"
   ]
  },
  {
   "cell_type": "code",
   "execution_count": 540,
   "id": "781f4f22-83d3-44b1-9ff7-11ed7225d76f",
   "metadata": {},
   "outputs": [],
   "source": [
    "l1.insert(2,l2)"
   ]
  },
  {
   "cell_type": "code",
   "execution_count": 541,
   "id": "92fd0e52-283d-4b7a-ac6b-189e2c983100",
   "metadata": {},
   "outputs": [
    {
     "data": {
      "text/plain": [
       "[0, 1, [5, 6], 2, 3, 4]"
      ]
     },
     "execution_count": 541,
     "metadata": {},
     "output_type": "execute_result"
    }
   ],
   "source": [
    "l1"
   ]
  },
  {
   "cell_type": "code",
   "execution_count": 542,
   "id": "5d743ae3-a426-4c48-a7ef-c2614d228cc8",
   "metadata": {},
   "outputs": [],
   "source": [
    "l1.remove(1)"
   ]
  },
  {
   "cell_type": "code",
   "execution_count": 543,
   "id": "03161284-a76d-43d5-ae1c-7d052f2ca1e3",
   "metadata": {},
   "outputs": [
    {
     "data": {
      "text/plain": [
       "[0, [5, 6], 2, 3, 4]"
      ]
     },
     "execution_count": 543,
     "metadata": {},
     "output_type": "execute_result"
    }
   ],
   "source": [
    "l1"
   ]
  },
  {
   "cell_type": "code",
   "execution_count": 544,
   "id": "576f8ec8-15fb-4499-872d-6e6480347d93",
   "metadata": {},
   "outputs": [
    {
     "data": {
      "text/plain": [
       "4"
      ]
     },
     "execution_count": 544,
     "metadata": {},
     "output_type": "execute_result"
    }
   ],
   "source": [
    "l1.pop()"
   ]
  },
  {
   "cell_type": "code",
   "execution_count": 545,
   "id": "f1ba10b6-1ceb-4d5b-bf48-86fd63560636",
   "metadata": {},
   "outputs": [
    {
     "data": {
      "text/plain": [
       "[0, [5, 6], 2, 3]"
      ]
     },
     "execution_count": 545,
     "metadata": {},
     "output_type": "execute_result"
    }
   ],
   "source": [
    "l1"
   ]
  },
  {
   "cell_type": "code",
   "execution_count": 547,
   "id": "066d9206-4908-4dd5-8ac0-47d89810a583",
   "metadata": {},
   "outputs": [
    {
     "data": {
      "text/plain": [
       "[5, 6]"
      ]
     },
     "execution_count": 547,
     "metadata": {},
     "output_type": "execute_result"
    }
   ],
   "source": [
    "l1.pop(1)"
   ]
  },
  {
   "cell_type": "code",
   "execution_count": 548,
   "id": "9a91fc34-646b-4d14-b3b5-37d06ce06439",
   "metadata": {},
   "outputs": [
    {
     "data": {
      "text/plain": [
       "[0, 2, 3]"
      ]
     },
     "execution_count": 548,
     "metadata": {},
     "output_type": "execute_result"
    }
   ],
   "source": [
    "l1"
   ]
  },
  {
   "cell_type": "code",
   "execution_count": 549,
   "id": "17ac549d-e2ab-4425-b067-fcf75be49b50",
   "metadata": {},
   "outputs": [],
   "source": [
    "l1.clear()"
   ]
  },
  {
   "cell_type": "code",
   "execution_count": 550,
   "id": "6a618aea-448a-4d46-a766-d11066f2dd0d",
   "metadata": {},
   "outputs": [
    {
     "data": {
      "text/plain": [
       "[]"
      ]
     },
     "execution_count": 550,
     "metadata": {},
     "output_type": "execute_result"
    }
   ],
   "source": [
    "l1"
   ]
  },
  {
   "cell_type": "markdown",
   "id": "fa9d4940-6e84-432e-b8e7-d999077e35c3",
   "metadata": {},
   "source": [
    "### \\*args and \\*\\*kwargs"
   ]
  },
  {
   "cell_type": "code",
   "execution_count": 551,
   "id": "5a05062b-d62b-42ee-88f0-51b6ecdf5026",
   "metadata": {},
   "outputs": [],
   "source": [
    "def varying_args(*args):\n",
    "    for value in args:\n",
    "        print(value)"
   ]
  },
  {
   "cell_type": "code",
   "execution_count": 552,
   "id": "12295ead-5a6e-43db-b238-9463defce56d",
   "metadata": {},
   "outputs": [
    {
     "name": "stdout",
     "output_type": "stream",
     "text": [
      "1\n"
     ]
    }
   ],
   "source": [
    "varying_args(1)"
   ]
  },
  {
   "cell_type": "code",
   "execution_count": 553,
   "id": "3634eb79-b6a2-4f52-a0b4-e925283f9f09",
   "metadata": {},
   "outputs": [
    {
     "name": "stdout",
     "output_type": "stream",
     "text": [
      "1\n",
      "2\n"
     ]
    }
   ],
   "source": [
    "varying_args(1,2)"
   ]
  },
  {
   "cell_type": "code",
   "execution_count": 554,
   "id": "37209686-ded6-40eb-a6e8-e72c0efe685f",
   "metadata": {},
   "outputs": [
    {
     "name": "stdout",
     "output_type": "stream",
     "text": [
      "1\n",
      "2\n",
      "3\n"
     ]
    }
   ],
   "source": [
    "varying_args(1,2,3)"
   ]
  },
  {
   "cell_type": "code",
   "execution_count": 560,
   "id": "7be88e21-bfa1-4eb2-b3c9-39d9670bdab3",
   "metadata": {},
   "outputs": [],
   "source": [
    "def varying_kwargs(**kwargs):\n",
    "    for key,value in kwargs.items():\n",
    "        print(key,value)"
   ]
  },
  {
   "cell_type": "code",
   "execution_count": 561,
   "id": "03a6109f-8745-42d5-95e6-5cca82fb2594",
   "metadata": {},
   "outputs": [
    {
     "name": "stdout",
     "output_type": "stream",
     "text": [
      "a 1\n",
      "b 2\n",
      "c 3\n"
     ]
    }
   ],
   "source": [
    "varying_kwargs(a=1,b=2,c=3)"
   ]
  },
  {
   "cell_type": "code",
   "execution_count": 567,
   "id": "14953093-cf66-49b2-9bb2-a6a9a3e9338f",
   "metadata": {},
   "outputs": [],
   "source": [
    "def sum_args(*args):\n",
    "    sum_val=0\n",
    "    for val in args:\n",
    "        try:\n",
    "            assert (type(val)==int or type(val)==float), 'val must be numeric'\n",
    "            sum_val=sum_val+val\n",
    "        except AssertionError:\n",
    "            sum_val='NaN'\n",
    "            print('all input arguments must be int or float')\n",
    "    return(sum_val)"
   ]
  },
  {
   "cell_type": "code",
   "execution_count": 568,
   "id": "07313c70-da28-4fd0-ab28-e52f502d11d6",
   "metadata": {},
   "outputs": [
    {
     "data": {
      "text/plain": [
       "1"
      ]
     },
     "execution_count": 568,
     "metadata": {},
     "output_type": "execute_result"
    }
   ],
   "source": [
    "sum_args(1)"
   ]
  },
  {
   "cell_type": "code",
   "execution_count": 569,
   "id": "93ac7138-5316-4807-baba-3275c3ad65f6",
   "metadata": {},
   "outputs": [
    {
     "data": {
      "text/plain": [
       "3"
      ]
     },
     "execution_count": 569,
     "metadata": {},
     "output_type": "execute_result"
    }
   ],
   "source": [
    "sum_args(1,2)"
   ]
  },
  {
   "cell_type": "code",
   "execution_count": 570,
   "id": "89195600-6e3a-4b08-b578-03cfc86071d5",
   "metadata": {},
   "outputs": [
    {
     "data": {
      "text/plain": [
       "6"
      ]
     },
     "execution_count": 570,
     "metadata": {},
     "output_type": "execute_result"
    }
   ],
   "source": [
    "sum_args(1,2,3)"
   ]
  },
  {
   "cell_type": "code",
   "execution_count": 571,
   "id": "899a89ad-ad67-44e0-b7fc-3ba950c4c6c6",
   "metadata": {},
   "outputs": [
    {
     "name": "stdout",
     "output_type": "stream",
     "text": [
      "all input arguments must be int or float\n"
     ]
    },
    {
     "data": {
      "text/plain": [
       "'NaN'"
      ]
     },
     "execution_count": 571,
     "metadata": {},
     "output_type": "execute_result"
    }
   ],
   "source": [
    "sum_args(1, 'a')"
   ]
  },
  {
   "cell_type": "code",
   "execution_count": 573,
   "id": "fa871f62-e172-4984-af8a-9198b8bb336f",
   "metadata": {},
   "outputs": [],
   "source": [
    "def arange(*args):\n",
    "    '''\n",
    "    This function can take 1-3 input arguments.\n",
    "    1 input argument a. start=0, stop=4, step=1\n",
    "    2 input arguments a and b. start=a, stop=b, step=1\n",
    "    3 input arguments a,b, and c. start=a, stop=b, step=c\n",
    "    '''\n",
    "    for val in args:\n",
    "        try:\n",
    "            assert (type(val)==int or type(val)==float), 'val must be numeric'\n",
    "        except AssertionError:\n",
    "            data='NaN'\n",
    "            print('all input arguments must be int or float.')\n",
    "            return(data)\n",
    "    if len(args)==0:\n",
    "        print('invalid number of input arguments.')\n",
    "        data='NaN'\n",
    "        return(data)\n",
    "    elif len(args)==1:\n",
    "        start=0\n",
    "        stop=args[0]\n",
    "        step=1\n",
    "        data=[]\n",
    "        val=start\n",
    "        while val<stop:\n",
    "            data.append(val)\n",
    "            val+=1\n",
    "        return(data)\n",
    "    elif len(args)==2:\n",
    "        start=args[0]\n",
    "        stop=args[1]\n",
    "        step=1\n",
    "        data=[]\n",
    "        val=start\n",
    "        while val<stop:\n",
    "            data.append(val)\n",
    "            val+=1\n",
    "        return(data)\n",
    "    elif len(args)==3:\n",
    "        start=args[0]\n",
    "        stop=args[1]\n",
    "        step=args[2]\n",
    "        data=[]\n",
    "        val=start\n",
    "        if step>0:\n",
    "            while val<stop:\n",
    "                data.append(val)\n",
    "                val+=step\n",
    "            return(data)\n",
    "        else:\n",
    "            while val>stop:\n",
    "                data.append(val)\n",
    "                val+=step\n",
    "            return(data)\n",
    "    else:\n",
    "        print('invalid number of input arguments.')\n",
    "        data='NaN'\n",
    "        return(data)\n",
    "            "
   ]
  },
  {
   "cell_type": "code",
   "execution_count": 574,
   "id": "4882c9c3-38a0-4d1f-815b-a66f13327190",
   "metadata": {},
   "outputs": [
    {
     "name": "stdout",
     "output_type": "stream",
     "text": [
      "invalid number of input arguments.\n"
     ]
    },
    {
     "data": {
      "text/plain": [
       "'NaN'"
      ]
     },
     "execution_count": 574,
     "metadata": {},
     "output_type": "execute_result"
    }
   ],
   "source": [
    "arange()"
   ]
  },
  {
   "cell_type": "code",
   "execution_count": 575,
   "id": "73f23fa7-672a-447a-aa29-563f82b19c25",
   "metadata": {},
   "outputs": [
    {
     "data": {
      "text/plain": [
       "[0, 1, 2, 3, 4]"
      ]
     },
     "execution_count": 575,
     "metadata": {},
     "output_type": "execute_result"
    }
   ],
   "source": [
    "arange(5)"
   ]
  },
  {
   "cell_type": "code",
   "execution_count": 576,
   "id": "1a5686ae-266f-4ad1-abb0-3a0a8881f1c1",
   "metadata": {},
   "outputs": [
    {
     "data": {
      "text/plain": [
       "[1, 2, 3, 4]"
      ]
     },
     "execution_count": 576,
     "metadata": {},
     "output_type": "execute_result"
    }
   ],
   "source": [
    "arange(1,5)"
   ]
  },
  {
   "cell_type": "code",
   "execution_count": 577,
   "id": "d39d84e5-1da4-45c7-8a40-5cdd98d9180f",
   "metadata": {},
   "outputs": [
    {
     "data": {
      "text/plain": [
       "[1, 1.5, 2.0, 2.5, 3.0, 3.5, 4.0, 4.5]"
      ]
     },
     "execution_count": 577,
     "metadata": {},
     "output_type": "execute_result"
    }
   ],
   "source": [
    "arange(1,5,0.5)"
   ]
  },
  {
   "cell_type": "code",
   "execution_count": 578,
   "id": "c918dfcb-9499-47a0-8fb7-405b9cf7e968",
   "metadata": {},
   "outputs": [
    {
     "name": "stdout",
     "output_type": "stream",
     "text": [
      "invalid number of input arguments.\n"
     ]
    },
    {
     "data": {
      "text/plain": [
       "'NaN'"
      ]
     },
     "execution_count": 578,
     "metadata": {},
     "output_type": "execute_result"
    }
   ],
   "source": [
    "arange(1,5,1,1)"
   ]
  },
  {
   "cell_type": "code",
   "execution_count": 579,
   "id": "af22cdca-d1b7-4dd1-b700-ed934d3b5c8e",
   "metadata": {},
   "outputs": [
    {
     "name": "stdout",
     "output_type": "stream",
     "text": [
      "all input arguments must be int or float.\n"
     ]
    },
    {
     "data": {
      "text/plain": [
       "'NaN'"
      ]
     },
     "execution_count": 579,
     "metadata": {},
     "output_type": "execute_result"
    }
   ],
   "source": [
    "arange('a',5,0.5)"
   ]
  },
  {
   "cell_type": "code",
   "execution_count": 580,
   "id": "b3adeb71-5e92-4a30-a6c2-e1acaf0b2b5c",
   "metadata": {},
   "outputs": [
    {
     "data": {
      "text/plain": [
       "[]"
      ]
     },
     "execution_count": 580,
     "metadata": {},
     "output_type": "execute_result"
    }
   ],
   "source": [
    "arange(1,5,-1)"
   ]
  },
  {
   "cell_type": "code",
   "execution_count": 582,
   "id": "f5825c8b-2c9b-4930-9870-f8168bc29fb2",
   "metadata": {},
   "outputs": [
    {
     "data": {
      "text/plain": [
       "[5, 4, 3, 2]"
      ]
     },
     "execution_count": 582,
     "metadata": {},
     "output_type": "execute_result"
    }
   ],
   "source": [
    "arange(5,1,-1)"
   ]
  },
  {
   "cell_type": "code",
   "execution_count": 584,
   "id": "f92f1bca-eeb3-460e-9adb-e4f62722db53",
   "metadata": {},
   "outputs": [],
   "source": [
    "def fun(a,b,c):\n",
    "    return(a+b+c)"
   ]
  },
  {
   "cell_type": "code",
   "execution_count": 585,
   "id": "32f74e83-705c-45d0-ad08-9a9a9b9c5749",
   "metadata": {},
   "outputs": [],
   "source": [
    "l1=[1,2,3]"
   ]
  },
  {
   "cell_type": "code",
   "execution_count": 586,
   "id": "1f197787-08ae-498e-a95f-1263b9e6c6aa",
   "metadata": {},
   "outputs": [
    {
     "data": {
      "text/plain": [
       "6"
      ]
     },
     "execution_count": 586,
     "metadata": {},
     "output_type": "execute_result"
    }
   ],
   "source": [
    "fun(*l1)"
   ]
  },
  {
   "cell_type": "code",
   "execution_count": 587,
   "id": "4588e81f-7002-4c58-ba0e-26e4a7293ccf",
   "metadata": {},
   "outputs": [],
   "source": [
    "def fun(a=0,b=0,c=0):\n",
    "    return(a+b+c)"
   ]
  },
  {
   "cell_type": "code",
   "execution_count": 588,
   "id": "b9230181-0d7e-4ff0-b818-649f8fa4710b",
   "metadata": {},
   "outputs": [],
   "source": [
    "d1={'a':1,'b':2,'c':3}"
   ]
  },
  {
   "cell_type": "code",
   "execution_count": 589,
   "id": "b111388d-46cd-4f15-9652-6450182d4120",
   "metadata": {},
   "outputs": [
    {
     "data": {
      "text/plain": [
       "6"
      ]
     },
     "execution_count": 589,
     "metadata": {},
     "output_type": "execute_result"
    }
   ],
   "source": [
    "fun(**d1)"
   ]
  },
  {
   "cell_type": "code",
   "execution_count": 591,
   "id": "b124fb78-8557-40f0-9327-61a5848cc069",
   "metadata": {},
   "outputs": [],
   "source": [
    "class Scalar(int):\n",
    "    def __init__(self,value,*args):\n",
    "        self.value=value\n",
    "        super(Scalar,self).__init__(*args)"
   ]
  },
  {
   "cell_type": "code",
   "execution_count": 592,
   "id": "890baf1a-be8f-4155-babf-82f549d8293b",
   "metadata": {},
   "outputs": [],
   "source": [
    "a=Scalar(5)"
   ]
  },
  {
   "cell_type": "code",
   "execution_count": 593,
   "id": "afa0b7ec-be2d-4977-8944-29f75ea9f988",
   "metadata": {},
   "outputs": [
    {
     "data": {
      "text/plain": [
       "5"
      ]
     },
     "execution_count": 593,
     "metadata": {},
     "output_type": "execute_result"
    }
   ],
   "source": [
    "a.value"
   ]
  },
  {
   "cell_type": "code",
   "execution_count": 594,
   "id": "49b27e86-e5a5-4b72-b049-abf6fd4e3ef2",
   "metadata": {},
   "outputs": [],
   "source": [
    "b=Scalar(6)"
   ]
  },
  {
   "cell_type": "code",
   "execution_count": 595,
   "id": "c700f241-18b1-451d-a51e-b3cfa208e7fc",
   "metadata": {},
   "outputs": [
    {
     "data": {
      "text/plain": [
       "6"
      ]
     },
     "execution_count": 595,
     "metadata": {},
     "output_type": "execute_result"
    }
   ],
   "source": [
    "b.value"
   ]
  },
  {
   "cell_type": "code",
   "execution_count": 596,
   "id": "a0cfe46c-1203-4ad0-951f-22fae014dbf6",
   "metadata": {},
   "outputs": [
    {
     "data": {
      "text/plain": [
       "11"
      ]
     },
     "execution_count": 596,
     "metadata": {},
     "output_type": "execute_result"
    }
   ],
   "source": [
    "a+b"
   ]
  },
  {
   "cell_type": "code",
   "execution_count": 597,
   "id": "5cb42104-62cd-4ef2-a5db-fab7c862ceac",
   "metadata": {},
   "outputs": [
    {
     "data": {
      "text/plain": [
       "-1"
      ]
     },
     "execution_count": 597,
     "metadata": {},
     "output_type": "execute_result"
    }
   ],
   "source": [
    "a-b"
   ]
  },
  {
   "cell_type": "code",
   "execution_count": 598,
   "id": "eb286bb6-b212-4115-b6eb-674231d8b565",
   "metadata": {},
   "outputs": [
    {
     "data": {
      "text/plain": [
       "30"
      ]
     },
     "execution_count": 598,
     "metadata": {},
     "output_type": "execute_result"
    }
   ],
   "source": [
    "a*b"
   ]
  },
  {
   "cell_type": "code",
   "execution_count": null,
   "id": "645a7fe4-e20d-49b3-8e5f-b70d7bbfdde2",
   "metadata": {},
   "outputs": [],
   "source": []
  }
 ],
 "metadata": {
  "kernelspec": {
   "display_name": "Python 3",
   "language": "python",
   "name": "python3"
  },
  "language_info": {
   "codemirror_mode": {
    "name": "ipython",
    "version": 3
   },
   "file_extension": ".py",
   "mimetype": "text/x-python",
   "name": "python",
   "nbconvert_exporter": "python",
   "pygments_lexer": "ipython3",
   "version": "3.8.5"
  }
 },
 "nbformat": 4,
 "nbformat_minor": 5
}
